{
  "nbformat": 4,
  "nbformat_minor": 0,
  "metadata": {
    "colab": {
      "provenance": []
    },
    "kernelspec": {
      "name": "python3",
      "display_name": "Python 3"
    },
    "language_info": {
      "name": "python"
    }
  },
  "cells": [
    {
      "cell_type": "markdown",
      "source": [
        "\n",
        "#Experiment with P Regular , NP Regular (Experiment 1)\n",
        "\n",
        "[Click to view Notebook](https://github.com/rashedhasan090/OM-ML_Research/blob/main/January%202023%20Analysis/6-OM-ind-train-1-test-exp/Exp-series-1-CO-test/P_Regular_NP_regular_6_Train_1_Test_(Customer_Order).ipynb)\n",
        "\n",
        "###6 OM - Dataset , Camping, Bank,  Library Management, Decider, OnlineStore, E-Commerce\n",
        "###1 OM - Testing - Customer-Order\n",
        "\n",
        "## Training \n",
        "\n",
        "### Total instances - 292\n",
        "\n",
        "### P samples - 58\n",
        "### NP samples - 234 \n",
        "\n",
        "###1 OM - Testing - Customer-Order\n",
        "\n",
        "## Testing\n",
        "\n",
        "### Total instances - 8\n",
        "\n",
        "### P samples - 6\n",
        "### NP samples - 2\n",
        "\n",
        "\n",
        "\n"
      ],
      "metadata": {
        "id": "N7pDG56cNtDt"
      }
    },
    {
      "cell_type": "code",
      "source": [
        "#                 precision    recall  f1-score   support\n",
        "\n",
        "#            0       0.25      1.00      0.40         2\n",
        "#            1       0.00      0.00      0.00         6\n",
        "\n",
        "#     accuracy                           0.25         8\n",
        "#    macro avg       0.12      0.50      0.20         8\n",
        "# weighted avg       0.06      0.25      0.10         8"
      ],
      "metadata": {
        "id": "Ot9f05Eltv0i"
      },
      "execution_count": null,
      "outputs": []
    },
    {
      "cell_type": "markdown",
      "source": [
        "#Experiment with P Oversample , NP Undersample (Experiment 1)\n",
        "\n",
        "[Click to view Notebook](https://github.com/rashedhasan090/OM-ML_Research/blob/main/January%202023%20Analysis/6-OM-ind-train-1-test-exp/Exp-series-1-CO-test/oversample/P_Oversample_NP_Undersample_6_Train_1_Test_(Customer_Order).ipynb)\n",
        "\n",
        "###6 OM - Dataset , Camping, Bank,  Library Management, Decider, OnlineStore, E-Commerce\n",
        "###1 OM - Testing - Customer-Order\n",
        "\n",
        "## Training \n",
        "\n",
        "### Total instances - 337\n",
        "\n",
        "### P samples - 209\n",
        "### NP samples - 128 \n",
        "\n",
        "## Testing\n",
        "\n",
        "### Total instances - 8\n",
        "\n",
        "### P samples - 6\n",
        "### NP samples - 2 \n",
        "\n",
        "Oversampling: Repeated P samples and 100 new samples from Ecommerce-OM"
      ],
      "metadata": {
        "id": "RkQJxS5oOfGg"
      }
    },
    {
      "cell_type": "code",
      "source": [
        "#                  precision    recall  f1-score   support\n",
        "\n",
        "#            0       0.00      0.00      0.00         2\n",
        "#            1       0.75      1.00      0.86         6\n",
        "\n",
        "#     accuracy                           0.75         8\n",
        "#    macro avg       0.38      0.50      0.43         8\n",
        "# weighted avg       0.56      0.75      0.64         8"
      ],
      "metadata": {
        "id": "bUNMEipawWtO"
      },
      "execution_count": null,
      "outputs": []
    },
    {
      "cell_type": "markdown",
      "source": [
        "#Experiment with P Regular , NP Regular (Experiment 2)\n",
        "[Click to view Notebook](https://github.com/rashedhasan090/OM-ML_Research/blob/main/January%202023%20Analysis/6-OM-ind-train-1-test-exp/Exp-series-2-OS-test/P_Regular_NP_regular_6_Train_1_Test_(OnlineStorer).ipynb)\n",
        "\n",
        "\n",
        "###6 OM - Dataset , Camping, Bank,  Library Management, Decider, Customer_order, E-Commerce\n",
        "###1 OM - Testing - Online_Store\n",
        "\n",
        "## Training \n",
        "\n",
        "### Total instances - 292\n",
        "\n",
        "### P samples - 58\n",
        "### NP samples - 234 \n",
        "\n",
        "## Testing \n",
        "\n",
        "### Total instances - 8\n",
        "\n",
        "### P samples - 4\n",
        "### NP samples - 4 "
      ],
      "metadata": {
        "id": "XlQz1B1AXDWK"
      }
    },
    {
      "cell_type": "code",
      "source": [
        "#                 precision    recall  f1-score   support\n",
        "\n",
        "#            0       0.43      0.75      0.55         4\n",
        "#            1       0.00      0.00      0.00         4\n",
        "\n",
        "#     accuracy                           0.38         8\n",
        "#    macro avg       0.21      0.38      0.27         8\n",
        "# weighted avg       0.21      0.38      0.27         8"
      ],
      "metadata": {
        "id": "xCM78dhXv7U2"
      },
      "execution_count": null,
      "outputs": []
    },
    {
      "cell_type": "markdown",
      "source": [
        "#Experiment with P Oversample , NP Undersample (Experiment 2)\n",
        "[Click to view Notebook](https://github.com/rashedhasan090/OM-ML_Research/blob/main/January%202023%20Analysis/6-OM-ind-train-1-test-exp/Exp-series-2-OS-test/oversample/P_Oversample_NP_Undersample_6_Train_1_Test_(OnlineStorer).ipynb)\n",
        "###6 OM - Dataset , Camping, Bank,  Library Management, Decider, Customer_order, E-Commerce\n",
        "###1 OM - Testing - Online_Store\n",
        "\n",
        "## Training \n",
        "\n",
        "### Total instances - 330\n",
        "\n",
        "### P samples - 216\n",
        "### NP samples - 114\n",
        "\n",
        "## Testing \n",
        "\n",
        "### Total instances - 8\n",
        "\n",
        "### P samples - 4\n",
        "### NP samples - 4 \n",
        "\n",
        "Oversampling: Repeated P samples and 100 new samples from Ecommerce-OM"
      ],
      "metadata": {
        "id": "uNTeOYT5ZNst"
      }
    },
    {
      "cell_type": "code",
      "source": [
        "#                 precision    recall  f1-score   support\n",
        "\n",
        "#            0       1.00      0.50      0.67         4\n",
        "#            1       0.67      1.00      0.80         4\n",
        "\n",
        "#     accuracy                           0.75         8\n",
        "#    macro avg       0.83      0.75      0.73         8\n",
        "# weighted avg       0.83      0.75      0.73         8"
      ],
      "metadata": {
        "id": "MQe2itJEv3Zz"
      },
      "execution_count": null,
      "outputs": []
    },
    {
      "cell_type": "markdown",
      "source": [
        "#Experiment with P Regular , NP Regular (Experiment 3)\n",
        "[Click to view Notebook](https://github.com/rashedhasan090/OM-ML_Research/blob/main/January%202023%20Analysis/6-OM-ind-train-1-test-exp/Exp-series-3-Bank-test/P_Regular_NP_regular_6_Train_1_Test_(Bank).ipynb)\n",
        "###6 OM - Dataset , Camping,OnlineStore,  Library Management, Decider, Customer_order, E-Commerce\n",
        "###1 OM - Testing - Bank\n",
        "\n",
        "## Training \n",
        "\n",
        "### Total instances - 374\n",
        "\n",
        "### P samples - 75\n",
        "### NP samples - 299 \n",
        "\n",
        "## Testing \n",
        "\n",
        "### Total instances - 32\n",
        "\n",
        "### P samples - 9\n",
        "### NP samples - 23 "
      ],
      "metadata": {
        "id": "dyBIeRf3cY1h"
      }
    },
    {
      "cell_type": "code",
      "source": [
        "#                 precision    recall  f1-score   support\n",
        "\n",
        "#            0       0.72      0.95      0.82        22\n",
        "#            1       0.50      0.11      0.18         9\n",
        "\n",
        "#     accuracy                           0.71        31\n",
        "#    macro avg       0.61      0.53      0.50        31\n",
        "# weighted avg       0.66      0.71      0.64        31"
      ],
      "metadata": {
        "id": "RIZrvoyxvydI"
      },
      "execution_count": null,
      "outputs": []
    },
    {
      "cell_type": "markdown",
      "source": [
        "#Experiment with P Oversample , NP Undersample (Experiment 3)\n",
        "[Click to view Notebook](https://github.com/rashedhasan090/OM-ML_Research/blob/main/January%202023%20Analysis/6-OM-ind-train-1-test-exp/Exp-series-3-Bank-test/oversample/P_Oversample_NP_Oversample_6_Train_1_Test_(Bank).ipynb) \n",
        "###6 OM - Dataset , Camping,OnlineStore,  Library Management, Decider, Customer_order, E-Commerce\n",
        "###1 OM - Testing - Bank\n",
        "\n",
        "## Training \n",
        "\n",
        "### Total instances - 433\n",
        "\n",
        "### P samples - 286\n",
        "### NP samples - 147\n",
        "\n",
        "## Testing \n",
        "\n",
        "### Total instances - 32\n",
        "\n",
        "### P samples - 9\n",
        "### NP samples - 23 \n",
        "\n",
        "Oversampling: Repeated P samples and 100 new samples from Ecommerce-OM"
      ],
      "metadata": {
        "id": "IcVTqpdsdpzk"
      }
    },
    {
      "cell_type": "code",
      "source": [
        "#                   precision    recall  f1-score   support\n",
        "\n",
        "#            0       0.86      0.27      0.41        22\n",
        "#            1       0.33      0.89      0.48         9\n",
        "\n",
        "#     accuracy                           0.45        31\n",
        "#    macro avg       0.60      0.58      0.45        31\n",
        "# weighted avg       0.71      0.45      0.43        31\n"
      ],
      "metadata": {
        "id": "v6GeGnIZuiV-"
      },
      "execution_count": null,
      "outputs": []
    },
    {
      "cell_type": "markdown",
      "source": [
        "#Experiment with P Regular , NP Regular (Experiment 4)\n",
        "[Click to view Notebook](https://github.com/rashedhasan090/OM-ML_Research/blob/main/January%202023%20Analysis/6-OM-ind-train-1-test-exp/Exp-series-4-Decider-test/P_Regular_NP_regular_6_Train_1_Test_(Decider).ipynb) \n",
        "###6 OM - Dataset , Camping,OnlineStore,  Library Management, Bank, Customer_order, E-Commerce\n",
        "###1 OM - Testing - Decider\n",
        "\n",
        "## Training \n",
        "\n",
        "### Total instances - 325\n",
        "\n",
        "### P samples - 71\n",
        "### NP samples - 254\n",
        "\n",
        "## Testing \n",
        "\n",
        "### Total instances - 80\n",
        "\n",
        "### P samples - 12\n",
        "### NP samples - 68\n"
      ],
      "metadata": {
        "id": "fm19tfCojwUN"
      }
    },
    {
      "cell_type": "code",
      "source": [
        "#                 precision    recall  f1-score   support\n",
        "\n",
        "#            0       0.00      0.00      0.00        68\n",
        "#            1       0.15      1.00      0.26        12\n",
        "\n",
        "#     accuracy                           0.15        80\n",
        "#    macro avg       0.07      0.50      0.13        80\n",
        "# weighted avg       0.02      0.15      0.04        80"
      ],
      "metadata": {
        "id": "4AM1krp8uc8W"
      },
      "execution_count": null,
      "outputs": []
    },
    {
      "cell_type": "markdown",
      "source": [
        "#Experiment with P Oversample , NP Undersample (Experiment 4)\n",
        "[Click to view Notebook](https://github.com/rashedhasan090/OM-ML_Research/blob/main/January%202023%20Analysis/6-OM-ind-train-1-test-exp/Exp-series-4-Decider-test/oversample/P_Oversample_NP_Oversample_6_Train_1_Test_(Decider).ipynb) \n",
        "###6 OM - Dataset , Camping,OnlineStore,  Library Management, Bank, Customer_order, E-Commerce\n",
        "###1 OM - Testing - Decider\n",
        "\n",
        "## Training \n",
        "\n",
        "### Total instances - 376\n",
        "\n",
        "### P samples - 248\n",
        "### NP samples - 128\n",
        "\n",
        "## Testing \n",
        "\n",
        "### Total instances - 80\n",
        "\n",
        "### P samples - 12\n",
        "### NP samples - 68\n",
        "\n",
        "Oversampling: Repeated P samples and 100 new samples from Ecommerce-OM"
      ],
      "metadata": {
        "id": "R6IzfK21lTfR"
      }
    },
    {
      "cell_type": "code",
      "source": [
        "#                   precision    recall  f1-score   support\n",
        "\n",
        "#            0       0.91      0.31      0.46        68\n",
        "#            1       0.18      0.83      0.29        12\n",
        "\n",
        "#     accuracy                           0.39        80\n",
        "#    macro avg       0.54      0.57      0.38        80\n",
        "# weighted avg       0.80      0.39      0.44        80"
      ],
      "metadata": {
        "id": "J1zXApP5uRFN"
      },
      "execution_count": null,
      "outputs": []
    },
    {
      "cell_type": "markdown",
      "source": [
        "#Experiment with P Regular , NP Regular (Experiment 5)\n",
        "\n",
        "[Click to view Notebook](https://github.com/rashedhasan090/OM-ML_Research/blob/main/January%202023%20Analysis/6-OM-ind-train-1-test-exp/Exp-series-5-Camping-test/P_Regular_NP_regular_6_Train_1_Test%20(Camping).ipynb) \n",
        "\n",
        "###6 OM - Dataset , Decider,OnlineStore,  Library Management, Bank, Customer_order, E-Commerce\n",
        "###1 OM - Testing - Camping\n",
        "\n",
        "## Training \n",
        "\n",
        "### Total instances - 375\n",
        "\n",
        "### P samples - 72\n",
        "### NP samples - 303\n",
        "\n",
        "## Testing \n",
        "\n",
        "### Total instances - 30\n",
        "\n",
        "### P samples - 12\n",
        "### NP samples - 18"
      ],
      "metadata": {
        "id": "k0R4EIuRnCo0"
      }
    },
    {
      "cell_type": "code",
      "source": [
        "#                 precision    recall  f1-score   support\n",
        "\n",
        "#            0       0.60      1.00      0.75        18\n",
        "#            1       0.00      0.00      0.00        12\n",
        "\n",
        "#     accuracy                           0.60        30\n",
        "#    macro avg       0.30      0.50      0.37        30\n",
        "# weighted avg       0.36      0.60      0.45        30"
      ],
      "metadata": {
        "id": "lp3AYnNauEVl"
      },
      "execution_count": null,
      "outputs": []
    },
    {
      "cell_type": "markdown",
      "source": [
        "#Experiment with P Oversample , NP Undersample (Experiment 5)\n",
        "\n",
        "[Click to view Notebook](https://github.com/rashedhasan090/OM-ML_Research/blob/main/January%202023%20Analysis/6-OM-ind-train-1-test-exp/Exp-series-5-Camping-test/oversample/P_oversample_NP_oversample_6_Train_1_Test_(Camping).ipynb) \n",
        "\n",
        "###6 OM - Dataset , Decider,OnlineStore,  Library Management, Bank, Customer_order, E-Commerce\n",
        "###1 OM - Testing - Camping\n",
        "\n",
        "## Training \n",
        "\n",
        "### Total instances - 365\n",
        "\n",
        "### P samples - 236\n",
        "### NP samples - 129\n",
        "\n",
        "## Testing \n",
        "\n",
        "### Total instances - 30\n",
        "\n",
        "### P samples - 12\n",
        "### NP samples - 18\n",
        "\n",
        "\n",
        "Oversampling: Repeated P samples twice and 100 new samples from Ecommerce-OM"
      ],
      "metadata": {
        "id": "xnG0mRMS62hX"
      }
    },
    {
      "cell_type": "code",
      "source": [
        "#                   precision    recall  f1-score   support\n",
        "\n",
        "#            0       0.64      1.00      0.78        18\n",
        "#            1       1.00      0.17      0.29        12\n",
        "\n",
        "#     accuracy                           0.67        30\n",
        "#    macro avg       0.82      0.58      0.53        30\n",
        "# weighted avg       0.79      0.67      0.58        30"
      ],
      "metadata": {
        "id": "9YnRA1Dm7CBT"
      },
      "execution_count": null,
      "outputs": []
    },
    {
      "cell_type": "markdown",
      "source": [
        "# Experiment with P Regular , NP Regular (Experiment 6)\n",
        "\n",
        "[Click to view Notebook](https://github.com/rashedhasan090/OM-ML_Research/blob/main/January%202023%20Analysis/6-OM-ind-train-1-test-exp/Exp-series-6-ecom-test/P_Regular_NP_regular_6_Train_1_Test_(Ecommerce).ipynb) \n",
        "\n",
        "###6 OM - Dataset , Decider,OnlineStore,  Library Management, Bank, Customer_order, Camping\n",
        "###1 OM - Testing - , E-Commerce\n",
        "\n",
        "## Training \n",
        "\n",
        "### Total instances - 228\n",
        "\n",
        "### P samples - 46\n",
        "### NP samples - 182\n",
        "\n",
        "## Testing \n",
        "\n",
        "### Total instances - 148\n",
        "\n",
        "### P samples - 26\n",
        "### NP samples - 122"
      ],
      "metadata": {
        "id": "SVfBGNNCxs3m"
      }
    },
    {
      "cell_type": "code",
      "source": [
        "#                  precision    recall  f1-score   support\n",
        "\n",
        "#            0       0.85      1.00      0.92       122\n",
        "#            1       1.00      0.12      0.21        25\n",
        "\n",
        "#     accuracy                           0.85       147\n",
        "#    macro avg       0.92      0.56      0.57       147\n",
        "# weighted avg       0.87      0.85      0.80       147"
      ],
      "metadata": {
        "id": "Qo10FioszPyp"
      },
      "execution_count": null,
      "outputs": []
    },
    {
      "cell_type": "markdown",
      "source": [
        "\n",
        " # Experiment with P Regular , NP Undersample (Experiment 6)\n",
        "\n",
        "##6 OM - Dataset , Decider,OnlineStore,  Library Management, Bank, Customer_order, Camping\n",
        "\n",
        "[Click to view Notebook](https://github.com/rashedhasan090/OM-ML_Research/blob/main/January%202023%20Analysis/6-OM-ind-train-1-test-exp/Exp-series-6-ecom-test/oversample/P_Oversample_NP_Oversample_6_Train_1_Test_(Ecommerce).ipynb) \n",
        "\n",
        "\n",
        "###1 OM - Testing - , E-Commerce\n",
        "\n",
        "## Training \n",
        "\n",
        "### Total instances - 222\n",
        "\n",
        "### P samples - 135\n",
        "### NP samples - 87\n",
        "\n",
        "## Testing \n",
        "\n",
        "### Total instances - 148\n",
        "\n",
        "### P samples - 26\n",
        "### NP samples - 122"
      ],
      "metadata": {
        "id": "uKM6hW2xzWU4"
      }
    },
    {
      "cell_type": "code",
      "source": [
        "#           precision    recall  f1-score   support\n",
        "\n",
        "#            0       0.86      0.26      0.40       122\n",
        "#            1       0.18      0.80      0.30        25\n",
        "\n",
        "#     accuracy                           0.35       147\n",
        "#    macro avg       0.52      0.53      0.35       147\n",
        "# weighted avg       0.75      0.35      0.38       147\n"
      ],
      "metadata": {
        "id": "837GkwcX0Qwx"
      },
      "execution_count": null,
      "outputs": []
    }
  ]
}