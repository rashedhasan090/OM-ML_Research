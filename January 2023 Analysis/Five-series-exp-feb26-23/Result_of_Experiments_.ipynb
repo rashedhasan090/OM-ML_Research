{
  "nbformat": 4,
  "nbformat_minor": 0,
  "metadata": {
    "colab": {
      "provenance": []
    },
    "kernelspec": {
      "name": "python3",
      "display_name": "Python 3"
    },
    "language_info": {
      "name": "python"
    }
  },
  "cells": [
    {
      "cell_type": "markdown",
      "source": [
        "\n",
        "#Experiment with P Regular , NP Regular (Experiment 1)\n",
        "\n",
        "[Click to view Notebook](https://github.com/rashedhasan090/OM-ML_Research/blob/main/January%202023%20Analysis/Five-series-exp-feb26-23/2OM/P_Regular_NP_regular_2_Train_1_Test.ipynb)\n",
        "###2 OM - Dataset & Camping\n",
        "###1 OM - Testing - Library Management \n",
        "\n",
        "## Training Set\n",
        "\n",
        "###Total Samples : 111. \n",
        "###P labeled : 24 \n",
        "### NP Labeled: 87\n",
        "\n",
        "## Testing Set \n",
        "\n",
        "###P labeled : 15 \n",
        "### NP Labeled: 85\n",
        "\n",
        "\n"
      ],
      "metadata": {
        "id": "N7pDG56cNtDt"
      }
    },
    {
      "cell_type": "code",
      "source": [
        "#                    precision    recall  f1-score   support\n",
        "\n",
        "\n",
        "\n",
        "#            0       0.85      1.00      0.92        85\n",
        "#            1       0.00      0.00      0.00        15\n",
        "#     accuracy                           0.85       100\n",
        "\n",
        "#    macro avg       0.42      0.50      0.46       100\n",
        "# weighted avg       0.72      0.85      0.78       100"
      ],
      "metadata": {
        "id": "Ot9f05Eltv0i"
      },
      "execution_count": null,
      "outputs": []
    },
    {
      "cell_type": "markdown",
      "source": [
        "#Experiment with P Oversample , NP Regular (Experiment 1)\n",
        "\n",
        "[Click to view Notebook](https://github.com/rashedhasan090/OM-ML_Research/blob/main/January%202023%20Analysis/Five-series-exp-feb26-23/2OM/P_Oversample_NP_regular_2_Train_1_Test.ipynb)\n",
        "\n",
        "###2 OM - Dataset & Camping\n",
        "###1 OM - Testing - Library Management \n",
        "### Total instances - 228 \n",
        "\n",
        "## Training Set \n",
        "\n",
        "### P samples - 138 \n",
        "### NP samples - 90 \n",
        "\n",
        "## Testing Set \n",
        "\n",
        "###P labeled : 15 \n",
        "### NP Labeled: 85\n",
        "\n",
        "Oversampling: Repeated P samples and 100 new samples from Ecommerce-OM"
      ],
      "metadata": {
        "id": "RkQJxS5oOfGg"
      }
    },
    {
      "cell_type": "code",
      "source": [
        "#                  precision    recall  f1-score   support\n",
        "\n",
        "#            0       0.85      1.00      0.92        85\n",
        "#            1       0.00      0.00      0.00        15\n",
        "\n",
        "#     accuracy                           0.85       100\n",
        "#    macro avg       0.42      0.50      0.46       100\n",
        "# weighted avg       0.72      0.85      0.78       100"
      ],
      "metadata": {
        "id": "bUNMEipawWtO"
      },
      "execution_count": null,
      "outputs": []
    },
    {
      "cell_type": "markdown",
      "source": [
        "####  **No detection of P Labels on Test set"
      ],
      "metadata": {
        "id": "HARBK4iu97yi"
      }
    },
    {
      "cell_type": "markdown",
      "source": [
        "#Experiment with P Regular , NP Regular (Experiment 2)\n",
        "[Click to view Notebook](https://github.com/rashedhasan090/OM-ML_Research/blob/main/January%202023%20Analysis/Five-series-exp-feb26-23/3OM/P_Regular_NP_regular_3_Train_1_Test%20(1).ipynb)\n",
        "###3 OM - Dataset, Camping, Bank\n",
        "###1 OM - Testing - Library Management \n",
        "\n",
        "## Training Set\n",
        "\n",
        "### Total Sample: 134 \n",
        "### P sample: 27 \n",
        "### NP Sample: 107\n",
        "\n",
        "\n",
        "\n",
        "## Testing Set \n",
        "\n",
        "###P labeled : 15 \n",
        "### NP Labeled: 85"
      ],
      "metadata": {
        "id": "XlQz1B1AXDWK"
      }
    },
    {
      "cell_type": "code",
      "source": [
        "#                   precision    recall  f1-score   support\n",
        "\n",
        "#            0       0.86      0.98      0.91        85\n",
        "#            1       0.33      0.07      0.11        15\n",
        "\n",
        "#     accuracy                           0.84       100\n",
        "#    macro avg       0.59      0.52      0.51       100\n",
        "# weighted avg       0.78      0.84      0.79       100"
      ],
      "metadata": {
        "id": "xCM78dhXv7U2"
      },
      "execution_count": null,
      "outputs": []
    },
    {
      "cell_type": "markdown",
      "source": [
        "#Experiment with P Oversample , NP Regular (Experiment 2)\n",
        "[Click to view Notebook](https://github.com/rashedhasan090/OM-ML_Research/blob/main/January%202023%20Analysis/Five-series-exp-feb26-23/3OM/P_Oversample_NP_regular_3_Train_1_Test.ipynb)\n",
        "###3 OM - Dataset , Camping, Bank\n",
        "###1 OM - Testing - Library Management \n",
        "### Total instances - 188 \n",
        "\n",
        "## Training Set \n",
        "\n",
        "### P samples - 122 \n",
        "### NP samples - 69 \n",
        "\n",
        "\n",
        "## Testing Set \n",
        "\n",
        "###P labeled : 15 \n",
        "### NP Labeled: 85\n",
        "\n",
        "Oversampling: Repeated P samples and 100 new samples from Ecommerce-OM"
      ],
      "metadata": {
        "id": "uNTeOYT5ZNst"
      }
    },
    {
      "cell_type": "code",
      "source": [
        "#                   precision    recall  f1-score   support\n",
        "\n",
        "#            0       0.88      1.00      0.93        85\n",
        "#            1       1.00      0.20      0.33        15\n",
        "\n",
        "#     accuracy                           0.88       100\n",
        "#    macro avg       0.94      0.60      0.63       100\n",
        "# weighted avg       0.89      0.88      0.84       100"
      ],
      "metadata": {
        "id": "MQe2itJEv3Zz"
      },
      "execution_count": null,
      "outputs": []
    },
    {
      "cell_type": "markdown",
      "source": [
        "#### **Higher recall for NP and a higher precision for P**"
      ],
      "metadata": {
        "id": "clQsOQpt__35"
      }
    },
    {
      "cell_type": "markdown",
      "source": [
        "#Experiment with P Regular , NP Regular (Experiment 3)\n",
        "[Click to view Notebook](https://github.com/rashedhasan090/OM-ML_Research/blob/main/January%202023%20Analysis/Five-series-exp-feb26-23/4OM/P_Regular_NP_regular_4_Train_1_Test.ipynb)\n",
        "###4 OM - Dataset, Camping, Bank, Customer-Order\n",
        "###1 OM - Testing - Library Management \n",
        "### Total instances - 145 \n",
        "\n",
        "## Training Set \n",
        "\n",
        "### P samples - 34\n",
        "### NP samples - 111\n",
        "\n",
        "\n",
        "## Testing Set \n",
        "\n",
        "###P labeled : 15 \n",
        "### NP Labeled: 85"
      ],
      "metadata": {
        "id": "dyBIeRf3cY1h"
      }
    },
    {
      "cell_type": "code",
      "source": [
        "#                  precision    recall  f1-score   support\n",
        "\n",
        "#            0       1.00      0.02      0.05        85\n",
        "#            1       0.15      1.00      0.27        15\n",
        "\n",
        "#     accuracy                           0.17       100\n",
        "#    macro avg       0.58      0.51      0.16       100\n",
        "# weighted avg       0.87      0.17      0.08       100"
      ],
      "metadata": {
        "id": "RIZrvoyxvydI"
      },
      "execution_count": null,
      "outputs": []
    },
    {
      "cell_type": "markdown",
      "source": [
        "#Experiment with P Oversample , NP Regular (Experiment 3)\n",
        "[Click to view Notebook](https://github.com/rashedhasan090/OM-ML_Research/blob/main/January%202023%20Analysis/Five-series-exp-feb26-23/4OM/P_Oversample_NP_regular_4_Train_1_Test_(1).ipynb) \n",
        "###4 OM - Dataset , Camping, Bank, Customer-Order\n",
        "###1 OM - Testing - Library Management \n",
        "### Total instances - 274\n",
        "\n",
        "## Training Set \n",
        "\n",
        "### NP samples - 111\n",
        "### P samples - 163 \n",
        "\n",
        "\n",
        "## Testing Set \n",
        "\n",
        "###P labeled : 15 \n",
        "### NP Labeled: 85\n",
        "\n",
        "Oversampling: Repeated P samples and 100 new samples from Ecommerce-OM"
      ],
      "metadata": {
        "id": "IcVTqpdsdpzk"
      }
    },
    {
      "cell_type": "code",
      "source": [
        "#                  precision    recall  f1-score   support\n",
        "\n",
        "#            0       1.00      0.01      0.02        85\n",
        "#            1       0.15      1.00      0.26        15\n",
        "\n",
        "#     accuracy                           0.16       100\n",
        "#    macro avg       0.58      0.51      0.14       100\n",
        "# weighted avg       0.87      0.16      0.06       100\n"
      ],
      "metadata": {
        "id": "v6GeGnIZuiV-"
      },
      "execution_count": null,
      "outputs": []
    },
    {
      "cell_type": "markdown",
      "source": [
        "#### **Higher precision for NP , Higher Recall for P**"
      ],
      "metadata": {
        "id": "ulwCWLGcAo2o"
      }
    },
    {
      "cell_type": "markdown",
      "source": [
        "#Experiment with P Regular , NP Regular (Experiment 4)\n",
        "[Click to view Notebook](https://github.com/rashedhasan090/OM-ML_Research/blob/main/January%202023%20Analysis/Five-series-exp-feb26-23/5OM/P_Regular_NP_regular_5_Train_1_Test.ipynb) \n",
        "###5 OM - Dataset, Camping, Bank, Customer-Order, OnlineStore\n",
        "###1 OM - Testing - Library Management \n",
        "### Total instances - 153\n",
        "\n",
        "## Training Set \n",
        "\n",
        "### NP samples - 113\n",
        "### P samples - 40\n",
        "\n",
        "## Testing Set \n",
        "\n",
        "###P labeled : 15 \n",
        "### NP Labeled: 85"
      ],
      "metadata": {
        "id": "fm19tfCojwUN"
      }
    },
    {
      "cell_type": "code",
      "source": [
        "#                   precision    recall  f1-score   support\n",
        "\n",
        "#            0       0.85      0.98      0.91        85\n",
        "#            1       0.00      0.00      0.00        15\n",
        "\n",
        "#     accuracy                           0.83       100\n",
        "#    macro avg       0.42      0.49      0.45       100\n",
        "# weighted avg       0.72      0.83      0.77       100"
      ],
      "metadata": {
        "id": "4AM1krp8uc8W"
      },
      "execution_count": null,
      "outputs": []
    },
    {
      "cell_type": "markdown",
      "source": [
        "#Experiment with P Oversample , NP Regular (Experiment 4)\n",
        "[Click to view Notebook](https://github.com/rashedhasan090/OM-ML_Research/blob/main/January%202023%20Analysis/Five-series-exp-feb26-23/5OM/P_Oversample_NP_regular_5_Train_1_Test_(2).ipynb) \n",
        "###5 OM - Dataset , Camping, Bank, Customer-Order, Decider, OnlineStore\n",
        "###1 OM - Testing - Library Management \n",
        "### Total instances - 286\n",
        "\n",
        "## Training Set \n",
        "\n",
        "### P samples - 169\n",
        "### NP samples - 117 \n",
        "\n",
        "## Testing Set \n",
        "\n",
        "###P labeled : 15 \n",
        "### NP Labeled: 85\n",
        "\n",
        "Oversampling: Repeated P samples and 100 new samples from Ecommerce-OM"
      ],
      "metadata": {
        "id": "R6IzfK21lTfR"
      }
    },
    {
      "cell_type": "code",
      "source": [
        "#                 precision    recall  f1-score   support\n",
        "\n",
        "#            0       0.90      0.99      0.94        85\n",
        "#            1       0.86      0.40      0.55        15\n",
        "\n",
        "#     accuracy                           0.90       100\n",
        "#    macro avg       0.88      0.69      0.74       100\n",
        "# weighted avg       0.90      0.90      0.88       100"
      ],
      "metadata": {
        "id": "J1zXApP5uRFN"
      },
      "execution_count": null,
      "outputs": []
    },
    {
      "cell_type": "markdown",
      "source": [
        "#### **Higher Precision for NP , High Precision for P Low Recall for P**"
      ],
      "metadata": {
        "id": "Spuj95sYCp0H"
      }
    },
    {
      "cell_type": "markdown",
      "source": [
        "#Experiment with P Regular , NP Regular (Experiment 5)\n",
        "\n",
        "[Click to view Notebook](https://github.com/rashedhasan090/OM-ML_Research/blob/main/January%202023%20Analysis/Five-series-exp-feb26-23/6OM/P_Regular_NP_regular_6_Train_1_Test.ipynb) \n",
        "\n",
        "###6 OM - Training - Decider, Camping, Bank , Customer-Order , OnlineStore, E-commerce,\n",
        "\n",
        "\n",
        "\n",
        "\n",
        "\n",
        "###1 OM - Testing - Library Management \n",
        "## Training Set \n",
        "\n",
        "### Total sample : 300 \n",
        "### P sample : 70 \n",
        "### NP sample: 230\n",
        "\n",
        "## Testing Set \n",
        "\n",
        "###P labeled : 15 \n",
        "### NP Labeled: 85"
      ],
      "metadata": {
        "id": "k0R4EIuRnCo0"
      }
    },
    {
      "cell_type": "code",
      "source": [
        "#                  precision    recall  f1-score   support\n",
        "\n",
        "#            0       0.85      0.98      0.91        85\n",
        "#            1       0.00      0.00      0.00        15\n",
        "\n",
        "#     accuracy                           0.83       100\n",
        "#    macro avg       0.42      0.49      0.45       100\n",
        "# weighted avg       0.72      0.83      0.77       100"
      ],
      "metadata": {
        "id": "lp3AYnNauEVl"
      },
      "execution_count": null,
      "outputs": []
    },
    {
      "cell_type": "markdown",
      "source": [
        "#Experiment with P Oversample , NP Regular \n",
        "\n",
        "[Click to view Notebook](https://github.com/rashedhasan090/OM-ML_Research/blob/main/January%202023%20Analysis/Five-series-exp-feb26-23/6OM/P_Oversample_NP_regular_6_Train_1_Test.ipynb) \n",
        "\n",
        "###6 OM - Dataset , Camping, Bank, Customer-Order, Decider, OnlineStore, E-Commerce\n",
        "###1 OM - Testing - Library Management \n",
        "\n",
        "## Training Set\n",
        "\n",
        "### Total instances - 576\n",
        "\n",
        "### P samples - 302\n",
        "### NP samples - 274 \n",
        "\n",
        "## Testing Set \n",
        "\n",
        "###P labeled : 15 \n",
        "### NP Labeled: 85\n",
        "\n",
        "Oversampling: Repeated P samples twice and 100 new samples from Ecommerce-OM"
      ],
      "metadata": {
        "id": "xnG0mRMS62hX"
      }
    },
    {
      "cell_type": "code",
      "source": [
        "#                  precision    recall  f1-score   support\n",
        "\n",
        "#            0       0.89      1.00      0.94        85\n",
        "#            1       1.00      0.33      0.50        15\n",
        "\n",
        "#     accuracy                           0.90       100\n",
        "#    macro avg       0.95      0.67      0.72       100\n",
        "# weighted avg       0.91      0.90      0.88       100"
      ],
      "metadata": {
        "id": "9YnRA1Dm7CBT"
      },
      "execution_count": null,
      "outputs": []
    },
    {
      "cell_type": "markdown",
      "source": [
        "#### **Higher Precision for P , Higher Recall for NP**"
      ],
      "metadata": {
        "id": "erEy-i6oFTB-"
      }
    }
  ]
}