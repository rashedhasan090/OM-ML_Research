{
  "nbformat": 4,
  "nbformat_minor": 0,
  "metadata": {
    "colab": {
      "provenance": []
    },
    "kernelspec": {
      "name": "python3",
      "display_name": "Python 3"
    },
    "language_info": {
      "name": "python"
    }
  },
  "cells": [
    {
      "cell_type": "markdown",
      "source": [
        "## Experiment series 1 - Regular Dataset - Result Analysis"
      ],
      "metadata": {
        "id": "QF4Mm3HTedVI"
      }
    },
    {
      "cell_type": "markdown",
      "source": [
        "### Original Sampleset: [Located here](https://github.com/rashedhasan090/OM-ML_Research/blob/main/January%202023%20Analysis/New%20Analysis/sampleset/LibraryManagement_authentic_sampleset_no_space.xlsx)"
      ],
      "metadata": {
        "id": "UrPqW73FeJI7"
      }
    },
    {
      "cell_type": "markdown",
      "source": [
        "*P labeled 15 , NP labeled 85 from LibraryManagemet OM Data obtained from TradeMaker.*\n",
        "\n",
        "\n",
        "\n"
      ],
      "metadata": {
        "id": "eQP7httTevd0"
      }
    },
    {
      "cell_type": "markdown",
      "source": [
        "[Result 2 CSV File](https://github.com/rashedhasan090/OM-ML_Research/blob/main/January%202023%20Analysis/New%20Analysis/sampleset/classification%20report/Result-2-c.csv)"
      ],
      "metadata": {
        "id": "KOohXuGZqXtw"
      }
    },
    {
      "cell_type": "code",
      "execution_count": 32,
      "metadata": {
        "colab": {
          "base_uri": "https://localhost:8080/"
        },
        "id": "mi0qqTQi21pu",
        "outputId": "10b18620-35b1-452a-d8c8-d2f5927e9e02"
      },
      "outputs": [
        {
          "output_type": "stream",
          "name": "stdout",
          "text": [
            "[[39  0]\n",
            " [ 1  0]]\n",
            "              precision    recall  f1-score   support\n",
            "\n",
            "          NP       0.97      1.00      0.99        39\n",
            "           P       0.00      0.00      0.00         1\n",
            "\n",
            "    accuracy                           0.97        40\n",
            "   macro avg       0.49      0.50      0.49        40\n",
            "weighted avg       0.95      0.97      0.96        40\n",
            "\n"
          ]
        },
        {
          "output_type": "stream",
          "name": "stderr",
          "text": [
            "/usr/local/lib/python3.8/dist-packages/sklearn/metrics/_classification.py:1318: UndefinedMetricWarning: Precision and F-score are ill-defined and being set to 0.0 in labels with no predicted samples. Use `zero_division` parameter to control this behavior.\n",
            "  _warn_prf(average, modifier, msg_start, len(result))\n",
            "/usr/local/lib/python3.8/dist-packages/sklearn/metrics/_classification.py:1318: UndefinedMetricWarning: Precision and F-score are ill-defined and being set to 0.0 in labels with no predicted samples. Use `zero_division` parameter to control this behavior.\n",
            "  _warn_prf(average, modifier, msg_start, len(result))\n",
            "/usr/local/lib/python3.8/dist-packages/sklearn/metrics/_classification.py:1318: UndefinedMetricWarning: Precision and F-score are ill-defined and being set to 0.0 in labels with no predicted samples. Use `zero_division` parameter to control this behavior.\n",
            "  _warn_prf(average, modifier, msg_start, len(result))\n"
          ]
        }
      ],
      "source": [
        "# Experiment 2 Classification Report (Regular Dataset - 6 OM combined)\n",
        "# Result from 101 samples Librarymanagement \n",
        "# Result set URL:\n",
        "\n",
        "# P Labeled 1 and NP labeled 99 from RNN Results\n",
        "\n",
        "\n",
        "\n",
        "import pandas as pd\n",
        "import numpy as np\n",
        "from sklearn.feature_extraction.text import CountVectorizer\n",
        "from sklearn.model_selection import train_test_split\n",
        "from sklearn.naive_bayes import MultinomialNB\n",
        "data = pd.read_csv(\"Result-2-c.csv\" )\n",
        "data = data[[\"Label\", \"OM_Data\"]]\n",
        "x = np.array(data[\"OM_Data\"])\n",
        "y = np.array(data[\"Label\"])\n",
        "cv = CountVectorizer()\n",
        "X = cv.fit_transform(x) # Fit the Data\n",
        "X_train, X_test, y_train, y_test = train_test_split(X, y ,test_size=0.40, random_state=42)\n",
        "clf = MultinomialNB()\n",
        "clf.fit(X_train,y_train)\n",
        "predictions = clf.predict(X_test)\n",
        "# Classification Report\n",
        "from sklearn.metrics import confusion_matrix\n",
        "print(confusion_matrix(y_test, predictions))\n",
        "from sklearn.metrics import classification_report\n",
        "print(classification_report(y_test, predictions))"
      ]
    },
    {
      "cell_type": "markdown",
      "source": [],
      "metadata": {
        "id": "q87qL9jueCUI"
      }
    },
    {
      "cell_type": "code",
      "source": [
        "#Experiment 1 does not have concrete result so it is not present in the notebook. "
      ],
      "metadata": {
        "id": "YFbTwgIAIM1X"
      },
      "execution_count": null,
      "outputs": []
    },
    {
      "cell_type": "code",
      "source": [],
      "metadata": {
        "id": "CU4ydzzdINAR"
      },
      "execution_count": null,
      "outputs": []
    },
    {
      "cell_type": "markdown",
      "source": [
        "[Result 3 CSV File](https://github.com/rashedhasan090/OM-ML_Research/blob/main/January%202023%20Analysis/New%20Analysis/sampleset/classification%20report/Result-3-c.csv\n",
        ")"
      ],
      "metadata": {
        "id": "P6Z9iTKSqrWB"
      }
    },
    {
      "cell_type": "code",
      "source": [
        "# Experiment 3 Classification Report (Regular Dataset - 6 OM combined)\n",
        "# Result from 101 samples \n",
        "# P Labeled 19 and NP labeled 79 from RNN Results\n",
        "\n",
        "\n",
        "\n",
        "import pandas as pd\n",
        "import numpy as np\n",
        "from sklearn.feature_extraction.text import CountVectorizer\n",
        "from sklearn.model_selection import train_test_split\n",
        "from sklearn.naive_bayes import MultinomialNB\n",
        "data = pd.read_csv(\"Result-3-c.csv\")\n",
        "data = data[[\"Label\", \"OM_Data\"]]\n",
        "x = np.array(data[\"OM_Data\"])\n",
        "y = np.array(data[\"Label\"])\n",
        "cv = CountVectorizer()\n",
        "X = cv.fit_transform(x) # Fit the Data\n",
        "X_train, X_test, y_train, y_test = train_test_split(X, y, test_size=0.40, random_state=42)\n",
        "clf = MultinomialNB()\n",
        "clf.fit(X_train,y_train)\n",
        "predictions = clf.predict(X_test)\n",
        "# Classification Report\n",
        "from sklearn.metrics import confusion_matrix\n",
        "print(confusion_matrix(y_test, predictions))\n",
        "from sklearn.metrics import classification_report\n",
        "print(classification_report(y_test, predictions))"
      ],
      "metadata": {
        "colab": {
          "base_uri": "https://localhost:8080/"
        },
        "id": "VK-nDal34b5g",
        "outputId": "b7dd11de-2727-4231-92eb-11e78f63e3e7"
      },
      "execution_count": 33,
      "outputs": [
        {
          "output_type": "stream",
          "name": "stdout",
          "text": [
            "[[18 14]\n",
            " [ 1  7]]\n",
            "              precision    recall  f1-score   support\n",
            "\n",
            "          NP       0.95      0.56      0.71        32\n",
            "           P       0.33      0.88      0.48         8\n",
            "\n",
            "    accuracy                           0.62        40\n",
            "   macro avg       0.64      0.72      0.59        40\n",
            "weighted avg       0.82      0.62      0.66        40\n",
            "\n"
          ]
        }
      ]
    },
    {
      "cell_type": "markdown",
      "source": [
        "[Result 4 CSV File](https://github.com/rashedhasan090/OM-ML_Research/blob/main/January%202023%20Analysis/New%20Analysis/sampleset/classification%20report/Result-4-c.csv \n",
        ")"
      ],
      "metadata": {
        "id": "wKF0ONypq6x_"
      }
    },
    {
      "cell_type": "code",
      "source": [
        "# Experiment 4 Classification Report (Regular Dataset - 6 OM combined)\n",
        "# Result from 101 samples \n",
        "# P Labeled 23 and NP labeled 77 from RNN Results\n",
        "\n",
        "\n",
        "import pandas as pd\n",
        "import numpy as np\n",
        "from sklearn.feature_extraction.text import CountVectorizer\n",
        "from sklearn.model_selection import train_test_split\n",
        "from sklearn.naive_bayes import MultinomialNB\n",
        "data = pd.read_csv(\"Result-4-c.csv\")\n",
        "data = data[[\"Label\", \"OM_Data\"]]\n",
        "x = np.array(data[\"OM_Data\"])\n",
        "y = np.array(data[\"Label\"])\n",
        "cv = CountVectorizer()\n",
        "X = cv.fit_transform(x) # Fit the Data\n",
        "X_train, X_test, y_train, y_test = train_test_split(X, y, test_size=0.40, random_state=42)\n",
        "clf = MultinomialNB()\n",
        "clf.fit(X_train,y_train)\n",
        "predictions = clf.predict(X_test)\n",
        "# Classification Report\n",
        "from sklearn.metrics import confusion_matrix\n",
        "print(confusion_matrix(y_test, predictions))\n",
        "from sklearn.metrics import classification_report\n",
        "print(classification_report(y_test, predictions))"
      ],
      "metadata": {
        "colab": {
          "base_uri": "https://localhost:8080/"
        },
        "id": "jjfdZXJoBgXQ",
        "outputId": "e8ba7b5f-97c8-443c-f428-70f88e0ad549"
      },
      "execution_count": 34,
      "outputs": [
        {
          "output_type": "stream",
          "name": "stdout",
          "text": [
            "[[24 11]\n",
            " [ 1  4]]\n",
            "              precision    recall  f1-score   support\n",
            "\n",
            "          NP       0.96      0.69      0.80        35\n",
            "           P       0.27      0.80      0.40         5\n",
            "\n",
            "    accuracy                           0.70        40\n",
            "   macro avg       0.61      0.74      0.60        40\n",
            "weighted avg       0.87      0.70      0.75        40\n",
            "\n"
          ]
        }
      ]
    },
    {
      "cell_type": "markdown",
      "source": [
        "[Result 5 CSV File](https://github.com/rashedhasan090/OM-ML_Research/blob/main/January%202023%20Analysis/New%20Analysis/sampleset/classification%20report/Result-5-c.csv\n",
        ")"
      ],
      "metadata": {
        "id": "w4GbtnlfrIXV"
      }
    },
    {
      "cell_type": "code",
      "source": [
        "# Experiment 5 Classification Report (Regular Dataset - 6 OM combined)\n",
        "# Result from 101 samples \n",
        "# P Labeled 10 and NP labeled 90 from RNN Results\n",
        "\n",
        "\n",
        "\n",
        "import pandas as pd\n",
        "import numpy as np\n",
        "from sklearn.feature_extraction.text import CountVectorizer\n",
        "from sklearn.model_selection import train_test_split\n",
        "from sklearn.naive_bayes import MultinomialNB\n",
        "data = pd.read_csv(\"Result-5-c.csv\")\n",
        "data = data[[\"Label\", \"OM_Data\"]]\n",
        "x = np.array(data[\"OM_Data\"])\n",
        "y = np.array(data[\"Label\"])\n",
        "cv = CountVectorizer()\n",
        "X = cv.fit_transform(x) # Fit the Data\n",
        "X_train, X_test, y_train, y_test = train_test_split(X, y, test_size=0.40, random_state=42)\n",
        "clf = MultinomialNB()\n",
        "clf.fit(X_train,y_train)\n",
        "predictions = clf.predict(X_test)\n",
        "# Classification Report\n",
        "from sklearn.metrics import confusion_matrix\n",
        "print(confusion_matrix(y_test, predictions))\n",
        "from sklearn.metrics import classification_report\n",
        "print(classification_report(y_test, predictions))"
      ],
      "metadata": {
        "colab": {
          "base_uri": "https://localhost:8080/"
        },
        "id": "qZl302QkD0-Q",
        "outputId": "ce16b976-d144-4bde-8086-10513861ca2b"
      },
      "execution_count": 35,
      "outputs": [
        {
          "output_type": "stream",
          "name": "stdout",
          "text": [
            "[[30  4]\n",
            " [ 6  0]]\n",
            "              precision    recall  f1-score   support\n",
            "\n",
            "          NP       0.83      0.88      0.86        34\n",
            "           P       0.00      0.00      0.00         6\n",
            "\n",
            "    accuracy                           0.75        40\n",
            "   macro avg       0.42      0.44      0.43        40\n",
            "weighted avg       0.71      0.75      0.73        40\n",
            "\n"
          ]
        }
      ]
    },
    {
      "cell_type": "code",
      "source": [
        "#Experiment 6 does not have concrete result so it is not present in the notebook. "
      ],
      "metadata": {
        "id": "qcWdqUrTIYIR"
      },
      "execution_count": null,
      "outputs": []
    },
    {
      "cell_type": "markdown",
      "source": [
        "[Result 7 CSV File](https://github.com/rashedhasan090/OM-ML_Research/blob/main/January%202023%20Analysis/New%20Analysis/sampleset/classification%20report/Result-7-c.csv \n",
        ")\n"
      ],
      "metadata": {
        "id": "CdAV9BJ-rXKK"
      }
    },
    {
      "cell_type": "code",
      "source": [
        "# Experiment 7 Classification Report (Regular Dataset - 7 OM combined)\n",
        "# Result from 101 samples \n",
        "# P Labeled 33 and NP labeled 67 from RNN Results\n",
        "\n",
        "\n",
        "import pandas as pd\n",
        "import numpy as np\n",
        "from sklearn.feature_extraction.text import CountVectorizer\n",
        "from sklearn.model_selection import train_test_split\n",
        "from sklearn.naive_bayes import MultinomialNB\n",
        "data = pd.read_csv(\"Result-7-c.csv\")\n",
        "data = data[[\"Label\", \"OM_Data\"]]\n",
        "x = np.array(data[\"OM_Data\"])\n",
        "y = np.array(data[\"Label\"])\n",
        "cv = CountVectorizer()\n",
        "X = cv.fit_transform(x) # Fit the Data\n",
        "X_train, X_test, y_train, y_test = train_test_split(X, y, test_size=0.40, random_state=42)\n",
        "clf = MultinomialNB()\n",
        "clf.fit(X_train,y_train)\n",
        "predictions = clf.predict(X_test)\n",
        "# Classification Report\n",
        "from sklearn.metrics import confusion_matrix\n",
        "print(confusion_matrix(y_test, predictions))\n",
        "from sklearn.metrics import classification_report\n",
        "print(classification_report(y_test, predictions))"
      ],
      "metadata": {
        "colab": {
          "base_uri": "https://localhost:8080/"
        },
        "id": "spCIdMO5IaC7",
        "outputId": "115e35bd-abc3-4b97-8e08-bcf77e5a88ee"
      },
      "execution_count": 36,
      "outputs": [
        {
          "output_type": "stream",
          "name": "stdout",
          "text": [
            "[[15 10]\n",
            " [ 5 10]]\n",
            "              precision    recall  f1-score   support\n",
            "\n",
            "          NP       0.75      0.60      0.67        25\n",
            "           P       0.50      0.67      0.57        15\n",
            "\n",
            "    accuracy                           0.62        40\n",
            "   macro avg       0.62      0.63      0.62        40\n",
            "weighted avg       0.66      0.62      0.63        40\n",
            "\n"
          ]
        }
      ]
    },
    {
      "cell_type": "markdown",
      "source": [
        "[Result 8 CSV File](https://github.com/rashedhasan090/OM-ML_Research/blob/main/January%202023%20Analysis/New%20Analysis/sampleset/classification%20report/Result-8-c.csv \n",
        ")"
      ],
      "metadata": {
        "id": "njBNSrjirfMf"
      }
    },
    {
      "cell_type": "code",
      "source": [
        "# Experiment 8 Classification Report (Regular Dataset - 7 OM combined)\n",
        "# Result from 101 samples \n",
        "# P Labeled 32 and NP labeled 68 from RNN Results\n",
        "\n",
        "\n",
        "\n",
        "import pandas as pd\n",
        "import numpy as np\n",
        "from sklearn.feature_extraction.text import CountVectorizer\n",
        "from sklearn.model_selection import train_test_split\n",
        "from sklearn.naive_bayes import MultinomialNB\n",
        "data = pd.read_csv(\"Result-8-c.csv\")\n",
        "data = data[[\"Label\", \"OM_Data\"]]\n",
        "x = np.array(data[\"OM_Data\"])\n",
        "y = np.array(data[\"Label\"])\n",
        "cv = CountVectorizer()\n",
        "X = cv.fit_transform(x) # Fit the Data\n",
        "X_train, X_test, y_train, y_test = train_test_split(X, y, test_size=0.40, random_state=42)\n",
        "clf = MultinomialNB()\n",
        "clf.fit(X_train,y_train)\n",
        "predictions = clf.predict(X_test)\n",
        "# Classification Report\n",
        "from sklearn.metrics import confusion_matrix\n",
        "print(confusion_matrix(y_test, predictions))\n",
        "from sklearn.metrics import classification_report\n",
        "print(classification_report(y_test, predictions))"
      ],
      "metadata": {
        "colab": {
          "base_uri": "https://localhost:8080/"
        },
        "id": "zLzMARdONKgV",
        "outputId": "db5db9b6-08aa-4880-992b-697d675fe78e"
      },
      "execution_count": 37,
      "outputs": [
        {
          "output_type": "stream",
          "name": "stdout",
          "text": [
            "[[18  8]\n",
            " [ 7  7]]\n",
            "              precision    recall  f1-score   support\n",
            "\n",
            "          NP       0.72      0.69      0.71        26\n",
            "           P       0.47      0.50      0.48        14\n",
            "\n",
            "    accuracy                           0.62        40\n",
            "   macro avg       0.59      0.60      0.59        40\n",
            "weighted avg       0.63      0.62      0.63        40\n",
            "\n"
          ]
        }
      ]
    },
    {
      "cell_type": "code",
      "source": [],
      "metadata": {
        "id": "Jk-8W1chrqQv"
      },
      "execution_count": null,
      "outputs": []
    },
    {
      "cell_type": "markdown",
      "source": [
        "[Result 9 CSV File](#https://github.com/rashedhasan090/OM-ML_Research/blob/main/January%202023%20Analysis/New%20Analysis/sampleset/classification%20report/Result-9-c.csv \n",
        ")"
      ],
      "metadata": {
        "id": "5rP3Bzk5rsaM"
      }
    },
    {
      "cell_type": "code",
      "source": [
        "# Experiment 9 Classification Report (Regular Dataset - 7 OM combined)\n",
        "# Result from 101 samples \n",
        "# P Labeled 0 and NP labeled 100 from RNN Results\n",
        "\n",
        "\n",
        "\n",
        "\n",
        "import pandas as pd\n",
        "import numpy as np\n",
        "from sklearn.feature_extraction.text import CountVectorizer\n",
        "from sklearn.model_selection import train_test_split\n",
        "from sklearn.naive_bayes import MultinomialNB\n",
        "data = pd.read_csv(\"Result-9-c.csv\")\n",
        "data = data[[\"Label\", \"OM_Data\"]]\n",
        "x = np.array(data[\"OM_Data\"])\n",
        "y = np.array(data[\"Label\"])\n",
        "cv = CountVectorizer()\n",
        "X = cv.fit_transform(x) # Fit the Data\n",
        "X_train, X_test, y_train, y_test = train_test_split(X, y, test_size=0.40, random_state=42)\n",
        "clf = MultinomialNB()\n",
        "clf.fit(X_train,y_train)\n",
        "predictions = clf.predict(X_test)\n",
        "# Classification Report\n",
        "from sklearn.metrics import confusion_matrix\n",
        "print(confusion_matrix(y_test, predictions))\n",
        "from sklearn.metrics import classification_report\n",
        "print(classification_report(y_test, predictions))"
      ],
      "metadata": {
        "colab": {
          "base_uri": "https://localhost:8080/"
        },
        "id": "wzesU2XySgqN",
        "outputId": "dc6b0cf1-c938-4407-b2e2-06312d132c09"
      },
      "execution_count": 38,
      "outputs": [
        {
          "output_type": "stream",
          "name": "stdout",
          "text": [
            "[[40]]\n",
            "              precision    recall  f1-score   support\n",
            "\n",
            "          NP       1.00      1.00      1.00        40\n",
            "\n",
            "    accuracy                           1.00        40\n",
            "   macro avg       1.00      1.00      1.00        40\n",
            "weighted avg       1.00      1.00      1.00        40\n",
            "\n"
          ]
        }
      ]
    },
    {
      "cell_type": "markdown",
      "source": [
        "[Result 10 CSV File](#https://github.com/rashedhasan090/OM-ML_Research/blob/main/January%202023%20Analysis/New%20Analysis/sampleset/classification%20report/Result-10-c.csv \n",
        ")"
      ],
      "metadata": {
        "id": "6WNwAgs5r0a8"
      }
    },
    {
      "cell_type": "code",
      "source": [
        "# Experiment 10 Classification Report (Regular Dataset - 7 OM combined)\n",
        "# Result from 101 samples \n",
        "# P Labeled 3 and NP labeled 97 from RNN Results\n",
        "\n",
        "\n",
        "\n",
        "import pandas as pd\n",
        "import numpy as np\n",
        "from sklearn.feature_extraction.text import CountVectorizer\n",
        "from sklearn.model_selection import train_test_split\n",
        "from sklearn.naive_bayes import MultinomialNB\n",
        "data = pd.read_csv(\"Result-10-c.csv\")\n",
        "data = data[[\"Label\", \"OM_Data\"]]\n",
        "x = np.array(data[\"OM_Data\"])\n",
        "y = np.array(data[\"Label\"])\n",
        "cv = CountVectorizer()\n",
        "X = cv.fit_transform(x) # Fit the Data\n",
        "X_train, X_test, y_train, y_test = train_test_split(X, y, test_size=0.40, random_state=42)\n",
        "clf = MultinomialNB()\n",
        "clf.fit(X_train,y_train)\n",
        "predictions = clf.predict(X_test)\n",
        "# Classification Report\n",
        "from sklearn.metrics import confusion_matrix\n",
        "print(confusion_matrix(y_test, predictions))\n",
        "from sklearn.metrics import classification_report\n",
        "print(classification_report(y_test, predictions))"
      ],
      "metadata": {
        "colab": {
          "base_uri": "https://localhost:8080/"
        },
        "id": "AX-fFpN5TDeW",
        "outputId": "641f3281-dde1-4bd3-8a90-74652a42c7f6"
      },
      "execution_count": 39,
      "outputs": [
        {
          "output_type": "stream",
          "name": "stdout",
          "text": [
            "[[38  0]\n",
            " [ 2  0]]\n",
            "              precision    recall  f1-score   support\n",
            "\n",
            "          NP       0.95      1.00      0.97        38\n",
            "           P       0.00      0.00      0.00         2\n",
            "\n",
            "    accuracy                           0.95        40\n",
            "   macro avg       0.47      0.50      0.49        40\n",
            "weighted avg       0.90      0.95      0.93        40\n",
            "\n"
          ]
        },
        {
          "output_type": "stream",
          "name": "stderr",
          "text": [
            "/usr/local/lib/python3.8/dist-packages/sklearn/metrics/_classification.py:1318: UndefinedMetricWarning: Precision and F-score are ill-defined and being set to 0.0 in labels with no predicted samples. Use `zero_division` parameter to control this behavior.\n",
            "  _warn_prf(average, modifier, msg_start, len(result))\n",
            "/usr/local/lib/python3.8/dist-packages/sklearn/metrics/_classification.py:1318: UndefinedMetricWarning: Precision and F-score are ill-defined and being set to 0.0 in labels with no predicted samples. Use `zero_division` parameter to control this behavior.\n",
            "  _warn_prf(average, modifier, msg_start, len(result))\n",
            "/usr/local/lib/python3.8/dist-packages/sklearn/metrics/_classification.py:1318: UndefinedMetricWarning: Precision and F-score are ill-defined and being set to 0.0 in labels with no predicted samples. Use `zero_division` parameter to control this behavior.\n",
            "  _warn_prf(average, modifier, msg_start, len(result))\n"
          ]
        }
      ]
    }
  ]
}