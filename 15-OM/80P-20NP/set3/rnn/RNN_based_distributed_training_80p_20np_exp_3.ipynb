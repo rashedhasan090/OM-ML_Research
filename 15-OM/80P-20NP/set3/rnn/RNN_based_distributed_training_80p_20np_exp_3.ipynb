{
  "cells": [
    {
      "cell_type": "markdown",
      "metadata": {
        "id": "J0Qjg6vuaHNt"
      },
      "source": [
        "\n",
        "# RNN based distributed training\n",
        " RNN_based_distributed_training_80p_20np_exp_3.ipynb\n",
        " 80P- 20NP : Experiment 3\n",
        "\n",
        "\n",
        "## Object Models: 15\n",
        "\n",
        "1.\tBank\n",
        "2.\tCamping\n",
        "3.\tCanteen\n",
        "4.\tCustomer_Order\n",
        "5.\tEcommerce\n",
        "6.\tHospital Management\n",
        "7.\tLibrary Management\n",
        "8.\tOnlinestore\n",
        "9.\tStudent Course\n",
        "10.\tTraffic_Controller\n",
        "11.\tUniversity\n",
        "12.\tDecider\n",
        "13.\tSchool_mgmt\n",
        "14.\tStore_mgmt\n",
        "15. Credit Card Process\n",
        "\n",
        "\n",
        "## Dataset Instances: 31139\n",
        "\n",
        "\n",
        "## Total Training Data: 26470\n",
        "\n",
        "### training set P :  19085\n",
        "\n",
        "### training set NP : 7384\n",
        "\n",
        "\n",
        "## Total Testing Data: 4670\n",
        "\n",
        "\n",
        "### testing set P : 4670\n",
        "\n",
        "### testing set NP : 0"
      ]
    },
    {
      "cell_type": "markdown",
      "metadata": {
        "id": "yAmSR1FaqKrl"
      },
      "source": [
        "## Setup (installing necessary libraries)"
      ]
    },
    {
      "cell_type": "code",
      "execution_count": 1,
      "metadata": {
        "colab": {
          "base_uri": "https://localhost:8080/"
        },
        "id": "DGFTkuRvzWqc",
        "outputId": "8ccb17b1-5641-4673-948e-9db3b0447aa7"
      },
      "outputs": [
        {
          "output_type": "stream",
          "name": "stdout",
          "text": [
            "Looking in indexes: https://pypi.org/simple, https://us-python.pkg.dev/colab-wheels/public/simple/\n",
            "Collecting tensorflow-text>=2.10\n",
            "  Downloading tensorflow_text-2.12.1-cp310-cp310-manylinux_2_17_x86_64.manylinux2014_x86_64.whl (6.0 MB)\n",
            "\u001b[2K     \u001b[90m━━━━━━━━━━━━━━━━━━━━━━━━━━━━━━━━━━━━━━━━\u001b[0m \u001b[32m6.0/6.0 MB\u001b[0m \u001b[31m56.0 MB/s\u001b[0m eta \u001b[36m0:00:00\u001b[0m\n",
            "\u001b[?25hRequirement already satisfied: tensorflow-hub>=0.8.0 in /usr/local/lib/python3.10/dist-packages (from tensorflow-text>=2.10) (0.13.0)\n",
            "Requirement already satisfied: tensorflow<2.13,>=2.12.0 in /usr/local/lib/python3.10/dist-packages (from tensorflow-text>=2.10) (2.12.0)\n",
            "Requirement already satisfied: absl-py>=1.0.0 in /usr/local/lib/python3.10/dist-packages (from tensorflow<2.13,>=2.12.0->tensorflow-text>=2.10) (1.4.0)\n",
            "Requirement already satisfied: astunparse>=1.6.0 in /usr/local/lib/python3.10/dist-packages (from tensorflow<2.13,>=2.12.0->tensorflow-text>=2.10) (1.6.3)\n",
            "Requirement already satisfied: flatbuffers>=2.0 in /usr/local/lib/python3.10/dist-packages (from tensorflow<2.13,>=2.12.0->tensorflow-text>=2.10) (23.5.26)\n",
            "Requirement already satisfied: gast<=0.4.0,>=0.2.1 in /usr/local/lib/python3.10/dist-packages (from tensorflow<2.13,>=2.12.0->tensorflow-text>=2.10) (0.4.0)\n",
            "Requirement already satisfied: google-pasta>=0.1.1 in /usr/local/lib/python3.10/dist-packages (from tensorflow<2.13,>=2.12.0->tensorflow-text>=2.10) (0.2.0)\n",
            "Requirement already satisfied: grpcio<2.0,>=1.24.3 in /usr/local/lib/python3.10/dist-packages (from tensorflow<2.13,>=2.12.0->tensorflow-text>=2.10) (1.54.2)\n",
            "Requirement already satisfied: h5py>=2.9.0 in /usr/local/lib/python3.10/dist-packages (from tensorflow<2.13,>=2.12.0->tensorflow-text>=2.10) (3.8.0)\n",
            "Requirement already satisfied: jax>=0.3.15 in /usr/local/lib/python3.10/dist-packages (from tensorflow<2.13,>=2.12.0->tensorflow-text>=2.10) (0.4.10)\n",
            "Requirement already satisfied: keras<2.13,>=2.12.0 in /usr/local/lib/python3.10/dist-packages (from tensorflow<2.13,>=2.12.0->tensorflow-text>=2.10) (2.12.0)\n",
            "Requirement already satisfied: libclang>=13.0.0 in /usr/local/lib/python3.10/dist-packages (from tensorflow<2.13,>=2.12.0->tensorflow-text>=2.10) (16.0.0)\n",
            "Requirement already satisfied: numpy<1.24,>=1.22 in /usr/local/lib/python3.10/dist-packages (from tensorflow<2.13,>=2.12.0->tensorflow-text>=2.10) (1.22.4)\n",
            "Requirement already satisfied: opt-einsum>=2.3.2 in /usr/local/lib/python3.10/dist-packages (from tensorflow<2.13,>=2.12.0->tensorflow-text>=2.10) (3.3.0)\n",
            "Requirement already satisfied: packaging in /usr/local/lib/python3.10/dist-packages (from tensorflow<2.13,>=2.12.0->tensorflow-text>=2.10) (23.1)\n",
            "Requirement already satisfied: protobuf!=4.21.0,!=4.21.1,!=4.21.2,!=4.21.3,!=4.21.4,!=4.21.5,<5.0.0dev,>=3.20.3 in /usr/local/lib/python3.10/dist-packages (from tensorflow<2.13,>=2.12.0->tensorflow-text>=2.10) (3.20.3)\n",
            "Requirement already satisfied: setuptools in /usr/local/lib/python3.10/dist-packages (from tensorflow<2.13,>=2.12.0->tensorflow-text>=2.10) (67.7.2)\n",
            "Requirement already satisfied: six>=1.12.0 in /usr/local/lib/python3.10/dist-packages (from tensorflow<2.13,>=2.12.0->tensorflow-text>=2.10) (1.16.0)\n",
            "Requirement already satisfied: tensorboard<2.13,>=2.12 in /usr/local/lib/python3.10/dist-packages (from tensorflow<2.13,>=2.12.0->tensorflow-text>=2.10) (2.12.3)\n",
            "Requirement already satisfied: tensorflow-estimator<2.13,>=2.12.0 in /usr/local/lib/python3.10/dist-packages (from tensorflow<2.13,>=2.12.0->tensorflow-text>=2.10) (2.12.0)\n",
            "Requirement already satisfied: termcolor>=1.1.0 in /usr/local/lib/python3.10/dist-packages (from tensorflow<2.13,>=2.12.0->tensorflow-text>=2.10) (2.3.0)\n",
            "Requirement already satisfied: typing-extensions>=3.6.6 in /usr/local/lib/python3.10/dist-packages (from tensorflow<2.13,>=2.12.0->tensorflow-text>=2.10) (4.6.3)\n",
            "Requirement already satisfied: wrapt<1.15,>=1.11.0 in /usr/local/lib/python3.10/dist-packages (from tensorflow<2.13,>=2.12.0->tensorflow-text>=2.10) (1.14.1)\n",
            "Requirement already satisfied: tensorflow-io-gcs-filesystem>=0.23.1 in /usr/local/lib/python3.10/dist-packages (from tensorflow<2.13,>=2.12.0->tensorflow-text>=2.10) (0.32.0)\n",
            "Requirement already satisfied: wheel<1.0,>=0.23.0 in /usr/local/lib/python3.10/dist-packages (from astunparse>=1.6.0->tensorflow<2.13,>=2.12.0->tensorflow-text>=2.10) (0.40.0)\n",
            "Requirement already satisfied: ml-dtypes>=0.1.0 in /usr/local/lib/python3.10/dist-packages (from jax>=0.3.15->tensorflow<2.13,>=2.12.0->tensorflow-text>=2.10) (0.2.0)\n",
            "Requirement already satisfied: scipy>=1.7 in /usr/local/lib/python3.10/dist-packages (from jax>=0.3.15->tensorflow<2.13,>=2.12.0->tensorflow-text>=2.10) (1.10.1)\n",
            "Requirement already satisfied: google-auth<3,>=1.6.3 in /usr/local/lib/python3.10/dist-packages (from tensorboard<2.13,>=2.12->tensorflow<2.13,>=2.12.0->tensorflow-text>=2.10) (2.17.3)\n",
            "Requirement already satisfied: google-auth-oauthlib<1.1,>=0.5 in /usr/local/lib/python3.10/dist-packages (from tensorboard<2.13,>=2.12->tensorflow<2.13,>=2.12.0->tensorflow-text>=2.10) (1.0.0)\n",
            "Requirement already satisfied: markdown>=2.6.8 in /usr/local/lib/python3.10/dist-packages (from tensorboard<2.13,>=2.12->tensorflow<2.13,>=2.12.0->tensorflow-text>=2.10) (3.4.3)\n",
            "Requirement already satisfied: requests<3,>=2.21.0 in /usr/local/lib/python3.10/dist-packages (from tensorboard<2.13,>=2.12->tensorflow<2.13,>=2.12.0->tensorflow-text>=2.10) (2.27.1)\n",
            "Requirement already satisfied: tensorboard-data-server<0.8.0,>=0.7.0 in /usr/local/lib/python3.10/dist-packages (from tensorboard<2.13,>=2.12->tensorflow<2.13,>=2.12.0->tensorflow-text>=2.10) (0.7.1)\n",
            "Requirement already satisfied: werkzeug>=1.0.1 in /usr/local/lib/python3.10/dist-packages (from tensorboard<2.13,>=2.12->tensorflow<2.13,>=2.12.0->tensorflow-text>=2.10) (2.3.6)\n",
            "Requirement already satisfied: cachetools<6.0,>=2.0.0 in /usr/local/lib/python3.10/dist-packages (from google-auth<3,>=1.6.3->tensorboard<2.13,>=2.12->tensorflow<2.13,>=2.12.0->tensorflow-text>=2.10) (5.3.1)\n",
            "Requirement already satisfied: pyasn1-modules>=0.2.1 in /usr/local/lib/python3.10/dist-packages (from google-auth<3,>=1.6.3->tensorboard<2.13,>=2.12->tensorflow<2.13,>=2.12.0->tensorflow-text>=2.10) (0.3.0)\n",
            "Requirement already satisfied: rsa<5,>=3.1.4 in /usr/local/lib/python3.10/dist-packages (from google-auth<3,>=1.6.3->tensorboard<2.13,>=2.12->tensorflow<2.13,>=2.12.0->tensorflow-text>=2.10) (4.9)\n",
            "Requirement already satisfied: requests-oauthlib>=0.7.0 in /usr/local/lib/python3.10/dist-packages (from google-auth-oauthlib<1.1,>=0.5->tensorboard<2.13,>=2.12->tensorflow<2.13,>=2.12.0->tensorflow-text>=2.10) (1.3.1)\n",
            "Requirement already satisfied: urllib3<1.27,>=1.21.1 in /usr/local/lib/python3.10/dist-packages (from requests<3,>=2.21.0->tensorboard<2.13,>=2.12->tensorflow<2.13,>=2.12.0->tensorflow-text>=2.10) (1.26.16)\n",
            "Requirement already satisfied: certifi>=2017.4.17 in /usr/local/lib/python3.10/dist-packages (from requests<3,>=2.21.0->tensorboard<2.13,>=2.12->tensorflow<2.13,>=2.12.0->tensorflow-text>=2.10) (2023.5.7)\n",
            "Requirement already satisfied: charset-normalizer~=2.0.0 in /usr/local/lib/python3.10/dist-packages (from requests<3,>=2.21.0->tensorboard<2.13,>=2.12->tensorflow<2.13,>=2.12.0->tensorflow-text>=2.10) (2.0.12)\n",
            "Requirement already satisfied: idna<4,>=2.5 in /usr/local/lib/python3.10/dist-packages (from requests<3,>=2.21.0->tensorboard<2.13,>=2.12->tensorflow<2.13,>=2.12.0->tensorflow-text>=2.10) (3.4)\n",
            "Requirement already satisfied: MarkupSafe>=2.1.1 in /usr/local/lib/python3.10/dist-packages (from werkzeug>=1.0.1->tensorboard<2.13,>=2.12->tensorflow<2.13,>=2.12.0->tensorflow-text>=2.10) (2.1.3)\n",
            "Requirement already satisfied: pyasn1<0.6.0,>=0.4.6 in /usr/local/lib/python3.10/dist-packages (from pyasn1-modules>=0.2.1->google-auth<3,>=1.6.3->tensorboard<2.13,>=2.12->tensorflow<2.13,>=2.12.0->tensorflow-text>=2.10) (0.5.0)\n",
            "Requirement already satisfied: oauthlib>=3.0.0 in /usr/local/lib/python3.10/dist-packages (from requests-oauthlib>=0.7.0->google-auth-oauthlib<1.1,>=0.5->tensorboard<2.13,>=2.12->tensorflow<2.13,>=2.12.0->tensorflow-text>=2.10) (3.2.2)\n",
            "Installing collected packages: tensorflow-text\n",
            "Successfully installed tensorflow-text-2.12.1\n",
            "Looking in indexes: https://pypi.org/simple, https://us-python.pkg.dev/colab-wheels/public/simple/\n",
            "Collecting einops\n",
            "  Downloading einops-0.6.1-py3-none-any.whl (42 kB)\n",
            "\u001b[2K     \u001b[90m━━━━━━━━━━━━━━━━━━━━━━━━━━━━━━━━━━━━━━━━\u001b[0m \u001b[32m42.2/42.2 kB\u001b[0m \u001b[31m2.7 MB/s\u001b[0m eta \u001b[36m0:00:00\u001b[0m\n",
            "\u001b[?25hInstalling collected packages: einops\n",
            "Successfully installed einops-0.6.1\n"
          ]
        }
      ],
      "source": [
        "!pip install \"tensorflow-text>=2.10\"\n",
        "!pip install einops"
      ]
    },
    {
      "cell_type": "markdown",
      "metadata": {
        "id": "A07RWC45HcG0"
      },
      "source": [
        "#Importing Libraries"
      ]
    },
    {
      "cell_type": "code",
      "execution_count": 2,
      "metadata": {
        "id": "tnxXKDjq3jEL"
      },
      "outputs": [],
      "source": [
        "import numpy as np\n",
        "import typing\n",
        "from typing import Any, Tuple\n",
        "from sklearn.model_selection import train_test_split\n",
        "\n",
        "import pathlib\n",
        "\n",
        "import einops\n",
        "import matplotlib.pyplot as plt\n",
        "import matplotlib.ticker as ticker\n",
        "\n",
        "import tensorflow as tf\n",
        "import tensorflow_text as tf_text"
      ]
    },
    {
      "cell_type": "markdown",
      "metadata": {
        "id": "h87kqCNBHly5"
      },
      "source": [
        "#Defining the Shapechecker"
      ]
    },
    {
      "cell_type": "code",
      "execution_count": 3,
      "metadata": {
        "id": "KqFqKi4fqN9X"
      },
      "outputs": [],
      "source": [
        "#@title\n",
        "class ShapeChecker():\n",
        "  def __init__(self):\n",
        "    # Keep a cache of every axis-name seen\n",
        "    self.shapes = {}\n",
        "\n",
        "  def __call__(self, tensor, names, broadcast=False):\n",
        "    if not tf.executing_eagerly():\n",
        "      return\n",
        "\n",
        "    parsed = einops.parse_shape(tensor, names)\n",
        "\n",
        "    for name, new_dim in parsed.items():\n",
        "      old_dim = self.shapes.get(name, None)\n",
        "\n",
        "      if (broadcast and new_dim == 1):\n",
        "        continue\n",
        "\n",
        "      if old_dim is None:\n",
        "        # If the axis name is new, add its length to the cache.\n",
        "        self.shapes[name] = new_dim\n",
        "        continue\n",
        "\n",
        "      if new_dim != old_dim:\n",
        "        raise ValueError(f\"Shape mismatch for dimension: '{name}'\\n\"\n",
        "                         f\"    found: {new_dim}\\n\"\n",
        "                         f\"    expected: {old_dim}\\n\")"
      ]
    },
    {
      "cell_type": "markdown",
      "metadata": {
        "id": "dB7rgJDbeBDF"
      },
      "source": [
        "# Loading the Dataset"
      ]
    },
    {
      "cell_type": "code",
      "execution_count": 4,
      "metadata": {
        "id": "daNcrh1lVej7"
      },
      "outputs": [],
      "source": [
        "import pandas as pd\n",
        "ORM_data = pd.read_excel('15_OM_80_final_3.xlsx')\n"
      ]
    },
    {
      "cell_type": "markdown",
      "metadata": {
        "id": "KbiGtupGHyJd"
      },
      "source": [
        "#Reading Data from Dataset"
      ]
    },
    {
      "cell_type": "code",
      "execution_count": 5,
      "metadata": {
        "colab": {
          "base_uri": "https://localhost:8080/",
          "height": 206
        },
        "id": "ve7kyoOxWY1u",
        "outputId": "c53b2841-bebd-4264-bf1e-8f9f1d5b68ee"
      },
      "outputs": [
        {
          "output_type": "execute_result",
          "data": {
            "text/plain": [
              "                                          OM_Regular  \\\n",
              "0  module OM_name:0,open Declaration one sig clas...   \n",
              "1  module OM_name:0,open Declaration one sig clas...   \n",
              "2  module OM_name:0,open Declaration one sig clas...   \n",
              "3  module OM_name:0,open Declaration one sig clas...   \n",
              "4  module OM_name:0,open Declaration one sig clas...   \n",
              "\n",
              "                                       OM_Prediction  \n",
              "0  P, module OM_name:0,open Declaration one sig c...  \n",
              "1  P, module OM_name:0,open Declaration one sig c...  \n",
              "2  P, module OM_name:0,open Declaration one sig c...  \n",
              "3  P, module OM_name:0,open Declaration one sig c...  \n",
              "4  P, module OM_name:0,open Declaration one sig c...  "
            ],
            "text/html": [
              "\n",
              "  <div id=\"df-f0f2d9db-8b51-4eba-977e-fc39a5dfff0c\">\n",
              "    <div class=\"colab-df-container\">\n",
              "      <div>\n",
              "<style scoped>\n",
              "    .dataframe tbody tr th:only-of-type {\n",
              "        vertical-align: middle;\n",
              "    }\n",
              "\n",
              "    .dataframe tbody tr th {\n",
              "        vertical-align: top;\n",
              "    }\n",
              "\n",
              "    .dataframe thead th {\n",
              "        text-align: right;\n",
              "    }\n",
              "</style>\n",
              "<table border=\"1\" class=\"dataframe\">\n",
              "  <thead>\n",
              "    <tr style=\"text-align: right;\">\n",
              "      <th></th>\n",
              "      <th>OM_Regular</th>\n",
              "      <th>OM_Prediction</th>\n",
              "    </tr>\n",
              "  </thead>\n",
              "  <tbody>\n",
              "    <tr>\n",
              "      <th>0</th>\n",
              "      <td>module OM_name:0,open Declaration one sig clas...</td>\n",
              "      <td>P, module OM_name:0,open Declaration one sig c...</td>\n",
              "    </tr>\n",
              "    <tr>\n",
              "      <th>1</th>\n",
              "      <td>module OM_name:0,open Declaration one sig clas...</td>\n",
              "      <td>P, module OM_name:0,open Declaration one sig c...</td>\n",
              "    </tr>\n",
              "    <tr>\n",
              "      <th>2</th>\n",
              "      <td>module OM_name:0,open Declaration one sig clas...</td>\n",
              "      <td>P, module OM_name:0,open Declaration one sig c...</td>\n",
              "    </tr>\n",
              "    <tr>\n",
              "      <th>3</th>\n",
              "      <td>module OM_name:0,open Declaration one sig clas...</td>\n",
              "      <td>P, module OM_name:0,open Declaration one sig c...</td>\n",
              "    </tr>\n",
              "    <tr>\n",
              "      <th>4</th>\n",
              "      <td>module OM_name:0,open Declaration one sig clas...</td>\n",
              "      <td>P, module OM_name:0,open Declaration one sig c...</td>\n",
              "    </tr>\n",
              "  </tbody>\n",
              "</table>\n",
              "</div>\n",
              "      <button class=\"colab-df-convert\" onclick=\"convertToInteractive('df-f0f2d9db-8b51-4eba-977e-fc39a5dfff0c')\"\n",
              "              title=\"Convert this dataframe to an interactive table.\"\n",
              "              style=\"display:none;\">\n",
              "        \n",
              "  <svg xmlns=\"http://www.w3.org/2000/svg\" height=\"24px\"viewBox=\"0 0 24 24\"\n",
              "       width=\"24px\">\n",
              "    <path d=\"M0 0h24v24H0V0z\" fill=\"none\"/>\n",
              "    <path d=\"M18.56 5.44l.94 2.06.94-2.06 2.06-.94-2.06-.94-.94-2.06-.94 2.06-2.06.94zm-11 1L8.5 8.5l.94-2.06 2.06-.94-2.06-.94L8.5 2.5l-.94 2.06-2.06.94zm10 10l.94 2.06.94-2.06 2.06-.94-2.06-.94-.94-2.06-.94 2.06-2.06.94z\"/><path d=\"M17.41 7.96l-1.37-1.37c-.4-.4-.92-.59-1.43-.59-.52 0-1.04.2-1.43.59L10.3 9.45l-7.72 7.72c-.78.78-.78 2.05 0 2.83L4 21.41c.39.39.9.59 1.41.59.51 0 1.02-.2 1.41-.59l7.78-7.78 2.81-2.81c.8-.78.8-2.07 0-2.86zM5.41 20L4 18.59l7.72-7.72 1.47 1.35L5.41 20z\"/>\n",
              "  </svg>\n",
              "      </button>\n",
              "      \n",
              "  <style>\n",
              "    .colab-df-container {\n",
              "      display:flex;\n",
              "      flex-wrap:wrap;\n",
              "      gap: 12px;\n",
              "    }\n",
              "\n",
              "    .colab-df-convert {\n",
              "      background-color: #E8F0FE;\n",
              "      border: none;\n",
              "      border-radius: 50%;\n",
              "      cursor: pointer;\n",
              "      display: none;\n",
              "      fill: #1967D2;\n",
              "      height: 32px;\n",
              "      padding: 0 0 0 0;\n",
              "      width: 32px;\n",
              "    }\n",
              "\n",
              "    .colab-df-convert:hover {\n",
              "      background-color: #E2EBFA;\n",
              "      box-shadow: 0px 1px 2px rgba(60, 64, 67, 0.3), 0px 1px 3px 1px rgba(60, 64, 67, 0.15);\n",
              "      fill: #174EA6;\n",
              "    }\n",
              "\n",
              "    [theme=dark] .colab-df-convert {\n",
              "      background-color: #3B4455;\n",
              "      fill: #D2E3FC;\n",
              "    }\n",
              "\n",
              "    [theme=dark] .colab-df-convert:hover {\n",
              "      background-color: #434B5C;\n",
              "      box-shadow: 0px 1px 3px 1px rgba(0, 0, 0, 0.15);\n",
              "      filter: drop-shadow(0px 1px 2px rgba(0, 0, 0, 0.3));\n",
              "      fill: #FFFFFF;\n",
              "    }\n",
              "  </style>\n",
              "\n",
              "      <script>\n",
              "        const buttonEl =\n",
              "          document.querySelector('#df-f0f2d9db-8b51-4eba-977e-fc39a5dfff0c button.colab-df-convert');\n",
              "        buttonEl.style.display =\n",
              "          google.colab.kernel.accessAllowed ? 'block' : 'none';\n",
              "\n",
              "        async function convertToInteractive(key) {\n",
              "          const element = document.querySelector('#df-f0f2d9db-8b51-4eba-977e-fc39a5dfff0c');\n",
              "          const dataTable =\n",
              "            await google.colab.kernel.invokeFunction('convertToInteractive',\n",
              "                                                     [key], {});\n",
              "          if (!dataTable) return;\n",
              "\n",
              "          const docLinkHtml = 'Like what you see? Visit the ' +\n",
              "            '<a target=\"_blank\" href=https://colab.research.google.com/notebooks/data_table.ipynb>data table notebook</a>'\n",
              "            + ' to learn more about interactive tables.';\n",
              "          element.innerHTML = '';\n",
              "          dataTable['output_type'] = 'display_data';\n",
              "          await google.colab.output.renderOutput(dataTable, element);\n",
              "          const docLink = document.createElement('div');\n",
              "          docLink.innerHTML = docLinkHtml;\n",
              "          element.appendChild(docLink);\n",
              "        }\n",
              "      </script>\n",
              "    </div>\n",
              "  </div>\n",
              "  "
            ]
          },
          "metadata": {},
          "execution_count": 5
        }
      ],
      "source": [
        "ORM_data.head()"
      ]
    },
    {
      "cell_type": "code",
      "execution_count": 6,
      "metadata": {
        "id": "V7OaHrVYV-Xd"
      },
      "outputs": [],
      "source": [
        "OM_Regular = ORM_data['OM_Regular'].values\n",
        "OM_Prediction = ORM_data['OM_Prediction'].values"
      ]
    },
    {
      "cell_type": "code",
      "execution_count": 7,
      "metadata": {
        "id": "jTBVOEjFWAI5"
      },
      "outputs": [],
      "source": [
        "X = OM_Regular\n",
        "Y = OM_Prediction"
      ]
    },
    {
      "cell_type": "markdown",
      "metadata": {
        "id": "YOujEo2geGod"
      },
      "source": [
        "#### Dividing data as Target and Context"
      ]
    },
    {
      "cell_type": "code",
      "execution_count": 8,
      "metadata": {
        "colab": {
          "base_uri": "https://localhost:8080/"
        },
        "id": "cTbSbBz55QtF",
        "outputId": "3cb985bd-bf0f-4d52-fd3d-4d186129edbc"
      },
      "outputs": [
        {
          "output_type": "stream",
          "name": "stdout",
          "text": [
            "module OM_name 0;open Declaration one sig class1_name  extends  ClassattrSet = c1_at1+c1_at2id=c1_at1no parentisAbstract = No}one sig c1_at1  extends  c1_at1_typeone sig c1_at2  extends  c1_at2_typeone sig class2_name  extends  ClassattrSet = c2_at1+c2_at2id=c2_at1no parentisAbstract = No}one sig c2_at1  extends  c2_at1_typeone sig c2_at1  extends  c2_at2_typeone sig class3_name  extends  ClassattrSet = c3_at1+c3_at2+c3_at3+c3_at4c3_at5+c3_at6id=c3_at1no parentisAbstract = No}one sig c3_at1  extends  c3_at1_typeone sig c3_at2  extends  c3_at2_typeone sig c3_at3  extends  c3_at3_typeone sig c3_at4  extends  c3_at4_typeone sig c3_at5  extends  c3_at5_typeone sig c3_at6  extends  c3_at6_typeone sig class4_name  extends  ClassattrSet = c4_at1+c4_at2+c4_at3+c4_at4id=c4_at3no parentisAbstract = No}one sig c4_at1  extends  c4_at1_typeone sig c4_at2  extends  c4_at2_typeone sig c4_at3  extends  c4_at3_typeone sig c4_at4  extends  c4_at4_typeone sig class5_name  extends  ClassattrSet = c5_at1one parent parent in class2_nameid = c2_at1isAbstract = No}one sig c5_at1  extends  c5_at1_typeone sig class6_name  extends  ClassattrSet = c6_at1_0+c6_at2+c6_at3+c6_at4id=c6_at2no parentisAbstract = No}one sig c6_at1_0  extends  c6_at1_typeone sig c6_at2  extends  c6_at2_typeone sig c6_at3  extends  c6_at3_typeone sig c6_at4  extends  c6_at4_typeone sig class7_name  extends  ClassattrSet = c7_at1one parent parent in class2_nameid = c2_at1isAbstract = No}one sig c7_at1  extends  c7_at1_typeone sig class8_name  extends  ClassattrSet = c8_at1+c8_at2+c2_at2+c6_at3id=c8_at1no parentisAbstract = No}one sig c8_at1  extends  c8_at1_typeone sig c8_at2  extends  c8_at2_typeone sig assoc1  extends   Association src = class8_namedst= class2_name src_multiplicity  = src_mlpc dst_multiplicity  = dst_mlpc}one sig assoc2  extends   Association src = class2_namedst= class4_name src_multiplicity  = src_mlpc2 dst_multiplicity  = dst_mlpc}one sig assoc3  extends   Association src = class8_namedst= class3_name src_multiplicity  = src_mlpc dst_multiplicity  = dst_mlpc}one sig assoc4  extends   Association src = class8_namedst= class4_name src_multiplicity  = src_mlpc dst_multiplicity  = dst_mlpc}one sig assoc5  extends   Association src = class8_namedst= class6_name src_multiplicity  = src_mlpc dst_multiplicity  = dst_mlpc2}one sig assoc6  extends   Association src = class6_namedst= Payment src_multiplicity  = src_mlpc dst_multiplicity  = dst_mlpc2}one sig assoc8  extends   Association src = class6_namedst= class4_name src_multiplicity  = src_mlpc dst_multiplicity  = dst_mlpc}one sig assoc11  extends   Association src = class1_namedst= class3_name src_multiplicity  = src_mlpc dst_multiplicity  = dst_mlpc}one sig assoc9  extends   Association src = class1_namedst= class4_name src_multiplicity  = src_mlpc dst_multiplicity  = dst_mlpc}one sig assoc10  extends   Association src = class2_namedst= class3_name src_multiplicity  = src_mlpc dst_multiplicity  = dst_mlpc2}pred showrun show,Mapping Strategy for class1_name : map_str2Mapping Strategy for class3_name : map_str2Mapping Strategy for class8_name : map_str2Mapping Strategy for class5_name : map_str3Mapping Strategy for class7_name : map_str3Association Strategy for assoc1 : assoc_str2Association Strategy for assoc2 : assoc_str2Association Strategy for assoc3 : assoc_str2Association Strategy for assoc4 : assoc_str2Association Strategy for assoc5 : assoc_str2Association Strategy for assoc6 : assoc_str2Association Strategy for assoc8 : assoc_str2Association Strategy for assoc11 : assoc_str2Association Strategy for assoc9 : assoc_str2Association Strategy for assoc10 : assoc_str2,USE OM_name:0;CREATE TABLE `class5_name` (`c2_at1` c2_at1_type  NOT  NULL, KEY  `FK_class5_name_c2_at1_idx` (`c2_at1`),PRIMARY  KEY  (`c2_at1`)CREATE TABLE `class6_name` (`c6_at4` c6_at4_type(64),`c6_at1_0` c6_at1_type(64),`c6_at2` c6_at2_type  NOT  NULL,PRIMARY  KEY  (`c6_at2`)CREATE TABLE `class8_name` (`c8_at2` c8_at2_type(64),`c6_at3` c6_at3_type(64),`c8_at1` c8_at1_type  NOT  NULL,PRIMARY  KEY  (`c8_at1`)`c3_at1` c3_at1_type  NOT  NULL,`c1_at1` c1_at1_type  NOT  NULL,PRIMARY  KEY  (`c3_at1`,`c1_at1`)CREATE TABLE `class2_name` (`c2_at2` c2_at2_type(64),`c8_at1` c8_at1_type,`c2_at1` c2_at1_type  NOT  NULL, KEY  `FK_class2_name_c8_at1_idx` (`c8_at1`),PRIMARY  KEY  (`c2_at1`)CREATE TABLE `assoc9` (`c4_at3` c4_at3_type  NOT  NULL,`c1_at1` c1_at1_type  NOT  NULL, KEY  `FK_assoc9_c4_at3_idx` (`c4_at3`), KEY  `FK_assoc9_c1_at1_idx` (`c1_at1`),PRIMARY  KEY  (`c4_at3`,`c1_at1`)CREATE TABLE `assoc8` (`c6_at2` c6_at2_type  NOT  NULL,`c4_at3` c4_at3_type  NOT  NULL,PRIMARY  KEY  (`c6_at2`,`c4_at3`)CREATE TABLE `class3_name` (`c3_at6` c3_at6_type,`c3_at5` c3_at5_type,`c3_at4` c3_at4_type,`c3_at3` c3_at3_type,`c3_at2` c3_at2_type,`c3_at1` c3_at1_type  NOT  NULL,PRIMARY  KEY  (`c3_at1`)CREATE TABLE `assoc3` (`c8_at1` c8_at1_type  NOT  NULL,`c3_at1` c3_at1_type  NOT  NULL, KEY  `FK_assoc3_c8_at1_idx` (`c8_at1`), KEY  `FK_assoc3_c3_at1_idx` (`c3_at1`),PRIMARY  KEY  (`c8_at1`,`c3_at1`)CREATE TABLE `class7_name` (`c7_at1` c7_at1_type(64),`c2_at2` c2_at2_type(64),`c2_at1` c2_at1_type  NOT  NULL,PRIMARY  KEY  (`c2_at1`)CREATE TABLE `class1_name` (`c1_at2` c1_at2_type(64),`c1_at1` c1_at1_type  NOT  NULL,PRIMARY  KEY  (`c1_at1`)CREATE TABLE `assoc6` (`c6_at2` c6_at2_type  NOT  NULL,`c1_at1` c1_at1_type  NOT  NULL, KEY  `FK_assoc6_c6_at2_idx` (`c6_at2`), KEY  `FK_assoc6_c1_at1_idx` (`c1_at1`),PRIMARY  KEY  (`c6_at2`,`c1_at1`)Association Strategy for assoc5 : assoc_str2`c8_at1` c8_at1_type  NOT  NULL,`c6_at2` c6_at2_type  NOT  NULL, KEY  `FK_assoc5_c8_at1_idx` (`c8_at1`), KEY  `FK_assoc5_c6_at2_idx` (`c6_at2`),PRIMARY  KEY  (`c8_at1`,`c6_at2`)CREATE TABLE `assoc2` (`c4_at3` c4_at3_type  NOT  NULL,`c2_at1` c2_at1_type  NOT  NULL, KEY  `FK_assoc2_c4_at3_idx` (`c4_at3`), KEY  `FK_assoc2_c2_at1_idx` (`c2_at1`),PRIMARY  KEY  (`c4_at3`,`c2_at1`)CREATE TABLE `assoc10` (`c3_at1` c3_at1_type  NOT  NULL,`c2_at1` c2_at1_type  NOT  NULL, KEY  `FK_assoc10_c3_at1_idx` (`c3_at1`), KEY  `FK_assoc10_c2_at1_idx` (`c2_at1`),PRIMARY  KEY  (`c3_at1`,`c2_at1`)CREATE TABLE `class4_name` (`c4_at4` c4_at4_type(64),`c4_at2` c4_at2_type(64),`c4_at1` c4_at1_type(64),`c8_at1` c8_at1_type,`c4_at3` c4_at3_type  NOT  NULL, KEY  `FK_class4_name_c8_at1_idx` (`c8_at1`),PRIMARY  KEY  (`c4_at3`)ALTER TABLE `class5_name`ADD CONSTRAINT `FK_class5_name_c2_at1` FOREIGN  KEY  (`c2_at1`)  REFERENCES  `class2_name` (`c2_at1`) ON DELETE CASCADE ON UPDATE CASCADE,ALTER TABLE `class2_name`ADD CONSTRAINT `FK_class2_name_c8_at1` FOREIGN  KEY  (`c8_at1`)  REFERENCES  `class8_name` (`c8_at1`) ON DELETE CASCADE ON UPDATE CASCADE,ALTER TABLE `assoc9`ADD CONSTRAINT `FK_assoc9_c4_at3` FOREIGN  KEY  (`c4_at3`)  REFERENCES  `class4_name` (`c4_at3`) ON DELETE CASCADE ON UPDATE CASCADE,ADD CONSTRAINT `FK_assoc9_c1_at1` FOREIGN  KEY  (`c1_at1`)  REFERENCES  `class1_name` (`c1_at1`) ON DELETE CASCADE ON UPDATE CASCADE;ALTER TABLE `assoc8`ALTER TABLE `assoc3`ADD CONSTRAINT `FK_assoc3_c8_at1` FOREIGN  KEY  (`c8_at1`)  REFERENCES  `class8_name` (`c8_at1`) ON DELETE CASCADE ON UPDATE CASCADE,ADD CONSTRAINT `FK_assoc3_c3_at1` FOREIGN  KEY  (`c3_at1`)  REFERENCES  `class3_name` (`c3_at1`) ON DELETE CASCADE ON UPDATE CASCADE,ALTER TABLE `assoc6`ADD CONSTRAINT `FK_assoc6_c6_at2` FOREIGN  KEY  (`c6_at2`)  REFERENCES  `class6_name` (`c6_at2`) ON DELETE CASCADE ON UPDATE CASCADEADD CONSTRAINT `FK_assoc6_c1_at1` FOREIGN  KEY  (`c1_at1`)  REFERENCES  `class1_name` (`c1_at1`) ON DELETE CASCADE ON UPDATE CASCADE,ALTER TABLE `assoc5`ADD CONSTRAINT `FK_assoc5_c8_at1` FOREIGN  KEY  (`c8_at1`)  REFERENCES  `class8_name` (`c8_at1`) ON DELETE CASCADE ON UPDATE CASCADE,ADD CONSTRAINT `FK_assoc5_c6_at2` FOREIGN  KEY  (`c6_at2`)  REFERENCES  `class6_name` (`c6_at2`) ON DELETE CASCADE ON UPDATE CASCADE;ALTER TABLE `assoc2`ADD CONSTRAINT `FK_assoc2_c4_at3` FOREIGN  KEY  (`c4_at3`)  REFERENCES  `class4_name` (`c4_at3`) ON DELETE CASCADE ON UPDATE CASCADEADD CONSTRAINT `FK_assoc2_c2_at1` FOREIGN  KEY  (`c2_at1`)  REFERENCES  `class2_name` (`c2_at1`) ON DELETE CASCADE ON UPDATE CASCADE,ALTER TABLE `assoc10`ADD CONSTRAINT `FK_assoc10_c3_at1` FOREIGN  KEY  (`c3_at1`)  REFERENCES  `class3_name` (`c3_at1`) ON DELETE CASCADE ON UPDATE CASCADE,ADD CONSTRAINT `FK_assoc10_c2_at1` FOREIGN  KEY  (`c2_at1`)  REFERENCES  `class2_name` (`c2_at1`) ON DELETE CASCADE ON UPDATE CASCADE,ALTER TABLE `class4_name`ADD CONSTRAINT `FK_class4_name_c8_at1` FOREIGN  KEY  (`c8_at1`)  REFERENCES  `class8_name` (`c8_at1`) ON DELETE CASCADE ON UPDATE CASCADE,\n"
          ]
        }
      ],
      "source": [
        "target_raw =  Y\n",
        "context_raw = X\n",
        "print(context_raw[-1])"
      ]
    },
    {
      "cell_type": "code",
      "execution_count": 9,
      "metadata": {
        "colab": {
          "base_uri": "https://localhost:8080/"
        },
        "id": "lH_dPY8TRp3c",
        "outputId": "7efc6132-b38a-4a85-f153-5fe9b4639809"
      },
      "outputs": [
        {
          "output_type": "stream",
          "name": "stdout",
          "text": [
            "P, module OM_name 0;open Declaration one sig class1_name  extends  ClassattrSet = c1_at1+c1_at2id=c1_at1no parentisAbstract = No}one sig c1_at1  extends  c1_at1_typeone sig c1_at2  extends  c1_at2_typeone sig class2_name  extends  ClassattrSet = c2_at1+c2_at2id=c2_at1no parentisAbstract = No}one sig c2_at1  extends  c2_at1_typeone sig c2_at1  extends  c2_at2_typeone sig class3_name  extends  ClassattrSet = c3_at1+c3_at2+c3_at3+c3_at4c3_at5+c3_at6id=c3_at1no parentisAbstract = No}one sig c3_at1  extends  c3_at1_typeone sig c3_at2  extends  c3_at2_typeone sig c3_at3  extends  c3_at3_typeone sig c3_at4  extends  c3_at4_typeone sig c3_at5  extends  c3_at5_typeone sig c3_at6  extends  c3_at6_typeone sig class4_name  extends  ClassattrSet = c4_at1+c4_at2+c4_at3+c4_at4id=c4_at3no parentisAbstract = No}one sig c4_at1  extends  c4_at1_typeone sig c4_at2  extends  c4_at2_typeone sig c4_at3  extends  c4_at3_typeone sig c4_at4  extends  c4_at4_typeone sig class5_name  extends  ClassattrSet = c5_at1one parent parent in class2_nameid = c2_at1isAbstract = No}one sig c5_at1  extends  c5_at1_typeone sig class6_name  extends  ClassattrSet = c6_at1_0+c6_at2+c6_at3+c6_at4id=c6_at2no parentisAbstract = No}one sig c6_at1_0  extends  c6_at1_typeone sig c6_at2  extends  c6_at2_typeone sig c6_at3  extends  c6_at3_typeone sig c6_at4  extends  c6_at4_typeone sig class7_name  extends  ClassattrSet = c7_at1one parent parent in class2_nameid = c2_at1isAbstract = No}one sig c7_at1  extends  c7_at1_typeone sig class8_name  extends  ClassattrSet = c8_at1+c8_at2+c2_at2+c6_at3id=c8_at1no parentisAbstract = No}one sig c8_at1  extends  c8_at1_typeone sig c8_at2  extends  c8_at2_typeone sig assoc1  extends   Association src = class8_namedst= class2_name src_multiplicity  = src_mlpc dst_multiplicity  = dst_mlpc}one sig assoc2  extends   Association src = class2_namedst= class4_name src_multiplicity  = src_mlpc2 dst_multiplicity  = dst_mlpc}one sig assoc3  extends   Association src = class8_namedst= class3_name src_multiplicity  = src_mlpc dst_multiplicity  = dst_mlpc}one sig assoc4  extends   Association src = class8_namedst= class4_name src_multiplicity  = src_mlpc dst_multiplicity  = dst_mlpc}one sig assoc5  extends   Association src = class8_namedst= class6_name src_multiplicity  = src_mlpc dst_multiplicity  = dst_mlpc2}one sig assoc6  extends   Association src = class6_namedst= Payment src_multiplicity  = src_mlpc dst_multiplicity  = dst_mlpc2}one sig assoc8  extends   Association src = class6_namedst= class4_name src_multiplicity  = src_mlpc dst_multiplicity  = dst_mlpc}one sig assoc11  extends   Association src = class1_namedst= class3_name src_multiplicity  = src_mlpc dst_multiplicity  = dst_mlpc}one sig assoc9  extends   Association src = class1_namedst= class4_name src_multiplicity  = src_mlpc dst_multiplicity  = dst_mlpc}one sig assoc10  extends   Association src = class2_namedst= class3_name src_multiplicity  = src_mlpc dst_multiplicity  = dst_mlpc2}pred showrun show,Mapping Strategy for class1_name : map_str2Mapping Strategy for class3_name : map_str2Mapping Strategy for class8_name : map_str2Mapping Strategy for class5_name : map_str3Mapping Strategy for class7_name : map_str3Association Strategy for assoc1 : assoc_str2Association Strategy for assoc2 : assoc_str2Association Strategy for assoc3 : assoc_str2Association Strategy for assoc4 : assoc_str2Association Strategy for assoc5 : assoc_str2Association Strategy for assoc6 : assoc_str2Association Strategy for assoc8 : assoc_str2Association Strategy for assoc11 : assoc_str2Association Strategy for assoc9 : assoc_str2Association Strategy for assoc10 : assoc_str2,USE OM_name:0;CREATE TABLE `class5_name` (`c2_at1` c2_at1_type  NOT  NULL, KEY  `FK_class5_name_c2_at1_idx` (`c2_at1`),PRIMARY  KEY  (`c2_at1`)CREATE TABLE `class6_name` (`c6_at4` c6_at4_type(64),`c6_at1_0` c6_at1_type(64),`c6_at2` c6_at2_type  NOT  NULL,PRIMARY  KEY  (`c6_at2`)CREATE TABLE `class8_name` (`c8_at2` c8_at2_type(64),`c6_at3` c6_at3_type(64),`c8_at1` c8_at1_type  NOT  NULL,PRIMARY  KEY  (`c8_at1`)`c3_at1` c3_at1_type  NOT  NULL,`c1_at1` c1_at1_type  NOT  NULL,PRIMARY  KEY  (`c3_at1`,`c1_at1`)CREATE TABLE `class2_name` (`c2_at2` c2_at2_type(64),`c8_at1` c8_at1_type,`c2_at1` c2_at1_type  NOT  NULL, KEY  `FK_class2_name_c8_at1_idx` (`c8_at1`),PRIMARY  KEY  (`c2_at1`)CREATE TABLE `assoc9` (`c4_at3` c4_at3_type  NOT  NULL,`c1_at1` c1_at1_type  NOT  NULL, KEY  `FK_assoc9_c4_at3_idx` (`c4_at3`), KEY  `FK_assoc9_c1_at1_idx` (`c1_at1`),PRIMARY  KEY  (`c4_at3`,`c1_at1`)CREATE TABLE `assoc8` (`c6_at2` c6_at2_type  NOT  NULL,`c4_at3` c4_at3_type  NOT  NULL,PRIMARY  KEY  (`c6_at2`,`c4_at3`)CREATE TABLE `class3_name` (`c3_at6` c3_at6_type,`c3_at5` c3_at5_type,`c3_at4` c3_at4_type,`c3_at3` c3_at3_type,`c3_at2` c3_at2_type,`c3_at1` c3_at1_type  NOT  NULL,PRIMARY  KEY  (`c3_at1`)CREATE TABLE `assoc3` (`c8_at1` c8_at1_type  NOT  NULL,`c3_at1` c3_at1_type  NOT  NULL, KEY  `FK_assoc3_c8_at1_idx` (`c8_at1`), KEY  `FK_assoc3_c3_at1_idx` (`c3_at1`),PRIMARY  KEY  (`c8_at1`,`c3_at1`)CREATE TABLE `class7_name` (`c7_at1` c7_at1_type(64),`c2_at2` c2_at2_type(64),`c2_at1` c2_at1_type  NOT  NULL,PRIMARY  KEY  (`c2_at1`)CREATE TABLE `class1_name` (`c1_at2` c1_at2_type(64),`c1_at1` c1_at1_type  NOT  NULL,PRIMARY  KEY  (`c1_at1`)CREATE TABLE `assoc6` (`c6_at2` c6_at2_type  NOT  NULL,`c1_at1` c1_at1_type  NOT  NULL, KEY  `FK_assoc6_c6_at2_idx` (`c6_at2`), KEY  `FK_assoc6_c1_at1_idx` (`c1_at1`),PRIMARY  KEY  (`c6_at2`,`c1_at1`)Association Strategy for assoc5 : assoc_str2`c8_at1` c8_at1_type  NOT  NULL,`c6_at2` c6_at2_type  NOT  NULL, KEY  `FK_assoc5_c8_at1_idx` (`c8_at1`), KEY  `FK_assoc5_c6_at2_idx` (`c6_at2`),PRIMARY  KEY  (`c8_at1`,`c6_at2`)CREATE TABLE `assoc2` (`c4_at3` c4_at3_type  NOT  NULL,`c2_at1` c2_at1_type  NOT  NULL, KEY  `FK_assoc2_c4_at3_idx` (`c4_at3`), KEY  `FK_assoc2_c2_at1_idx` (`c2_at1`),PRIMARY  KEY  (`c4_at3`,`c2_at1`)CREATE TABLE `assoc10` (`c3_at1` c3_at1_type  NOT  NULL,`c2_at1` c2_at1_type  NOT  NULL, KEY  `FK_assoc10_c3_at1_idx` (`c3_at1`), KEY  `FK_assoc10_c2_at1_idx` (`c2_at1`),PRIMARY  KEY  (`c3_at1`,`c2_at1`)CREATE TABLE `class4_name` (`c4_at4` c4_at4_type(64),`c4_at2` c4_at2_type(64),`c4_at1` c4_at1_type(64),`c8_at1` c8_at1_type,`c4_at3` c4_at3_type  NOT  NULL, KEY  `FK_class4_name_c8_at1_idx` (`c8_at1`),PRIMARY  KEY  (`c4_at3`)ALTER TABLE `class5_name`ADD CONSTRAINT `FK_class5_name_c2_at1` FOREIGN  KEY  (`c2_at1`)  REFERENCES  `class2_name` (`c2_at1`) ON DELETE CASCADE ON UPDATE CASCADE,ALTER TABLE `class2_name`ADD CONSTRAINT `FK_class2_name_c8_at1` FOREIGN  KEY  (`c8_at1`)  REFERENCES  `class8_name` (`c8_at1`) ON DELETE CASCADE ON UPDATE CASCADE,ALTER TABLE `assoc9`ADD CONSTRAINT `FK_assoc9_c4_at3` FOREIGN  KEY  (`c4_at3`)  REFERENCES  `class4_name` (`c4_at3`) ON DELETE CASCADE ON UPDATE CASCADE,ADD CONSTRAINT `FK_assoc9_c1_at1` FOREIGN  KEY  (`c1_at1`)  REFERENCES  `class1_name` (`c1_at1`) ON DELETE CASCADE ON UPDATE CASCADE;ALTER TABLE `assoc8`ALTER TABLE `assoc3`ADD CONSTRAINT `FK_assoc3_c8_at1` FOREIGN  KEY  (`c8_at1`)  REFERENCES  `class8_name` (`c8_at1`) ON DELETE CASCADE ON UPDATE CASCADE,ADD CONSTRAINT `FK_assoc3_c3_at1` FOREIGN  KEY  (`c3_at1`)  REFERENCES  `class3_name` (`c3_at1`) ON DELETE CASCADE ON UPDATE CASCADE,ALTER TABLE `assoc6`ADD CONSTRAINT `FK_assoc6_c6_at2` FOREIGN  KEY  (`c6_at2`)  REFERENCES  `class6_name` (`c6_at2`) ON DELETE CASCADE ON UPDATE CASCADEADD CONSTRAINT `FK_assoc6_c1_at1` FOREIGN  KEY  (`c1_at1`)  REFERENCES  `class1_name` (`c1_at1`) ON DELETE CASCADE ON UPDATE CASCADE,ALTER TABLE `assoc5`ADD CONSTRAINT `FK_assoc5_c8_at1` FOREIGN  KEY  (`c8_at1`)  REFERENCES  `class8_name` (`c8_at1`) ON DELETE CASCADE ON UPDATE CASCADE,ADD CONSTRAINT `FK_assoc5_c6_at2` FOREIGN  KEY  (`c6_at2`)  REFERENCES  `class6_name` (`c6_at2`) ON DELETE CASCADE ON UPDATE CASCADE;ALTER TABLE `assoc2`ADD CONSTRAINT `FK_assoc2_c4_at3` FOREIGN  KEY  (`c4_at3`)  REFERENCES  `class4_name` (`c4_at3`) ON DELETE CASCADE ON UPDATE CASCADEADD CONSTRAINT `FK_assoc2_c2_at1` FOREIGN  KEY  (`c2_at1`)  REFERENCES  `class2_name` (`c2_at1`) ON DELETE CASCADE ON UPDATE CASCADE,ALTER TABLE `assoc10`ADD CONSTRAINT `FK_assoc10_c3_at1` FOREIGN  KEY  (`c3_at1`)  REFERENCES  `class3_name` (`c3_at1`) ON DELETE CASCADE ON UPDATE CASCADE,ADD CONSTRAINT `FK_assoc10_c2_at1` FOREIGN  KEY  (`c2_at1`)  REFERENCES  `class2_name` (`c2_at1`) ON DELETE CASCADE ON UPDATE CASCADE,ALTER TABLE `class4_name`ADD CONSTRAINT `FK_class4_name_c8_at1` FOREIGN  KEY  (`c8_at1`)  REFERENCES  `class8_name` (`c8_at1`) ON DELETE CASCADE ON UPDATE CASCADE\n"
          ]
        }
      ],
      "source": [
        "print(target_raw[-1])"
      ]
    },
    {
      "cell_type": "markdown",
      "metadata": {
        "id": "rgCLkfv5uO3d"
      },
      "source": [
        "### Create a tf.data dataset"
      ]
    },
    {
      "cell_type": "markdown",
      "metadata": {
        "id": "PfVWx3WaI5Df"
      },
      "source": [
        "From these arrays of strings you can create a `tf.data.Dataset` of strings that shuffles and batches them efficiently:"
      ]
    },
    {
      "cell_type": "code",
      "execution_count": 10,
      "metadata": {
        "id": "3rZFgz69nMPa"
      },
      "outputs": [],
      "source": [
        "BUFFER_SIZE = len(context_raw)\n",
        "BATCH_SIZE = 1\n",
        "\n",
        "is_train = np.random.uniform(size=(len(target_raw),)) < 0.8\n",
        "\n",
        "train_raw = (\n",
        "    tf.data.Dataset\n",
        "    .from_tensor_slices((context_raw[is_train], target_raw[is_train]))\n",
        "    .shuffle(BUFFER_SIZE)\n",
        "    .batch(BATCH_SIZE))\n",
        "val_raw = (\n",
        "    tf.data.Dataset\n",
        "    .from_tensor_slices((context_raw[~is_train], target_raw[~is_train]))\n",
        "    .shuffle(BUFFER_SIZE)\n",
        "    .batch(BATCH_SIZE))"
      ]
    },
    {
      "cell_type": "code",
      "execution_count": 11,
      "metadata": {
        "colab": {
          "base_uri": "https://localhost:8080/"
        },
        "id": "qc6-NK1GtWQt",
        "outputId": "31a385f6-492b-4ce9-8ac9-65ed1a087cd9"
      },
      "outputs": [
        {
          "output_type": "stream",
          "name": "stdout",
          "text": [
            "tf.Tensor([b'module OM_name 0;open Declaration one sig class1_name  extends  ClassattrSet = c1_at1+c1_at2id=c1_at1no parentisAbstract = No}one sig c1_at1  extends  c1_at1_typeone sig c1_at2  extends  c1_at2_typeone sig class2_name  extends  ClassattrSet = c2_at1+c2_at2id=c2_at1no parentisAbstract = No}one sig c2_at1  extends  c2_at1_typeone sig c2_at1  extends  c2_at2_typeone sig class3_name  extends  ClassattrSet = c3_at1+c3_at2+c3_at3+c3_at4c3_at5+c3_at6id=c3_at1no parentisAbstract = No}one sig c3_at1  extends  c3_at1_typeone sig c3_at2  extends  c3_at2_typeone sig c3_at3  extends  c3_at3_typeone sig c3_at4  extends  c3_at4_typeone sig c3_at5  extends  c3_at5_typeone sig c3_at6  extends  c3_at6_typeone sig class4_name  extends  ClassattrSet = c4_at1+c4_at2+c4_at3+c4_at4id=c4_at3no parentisAbstract = No}one sig c4_at1  extends  c4_at1_typeone sig c4_at2  extends  c4_at2_typeone sig c4_at3  extends  c4_at3_typeone sig c4_at4  extends  c4_at4_typeone sig class5_name  extends  ClassattrSet = c5_at1one parent parent in class2_nameid = c2_at1isAbstract = No}one sig c5_at1  extends  c5_at1_typeone sig class6_name  extends  ClassattrSet = c6_at1_0+c6_at2+c6_at3+c6_at4id=c6_at2no parentisAbstract = No}one sig c6_at1_0  extends  c6_at1_typeone sig c6_at2  extends  c6_at2_typeone sig c6_at3  extends  c6_at3_typeone sig c6_at4  extends  c6_at4_typeone sig class7_name  extends  ClassattrSet = c7_at1one parent parent in class2_nameid = c2_at1isAbstract = No}one sig c7_at1  extends  c7_at1_typeone sig class8_name  extends  ClassattrSet = c8_at1+c8_at2+c2_at2+c6_at3id=c8_at1no parentisAbstract = No}one sig c8_at1  extends  c8_at1_typeone sig c8_at2  extends  c8_at2_typeone sig assoc1  extends   Association src = class8_namedst= class2_name src_multiplicity  = src_mlpc dst_multiplicity  = dst_mlpc}one sig assoc2  extends   Association src = class2_namedst= class4_name src_multiplicity  = src_mlpc2 dst_multiplicity  = dst_mlpc}one sig assoc3  extends   Association src = class8_namedst= class3_name src_multiplicity  = src_mlpc dst_multiplicity  = dst_mlpc}one sig assoc4  extends   Association src = class8_namedst= class4_name src_multiplicity  = src_mlpc dst_multiplicity  = dst_mlpc}one sig assoc5  extends   Association src = class8_namedst= class6_name src_multiplicity  = src_mlpc dst_multiplicity  = dst_mlpc2}one sig assoc6  extends   Association src = class6_namedst= class1_name src_multiplicity  = src_mlpc dst_multiplicity  = dst_mlpc2}one sig assoc7  extends   Association src = class6_namedst= class4_name src_multiplicity  = src_mlpc dst_multiplicity  = dst_mlpc}one sig assoc8  extends   Association src = class1_namedst= class3_name src_multiplicity  = src_mlpc dst_multiplicity  = dst_mlpc}one sig assoc9  extends   Association src = class1_namedst= class4_name src_multiplicity  = src_mlpc dst_multiplicity  = dst_mlpc}one sig assoc10  extends   Association src = class2_namedst= class3_name src_multiplicity  = src_mlpc dst_multiplicity  = dst_mlpc2}pred showrun show,Mapping Strategy for class1_name : map_str2Mapping Strategy for class6_name : map_str2Mapping Strategy for class5_name : map_str3Mapping Strategy for class7_name : map_str3Association Strategy for assoc3 : assoc_str1Association Strategy for assoc4 : assoc_str1Association Strategy for assoc7 : assoc_str1Association Strategy for assoc8 : assoc_str1Association Strategy for assoc5 : assoc_str2Association Strategy for assoc6 : assoc_str2Association Strategy for assoc9 : assoc_str2Association Strategy for assoc10 : assoc_str2,USE OM_name:0;CREATE TABLE `assoc2` (`c4_at3` c4_at3_type  NOT  NULL,`c2_at1` c2_at1_type  NOT  NULL, KEY  `FK_assoc2_c4_at3_idx` (`c4_at3`), KEY  `FK_assoc2_c2_at1_idx` (`c2_at1`),PRIMARY  KEY  (`c4_at3`,`c2_at1`)CREATE TABLE `assoc1` (`c8_at1` c8_at1_type  NOT  NULL,`c2_at1` c2_at1_type  NOT  NULL, KEY  `FK_assoc1_c8_at1_idx` (`c8_at1`), KEY  `FK_assoc1_c2_at1_idx` (`c2_at1`),PRIMARY  KEY  (`c8_at1`,`c2_at1`)CREATE TABLE `class3_name` (`c8_at1` c8_at1_type,`c3_at6` c3_at6_type,`c3_at5` c3_at5_type,`c3_at4` c3_at4_type,`c3_at3` c3_at3_type,`c3_at2` c3_at2_type,`c3_at1` c3_at1_type  NOT  NULL,`c1_at1` int, KEY  `FK_class3_name_c8_at1_idx` (`c8_at1`), KEY  `FK_class3_name_c1_at1_idx` (`c1_at1`),PRIMARY  KEY  (`c3_at1`)CREATE TABLE `class6_name` (`c6_at4` c6_at4_type(64),`c6_at1_0` c6_at1_type(64),`c6_at2` c6_at2_type  NOT  NULL,PRIMARY  KEY  (`c6_at2`)CREATE TABLE `class8_name` (`c8_at2` c8_at2_type(64),`c6_at3` c6_at3_type(64),`c2_at2` c2_at2_type(64),`c8_at1` c8_at1_type  NOT  NULL,PRIMARY  KEY  (`c8_at1`)CREATE TABLE `assoc10` (`c3_at1` c3_at1_type  NOT  NULL,`c2_at1` c2_at1_type  NOT  NULL, KEY  `FK_assoc10_c3_at1_idx` (`c3_at1`), KEY  `FK_assoc10_c2_at1_idx` (`c2_at1`),PRIMARY  KEY  (`c3_at1`,`c2_at1`)CREATE TABLE `class7_name` (`c7_at1` c7_at1_type(64),`c2_at1` c2_at1_type  NOT  NULL, KEY  `FK_class7_name_c2_at1_idx` (`c2_at1`),PRIMARY  KEY  (`c2_at1`)CREATE TABLE `class2_name` (`c2_at1` c2_at1_type  NOT  NULL,PRIMARY  KEY  (`c2_at1`)CREATE TABLE `class1_name` (`c1_at2` c1_at2_type(64),`c1_at1` c1_at1_type  NOT  NULL,PRIMARY  KEY  (`c1_at1`)CREATE TABLE `assoc9` (`c4_at3` c4_at3_type  NOT  NULL,`c1_at1` c1_at1_type  NOT  NULL, KEY  `FK_assoc9_c4_at3_idx` (`c4_at3`), KEY  `FK_assoc9_c1_at1_idx` (`c1_at1`),PRIMARY  KEY  (`c4_at3`,`c1_at1`)CREATE TABLE `assoc6` (`c6_at2` c6_at2_type  NOT  NULL,`c1_at1` c1_at1_type  NOT  NULL, KEY  `FK_assoc6_c6_at2_idx` (`c6_at2`), KEY  `FK_assoc6_c1_at1_idx` (`c1_at1`),PRIMARY  KEY  (`c6_at2`,`c1_at1`)CREATE TABLE `class4_name` (`c4_at4` c4_at4_type(64),`c4_at2` c4_at2_type(64),`c4_at1` c4_at1_type(64),`c8_at1` c8_at1_type,`c4_at3` c4_at3_type  NOT  NULL, KEY  `FK_class4_name_c8_at1_idx` (`c8_at1`),PRIMARY  KEY  (`c4_at3`)CREATE TABLE `class5_name` (`c2_at2` c2_at2_type(64),`c2_at1` c2_at1_type  NOT  NULL,PRIMARY  KEY  (`c2_at1`)CREATE TABLE `assoc7` (`c6_at2` c6_at2_type  NOT  NULL,`c4_at3` c4_at3_type  NOT  NULL, KEY  `FK_assoc7_c6_at2_idx` (`c6_at2`), KEY  `FK_assoc7_c4_at3_idx` (`c4_at3`),PRIMARY  KEY  (`c6_at2`,`c4_at3`)Association Strategy for assoc5 : assoc_str2`c8_at1` c8_at1_type  NOT  NULL,`c6_at2` c6_at2_type  NOT  NULL, KEY  `FK_assoc5_c8_at1_idx` (`c8_at1`), KEY  `FK_assoc5_c6_at2_idx` (`c6_at2`),PRIMARY  KEY  (`c8_at1`,`c6_at2`)ALTER TABLE `assoc2`ADD CONSTRAINT `FK_assoc2_c4_at3` FOREIGN  KEY  (`c4_at3`)  REFERENCES  `class4_name` (`c4_at3`) ON DELETE CASCADE ON UPDATE CASCADEADD CONSTRAINT `FK_assoc2_c2_at1` FOREIGN  KEY  (`c2_at1`)  REFERENCES  `class2_name` (`c2_at1`) ON DELETE CASCADE ON UPDATE CASCADE,ALTER TABLE `assoc1`ADD CONSTRAINT `FK_assoc1_c8_at1` FOREIGN  KEY  (`c8_at1`)  REFERENCES  `class8_name` (`c8_at1`) ON DELETE CASCADE ON UPDATE CASCADE,ALTER TABLE `class3_name`ADD CONSTRAINT `FK_class3_name_c8_at1` FOREIGN  KEY  (`c8_at1`)  REFERENCES  `class8_name` (`c8_at1`) ON DELETE CASCADE ON UPDATE CASCADE,ADD CONSTRAINT `FK_class3_name_c1_at1` FOREIGN  KEY  (`c1_at1`)  REFERENCES  `class1_name` (`c1_at1`) ON DELETE CASCADE ON UPDATE CASCADE,ALTER TABLE `assoc10`ADD CONSTRAINT `FK_assoc10_c3_at1` FOREIGN  KEY  (`c3_at1`)  REFERENCES  `class3_name` (`c3_at1`) ON DELETE CASCADE ON UPDATE CASCADE,ADD CONSTRAINT `FK_assoc10_c2_at1` FOREIGN  KEY  (`c2_at1`)  REFERENCES  `class2_name` (`c2_at1`) ON DELETE CASCADE ON UPDATE CASCADE,ALTER TABLE `class7_name`ADD CONSTRAINT `FK_class7_name_c2_at1` FOREIGN  KEY  (`c2_at1`)  REFERENCES  `class2_name` (`c2_at1`) ON DELETE CASCADE ON UPDATE CASCADE,ALTER TABLE `assoc9`ADD CONSTRAINT `FK_assoc9_c4_at3` FOREIGN  KEY  (`c4_at3`)  REFERENCES  `class4_name` (`c4_at3`) ON DELETE CASCADE ON UPDATE CASCADE,ADD CONSTRAINT `FK_assoc9_c1_at1` FOREIGN  KEY  (`c1_at1`)  REFERENCES  `class1_name` (`c1_at1`) ON DELETE CASCADE ON UPDATE CASCADE,ALTER TABLE `assoc6`ADD CONSTRAINT `FK_assoc6_c6_at2` FOREIGN  KEY  (`c6_at2`)  REFERENCES  `class6_name` (`c6_at2`) ON DELETE CASCADE ON UPDATE CASCADEADD CONSTRAINT `FK_assoc6_c1_at1` FOREIGN  KEY  (`c1_at1`)  REFERENCES  `class1_name` (`c1_at1`) ON DELETE CASCADE ON UPDATE CASCADE,ALTER TABLE `class4_name`ADD CONSTRAINT `FK_class4_name_c8_at1` FOREIGN  KEY  (`c8_at1`)  REFERENCES  `class8_name` (`c8_at1`) ON DELETE CASCADE ON UPDATE CASCADE,ALTER TABLE `assoc7`ADD CONSTRAINT `FK_assoc7_c6_at2` FOREIGN  KEY  (`c6_at2`)  REFERENCES  `class6_name` (`c6_at2`) ON DELETE CASCADE ON UPDATE CASCADE,ADD CONSTRAINT `FK_assoc7_c4_at3` FOREIGN  KEY  (`c4_at3`)  REFERENCES  `class4_name` (`c4_at3`) ON DELETE CASCADE ON UPDATE CASCADE,ALTER TABLE `assoc5`ADD CONSTRAINT `FK_assoc5_c8_at1` FOREIGN  KEY  (`c8_at1`)  REFERENCES  `class8_name` (`c8_at1`) ON DELETE CASCADE ON UPDATE CASCADE,ADD CONSTRAINT `FK_assoc5_c6_at2` FOREIGN  KEY  (`c6_at2`)  REFERENCES  `class6_name` (`c6_at2`) ON DELETE CASCADE ON UPDATE CASCADE,'], shape=(1,), dtype=string)\n",
            "\n",
            "tf.Tensor([b'NP, module OM_name 0;open Declaration one sig class1_name  extends  ClassattrSet = c1_at1+c1_at2id=c1_at1no parentisAbstract = No}one sig c1_at1  extends  c1_at1_typeone sig c1_at2  extends  c1_at2_typeone sig class2_name  extends  ClassattrSet = c2_at1+c2_at2id=c2_at1no parentisAbstract = No}one sig c2_at1  extends  c2_at1_typeone sig c2_at1  extends  c2_at2_typeone sig class3_name  extends  ClassattrSet = c3_at1+c3_at2+c3_at3+c3_at4c3_at5+c3_at6id=c3_at1no parentisAbstract = No}one sig c3_at1  extends  c3_at1_typeone sig c3_at2  extends  c3_at2_typeone sig c3_at3  extends  c3_at3_typeone sig c3_at4  extends  c3_at4_typeone sig c3_at5  extends  c3_at5_typeone sig c3_at6  extends  c3_at6_typeone sig class4_name  extends  ClassattrSet = c4_at1+c4_at2+c4_at3+c4_at4id=c4_at3no parentisAbstract = No}one sig c4_at1  extends  c4_at1_typeone sig c4_at2  extends  c4_at2_typeone sig c4_at3  extends  c4_at3_typeone sig c4_at4  extends  c4_at4_typeone sig class5_name  extends  ClassattrSet = c5_at1one parent parent in class2_nameid = c2_at1isAbstract = No}one sig c5_at1  extends  c5_at1_typeone sig class6_name  extends  ClassattrSet = c6_at1_0+c6_at2+c6_at3+c6_at4id=c6_at2no parentisAbstract = No}one sig c6_at1_0  extends  c6_at1_typeone sig c6_at2  extends  c6_at2_typeone sig c6_at3  extends  c6_at3_typeone sig c6_at4  extends  c6_at4_typeone sig class7_name  extends  ClassattrSet = c7_at1one parent parent in class2_nameid = c2_at1isAbstract = No}one sig c7_at1  extends  c7_at1_typeone sig class8_name  extends  ClassattrSet = c8_at1+c8_at2+c2_at2+c6_at3id=c8_at1no parentisAbstract = No}one sig c8_at1  extends  c8_at1_typeone sig c8_at2  extends  c8_at2_typeone sig assoc1  extends   Association src = class8_namedst= class2_name src_multiplicity  = src_mlpc dst_multiplicity  = dst_mlpc}one sig assoc2  extends   Association src = class2_namedst= class4_name src_multiplicity  = src_mlpc2 dst_multiplicity  = dst_mlpc}one sig assoc3  extends   Association src = class8_namedst= class3_name src_multiplicity  = src_mlpc dst_multiplicity  = dst_mlpc}one sig assoc4  extends   Association src = class8_namedst= class4_name src_multiplicity  = src_mlpc dst_multiplicity  = dst_mlpc}one sig assoc5  extends   Association src = class8_namedst= class6_name src_multiplicity  = src_mlpc dst_multiplicity  = dst_mlpc2}one sig assoc6  extends   Association src = class6_namedst= class1_name src_multiplicity  = src_mlpc dst_multiplicity  = dst_mlpc2}one sig assoc7  extends   Association src = class6_namedst= class4_name src_multiplicity  = src_mlpc dst_multiplicity  = dst_mlpc}one sig assoc8  extends   Association src = class1_namedst= class3_name src_multiplicity  = src_mlpc dst_multiplicity  = dst_mlpc}one sig assoc9  extends   Association src = class1_namedst= class4_name src_multiplicity  = src_mlpc dst_multiplicity  = dst_mlpc}one sig assoc10  extends   Association src = class2_namedst= class3_name src_multiplicity  = src_mlpc dst_multiplicity  = dst_mlpc2}pred showrun show,Mapping Strategy for class1_name : map_str2Mapping Strategy for class6_name : map_str2Mapping Strategy for class5_name : map_str3Mapping Strategy for class7_name : map_str3Association Strategy for assoc3 : assoc_str1Association Strategy for assoc4 : assoc_str1Association Strategy for assoc7 : assoc_str1Association Strategy for assoc8 : assoc_str1Association Strategy for assoc5 : assoc_str2Association Strategy for assoc6 : assoc_str2Association Strategy for assoc9 : assoc_str2Association Strategy for assoc10 : assoc_str2,USE OM_name:0;CREATE TABLE `assoc2` (`c4_at3` c4_at3_type  NOT  NULL,`c2_at1` c2_at1_type  NOT  NULL, KEY  `FK_assoc2_c4_at3_idx` (`c4_at3`), KEY  `FK_assoc2_c2_at1_idx` (`c2_at1`),PRIMARY  KEY  (`c4_at3`,`c2_at1`)CREATE TABLE `assoc1` (`c8_at1` c8_at1_type  NOT  NULL,`c2_at1` c2_at1_type  NOT  NULL, KEY  `FK_assoc1_c8_at1_idx` (`c8_at1`), KEY  `FK_assoc1_c2_at1_idx` (`c2_at1`),PRIMARY  KEY  (`c8_at1`,`c2_at1`)CREATE TABLE `class3_name` (`c8_at1` c8_at1_type,`c3_at6` c3_at6_type,`c3_at5` c3_at5_type,`c3_at4` c3_at4_type,`c3_at3` c3_at3_type,`c3_at2` c3_at2_type,`c3_at1` c3_at1_type  NOT  NULL,`c1_at1` int, KEY  `FK_class3_name_c8_at1_idx` (`c8_at1`), KEY  `FK_class3_name_c1_at1_idx` (`c1_at1`),PRIMARY  KEY  (`c3_at1`)CREATE TABLE `class6_name` (`c6_at4` c6_at4_type(64),`c6_at1_0` c6_at1_type(64),`c6_at2` c6_at2_type  NOT  NULL,PRIMARY  KEY  (`c6_at2`)CREATE TABLE `class8_name` (`c8_at2` c8_at2_type(64),`c6_at3` c6_at3_type(64),`c2_at2` c2_at2_type(64),`c8_at1` c8_at1_type  NOT  NULL,PRIMARY  KEY  (`c8_at1`)CREATE TABLE `assoc10` (`c3_at1` c3_at1_type  NOT  NULL,`c2_at1` c2_at1_type  NOT  NULL, KEY  `FK_assoc10_c3_at1_idx` (`c3_at1`), KEY  `FK_assoc10_c2_at1_idx` (`c2_at1`),PRIMARY  KEY  (`c3_at1`,`c2_at1`)CREATE TABLE `class7_name` (`c7_at1` c7_at1_type(64),`c2_at1` c2_at1_type  NOT  NULL, KEY  `FK_class7_name_c2_at1_idx` (`c2_at1`),PRIMARY  KEY  (`c2_at1`)CREATE TABLE `class2_name` (`c2_at1` c2_at1_type  NOT  NULL,PRIMARY  KEY  (`c2_at1`)CREATE TABLE `class1_name` (`c1_at2` c1_at2_type(64),`c1_at1` c1_at1_type  NOT  NULL,PRIMARY  KEY  (`c1_at1`)CREATE TABLE `assoc9` (`c4_at3` c4_at3_type  NOT  NULL,`c1_at1` c1_at1_type  NOT  NULL, KEY  `FK_assoc9_c4_at3_idx` (`c4_at3`), KEY  `FK_assoc9_c1_at1_idx` (`c1_at1`),PRIMARY  KEY  (`c4_at3`,`c1_at1`)CREATE TABLE `assoc6` (`c6_at2` c6_at2_type  NOT  NULL,`c1_at1` c1_at1_type  NOT  NULL, KEY  `FK_assoc6_c6_at2_idx` (`c6_at2`), KEY  `FK_assoc6_c1_at1_idx` (`c1_at1`),PRIMARY  KEY  (`c6_at2`,`c1_at1`)CREATE TABLE `class4_name` (`c4_at4` c4_at4_type(64),`c4_at2` c4_at2_type(64),`c4_at1` c4_at1_type(64),`c8_at1` c8_at1_type,`c4_at3` c4_at3_type  NOT  NULL, KEY  `FK_class4_name_c8_at1_idx` (`c8_at1`),PRIMARY  KEY  (`c4_at3`)CREATE TABLE `class5_name` (`c2_at2` c2_at2_type(64),`c2_at1` c2_at1_type  NOT  NULL,PRIMARY  KEY  (`c2_at1`)CREATE TABLE `assoc7` (`c6_at2` c6_at2_type  NOT  NULL,`c4_at3` c4_at3_type  NOT  NULL, KEY  `FK_assoc7_c6_at2_idx` (`c6_at2`), KEY  `FK_assoc7_c4_at3_idx` (`c4_at3`),PRIMARY  KEY  (`c6_at2`,`c4_at3`)Association Strategy for assoc5 : assoc_str2`c8_at1` c8_at1_type  NOT  NULL,`c6_at2` c6_at2_type  NOT  NULL, KEY  `FK_assoc5_c8_at1_idx` (`c8_at1`), KEY  `FK_assoc5_c6_at2_idx` (`c6_at2`),PRIMARY  KEY  (`c8_at1`,`c6_at2`)ALTER TABLE `assoc2`ADD CONSTRAINT `FK_assoc2_c4_at3` FOREIGN  KEY  (`c4_at3`)  REFERENCES  `class4_name` (`c4_at3`) ON DELETE CASCADE ON UPDATE CASCADEADD CONSTRAINT `FK_assoc2_c2_at1` FOREIGN  KEY  (`c2_at1`)  REFERENCES  `class2_name` (`c2_at1`) ON DELETE CASCADE ON UPDATE CASCADE,ALTER TABLE `assoc1`ADD CONSTRAINT `FK_assoc1_c8_at1` FOREIGN  KEY  (`c8_at1`)  REFERENCES  `class8_name` (`c8_at1`) ON DELETE CASCADE ON UPDATE CASCADE,ALTER TABLE `class3_name`ADD CONSTRAINT `FK_class3_name_c8_at1` FOREIGN  KEY  (`c8_at1`)  REFERENCES  `class8_name` (`c8_at1`) ON DELETE CASCADE ON UPDATE CASCADE,ADD CONSTRAINT `FK_class3_name_c1_at1` FOREIGN  KEY  (`c1_at1`)  REFERENCES  `class1_name` (`c1_at1`) ON DELETE CASCADE ON UPDATE CASCADE,ALTER TABLE `assoc10`ADD CONSTRAINT `FK_assoc10_c3_at1` FOREIGN  KEY  (`c3_at1`)  REFERENCES  `class3_name` (`c3_at1`) ON DELETE CASCADE ON UPDATE CASCADE,ADD CONSTRAINT `FK_assoc10_c2_at1` FOREIGN  KEY  (`c2_at1`)  REFERENCES  `class2_name` (`c2_at1`) ON DELETE CASCADE ON UPDATE CASCADE,ALTER TABLE `class7_name`ADD CONSTRAINT `FK_class7_name_c2_at1` FOREIGN  KEY  (`c2_at1`)  REFERENCES  `class2_name` (`c2_at1`) ON DELETE CASCADE ON UPDATE CASCADE,ALTER TABLE `assoc9`ADD CONSTRAINT `FK_assoc9_c4_at3` FOREIGN  KEY  (`c4_at3`)  REFERENCES  `class4_name` (`c4_at3`) ON DELETE CASCADE ON UPDATE CASCADE,ADD CONSTRAINT `FK_assoc9_c1_at1` FOREIGN  KEY  (`c1_at1`)  REFERENCES  `class1_name` (`c1_at1`) ON DELETE CASCADE ON UPDATE CASCADE;ALTER TABLE `assoc6`ADD CONSTRAINT `FK_assoc6_c6_at2` FOREIGN  KEY  (`c6_at2`)  REFERENCES  `class6_name` (`c6_at2`) ON DELETE CASCADE ON UPDATE CASCADEADD CONSTRAINT `FK_assoc6_c1_at1` FOREIGN  KEY  (`c1_at1`)  REFERENCES  `class1_name` (`c1_at1`) ON DELETE CASCADE ON UPDATE CASCADE,ALTER TABLE `class4_name`ADD CONSTRAINT `FK_class4_name_c8_at1` FOREIGN  KEY  (`c8_at1`)  REFERENCES  `class8_name` (`c8_at1`) ON DELETE CASCADE ON UPDATE CASCADE,ALTER TABLE `assoc7`ADD CONSTRAINT `FK_assoc7_c6_at2` FOREIGN  KEY  (`c6_at2`)  REFERENCES  `class6_name` (`c6_at2`) ON DELETE CASCADE ON UPDATE CASCADE,ADD CONSTRAINT `FK_assoc7_c4_at3` FOREIGN  KEY  (`c4_at3`)  REFERENCES  `class4_name` (`c4_at3`) ON DELETE CASCADE ON UPDATE CASCADE;ALTER TABLE `assoc5`ADD CONSTRAINT `FK_assoc5_c8_at1` FOREIGN  KEY  (`c8_at1`)  REFERENCES  `class8_name` (`c8_at1`) ON DELETE CASCADE ON UPDATE CASCADE,ADD CONSTRAINT `FK_assoc5_c6_at2` FOREIGN  KEY  (`c6_at2`)  REFERENCES  `class6_name` (`c6_at2`) ON DELETE CASCADE ON UPDATE CASCADE'], shape=(1,), dtype=string)\n"
          ]
        }
      ],
      "source": [
        "for example_context_strings, example_target_strings in train_raw.take(1):\n",
        "  print(example_context_strings[:5])\n",
        "  print()\n",
        "  print(example_target_strings[:5])\n",
        "  break"
      ]
    },
    {
      "cell_type": "markdown",
      "metadata": {
        "id": "zCoxLcuN3bwv"
      },
      "source": [
        "### Text preprocessing"
      ]
    },
    {
      "cell_type": "markdown",
      "metadata": {
        "id": "7kwdPcHvzz_a"
      },
      "source": [
        "One of the goals of this tutorial is to build a model that can be exported as a `tf.saved_model`. To make that exported model useful it should take `tf.string` inputs, and return `tf.string` outputs: All the text processing happens inside the model. Mainly using a `layers.TextVectorization` layer."
      ]
    },
    {
      "cell_type": "markdown",
      "metadata": {
        "id": "EOQ5n55X4uDB"
      },
      "source": [
        "#### Standardization"
      ]
    },
    {
      "cell_type": "markdown",
      "metadata": {
        "id": "upKhKAMK4zzI"
      },
      "source": [
        "The model is dealing with multilingual text with a limited vocabulary. So it will be important to standardize the input text.\n",
        "\n",
        "The first step is Unicode normalization to split accented characters and replace compatibility characters with their ASCII equivalents.\n",
        "\n",
        "The `tensorflow_text` package contains a unicode normalize operation, We may or may not decide to Use this for ORM data. I kept it in the experiment"
      ]
    },
    {
      "cell_type": "code",
      "execution_count": 12,
      "metadata": {
        "colab": {
          "base_uri": "https://localhost:8080/"
        },
        "id": "mD0e-DWGQ2Vo",
        "outputId": "18d16989-81e7-45f0-fbfb-301de25ecc51"
      },
      "outputs": [
        {
          "output_type": "stream",
          "name": "stdout",
          "text": [
            "b'moduleOM_nameopenDeclarationonesigclass1_nameextendsClassattrSet=c1_at1+c1_at2id=c1_at1noparentisAbstract=No}onesigc1_at1extendsc1_at1_typeonesigc1_at2extendsc1_at2_typeonesigclass2_nameextendsClassattrSet=c2_at1+c2_at2+c2_at3+c2_at4id=c2_at1noparentisAbstract=No}onesigc2_at1extendsc2_at1_typeonesigc2_at2extendsc2_at2_typeonesigc2_at3extendsc2_at3_typeonesigc2_at4extendsc2_at4_typeonesigclass3_nameextendsClassattrSet=c3_at1+c3_at2+c3_at3+c3_at4id=c3_at1noparentisAbstract=No}onesigc3_at1extendsc3_at1_typeonesigc3_at2extendsc3_at2_typeonesigc3_at3extendsc3_at3_typeonesigc3_at4extendsc3_at4_typeonesigclass4_nameextendsClassattrSet=c4_at1id=c4_at1noparentisAbstract=No}onesigc4_at1extendsc4_at1_typeonesigclass5_nameextendsClassattrSet=c5_at1+c5_at2+c5_at3+c5_at4id=c5_at1noparentisAbstract=No}onesigc5_at1extendsc5_at1_typeonesigc5_at2extendsc5_at2_typeonesigc5_at3extendsc5_at3_typeonesigc5_at4extendsc5_at4_typeonesigclass6_nameextendsClassattrSet=c6_at1+c6_at2+c6_at3+c6_at4id=c6_at1noparentisAbstract=No}onesigc6_at1extendsc6_at1_typeonesigc6_at2extendsc6_at2_typeonesigc6_at3extendsc6_at3_typeonesigc6_at4extendsc6_at4_typeonesigassoc1extendsAssociationsrc=class1_namedst=class5_namesrc_multiplicity=src_mlpcdst_multiplicity=dst_mlpc}onesigassoc2extendsAssociationsrc=class1_namedst=class5_namesrc_multiplicity=src_mlpcdst_multiplicity=dst_mlpc}onesigassoc3extendsAssociationsrc=class4_namedst=class5_namesrc_multiplicity=src_mlpcdst_multiplicity=dst_mlpc}onesigassoc4extendsAssociationsrc=class1_namedst=class6_namesrc_multiplicity=src_mlpcdst_multiplicity=dst_mlpc2}onesigassoc5extendsAssociationsrc=class1_namedst=class3_namesrc_multiplicity=src_mlpcdst_multiplicity=dst_mlpc2}predshowrunshowfor38,\\xe2\\x80\\x8bOM_name_Solution:0Table:class1_nameAttributec1_at1:c1_at1_typePrimaryKeyTable:class1_nameAttributec1_at2:c1_at2_typeTable:class2_nameAttributec2_at1:c1_at1_typePrimaryKeyTable:class2_nameAttributec2_at2:c2_at2_typeTable:class2_nameAttributec2_at3:c2_at3_typeTable:class3_nameAttributec3_at1:c3_at1_typePrimaryKeyTable:class3_nameAttributec3_at4:c3_at4_typeTable:class3_nameAttributec3_at2:c3_at2_typeTable:class4_nameAttributec4_at1:c4_at1_typePrimaryKeyTable:class5_nameAttributec5_at3:c5_at3_typeTable:class5_nameAttributec5_at4:c5_at4_typeTable:class6_nameAttributec6_at1:c6_at1_typePrimaryKeyTable:class6_nameAttributec6_at2:c6_at2_typeTable:class6_nameAttributec6_at3:c6_at3_typeTable:class6_nameAttributec6_at4:c6_at4_typeTable:class1_nameAttributec1_at1:c1_at1_typePrimaryKeyTable:class2_nameAttributec2_at1:c1_at1_typePrimaryKeyTable:class3_nameAttributec3_at1:c3_at1_typePrimaryKeyTable:class4_nameAttributec4_at1:c4_at1_typePrimaryKeyTable:class6_nameAttributec6_at1:c6_at1_typePrimaryKeyTableName:class1_nameTableName:class2_nameTableName:class3_nameTableName:class4_nameTableName:class5_nameTableName:class6_nameMappingStrategyofTableclass1_name:map_str2MappingStrategyofTableclass2_name:map_str2MappingStrategyofTableclass3_name:map_str2MappingStrategyofTableclass4_name:map_str2MappingStrategyofTableclass6_name:map_str2AssociationStrategyforassoc1:assoc_type1AssociationStrategyforassoc2:assoc_type1AssociationStrategyforassoc3:assoc_type2AssociationStrategyforassoc4:assoc_type2AssociationStrategyforassoc5:assoc_type2,USEOM_name0----CREATETABLE`assoc1`(`c5_at1`c5_at1_type`c1_at1`c1_at1_typeKEY`FK_assoc1_c5_at1_idx`(`c5_at1`)KEY`FK_assoc1_c1_at1_idx`(`c1_at1`)PRIMARYKEY(`c5_at1``c1_at1`));----CREATETABLE`assoc3``c5_at1`c5_at1_type`c4_at1`c4_at1_typeKEY`FK_assoc3_c5_at1_idx`(`c5_at1`)KEY`FK_assoc3_c4_at1_idx`(`c4_at1`)PRIMARYKEY(`c5_at1``c4_at1`));----CREATETABLE`class5_name`(`c5_at4`c5_at4_type(64)`c5_at3`c5_at3_type(64)`c1_at1`c1_at1_type`c5_at1`c5_at1_typePRIMARYKEY(`c5_at1`));----CREATETABLE`class3_name`(`c3_at3`c3_at3_type(64)`c3_at2`c3_at2_type(64)`c3_at4`c3_at4_type`c3_at1`c3_at1_typeNOTNULLPRIMARYKEY(`c3_at1`));----CREATETABLE`class2_name`(`c2_at3`c2_at3_type(64)`c2_at2`c2_at2_type(64)`c2_at4`c2_at4_type`c2_at1`c2_at1_typePRIMARYKEY(`c2_at1`));----CREATETABLE`class4_name`(`c4_at1`c4_at1_typePRIMARYKEY(`c4_at1`));----CREATETABLE`class1_name`(`c1_at2`c1_at2_type(64)`c1_at1`c1_at1_typePRIMARYKEY(`c1_at1`));----CREATETABLE`class6_name`(`c6_at4`c6_at4_type`c6_at3`c6_at3_type`c6_at2`c6_at2_type`c6_at1`c6_at1_typeNOTNULLPRIMARYKEY(`c6_at1`));----CREATETABLE`assoc2`(`c5_at1`c5_at1_type`c2_at1`c2_at1_typeKEY`FK_assoc2_c5_at1_idx`(`c5_at1`)KEY`FK_assoc2_c2_at1_idx`(`c2_at1`)PRIMARYKEY(`c5_at1``c2_at1`));----CREATETABLE`assoc5`(`c3_at1`c3_at1_typeNOTNULL`c2_at1`c2_at1_typeKEY`FK_assoc5_c3_at1_idx`(`c3_at1`)KEY`FK_assoc5_c2_at1_idx`(`c2_at1`)PRIMARYKEY(`c3_at1``c2_at1`));----CREATETABLE`assoc4`(`c6_at1`c6_at1_typeNOTNULL`c2_at1`c2_at1_typeKEY`FK_assoc4_c6_at1_idx`(`c6_at1`)KEY`FK_assoc4_c2_at1_idx`(`c2_at1`)PRIMARYKEY(`c6_at1``c2_at1`));ALTERTABLE`assoc1`ADDCONSTRAINT`FK_assoc1_c5_at1`FOREIGNKEY(`c5_at1`)REFERENCES`class5_name`(`c5_at1`)ONDELETECASCADEONUPDATECASCADEADDCONSTRAINT`FK_assoc1_c1_at1`FOREIGNKEY(`c1_at1`)REFERENCES`class1_name`(`c1_at1`)ONDELETECASCADEONUPDATECASCADE;ALTERTABLE`assoc3`ADDCONSTRAINT`FK_assoc3_c5_at1`FOREIGNKEY(`c5_at1`)REFERENCES`class5_name`(`c5_at1`)ONDELETECASCADEONUPDATECASCADEADDCONSTRAINT`FK_assoc3_c4_at1`FOREIGNKEY(`c4_at1`)REFERENCES`class4_name`(`c4_at1`)ONDELETECASCADEONUPDATECASCADE;ALTERTABLE`assoc2`ADDCONSTRAINT`FK_assoc2_c5_at1`FOREIGNKEY(`c5_at1`)REFERENCES`class5_name`(`c5_at1`)ONDELETECASCADEONUPDATECASCADEADDCONSTRAINT`FK_assoc2_c2_at1`FOREIGNKEY(`c2_at1`)REFERENCES`class2_name`(`c2_at1`)ONDELETECASCADEONUPDATECASCADEALTERTABLE`assoc5`ADDCONSTRAINT`FK_assoc5_c3_at1`FOREIGNKEY(`c3_at1`)REFERENCES`class3_name`(`c3_at1`)ONDELETECASCADEONUPDATECASCADEADDCONSTRAINT`FK_assoc5_c2_at1`FOREIGNKEY(`c2_at1`)REFERENCES`class2_name`(`c2_at1`)ONDELETECASCADEONUPDATECASCADE;ALTERTABLE`assoc4`ADDCONSTRAINT`FK_assoc4_c6_at1`FOREIGNKEY(`c6_at1`)REFERENCES`class6_name`(`c6_at1`)ONDELETECASCADEONUPDATECASCADEADDCONSTRAINT`FK_assoc4_c2_at1`FOREIGNKEY(`c2_at1`)REFERENCES`class2_name`(`c2_at1`)ONDELETECASCADEONUPDATECASCADE'\n",
            "b'moduleOM_nameopenDeclarationonesigclass1_nameextendsClassattrSet=c1_at1+c1_at2id=c1_at1noparentisAbstract=No}onesigc1_at1extendsc1_at1_typeonesigc1_at2extendsc1_at2_typeonesigclass2_nameextendsClassattrSet=c2_at1+c2_at2+c2_at3+c2_at4id=c2_at1noparentisAbstract=No}onesigc2_at1extendsc2_at1_typeonesigc2_at2extendsc2_at2_typeonesigc2_at3extendsc2_at3_typeonesigc2_at4extendsc2_at4_typeonesigclass3_nameextendsClassattrSet=c3_at1+c3_at2+c3_at3+c3_at4id=c3_at1noparentisAbstract=No}onesigc3_at1extendsc3_at1_typeonesigc3_at2extendsc3_at2_typeonesigc3_at3extendsc3_at3_typeonesigc3_at4extendsc3_at4_typeonesigclass4_nameextendsClassattrSet=c4_at1id=c4_at1noparentisAbstract=No}onesigc4_at1extendsc4_at1_typeonesigclass5_nameextendsClassattrSet=c5_at1+c5_at2+c5_at3+c5_at4id=c5_at1noparentisAbstract=No}onesigc5_at1extendsc5_at1_typeonesigc5_at2extendsc5_at2_typeonesigc5_at3extendsc5_at3_typeonesigc5_at4extendsc5_at4_typeonesigclass6_nameextendsClassattrSet=c6_at1+c6_at2+c6_at3+c6_at4id=c6_at1noparentisAbstract=No}onesigc6_at1extendsc6_at1_typeonesigc6_at2extendsc6_at2_typeonesigc6_at3extendsc6_at3_typeonesigc6_at4extendsc6_at4_typeonesigassoc1extendsAssociationsrc=class1_namedst=class5_namesrc_multiplicity=src_mlpcdst_multiplicity=dst_mlpc}onesigassoc2extendsAssociationsrc=class1_namedst=class5_namesrc_multiplicity=src_mlpcdst_multiplicity=dst_mlpc}onesigassoc3extendsAssociationsrc=class4_namedst=class5_namesrc_multiplicity=src_mlpcdst_multiplicity=dst_mlpc}onesigassoc4extendsAssociationsrc=class1_namedst=class6_namesrc_multiplicity=src_mlpcdst_multiplicity=dst_mlpc2}onesigassoc5extendsAssociationsrc=class1_namedst=class3_namesrc_multiplicity=src_mlpcdst_multiplicity=dst_mlpc2}predshowrunshowfor38,\\xe2\\x80\\x8bOM_name_Solution:0Table:class1_nameAttributec1_at1:c1_at1_typePrimaryKeyTable:class1_nameAttributec1_at2:c1_at2_typeTable:class2_nameAttributec2_at1:c1_at1_typePrimaryKeyTable:class2_nameAttributec2_at2:c2_at2_typeTable:class2_nameAttributec2_at3:c2_at3_typeTable:class3_nameAttributec3_at1:c3_at1_typePrimaryKeyTable:class3_nameAttributec3_at4:c3_at4_typeTable:class3_nameAttributec3_at2:c3_at2_typeTable:class4_nameAttributec4_at1:c4_at1_typePrimaryKeyTable:class5_nameAttributec5_at3:c5_at3_typeTable:class5_nameAttributec5_at4:c5_at4_typeTable:class6_nameAttributec6_at1:c6_at1_typePrimaryKeyTable:class6_nameAttributec6_at2:c6_at2_typeTable:class6_nameAttributec6_at3:c6_at3_typeTable:class6_nameAttributec6_at4:c6_at4_typeTable:class1_nameAttributec1_at1:c1_at1_typePrimaryKeyTable:class2_nameAttributec2_at1:c1_at1_typePrimaryKeyTable:class3_nameAttributec3_at1:c3_at1_typePrimaryKeyTable:class4_nameAttributec4_at1:c4_at1_typePrimaryKeyTable:class6_nameAttributec6_at1:c6_at1_typePrimaryKeyTableName:class1_nameTableName:class2_nameTableName:class3_nameTableName:class4_nameTableName:class5_nameTableName:class6_nameMappingStrategyofTableclass1_name:map_str2MappingStrategyofTableclass2_name:map_str2MappingStrategyofTableclass3_name:map_str2MappingStrategyofTableclass4_name:map_str2MappingStrategyofTableclass6_name:map_str2AssociationStrategyforassoc1:assoc_type1AssociationStrategyforassoc2:assoc_type1AssociationStrategyforassoc3:assoc_type2AssociationStrategyforassoc4:assoc_type2AssociationStrategyforassoc5:assoc_type2,USEOM_name0----CREATETABLE`assoc1`(`c5_at1`c5_at1_type`c1_at1`c1_at1_typeKEY`FK_assoc1_c5_at1_idx`(`c5_at1`)KEY`FK_assoc1_c1_at1_idx`(`c1_at1`)PRIMARYKEY(`c5_at1``c1_at1`));----CREATETABLE`assoc3``c5_at1`c5_at1_type`c4_at1`c4_at1_typeKEY`FK_assoc3_c5_at1_idx`(`c5_at1`)KEY`FK_assoc3_c4_at1_idx`(`c4_at1`)PRIMARYKEY(`c5_at1``c4_at1`));----CREATETABLE`class5_name`(`c5_at4`c5_at4_type(64)`c5_at3`c5_at3_type(64)`c1_at1`c1_at1_type`c5_at1`c5_at1_typePRIMARYKEY(`c5_at1`));----CREATETABLE`class3_name`(`c3_at3`c3_at3_type(64)`c3_at2`c3_at2_type(64)`c3_at4`c3_at4_type`c3_at1`c3_at1_typeNOTNULLPRIMARYKEY(`c3_at1`));----CREATETABLE`class2_name`(`c2_at3`c2_at3_type(64)`c2_at2`c2_at2_type(64)`c2_at4`c2_at4_type`c2_at1`c2_at1_typePRIMARYKEY(`c2_at1`));----CREATETABLE`class4_name`(`c4_at1`c4_at1_typePRIMARYKEY(`c4_at1`));----CREATETABLE`class1_name`(`c1_at2`c1_at2_type(64)`c1_at1`c1_at1_typePRIMARYKEY(`c1_at1`));----CREATETABLE`class6_name`(`c6_at4`c6_at4_type`c6_at3`c6_at3_type`c6_at2`c6_at2_type`c6_at1`c6_at1_typeNOTNULLPRIMARYKEY(`c6_at1`));----CREATETABLE`assoc2`(`c5_at1`c5_at1_type`c2_at1`c2_at1_typeKEY`FK_assoc2_c5_at1_idx`(`c5_at1`)KEY`FK_assoc2_c2_at1_idx`(`c2_at1`)PRIMARYKEY(`c5_at1``c2_at1`));----CREATETABLE`assoc5`(`c3_at1`c3_at1_typeNOTNULL`c2_at1`c2_at1_typeKEY`FK_assoc5_c3_at1_idx`(`c3_at1`)KEY`FK_assoc5_c2_at1_idx`(`c2_at1`)PRIMARYKEY(`c3_at1``c2_at1`));----CREATETABLE`assoc4`(`c6_at1`c6_at1_typeNOTNULL`c2_at1`c2_at1_typeKEY`FK_assoc4_c6_at1_idx`(`c6_at1`)KEY`FK_assoc4_c2_at1_idx`(`c2_at1`)PRIMARYKEY(`c6_at1``c2_at1`));ALTERTABLE`assoc1`ADDCONSTRAINT`FK_assoc1_c5_at1`FOREIGNKEY(`c5_at1`)REFERENCES`class5_name`(`c5_at1`)ONDELETECASCADEONUPDATECASCADEADDCONSTRAINT`FK_assoc1_c1_at1`FOREIGNKEY(`c1_at1`)REFERENCES`class1_name`(`c1_at1`)ONDELETECASCADEONUPDATECASCADE;ALTERTABLE`assoc3`ADDCONSTRAINT`FK_assoc3_c5_at1`FOREIGNKEY(`c5_at1`)REFERENCES`class5_name`(`c5_at1`)ONDELETECASCADEONUPDATECASCADEADDCONSTRAINT`FK_assoc3_c4_at1`FOREIGNKEY(`c4_at1`)REFERENCES`class4_name`(`c4_at1`)ONDELETECASCADEONUPDATECASCADE;ALTERTABLE`assoc2`ADDCONSTRAINT`FK_assoc2_c5_at1`FOREIGNKEY(`c5_at1`)REFERENCES`class5_name`(`c5_at1`)ONDELETECASCADEONUPDATECASCADEADDCONSTRAINT`FK_assoc2_c2_at1`FOREIGNKEY(`c2_at1`)REFERENCES`class2_name`(`c2_at1`)ONDELETECASCADEONUPDATECASCADEALTERTABLE`assoc5`ADDCONSTRAINT`FK_assoc5_c3_at1`FOREIGNKEY(`c3_at1`)REFERENCES`class3_name`(`c3_at1`)ONDELETECASCADEONUPDATECASCADEADDCONSTRAINT`FK_assoc5_c2_at1`FOREIGNKEY(`c2_at1`)REFERENCES`class2_name`(`c2_at1`)ONDELETECASCADEONUPDATECASCADE;ALTERTABLE`assoc4`ADDCONSTRAINT`FK_assoc4_c6_at1`FOREIGNKEY(`c6_at1`)REFERENCES`class6_name`(`c6_at1`)ONDELETECASCADEONUPDATECASCADEADDCONSTRAINT`FK_assoc4_c2_at1`FOREIGNKEY(`c2_at1`)REFERENCES`class2_name`(`c2_at1`)ONDELETECASCADEONUPDATECASCADE'\n"
          ]
        }
      ],
      "source": [
        "example_text = tf.constant('moduleOM_nameopenDeclarationonesigclass1_nameextendsClassattrSet=c1_at1+c1_at2id=c1_at1noparentisAbstract=No}onesigc1_at1extendsc1_at1_typeonesigc1_at2extendsc1_at2_typeonesigclass2_nameextendsClassattrSet=c2_at1+c2_at2+c2_at3+c2_at4id=c2_at1noparentisAbstract=No}onesigc2_at1extendsc2_at1_typeonesigc2_at2extendsc2_at2_typeonesigc2_at3extendsc2_at3_typeonesigc2_at4extendsc2_at4_typeonesigclass3_nameextendsClassattrSet=c3_at1+c3_at2+c3_at3+c3_at4id=c3_at1noparentisAbstract=No}onesigc3_at1extendsc3_at1_typeonesigc3_at2extendsc3_at2_typeonesigc3_at3extendsc3_at3_typeonesigc3_at4extendsc3_at4_typeonesigclass4_nameextendsClassattrSet=c4_at1id=c4_at1noparentisAbstract=No}onesigc4_at1extendsc4_at1_typeonesigclass5_nameextendsClassattrSet=c5_at1+c5_at2+c5_at3+c5_at4id=c5_at1noparentisAbstract=No}onesigc5_at1extendsc5_at1_typeonesigc5_at2extendsc5_at2_typeonesigc5_at3extendsc5_at3_typeonesigc5_at4extendsc5_at4_typeonesigclass6_nameextendsClassattrSet=c6_at1+c6_at2+c6_at3+c6_at4id=c6_at1noparentisAbstract=No}onesigc6_at1extendsc6_at1_typeonesigc6_at2extendsc6_at2_typeonesigc6_at3extendsc6_at3_typeonesigc6_at4extendsc6_at4_typeonesigassoc1extendsAssociationsrc=class1_namedst=class5_namesrc_multiplicity=src_mlpcdst_multiplicity=dst_mlpc}onesigassoc2extendsAssociationsrc=class1_namedst=class5_namesrc_multiplicity=src_mlpcdst_multiplicity=dst_mlpc}onesigassoc3extendsAssociationsrc=class4_namedst=class5_namesrc_multiplicity=src_mlpcdst_multiplicity=dst_mlpc}onesigassoc4extendsAssociationsrc=class1_namedst=class6_namesrc_multiplicity=src_mlpcdst_multiplicity=dst_mlpc2}onesigassoc5extendsAssociationsrc=class1_namedst=class3_namesrc_multiplicity=src_mlpcdst_multiplicity=dst_mlpc2}predshowrunshowfor38,​OM_name_Solution:0Table:class1_nameAttributec1_at1:c1_at1_typePrimaryKeyTable:class1_nameAttributec1_at2:c1_at2_typeTable:class2_nameAttributec2_at1:c1_at1_typePrimaryKeyTable:class2_nameAttributec2_at2:c2_at2_typeTable:class2_nameAttributec2_at3:c2_at3_typeTable:class3_nameAttributec3_at1:c3_at1_typePrimaryKeyTable:class3_nameAttributec3_at4:c3_at4_typeTable:class3_nameAttributec3_at2:c3_at2_typeTable:class4_nameAttributec4_at1:c4_at1_typePrimaryKeyTable:class5_nameAttributec5_at3:c5_at3_typeTable:class5_nameAttributec5_at4:c5_at4_typeTable:class6_nameAttributec6_at1:c6_at1_typePrimaryKeyTable:class6_nameAttributec6_at2:c6_at2_typeTable:class6_nameAttributec6_at3:c6_at3_typeTable:class6_nameAttributec6_at4:c6_at4_typeTable:class1_nameAttributec1_at1:c1_at1_typePrimaryKeyTable:class2_nameAttributec2_at1:c1_at1_typePrimaryKeyTable:class3_nameAttributec3_at1:c3_at1_typePrimaryKeyTable:class4_nameAttributec4_at1:c4_at1_typePrimaryKeyTable:class6_nameAttributec6_at1:c6_at1_typePrimaryKeyTableName:class1_nameTableName:class2_nameTableName:class3_nameTableName:class4_nameTableName:class5_nameTableName:class6_nameMappingStrategyofTableclass1_name:map_str2MappingStrategyofTableclass2_name:map_str2MappingStrategyofTableclass3_name:map_str2MappingStrategyofTableclass4_name:map_str2MappingStrategyofTableclass6_name:map_str2AssociationStrategyforassoc1:assoc_type1AssociationStrategyforassoc2:assoc_type1AssociationStrategyforassoc3:assoc_type2AssociationStrategyforassoc4:assoc_type2AssociationStrategyforassoc5:assoc_type2,USEOM_name0----CREATETABLE`assoc1`(`c5_at1`c5_at1_type`c1_at1`c1_at1_typeKEY`FK_assoc1_c5_at1_idx`(`c5_at1`)KEY`FK_assoc1_c1_at1_idx`(`c1_at1`)PRIMARYKEY(`c5_at1``c1_at1`));----CREATETABLE`assoc3``c5_at1`c5_at1_type`c4_at1`c4_at1_typeKEY`FK_assoc3_c5_at1_idx`(`c5_at1`)KEY`FK_assoc3_c4_at1_idx`(`c4_at1`)PRIMARYKEY(`c5_at1``c4_at1`));----CREATETABLE`class5_name`(`c5_at4`c5_at4_type(64)`c5_at3`c5_at3_type(64)`c1_at1`c1_at1_type`c5_at1`c5_at1_typePRIMARYKEY(`c5_at1`));----CREATETABLE`class3_name`(`c3_at3`c3_at3_type(64)`c3_at2`c3_at2_type(64)`c3_at4`c3_at4_type`c3_at1`c3_at1_typeNOTNULLPRIMARYKEY(`c3_at1`));----CREATETABLE`class2_name`(`c2_at3`c2_at3_type(64)`c2_at2`c2_at2_type(64)`c2_at4`c2_at4_type`c2_at1`c2_at1_typePRIMARYKEY(`c2_at1`));----CREATETABLE`class4_name`(`c4_at1`c4_at1_typePRIMARYKEY(`c4_at1`));----CREATETABLE`class1_name`(`c1_at2`c1_at2_type(64)`c1_at1`c1_at1_typePRIMARYKEY(`c1_at1`));----CREATETABLE`class6_name`(`c6_at4`c6_at4_type`c6_at3`c6_at3_type`c6_at2`c6_at2_type`c6_at1`c6_at1_typeNOTNULLPRIMARYKEY(`c6_at1`));----CREATETABLE`assoc2`(`c5_at1`c5_at1_type`c2_at1`c2_at1_typeKEY`FK_assoc2_c5_at1_idx`(`c5_at1`)KEY`FK_assoc2_c2_at1_idx`(`c2_at1`)PRIMARYKEY(`c5_at1``c2_at1`));----CREATETABLE`assoc5`(`c3_at1`c3_at1_typeNOTNULL`c2_at1`c2_at1_typeKEY`FK_assoc5_c3_at1_idx`(`c3_at1`)KEY`FK_assoc5_c2_at1_idx`(`c2_at1`)PRIMARYKEY(`c3_at1``c2_at1`));----CREATETABLE`assoc4`(`c6_at1`c6_at1_typeNOTNULL`c2_at1`c2_at1_typeKEY`FK_assoc4_c6_at1_idx`(`c6_at1`)KEY`FK_assoc4_c2_at1_idx`(`c2_at1`)PRIMARYKEY(`c6_at1``c2_at1`));ALTERTABLE`assoc1`ADDCONSTRAINT`FK_assoc1_c5_at1`FOREIGNKEY(`c5_at1`)REFERENCES`class5_name`(`c5_at1`)ONDELETECASCADEONUPDATECASCADEADDCONSTRAINT`FK_assoc1_c1_at1`FOREIGNKEY(`c1_at1`)REFERENCES`class1_name`(`c1_at1`)ONDELETECASCADEONUPDATECASCADE;ALTERTABLE`assoc3`ADDCONSTRAINT`FK_assoc3_c5_at1`FOREIGNKEY(`c5_at1`)REFERENCES`class5_name`(`c5_at1`)ONDELETECASCADEONUPDATECASCADEADDCONSTRAINT`FK_assoc3_c4_at1`FOREIGNKEY(`c4_at1`)REFERENCES`class4_name`(`c4_at1`)ONDELETECASCADEONUPDATECASCADE;ALTERTABLE`assoc2`ADDCONSTRAINT`FK_assoc2_c5_at1`FOREIGNKEY(`c5_at1`)REFERENCES`class5_name`(`c5_at1`)ONDELETECASCADEONUPDATECASCADEADDCONSTRAINT`FK_assoc2_c2_at1`FOREIGNKEY(`c2_at1`)REFERENCES`class2_name`(`c2_at1`)ONDELETECASCADEONUPDATECASCADEALTERTABLE`assoc5`ADDCONSTRAINT`FK_assoc5_c3_at1`FOREIGNKEY(`c3_at1`)REFERENCES`class3_name`(`c3_at1`)ONDELETECASCADEONUPDATECASCADEADDCONSTRAINT`FK_assoc5_c2_at1`FOREIGNKEY(`c2_at1`)REFERENCES`class2_name`(`c2_at1`)ONDELETECASCADEONUPDATECASCADE;ALTERTABLE`assoc4`ADDCONSTRAINT`FK_assoc4_c6_at1`FOREIGNKEY(`c6_at1`)REFERENCES`class6_name`(`c6_at1`)ONDELETECASCADEONUPDATECASCADEADDCONSTRAINT`FK_assoc4_c2_at1`FOREIGNKEY(`c2_at1`)REFERENCES`class2_name`(`c2_at1`)ONDELETECASCADEONUPDATECASCADE')\n",
        "\n",
        "#example_text = tf.constant('class1,table2,obj1,atr1')\n",
        "print(example_text.numpy())\n",
        "print(tf_text.normalize_utf8(example_text, 'NFKD').numpy())"
      ]
    },
    {
      "cell_type": "code",
      "execution_count": 13,
      "metadata": {
        "id": "chTF5N885F0P"
      },
      "outputs": [],
      "source": [
        "#import re\n",
        "\n",
        "#def tf_lower_and_split_punct(text):\n",
        "\n",
        "def tf_lower_and_split_punct(text):\n",
        "  # Split accented characters.\n",
        "  text = tf_text.normalize_utf8(text, 'NFKD')\n",
        "  text = tf.strings.lower(text)\n",
        "  # Keep space, a to z, and select punctuation.\n",
        "  text = tf.strings.regex_replace(text, '', '')\n",
        "  # Add spaces around punctuation.\n",
        "  text = tf.strings.regex_replace(text, '', r'')\n",
        "  # Strip whitespace.\n",
        "  text = tf.strings.strip(text)\n",
        "\n",
        "  text = tf.strings.join(['[START]', text, '[END]'], separator=' ')\n",
        "  return text\n",
        "\n",
        "\n",
        "\n"
      ]
    },
    {
      "cell_type": "code",
      "execution_count": 14,
      "metadata": {
        "colab": {
          "base_uri": "https://localhost:8080/"
        },
        "id": "UREvDg3sEKYa",
        "outputId": "eba553d7-b8bc-4819-944d-178d7e484875"
      },
      "outputs": [
        {
          "output_type": "stream",
          "name": "stdout",
          "text": [
            "moduleOM_nameopenDeclarationonesigclass1_nameextendsClassattrSet=c1_at1+c1_at2id=c1_at1noparentisAbstract=No}onesigc1_at1extendsc1_at1_typeonesigc1_at2extendsc1_at2_typeonesigclass2_nameextendsClassattrSet=c2_at1+c2_at2+c2_at3+c2_at4id=c2_at1noparentisAbstract=No}onesigc2_at1extendsc2_at1_typeonesigc2_at2extendsc2_at2_typeonesigc2_at3extendsc2_at3_typeonesigc2_at4extendsc2_at4_typeonesigclass3_nameextendsClassattrSet=c3_at1+c3_at2+c3_at3+c3_at4id=c3_at1noparentisAbstract=No}onesigc3_at1extendsc3_at1_typeonesigc3_at2extendsc3_at2_typeonesigc3_at3extendsc3_at3_typeonesigc3_at4extendsc3_at4_typeonesigclass4_nameextendsClassattrSet=c4_at1id=c4_at1noparentisAbstract=No}onesigc4_at1extendsc4_at1_typeonesigclass5_nameextendsClassattrSet=c5_at1+c5_at2+c5_at3+c5_at4id=c5_at1noparentisAbstract=No}onesigc5_at1extendsc5_at1_typeonesigc5_at2extendsc5_at2_typeonesigc5_at3extendsc5_at3_typeonesigc5_at4extendsc5_at4_typeonesigclass6_nameextendsClassattrSet=c6_at1+c6_at2+c6_at3+c6_at4id=c6_at1noparentisAbstract=No}onesigc6_at1extendsc6_at1_typeonesigc6_at2extendsc6_at2_typeonesigc6_at3extendsc6_at3_typeonesigc6_at4extendsc6_at4_typeonesigassoc1extendsAssociationsrc=class1_namedst=class5_namesrc_multiplicity=src_mlpcdst_multiplicity=dst_mlpc}onesigassoc2extendsAssociationsrc=class1_namedst=class5_namesrc_multiplicity=src_mlpcdst_multiplicity=dst_mlpc}onesigassoc3extendsAssociationsrc=class4_namedst=class5_namesrc_multiplicity=src_mlpcdst_multiplicity=dst_mlpc}onesigassoc4extendsAssociationsrc=class1_namedst=class6_namesrc_multiplicity=src_mlpcdst_multiplicity=dst_mlpc2}onesigassoc5extendsAssociationsrc=class1_namedst=class3_namesrc_multiplicity=src_mlpcdst_multiplicity=dst_mlpc2}predshowrunshowfor38,​OM_name_Solution:0Table:class1_nameAttributec1_at1:c1_at1_typePrimaryKeyTable:class1_nameAttributec1_at2:c1_at2_typeTable:class2_nameAttributec2_at1:c1_at1_typePrimaryKeyTable:class2_nameAttributec2_at2:c2_at2_typeTable:class2_nameAttributec2_at3:c2_at3_typeTable:class3_nameAttributec3_at1:c3_at1_typePrimaryKeyTable:class3_nameAttributec3_at4:c3_at4_typeTable:class3_nameAttributec3_at2:c3_at2_typeTable:class4_nameAttributec4_at1:c4_at1_typePrimaryKeyTable:class5_nameAttributec5_at3:c5_at3_typeTable:class5_nameAttributec5_at4:c5_at4_typeTable:class6_nameAttributec6_at1:c6_at1_typePrimaryKeyTable:class6_nameAttributec6_at2:c6_at2_typeTable:class6_nameAttributec6_at3:c6_at3_typeTable:class6_nameAttributec6_at4:c6_at4_typeTable:class1_nameAttributec1_at1:c1_at1_typePrimaryKeyTable:class2_nameAttributec2_at1:c1_at1_typePrimaryKeyTable:class3_nameAttributec3_at1:c3_at1_typePrimaryKeyTable:class4_nameAttributec4_at1:c4_at1_typePrimaryKeyTable:class6_nameAttributec6_at1:c6_at1_typePrimaryKeyTableName:class1_nameTableName:class2_nameTableName:class3_nameTableName:class4_nameTableName:class5_nameTableName:class6_nameMappingStrategyofTableclass1_name:map_str2MappingStrategyofTableclass2_name:map_str2MappingStrategyofTableclass3_name:map_str2MappingStrategyofTableclass4_name:map_str2MappingStrategyofTableclass6_name:map_str2AssociationStrategyforassoc1:assoc_type1AssociationStrategyforassoc2:assoc_type1AssociationStrategyforassoc3:assoc_type2AssociationStrategyforassoc4:assoc_type2AssociationStrategyforassoc5:assoc_type2,USEOM_name0----CREATETABLE`assoc1`(`c5_at1`c5_at1_type`c1_at1`c1_at1_typeKEY`FK_assoc1_c5_at1_idx`(`c5_at1`)KEY`FK_assoc1_c1_at1_idx`(`c1_at1`)PRIMARYKEY(`c5_at1``c1_at1`));----CREATETABLE`assoc3``c5_at1`c5_at1_type`c4_at1`c4_at1_typeKEY`FK_assoc3_c5_at1_idx`(`c5_at1`)KEY`FK_assoc3_c4_at1_idx`(`c4_at1`)PRIMARYKEY(`c5_at1``c4_at1`));----CREATETABLE`class5_name`(`c5_at4`c5_at4_type(64)`c5_at3`c5_at3_type(64)`c1_at1`c1_at1_type`c5_at1`c5_at1_typePRIMARYKEY(`c5_at1`));----CREATETABLE`class3_name`(`c3_at3`c3_at3_type(64)`c3_at2`c3_at2_type(64)`c3_at4`c3_at4_type`c3_at1`c3_at1_typeNOTNULLPRIMARYKEY(`c3_at1`));----CREATETABLE`class2_name`(`c2_at3`c2_at3_type(64)`c2_at2`c2_at2_type(64)`c2_at4`c2_at4_type`c2_at1`c2_at1_typePRIMARYKEY(`c2_at1`));----CREATETABLE`class4_name`(`c4_at1`c4_at1_typePRIMARYKEY(`c4_at1`));----CREATETABLE`class1_name`(`c1_at2`c1_at2_type(64)`c1_at1`c1_at1_typePRIMARYKEY(`c1_at1`));----CREATETABLE`class6_name`(`c6_at4`c6_at4_type`c6_at3`c6_at3_type`c6_at2`c6_at2_type`c6_at1`c6_at1_typeNOTNULLPRIMARYKEY(`c6_at1`));----CREATETABLE`assoc2`(`c5_at1`c5_at1_type`c2_at1`c2_at1_typeKEY`FK_assoc2_c5_at1_idx`(`c5_at1`)KEY`FK_assoc2_c2_at1_idx`(`c2_at1`)PRIMARYKEY(`c5_at1``c2_at1`));----CREATETABLE`assoc5`(`c3_at1`c3_at1_typeNOTNULL`c2_at1`c2_at1_typeKEY`FK_assoc5_c3_at1_idx`(`c3_at1`)KEY`FK_assoc5_c2_at1_idx`(`c2_at1`)PRIMARYKEY(`c3_at1``c2_at1`));----CREATETABLE`assoc4`(`c6_at1`c6_at1_typeNOTNULL`c2_at1`c2_at1_typeKEY`FK_assoc4_c6_at1_idx`(`c6_at1`)KEY`FK_assoc4_c2_at1_idx`(`c2_at1`)PRIMARYKEY(`c6_at1``c2_at1`));ALTERTABLE`assoc1`ADDCONSTRAINT`FK_assoc1_c5_at1`FOREIGNKEY(`c5_at1`)REFERENCES`class5_name`(`c5_at1`)ONDELETECASCADEONUPDATECASCADEADDCONSTRAINT`FK_assoc1_c1_at1`FOREIGNKEY(`c1_at1`)REFERENCES`class1_name`(`c1_at1`)ONDELETECASCADEONUPDATECASCADE;ALTERTABLE`assoc3`ADDCONSTRAINT`FK_assoc3_c5_at1`FOREIGNKEY(`c5_at1`)REFERENCES`class5_name`(`c5_at1`)ONDELETECASCADEONUPDATECASCADEADDCONSTRAINT`FK_assoc3_c4_at1`FOREIGNKEY(`c4_at1`)REFERENCES`class4_name`(`c4_at1`)ONDELETECASCADEONUPDATECASCADE;ALTERTABLE`assoc2`ADDCONSTRAINT`FK_assoc2_c5_at1`FOREIGNKEY(`c5_at1`)REFERENCES`class5_name`(`c5_at1`)ONDELETECASCADEONUPDATECASCADEADDCONSTRAINT`FK_assoc2_c2_at1`FOREIGNKEY(`c2_at1`)REFERENCES`class2_name`(`c2_at1`)ONDELETECASCADEONUPDATECASCADEALTERTABLE`assoc5`ADDCONSTRAINT`FK_assoc5_c3_at1`FOREIGNKEY(`c3_at1`)REFERENCES`class3_name`(`c3_at1`)ONDELETECASCADEONUPDATECASCADEADDCONSTRAINT`FK_assoc5_c2_at1`FOREIGNKEY(`c2_at1`)REFERENCES`class2_name`(`c2_at1`)ONDELETECASCADEONUPDATECASCADE;ALTERTABLE`assoc4`ADDCONSTRAINT`FK_assoc4_c6_at1`FOREIGNKEY(`c6_at1`)REFERENCES`class6_name`(`c6_at1`)ONDELETECASCADEONUPDATECASCADEADDCONSTRAINT`FK_assoc4_c2_at1`FOREIGNKEY(`c2_at1`)REFERENCES`class2_name`(`c2_at1`)ONDELETECASCADEONUPDATECASCADE\n",
            "[START] moduleom_nameopendeclarationonesigclass1_nameextendsclassattrset=c1_at1+c1_at2id=c1_at1noparentisabstract=no}onesigc1_at1extendsc1_at1_typeonesigc1_at2extendsc1_at2_typeonesigclass2_nameextendsclassattrset=c2_at1+c2_at2+c2_at3+c2_at4id=c2_at1noparentisabstract=no}onesigc2_at1extendsc2_at1_typeonesigc2_at2extendsc2_at2_typeonesigc2_at3extendsc2_at3_typeonesigc2_at4extendsc2_at4_typeonesigclass3_nameextendsclassattrset=c3_at1+c3_at2+c3_at3+c3_at4id=c3_at1noparentisabstract=no}onesigc3_at1extendsc3_at1_typeonesigc3_at2extendsc3_at2_typeonesigc3_at3extendsc3_at3_typeonesigc3_at4extendsc3_at4_typeonesigclass4_nameextendsclassattrset=c4_at1id=c4_at1noparentisabstract=no}onesigc4_at1extendsc4_at1_typeonesigclass5_nameextendsclassattrset=c5_at1+c5_at2+c5_at3+c5_at4id=c5_at1noparentisabstract=no}onesigc5_at1extendsc5_at1_typeonesigc5_at2extendsc5_at2_typeonesigc5_at3extendsc5_at3_typeonesigc5_at4extendsc5_at4_typeonesigclass6_nameextendsclassattrset=c6_at1+c6_at2+c6_at3+c6_at4id=c6_at1noparentisabstract=no}onesigc6_at1extendsc6_at1_typeonesigc6_at2extendsc6_at2_typeonesigc6_at3extendsc6_at3_typeonesigc6_at4extendsc6_at4_typeonesigassoc1extendsassociationsrc=class1_namedst=class5_namesrc_multiplicity=src_mlpcdst_multiplicity=dst_mlpc}onesigassoc2extendsassociationsrc=class1_namedst=class5_namesrc_multiplicity=src_mlpcdst_multiplicity=dst_mlpc}onesigassoc3extendsassociationsrc=class4_namedst=class5_namesrc_multiplicity=src_mlpcdst_multiplicity=dst_mlpc}onesigassoc4extendsassociationsrc=class1_namedst=class6_namesrc_multiplicity=src_mlpcdst_multiplicity=dst_mlpc2}onesigassoc5extendsassociationsrc=class1_namedst=class3_namesrc_multiplicity=src_mlpcdst_multiplicity=dst_mlpc2}predshowrunshowfor38,​om_name_solution:0table:class1_nameattributec1_at1:c1_at1_typeprimarykeytable:class1_nameattributec1_at2:c1_at2_typetable:class2_nameattributec2_at1:c1_at1_typeprimarykeytable:class2_nameattributec2_at2:c2_at2_typetable:class2_nameattributec2_at3:c2_at3_typetable:class3_nameattributec3_at1:c3_at1_typeprimarykeytable:class3_nameattributec3_at4:c3_at4_typetable:class3_nameattributec3_at2:c3_at2_typetable:class4_nameattributec4_at1:c4_at1_typeprimarykeytable:class5_nameattributec5_at3:c5_at3_typetable:class5_nameattributec5_at4:c5_at4_typetable:class6_nameattributec6_at1:c6_at1_typeprimarykeytable:class6_nameattributec6_at2:c6_at2_typetable:class6_nameattributec6_at3:c6_at3_typetable:class6_nameattributec6_at4:c6_at4_typetable:class1_nameattributec1_at1:c1_at1_typeprimarykeytable:class2_nameattributec2_at1:c1_at1_typeprimarykeytable:class3_nameattributec3_at1:c3_at1_typeprimarykeytable:class4_nameattributec4_at1:c4_at1_typeprimarykeytable:class6_nameattributec6_at1:c6_at1_typeprimarykeytablename:class1_nametablename:class2_nametablename:class3_nametablename:class4_nametablename:class5_nametablename:class6_namemappingstrategyoftableclass1_name:map_str2mappingstrategyoftableclass2_name:map_str2mappingstrategyoftableclass3_name:map_str2mappingstrategyoftableclass4_name:map_str2mappingstrategyoftableclass6_name:map_str2associationstrategyforassoc1:assoc_type1associationstrategyforassoc2:assoc_type1associationstrategyforassoc3:assoc_type2associationstrategyforassoc4:assoc_type2associationstrategyforassoc5:assoc_type2,useom_name0----createtable`assoc1`(`c5_at1`c5_at1_type`c1_at1`c1_at1_typekey`fk_assoc1_c5_at1_idx`(`c5_at1`)key`fk_assoc1_c1_at1_idx`(`c1_at1`)primarykey(`c5_at1``c1_at1`));----createtable`assoc3``c5_at1`c5_at1_type`c4_at1`c4_at1_typekey`fk_assoc3_c5_at1_idx`(`c5_at1`)key`fk_assoc3_c4_at1_idx`(`c4_at1`)primarykey(`c5_at1``c4_at1`));----createtable`class5_name`(`c5_at4`c5_at4_type(64)`c5_at3`c5_at3_type(64)`c1_at1`c1_at1_type`c5_at1`c5_at1_typeprimarykey(`c5_at1`));----createtable`class3_name`(`c3_at3`c3_at3_type(64)`c3_at2`c3_at2_type(64)`c3_at4`c3_at4_type`c3_at1`c3_at1_typenotnullprimarykey(`c3_at1`));----createtable`class2_name`(`c2_at3`c2_at3_type(64)`c2_at2`c2_at2_type(64)`c2_at4`c2_at4_type`c2_at1`c2_at1_typeprimarykey(`c2_at1`));----createtable`class4_name`(`c4_at1`c4_at1_typeprimarykey(`c4_at1`));----createtable`class1_name`(`c1_at2`c1_at2_type(64)`c1_at1`c1_at1_typeprimarykey(`c1_at1`));----createtable`class6_name`(`c6_at4`c6_at4_type`c6_at3`c6_at3_type`c6_at2`c6_at2_type`c6_at1`c6_at1_typenotnullprimarykey(`c6_at1`));----createtable`assoc2`(`c5_at1`c5_at1_type`c2_at1`c2_at1_typekey`fk_assoc2_c5_at1_idx`(`c5_at1`)key`fk_assoc2_c2_at1_idx`(`c2_at1`)primarykey(`c5_at1``c2_at1`));----createtable`assoc5`(`c3_at1`c3_at1_typenotnull`c2_at1`c2_at1_typekey`fk_assoc5_c3_at1_idx`(`c3_at1`)key`fk_assoc5_c2_at1_idx`(`c2_at1`)primarykey(`c3_at1``c2_at1`));----createtable`assoc4`(`c6_at1`c6_at1_typenotnull`c2_at1`c2_at1_typekey`fk_assoc4_c6_at1_idx`(`c6_at1`)key`fk_assoc4_c2_at1_idx`(`c2_at1`)primarykey(`c6_at1``c2_at1`));altertable`assoc1`addconstraint`fk_assoc1_c5_at1`foreignkey(`c5_at1`)references`class5_name`(`c5_at1`)ondeletecascadeonupdatecascadeaddconstraint`fk_assoc1_c1_at1`foreignkey(`c1_at1`)references`class1_name`(`c1_at1`)ondeletecascadeonupdatecascade;altertable`assoc3`addconstraint`fk_assoc3_c5_at1`foreignkey(`c5_at1`)references`class5_name`(`c5_at1`)ondeletecascadeonupdatecascadeaddconstraint`fk_assoc3_c4_at1`foreignkey(`c4_at1`)references`class4_name`(`c4_at1`)ondeletecascadeonupdatecascade;altertable`assoc2`addconstraint`fk_assoc2_c5_at1`foreignkey(`c5_at1`)references`class5_name`(`c5_at1`)ondeletecascadeonupdatecascadeaddconstraint`fk_assoc2_c2_at1`foreignkey(`c2_at1`)references`class2_name`(`c2_at1`)ondeletecascadeonupdatecascadealtertable`assoc5`addconstraint`fk_assoc5_c3_at1`foreignkey(`c3_at1`)references`class3_name`(`c3_at1`)ondeletecascadeonupdatecascadeaddconstraint`fk_assoc5_c2_at1`foreignkey(`c2_at1`)references`class2_name`(`c2_at1`)ondeletecascadeonupdatecascade;altertable`assoc4`addconstraint`fk_assoc4_c6_at1`foreignkey(`c6_at1`)references`class6_name`(`c6_at1`)ondeletecascadeonupdatecascadeaddconstraint`fk_assoc4_c2_at1`foreignkey(`c2_at1`)references`class2_name`(`c2_at1`)ondeletecascadeonupdatecascade [END]\n"
          ]
        }
      ],
      "source": [
        "print(example_text.numpy().decode())\n",
        "print(tf_lower_and_split_punct(example_text).numpy().decode())"
      ]
    },
    {
      "cell_type": "markdown",
      "metadata": {
        "id": "4q-sKsSI7xRZ"
      },
      "source": [
        "#### Text Vectorization"
      ]
    },
    {
      "cell_type": "markdown",
      "metadata": {
        "id": "6aKn8qd37abi"
      },
      "source": [
        "This standardization function will be wrapped up in a `tf.keras.layers.TextVectorization` layer which will handle the vocabulary extraction and conversion of input text to sequences of tokens."
      ]
    },
    {
      "cell_type": "code",
      "execution_count": 15,
      "metadata": {
        "id": "eAY9k49G3jE_"
      },
      "outputs": [],
      "source": [
        "max_vocab_size = 15000\n",
        "\n",
        "context_text_processor = tf.keras.layers.TextVectorization(\n",
        "    standardize=tf_lower_and_split_punct,\n",
        "    max_tokens=max_vocab_size,\n",
        "    ragged=True)"
      ]
    },
    {
      "cell_type": "markdown",
      "metadata": {
        "id": "7kbC6ODP8IK_"
      },
      "source": [
        "The `TextVectorization` layer and many other [Keras preprocessing layers](https://www.tensorflow.org/guide/keras/preprocessing_layers) have an `adapt` method. This method reads one epoch of the training data, and works a lot like `Model.fit`. This `adapt` method initializes the layer based on the data. Here it determines the vocabulary:"
      ]
    },
    {
      "cell_type": "code",
      "execution_count": 16,
      "metadata": {
        "colab": {
          "base_uri": "https://localhost:8080/"
        },
        "id": "bmsI1Yql8FYe",
        "outputId": "451391de-1ef1-4a19-f08d-8ddacf95f27c"
      },
      "outputs": [
        {
          "output_type": "execute_result",
          "data": {
            "text/plain": [
              "['', '[UNK]', 'key', '=', 'sig', 'extends', 'on', 'table', 'not', 'cascade']"
            ]
          },
          "metadata": {},
          "execution_count": 16
        }
      ],
      "source": [
        "context_text_processor.adapt(train_raw.map(lambda context, target: context))\n",
        "\n",
        "# Here are the first 10 words from the vocabulary:\n",
        "context_text_processor.get_vocabulary()[:10]"
      ]
    },
    {
      "cell_type": "markdown",
      "metadata": {
        "id": "9kGjIFjX8_Wp"
      },
      "source": [
        "That's the context data  `TextVectorization` layer, now build and `.adapt()` for the Target Data one:"
      ]
    },
    {
      "cell_type": "code",
      "execution_count": 17,
      "metadata": {
        "colab": {
          "base_uri": "https://localhost:8080/"
        },
        "id": "jlC4xuZnKLBS",
        "outputId": "f8d7123c-8f7d-4547-85ba-5b2ea1f5d4db"
      },
      "outputs": [
        {
          "output_type": "execute_result",
          "data": {
            "text/plain": [
              "['', '[UNK]', 'key', '=', 'sig', 'extends', 'on', 'table', 'not', 'cascade']"
            ]
          },
          "metadata": {},
          "execution_count": 17
        }
      ],
      "source": [
        "target_text_processor = tf.keras.layers.TextVectorization(\n",
        "    standardize=tf_lower_and_split_punct,\n",
        "    max_tokens=max_vocab_size,\n",
        "    ragged=True)\n",
        "\n",
        "target_text_processor.adapt(train_raw.map(lambda context, target: target))\n",
        "target_text_processor.get_vocabulary()[:10]"
      ]
    },
    {
      "cell_type": "markdown",
      "metadata": {
        "id": "BWQqlP_s9eIv"
      },
      "source": [
        "Now these layers can convert a batch of strings into a batch of token IDs:"
      ]
    },
    {
      "cell_type": "code",
      "execution_count": 18,
      "metadata": {
        "colab": {
          "base_uri": "https://localhost:8080/"
        },
        "id": "9KZxj8IrNZ9S",
        "outputId": "10fbdbee-13b2-47cd-bad8-9afbb44aad20"
      },
      "outputs": [
        {
          "output_type": "execute_result",
          "data": {
            "text/plain": [
              "<tf.RaggedTensor [[117, 124, 169, 200, 121, 17, 4, 56, 5, 27, 3, 199, 34, 3, 26, 4, 120, 5,\n",
              "  198, 4, 129, 5, 197, 4, 55, 5, 27, 3, 196, 34, 3, 26, 4, 75, 5, 195, 4,\n",
              "  75, 5, 194, 4, 41, 5, 27, 3, 193, 34, 3, 26, 4, 119, 5, 192, 4, 125, 5,\n",
              "  191, 4, 135, 5, 190, 4, 134, 5, 189, 4, 136, 5, 188, 4, 141, 5, 187, 4,\n",
              "  36, 5, 27, 3, 186, 34, 3, 26, 4, 123, 5, 185, 4, 131, 5, 184, 4, 133, 5,\n",
              "  183, 4, 132, 5, 182, 4, 76, 5, 27, 3, 180, 25, 25, 43, 67, 3, 68, 3, 26,\n",
              "  4, 107, 5, 181, 4, 65, 5, 27, 3, 179, 34, 3, 26, 4, 140, 5, 178, 4, 122,\n",
              "  5, 177, 4, 130, 5, 176, 4, 138, 5, 175, 4, 78, 5, 27, 3, 173, 25, 25,\n",
              "  43, 67, 3, 68, 3, 26, 4, 110, 5, 174, 4, 72, 5, 27, 3, 282, 34, 3, 26,\n",
              "  4, 109, 5, 172, 4, 281, 5, 280, 4, 83, 5, 19, 22, 3, 89, 55, 20, 3, 23,\n",
              "  21, 3, 31, 4, 85, 5, 19, 22, 3, 92, 36, 20, 3, 160, 21, 3, 31, 4, 80, 5,\n",
              "  19, 22, 3, 89, 41, 20, 3, 23, 21, 3, 31, 4, 77, 5, 19, 22, 3, 89, 36,\n",
              "  20, 3, 23, 21, 3, 31, 4, 57, 5, 19, 22, 3, 89, 65, 20, 3, 23, 21, 3, 90,\n",
              "  4, 79, 5, 19, 22, 3, 91, 56, 20, 3, 23, 21, 3, 90, 4, 84, 5, 19, 22, 3,\n",
              "  91, 36, 20, 3, 23, 21, 3, 31, 4, 87, 5, 19, 22, 3, 93, 41, 20, 3, 23,\n",
              "  21, 3, 31, 4, 81, 5, 19, 22, 3, 93, 36, 20, 3, 23, 21, 3, 31, 4, 101, 5,\n",
              "  19, 22, 3, 92, 41, 20, 3, 23, 21, 3, 171, 170, 201, 15, 16, 56, 18, 48,\n",
              "  15, 16, 65, 18, 48, 15, 16, 76, 18, 316, 15, 16, 78, 18, 229, 15, 16,\n",
              "  80, 18, 94, 15, 16, 77, 18, 94, 15, 16, 84, 18, 94, 15, 16, 87, 18, 94,\n",
              "  15, 16, 57, 18, 32, 15, 16, 79, 18, 32, 15, 16, 81, 18, 32, 15, 16, 101,\n",
              "  18, 161, 142, 7, 165, 99, 47, 8, 71, 29, 8, 24, 2, 239, 106, 2, 240, 60,\n",
              "  2, 167, 7, 203, 98, 74, 8, 71, 29, 8, 24, 2, 319, 82, 2, 211, 60, 2,\n",
              "  335, 7, 64, 98, 343, 146, 147, 148, 149, 150, 50, 8, 62, 210, 2, 344,\n",
              "  82, 2, 279, 63, 2, 157, 7, 51, 154, 251, 143, 46, 8, 33, 2, 155, 7, 54,\n",
              "  243, 284, 327, 275, 74, 8, 33, 2, 328, 7, 207, 103, 50, 8, 71, 29, 8,\n",
              "  24, 2, 241, 127, 2, 208, 60, 2, 168, 7, 164, 162, 309, 29, 8, 24, 2,\n",
              "  311, 60, 2, 49, 7, 37, 314, 29, 8, 33, 2, 49, 7, 44, 158, 151, 53, 8,\n",
              "  33, 2, 159, 7, 214, 99, 47, 8, 62, 53, 8, 24, 2, 325, 106, 2, 326, 63,\n",
              "  2, 338, 7, 213, 126, 46, 8, 62, 53, 8, 24, 2, 217, 100, 2, 237, 63, 2,\n",
              "  163, 7, 59, 156, 144, 145, 331, 558, 47, 8, 24, 2, 332, 315, 2, 205, 7,\n",
              "  137, 221, 88, 29, 8, 33, 2, 49, 7, 227, 126, 46, 8, 216, 47, 8, 24, 2,\n",
              "  393, 100, 2, 394, 266, 2, 444, 15, 16, 57, 18, 236, 74, 8, 235, 46, 8,\n",
              "  24, 2, 238, 82, 2, 152, 111, 2, 567, 7, 242, 14, 233, 10, 2, 45, 12, 59,\n",
              "  45, 6, 13, 9, 6, 11, 202, 14, 228, 10, 2, 28, 12, 37, 28, 6, 13, 9, 6,\n",
              "  11, 39, 7, 212, 14, 318, 10, 2, 38, 12, 54, 38, 6, 13, 9, 6, 11, 39, 7,\n",
              "  253, 14, 420, 10, 2, 38, 12, 54, 38, 6, 13, 9, 6, 11, 61, 14, 278, 10,\n",
              "  2, 30, 12, 44, 30, 6, 13, 9, 6, 11, 39, 7, 209, 14, 234, 10, 2, 40, 12,\n",
              "  64, 40, 6, 13, 9, 6, 11, 61, 14, 206, 10, 2, 28, 12, 37, 28, 6, 13, 9,\n",
              "  6, 11, 39, 7, 166, 14, 310, 10, 2, 28, 12, 37, 28, 6, 13, 9, 6, 11, 39,\n",
              "  7, 215, 14, 323, 10, 2, 45, 12, 59, 45, 6, 13, 9, 6, 11, 61, 14, 324,\n",
              "  10, 2, 30, 12, 44, 30, 6, 13, 9, 6, 11, 39, 7, 373, 14, 371, 10, 2, 35,\n",
              "  12, 51, 35, 6, 13, 9, 6, 11, 202, 14, 231, 10, 2, 30, 12, 44, 30, 6, 13,\n",
              "  9, 6, 11, 39, 7, 222, 14, 330, 10, 2, 38, 12, 54, 38, 6, 13, 9, 6, 11,\n",
              "  39, 7, 264, 14, 390, 10, 2, 35, 12, 51, 35, 6, 13, 9, 6, 11, 61, 14,\n",
              "  391, 10, 2, 45, 12, 59, 45, 6, 13, 9, 6, 11, 39, 7, 153, 14, 232, 10, 2,\n",
              "  38, 12, 54, 38, 6, 13, 9, 6, 11, 61, 14, 139, 10, 2, 35, 12, 51, 35, 6,\n",
              "  13, 9, 6, 11, 388, 118]]>"
            ]
          },
          "metadata": {},
          "execution_count": 18
        }
      ],
      "source": [
        "example_tokens = context_text_processor(example_context_strings)\n",
        "example_tokens[:3, :]"
      ]
    },
    {
      "cell_type": "markdown",
      "metadata": {
        "id": "AA9rUn9G9n78"
      },
      "source": [
        "The `get_vocabulary` method can be used to convert token IDs back to text:"
      ]
    },
    {
      "cell_type": "code",
      "execution_count": 19,
      "metadata": {
        "colab": {
          "base_uri": "https://localhost:8080/",
          "height": 105
        },
        "id": "98g9rcxGQY0I",
        "outputId": "0af592ba-af56-4b51-b7e9-fe5df6f06782"
      },
      "outputs": [
        {
          "output_type": "execute_result",
          "data": {
            "text/plain": [
              "'[START] module om_name 0;open declaration one sig class1_name extends classattrset = c1_at1+c1_at2id=c1_at1no parentisabstract = no}one sig c1_at1 extends c1_at1_typeone sig c1_at2 extends c1_at2_typeone sig class2_name extends classattrset = c2_at1+c2_at2id=c2_at1no parentisabstract = no}one sig c2_at1 extends c2_at1_typeone sig c2_at1 extends c2_at2_typeone sig class3_name extends classattrset = c3_at1+c3_at2+c3_at3+c3_at4c3_at5+c3_at6id=c3_at1no parentisabstract = no}one sig c3_at1 extends c3_at1_typeone sig c3_at2 extends c3_at2_typeone sig c3_at3 extends c3_at3_typeone sig c3_at4 extends c3_at4_typeone sig c3_at5 extends c3_at5_typeone sig c3_at6 extends c3_at6_typeone sig class4_name extends classattrset = c4_at1+c4_at2+c4_at3+c4_at4id=c4_at3no parentisabstract = no}one sig c4_at1 extends c4_at1_typeone sig c4_at2 extends c4_at2_typeone sig c4_at3 extends c4_at3_typeone sig c4_at4 extends c4_at4_typeone sig class5_name extends classattrset = c5_at1one parent parent in class2_nameid = c2_at1isabstract = no}one sig c5_at1 extends c5_at1_typeone sig class6_name extends classattrset = c6_at1_0+c6_at2+c6_at3+c6_at4id=c6_at2no parentisabstract = no}one sig c6_at1_0 extends c6_at1_typeone sig c6_at2 extends c6_at2_typeone sig c6_at3 extends c6_at3_typeone sig c6_at4 extends c6_at4_typeone sig class7_name extends classattrset = c7_at1one parent parent in class2_nameid = c2_at1isabstract = no}one sig c7_at1 extends c7_at1_typeone sig class8_name extends classattrset = c8_at1+c8_at2+c2_at2+c6_at3id=c8_at1no parentisabstract = no}one sig c8_at1 extends c8_at1_typeone sig c8_at2 extends c8_at2_typeone sig assoc1 extends association src = class8_namedst= class2_name src_multiplicity = src_mlpc dst_multiplicity = dst_mlpc}one sig assoc2 extends association src = class2_namedst= class4_name src_multiplicity = src_mlpc2 dst_multiplicity = dst_mlpc}one sig assoc3 extends association src = class8_namedst= class3_name src_multiplicity = src_mlpc dst_multiplicity = dst_mlpc}one sig assoc4 extends association src = class8_namedst= class4_name src_multiplicity = src_mlpc dst_multiplicity = dst_mlpc}one sig assoc5 extends association src = class8_namedst= class6_name src_multiplicity = src_mlpc dst_multiplicity = dst_mlpc2}one sig assoc6 extends association src = class6_namedst= class1_name src_multiplicity = src_mlpc dst_multiplicity = dst_mlpc2}one sig assoc7 extends association src = class6_namedst= class4_name src_multiplicity = src_mlpc dst_multiplicity = dst_mlpc}one sig assoc8 extends association src = class1_namedst= class3_name src_multiplicity = src_mlpc dst_multiplicity = dst_mlpc}one sig assoc9 extends association src = class1_namedst= class4_name src_multiplicity = src_mlpc dst_multiplicity = dst_mlpc}one sig assoc10 extends association src = class2_namedst= class3_name src_multiplicity = src_mlpc dst_multiplicity = dst_mlpc2}pred showrun show,mapping strategy for class1_name : map_str2mapping strategy for class6_name : map_str2mapping strategy for class5_name : map_str3mapping strategy for class7_name : map_str3association strategy for assoc3 : assoc_str1association strategy for assoc4 : assoc_str1association strategy for assoc7 : assoc_str1association strategy for assoc8 : assoc_str1association strategy for assoc5 : assoc_str2association strategy for assoc6 : assoc_str2association strategy for assoc9 : assoc_str2association strategy for assoc10 : assoc_str2,use om_name:0;create table `assoc2` (`c4_at3` c4_at3_type not null,`c2_at1` c2_at1_type not null, key `fk_assoc2_c4_at3_idx` (`c4_at3`), key `fk_assoc2_c2_at1_idx` (`c2_at1`),primary key (`c4_at3`,`c2_at1`)create table `assoc1` (`c8_at1` c8_at1_type not null,`c2_at1` c2_at1_type not null, key `fk_assoc1_c8_at1_idx` (`c8_at1`), key `fk_assoc1_c2_at1_idx` (`c2_at1`),primary key (`c8_at1`,`c2_at1`)create table `class3_name` (`c8_at1` c8_at1_type,`c3_at6` c3_at6_type,`c3_at5` c3_at5_type,`c3_at4` c3_at4_type,`c3_at3` c3_at3_type,`c3_at2` c3_at2_type,`c3_at1` c3_at1_type not null,`c1_at1` int, key `fk_class3_name_c8_at1_idx` (`c8_at1`), key `fk_class3_name_c1_at1_idx` (`c1_at1`),primary key (`c3_at1`)create table `class6_name` (`c6_at4` c6_at4_type(64),`c6_at1_0` c6_at1_type(64),`c6_at2` c6_at2_type not null,primary key (`c6_at2`)create table `class8_name` (`c8_at2` c8_at2_type(64),`c6_at3` c6_at3_type(64),`c2_at2` c2_at2_type(64),`c8_at1` c8_at1_type not null,primary key (`c8_at1`)create table `assoc10` (`c3_at1` c3_at1_type not null,`c2_at1` c2_at1_type not null, key `fk_assoc10_c3_at1_idx` (`c3_at1`), key `fk_assoc10_c2_at1_idx` (`c2_at1`),primary key (`c3_at1`,`c2_at1`)create table `class7_name` (`c7_at1` c7_at1_type(64),`c2_at1` c2_at1_type not null, key `fk_class7_name_c2_at1_idx` (`c2_at1`),primary key (`c2_at1`)create table `class2_name` (`c2_at1` c2_at1_type not null,primary key (`c2_at1`)create table `class1_name` (`c1_at2` c1_at2_type(64),`c1_at1` c1_at1_type not null,primary key (`c1_at1`)create table `assoc9` (`c4_at3` c4_at3_type not null,`c1_at1` c1_at1_type not null, key `fk_assoc9_c4_at3_idx` (`c4_at3`), key `fk_assoc9_c1_at1_idx` (`c1_at1`),primary key (`c4_at3`,`c1_at1`)create table `assoc6` (`c6_at2` c6_at2_type not null,`c1_at1` c1_at1_type not null, key `fk_assoc6_c6_at2_idx` (`c6_at2`), key `fk_assoc6_c1_at1_idx` (`c1_at1`),primary key (`c6_at2`,`c1_at1`)create table `class4_name` (`c4_at4` c4_at4_type(64),`c4_at2` c4_at2_type(64),`c4_at1` c4_at1_type(64),`c8_at1` c8_at1_type,`c4_at3` c4_at3_type not null, key `fk_class4_name_c8_at1_idx` (`c8_at1`),primary key (`c4_at3`)create table `class5_name` (`c2_at2` c2_at2_type(64),`c2_at1` c2_at1_type not null,primary key (`c2_at1`)create table `assoc7` (`c6_at2` c6_at2_type not null,`c4_at3` c4_at3_type not null, key `fk_assoc7_c6_at2_idx` (`c6_at2`), key `fk_assoc7_c4_at3_idx` (`c4_at3`),primary key (`c6_at2`,`c4_at3`)association strategy for assoc5 : assoc_str2`c8_at1` c8_at1_type not null,`c6_at2` c6_at2_type not null, key `fk_assoc5_c8_at1_idx` (`c8_at1`), key `fk_assoc5_c6_at2_idx` (`c6_at2`),primary key (`c8_at1`,`c6_at2`)alter table `assoc2`add constraint `fk_assoc2_c4_at3` foreign key (`c4_at3`) references `class4_name` (`c4_at3`) on delete cascade on update cascadeadd constraint `fk_assoc2_c2_at1` foreign key (`c2_at1`) references `class2_name` (`c2_at1`) on delete cascade on update cascade,alter table `assoc1`add constraint `fk_assoc1_c8_at1` foreign key (`c8_at1`) references `class8_name` (`c8_at1`) on delete cascade on update cascade,alter table `class3_name`add constraint `fk_class3_name_c8_at1` foreign key (`c8_at1`) references `class8_name` (`c8_at1`) on delete cascade on update cascade,add constraint `fk_class3_name_c1_at1` foreign key (`c1_at1`) references `class1_name` (`c1_at1`) on delete cascade on update cascade,alter table `assoc10`add constraint `fk_assoc10_c3_at1` foreign key (`c3_at1`) references `class3_name` (`c3_at1`) on delete cascade on update cascade,add constraint `fk_assoc10_c2_at1` foreign key (`c2_at1`) references `class2_name` (`c2_at1`) on delete cascade on update cascade,alter table `class7_name`add constraint `fk_class7_name_c2_at1` foreign key (`c2_at1`) references `class2_name` (`c2_at1`) on delete cascade on update cascade,alter table `assoc9`add constraint `fk_assoc9_c4_at3` foreign key (`c4_at3`) references `class4_name` (`c4_at3`) on delete cascade on update cascade,add constraint `fk_assoc9_c1_at1` foreign key (`c1_at1`) references `class1_name` (`c1_at1`) on delete cascade on update cascade,alter table `assoc6`add constraint `fk_assoc6_c6_at2` foreign key (`c6_at2`) references `class6_name` (`c6_at2`) on delete cascade on update cascadeadd constraint `fk_assoc6_c1_at1` foreign key (`c1_at1`) references `class1_name` (`c1_at1`) on delete cascade on update cascade,alter table `class4_name`add constraint `fk_class4_name_c8_at1` foreign key (`c8_at1`) references `class8_name` (`c8_at1`) on delete cascade on update cascade,alter table `assoc7`add constraint `fk_assoc7_c6_at2` foreign key (`c6_at2`) references `class6_name` (`c6_at2`) on delete cascade on update cascade,add constraint `fk_assoc7_c4_at3` foreign key (`c4_at3`) references `class4_name` (`c4_at3`) on delete cascade on update cascade,alter table `assoc5`add constraint `fk_assoc5_c8_at1` foreign key (`c8_at1`) references `class8_name` (`c8_at1`) on delete cascade on update cascade,add constraint `fk_assoc5_c6_at2` foreign key (`c6_at2`) references `class6_name` (`c6_at2`) on delete cascade on update cascade, [END]'"
            ],
            "application/vnd.google.colaboratory.intrinsic+json": {
              "type": "string"
            }
          },
          "metadata": {},
          "execution_count": 19
        }
      ],
      "source": [
        "context_vocab = np.array(context_text_processor.get_vocabulary())\n",
        "tokens = context_vocab[example_tokens[0].numpy()]\n",
        "' '.join(tokens)"
      ]
    },
    {
      "cell_type": "markdown",
      "metadata": {
        "id": "Ot0aCL9t-Ghi"
      },
      "source": [
        "The returned token IDs are zero-padded. This can easily be turned into a mask:"
      ]
    },
    {
      "cell_type": "code",
      "execution_count": 20,
      "metadata": {
        "colab": {
          "base_uri": "https://localhost:8080/",
          "height": 469
        },
        "id": "_jx4Or_eFRSz",
        "outputId": "e2178cb0-8138-48e8-987b-789beb9a3533"
      },
      "outputs": [
        {
          "output_type": "execute_result",
          "data": {
            "text/plain": [
              "Text(0.5, 1.0, 'Mask')"
            ]
          },
          "metadata": {},
          "execution_count": 20
        },
        {
          "output_type": "display_data",
          "data": {
            "text/plain": [
              "<Figure size 640x480 with 2 Axes>"
            ],
            "image/png": "[encoded data removed]"
          },
          "metadata": {}
        }
      ],
      "source": [
        "plt.subplot(1, 2, 1)\n",
        "plt.pcolormesh(example_tokens.to_tensor())\n",
        "plt.title('Token IDs')\n",
        "\n",
        "plt.subplot(1, 2, 2)\n",
        "plt.pcolormesh(example_tokens.to_tensor() != 0)\n",
        "plt.title('Mask')"
      ]
    },
    {
      "cell_type": "markdown",
      "metadata": {
        "id": "3O0B4XdFlRgc"
      },
      "source": [
        "### Process the dataset\n",
        "\n"
      ]
    },
    {
      "cell_type": "markdown",
      "metadata": {
        "id": "rVCuyuSp_whd"
      },
      "source": [
        "The `process_text` function below converts the `Datasets` of strings, into  0-padded tensors of token IDs. It also converts from a `(context, target)` pair to an `((context, target_in), target_out)` pair for training with `keras.Model.fit`. Keras expects `(inputs, labels)` pairs, the inputs are the `(context, target_in)` and the labels are `target_out`. The difference between `target_in` and `target_out` is that they are shifted by one step relative to eachother, so that at each location the label is the next token."
      ]
    },
    {
      "cell_type": "code",
      "execution_count": 21,
      "metadata": {
        "id": "wk5tbZWQl5u1"
      },
      "outputs": [],
      "source": [
        "def process_text(context, target):\n",
        "  context = context_text_processor(context).to_tensor()\n",
        "  target = target_text_processor(target)\n",
        "  targ_in = target[:,:-1].to_tensor()\n",
        "  targ_out = target[:,1:].to_tensor()\n",
        "  return (context, targ_in), targ_out\n",
        "\n",
        "\n",
        "train_ds = train_raw.map(process_text, tf.data.AUTOTUNE)\n",
        "val_ds = val_raw.map(process_text, tf.data.AUTOTUNE)"
      ]
    },
    {
      "cell_type": "markdown",
      "metadata": {
        "id": "4iGi7X2m_tbM"
      },
      "source": [
        "Here is the first sequence of each, from the first batch:"
      ]
    },
    {
      "cell_type": "code",
      "execution_count": 22,
      "metadata": {
        "colab": {
          "base_uri": "https://localhost:8080/"
        },
        "id": "woQBWAjLsJkr",
        "outputId": "1b337475-e486-4083-dd9f-ef11fbefc583"
      },
      "outputs": [
        {
          "output_type": "stream",
          "name": "stdout",
          "text": [
            "[117 124 169 200 121  17   4  56   5  27]\n",
            "\n",
            "[117 335 124 169 200 121  17   4  56   5]\n",
            "[335 124 169 200 121  17   4  56   5  27]\n"
          ]
        }
      ],
      "source": [
        "for (ex_context_tok, ex_tar_in), ex_tar_out in train_ds.take(1):\n",
        "  print(ex_context_tok[0, :10].numpy())\n",
        "  print()\n",
        "  print(ex_tar_in[0, :10].numpy())\n",
        "  print(ex_tar_out[0, :10].numpy())"
      ]
    },
    {
      "cell_type": "markdown",
      "metadata": {
        "id": "TNfHIF71ulLu"
      },
      "source": [
        "## The encoder/decoder\n",
        "\n",
        "  <th colspan=1>This tutorial's model</th>\n",
        "<tr>\n",
        "</table>\n"
      ]
    },
    {
      "cell_type": "markdown",
      "metadata": {
        "id": "gzQWx2saImMV"
      },
      "source": [
        "Before getting into it define constants for the model:"
      ]
    },
    {
      "cell_type": "code",
      "execution_count": 23,
      "metadata": {
        "id": "_a9uNz3-IrF-"
      },
      "outputs": [],
      "source": [
        "UNITS = 256"
      ]
    },
    {
      "cell_type": "markdown",
      "metadata": {
        "id": "blNgVbLSzpsr"
      },
      "source": [
        "### The encoder\n",
        "\n",
        "\n",
        "The encoder:\n",
        "\n",
        "1. Takes a list of token IDs (from `context_text_processor`).\n",
        "3. Looks up an embedding vector for each token (Using a `layers.Embedding`).\n",
        "4. Processes the embeddings into a new sequence (Using a bidirectional `layers.GRU`).\n",
        "5. Returns the processed sequence. This will be passed to the attention head."
      ]
    },
    {
      "cell_type": "code",
      "execution_count": 24,
      "metadata": {
        "id": "nZ2rI24i3jFg"
      },
      "outputs": [],
      "source": [
        "class Encoder(tf.keras.layers.Layer):\n",
        "  def __init__(self, text_processor, units):\n",
        "    super(Encoder, self).__init__()\n",
        "    self.text_processor = text_processor\n",
        "    self.vocab_size = text_processor.vocabulary_size()\n",
        "    self.units = units\n",
        "\n",
        "    # The embedding layer converts tokens to vectors\n",
        "    self.embedding = tf.keras.layers.Embedding(self.vocab_size, units,\n",
        "                                               mask_zero=True)\n",
        "\n",
        "    # The RNN layer processes those vectors sequentially.\n",
        "    self.rnn = tf.keras.layers.Bidirectional(\n",
        "        merge_mode='sum',\n",
        "        layer=tf.keras.layers.GRU(units,\n",
        "                            # Return the sequence and state\n",
        "                            return_sequences=True,\n",
        "                            recurrent_initializer='glorot_uniform'))\n",
        "\n",
        "  def call(self, x):\n",
        "    shape_checker = ShapeChecker()\n",
        "    shape_checker(x, 'batch s')\n",
        "\n",
        "    # 2. The embedding layer looks up the embedding vector for each token.\n",
        "    x = self.embedding(x)\n",
        "    shape_checker(x, 'batch s units')\n",
        "\n",
        "    # 3. The GRU processes the sequence of embeddings.\n",
        "    x = self.rnn(x)\n",
        "    shape_checker(x, 'batch s units')\n",
        "\n",
        "    # 4. Returns the new sequence of embeddings.\n",
        "    return x\n",
        "\n",
        "  def convert_input(self, texts):\n",
        "    texts = tf.convert_to_tensor(texts)\n",
        "    if len(texts.shape) == 0:\n",
        "      texts = tf.convert_to_tensor(texts)[tf.newaxis]\n",
        "    context = self.text_processor(texts).to_tensor()\n",
        "    context = self(context)\n",
        "    return context"
      ]
    },
    {
      "cell_type": "code",
      "execution_count": 25,
      "metadata": {
        "colab": {
          "base_uri": "https://localhost:8080/"
        },
        "id": "60gSVh05Jl6l",
        "outputId": "8ed32cc9-feef-464f-c44f-2f67d934bc35"
      },
      "outputs": [
        {
          "output_type": "stream",
          "name": "stdout",
          "text": [
            "Context tokens, shape (batch, s): (1, 867)\n",
            "Encoder output, shape (batch, s, units): (1, 867, 256)\n"
          ]
        }
      ],
      "source": [
        "# Encode the input sequence.\n",
        "encoder = Encoder(context_text_processor, UNITS)\n",
        "ex_context = encoder(ex_context_tok)\n",
        "\n",
        "print(f'Context tokens, shape (batch, s): {ex_context_tok.shape}')\n",
        "print(f'Encoder output, shape (batch, s, units): {ex_context.shape}')"
      ]
    },
    {
      "cell_type": "markdown",
      "metadata": {
        "id": "45xM_Gl1MgXY"
      },
      "source": [
        "### The attention layer\n",
        "\n",
        "The attention layer lets the decoder access the information extracted by the encoder. It computes a vector from the entire context sequence, and adds that to the decoder's output.\n"
      ]
    },
    {
      "cell_type": "code",
      "execution_count": 26,
      "metadata": {
        "id": "-Ql3ymqwD8LS"
      },
      "outputs": [],
      "source": [
        "class CrossAttention(tf.keras.layers.Layer):\n",
        "  def __init__(self, units, **kwargs):\n",
        "    super().__init__()\n",
        "    self.mha = tf.keras.layers.MultiHeadAttention(key_dim=units, num_heads=1, **kwargs)\n",
        "    self.layernorm = tf.keras.layers.LayerNormalization()\n",
        "    self.add = tf.keras.layers.Add()\n",
        "\n",
        "  def call(self, x, context):\n",
        "    shape_checker = ShapeChecker()\n",
        "\n",
        "    shape_checker(x, 'batch t units')\n",
        "    shape_checker(context, 'batch s units')\n",
        "\n",
        "    attn_output, attn_scores = self.mha(\n",
        "       query=x,\n",
        "       value=context,\n",
        "      return_attention_scores=True)\n",
        "\n",
        "    shape_checker(x, 'batch t units')\n",
        "    shape_checker(attn_scores, 'batch heads t s')\n",
        "\n",
        "  #Cache the attention scores for plotting later.\n",
        "    attn_scores = tf.reduce_mean(attn_scores, axis=1)\n",
        "    shape_checker(attn_scores, 'batch t s')\n",
        "    self.last_attention_weights = attn_scores\n",
        "\n",
        "    x = self.add([x, attn_output])\n",
        "    x = self.layernorm(x)\n",
        "\n",
        "    return x"
      ]
    },
    {
      "cell_type": "markdown",
      "metadata": {
        "id": "bRzduCU4tGN6"
      },
      "source": []
    },
    {
      "cell_type": "code",
      "execution_count": 27,
      "metadata": {
        "colab": {
          "base_uri": "https://localhost:8080/"
        },
        "id": "VVLdvss3zN4v",
        "outputId": "16dd8a93-6af4-40c6-ff23-4853855c2bde"
      },
      "outputs": [
        {
          "output_type": "stream",
          "name": "stdout",
          "text": [
            "Context sequence, shape (batch, s, units): (1, 867, 256)\n",
            "Target sequence, shape (batch, t, units): (1, 867, 256)\n",
            "Attention result, shape (batch, t, units): (1, 867, 256)\n",
            "Attention weights, shape (batch, t, s):    (1, 867, 867)\n"
          ]
        }
      ],
      "source": [
        "attention_layer = CrossAttention(UNITS)\n",
        "\n",
        "# Attend to the encoded tokens\n",
        "embed = tf.keras.layers.Embedding(target_text_processor.vocabulary_size(),\n",
        "                                 output_dim=UNITS, mask_zero=True)\n",
        "ex_tar_embed = embed(ex_tar_in)\n",
        "\n",
        "result = attention_layer(ex_tar_embed, ex_context)\n",
        "\n",
        "print(f'Context sequence, shape (batch, s, units): {ex_context.shape}')\n",
        "print(f'Target sequence, shape (batch, t, units): {ex_tar_embed.shape}')\n",
        "print(f'Attention result, shape (batch, t, units): {result.shape}')\n",
        "print(f'Attention weights, shape (batch, t, s):    {attention_layer.last_attention_weights.shape}')"
      ]
    },
    {
      "cell_type": "markdown",
      "metadata": {
        "id": "d14A2DcPtQhS"
      },
      "source": []
    },
    {
      "cell_type": "markdown",
      "metadata": {
        "id": "vx9fUhi3Pmwp"
      },
      "source": [
        "The attention weights will sum to `1` over the context sequence, at each location in the target sequence."
      ]
    },
    {
      "cell_type": "code",
      "execution_count": 28,
      "metadata": {
        "colab": {
          "base_uri": "https://localhost:8080/"
        },
        "id": "zxyR7cmQPn9P",
        "outputId": "1158d08e-8a3a-4bfa-8c43-86698a4372ac"
      },
      "outputs": [
        {
          "output_type": "execute_result",
          "data": {
            "text/plain": [
              "array([1.        , 1.        , 0.99999994, 1.        , 1.        ,\n",
              "       1.        , 1.        , 1.        , 1.        , 1.        ,\n",
              "       1.        , 1.        , 1.        , 0.99999994, 1.        ,\n",
              "       1.0000001 , 1.        , 0.9999999 , 1.        , 0.99999994,\n",
              "       1.        , 0.9999999 , 1.        , 1.        , 1.        ,\n",
              "       1.        , 1.        , 1.        , 1.        , 1.        ,\n",
              "       0.99999994, 1.        , 1.0000001 , 1.        , 0.9999999 ,\n",
              "       1.        , 1.        , 1.        , 0.9999999 , 1.        ,\n",
              "       1.        , 1.        , 1.        , 1.        , 1.        ,\n",
              "       1.        , 1.        , 0.99999994, 1.        , 1.0000001 ,\n",
              "       1.        , 0.99999994, 1.        , 1.        , 1.        ,\n",
              "       1.        , 1.        , 1.        , 1.        , 1.        ,\n",
              "       1.        , 0.9999999 , 1.        , 1.        , 1.        ,\n",
              "       0.9999999 , 1.        , 1.        , 1.        , 1.        ,\n",
              "       1.        , 0.99999994, 1.        , 1.        , 1.        ,\n",
              "       1.        , 1.        , 1.        , 1.        , 1.        ,\n",
              "       0.99999994, 1.        , 1.0000001 , 1.        , 1.        ,\n",
              "       1.        , 1.        , 1.        , 1.0000001 , 1.        ,\n",
              "       1.        , 1.        , 1.        , 1.        , 1.        ,\n",
              "       1.        , 1.        , 1.        , 1.        , 1.        ,\n",
              "       1.        , 1.        , 1.        , 1.        , 1.        ,\n",
              "       1.        , 1.        , 1.        , 0.99999994, 1.        ,\n",
              "       1.        , 1.        , 1.0000001 , 1.        , 1.        ,\n",
              "       1.        , 1.        , 1.        , 1.        , 1.        ,\n",
              "       1.        , 1.        , 1.        , 0.99999994, 1.        ,\n",
              "       1.0000001 , 1.        , 1.        , 1.        , 1.        ,\n",
              "       1.        , 1.0000001 , 1.        , 1.        , 1.        ,\n",
              "       1.        , 1.        , 1.        , 1.        , 1.        ,\n",
              "       1.        , 0.99999994, 1.        , 0.99999994, 1.        ,\n",
              "       1.        , 1.        , 0.99999994, 1.        , 1.        ,\n",
              "       1.        , 0.99999994, 1.        , 1.        , 1.        ,\n",
              "       1.0000001 , 1.        , 1.        , 1.        , 0.9999999 ,\n",
              "       1.        , 0.99999994, 1.        , 1.        , 1.        ,\n",
              "       1.        , 0.99999994, 1.        , 1.0000001 , 1.        ,\n",
              "       1.        , 1.        , 1.        , 1.        , 1.        ,\n",
              "       1.        , 0.9999999 , 1.        , 1.        , 1.        ,\n",
              "       1.        , 1.        , 1.        , 1.        , 1.        ,\n",
              "       1.        , 1.        , 1.        , 1.        , 1.        ,\n",
              "       1.        , 1.        , 1.        , 1.        , 1.        ,\n",
              "       1.        , 1.        , 1.        , 1.        , 1.        ,\n",
              "       1.        , 1.0000001 , 1.        , 1.        , 1.        ,\n",
              "       1.        , 1.        , 1.        , 1.        , 1.        ,\n",
              "       1.        , 1.        , 1.        , 1.        , 1.        ,\n",
              "       1.        , 1.        , 1.        , 1.        , 1.        ,\n",
              "       1.        , 1.        , 1.        , 1.        , 1.        ,\n",
              "       1.        , 1.        , 1.        , 1.        , 1.        ,\n",
              "       1.        , 1.        , 1.        , 1.        , 1.        ,\n",
              "       1.        , 1.        , 1.        , 1.        , 1.        ,\n",
              "       1.        , 1.        , 1.        , 1.        , 1.        ,\n",
              "       1.        , 1.        , 1.        , 1.        , 1.        ,\n",
              "       1.        , 1.        , 1.        , 0.99999994, 1.        ,\n",
              "       1.        , 1.        , 1.        , 1.        , 1.        ,\n",
              "       1.        , 1.        , 1.        , 1.        , 1.        ,\n",
              "       1.        , 1.        , 0.99999994, 1.        , 1.        ,\n",
              "       1.        , 1.        , 1.        , 1.        , 1.        ,\n",
              "       1.        , 0.9999999 , 1.        , 1.        , 1.        ,\n",
              "       1.        , 1.        , 1.        , 1.        , 1.        ,\n",
              "       1.        , 1.        , 1.        , 1.        , 1.        ,\n",
              "       1.        , 1.        , 1.        , 1.        , 1.        ,\n",
              "       1.        , 1.        , 1.        , 1.        , 1.        ,\n",
              "       1.        , 1.        , 1.        , 1.        , 1.        ,\n",
              "       1.        , 1.        , 1.        , 1.        , 1.        ,\n",
              "       1.        , 1.        , 1.        , 1.        , 1.        ,\n",
              "       1.        , 1.        , 1.        , 1.        , 1.        ,\n",
              "       1.        , 1.        , 1.        , 1.        , 1.        ,\n",
              "       1.        , 1.        , 1.        , 1.        , 1.        ,\n",
              "       1.        , 0.99999994, 1.        , 1.        , 1.        ,\n",
              "       1.        , 1.        , 1.        , 1.        , 1.        ,\n",
              "       1.        , 1.        , 1.        , 1.        , 1.        ,\n",
              "       1.        , 0.99999994, 1.        , 1.        , 1.        ,\n",
              "       1.        , 1.        , 1.        , 1.0000001 , 1.        ,\n",
              "       1.        , 1.        , 1.        , 1.0000001 , 1.        ,\n",
              "       1.        , 1.        , 1.        , 0.99999994, 1.        ,\n",
              "       1.        , 1.        , 1.        , 0.99999994, 1.        ,\n",
              "       1.        , 1.        , 1.        , 0.99999994, 1.        ,\n",
              "       1.        , 0.9999999 , 1.        , 0.99999994, 1.        ,\n",
              "       1.        , 1.        , 1.        , 0.99999994, 1.        ,\n",
              "       1.        , 1.        , 1.        , 1.        , 1.        ,\n",
              "       0.99999994, 1.        , 1.        , 1.        , 1.        ,\n",
              "       1.        , 1.        , 0.99999994, 1.        , 1.        ,\n",
              "       0.99999994, 1.        , 1.        , 1.        , 1.        ,\n",
              "       1.        , 0.99999994, 1.        , 1.        , 0.99999994,\n",
              "       1.        , 1.        , 1.        , 1.        , 1.        ,\n",
              "       1.        , 0.99999994, 1.        , 1.        , 0.99999994,\n",
              "       1.        , 1.        , 1.        , 1.        , 1.        ,\n",
              "       0.99999994, 1.        , 1.        , 0.99999994, 1.        ,\n",
              "       0.99999994, 0.99999994, 1.        , 1.        , 1.        ,\n",
              "       1.        , 0.99999994, 0.99999994, 1.        , 1.        ,\n",
              "       0.99999994, 1.        , 1.        , 1.        , 1.        ,\n",
              "       1.        , 1.0000001 , 1.        , 1.        , 1.        ,\n",
              "       1.        , 1.0000001 , 0.99999994, 1.        , 0.99999994,\n",
              "       1.        , 1.        , 0.99999994, 0.99999994, 1.        ,\n",
              "       1.        , 0.99999994, 1.        , 1.        , 0.99999994,\n",
              "       1.        , 1.        , 1.        , 1.        , 1.        ,\n",
              "       1.        , 0.99999994, 0.99999994, 1.        , 0.99999994,\n",
              "       0.99999994, 1.        , 0.99999994, 0.99999994, 1.        ,\n",
              "       1.        , 1.        , 1.        , 1.        , 1.        ,\n",
              "       1.        , 1.        , 1.        , 0.99999994, 1.        ,\n",
              "       1.        , 0.9999999 , 0.99999994, 1.        , 1.        ,\n",
              "       0.99999994, 1.        , 1.        , 1.        , 1.        ,\n",
              "       1.0000001 , 1.        , 1.        , 1.        , 1.        ,\n",
              "       1.        , 0.99999994, 1.        , 1.        , 0.99999994,\n",
              "       1.        , 0.99999994, 0.99999994, 1.        , 1.        ,\n",
              "       1.        , 1.        , 0.99999994, 0.99999994, 1.        ,\n",
              "       1.        , 1.        , 1.        , 1.        , 1.        ,\n",
              "       1.        , 1.        , 1.        , 1.        , 0.99999994,\n",
              "       1.        , 1.        , 1.        , 1.        , 1.        ,\n",
              "       1.        , 1.        , 1.        , 1.        , 1.        ,\n",
              "       1.        , 1.        , 0.99999994, 0.99999994, 1.        ,\n",
              "       1.        , 1.        , 1.        , 1.        , 1.        ,\n",
              "       1.        , 1.        , 1.        , 1.        , 1.        ,\n",
              "       1.        , 1.        , 1.        , 1.        , 1.        ,\n",
              "       1.        , 1.        , 1.        , 1.        , 1.        ,\n",
              "       0.99999994, 0.9999999 , 1.        , 0.99999994, 1.        ,\n",
              "       1.        , 1.        , 0.99999994, 1.        , 1.        ,\n",
              "       1.        , 1.        , 1.        , 1.        , 1.        ,\n",
              "       0.99999994, 0.9999999 , 1.        , 0.99999994, 1.        ,\n",
              "       1.0000001 , 1.        , 1.        , 1.        , 1.        ,\n",
              "       1.0000001 , 0.99999994, 1.        , 1.        , 0.99999994,\n",
              "       1.        , 1.        , 0.99999994, 1.0000001 , 1.        ,\n",
              "       1.0000001 , 1.        , 1.        , 1.        , 0.99999994,\n",
              "       1.        , 1.        , 0.99999994, 0.99999994, 1.        ,\n",
              "       1.        , 1.        , 1.        , 1.        , 1.        ,\n",
              "       1.        , 1.        , 1.        , 1.        , 1.        ,\n",
              "       1.        , 1.        , 1.        , 0.99999994, 1.        ,\n",
              "       1.        , 1.        , 1.        , 1.        , 1.        ,\n",
              "       1.        , 1.0000001 , 1.        , 1.        , 1.        ,\n",
              "       1.        , 1.        , 1.        , 0.9999999 , 1.        ,\n",
              "       1.        , 1.        , 1.        , 1.        , 1.        ,\n",
              "       1.        , 1.        , 1.        , 1.        , 1.        ,\n",
              "       1.        , 1.        , 1.        , 0.99999994, 1.        ,\n",
              "       1.        , 1.        , 1.        , 1.        , 1.        ,\n",
              "       1.        , 0.9999999 , 1.        , 1.        , 1.        ,\n",
              "       1.        , 1.        , 1.        , 1.        , 1.        ,\n",
              "       1.0000001 , 1.        , 1.        , 1.        , 1.        ,\n",
              "       1.        , 1.        , 1.        , 1.        , 1.        ,\n",
              "       1.        , 1.        , 1.        , 0.99999994, 1.        ,\n",
              "       1.        , 1.        , 1.        , 1.        , 1.        ,\n",
              "       1.        , 1.0000001 , 1.        , 1.        , 1.        ,\n",
              "       1.        , 1.        , 1.        , 0.9999999 , 1.        ,\n",
              "       1.        , 1.        , 1.        , 1.        , 1.        ,\n",
              "       1.        , 1.        , 1.        , 1.        , 1.        ,\n",
              "       1.        , 1.        , 1.        , 0.99999994, 1.        ,\n",
              "       0.99999994, 0.99999994, 1.        , 1.        , 1.        ,\n",
              "       1.        , 1.        , 1.        , 1.        , 1.        ,\n",
              "       1.        , 1.        , 1.        , 1.        , 1.        ,\n",
              "       1.        , 0.99999994, 1.        , 1.        , 1.        ,\n",
              "       1.        , 1.        , 1.        , 1.        , 1.0000001 ,\n",
              "       1.        , 1.        , 1.        , 1.        , 1.        ,\n",
              "       1.        , 0.9999999 , 1.        , 1.        , 1.        ,\n",
              "       1.        , 1.        , 1.        , 0.9999999 , 1.        ,\n",
              "       1.        , 1.        , 1.        , 1.        , 1.        ,\n",
              "       1.        , 0.99999994, 1.        , 1.        , 0.99999994,\n",
              "       1.        , 1.        , 1.        , 1.        , 1.        ,\n",
              "       1.        , 1.        , 1.        , 1.        , 1.        ,\n",
              "       1.        , 0.9999999 , 1.        , 1.        , 1.        ,\n",
              "       1.        , 1.        , 1.        , 1.        , 1.        ,\n",
              "       1.        , 1.        , 1.        , 1.        , 1.        ,\n",
              "       1.        , 0.99999994, 1.        , 1.        , 1.        ,\n",
              "       1.        , 1.        , 1.        , 1.        , 1.0000001 ,\n",
              "       1.        , 1.        , 1.        , 1.        , 1.        ,\n",
              "       1.        , 0.9999999 , 1.        , 1.        , 1.        ,\n",
              "       1.        , 1.0000001 , 1.        , 1.        , 1.0000001 ,\n",
              "       1.        , 1.        , 1.        , 1.        , 1.        ,\n",
              "       1.        , 0.99999994, 0.99999994, 1.        , 0.99999994,\n",
              "       1.        , 1.        , 1.0000001 , 1.        , 1.        ,\n",
              "       1.0000001 , 1.        , 1.        , 1.        , 1.        ,\n",
              "       1.        , 1.        , 0.99999994, 0.99999994, 1.        ,\n",
              "       1.        , 1.        , 1.        , 1.        , 1.        ,\n",
              "       0.9999999 , 1.        , 1.        , 1.        , 1.        ,\n",
              "       1.        , 1.        , 0.9999999 , 1.        , 1.        ,\n",
              "       1.        , 1.        , 1.        , 1.        , 1.        ,\n",
              "       1.        , 1.        , 1.        , 1.        , 1.        ,\n",
              "       1.        , 1.        ], dtype=float32)"
            ]
          },
          "metadata": {},
          "execution_count": 28
        }
      ],
      "source": [
        "attention_layer.last_attention_weights[0].numpy().sum(axis=-1)"
      ]
    },
    {
      "cell_type": "markdown",
      "metadata": {
        "id": "AagyXMH-Jhqt"
      },
      "source": [
        "\n",
        "\n",
        "Here are the attention weights across the context sequences at `t=0`:"
      ]
    },
    {
      "cell_type": "code",
      "execution_count": 29,
      "metadata": {
        "colab": {
          "base_uri": "https://localhost:8080/",
          "height": 452
        },
        "id": "LDc9M_CUtYWD",
        "outputId": "bad7ace8-f06b-409d-9447-e7ef566a18b3"
      },
      "outputs": [
        {
          "output_type": "display_data",
          "data": {
            "text/plain": [
              "<Figure size 640x480 with 2 Axes>"
            ],
            "image/png": "[encoded data removed]"
          },
          "metadata": {}
        }
      ],
      "source": [
        "attention_weights = attention_layer.last_attention_weights\n",
        "mask=(ex_context_tok != 0).numpy()\n",
        "\n",
        "plt.subplot(1, 2, 1)\n",
        "plt.pcolormesh(mask*attention_weights[:, 0, :])\n",
        "plt.title('Attention weights')\n",
        "\n",
        "plt.subplot(1, 2, 2)\n",
        "plt.pcolormesh(mask)\n",
        "plt.title('Mask');"
      ]
    },
    {
      "cell_type": "markdown",
      "metadata": {
        "id": "Cpq_sCKHtZzS"
      },
      "source": []
    },
    {
      "cell_type": "markdown",
      "metadata": {
        "id": "6Eil-C_NN1rp"
      },
      "source": [
        "Because of the small-random initialization the attention weights are initially all close to `1/(sequence_length)`. The model will learn to make these less uniform as training progresses."
      ]
    },
    {
      "cell_type": "markdown",
      "metadata": {
        "id": "aQ638eHN4iCK"
      },
      "source": [
        "### The decoder\n",
        "\n",
        "The decoder's job is to generate predictions for the next token at each location in the target sequence.\n",
        "\n",
        "1. It looks up embeddings for each token in the target sequence.\n",
        "2. It uses an RNN to process the target sequence, and keep track of what it has generated so far.\n",
        "3. It uses RNN output as the \"query\" to the attention layer, when attending to the encoder's output.\n",
        "4. At each location in the output it predicts the next token.\n"
      ]
    },
    {
      "cell_type": "markdown",
      "metadata": {
        "id": "pZsQJMqNmg_L"
      },
      "source": [
        "Here is the `Decoder` class' initializer. The initializer creates all the necessary layers."
      ]
    },
    {
      "cell_type": "code",
      "execution_count": 30,
      "metadata": {
        "id": "erYvHIgAl8kh"
      },
      "outputs": [],
      "source": [
        "class Decoder(tf.keras.layers.Layer):\n",
        "  @classmethod\n",
        "  def add_method(cls, fun):\n",
        "    setattr(cls, fun.__name__, fun)\n",
        "    return fun\n",
        "\n",
        "  def __init__(self, text_processor, units):\n",
        "    super(Decoder, self).__init__()\n",
        "    self.text_processor = text_processor\n",
        "    self.vocab_size = text_processor.vocabulary_size()\n",
        "    self.word_to_id = tf.keras.layers.StringLookup(\n",
        "        vocabulary=text_processor.get_vocabulary(),\n",
        "        mask_token='', oov_token='[UNK]')\n",
        "    self.id_to_word = tf.keras.layers.StringLookup(\n",
        "        vocabulary=text_processor.get_vocabulary(),\n",
        "        mask_token='', oov_token='[UNK]',\n",
        "        invert=True)\n",
        "    self.start_token = self.word_to_id('[START]')\n",
        "    self.end_token = self.word_to_id('[END]')\n",
        "\n",
        "    self.units = units\n",
        "\n",
        "\n",
        "    # 1. The embedding layer converts token IDs to vectors\n",
        "    self.embedding = tf.keras.layers.Embedding(self.vocab_size,\n",
        "                                               units, mask_zero=True)\n",
        "\n",
        "    # 2. The RNN keeps track of what's been generated so far.\n",
        "    self.rnn = tf.keras.layers.GRU(units,\n",
        "                                   return_sequences=True,\n",
        "                                   return_state=True,\n",
        "                                   recurrent_initializer='glorot_uniform')\n",
        "\n",
        "    # 3. The RNN output will be the query for the attention layer.\n",
        "    self.attention = CrossAttention(units)\n",
        "\n",
        "    # 4. This fully connected layer produces the logits for each\n",
        "    # output token.\n",
        "    self.output_layer = tf.keras.layers.Dense(self.vocab_size)"
      ]
    },
    {
      "cell_type": "markdown",
      "metadata": {
        "id": "Sd8-nRNzFR8x"
      },
      "source": [
        "#### Training"
      ]
    },
    {
      "cell_type": "markdown",
      "metadata": {
        "id": "UPnaw583CpnY"
      },
      "source": [
        "Next, the `call` method, takes 3 arguments:\n",
        "\n",
        "* `inputs` -  a `context, x` pair where:\n",
        "  * `context` - is the context from the encoder's output.\n",
        "  * `x` - is the target sequence input.\n",
        "* `state` - Optional, the previous `state` output from the decoder (the internal state of the decoder's RNN). Pass the state from a previous run to continue generating text where you left off.\n",
        "* `return_state` - [Default: False] - Set this to `True` to return the RNN state."
      ]
    },
    {
      "cell_type": "code",
      "execution_count": 31,
      "metadata": {
        "id": "PJOi5btHAPNK"
      },
      "outputs": [],
      "source": [
        "@Decoder.add_method\n",
        "def call(self,\n",
        "         context, x,\n",
        "         state=None,\n",
        "         return_state=False):\n",
        "  shape_checker = ShapeChecker()\n",
        "  shape_checker(x, 'batch t')\n",
        "  shape_checker(context, 'batch s units')\n",
        "\n",
        "  # 1. Lookup the embeddings\n",
        "  x = self.embedding(x)\n",
        "  shape_checker(x, 'batch t units')\n",
        "\n",
        "  # 2. Process the target sequence.\n",
        "  x, state = self.rnn(x, initial_state=state)\n",
        "  shape_checker(x, 'batch t units')\n",
        "\n",
        "  # 3. Use the RNN output as the query for the attention over the context.\n",
        "  x = self.attention(x, context)\n",
        "  self.last_attention_weights = self.attention.last_attention_weights\n",
        "  shape_checker(x, 'batch t units')\n",
        "  shape_checker(self.last_attention_weights, 'batch t s')\n",
        "\n",
        "  # Step 4. Generate logit predictions for the next token.\n",
        "  logits = self.output_layer(x)\n",
        "  shape_checker(logits, 'batch t target_vocab_size')\n",
        "\n",
        "  if return_state:\n",
        "    return logits, state\n",
        "  else:\n",
        "    return logits"
      ]
    },
    {
      "cell_type": "markdown",
      "metadata": {
        "id": "E1-mLAcUEXpK"
      },
      "source": [
        "That will be sufficient for training. Create an instance of the decoder to test out:"
      ]
    },
    {
      "cell_type": "code",
      "execution_count": 32,
      "metadata": {
        "id": "4ZUMbYXIEVeA"
      },
      "outputs": [],
      "source": [
        "decoder = Decoder(target_text_processor, UNITS)"
      ]
    },
    {
      "cell_type": "markdown",
      "metadata": {
        "id": "SFWaI4wqzt4t"
      },
      "source": [
        "Decoder usage"
      ]
    },
    {
      "cell_type": "code",
      "execution_count": 33,
      "metadata": {
        "colab": {
          "base_uri": "https://localhost:8080/"
        },
        "id": "5YM-lD7bzx18",
        "outputId": "74a75149-2d26-4ada-c246-adf000cb2b2c"
      },
      "outputs": [
        {
          "output_type": "stream",
          "name": "stdout",
          "text": [
            "encoder output shape: (batch, s, units) (1, 867, 256)\n",
            "input target tokens shape: (batch, t) (1, 867)\n",
            "logits shape shape: (batch, target_vocabulary_size) (1, 867, 1348)\n"
          ]
        }
      ],
      "source": [
        "logits = decoder(ex_context, ex_tar_in)\n",
        "\n",
        "print(f'encoder output shape: (batch, s, units) {ex_context.shape}')\n",
        "print(f'input target tokens shape: (batch, t) {ex_tar_in.shape}')\n",
        "print(f'logits shape shape: (batch, target_vocabulary_size) {logits.shape}')"
      ]
    },
    {
      "cell_type": "markdown",
      "metadata": {
        "id": "zhS_tbk7VQkX"
      },
      "source": [
        "#### Inference\n",
        "\n",
        "For inference usage couple more methods."
      ]
    },
    {
      "cell_type": "code",
      "execution_count": 34,
      "metadata": {
        "id": "SPm12cnIVRQr"
      },
      "outputs": [],
      "source": [
        "@Decoder.add_method\n",
        "def get_initial_state(self, context):\n",
        "  batch_size = tf.shape(context)[0]\n",
        "  start_tokens = tf.fill([batch_size, 1], self.start_token)\n",
        "  done = tf.zeros([batch_size, 1], dtype=tf.bool)\n",
        "  embedded = self.embedding(start_tokens)\n",
        "  return start_tokens, done, self.rnn.get_initial_state(embedded)[0]"
      ]
    },
    {
      "cell_type": "code",
      "execution_count": 35,
      "metadata": {
        "id": "TzeOhpBvVS5L"
      },
      "outputs": [],
      "source": [
        "@Decoder.add_method\n",
        "def tokens_to_text(self, tokens):\n",
        "  words = self.id_to_word(tokens)\n",
        "  result = tf.strings.reduce_join(words, axis=-1, separator=' ')\n",
        "  result = tf.strings.regex_replace(result, '^ *\\[START\\] *', '')\n",
        "  result = tf.strings.regex_replace(result, ' *\\[END\\] *$', '')\n",
        "  return result"
      ]
    },
    {
      "cell_type": "code",
      "execution_count": 36,
      "metadata": {
        "id": "v6ildnz_V1MA"
      },
      "outputs": [],
      "source": [
        "@Decoder.add_method\n",
        "def get_next_token(self, context, next_token, done, state, temperature = 0.0):\n",
        "  logits, state = self(\n",
        "    context, next_token,\n",
        "    state = state,\n",
        "    return_state=True)\n",
        "\n",
        "  if temperature == 0.0:\n",
        "    next_token = tf.argmax(logits, axis=-1)\n",
        "  else:\n",
        "    logits = logits[:, -1, :]/temperature\n",
        "    next_token = tf.random.categorical(logits, num_samples=1)\n",
        "\n",
        "  # If a sequence produces an `end_token`, set it `done`\n",
        "  done = done | (next_token == self.end_token)\n",
        "  # Once a sequence is done it only produces 0-padding.\n",
        "  next_token = tf.where(done, tf.constant(0, dtype=tf.int64), next_token)\n",
        "\n",
        "  return next_token, done, state"
      ]
    },
    {
      "cell_type": "markdown",
      "metadata": {
        "id": "9WiXLrVs-FTE"
      },
      "source": [
        "With those extra functions, you can write a generation loop:"
      ]
    },
    {
      "cell_type": "code",
      "execution_count": 37,
      "metadata": {
        "id": "SuehagxL-JBZ"
      },
      "outputs": [],
      "source": [
        "# Setup the loop variables.\n",
        "next_token, done, state = decoder.get_initial_state(ex_context)\n",
        "tokens = []\n",
        "\n",
        "for n in range(10):\n",
        "  # Run one step.\n",
        "  next_token, done, state = decoder.get_next_token(\n",
        "      ex_context, next_token, done, state, temperature=1.0)\n",
        "  # Add the token to the output.\n",
        "  tokens.append(next_token)\n",
        "\n",
        "# Stack all the tokens together.\n",
        "tokens = tf.concat(tokens, axis=-1) # (batch, t)\n",
        "\n",
        "# Convert the tokens back to a a string\n",
        "result = decoder.tokens_to_text(tokens)\n",
        "#result[:3].numpy()"
      ]
    },
    {
      "cell_type": "markdown",
      "metadata": {
        "id": "B6xyru86m914"
      },
      "source": [
        "## The model\n"
      ]
    },
    {
      "cell_type": "code",
      "execution_count": 38,
      "metadata": {
        "id": "WWIyuy71TkJT"
      },
      "outputs": [],
      "source": [
        "class Translator(tf.keras.Model):\n",
        "  @classmethod\n",
        "  def add_method(cls, fun):\n",
        "    setattr(cls, fun.__name__, fun)\n",
        "    return fun\n",
        "\n",
        "  def __init__(self, units,\n",
        "               context_text_processor,\n",
        "               target_text_processor):\n",
        "    super().__init__()\n",
        "    # Build the encoder and decoder\n",
        "    encoder = Encoder(context_text_processor, units)\n",
        "    decoder = Decoder(target_text_processor, units)\n",
        "\n",
        "    self.encoder = encoder\n",
        "    self.decoder = decoder\n",
        "\n",
        "  def call(self, inputs):\n",
        "    context, x = inputs\n",
        "    context = self.encoder(context)\n",
        "    logits = self.decoder(context, x)\n",
        "\n",
        "    #TODO(b/250038731): remove this\n",
        "    try:\n",
        "      # Delete the keras mask, so keras doesn't scale the loss+accuracy.\n",
        "      del logits._keras_mask\n",
        "    except AttributeError:\n",
        "      pass\n",
        "\n",
        "    return logits"
      ]
    },
    {
      "cell_type": "markdown",
      "metadata": {
        "id": "5rPi0FkS2iA5"
      },
      "source": [
        "During training the model will be used like this:"
      ]
    },
    {
      "cell_type": "code",
      "execution_count": 39,
      "metadata": {
        "colab": {
          "base_uri": "https://localhost:8080/"
        },
        "id": "8vhjTh84K6Mg",
        "outputId": "668bf7bf-7281-43ae-ff6e-59378ad137fe"
      },
      "outputs": [
        {
          "output_type": "stream",
          "name": "stdout",
          "text": [
            "Context tokens, shape: (batch, s, units) (1, 867)\n",
            "Target tokens, shape: (batch, t) (1, 867)\n",
            "logits, shape: (batch, t, target_vocabulary_size) (1, 867, 1348)\n"
          ]
        }
      ],
      "source": [
        "model = Translator(UNITS, context_text_processor, target_text_processor)\n",
        "\n",
        "logits = model((ex_context_tok, ex_tar_in))\n",
        "\n",
        "print(f'Context tokens, shape: (batch, s, units) {ex_context_tok.shape}')\n",
        "print(f'Target tokens, shape: (batch, t) {ex_tar_in.shape}')\n",
        "print(f'logits, shape: (batch, t, target_vocabulary_size) {logits.shape}')"
      ]
    },
    {
      "cell_type": "markdown",
      "metadata": {
        "id": "_ch_71VbIRfK"
      },
      "source": [
        "### Train"
      ]
    },
    {
      "cell_type": "code",
      "execution_count": 40,
      "metadata": {
        "id": "WmTHr5iV3jFr"
      },
      "outputs": [],
      "source": [
        "def masked_loss(y_true, y_pred):\n",
        "    # Calculate the loss for each item in the batch.\n",
        "    loss_fn = tf.keras.losses.SparseCategoricalCrossentropy(\n",
        "        from_logits=True, reduction='none')\n",
        "    loss = loss_fn(y_true, y_pred)\n",
        "\n",
        "    # Mask off the losses on padding.\n",
        "    mask = tf.cast(y_true != 0, loss.dtype)\n",
        "    loss *= mask\n",
        "\n",
        "    # Return the total.\n",
        "    return tf.reduce_sum(loss)/tf.reduce_sum(mask)"
      ]
    },
    {
      "cell_type": "code",
      "execution_count": 41,
      "metadata": {
        "id": "nRB1CTmQWOIL"
      },
      "outputs": [],
      "source": [
        "def masked_acc(y_true, y_pred):\n",
        "    # Calculate the loss for each item in the batch.\n",
        "    y_pred = tf.argmax(y_pred, axis=-1)\n",
        "    y_pred = tf.cast(y_pred, y_true.dtype)\n",
        "\n",
        "    match = tf.cast(y_true == y_pred, tf.float32)\n",
        "    mask = tf.cast(y_true != 0, tf.float32)\n",
        "\n",
        "    return tf.reduce_sum(match)/tf.reduce_sum(mask)"
      ]
    },
    {
      "cell_type": "markdown",
      "metadata": {
        "id": "f32GuAhw2nXm"
      },
      "source": [
        "Configure the model for training:"
      ]
    },
    {
      "cell_type": "code",
      "execution_count": 42,
      "metadata": {
        "id": "9g0DRRvm3l9X"
      },
      "outputs": [],
      "source": [
        "model.compile(optimizer='Adam',\n",
        "              loss=masked_loss,\n",
        "              metrics=[masked_acc, masked_loss])"
      ]
    },
    {
      "cell_type": "markdown",
      "metadata": {
        "id": "5DWLI3pssjnx"
      },
      "source": [
        "The model is randomly initialized, and should give roughly uniform output probabilities. So it's easy to predict what the initial values of the metrics should be:"
      ]
    },
    {
      "cell_type": "code",
      "execution_count": 43,
      "metadata": {
        "colab": {
          "base_uri": "https://localhost:8080/"
        },
        "id": "BuP3_LFENMJG",
        "outputId": "840afb37-a5ec-490a-8ffd-2a3f0a64aa38"
      },
      "outputs": [
        {
          "output_type": "execute_result",
          "data": {
            "text/plain": [
              "{'expected_loss': 7.2063775, 'expected_acc': 0.000741839762611276}"
            ]
          },
          "metadata": {},
          "execution_count": 43
        }
      ],
      "source": [
        "vocab_size = 1.0 * target_text_processor.vocabulary_size()\n",
        "\n",
        "{\"expected_loss\": tf.math.log(vocab_size).numpy(),\n",
        " \"expected_acc\": 1/vocab_size}"
      ]
    },
    {
      "cell_type": "markdown",
      "metadata": {
        "id": "frVba49Usd0Z"
      },
      "source": [
        "That should roughly match the values returned by running a few steps of evaluation:"
      ]
    },
    {
      "cell_type": "code",
      "execution_count": 44,
      "metadata": {
        "colab": {
          "base_uri": "https://localhost:8080/"
        },
        "id": "8rJITfxEsHKR",
        "outputId": "010ebc05-5927-4324-b4a4-2adc184df4fb"
      },
      "outputs": [
        {
          "output_type": "stream",
          "name": "stdout",
          "text": [
            "70/70 [==============================] - 11s 60ms/step - loss: 7.2291 - masked_acc: 6.4191e-05 - masked_loss: 7.2291\n"
          ]
        },
        {
          "output_type": "execute_result",
          "data": {
            "text/plain": [
              "{'loss': 7.22914981842041,\n",
              " 'masked_acc': 6.419052078854293e-05,\n",
              " 'masked_loss': 7.22914981842041}"
            ]
          },
          "metadata": {},
          "execution_count": 44
        }
      ],
      "source": [
        "model.evaluate(val_ds, steps=70, return_dict=True)"
      ]
    },
    {
      "cell_type": "code",
      "execution_count": 45,
      "metadata": {
        "colab": {
          "base_uri": "https://localhost:8080/"
        },
        "id": "BQd_esVVoSf3",
        "outputId": "c6b76260-aabb-4536-db47-dcd481890690"
      },
      "outputs": [
        {
          "output_type": "stream",
          "name": "stdout",
          "text": [
            "Epoch 1/100\n",
            "100/100 [==============================] - 40s 245ms/step - loss: 2.2943 - masked_acc: 0.6016 - masked_loss: 2.2943 - val_loss: 0.7182 - val_masked_acc: 0.8421 - val_masked_loss: 0.7182\n",
            "Epoch 2/100\n",
            "100/100 [==============================] - 16s 161ms/step - loss: 0.4165 - masked_acc: 0.9018 - masked_loss: 0.4165 - val_loss: 0.2514 - val_masked_acc: 0.9367 - val_masked_loss: 0.2514\n",
            "Epoch 3/100\n",
            "100/100 [==============================] - 16s 156ms/step - loss: 0.2218 - masked_acc: 0.9469 - masked_loss: 0.2218 - val_loss: 0.1495 - val_masked_acc: 0.9587 - val_masked_loss: 0.1495\n",
            "Epoch 4/100\n",
            "100/100 [==============================] - 14s 135ms/step - loss: 0.2665 - masked_acc: 0.9485 - masked_loss: 0.2665 - val_loss: 0.2668 - val_masked_acc: 0.9475 - val_masked_loss: 0.2668\n",
            "Epoch 5/100\n",
            "100/100 [==============================] - 12s 123ms/step - loss: 0.1991 - masked_acc: 0.9533 - masked_loss: 0.1991 - val_loss: 0.2481 - val_masked_acc: 0.9565 - val_masked_loss: 0.2481\n",
            "Epoch 6/100\n",
            "100/100 [==============================] - 15s 149ms/step - loss: 0.0954 - masked_acc: 0.9702 - masked_loss: 0.0954 - val_loss: 0.0915 - val_masked_acc: 0.9697 - val_masked_loss: 0.0915\n",
            "Epoch 7/100\n",
            "100/100 [==============================] - 12s 123ms/step - loss: 0.2121 - masked_acc: 0.9625 - masked_loss: 0.2121 - val_loss: 0.1859 - val_masked_acc: 0.9630 - val_masked_loss: 0.1859\n",
            "Epoch 8/100\n",
            "100/100 [==============================] - 14s 141ms/step - loss: 0.1046 - masked_acc: 0.9692 - masked_loss: 0.1046 - val_loss: 0.1036 - val_masked_acc: 0.9695 - val_masked_loss: 0.1036\n",
            "Epoch 9/100\n",
            "100/100 [==============================] - 12s 123ms/step - loss: 0.1424 - masked_acc: 0.9623 - masked_loss: 0.1424 - val_loss: 0.1888 - val_masked_acc: 0.9605 - val_masked_loss: 0.1888\n",
            "Epoch 10/100\n",
            "100/100 [==============================] - 16s 159ms/step - loss: 0.2839 - masked_acc: 0.9390 - masked_loss: 0.2839 - val_loss: 0.1724 - val_masked_acc: 0.9605 - val_masked_loss: 0.1724\n",
            "Epoch 11/100\n",
            "100/100 [==============================] - 15s 152ms/step - loss: 0.2685 - masked_acc: 0.9556 - masked_loss: 0.2685 - val_loss: 0.0761 - val_masked_acc: 0.9752 - val_masked_loss: 0.0761\n",
            "Epoch 12/100\n",
            "100/100 [==============================] - 12s 122ms/step - loss: 0.0714 - masked_acc: 0.9751 - masked_loss: 0.0714 - val_loss: 0.0798 - val_masked_acc: 0.9745 - val_masked_loss: 0.0798\n",
            "Epoch 13/100\n",
            "100/100 [==============================] - 15s 149ms/step - loss: 0.0690 - masked_acc: 0.9763 - masked_loss: 0.0690 - val_loss: 0.0580 - val_masked_acc: 0.9795 - val_masked_loss: 0.0580\n",
            "Epoch 14/100\n",
            "100/100 [==============================] - 15s 153ms/step - loss: 0.0857 - masked_acc: 0.9728 - masked_loss: 0.0857 - val_loss: 0.1087 - val_masked_acc: 0.9724 - val_masked_loss: 0.1087\n",
            "Epoch 15/100\n",
            "100/100 [==============================] - 14s 140ms/step - loss: 0.1998 - masked_acc: 0.9634 - masked_loss: 0.1998 - val_loss: 0.1373 - val_masked_acc: 0.9669 - val_masked_loss: 0.1373\n",
            "Epoch 16/100\n",
            "100/100 [==============================] - 15s 145ms/step - loss: 0.1589 - masked_acc: 0.9709 - masked_loss: 0.1589 - val_loss: 0.0815 - val_masked_acc: 0.9747 - val_masked_loss: 0.0815\n",
            "Epoch 17/100\n",
            "100/100 [==============================] - 12s 120ms/step - loss: 0.0592 - masked_acc: 0.9796 - masked_loss: 0.0592 - val_loss: 0.0956 - val_masked_acc: 0.9702 - val_masked_loss: 0.0956\n",
            "Epoch 18/100\n",
            "100/100 [==============================] - 12s 119ms/step - loss: 0.1620 - masked_acc: 0.9642 - masked_loss: 0.1620 - val_loss: 0.1093 - val_masked_acc: 0.9696 - val_masked_loss: 0.1093\n",
            "Epoch 19/100\n",
            "100/100 [==============================] - 12s 121ms/step - loss: 0.0748 - masked_acc: 0.9738 - masked_loss: 0.0748 - val_loss: 0.1095 - val_masked_acc: 0.9719 - val_masked_loss: 0.1095\n",
            "Epoch 20/100\n",
            "100/100 [==============================] - 13s 126ms/step - loss: 0.0577 - masked_acc: 0.9802 - masked_loss: 0.0577 - val_loss: 0.0574 - val_masked_acc: 0.9804 - val_masked_loss: 0.0574\n",
            "Epoch 21/100\n",
            "100/100 [==============================] - 13s 127ms/step - loss: 0.0654 - masked_acc: 0.9791 - masked_loss: 0.0654 - val_loss: 0.0549 - val_masked_acc: 0.9809 - val_masked_loss: 0.0549\n",
            "Epoch 22/100\n",
            "100/100 [==============================] - 15s 148ms/step - loss: 0.0979 - masked_acc: 0.9766 - masked_loss: 0.0979 - val_loss: 0.0515 - val_masked_acc: 0.9816 - val_masked_loss: 0.0515\n",
            "Epoch 23/100\n",
            "100/100 [==============================] - 12s 120ms/step - loss: 0.0482 - masked_acc: 0.9829 - masked_loss: 0.0482 - val_loss: 0.0550 - val_masked_acc: 0.9802 - val_masked_loss: 0.0550\n",
            "Epoch 24/100\n",
            "100/100 [==============================] - 15s 147ms/step - loss: 0.0536 - masked_acc: 0.9812 - masked_loss: 0.0536 - val_loss: 0.0542 - val_masked_acc: 0.9809 - val_masked_loss: 0.0542\n",
            "Epoch 25/100\n",
            "100/100 [==============================] - 14s 143ms/step - loss: 0.1064 - masked_acc: 0.9739 - masked_loss: 0.1064 - val_loss: 0.1095 - val_masked_acc: 0.9771 - val_masked_loss: 0.1095\n",
            "Epoch 26/100\n",
            "100/100 [==============================] - 15s 149ms/step - loss: 0.0869 - masked_acc: 0.9793 - masked_loss: 0.0869 - val_loss: 0.0553 - val_masked_acc: 0.9816 - val_masked_loss: 0.0553\n",
            "Epoch 27/100\n",
            "100/100 [==============================] - 14s 143ms/step - loss: 0.1045 - masked_acc: 0.9747 - masked_loss: 0.1045 - val_loss: 0.0484 - val_masked_acc: 0.9829 - val_masked_loss: 0.0484\n",
            "Epoch 28/100\n",
            "100/100 [==============================] - 14s 141ms/step - loss: 0.1014 - masked_acc: 0.9765 - masked_loss: 0.1014 - val_loss: 0.0671 - val_masked_acc: 0.9809 - val_masked_loss: 0.0671\n",
            "Epoch 29/100\n",
            "100/100 [==============================] - 15s 149ms/step - loss: 0.2090 - masked_acc: 0.9621 - masked_loss: 0.2090 - val_loss: 0.1745 - val_masked_acc: 0.9679 - val_masked_loss: 0.1745\n",
            "Epoch 30/100\n",
            "100/100 [==============================] - 12s 122ms/step - loss: 0.0584 - masked_acc: 0.9811 - masked_loss: 0.0584 - val_loss: 0.0489 - val_masked_acc: 0.9832 - val_masked_loss: 0.0489\n",
            "Epoch 31/100\n",
            "100/100 [==============================] - 14s 146ms/step - loss: 0.1227 - masked_acc: 0.9730 - masked_loss: 0.1227 - val_loss: 0.1107 - val_masked_acc: 0.9775 - val_masked_loss: 0.1107\n",
            "Epoch 32/100\n",
            "100/100 [==============================] - 15s 145ms/step - loss: 0.0477 - masked_acc: 0.9848 - masked_loss: 0.0477 - val_loss: 0.0533 - val_masked_acc: 0.9842 - val_masked_loss: 0.0533\n",
            "Epoch 33/100\n",
            "100/100 [==============================] - 12s 120ms/step - loss: 0.0422 - masked_acc: 0.9848 - masked_loss: 0.0422 - val_loss: 0.0417 - val_masked_acc: 0.9855 - val_masked_loss: 0.0417\n",
            "Epoch 34/100\n",
            "100/100 [==============================] - 14s 144ms/step - loss: 0.0484 - masked_acc: 0.9841 - masked_loss: 0.0484 - val_loss: 0.1128 - val_masked_acc: 0.9722 - val_masked_loss: 0.1128\n",
            "Epoch 35/100\n",
            "100/100 [==============================] - 12s 120ms/step - loss: 0.0420 - masked_acc: 0.9854 - masked_loss: 0.0420 - val_loss: 0.0374 - val_masked_acc: 0.9869 - val_masked_loss: 0.0374\n",
            "Epoch 36/100\n",
            "100/100 [==============================] - 12s 123ms/step - loss: 0.2232 - masked_acc: 0.9644 - masked_loss: 0.2232 - val_loss: 0.0418 - val_masked_acc: 0.9860 - val_masked_loss: 0.0418\n",
            "Epoch 37/100\n",
            "100/100 [==============================] - 12s 123ms/step - loss: 0.0898 - masked_acc: 0.9748 - masked_loss: 0.0898 - val_loss: 0.0433 - val_masked_acc: 0.9853 - val_masked_loss: 0.0433\n",
            "Epoch 38/100\n",
            "100/100 [==============================] - 12s 122ms/step - loss: 0.0388 - masked_acc: 0.9869 - masked_loss: 0.0388 - val_loss: 0.0370 - val_masked_acc: 0.9873 - val_masked_loss: 0.0370\n",
            "Epoch 39/100\n",
            "100/100 [==============================] - 15s 147ms/step - loss: 0.0423 - masked_acc: 0.9865 - masked_loss: 0.0423 - val_loss: 0.0394 - val_masked_acc: 0.9861 - val_masked_loss: 0.0394\n",
            "Epoch 40/100\n",
            "100/100 [==============================] - 14s 143ms/step - loss: 0.0340 - masked_acc: 0.9886 - masked_loss: 0.0340 - val_loss: 0.1178 - val_masked_acc: 0.9784 - val_masked_loss: 0.1178\n",
            "Epoch 41/100\n",
            "100/100 [==============================] - 12s 120ms/step - loss: 0.0352 - masked_acc: 0.9879 - masked_loss: 0.0352 - val_loss: 0.0380 - val_masked_acc: 0.9879 - val_masked_loss: 0.0380\n",
            "Epoch 42/100\n",
            "100/100 [==============================] - 14s 138ms/step - loss: 0.0885 - masked_acc: 0.9824 - masked_loss: 0.0885 - val_loss: 0.0402 - val_masked_acc: 0.9865 - val_masked_loss: 0.0402\n",
            "Epoch 43/100\n",
            "100/100 [==============================] - 14s 140ms/step - loss: 0.0553 - masked_acc: 0.9862 - masked_loss: 0.0553 - val_loss: 0.0807 - val_masked_acc: 0.9815 - val_masked_loss: 0.0807\n",
            "Epoch 44/100\n",
            "100/100 [==============================] - 12s 118ms/step - loss: 0.0580 - masked_acc: 0.9861 - masked_loss: 0.0580 - val_loss: 0.0400 - val_masked_acc: 0.9862 - val_masked_loss: 0.0400\n",
            "Epoch 45/100\n",
            "100/100 [==============================] - 15s 146ms/step - loss: 0.0424 - masked_acc: 0.9864 - masked_loss: 0.0424 - val_loss: 0.0328 - val_masked_acc: 0.9890 - val_masked_loss: 0.0328\n",
            "Epoch 46/100\n",
            "100/100 [==============================] - 12s 119ms/step - loss: 0.0443 - masked_acc: 0.9879 - masked_loss: 0.0443 - val_loss: 0.0269 - val_masked_acc: 0.9914 - val_masked_loss: 0.0269\n",
            "Epoch 47/100\n",
            "100/100 [==============================] - 12s 119ms/step - loss: 0.0308 - masked_acc: 0.9898 - masked_loss: 0.0308 - val_loss: 0.0322 - val_masked_acc: 0.9892 - val_masked_loss: 0.0322\n",
            "Epoch 48/100\n",
            "100/100 [==============================] - 15s 150ms/step - loss: 0.0773 - masked_acc: 0.9827 - masked_loss: 0.0773 - val_loss: 0.0502 - val_masked_acc: 0.9855 - val_masked_loss: 0.0502\n",
            "Epoch 49/100\n",
            "100/100 [==============================] - 14s 143ms/step - loss: 0.0872 - masked_acc: 0.9819 - masked_loss: 0.0872 - val_loss: 0.0385 - val_masked_acc: 0.9878 - val_masked_loss: 0.0385\n",
            "Epoch 50/100\n",
            "100/100 [==============================] - 12s 118ms/step - loss: 0.0334 - masked_acc: 0.9894 - masked_loss: 0.0334 - val_loss: 0.0699 - val_masked_acc: 0.9843 - val_masked_loss: 0.0699\n",
            "Epoch 51/100\n",
            "100/100 [==============================] - 12s 119ms/step - loss: 0.0845 - masked_acc: 0.9866 - masked_loss: 0.0845 - val_loss: 0.0335 - val_masked_acc: 0.9898 - val_masked_loss: 0.0335\n",
            "Epoch 52/100\n",
            "100/100 [==============================] - 14s 143ms/step - loss: 0.0282 - masked_acc: 0.9906 - masked_loss: 0.0282 - val_loss: 0.0294 - val_masked_acc: 0.9901 - val_masked_loss: 0.0294\n",
            "Epoch 53/100\n",
            "100/100 [==============================] - 12s 119ms/step - loss: 0.0314 - masked_acc: 0.9908 - masked_loss: 0.0314 - val_loss: 0.0387 - val_masked_acc: 0.9876 - val_masked_loss: 0.0387\n",
            "Epoch 54/100\n",
            "100/100 [==============================] - 14s 138ms/step - loss: 0.0451 - masked_acc: 0.9883 - masked_loss: 0.0451 - val_loss: 0.0290 - val_masked_acc: 0.9906 - val_masked_loss: 0.0290\n",
            "Epoch 55/100\n",
            "100/100 [==============================] - 12s 117ms/step - loss: 0.0720 - masked_acc: 0.9874 - masked_loss: 0.0720 - val_loss: 0.0318 - val_masked_acc: 0.9900 - val_masked_loss: 0.0318\n"
          ]
        }
      ],
      "source": [
        "history = model.fit(\n",
        "    train_ds.repeat(),\n",
        "    epochs=100,\n",
        "    steps_per_epoch = 100,\n",
        "    validation_data=val_ds,\n",
        "    validation_steps = 70,\n",
        "    callbacks=[\n",
        "        tf.keras.callbacks.EarlyStopping(patience=9)])"
      ]
    },
    {
      "cell_type": "markdown",
      "metadata": {
        "id": "Uq9lHbPgenz9"
      },
      "source": [
        "## Plotting the Loss from Training"
      ]
    },
    {
      "cell_type": "code",
      "execution_count": 46,
      "metadata": {
        "colab": {
          "base_uri": "https://localhost:8080/",
          "height": 466
        },
        "id": "38rLdlmtQHCm",
        "outputId": "933337b2-0495-41cf-a95f-56233c734aa2"
      },
      "outputs": [
        {
          "output_type": "execute_result",
          "data": {
            "text/plain": [
              "<matplotlib.legend.Legend at 0x7f179a40eb00>"
            ]
          },
          "metadata": {},
          "execution_count": 46
        },
        {
          "output_type": "display_data",
          "data": {
            "text/plain": [
              "<Figure size 640x480 with 1 Axes>"
            ],
            "image/png": "[encoded data removed]"
          },
          "metadata": {}
        }
      ],
      "source": [
        "plt.plot(history.history['loss'], label='loss')\n",
        "plt.plot(history.history['masked_loss'], label='masked_loss')\n",
        "plt.plot(history.history['val_masked_loss'], label='val_masked_loss')\n",
        "plt.ylim([0, max(plt.ylim())])\n",
        "plt.xlabel('Epoch #')\n",
        "plt.ylabel('CE/token')\n",
        "plt.legend()"
      ]
    },
    {
      "cell_type": "markdown",
      "metadata": {
        "id": "lUssYQFZet7E"
      },
      "source": [
        "## Plotting the aacuracy from the training"
      ]
    },
    {
      "cell_type": "code",
      "execution_count": 47,
      "metadata": {
        "colab": {
          "base_uri": "https://localhost:8080/",
          "height": 468
        },
        "id": "KkhXRASNG80_",
        "outputId": "63d45e4e-56ac-4c88-b2c8-129d87074d7d"
      },
      "outputs": [
        {
          "output_type": "execute_result",
          "data": {
            "text/plain": [
              "<matplotlib.legend.Legend at 0x7f179a472ad0>"
            ]
          },
          "metadata": {},
          "execution_count": 47
        },
        {
          "output_type": "display_data",
          "data": {
            "text/plain": [
              "<Figure size 640x480 with 1 Axes>"
            ],
            "image/png": "[encoded data removed]"
          },
          "metadata": {}
        }
      ],
      "source": [
        "plt.plot(history.history['masked_acc'], label='accuracy')\n",
        "plt.plot(history.history['val_masked_acc'], label='val_accuracy')\n",
        "plt.ylim([0, max(plt.ylim())])\n",
        "plt.xlabel('Epoch #')\n",
        "plt.ylabel('CE/token')\n",
        "plt.legend()"
      ]
    },
    {
      "cell_type": "markdown",
      "metadata": {
        "id": "mU3Ce8M6I3rz"
      },
      "source": [
        "### Translate Module Development\n",
        "\n",
        "Now that the model is trained, implement a function to execute the full `text => text` translation. This code is basically identical to the [inference example](#inference) in the [decoder section](#the_decoder), but this also captures the attention weights."
      ]
    },
    {
      "cell_type": "code",
      "execution_count": 48,
      "metadata": {
        "id": "mmgYPCVgEwp_"
      },
      "outputs": [],
      "source": [
        "#@title\n",
        "@Translator.add_method\n",
        "def translate(self,\n",
        "              texts, *,\n",
        "              max_length=50,\n",
        "              temperature=0.0):\n",
        "  # Process the input texts\n",
        "  context = self.encoder.convert_input(texts)\n",
        "  batch_size = tf.shape(texts)[0]\n",
        "\n",
        "  # Setup the loop inputs\n",
        "  tokens = []\n",
        "  attention_weights = []\n",
        "  next_token, done, state = self.decoder.get_initial_state(context)\n",
        "\n",
        "  for _ in range(max_length):\n",
        "    # Generate the next token\n",
        "    next_token, done, state = self.decoder.get_next_token(\n",
        "        context, next_token, done,  state, temperature)\n",
        "\n",
        "    # Collect the generated tokens\n",
        "    tokens.append(next_token)\n",
        "    attention_weights.append(self.decoder.last_attention_weights)\n",
        "\n",
        "    if tf.executing_eagerly() and tf.reduce_all(done):\n",
        "      break\n",
        "\n",
        "  # Stack the lists of tokens and attention weights.\n",
        "  tokens = tf.concat(tokens, axis=-1)   # t*[(batch 1)] -> (batch, t)\n",
        "  self.last_attention_weights = tf.concat(attention_weights, axis=1)  # t*[(batch 1 s)] -> (batch, t s)\n",
        "\n",
        "  result = self.decoder.tokens_to_text(tokens)\n",
        "  return result"
      ]
    },
    {
      "cell_type": "markdown",
      "metadata": {
        "id": "U4XufRntbbva"
      },
      "source": [
        "Here are the two helper methods, used above, to convert tokens to text, and to get the next token:"
      ]
    },
    {
      "cell_type": "code",
      "execution_count": 49,
      "metadata": {
        "id": "E5hqvbR5FUCD",
        "scrolled": false
      },
      "outputs": [],
      "source": [
        "#Individual translator mechanism, can be used to translate each data separately\n",
        "\n",
        "\n",
        "result1 = model.translate([''])\n",
        "\n",
        "result2 = model.translate([''])\n",
        "\n",
        "result23 = model.translate([''])\n",
        "\n",
        "result222 = model.translate([''])\n",
        "#result1[0].numpy().decode()\n",
        "#result2[0].numpy().decode()\n",
        "\n"
      ]
    },
    {
      "cell_type": "markdown",
      "metadata": {
        "id": "wQ1iU63cVgfs"
      },
      "source": [
        "### Attention plot generation after model training has been completed"
      ]
    },
    {
      "cell_type": "code",
      "execution_count": 50,
      "metadata": {
        "id": "s5hQWlbN3jGF"
      },
      "outputs": [],
      "source": [
        "#@title\n",
        "@Translator.add_method\n",
        "def plot_attention(self, text, **kwargs):\n",
        "  assert isinstance(text, str)\n",
        "  output = self.translate([text], **kwargs)\n",
        "  output = output[0].numpy().decode()\n",
        "\n",
        "  attention = self.last_attention_weights[0]\n",
        "\n",
        "  context = tf_lower_and_split_punct(text)\n",
        "  context = context.numpy().decode().split()\n",
        "\n",
        "  output = tf_lower_and_split_punct(output)\n",
        "  output = output.numpy().decode().split()[1:]\n",
        "\n",
        "  fig = plt.figure(figsize=(10, 10))\n",
        "  ax = fig.add_subplot(1, 1, 1)\n",
        "\n",
        "  ax.matshow(attention, cmap='viridis', vmin=0.0)\n",
        "\n",
        "  fontdict = {'fontsize': 14}\n",
        "\n",
        "  ax.set_xticklabels([''] + context, fontdict=fontdict, rotation=90)\n",
        "  ax.set_yticklabels([''] + output, fontdict=fontdict)\n",
        "\n",
        "  ax.xaxis.set_major_locator(ticker.MultipleLocator(1))\n",
        "  ax.yaxis.set_major_locator(ticker.MultipleLocator(1))\n",
        "\n",
        "  ax.set_xlabel('Input text')\n",
        "  ax.set_ylabel('Output text')"
      ]
    },
    {
      "cell_type": "code",
      "execution_count": 51,
      "metadata": {
        "id": "rrGawQv2eiA4"
      },
      "outputs": [],
      "source": [
        "#model.plot_attention('')"
      ]
    },
    {
      "cell_type": "markdown",
      "metadata": {
        "id": "JHBdOf9duumm"
      },
      "source": [
        "Translate a few more sentences and plot them:"
      ]
    },
    {
      "cell_type": "markdown",
      "metadata": {
        "id": "rA3xI3NzrRJt"
      },
      "source": [
        "The short sentences often work well, but if the input is too long the model literally loses focus and stops providing reasonable predictions. There are two main reasons for this:\n",
        "\n",
        "1. The model was trained with teacher-forcing feeding the correct token at each step, regardless of the model's predictions. The model could be made more robust if it were sometimes fed its own predictions.\n",
        "2. The model only has access to its previous output through the RNN state. If the RNN state looses track of where it was in the context sequence there's no way for the model to recover. [Transformers](transformer.ipynb) improve on this by letting the decoder look at what it has output so far."
      ]
    },
    {
      "cell_type": "markdown",
      "metadata": {
        "id": "Vtz6QBoGWqT2"
      },
      "source": [
        "The raw data is sorted by length, so try translating the longest sequence:"
      ]
    },
    {
      "cell_type": "code",
      "execution_count": 52,
      "metadata": {
        "id": "-FUHFLEvSMbG"
      },
      "outputs": [],
      "source": [
        "long_text = context_raw[-1]\n",
        "\n",
        "import textwrap\n",
        "#print('Expected output:\\n', '\\n'.join(textwrap.wrap(target_raw[-1])))"
      ]
    },
    {
      "cell_type": "markdown",
      "metadata": {
        "id": "Rc1aekzi9dLZ"
      },
      "source": [
        "# Testing unseen samples"
      ]
    },
    {
      "cell_type": "code",
      "execution_count": 2,
      "metadata": {
        "id": "6OIFQKZI9bc5"
      },
      "outputs": [],
      "source": [
        "import pandas as pd\n",
        "\n",
        "\n",
        "dc = pd.read_excel('random_set_3.0.xlsx')"
      ]
    },
    {
      "cell_type": "code",
      "execution_count": 3,
      "metadata": {
        "colab": {
          "base_uri": "https://localhost:8080/",
          "height": 206
        },
        "id": "Nsx0IyYZ9k3v",
        "outputId": "34721457-b2d6-46d0-95d1-6f94541c6f84"
      },
      "outputs": [
        {
          "output_type": "execute_result",
          "data": {
            "text/plain": [
              "                                          OM_Regular  OM_Prediction\n",
              "0  module OM_name:0,open Declaration one sig clas...              1\n",
              "1  module OM_name:0,open Declaration one sig clas...              1\n",
              "2  module OM_name:0,open Declaration one sig clas...              1\n",
              "3  module OM_name:0,open Declaration one sig clas...              1\n",
              "4  module OM_name:0,open Declaration one sig clas...              1"
            ],
            "text/html": [
              "\n",
              "  <div id=\"df-b41b60a8-de98-46cb-8332-bcc30e15afcf\">\n",
              "    <div class=\"colab-df-container\">\n",
              "      <div>\n",
              "<style scoped>\n",
              "    .dataframe tbody tr th:only-of-type {\n",
              "        vertical-align: middle;\n",
              "    }\n",
              "\n",
              "    .dataframe tbody tr th {\n",
              "        vertical-align: top;\n",
              "    }\n",
              "\n",
              "    .dataframe thead th {\n",
              "        text-align: right;\n",
              "    }\n",
              "</style>\n",
              "<table border=\"1\" class=\"dataframe\">\n",
              "  <thead>\n",
              "    <tr style=\"text-align: right;\">\n",
              "      <th></th>\n",
              "      <th>OM_Regular</th>\n",
              "      <th>OM_Prediction</th>\n",
              "    </tr>\n",
              "  </thead>\n",
              "  <tbody>\n",
              "    <tr>\n",
              "      <th>0</th>\n",
              "      <td>module OM_name:0,open Declaration one sig clas...</td>\n",
              "      <td>1</td>\n",
              "    </tr>\n",
              "    <tr>\n",
              "      <th>1</th>\n",
              "      <td>module OM_name:0,open Declaration one sig clas...</td>\n",
              "      <td>1</td>\n",
              "    </tr>\n",
              "    <tr>\n",
              "      <th>2</th>\n",
              "      <td>module OM_name:0,open Declaration one sig clas...</td>\n",
              "      <td>1</td>\n",
              "    </tr>\n",
              "    <tr>\n",
              "      <th>3</th>\n",
              "      <td>module OM_name:0,open Declaration one sig clas...</td>\n",
              "      <td>1</td>\n",
              "    </tr>\n",
              "    <tr>\n",
              "      <th>4</th>\n",
              "      <td>module OM_name:0,open Declaration one sig clas...</td>\n",
              "      <td>1</td>\n",
              "    </tr>\n",
              "  </tbody>\n",
              "</table>\n",
              "</div>\n",
              "      <button class=\"colab-df-convert\" onclick=\"convertToInteractive('df-b41b60a8-de98-46cb-8332-bcc30e15afcf')\"\n",
              "              title=\"Convert this dataframe to an interactive table.\"\n",
              "              style=\"display:none;\">\n",
              "        \n",
              "  <svg xmlns=\"http://www.w3.org/2000/svg\" height=\"24px\"viewBox=\"0 0 24 24\"\n",
              "       width=\"24px\">\n",
              "    <path d=\"M0 0h24v24H0V0z\" fill=\"none\"/>\n",
              "    <path d=\"M18.56 5.44l.94 2.06.94-2.06 2.06-.94-2.06-.94-.94-2.06-.94 2.06-2.06.94zm-11 1L8.5 8.5l.94-2.06 2.06-.94-2.06-.94L8.5 2.5l-.94 2.06-2.06.94zm10 10l.94 2.06.94-2.06 2.06-.94-2.06-.94-.94-2.06-.94 2.06-2.06.94z\"/><path d=\"M17.41 7.96l-1.37-1.37c-.4-.4-.92-.59-1.43-.59-.52 0-1.04.2-1.43.59L10.3 9.45l-7.72 7.72c-.78.78-.78 2.05 0 2.83L4 21.41c.39.39.9.59 1.41.59.51 0 1.02-.2 1.41-.59l7.78-7.78 2.81-2.81c.8-.78.8-2.07 0-2.86zM5.41 20L4 18.59l7.72-7.72 1.47 1.35L5.41 20z\"/>\n",
              "  </svg>\n",
              "      </button>\n",
              "      \n",
              "  <style>\n",
              "    .colab-df-container {\n",
              "      display:flex;\n",
              "      flex-wrap:wrap;\n",
              "      gap: 12px;\n",
              "    }\n",
              "\n",
              "    .colab-df-convert {\n",
              "      background-color: #E8F0FE;\n",
              "      border: none;\n",
              "      border-radius: 50%;\n",
              "      cursor: pointer;\n",
              "      display: none;\n",
              "      fill: #1967D2;\n",
              "      height: 32px;\n",
              "      padding: 0 0 0 0;\n",
              "      width: 32px;\n",
              "    }\n",
              "\n",
              "    .colab-df-convert:hover {\n",
              "      background-color: #E2EBFA;\n",
              "      box-shadow: 0px 1px 2px rgba(60, 64, 67, 0.3), 0px 1px 3px 1px rgba(60, 64, 67, 0.15);\n",
              "      fill: #174EA6;\n",
              "    }\n",
              "\n",
              "    [theme=dark] .colab-df-convert {\n",
              "      background-color: #3B4455;\n",
              "      fill: #D2E3FC;\n",
              "    }\n",
              "\n",
              "    [theme=dark] .colab-df-convert:hover {\n",
              "      background-color: #434B5C;\n",
              "      box-shadow: 0px 1px 3px 1px rgba(0, 0, 0, 0.15);\n",
              "      filter: drop-shadow(0px 1px 2px rgba(0, 0, 0, 0.3));\n",
              "      fill: #FFFFFF;\n",
              "    }\n",
              "  </style>\n",
              "\n",
              "      <script>\n",
              "        const buttonEl =\n",
              "          document.querySelector('#df-b41b60a8-de98-46cb-8332-bcc30e15afcf button.colab-df-convert');\n",
              "        buttonEl.style.display =\n",
              "          google.colab.kernel.accessAllowed ? 'block' : 'none';\n",
              "\n",
              "        async function convertToInteractive(key) {\n",
              "          const element = document.querySelector('#df-b41b60a8-de98-46cb-8332-bcc30e15afcf');\n",
              "          const dataTable =\n",
              "            await google.colab.kernel.invokeFunction('convertToInteractive',\n",
              "                                                     [key], {});\n",
              "          if (!dataTable) return;\n",
              "\n",
              "          const docLinkHtml = 'Like what you see? Visit the ' +\n",
              "            '<a target=\"_blank\" href=https://colab.research.google.com/notebooks/data_table.ipynb>data table notebook</a>'\n",
              "            + ' to learn more about interactive tables.';\n",
              "          element.innerHTML = '';\n",
              "          dataTable['output_type'] = 'display_data';\n",
              "          await google.colab.output.renderOutput(dataTable, element);\n",
              "          const docLink = document.createElement('div');\n",
              "          docLink.innerHTML = docLinkHtml;\n",
              "          element.appendChild(docLink);\n",
              "        }\n",
              "      </script>\n",
              "    </div>\n",
              "  </div>\n",
              "  "
            ]
          },
          "metadata": {},
          "execution_count": 3
        }
      ],
      "source": [
        "dc.head()"
      ]
    },
    {
      "cell_type": "markdown",
      "metadata": {
        "id": "er0zQybAgoJJ"
      },
      "source": [
        "### Separating Columns in X_test and y_test"
      ]
    },
    {
      "cell_type": "code",
      "execution_count": 4,
      "metadata": {
        "id": "naG54qF791Hs"
      },
      "outputs": [],
      "source": [
        "X_test2 = dc['OM_Regular'].values\n",
        "y_test2 = dc['OM_Prediction'].values"
      ]
    },
    {
      "cell_type": "code",
      "execution_count": 5,
      "metadata": {
        "colab": {
          "base_uri": "https://localhost:8080/"
        },
        "id": "VcNO_Ews2q8x",
        "outputId": "f8ae446d-130a-4062-b8d6-370d24f912cd"
      },
      "outputs": [
        {
          "output_type": "stream",
          "name": "stdout",
          "text": [
            "(4670,)\n",
            "(4670,)\n",
            "X data type:  object\n",
            "y data type:  int64\n"
          ]
        }
      ],
      "source": [
        "print(X_test2.shape)\n",
        "print(y_test2.shape)\n",
        "\n",
        "print(\"X data type: \", X_test2.dtype)\n",
        "print(\"y data type: \", y_test2.dtype)"
      ]
    },
    {
      "cell_type": "code",
      "execution_count": 6,
      "metadata": {
        "colab": {
          "base_uri": "https://localhost:8080/"
        },
        "id": "XZFASLWP95TU",
        "outputId": "39487d04-52a0-46ee-90c1-8cd3b1cbd4a5"
      },
      "outputs": [
        {
          "output_type": "stream",
          "name": "stdout",
          "text": [
            "[1 1 1 ... 1 1 1]\n"
          ]
        }
      ],
      "source": [
        "print(y_test2)"
      ]
    },
    {
      "cell_type": "code",
      "execution_count": 7,
      "metadata": {
        "id": "hgO5sa73-3f1"
      },
      "outputs": [],
      "source": [
        "inputs = X_test2"
      ]
    },
    {
      "cell_type": "markdown",
      "metadata": {
        "id": "K_yUzQq_gyYj"
      },
      "source": [
        "### Obtaining results from the model of the unseen dataset"
      ]
    },
    {
      "cell_type": "code",
      "execution_count": 8,
      "metadata": {
        "id": "4qjPTIDB-8UZ"
      },
      "outputs": [],
      "source": [
        "# import time\n",
        "\n",
        "# # Increase the time parameter\n",
        "# time_limit = 50  # in seconds\n",
        "\n",
        "# for t in inputs:\n",
        "#     start_time = time.time()\n",
        "#     output = \"\"\n",
        "#     while True:\n",
        "#         partial_output = model.translate([t], max_length=len(output) + 10)[0].numpy().decode()\n",
        "#         output += partial_output\n",
        "#         if time.time() - start_time > time_limit:\n",
        "#             break\n",
        "#     output = output.replace(' ', '')\n",
        "#     print(output)\n",
        "\n",
        "# print()\n"
      ]
    },
    {
      "cell_type": "markdown",
      "metadata": {
        "id": "1t4_2FqbE9da"
      },
      "source": [
        "# Classification Report (Unseen samples)\n"
      ]
    },
    {
      "cell_type": "code",
      "execution_count": 9,
      "metadata": {
        "id": "fVaZsDnJhkz5"
      },
      "outputs": [],
      "source": [
        "import warnings\n",
        "import numpy as np\n",
        "import pandas as pd\n",
        "import matplotlib.pyplot as plt\n",
        "from sklearn import datasets\n",
        "from sklearn.preprocessing import StandardScaler\n",
        "from sklearn.neighbors import KNeighborsClassifier\n",
        "from sklearn.model_selection import train_test_split, GridSearchCV, cross_val_score, cross_val_predict\n",
        "from sklearn.metrics import confusion_matrix, precision_score, recall_score, f1_score, roc_curve, roc_auc_score\n",
        "from sklearn.metrics import precision_recall_curve, classification_report"
      ]
    },
    {
      "cell_type": "markdown",
      "metadata": {
        "id": "TbThCFoRhLHs"
      },
      "source": [
        "### The result is obtained and captured in a separate file, labels are converted to 1 and 0 . Where 1 denotes P and 0 denotes NP."
      ]
    },
    {
      "cell_type": "markdown",
      "metadata": {
        "id": "9Jz3Rt18lUtE"
      },
      "source": [
        "###READING the predicted dataset"
      ]
    },
    {
      "cell_type": "code",
      "execution_count": 10,
      "metadata": {
        "id": "jhKnUY4XFCSj"
      },
      "outputs": [],
      "source": [
        "dd = pd.read_excel('random_set_3.0_pred.xlsx')"
      ]
    },
    {
      "cell_type": "code",
      "execution_count": 11,
      "metadata": {
        "id": "v9M2iW1MGjfM",
        "colab": {
          "base_uri": "https://localhost:8080/",
          "height": 206
        },
        "outputId": "aff8a2f9-59eb-488d-d987-02d783c7c9a0"
      },
      "outputs": [
        {
          "output_type": "execute_result",
          "data": {
            "text/plain": [
              "                                          OM_Regular  OM_Prediction\n",
              "0  p,moduleom_name:0,opendeclarationonesigclass1_...              1\n",
              "1  p,moduleom_name:0,opendeclarationonesigclass1_...              1\n",
              "2  p,moduleom_name:0,opendeclarationonesigclass1_...              1\n",
              "3  p,moduleom_name:0,opendeclarationonesigclass1_...              1\n",
              "4  p,moduleom_name:0,opendeclarationonesigclass1_...              1"
            ],
            "text/html": [
              "\n",
              "  <div id=\"df-0aa03c26-c66f-44f8-9c8d-fb00d85bbddd\">\n",
              "    <div class=\"colab-df-container\">\n",
              "      <div>\n",
              "<style scoped>\n",
              "    .dataframe tbody tr th:only-of-type {\n",
              "        vertical-align: middle;\n",
              "    }\n",
              "\n",
              "    .dataframe tbody tr th {\n",
              "        vertical-align: top;\n",
              "    }\n",
              "\n",
              "    .dataframe thead th {\n",
              "        text-align: right;\n",
              "    }\n",
              "</style>\n",
              "<table border=\"1\" class=\"dataframe\">\n",
              "  <thead>\n",
              "    <tr style=\"text-align: right;\">\n",
              "      <th></th>\n",
              "      <th>OM_Regular</th>\n",
              "      <th>OM_Prediction</th>\n",
              "    </tr>\n",
              "  </thead>\n",
              "  <tbody>\n",
              "    <tr>\n",
              "      <th>0</th>\n",
              "      <td>p,moduleom_name:0,opendeclarationonesigclass1_...</td>\n",
              "      <td>1</td>\n",
              "    </tr>\n",
              "    <tr>\n",
              "      <th>1</th>\n",
              "      <td>p,moduleom_name:0,opendeclarationonesigclass1_...</td>\n",
              "      <td>1</td>\n",
              "    </tr>\n",
              "    <tr>\n",
              "      <th>2</th>\n",
              "      <td>p,moduleom_name:0,opendeclarationonesigclass1_...</td>\n",
              "      <td>1</td>\n",
              "    </tr>\n",
              "    <tr>\n",
              "      <th>3</th>\n",
              "      <td>p,moduleom_name:0,opendeclarationonesigclass1_...</td>\n",
              "      <td>1</td>\n",
              "    </tr>\n",
              "    <tr>\n",
              "      <th>4</th>\n",
              "      <td>p,moduleom_name:0,opendeclarationonesigclass1_...</td>\n",
              "      <td>1</td>\n",
              "    </tr>\n",
              "  </tbody>\n",
              "</table>\n",
              "</div>\n",
              "      <button class=\"colab-df-convert\" onclick=\"convertToInteractive('df-0aa03c26-c66f-44f8-9c8d-fb00d85bbddd')\"\n",
              "              title=\"Convert this dataframe to an interactive table.\"\n",
              "              style=\"display:none;\">\n",
              "        \n",
              "  <svg xmlns=\"http://www.w3.org/2000/svg\" height=\"24px\"viewBox=\"0 0 24 24\"\n",
              "       width=\"24px\">\n",
              "    <path d=\"M0 0h24v24H0V0z\" fill=\"none\"/>\n",
              "    <path d=\"M18.56 5.44l.94 2.06.94-2.06 2.06-.94-2.06-.94-.94-2.06-.94 2.06-2.06.94zm-11 1L8.5 8.5l.94-2.06 2.06-.94-2.06-.94L8.5 2.5l-.94 2.06-2.06.94zm10 10l.94 2.06.94-2.06 2.06-.94-2.06-.94-.94-2.06-.94 2.06-2.06.94z\"/><path d=\"M17.41 7.96l-1.37-1.37c-.4-.4-.92-.59-1.43-.59-.52 0-1.04.2-1.43.59L10.3 9.45l-7.72 7.72c-.78.78-.78 2.05 0 2.83L4 21.41c.39.39.9.59 1.41.59.51 0 1.02-.2 1.41-.59l7.78-7.78 2.81-2.81c.8-.78.8-2.07 0-2.86zM5.41 20L4 18.59l7.72-7.72 1.47 1.35L5.41 20z\"/>\n",
              "  </svg>\n",
              "      </button>\n",
              "      \n",
              "  <style>\n",
              "    .colab-df-container {\n",
              "      display:flex;\n",
              "      flex-wrap:wrap;\n",
              "      gap: 12px;\n",
              "    }\n",
              "\n",
              "    .colab-df-convert {\n",
              "      background-color: #E8F0FE;\n",
              "      border: none;\n",
              "      border-radius: 50%;\n",
              "      cursor: pointer;\n",
              "      display: none;\n",
              "      fill: #1967D2;\n",
              "      height: 32px;\n",
              "      padding: 0 0 0 0;\n",
              "      width: 32px;\n",
              "    }\n",
              "\n",
              "    .colab-df-convert:hover {\n",
              "      background-color: #E2EBFA;\n",
              "      box-shadow: 0px 1px 2px rgba(60, 64, 67, 0.3), 0px 1px 3px 1px rgba(60, 64, 67, 0.15);\n",
              "      fill: #174EA6;\n",
              "    }\n",
              "\n",
              "    [theme=dark] .colab-df-convert {\n",
              "      background-color: #3B4455;\n",
              "      fill: #D2E3FC;\n",
              "    }\n",
              "\n",
              "    [theme=dark] .colab-df-convert:hover {\n",
              "      background-color: #434B5C;\n",
              "      box-shadow: 0px 1px 3px 1px rgba(0, 0, 0, 0.15);\n",
              "      filter: drop-shadow(0px 1px 2px rgba(0, 0, 0, 0.3));\n",
              "      fill: #FFFFFF;\n",
              "    }\n",
              "  </style>\n",
              "\n",
              "      <script>\n",
              "        const buttonEl =\n",
              "          document.querySelector('#df-0aa03c26-c66f-44f8-9c8d-fb00d85bbddd button.colab-df-convert');\n",
              "        buttonEl.style.display =\n",
              "          google.colab.kernel.accessAllowed ? 'block' : 'none';\n",
              "\n",
              "        async function convertToInteractive(key) {\n",
              "          const element = document.querySelector('#df-0aa03c26-c66f-44f8-9c8d-fb00d85bbddd');\n",
              "          const dataTable =\n",
              "            await google.colab.kernel.invokeFunction('convertToInteractive',\n",
              "                                                     [key], {});\n",
              "          if (!dataTable) return;\n",
              "\n",
              "          const docLinkHtml = 'Like what you see? Visit the ' +\n",
              "            '<a target=\"_blank\" href=https://colab.research.google.com/notebooks/data_table.ipynb>data table notebook</a>'\n",
              "            + ' to learn more about interactive tables.';\n",
              "          element.innerHTML = '';\n",
              "          dataTable['output_type'] = 'display_data';\n",
              "          await google.colab.output.renderOutput(dataTable, element);\n",
              "          const docLink = document.createElement('div');\n",
              "          docLink.innerHTML = docLinkHtml;\n",
              "          element.appendChild(docLink);\n",
              "        }\n",
              "      </script>\n",
              "    </div>\n",
              "  </div>\n",
              "  "
            ]
          },
          "metadata": {},
          "execution_count": 11
        }
      ],
      "source": [
        "dd.head()"
      ]
    },
    {
      "cell_type": "code",
      "execution_count": 12,
      "metadata": {
        "id": "1tO_WHmVHQDR"
      },
      "outputs": [],
      "source": [
        "X_test_pred2 = dd['OM_Regular'].values\n",
        "y_test_pred2 = dd['OM_Prediction'].values"
      ]
    },
    {
      "cell_type": "markdown",
      "metadata": {
        "id": "0nbGKNUjldCp"
      },
      "source": [
        "### Printing predicted labels"
      ]
    },
    {
      "cell_type": "code",
      "execution_count": 13,
      "metadata": {
        "id": "Wy2Fvt1fHYJO",
        "colab": {
          "base_uri": "https://localhost:8080/"
        },
        "outputId": "8a64aa04-93f8-4881-ac12-9d4b406cc41f"
      },
      "outputs": [
        {
          "output_type": "stream",
          "name": "stdout",
          "text": [
            "[1 1 1 ... 1 1 1]\n"
          ]
        }
      ],
      "source": [
        "print (y_test_pred2 )"
      ]
    },
    {
      "cell_type": "code",
      "execution_count": 14,
      "metadata": {
        "id": "w7RY4modHkts",
        "colab": {
          "base_uri": "https://localhost:8080/"
        },
        "outputId": "b93d7d0f-c500-470c-fcf8-e124f232a984"
      },
      "outputs": [
        {
          "output_type": "stream",
          "name": "stdout",
          "text": [
            "Testing: Precision = 1.000000\n",
            "Testing: Recall = 1.000000\n",
            "Testing: F1 Score = 1.000000\n",
            "\n",
            "Confusion Matrix (Test Data):\n",
            " [[4670]]\n"
          ]
        }
      ],
      "source": [
        "precision = precision_score(y_test2, y_test_pred2)\n",
        "print(\"Testing: Precision = %f\" % precision)\n",
        "\n",
        "\n",
        "recall = recall_score(y_test2, y_test_pred2)\n",
        "print(\"Testing: Recall = %f\" % recall)\n",
        "\n",
        "\n",
        "f1 = f1_score(y_test2, y_test_pred2)\n",
        "print(\"Testing: F1 Score = %f\" % f1)\n",
        "\n",
        "print(\"\\nConfusion Matrix (Test Data):\\n\", confusion_matrix(y_test2, y_test_pred2))"
      ]
    },
    {
      "cell_type": "code",
      "execution_count": 15,
      "metadata": {
        "id": "nd3P-TGIIN6b",
        "colab": {
          "base_uri": "https://localhost:8080/"
        },
        "outputId": "cfd441fe-bfdd-482f-a29a-5f7c0dee7256"
      },
      "outputs": [
        {
          "output_type": "stream",
          "name": "stdout",
          "text": [
            "              precision    recall  f1-score   support\n",
            "\n",
            "           1       1.00      1.00      1.00      4670\n",
            "\n",
            "    accuracy                           1.00      4670\n",
            "   macro avg       1.00      1.00      1.00      4670\n",
            "weighted avg       1.00      1.00      1.00      4670\n",
            "\n"
          ]
        }
      ],
      "source": [
        "print(classification_report(y_test2,y_test_pred2))"
      ]
    }
  ],
  "metadata": {
    "accelerator": "GPU",
    "colab": {
      "provenance": []
    },
    "gpuClass": "standard",
    "kernelspec": {
      "display_name": "Python 3 (ipykernel)",
      "language": "python",
      "name": "python3"
    },
    "language_info": {
      "codemirror_mode": {
        "name": "ipython",
        "version": 3
      },
      "file_extension": ".py",
      "mimetype": "text/x-python",
      "name": "python",
      "nbconvert_exporter": "python",
      "pygments_lexer": "ipython3",
      "version": "3.9.12"
    }
  },
  "nbformat": 4,
  "nbformat_minor": 0
}