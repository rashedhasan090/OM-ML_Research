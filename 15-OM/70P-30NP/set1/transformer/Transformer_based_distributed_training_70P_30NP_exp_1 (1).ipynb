{
 "cells": [
  {
   "cell_type": "markdown",
   "metadata": {
    "id": "53kuZAzgHqa1"
   },
   "source": [
    "\n",
    "\n",
    "\n",
    "# Transformer based distributed training\n",
    "\n",
    "Transformer based distributed training - 70P - 30NP_exp_1.ipynb\n",
    "70P- 30NP : Experiment 1\n",
    "\n",
    "\n",
    "## Object Models: 15\n",
    "\n",
    "1.\tBank\n",
    "2.\tCamping\n",
    "3.\tCanteen\n",
    "4.\tCustomer_Order\n",
    "5.\tEcommerce\n",
    "6.\tHospital Management\n",
    "7.\tLibrary Management\n",
    "8.\tOnlinestore\n",
    "9.\tStudent Course\n",
    "10.\tTraffic_Controller\n",
    "11.\tUniversity\n",
    "12.\tDecider\n",
    "13.\tSchool_mgmt\n",
    "14.\tStore_mgmt\n",
    "15. Credit Card Process\n",
    "\n",
    "\n",
    "## Dataset Instances: 31139\n",
    "\n",
    "\n",
    "## Total Training Data: 26470\n",
    "\n",
    "### training set P :  18559\n",
    "\n",
    "### training set NP : 7911\n",
    "\n",
    "\n",
    "## Total Testing Data: 4670\n",
    "\n",
    "\n",
    "### testing set P : 1965\n",
    "\n",
    "### testing set NP : 2705"
   ]
  },
  {
   "cell_type": "markdown",
   "metadata": {
    "id": "GtBEUtVnHqa4"
   },
   "source": [
    "## Introduction\n",
    "\n",
    "In this example, we'll build a sequence-to-sequence Transformer model, which\n",
    "we'll train on an English-to-Spanish machine translation task.\n",
    "\n",
    "You'll learn how to:\n",
    "\n",
    "- Vectorize text using the Keras `TextVectorization` layer.\n",
    "- Implement a `TransformerEncoder` layer, a `TransformerDecoder` layer,\n",
    "and a `PositionalEmbedding` layer.\n",
    "- Prepare data for training a sequence-to-sequence model.\n",
    "- Use the trained model to generate translations of never-seen-before\n",
    "input sentences (sequence-to-sequence inference).\n",
    "\n",
    "The code featured here is adapted from the book\n",
    "[Deep Learning with Python, Second Edition](https://www.manning.com/books/deep-learning-with-python-second-edition)\n",
    "(chapter 11: Deep learning for text).\n",
    "The present example is fairly barebones, so for detailed explanations of\n",
    "how each building block works, as well as the theory behind Transformers,\n",
    "I recommend reading the book."
   ]
  },
  {
   "cell_type": "markdown",
   "metadata": {
    "id": "tGG9yjvYHqa4"
   },
   "source": [
    "## Setup"
   ]
  },
  {
   "cell_type": "code",
   "execution_count": null,
   "metadata": {
    "id": "2Ut3uI8UHqa4"
   },
   "outputs": [],
   "source": [
    "import pathlib\n",
    "import random\n",
    "import string\n",
    "import re\n",
    "import numpy as np\n",
    "import tensorflow as tf\n",
    "from tensorflow import keras\n",
    "from tensorflow.keras import layers\n",
    "from tensorflow.keras.layers import TextVectorization\n",
    "\n"
   ]
  },
  {
   "cell_type": "code",
   "execution_count": null,
   "metadata": {
    "id": "Df3j-M1vA2SQ"
   },
   "outputs": [],
   "source": [
    "## Using Mirrored Strategy for Distributed Training"
   ]
  },
  {
   "cell_type": "code",
   "execution_count": null,
   "metadata": {
    "colab": {
     "base_uri": "https://localhost:8080/"
    },
    "id": "oi3ope8A__yL",
    "outputId": "3a01a86a-f849-4187-8672-87db1b30a551"
   },
   "outputs": [
    {
     "name": "stdout",
     "output_type": "stream",
     "text": [
      "Running training on a single GPU.\n"
     ]
    }
   ],
   "source": [
    "# Enable mixed precision for better performance on GPUs with Tensor Cores\n",
    "tf.keras.mixed_precision.set_global_policy('mixed_float16')\n",
    "\n",
    "# Check the number of available GPUs\n",
    "gpus = tf.config.list_physical_devices('GPU')\n",
    "num_gpus = len(gpus)\n",
    "if num_gpus > 1:\n",
    "    # Enable mirrored strategy for distributed training\n",
    "    strategy = tf.distribute.MirroredStrategy()\n",
    "    print('Running distributed training on', num_gpus, 'GPUs.')\n",
    "else:\n",
    "    strategy = tf.distribute.get_strategy()\n",
    "    print('Running training on a single GPU.')"
   ]
  },
  {
   "cell_type": "markdown",
   "metadata": {
    "id": "0yIDuvfJHqa5"
   },
   "source": [
    "## Downloading the data\n",
    "\n",
    "We'll be working with an English-to-Spanish translation dataset\n",
    "provided by [Anki](https://www.manythings.org/anki/). Let's download it:"
   ]
  },
  {
   "cell_type": "code",
   "execution_count": null,
   "metadata": {
    "colab": {
     "base_uri": "https://localhost:8080/"
    },
    "id": "WoNkzS7eHqa6",
    "outputId": "daeb1cb9-8a1c-4d1a-c2b3-c81d2d8ba9a3"
   },
   "outputs": [
    {
     "name": "stdout",
     "output_type": "stream",
     "text": [
      "Archive:  new.zip\n",
      "  inflating: 15_OM_70_final_1.txt    \n"
     ]
    }
   ],
   "source": [
    "\n",
    "!unzip new.zip\n",
    "\n",
    "import pathlib\n",
    "\n",
    "file_path = \"/content/new.zip\"\n",
    "extracted_dir = pathlib.Path(file_path).parent\n",
    "text_file = extracted_dir / \"15_OM_70_final_1.txt\"\n"
   ]
  },
  {
   "cell_type": "markdown",
   "metadata": {
    "id": "NEuvPsK1Hqa6"
   },
   "source": [
    "## Parsing the data\n",
    "\n",
    "Each line contains an English sentence and its corresponding Spanish sentence.\n",
    "The English sentence is the *source sequence* and Spanish one is the *target sequence*.\n",
    "We prepend the token `\"[start]\"` and we append the token `\"[end]\"` to the Spanish sentence."
   ]
  },
  {
   "cell_type": "code",
   "execution_count": null,
   "metadata": {
    "id": "CwTUqXKkHqa6"
   },
   "outputs": [],
   "source": [
    "with open(text_file) as f:\n",
    "    lines = f.read().split(\"\\n\")[:-1]\n",
    "text_pairs = []\n",
    "for line in lines:\n",
    "    eng, spa = line.split(\"\\t\")\n",
    "    spa = \"[start] \" + spa + \" [end]\"\n",
    "    text_pairs.append((eng, spa))"
   ]
  },
  {
   "cell_type": "markdown",
   "metadata": {
    "id": "0lKYYxnRHqa6"
   },
   "source": [
    "Here's what our sentence pairs look like:"
   ]
  },
  {
   "cell_type": "code",
   "execution_count": null,
   "metadata": {
    "colab": {
     "base_uri": "https://localhost:8080/"
    },
    "id": "W71EWhMAHqa7",
    "outputId": "49a4dff1-a4e5-40b9-9eb6-b43ffe5b6d34"
   },
   "outputs": [
    {
     "name": "stdout",
     "output_type": "stream",
     "text": [
      "('module OM_name 0;open Declarationone sig class1_name extends ClassattrSet = c1_at1+c1_at2id=c1_at1no parentisAbstract = No}one sig c1_at1 extends c1_at1_typeone sig c1_at2 extends c1_at2_typeone sig class2_name extends ClassattrSet = c2_at1+c2_at2id=c2_at1no parentisAbstract = No}one sig c2_at1 extends c2_at1_typeone sig c2_at1 extends c2_at2_typeone sig class3_name extends ClassattrSet = c3_at1+c3_at2+c3_at3+c3_at4c3_at5+c3_at6id=c3_at1no parentisAbstract = No}one sig c3_at1 extends c3_at1_typeone sig c3_at2 extends c3_at2_typeone sig c3_at3 extends c3_at3_typeone sig c3_at4 extends c3_at4_typeone sig c3_at5 extends c3_at5_typeone sig c3_at6 extends c3_at6_typeone sig class4_name extends ClassattrSet = c4_at1+c4_at2+c4_at3+c4_at4id=c4_at3no parentisAbstract = No}one sig c4_at1 extends c4_at1_typeone sig c4_at2 extends c4_at2_typeone sig c4_at3 extends c4_at3_typeone sig c4_at4 extends c4_at4_typeone sig class5_name extends ClassattrSet = c5_at1one parentparent in class2_nameid = c2_at1isAbstract = No}one sig c5_at1 extends c5_at1_typeone sig class6_name extends ClassattrSet = c6_at1_0+c6_at2+c6_at3+c6_at4id=c6_at2no parentisAbstract = No}one sig c6_at1_0 extends c6_at1_typeone sig c6_at2 extends c6_at2_typeone sig c6_at3 extends c6_at3_typeone sig c6_at4 extends c6_at4_typeone sig class7_name extends ClassattrSet = c7_at1one parentparent in class2_nameid = c2_at1isAbstract = No}one sig c7_at1 extends c7_at1_typeone sig class8_name extends ClassattrSet = c8_at1+c8_at2+c2_at2+c6_at3id=c8_at1no parentisAbstract = No}one sig c8_at1 extends c8_at1_typeone sig c8_at2 extends c8_at2_typeone sig assoc1 extends Associationsrc = class8_namedst= class2_namesrc_multiplicity = src_mlpcdst_multiplicity = dst_mlpc}one sig assoc2 extends Associationsrc = class2_namedst= class4_namesrc_multiplicity = src_mlpc2dst_multiplicity = dst_mlpc}one sig assoc3 extends Associationsrc = class8_namedst= class3_namesrc_multiplicity = src_mlpcdst_multiplicity = dst_mlpc}one sig assoc4 extends Associationsrc = class8_namedst= class4_namesrc_multiplicity = src_mlpcdst_multiplicity = dst_mlpc}one sig assoc5 extends Associationsrc = class8_namedst= class6_namesrc_multiplicity = src_mlpcdst_multiplicity = dst_mlpc2}one sig assoc6 extends Associationsrc = class6_namedst= class1_namesrc_multiplicity = src_mlpcdst_multiplicity = dst_mlpc2}one sig assoc7 extends Associationsrc = class6_namedst= class4_namesrc_multiplicity = src_mlpcdst_multiplicity = dst_mlpc}one sig assoc8 extends Associationsrc = class1_namedst= class3_namesrc_multiplicity = src_mlpcdst_multiplicity = dst_mlpc}one sig assoc9 extends Associationsrc = class1_namedst= class4_namesrc_multiplicity = src_mlpcdst_multiplicity = dst_mlpc}one sig assoc10 extends Associationsrc = class2_namedst= class3_namesrc_multiplicity = src_mlpcdst_multiplicity = dst_mlpc2}pred showrun show ,Mapping Strategy for class1_name : map_str2Mapping Strategy for class2_name : map_str2Mapping Strategy for class3_name : map_str2Mapping Strategy for class5_name : map_str2Mapping Strategy for class6_name : map_str2Mapping Strategy for class7_name : map_str2Association Strategy for assoc3 : assoc_str2Association Strategy for assoc4 : assoc_str2Association Strategy for assoc5 : assoc_str2Association Strategy for assoc6 : assoc_str2Association Strategy for assoc7 : assoc_str2Association Strategy for assoc8 : assoc_str2Association Strategy for assoc9 : assoc_str2Association Strategy for assoc10 : assoc_str2 ,USE OM_name:0;CREATE TABLE `class5_name` (c5_at1` c5_at1_type(64) ,`c2_at2` c2_at2_type(64) ,`c2_at1` c2_at1_type NOT NULL ,PRIMARY KEY (`c2_at1`) CREATE TABLE `class2_name` (`c2_at1` c2_at1_type NOT NULL ,PRIMARY KEY (`c2_at1`) CREATE TABLE `class6_name` (`c6_at4` c6_at4_type(64) ,`c6_at3` c6_at3_type(64) ,`c6_at1_0` c6_at1_type(64) ,`c6_at2` c6_at2_type NOT NULL ,PRIMARY KEY (`c6_at2`)CREATE TABLE `class1_name` (`c1_at2` c1_at2_type(64) ,`c1_at1` c1_at1_type NOT NULL ,PRIMARY KEY (`c1_at1`)CREATE TABLE `class7_name` (`c7_at1` c7_at1_type(64) ,`c2_at1` c2_at1_type NOT NULL ,KEY `FK_class7_name_c2_at1_idx` (`c2_at1`) ,PRIMARY KEY (`c2_at1`) CREATE TABLE `class3_name` (`c8_at1` c8_at1_type ,`c3_at6` c3_at6_type ,`c3_at5` c3_at5_type ,`c3_at4` c3_at4_type ,`c3_at3` c3_at3_type ,`c3_at2` c3_at2_type ,`c3_at1` c3_at1_type NOT NULL ,`c1_at1` int ,KEY `FK_class3_name_c8_at1_idx` (`c8_at1`) ,KEY `FK_class3_name_c1_at1_idx` (`c1_at1`) ,PRIMARY KEY (`c3_at1`)CREATE TABLE `assoc2` (`c4_at3` c4_at3_type NOT NULL ,`c2_at1` c2_at1_type NOT NULL ,KEY `FK_assoc2_c4_at3_idx` (`c4_at3`) ,KEY `FK_assoc2_c2_at1_idx` (`c2_at1`) ,PRIMARY KEY (`c4_at3` ,`c2_at1`)CREATE TABLE `assoc1` (`c8_at1` c8_at1_type NOT NULL ,`c2_at1` c2_at1_type NOT NULL ,KEY `FK_assoc1_c8_at1_idx` (`c8_at1`) ,KEY `FK_assoc1_c2_at1_idx` (`c2_at1`) ,PRIMARY KEY (`c8_at1` ,`c2_at1`)CREATE TABLE `assoc6` (`c6_at2` c6_at2_type NOT NULL ,`c1_at1` c1_at1_type NOT NULL ,KEY `FK_assoc6_c6_at2_idx` (`c6_at2`) ,KEY `FK_assoc6_c1_at1_idx` (`c1_at1`) ,PRIMARY KEY (`c6_at2` ,`c1_at1`)CREATE TABLE `assoc10` (`c3_at1` c3_at1_type NOT NULL ,`c2_at1` c2_at1_type NOT NULL ,KEY `FK_assoc10_c3_at1_idx` (`c3_at1`) ,KEY `FK_assoc10_c2_at1_idx` (`c2_at1`) ,PRIMARY KEY (`c3_at1` ,`c2_at1`)Association Strategy for assoc5 : assoc_str2`c8_at1` c8_at1_type NOT NULL ,`c6_at2` c6_at2_type NOT NULL ,KEY `FK_assoc5_c8_at1_idx` (`c8_at1`) ,KEY `FK_assoc5_c6_at2_idx` (`c6_at2`) ,PRIMARY KEY (`c8_at1` ,`c6_at2`)CREATE TABLE `class4_name` (`c4_at4` c4_at4_type(64) ,`c4_at2` c4_at2_type(64) ,`c4_at1` c4_at1_type(64) ,`c8_at1` c8_at1_type ,`c6_at2` c6_at2_type ,`c4_at3` c4_at3_type NOT NULL ,`c1_at1` int ,KEY `FK_class4_name_c8_at1_idx` (`c8_at1`) ,KEY `FK_class4_name_c6_at2_idx` (`c6_at2`) ,KEY `FK_class4_name_c1_at1_idx` (`c1_at1`) ,PRIMARY KEY (`c4_at3`)CREATE TABLE `class8_name` (`c8_at2` c8_at2_type(64) ,`c2_at2` c2_at2_type(64) ,`c8_at1` c8_at1_type NOT NULL ,PRIMARY KEY (`c8_at1`)ALTER TABLE `class7_name`ADD CONSTRAINT `FK_class7_name_c2_at1` FOREIGN KEY (`c2_at1`)  REFERENCES  `class2_name` (`c2_at1`) ON DELETE CASCADE ON UPDATE CASCADE ,ALTER TABLE `class3_name`ADD CONSTRAINT `FK_class3_name_c8_at1` FOREIGN KEY (`c8_at1`)  REFERENCES  `class8_name` (`c8_at1`) ON DELETE CASCADE ON UPDATE CASCADE ,ADD CONSTRAINT `FK_class3_name_c1_at1` FOREIGN KEY (`c1_at1`)  REFERENCES  `class1_name` (`c1_at1`) ON DELETE CASCADE ON UPDATE CASCADE ,ALTER TABLE `assoc2`ADD CONSTRAINT `FK_assoc2_c4_at3` FOREIGN KEY (`c4_at3`)  REFERENCES  `class4_name` (`c4_at3`) ON DELETE CASCADE ON UPDATE CASCADEADD CONSTRAINT `FK_assoc2_c2_at1` FOREIGN KEY (`c2_at1`)  REFERENCES  `class2_name` (`c2_at1`) ON DELETE CASCADE ON UPDATE CASCADE ,ALTER TABLE `assoc1`ADD CONSTRAINT `FK_assoc1_c8_at1` FOREIGN KEY (`c8_at1`)  REFERENCES  `class8_name` (`c8_at1`) ON DELETE CASCADE ON UPDATE CASCADE ,ADD CONSTRAINT `FK_assoc1_c2_at1` FOREIGN KEY (`c2_at1`)  REFERENCES  `class2_name` (`c2_at1`) ON DELETE CASCADE ON UPDATE CASCADE;ALTER TABLE `assoc6`ALTER TABLE `class7_name`ADD CONSTRAINT `FK_assoc6_c1_at1` FOREIGN KEY (`c1_at1`)  REFERENCES  `class1_name` (`c1_at1`) ON DELETE CASCADE ON UPDATE CASCADE ,ALTER TABLE `assoc10`ADD CONSTRAINT `FK_assoc10_c3_at1` FOREIGN KEY (`c3_at1`)  REFERENCES  `class3_name` (`c3_at1`) ON DELETE CASCADE ON UPDATE CASCADE ,ADD CONSTRAINT `FK_assoc10_c2_at1` FOREIGN KEY (`c2_at1`)  REFERENCES  `class2_name` (`c2_at1`) ON DELETE CASCADE ON UPDATE CASCADE ,ALTER TABLE `assoc5`ADD CONSTRAINT `FK_assoc5_c8_at1` FOREIGN KEY (`c8_at1`)  REFERENCES  `class8_name` (`c8_at1`) ON DELETE CASCADE ON UPDATE CASCADE ,ADD CONSTRAINT `FK_assoc5_c6_at2` FOREIGN KEY (`c6_at2`)  REFERENCES  `class6_name` (`c6_at2`) ON DELETE CASCADE ON UPDATE CASCADE;ALTER TABLE `class4_name`ADD CONSTRAINT `FK_class4_name_c8_at1` FOREIGN KEY (`c8_at1`)  REFERENCES  `class8_name` (`c8_at1`) ON DELETE CASCADE ON UPDATE CASCADE ,ADD CONSTRAINT `FK_class4_name_c6_at2` FOREIGN KEY (`c6_at2`)  REFERENCES  `class6_name` (`c6_at2`) ON DELETE CASCADE ON UPDATE CASCADE;ADD CONSTRAINT `FK_class4_name_c1_at1` FOREIGN KEY (`c1_at1`)  REFERENCES  `class1_name` (`c1_at1`) ON DELETE CASCADE ON UPDATE CASCADE', '[start] P, module OM_name 0;open Declarationone sig class1_name extends ClassattrSet = c1_at1+c1_at2id=c1_at1no parentisAbstract = No}one sig c1_at1 extends c1_at1_typeone sig c1_at2 extends c1_at2_typeone sig class2_name extends ClassattrSet = c2_at1+c2_at2id=c2_at1no parentisAbstract = No}one sig c2_at1 extends c2_at1_typeone sig c2_at1 extends c2_at2_typeone sig class3_name extends ClassattrSet = c3_at1+c3_at2+c3_at3+c3_at4c3_at5+c3_at6id=c3_at1no parentisAbstract = No}one sig c3_at1 extends c3_at1_typeone sig c3_at2 extends c3_at2_typeone sig c3_at3 extends c3_at3_typeone sig c3_at4 extends c3_at4_typeone sig c3_at5 extends c3_at5_typeone sig c3_at6 extends c3_at6_typeone sig class4_name extends ClassattrSet = c4_at1+c4_at2+c4_at3+c4_at4id=c4_at3no parentisAbstract = No}one sig c4_at1 extends c4_at1_typeone sig c4_at2 extends c4_at2_typeone sig c4_at3 extends c4_at3_typeone sig c4_at4 extends c4_at4_typeone sig class5_name extends ClassattrSet = c5_at1one parentparent in class2_nameid = c2_at1isAbstract = No}one sig c5_at1 extends c5_at1_typeone sig class6_name extends ClassattrSet = c6_at1_0+c6_at2+c6_at3+c6_at4id=c6_at2no parentisAbstract = No}one sig c6_at1_0 extends c6_at1_typeone sig c6_at2 extends c6_at2_typeone sig c6_at3 extends c6_at3_typeone sig c6_at4 extends c6_at4_typeone sig class7_name extends ClassattrSet = c7_at1one parentparent in class2_nameid = c2_at1isAbstract = No}one sig c7_at1 extends c7_at1_typeone sig class8_name extends ClassattrSet = c8_at1+c8_at2+c2_at2+c6_at3id=c8_at1no parentisAbstract = No}one sig c8_at1 extends c8_at1_typeone sig c8_at2 extends c8_at2_typeone sig assoc1 extends Associationsrc = class8_namedst= class2_namesrc_multiplicity = src_mlpcdst_multiplicity = dst_mlpc}one sig assoc2 extends Associationsrc = class2_namedst= class4_namesrc_multiplicity = src_mlpc2dst_multiplicity = dst_mlpc}one sig assoc3 extends Associationsrc = class8_namedst= class3_namesrc_multiplicity = src_mlpcdst_multiplicity = dst_mlpc}one sig assoc4 extends Associationsrc = class8_namedst= class4_namesrc_multiplicity = src_mlpcdst_multiplicity = dst_mlpc}one sig assoc5 extends Associationsrc = class8_namedst= class6_namesrc_multiplicity = src_mlpcdst_multiplicity = dst_mlpc2}one sig assoc6 extends Associationsrc = class6_namedst= class1_namesrc_multiplicity = src_mlpcdst_multiplicity = dst_mlpc2}one sig assoc7 extends Associationsrc = class6_namedst= class4_namesrc_multiplicity = src_mlpcdst_multiplicity = dst_mlpc}one sig assoc8 extends Associationsrc = class1_namedst= class3_namesrc_multiplicity = src_mlpcdst_multiplicity = dst_mlpc}one sig assoc9 extends Associationsrc = class1_namedst= class4_namesrc_multiplicity = src_mlpcdst_multiplicity = dst_mlpc}one sig assoc10 extends Associationsrc = class2_namedst= class3_namesrc_multiplicity = src_mlpcdst_multiplicity = dst_mlpc2}pred showrun show ,Mapping Strategy for class1_name : map_str2Mapping Strategy for class2_name : map_str2Mapping Strategy for class3_name : map_str2Mapping Strategy for class5_name : map_str2Mapping Strategy for class6_name : map_str2Mapping Strategy for class7_name : map_str2Association Strategy for assoc3 : assoc_str2Association Strategy for assoc4 : assoc_str2Association Strategy for assoc5 : assoc_str2Association Strategy for assoc6 : assoc_str2Association Strategy for assoc7 : assoc_str2Association Strategy for assoc8 : assoc_str2Association Strategy for assoc9 : assoc_str2Association Strategy for assoc10 : assoc_str2 ,USE OM_name:0;CREATE TABLE `class5_name` (c5_at1` c5_at1_type(64) ,`c2_at2` c2_at2_type(64) ,`c2_at1` c2_at1_type NOT NULL ,PRIMARY KEY (`c2_at1`) CREATE TABLE `class2_name` (`c2_at1` c2_at1_type NOT NULL ,PRIMARY KEY (`c2_at1`) CREATE TABLE `class6_name` (`c6_at4` c6_at4_type(64) ,`c6_at3` c6_at3_type(64) ,`c6_at1_0` c6_at1_type(64) ,`c6_at2` c6_at2_type NOT NULL ,PRIMARY KEY (`c6_at2`)CREATE TABLE `class1_name` (`c1_at2` c1_at2_type(64) ,`c1_at1` c1_at1_type NOT NULL ,PRIMARY KEY (`c1_at1`)CREATE TABLE `class7_name` (`c7_at1` c7_at1_type(64) ,`c2_at1` c2_at1_type NOT NULL ,KEY `FK_class7_name_c2_at1_idx` (`c2_at1`) ,PRIMARY KEY (`c2_at1`) CREATE TABLE `class3_name` (`c8_at1` c8_at1_type ,`c3_at6` c3_at6_type ,`c3_at5` c3_at5_type ,`c3_at4` c3_at4_type ,`c3_at3` c3_at3_type ,`c3_at2` c3_at2_type ,`c3_at1` c3_at1_type NOT NULL ,`c1_at1` int ,KEY `FK_class3_name_c8_at1_idx` (`c8_at1`) ,KEY `FK_class3_name_c1_at1_idx` (`c1_at1`) ,PRIMARY KEY (`c3_at1`)CREATE TABLE `assoc2` (`c4_at3` c4_at3_type NOT NULL ,`c2_at1` c2_at1_type NOT NULL ,KEY `FK_assoc2_c4_at3_idx` (`c4_at3`) ,KEY `FK_assoc2_c2_at1_idx` (`c2_at1`) ,PRIMARY KEY (`c4_at3` ,`c2_at1`)CREATE TABLE `assoc1` (`c8_at1` c8_at1_type NOT NULL ,`c2_at1` c2_at1_type NOT NULL ,KEY `FK_assoc1_c8_at1_idx` (`c8_at1`) ,KEY `FK_assoc1_c2_at1_idx` (`c2_at1`) ,PRIMARY KEY (`c8_at1` ,`c2_at1`)CREATE TABLE `assoc6` (`c6_at2` c6_at2_type NOT NULL ,`c1_at1` c1_at1_type NOT NULL ,KEY `FK_assoc6_c6_at2_idx` (`c6_at2`) ,KEY `FK_assoc6_c1_at1_idx` (`c1_at1`) ,PRIMARY KEY (`c6_at2` ,`c1_at1`)CREATE TABLE `assoc10` (`c3_at1` c3_at1_type NOT NULL ,`c2_at1` c2_at1_type NOT NULL ,KEY `FK_assoc10_c3_at1_idx` (`c3_at1`) ,KEY `FK_assoc10_c2_at1_idx` (`c2_at1`) ,PRIMARY KEY (`c3_at1` ,`c2_at1`)Association Strategy for assoc5 : assoc_str2`c8_at1` c8_at1_type NOT NULL ,`c6_at2` c6_at2_type NOT NULL ,KEY `FK_assoc5_c8_at1_idx` (`c8_at1`) ,KEY `FK_assoc5_c6_at2_idx` (`c6_at2`) ,PRIMARY KEY (`c8_at1` ,`c6_at2`)CREATE TABLE `class4_name` (`c4_at4` c4_at4_type(64) ,`c4_at2` c4_at2_type(64) ,`c4_at1` c4_at1_type(64) ,`c8_at1` c8_at1_type ,`c6_at2` c6_at2_type ,`c4_at3` c4_at3_type NOT NULL ,`c1_at1` int ,KEY `FK_class4_name_c8_at1_idx` (`c8_at1`) ,KEY `FK_class4_name_c6_at2_idx` (`c6_at2`) ,KEY `FK_class4_name_c1_at1_idx` (`c1_at1`) ,PRIMARY KEY (`c4_at3`)CREATE TABLE `class8_name` (`c8_at2` c8_at2_type(64) ,`c2_at2` c2_at2_type(64) ,`c8_at1` c8_at1_type NOT NULL ,PRIMARY KEY (`c8_at1`)ALTER TABLE `class7_name`ADD CONSTRAINT `FK_class7_name_c2_at1` FOREIGN KEY (`c2_at1`)  REFERENCES  `class2_name` (`c2_at1`) ON DELETE CASCADE ON UPDATE CASCADE ,ALTER TABLE `class3_name`ADD CONSTRAINT `FK_class3_name_c8_at1` FOREIGN KEY (`c8_at1`)  REFERENCES  `class8_name` (`c8_at1`) ON DELETE CASCADE ON UPDATE CASCADE ,ADD CONSTRAINT `FK_class3_name_c1_at1` FOREIGN KEY (`c1_at1`)  REFERENCES  `class1_name` (`c1_at1`) ON DELETE CASCADE ON UPDATE CASCADE ,ALTER TABLE `assoc2`ADD CONSTRAINT `FK_assoc2_c4_at3` FOREIGN KEY (`c4_at3`)  REFERENCES  `class4_name` (`c4_at3`) ON DELETE CASCADE ON UPDATE CASCADEADD CONSTRAINT `FK_assoc2_c2_at1` FOREIGN KEY (`c2_at1`)  REFERENCES  `class2_name` (`c2_at1`) ON DELETE CASCADE ON UPDATE CASCADE ,ALTER TABLE `assoc1`ADD CONSTRAINT `FK_assoc1_c8_at1` FOREIGN KEY (`c8_at1`)  REFERENCES  `class8_name` (`c8_at1`) ON DELETE CASCADE ON UPDATE CASCADE ,ADD CONSTRAINT `FK_assoc1_c2_at1` FOREIGN KEY (`c2_at1`)  REFERENCES  `class2_name` (`c2_at1`) ON DELETE CASCADE ON UPDATE CASCADE;ALTER TABLE `assoc6`ALTER TABLE `class7_name`ADD CONSTRAINT `FK_assoc6_c1_at1` FOREIGN KEY (`c1_at1`)  REFERENCES  `class1_name` (`c1_at1`) ON DELETE CASCADE ON UPDATE CASCADE ,ALTER TABLE `assoc10`ADD CONSTRAINT `FK_assoc10_c3_at1` FOREIGN KEY (`c3_at1`)  REFERENCES  `class3_name` (`c3_at1`) ON DELETE CASCADE ON UPDATE CASCADE ,ADD CONSTRAINT `FK_assoc10_c2_at1` FOREIGN KEY (`c2_at1`)  REFERENCES  `class2_name` (`c2_at1`) ON DELETE CASCADE ON UPDATE CASCADE ,ALTER TABLE `assoc5`ADD CONSTRAINT `FK_assoc5_c8_at1` FOREIGN KEY (`c8_at1`)  REFERENCES  `class8_name` (`c8_at1`) ON DELETE CASCADE ON UPDATE CASCADE ,ADD CONSTRAINT `FK_assoc5_c6_at2` FOREIGN KEY (`c6_at2`)  REFERENCES  `class6_name` (`c6_at2`) ON DELETE CASCADE ON UPDATE CASCADE;ALTER TABLE `class4_name`ADD CONSTRAINT `FK_class4_name_c8_at1` FOREIGN KEY (`c8_at1`)  REFERENCES  `class8_name` (`c8_at1`) ON DELETE CASCADE ON UPDATE CASCADE ,ADD CONSTRAINT `FK_class4_name_c6_at2` FOREIGN KEY (`c6_at2`)  REFERENCES  `class6_name` (`c6_at2`) ON DELETE CASCADE ON UPDATE CASCADE;ADD CONSTRAINT `FK_class4_name_c1_at1` FOREIGN KEY (`c1_at1`)  REFERENCES  `class1_name` (`c1_at1`) ON DELETE CASCADE ON UPDATE CASCADE  [end]')\n",
      "(\"module OM_name 0;open Declarationone sig class1_name extends ClassattrSet = c1_at1+c1_at2id=c1_at1no parentisAbstract = No}one sig c1_at1 extends c1_at1_typeone sig c1_at2 extends c1_at2_typeone sig class2_name extends ClassattrSet = c2_at1+c2_at2id=c2_at1no parentisAbstract = No}one sig c2_at1 extends c2_at1_typeone sig c2_at1 extends c2_at2_typeone sig class3_name extends ClassattrSet = c3_at1+c3_at2+c3_at3+c3_at4c3_at5+c3_at6id=c3_at1no parentisAbstract = No}one sig c3_at1 extends c3_at1_typeone sig c3_at2 extends c3_at2_typeone sig c3_at3 extends c3_at3_typeone sig c3_at4 extends c3_at4_typeone sig c3_at5 extends c3_at5_typeone sig c3_at6 extends c3_at6_typeone sig class4_name extends ClassattrSet = c4_at1+c4_at2+c4_at3+c4_at4id=c4_at3no parentisAbstract = No}one sig c4_at1 extends c4_at1_typeone sig c4_at2 extends c4_at2_typeone sig c4_at3 extends c4_at3_typeone sig c4_at4 extends c4_at4_typeone sig class5_name extends ClassattrSet = c5_at1one parentparent in class2_nameid = c2_at1isAbstract = No}one sig c5_at1 extends c5_at1_typeone sig class6_name extends ClassattrSet = c6_at1_0+c6_at2+c6_at3+c6_at4id=c6_at2no parentisAbstract = No}one sig c6_at1_0 extends c6_at1_typeone sig c6_at2 extends c6_at2_typeone sig c6_at3 extends c6_at3_typeone sig c6_at4 extends c6_at4_typeone sig class7_name extends ClassattrSet = c7_at1one parentparent in class2_nameid = c2_at1isAbstract = No}one sig c7_at1 extends c7_at1_typeone sig class8_name extends ClassattrSet = c8_at1one parentparent in class2_nameid = c2_at1isAbstract = No}one sig c8_at1 extends c8_at1_typeone sig class9_name extends ClassattrSet = c9_at1one parentparent in class2_nameid = c2_at1isAbstract = No}one sig c9_at1 extends c9_at1_typeone sig class10_name extends ClassattrSet = c10_at1+c10_at2+c2_at2+c6_at3id=c10_at1no parentisAbstract = No}one sig c10_at1 extends c10_at1_typeone sig c10_at2 extends c10_at2_typeone sig assoc10 extends Associationsrc = class10_namedst= class2_namesrc_multiplicity = src_mlpcdst_multiplicity = dst_mlpc}one sig assoc1 extends Associationsrc = class2_namedst= class4_namesrc_multiplicity = src_mlpc2dst_multiplicity = dst_mlpc}one sig assoc2 extends Associationsrc = class10_namedst= class3_namesrc_multiplicity = src_mlpcdst_multiplicity = dst_mlpc}one sig assoc3 extends Associationsrc = class10_namedst= class4_namesrc_multiplicity = src_mlpcdst_multiplicity = dst_mlpc}one sig assoc4 extends Associationsrc = class10_namedst= class6_namesrc_multiplicity = src_mlpcdst_multiplicity = dst_mlpc2}one sig assoc5 extends Associationsrc = class6_namedst= class1_namesrc_multiplicity = src_mlpcdst_multiplicity = dst_mlpc2}one sig assoc6 extends Associationsrc = class6_namedst= class4_namesrc_multiplicity = src_mlpcdst_multiplicity = dst_mlpc}one sig assoc7 extends Associationsrc = class1_namedst= class3_namesrc_multiplicity = src_mlpcdst_multiplicity = dst_mlpc}one sig assoc8 extends Associationsrc = class1_namedst= class4_namesrc_multiplicity = src_mlpcdst_multiplicity = dst_mlpc}one sig assoc9 extends Associationsrc = class2_namedst= class3_namesrc_multiplicity = src_mlpcdst_multiplicity = dst_mlpc2}pred showrun show ,Mapping Strategy for class1_name : map_str2Mapping Strategy for class3_name : map_str2Mapping Strategy for class5_name : map_str2Mapping Strategy for class7_name : map_str2Mapping Strategy for class8_name : map_str2Mapping Strategy for class10_name : map_str2Association Strategy for assoc6 : assoc_str1Association Strategy for assoc1 : assoc_str2Association Strategy for assoc2 : assoc_str2Association Strategy for assoc3 : assoc_str2Association Strategy for assoc4 : assoc_str2Association Strategy for assoc5 : assoc_str2Association Strategy for assoc7 : assoc_str2Association Strategy for assoc9 : assoc_str2 ,USE OM_name:0;CREATE TABLE `class7_name` (`c7_at1` c7_at1_type(64) ,`c2_at2` c2_at2_type(64) ,`c2_at1` c2_at1_type NOT NULL ,PRIMARY KEY (`c2_at1`) CREATE TABLE `class5_name` (c5_at1` c5_at1_type(64) ,`c2_at2` c2_at2_type(64) ,`c2_at1` c2_at1_type NOT NULL ,PRIMARY KEY (`c2_at1`) CREATE TABLE `assoc3` (c10_at1` c10_at1_type`c4_at3` c4_at3_type NOT NULL ,CREATE TABLE `class2_name` (`c2_at2` c2_at2_type(64) ,`c2_at1` c2_at1_type NOT NULL ,PRIMARY KEY (`c2_at1`) CREATE TABLE `assoc10` (c10_at1` c10_at1_type`c2_at1` c2_at1_type NOT NULL ,KEY `FK_assoc10_c2_at1_idx` (`c2_at1`) ,CREATE TABLE `class3_name` (`c3_at6` c3_at6_type ,`c3_at5` c3_at5_type ,`c3_at4` c3_at4_type ,`c3_at3` c3_at3_type ,`c3_at2` c3_at2_type ,`c3_at1` c3_at1_type NOT NULL ,PRIMARY KEY (`c3_at1`)CREATE TABLE `class1_name` (`c1_at2` c1_at2_type(64) ,`c1_at1` c1_at1_type NOT NULL ,PRIMARY KEY (`c1_at1`)CREATE TABLE `assoc7` (`c3_at1` c3_at1_type NOT NULL ,`c1_at1` c1_at1_type NOT NULL ,KEY `FK_assoc7_c3_at1_idx` (`c3_at1`) ,KEY `FK_assoc7_c1_at1_idx` (`c1_at1`) ,PRIMARY KEY (`c3_at1` ,`c1_at1`)CREATE TABLE `class6_name` (`c6_at4` c6_at4_type(64) ,`c6_at3` c6_at3_type(64) ,`c6_at1_0` c6_at1_type(64) ,`c6_at2` c6_at2_type NOT NULL ,PRIMARY KEY (`c6_at2`)CREATE TABLE `assoc1` (`c4_at3` c4_at3_type NOT NULL ,`c2_at1` c2_at1_type NOT NULL ,KEY `FK_assoc1_c4_at3_idx` (`c4_at3`) ,KEY `FK_assoc1_c2_at1_idx` (`c2_at1`) ,PRIMARY KEY (`c4_at3` ,`c2_at1`)CREATE TABLE `assoc4` (c10_at1` c10_at1_type`c6_at2` c6_at2_type NOT NULL ,KEY `FK_assoc4_c10_at1_idx` (`c10_at1`) ,KEY `FK_assoc4_c6_at2_idx` (`c6_at2`) ,PRIMARY KEY (`c10_at1` ,`c6_at2`)CREATE TABLE `assoc2` (c10_at1` c10_at1_type`c3_at1` c3_at1_type NOT NULL ,Association Strategy for assoc5 : assoc_str2`c6_at2` c6_at2_type NOT NULL ,`c1_at1` c1_at1_type NOT NULL ,KEY `FK_assoc5_c6_at2_idx` (`c6_at2`) ,KEY `FK_assoc5_c1_at1_idx` (`c1_at1`) ,PRIMARY KEY (`c6_at2` ,`c1_at1`)CREATE TABLE `assoc6` (`c6_at2` c6_at2_type NOT NULL ,`c4_at3` c4_at3_type NOT NULL ,KEY `FK_assoc6_c6_at2_idx` (`c6_at2`) ,KEY `FK_assoc6_c4_at3_idx` (`c4_at3`) ,'PRIMARY KEY (`c6_at2` ,`c4_at3`)CREATE TABLE `class4_name` (`c4_at4` c4_at4_type(64) ,`c4_at2` c4_at2_type(64) ,`c4_at1` c4_at1_type(64) ,`c4_at3` c4_at3_type NOT NULL ,PRIMARY KEY (`c4_at3`)CREATE TABLE `class10_name` (`c10_at2` c10_at2_type(64) ,`c6_at3` c6_at3_type(64) ,c10_at1` c10_at1_typePRIMARY KEY (`c10_at1`)CREATE TABLE `assoc9` (`c3_at1` c3_at1_type NOT NULL ,`c2_at1` c2_at1_type NOT NULL ,KEY `FK_assoc9_c3_at1_idx` (`c3_at1`)KEY `FK_assoc9_c2_at1_idx` (`c2_at1`)PRIMARY KEY (`c3_at1` ,`c2_at1`)CREATE TABLE `class9_name` (`c9_at1` c9_at1_type(64) ,`c2_at2` c2_at2_type(64) ,`c2_at1` c2_at1_type NOT NULL ,PRIMARY KEY (`c2_at1`) CREATE TABLE `class8_name` (`c8_at1` c8_at1_type(64) ,`c2_at1` c2_at1_type NOT NULL ,PRIMARY KEY (`c2_at1`) CREATE TABLE `assoc8` (`c4_at3` c4_at3_type NOT NULL ,`c1_at1` c1_at1_type NOT NULL ,KEY `FK_assoc8_c1_at1_idx` (`c1_at1`) ,PRIMARY KEY (`c4_at3` ,`c1_at1`)ALTER TABLE `assoc3`ALTER TABLE `assoc10`ADD CONSTRAINT `FK_assoc10_c2_at1` FOREIGN KEY (`c2_at1`)  REFERENCES  `class2_name` (`c2_at1`) ON DELETE CASCADE ON UPDATE CASCADE ,ALTER TABLE `assoc7`ADD CONSTRAINT `FK_assoc7_c3_at1` FOREIGN KEY (`c3_at1`)  REFERENCES  `class3_name` (`c3_at1`) ON DELETE CASCADE ON UPDATE CASCADE;ADD CONSTRAINT `FK_assoc7_c1_at1` FOREIGN KEY (`c1_at1`)  REFERENCES  `class1_name` (`c1_at1`) ON DELETE CASCADE ON UPDATE CASCADE;ALTER TABLE `assoc1`ADD CONSTRAINT `FK_assoc1_c4_at3` FOREIGN KEY (`c4_at3`)  REFERENCES  `class4_name` (`c4_at3`) ON DELETE CASCADE ON UPDATE CASCADE;ADD CONSTRAINT `FK_assoc1_c2_at1` FOREIGN KEY (`c2_at1`)  REFERENCES  `class2_name` (`c2_at1`) ON DELETE CASCADE ON UPDATE CASCADE;ALTER TABLE `assoc4`ADD CONSTRAINT `FK_assoc4_c10_at1` FOREIGN KEY (`c10_at1`)  REFERENCES  `class10_name` (`c10_at1`) ON DELETE CASCADE ON UPDATE CASCADE;ADD CONSTRAINT `FK_assoc4_c6_at2` FOREIGN KEY (`c6_at2`)  REFERENCES  `class6_name` (`c6_at2`) ON DELETE CASCADE ON UPDATE CASCADE;ALTER TABLE `assoc2`ALTER TABLE `assoc5`ADD CONSTRAINT `FK_assoc5_c6_at2` FOREIGN KEY (`c6_at2`)  REFERENCES  `class6_name` (`c6_at2`) ON DELETE CASCADE ON UPDATE CASCADE;ADD CONSTRAINT `FK_assoc5_c1_at1` FOREIGN KEY (`c1_at1`)  REFERENCES  `class1_name` (`c1_at1`) ON DELETE CASCADE ON UPDATE CASCADE;ALTER TABLE `assoc6`ALTER TABLE `class7_name`ADD CONSTRAINT `FK_assoc6_c4_at3` FOREIGN KEY (`c4_at3`)  REFERENCES  `class4_name` (`c1_at1`) ON DELETE CASCADE ON UPDATE CASCADE;ALTER TABLE `assoc9`ADD CONSTRAINT `FK_assoc9_c3_at1` FOREIGN KEY (`c3_at1`)  REFERENCES  `class3_name` (`c3_at1`) ON DELETE CASCADE ON UPDATE CASCADE;ADD CONSTRAINT `FK_assoc9_c2_at1` FOREIGN KEY (`c2_at1`)  REFERENCES  `class2_name` (`c2_at1`) ON DELETE CASCADE ON UPDATE CASCADE;ALTER TABLE `assoc8`ADD CONSTRAINT `FK_assoc8_c1_at1` FOREIGN KEY (`c1_at1`)  REFERENCES  `class1_name` (`c1_at1`) ON DELETE CASCADE ON UPDATE CASCADE\", \"[start] P, module OM_name 0;open Declarationone sig class1_name extends ClassattrSet = c1_at1+c1_at2id=c1_at1no parentisAbstract = No}one sig c1_at1 extends c1_at1_typeone sig c1_at2 extends c1_at2_typeone sig class2_name extends ClassattrSet = c2_at1+c2_at2id=c2_at1no parentisAbstract = No}one sig c2_at1 extends c2_at1_typeone sig c2_at1 extends c2_at2_typeone sig class3_name extends ClassattrSet = c3_at1+c3_at2+c3_at3+c3_at4c3_at5+c3_at6id=c3_at1no parentisAbstract = No}one sig c3_at1 extends c3_at1_typeone sig c3_at2 extends c3_at2_typeone sig c3_at3 extends c3_at3_typeone sig c3_at4 extends c3_at4_typeone sig c3_at5 extends c3_at5_typeone sig c3_at6 extends c3_at6_typeone sig class4_name extends ClassattrSet = c4_at1+c4_at2+c4_at3+c4_at4id=c4_at3no parentisAbstract = No}one sig c4_at1 extends c4_at1_typeone sig c4_at2 extends c4_at2_typeone sig c4_at3 extends c4_at3_typeone sig c4_at4 extends c4_at4_typeone sig class5_name extends ClassattrSet = c5_at1one parentparent in class2_nameid = c2_at1isAbstract = No}one sig c5_at1 extends c5_at1_typeone sig class6_name extends ClassattrSet = c6_at1_0+c6_at2+c6_at3+c6_at4id=c6_at2no parentisAbstract = No}one sig c6_at1_0 extends c6_at1_typeone sig c6_at2 extends c6_at2_typeone sig c6_at3 extends c6_at3_typeone sig c6_at4 extends c6_at4_typeone sig class7_name extends ClassattrSet = c7_at1one parentparent in class2_nameid = c2_at1isAbstract = No}one sig c7_at1 extends c7_at1_typeone sig class8_name extends ClassattrSet = c8_at1one parentparent in class2_nameid = c2_at1isAbstract = No}one sig c8_at1 extends c8_at1_typeone sig class9_name extends ClassattrSet = c9_at1one parentparent in class2_nameid = c2_at1isAbstract = No}one sig c9_at1 extends c9_at1_typeone sig class10_name extends ClassattrSet = c10_at1+c10_at2+c2_at2+c6_at3id=c10_at1no parentisAbstract = No}one sig c10_at1 extends c10_at1_typeone sig c10_at2 extends c10_at2_typeone sig assoc10 extends Associationsrc = class10_namedst= class2_namesrc_multiplicity = src_mlpcdst_multiplicity = dst_mlpc}one sig assoc1 extends Associationsrc = class2_namedst= class4_namesrc_multiplicity = src_mlpc2dst_multiplicity = dst_mlpc}one sig assoc2 extends Associationsrc = class10_namedst= class3_namesrc_multiplicity = src_mlpcdst_multiplicity = dst_mlpc}one sig assoc3 extends Associationsrc = class10_namedst= class4_namesrc_multiplicity = src_mlpcdst_multiplicity = dst_mlpc}one sig assoc4 extends Associationsrc = class10_namedst= class6_namesrc_multiplicity = src_mlpcdst_multiplicity = dst_mlpc2}one sig assoc5 extends Associationsrc = class6_namedst= class1_namesrc_multiplicity = src_mlpcdst_multiplicity = dst_mlpc2}one sig assoc6 extends Associationsrc = class6_namedst= class4_namesrc_multiplicity = src_mlpcdst_multiplicity = dst_mlpc}one sig assoc7 extends Associationsrc = class1_namedst= class3_namesrc_multiplicity = src_mlpcdst_multiplicity = dst_mlpc}one sig assoc8 extends Associationsrc = class1_namedst= class4_namesrc_multiplicity = src_mlpcdst_multiplicity = dst_mlpc}one sig assoc9 extends Associationsrc = class2_namedst= class3_namesrc_multiplicity = src_mlpcdst_multiplicity = dst_mlpc2}pred showrun show ,Mapping Strategy for class1_name : map_str2Mapping Strategy for class3_name : map_str2Mapping Strategy for class5_name : map_str2Mapping Strategy for class7_name : map_str2Mapping Strategy for class8_name : map_str2Mapping Strategy for class10_name : map_str2Association Strategy for assoc6 : assoc_str1Association Strategy for assoc1 : assoc_str2Association Strategy for assoc2 : assoc_str2Association Strategy for assoc3 : assoc_str2Association Strategy for assoc4 : assoc_str2Association Strategy for assoc5 : assoc_str2Association Strategy for assoc7 : assoc_str2Association Strategy for assoc9 : assoc_str2 ,USE OM_name:0;CREATE TABLE `class7_name` (`c7_at1` c7_at1_type(64) ,`c2_at2` c2_at2_type(64) ,`c2_at1` c2_at1_type NOT NULL ,PRIMARY KEY (`c2_at1`) CREATE TABLE `class5_name` (c5_at1` c5_at1_type(64) ,`c2_at2` c2_at2_type(64) ,`c2_at1` c2_at1_type NOT NULL ,PRIMARY KEY (`c2_at1`) CREATE TABLE `assoc3` (c10_at1` c10_at1_type`c4_at3` c4_at3_type NOT NULL ,CREATE TABLE `class2_name` (`c2_at2` c2_at2_type(64) ,`c2_at1` c2_at1_type NOT NULL ,PRIMARY KEY (`c2_at1`) CREATE TABLE `assoc10` (c10_at1` c10_at1_type`c2_at1` c2_at1_type NOT NULL ,KEY `FK_assoc10_c2_at1_idx` (`c2_at1`) ,CREATE TABLE `class3_name` (`c3_at6` c3_at6_type ,`c3_at5` c3_at5_type ,`c3_at4` c3_at4_type ,`c3_at3` c3_at3_type ,`c3_at2` c3_at2_type ,`c3_at1` c3_at1_type NOT NULL ,PRIMARY KEY (`c3_at1`)CREATE TABLE `class1_name` (`c1_at2` c1_at2_type(64) ,`c1_at1` c1_at1_type NOT NULL ,PRIMARY KEY (`c1_at1`)CREATE TABLE `assoc7` (`c3_at1` c3_at1_type NOT NULL ,`c1_at1` c1_at1_type NOT NULL ,KEY `FK_assoc7_c3_at1_idx` (`c3_at1`) ,KEY `FK_assoc7_c1_at1_idx` (`c1_at1`) ,PRIMARY KEY (`c3_at1` ,`c1_at1`)CREATE TABLE `class6_name` (`c6_at4` c6_at4_type(64) ,`c6_at3` c6_at3_type(64) ,`c6_at1_0` c6_at1_type(64) ,`c6_at2` c6_at2_type NOT NULL ,PRIMARY KEY (`c6_at2`)CREATE TABLE `assoc1` (`c4_at3` c4_at3_type NOT NULL ,`c2_at1` c2_at1_type NOT NULL ,KEY `FK_assoc1_c4_at3_idx` (`c4_at3`) ,KEY `FK_assoc1_c2_at1_idx` (`c2_at1`) ,PRIMARY KEY (`c4_at3` ,`c2_at1`)CREATE TABLE `assoc4` (c10_at1` c10_at1_type`c6_at2` c6_at2_type NOT NULL ,KEY `FK_assoc4_c10_at1_idx` (`c10_at1`) ,KEY `FK_assoc4_c6_at2_idx` (`c6_at2`) ,PRIMARY KEY (`c10_at1` ,`c6_at2`)CREATE TABLE `assoc2` (c10_at1` c10_at1_type`c3_at1` c3_at1_type NOT NULL ,Association Strategy for assoc5 : assoc_str2`c6_at2` c6_at2_type NOT NULL ,`c1_at1` c1_at1_type NOT NULL ,KEY `FK_assoc5_c6_at2_idx` (`c6_at2`) ,KEY `FK_assoc5_c1_at1_idx` (`c1_at1`) ,PRIMARY KEY (`c6_at2` ,`c1_at1`)CREATE TABLE `assoc6` (`c6_at2` c6_at2_type NOT NULL ,`c4_at3` c4_at3_type NOT NULL ,KEY `FK_assoc6_c6_at2_idx` (`c6_at2`) ,KEY `FK_assoc6_c4_at3_idx` (`c4_at3`) ,'PRIMARY KEY (`c6_at2` ,`c4_at3`)CREATE TABLE `class4_name` (`c4_at4` c4_at4_type(64) ,`c4_at2` c4_at2_type(64) ,`c4_at1` c4_at1_type(64) ,`c4_at3` c4_at3_type NOT NULL ,PRIMARY KEY (`c4_at3`)CREATE TABLE `class10_name` (`c10_at2` c10_at2_type(64) ,`c6_at3` c6_at3_type(64) ,c10_at1` c10_at1_typePRIMARY KEY (`c10_at1`)CREATE TABLE `assoc9` (`c3_at1` c3_at1_type NOT NULL ,`c2_at1` c2_at1_type NOT NULL ,KEY `FK_assoc9_c3_at1_idx` (`c3_at1`)KEY `FK_assoc9_c2_at1_idx` (`c2_at1`)PRIMARY KEY (`c3_at1` ,`c2_at1`)CREATE TABLE `class9_name` (`c9_at1` c9_at1_type(64) ,`c2_at2` c2_at2_type(64) ,`c2_at1` c2_at1_type NOT NULL ,PRIMARY KEY (`c2_at1`) CREATE TABLE `class8_name` (`c8_at1` c8_at1_type(64) ,`c2_at1` c2_at1_type NOT NULL ,PRIMARY KEY (`c2_at1`) CREATE TABLE `assoc8` (`c4_at3` c4_at3_type NOT NULL ,`c1_at1` c1_at1_type NOT NULL ,KEY `FK_assoc8_c1_at1_idx` (`c1_at1`) ,PRIMARY KEY (`c4_at3` ,`c1_at1`)ALTER TABLE `assoc3`ALTER TABLE `assoc10`ADD CONSTRAINT `FK_assoc10_c2_at1` FOREIGN KEY (`c2_at1`)  REFERENCES  `class2_name` (`c2_at1`) ON DELETE CASCADE ON UPDATE CASCADE ,ALTER TABLE `assoc7`ADD CONSTRAINT `FK_assoc7_c3_at1` FOREIGN KEY (`c3_at1`)  REFERENCES  `class3_name` (`c3_at1`) ON DELETE CASCADE ON UPDATE CASCADE;ADD CONSTRAINT `FK_assoc7_c1_at1` FOREIGN KEY (`c1_at1`)  REFERENCES  `class1_name` (`c1_at1`) ON DELETE CASCADE ON UPDATE CASCADE;ALTER TABLE `assoc1`ADD CONSTRAINT `FK_assoc1_c4_at3` FOREIGN KEY (`c4_at3`)  REFERENCES  `class4_name` (`c4_at3`) ON DELETE CASCADE ON UPDATE CASCADE;ADD CONSTRAINT `FK_assoc1_c2_at1` FOREIGN KEY (`c2_at1`)  REFERENCES  `class2_name` (`c2_at1`) ON DELETE CASCADE ON UPDATE CASCADE;ALTER TABLE `assoc4`ADD CONSTRAINT `FK_assoc4_c10_at1` FOREIGN KEY (`c10_at1`)  REFERENCES  `class10_name` (`c10_at1`) ON DELETE CASCADE ON UPDATE CASCADE;ADD CONSTRAINT `FK_assoc4_c6_at2` FOREIGN KEY (`c6_at2`)  REFERENCES  `class6_name` (`c6_at2`) ON DELETE CASCADE ON UPDATE CASCADE;ALTER TABLE `assoc2`ALTER TABLE `assoc5`ADD CONSTRAINT `FK_assoc5_c6_at2` FOREIGN KEY (`c6_at2`)  REFERENCES  `class6_name` (`c6_at2`) ON DELETE CASCADE ON UPDATE CASCADE;ADD CONSTRAINT `FK_assoc5_c1_at1` FOREIGN KEY (`c1_at1`)  REFERENCES  `class1_name` (`c1_at1`) ON DELETE CASCADE ON UPDATE CASCADE;ALTER TABLE `assoc6`ALTER TABLE `class7_name`ADD CONSTRAINT `FK_assoc6_c4_at3` FOREIGN KEY (`c4_at3`)  REFERENCES  `class4_name` (`c1_at1`) ON DELETE CASCADE ON UPDATE CASCADE;ALTER TABLE `assoc9`ADD CONSTRAINT `FK_assoc9_c3_at1` FOREIGN KEY (`c3_at1`)  REFERENCES  `class3_name` (`c3_at1`) ON DELETE CASCADE ON UPDATE CASCADE;ADD CONSTRAINT `FK_assoc9_c2_at1` FOREIGN KEY (`c2_at1`)  REFERENCES  `class2_name` (`c2_at1`) ON DELETE CASCADE ON UPDATE CASCADE;ALTER TABLE `assoc8`ADD CONSTRAINT `FK_assoc8_c1_at1` FOREIGN KEY (`c1_at1`)  REFERENCES  `class1_name` (`c1_at1`) ON DELETE CASCADE ON UPDATE CASCADE  [end]\")\n",
      "('module OM_name 0;open Declarationone sig class1_name extends ClassattrSet = c1_at1+c1_at2id=c1_at1no parentisAbstract = No}one sig c1_at1 extends c1_at1_typeone sig c1_at2 extends c1_at2_typeone sig class2_name extends ClassattrSet = c2_at1+c2_at2id=c2_at1no parentisAbstract = No}one sig c2_at1 extends c2_at1_typeone sig c2_at1 extends c2_at2_typeone sig class3_name extends ClassattrSet = c3_at1+c3_at2+c3_at3+c3_at4c3_at5+c3_at6id=c3_at1no parentisAbstract = No}one sig c3_at1 extends c3_at1_typeone sig c3_at2 extends c3_at2_typeone sig c3_at3 extends c3_at3_typeone sig c3_at4 extends c3_at4_typeone sig c3_at5 extends c3_at5_typeone sig c3_at6 extends c3_at6_typeone sig class4_name extends ClassattrSet = c4_at1+c4_at2+c4_at3+c4_at4id=c4_at3no parentisAbstract = No}one sig c4_at1 extends c4_at1_typeone sig c4_at2 extends c4_at2_typeone sig c4_at3 extends c4_at3_typeone sig c4_at4 extends c4_at4_typeone sig class5_name extends ClassattrSet = c5_at1one parentparent in class2_nameid = c2_at1isAbstract = No}one sig c5_at1 extends c5_at1_typeone sig class6_name extends ClassattrSet = c6_at1_0+c6_at2+c6_at3+c6_at4id=c6_at2no parentisAbstract = No}one sig c6_at1_0 extends c6_at1_typeone sig c6_at2 extends c6_at2_typeone sig c6_at3 extends c6_at3_typeone sig c6_at4 extends c6_at4_typeone sig class7_name extends ClassattrSet = c7_at1one parentparent in class2_nameid = c2_at1isAbstract = No}one sig c7_at1 extends c7_at1_typeone sig class8_name extends ClassattrSet = c8_at1one parentparent in class2_nameid = c2_at1isAbstract = No}one sig c8_at1 extends c8_at1_typeone sig class9_name extends ClassattrSet = c9_at1one parentparent in class2_nameid = c2_at1isAbstract = No}one sig c9_at1 extends c9_at1_typeone sig class10_name extends ClassattrSet = c10_at1+c10_at2+c2_at2+c6_at3id=c10_at1no parentisAbstract = No}one sig c10_at1 extends c10_at1_typeone sig c10_at2 extends c10_at2_typeone sig assoc10 extends Associationsrc = class10_namedst= class2_namesrc_multiplicity = src_mlpcdst_multiplicity = dst_mlpc}one sig assoc1 extends Associationsrc = class2_namedst= class4_namesrc_multiplicity = src_mlpc2dst_multiplicity = dst_mlpc}one sig assoc2 extends Associationsrc = class10_namedst= class3_namesrc_multiplicity = src_mlpcdst_multiplicity = dst_mlpc}one sig assoc3 extends Associationsrc = class10_namedst= class4_namesrc_multiplicity = src_mlpcdst_multiplicity = dst_mlpc}one sig assoc4 extends Associationsrc = class10_namedst= class6_namesrc_multiplicity = src_mlpcdst_multiplicity = dst_mlpc2}one sig assoc5 extends Associationsrc = class6_namedst= class1_namesrc_multiplicity = src_mlpcdst_multiplicity = dst_mlpc2}one sig assoc6 extends Associationsrc = class6_namedst= class4_namesrc_multiplicity = src_mlpcdst_multiplicity = dst_mlpc}one sig assoc7 extends Associationsrc = class1_namedst= class3_namesrc_multiplicity = src_mlpcdst_multiplicity = dst_mlpc}one sig assoc8 extends Associationsrc = class1_namedst= class4_namesrc_multiplicity = src_mlpcdst_multiplicity = dst_mlpc}one sig assoc9 extends Associationsrc = class2_namedst= class3_namesrc_multiplicity = src_mlpcdst_multiplicity = dst_mlpc2}pred showrun show ,Mapping Strategy for class1_name : map_str2Mapping Strategy for class3_name : map_str2Mapping Strategy for class4_name : map_str2Mapping Strategy for class6_name : map_str2Mapping Strategy for class8_name : map_str2Mapping Strategy for class10_name : map_str2Mapping Strategy for class5_name : map_str3Mapping Strategy for class7_name : map_str3Association Strategy for assoc1 : assoc_str2Association Strategy for assoc2 : assoc_str2Association Strategy for assoc3 : assoc_str2Association Strategy for assoc4 : assoc_str2Association Strategy for assoc5 : assoc_str2Association Strategy for assoc6 : assoc_str2Association Strategy for assoc7 : assoc_str2Association Strategy for assoc9 : assoc_str2 ,USE OM_name:0;CREATE TABLE `class7_name` (`c7_at1` c7_at1_type(64) ,`c2_at1` c2_at1_type NOT NULL ,KEY `FK_class7_name_c2_at1_idx` (`c2_at1`) ,PRIMARY KEY (`c2_at1`) CREATE TABLE `class5_name` (c5_at1` c5_at1_type(64) ,`c2_at2` c2_at2_type(64) ,`c2_at1` c2_at1_type NOT NULL ,PRIMARY KEY (`c2_at1`) CREATE TABLE `class2_name` (`c2_at2` c2_at2_type(64) ,c10_at1` c10_at1_type`c2_at1` c2_at1_type NOT NULL ,KEY `FK_class2_name_c10_at1_idx` (`c10_at1`) ,PRIMARY KEY (`c2_at1`) CREATE TABLE `class3_name` (`c3_at6` c3_at6_type ,`c3_at5` c3_at5_type ,`c3_at4` c3_at4_type ,`c3_at3` c3_at3_type ,`c3_at2` c3_at2_type ,`c3_at1` c3_at1_type NOT NULL ,`c1_at1` int ,KEY `FK_class3_name_c1_at1_idx` (`c1_at1`) ,PRIMARY KEY (`c3_at1`)CREATE TABLE `class1_name` (`c1_at2` c1_at2_type(64) ,`c1_at1` c1_at1_type NOT NULL ,PRIMARY KEY (`c1_at1`)CREATE TABLE `class6_name` (`c6_at4` c6_at4_type(64) ,`c6_at3` c6_at3_type(64) ,`c6_at1_0` c6_at1_type(64) ,`c6_at2` c6_at2_type NOT NULL ,PRIMARY KEY (`c6_at2`)CREATE TABLE `assoc1` (`c4_at3` c4_at3_type NOT NULL ,`c2_at1` c2_at1_type NOT NULL ,KEY `FK_assoc1_c4_at3_idx` (`c4_at3`) ,KEY `FK_assoc1_c2_at1_idx` (`c2_at1`) ,PRIMARY KEY (`c4_at3` ,`c2_at1`)CREATE TABLE `assoc4` (c10_at1` c10_at1_type`c6_at2` c6_at2_type NOT NULL ,KEY `FK_assoc4_c10_at1_idx` (`c10_at1`) ,KEY `FK_assoc4_c6_at2_idx` (`c6_at2`) ,PRIMARY KEY (`c10_at1` ,`c6_at2`)CREATE TABLE `assoc2` (c10_at1` c10_at1_type`c3_at1` c3_at1_type NOT NULL ,Association Strategy for assoc5 : assoc_str2`c6_at2` c6_at2_type NOT NULL ,`c1_at1` c1_at1_type NOT NULL ,KEY `FK_assoc5_c6_at2_idx` (`c6_at2`) ,KEY `FK_assoc5_c1_at1_idx` (`c1_at1`) ,PRIMARY KEY (`c6_at2` ,`c1_at1`)CREATE TABLE `class10_name` (`c10_at2` c10_at2_type(64) ,c10_at1` c10_at1_typePRIMARY KEY (`c10_at1`)CREATE TABLE `class4_name` (`c4_at4` c4_at4_type(64) ,`c4_at2` c4_at2_type(64) ,`c4_at1` c4_at1_type(64) ,c10_at1` c10_at1_type`c6_at2` c6_at2_type ,`c4_at3` c4_at3_type NOT NULL ,KEY `FK_class4_name_c10_at1_idx` (`c10_at1`) ,KEY `FK_class4_name_c6_at2_idx` (`c6_at2`) ,PRIMARY KEY (`c4_at3`)CREATE TABLE `assoc9` (`c3_at1` c3_at1_type NOT NULL ,`c2_at1` c2_at1_type NOT NULL ,KEY `FK_assoc9_c3_at1_idx` (`c3_at1`)KEY `FK_assoc9_c2_at1_idx` (`c2_at1`)PRIMARY KEY (`c3_at1` ,`c2_at1`)CREATE TABLE `class9_name` (`c9_at1` c9_at1_type(64) ,`c2_at1` c2_at1_type NOT NULL ,KEY `FK_class9_name_c2_at1_idx` (`c2_at1`) ,PRIMARY KEY (`c2_at1`) CREATE TABLE `class8_name` (`c8_at1` c8_at1_type(64) ,`c2_at2` c2_at2_type(64) ,`c2_at1` c2_at1_type NOT NULL ,PRIMARY KEY (`c2_at1`) CREATE TABLE `assoc8` (`c4_at3` c4_at3_type NOT NULL ,`c1_at1` c1_at1_type NOT NULL ,KEY `FK_assoc8_c1_at1_idx` (`c1_at1`) ,PRIMARY KEY (`c4_at3` ,`c1_at1`)ALTER TABLE `class7_name`ADD CONSTRAINT `FK_class7_name_c2_at1` FOREIGN KEY (`c2_at1`)  REFERENCES  `class2_name` (`c2_at1`) ON DELETE CASCADE ON UPDATE CASCADE ,ALTER TABLE `class2_name`ADD CONSTRAINT `FK_class2_name_c10_at1` FOREIGN KEY (`c10_at1`)  REFERENCES  `class10_name` (`c10_at1`) ON DELETE CASCADE ON UPDATE CASCADE;ALTER TABLE `class3_name`ADD CONSTRAINT `FK_class3_name_c1_at1` FOREIGN KEY (`c1_at1`)  REFERENCES  `class1_name` (`c1_at1`) ON DELETE CASCADE ON UPDATE CASCADE ,ALTER TABLE `assoc1`ADD CONSTRAINT `FK_assoc1_c4_at3` FOREIGN KEY (`c4_at3`)  REFERENCES  `class4_name` (`c4_at3`) ON DELETE CASCADE ON UPDATE CASCADE;ADD CONSTRAINT `FK_assoc1_c2_at1` FOREIGN KEY (`c2_at1`)  REFERENCES  `class2_name` (`c2_at1`) ON DELETE CASCADE ON UPDATE CASCADE;ALTER TABLE `assoc4`ADD CONSTRAINT `FK_assoc4_c10_at1` FOREIGN KEY (`c10_at1`)  REFERENCES  `class10_name` (`c10_at1`) ON DELETE CASCADE ON UPDATE CASCADE;ADD CONSTRAINT `FK_assoc4_c6_at2` FOREIGN KEY (`c6_at2`)  REFERENCES  `class6_name` (`c6_at2`) ON DELETE CASCADE ON UPDATE CASCADE;ALTER TABLE `assoc2`ALTER TABLE `assoc5`ADD CONSTRAINT `FK_assoc5_c6_at2` FOREIGN KEY (`c6_at2`)  REFERENCES  `class6_name` (`c6_at2`) ON DELETE CASCADE ON UPDATE CASCADE;ADD CONSTRAINT `FK_assoc5_c1_at1` FOREIGN KEY (`c1_at1`)  REFERENCES  `class1_name` (`c1_at1`) ON DELETE CASCADE ON UPDATE CASCADE;ALTER TABLE `class4_name`ADD CONSTRAINT `FK_class4_name_c10_at1` FOREIGN KEY (`c10_at1`)  REFERENCES  `class10_name` (`c10_at1`) ON DELETE CASCADE ON UPDATE CASCADE;ADD CONSTRAINT `FK_class4_name_c6_at2` FOREIGN KEY (`c6_at2`)  REFERENCES  `class6_name` (`c6_at2`) ON DELETE CASCADE ON UPDATE CASCADE;ALTER TABLE `assoc9`ADD CONSTRAINT `FK_assoc9_c3_at1` FOREIGN KEY (`c3_at1`)  REFERENCES  `class3_name` (`c3_at1`) ON DELETE CASCADE ON UPDATE CASCADE;ADD CONSTRAINT `FK_assoc9_c2_at1` FOREIGN KEY (`c2_at1`)  REFERENCES  `class2_name` (`c2_at1`) ON DELETE CASCADE ON UPDATE CASCADE;ALTER TABLE `class9_name`ADD CONSTRAINT `FK_class9_name_c2_at1` FOREIGN KEY (`c2_at1`)  REFERENCES  `class2_name` (`c2_at1`) ON DELETE CASCADE ON UPDATE CASCADE;ALTER TABLE `assoc8`ADD CONSTRAINT `FK_assoc8_c1_at1` FOREIGN KEY (`c1_at1`)  REFERENCES  `class1_name` (`c1_at1`) ON DELETE CASCADE ON UPDATE CASCADE', '[start] P, module OM_name 0;open Declarationone sig class1_name extends ClassattrSet = c1_at1+c1_at2id=c1_at1no parentisAbstract = No}one sig c1_at1 extends c1_at1_typeone sig c1_at2 extends c1_at2_typeone sig class2_name extends ClassattrSet = c2_at1+c2_at2id=c2_at1no parentisAbstract = No}one sig c2_at1 extends c2_at1_typeone sig c2_at1 extends c2_at2_typeone sig class3_name extends ClassattrSet = c3_at1+c3_at2+c3_at3+c3_at4c3_at5+c3_at6id=c3_at1no parentisAbstract = No}one sig c3_at1 extends c3_at1_typeone sig c3_at2 extends c3_at2_typeone sig c3_at3 extends c3_at3_typeone sig c3_at4 extends c3_at4_typeone sig c3_at5 extends c3_at5_typeone sig c3_at6 extends c3_at6_typeone sig class4_name extends ClassattrSet = c4_at1+c4_at2+c4_at3+c4_at4id=c4_at3no parentisAbstract = No}one sig c4_at1 extends c4_at1_typeone sig c4_at2 extends c4_at2_typeone sig c4_at3 extends c4_at3_typeone sig c4_at4 extends c4_at4_typeone sig class5_name extends ClassattrSet = c5_at1one parentparent in class2_nameid = c2_at1isAbstract = No}one sig c5_at1 extends c5_at1_typeone sig class6_name extends ClassattrSet = c6_at1_0+c6_at2+c6_at3+c6_at4id=c6_at2no parentisAbstract = No}one sig c6_at1_0 extends c6_at1_typeone sig c6_at2 extends c6_at2_typeone sig c6_at3 extends c6_at3_typeone sig c6_at4 extends c6_at4_typeone sig class7_name extends ClassattrSet = c7_at1one parentparent in class2_nameid = c2_at1isAbstract = No}one sig c7_at1 extends c7_at1_typeone sig class8_name extends ClassattrSet = c8_at1one parentparent in class2_nameid = c2_at1isAbstract = No}one sig c8_at1 extends c8_at1_typeone sig class9_name extends ClassattrSet = c9_at1one parentparent in class2_nameid = c2_at1isAbstract = No}one sig c9_at1 extends c9_at1_typeone sig class10_name extends ClassattrSet = c10_at1+c10_at2+c2_at2+c6_at3id=c10_at1no parentisAbstract = No}one sig c10_at1 extends c10_at1_typeone sig c10_at2 extends c10_at2_typeone sig assoc10 extends Associationsrc = class10_namedst= class2_namesrc_multiplicity = src_mlpcdst_multiplicity = dst_mlpc}one sig assoc1 extends Associationsrc = class2_namedst= class4_namesrc_multiplicity = src_mlpc2dst_multiplicity = dst_mlpc}one sig assoc2 extends Associationsrc = class10_namedst= class3_namesrc_multiplicity = src_mlpcdst_multiplicity = dst_mlpc}one sig assoc3 extends Associationsrc = class10_namedst= class4_namesrc_multiplicity = src_mlpcdst_multiplicity = dst_mlpc}one sig assoc4 extends Associationsrc = class10_namedst= class6_namesrc_multiplicity = src_mlpcdst_multiplicity = dst_mlpc2}one sig assoc5 extends Associationsrc = class6_namedst= class1_namesrc_multiplicity = src_mlpcdst_multiplicity = dst_mlpc2}one sig assoc6 extends Associationsrc = class6_namedst= class4_namesrc_multiplicity = src_mlpcdst_multiplicity = dst_mlpc}one sig assoc7 extends Associationsrc = class1_namedst= class3_namesrc_multiplicity = src_mlpcdst_multiplicity = dst_mlpc}one sig assoc8 extends Associationsrc = class1_namedst= class4_namesrc_multiplicity = src_mlpcdst_multiplicity = dst_mlpc}one sig assoc9 extends Associationsrc = class2_namedst= class3_namesrc_multiplicity = src_mlpcdst_multiplicity = dst_mlpc2}pred showrun show ,Mapping Strategy for class1_name : map_str2Mapping Strategy for class3_name : map_str2Mapping Strategy for class4_name : map_str2Mapping Strategy for class6_name : map_str2Mapping Strategy for class8_name : map_str2Mapping Strategy for class10_name : map_str2Mapping Strategy for class5_name : map_str3Mapping Strategy for class7_name : map_str3Association Strategy for assoc1 : assoc_str2Association Strategy for assoc2 : assoc_str2Association Strategy for assoc3 : assoc_str2Association Strategy for assoc4 : assoc_str2Association Strategy for assoc5 : assoc_str2Association Strategy for assoc6 : assoc_str2Association Strategy for assoc7 : assoc_str2Association Strategy for assoc9 : assoc_str2 ,USE OM_name:0;CREATE TABLE `class7_name` (`c7_at1` c7_at1_type(64) ,`c2_at1` c2_at1_type NOT NULL ,KEY `FK_class7_name_c2_at1_idx` (`c2_at1`) ,PRIMARY KEY (`c2_at1`) CREATE TABLE `class5_name` (c5_at1` c5_at1_type(64) ,`c2_at2` c2_at2_type(64) ,`c2_at1` c2_at1_type NOT NULL ,PRIMARY KEY (`c2_at1`) CREATE TABLE `class2_name` (`c2_at2` c2_at2_type(64) ,c10_at1` c10_at1_type`c2_at1` c2_at1_type NOT NULL ,KEY `FK_class2_name_c10_at1_idx` (`c10_at1`) ,PRIMARY KEY (`c2_at1`) CREATE TABLE `class3_name` (`c3_at6` c3_at6_type ,`c3_at5` c3_at5_type ,`c3_at4` c3_at4_type ,`c3_at3` c3_at3_type ,`c3_at2` c3_at2_type ,`c3_at1` c3_at1_type NOT NULL ,`c1_at1` int ,KEY `FK_class3_name_c1_at1_idx` (`c1_at1`) ,PRIMARY KEY (`c3_at1`)CREATE TABLE `class1_name` (`c1_at2` c1_at2_type(64) ,`c1_at1` c1_at1_type NOT NULL ,PRIMARY KEY (`c1_at1`)CREATE TABLE `class6_name` (`c6_at4` c6_at4_type(64) ,`c6_at3` c6_at3_type(64) ,`c6_at1_0` c6_at1_type(64) ,`c6_at2` c6_at2_type NOT NULL ,PRIMARY KEY (`c6_at2`)CREATE TABLE `assoc1` (`c4_at3` c4_at3_type NOT NULL ,`c2_at1` c2_at1_type NOT NULL ,KEY `FK_assoc1_c4_at3_idx` (`c4_at3`) ,KEY `FK_assoc1_c2_at1_idx` (`c2_at1`) ,PRIMARY KEY (`c4_at3` ,`c2_at1`)CREATE TABLE `assoc4` (c10_at1` c10_at1_type`c6_at2` c6_at2_type NOT NULL ,KEY `FK_assoc4_c10_at1_idx` (`c10_at1`) ,KEY `FK_assoc4_c6_at2_idx` (`c6_at2`) ,PRIMARY KEY (`c10_at1` ,`c6_at2`)CREATE TABLE `assoc2` (c10_at1` c10_at1_type`c3_at1` c3_at1_type NOT NULL ,Association Strategy for assoc5 : assoc_str2`c6_at2` c6_at2_type NOT NULL ,`c1_at1` c1_at1_type NOT NULL ,KEY `FK_assoc5_c6_at2_idx` (`c6_at2`) ,KEY `FK_assoc5_c1_at1_idx` (`c1_at1`) ,PRIMARY KEY (`c6_at2` ,`c1_at1`)CREATE TABLE `class10_name` (`c10_at2` c10_at2_type(64) ,c10_at1` c10_at1_typePRIMARY KEY (`c10_at1`)CREATE TABLE `class4_name` (`c4_at4` c4_at4_type(64) ,`c4_at2` c4_at2_type(64) ,`c4_at1` c4_at1_type(64) ,c10_at1` c10_at1_type`c6_at2` c6_at2_type ,`c4_at3` c4_at3_type NOT NULL ,KEY `FK_class4_name_c10_at1_idx` (`c10_at1`) ,KEY `FK_class4_name_c6_at2_idx` (`c6_at2`) ,PRIMARY KEY (`c4_at3`)CREATE TABLE `assoc9` (`c3_at1` c3_at1_type NOT NULL ,`c2_at1` c2_at1_type NOT NULL ,KEY `FK_assoc9_c3_at1_idx` (`c3_at1`)KEY `FK_assoc9_c2_at1_idx` (`c2_at1`)PRIMARY KEY (`c3_at1` ,`c2_at1`)CREATE TABLE `class9_name` (`c9_at1` c9_at1_type(64) ,`c2_at1` c2_at1_type NOT NULL ,KEY `FK_class9_name_c2_at1_idx` (`c2_at1`) ,PRIMARY KEY (`c2_at1`) CREATE TABLE `class8_name` (`c8_at1` c8_at1_type(64) ,`c2_at2` c2_at2_type(64) ,`c2_at1` c2_at1_type NOT NULL ,PRIMARY KEY (`c2_at1`) CREATE TABLE `assoc8` (`c4_at3` c4_at3_type NOT NULL ,`c1_at1` c1_at1_type NOT NULL ,KEY `FK_assoc8_c1_at1_idx` (`c1_at1`) ,PRIMARY KEY (`c4_at3` ,`c1_at1`)ALTER TABLE `class7_name`ADD CONSTRAINT `FK_class7_name_c2_at1` FOREIGN KEY (`c2_at1`)  REFERENCES  `class2_name` (`c2_at1`) ON DELETE CASCADE ON UPDATE CASCADE ,ALTER TABLE `class2_name`ADD CONSTRAINT `FK_class2_name_c10_at1` FOREIGN KEY (`c10_at1`)  REFERENCES  `class10_name` (`c10_at1`) ON DELETE CASCADE ON UPDATE CASCADE;ALTER TABLE `class3_name`ADD CONSTRAINT `FK_class3_name_c1_at1` FOREIGN KEY (`c1_at1`)  REFERENCES  `class1_name` (`c1_at1`) ON DELETE CASCADE ON UPDATE CASCADE ,ALTER TABLE `assoc1`ADD CONSTRAINT `FK_assoc1_c4_at3` FOREIGN KEY (`c4_at3`)  REFERENCES  `class4_name` (`c4_at3`) ON DELETE CASCADE ON UPDATE CASCADE;ADD CONSTRAINT `FK_assoc1_c2_at1` FOREIGN KEY (`c2_at1`)  REFERENCES  `class2_name` (`c2_at1`) ON DELETE CASCADE ON UPDATE CASCADE;ALTER TABLE `assoc4`ADD CONSTRAINT `FK_assoc4_c10_at1` FOREIGN KEY (`c10_at1`)  REFERENCES  `class10_name` (`c10_at1`) ON DELETE CASCADE ON UPDATE CASCADE;ADD CONSTRAINT `FK_assoc4_c6_at2` FOREIGN KEY (`c6_at2`)  REFERENCES  `class6_name` (`c6_at2`) ON DELETE CASCADE ON UPDATE CASCADE;ALTER TABLE `assoc2`ALTER TABLE `assoc5`ADD CONSTRAINT `FK_assoc5_c6_at2` FOREIGN KEY (`c6_at2`)  REFERENCES  `class6_name` (`c6_at2`) ON DELETE CASCADE ON UPDATE CASCADE;ADD CONSTRAINT `FK_assoc5_c1_at1` FOREIGN KEY (`c1_at1`)  REFERENCES  `class1_name` (`c1_at1`) ON DELETE CASCADE ON UPDATE CASCADE;ALTER TABLE `class4_name`ADD CONSTRAINT `FK_class4_name_c10_at1` FOREIGN KEY (`c10_at1`)  REFERENCES  `class10_name` (`c10_at1`) ON DELETE CASCADE ON UPDATE CASCADE;ADD CONSTRAINT `FK_class4_name_c6_at2` FOREIGN KEY (`c6_at2`)  REFERENCES  `class6_name` (`c6_at2`) ON DELETE CASCADE ON UPDATE CASCADE;ALTER TABLE `assoc9`ADD CONSTRAINT `FK_assoc9_c3_at1` FOREIGN KEY (`c3_at1`)  REFERENCES  `class3_name` (`c3_at1`) ON DELETE CASCADE ON UPDATE CASCADE;ADD CONSTRAINT `FK_assoc9_c2_at1` FOREIGN KEY (`c2_at1`)  REFERENCES  `class2_name` (`c2_at1`) ON DELETE CASCADE ON UPDATE CASCADE;ALTER TABLE `class9_name`ADD CONSTRAINT `FK_class9_name_c2_at1` FOREIGN KEY (`c2_at1`)  REFERENCES  `class2_name` (`c2_at1`) ON DELETE CASCADE ON UPDATE CASCADE;ALTER TABLE `assoc8`ADD CONSTRAINT `FK_assoc8_c1_at1` FOREIGN KEY (`c1_at1`)  REFERENCES  `class1_name` (`c1_at1`) ON DELETE CASCADE ON UPDATE CASCADE  [end]')\n",
      "('module OM_name:0 , open Declaration one sig class1_name extends Class attr Set=c1_at1id=c1_at1isAbstract=Nonoparent}onesigc1_at1extendsc1_at1_type ,onesigclass01_name extends Class attr Set=c01_at1id=c01_at1isAbstract=Nonoparent}onesigc01_at1extendsc01_at1_type ,onesigassoc1extendsAssociationsrc=class1_namedst=class01_namesrc_multiplicity=src_mlpcdst_multiplicity=dst_mlpc ,}onesigclass2_name extends Class attr Set=c2_at1id=c2_at1isAbstract=Nonoparent}onesigc2_at1extendsc2_at1_type ,onesigassoc2extendsAssociationsrc=class1_namedst=class2_namesrc_multiplicity=src_mlpcdst_multiplicity=dst_mlpc ,}onesigclass3_name extends Class attr Set=c3_at1+c3_at2id=c3_at1isAbstract=Nonoparent}onesigc3_at1extendsc3_at1_typeonesigc3_at2extendsc3_at2_type ,onesigclass4_name extends Class attr Set=c4_at1oneparentid=c3_at1isAbstract=Noparentinclass3_name}onesigc4_at1extendsc4_at1_type ,onesigassoc3extendsAssociationdst=class2_namedst=class3_namesrc_multiplicity=src_mlpcdst_multiplicity=dst_mlpc ,}onesigclass5_name extends Class attr Set=c5_at1+c5_at2oneparentid=c3_at1isAbstract=Noparentinclass3_name}onesigc5_at2extendsc5_at2_typeonesigc5_at1extendsc5_at1_typeonesigassoc4extendsAssociationsrc=class01_namedst=class3_namesrc_multiplicity=src_mlpcdst_multiplicity=dst_mlpc ,}onesigclass6_name extends Class attr Set=c6_at1+c6_at2id=categoryIDisAbstract=Nonoparent}onesigc6_at1extendsc6_at1_typeonesigc6_at2extendsc6_at2_typeonesigclass7_name extends Class attr Set=c7_at1+c7_at2+c7_at3+c7_at4id=c7_at1isAbstract=Nonoparent}onesigc7_at1extendsc7_at1_typeonesigc7_at2extendsc7_at2_typeonesigc7_at3extendsc7_at3_typeonesigc7_at4extendsc7_at4_typeonesigassoc5extendsAssociationsrc=class7_namesrc=class6_namesrc_multiplicity=src_mlpc2dst_multiplicity=dst_mlpc ,}onesigclass8_name extends Class attr Set=c8_at1id=c8_at1isAbstract=Nonoparent}onesigc8_at1 extends Integer one sig assoc   6extendsAssociationsrc=class7_namedst=class8_namesrc_multiplicity=src_mlpcdst_multiplicity=dst_mlpc ,}onesigassoc7extendsAssociationsrc=class7_namedst=class3_namesrc_multiplicity=src_mlpc2dst_multiplicity=dst_mlpc ,}onesigclass9_name extends Class attr Set=c9_at1+c10_at2oneparentid=c7_at1isAbstract=Noparentinclass7_name}onesigc9_at1extendsc9_at1_typeonesigc10_at2extendsc10_at2_typeonesigclass10_name extends Class attr Set=c10_at1oneparentid=c7_at1isAbstract=Noparentinclass7_name}onesigc10_at1extendsc10_at1_typeonesigclass11_name extends Class attr Set=c11_at1oneparentid=c7_at1isAbstract=Noparentinclass7_name}onesigc11_at1extendsstringonesigclass12_name extends Class attr Set=c12_at1+c12_at2+c12_at3id=c12_at1isAbstract=Nonoparent}onesigc12_at1extendsc12_at1_typeonesigc12_at2extendsc12_at2_typeonesigc12_at3extendsc12_at3_typeonesigassoc8extendsAssociationsrc=class7_namesrc=class12_namesrc_multiplicity=src_mlpc2dst_multiplicity=dst_mlpc ,}onesigclass13_name extends Class attr Set=c13_at1oneparentid=c12_at1isAbstract=Noparentinclass12_name}onesigc13_at1extendsc13_at1_typeonesigclass14_name extends Class attr Set=c14_at1oneparentid=c12_at1isAbstract=Noparentinclass12_name}onesigc14_at1extendsc14_at1_typepredshowrunshow ,TableName:class1_nameTableName:class01_nameMappingStrategyforclass1_name:map_str2MappingStrategyforclass6_name:map_str2MappingStrategyforclass7_name:map_str2MappingStrategyforclass12_name:map_str2MappingStrategyforclass4_name:map_str3MappingStrategyforclass3_name:map_str3MappingStrategyforclass9_name:map_str3MappingStrategyforclass10_name:map_str3MappingStrategyforclass11_name:map_str3MappingStrategyforclass11_name:map_str3MappingStrategyforclass14_name:map_str3AssociationStrategyforassoc2:assoc_str1AssociationStrategyforassoc3:assoc_str1AssociationStrategyforassoc4:assoc_str1AssociationStrategyforassoc6:assoc_str1AssociationStrategyforassoc1:assoc_str2AssociationStrategyforassoc5:assoc_str2AssociationStrategyforassoc7:assoc_str2AssociationStrategyforassoc8:assoc_str2 ,USEOM_name_0 CREATE TABLE `class01_name`(`c01_at1`c01_at1_type NOT NULL   , PRIMARY KEY (`c01_at1`) ,); CREATE TABLE `class6_name`(`c7_at1`c7_at1_type(64)`c6_at1`c6_at1_type NOT NULL PRIMARY KEY (`c6_at1`) ,); CREATE TABLE `class1_name`(`c1_at1`c1_at1_type NOT NULL PRIMARY KEY (`c1_at1`) ,); CREATE TABLE `class13_name`(`c13_at1`c13_at1_type(64)`c12_at1`c12_at1_type NOT NULL KEY  `FK_class13_name_c12_at1_idx`(`c12_at1`) PRIMARY KEY (`c12_at1`) ,); CREATE TABLE `class7_name`(`c7_at3`c7_at3_type(64)`c7_at2`c7_at2_type`c7_at4`c7_at4_type(20 ,5)`c7_at1`c7_at1_type NOT NULL PRIMARY KEY (`c7_at1`) ,); CREATE TABLE `class11_name`(`c11_at1`c11_at1_type(64)`c7_at1`c7_at1_type NOT NULL KEY  `FK_class11_name_c7_at1_idx`(`c7_at1`) PRIMARY KEY (`c7_at1`) ,); CREATE TABLE `class4_name`(`c4_at1`c4_at1_type ,`c3_at1`c3_at1_type NOT NULL KEY  `FK_class4_name_c3_at1_idx`(`c3_at1`) , PRIMARY KEY (`c3_at1`) ,); CREATE TABLE `CustomerOrderAssociation`(`c01_at1`c01_at1_type NOT NULL   ,`c1_at1`c1_at1_type NOT NULL KEY  `FK_CustomerOrderAssociation_orderID_idx`(`orderID`) ,KEY`FK_CustomerOrderAssociation_customerID_idx`(`customerID`) , PRIMARY KEY (`orderID` ,`customerID`)); CREATE TABLE `class2_name`(`c2_at1`c2_at1_type NOT NULL  `c1_at1`c1_at1_type ,KEY`FK_class2_name_c1_at1_idx`(`c1_at1`) , PRIMARY KEY (`c2_at1`) ,); CREATE TABLE `class8_name`(`c8_at1`c8_at1_type NOT NULL  `c7_at1`c7_at1_typeKEY`FK_class8_name_c7_at1_idx`(`c7_at1`) PRIMARY KEY (`c8_at1`) ,); CREATE TABLE `assoc7`(`c7_at1`c7_at1_type NOT NULL  `c3_at1`c3_at1_type NOT NULL KEY  `FK_assoc7_c7_at1_idx`(`c7_at1`)KEY`FK_assoc7_c3_at1_idx`(`c3_at1`) PRIMARY KEY (`c7_at1` ,`c3_at1`) ,); CREATE TABLE `class3_name`(`c3_at2`c3_at2_type`c3_at1`c3_at1_type NOT NULL  `c2_at1`c2_at1_type`c01_at1`c01_at1_typeKEY`FK_class3_name_c2_at1_idx`(`c2_at1`)KEY`FK_class3_name_c01_at1_idx`(`c01_at1`) PRIMARY KEY (`c3_at1`) ,); CREATE TABLE `class10_name`(`c10_at1`c10_at1_type(64)`c7_at1`c7_at1_type NOT NULL KEY  `FK_class10_name_c7_at1_idx`(`c7_at1`) PRIMARY KEY (`c7_at1`) ,); CREATE TABLE `class9_name`(`c10_at2`c10_at2_type ,`c9_at1`c9_at1_type(20 ,5) ,`c7_at1`c7_at1_type NOT NULL KEY  `FK_class9_name_c7_at1_idx`(`c7_at1`) , PRIMARY KEY (`c7_at1`) ,); CREATE TABLE `assoc8`(`c12_at1`c12_at1_type NOT NULL  `c7_at1`c7_at1_type NOT NULL KEY  `FK_assoc8_c12_at1_idx`(`c12_at1`)KEY`FK_assoc8_c7_at1_idx`(`c7_at1`) PRIMARY KEY (`c12_at1` ,`c7_at1`) ,); CREATE TABLE `class14_name`(`c14_at1`c14_at1_type(64)`c12_at1`c12_at1_type NOT NULL KEY  `FK_class14_name_c12_at1_idx`(`c12_at1`) PRIMARY KEY (`c12_at1`) ,); CREATE TABLE `class5_name`(`c5_at1`c5_at1_type ,`c5_at2`c5_at2_type ,`c3_at1`c3_at1_type NOT NULL KEY  `FK_class5_name_c3_at1_idx`(`c3_at1`) PRIMARY KEY (`c3_at1`) ,); CREATE TABLE `class12_name` (`c12_at3` c12_at3_type (64) `c12_at2` c12_at2_type(64) `c12_at1` c12_at1_type NOT NULL PRIMARY KEY (`c12_at1`) ,); CREATE TABLE `assoc5`(`c7_at1`c7_at1_type NOT NULL  `c6_at1`c6_at1_type NOT NULL KEY  `FK_assoc5_c7_at1_idx`(`c7_at1`)KEY`FK_assoc5_c6_at1_idx`(`c6_at1`) PRIMARY KEY (`c7_at1` ,`c6_at1`) ,); ALTER TABLE  `class13_name` ADD CONSTRAINT `FK_class13_name_c12_at1` FOREIGN KEY  (`c12_at1`) REFERENCES `class12_name`(`c12_at1`)ON DELETE CASCADE ON UPDATE CASCADE; ALTER TABLE  `class11_name` ADD CONSTRAINT `FK_class11_name_c7_at1` FOREIGN KEY  (`c12_at1`) REFERENCES `class12_name`(`c12_at1`)ON DELETE CASCADE ON UPDATE CASCADE , ALTER TABLE  `class4_name` ADD CONSTRAINT `FK_class4_name_c3_at1` FOREIGN KEY  (`c3_at1`) REFERENCES `class3_name`(`c3_at1`)ON DELETE CASCADE ON UPDATE CASCADE , ALTER TABLE  `CustomerOrderAssociation` ADD CONSTRAINT `FK_CustomerOrderAssociation_orderID` FOREIGN KEY  (`orderID`) REFERENCES `Order`(`orderID`)ON DELETE CASCADE ON UPDATE CASCADE , ADD CONSTRAINT `FK_CustomerOrderAssociation_customerID` FOREIGN KEY  (`customerID`) REFERENCES `Customer`(`customerID`)ON DELETE CASCADE ON UPDATE CASCADE; ALTER TABLE  `class2_name` ADD CONSTRAINT `FK_class2_name_c1_at1` FOREIGN KEY  (`c1_at1`) REFERENCES `class1_name`(`c1_at1`)ON DELETE CASCADE ON UPDATE CASCADE , ALTER TABLE  `class8_name` ADD CONSTRAINT `FK_class8_name_c7_at1` FOREIGN KEY  (`c7_at1`) REFERENCES `class7_name`(`c7_at1`) ON DELETE CASCADE ON UPDATE CASCADE , ALTER TABLE  `assoc7` ADD CONSTRAINT `FK_assoc7_c7_at1` FOREIGN KEY  (`c7_at1`) REFERENCES `class7_name`(`c7_at1`) ON DELETE CASCADE ON UPDATE CASCADE ADD CONSTRAINT `FK_assoc7_c3_at1` FOREIGN KEY  (`c3_at1`) REFERENCES `class3_name`(`c3_at1`)ON DELETE CASCADE ON UPDATE CASCADE , ALTER TABLE  `class3_name` ADD CONSTRAINT `FK_class3_name_c2_at1` FOREIGN KEY  (`c2_at1`) REFERENCES `class2_name`(`c2_at1`)ON DELETE CASCADE ON UPDATE CASCADE ADD CONSTRAINT `FK_class3_name_c01_at1` FOREIGN KEY  (`c01_at1`) REFERENCES `class01_name`(`c01_at1`)ON DELETE CASCADE ON UPDATE CASCADE , ALTER TABLE  `class10_name` ADD CONSTRAINT `FK_class10_name_c7_at1` FOREIGN KEY  (`c7_at1`) REFERENCES `class7_name`(`c7_at1`) ON DELETE CASCADE ON UPDATE CASCADE , ALTER TABLE  `class9_name` ADD CONSTRAINT `FK_class10_name_c7_at1` FOREIGN KEY  (`c7_at1`) REFERENCES `class7_name`(`c7_at1`) ON DELETE CASCADE ON UPDATE CASCADE , ALTER TABLE  `assoc8` ADD CONSTRAINT `FK_ProductAssetAssociation_assetID` FOREIGN KEY  (`assetID`) REFERENCES `Asset`(`assetID`)ON DELETE CASCADE ON UPDATE CASCADE , ADD CONSTRAINT FK_assoc8_c7_at1` FOREIGN KEY  (`c7_at1`) REFERENCES `class7_name`(`c7_at1`) ON DELETE CASCADE ON UPDATE CASCADE , ALTER TABLE  `class14_name` ADD CONSTRAINT FK_class14_name_c12_at1` FOREIGN KEY  (`c12_at1`) REFERENCES `class12_name`(`c12_at1`)ON DELETE CASCADE ON UPDATE CASCADE , ALTER TABLE  `class5_name` ADD CONSTRAINT FK_class5_name_c3_at1` FOREIGN KEY  (`c3_at1`) REFERENCES `class3_name`(`c3_at1`)ON DELETE CASCADE ON UPDATE CASCADE , ALTER TABLE  `assoc5` ADD CONSTRAINT `FK_assoc5_c7_at1` FOREIGN KEY  (`c7_at1`) REFERENCES `class7_name`(`c7_at1`) ON DELETE CASCADE ON UPDATE CASCADE ADD CONSTRAINT FK_assoc5_c6_at1` FOREIGN KEY  (`c6_at1`) REFERENCES `class6_name`(`c6_at1`)ON DELETE CASCADE ON UPDATE CASCADE', '[start] P, module OM_name:0 , open Declaration one sig class1_name extends Class attr Set=c1_at1id=c1_at1isAbstract=Nonoparent}onesigc1_at1extendsc1_at1_type ,onesigclass01_name extends Class attr Set=c01_at1id=c01_at1isAbstract=Nonoparent}onesigc01_at1extendsc01_at1_type ,onesigassoc1extendsAssociationsrc=class1_namedst=class01_namesrc_multiplicity=src_mlpcdst_multiplicity=dst_mlpc ,}onesigclass2_name extends Class attr Set=c2_at1id=c2_at1isAbstract=Nonoparent}onesigc2_at1extendsc2_at1_type ,onesigassoc2extendsAssociationsrc=class1_namedst=class2_namesrc_multiplicity=src_mlpcdst_multiplicity=dst_mlpc ,}onesigclass3_name extends Class attr Set=c3_at1+c3_at2id=c3_at1isAbstract=Nonoparent}onesigc3_at1extendsc3_at1_typeonesigc3_at2extendsc3_at2_type ,onesigclass4_name extends Class attr Set=c4_at1oneparentid=c3_at1isAbstract=Noparentinclass3_name}onesigc4_at1extendsc4_at1_type ,onesigassoc3extendsAssociationdst=class2_namedst=class3_namesrc_multiplicity=src_mlpcdst_multiplicity=dst_mlpc ,}onesigclass5_name extends Class attr Set=c5_at1+c5_at2oneparentid=c3_at1isAbstract=Noparentinclass3_name}onesigc5_at2extendsc5_at2_typeonesigc5_at1extendsc5_at1_typeonesigassoc4extendsAssociationsrc=class01_namedst=class3_namesrc_multiplicity=src_mlpcdst_multiplicity=dst_mlpc ,}onesigclass6_name extends Class attr Set=c6_at1+c6_at2id=categoryIDisAbstract=Nonoparent}onesigc6_at1extendsc6_at1_typeonesigc6_at2extendsc6_at2_typeonesigclass7_name extends Class attr Set=c7_at1+c7_at2+c7_at3+c7_at4id=c7_at1isAbstract=Nonoparent}onesigc7_at1extendsc7_at1_typeonesigc7_at2extendsc7_at2_typeonesigc7_at3extendsc7_at3_typeonesigc7_at4extendsc7_at4_typeonesigassoc5extendsAssociationsrc=class7_namesrc=class6_namesrc_multiplicity=src_mlpc2dst_multiplicity=dst_mlpc ,}onesigclass8_name extends Class attr Set=c8_at1id=c8_at1isAbstract=Nonoparent}onesigc8_at1 extends Integer one sig assoc   6extendsAssociationsrc=class7_namedst=class8_namesrc_multiplicity=src_mlpcdst_multiplicity=dst_mlpc ,}onesigassoc7extendsAssociationsrc=class7_namedst=class3_namesrc_multiplicity=src_mlpc2dst_multiplicity=dst_mlpc ,}onesigclass9_name extends Class attr Set=c9_at1+c10_at2oneparentid=c7_at1isAbstract=Noparentinclass7_name}onesigc9_at1extendsc9_at1_typeonesigc10_at2extendsc10_at2_typeonesigclass10_name extends Class attr Set=c10_at1oneparentid=c7_at1isAbstract=Noparentinclass7_name}onesigc10_at1extendsc10_at1_typeonesigclass11_name extends Class attr Set=c11_at1oneparentid=c7_at1isAbstract=Noparentinclass7_name}onesigc11_at1extendsstringonesigclass12_name extends Class attr Set=c12_at1+c12_at2+c12_at3id=c12_at1isAbstract=Nonoparent}onesigc12_at1extendsc12_at1_typeonesigc12_at2extendsc12_at2_typeonesigc12_at3extendsc12_at3_typeonesigassoc8extendsAssociationsrc=class7_namesrc=class12_namesrc_multiplicity=src_mlpc2dst_multiplicity=dst_mlpc ,}onesigclass13_name extends Class attr Set=c13_at1oneparentid=c12_at1isAbstract=Noparentinclass12_name}onesigc13_at1extendsc13_at1_typeonesigclass14_name extends Class attr Set=c14_at1oneparentid=c12_at1isAbstract=Noparentinclass12_name}onesigc14_at1extendsc14_at1_typepredshowrunshow ,TableName:class1_nameTableName:class01_nameTableNameclass2_nameTableNameclass3_nameTableNameclass4_nameTableNameclass5_nameTableNameassoc7TableNameassoc5TableNameclass8_nameTableNameassoc8TableNameclass13_nameTableNameclass6_nameTableNameclass7_nameTableNameclass10_nameTableNameclass11_nameTableNameclass12_nameTableNameclass14_nameTableName:class9_nameMappingStrategyforclass1_name:map_str2MappingStrategyforclass4_name:map_str2MappingStrategyforclass5_name:map_str2MappingStrategyforclass6_name:map_str2MappingStrategyforclass7_name:map_str2MappingStrategyforclass9_name:map_str2MappingStrategyforclass10_name:map_str2MappingStrategyforclass11_name:map_str2MappingStrategyforclass12_name:map_str2MappingStrategyforclass11_name:map_str3MappingStrategyforclass14_name:map_str3AssociationStrategyforassoc1:assoc_str1AssociationStrategyforassoc2:assoc_str1AssociationStrategyforassoc3:assoc_str1AssociationStrategyforassoc4:assoc_str1AssociationStrategyforassoc6:assoc_str1AssociationStrategyforassoc5:assoc_str2AssociationStrategyforassoc7:assoc_str2AssociationStrategyforassoc8:assoc_str2 ,USEOM_name_0 CREATE TABLE `class01_name`(`c01_at1`c01_at1_type NOT NULL   ,`c1_at1`c1_at1_type ,KEY`FK_class01_name_c1_at1_idx`(`c1_at1`) , PRIMARY KEY (`c01_at1`) ,); CREATE TABLE `class6_name`(`c7_at1`c7_at1_type(64)`c6_at1`c6_at1_type NOT NULL PRIMARY KEY (`c6_at1`) ,); CREATE TABLE `class1_name`(`c1_at1`c1_at1_type NOT NULL PRIMARY KEY (`c1_at1`) ,); CREATE TABLE `class13_name`(`c13_at1`c13_at1_type(64)`c12_at1`c12_at1_type NOT NULL KEY  `FK_class13_name_c12_at1_idx`(`c12_at1`) PRIMARY KEY (`c12_at1`) ,); CREATE TABLE `class7_name`(`c7_at3`c7_at3_type(64)`c7_at2`c7_at2_type`c7_at4`c7_at4_type(20 ,5)`c7_at1`c7_at1_type NOT NULL PRIMARY KEY (`c7_at1`) ,); CREATE TABLE `class11_name`(`c11_at1`c11_at1_type(64)`c7_at3`c7_at3_type(64)`c7_at2`c7_at2_type`c7_at4`c7_at4_type(20 ,5)`c7_at1`c7_at1_type NOT NULL PRIMARY KEY (`c7_at1`) ,); CREATE TABLE `class4_name`(`c4_at1`c4_at1_type ,`c3_at2`c3_at2_type`c3_at1`c3_at1_type NOT NULL PRIMARY KEY (`c3_at1`) ,); CREATE TABLE `class2_name`(`c2_at1`c2_at1_type NOT NULL  `c1_at1`c1_at1_type ,KEY`FK_class2_name_c1_at1_idx`(`c1_at1`) , PRIMARY KEY (`c2_at1`) ,); CREATE TABLE `class8_name`(`c8_at1`c8_at1_type NOT NULL  `c7_at1`c7_at1_typeKEY`FK_class8_name_c7_at1_idx`(`c7_at1`) PRIMARY KEY (`c8_at1`) ,); CREATE TABLE `assoc7`(`c7_at1`c7_at1_type NOT NULL  `c3_at1`c3_at1_type NOT NULL KEY  `FK_assoc7_c7_at1_idx`(`c7_at1`)KEY`FK_assoc7_c3_at1_idx`(`c3_at1`) PRIMARY KEY (`c7_at1` ,`c3_at1`) ,); CREATE TABLE `class3_name`(`c3_at2`c3_at2_type`c3_at1`c3_at1_type NOT NULL  `c2_at1`c2_at1_type`c01_at1`c01_at1_typeKEY`FK_class3_name_c2_at1_idx`(`c2_at1`)KEY`FK_class3_name_c01_at1_idx`(`c01_at1`) PRIMARY KEY (`c3_at1`) ,); CREATE TABLE `class10_name`(`c10_at1`c10_at1_type(64)`c7_at3`c7_at3_type(64)`c7_at2`c7_at2_type`c7_at4`c7_at4_type(20 ,5)`c7_at1`c7_at1_type NOT NULL PRIMARY KEY (`c7_at1`) ,); CREATE TABLE `class9_name`(`c10_at2`c10_at2_type ,`c7_at3`c7_at3_type(64)`c7_at2`c7_at2_type`c9_at1`c9_at1_type(20 ,5) ,`c7_at4`c7_at4_type(20 ,5)`c7_at1`c7_at1_type NOT NULL PRIMARY KEY (`c7_at1`) ,); CREATE TABLE `class5_name`(`c5_at1`c5_at1_type ,`c5_at2`c5_at2_type ,`c3_at2`c3_at2_type`c3_at1`c3_at1_type NOT NULL PRIMARY KEY (`c3_at1`) ,); CREATE TABLE `assoc8`(`c12_at1`c12_at1_type NOT NULL  `c7_at1`c7_at1_type NOT NULL KEY  `FK_assoc8_c12_at1_idx`(`c12_at1`)KEY`FK_assoc8_c7_at1_idx`(`c7_at1`) PRIMARY KEY (`c12_at1` ,`c7_at1`) ,); CREATE TABLE `class14_name`(`c14_at1`c14_at1_type(64)`c12_at1`c12_at1_type NOT NULL KEY  `FK_class14_name_c12_at1_idx`(`c12_at1`) PRIMARY KEY (`c12_at1`) ,); CREATE TABLE `class12_name` (`c12_at3` c12_at3_type (64) `c12_at2` c12_at2_type(64) `c12_at1` c12_at1_type NOT NULL PRIMARY KEY (`c12_at1`) ,); CREATE TABLE `assoc5`(`c7_at1`c7_at1_type NOT NULL  `c6_at1`c6_at1_type NOT NULL KEY  `FK_assoc5_c7_at1_idx`(`c7_at1`)KEY`FK_assoc5_c6_at1_idx`(`c6_at1`) PRIMARY KEY (`c7_at1` ,`c6_at1`) ,); ALTER TABLE  `class01_name` ADD CONSTRAINT `FK_class01_name_c1_at1` FOREIGN KEY  (`c1_at1`) REFERENCES `class1_name`(`c1_at1`)ON DELETE CASCADE ON UPDATE CASCADE; ALTER TABLE  `class13_name` ADD CONSTRAINT `FK_class13_name_c12_at1` FOREIGN KEY  (`c12_at1`) REFERENCES `class12_name`(`c12_at1`)ON DELETE CASCADE ON UPDATE CASCADE; ALTER TABLE  `class2_name` ADD CONSTRAINT `FK_class2_name_c1_at1` FOREIGN KEY  (`c1_at1`) REFERENCES `class1_name`(`c1_at1`)ON DELETE CASCADE ON UPDATE CASCADE , ALTER TABLE  `class8_name` ADD CONSTRAINT `FK_class8_name_c7_at1` FOREIGN KEY  (`c7_at1`) REFERENCES `class7_name`(`c7_at1`) ON DELETE CASCADE ON UPDATE CASCADE , ALTER TABLE  `assoc7` ADD CONSTRAINT `FK_assoc7_c7_at1` FOREIGN KEY  (`c7_at1`) REFERENCES `class7_name`(`c7_at1`) ON DELETE CASCADE ON UPDATE CASCADE ADD CONSTRAINT `FK_assoc7_c3_at1` FOREIGN KEY  (`c3_at1`) REFERENCES `class3_name`(`c3_at1`)ON DELETE CASCADE ON UPDATE CASCADE , ALTER TABLE  `class3_name` ADD CONSTRAINT `FK_class3_name_c2_at1` FOREIGN KEY  (`c2_at1`) REFERENCES `class2_name`(`c2_at1`)ON DELETE CASCADE ON UPDATE CASCADE ADD CONSTRAINT `FK_class3_name_c01_at1` FOREIGN KEY  (`c01_at1`) REFERENCES `class01_name`(`c01_at1`)ON DELETE CASCADE ON UPDATE CASCADE , ALTER TABLE  `assoc8` ADD CONSTRAINT FK_assoc5_c6_at1` FOREIGN KEY  (`c6_at1`) REFERENCES `class6_name`(`c6_at1`)ON DELETE CASCADE ON UPDATE CASCADE , ADD CONSTRAINT FK_assoc8_c7_at1` FOREIGN KEY  (`c7_at1`) REFERENCES `class7_name`(`c7_at1`) ON DELETE CASCADE ON UPDATE CASCADE , ALTER TABLE  `class14_name` ADD CONSTRAINT FK_class14_name_c12_at1` FOREIGN KEY  (`c12_at1`) REFERENCES `class12_name`(`c12_at1`)ON DELETE CASCADE ON UPDATE CASCADE , ALTER TABLE  `assoc5` ADD CONSTRAINT `FK_assoc5_c7_at1` FOREIGN KEY  (`c7_at1`) REFERENCES `class7_name`(`c7_at1`) ON DELETE CASCADE ON UPDATE CASCADE ADD CONSTRAINT FK_assoc5_c6_at1` FOREIGN KEY  (`c6_at1`) REFERENCES `class6_name`(`c6_at1`)ON DELETE CASCADE ON UPDATE CASCADE  [end]')\n",
      "('module OM_name 0;open Declarationone sig class1_name extends ClassattrSet = c1_at1+c1_at2id=c1_at1no parentisAbstract = No}one sig c1_at1 extends c1_at1_typeone sig c1_at2 extends c1_at2_typeone sig class2_name extends ClassattrSet = c2_at1+c2_at2id=c2_at1no parentisAbstract = No}one sig c2_at1 extends c2_at1_typeone sig c2_at1 extends c2_at2_typeone sig class3_name extends ClassattrSet = c3_at1+c3_at2+c3_at3+c3_at4c3_at5+c3_at6id=c3_at1no parentisAbstract = No}one sig c3_at1 extends c3_at1_typeone sig c3_at2 extends c3_at2_typeone sig c3_at3 extends c3_at3_typeone sig c3_at4 extends c3_at4_typeone sig c3_at5 extends c3_at5_typeone sig c3_at6 extends c3_at6_typeone sig class4_name extends ClassattrSet = c4_at1+c4_at2+c4_at3+c4_at4id=c4_at3no parentisAbstract = No}one sig c4_at1 extends c4_at1_typeone sig c4_at2 extends c4_at2_typeone sig c4_at3 extends c4_at3_typeone sig c4_at4 extends c4_at4_typeone sig class5_name extends ClassattrSet = c5_at1one parentparent in class2_nameid = c2_at1isAbstract = No}one sig c5_at1 extends c5_at1_typeone sig class6_name extends ClassattrSet = c6_at1_0+c6_at2+c6_at3+c6_at4id=c6_at2no parentisAbstract = No}one sig c6_at1_0 extends c6_at1_typeone sig c6_at2 extends c6_at2_typeone sig c6_at3 extends c6_at3_typeone sig c6_at4 extends c6_at4_typeone sig class7_name extends ClassattrSet = c7_at1one parentparent in class2_nameid = c2_at1isAbstract = No}one sig c7_at1 extends c7_at1_typeone sig class8_name extends ClassattrSet = c8_at1one parentparent in class2_nameid = c2_at1isAbstract = No}one sig c8_at1 extends c8_at1_typeone sig class9_name extends ClassattrSet = c9_at1one parentparent in class2_nameid = c2_at1isAbstract = No}one sig c9_at1 extends c9_at1_typeone sig class10_name extends ClassattrSet = c10_at1+c10_at2+c2_at2+c6_at3id=c10_at1no parentisAbstract = No}one sig c10_at1 extends c10_at1_typeone sig c10_at2 extends c10_at2_typeone sig assoc10 extends Associationsrc = class10_namedst= class2_namesrc_multiplicity = src_mlpcdst_multiplicity = dst_mlpc}one sig assoc1 extends Associationsrc = class2_namedst= class4_namesrc_multiplicity = src_mlpc2dst_multiplicity = dst_mlpc}one sig assoc2 extends Associationsrc = class10_namedst= class3_namesrc_multiplicity = src_mlpcdst_multiplicity = dst_mlpc}one sig assoc3 extends Associationsrc = class10_namedst= class4_namesrc_multiplicity = src_mlpcdst_multiplicity = dst_mlpc}one sig assoc4 extends Associationsrc = class10_namedst= class6_namesrc_multiplicity = src_mlpcdst_multiplicity = dst_mlpc2}one sig assoc5 extends Associationsrc = class6_namedst= class1_namesrc_multiplicity = src_mlpcdst_multiplicity = dst_mlpc2}one sig assoc6 extends Associationsrc = class6_namedst= class4_namesrc_multiplicity = src_mlpcdst_multiplicity = dst_mlpc}one sig assoc7 extends Associationsrc = class1_namedst= class3_namesrc_multiplicity = src_mlpcdst_multiplicity = dst_mlpc}one sig assoc8 extends Associationsrc = class1_namedst= class4_namesrc_multiplicity = src_mlpcdst_multiplicity = dst_mlpc}one sig assoc9 extends Associationsrc = class2_namedst= class3_namesrc_multiplicity = src_mlpcdst_multiplicity = dst_mlpc2}pred showrun show ,Mapping Strategy for class1_name : map_str2Mapping Strategy for class10_name : map_str2Mapping Strategy for class5_name : map_str3Mapping Strategy for class7_name : map_str3Mapping Strategy for class8_name : map_str3Association Strategy for assoc2 : assoc_str1Association Strategy for assoc6 : assoc_str1Association Strategy for assoc1 : assoc_str2Association Strategy for assoc3 : assoc_str2Association Strategy for assoc4 : assoc_str2Association Strategy for assoc5 : assoc_str2Association Strategy for assoc7 : assoc_str2Association Strategy for assoc9 : assoc_str2 ,USE OM_name:0;CREATE TABLE `class7_name` (`c7_at1` c7_at1_type(64) ,`c2_at2` c2_at2_type(64) ,`c2_at1` c2_at1_type NOT NULL ,PRIMARY KEY (`c2_at1`) CREATE TABLE `class5_name` (c5_at1` c5_at1_type(64) ,`c2_at2` c2_at2_type(64) ,`c2_at1` c2_at1_type NOT NULL ,PRIMARY KEY (`c2_at1`) CREATE TABLE `assoc3` (c10_at1` c10_at1_type`c4_at3` c4_at3_type NOT NULL ,CREATE TABLE `class2_name` (`c2_at1` c2_at1_type NOT NULL ,PRIMARY KEY (`c2_at1`) CREATE TABLE `assoc10` (c10_at1` c10_at1_type`c2_at1` c2_at1_type NOT NULL ,KEY `FK_assoc10_c2_at1_idx` (`c2_at1`) ,CREATE TABLE `class3_name` (`c3_at6` c3_at6_type ,`c3_at5` c3_at5_type ,`c3_at4` c3_at4_type ,`c3_at3` c3_at3_type ,`c3_at2` c3_at2_type ,`c3_at1` c3_at1_type NOT NULL ,PRIMARY KEY (`c3_at1`)CREATE TABLE `class1_name` (`c1_at2` c1_at2_type(64) ,`c1_at1` c1_at1_type NOT NULL ,PRIMARY KEY (`c1_at1`)CREATE TABLE `assoc7` (`c3_at1` c3_at1_type NOT NULL ,`c1_at1` c1_at1_type NOT NULL ,KEY `FK_assoc7_c3_at1_idx` (`c3_at1`) ,KEY `FK_assoc7_c1_at1_idx` (`c1_at1`) ,PRIMARY KEY (`c3_at1` ,`c1_at1`)CREATE TABLE `class6_name` (`c6_at4` c6_at4_type(64) ,`c6_at1_0` c6_at1_type(64) ,`c6_at2` c6_at2_type NOT NULL ,PRIMARY KEY (`c6_at2`)CREATE TABLE `assoc1` (`c4_at3` c4_at3_type NOT NULL ,`c2_at1` c2_at1_type NOT NULL ,KEY `FK_assoc1_c4_at3_idx` (`c4_at3`) ,KEY `FK_assoc1_c2_at1_idx` (`c2_at1`) ,PRIMARY KEY (`c4_at3` ,`c2_at1`)CREATE TABLE `assoc4` (c10_at1` c10_at1_type`c6_at2` c6_at2_type NOT NULL ,KEY `FK_assoc4_c10_at1_idx` (`c10_at1`) ,KEY `FK_assoc4_c6_at2_idx` (`c6_at2`) ,PRIMARY KEY (`c10_at1` ,`c6_at2`)CREATE TABLE `assoc2` (c10_at1` c10_at1_type`c3_at1` c3_at1_type NOT NULL ,Association Strategy for assoc5 : assoc_str2`c6_at2` c6_at2_type NOT NULL ,`c1_at1` c1_at1_type NOT NULL ,KEY `FK_assoc5_c6_at2_idx` (`c6_at2`) ,KEY `FK_assoc5_c1_at1_idx` (`c1_at1`) ,PRIMARY KEY (`c6_at2` ,`c1_at1`)CREATE TABLE `class10_name` (`c10_at2` c10_at2_type(64) ,`c6_at3` c6_at3_type(64) ,`c2_at2` c2_at2_type(64) ,c10_at1` c10_at1_typePRIMARY KEY (`c10_at1`)CREATE TABLE `class4_name` (`c4_at4` c4_at4_type(64) ,`c4_at2` c4_at2_type(64) ,`c4_at1` c4_at1_type(64) ,`c6_at2` c6_at2_type ,`c4_at3` c4_at3_type NOT NULL ,KEY `FK_class4_name_c6_at2_idx` (`c6_at2`) ,PRIMARY KEY (`c4_at3`)CREATE TABLE `assoc9` (`c3_at1` c3_at1_type NOT NULL ,`c2_at1` c2_at1_type NOT NULL ,KEY `FK_assoc9_c3_at1_idx` (`c3_at1`)KEY `FK_assoc9_c2_at1_idx` (`c2_at1`)PRIMARY KEY (`c3_at1` ,`c2_at1`)CREATE TABLE `class9_name` (`c9_at1` c9_at1_type(64) ,`c2_at1` c2_at1_type NOT NULL ,KEY `FK_class9_name_c2_at1_idx` (`c2_at1`) ,PRIMARY KEY (`c2_at1`) CREATE TABLE `class8_name` (`c8_at1` c8_at1_type(64) ,`c2_at2` c2_at2_type(64) ,`c2_at1` c2_at1_type NOT NULL ,PRIMARY KEY (`c2_at1`) CREATE TABLE `assoc8` (`c4_at3` c4_at3_type NOT NULL ,`c1_at1` c1_at1_type NOT NULL ,KEY `FK_assoc8_c1_at1_idx` (`c1_at1`) ,PRIMARY KEY (`c4_at3` ,`c1_at1`)ALTER TABLE `assoc3`ALTER TABLE `assoc10`ADD CONSTRAINT `FK_assoc10_c2_at1` FOREIGN KEY (`c2_at1`)  REFERENCES  `class2_name` (`c2_at1`) ON DELETE CASCADE ON UPDATE CASCADE ,ALTER TABLE `assoc7`ADD CONSTRAINT `FK_assoc7_c3_at1` FOREIGN KEY (`c3_at1`)  REFERENCES  `class3_name` (`c3_at1`) ON DELETE CASCADE ON UPDATE CASCADE;ADD CONSTRAINT `FK_assoc7_c1_at1` FOREIGN KEY (`c1_at1`)  REFERENCES  `class1_name` (`c1_at1`) ON DELETE CASCADE ON UPDATE CASCADE;ALTER TABLE `assoc1`ADD CONSTRAINT `FK_assoc1_c4_at3` FOREIGN KEY (`c4_at3`)  REFERENCES  `class4_name` (`c4_at3`) ON DELETE CASCADE ON UPDATE CASCADE;ADD CONSTRAINT `FK_assoc1_c2_at1` FOREIGN KEY (`c2_at1`)  REFERENCES  `class2_name` (`c2_at1`) ON DELETE CASCADE ON UPDATE CASCADE;ALTER TABLE `assoc4`ADD CONSTRAINT `FK_assoc4_c10_at1` FOREIGN KEY (`c10_at1`)  REFERENCES  `class10_name` (`c10_at1`) ON DELETE CASCADE ON UPDATE CASCADE;ADD CONSTRAINT `FK_assoc4_c6_at2` FOREIGN KEY (`c6_at2`)  REFERENCES  `class6_name` (`c6_at2`) ON DELETE CASCADE ON UPDATE CASCADE;ALTER TABLE `assoc2`ALTER TABLE `assoc5`ADD CONSTRAINT `FK_assoc5_c6_at2` FOREIGN KEY (`c6_at2`)  REFERENCES  `class6_name` (`c6_at2`) ON DELETE CASCADE ON UPDATE CASCADE;ADD CONSTRAINT `FK_assoc5_c1_at1` FOREIGN KEY (`c1_at1`)  REFERENCES  `class1_name` (`c1_at1`) ON DELETE CASCADE ON UPDATE CASCADE;ALTER TABLE `class4_name`ADD CONSTRAINT `FK_class4_name_c6_at2` FOREIGN KEY (`c6_at2`)  REFERENCES  `class6_name` (`c6_at2`) ON DELETE CASCADE ON UPDATE CASCADE;ALTER TABLE `assoc9`ADD CONSTRAINT `FK_assoc9_c3_at1` FOREIGN KEY (`c3_at1`)  REFERENCES  `class3_name` (`c3_at1`) ON DELETE CASCADE ON UPDATE CASCADE;ADD CONSTRAINT `FK_assoc9_c2_at1` FOREIGN KEY (`c2_at1`)  REFERENCES  `class2_name` (`c2_at1`) ON DELETE CASCADE ON UPDATE CASCADE;ALTER TABLE `class9_name`ADD CONSTRAINT `FK_class9_name_c2_at1` FOREIGN KEY (`c2_at1`)  REFERENCES  `class2_name` (`c2_at1`) ON DELETE CASCADE ON UPDATE CASCADE;ALTER TABLE `assoc8`ADD CONSTRAINT `FK_assoc8_c1_at1` FOREIGN KEY (`c1_at1`)  REFERENCES  `class1_name` (`c1_at1`) ON DELETE CASCADE ON UPDATE CASCADE', '[start] P, module OM_name 0;open Declarationone sig class1_name extends ClassattrSet = c1_at1+c1_at2id=c1_at1no parentisAbstract = No}one sig c1_at1 extends c1_at1_typeone sig c1_at2 extends c1_at2_typeone sig class2_name extends ClassattrSet = c2_at1+c2_at2id=c2_at1no parentisAbstract = No}one sig c2_at1 extends c2_at1_typeone sig c2_at1 extends c2_at2_typeone sig class3_name extends ClassattrSet = c3_at1+c3_at2+c3_at3+c3_at4c3_at5+c3_at6id=c3_at1no parentisAbstract = No}one sig c3_at1 extends c3_at1_typeone sig c3_at2 extends c3_at2_typeone sig c3_at3 extends c3_at3_typeone sig c3_at4 extends c3_at4_typeone sig c3_at5 extends c3_at5_typeone sig c3_at6 extends c3_at6_typeone sig class4_name extends ClassattrSet = c4_at1+c4_at2+c4_at3+c4_at4id=c4_at3no parentisAbstract = No}one sig c4_at1 extends c4_at1_typeone sig c4_at2 extends c4_at2_typeone sig c4_at3 extends c4_at3_typeone sig c4_at4 extends c4_at4_typeone sig class5_name extends ClassattrSet = c5_at1one parentparent in class2_nameid = c2_at1isAbstract = No}one sig c5_at1 extends c5_at1_typeone sig class6_name extends ClassattrSet = c6_at1_0+c6_at2+c6_at3+c6_at4id=c6_at2no parentisAbstract = No}one sig c6_at1_0 extends c6_at1_typeone sig c6_at2 extends c6_at2_typeone sig c6_at3 extends c6_at3_typeone sig c6_at4 extends c6_at4_typeone sig class7_name extends ClassattrSet = c7_at1one parentparent in class2_nameid = c2_at1isAbstract = No}one sig c7_at1 extends c7_at1_typeone sig class8_name extends ClassattrSet = c8_at1one parentparent in class2_nameid = c2_at1isAbstract = No}one sig c8_at1 extends c8_at1_typeone sig class9_name extends ClassattrSet = c9_at1one parentparent in class2_nameid = c2_at1isAbstract = No}one sig c9_at1 extends c9_at1_typeone sig class10_name extends ClassattrSet = c10_at1+c10_at2+c2_at2+c6_at3id=c10_at1no parentisAbstract = No}one sig c10_at1 extends c10_at1_typeone sig c10_at2 extends c10_at2_typeone sig assoc10 extends Associationsrc = class10_namedst= class2_namesrc_multiplicity = src_mlpcdst_multiplicity = dst_mlpc}one sig assoc1 extends Associationsrc = class2_namedst= class4_namesrc_multiplicity = src_mlpc2dst_multiplicity = dst_mlpc}one sig assoc2 extends Associationsrc = class10_namedst= class3_namesrc_multiplicity = src_mlpcdst_multiplicity = dst_mlpc}one sig assoc3 extends Associationsrc = class10_namedst= class4_namesrc_multiplicity = src_mlpcdst_multiplicity = dst_mlpc}one sig assoc4 extends Associationsrc = class10_namedst= class6_namesrc_multiplicity = src_mlpcdst_multiplicity = dst_mlpc2}one sig assoc5 extends Associationsrc = class6_namedst= class1_namesrc_multiplicity = src_mlpcdst_multiplicity = dst_mlpc2}one sig assoc6 extends Associationsrc = class6_namedst= class4_namesrc_multiplicity = src_mlpcdst_multiplicity = dst_mlpc}one sig assoc7 extends Associationsrc = class1_namedst= class3_namesrc_multiplicity = src_mlpcdst_multiplicity = dst_mlpc}one sig assoc8 extends Associationsrc = class1_namedst= class4_namesrc_multiplicity = src_mlpcdst_multiplicity = dst_mlpc}one sig assoc9 extends Associationsrc = class2_namedst= class3_namesrc_multiplicity = src_mlpcdst_multiplicity = dst_mlpc2}pred showrun show ,Mapping Strategy for class1_name : map_str2Mapping Strategy for class10_name : map_str2Mapping Strategy for class5_name : map_str3Mapping Strategy for class7_name : map_str3Mapping Strategy for class8_name : map_str3Association Strategy for assoc2 : assoc_str1Association Strategy for assoc6 : assoc_str1Association Strategy for assoc1 : assoc_str2Association Strategy for assoc3 : assoc_str2Association Strategy for assoc4 : assoc_str2Association Strategy for assoc5 : assoc_str2Association Strategy for assoc7 : assoc_str2Association Strategy for assoc9 : assoc_str2 ,USE OM_name:0;CREATE TABLE `class7_name` (`c7_at1` c7_at1_type(64) ,`c2_at2` c2_at2_type(64) ,`c2_at1` c2_at1_type NOT NULL ,PRIMARY KEY (`c2_at1`) CREATE TABLE `class5_name` (c5_at1` c5_at1_type(64) ,`c2_at2` c2_at2_type(64) ,`c2_at1` c2_at1_type NOT NULL ,PRIMARY KEY (`c2_at1`) CREATE TABLE `assoc3` (c10_at1` c10_at1_type`c4_at3` c4_at3_type NOT NULL ,CREATE TABLE `class2_name` (`c2_at1` c2_at1_type NOT NULL ,PRIMARY KEY (`c2_at1`) CREATE TABLE `assoc10` (c10_at1` c10_at1_type`c2_at1` c2_at1_type NOT NULL ,KEY `FK_assoc10_c2_at1_idx` (`c2_at1`) ,CREATE TABLE `class3_name` (`c3_at6` c3_at6_type ,`c3_at5` c3_at5_type ,`c3_at4` c3_at4_type ,`c3_at3` c3_at3_type ,`c3_at2` c3_at2_type ,`c3_at1` c3_at1_type NOT NULL ,PRIMARY KEY (`c3_at1`)CREATE TABLE `class1_name` (`c1_at2` c1_at2_type(64) ,`c1_at1` c1_at1_type NOT NULL ,PRIMARY KEY (`c1_at1`)CREATE TABLE `assoc7` (`c3_at1` c3_at1_type NOT NULL ,`c1_at1` c1_at1_type NOT NULL ,KEY `FK_assoc7_c3_at1_idx` (`c3_at1`) ,KEY `FK_assoc7_c1_at1_idx` (`c1_at1`) ,PRIMARY KEY (`c3_at1` ,`c1_at1`)CREATE TABLE `class6_name` (`c6_at4` c6_at4_type(64) ,`c6_at1_0` c6_at1_type(64) ,`c6_at2` c6_at2_type NOT NULL ,PRIMARY KEY (`c6_at2`)CREATE TABLE `assoc1` (`c4_at3` c4_at3_type NOT NULL ,`c2_at1` c2_at1_type NOT NULL ,KEY `FK_assoc1_c4_at3_idx` (`c4_at3`) ,KEY `FK_assoc1_c2_at1_idx` (`c2_at1`) ,PRIMARY KEY (`c4_at3` ,`c2_at1`)CREATE TABLE `assoc4` (c10_at1` c10_at1_type`c6_at2` c6_at2_type NOT NULL ,KEY `FK_assoc4_c10_at1_idx` (`c10_at1`) ,KEY `FK_assoc4_c6_at2_idx` (`c6_at2`) ,PRIMARY KEY (`c10_at1` ,`c6_at2`)CREATE TABLE `assoc2` (c10_at1` c10_at1_type`c3_at1` c3_at1_type NOT NULL ,Association Strategy for assoc5 : assoc_str2`c6_at2` c6_at2_type NOT NULL ,`c1_at1` c1_at1_type NOT NULL ,KEY `FK_assoc5_c6_at2_idx` (`c6_at2`) ,KEY `FK_assoc5_c1_at1_idx` (`c1_at1`) ,PRIMARY KEY (`c6_at2` ,`c1_at1`)CREATE TABLE `class10_name` (`c10_at2` c10_at2_type(64) ,`c6_at3` c6_at3_type(64) ,`c2_at2` c2_at2_type(64) ,c10_at1` c10_at1_typePRIMARY KEY (`c10_at1`)CREATE TABLE `class4_name` (`c4_at4` c4_at4_type(64) ,`c4_at2` c4_at2_type(64) ,`c4_at1` c4_at1_type(64) ,`c6_at2` c6_at2_type ,`c4_at3` c4_at3_type NOT NULL ,KEY `FK_class4_name_c6_at2_idx` (`c6_at2`) ,PRIMARY KEY (`c4_at3`)CREATE TABLE `assoc9` (`c3_at1` c3_at1_type NOT NULL ,`c2_at1` c2_at1_type NOT NULL ,KEY `FK_assoc9_c3_at1_idx` (`c3_at1`)KEY `FK_assoc9_c2_at1_idx` (`c2_at1`)PRIMARY KEY (`c3_at1` ,`c2_at1`)CREATE TABLE `class9_name` (`c9_at1` c9_at1_type(64) ,`c2_at1` c2_at1_type NOT NULL ,KEY `FK_class9_name_c2_at1_idx` (`c2_at1`) ,PRIMARY KEY (`c2_at1`) CREATE TABLE `class8_name` (`c8_at1` c8_at1_type(64) ,`c2_at2` c2_at2_type(64) ,`c2_at1` c2_at1_type NOT NULL ,PRIMARY KEY (`c2_at1`) CREATE TABLE `assoc8` (`c4_at3` c4_at3_type NOT NULL ,`c1_at1` c1_at1_type NOT NULL ,KEY `FK_assoc8_c1_at1_idx` (`c1_at1`) ,PRIMARY KEY (`c4_at3` ,`c1_at1`)ALTER TABLE `assoc3`ALTER TABLE `assoc10`ADD CONSTRAINT `FK_assoc10_c2_at1` FOREIGN KEY (`c2_at1`)  REFERENCES  `class2_name` (`c2_at1`) ON DELETE CASCADE ON UPDATE CASCADE ,ALTER TABLE `assoc7`ADD CONSTRAINT `FK_assoc7_c3_at1` FOREIGN KEY (`c3_at1`)  REFERENCES  `class3_name` (`c3_at1`) ON DELETE CASCADE ON UPDATE CASCADE;ADD CONSTRAINT `FK_assoc7_c1_at1` FOREIGN KEY (`c1_at1`)  REFERENCES  `class1_name` (`c1_at1`) ON DELETE CASCADE ON UPDATE CASCADE;ALTER TABLE `assoc1`ADD CONSTRAINT `FK_assoc1_c4_at3` FOREIGN KEY (`c4_at3`)  REFERENCES  `class4_name` (`c4_at3`) ON DELETE CASCADE ON UPDATE CASCADE;ADD CONSTRAINT `FK_assoc1_c2_at1` FOREIGN KEY (`c2_at1`)  REFERENCES  `class2_name` (`c2_at1`) ON DELETE CASCADE ON UPDATE CASCADE;ALTER TABLE `assoc4`ADD CONSTRAINT `FK_assoc4_c10_at1` FOREIGN KEY (`c10_at1`)  REFERENCES  `class10_name` (`c10_at1`) ON DELETE CASCADE ON UPDATE CASCADE;ADD CONSTRAINT `FK_assoc4_c6_at2` FOREIGN KEY (`c6_at2`)  REFERENCES  `class6_name` (`c6_at2`) ON DELETE CASCADE ON UPDATE CASCADE;ALTER TABLE `assoc2`ALTER TABLE `assoc5`ADD CONSTRAINT `FK_assoc5_c6_at2` FOREIGN KEY (`c6_at2`)  REFERENCES  `class6_name` (`c6_at2`) ON DELETE CASCADE ON UPDATE CASCADE;ADD CONSTRAINT `FK_assoc5_c1_at1` FOREIGN KEY (`c1_at1`)  REFERENCES  `class1_name` (`c1_at1`) ON DELETE CASCADE ON UPDATE CASCADE;ALTER TABLE `class4_name`ADD CONSTRAINT `FK_class4_name_c6_at2` FOREIGN KEY (`c6_at2`)  REFERENCES  `class6_name` (`c6_at2`) ON DELETE CASCADE ON UPDATE CASCADE;ALTER TABLE `assoc9`ADD CONSTRAINT `FK_assoc9_c3_at1` FOREIGN KEY (`c3_at1`)  REFERENCES  `class3_name` (`c3_at1`) ON DELETE CASCADE ON UPDATE CASCADE;ADD CONSTRAINT `FK_assoc9_c2_at1` FOREIGN KEY (`c2_at1`)  REFERENCES  `class2_name` (`c2_at1`) ON DELETE CASCADE ON UPDATE CASCADE;ALTER TABLE `class9_name`ADD CONSTRAINT `FK_class9_name_c2_at1` FOREIGN KEY (`c2_at1`)  REFERENCES  `class2_name` (`c2_at1`) ON DELETE CASCADE ON UPDATE CASCADE;ALTER TABLE `assoc8`ADD CONSTRAINT `FK_assoc8_c1_at1` FOREIGN KEY (`c1_at1`)  REFERENCES  `class1_name` (`c1_at1`) ON DELETE CASCADE ON UPDATE CASCADE  [end]')\n"
     ]
    }
   ],
   "source": [
    "for _ in range(5):\n",
    "    print(random.choice(text_pairs))"
   ]
  },
  {
   "cell_type": "markdown",
   "metadata": {
    "id": "6W_CONhiHqa7"
   },
   "source": [
    "Now, let's split the sentence pairs into a training set, a validation set,\n",
    "and a test set."
   ]
  },
  {
   "cell_type": "code",
   "execution_count": null,
   "metadata": {
    "colab": {
     "base_uri": "https://localhost:8080/"
    },
    "id": "URk0VYj5Hqa7",
    "outputId": "127e73d5-ab3f-47e7-9c1a-ce8028704f06"
   },
   "outputs": [
    {
     "name": "stdout",
     "output_type": "stream",
     "text": [
      "26470 total pairs\n",
      "18530 training pairs\n",
      "3970 validation pairs\n",
      "3970 test pairs\n"
     ]
    }
   ],
   "source": [
    "random.shuffle(text_pairs)\n",
    "num_val_samples = int(0.15 * len(text_pairs))\n",
    "num_train_samples = len(text_pairs) - 2 * num_val_samples\n",
    "train_pairs = text_pairs[:num_train_samples]\n",
    "val_pairs = text_pairs[num_train_samples : num_train_samples + num_val_samples]\n",
    "test_pairs = text_pairs[num_train_samples + num_val_samples :]\n",
    "\n",
    "print(f\"{len(text_pairs)} total pairs\")\n",
    "print(f\"{len(train_pairs)} training pairs\")\n",
    "print(f\"{len(val_pairs)} validation pairs\")\n",
    "print(f\"{len(test_pairs)} test pairs\")"
   ]
  },
  {
   "cell_type": "markdown",
   "metadata": {
    "id": "Sph5JNZfHqa7"
   },
   "source": [
    "## Vectorizing the text data\n",
    "\n",
    "We'll use two instances of the `TextVectorization` layer to vectorize the text\n",
    "data (one for English and one for Spanish),\n",
    "that is to say, to turn the original strings into integer sequences\n",
    "where each integer represents the index of a word in a vocabulary.\n",
    "\n",
    "The English layer will use the default string standardization (strip punctuation characters)\n",
    "and splitting scheme (split on whitespace), while\n",
    "the Spanish layer will use a custom standardization, where we add the character\n",
    "`\"¿\"` to the set of punctuation characters to be stripped.\n",
    "\n",
    "Note: in a production-grade machine translation model, I would not recommend\n",
    "stripping the punctuation characters in either language. Instead, I would recommend turning\n",
    "each punctuation character into its own token,\n",
    "which you could achieve by providing a custom `split` function to the `TextVectorization` layer."
   ]
  },
  {
   "cell_type": "code",
   "execution_count": null,
   "metadata": {
    "id": "MjmfEsJaHqa7"
   },
   "outputs": [],
   "source": [
    "strip_chars = string.punctuation + \"\"\n",
    "strip_chars = strip_chars.replace(\"[\", \"\")\n",
    "strip_chars = strip_chars.replace(\"]\", \"\")\n",
    "\n",
    "vocab_size = 15000\n",
    "sequence_length = 500\n",
    "batch_size = 64\n",
    "\n",
    "\n",
    "def custom_standardization(input_string):\n",
    "    lowercase = tf.strings.lower(input_string)\n",
    "    return tf.strings.regex_replace(lowercase, \"[%s]\" % re.escape(strip_chars), \"\")\n",
    "\n",
    "\n",
    "eng_vectorization = TextVectorization(\n",
    "    max_tokens=vocab_size, output_mode=\"int\", output_sequence_length=sequence_length,\n",
    ")\n",
    "spa_vectorization = TextVectorization(\n",
    "    max_tokens=vocab_size,\n",
    "    output_mode=\"int\",\n",
    "    output_sequence_length=sequence_length + 1,\n",
    "    standardize=custom_standardization,\n",
    ")\n",
    "train_eng_texts = [pair[0] for pair in train_pairs]\n",
    "train_spa_texts = [pair[1] for pair in train_pairs]\n",
    "eng_vectorization.adapt(train_eng_texts)\n",
    "spa_vectorization.adapt(train_spa_texts)"
   ]
  },
  {
   "cell_type": "markdown",
   "metadata": {
    "id": "FaQljM4HHqa8"
   },
   "source": [
    "Next, we'll format our datasets.\n",
    "\n",
    "At each training step, the model will seek to predict target words N+1 (and beyond)\n",
    "using the source sentence and the target words 0 to N.\n",
    "\n",
    "As such, the training dataset will yield a tuple `(inputs, targets)`, where:\n",
    "\n",
    "- `inputs` is a dictionary with the keys `encoder_inputs` and `decoder_inputs`.\n",
    "`encoder_inputs` is the vectorized source sentence and `encoder_inputs` is the target sentence \"so far\",\n",
    "that is to say, the words 0 to N used to predict word N+1 (and beyond) in the target sentence.\n",
    "- `target` is the target sentence offset by one step:\n",
    "it provides the next words in the target sentence -- what the model will try to predict."
   ]
  },
  {
   "cell_type": "code",
   "execution_count": null,
   "metadata": {
    "id": "HIrpGv30Hqa8"
   },
   "outputs": [],
   "source": [
    "\n",
    "def format_dataset(eng, spa):\n",
    "    eng = eng_vectorization(eng)\n",
    "    spa = spa_vectorization(spa)\n",
    "    return ({\"encoder_inputs\": eng, \"decoder_inputs\": spa[:, :-1],}, spa[:, 1:])\n",
    "\n",
    "\n",
    "# def make_dataset(pairs):\n",
    "#     eng_texts, spa_texts = zip(*pairs)\n",
    "#     eng_texts = list(eng_texts)\n",
    "#     spa_texts = list(spa_texts)\n",
    "#     dataset = tf.data.Dataset.from_tensor_slices((eng_texts, spa_texts))\n",
    "#     dataset = dataset.batch(batch_size)\n",
    "#     dataset = dataset.map(format_dataset)\n",
    "#     return dataset.shuffle(2048).prefetch(16).cache()\n",
    "\n",
    "def make_dataset(pairs):\n",
    "    eng_texts, spa_texts = zip(*pairs)\n",
    "    eng_texts = list(eng_texts)\n",
    "    spa_texts = list(spa_texts)\n",
    "    dataset = tf.data.Dataset.from_tensor_slices((eng_texts, spa_texts))\n",
    "    dataset = dataset.batch(batch_size)\n",
    "\n",
    "    # Distribute the dataset creation across multiple GPUs\n",
    "    if num_gpus > 1:\n",
    "        dataset = dataset.distribute(strategy)\n",
    "\n",
    "    dataset = dataset.map(format_dataset)\n",
    "    return dataset.shuffle(2048).prefetch(16).cache()\n",
    "\n",
    "# Create the datasets\n",
    "train_ds = make_dataset(train_pairs)\n",
    "val_ds = make_dataset(val_pairs)"
   ]
  },
  {
   "cell_type": "markdown",
   "metadata": {
    "id": "x7VKHafcHqa8"
   },
   "source": [
    "Let's take a quick look at the sequence shapes\n",
    "(we have batches of 64 pairs, and all sequences are 20 steps long):"
   ]
  },
  {
   "cell_type": "code",
   "execution_count": null,
   "metadata": {
    "colab": {
     "base_uri": "https://localhost:8080/"
    },
    "id": "BNuIpcepHqa8",
    "outputId": "de5feba7-cfee-4c6a-912a-1e717182705c"
   },
   "outputs": [
    {
     "name": "stdout",
     "output_type": "stream",
     "text": [
      "inputs[\"encoder_inputs\"].shape: (64, 500)\n",
      "inputs[\"decoder_inputs\"].shape: (64, 500)\n",
      "targets.shape: (64, 500)\n"
     ]
    }
   ],
   "source": [
    "for inputs, targets in train_ds.take(1):\n",
    "    print(f'inputs[\"encoder_inputs\"].shape: {inputs[\"encoder_inputs\"].shape}')\n",
    "    print(f'inputs[\"decoder_inputs\"].shape: {inputs[\"decoder_inputs\"].shape}')\n",
    "    print(f\"targets.shape: {targets.shape}\")"
   ]
  },
  {
   "cell_type": "markdown",
   "metadata": {
    "id": "pCZrNjuJHqa8"
   },
   "source": [
    "## Building the model\n",
    "\n",
    "Our sequence-to-sequence Transformer consists of a `TransformerEncoder`\n",
    "and a `TransformerDecoder` chained together. To make the model aware of word order,\n",
    "we also use a `PositionalEmbedding` layer.\n",
    "\n",
    "The source sequence will be pass to the `TransformerEncoder`,\n",
    "which will produce a new representation of it.\n",
    "This new representation will then be passed\n",
    "to the `TransformerDecoder`, together with the target sequence so far (target words 0 to N).\n",
    "The `TransformerDecoder` will then seek to predict the next words in the target sequence (N+1 and beyond).\n",
    "\n",
    "A key detail that makes this possible is causal masking\n",
    "(see method `get_causal_attention_mask()` on the `TransformerDecoder`).\n",
    "The `TransformerDecoder` sees the entire sequences at once, and thus we must make\n",
    "sure that it only uses information from target tokens 0 to N when predicting token N+1\n",
    "(otherwise, it could use information from the future, which would\n",
    "result in a model that cannot be used at inference time)."
   ]
  },
  {
   "cell_type": "code",
   "execution_count": null,
   "metadata": {
    "id": "u7QpLXimHqa8"
   },
   "outputs": [],
   "source": [
    "\n",
    "class TransformerEncoder(layers.Layer):\n",
    "    def __init__(self, embed_dim, dense_dim, num_heads, **kwargs):\n",
    "        super().__init__(**kwargs)\n",
    "        self.embed_dim = embed_dim\n",
    "        self.dense_dim = dense_dim\n",
    "        self.num_heads = num_heads\n",
    "        self.attention = layers.MultiHeadAttention(\n",
    "            num_heads=num_heads, key_dim=embed_dim\n",
    "        )\n",
    "        self.dense_proj = keras.Sequential(\n",
    "            [layers.Dense(dense_dim, activation=\"relu\"), layers.Dense(embed_dim),]\n",
    "        )\n",
    "        self.layernorm_1 = layers.LayerNormalization()\n",
    "        self.layernorm_2 = layers.LayerNormalization()\n",
    "        self.supports_masking = True\n",
    "\n",
    "    def call(self, inputs, mask=None):\n",
    "        if mask is not None:\n",
    "            padding_mask = tf.cast(mask[:, tf.newaxis, :], dtype=\"int32\")\n",
    "        attention_output = self.attention(\n",
    "            query=inputs, value=inputs, key=inputs, attention_mask=padding_mask\n",
    "        )\n",
    "        proj_input = self.layernorm_1(inputs + attention_output)\n",
    "        proj_output = self.dense_proj(proj_input)\n",
    "        return self.layernorm_2(proj_input + proj_output)\n",
    "    def get_config(self):\n",
    "        config = super().get_config()\n",
    "        config.update({\n",
    "            \"embed_dim\": self.embed_dim,\n",
    "            \"dense_dim\": self.dense_dim,\n",
    "            \"num_heads\": self.num_heads,\n",
    "        })\n",
    "        return config\n",
    "\n",
    "\n",
    "class PositionalEmbedding(layers.Layer):\n",
    "    def __init__(self, sequence_length, vocab_size, embed_dim, **kwargs):\n",
    "        super().__init__(**kwargs)\n",
    "        self.token_embeddings = layers.Embedding(\n",
    "            input_dim=vocab_size, output_dim=embed_dim\n",
    "        )\n",
    "        self.position_embeddings = layers.Embedding(\n",
    "            input_dim=sequence_length, output_dim=embed_dim\n",
    "        )\n",
    "        self.sequence_length = sequence_length\n",
    "        self.vocab_size = vocab_size\n",
    "        self.embed_dim = embed_dim\n",
    "\n",
    "    def call(self, inputs):\n",
    "        length = tf.shape(inputs)[-1]\n",
    "        positions = tf.range(start=0, limit=length, delta=1)\n",
    "        embedded_tokens = self.token_embeddings(inputs)\n",
    "        embedded_positions = self.position_embeddings(positions)\n",
    "        return embedded_tokens + embedded_positions\n",
    "\n",
    "    def compute_mask(self, inputs, mask=None):\n",
    "        return tf.math.not_equal(inputs, 0)\n",
    "    def get_config(self):\n",
    "        config = super().get_config()\n",
    "        config.update({\n",
    "            \"sequence_length\": self.sequence_length,\n",
    "            \"vocab_size\": self.vocab_size,\n",
    "            \"embed_dim\": self.embed_dim,\n",
    "        })\n",
    "        return config\n",
    "\n",
    "\n",
    "class TransformerDecoder(layers.Layer):\n",
    "    def __init__(self, embed_dim, latent_dim, num_heads, **kwargs):\n",
    "        super().__init__(**kwargs)\n",
    "        self.embed_dim = embed_dim\n",
    "        self.latent_dim = latent_dim\n",
    "        self.num_heads = num_heads\n",
    "        self.attention_1 = layers.MultiHeadAttention(\n",
    "            num_heads=num_heads, key_dim=embed_dim\n",
    "        )\n",
    "        self.attention_2 = layers.MultiHeadAttention(\n",
    "            num_heads=num_heads, key_dim=embed_dim\n",
    "        )\n",
    "        self.dense_proj = keras.Sequential(\n",
    "            [layers.Dense(latent_dim, activation=\"relu\"), layers.Dense(embed_dim),]\n",
    "        )\n",
    "        self.layernorm_1 = layers.LayerNormalization()\n",
    "        self.layernorm_2 = layers.LayerNormalization()\n",
    "        self.layernorm_3 = layers.LayerNormalization()\n",
    "        self.supports_masking = True\n",
    "\n",
    "    def call(self, inputs, encoder_outputs, mask=None):\n",
    "        causal_mask = self.get_causal_attention_mask(inputs)\n",
    "        if mask is not None:\n",
    "            padding_mask = tf.cast(mask[:, tf.newaxis, :], dtype=\"int32\")\n",
    "            padding_mask = tf.minimum(padding_mask, causal_mask)\n",
    "\n",
    "        attention_output_1 = self.attention_1(\n",
    "            query=inputs, value=inputs, key=inputs, attention_mask=causal_mask\n",
    "        )\n",
    "        out_1 = self.layernorm_1(inputs + attention_output_1)\n",
    "\n",
    "        attention_output_2 = self.attention_2(\n",
    "            query=out_1,\n",
    "            value=encoder_outputs,\n",
    "            key=encoder_outputs,\n",
    "            attention_mask=padding_mask,\n",
    "        )\n",
    "        out_2 = self.layernorm_2(out_1 + attention_output_2)\n",
    "\n",
    "        proj_output = self.dense_proj(out_2)\n",
    "        return self.layernorm_3(out_2 + proj_output)\n",
    "\n",
    "    def get_causal_attention_mask(self, inputs):\n",
    "        input_shape = tf.shape(inputs)\n",
    "        batch_size, sequence_length = input_shape[0], input_shape[1]\n",
    "        i = tf.range(sequence_length)[:, tf.newaxis]\n",
    "        j = tf.range(sequence_length)\n",
    "        mask = tf.cast(i >= j, dtype=\"int32\")\n",
    "        mask = tf.reshape(mask, (1, input_shape[1], input_shape[1]))\n",
    "        mult = tf.concat(\n",
    "            [tf.expand_dims(batch_size, -1), tf.constant([1, 1], dtype=tf.int32)],\n",
    "            axis=0,\n",
    "        )\n",
    "        return tf.tile(mask, mult)\n",
    "    def get_config(self):\n",
    "        config = super().get_config()\n",
    "        config.update({\n",
    "            \"embed_dim\": self.embed_dim,\n",
    "            \"latent_dim\": self.latent_dim,\n",
    "            \"num_heads\": self.num_heads,\n",
    "        })\n",
    "        return config\n"
   ]
  },
  {
   "cell_type": "markdown",
   "metadata": {
    "id": "6nWPRP0IHqa9"
   },
   "source": [
    "Next, we assemble the end-to-end model."
   ]
  },
  {
   "cell_type": "code",
   "execution_count": null,
   "metadata": {
    "id": "jwMSG2sEHqa9"
   },
   "outputs": [],
   "source": [
    "embed_dim = 256\n",
    "latent_dim = 2048\n",
    "num_heads = 8\n",
    "\n",
    "\n",
    "with strategy.scope():\n",
    "\n",
    "  encoder_inputs = keras.Input(shape=(None,), dtype=\"int64\", name=\"encoder_inputs\")\n",
    "  x = PositionalEmbedding(sequence_length, vocab_size, embed_dim)(encoder_inputs)\n",
    "  encoder_outputs = TransformerEncoder(embed_dim, latent_dim, num_heads)(x)\n",
    "  encoder = keras.Model(encoder_inputs, encoder_outputs)\n",
    "\n",
    "  decoder_inputs = keras.Input(shape=(None,), dtype=\"int64\", name=\"decoder_inputs\")\n",
    "  encoded_seq_inputs = keras.Input(shape=(None, embed_dim), name=\"decoder_state_inputs\")\n",
    "  x = PositionalEmbedding(sequence_length, vocab_size, embed_dim)(decoder_inputs)\n",
    "  x = TransformerDecoder(embed_dim, latent_dim, num_heads)(x, encoded_seq_inputs)\n",
    "  x = layers.Dropout(0.5)(x)\n",
    "  decoder_outputs = layers.Dense(vocab_size, activation=\"softmax\")(x)\n",
    "  decoder = keras.Model([decoder_inputs, encoded_seq_inputs], decoder_outputs)\n",
    "\n",
    "  decoder_outputs = decoder([decoder_inputs, encoder_outputs])\n",
    "  transformer = keras.Model(\n",
    "      [encoder_inputs, decoder_inputs], decoder_outputs, name=\"transformer\"\n",
    "  )"
   ]
  },
  {
   "cell_type": "markdown",
   "metadata": {
    "id": "Vxau2QMGHqa9"
   },
   "source": [
    "## Training our model\n",
    "\n",
    "We'll use accuracy as a quick way to monitor training progress on the validation data.\n",
    "Note that machine translation typically uses BLEU scores as well as other metrics, rather than accuracy.\n",
    "\n",
    "Here we only train for 1 epoch, but to get the model to actually converge\n",
    "you should train for at least 30 epochs."
   ]
  },
  {
   "cell_type": "code",
   "execution_count": null,
   "metadata": {
    "id": "x1hlE2egwCvk"
   },
   "outputs": [],
   "source": [
    "\n"
   ]
  },
  {
   "cell_type": "code",
   "execution_count": null,
   "metadata": {
    "colab": {
     "base_uri": "https://localhost:8080/"
    },
    "id": "yJC2FQxmHqa9",
    "outputId": "15d79bb9-9254-4df3-da08-060bd8b1c670"
   },
   "outputs": [
    {
     "name": "stdout",
     "output_type": "stream",
     "text": [
      "Model: \"transformer\"\n",
      "__________________________________________________________________________________________________\n",
      " Layer (type)                   Output Shape         Param #     Connected to                     \n",
      "==================================================================================================\n",
      " encoder_inputs (InputLayer)    [(None, None)]       0           []                               \n",
      "                                                                                                  \n",
      " positional_embedding (Position  (None, None, 256)   3968000     ['encoder_inputs[0][0]']         \n",
      " alEmbedding)                                                                                     \n",
      "                                                                                                  \n",
      " decoder_inputs (InputLayer)    [(None, None)]       0           []                               \n",
      "                                                                                                  \n",
      " transformer_encoder (Transform  (None, None, 256)   3155456     ['positional_embedding[0][0]']   \n",
      " erEncoder)                                                                                       \n",
      "                                                                                                  \n",
      " model_1 (Functional)           (None, None, 15000)  13082520    ['decoder_inputs[0][0]',         \n",
      "                                                                  'transformer_encoder[0][0]']    \n",
      "                                                                                                  \n",
      "==================================================================================================\n",
      "Total params: 20,205,976\n",
      "Trainable params: 20,205,976\n",
      "Non-trainable params: 0\n",
      "__________________________________________________________________________________________________\n",
      "Epoch 1/120\n",
      "290/290 [==============================] - 109s 302ms/step - loss: inf - accuracy: 0.8798 - val_loss: 0.0233 - val_accuracy: 0.9949\n",
      "Epoch 2/120\n",
      "290/290 [==============================] - 42s 144ms/step - loss: 0.0142 - accuracy: 0.9972 - val_loss: 0.0073 - val_accuracy: 0.9983\n",
      "Epoch 3/120\n",
      "290/290 [==============================] - 42s 145ms/step - loss: 0.0083 - accuracy: 0.9981 - val_loss: 0.0079 - val_accuracy: 0.9980\n",
      "Epoch 4/120\n",
      "290/290 [==============================] - 42s 145ms/step - loss: 0.0056 - accuracy: 0.9987 - val_loss: 0.0046 - val_accuracy: 0.9989\n",
      "Epoch 5/120\n",
      "290/290 [==============================] - 42s 145ms/step - loss: 0.0042 - accuracy: 0.9989 - val_loss: 0.0047 - val_accuracy: 0.9989\n",
      "Epoch 6/120\n",
      "290/290 [==============================] - 42s 145ms/step - loss: 0.0036 - accuracy: 0.9990 - val_loss: 0.0040 - val_accuracy: 0.9991\n",
      "Epoch 7/120\n",
      "290/290 [==============================] - 42s 145ms/step - loss: 0.0038 - accuracy: 0.9990 - val_loss: 0.0046 - val_accuracy: 0.9989\n",
      "Epoch 8/120\n",
      "290/290 [==============================] - 42s 145ms/step - loss: 0.0030 - accuracy: 0.9992 - val_loss: 0.0039 - val_accuracy: 0.9990\n",
      "Epoch 9/120\n",
      "290/290 [==============================] - 42s 145ms/step - loss: inf - accuracy: 0.9270 - val_loss: inf - val_accuracy: 0.0596\n",
      "Epoch 10/120\n",
      "290/290 [==============================] - 42s 145ms/step - loss: inf - accuracy: 0.0645 - val_loss: inf - val_accuracy: 0.0681\n",
      "Epoch 11/120\n",
      "290/290 [==============================] - 42s 145ms/step - loss: inf - accuracy: 0.0674 - val_loss: inf - val_accuracy: 0.0681\n",
      "Epoch 12/120\n",
      "290/290 [==============================] - 42s 145ms/step - loss: inf - accuracy: 0.0675 - val_loss: inf - val_accuracy: 0.0681\n",
      "Epoch 13/120\n",
      "290/290 [==============================] - 42s 145ms/step - loss: inf - accuracy: 0.0676 - val_loss: inf - val_accuracy: 0.0681\n",
      "Epoch 14/120\n",
      "290/290 [==============================] - 42s 145ms/step - loss: inf - accuracy: 0.0795 - val_loss: inf - val_accuracy: 0.1501\n",
      "Epoch 15/120\n",
      "290/290 [==============================] - 42s 145ms/step - loss: inf - accuracy: 0.1925 - val_loss: inf - val_accuracy: 0.3451\n",
      "Epoch 16/120\n",
      "290/290 [==============================] - 42s 145ms/step - loss: inf - accuracy: 0.5504 - val_loss: 0.8854 - val_accuracy: 0.7921\n",
      "Epoch 17/120\n",
      "290/290 [==============================] - 42s 145ms/step - loss: 0.7573 - accuracy: 0.8083 - val_loss: 0.5889 - val_accuracy: 0.8362\n",
      "Epoch 18/120\n",
      "290/290 [==============================] - 42s 145ms/step - loss: 0.5537 - accuracy: 0.8439 - val_loss: 0.4577 - val_accuracy: 0.8609\n",
      "Epoch 19/120\n",
      "290/290 [==============================] - 42s 145ms/step - loss: inf - accuracy: 0.7747 - val_loss: inf - val_accuracy: 0.3977\n",
      "Epoch 20/120\n",
      "290/290 [==============================] - 42s 145ms/step - loss: inf - accuracy: 0.8196 - val_loss: 0.4171 - val_accuracy: 0.8720\n",
      "Epoch 21/120\n",
      "290/290 [==============================] - 42s 144ms/step - loss: 0.4065 - accuracy: 0.8758 - val_loss: 0.3438 - val_accuracy: 0.8913\n",
      "Epoch 22/120\n",
      "290/290 [==============================] - 42s 144ms/step - loss: 0.3433 - accuracy: 0.8919 - val_loss: 0.2947 - val_accuracy: 0.9058\n",
      "Epoch 23/120\n",
      "290/290 [==============================] - 42s 145ms/step - loss: 0.2949 - accuracy: 0.9060 - val_loss: 0.2578 - val_accuracy: 0.9162\n",
      "Epoch 24/120\n",
      "290/290 [==============================] - 42s 145ms/step - loss: 0.2535 - accuracy: 0.9188 - val_loss: 0.2155 - val_accuracy: 0.9306\n",
      "Epoch 25/120\n",
      "290/290 [==============================] - 42s 145ms/step - loss: 0.2158 - accuracy: 0.9307 - val_loss: 0.1856 - val_accuracy: 0.9398\n",
      "Epoch 26/120\n",
      "290/290 [==============================] - 42s 145ms/step - loss: 0.1855 - accuracy: 0.9406 - val_loss: 0.1564 - val_accuracy: 0.9498\n",
      "Epoch 27/120\n",
      "290/290 [==============================] - 42s 145ms/step - loss: 0.1592 - accuracy: 0.9488 - val_loss: 0.1383 - val_accuracy: 0.9548\n",
      "Epoch 28/120\n",
      "290/290 [==============================] - 42s 145ms/step - loss: 0.1410 - accuracy: 0.9542 - val_loss: 0.1205 - val_accuracy: 0.9596\n",
      "Epoch 29/120\n",
      "290/290 [==============================] - 42s 145ms/step - loss: 0.1246 - accuracy: 0.9589 - val_loss: 0.1105 - val_accuracy: 0.9626\n",
      "Epoch 30/120\n",
      "290/290 [==============================] - 42s 145ms/step - loss: 0.1124 - accuracy: 0.9624 - val_loss: 0.0976 - val_accuracy: 0.9666\n",
      "Epoch 31/120\n",
      "290/290 [==============================] - 42s 145ms/step - loss: 0.1012 - accuracy: 0.9656 - val_loss: 0.0892 - val_accuracy: 0.9690\n",
      "Epoch 32/120\n",
      "290/290 [==============================] - 42s 145ms/step - loss: 0.0916 - accuracy: 0.9683 - val_loss: 0.0835 - val_accuracy: 0.9707\n",
      "Epoch 33/120\n",
      "290/290 [==============================] - 42s 145ms/step - loss: 0.0821 - accuracy: 0.9713 - val_loss: 0.0739 - val_accuracy: 0.9740\n",
      "Epoch 34/120\n",
      "290/290 [==============================] - 42s 145ms/step - loss: 0.0743 - accuracy: 0.9737 - val_loss: 0.0671 - val_accuracy: 0.9760\n",
      "Epoch 35/120\n",
      "290/290 [==============================] - 42s 145ms/step - loss: 0.0680 - accuracy: 0.9756 - val_loss: 0.0617 - val_accuracy: 0.9779\n",
      "Epoch 36/120\n",
      "290/290 [==============================] - 42s 145ms/step - loss: 0.0628 - accuracy: 0.9773 - val_loss: 0.0593 - val_accuracy: 0.9789\n",
      "Epoch 37/120\n",
      "290/290 [==============================] - 42s 145ms/step - loss: 0.0579 - accuracy: 0.9790 - val_loss: 0.0549 - val_accuracy: 0.9801\n",
      "Epoch 38/120\n",
      "290/290 [==============================] - 42s 145ms/step - loss: inf - accuracy: 0.8441 - val_loss: 0.1138 - val_accuracy: 0.9640\n",
      "Epoch 39/120\n",
      "290/290 [==============================] - 42s 145ms/step - loss: 0.0928 - accuracy: 0.9698 - val_loss: 0.0658 - val_accuracy: 0.9782\n",
      "Epoch 40/120\n",
      "290/290 [==============================] - 42s 146ms/step - loss: 0.0645 - accuracy: 0.9784 - val_loss: 0.0561 - val_accuracy: 0.9807\n",
      "Epoch 41/120\n",
      "290/290 [==============================] - 42s 145ms/step - loss: 0.0564 - accuracy: 0.9806 - val_loss: 0.0515 - val_accuracy: 0.9824\n",
      "Epoch 42/120\n",
      "290/290 [==============================] - 42s 145ms/step - loss: 0.0515 - accuracy: 0.9820 - val_loss: 0.0482 - val_accuracy: 0.9832\n",
      "Epoch 43/120\n",
      "290/290 [==============================] - 42s 145ms/step - loss: 0.0480 - accuracy: 0.9830 - val_loss: 0.0463 - val_accuracy: 0.9837\n",
      "Epoch 44/120\n",
      "290/290 [==============================] - 42s 145ms/step - loss: 0.0455 - accuracy: 0.9838 - val_loss: 0.0530 - val_accuracy: 0.9813\n",
      "Epoch 45/120\n",
      "290/290 [==============================] - 42s 145ms/step - loss: 0.0435 - accuracy: 0.9844 - val_loss: 0.0429 - val_accuracy: 0.9847\n",
      "Epoch 46/120\n",
      "290/290 [==============================] - 42s 145ms/step - loss: 0.0411 - accuracy: 0.9850 - val_loss: 0.0424 - val_accuracy: 0.9848\n",
      "Epoch 47/120\n",
      "290/290 [==============================] - 42s 145ms/step - loss: 0.0393 - accuracy: 0.9855 - val_loss: 0.0401 - val_accuracy: 0.9857\n",
      "Epoch 48/120\n",
      "290/290 [==============================] - 42s 145ms/step - loss: 0.0379 - accuracy: 0.9859 - val_loss: 0.0394 - val_accuracy: 0.9860\n",
      "Epoch 49/120\n",
      "290/290 [==============================] - 42s 145ms/step - loss: 0.0372 - accuracy: 0.9861 - val_loss: 0.0386 - val_accuracy: 0.9861\n",
      "Epoch 50/120\n",
      "290/290 [==============================] - 42s 145ms/step - loss: 0.0362 - accuracy: 0.9864 - val_loss: 0.0380 - val_accuracy: 0.9863\n",
      "Epoch 51/120\n",
      "290/290 [==============================] - 42s 145ms/step - loss: 0.0344 - accuracy: 0.9870 - val_loss: 0.0365 - val_accuracy: 0.9868\n",
      "Epoch 52/120\n",
      "290/290 [==============================] - 42s 146ms/step - loss: 0.0335 - accuracy: 0.9872 - val_loss: 0.0370 - val_accuracy: 0.9866\n",
      "Epoch 53/120\n",
      "290/290 [==============================] - 42s 145ms/step - loss: 0.0363 - accuracy: 0.9865 - val_loss: 0.0374 - val_accuracy: 0.9865\n",
      "Epoch 54/120\n",
      "290/290 [==============================] - 42s 146ms/step - loss: 0.0317 - accuracy: 0.9878 - val_loss: 0.0340 - val_accuracy: 0.9877\n",
      "Epoch 55/120\n",
      "290/290 [==============================] - 42s 146ms/step - loss: 0.0308 - accuracy: 0.9880 - val_loss: 0.0343 - val_accuracy: 0.9875\n",
      "Epoch 56/120\n",
      "290/290 [==============================] - 42s 145ms/step - loss: 0.0287 - accuracy: 0.9890 - val_loss: 0.0319 - val_accuracy: 0.9886\n",
      "Epoch 57/120\n",
      "290/290 [==============================] - 42s 145ms/step - loss: 0.0282 - accuracy: 0.9891 - val_loss: 0.0314 - val_accuracy: 0.9887\n",
      "Epoch 58/120\n",
      "290/290 [==============================] - 42s 145ms/step - loss: 0.0272 - accuracy: 0.9894 - val_loss: 0.0309 - val_accuracy: 0.9887\n",
      "Epoch 59/120\n",
      "290/290 [==============================] - 42s 146ms/step - loss: 0.0261 - accuracy: 0.9898 - val_loss: 0.0298 - val_accuracy: 0.9894\n",
      "Epoch 60/120\n",
      "290/290 [==============================] - 42s 145ms/step - loss: 0.0237 - accuracy: 0.9910 - val_loss: 0.0266 - val_accuracy: 0.9910\n",
      "Epoch 61/120\n",
      "290/290 [==============================] - 42s 145ms/step - loss: 0.0222 - accuracy: 0.9917 - val_loss: 0.0259 - val_accuracy: 0.9913\n",
      "Epoch 62/120\n",
      "290/290 [==============================] - 42s 145ms/step - loss: 0.0226 - accuracy: 0.9916 - val_loss: 0.0261 - val_accuracy: 0.9912\n",
      "Epoch 63/120\n",
      "290/290 [==============================] - 42s 145ms/step - loss: 0.0195 - accuracy: 0.9927 - val_loss: 0.0227 - val_accuracy: 0.9925\n",
      "Epoch 64/120\n",
      "290/290 [==============================] - 42s 145ms/step - loss: 0.0177 - accuracy: 0.9934 - val_loss: 0.0217 - val_accuracy: 0.9930\n",
      "Epoch 65/120\n",
      "290/290 [==============================] - 42s 145ms/step - loss: 0.0166 - accuracy: 0.9939 - val_loss: 0.0209 - val_accuracy: 0.9934\n",
      "Epoch 66/120\n",
      "290/290 [==============================] - 42s 145ms/step - loss: 0.0156 - accuracy: 0.9942 - val_loss: 0.0203 - val_accuracy: 0.9937\n",
      "Epoch 67/120\n",
      "290/290 [==============================] - 42s 145ms/step - loss: 0.0145 - accuracy: 0.9946 - val_loss: 0.0197 - val_accuracy: 0.9940\n",
      "Epoch 68/120\n",
      "290/290 [==============================] - 42s 145ms/step - loss: 0.0142 - accuracy: 0.9948 - val_loss: 0.0191 - val_accuracy: 0.9943\n",
      "Epoch 69/120\n",
      "290/290 [==============================] - 42s 145ms/step - loss: 0.0134 - accuracy: 0.9951 - val_loss: 0.0175 - val_accuracy: 0.9948\n",
      "Epoch 70/120\n",
      "290/290 [==============================] - 42s 145ms/step - loss: 0.0121 - accuracy: 0.9957 - val_loss: 0.0170 - val_accuracy: 0.9952\n",
      "Epoch 71/120\n",
      "290/290 [==============================] - 42s 145ms/step - loss: 0.0111 - accuracy: 0.9961 - val_loss: 0.0178 - val_accuracy: 0.9952\n",
      "Epoch 72/120\n",
      "290/290 [==============================] - 42s 145ms/step - loss: 0.0113 - accuracy: 0.9961 - val_loss: 0.0151 - val_accuracy: 0.9960\n",
      "Epoch 73/120\n",
      "290/290 [==============================] - 42s 145ms/step - loss: 0.0092 - accuracy: 0.9968 - val_loss: 0.0140 - val_accuracy: 0.9964\n",
      "Epoch 74/120\n",
      "290/290 [==============================] - 42s 145ms/step - loss: 0.0080 - accuracy: 0.9973 - val_loss: 0.0131 - val_accuracy: 0.9967\n",
      "Epoch 75/120\n",
      "290/290 [==============================] - 42s 145ms/step - loss: 0.0075 - accuracy: 0.9975 - val_loss: 0.0124 - val_accuracy: 0.9972\n",
      "Epoch 76/120\n",
      "290/290 [==============================] - 42s 145ms/step - loss: 0.0070 - accuracy: 0.9978 - val_loss: 0.0119 - val_accuracy: 0.9973\n",
      "Epoch 77/120\n",
      "290/290 [==============================] - 42s 145ms/step - loss: 0.0053 - accuracy: 0.9983 - val_loss: 0.0108 - val_accuracy: 0.9977\n",
      "Epoch 78/120\n",
      "290/290 [==============================] - 42s 146ms/step - loss: 0.0046 - accuracy: 0.9986 - val_loss: 0.0092 - val_accuracy: 0.9981\n",
      "Epoch 79/120\n",
      "290/290 [==============================] - 42s 146ms/step - loss: 0.0043 - accuracy: 0.9987 - val_loss: 0.0100 - val_accuracy: 0.9981\n",
      "Epoch 80/120\n",
      "290/290 [==============================] - 42s 145ms/step - loss: inf - accuracy: 0.9597 - val_loss: 0.0272 - val_accuracy: 0.9906\n",
      "Epoch 81/120\n",
      "290/290 [==============================] - 42s 145ms/step - loss: 0.0215 - accuracy: 0.9925 - val_loss: 0.0212 - val_accuracy: 0.9936\n",
      "Epoch 82/120\n",
      "290/290 [==============================] - 42s 145ms/step - loss: 0.0154 - accuracy: 0.9948 - val_loss: 0.0174 - val_accuracy: 0.9951\n",
      "Epoch 83/120\n",
      "290/290 [==============================] - 42s 145ms/step - loss: 0.0110 - accuracy: 0.9964 - val_loss: 0.0143 - val_accuracy: 0.9963\n",
      "Epoch 84/120\n",
      "290/290 [==============================] - 42s 146ms/step - loss: 0.0083 - accuracy: 0.9973 - val_loss: 0.0125 - val_accuracy: 0.9970\n",
      "Epoch 85/120\n",
      "290/290 [==============================] - 42s 145ms/step - loss: 0.0067 - accuracy: 0.9979 - val_loss: 0.0119 - val_accuracy: 0.9973\n",
      "Epoch 86/120\n",
      "290/290 [==============================] - 42s 145ms/step - loss: 0.0056 - accuracy: 0.9983 - val_loss: 0.0112 - val_accuracy: 0.9977\n",
      "Epoch 87/120\n",
      "290/290 [==============================] - 42s 146ms/step - loss: 0.0049 - accuracy: 0.9985 - val_loss: 0.0111 - val_accuracy: 0.9979\n",
      "Epoch 88/120\n",
      "290/290 [==============================] - 42s 146ms/step - loss: 0.0043 - accuracy: 0.9987 - val_loss: 0.0110 - val_accuracy: 0.9980\n",
      "Epoch 89/120\n",
      "290/290 [==============================] - 42s 147ms/step - loss: 0.0040 - accuracy: 0.9988 - val_loss: 0.0104 - val_accuracy: 0.9981\n",
      "Epoch 90/120\n",
      "290/290 [==============================] - 42s 147ms/step - loss: 0.0039 - accuracy: 0.9989 - val_loss: 0.0108 - val_accuracy: 0.9981\n",
      "Epoch 91/120\n",
      "290/290 [==============================] - 42s 146ms/step - loss: 0.0038 - accuracy: 0.9989 - val_loss: 0.0104 - val_accuracy: 0.9982\n",
      "Epoch 92/120\n",
      "290/290 [==============================] - 42s 146ms/step - loss: 0.0041 - accuracy: 0.9988 - val_loss: 0.0107 - val_accuracy: 0.9981\n",
      "Epoch 93/120\n",
      "290/290 [==============================] - 42s 145ms/step - loss: nan - accuracy: 0.7669 - val_loss: 1.0558 - val_accuracy: 0.7322\n",
      "Epoch 94/120\n",
      "290/290 [==============================] - 42s 145ms/step - loss: 0.7096 - accuracy: 0.8068 - val_loss: 0.4611 - val_accuracy: 0.8626\n",
      "Epoch 95/120\n",
      "290/290 [==============================] - 42s 145ms/step - loss: 0.4458 - accuracy: 0.8702 - val_loss: 0.3320 - val_accuracy: 0.8949\n",
      "Epoch 96/120\n",
      "290/290 [==============================] - 42s 144ms/step - loss: nan - accuracy: 0.8966 - val_loss: nan - val_accuracy: 0.9127\n",
      "Epoch 97/120\n",
      "290/290 [==============================] - 42s 143ms/step - loss: nan - accuracy: 0.9028 - val_loss: nan - val_accuracy: 0.9118\n",
      "Epoch 98/120\n",
      "290/290 [==============================] - 41s 143ms/step - loss: nan - accuracy: 0.9029 - val_loss: nan - val_accuracy: 0.9118\n",
      "Epoch 99/120\n",
      "290/290 [==============================] - 41s 142ms/step - loss: nan - accuracy: 0.9029 - val_loss: nan - val_accuracy: 0.9118\n",
      "Epoch 100/120\n",
      "290/290 [==============================] - 41s 143ms/step - loss: nan - accuracy: 0.9029 - val_loss: nan - val_accuracy: 0.9118\n",
      "Epoch 101/120\n",
      "290/290 [==============================] - 41s 143ms/step - loss: nan - accuracy: 0.9029 - val_loss: nan - val_accuracy: 0.9118\n",
      "Epoch 102/120\n",
      "290/290 [==============================] - 41s 143ms/step - loss: nan - accuracy: 0.9028 - val_loss: nan - val_accuracy: 0.9118\n",
      "Epoch 103/120\n",
      "290/290 [==============================] - 41s 143ms/step - loss: nan - accuracy: 0.9029 - val_loss: nan - val_accuracy: 0.9118\n",
      "Epoch 104/120\n",
      "290/290 [==============================] - 41s 143ms/step - loss: nan - accuracy: 0.9028 - val_loss: nan - val_accuracy: 0.9118\n",
      "Epoch 105/120\n",
      "290/290 [==============================] - 41s 143ms/step - loss: nan - accuracy: 0.9029 - val_loss: nan - val_accuracy: 0.9118\n",
      "Epoch 106/120\n",
      "290/290 [==============================] - 42s 143ms/step - loss: nan - accuracy: 0.9029 - val_loss: nan - val_accuracy: 0.9118\n",
      "Epoch 107/120\n",
      "290/290 [==============================] - 41s 142ms/step - loss: nan - accuracy: 0.9029 - val_loss: nan - val_accuracy: 0.9118\n",
      "Epoch 108/120\n",
      "290/290 [==============================] - 41s 142ms/step - loss: nan - accuracy: 0.9028 - val_loss: nan - val_accuracy: 0.9118\n",
      "Epoch 109/120\n",
      "290/290 [==============================] - 41s 142ms/step - loss: nan - accuracy: 0.9029 - val_loss: nan - val_accuracy: 0.9118\n",
      "Epoch 110/120\n",
      "290/290 [==============================] - 41s 142ms/step - loss: nan - accuracy: 0.9028 - val_loss: nan - val_accuracy: 0.9118\n",
      "Epoch 111/120\n",
      "290/290 [==============================] - 41s 142ms/step - loss: nan - accuracy: 0.9029 - val_loss: nan - val_accuracy: 0.9118\n",
      "Epoch 112/120\n",
      "290/290 [==============================] - 41s 142ms/step - loss: nan - accuracy: 0.9029 - val_loss: nan - val_accuracy: 0.9118\n",
      "Epoch 113/120\n",
      "290/290 [==============================] - 41s 142ms/step - loss: nan - accuracy: 0.9029 - val_loss: nan - val_accuracy: 0.9118\n",
      "Epoch 114/120\n",
      "290/290 [==============================] - 41s 142ms/step - loss: nan - accuracy: 0.9029 - val_loss: nan - val_accuracy: 0.9118\n",
      "Epoch 115/120\n",
      "290/290 [==============================] - 41s 143ms/step - loss: nan - accuracy: 0.9028 - val_loss: nan - val_accuracy: 0.9118\n",
      "Epoch 116/120\n",
      "290/290 [==============================] - 41s 143ms/step - loss: nan - accuracy: 0.9029 - val_loss: nan - val_accuracy: 0.9118\n",
      "Epoch 117/120\n",
      "290/290 [==============================] - 41s 142ms/step - loss: nan - accuracy: 0.9029 - val_loss: nan - val_accuracy: 0.9118\n",
      "Epoch 118/120\n",
      "290/290 [==============================] - 41s 142ms/step - loss: nan - accuracy: 0.9028 - val_loss: nan - val_accuracy: 0.9118\n",
      "Epoch 119/120\n",
      "290/290 [==============================] - 41s 142ms/step - loss: nan - accuracy: 0.9029 - val_loss: nan - val_accuracy: 0.9118\n",
      "Epoch 120/120\n",
      "290/290 [==============================] - 41s 142ms/step - loss: nan - accuracy: 0.9029 - val_loss: nan - val_accuracy: 0.9118\n"
     ]
    }
   ],
   "source": [
    "epochs = 120\n",
    "  # This should be at least 30 for convergence\n",
    "# steps_per_epoch = 100,\n",
    "transformer.summary()\n",
    "transformer.compile(\n",
    "    \"adam\", loss=\"sparse_categorical_crossentropy\", metrics=[\"accuracy\"]\n",
    ")\n",
    "history = transformer.fit(train_ds, epochs=epochs, validation_data=val_ds)\n",
    "\n"
   ]
  },
  {
   "cell_type": "code",
   "execution_count": null,
   "metadata": {
    "id": "mltZPv8ClL-d"
   },
   "outputs": [],
   "source": []
  },
  {
   "cell_type": "code",
   "execution_count": null,
   "metadata": {
    "colab": {
     "base_uri": "https://localhost:8080/",
     "height": 449
    },
    "id": "QA19vfoVqH70",
    "outputId": "a6703d53-2eb3-4cf6-9598-50bb032b9078"
   },
   "outputs": [
    {
     "data": {
      "image/png": "[encoded data removed]",
      "text/plain": [
       "<Figure size 640x480 with 1 Axes>"
      ]
     },
     "metadata": {},
     "output_type": "display_data"
    }
   ],
   "source": [
    "import matplotlib.pyplot as plt\n",
    "\n",
    "\n",
    "plt.plot(history.history['accuracy'], label='Accuracy')\n",
    "plt.plot(history.history['loss'], label='Loss')\n",
    "plt.plot(history.history['val_accuracy'], label='Validation Accuracy')\n",
    "plt.plot(history.history['val_loss'], label='Validation Loss')\n",
    "\n",
    "plt.xlabel('Epochs')\n",
    "plt.ylabel('Metrics')\n",
    "plt.legend()\n",
    "plt.show()\n"
   ]
  },
  {
   "cell_type": "markdown",
   "metadata": {
    "id": "Qjx1ptXzHqa9"
   },
   "source": [
    "## Decoding test sentences\n",
    "\n",
    "Finally, let's demonstrate how to translate brand new English sentences.\n",
    "We simply feed into the model the vectorized English sentence\n",
    "as well as the target token `\"[start]\"`, then we repeatedly generated the next token, until\n",
    "we hit the token `\"[end]\"`."
   ]
  },
  {
   "cell_type": "code",
   "execution_count": null,
   "metadata": {
    "id": "tSflJcBEHqa9"
   },
   "outputs": [],
   "source": [
    "spa_vocab = spa_vectorization.get_vocabulary()\n",
    "spa_index_lookup = dict(zip(range(len(spa_vocab)), spa_vocab))\n",
    "max_decoded_sentence_length = 500\n",
    "\n",
    "\n",
    "def decode_sequence(input_sentence):\n",
    "    tokenized_input_sentence = eng_vectorization([input_sentence])\n",
    "    decoded_sentence = \"[start]\"\n",
    "    for i in range(max_decoded_sentence_length):\n",
    "        tokenized_target_sentence = spa_vectorization([decoded_sentence])[:, :-1]\n",
    "        predictions = transformer([tokenized_input_sentence, tokenized_target_sentence])\n",
    "\n",
    "        sampled_token_index = np.argmax(predictions[0, i, :])\n",
    "        sampled_token = spa_index_lookup[sampled_token_index]\n",
    "        decoded_sentence += \" \" + sampled_token\n",
    "\n",
    "        if sampled_token == \"[end]\":\n",
    "            break\n",
    "    return decoded_sentence\n",
    "\n",
    "\n",
    "test_eng_texts = [pair[0] for pair in test_pairs]\n",
    "for _ in range(30):\n",
    "    input_sentence = random.choice(test_eng_texts)\n",
    "    translated = decode_sequence(input_sentence)"
   ]
  },
  {
   "cell_type": "markdown",
   "metadata": {
    "id": "5idcwgsIIt7I"
   },
   "source": [
    "## Adding data from Test set"
   ]
  },
  {
   "cell_type": "code",
   "execution_count": 2,
   "metadata": {
    "id": "N3p0oR60I0x8"
   },
   "outputs": [],
   "source": [
    "import pandas as pd\n",
    "\n",
    "\n",
    "dc = pd.read_excel('random_set_1.0.xlsx')"
   ]
  },
  {
   "cell_type": "code",
   "execution_count": 3,
   "metadata": {
    "colab": {
     "base_uri": "https://localhost:8080/",
     "height": 206
    },
    "id": "iocoqiuuJYo9",
    "outputId": "0be7003c-b190-4307-bbad-bfbfd7974392"
   },
   "outputs": [
    {
     "data": {
      "text/html": [
       "\n",
       "  <div id=\"df-d4bcd7c0-65fb-4ae9-b92e-0f29b2688dc9\">\n",
       "    <div class=\"colab-df-container\">\n",
       "      <div>\n",
       "<style scoped>\n",
       "    .dataframe tbody tr th:only-of-type {\n",
       "        vertical-align: middle;\n",
       "    }\n",
       "\n",
       "    .dataframe tbody tr th {\n",
       "        vertical-align: top;\n",
       "    }\n",
       "\n",
       "    .dataframe thead th {\n",
       "        text-align: right;\n",
       "    }\n",
       "</style>\n",
       "<table border=\"1\" class=\"dataframe\">\n",
       "  <thead>\n",
       "    <tr style=\"text-align: right;\">\n",
       "      <th></th>\n",
       "      <th>OM_Regular</th>\n",
       "      <th>OM_Prediction</th>\n",
       "    </tr>\n",
       "  </thead>\n",
       "  <tbody>\n",
       "    <tr>\n",
       "      <th>0</th>\n",
       "      <td>module OM_name:0 , open Declaration one sig cl...</td>\n",
       "      <td>1</td>\n",
       "    </tr>\n",
       "    <tr>\n",
       "      <th>1</th>\n",
       "      <td>module OM_name:0 , open Declaration one sig cl...</td>\n",
       "      <td>1</td>\n",
       "    </tr>\n",
       "    <tr>\n",
       "      <th>2</th>\n",
       "      <td>module OM_name:0 , open Declaration one sig cl...</td>\n",
       "      <td>1</td>\n",
       "    </tr>\n",
       "    <tr>\n",
       "      <th>3</th>\n",
       "      <td>module OM_name:0 , open Declaration one sig cl...</td>\n",
       "      <td>1</td>\n",
       "    </tr>\n",
       "    <tr>\n",
       "      <th>4</th>\n",
       "      <td>module OM_name:0 , open Declaration one sig cl...</td>\n",
       "      <td>1</td>\n",
       "    </tr>\n",
       "  </tbody>\n",
       "</table>\n",
       "</div>\n",
       "      <button class=\"colab-df-convert\" onclick=\"convertToInteractive('df-d4bcd7c0-65fb-4ae9-b92e-0f29b2688dc9')\"\n",
       "              title=\"Convert this dataframe to an interactive table.\"\n",
       "              style=\"display:none;\">\n",
       "        \n",
       "  <svg xmlns=\"http://www.w3.org/2000/svg\" height=\"24px\"viewBox=\"0 0 24 24\"\n",
       "       width=\"24px\">\n",
       "    <path d=\"M0 0h24v24H0V0z\" fill=\"none\"/>\n",
       "    <path d=\"M18.56 5.44l.94 2.06.94-2.06 2.06-.94-2.06-.94-.94-2.06-.94 2.06-2.06.94zm-11 1L8.5 8.5l.94-2.06 2.06-.94-2.06-.94L8.5 2.5l-.94 2.06-2.06.94zm10 10l.94 2.06.94-2.06 2.06-.94-2.06-.94-.94-2.06-.94 2.06-2.06.94z\"/><path d=\"M17.41 7.96l-1.37-1.37c-.4-.4-.92-.59-1.43-.59-.52 0-1.04.2-1.43.59L10.3 9.45l-7.72 7.72c-.78.78-.78 2.05 0 2.83L4 21.41c.39.39.9.59 1.41.59.51 0 1.02-.2 1.41-.59l7.78-7.78 2.81-2.81c.8-.78.8-2.07 0-2.86zM5.41 20L4 18.59l7.72-7.72 1.47 1.35L5.41 20z\"/>\n",
       "  </svg>\n",
       "      </button>\n",
       "      \n",
       "  <style>\n",
       "    .colab-df-container {\n",
       "      display:flex;\n",
       "      flex-wrap:wrap;\n",
       "      gap: 12px;\n",
       "    }\n",
       "\n",
       "    .colab-df-convert {\n",
       "      background-color: #E8F0FE;\n",
       "      border: none;\n",
       "      border-radius: 50%;\n",
       "      cursor: pointer;\n",
       "      display: none;\n",
       "      fill: #1967D2;\n",
       "      height: 32px;\n",
       "      padding: 0 0 0 0;\n",
       "      width: 32px;\n",
       "    }\n",
       "\n",
       "    .colab-df-convert:hover {\n",
       "      background-color: #E2EBFA;\n",
       "      box-shadow: 0px 1px 2px rgba(60, 64, 67, 0.3), 0px 1px 3px 1px rgba(60, 64, 67, 0.15);\n",
       "      fill: #174EA6;\n",
       "    }\n",
       "\n",
       "    [theme=dark] .colab-df-convert {\n",
       "      background-color: #3B4455;\n",
       "      fill: #D2E3FC;\n",
       "    }\n",
       "\n",
       "    [theme=dark] .colab-df-convert:hover {\n",
       "      background-color: #434B5C;\n",
       "      box-shadow: 0px 1px 3px 1px rgba(0, 0, 0, 0.15);\n",
       "      filter: drop-shadow(0px 1px 2px rgba(0, 0, 0, 0.3));\n",
       "      fill: #FFFFFF;\n",
       "    }\n",
       "  </style>\n",
       "\n",
       "      <script>\n",
       "        const buttonEl =\n",
       "          document.querySelector('#df-d4bcd7c0-65fb-4ae9-b92e-0f29b2688dc9 button.colab-df-convert');\n",
       "        buttonEl.style.display =\n",
       "          google.colab.kernel.accessAllowed ? 'block' : 'none';\n",
       "\n",
       "        async function convertToInteractive(key) {\n",
       "          const element = document.querySelector('#df-d4bcd7c0-65fb-4ae9-b92e-0f29b2688dc9');\n",
       "          const dataTable =\n",
       "            await google.colab.kernel.invokeFunction('convertToInteractive',\n",
       "                                                     [key], {});\n",
       "          if (!dataTable) return;\n",
       "\n",
       "          const docLinkHtml = 'Like what you see? Visit the ' +\n",
       "            '<a target=\"_blank\" href=https://colab.research.google.com/notebooks/data_table.ipynb>data table notebook</a>'\n",
       "            + ' to learn more about interactive tables.';\n",
       "          element.innerHTML = '';\n",
       "          dataTable['output_type'] = 'display_data';\n",
       "          await google.colab.output.renderOutput(dataTable, element);\n",
       "          const docLink = document.createElement('div');\n",
       "          docLink.innerHTML = docLinkHtml;\n",
       "          element.appendChild(docLink);\n",
       "        }\n",
       "      </script>\n",
       "    </div>\n",
       "  </div>\n",
       "  "
      ],
      "text/plain": [
       "                                          OM_Regular  OM_Prediction\n",
       "0  module OM_name:0 , open Declaration one sig cl...              1\n",
       "1  module OM_name:0 , open Declaration one sig cl...              1\n",
       "2  module OM_name:0 , open Declaration one sig cl...              1\n",
       "3  module OM_name:0 , open Declaration one sig cl...              1\n",
       "4  module OM_name:0 , open Declaration one sig cl...              1"
      ]
     },
     "execution_count": 3,
     "metadata": {},
     "output_type": "execute_result"
    }
   ],
   "source": [
    "dc.head()"
   ]
  },
  {
   "cell_type": "code",
   "execution_count": 4,
   "metadata": {
    "id": "WEcoRd5hJGDT"
   },
   "outputs": [],
   "source": [
    "X_test2 = dc['OM_Regular'].values\n",
    "y_test2 = dc['OM_Prediction'].values"
   ]
  },
  {
   "cell_type": "code",
   "execution_count": 5,
   "metadata": {
    "colab": {
     "base_uri": "https://localhost:8080/"
    },
    "id": "npksdP3PJOq6",
    "outputId": "b76ecf7c-13bb-4e1e-894f-03add67df475"
   },
   "outputs": [
    {
     "name": "stdout",
     "output_type": "stream",
     "text": [
      "(4669,)\n",
      "(4669,)\n",
      "X data type:  object\n",
      "y data type:  int64\n"
     ]
    }
   ],
   "source": [
    "print(X_test2.shape)\n",
    "print(y_test2.shape)\n",
    "\n",
    "print(\"X data type: \", X_test2.dtype)\n",
    "print(\"y data type: \", y_test2.dtype)"
   ]
  },
  {
   "cell_type": "code",
   "execution_count": 6,
   "metadata": {
    "colab": {
     "base_uri": "https://localhost:8080/"
    },
    "id": "l6Xn1sFBJQsA",
    "outputId": "ce76fc7b-aa0d-44dc-e070-1c9c8b50be82"
   },
   "outputs": [
    {
     "name": "stdout",
     "output_type": "stream",
     "text": [
      "[1 1 1 ... 1 1 1]\n"
     ]
    }
   ],
   "source": [
    "print(y_test2)"
   ]
  },
  {
   "cell_type": "code",
   "execution_count": 7,
   "metadata": {
    "id": "t_WywObeJdMJ"
   },
   "outputs": [],
   "source": [
    "inputs = X_test2"
   ]
  },
  {
   "cell_type": "markdown",
   "metadata": {
    "id": "dYRa3kkQJgA2"
   },
   "source": [
    "## Output from Unseen Data"
   ]
  },
  {
   "cell_type": "code",
   "execution_count": 8,
   "metadata": {
    "id": "GKIRmrcoJlG3"
   },
   "outputs": [],
   "source": [
    "# import time\n",
    "\n",
    "# start_time = time.time()\n",
    "# mylist_res = []\n",
    "# for sentence in inputs:\n",
    "#     result = decode_sequence(sentence)\n",
    "#     mylist_res.append(result)\n",
    "#     print(result)\n",
    "#     time.sleep(1)  # Add a 1-second delay between each print statement\n",
    "\n",
    "# end_time = time.time()\n",
    "# execution_time = end_time - start_time\n",
    "\n",
    "# print(f\"Execution time: {execution_time} seconds\")\n",
    "# print(mylist_res)"
   ]
  },
  {
   "cell_type": "markdown",
   "metadata": {
    "id": "hkeF3s1IJpWP"
   },
   "source": [
    "## Result Computation"
   ]
  },
  {
   "cell_type": "code",
   "execution_count": 9,
   "metadata": {
    "id": "KdsbTahpeSiP"
   },
   "outputs": [],
   "source": [
    "import warnings\n",
    "import numpy as np\n",
    "import pandas as pd\n",
    "import matplotlib.pyplot as plt\n",
    "from sklearn import datasets\n",
    "from sklearn.preprocessing import StandardScaler\n",
    "from sklearn.neighbors import KNeighborsClassifier\n",
    "from sklearn.model_selection import train_test_split, GridSearchCV, cross_val_score, cross_val_predict\n",
    "from sklearn.metrics import confusion_matrix, precision_score, recall_score, f1_score, roc_curve, roc_auc_score\n",
    "from sklearn.metrics import precision_recall_curve, classification_report"
   ]
  },
  {
   "cell_type": "code",
   "execution_count": 10,
   "metadata": {
    "id": "RFlUXSNheTt6"
   },
   "outputs": [],
   "source": [
    "dd = pd.read_excel('random_set_1.0_pred.xlsx')"
   ]
  },
  {
   "cell_type": "code",
   "execution_count": 11,
   "metadata": {
    "id": "SznLVsNbeWLx"
   },
   "outputs": [],
   "source": [
    "X_test_pred2 = dd['OM_Regular'].values\n",
    "y_test_pred2 = dd['OM_Prediction'].values"
   ]
  },
  {
   "cell_type": "code",
   "execution_count": 12,
   "metadata": {
    "colab": {
     "base_uri": "https://localhost:8080/"
    },
    "id": "9iykq6NSeY0s",
    "outputId": "c0510721-5c83-4386-ca68-ac1f184f5434"
   },
   "outputs": [
    {
     "name": "stdout",
     "output_type": "stream",
     "text": [
      "[1 1 1 ... 1 1 1]\n"
     ]
    }
   ],
   "source": [
    "print (y_test_pred2 )"
   ]
  },
  {
   "cell_type": "code",
   "execution_count": 13,
   "metadata": {
    "colab": {
     "base_uri": "https://localhost:8080/"
    },
    "id": "drSHPblTebi6",
    "outputId": "e16e9294-d5a0-4370-b086-11c79764a075"
   },
   "outputs": [
    {
     "name": "stdout",
     "output_type": "stream",
     "text": [
      "Testing: Precision = 0.422439\n",
      "Testing: Recall = 0.971996\n",
      "Testing: F1 Score = 0.588925\n",
      "\n",
      "Confusion Matrix (Test Data):\n",
      " [[  95 2610]\n",
      " [  55 1909]]\n"
     ]
    }
   ],
   "source": [
    "precision = precision_score(y_test2, y_test_pred2)\n",
    "print(\"Testing: Precision = %f\" % precision)\n",
    "\n",
    "\n",
    "recall = recall_score(y_test2, y_test_pred2)\n",
    "print(\"Testing: Recall = %f\" % recall)\n",
    "\n",
    "\n",
    "f1 = f1_score(y_test2, y_test_pred2)\n",
    "print(\"Testing: F1 Score = %f\" % f1)\n",
    "\n",
    "print(\"\\nConfusion Matrix (Test Data):\\n\", confusion_matrix(y_test2, y_test_pred2))"
   ]
  },
  {
   "cell_type": "code",
   "execution_count": 14,
   "metadata": {
    "colab": {
     "base_uri": "https://localhost:8080/"
    },
    "id": "QwNDwGXVeeV1",
    "outputId": "cb0b1acd-af33-4d16-a41e-c7a76d1bc756"
   },
   "outputs": [
    {
     "name": "stdout",
     "output_type": "stream",
     "text": [
      "              precision    recall  f1-score   support\n",
      "\n",
      "           0       0.63      0.04      0.07      2705\n",
      "           1       0.42      0.97      0.59      1964\n",
      "\n",
      "    accuracy                           0.43      4669\n",
      "   macro avg       0.53      0.50      0.33      4669\n",
      "weighted avg       0.54      0.43      0.29      4669\n",
      "\n"
     ]
    }
   ],
   "source": [
    "print(classification_report(y_test2,y_test_pred2))"
   ]
  }
 ],
 "metadata": {
  "accelerator": "GPU",
  "colab": {
   "gpuType": "T4",
   "machine_shape": "hm",
   "provenance": []
  },
  "kernelspec": {
   "display_name": "Python 3 (ipykernel)",
   "language": "python",
   "name": "python3"
  },
  "language_info": {
   "codemirror_mode": {
    "name": "ipython",
    "version": 3
   },
   "file_extension": ".py",
   "mimetype": "text/x-python",
   "name": "python",
   "nbconvert_exporter": "python",
   "pygments_lexer": "ipython3",
   "version": "3.10.9"
  }
 },
 "nbformat": 4,
 "nbformat_minor": 1
}
