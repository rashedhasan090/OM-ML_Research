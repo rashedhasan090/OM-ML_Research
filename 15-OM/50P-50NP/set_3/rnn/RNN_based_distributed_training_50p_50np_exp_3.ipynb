{
  "cells": [
    {
      "cell_type": "markdown",
      "metadata": {
        "id": "J0Qjg6vuaHNt"
      },
      "source": [
        "\n",
        "# RNN based training\n",
        "\n",
        "50p - 50np : Experiment 3\n",
        "\n",
        "RNN_based_distributed_training_50p_50np_exp_3\n",
        "\n",
        "## Object Models: 15\n",
        "\n",
        "1.\tBank\n",
        "2.\tCamping\n",
        "3.\tCanteen\n",
        "4.\tCustomer_Order\n",
        "5.\tEcommerce\n",
        "6.\tHospital Management\n",
        "7.\tLibrary Management\n",
        "8.\tOnlinestore\n",
        "9.\tStudent Course\n",
        "10.\tTraffic_Controller\n",
        "11.\tUniversity\n",
        "12.\tDecider\n",
        "13.\tSchool_mgmt\n",
        "14.\tStore_mgmt\n",
        "15. Credit Card Process\n",
        "\n",
        "\n",
        "## Total  Data: 31139\n",
        "-------------------------\n",
        "\n",
        "## Total Training Data: 26469\n",
        "\n",
        "### training set P  10194\n",
        "\n",
        "### training set NP 16275\n",
        "\n",
        "\n",
        "## Total Testing Data: 4670\n",
        "\n",
        "\n",
        "### testing set P 3124\n",
        "\n",
        "### testing set NP 1546\n",
        "\n"
      ]
    },
    {
      "cell_type": "markdown",
      "metadata": {
        "id": "yAmSR1FaqKrl"
      },
      "source": [
        "## Setup (installing necessary libraries)"
      ]
    },
    {
      "cell_type": "code",
      "execution_count": null,
      "metadata": {
        "colab": {
          "base_uri": "https://localhost:8080/"
        },
        "id": "DGFTkuRvzWqc",
        "outputId": "f94908ce-52dc-4c2d-b2e2-41ddc851e6bd"
      },
      "outputs": [
        {
          "name": "stdout",
          "output_type": "stream",
          "text": [
            "Looking in indexes: https://pypi.org/simple, https://us-python.pkg.dev/colab-wheels/public/simple/\n",
            "Collecting tensorflow-text>=2.10\n",
            "  Downloading tensorflow_text-2.12.1-cp310-cp310-manylinux_2_17_x86_64.manylinux2014_x86_64.whl (6.0 MB)\n",
            "\u001b[2K     \u001b[90m━━━━━━━━━━━━━━━━━━━━━━━━━━━━━━━━━━━━━━━━\u001b[0m \u001b[32m6.0/6.0 MB\u001b[0m \u001b[31m47.5 MB/s\u001b[0m eta \u001b[36m0:00:00\u001b[0m\n",
            "\u001b[?25hRequirement already satisfied: tensorflow-hub>=0.8.0 in /usr/local/lib/python3.10/dist-packages (from tensorflow-text>=2.10) (0.13.0)\n",
            "Requirement already satisfied: tensorflow<2.13,>=2.12.0 in /usr/local/lib/python3.10/dist-packages (from tensorflow-text>=2.10) (2.12.0)\n",
            "Requirement already satisfied: absl-py>=1.0.0 in /usr/local/lib/python3.10/dist-packages (from tensorflow<2.13,>=2.12.0->tensorflow-text>=2.10) (1.4.0)\n",
            "Requirement already satisfied: astunparse>=1.6.0 in /usr/local/lib/python3.10/dist-packages (from tensorflow<2.13,>=2.12.0->tensorflow-text>=2.10) (1.6.3)\n",
            "Requirement already satisfied: flatbuffers>=2.0 in /usr/local/lib/python3.10/dist-packages (from tensorflow<2.13,>=2.12.0->tensorflow-text>=2.10) (23.3.3)\n",
            "Requirement already satisfied: gast<=0.4.0,>=0.2.1 in /usr/local/lib/python3.10/dist-packages (from tensorflow<2.13,>=2.12.0->tensorflow-text>=2.10) (0.4.0)\n",
            "Requirement already satisfied: google-pasta>=0.1.1 in /usr/local/lib/python3.10/dist-packages (from tensorflow<2.13,>=2.12.0->tensorflow-text>=2.10) (0.2.0)\n",
            "Requirement already satisfied: grpcio<2.0,>=1.24.3 in /usr/local/lib/python3.10/dist-packages (from tensorflow<2.13,>=2.12.0->tensorflow-text>=2.10) (1.54.0)\n",
            "Requirement already satisfied: h5py>=2.9.0 in /usr/local/lib/python3.10/dist-packages (from tensorflow<2.13,>=2.12.0->tensorflow-text>=2.10) (3.8.0)\n",
            "Requirement already satisfied: jax>=0.3.15 in /usr/local/lib/python3.10/dist-packages (from tensorflow<2.13,>=2.12.0->tensorflow-text>=2.10) (0.4.10)\n",
            "Requirement already satisfied: keras<2.13,>=2.12.0 in /usr/local/lib/python3.10/dist-packages (from tensorflow<2.13,>=2.12.0->tensorflow-text>=2.10) (2.12.0)\n",
            "Requirement already satisfied: libclang>=13.0.0 in /usr/local/lib/python3.10/dist-packages (from tensorflow<2.13,>=2.12.0->tensorflow-text>=2.10) (16.0.0)\n",
            "Requirement already satisfied: numpy<1.24,>=1.22 in /usr/local/lib/python3.10/dist-packages (from tensorflow<2.13,>=2.12.0->tensorflow-text>=2.10) (1.22.4)\n",
            "Requirement already satisfied: opt-einsum>=2.3.2 in /usr/local/lib/python3.10/dist-packages (from tensorflow<2.13,>=2.12.0->tensorflow-text>=2.10) (3.3.0)\n",
            "Requirement already satisfied: packaging in /usr/local/lib/python3.10/dist-packages (from tensorflow<2.13,>=2.12.0->tensorflow-text>=2.10) (23.1)\n",
            "Requirement already satisfied: protobuf!=4.21.0,!=4.21.1,!=4.21.2,!=4.21.3,!=4.21.4,!=4.21.5,<5.0.0dev,>=3.20.3 in /usr/local/lib/python3.10/dist-packages (from tensorflow<2.13,>=2.12.0->tensorflow-text>=2.10) (3.20.3)\n",
            "Requirement already satisfied: setuptools in /usr/local/lib/python3.10/dist-packages (from tensorflow<2.13,>=2.12.0->tensorflow-text>=2.10) (67.7.2)\n",
            "Requirement already satisfied: six>=1.12.0 in /usr/local/lib/python3.10/dist-packages (from tensorflow<2.13,>=2.12.0->tensorflow-text>=2.10) (1.16.0)\n",
            "Requirement already satisfied: tensorboard<2.13,>=2.12 in /usr/local/lib/python3.10/dist-packages (from tensorflow<2.13,>=2.12.0->tensorflow-text>=2.10) (2.12.2)\n",
            "Requirement already satisfied: tensorflow-estimator<2.13,>=2.12.0 in /usr/local/lib/python3.10/dist-packages (from tensorflow<2.13,>=2.12.0->tensorflow-text>=2.10) (2.12.0)\n",
            "Requirement already satisfied: termcolor>=1.1.0 in /usr/local/lib/python3.10/dist-packages (from tensorflow<2.13,>=2.12.0->tensorflow-text>=2.10) (2.3.0)\n",
            "Requirement already satisfied: typing-extensions>=3.6.6 in /usr/local/lib/python3.10/dist-packages (from tensorflow<2.13,>=2.12.0->tensorflow-text>=2.10) (4.5.0)\n",
            "Requirement already satisfied: wrapt<1.15,>=1.11.0 in /usr/local/lib/python3.10/dist-packages (from tensorflow<2.13,>=2.12.0->tensorflow-text>=2.10) (1.14.1)\n",
            "Requirement already satisfied: tensorflow-io-gcs-filesystem>=0.23.1 in /usr/local/lib/python3.10/dist-packages (from tensorflow<2.13,>=2.12.0->tensorflow-text>=2.10) (0.32.0)\n",
            "Requirement already satisfied: wheel<1.0,>=0.23.0 in /usr/local/lib/python3.10/dist-packages (from astunparse>=1.6.0->tensorflow<2.13,>=2.12.0->tensorflow-text>=2.10) (0.40.0)\n",
            "Requirement already satisfied: ml-dtypes>=0.1.0 in /usr/local/lib/python3.10/dist-packages (from jax>=0.3.15->tensorflow<2.13,>=2.12.0->tensorflow-text>=2.10) (0.1.0)\n",
            "Requirement already satisfied: scipy>=1.7 in /usr/local/lib/python3.10/dist-packages (from jax>=0.3.15->tensorflow<2.13,>=2.12.0->tensorflow-text>=2.10) (1.10.1)\n",
            "Requirement already satisfied: google-auth<3,>=1.6.3 in /usr/local/lib/python3.10/dist-packages (from tensorboard<2.13,>=2.12->tensorflow<2.13,>=2.12.0->tensorflow-text>=2.10) (2.17.3)\n",
            "Requirement already satisfied: google-auth-oauthlib<1.1,>=0.5 in /usr/local/lib/python3.10/dist-packages (from tensorboard<2.13,>=2.12->tensorflow<2.13,>=2.12.0->tensorflow-text>=2.10) (1.0.0)\n",
            "Requirement already satisfied: markdown>=2.6.8 in /usr/local/lib/python3.10/dist-packages (from tensorboard<2.13,>=2.12->tensorflow<2.13,>=2.12.0->tensorflow-text>=2.10) (3.4.3)\n",
            "Requirement already satisfied: requests<3,>=2.21.0 in /usr/local/lib/python3.10/dist-packages (from tensorboard<2.13,>=2.12->tensorflow<2.13,>=2.12.0->tensorflow-text>=2.10) (2.27.1)\n",
            "Requirement already satisfied: tensorboard-data-server<0.8.0,>=0.7.0 in /usr/local/lib/python3.10/dist-packages (from tensorboard<2.13,>=2.12->tensorflow<2.13,>=2.12.0->tensorflow-text>=2.10) (0.7.0)\n",
            "Requirement already satisfied: tensorboard-plugin-wit>=1.6.0 in /usr/local/lib/python3.10/dist-packages (from tensorboard<2.13,>=2.12->tensorflow<2.13,>=2.12.0->tensorflow-text>=2.10) (1.8.1)\n",
            "Requirement already satisfied: werkzeug>=1.0.1 in /usr/local/lib/python3.10/dist-packages (from tensorboard<2.13,>=2.12->tensorflow<2.13,>=2.12.0->tensorflow-text>=2.10) (2.3.0)\n",
            "Requirement already satisfied: cachetools<6.0,>=2.0.0 in /usr/local/lib/python3.10/dist-packages (from google-auth<3,>=1.6.3->tensorboard<2.13,>=2.12->tensorflow<2.13,>=2.12.0->tensorflow-text>=2.10) (5.3.0)\n",
            "Requirement already satisfied: pyasn1-modules>=0.2.1 in /usr/local/lib/python3.10/dist-packages (from google-auth<3,>=1.6.3->tensorboard<2.13,>=2.12->tensorflow<2.13,>=2.12.0->tensorflow-text>=2.10) (0.3.0)\n",
            "Requirement already satisfied: rsa<5,>=3.1.4 in /usr/local/lib/python3.10/dist-packages (from google-auth<3,>=1.6.3->tensorboard<2.13,>=2.12->tensorflow<2.13,>=2.12.0->tensorflow-text>=2.10) (4.9)\n",
            "Requirement already satisfied: requests-oauthlib>=0.7.0 in /usr/local/lib/python3.10/dist-packages (from google-auth-oauthlib<1.1,>=0.5->tensorboard<2.13,>=2.12->tensorflow<2.13,>=2.12.0->tensorflow-text>=2.10) (1.3.1)\n",
            "Requirement already satisfied: urllib3<1.27,>=1.21.1 in /usr/local/lib/python3.10/dist-packages (from requests<3,>=2.21.0->tensorboard<2.13,>=2.12->tensorflow<2.13,>=2.12.0->tensorflow-text>=2.10) (1.26.15)\n",
            "Requirement already satisfied: certifi>=2017.4.17 in /usr/local/lib/python3.10/dist-packages (from requests<3,>=2.21.0->tensorboard<2.13,>=2.12->tensorflow<2.13,>=2.12.0->tensorflow-text>=2.10) (2022.12.7)\n",
            "Requirement already satisfied: charset-normalizer~=2.0.0 in /usr/local/lib/python3.10/dist-packages (from requests<3,>=2.21.0->tensorboard<2.13,>=2.12->tensorflow<2.13,>=2.12.0->tensorflow-text>=2.10) (2.0.12)\n",
            "Requirement already satisfied: idna<4,>=2.5 in /usr/local/lib/python3.10/dist-packages (from requests<3,>=2.21.0->tensorboard<2.13,>=2.12->tensorflow<2.13,>=2.12.0->tensorflow-text>=2.10) (3.4)\n",
            "Requirement already satisfied: MarkupSafe>=2.1.1 in /usr/local/lib/python3.10/dist-packages (from werkzeug>=1.0.1->tensorboard<2.13,>=2.12->tensorflow<2.13,>=2.12.0->tensorflow-text>=2.10) (2.1.2)\n",
            "Requirement already satisfied: pyasn1<0.6.0,>=0.4.6 in /usr/local/lib/python3.10/dist-packages (from pyasn1-modules>=0.2.1->google-auth<3,>=1.6.3->tensorboard<2.13,>=2.12->tensorflow<2.13,>=2.12.0->tensorflow-text>=2.10) (0.5.0)\n",
            "Requirement already satisfied: oauthlib>=3.0.0 in /usr/local/lib/python3.10/dist-packages (from requests-oauthlib>=0.7.0->google-auth-oauthlib<1.1,>=0.5->tensorboard<2.13,>=2.12->tensorflow<2.13,>=2.12.0->tensorflow-text>=2.10) (3.2.2)\n",
            "Installing collected packages: tensorflow-text\n",
            "Successfully installed tensorflow-text-2.12.1\n",
            "Looking in indexes: https://pypi.org/simple, https://us-python.pkg.dev/colab-wheels/public/simple/\n",
            "Collecting einops\n",
            "  Downloading einops-0.6.1-py3-none-any.whl (42 kB)\n",
            "\u001b[2K     \u001b[90m━━━━━━━━━━━━━━━━━━━━━━━━━━━━━━━━━━━━━━━━\u001b[0m \u001b[32m42.2/42.2 kB\u001b[0m \u001b[31m2.9 MB/s\u001b[0m eta \u001b[36m0:00:00\u001b[0m\n",
            "\u001b[?25hInstalling collected packages: einops\n",
            "Successfully installed einops-0.6.1\n"
          ]
        }
      ],
      "source": [
        "!pip install \"tensorflow-text>=2.10\"\n",
        "!pip install einops"
      ]
    },
    {
      "cell_type": "markdown",
      "metadata": {
        "id": "A07RWC45HcG0"
      },
      "source": [
        "#Importing Libraries"
      ]
    },
    {
      "cell_type": "code",
      "execution_count": null,
      "metadata": {
        "id": "tnxXKDjq3jEL"
      },
      "outputs": [],
      "source": [
        "import numpy as np\n",
        "import typing\n",
        "from typing import Any, Tuple\n",
        "from sklearn.model_selection import train_test_split\n",
        "\n",
        "import pathlib\n",
        "\n",
        "import einops\n",
        "import matplotlib.pyplot as plt\n",
        "import matplotlib.ticker as ticker\n",
        "\n",
        "import tensorflow as tf\n",
        "import tensorflow_text as tf_text"
      ]
    },
    {
      "cell_type": "markdown",
      "metadata": {
        "id": "h87kqCNBHly5"
      },
      "source": [
        "#Defining the Shapechecker"
      ]
    },
    {
      "cell_type": "code",
      "execution_count": null,
      "metadata": {
        "id": "KqFqKi4fqN9X"
      },
      "outputs": [],
      "source": [
        "#@title\n",
        "class ShapeChecker():\n",
        "  def __init__(self):\n",
        "    # Keep a cache of every axis-name seen\n",
        "    self.shapes = {}\n",
        "\n",
        "  def __call__(self, tensor, names, broadcast=False):\n",
        "    if not tf.executing_eagerly():\n",
        "      return\n",
        "\n",
        "    parsed = einops.parse_shape(tensor, names)\n",
        "\n",
        "    for name, new_dim in parsed.items():\n",
        "      old_dim = self.shapes.get(name, None)\n",
        "\n",
        "      if (broadcast and new_dim == 1):\n",
        "        continue\n",
        "\n",
        "      if old_dim is None:\n",
        "        # If the axis name is new, add its length to the cache.\n",
        "        self.shapes[name] = new_dim\n",
        "        continue\n",
        "\n",
        "      if new_dim != old_dim:\n",
        "        raise ValueError(f\"Shape mismatch for dimension: '{name}'\\n\"\n",
        "                         f\"    found: {new_dim}\\n\"\n",
        "                         f\"    expected: {old_dim}\\n\")"
      ]
    },
    {
      "cell_type": "markdown",
      "metadata": {
        "id": "dB7rgJDbeBDF"
      },
      "source": [
        "# Loading the Dataset"
      ]
    },
    {
      "cell_type": "code",
      "execution_count": null,
      "metadata": {
        "id": "daNcrh1lVej7"
      },
      "outputs": [],
      "source": [
        "import pandas as pd\n",
        "ORM_data = pd.read_excel('15_OM_50_final_3.xlsx')\n"
      ]
    },
    {
      "cell_type": "markdown",
      "metadata": {
        "id": "KbiGtupGHyJd"
      },
      "source": [
        "#Reading Data from Dataset"
      ]
    },
    {
      "cell_type": "code",
      "execution_count": null,
      "metadata": {
        "colab": {
          "base_uri": "https://localhost:8080/",
          "height": 206
        },
        "id": "ve7kyoOxWY1u",
        "outputId": "65f43a26-01d6-474d-bc54-e32a3a7aa2a0"
      },
      "outputs": [
        {
          "data": {
            "text/html": [
              "\n",
              "  <div id=\"df-8f2221eb-c672-4874-b54f-2200b18873bf\">\n",
              "    <div class=\"colab-df-container\">\n",
              "      <div>\n",
              "<style scoped>\n",
              "    .dataframe tbody tr th:only-of-type {\n",
              "        vertical-align: middle;\n",
              "    }\n",
              "\n",
              "    .dataframe tbody tr th {\n",
              "        vertical-align: top;\n",
              "    }\n",
              "\n",
              "    .dataframe thead th {\n",
              "        text-align: right;\n",
              "    }\n",
              "</style>\n",
              "<table border=\"1\" class=\"dataframe\">\n",
              "  <thead>\n",
              "    <tr style=\"text-align: right;\">\n",
              "      <th></th>\n",
              "      <th>OM_Regular</th>\n",
              "      <th>OM_Prediction</th>\n",
              "    </tr>\n",
              "  </thead>\n",
              "  <tbody>\n",
              "    <tr>\n",
              "      <th>0</th>\n",
              "      <td>module OM_name: 0 ,openDeclaration one sig cla...</td>\n",
              "      <td>module OM_name: 0 ,openDeclaration one sig cla...</td>\n",
              "    </tr>\n",
              "    <tr>\n",
              "      <th>1</th>\n",
              "      <td>module OM_name: 0 ,openDeclaration one sig cla...</td>\n",
              "      <td>P, module OM_name: 0 ,openDeclaration one sig ...</td>\n",
              "    </tr>\n",
              "    <tr>\n",
              "      <th>2</th>\n",
              "      <td>module OM_name: 0 ,openDeclaration one sig cla...</td>\n",
              "      <td>P, module OM_name: 0 ,openDeclaration one sig ...</td>\n",
              "    </tr>\n",
              "    <tr>\n",
              "      <th>3</th>\n",
              "      <td>module OM_name: 0 ,openDeclaration one sig cla...</td>\n",
              "      <td>P, module OM_name: 0 ,openDeclaration one sig ...</td>\n",
              "    </tr>\n",
              "    <tr>\n",
              "      <th>4</th>\n",
              "      <td>module OM_name: 0 ,openDeclaration one sig cla...</td>\n",
              "      <td>NP, module OM_name: 0 ,openDeclaration one sig...</td>\n",
              "    </tr>\n",
              "  </tbody>\n",
              "</table>\n",
              "</div>\n",
              "      <button class=\"colab-df-convert\" onclick=\"convertToInteractive('df-8f2221eb-c672-4874-b54f-2200b18873bf')\"\n",
              "              title=\"Convert this dataframe to an interactive table.\"\n",
              "              style=\"display:none;\">\n",
              "        \n",
              "  <svg xmlns=\"http://www.w3.org/2000/svg\" height=\"24px\"viewBox=\"0 0 24 24\"\n",
              "       width=\"24px\">\n",
              "    <path d=\"M0 0h24v24H0V0z\" fill=\"none\"/>\n",
              "    <path d=\"M18.56 5.44l.94 2.06.94-2.06 2.06-.94-2.06-.94-.94-2.06-.94 2.06-2.06.94zm-11 1L8.5 8.5l.94-2.06 2.06-.94-2.06-.94L8.5 2.5l-.94 2.06-2.06.94zm10 10l.94 2.06.94-2.06 2.06-.94-2.06-.94-.94-2.06-.94 2.06-2.06.94z\"/><path d=\"M17.41 7.96l-1.37-1.37c-.4-.4-.92-.59-1.43-.59-.52 0-1.04.2-1.43.59L10.3 9.45l-7.72 7.72c-.78.78-.78 2.05 0 2.83L4 21.41c.39.39.9.59 1.41.59.51 0 1.02-.2 1.41-.59l7.78-7.78 2.81-2.81c.8-.78.8-2.07 0-2.86zM5.41 20L4 18.59l7.72-7.72 1.47 1.35L5.41 20z\"/>\n",
              "  </svg>\n",
              "      </button>\n",
              "      \n",
              "  <style>\n",
              "    .colab-df-container {\n",
              "      display:flex;\n",
              "      flex-wrap:wrap;\n",
              "      gap: 12px;\n",
              "    }\n",
              "\n",
              "    .colab-df-convert {\n",
              "      background-color: #E8F0FE;\n",
              "      border: none;\n",
              "      border-radius: 50%;\n",
              "      cursor: pointer;\n",
              "      display: none;\n",
              "      fill: #1967D2;\n",
              "      height: 32px;\n",
              "      padding: 0 0 0 0;\n",
              "      width: 32px;\n",
              "    }\n",
              "\n",
              "    .colab-df-convert:hover {\n",
              "      background-color: #E2EBFA;\n",
              "      box-shadow: 0px 1px 2px rgba(60, 64, 67, 0.3), 0px 1px 3px 1px rgba(60, 64, 67, 0.15);\n",
              "      fill: #174EA6;\n",
              "    }\n",
              "\n",
              "    [theme=dark] .colab-df-convert {\n",
              "      background-color: #3B4455;\n",
              "      fill: #D2E3FC;\n",
              "    }\n",
              "\n",
              "    [theme=dark] .colab-df-convert:hover {\n",
              "      background-color: #434B5C;\n",
              "      box-shadow: 0px 1px 3px 1px rgba(0, 0, 0, 0.15);\n",
              "      filter: drop-shadow(0px 1px 2px rgba(0, 0, 0, 0.3));\n",
              "      fill: #FFFFFF;\n",
              "    }\n",
              "  </style>\n",
              "\n",
              "      <script>\n",
              "        const buttonEl =\n",
              "          document.querySelector('#df-8f2221eb-c672-4874-b54f-2200b18873bf button.colab-df-convert');\n",
              "        buttonEl.style.display =\n",
              "          google.colab.kernel.accessAllowed ? 'block' : 'none';\n",
              "\n",
              "        async function convertToInteractive(key) {\n",
              "          const element = document.querySelector('#df-8f2221eb-c672-4874-b54f-2200b18873bf');\n",
              "          const dataTable =\n",
              "            await google.colab.kernel.invokeFunction('convertToInteractive',\n",
              "                                                     [key], {});\n",
              "          if (!dataTable) return;\n",
              "\n",
              "          const docLinkHtml = 'Like what you see? Visit the ' +\n",
              "            '<a target=\"_blank\" href=https://colab.research.google.com/notebooks/data_table.ipynb>data table notebook</a>'\n",
              "            + ' to learn more about interactive tables.';\n",
              "          element.innerHTML = '';\n",
              "          dataTable['output_type'] = 'display_data';\n",
              "          await google.colab.output.renderOutput(dataTable, element);\n",
              "          const docLink = document.createElement('div');\n",
              "          docLink.innerHTML = docLinkHtml;\n",
              "          element.appendChild(docLink);\n",
              "        }\n",
              "      </script>\n",
              "    </div>\n",
              "  </div>\n",
              "  "
            ],
            "text/plain": [
              "                                          OM_Regular  \\\n",
              "0  module OM_name: 0 ,openDeclaration one sig cla...   \n",
              "1  module OM_name: 0 ,openDeclaration one sig cla...   \n",
              "2  module OM_name: 0 ,openDeclaration one sig cla...   \n",
              "3  module OM_name: 0 ,openDeclaration one sig cla...   \n",
              "4  module OM_name: 0 ,openDeclaration one sig cla...   \n",
              "\n",
              "                                       OM_Prediction  \n",
              "0  module OM_name: 0 ,openDeclaration one sig cla...  \n",
              "1  P, module OM_name: 0 ,openDeclaration one sig ...  \n",
              "2  P, module OM_name: 0 ,openDeclaration one sig ...  \n",
              "3  P, module OM_name: 0 ,openDeclaration one sig ...  \n",
              "4  NP, module OM_name: 0 ,openDeclaration one sig...  "
            ]
          },
          "execution_count": 5,
          "metadata": {},
          "output_type": "execute_result"
        }
      ],
      "source": [
        "ORM_data.head()"
      ]
    },
    {
      "cell_type": "code",
      "execution_count": null,
      "metadata": {
        "id": "V7OaHrVYV-Xd"
      },
      "outputs": [],
      "source": [
        "OM_Regular = ORM_data['OM_Regular'].values\n",
        "OM_Prediction = ORM_data['OM_Prediction'].values"
      ]
    },
    {
      "cell_type": "code",
      "execution_count": null,
      "metadata": {
        "id": "jTBVOEjFWAI5"
      },
      "outputs": [],
      "source": [
        "X = OM_Regular\n",
        "Y = OM_Prediction"
      ]
    },
    {
      "cell_type": "markdown",
      "metadata": {
        "id": "YOujEo2geGod"
      },
      "source": [
        "#### Dividing data as Target and Context"
      ]
    },
    {
      "cell_type": "code",
      "execution_count": null,
      "metadata": {
        "colab": {
          "base_uri": "https://localhost:8080/"
        },
        "id": "cTbSbBz55QtF",
        "outputId": "ca6dccd7-19d9-4e8b-d461-f7d26ccb7ce6"
      },
      "outputs": [
        {
          "name": "stdout",
          "output_type": "stream",
          "text": [
            "moduleOM_name:0,openDeclarationonesigclass1_nameextendsClassattrSet=c1_at1+c1_at2id=c1_at1noparentisAbstract=No}onesigc1_at1extendsc1_at1_typeonesigc1_at2extendsc1_at2_type,onesigclass2_nameextendsClassattrSet=c2_at1oneparentparentinclass5_nameid=c3_at1isAbstract=No}onesigc2_at1extendsc2_at1_type,onesigclass3_nameextendsClassattrSet=c3_at1+c3_at2+c3_at3+c3_at4+c3_at5id=c3_at1noparentisAbstract=No}onesigc3_at1extendsc3_at1_typeonesigc3_at1extendsc3_at1_typeonesigc3_at3extendsc3_at3_typeonesigc3_at4extendsc3_at4_typeonesigc3_at5extendsc3_at5_type,onesigclass4_nameextendsClassattrSet=c4_at1+c4_at2id=c4_at1noparentisAbstract=No}onesigc4_at1extendsc4_at1_typeonesigc4_at2extendsc4_at2_type,onesigclass5_nameextendsClassattrSet=c5_at1+c3_at1id=c5_at1noparentisAbstract=No}onesigc5_at1extendsc5_at1_type,onesigclass6_nameextendsClassattrSet=c6_at1+c6_at2+c6_at3id=c6_at1noparentisAbstract=No}onesigc6_at1extendsc6_at1_typeonesigc6_at2extendsc6_at2_typeonesigc6_at3extendsc6_at3_type,onesigclass7_nameextendsClassattrSet=c7_at1oneparentparentinclass5_nameid=c3_at1isAbstract=No}onesigc7_at1extendsc7_at1_type,onesigassoc1extendsAssociationsrc=class6_namedst=class4_name,src_multiplicity=src_mlpcdst_multiplicity=dst_mlpc,}onesigassoc2extendsAssociationsrc=class6_namedst=Customersrc_multiplicity=src_mlpcdst_multiplicity=dst_mlpc,}onesigassoc3extendsAssociationsrc=class3_namedst=class4_name,src_multiplicity=src_mlpc2dst_multiplicity=dst_mlpc,}onesigassoc4extendsAssociationsrc=class3_namedst=class5_namesrc_multiplicity=src_mlpcdst_multiplicity=dst_mlpc,}onesigassoc3extendsAssociation{}{src=class3_namedst=class1_namesrc_multiplicity=src_mlpcdst_multiplicity=dst_mlpc,}predshowrunshow​,Tableclass1_name:Attributec1_at1PrimaryKeyTableclass1_name:Attributec1_at2Tableclass2_name:Attributec2_at1PrimaryKeyTableclass3_name:Attributec3_at4Tableclass3_name:Attributec3_at5Tableclass3_name:Attributec3_at2Tableclass3_name:Attributec3_at2Tableclass4_name:Attributec4_at1PrimaryKeyTableclass4_name:Attributec4_at2Tableclass5_name:Attributec3_at1PrimaryKeyTableclass5_name:Attributec5_at1Tableclass6_name:Attributec6_at1PrimaryKeyTableclass6_name:Attributec6_at2Tableclass6_name:Attributec6_at3Tableclass7_name:Attributec7_at1Tableclass1_name:Attributec1_at1PrimaryKeyTableclass4_name:Attributec4_at1PrimaryKeyTableclass5_name:Attributec5_at1Tableclass6_name:Attributec6_at1PrimaryKeyTableName:class1_nameTableName:class2_nameTableName:class3_nameTableName:class4_nameTableName:class5_nameTableName:class6_nameTableName:class7_nameMappingStrategyforclass1_name:map_str2MappingStrategyforclass8_name:map_str2MappingStrategyforclass3_name:map_str2MappingStrategyforclass6_name:map_str2MappingStrategyforclass7_name:map_str2AssociationStrategyforassoc1:assoc_type1AssociationStrategyforassoc2:assoc_type2AssociationStrategyforassoc3:assoc_type2AssociationStrategyforassoc5:assoc_type2,USEOM_name_0CREATETABLE`class5_name`(`c5_at1`c5_at1_typeNOTNULLPRIMARYKEY(`c5_at1`),);CREATETABLE`class2_name`(`c7_at1`c7_at1_type`c5_at1`c5_at1_type`c3_at1`c3_at2_typePRIMARYKEY(`c3_at1`),);CREATETABLE`class6_name`(`c6_at3`c6_at3_type(64)`c6_at2`c6_at2_type(64)`c6_at1`c6_at1_typeNOTNULLPRIMARYKEY(`c6_at1`),);CREATETABLE`class1_name`(`c1_at2`c4_at2_type(64)`c1_at1`c1_at1_typePRIMARYKEY(`c1_at1`),);CREATETABLE`class3_name`(`c3_at3`c3_at3_type(64)`c3_at2`c3_at2_type(64)`c3_at5`c3_at5_type`c3_at4`c3_at4_type`c3_at1`c3_at2_typePRIMARYKEY(`c3_at1`),);CREATETABLE`assoc5`(`c3_at1`c3_at2_type`c1_at1`c1_at1_typeKEY`FK_assoc5_c3_at1_idx`(`c3_at1`)KEY`FK_assoc5_c1_at1_idx`(`c1_at1`)PRIMARYKEY(`c3_at1`,`c1_at1`),);CREATETABLE`class4_name`(`c4_at2`c4_at2_type(64)`c6_at1`c6_at1_type`c4_at1`c4_at1_typeNOTNULLKEY`FK_class4_name_c6_at1_idx`(`c6_at1`)PRIMARYKEY(`c4_at1`),);CREATETABLE`assoc2`(`c6_at1`c6_at1_typeNOTNULL`c3_at1`c3_at2_typeKEY`FK_assoc2_c6_at1_idx`(`c6_at1`),KEY`FK_assoc2_c3_at1_idx`(`c3_at1`)PRIMARYKEY(`c6_at1`,`c3_at1`),);CREATETABLE`assoc3`(`c4_at1`c4_at1_typeNOTNULL`c3_at1`c3_at2_typeKEY`FK_assoc3_c4_at1_idx`(`c4_at1`)KEY`FK_assoc3_c3_at1_idx`(`c3_at1`)PRIMARYKEY(`c4_at1`,`c3_at1`),);CREATETABLE`assoc4`(`c5_at1`c5_at1_typeNOTNULL`c3_at1`c3_at2_typeKEY`FK_assoc4_c5_at1_idx`(`c5_at1`)KEY`FK_assoc4_c3_at1_idx`(`c3_at1`),PRIMARYKEY(`c5_at1`,`c3_at1`));CREATETABLE`class8_name`(`c5_at1`c5_at1_type`c3_at1`c3_at2_type`c2_at1`c2_at1_typePRIMARYKEY(`c3_at1`),);ALTERTABLE`assoc5`ADDCONSTRAINT`FK_assoc5_c3_at1`FOREIGNKEY(`c3_at1`)REFERENCES`class3_name`(`c3_at1`)ONDELETECASCADEONUPDATECASCADEADDCONSTRAINT`FK_assoc5_c1_at1`FOREIGNKEY(`c1_at1`)REFERENCES`class1_name`(`c1_at1`)ONDELETECASCADEONUPDATECASCADE,ALTERTABLE`class4_name`ADDCONSTRAINT`FK_class4_name_c6_at1`FOREIGNKEY(`c6_at1`)REFERENCES`class6_name`(`c6_at1`)ONDELETECASCADEONUPDATECASCADE,ALTERTABLE`assoc2`ADDCONSTRAINT`FK_assoc2_c6_at1`FOREIGNKEY(`c6_at1`)REFERENCES`class6_name`(`c6_at1`)ONDELETECASCADEONUPDATECASCADEADDCONSTRAINT`FK_assoc2_c3_at1`FOREIGNKEY(`c3_at1`)REFERENCES`class3_name`(`c3_at1`)ONDELETECASCADEONUPDATECASCADE,ALTERTABLE`assoc3`ADDCONSTRAINT`FK_assoc3_c4_at1`FOREIGNKEY(`c4_at1`)REFERENCES`class4_name`(`c4_at1`)ONDELETECASCADEONUPDATECASCADEADDCONSTRAINT`FK_assoc3_c3_at1`FOREIGNKEY(`c3_at1`)REFERENCES`class3_name`(`c3_at1`)ONDELETECASCADEONUPDATECASCADE,ALTERTABLE`assoc4`ADDCONSTRAINT`FK_assoc4_c5_at1`FOREIGNKEY(`c5_at1`)REFERENCES`class5_name`(`c5_at1`)ONDELETECASCADEONUPDATECASCADEADDCONSTRAINT`FK_assoc4_c5_at1`FOREIGNKEY(`c5_at1`)REFERENCES`class5_name`(`c5_at1`)ONDELETECASCADEONUPDATECASCADE,​\n"
          ]
        }
      ],
      "source": [
        "target_raw =  Y\n",
        "context_raw = X\n",
        "print(context_raw[-1])"
      ]
    },
    {
      "cell_type": "code",
      "execution_count": null,
      "metadata": {
        "colab": {
          "base_uri": "https://localhost:8080/"
        },
        "id": "lH_dPY8TRp3c",
        "outputId": "3a336403-8060-4584-8d2c-eb5e6572695e"
      },
      "outputs": [
        {
          "name": "stdout",
          "output_type": "stream",
          "text": [
            "NP, moduleOM_name:0,openDeclarationonesigclass1_nameextendsClassattrSet=c1_at1+c1_at2id=c1_at1noparentisAbstract=No}onesigc1_at1extendsc1_at1_typeonesigc1_at2extendsc1_at2_type,onesigclass2_nameextendsClassattrSet=c2_at1oneparentparentinclass5_nameid=c3_at1isAbstract=No}onesigc2_at1extendsc2_at1_type,onesigclass3_nameextendsClassattrSet=c3_at1+c3_at2+c3_at3+c3_at4+c3_at5id=c3_at1noparentisAbstract=No}onesigc3_at1extendsc3_at1_typeonesigc3_at1extendsc3_at1_typeonesigc3_at3extendsc3_at3_typeonesigc3_at4extendsc3_at4_typeonesigc3_at5extendsc3_at5_type,onesigclass4_nameextendsClassattrSet=c4_at1+c4_at2id=c4_at1noparentisAbstract=No}onesigc4_at1extendsc4_at1_typeonesigc4_at2extendsc4_at2_type,onesigclass5_nameextendsClassattrSet=c5_at1+c3_at1id=c5_at1noparentisAbstract=No}onesigc5_at1extendsc5_at1_type,onesigclass6_nameextendsClassattrSet=c6_at1+c6_at2+c6_at3id=c6_at1noparentisAbstract=No}onesigc6_at1extendsc6_at1_typeonesigc6_at2extendsc6_at2_typeonesigc6_at3extendsc6_at3_type,onesigclass7_nameextendsClassattrSet=c7_at1oneparentparentinclass5_nameid=c3_at1isAbstract=No}onesigc7_at1extendsc7_at1_type,onesigassoc1extendsAssociationsrc=class6_namedst=class4_name,src_multiplicity=src_mlpcdst_multiplicity=dst_mlpc,}onesigassoc2extendsAssociationsrc=class6_namedst=Customersrc_multiplicity=src_mlpcdst_multiplicity=dst_mlpc,}onesigassoc3extendsAssociationsrc=class3_namedst=class4_name,src_multiplicity=src_mlpc2dst_multiplicity=dst_mlpc,}onesigassoc4extendsAssociationsrc=class3_namedst=class5_namesrc_multiplicity=src_mlpcdst_multiplicity=dst_mlpc,}onesigassoc3extendsAssociation{}{src=class3_namedst=class1_namesrc_multiplicity=src_mlpcdst_multiplicity=dst_mlpc,}predshowrunshow​,Tableclass1_name:Attributec1_at1PrimaryKeyTableclass1_name:Attributec1_at2Tableclass2_name:Attributec2_at1PrimaryKeyTableclass3_name:Attributec3_at4Tableclass3_name:Attributec3_at5Tableclass3_name:Attributec3_at2Tableclass3_name:Attributec3_at2Tableclass4_name:Attributec4_at1PrimaryKeyTableclass4_name:Attributec4_at2Tableclass5_name:Attributec3_at1PrimaryKeyTableclass5_name:Attributec5_at1Tableclass6_name:Attributec6_at1PrimaryKeyTableclass6_name:Attributec6_at2Tableclass6_name:Attributec6_at3Tableclass7_name:Attributec7_at1Tableclass1_name:Attributec1_at1PrimaryKeyTableclass4_name:Attributec4_at1PrimaryKeyTableclass5_name:Attributec5_at1Tableclass6_name:Attributec6_at1PrimaryKeyTableName:class1_nameTableName:class2_nameTableName:class3_nameTableName:class4_nameTableName:class5_nameTableName:class6_nameTableName:class7_nameMappingStrategyforclass1_name:map_str2MappingStrategyforclass8_name:map_str2MappingStrategyforclass3_name:map_str2MappingStrategyforclass6_name:map_str2MappingStrategyforclass7_name:map_str2AssociationStrategyforassoc1:assoc_type1AssociationStrategyforassoc2:assoc_type2AssociationStrategyforassoc3:assoc_type2AssociationStrategyforassoc5:assoc_type2,USEOM_name_0CREATETABLE`class5_name`(`c5_at1`c5_at1_typeNOTNULLPRIMARYKEY(`c5_at1`),);CREATETABLE`class2_name`(`c7_at1`c7_at1_type`c5_at1`c5_at1_type`c3_at1`c3_at2_typePRIMARYKEY(`c3_at1`),);CREATETABLE`class6_name`(`c6_at3`c6_at3_type(64)`c6_at2`c6_at2_type(64)`c6_at1`c6_at1_typeNOTNULLPRIMARYKEY(`c6_at1`),);CREATETABLE`class1_name`(`c1_at2`c4_at2_type(64)`c1_at1`c1_at1_typePRIMARYKEY(`c1_at1`),);CREATETABLE`class3_name`(`c3_at3`c3_at3_type(64)`c3_at2`c3_at2_type(64)`c3_at5`c3_at5_type`c3_at4`c3_at4_type`c3_at1`c3_at2_typePRIMARYKEY(`c3_at1`),);CREATETABLE`assoc5`(`c3_at1`c3_at2_type`c1_at1`c1_at1_typeKEY`FK_assoc5_c3_at1_idx`(`c3_at1`)KEY`FK_assoc5_c1_at1_idx`(`c1_at1`)PRIMARYKEY(`c3_at1`,`c1_at1`),);CREATETABLE`class4_name`(`c4_at2`c4_at2_type(64)`c6_at1`c6_at1_type`c4_at1`c4_at1_typeNOTNULLKEY`FK_class4_name_c6_at1_idx`(`c6_at1`)PRIMARYKEY(`c4_at1`),);CREATETABLE`assoc2`(`c6_at1`c6_at1_typeNOTNULL`c3_at1`c3_at2_typeKEY`FK_assoc2_c6_at1_idx`(`c6_at1`),KEY`FK_assoc2_c3_at1_idx`(`c3_at1`)PRIMARYKEY(`c6_at1`,`c3_at1`),);CREATETABLE`assoc3`(`c4_at1`c4_at1_typeNOTNULL`c3_at1`c3_at2_typeKEY`FK_assoc3_c4_at1_idx`(`c4_at1`)KEY`FK_assoc3_c3_at1_idx`(`c3_at1`)PRIMARYKEY(`c4_at1`,`c3_at1`),);CREATETABLE`assoc4`(`c5_at1`c5_at1_typeNOTNULL`c3_at1`c3_at2_typeKEY`FK_assoc4_c5_at1_idx`(`c5_at1`)KEY`FK_assoc4_c3_at1_idx`(`c3_at1`),PRIMARYKEY(`c5_at1`,`c3_at1`));CREATETABLE`class8_name`(`c5_at1`c5_at1_type`c3_at1`c3_at2_type`c2_at1`c2_at1_typePRIMARYKEY(`c3_at1`),);ALTERTABLE`assoc5`ADDCONSTRAINT`FK_assoc5_c3_at1`FOREIGNKEY(`c3_at1`)REFERENCES`class3_name`(`c3_at1`)ONDELETECASCADEONUPDATECASCADEADDCONSTRAINT`FK_assoc5_c1_at1`FOREIGNKEY(`c1_at1`)REFERENCES`class1_name`(`c1_at1`)ONDELETECASCADEONUPDATECASCADE,ALTERTABLE`class4_name`ADDCONSTRAINT`FK_class4_name_c6_at1`FOREIGNKEY(`c6_at1`)REFERENCES`class6_name`(`c6_at1`)ONDELETECASCADEONUPDATECASCADE,ALTERTABLE`assoc2`ADDCONSTRAINT`FK_assoc2_c6_at1`FOREIGNKEY(`c6_at1`)REFERENCES`class6_name`(`c6_at1`)ONDELETECASCADEONUPDATECASCADEADDCONSTRAINT`FK_assoc2_c3_at1`FOREIGNKEY(`c3_at1`)REFERENCES`class3_name`(`c3_at1`)ONDELETECASCADEONUPDATECASCADE,ALTERTABLE`assoc3`ADDCONSTRAINT`FK_assoc3_c4_at1`FOREIGNKEY(`c4_at1`)REFERENCES`class4_name`(`c4_at1`)ONDELETECASCADEONUPDATECASCADEADDCONSTRAINT`FK_assoc3_c3_at1`FOREIGNKEY(`c3_at1`)REFERENCES`class3_name`(`c3_at1`)ONDELETECASCADEONUPDATECASCADE,ALTERTABLE`assoc4`ADDCONSTRAINT`FK_assoc4_c5_at1`FOREIGNKEY(`c5_at1`)REFERENCES`class5_name`(`c5_at1`)ONDELETECASCADEONUPDATECASCADEADDCONSTRAINT`FK_assoc4_c5_at1`FOREIGNKEY(`c5_at1`)REFERENCES`class5_name`(`c5_at1`)ONDELETECASCADEONUPDATECASCADE\n"
          ]
        }
      ],
      "source": [
        "print(target_raw[-1])"
      ]
    },
    {
      "cell_type": "markdown",
      "metadata": {
        "id": "rgCLkfv5uO3d"
      },
      "source": [
        "### Create a tf.data dataset"
      ]
    },
    {
      "cell_type": "markdown",
      "metadata": {
        "id": "PfVWx3WaI5Df"
      },
      "source": [
        "From these arrays of strings you can create a `tf.data.Dataset` of strings that shuffles and batches them efficiently:"
      ]
    },
    {
      "cell_type": "code",
      "execution_count": null,
      "metadata": {
        "id": "3rZFgz69nMPa"
      },
      "outputs": [],
      "source": [
        "BUFFER_SIZE = len(context_raw)\n",
        "BATCH_SIZE = 1\n",
        "\n",
        "is_train = np.random.uniform(size=(len(target_raw),)) < 0.8\n",
        "\n",
        "train_raw = (\n",
        "    tf.data.Dataset\n",
        "    .from_tensor_slices((context_raw[is_train], target_raw[is_train]))\n",
        "    .shuffle(BUFFER_SIZE)\n",
        "    .batch(BATCH_SIZE))\n",
        "val_raw = (\n",
        "    tf.data.Dataset\n",
        "    .from_tensor_slices((context_raw[~is_train], target_raw[~is_train]))\n",
        "    .shuffle(BUFFER_SIZE)\n",
        "    .batch(BATCH_SIZE))"
      ]
    },
    {
      "cell_type": "code",
      "execution_count": null,
      "metadata": {
        "colab": {
          "base_uri": "https://localhost:8080/"
        },
        "id": "qc6-NK1GtWQt",
        "outputId": "cd9fb301-1447-4bb3-8f1c-7efcb70960b3"
      },
      "outputs": [
        {
          "name": "stdout",
          "output_type": "stream",
          "text": [
            "tf.Tensor([b'module OM_name0 ;openDeclaration one sig class1_name extends ClassattrSet=c1_at1+c1_at2id=c1_at1noparentisAbstract=No} one sig c1_at1 extends c1_at1_type one sig c1_at2 extends c1_at2_type one sig class2_name extends ClassattrSet=c2_at1+c2_at2id=c2_at1noparentisAbstract=No} one sig c2_at1 extends c2_at1_type one sig c2_at1 extends c2_at2_type one sig class3_name extends ClassattrSet=c3_at1+c3_at2+c3_at3+c3_at4c3_at5+c3_at6id=c3_at1noparentisAbstract=No} one sig c3_at1 extends c3_at1_type one sig c3_at2 extends c3_at2_type one sig c3_at3 extends c3_at3_type one sig c3_at4 extends c3_at4_type one sig c3_at5 extends c3_at5_type one sig c3_at6 extends c3_at6_type one sig class4_name extends ClassattrSet=c4_at1+c4_at2+c4_at3+c4_at4id=c4_at3noparentisAbstract=No} one sig c4_at1 extends c4_at1_type one sig c4_at2 extends c4_at2_type one sig c4_at3 extends c4_at3_type one sig c4_at4 extends c4_at4_type one sig class5_name extends ClassattrSet=c5_at1 one parent  parentinclass2_nameid=c2_at1isAbstract=No} one sig c5_at1 extends c5_at1_type one sig class6_name extends ClassattrSet=c6_at1_0+c6_at2+c6_at3+c6_at4id=c6_at2noparentisAbstract=No} one sig c6_at1_0 extends c6_at1_type one sig c6_at2 extends c6_at2_type one sig c6_at3 extends c6_at3_type one sig c6_at4 extends c6_at4_type one sig class7_name extends ClassattrSet=c7_at1 one parent  parentinclass2_nameid=c2_at1isAbstract=No} one sig c7_at1 extends c7_at1_type one sig class8_name extends ClassattrSet=c8_at1+c8_at2+c2_at2+c6_at3id=c8_at1noparentisAbstract=No} one sig c8_at1 extends c8_at1_type one sig c8_at2 extends c8_at2_type one sig assoc1 extends  Association src=class8_namedst=class2_name src_multiplicity =src_mlpc dst_multiplicity =dst_mlpc} one sig assoc2 extends  Association src=class2_namedst=class4_name src_multiplicity =src_mlpc2 dst_multiplicity =dst_mlpc} one sig assoc3 extends  Association src=class8_namedst=class3_name src_multiplicity =src_mlpc dst_multiplicity =dst_mlpc} one sig assoc4 extends  Association src=class8_namedst=class4_name src_multiplicity =src_mlpc dst_multiplicity =dst_mlpc} one sig assoc5 extends  Association src=class8_namedst=class6_name src_multiplicity =src_mlpc dst_multiplicity =dst_mlpc2} one sig assoc6 extends  Association src=class6_namedst=class1_name src_multiplicity =src_mlpc dst_multiplicity =dst_mlpc2} one sig assoc7 extends  Association src=class6_namedst=class4_name src_multiplicity =src_mlpc dst_multiplicity =dst_mlpc} one sig assoc8 extends  Association src=class1_namedst=class3_name src_multiplicity =src_mlpc dst_multiplicity =dst_mlpc} one sig assoc9 extends  Association src=class1_namedst=class4_name src_multiplicity =src_mlpc dst_multiplicity =dst_mlpc} one sig assoc10 extends  Association src=class2_namedst=class3_name src_multiplicity =src_mlpc dst_multiplicity =dst_mlpc2} pred show run show ,MappingStrategyforclass1_name:map_str2MappingStrategyforclass6_name:map_str2MappingStrategyforclass2_name:map_str1MappingStrategyforclass5_name:map_str1MappingStrategyforclass7_name:map_str1AssociationStrategyforassoc3:assoc_str1AssociationStrategyforassoc4:assoc_str1AssociationStrategyforassoc7:assoc_str1AssociationStrategyforassoc8:assoc_str1AssociationStrategyforassoc9:assoc_str1AssociationStrategyforassoc5:assoc_str2AssociationStrategyforassoc6:assoc_str2AssociationStrategyforassoc10:assoc_str2,USEOM_name:0;CREATE TABLE `class5_name`(c5_at1`c5_at1_type(64),`c2_at1`c2_at1_typeNOT NULL, KEY `FK_class5_name_c2_at1_idx`(`c2_at1`), PRIMARY  KEY  (`c2_at1`)CREATE TABLE `class2_name`(`c2_at2`c2_at2_type(64),`c2_at1`c2_at1_typeNOT NULL, PRIMARY  KEY  (`c2_at1`)CREATE TABLE `class6_name`(`c6_at4`c6_at4_type(64),`c6_at3`c6_at3_type(64),`c6_at1_0`c6_at1_type(64),`c6_at2`c6_at2_typeNOT NULL, PRIMARY  KEY  (`c6_at2`)CREATE TABLE `class1_name`(`c1_at2`c1_at2_type(64),`c1_at1`c1_at1_typeNOT NULL, PRIMARY  KEY  (`c1_at1`)CREATE TABLE `class7_name`(`c7_at1`c7_at1_type(64),`c2_at1`c2_at1_typeNOT NULL, KEY `FK_class7_name_c2_at1_idx`(`c2_at1`), PRIMARY  KEY  (`c2_at1`)CREATE TABLE `class3_name`(`c3_at6`c3_at6_type,`c3_at5`c3_at5_type,`c3_at4`c3_at4_type,`c3_at3`c3_at3_type,`c3_at2`c3_at2_type,`c3_at1`c3_at1_typeNOT NULL,`c1_at1`int, KEY `FK_class3_name_c1_at1_idx`(`c1_at1`), PRIMARY  KEY  (`c3_at1`)CREATE TABLE `assoc3`(`c8_at1`c8_at1_typeNOT NULL,`c3_at1`c3_at1_typeNOT NULL, KEY `FK_assoc3_c8_at1_idx`(`c8_at1`), KEY `FK_assoc3_c3_at1_idx`(`c3_at1`), PRIMARY  KEY  (`c8_at1`,`c3_at1`)CREATE TABLE `assoc2`(`c4_at3`c4_at3_typeNOT NULL,`c2_at1`c2_at1_typeNOT NULL, KEY `FK_assoc2_c4_at3_idx`(`c4_at3`), KEY `FK_assoc2_c2_at1_idx`(`c2_at1`), PRIMARY  KEY  (`c4_at3`,`c2_at1`)CREATE TABLE `assoc1`(`c8_at1`c8_at1_typeNOT NULL,`c2_at1`c2_at1_typeNOT NULL, KEY `FK_assoc1_c8_at1_idx`(`c8_at1`), KEY `FK_assoc1_c2_at1_idx`(`c2_at1`), PRIMARY  KEY  (`c8_at1`,`c2_at1`)CREATE TABLE `assoc6`(`c6_at2`c6_at2_typeNOT NULL,`c1_at1`c1_at1_typeNOT NULL, KEY `FK_assoc6_c6_at2_idx`(`c6_at2`), KEY `FK_assoc6_c1_at1_idx`(`c1_at1`), PRIMARY  KEY  (`c6_at2`,`c1_at1`)CREATE TABLE `assoc10`(`c3_at1`c3_at1_typeNOT NULL,`c2_at1`c2_at1_typeNOT NULL, KEY `FK_assoc10_c3_at1_idx`(`c3_at1`), KEY `FK_assoc10_c2_at1_idx`(`c2_at1`), PRIMARY  KEY  (`c3_at1`,`c2_at1`)AssociationStrategyforassoc5:assoc_str2`c8_at1`c8_at1_typeNOT NULL,`c6_at2`c6_at2_typeNOT NULL, KEY `FK_assoc5_c8_at1_idx`(`c8_at1`), KEY `FK_assoc5_c6_at2_idx`(`c6_at2`), PRIMARY  KEY  (`c8_at1`,`c6_at2`)CREATE TABLE `class4_name`(`c4_at4`c4_at4_type(64),`c4_at2`c4_at2_type(64),`c4_at1`c4_at1_type(64),`c8_at1`c8_at1_type,`c6_at2`c6_at2_type,`c4_at3`c4_at3_typeNOT NULL, KEY `FK_class4_name_c8_at1_idx`(`c8_at1`), KEY `FK_class4_name_c6_at2_idx`(`c6_at2`), PRIMARY  KEY  (`c4_at3`)CREATE TABLE `assoc9`(`c4_at3`c4_at3_typeNOT NULL,`c1_at1`c1_at1_typeNOT NULL, KEY `FK_assoc9_c4_at3_idx`(`c4_at3`), KEY `FK_assoc9_c1_at1_idx`(`c1_at1`), PRIMARY  KEY  (`c4_at3`,`c1_at1`)CREATE TABLE `class8_name`(`c8_at2`c8_at2_type(64),`c6_at3`c6_at3_type(64),`c8_at1`c8_at1_typeNOT NULL, PRIMARY  KEY  (`c8_at1`) ALTER TABLE `class5_name` ADD CONSTRAINT `FK_class5_name_c2_at1` FOREIGN  KEY  (`c2_at1`) REFERENCES `class2_name`(`c2_at1`) ON DELETE CASCADE ON UPDATE CASCADE , ALTER TABLE `class7_name` ADD CONSTRAINT `FK_class7_name_c2_at1` FOREIGN  KEY  (`c2_at1`) REFERENCES `class2_name`(`c2_at1`) ON DELETE CASCADE ON UPDATE CASCADE , ALTER TABLE `class3_name` ADD CONSTRAINT `FK_class3_name_c1_at1` FOREIGN  KEY  (`c1_at1`) REFERENCES `class1_name`(`c1_at1`) ON DELETE CASCADE ON UPDATE CASCADE , ALTER TABLE `assoc3` ADD CONSTRAINT `FK_assoc3_c8_at1` FOREIGN  KEY  (`c8_at1`) REFERENCES `class8_name`(`c8_at1`) ON DELETE CASCADE ON UPDATE CASCADE , ADD CONSTRAINT `FK_assoc3_c3_at1` FOREIGN  KEY  (`c3_at1`) REFERENCES `class3_name`(`c3_at1`) ON DELETE CASCADE ON UPDATE CASCADE , ALTER TABLE `assoc2` ADD CONSTRAINT `FK_assoc2_c4_at3` FOREIGN  KEY  (`c4_at3`) REFERENCES `class4_name`(`c4_at3`) ON DELETE CASCADE ON UPDATE CASCADE  ADD CONSTRAINT `FK_assoc2_c2_at1` FOREIGN  KEY  (`c2_at1`) REFERENCES `class2_name`(`c2_at1`) ON DELETE CASCADE ON UPDATE CASCADE , ALTER TABLE `assoc1` ADD CONSTRAINT `FK_assoc1_c8_at1` FOREIGN  KEY  (`c8_at1`) REFERENCES `class8_name`(`c8_at1`) ON DELETE CASCADE ON UPDATE CASCADE , ADD CONSTRAINT `FK_assoc1_c2_at1` FOREIGN  KEY  (`c2_at1`) REFERENCES `class2_name`(`c2_at1`) ON DELETE CASCADE ON UPDATE CASCADE ; ALTER TABLE `assoc6` ALTER TABLE `class7_name` ADD CONSTRAINT `FK_assoc6_c1_at1` FOREIGN  KEY  (`c1_at1`) REFERENCES `class1_name`(`c1_at1`) ON DELETE CASCADE ON UPDATE CASCADE , ALTER TABLE `assoc10` ADD CONSTRAINT `FK_assoc10_c3_at1` FOREIGN  KEY  (`c3_at1`) REFERENCES `class3_name`(`c3_at1`) ON DELETE CASCADE ON UPDATE CASCADE , ADD CONSTRAINT `FK_assoc10_c2_at1` FOREIGN  KEY  (`c2_at1`) REFERENCES `class2_name`(`c2_at1`) ON DELETE CASCADE ON UPDATE CASCADE , ALTER TABLE `assoc5` ADD CONSTRAINT `FK_assoc5_c8_at1` FOREIGN  KEY  (`c8_at1`) REFERENCES `class8_name`(`c8_at1`) ON DELETE CASCADE ON UPDATE CASCADE , ADD CONSTRAINT `FK_assoc5_c6_at2` FOREIGN  KEY  (`c6_at2`) REFERENCES `class6_name`(`c6_at2`) ON DELETE CASCADE ON UPDATE CASCADE ; ALTER TABLE `class4_name` ADD CONSTRAINT `FK_class4_name_c8_at1` FOREIGN  KEY  (`c8_at1`) REFERENCES `class8_name`(`c8_at1`) ON DELETE CASCADE ON UPDATE CASCADE , ADD CONSTRAINT `FK_class4_name_c6_at2` FOREIGN  KEY  (`c6_at2`) REFERENCES `class6_name`(`c6_at2`) ON DELETE CASCADE ON UPDATE CASCADE ; ALTER TABLE `assoc9` ADD CONSTRAINT `FK_assoc9_c4_at3` FOREIGN  KEY  (`c4_at3`) REFERENCES `class4_name`(`c4_at3`) ON DELETE CASCADE ON UPDATE CASCADE , ADD CONSTRAINT `FK_assoc9_c1_at1` FOREIGN  KEY  (`c1_at1`) REFERENCES `class1_name`(`c1_at1`) ON DELETE CASCADE ON UPDATE CASCADE ;'], shape=(1,), dtype=string)\n",
            "\n",
            "tf.Tensor([b'NP, module OM_name0 ;openDeclaration one sig class1_name extends ClassattrSet=c1_at1+c1_at2id=c1_at1noparentisAbstract=No} one sig c1_at1 extends c1_at1_type one sig c1_at2 extends c1_at2_type one sig class2_name extends ClassattrSet=c2_at1+c2_at2id=c2_at1noparentisAbstract=No} one sig c2_at1 extends c2_at1_type one sig c2_at1 extends c2_at2_type one sig class3_name extends ClassattrSet=c3_at1+c3_at2+c3_at3+c3_at4c3_at5+c3_at6id=c3_at1noparentisAbstract=No} one sig c3_at1 extends c3_at1_type one sig c3_at2 extends c3_at2_type one sig c3_at3 extends c3_at3_type one sig c3_at4 extends c3_at4_type one sig c3_at5 extends c3_at5_type one sig c3_at6 extends c3_at6_type one sig class4_name extends ClassattrSet=c4_at1+c4_at2+c4_at3+c4_at4id=c4_at3noparentisAbstract=No} one sig c4_at1 extends c4_at1_type one sig c4_at2 extends c4_at2_type one sig c4_at3 extends c4_at3_type one sig c4_at4 extends c4_at4_type one sig class5_name extends ClassattrSet=c5_at1 one parent  parentinclass2_nameid=c2_at1isAbstract=No} one sig c5_at1 extends c5_at1_type one sig class6_name extends ClassattrSet=c6_at1_0+c6_at2+c6_at3+c6_at4id=c6_at2noparentisAbstract=No} one sig c6_at1_0 extends c6_at1_type one sig c6_at2 extends c6_at2_type one sig c6_at3 extends c6_at3_type one sig c6_at4 extends c6_at4_type one sig class7_name extends ClassattrSet=c7_at1 one parent  parentinclass2_nameid=c2_at1isAbstract=No} one sig c7_at1 extends c7_at1_type one sig class8_name extends ClassattrSet=c8_at1+c8_at2+c2_at2+c6_at3id=c8_at1noparentisAbstract=No} one sig c8_at1 extends c8_at1_type one sig c8_at2 extends c8_at2_type one sig assoc1 extends  Association src=class8_namedst=class2_name src_multiplicity =src_mlpc dst_multiplicity =dst_mlpc} one sig assoc2 extends  Association src=class2_namedst=class4_name src_multiplicity =src_mlpc2 dst_multiplicity =dst_mlpc} one sig assoc3 extends  Association src=class8_namedst=class3_name src_multiplicity =src_mlpc dst_multiplicity =dst_mlpc} one sig assoc4 extends  Association src=class8_namedst=class4_name src_multiplicity =src_mlpc dst_multiplicity =dst_mlpc} one sig assoc5 extends  Association src=class8_namedst=class6_name src_multiplicity =src_mlpc dst_multiplicity =dst_mlpc2} one sig assoc6 extends  Association src=class6_namedst=class1_name src_multiplicity =src_mlpc dst_multiplicity =dst_mlpc2} one sig assoc7 extends  Association src=class6_namedst=class4_name src_multiplicity =src_mlpc dst_multiplicity =dst_mlpc} one sig assoc8 extends  Association src=class1_namedst=class3_name src_multiplicity =src_mlpc dst_multiplicity =dst_mlpc} one sig assoc9 extends  Association src=class1_namedst=class4_name src_multiplicity =src_mlpc dst_multiplicity =dst_mlpc} one sig assoc10 extends  Association src=class2_namedst=class3_name src_multiplicity =src_mlpc dst_multiplicity =dst_mlpc2} pred show run show ,MappingStrategyforclass1_name:map_str2MappingStrategyforclass6_name:map_str2MappingStrategyforclass2_name:map_str1MappingStrategyforclass5_name:map_str1MappingStrategyforclass7_name:map_str1AssociationStrategyforassoc3:assoc_str1AssociationStrategyforassoc4:assoc_str1AssociationStrategyforassoc7:assoc_str1AssociationStrategyforassoc8:assoc_str1AssociationStrategyforassoc9:assoc_str1AssociationStrategyforassoc5:assoc_str2AssociationStrategyforassoc6:assoc_str2AssociationStrategyforassoc10:assoc_str2,USEOM_name:0;CREATE TABLE `class5_name`(c5_at1`c5_at1_type(64),`c2_at1`c2_at1_typeNOT NULL, KEY `FK_class5_name_c2_at1_idx`(`c2_at1`), PRIMARY  KEY  (`c2_at1`)CREATE TABLE `class2_name`(`c2_at2`c2_at2_type(64),`c2_at1`c2_at1_typeNOT NULL, PRIMARY  KEY  (`c2_at1`)CREATE TABLE `class6_name`(`c6_at4`c6_at4_type(64),`c6_at3`c6_at3_type(64),`c6_at1_0`c6_at1_type(64),`c6_at2`c6_at2_typeNOT NULL, PRIMARY  KEY  (`c6_at2`)CREATE TABLE `class1_name`(`c1_at2`c1_at2_type(64),`c1_at1`c1_at1_typeNOT NULL, PRIMARY  KEY  (`c1_at1`)CREATE TABLE `class7_name`(`c7_at1`c7_at1_type(64),`c2_at1`c2_at1_typeNOT NULL, KEY `FK_class7_name_c2_at1_idx`(`c2_at1`), PRIMARY  KEY  (`c2_at1`)CREATE TABLE `class3_name`(`c3_at6`c3_at6_type,`c3_at5`c3_at5_type,`c3_at4`c3_at4_type,`c3_at3`c3_at3_type,`c3_at2`c3_at2_type,`c3_at1`c3_at1_typeNOT NULL,`c1_at1`int, KEY `FK_class3_name_c1_at1_idx`(`c1_at1`), PRIMARY  KEY  (`c3_at1`)CREATE TABLE `assoc3`(`c8_at1`c8_at1_typeNOT NULL,`c3_at1`c3_at1_typeNOT NULL, KEY `FK_assoc3_c8_at1_idx`(`c8_at1`), KEY `FK_assoc3_c3_at1_idx`(`c3_at1`), PRIMARY  KEY  (`c8_at1`,`c3_at1`)CREATE TABLE `assoc2`(`c4_at3`c4_at3_typeNOT NULL,`c2_at1`c2_at1_typeNOT NULL, KEY `FK_assoc2_c4_at3_idx`(`c4_at3`), KEY `FK_assoc2_c2_at1_idx`(`c2_at1`), PRIMARY  KEY  (`c4_at3`,`c2_at1`)CREATE TABLE `assoc1`(`c8_at1`c8_at1_typeNOT NULL,`c2_at1`c2_at1_typeNOT NULL, KEY `FK_assoc1_c8_at1_idx`(`c8_at1`), KEY `FK_assoc1_c2_at1_idx`(`c2_at1`), PRIMARY  KEY  (`c8_at1`,`c2_at1`)CREATE TABLE `assoc6`(`c6_at2`c6_at2_typeNOT NULL,`c1_at1`c1_at1_typeNOT NULL, KEY `FK_assoc6_c6_at2_idx`(`c6_at2`), KEY `FK_assoc6_c1_at1_idx`(`c1_at1`), PRIMARY  KEY  (`c6_at2`,`c1_at1`)CREATE TABLE `assoc10`(`c3_at1`c3_at1_typeNOT NULL,`c2_at1`c2_at1_typeNOT NULL, KEY `FK_assoc10_c3_at1_idx`(`c3_at1`), KEY `FK_assoc10_c2_at1_idx`(`c2_at1`), PRIMARY  KEY  (`c3_at1`,`c2_at1`)AssociationStrategyforassoc5:assoc_str2`c8_at1`c8_at1_typeNOT NULL,`c6_at2`c6_at2_typeNOT NULL, KEY `FK_assoc5_c8_at1_idx`(`c8_at1`), KEY `FK_assoc5_c6_at2_idx`(`c6_at2`), PRIMARY  KEY  (`c8_at1`,`c6_at2`)CREATE TABLE `class4_name`(`c4_at4`c4_at4_type(64),`c4_at2`c4_at2_type(64),`c4_at1`c4_at1_type(64),`c8_at1`c8_at1_type,`c6_at2`c6_at2_type,`c4_at3`c4_at3_typeNOT NULL, KEY `FK_class4_name_c8_at1_idx`(`c8_at1`), KEY `FK_class4_name_c6_at2_idx`(`c6_at2`), PRIMARY  KEY  (`c4_at3`)CREATE TABLE `assoc9`(`c4_at3`c4_at3_typeNOT NULL,`c1_at1`c1_at1_typeNOT NULL, KEY `FK_assoc9_c4_at3_idx`(`c4_at3`), KEY `FK_assoc9_c1_at1_idx`(`c1_at1`), PRIMARY  KEY  (`c4_at3`,`c1_at1`)CREATE TABLE `class8_name`(`c8_at2`c8_at2_type(64),`c6_at3`c6_at3_type(64),`c8_at1`c8_at1_typeNOT NULL, PRIMARY  KEY  (`c8_at1`) ALTER TABLE `class5_name` ADD CONSTRAINT `FK_class5_name_c2_at1` FOREIGN  KEY  (`c2_at1`) REFERENCES `class2_name`(`c2_at1`) ON DELETE CASCADE ON UPDATE CASCADE , ALTER TABLE `class7_name` ADD CONSTRAINT `FK_class7_name_c2_at1` FOREIGN  KEY  (`c2_at1`) REFERENCES `class2_name`(`c2_at1`) ON DELETE CASCADE ON UPDATE CASCADE , ALTER TABLE `class3_name` ADD CONSTRAINT `FK_class3_name_c1_at1` FOREIGN  KEY  (`c1_at1`) REFERENCES `class1_name`(`c1_at1`) ON DELETE CASCADE ON UPDATE CASCADE , ALTER TABLE `assoc3` ADD CONSTRAINT `FK_assoc3_c8_at1` FOREIGN  KEY  (`c8_at1`) REFERENCES `class8_name`(`c8_at1`) ON DELETE CASCADE ON UPDATE CASCADE , ADD CONSTRAINT `FK_assoc3_c3_at1` FOREIGN  KEY  (`c3_at1`) REFERENCES `class3_name`(`c3_at1`) ON DELETE CASCADE ON UPDATE CASCADE , ALTER TABLE `assoc2` ADD CONSTRAINT `FK_assoc2_c4_at3` FOREIGN  KEY  (`c4_at3`) REFERENCES `class4_name`(`c4_at3`) ON DELETE CASCADE ON UPDATE CASCADE  ADD CONSTRAINT `FK_assoc2_c2_at1` FOREIGN  KEY  (`c2_at1`) REFERENCES `class2_name`(`c2_at1`) ON DELETE CASCADE ON UPDATE CASCADE , ALTER TABLE `assoc1` ADD CONSTRAINT `FK_assoc1_c8_at1` FOREIGN  KEY  (`c8_at1`) REFERENCES `class8_name`(`c8_at1`) ON DELETE CASCADE ON UPDATE CASCADE , ADD CONSTRAINT `FK_assoc1_c2_at1` FOREIGN  KEY  (`c2_at1`) REFERENCES `class2_name`(`c2_at1`) ON DELETE CASCADE ON UPDATE CASCADE ; ALTER TABLE `assoc6` ALTER TABLE `class7_name` ADD CONSTRAINT `FK_assoc6_c1_at1` FOREIGN  KEY  (`c1_at1`) REFERENCES `class1_name`(`c1_at1`) ON DELETE CASCADE ON UPDATE CASCADE , ALTER TABLE `assoc10` ADD CONSTRAINT `FK_assoc10_c3_at1` FOREIGN  KEY  (`c3_at1`) REFERENCES `class3_name`(`c3_at1`) ON DELETE CASCADE ON UPDATE CASCADE , ADD CONSTRAINT `FK_assoc10_c2_at1` FOREIGN  KEY  (`c2_at1`) REFERENCES `class2_name`(`c2_at1`) ON DELETE CASCADE ON UPDATE CASCADE , ALTER TABLE `assoc5` ADD CONSTRAINT `FK_assoc5_c8_at1` FOREIGN  KEY  (`c8_at1`) REFERENCES `class8_name`(`c8_at1`) ON DELETE CASCADE ON UPDATE CASCADE , ADD CONSTRAINT `FK_assoc5_c6_at2` FOREIGN  KEY  (`c6_at2`) REFERENCES `class6_name`(`c6_at2`) ON DELETE CASCADE ON UPDATE CASCADE ; ALTER TABLE `class4_name` ADD CONSTRAINT `FK_class4_name_c8_at1` FOREIGN  KEY  (`c8_at1`) REFERENCES `class8_name`(`c8_at1`) ON DELETE CASCADE ON UPDATE CASCADE , ADD CONSTRAINT `FK_class4_name_c6_at2` FOREIGN  KEY  (`c6_at2`) REFERENCES `class6_name`(`c6_at2`) ON DELETE CASCADE ON UPDATE CASCADE ; ALTER TABLE `assoc9` ADD CONSTRAINT `FK_assoc9_c4_at3` FOREIGN  KEY  (`c4_at3`) REFERENCES `class4_name`(`c4_at3`) ON DELETE CASCADE ON UPDATE CASCADE , ADD CONSTRAINT `FK_assoc9_c1_at1` FOREIGN  KEY  (`c1_at1`) REFERENCES `class1_name`(`c1_at1`) ON DELETE CASCADE ON UPDATE CASCADE '], shape=(1,), dtype=string)\n"
          ]
        }
      ],
      "source": [
        "for example_context_strings, example_target_strings in train_raw.take(1):\n",
        "  print(example_context_strings[:5])\n",
        "  print()\n",
        "  print(example_target_strings[:5])\n",
        "  break"
      ]
    },
    {
      "cell_type": "markdown",
      "metadata": {
        "id": "zCoxLcuN3bwv"
      },
      "source": [
        "### Text preprocessing"
      ]
    },
    {
      "cell_type": "markdown",
      "metadata": {
        "id": "7kwdPcHvzz_a"
      },
      "source": [
        "One of the goals of this tutorial is to build a model that can be exported as a `tf.saved_model`. To make that exported model useful it should take `tf.string` inputs, and return `tf.string` outputs: All the text processing happens inside the model. Mainly using a `layers.TextVectorization` layer."
      ]
    },
    {
      "cell_type": "markdown",
      "metadata": {
        "id": "EOQ5n55X4uDB"
      },
      "source": [
        "#### Standardization"
      ]
    },
    {
      "cell_type": "markdown",
      "metadata": {
        "id": "upKhKAMK4zzI"
      },
      "source": [
        "The model is dealing with multilingual text with a limited vocabulary. So it will be important to standardize the input text.\n",
        "\n",
        "The first step is Unicode normalization to split accented characters and replace compatibility characters with their ASCII equivalents.\n",
        "\n",
        "The `tensorflow_text` package contains a unicode normalize operation, We may or may not decide to Use this for ORM data. I kept it in the experiment"
      ]
    },
    {
      "cell_type": "code",
      "execution_count": null,
      "metadata": {
        "colab": {
          "base_uri": "https://localhost:8080/"
        },
        "id": "mD0e-DWGQ2Vo",
        "outputId": "b63e5210-f1c4-46a9-e815-e005044f472e"
      },
      "outputs": [
        {
          "name": "stdout",
          "output_type": "stream",
          "text": [
            "b'moduleOM_nameopenDeclarationonesigclass1_nameextendsClassattrSet=c1_at1+c1_at2id=c1_at1noparentisAbstract=No}onesigc1_at1extendsc1_at1_typeonesigc1_at2extendsc1_at2_typeonesigclass2_nameextendsClassattrSet=c2_at1+c2_at2+c2_at3+c2_at4id=c2_at1noparentisAbstract=No}onesigc2_at1extendsc2_at1_typeonesigc2_at2extendsc2_at2_typeonesigc2_at3extendsc2_at3_typeonesigc2_at4extendsc2_at4_typeonesigclass3_nameextendsClassattrSet=c3_at1+c3_at2+c3_at3+c3_at4id=c3_at1noparentisAbstract=No}onesigc3_at1extendsc3_at1_typeonesigc3_at2extendsc3_at2_typeonesigc3_at3extendsc3_at3_typeonesigc3_at4extendsc3_at4_typeonesigclass4_nameextendsClassattrSet=c4_at1id=c4_at1noparentisAbstract=No}onesigc4_at1extendsc4_at1_typeonesigclass5_nameextendsClassattrSet=c5_at1+c5_at2+c5_at3+c5_at4id=c5_at1noparentisAbstract=No}onesigc5_at1extendsc5_at1_typeonesigc5_at2extendsc5_at2_typeonesigc5_at3extendsc5_at3_typeonesigc5_at4extendsc5_at4_typeonesigclass6_nameextendsClassattrSet=c6_at1+c6_at2+c6_at3+c6_at4id=c6_at1noparentisAbstract=No}onesigc6_at1extendsc6_at1_typeonesigc6_at2extendsc6_at2_typeonesigc6_at3extendsc6_at3_typeonesigc6_at4extendsc6_at4_typeonesigassoc1extendsAssociationsrc=class1_namedst=class5_namesrc_multiplicity=src_mlpcdst_multiplicity=dst_mlpc}onesigassoc2extendsAssociationsrc=class1_namedst=class5_namesrc_multiplicity=src_mlpcdst_multiplicity=dst_mlpc}onesigassoc3extendsAssociationsrc=class4_namedst=class5_namesrc_multiplicity=src_mlpcdst_multiplicity=dst_mlpc}onesigassoc4extendsAssociationsrc=class1_namedst=class6_namesrc_multiplicity=src_mlpcdst_multiplicity=dst_mlpc2}onesigassoc5extendsAssociationsrc=class1_namedst=class3_namesrc_multiplicity=src_mlpcdst_multiplicity=dst_mlpc2}predshowrunshowfor38,\\xe2\\x80\\x8bOM_name_Solution:0Table:class1_nameAttributec1_at1:c1_at1_typePrimaryKeyTable:class1_nameAttributec1_at2:c1_at2_typeTable:class2_nameAttributec2_at1:c1_at1_typePrimaryKeyTable:class2_nameAttributec2_at2:c2_at2_typeTable:class2_nameAttributec2_at3:c2_at3_typeTable:class3_nameAttributec3_at1:c3_at1_typePrimaryKeyTable:class3_nameAttributec3_at4:c3_at4_typeTable:class3_nameAttributec3_at2:c3_at2_typeTable:class4_nameAttributec4_at1:c4_at1_typePrimaryKeyTable:class5_nameAttributec5_at3:c5_at3_typeTable:class5_nameAttributec5_at4:c5_at4_typeTable:class6_nameAttributec6_at1:c6_at1_typePrimaryKeyTable:class6_nameAttributec6_at2:c6_at2_typeTable:class6_nameAttributec6_at3:c6_at3_typeTable:class6_nameAttributec6_at4:c6_at4_typeTable:class1_nameAttributec1_at1:c1_at1_typePrimaryKeyTable:class2_nameAttributec2_at1:c1_at1_typePrimaryKeyTable:class3_nameAttributec3_at1:c3_at1_typePrimaryKeyTable:class4_nameAttributec4_at1:c4_at1_typePrimaryKeyTable:class6_nameAttributec6_at1:c6_at1_typePrimaryKeyTableName:class1_nameTableName:class2_nameTableName:class3_nameTableName:class4_nameTableName:class5_nameTableName:class6_nameMappingStrategyofTableclass1_name:map_str2MappingStrategyofTableclass2_name:map_str2MappingStrategyofTableclass3_name:map_str2MappingStrategyofTableclass4_name:map_str2MappingStrategyofTableclass6_name:map_str2AssociationStrategyforassoc1:assoc_type1AssociationStrategyforassoc2:assoc_type1AssociationStrategyforassoc3:assoc_type2AssociationStrategyforassoc4:assoc_type2AssociationStrategyforassoc5:assoc_type2,USEOM_name0----CREATETABLE`assoc1`(`c5_at1`c5_at1_type`c1_at1`c1_at1_typeKEY`FK_assoc1_c5_at1_idx`(`c5_at1`)KEY`FK_assoc1_c1_at1_idx`(`c1_at1`)PRIMARYKEY(`c5_at1``c1_at1`));----CREATETABLE`assoc3``c5_at1`c5_at1_type`c4_at1`c4_at1_typeKEY`FK_assoc3_c5_at1_idx`(`c5_at1`)KEY`FK_assoc3_c4_at1_idx`(`c4_at1`)PRIMARYKEY(`c5_at1``c4_at1`));----CREATETABLE`class5_name`(`c5_at4`c5_at4_type(64)`c5_at3`c5_at3_type(64)`c1_at1`c1_at1_type`c5_at1`c5_at1_typePRIMARYKEY(`c5_at1`));----CREATETABLE`class3_name`(`c3_at3`c3_at3_type(64)`c3_at2`c3_at2_type(64)`c3_at4`c3_at4_type`c3_at1`c3_at1_typeNOTNULLPRIMARYKEY(`c3_at1`));----CREATETABLE`class2_name`(`c2_at3`c2_at3_type(64)`c2_at2`c2_at2_type(64)`c2_at4`c2_at4_type`c2_at1`c2_at1_typePRIMARYKEY(`c2_at1`));----CREATETABLE`class4_name`(`c4_at1`c4_at1_typePRIMARYKEY(`c4_at1`));----CREATETABLE`class1_name`(`c1_at2`c1_at2_type(64)`c1_at1`c1_at1_typePRIMARYKEY(`c1_at1`));----CREATETABLE`class6_name`(`c6_at4`c6_at4_type`c6_at3`c6_at3_type`c6_at2`c6_at2_type`c6_at1`c6_at1_typeNOTNULLPRIMARYKEY(`c6_at1`));----CREATETABLE`assoc2`(`c5_at1`c5_at1_type`c2_at1`c2_at1_typeKEY`FK_assoc2_c5_at1_idx`(`c5_at1`)KEY`FK_assoc2_c2_at1_idx`(`c2_at1`)PRIMARYKEY(`c5_at1``c2_at1`));----CREATETABLE`assoc5`(`c3_at1`c3_at1_typeNOTNULL`c2_at1`c2_at1_typeKEY`FK_assoc5_c3_at1_idx`(`c3_at1`)KEY`FK_assoc5_c2_at1_idx`(`c2_at1`)PRIMARYKEY(`c3_at1``c2_at1`));----CREATETABLE`assoc4`(`c6_at1`c6_at1_typeNOTNULL`c2_at1`c2_at1_typeKEY`FK_assoc4_c6_at1_idx`(`c6_at1`)KEY`FK_assoc4_c2_at1_idx`(`c2_at1`)PRIMARYKEY(`c6_at1``c2_at1`));ALTERTABLE`assoc1`ADDCONSTRAINT`FK_assoc1_c5_at1`FOREIGNKEY(`c5_at1`)REFERENCES`class5_name`(`c5_at1`)ONDELETECASCADEONUPDATECASCADEADDCONSTRAINT`FK_assoc1_c1_at1`FOREIGNKEY(`c1_at1`)REFERENCES`class1_name`(`c1_at1`)ONDELETECASCADEONUPDATECASCADE;ALTERTABLE`assoc3`ADDCONSTRAINT`FK_assoc3_c5_at1`FOREIGNKEY(`c5_at1`)REFERENCES`class5_name`(`c5_at1`)ONDELETECASCADEONUPDATECASCADEADDCONSTRAINT`FK_assoc3_c4_at1`FOREIGNKEY(`c4_at1`)REFERENCES`class4_name`(`c4_at1`)ONDELETECASCADEONUPDATECASCADE;ALTERTABLE`assoc2`ADDCONSTRAINT`FK_assoc2_c5_at1`FOREIGNKEY(`c5_at1`)REFERENCES`class5_name`(`c5_at1`)ONDELETECASCADEONUPDATECASCADEADDCONSTRAINT`FK_assoc2_c2_at1`FOREIGNKEY(`c2_at1`)REFERENCES`class2_name`(`c2_at1`)ONDELETECASCADEONUPDATECASCADEALTERTABLE`assoc5`ADDCONSTRAINT`FK_assoc5_c3_at1`FOREIGNKEY(`c3_at1`)REFERENCES`class3_name`(`c3_at1`)ONDELETECASCADEONUPDATECASCADEADDCONSTRAINT`FK_assoc5_c2_at1`FOREIGNKEY(`c2_at1`)REFERENCES`class2_name`(`c2_at1`)ONDELETECASCADEONUPDATECASCADE;ALTERTABLE`assoc4`ADDCONSTRAINT`FK_assoc4_c6_at1`FOREIGNKEY(`c6_at1`)REFERENCES`class6_name`(`c6_at1`)ONDELETECASCADEONUPDATECASCADEADDCONSTRAINT`FK_assoc4_c2_at1`FOREIGNKEY(`c2_at1`)REFERENCES`class2_name`(`c2_at1`)ONDELETECASCADEONUPDATECASCADE'\n",
            "b'moduleOM_nameopenDeclarationonesigclass1_nameextendsClassattrSet=c1_at1+c1_at2id=c1_at1noparentisAbstract=No}onesigc1_at1extendsc1_at1_typeonesigc1_at2extendsc1_at2_typeonesigclass2_nameextendsClassattrSet=c2_at1+c2_at2+c2_at3+c2_at4id=c2_at1noparentisAbstract=No}onesigc2_at1extendsc2_at1_typeonesigc2_at2extendsc2_at2_typeonesigc2_at3extendsc2_at3_typeonesigc2_at4extendsc2_at4_typeonesigclass3_nameextendsClassattrSet=c3_at1+c3_at2+c3_at3+c3_at4id=c3_at1noparentisAbstract=No}onesigc3_at1extendsc3_at1_typeonesigc3_at2extendsc3_at2_typeonesigc3_at3extendsc3_at3_typeonesigc3_at4extendsc3_at4_typeonesigclass4_nameextendsClassattrSet=c4_at1id=c4_at1noparentisAbstract=No}onesigc4_at1extendsc4_at1_typeonesigclass5_nameextendsClassattrSet=c5_at1+c5_at2+c5_at3+c5_at4id=c5_at1noparentisAbstract=No}onesigc5_at1extendsc5_at1_typeonesigc5_at2extendsc5_at2_typeonesigc5_at3extendsc5_at3_typeonesigc5_at4extendsc5_at4_typeonesigclass6_nameextendsClassattrSet=c6_at1+c6_at2+c6_at3+c6_at4id=c6_at1noparentisAbstract=No}onesigc6_at1extendsc6_at1_typeonesigc6_at2extendsc6_at2_typeonesigc6_at3extendsc6_at3_typeonesigc6_at4extendsc6_at4_typeonesigassoc1extendsAssociationsrc=class1_namedst=class5_namesrc_multiplicity=src_mlpcdst_multiplicity=dst_mlpc}onesigassoc2extendsAssociationsrc=class1_namedst=class5_namesrc_multiplicity=src_mlpcdst_multiplicity=dst_mlpc}onesigassoc3extendsAssociationsrc=class4_namedst=class5_namesrc_multiplicity=src_mlpcdst_multiplicity=dst_mlpc}onesigassoc4extendsAssociationsrc=class1_namedst=class6_namesrc_multiplicity=src_mlpcdst_multiplicity=dst_mlpc2}onesigassoc5extendsAssociationsrc=class1_namedst=class3_namesrc_multiplicity=src_mlpcdst_multiplicity=dst_mlpc2}predshowrunshowfor38,\\xe2\\x80\\x8bOM_name_Solution:0Table:class1_nameAttributec1_at1:c1_at1_typePrimaryKeyTable:class1_nameAttributec1_at2:c1_at2_typeTable:class2_nameAttributec2_at1:c1_at1_typePrimaryKeyTable:class2_nameAttributec2_at2:c2_at2_typeTable:class2_nameAttributec2_at3:c2_at3_typeTable:class3_nameAttributec3_at1:c3_at1_typePrimaryKeyTable:class3_nameAttributec3_at4:c3_at4_typeTable:class3_nameAttributec3_at2:c3_at2_typeTable:class4_nameAttributec4_at1:c4_at1_typePrimaryKeyTable:class5_nameAttributec5_at3:c5_at3_typeTable:class5_nameAttributec5_at4:c5_at4_typeTable:class6_nameAttributec6_at1:c6_at1_typePrimaryKeyTable:class6_nameAttributec6_at2:c6_at2_typeTable:class6_nameAttributec6_at3:c6_at3_typeTable:class6_nameAttributec6_at4:c6_at4_typeTable:class1_nameAttributec1_at1:c1_at1_typePrimaryKeyTable:class2_nameAttributec2_at1:c1_at1_typePrimaryKeyTable:class3_nameAttributec3_at1:c3_at1_typePrimaryKeyTable:class4_nameAttributec4_at1:c4_at1_typePrimaryKeyTable:class6_nameAttributec6_at1:c6_at1_typePrimaryKeyTableName:class1_nameTableName:class2_nameTableName:class3_nameTableName:class4_nameTableName:class5_nameTableName:class6_nameMappingStrategyofTableclass1_name:map_str2MappingStrategyofTableclass2_name:map_str2MappingStrategyofTableclass3_name:map_str2MappingStrategyofTableclass4_name:map_str2MappingStrategyofTableclass6_name:map_str2AssociationStrategyforassoc1:assoc_type1AssociationStrategyforassoc2:assoc_type1AssociationStrategyforassoc3:assoc_type2AssociationStrategyforassoc4:assoc_type2AssociationStrategyforassoc5:assoc_type2,USEOM_name0----CREATETABLE`assoc1`(`c5_at1`c5_at1_type`c1_at1`c1_at1_typeKEY`FK_assoc1_c5_at1_idx`(`c5_at1`)KEY`FK_assoc1_c1_at1_idx`(`c1_at1`)PRIMARYKEY(`c5_at1``c1_at1`));----CREATETABLE`assoc3``c5_at1`c5_at1_type`c4_at1`c4_at1_typeKEY`FK_assoc3_c5_at1_idx`(`c5_at1`)KEY`FK_assoc3_c4_at1_idx`(`c4_at1`)PRIMARYKEY(`c5_at1``c4_at1`));----CREATETABLE`class5_name`(`c5_at4`c5_at4_type(64)`c5_at3`c5_at3_type(64)`c1_at1`c1_at1_type`c5_at1`c5_at1_typePRIMARYKEY(`c5_at1`));----CREATETABLE`class3_name`(`c3_at3`c3_at3_type(64)`c3_at2`c3_at2_type(64)`c3_at4`c3_at4_type`c3_at1`c3_at1_typeNOTNULLPRIMARYKEY(`c3_at1`));----CREATETABLE`class2_name`(`c2_at3`c2_at3_type(64)`c2_at2`c2_at2_type(64)`c2_at4`c2_at4_type`c2_at1`c2_at1_typePRIMARYKEY(`c2_at1`));----CREATETABLE`class4_name`(`c4_at1`c4_at1_typePRIMARYKEY(`c4_at1`));----CREATETABLE`class1_name`(`c1_at2`c1_at2_type(64)`c1_at1`c1_at1_typePRIMARYKEY(`c1_at1`));----CREATETABLE`class6_name`(`c6_at4`c6_at4_type`c6_at3`c6_at3_type`c6_at2`c6_at2_type`c6_at1`c6_at1_typeNOTNULLPRIMARYKEY(`c6_at1`));----CREATETABLE`assoc2`(`c5_at1`c5_at1_type`c2_at1`c2_at1_typeKEY`FK_assoc2_c5_at1_idx`(`c5_at1`)KEY`FK_assoc2_c2_at1_idx`(`c2_at1`)PRIMARYKEY(`c5_at1``c2_at1`));----CREATETABLE`assoc5`(`c3_at1`c3_at1_typeNOTNULL`c2_at1`c2_at1_typeKEY`FK_assoc5_c3_at1_idx`(`c3_at1`)KEY`FK_assoc5_c2_at1_idx`(`c2_at1`)PRIMARYKEY(`c3_at1``c2_at1`));----CREATETABLE`assoc4`(`c6_at1`c6_at1_typeNOTNULL`c2_at1`c2_at1_typeKEY`FK_assoc4_c6_at1_idx`(`c6_at1`)KEY`FK_assoc4_c2_at1_idx`(`c2_at1`)PRIMARYKEY(`c6_at1``c2_at1`));ALTERTABLE`assoc1`ADDCONSTRAINT`FK_assoc1_c5_at1`FOREIGNKEY(`c5_at1`)REFERENCES`class5_name`(`c5_at1`)ONDELETECASCADEONUPDATECASCADEADDCONSTRAINT`FK_assoc1_c1_at1`FOREIGNKEY(`c1_at1`)REFERENCES`class1_name`(`c1_at1`)ONDELETECASCADEONUPDATECASCADE;ALTERTABLE`assoc3`ADDCONSTRAINT`FK_assoc3_c5_at1`FOREIGNKEY(`c5_at1`)REFERENCES`class5_name`(`c5_at1`)ONDELETECASCADEONUPDATECASCADEADDCONSTRAINT`FK_assoc3_c4_at1`FOREIGNKEY(`c4_at1`)REFERENCES`class4_name`(`c4_at1`)ONDELETECASCADEONUPDATECASCADE;ALTERTABLE`assoc2`ADDCONSTRAINT`FK_assoc2_c5_at1`FOREIGNKEY(`c5_at1`)REFERENCES`class5_name`(`c5_at1`)ONDELETECASCADEONUPDATECASCADEADDCONSTRAINT`FK_assoc2_c2_at1`FOREIGNKEY(`c2_at1`)REFERENCES`class2_name`(`c2_at1`)ONDELETECASCADEONUPDATECASCADEALTERTABLE`assoc5`ADDCONSTRAINT`FK_assoc5_c3_at1`FOREIGNKEY(`c3_at1`)REFERENCES`class3_name`(`c3_at1`)ONDELETECASCADEONUPDATECASCADEADDCONSTRAINT`FK_assoc5_c2_at1`FOREIGNKEY(`c2_at1`)REFERENCES`class2_name`(`c2_at1`)ONDELETECASCADEONUPDATECASCADE;ALTERTABLE`assoc4`ADDCONSTRAINT`FK_assoc4_c6_at1`FOREIGNKEY(`c6_at1`)REFERENCES`class6_name`(`c6_at1`)ONDELETECASCADEONUPDATECASCADEADDCONSTRAINT`FK_assoc4_c2_at1`FOREIGNKEY(`c2_at1`)REFERENCES`class2_name`(`c2_at1`)ONDELETECASCADEONUPDATECASCADE'\n"
          ]
        }
      ],
      "source": [
        "example_text = tf.constant('moduleOM_nameopenDeclarationonesigclass1_nameextendsClassattrSet=c1_at1+c1_at2id=c1_at1noparentisAbstract=No}onesigc1_at1extendsc1_at1_typeonesigc1_at2extendsc1_at2_typeonesigclass2_nameextendsClassattrSet=c2_at1+c2_at2+c2_at3+c2_at4id=c2_at1noparentisAbstract=No}onesigc2_at1extendsc2_at1_typeonesigc2_at2extendsc2_at2_typeonesigc2_at3extendsc2_at3_typeonesigc2_at4extendsc2_at4_typeonesigclass3_nameextendsClassattrSet=c3_at1+c3_at2+c3_at3+c3_at4id=c3_at1noparentisAbstract=No}onesigc3_at1extendsc3_at1_typeonesigc3_at2extendsc3_at2_typeonesigc3_at3extendsc3_at3_typeonesigc3_at4extendsc3_at4_typeonesigclass4_nameextendsClassattrSet=c4_at1id=c4_at1noparentisAbstract=No}onesigc4_at1extendsc4_at1_typeonesigclass5_nameextendsClassattrSet=c5_at1+c5_at2+c5_at3+c5_at4id=c5_at1noparentisAbstract=No}onesigc5_at1extendsc5_at1_typeonesigc5_at2extendsc5_at2_typeonesigc5_at3extendsc5_at3_typeonesigc5_at4extendsc5_at4_typeonesigclass6_nameextendsClassattrSet=c6_at1+c6_at2+c6_at3+c6_at4id=c6_at1noparentisAbstract=No}onesigc6_at1extendsc6_at1_typeonesigc6_at2extendsc6_at2_typeonesigc6_at3extendsc6_at3_typeonesigc6_at4extendsc6_at4_typeonesigassoc1extendsAssociationsrc=class1_namedst=class5_namesrc_multiplicity=src_mlpcdst_multiplicity=dst_mlpc}onesigassoc2extendsAssociationsrc=class1_namedst=class5_namesrc_multiplicity=src_mlpcdst_multiplicity=dst_mlpc}onesigassoc3extendsAssociationsrc=class4_namedst=class5_namesrc_multiplicity=src_mlpcdst_multiplicity=dst_mlpc}onesigassoc4extendsAssociationsrc=class1_namedst=class6_namesrc_multiplicity=src_mlpcdst_multiplicity=dst_mlpc2}onesigassoc5extendsAssociationsrc=class1_namedst=class3_namesrc_multiplicity=src_mlpcdst_multiplicity=dst_mlpc2}predshowrunshowfor38,​OM_name_Solution:0Table:class1_nameAttributec1_at1:c1_at1_typePrimaryKeyTable:class1_nameAttributec1_at2:c1_at2_typeTable:class2_nameAttributec2_at1:c1_at1_typePrimaryKeyTable:class2_nameAttributec2_at2:c2_at2_typeTable:class2_nameAttributec2_at3:c2_at3_typeTable:class3_nameAttributec3_at1:c3_at1_typePrimaryKeyTable:class3_nameAttributec3_at4:c3_at4_typeTable:class3_nameAttributec3_at2:c3_at2_typeTable:class4_nameAttributec4_at1:c4_at1_typePrimaryKeyTable:class5_nameAttributec5_at3:c5_at3_typeTable:class5_nameAttributec5_at4:c5_at4_typeTable:class6_nameAttributec6_at1:c6_at1_typePrimaryKeyTable:class6_nameAttributec6_at2:c6_at2_typeTable:class6_nameAttributec6_at3:c6_at3_typeTable:class6_nameAttributec6_at4:c6_at4_typeTable:class1_nameAttributec1_at1:c1_at1_typePrimaryKeyTable:class2_nameAttributec2_at1:c1_at1_typePrimaryKeyTable:class3_nameAttributec3_at1:c3_at1_typePrimaryKeyTable:class4_nameAttributec4_at1:c4_at1_typePrimaryKeyTable:class6_nameAttributec6_at1:c6_at1_typePrimaryKeyTableName:class1_nameTableName:class2_nameTableName:class3_nameTableName:class4_nameTableName:class5_nameTableName:class6_nameMappingStrategyofTableclass1_name:map_str2MappingStrategyofTableclass2_name:map_str2MappingStrategyofTableclass3_name:map_str2MappingStrategyofTableclass4_name:map_str2MappingStrategyofTableclass6_name:map_str2AssociationStrategyforassoc1:assoc_type1AssociationStrategyforassoc2:assoc_type1AssociationStrategyforassoc3:assoc_type2AssociationStrategyforassoc4:assoc_type2AssociationStrategyforassoc5:assoc_type2,USEOM_name0----CREATETABLE`assoc1`(`c5_at1`c5_at1_type`c1_at1`c1_at1_typeKEY`FK_assoc1_c5_at1_idx`(`c5_at1`)KEY`FK_assoc1_c1_at1_idx`(`c1_at1`)PRIMARYKEY(`c5_at1``c1_at1`));----CREATETABLE`assoc3``c5_at1`c5_at1_type`c4_at1`c4_at1_typeKEY`FK_assoc3_c5_at1_idx`(`c5_at1`)KEY`FK_assoc3_c4_at1_idx`(`c4_at1`)PRIMARYKEY(`c5_at1``c4_at1`));----CREATETABLE`class5_name`(`c5_at4`c5_at4_type(64)`c5_at3`c5_at3_type(64)`c1_at1`c1_at1_type`c5_at1`c5_at1_typePRIMARYKEY(`c5_at1`));----CREATETABLE`class3_name`(`c3_at3`c3_at3_type(64)`c3_at2`c3_at2_type(64)`c3_at4`c3_at4_type`c3_at1`c3_at1_typeNOTNULLPRIMARYKEY(`c3_at1`));----CREATETABLE`class2_name`(`c2_at3`c2_at3_type(64)`c2_at2`c2_at2_type(64)`c2_at4`c2_at4_type`c2_at1`c2_at1_typePRIMARYKEY(`c2_at1`));----CREATETABLE`class4_name`(`c4_at1`c4_at1_typePRIMARYKEY(`c4_at1`));----CREATETABLE`class1_name`(`c1_at2`c1_at2_type(64)`c1_at1`c1_at1_typePRIMARYKEY(`c1_at1`));----CREATETABLE`class6_name`(`c6_at4`c6_at4_type`c6_at3`c6_at3_type`c6_at2`c6_at2_type`c6_at1`c6_at1_typeNOTNULLPRIMARYKEY(`c6_at1`));----CREATETABLE`assoc2`(`c5_at1`c5_at1_type`c2_at1`c2_at1_typeKEY`FK_assoc2_c5_at1_idx`(`c5_at1`)KEY`FK_assoc2_c2_at1_idx`(`c2_at1`)PRIMARYKEY(`c5_at1``c2_at1`));----CREATETABLE`assoc5`(`c3_at1`c3_at1_typeNOTNULL`c2_at1`c2_at1_typeKEY`FK_assoc5_c3_at1_idx`(`c3_at1`)KEY`FK_assoc5_c2_at1_idx`(`c2_at1`)PRIMARYKEY(`c3_at1``c2_at1`));----CREATETABLE`assoc4`(`c6_at1`c6_at1_typeNOTNULL`c2_at1`c2_at1_typeKEY`FK_assoc4_c6_at1_idx`(`c6_at1`)KEY`FK_assoc4_c2_at1_idx`(`c2_at1`)PRIMARYKEY(`c6_at1``c2_at1`));ALTERTABLE`assoc1`ADDCONSTRAINT`FK_assoc1_c5_at1`FOREIGNKEY(`c5_at1`)REFERENCES`class5_name`(`c5_at1`)ONDELETECASCADEONUPDATECASCADEADDCONSTRAINT`FK_assoc1_c1_at1`FOREIGNKEY(`c1_at1`)REFERENCES`class1_name`(`c1_at1`)ONDELETECASCADEONUPDATECASCADE;ALTERTABLE`assoc3`ADDCONSTRAINT`FK_assoc3_c5_at1`FOREIGNKEY(`c5_at1`)REFERENCES`class5_name`(`c5_at1`)ONDELETECASCADEONUPDATECASCADEADDCONSTRAINT`FK_assoc3_c4_at1`FOREIGNKEY(`c4_at1`)REFERENCES`class4_name`(`c4_at1`)ONDELETECASCADEONUPDATECASCADE;ALTERTABLE`assoc2`ADDCONSTRAINT`FK_assoc2_c5_at1`FOREIGNKEY(`c5_at1`)REFERENCES`class5_name`(`c5_at1`)ONDELETECASCADEONUPDATECASCADEADDCONSTRAINT`FK_assoc2_c2_at1`FOREIGNKEY(`c2_at1`)REFERENCES`class2_name`(`c2_at1`)ONDELETECASCADEONUPDATECASCADEALTERTABLE`assoc5`ADDCONSTRAINT`FK_assoc5_c3_at1`FOREIGNKEY(`c3_at1`)REFERENCES`class3_name`(`c3_at1`)ONDELETECASCADEONUPDATECASCADEADDCONSTRAINT`FK_assoc5_c2_at1`FOREIGNKEY(`c2_at1`)REFERENCES`class2_name`(`c2_at1`)ONDELETECASCADEONUPDATECASCADE;ALTERTABLE`assoc4`ADDCONSTRAINT`FK_assoc4_c6_at1`FOREIGNKEY(`c6_at1`)REFERENCES`class6_name`(`c6_at1`)ONDELETECASCADEONUPDATECASCADEADDCONSTRAINT`FK_assoc4_c2_at1`FOREIGNKEY(`c2_at1`)REFERENCES`class2_name`(`c2_at1`)ONDELETECASCADEONUPDATECASCADE')\n",
        "\n",
        "#example_text = tf.constant('class1,table2,obj1,atr1')\n",
        "print(example_text.numpy())\n",
        "print(tf_text.normalize_utf8(example_text, 'NFKD').numpy())"
      ]
    },
    {
      "cell_type": "code",
      "execution_count": null,
      "metadata": {
        "id": "chTF5N885F0P"
      },
      "outputs": [],
      "source": [
        "#import re\n",
        "\n",
        "#def tf_lower_and_split_punct(text):\n",
        "\n",
        "def tf_lower_and_split_punct(text):\n",
        "  # Split accented characters.\n",
        "  text = tf_text.normalize_utf8(text, 'NFKD')\n",
        "  text = tf.strings.lower(text)\n",
        "  # Keep space, a to z, and select punctuation.\n",
        "  text = tf.strings.regex_replace(text, '', '')\n",
        "  # Add spaces around punctuation.\n",
        "  text = tf.strings.regex_replace(text, '', r'')\n",
        "  # Strip whitespace.\n",
        "  text = tf.strings.strip(text)\n",
        "\n",
        "  text = tf.strings.join(['[START]', text, '[END]'], separator=' ')\n",
        "  return text\n",
        "\n",
        "\n",
        "\n"
      ]
    },
    {
      "cell_type": "code",
      "execution_count": null,
      "metadata": {
        "colab": {
          "base_uri": "https://localhost:8080/"
        },
        "id": "UREvDg3sEKYa",
        "outputId": "53ae4369-ccf6-4fa2-929c-da61dd17dbea"
      },
      "outputs": [
        {
          "name": "stdout",
          "output_type": "stream",
          "text": [
            "moduleOM_nameopenDeclarationonesigclass1_nameextendsClassattrSet=c1_at1+c1_at2id=c1_at1noparentisAbstract=No}onesigc1_at1extendsc1_at1_typeonesigc1_at2extendsc1_at2_typeonesigclass2_nameextendsClassattrSet=c2_at1+c2_at2+c2_at3+c2_at4id=c2_at1noparentisAbstract=No}onesigc2_at1extendsc2_at1_typeonesigc2_at2extendsc2_at2_typeonesigc2_at3extendsc2_at3_typeonesigc2_at4extendsc2_at4_typeonesigclass3_nameextendsClassattrSet=c3_at1+c3_at2+c3_at3+c3_at4id=c3_at1noparentisAbstract=No}onesigc3_at1extendsc3_at1_typeonesigc3_at2extendsc3_at2_typeonesigc3_at3extendsc3_at3_typeonesigc3_at4extendsc3_at4_typeonesigclass4_nameextendsClassattrSet=c4_at1id=c4_at1noparentisAbstract=No}onesigc4_at1extendsc4_at1_typeonesigclass5_nameextendsClassattrSet=c5_at1+c5_at2+c5_at3+c5_at4id=c5_at1noparentisAbstract=No}onesigc5_at1extendsc5_at1_typeonesigc5_at2extendsc5_at2_typeonesigc5_at3extendsc5_at3_typeonesigc5_at4extendsc5_at4_typeonesigclass6_nameextendsClassattrSet=c6_at1+c6_at2+c6_at3+c6_at4id=c6_at1noparentisAbstract=No}onesigc6_at1extendsc6_at1_typeonesigc6_at2extendsc6_at2_typeonesigc6_at3extendsc6_at3_typeonesigc6_at4extendsc6_at4_typeonesigassoc1extendsAssociationsrc=class1_namedst=class5_namesrc_multiplicity=src_mlpcdst_multiplicity=dst_mlpc}onesigassoc2extendsAssociationsrc=class1_namedst=class5_namesrc_multiplicity=src_mlpcdst_multiplicity=dst_mlpc}onesigassoc3extendsAssociationsrc=class4_namedst=class5_namesrc_multiplicity=src_mlpcdst_multiplicity=dst_mlpc}onesigassoc4extendsAssociationsrc=class1_namedst=class6_namesrc_multiplicity=src_mlpcdst_multiplicity=dst_mlpc2}onesigassoc5extendsAssociationsrc=class1_namedst=class3_namesrc_multiplicity=src_mlpcdst_multiplicity=dst_mlpc2}predshowrunshowfor38,​OM_name_Solution:0Table:class1_nameAttributec1_at1:c1_at1_typePrimaryKeyTable:class1_nameAttributec1_at2:c1_at2_typeTable:class2_nameAttributec2_at1:c1_at1_typePrimaryKeyTable:class2_nameAttributec2_at2:c2_at2_typeTable:class2_nameAttributec2_at3:c2_at3_typeTable:class3_nameAttributec3_at1:c3_at1_typePrimaryKeyTable:class3_nameAttributec3_at4:c3_at4_typeTable:class3_nameAttributec3_at2:c3_at2_typeTable:class4_nameAttributec4_at1:c4_at1_typePrimaryKeyTable:class5_nameAttributec5_at3:c5_at3_typeTable:class5_nameAttributec5_at4:c5_at4_typeTable:class6_nameAttributec6_at1:c6_at1_typePrimaryKeyTable:class6_nameAttributec6_at2:c6_at2_typeTable:class6_nameAttributec6_at3:c6_at3_typeTable:class6_nameAttributec6_at4:c6_at4_typeTable:class1_nameAttributec1_at1:c1_at1_typePrimaryKeyTable:class2_nameAttributec2_at1:c1_at1_typePrimaryKeyTable:class3_nameAttributec3_at1:c3_at1_typePrimaryKeyTable:class4_nameAttributec4_at1:c4_at1_typePrimaryKeyTable:class6_nameAttributec6_at1:c6_at1_typePrimaryKeyTableName:class1_nameTableName:class2_nameTableName:class3_nameTableName:class4_nameTableName:class5_nameTableName:class6_nameMappingStrategyofTableclass1_name:map_str2MappingStrategyofTableclass2_name:map_str2MappingStrategyofTableclass3_name:map_str2MappingStrategyofTableclass4_name:map_str2MappingStrategyofTableclass6_name:map_str2AssociationStrategyforassoc1:assoc_type1AssociationStrategyforassoc2:assoc_type1AssociationStrategyforassoc3:assoc_type2AssociationStrategyforassoc4:assoc_type2AssociationStrategyforassoc5:assoc_type2,USEOM_name0----CREATETABLE`assoc1`(`c5_at1`c5_at1_type`c1_at1`c1_at1_typeKEY`FK_assoc1_c5_at1_idx`(`c5_at1`)KEY`FK_assoc1_c1_at1_idx`(`c1_at1`)PRIMARYKEY(`c5_at1``c1_at1`));----CREATETABLE`assoc3``c5_at1`c5_at1_type`c4_at1`c4_at1_typeKEY`FK_assoc3_c5_at1_idx`(`c5_at1`)KEY`FK_assoc3_c4_at1_idx`(`c4_at1`)PRIMARYKEY(`c5_at1``c4_at1`));----CREATETABLE`class5_name`(`c5_at4`c5_at4_type(64)`c5_at3`c5_at3_type(64)`c1_at1`c1_at1_type`c5_at1`c5_at1_typePRIMARYKEY(`c5_at1`));----CREATETABLE`class3_name`(`c3_at3`c3_at3_type(64)`c3_at2`c3_at2_type(64)`c3_at4`c3_at4_type`c3_at1`c3_at1_typeNOTNULLPRIMARYKEY(`c3_at1`));----CREATETABLE`class2_name`(`c2_at3`c2_at3_type(64)`c2_at2`c2_at2_type(64)`c2_at4`c2_at4_type`c2_at1`c2_at1_typePRIMARYKEY(`c2_at1`));----CREATETABLE`class4_name`(`c4_at1`c4_at1_typePRIMARYKEY(`c4_at1`));----CREATETABLE`class1_name`(`c1_at2`c1_at2_type(64)`c1_at1`c1_at1_typePRIMARYKEY(`c1_at1`));----CREATETABLE`class6_name`(`c6_at4`c6_at4_type`c6_at3`c6_at3_type`c6_at2`c6_at2_type`c6_at1`c6_at1_typeNOTNULLPRIMARYKEY(`c6_at1`));----CREATETABLE`assoc2`(`c5_at1`c5_at1_type`c2_at1`c2_at1_typeKEY`FK_assoc2_c5_at1_idx`(`c5_at1`)KEY`FK_assoc2_c2_at1_idx`(`c2_at1`)PRIMARYKEY(`c5_at1``c2_at1`));----CREATETABLE`assoc5`(`c3_at1`c3_at1_typeNOTNULL`c2_at1`c2_at1_typeKEY`FK_assoc5_c3_at1_idx`(`c3_at1`)KEY`FK_assoc5_c2_at1_idx`(`c2_at1`)PRIMARYKEY(`c3_at1``c2_at1`));----CREATETABLE`assoc4`(`c6_at1`c6_at1_typeNOTNULL`c2_at1`c2_at1_typeKEY`FK_assoc4_c6_at1_idx`(`c6_at1`)KEY`FK_assoc4_c2_at1_idx`(`c2_at1`)PRIMARYKEY(`c6_at1``c2_at1`));ALTERTABLE`assoc1`ADDCONSTRAINT`FK_assoc1_c5_at1`FOREIGNKEY(`c5_at1`)REFERENCES`class5_name`(`c5_at1`)ONDELETECASCADEONUPDATECASCADEADDCONSTRAINT`FK_assoc1_c1_at1`FOREIGNKEY(`c1_at1`)REFERENCES`class1_name`(`c1_at1`)ONDELETECASCADEONUPDATECASCADE;ALTERTABLE`assoc3`ADDCONSTRAINT`FK_assoc3_c5_at1`FOREIGNKEY(`c5_at1`)REFERENCES`class5_name`(`c5_at1`)ONDELETECASCADEONUPDATECASCADEADDCONSTRAINT`FK_assoc3_c4_at1`FOREIGNKEY(`c4_at1`)REFERENCES`class4_name`(`c4_at1`)ONDELETECASCADEONUPDATECASCADE;ALTERTABLE`assoc2`ADDCONSTRAINT`FK_assoc2_c5_at1`FOREIGNKEY(`c5_at1`)REFERENCES`class5_name`(`c5_at1`)ONDELETECASCADEONUPDATECASCADEADDCONSTRAINT`FK_assoc2_c2_at1`FOREIGNKEY(`c2_at1`)REFERENCES`class2_name`(`c2_at1`)ONDELETECASCADEONUPDATECASCADEALTERTABLE`assoc5`ADDCONSTRAINT`FK_assoc5_c3_at1`FOREIGNKEY(`c3_at1`)REFERENCES`class3_name`(`c3_at1`)ONDELETECASCADEONUPDATECASCADEADDCONSTRAINT`FK_assoc5_c2_at1`FOREIGNKEY(`c2_at1`)REFERENCES`class2_name`(`c2_at1`)ONDELETECASCADEONUPDATECASCADE;ALTERTABLE`assoc4`ADDCONSTRAINT`FK_assoc4_c6_at1`FOREIGNKEY(`c6_at1`)REFERENCES`class6_name`(`c6_at1`)ONDELETECASCADEONUPDATECASCADEADDCONSTRAINT`FK_assoc4_c2_at1`FOREIGNKEY(`c2_at1`)REFERENCES`class2_name`(`c2_at1`)ONDELETECASCADEONUPDATECASCADE\n",
            "[START] moduleom_nameopendeclarationonesigclass1_nameextendsclassattrset=c1_at1+c1_at2id=c1_at1noparentisabstract=no}onesigc1_at1extendsc1_at1_typeonesigc1_at2extendsc1_at2_typeonesigclass2_nameextendsclassattrset=c2_at1+c2_at2+c2_at3+c2_at4id=c2_at1noparentisabstract=no}onesigc2_at1extendsc2_at1_typeonesigc2_at2extendsc2_at2_typeonesigc2_at3extendsc2_at3_typeonesigc2_at4extendsc2_at4_typeonesigclass3_nameextendsclassattrset=c3_at1+c3_at2+c3_at3+c3_at4id=c3_at1noparentisabstract=no}onesigc3_at1extendsc3_at1_typeonesigc3_at2extendsc3_at2_typeonesigc3_at3extendsc3_at3_typeonesigc3_at4extendsc3_at4_typeonesigclass4_nameextendsclassattrset=c4_at1id=c4_at1noparentisabstract=no}onesigc4_at1extendsc4_at1_typeonesigclass5_nameextendsclassattrset=c5_at1+c5_at2+c5_at3+c5_at4id=c5_at1noparentisabstract=no}onesigc5_at1extendsc5_at1_typeonesigc5_at2extendsc5_at2_typeonesigc5_at3extendsc5_at3_typeonesigc5_at4extendsc5_at4_typeonesigclass6_nameextendsclassattrset=c6_at1+c6_at2+c6_at3+c6_at4id=c6_at1noparentisabstract=no}onesigc6_at1extendsc6_at1_typeonesigc6_at2extendsc6_at2_typeonesigc6_at3extendsc6_at3_typeonesigc6_at4extendsc6_at4_typeonesigassoc1extendsassociationsrc=class1_namedst=class5_namesrc_multiplicity=src_mlpcdst_multiplicity=dst_mlpc}onesigassoc2extendsassociationsrc=class1_namedst=class5_namesrc_multiplicity=src_mlpcdst_multiplicity=dst_mlpc}onesigassoc3extendsassociationsrc=class4_namedst=class5_namesrc_multiplicity=src_mlpcdst_multiplicity=dst_mlpc}onesigassoc4extendsassociationsrc=class1_namedst=class6_namesrc_multiplicity=src_mlpcdst_multiplicity=dst_mlpc2}onesigassoc5extendsassociationsrc=class1_namedst=class3_namesrc_multiplicity=src_mlpcdst_multiplicity=dst_mlpc2}predshowrunshowfor38,​om_name_solution:0table:class1_nameattributec1_at1:c1_at1_typeprimarykeytable:class1_nameattributec1_at2:c1_at2_typetable:class2_nameattributec2_at1:c1_at1_typeprimarykeytable:class2_nameattributec2_at2:c2_at2_typetable:class2_nameattributec2_at3:c2_at3_typetable:class3_nameattributec3_at1:c3_at1_typeprimarykeytable:class3_nameattributec3_at4:c3_at4_typetable:class3_nameattributec3_at2:c3_at2_typetable:class4_nameattributec4_at1:c4_at1_typeprimarykeytable:class5_nameattributec5_at3:c5_at3_typetable:class5_nameattributec5_at4:c5_at4_typetable:class6_nameattributec6_at1:c6_at1_typeprimarykeytable:class6_nameattributec6_at2:c6_at2_typetable:class6_nameattributec6_at3:c6_at3_typetable:class6_nameattributec6_at4:c6_at4_typetable:class1_nameattributec1_at1:c1_at1_typeprimarykeytable:class2_nameattributec2_at1:c1_at1_typeprimarykeytable:class3_nameattributec3_at1:c3_at1_typeprimarykeytable:class4_nameattributec4_at1:c4_at1_typeprimarykeytable:class6_nameattributec6_at1:c6_at1_typeprimarykeytablename:class1_nametablename:class2_nametablename:class3_nametablename:class4_nametablename:class5_nametablename:class6_namemappingstrategyoftableclass1_name:map_str2mappingstrategyoftableclass2_name:map_str2mappingstrategyoftableclass3_name:map_str2mappingstrategyoftableclass4_name:map_str2mappingstrategyoftableclass6_name:map_str2associationstrategyforassoc1:assoc_type1associationstrategyforassoc2:assoc_type1associationstrategyforassoc3:assoc_type2associationstrategyforassoc4:assoc_type2associationstrategyforassoc5:assoc_type2,useom_name0----createtable`assoc1`(`c5_at1`c5_at1_type`c1_at1`c1_at1_typekey`fk_assoc1_c5_at1_idx`(`c5_at1`)key`fk_assoc1_c1_at1_idx`(`c1_at1`)primarykey(`c5_at1``c1_at1`));----createtable`assoc3``c5_at1`c5_at1_type`c4_at1`c4_at1_typekey`fk_assoc3_c5_at1_idx`(`c5_at1`)key`fk_assoc3_c4_at1_idx`(`c4_at1`)primarykey(`c5_at1``c4_at1`));----createtable`class5_name`(`c5_at4`c5_at4_type(64)`c5_at3`c5_at3_type(64)`c1_at1`c1_at1_type`c5_at1`c5_at1_typeprimarykey(`c5_at1`));----createtable`class3_name`(`c3_at3`c3_at3_type(64)`c3_at2`c3_at2_type(64)`c3_at4`c3_at4_type`c3_at1`c3_at1_typenotnullprimarykey(`c3_at1`));----createtable`class2_name`(`c2_at3`c2_at3_type(64)`c2_at2`c2_at2_type(64)`c2_at4`c2_at4_type`c2_at1`c2_at1_typeprimarykey(`c2_at1`));----createtable`class4_name`(`c4_at1`c4_at1_typeprimarykey(`c4_at1`));----createtable`class1_name`(`c1_at2`c1_at2_type(64)`c1_at1`c1_at1_typeprimarykey(`c1_at1`));----createtable`class6_name`(`c6_at4`c6_at4_type`c6_at3`c6_at3_type`c6_at2`c6_at2_type`c6_at1`c6_at1_typenotnullprimarykey(`c6_at1`));----createtable`assoc2`(`c5_at1`c5_at1_type`c2_at1`c2_at1_typekey`fk_assoc2_c5_at1_idx`(`c5_at1`)key`fk_assoc2_c2_at1_idx`(`c2_at1`)primarykey(`c5_at1``c2_at1`));----createtable`assoc5`(`c3_at1`c3_at1_typenotnull`c2_at1`c2_at1_typekey`fk_assoc5_c3_at1_idx`(`c3_at1`)key`fk_assoc5_c2_at1_idx`(`c2_at1`)primarykey(`c3_at1``c2_at1`));----createtable`assoc4`(`c6_at1`c6_at1_typenotnull`c2_at1`c2_at1_typekey`fk_assoc4_c6_at1_idx`(`c6_at1`)key`fk_assoc4_c2_at1_idx`(`c2_at1`)primarykey(`c6_at1``c2_at1`));altertable`assoc1`addconstraint`fk_assoc1_c5_at1`foreignkey(`c5_at1`)references`class5_name`(`c5_at1`)ondeletecascadeonupdatecascadeaddconstraint`fk_assoc1_c1_at1`foreignkey(`c1_at1`)references`class1_name`(`c1_at1`)ondeletecascadeonupdatecascade;altertable`assoc3`addconstraint`fk_assoc3_c5_at1`foreignkey(`c5_at1`)references`class5_name`(`c5_at1`)ondeletecascadeonupdatecascadeaddconstraint`fk_assoc3_c4_at1`foreignkey(`c4_at1`)references`class4_name`(`c4_at1`)ondeletecascadeonupdatecascade;altertable`assoc2`addconstraint`fk_assoc2_c5_at1`foreignkey(`c5_at1`)references`class5_name`(`c5_at1`)ondeletecascadeonupdatecascadeaddconstraint`fk_assoc2_c2_at1`foreignkey(`c2_at1`)references`class2_name`(`c2_at1`)ondeletecascadeonupdatecascadealtertable`assoc5`addconstraint`fk_assoc5_c3_at1`foreignkey(`c3_at1`)references`class3_name`(`c3_at1`)ondeletecascadeonupdatecascadeaddconstraint`fk_assoc5_c2_at1`foreignkey(`c2_at1`)references`class2_name`(`c2_at1`)ondeletecascadeonupdatecascade;altertable`assoc4`addconstraint`fk_assoc4_c6_at1`foreignkey(`c6_at1`)references`class6_name`(`c6_at1`)ondeletecascadeonupdatecascadeaddconstraint`fk_assoc4_c2_at1`foreignkey(`c2_at1`)references`class2_name`(`c2_at1`)ondeletecascadeonupdatecascade [END]\n"
          ]
        }
      ],
      "source": [
        "print(example_text.numpy().decode())\n",
        "print(tf_lower_and_split_punct(example_text).numpy().decode())"
      ]
    },
    {
      "cell_type": "markdown",
      "metadata": {
        "id": "4q-sKsSI7xRZ"
      },
      "source": [
        "#### Text Vectorization"
      ]
    },
    {
      "cell_type": "markdown",
      "metadata": {
        "id": "6aKn8qd37abi"
      },
      "source": [
        "This standardization function will be wrapped up in a `tf.keras.layers.TextVectorization` layer which will handle the vocabulary extraction and conversion of input text to sequences of tokens."
      ]
    },
    {
      "cell_type": "code",
      "execution_count": null,
      "metadata": {
        "id": "eAY9k49G3jE_"
      },
      "outputs": [],
      "source": [
        "max_vocab_size = 5000\n",
        "\n",
        "context_text_processor = tf.keras.layers.TextVectorization(\n",
        "    standardize=tf_lower_and_split_punct,\n",
        "    max_tokens=max_vocab_size,\n",
        "    ragged=True)"
      ]
    },
    {
      "cell_type": "markdown",
      "metadata": {
        "id": "7kbC6ODP8IK_"
      },
      "source": [
        "The `TextVectorization` layer and many other [Keras preprocessing layers](https://www.tensorflow.org/guide/keras/preprocessing_layers) have an `adapt` method. This method reads one epoch of the training data, and works a lot like `Model.fit`. This `adapt` method initializes the layer based on the data. Here it determines the vocabulary:"
      ]
    },
    {
      "cell_type": "code",
      "execution_count": null,
      "metadata": {
        "colab": {
          "base_uri": "https://localhost:8080/"
        },
        "id": "bmsI1Yql8FYe",
        "outputId": "a579f89a-01eb-4738-b6a0-0387b246cc84"
      },
      "outputs": [
        {
          "data": {
            "text/plain": [
              "['',\n",
              " '[UNK]',\n",
              " 'key',\n",
              " 'one',\n",
              " 'sig',\n",
              " 'extends',\n",
              " 'on',\n",
              " 'cascade',\n",
              " 'table',\n",
              " 'primary']"
            ]
          },
          "execution_count": 16,
          "metadata": {},
          "output_type": "execute_result"
        }
      ],
      "source": [
        "context_text_processor.adapt(train_raw.map(lambda context, target: context))\n",
        "\n",
        "# Here are the first 10 words from the vocabulary:\n",
        "context_text_processor.get_vocabulary()[:10]"
      ]
    },
    {
      "cell_type": "markdown",
      "metadata": {
        "id": "9kGjIFjX8_Wp"
      },
      "source": [
        "That's the context data  `TextVectorization` layer, now build and `.adapt()` for the Target Data one:"
      ]
    },
    {
      "cell_type": "code",
      "execution_count": null,
      "metadata": {
        "colab": {
          "base_uri": "https://localhost:8080/"
        },
        "id": "jlC4xuZnKLBS",
        "outputId": "0e321685-593f-4738-d8d7-f75b4654ed3d"
      },
      "outputs": [
        {
          "data": {
            "text/plain": [
              "['',\n",
              " '[UNK]',\n",
              " 'key',\n",
              " 'one',\n",
              " 'sig',\n",
              " 'extends',\n",
              " 'on',\n",
              " 'cascade',\n",
              " 'table',\n",
              " 'primary']"
            ]
          },
          "execution_count": 17,
          "metadata": {},
          "output_type": "execute_result"
        }
      ],
      "source": [
        "target_text_processor = tf.keras.layers.TextVectorization(\n",
        "    standardize=tf_lower_and_split_punct,\n",
        "    max_tokens=max_vocab_size,\n",
        "    ragged=True)\n",
        "\n",
        "target_text_processor.adapt(train_raw.map(lambda context, target: target))\n",
        "target_text_processor.get_vocabulary()[:10]"
      ]
    },
    {
      "cell_type": "markdown",
      "metadata": {
        "id": "BWQqlP_s9eIv"
      },
      "source": [
        "Now these layers can convert a batch of strings into a batch of token IDs:"
      ]
    },
    {
      "cell_type": "code",
      "execution_count": null,
      "metadata": {
        "colab": {
          "base_uri": "https://localhost:8080/"
        },
        "id": "9KZxj8IrNZ9S",
        "outputId": "0b61df87-24c0-4241-e269-993f85f13c3d"
      },
      "outputs": [
        {
          "data": {
            "text/plain": [
              "<tf.RaggedTensor [[63, 70, 141, 144, 3, 4, 56, 5, 89, 3, 4, 65, 5, 83, 3, 4, 84, 5, 131, 3,\n",
              "  4, 66, 5, 96, 3, 4, 44, 5, 90, 3, 4, 44, 5, 132, 3, 4, 50, 5, 142, 3, 4,\n",
              "  62, 5, 52, 3, 4, 73, 5, 95, 3, 4, 92, 5, 102, 3, 4, 91, 5, 101, 3, 4,\n",
              "  93, 5, 114, 3, 4, 113, 5, 143, 3, 4, 55, 5, 110, 3, 4, 68, 5, 80, 3, 4,\n",
              "  86, 5, 100, 3, 4, 99, 5, 98, 3, 4, 97, 5, 134, 3, 4, 53, 5, 109, 3, 25,\n",
              "  31, 3, 4, 67, 5, 82, 3, 4, 54, 5, 108, 3, 4, 112, 5, 61, 3, 4, 69, 5,\n",
              "  74, 3, 4, 85, 5, 94, 3, 4, 105, 5, 137, 3, 4, 72, 5, 103, 3, 25, 31, 3,\n",
              "  4, 71, 5, 117, 3, 4, 76, 5, 174, 3, 4, 48, 5, 111, 3, 4, 234, 5, 233, 3,\n",
              "  4, 58, 5, 20, 232, 18, 21, 19, 24, 3, 4, 60, 5, 20, 138, 18, 47, 19, 24,\n",
              "  3, 4, 57, 5, 20, 231, 18, 21, 19, 24, 3, 4, 59, 5, 20, 230, 18, 21, 19,\n",
              "  24, 3, 4, 75, 5, 20, 229, 18, 21, 19, 32, 3, 4, 77, 5, 20, 155, 18, 21,\n",
              "  19, 32, 3, 4, 81, 5, 20, 133, 18, 21, 19, 24, 3, 4, 79, 5, 20, 136, 18,\n",
              "  21, 19, 24, 3, 4, 115, 5, 20, 140, 18, 21, 19, 24, 3, 4, 116, 5, 20,\n",
              "  139, 18, 21, 19, 32, 88, 45, 87, 45, 1225, 8, 291, 16, 2, 198, 9, 2, 28,\n",
              "  8, 270, 16, 9, 2, 28, 8, 183, 16, 9, 2, 120, 8, 119, 16, 9, 2, 104, 8,\n",
              "  226, 16, 2, 225, 9, 2, 28, 8, 184, 127, 2, 196, 9, 2, 106, 8, 277, 274,\n",
              "  16, 2, 275, 2, 276, 9, 2, 278, 8, 181, 36, 16, 2, 178, 2, 175, 9, 2,\n",
              "  128, 8, 244, 36, 16, 2, 243, 2, 149, 9, 2, 259, 8, 153, 39, 16, 2, 152,\n",
              "  2, 177, 9, 2, 122, 8, 182, 36, 16, 2, 179, 2, 180, 9, 2, 446, 176, 16,\n",
              "  2, 171, 2, 118, 9, 2, 237, 8, 366, 16, 2, 263, 2, 190, 9, 2, 130, 8,\n",
              "  256, 39, 16, 2, 254, 2, 255, 9, 2, 279, 8, 332, 16, 9, 2, 38, 17, 8,\n",
              "  185, 15, 14, 197, 12, 2, 26, 11, 27, 6, 13, 7, 6, 10, 7, 22, 17, 8, 121,\n",
              "  15, 14, 224, 12, 2, 26, 11, 27, 6, 13, 7, 6, 10, 7, 22, 17, 8, 145, 15,\n",
              "  14, 195, 12, 2, 29, 11, 30, 6, 13, 7, 6, 10, 7, 22, 17, 8, 191, 15, 14,\n",
              "  273, 12, 2, 38, 11, 41, 6, 13, 7, 6, 10, 7, 22, 15, 14, 269, 12, 2, 40,\n",
              "  11, 42, 6, 13, 7, 6, 10, 7, 22, 17, 8, 124, 15, 14, 172, 12, 2, 43, 11,\n",
              "  46, 6, 13, 7, 6, 10, 7, 15, 14, 160, 12, 2, 26, 11, 27, 6, 13, 7, 6, 10,\n",
              "  7, 22, 17, 8, 135, 15, 14, 242, 12, 2, 38, 11, 41, 6, 13, 7, 6, 10, 7,\n",
              "  22, 15, 14, 188, 12, 2, 26, 11, 27, 6, 13, 7, 6, 10, 7, 23, 17, 8, 150,\n",
              "  17, 8, 121, 15, 14, 169, 12, 2, 29, 11, 30, 6, 13, 7, 6, 10, 7, 22, 17,\n",
              "  8, 147, 15, 14, 173, 12, 2, 40, 11, 42, 6, 13, 7, 6, 10, 7, 22, 15, 14,\n",
              "  146, 12, 2, 26, 11, 27, 6, 13, 7, 6, 10, 7, 22, 17, 8, 78, 15, 14, 170,\n",
              "  12, 2, 38, 11, 41, 6, 13, 7, 6, 10, 7, 22, 15, 14, 107, 12, 2, 34, 11,\n",
              "  33, 6, 13, 7, 6, 10, 7, 23, 17, 8, 123, 15, 14, 262, 12, 2, 38, 11, 41,\n",
              "  6, 13, 7, 6, 10, 7, 22, 15, 14, 189, 12, 2, 34, 11, 33, 6, 13, 7, 6, 10,\n",
              "  7, 23, 17, 8, 154, 15, 14, 252, 12, 2, 43, 11, 46, 6, 13, 7, 6, 10, 7,\n",
              "  22, 15, 14, 253, 12, 2, 29, 11, 30, 6, 13, 7, 6, 10, 7, 23, 64]]>"
            ]
          },
          "execution_count": 18,
          "metadata": {},
          "output_type": "execute_result"
        }
      ],
      "source": [
        "example_tokens = context_text_processor(example_context_strings)\n",
        "example_tokens[:3, :]"
      ]
    },
    {
      "cell_type": "markdown",
      "metadata": {
        "id": "AA9rUn9G9n78"
      },
      "source": [
        "The `get_vocabulary` method can be used to convert token IDs back to text:"
      ]
    },
    {
      "cell_type": "code",
      "execution_count": null,
      "metadata": {
        "colab": {
          "base_uri": "https://localhost:8080/",
          "height": 105
        },
        "id": "98g9rcxGQY0I",
        "outputId": "2837b2c6-6c62-4c00-e1ad-8adda95dad76"
      },
      "outputs": [
        {
          "data": {
            "application/vnd.google.colaboratory.intrinsic+json": {
              "type": "string"
            },
            "text/plain": [
              "'[START] module om_name0 ;opendeclaration one sig class1_name extends classattrset=c1_at1+c1_at2id=c1_at1noparentisabstract=no} one sig c1_at1 extends c1_at1_type one sig c1_at2 extends c1_at2_type one sig class2_name extends classattrset=c2_at1+c2_at2id=c2_at1noparentisabstract=no} one sig c2_at1 extends c2_at1_type one sig c2_at1 extends c2_at2_type one sig class3_name extends classattrset=c3_at1+c3_at2+c3_at3+c3_at4c3_at5+c3_at6id=c3_at1noparentisabstract=no} one sig c3_at1 extends c3_at1_type one sig c3_at2 extends c3_at2_type one sig c3_at3 extends c3_at3_type one sig c3_at4 extends c3_at4_type one sig c3_at5 extends c3_at5_type one sig c3_at6 extends c3_at6_type one sig class4_name extends classattrset=c4_at1+c4_at2+c4_at3+c4_at4id=c4_at3noparentisabstract=no} one sig c4_at1 extends c4_at1_type one sig c4_at2 extends c4_at2_type one sig c4_at3 extends c4_at3_type one sig c4_at4 extends c4_at4_type one sig class5_name extends classattrset=c5_at1 one parent parentinclass2_nameid=c2_at1isabstract=no} one sig c5_at1 extends c5_at1_type one sig class6_name extends classattrset=c6_at1_0+c6_at2+c6_at3+c6_at4id=c6_at2noparentisabstract=no} one sig c6_at1_0 extends c6_at1_type one sig c6_at2 extends c6_at2_type one sig c6_at3 extends c6_at3_type one sig c6_at4 extends c6_at4_type one sig class7_name extends classattrset=c7_at1 one parent parentinclass2_nameid=c2_at1isabstract=no} one sig c7_at1 extends c7_at1_type one sig class8_name extends classattrset=c8_at1+c8_at2+c2_at2+c6_at3id=c8_at1noparentisabstract=no} one sig c8_at1 extends c8_at1_type one sig c8_at2 extends c8_at2_type one sig assoc1 extends association src=class8_namedst=class2_name src_multiplicity =src_mlpc dst_multiplicity =dst_mlpc} one sig assoc2 extends association src=class2_namedst=class4_name src_multiplicity =src_mlpc2 dst_multiplicity =dst_mlpc} one sig assoc3 extends association src=class8_namedst=class3_name src_multiplicity =src_mlpc dst_multiplicity =dst_mlpc} one sig assoc4 extends association src=class8_namedst=class4_name src_multiplicity =src_mlpc dst_multiplicity =dst_mlpc} one sig assoc5 extends association src=class8_namedst=class6_name src_multiplicity =src_mlpc dst_multiplicity =dst_mlpc2} one sig assoc6 extends association src=class6_namedst=class1_name src_multiplicity =src_mlpc dst_multiplicity =dst_mlpc2} one sig assoc7 extends association src=class6_namedst=class4_name src_multiplicity =src_mlpc dst_multiplicity =dst_mlpc} one sig assoc8 extends association src=class1_namedst=class3_name src_multiplicity =src_mlpc dst_multiplicity =dst_mlpc} one sig assoc9 extends association src=class1_namedst=class4_name src_multiplicity =src_mlpc dst_multiplicity =dst_mlpc} one sig assoc10 extends association src=class2_namedst=class3_name src_multiplicity =src_mlpc dst_multiplicity =dst_mlpc2} pred show run show ,mappingstrategyforclass1_name:map_str2mappingstrategyforclass6_name:map_str2mappingstrategyforclass2_name:map_str1mappingstrategyforclass5_name:map_str1mappingstrategyforclass7_name:map_str1associationstrategyforassoc3:assoc_str1associationstrategyforassoc4:assoc_str1associationstrategyforassoc7:assoc_str1associationstrategyforassoc8:assoc_str1associationstrategyforassoc9:assoc_str1associationstrategyforassoc5:assoc_str2associationstrategyforassoc6:assoc_str2associationstrategyforassoc10:assoc_str2,useom_name:0;create table `class5_name`(c5_at1`c5_at1_type(64),`c2_at1`c2_at1_typenot null, key `fk_class5_name_c2_at1_idx`(`c2_at1`), primary key (`c2_at1`)create table `class2_name`(`c2_at2`c2_at2_type(64),`c2_at1`c2_at1_typenot null, primary key (`c2_at1`)create table `class6_name`(`c6_at4`c6_at4_type(64),`c6_at3`c6_at3_type(64),`c6_at1_0`c6_at1_type(64),`c6_at2`c6_at2_typenot null, primary key (`c6_at2`)create table `class1_name`(`c1_at2`c1_at2_type(64),`c1_at1`c1_at1_typenot null, primary key (`c1_at1`)create table `class7_name`(`c7_at1`c7_at1_type(64),`c2_at1`c2_at1_typenot null, key `fk_class7_name_c2_at1_idx`(`c2_at1`), primary key (`c2_at1`)create table `class3_name`(`c3_at6`c3_at6_type,`c3_at5`c3_at5_type,`c3_at4`c3_at4_type,`c3_at3`c3_at3_type,`c3_at2`c3_at2_type,`c3_at1`c3_at1_typenot null,`c1_at1`int, key `fk_class3_name_c1_at1_idx`(`c1_at1`), primary key (`c3_at1`)create table `assoc3`(`c8_at1`c8_at1_typenot null,`c3_at1`c3_at1_typenot null, key `fk_assoc3_c8_at1_idx`(`c8_at1`), key `fk_assoc3_c3_at1_idx`(`c3_at1`), primary key (`c8_at1`,`c3_at1`)create table `assoc2`(`c4_at3`c4_at3_typenot null,`c2_at1`c2_at1_typenot null, key `fk_assoc2_c4_at3_idx`(`c4_at3`), key `fk_assoc2_c2_at1_idx`(`c2_at1`), primary key (`c4_at3`,`c2_at1`)create table `assoc1`(`c8_at1`c8_at1_typenot null,`c2_at1`c2_at1_typenot null, key `fk_assoc1_c8_at1_idx`(`c8_at1`), key `fk_assoc1_c2_at1_idx`(`c2_at1`), primary key (`c8_at1`,`c2_at1`)create table `assoc6`(`c6_at2`c6_at2_typenot null,`c1_at1`c1_at1_typenot null, key `fk_assoc6_c6_at2_idx`(`c6_at2`), key `fk_assoc6_c1_at1_idx`(`c1_at1`), primary key (`c6_at2`,`c1_at1`)create table `assoc10`(`c3_at1`c3_at1_typenot null,`c2_at1`c2_at1_typenot null, key `fk_assoc10_c3_at1_idx`(`c3_at1`), key `fk_assoc10_c2_at1_idx`(`c2_at1`), primary key (`c3_at1`,`c2_at1`)associationstrategyforassoc5:assoc_str2`c8_at1`c8_at1_typenot null,`c6_at2`c6_at2_typenot null, key `fk_assoc5_c8_at1_idx`(`c8_at1`), key `fk_assoc5_c6_at2_idx`(`c6_at2`), primary key (`c8_at1`,`c6_at2`)create table `class4_name`(`c4_at4`c4_at4_type(64),`c4_at2`c4_at2_type(64),`c4_at1`c4_at1_type(64),`c8_at1`c8_at1_type,`c6_at2`c6_at2_type,`c4_at3`c4_at3_typenot null, key `fk_class4_name_c8_at1_idx`(`c8_at1`), key `fk_class4_name_c6_at2_idx`(`c6_at2`), primary key (`c4_at3`)create table `assoc9`(`c4_at3`c4_at3_typenot null,`c1_at1`c1_at1_typenot null, key `fk_assoc9_c4_at3_idx`(`c4_at3`), key `fk_assoc9_c1_at1_idx`(`c1_at1`), primary key (`c4_at3`,`c1_at1`)create table `class8_name`(`c8_at2`c8_at2_type(64),`c6_at3`c6_at3_type(64),`c8_at1`c8_at1_typenot null, primary key (`c8_at1`) alter table `class5_name` add constraint `fk_class5_name_c2_at1` foreign key (`c2_at1`) references `class2_name`(`c2_at1`) on delete cascade on update cascade , alter table `class7_name` add constraint `fk_class7_name_c2_at1` foreign key (`c2_at1`) references `class2_name`(`c2_at1`) on delete cascade on update cascade , alter table `class3_name` add constraint `fk_class3_name_c1_at1` foreign key (`c1_at1`) references `class1_name`(`c1_at1`) on delete cascade on update cascade , alter table `assoc3` add constraint `fk_assoc3_c8_at1` foreign key (`c8_at1`) references `class8_name`(`c8_at1`) on delete cascade on update cascade , add constraint `fk_assoc3_c3_at1` foreign key (`c3_at1`) references `class3_name`(`c3_at1`) on delete cascade on update cascade , alter table `assoc2` add constraint `fk_assoc2_c4_at3` foreign key (`c4_at3`) references `class4_name`(`c4_at3`) on delete cascade on update cascade add constraint `fk_assoc2_c2_at1` foreign key (`c2_at1`) references `class2_name`(`c2_at1`) on delete cascade on update cascade , alter table `assoc1` add constraint `fk_assoc1_c8_at1` foreign key (`c8_at1`) references `class8_name`(`c8_at1`) on delete cascade on update cascade , add constraint `fk_assoc1_c2_at1` foreign key (`c2_at1`) references `class2_name`(`c2_at1`) on delete cascade on update cascade ; alter table `assoc6` alter table `class7_name` add constraint `fk_assoc6_c1_at1` foreign key (`c1_at1`) references `class1_name`(`c1_at1`) on delete cascade on update cascade , alter table `assoc10` add constraint `fk_assoc10_c3_at1` foreign key (`c3_at1`) references `class3_name`(`c3_at1`) on delete cascade on update cascade , add constraint `fk_assoc10_c2_at1` foreign key (`c2_at1`) references `class2_name`(`c2_at1`) on delete cascade on update cascade , alter table `assoc5` add constraint `fk_assoc5_c8_at1` foreign key (`c8_at1`) references `class8_name`(`c8_at1`) on delete cascade on update cascade , add constraint `fk_assoc5_c6_at2` foreign key (`c6_at2`) references `class6_name`(`c6_at2`) on delete cascade on update cascade ; alter table `class4_name` add constraint `fk_class4_name_c8_at1` foreign key (`c8_at1`) references `class8_name`(`c8_at1`) on delete cascade on update cascade , add constraint `fk_class4_name_c6_at2` foreign key (`c6_at2`) references `class6_name`(`c6_at2`) on delete cascade on update cascade ; alter table `assoc9` add constraint `fk_assoc9_c4_at3` foreign key (`c4_at3`) references `class4_name`(`c4_at3`) on delete cascade on update cascade , add constraint `fk_assoc9_c1_at1` foreign key (`c1_at1`) references `class1_name`(`c1_at1`) on delete cascade on update cascade ; [END]'"
            ]
          },
          "execution_count": 19,
          "metadata": {},
          "output_type": "execute_result"
        }
      ],
      "source": [
        "context_vocab = np.array(context_text_processor.get_vocabulary())\n",
        "tokens = context_vocab[example_tokens[0].numpy()]\n",
        "' '.join(tokens)"
      ]
    },
    {
      "cell_type": "markdown",
      "metadata": {
        "id": "Ot0aCL9t-Ghi"
      },
      "source": [
        "The returned token IDs are zero-padded. This can easily be turned into a mask:"
      ]
    },
    {
      "cell_type": "code",
      "execution_count": null,
      "metadata": {
        "colab": {
          "base_uri": "https://localhost:8080/",
          "height": 469
        },
        "id": "_jx4Or_eFRSz",
        "outputId": "86995051-e3ca-43bd-e895-e7033d542741"
      },
      "outputs": [
        {
          "data": {
            "text/plain": [
              "Text(0.5, 1.0, 'Mask')"
            ]
          },
          "execution_count": 20,
          "metadata": {},
          "output_type": "execute_result"
        },
        {
          "data": {
            "image/png": "[encoded data removed]",
            "text/plain": [
              "<Figure size 640x480 with 2 Axes>"
            ]
          },
          "metadata": {},
          "output_type": "display_data"
        }
      ],
      "source": [
        "plt.subplot(1, 2, 1)\n",
        "plt.pcolormesh(example_tokens.to_tensor())\n",
        "plt.title('Token IDs')\n",
        "\n",
        "plt.subplot(1, 2, 2)\n",
        "plt.pcolormesh(example_tokens.to_tensor() != 0)\n",
        "plt.title('Mask')"
      ]
    },
    {
      "cell_type": "markdown",
      "metadata": {
        "id": "3O0B4XdFlRgc"
      },
      "source": [
        "### Process the dataset\n",
        "\n"
      ]
    },
    {
      "cell_type": "markdown",
      "metadata": {
        "id": "rVCuyuSp_whd"
      },
      "source": [
        "The `process_text` function below converts the `Datasets` of strings, into  0-padded tensors of token IDs. It also converts from a `(context, target)` pair to an `((context, target_in), target_out)` pair for training with `keras.Model.fit`. Keras expects `(inputs, labels)` pairs, the inputs are the `(context, target_in)` and the labels are `target_out`. The difference between `target_in` and `target_out` is that they are shifted by one step relative to eachother, so that at each location the label is the next token."
      ]
    },
    {
      "cell_type": "code",
      "execution_count": null,
      "metadata": {
        "id": "wk5tbZWQl5u1"
      },
      "outputs": [],
      "source": [
        "def process_text(context, target):\n",
        "  context = context_text_processor(context).to_tensor()\n",
        "  target = target_text_processor(target)\n",
        "  targ_in = target[:,:-1].to_tensor()\n",
        "  targ_out = target[:,1:].to_tensor()\n",
        "  return (context, targ_in), targ_out\n",
        "\n",
        "\n",
        "train_ds = train_raw.map(process_text, tf.data.AUTOTUNE)\n",
        "val_ds = val_raw.map(process_text, tf.data.AUTOTUNE)"
      ]
    },
    {
      "cell_type": "markdown",
      "metadata": {
        "id": "4iGi7X2m_tbM"
      },
      "source": [
        "Here is the first sequence of each, from the first batch:"
      ]
    },
    {
      "cell_type": "code",
      "execution_count": null,
      "metadata": {
        "colab": {
          "base_uri": "https://localhost:8080/"
        },
        "id": "woQBWAjLsJkr",
        "outputId": "0956cbc9-11a3-49d6-edb3-7e1a19b4a9cf"
      },
      "outputs": [
        {
          "name": "stdout",
          "output_type": "stream",
          "text": [
            "[ 63  70 248 249 250   3   4  56   5 385]\n",
            "\n",
            "[ 63 156  74 250 251 252   3   4  56   5]\n",
            "[156  74 250 251 252   3   4  56   5 386]\n"
          ]
        }
      ],
      "source": [
        "for (ex_context_tok, ex_tar_in), ex_tar_out in train_ds.take(1):\n",
        "  print(ex_context_tok[0, :10].numpy())\n",
        "  print()\n",
        "  print(ex_tar_in[0, :10].numpy())\n",
        "  print(ex_tar_out[0, :10].numpy())"
      ]
    },
    {
      "cell_type": "markdown",
      "metadata": {
        "id": "TNfHIF71ulLu"
      },
      "source": [
        "## The encoder/decoder\n",
        "\n",
        "  <th colspan=1>This tutorial's model</th>\n",
        "<tr>\n",
        "</table>\n"
      ]
    },
    {
      "cell_type": "markdown",
      "metadata": {
        "id": "gzQWx2saImMV"
      },
      "source": [
        "Before getting into it define constants for the model:"
      ]
    },
    {
      "cell_type": "code",
      "execution_count": null,
      "metadata": {
        "id": "_a9uNz3-IrF-"
      },
      "outputs": [],
      "source": [
        "UNITS = 256"
      ]
    },
    {
      "cell_type": "markdown",
      "metadata": {
        "id": "blNgVbLSzpsr"
      },
      "source": [
        "### The encoder\n",
        "\n",
        "\n",
        "The encoder:\n",
        "\n",
        "1. Takes a list of token IDs (from `context_text_processor`).\n",
        "3. Looks up an embedding vector for each token (Using a `layers.Embedding`).\n",
        "4. Processes the embeddings into a new sequence (Using a bidirectional `layers.GRU`).\n",
        "5. Returns the processed sequence. This will be passed to the attention head."
      ]
    },
    {
      "cell_type": "code",
      "execution_count": null,
      "metadata": {
        "id": "nZ2rI24i3jFg"
      },
      "outputs": [],
      "source": [
        "class Encoder(tf.keras.layers.Layer):\n",
        "  def __init__(self, text_processor, units):\n",
        "    super(Encoder, self).__init__()\n",
        "    self.text_processor = text_processor\n",
        "    self.vocab_size = text_processor.vocabulary_size()\n",
        "    self.units = units\n",
        "\n",
        "    # The embedding layer converts tokens to vectors\n",
        "    self.embedding = tf.keras.layers.Embedding(self.vocab_size, units,\n",
        "                                               mask_zero=True)\n",
        "\n",
        "    # The RNN layer processes those vectors sequentially.\n",
        "    self.rnn = tf.keras.layers.Bidirectional(\n",
        "        merge_mode='sum',\n",
        "        layer=tf.keras.layers.GRU(units,\n",
        "                            # Return the sequence and state\n",
        "                            return_sequences=True,\n",
        "                            recurrent_initializer='glorot_uniform'))\n",
        "\n",
        "  def call(self, x):\n",
        "    shape_checker = ShapeChecker()\n",
        "    shape_checker(x, 'batch s')\n",
        "\n",
        "    # 2. The embedding layer looks up the embedding vector for each token.\n",
        "    x = self.embedding(x)\n",
        "    shape_checker(x, 'batch s units')\n",
        "\n",
        "    # 3. The GRU processes the sequence of embeddings.\n",
        "    x = self.rnn(x)\n",
        "    shape_checker(x, 'batch s units')\n",
        "\n",
        "    # 4. Returns the new sequence of embeddings.\n",
        "    return x\n",
        "\n",
        "  def convert_input(self, texts):\n",
        "    texts = tf.convert_to_tensor(texts)\n",
        "    if len(texts.shape) == 0:\n",
        "      texts = tf.convert_to_tensor(texts)[tf.newaxis]\n",
        "    context = self.text_processor(texts).to_tensor()\n",
        "    context = self(context)\n",
        "    return context"
      ]
    },
    {
      "cell_type": "code",
      "execution_count": null,
      "metadata": {
        "colab": {
          "base_uri": "https://localhost:8080/"
        },
        "id": "60gSVh05Jl6l",
        "outputId": "78fcd386-2cdd-45f6-cf7d-13320265f20b"
      },
      "outputs": [
        {
          "name": "stdout",
          "output_type": "stream",
          "text": [
            "Context tokens, shape (batch, s): (1, 760)\n",
            "Encoder output, shape (batch, s, units): (1, 760, 256)\n"
          ]
        }
      ],
      "source": [
        "# Encode the input sequence.\n",
        "encoder = Encoder(context_text_processor, UNITS)\n",
        "ex_context = encoder(ex_context_tok)\n",
        "\n",
        "print(f'Context tokens, shape (batch, s): {ex_context_tok.shape}')\n",
        "print(f'Encoder output, shape (batch, s, units): {ex_context.shape}')"
      ]
    },
    {
      "cell_type": "markdown",
      "metadata": {
        "id": "45xM_Gl1MgXY"
      },
      "source": [
        "### The attention layer\n",
        "\n",
        "The attention layer lets the decoder access the information extracted by the encoder. It computes a vector from the entire context sequence, and adds that to the decoder's output.\n"
      ]
    },
    {
      "cell_type": "code",
      "execution_count": null,
      "metadata": {
        "id": "-Ql3ymqwD8LS"
      },
      "outputs": [],
      "source": [
        "class CrossAttention(tf.keras.layers.Layer):\n",
        "  def __init__(self, units, **kwargs):\n",
        "    super().__init__()\n",
        "    self.mha = tf.keras.layers.MultiHeadAttention(key_dim=units, num_heads=1, **kwargs)\n",
        "    self.layernorm = tf.keras.layers.LayerNormalization()\n",
        "    self.add = tf.keras.layers.Add()\n",
        "\n",
        "  def call(self, x, context):\n",
        "    shape_checker = ShapeChecker()\n",
        "\n",
        "    shape_checker(x, 'batch t units')\n",
        "    shape_checker(context, 'batch s units')\n",
        "\n",
        "    attn_output, attn_scores = self.mha(\n",
        "       query=x,\n",
        "       value=context,\n",
        "      return_attention_scores=True)\n",
        "\n",
        "    shape_checker(x, 'batch t units')\n",
        "    shape_checker(attn_scores, 'batch heads t s')\n",
        "\n",
        "  #Cache the attention scores for plotting later.\n",
        "    attn_scores = tf.reduce_mean(attn_scores, axis=1)\n",
        "    shape_checker(attn_scores, 'batch t s')\n",
        "    self.last_attention_weights = attn_scores\n",
        "\n",
        "    x = self.add([x, attn_output])\n",
        "    x = self.layernorm(x)\n",
        "\n",
        "    return x"
      ]
    },
    {
      "cell_type": "markdown",
      "metadata": {
        "id": "bRzduCU4tGN6"
      },
      "source": []
    },
    {
      "cell_type": "code",
      "execution_count": null,
      "metadata": {
        "colab": {
          "base_uri": "https://localhost:8080/"
        },
        "id": "VVLdvss3zN4v",
        "outputId": "3fbf373b-3f31-43a4-8daf-5b6ffc280c7a"
      },
      "outputs": [
        {
          "name": "stdout",
          "output_type": "stream",
          "text": [
            "Context sequence, shape (batch, s, units): (1, 760, 256)\n",
            "Target sequence, shape (batch, t, units): (1, 760, 256)\n",
            "Attention result, shape (batch, t, units): (1, 760, 256)\n",
            "Attention weights, shape (batch, t, s):    (1, 760, 760)\n"
          ]
        }
      ],
      "source": [
        "attention_layer = CrossAttention(UNITS)\n",
        "\n",
        "# Attend to the encoded tokens\n",
        "embed = tf.keras.layers.Embedding(target_text_processor.vocabulary_size(),\n",
        "                                 output_dim=UNITS, mask_zero=True)\n",
        "ex_tar_embed = embed(ex_tar_in)\n",
        "\n",
        "result = attention_layer(ex_tar_embed, ex_context)\n",
        "\n",
        "print(f'Context sequence, shape (batch, s, units): {ex_context.shape}')\n",
        "print(f'Target sequence, shape (batch, t, units): {ex_tar_embed.shape}')\n",
        "print(f'Attention result, shape (batch, t, units): {result.shape}')\n",
        "print(f'Attention weights, shape (batch, t, s):    {attention_layer.last_attention_weights.shape}')"
      ]
    },
    {
      "cell_type": "markdown",
      "metadata": {
        "id": "d14A2DcPtQhS"
      },
      "source": []
    },
    {
      "cell_type": "markdown",
      "metadata": {
        "id": "vx9fUhi3Pmwp"
      },
      "source": [
        "The attention weights will sum to `1` over the context sequence, at each location in the target sequence."
      ]
    },
    {
      "cell_type": "code",
      "execution_count": null,
      "metadata": {
        "colab": {
          "base_uri": "https://localhost:8080/"
        },
        "id": "zxyR7cmQPn9P",
        "outputId": "80369235-9224-4e7e-d21a-fd0365b80693"
      },
      "outputs": [
        {
          "data": {
            "text/plain": [
              "array([1.        , 1.        , 1.0000001 , 1.        , 1.        ,\n",
              "       1.        , 0.99999994, 1.        , 1.        , 1.        ,\n",
              "       0.9999999 , 1.        , 1.0000001 , 0.99999994, 1.        ,\n",
              "       1.        , 1.        , 1.        , 0.99999994, 1.        ,\n",
              "       1.        , 1.        , 1.        , 1.        , 1.0000001 ,\n",
              "       0.99999994, 1.        , 1.        , 1.        , 1.0000001 ,\n",
              "       0.99999994, 1.        , 1.        , 1.        , 1.        ,\n",
              "       1.        , 1.        , 1.        , 1.        , 1.        ,\n",
              "       0.99999994, 1.        , 1.        , 1.        , 0.9999999 ,\n",
              "       1.        , 1.0000001 , 0.99999994, 1.        , 1.        ,\n",
              "       1.        , 1.        , 0.99999994, 1.        , 1.        ,\n",
              "       1.        , 1.        , 0.99999994, 1.        , 1.        ,\n",
              "       1.        , 1.        , 0.99999994, 1.        , 1.        ,\n",
              "       1.        , 1.        , 1.        , 1.0000001 , 0.99999994,\n",
              "       1.        , 1.        , 1.        , 1.0000001 , 0.99999994,\n",
              "       1.        , 1.        , 1.        , 1.        , 0.99999994,\n",
              "       1.        , 1.        , 1.        , 1.        , 0.99999994,\n",
              "       1.        , 0.99999994, 0.99999994, 1.        , 1.        ,\n",
              "       1.        , 1.        , 0.99999994, 1.        , 1.        ,\n",
              "       1.        , 1.        , 1.        , 1.        , 1.        ,\n",
              "       1.        , 0.99999994, 1.        , 1.        , 1.        ,\n",
              "       0.99999994, 0.99999994, 1.        , 0.99999994, 0.99999994,\n",
              "       1.        , 1.        , 1.        , 1.        , 0.99999994,\n",
              "       1.        , 1.        , 1.        , 1.        , 0.99999994,\n",
              "       1.        , 1.        , 1.        , 1.        , 1.        ,\n",
              "       1.        , 1.        , 1.        , 1.        , 0.99999994,\n",
              "       1.        , 1.        , 1.        , 1.        , 1.        ,\n",
              "       1.0000001 , 0.99999994, 1.        , 1.        , 1.        ,\n",
              "       1.        , 0.99999994, 1.        , 1.        , 1.        ,\n",
              "       1.        , 0.99999994, 1.        , 1.        , 1.        ,\n",
              "       1.        , 1.        , 1.0000001 , 0.99999994, 1.        ,\n",
              "       1.        , 1.        , 1.        , 0.99999994, 1.        ,\n",
              "       1.        , 1.        , 1.        , 0.99999994, 1.        ,\n",
              "       0.99999994, 1.        , 0.9999999 , 0.99999994, 1.        ,\n",
              "       0.99999994, 1.        , 1.        , 0.99999994, 1.        ,\n",
              "       1.        , 1.        , 1.        , 1.        , 1.        ,\n",
              "       1.        , 1.        , 1.        , 0.99999994, 1.        ,\n",
              "       1.        , 1.        , 0.99999994, 1.        , 1.0000001 ,\n",
              "       0.99999994, 1.        , 1.        , 1.        , 1.        ,\n",
              "       0.99999994, 1.        , 1.        , 1.        , 1.        ,\n",
              "       1.        , 1.        , 1.        , 1.        , 1.        ,\n",
              "       0.99999994, 1.        , 1.        , 1.        , 1.        ,\n",
              "       1.        , 1.        , 1.        , 1.        , 1.        ,\n",
              "       0.99999994, 1.        , 0.99999994, 1.        , 1.        ,\n",
              "       0.99999994, 1.        , 1.        , 0.99999994, 1.        ,\n",
              "       0.99999994, 1.        , 1.        , 0.99999994, 1.        ,\n",
              "       1.        , 1.        , 1.        , 0.99999994, 1.        ,\n",
              "       0.99999994, 1.        , 1.0000001 , 0.99999994, 1.        ,\n",
              "       1.        , 0.99999994, 1.        , 1.        , 1.        ,\n",
              "       0.99999994, 0.99999994, 1.        , 1.        , 1.        ,\n",
              "       1.0000001 , 0.99999994, 1.        , 1.        , 0.99999994,\n",
              "       1.        , 1.        , 1.        , 1.        , 0.99999994,\n",
              "       1.        , 1.        , 1.        , 1.        , 1.        ,\n",
              "       1.0000001 , 0.99999994, 1.        , 1.        , 1.        ,\n",
              "       1.        , 0.99999994, 1.        , 1.        , 1.        ,\n",
              "       1.        , 0.99999994, 1.        , 0.99999994, 1.        ,\n",
              "       0.99999994, 0.99999994, 1.        , 1.        , 1.        ,\n",
              "       1.        , 1.        , 1.        , 1.        , 1.        ,\n",
              "       1.        , 0.99999994, 1.        , 0.9999999 , 1.        ,\n",
              "       1.        , 0.99999994, 1.        , 1.        , 0.99999994,\n",
              "       1.        , 1.        , 1.        , 1.        , 0.99999994,\n",
              "       1.        , 1.        , 1.        , 0.99999994, 0.99999994,\n",
              "       1.        , 1.        , 0.99999994, 1.        , 0.99999994,\n",
              "       1.        , 1.        , 1.        , 1.        , 1.        ,\n",
              "       1.        , 0.9999999 , 0.9999999 , 1.        , 1.        ,\n",
              "       1.        , 1.        , 1.        , 0.9999999 , 1.        ,\n",
              "       1.        , 1.        , 1.        , 0.99999994, 0.9999999 ,\n",
              "       1.        , 1.        , 1.        , 1.        , 0.99999994,\n",
              "       0.9999999 , 1.0000001 , 1.        , 1.        , 1.        ,\n",
              "       1.        , 0.9999999 , 1.        , 1.        , 1.        ,\n",
              "       1.        , 0.99999994, 0.9999999 , 1.        , 1.        ,\n",
              "       1.        , 1.        , 0.99999994, 0.9999999 , 1.        ,\n",
              "       1.        , 1.        , 1.        , 1.        , 1.        ,\n",
              "       1.        , 1.        , 1.        , 1.        , 0.9999999 ,\n",
              "       0.9999999 , 1.        , 1.        , 1.        , 1.        ,\n",
              "       1.        , 0.9999999 , 1.        , 1.0000001 , 0.9999999 ,\n",
              "       1.        , 1.        , 1.        , 1.        , 1.        ,\n",
              "       1.        , 1.        , 0.9999999 , 0.99999994, 1.        ,\n",
              "       1.        , 1.        , 1.        , 1.        , 1.        ,\n",
              "       0.9999999 , 0.99999994, 1.        , 1.        , 1.        ,\n",
              "       1.        , 1.        , 1.        , 1.        , 1.        ,\n",
              "       1.        , 0.9999999 , 1.        , 1.        , 1.        ,\n",
              "       1.        , 1.        , 1.        , 1.        , 1.        ,\n",
              "       1.        , 1.        , 0.9999999 , 1.        , 1.        ,\n",
              "       1.        , 1.        , 1.        , 1.        , 0.99999994,\n",
              "       0.9999999 , 1.        , 1.        , 1.        , 1.        ,\n",
              "       1.        , 1.        , 0.99999994, 0.9999999 , 1.        ,\n",
              "       1.        , 1.        , 1.        , 1.0000001 , 1.        ,\n",
              "       1.        , 1.        , 1.        , 1.        , 0.9999999 ,\n",
              "       1.        , 1.        , 1.        , 1.        , 1.        ,\n",
              "       0.9999999 , 1.        , 1.        , 1.        , 1.        ,\n",
              "       1.        , 1.        , 1.        , 1.        , 1.        ,\n",
              "       1.        , 0.9999999 , 0.99999994, 1.        , 1.        ,\n",
              "       1.        , 1.        , 0.9999999 , 1.0000001 , 1.0000001 ,\n",
              "       1.        , 1.        , 1.        , 1.        , 1.        ,\n",
              "       1.        , 1.        , 1.        , 0.9999999 , 1.        ,\n",
              "       1.        , 1.        , 1.        , 0.9999999 , 1.        ,\n",
              "       1.        , 1.        , 1.        , 1.0000001 , 1.        ,\n",
              "       0.9999999 , 1.        , 1.        , 1.        , 1.        ,\n",
              "       0.99999994, 1.        , 0.99999994, 1.0000001 , 1.        ,\n",
              "       1.        , 1.        , 1.0000001 , 1.        , 1.        ,\n",
              "       1.0000001 , 0.9999999 , 1.        , 0.9999999 , 1.        ,\n",
              "       1.        , 1.        , 1.        , 0.99999994, 1.        ,\n",
              "       1.        , 1.0000001 , 1.        , 1.        , 1.        ,\n",
              "       1.0000001 , 1.        , 1.        , 1.0000001 , 1.        ,\n",
              "       1.        , 1.        , 0.99999994, 1.        , 1.        ,\n",
              "       1.0000001 , 1.        , 1.        , 1.        , 1.0000001 ,\n",
              "       1.        , 1.        , 1.0000001 , 0.9999999 , 1.        ,\n",
              "       0.9999999 , 1.        , 1.        , 1.        , 1.        ,\n",
              "       0.99999994, 1.        , 1.        , 1.0000001 , 1.        ,\n",
              "       1.        , 1.        , 1.0000001 , 1.        , 1.        ,\n",
              "       1.0000001 , 0.9999999 , 1.        , 0.9999999 , 1.        ,\n",
              "       1.        , 1.        , 0.99999994, 0.99999994, 1.        ,\n",
              "       0.99999994, 1.0000001 , 1.        , 1.        , 1.        ,\n",
              "       1.0000001 , 1.        , 1.        , 1.0000001 , 0.9999999 ,\n",
              "       1.        , 0.9999999 , 1.        , 1.        , 1.        ,\n",
              "       1.        , 0.99999994, 1.        , 0.99999994, 1.0000001 ,\n",
              "       1.        , 1.        , 1.        , 1.0000001 , 1.        ,\n",
              "       1.        , 1.0000001 , 1.        , 1.        , 1.        ,\n",
              "       0.99999994, 1.        , 0.99999994, 1.0000001 , 1.        ,\n",
              "       1.        , 1.        , 1.0000001 , 1.        , 1.        ,\n",
              "       1.0000001 , 0.9999999 , 1.        , 0.9999999 , 1.        ,\n",
              "       1.        , 0.9999999 , 1.        , 1.        , 1.        ,\n",
              "       1.        , 0.99999994, 1.        , 0.99999994, 1.0000001 ,\n",
              "       1.        , 1.        , 1.        , 1.0000001 , 1.        ,\n",
              "       1.        , 1.0000001 , 0.9999999 , 1.        , 0.9999999 ,\n",
              "       1.        , 1.        , 1.        , 1.        , 0.99999994,\n",
              "       1.        , 0.99999994, 1.0000001 , 1.        , 1.        ,\n",
              "       1.        , 1.0000001 , 1.        , 1.        , 1.0000001 ,\n",
              "       0.9999999 , 1.        , 0.9999999 , 1.        , 1.        ,\n",
              "       1.        , 1.        , 0.99999994, 1.        , 1.        ,\n",
              "       1.0000001 , 1.        , 1.        , 1.        , 1.0000001 ,\n",
              "       1.        , 1.        , 1.0000001 , 0.9999999 , 1.        ,\n",
              "       1.        , 1.        , 0.99999994, 1.        , 0.99999994,\n",
              "       1.0000001 , 1.        , 1.        , 1.        , 1.0000001 ,\n",
              "       1.        , 1.        , 1.0000001 , 0.9999999 , 1.        ,\n",
              "       0.9999999 , 1.        , 1.        , 1.        , 1.        ,\n",
              "       0.99999994, 1.        , 0.99999994, 1.0000001 , 1.        ,\n",
              "       1.        , 1.        , 1.0000001 , 1.        , 1.        ,\n",
              "       1.0000001 , 0.9999999 , 1.        , 0.9999999 , 0.9999999 ,\n",
              "       1.        , 1.        , 1.        , 0.99999994, 1.        ,\n",
              "       0.99999994, 1.0000001 , 1.        , 1.        , 1.        ,\n",
              "       1.0000001 , 1.        , 1.        , 1.0000001 , 1.        ,\n",
              "       1.        , 0.99999994, 0.99999994, 1.        , 1.        ,\n",
              "       1.0000001 , 1.        , 1.        , 1.        , 1.0000001 ,\n",
              "       1.        , 1.        , 1.0000001 , 0.9999999 , 1.        ,\n",
              "       0.9999999 , 1.        , 1.        , 1.        , 1.        ,\n",
              "       0.99999994, 1.        , 0.99999994, 1.0000001 , 1.        ,\n",
              "       1.        , 1.        , 1.0000001 , 1.        , 1.        ,\n",
              "       1.0000001 , 1.        , 1.        , 1.        , 0.99999994,\n",
              "       1.        , 1.        , 1.0000001 , 1.        , 1.        ,\n",
              "       1.        , 1.0000001 , 1.        , 1.        , 1.0000001 ],\n",
              "      dtype=float32)"
            ]
          },
          "execution_count": 28,
          "metadata": {},
          "output_type": "execute_result"
        }
      ],
      "source": [
        "attention_layer.last_attention_weights[0].numpy().sum(axis=-1)"
      ]
    },
    {
      "cell_type": "markdown",
      "metadata": {
        "id": "AagyXMH-Jhqt"
      },
      "source": [
        "\n",
        "\n",
        "Here are the attention weights across the context sequences at `t=0`:"
      ]
    },
    {
      "cell_type": "code",
      "execution_count": null,
      "metadata": {
        "colab": {
          "base_uri": "https://localhost:8080/",
          "height": 452
        },
        "id": "LDc9M_CUtYWD",
        "outputId": "1bf9a3d8-8991-406d-b9a6-b1dfddc4807f"
      },
      "outputs": [
        {
          "data": {
            "image/png": "[encoded data removed]",
            "text/plain": [
              "<Figure size 640x480 with 2 Axes>"
            ]
          },
          "metadata": {},
          "output_type": "display_data"
        }
      ],
      "source": [
        "attention_weights = attention_layer.last_attention_weights\n",
        "mask=(ex_context_tok != 0).numpy()\n",
        "\n",
        "plt.subplot(1, 2, 1)\n",
        "plt.pcolormesh(mask*attention_weights[:, 0, :])\n",
        "plt.title('Attention weights')\n",
        "\n",
        "plt.subplot(1, 2, 2)\n",
        "plt.pcolormesh(mask)\n",
        "plt.title('Mask');"
      ]
    },
    {
      "cell_type": "markdown",
      "metadata": {
        "id": "Cpq_sCKHtZzS"
      },
      "source": []
    },
    {
      "cell_type": "markdown",
      "metadata": {
        "id": "6Eil-C_NN1rp"
      },
      "source": [
        "Because of the small-random initialization the attention weights are initially all close to `1/(sequence_length)`. The model will learn to make these less uniform as training progresses."
      ]
    },
    {
      "cell_type": "markdown",
      "metadata": {
        "id": "aQ638eHN4iCK"
      },
      "source": [
        "### The decoder\n",
        "\n",
        "The decoder's job is to generate predictions for the next token at each location in the target sequence.\n",
        "\n",
        "1. It looks up embeddings for each token in the target sequence.\n",
        "2. It uses an RNN to process the target sequence, and keep track of what it has generated so far.\n",
        "3. It uses RNN output as the \"query\" to the attention layer, when attending to the encoder's output.\n",
        "4. At each location in the output it predicts the next token.\n"
      ]
    },
    {
      "cell_type": "markdown",
      "metadata": {
        "id": "pZsQJMqNmg_L"
      },
      "source": [
        "Here is the `Decoder` class' initializer. The initializer creates all the necessary layers."
      ]
    },
    {
      "cell_type": "code",
      "execution_count": null,
      "metadata": {
        "id": "erYvHIgAl8kh"
      },
      "outputs": [],
      "source": [
        "class Decoder(tf.keras.layers.Layer):\n",
        "  @classmethod\n",
        "  def add_method(cls, fun):\n",
        "    setattr(cls, fun.__name__, fun)\n",
        "    return fun\n",
        "\n",
        "  def __init__(self, text_processor, units):\n",
        "    super(Decoder, self).__init__()\n",
        "    self.text_processor = text_processor\n",
        "    self.vocab_size = text_processor.vocabulary_size()\n",
        "    self.word_to_id = tf.keras.layers.StringLookup(\n",
        "        vocabulary=text_processor.get_vocabulary(),\n",
        "        mask_token='', oov_token='[UNK]')\n",
        "    self.id_to_word = tf.keras.layers.StringLookup(\n",
        "        vocabulary=text_processor.get_vocabulary(),\n",
        "        mask_token='', oov_token='[UNK]',\n",
        "        invert=True)\n",
        "    self.start_token = self.word_to_id('[START]')\n",
        "    self.end_token = self.word_to_id('[END]')\n",
        "\n",
        "    self.units = units\n",
        "\n",
        "\n",
        "    # 1. The embedding layer converts token IDs to vectors\n",
        "    self.embedding = tf.keras.layers.Embedding(self.vocab_size,\n",
        "                                               units, mask_zero=True)\n",
        "\n",
        "    # 2. The RNN keeps track of what's been generated so far.\n",
        "    self.rnn = tf.keras.layers.GRU(units,\n",
        "                                   return_sequences=True,\n",
        "                                   return_state=True,\n",
        "                                   recurrent_initializer='glorot_uniform')\n",
        "\n",
        "    # 3. The RNN output will be the query for the attention layer.\n",
        "    self.attention = CrossAttention(units)\n",
        "\n",
        "    # 4. This fully connected layer produces the logits for each\n",
        "    # output token.\n",
        "    self.output_layer = tf.keras.layers.Dense(self.vocab_size)"
      ]
    },
    {
      "cell_type": "markdown",
      "metadata": {
        "id": "Sd8-nRNzFR8x"
      },
      "source": [
        "#### Training"
      ]
    },
    {
      "cell_type": "markdown",
      "metadata": {
        "id": "UPnaw583CpnY"
      },
      "source": [
        "Next, the `call` method, takes 3 arguments:\n",
        "\n",
        "* `inputs` -  a `context, x` pair where:\n",
        "  * `context` - is the context from the encoder's output.\n",
        "  * `x` - is the target sequence input.\n",
        "* `state` - Optional, the previous `state` output from the decoder (the internal state of the decoder's RNN). Pass the state from a previous run to continue generating text where you left off.\n",
        "* `return_state` - [Default: False] - Set this to `True` to return the RNN state."
      ]
    },
    {
      "cell_type": "code",
      "execution_count": null,
      "metadata": {
        "id": "PJOi5btHAPNK"
      },
      "outputs": [],
      "source": [
        "@Decoder.add_method\n",
        "def call(self,\n",
        "         context, x,\n",
        "         state=None,\n",
        "         return_state=False):\n",
        "  shape_checker = ShapeChecker()\n",
        "  shape_checker(x, 'batch t')\n",
        "  shape_checker(context, 'batch s units')\n",
        "\n",
        "  # 1. Lookup the embeddings\n",
        "  x = self.embedding(x)\n",
        "  shape_checker(x, 'batch t units')\n",
        "\n",
        "  # 2. Process the target sequence.\n",
        "  x, state = self.rnn(x, initial_state=state)\n",
        "  shape_checker(x, 'batch t units')\n",
        "\n",
        "  # 3. Use the RNN output as the query for the attention over the context.\n",
        "  x = self.attention(x, context)\n",
        "  self.last_attention_weights = self.attention.last_attention_weights\n",
        "  shape_checker(x, 'batch t units')\n",
        "  shape_checker(self.last_attention_weights, 'batch t s')\n",
        "\n",
        "  # Step 4. Generate logit predictions for the next token.\n",
        "  logits = self.output_layer(x)\n",
        "  shape_checker(logits, 'batch t target_vocab_size')\n",
        "\n",
        "  if return_state:\n",
        "    return logits, state\n",
        "  else:\n",
        "    return logits"
      ]
    },
    {
      "cell_type": "markdown",
      "metadata": {
        "id": "E1-mLAcUEXpK"
      },
      "source": [
        "That will be sufficient for training. Create an instance of the decoder to test out:"
      ]
    },
    {
      "cell_type": "code",
      "execution_count": null,
      "metadata": {
        "id": "4ZUMbYXIEVeA"
      },
      "outputs": [],
      "source": [
        "decoder = Decoder(target_text_processor, UNITS)"
      ]
    },
    {
      "cell_type": "markdown",
      "metadata": {
        "id": "SFWaI4wqzt4t"
      },
      "source": [
        "Decoder usage"
      ]
    },
    {
      "cell_type": "code",
      "execution_count": null,
      "metadata": {
        "colab": {
          "base_uri": "https://localhost:8080/"
        },
        "id": "5YM-lD7bzx18",
        "outputId": "ca7cbd21-e454-4009-b8a2-d8e1ee794979"
      },
      "outputs": [
        {
          "name": "stdout",
          "output_type": "stream",
          "text": [
            "encoder output shape: (batch, s, units) (1, 760, 256)\n",
            "input target tokens shape: (batch, t) (1, 760)\n",
            "logits shape shape: (batch, target_vocabulary_size) (1, 760, 5000)\n"
          ]
        }
      ],
      "source": [
        "logits = decoder(ex_context, ex_tar_in)\n",
        "\n",
        "print(f'encoder output shape: (batch, s, units) {ex_context.shape}')\n",
        "print(f'input target tokens shape: (batch, t) {ex_tar_in.shape}')\n",
        "print(f'logits shape shape: (batch, target_vocabulary_size) {logits.shape}')"
      ]
    },
    {
      "cell_type": "markdown",
      "metadata": {
        "id": "zhS_tbk7VQkX"
      },
      "source": [
        "#### Inference\n",
        "\n",
        "For inference usage couple more methods."
      ]
    },
    {
      "cell_type": "code",
      "execution_count": null,
      "metadata": {
        "id": "SPm12cnIVRQr"
      },
      "outputs": [],
      "source": [
        "@Decoder.add_method\n",
        "def get_initial_state(self, context):\n",
        "  batch_size = tf.shape(context)[0]\n",
        "  start_tokens = tf.fill([batch_size, 1], self.start_token)\n",
        "  done = tf.zeros([batch_size, 1], dtype=tf.bool)\n",
        "  embedded = self.embedding(start_tokens)\n",
        "  return start_tokens, done, self.rnn.get_initial_state(embedded)[0]"
      ]
    },
    {
      "cell_type": "code",
      "execution_count": null,
      "metadata": {
        "id": "TzeOhpBvVS5L"
      },
      "outputs": [],
      "source": [
        "@Decoder.add_method\n",
        "def tokens_to_text(self, tokens):\n",
        "  words = self.id_to_word(tokens)\n",
        "  result = tf.strings.reduce_join(words, axis=-1, separator=' ')\n",
        "  result = tf.strings.regex_replace(result, '^ *\\[START\\] *', '')\n",
        "  result = tf.strings.regex_replace(result, ' *\\[END\\] *$', '')\n",
        "  return result"
      ]
    },
    {
      "cell_type": "code",
      "execution_count": null,
      "metadata": {
        "id": "v6ildnz_V1MA"
      },
      "outputs": [],
      "source": [
        "@Decoder.add_method\n",
        "def get_next_token(self, context, next_token, done, state, temperature = 0.0):\n",
        "  logits, state = self(\n",
        "    context, next_token,\n",
        "    state = state,\n",
        "    return_state=True)\n",
        "\n",
        "  if temperature == 0.0:\n",
        "    next_token = tf.argmax(logits, axis=-1)\n",
        "  else:\n",
        "    logits = logits[:, -1, :]/temperature\n",
        "    next_token = tf.random.categorical(logits, num_samples=1)\n",
        "\n",
        "  # If a sequence produces an `end_token`, set it `done`\n",
        "  done = done | (next_token == self.end_token)\n",
        "  # Once a sequence is done it only produces 0-padding.\n",
        "  next_token = tf.where(done, tf.constant(0, dtype=tf.int64), next_token)\n",
        "\n",
        "  return next_token, done, state"
      ]
    },
    {
      "cell_type": "markdown",
      "metadata": {
        "id": "9WiXLrVs-FTE"
      },
      "source": [
        "With those extra functions, you can write a generation loop:"
      ]
    },
    {
      "cell_type": "code",
      "execution_count": null,
      "metadata": {
        "id": "SuehagxL-JBZ"
      },
      "outputs": [],
      "source": [
        "# Setup the loop variables.\n",
        "next_token, done, state = decoder.get_initial_state(ex_context)\n",
        "tokens = []\n",
        "\n",
        "for n in range(10):\n",
        "  # Run one step.\n",
        "  next_token, done, state = decoder.get_next_token(\n",
        "      ex_context, next_token, done, state, temperature=1.0)\n",
        "  # Add the token to the output.\n",
        "  tokens.append(next_token)\n",
        "\n",
        "# Stack all the tokens together.\n",
        "tokens = tf.concat(tokens, axis=-1) # (batch, t)\n",
        "\n",
        "# Convert the tokens back to a a string\n",
        "result = decoder.tokens_to_text(tokens)\n",
        "#result[:3].numpy()"
      ]
    },
    {
      "cell_type": "markdown",
      "metadata": {
        "id": "B6xyru86m914"
      },
      "source": [
        "## The model\n"
      ]
    },
    {
      "cell_type": "code",
      "execution_count": null,
      "metadata": {
        "id": "WWIyuy71TkJT"
      },
      "outputs": [],
      "source": [
        "class Translator(tf.keras.Model):\n",
        "  @classmethod\n",
        "  def add_method(cls, fun):\n",
        "    setattr(cls, fun.__name__, fun)\n",
        "    return fun\n",
        "\n",
        "  def __init__(self, units,\n",
        "               context_text_processor,\n",
        "               target_text_processor):\n",
        "    super().__init__()\n",
        "    # Build the encoder and decoder\n",
        "    encoder = Encoder(context_text_processor, units)\n",
        "    decoder = Decoder(target_text_processor, units)\n",
        "\n",
        "    self.encoder = encoder\n",
        "    self.decoder = decoder\n",
        "\n",
        "  def call(self, inputs):\n",
        "    context, x = inputs\n",
        "    context = self.encoder(context)\n",
        "    logits = self.decoder(context, x)\n",
        "\n",
        "    #TODO(b/250038731): remove this\n",
        "    try:\n",
        "      # Delete the keras mask, so keras doesn't scale the loss+accuracy.\n",
        "      del logits._keras_mask\n",
        "    except AttributeError:\n",
        "      pass\n",
        "\n",
        "    return logits"
      ]
    },
    {
      "cell_type": "markdown",
      "metadata": {
        "id": "5rPi0FkS2iA5"
      },
      "source": [
        "During training the model will be used like this:"
      ]
    },
    {
      "cell_type": "code",
      "execution_count": null,
      "metadata": {
        "colab": {
          "base_uri": "https://localhost:8080/"
        },
        "id": "8vhjTh84K6Mg",
        "outputId": "f8acdbea-74a1-4ab0-e445-150c222bbc59"
      },
      "outputs": [
        {
          "name": "stdout",
          "output_type": "stream",
          "text": [
            "Context tokens, shape: (batch, s, units) (1, 760)\n",
            "Target tokens, shape: (batch, t) (1, 760)\n",
            "logits, shape: (batch, t, target_vocabulary_size) (1, 760, 5000)\n"
          ]
        }
      ],
      "source": [
        "model = Translator(UNITS, context_text_processor, target_text_processor)\n",
        "\n",
        "logits = model((ex_context_tok, ex_tar_in))\n",
        "\n",
        "print(f'Context tokens, shape: (batch, s, units) {ex_context_tok.shape}')\n",
        "print(f'Target tokens, shape: (batch, t) {ex_tar_in.shape}')\n",
        "print(f'logits, shape: (batch, t, target_vocabulary_size) {logits.shape}')"
      ]
    },
    {
      "cell_type": "markdown",
      "metadata": {
        "id": "_ch_71VbIRfK"
      },
      "source": [
        "### Train"
      ]
    },
    {
      "cell_type": "code",
      "execution_count": null,
      "metadata": {
        "id": "WmTHr5iV3jFr"
      },
      "outputs": [],
      "source": [
        "def masked_loss(y_true, y_pred):\n",
        "    # Calculate the loss for each item in the batch.\n",
        "    loss_fn = tf.keras.losses.SparseCategoricalCrossentropy(\n",
        "        from_logits=True, reduction='none')\n",
        "    loss = loss_fn(y_true, y_pred)\n",
        "\n",
        "    # Mask off the losses on padding.\n",
        "    mask = tf.cast(y_true != 0, loss.dtype)\n",
        "    loss *= mask\n",
        "\n",
        "    # Return the total.\n",
        "    return tf.reduce_sum(loss)/tf.reduce_sum(mask)"
      ]
    },
    {
      "cell_type": "code",
      "execution_count": null,
      "metadata": {
        "id": "nRB1CTmQWOIL"
      },
      "outputs": [],
      "source": [
        "def masked_acc(y_true, y_pred):\n",
        "    # Calculate the loss for each item in the batch.\n",
        "    y_pred = tf.argmax(y_pred, axis=-1)\n",
        "    y_pred = tf.cast(y_pred, y_true.dtype)\n",
        "\n",
        "    match = tf.cast(y_true == y_pred, tf.float32)\n",
        "    mask = tf.cast(y_true != 0, tf.float32)\n",
        "\n",
        "    return tf.reduce_sum(match)/tf.reduce_sum(mask)"
      ]
    },
    {
      "cell_type": "markdown",
      "metadata": {
        "id": "f32GuAhw2nXm"
      },
      "source": [
        "Configure the model for training:"
      ]
    },
    {
      "cell_type": "code",
      "execution_count": null,
      "metadata": {
        "id": "9g0DRRvm3l9X"
      },
      "outputs": [],
      "source": [
        "model.compile(optimizer='Adam',\n",
        "              loss=masked_loss,\n",
        "              metrics=[masked_acc, masked_loss])"
      ]
    },
    {
      "cell_type": "markdown",
      "metadata": {
        "id": "5DWLI3pssjnx"
      },
      "source": [
        "The model is randomly initialized, and should give roughly uniform output probabilities. So it's easy to predict what the initial values of the metrics should be:"
      ]
    },
    {
      "cell_type": "code",
      "execution_count": null,
      "metadata": {
        "colab": {
          "base_uri": "https://localhost:8080/"
        },
        "id": "BuP3_LFENMJG",
        "outputId": "e987c6c4-28ea-4bed-8cb3-940897eadac9"
      },
      "outputs": [
        {
          "data": {
            "text/plain": [
              "{'expected_loss': 8.517193, 'expected_acc': 0.0002}"
            ]
          },
          "execution_count": 43,
          "metadata": {},
          "output_type": "execute_result"
        }
      ],
      "source": [
        "vocab_size = 1.0 * target_text_processor.vocabulary_size()\n",
        "\n",
        "{\"expected_loss\": tf.math.log(vocab_size).numpy(),\n",
        " \"expected_acc\": 1/vocab_size}"
      ]
    },
    {
      "cell_type": "markdown",
      "metadata": {
        "id": "frVba49Usd0Z"
      },
      "source": [
        "That should roughly match the values returned by running a few steps of evaluation:"
      ]
    },
    {
      "cell_type": "code",
      "execution_count": null,
      "metadata": {
        "colab": {
          "base_uri": "https://localhost:8080/"
        },
        "id": "8rJITfxEsHKR",
        "outputId": "16364693-387e-4db3-f666-1bea464edc04"
      },
      "outputs": [
        {
          "name": "stdout",
          "output_type": "stream",
          "text": [
            "70/70 [==============================] - 11s 46ms/step - loss: 8.5563 - masked_acc: 2.2046e-05 - masked_loss: 8.5563\n"
          ]
        },
        {
          "data": {
            "text/plain": [
              "{'loss': 8.55628490447998,\n",
              " 'masked_acc': 2.2045855075703003e-05,\n",
              " 'masked_loss': 8.55628490447998}"
            ]
          },
          "execution_count": 44,
          "metadata": {},
          "output_type": "execute_result"
        }
      ],
      "source": [
        "model.evaluate(val_ds, steps=70, return_dict=True)"
      ]
    },
    {
      "cell_type": "code",
      "execution_count": null,
      "metadata": {
        "colab": {
          "base_uri": "https://localhost:8080/"
        },
        "id": "BQd_esVVoSf3",
        "outputId": "ff7c29d8-5173-4a34-d2c7-75ec82f8d5b6"
      },
      "outputs": [
        {
          "name": "stdout",
          "output_type": "stream",
          "text": [
            "Epoch 1/100\n",
            "100/100 [==============================] - 40s 232ms/step - loss: 2.4364 - masked_acc: 0.5909 - masked_loss: 2.4364 - val_loss: 0.8926 - val_masked_acc: 0.8184 - val_masked_loss: 0.8926\n",
            "Epoch 2/100\n",
            "100/100 [==============================] - 15s 154ms/step - loss: 0.5272 - masked_acc: 0.8787 - masked_loss: 0.5272 - val_loss: 0.5151 - val_masked_acc: 0.9118 - val_masked_loss: 0.5151\n",
            "Epoch 3/100\n",
            "100/100 [==============================] - 14s 143ms/step - loss: 0.4066 - masked_acc: 0.9254 - masked_loss: 0.4066 - val_loss: 0.2430 - val_masked_acc: 0.9431 - val_masked_loss: 0.2430\n",
            "Epoch 4/100\n",
            "100/100 [==============================] - 13s 131ms/step - loss: 0.2679 - masked_acc: 0.9484 - masked_loss: 0.2679 - val_loss: 0.1476 - val_masked_acc: 0.9621 - val_masked_loss: 0.1476\n",
            "Epoch 5/100\n",
            "100/100 [==============================] - 12s 121ms/step - loss: 0.2487 - masked_acc: 0.9466 - masked_loss: 0.2487 - val_loss: 0.2287 - val_masked_acc: 0.9513 - val_masked_loss: 0.2287\n",
            "Epoch 6/100\n",
            "100/100 [==============================] - 12s 123ms/step - loss: 0.1897 - masked_acc: 0.9572 - masked_loss: 0.1897 - val_loss: 0.1301 - val_masked_acc: 0.9668 - val_masked_loss: 0.1301\n",
            "Epoch 7/100\n",
            "100/100 [==============================] - 11s 114ms/step - loss: 0.0914 - masked_acc: 0.9731 - masked_loss: 0.0914 - val_loss: 0.0880 - val_masked_acc: 0.9722 - val_masked_loss: 0.0880\n",
            "Epoch 8/100\n",
            "100/100 [==============================] - 12s 119ms/step - loss: 0.1351 - masked_acc: 0.9639 - masked_loss: 0.1351 - val_loss: 0.1501 - val_masked_acc: 0.9635 - val_masked_loss: 0.1501\n",
            "Epoch 9/100\n",
            "100/100 [==============================] - 12s 121ms/step - loss: 0.0837 - masked_acc: 0.9736 - masked_loss: 0.0837 - val_loss: 0.0853 - val_masked_acc: 0.9740 - val_masked_loss: 0.0853\n",
            "Epoch 10/100\n",
            "100/100 [==============================] - 12s 118ms/step - loss: 0.1158 - masked_acc: 0.9692 - masked_loss: 0.1158 - val_loss: 0.0734 - val_masked_acc: 0.9763 - val_masked_loss: 0.0734\n",
            "Epoch 11/100\n",
            "100/100 [==============================] - 11s 108ms/step - loss: 0.0684 - masked_acc: 0.9773 - masked_loss: 0.0684 - val_loss: 0.1490 - val_masked_acc: 0.9634 - val_masked_loss: 0.1490\n",
            "Epoch 12/100\n",
            "100/100 [==============================] - 12s 116ms/step - loss: 0.1458 - masked_acc: 0.9664 - masked_loss: 0.1458 - val_loss: 0.1238 - val_masked_acc: 0.9701 - val_masked_loss: 0.1238\n",
            "Epoch 13/100\n",
            "100/100 [==============================] - 12s 123ms/step - loss: 0.1082 - masked_acc: 0.9692 - masked_loss: 0.1082 - val_loss: 0.1431 - val_masked_acc: 0.9632 - val_masked_loss: 0.1431\n",
            "Epoch 14/100\n",
            "100/100 [==============================] - 12s 117ms/step - loss: 0.0945 - masked_acc: 0.9725 - masked_loss: 0.0945 - val_loss: 0.0715 - val_masked_acc: 0.9772 - val_masked_loss: 0.0715\n",
            "Epoch 15/100\n",
            "100/100 [==============================] - 12s 116ms/step - loss: 0.0756 - masked_acc: 0.9755 - masked_loss: 0.0756 - val_loss: 0.0944 - val_masked_acc: 0.9718 - val_masked_loss: 0.0944\n",
            "Epoch 16/100\n",
            "100/100 [==============================] - 11s 114ms/step - loss: 0.0633 - masked_acc: 0.9792 - masked_loss: 0.0633 - val_loss: 0.0698 - val_masked_acc: 0.9769 - val_masked_loss: 0.0698\n",
            "Epoch 17/100\n",
            "100/100 [==============================] - 12s 116ms/step - loss: 0.0611 - masked_acc: 0.9799 - masked_loss: 0.0611 - val_loss: 0.1867 - val_masked_acc: 0.9604 - val_masked_loss: 0.1867\n",
            "Epoch 18/100\n",
            "100/100 [==============================] - 11s 115ms/step - loss: 0.1039 - masked_acc: 0.9739 - masked_loss: 0.1039 - val_loss: 0.0740 - val_masked_acc: 0.9750 - val_masked_loss: 0.0740\n",
            "Epoch 19/100\n",
            "100/100 [==============================] - 11s 113ms/step - loss: 0.0641 - masked_acc: 0.9793 - masked_loss: 0.0641 - val_loss: 0.0997 - val_masked_acc: 0.9714 - val_masked_loss: 0.0997\n",
            "Epoch 20/100\n",
            "100/100 [==============================] - 11s 114ms/step - loss: 0.0704 - masked_acc: 0.9785 - masked_loss: 0.0704 - val_loss: 0.0720 - val_masked_acc: 0.9792 - val_masked_loss: 0.0720\n",
            "Epoch 21/100\n",
            "100/100 [==============================] - 12s 121ms/step - loss: 0.0799 - masked_acc: 0.9770 - masked_loss: 0.0799 - val_loss: 0.0630 - val_masked_acc: 0.9788 - val_masked_loss: 0.0630\n",
            "Epoch 22/100\n",
            "100/100 [==============================] - 11s 107ms/step - loss: 0.1180 - masked_acc: 0.9714 - masked_loss: 0.1180 - val_loss: 0.1988 - val_masked_acc: 0.9630 - val_masked_loss: 0.1988\n",
            "Epoch 23/100\n",
            "100/100 [==============================] - 12s 117ms/step - loss: 0.1262 - masked_acc: 0.9679 - masked_loss: 0.1262 - val_loss: 0.0947 - val_masked_acc: 0.9737 - val_masked_loss: 0.0947\n",
            "Epoch 24/100\n",
            "100/100 [==============================] - 11s 114ms/step - loss: 0.0648 - masked_acc: 0.9799 - masked_loss: 0.0648 - val_loss: 0.0569 - val_masked_acc: 0.9814 - val_masked_loss: 0.0569\n",
            "Epoch 25/100\n",
            "100/100 [==============================] - 11s 113ms/step - loss: 0.0853 - masked_acc: 0.9750 - masked_loss: 0.0853 - val_loss: 0.1566 - val_masked_acc: 0.9711 - val_masked_loss: 0.1566\n",
            "Epoch 26/100\n",
            "100/100 [==============================] - 12s 121ms/step - loss: 0.1038 - masked_acc: 0.9762 - masked_loss: 0.1038 - val_loss: 0.0579 - val_masked_acc: 0.9814 - val_masked_loss: 0.0579\n",
            "Epoch 27/100\n",
            "100/100 [==============================] - 11s 115ms/step - loss: 0.0566 - masked_acc: 0.9812 - masked_loss: 0.0566 - val_loss: 0.0781 - val_masked_acc: 0.9772 - val_masked_loss: 0.0781\n",
            "Epoch 28/100\n",
            "100/100 [==============================] - 12s 116ms/step - loss: 0.0508 - masked_acc: 0.9838 - masked_loss: 0.0508 - val_loss: 0.0696 - val_masked_acc: 0.9798 - val_masked_loss: 0.0696\n",
            "Epoch 29/100\n",
            "100/100 [==============================] - 12s 116ms/step - loss: 0.0540 - masked_acc: 0.9828 - masked_loss: 0.0540 - val_loss: 0.0485 - val_masked_acc: 0.9842 - val_masked_loss: 0.0485\n",
            "Epoch 30/100\n",
            "100/100 [==============================] - 11s 114ms/step - loss: 0.0910 - masked_acc: 0.9779 - masked_loss: 0.0910 - val_loss: 0.0652 - val_masked_acc: 0.9837 - val_masked_loss: 0.0652\n",
            "Epoch 31/100\n",
            "100/100 [==============================] - 14s 143ms/step - loss: 0.0960 - masked_acc: 0.9754 - masked_loss: 0.0960 - val_loss: 0.0588 - val_masked_acc: 0.9809 - val_masked_loss: 0.0588\n",
            "Epoch 32/100\n",
            "100/100 [==============================] - 12s 118ms/step - loss: 0.0864 - masked_acc: 0.9804 - masked_loss: 0.0864 - val_loss: 0.0517 - val_masked_acc: 0.9836 - val_masked_loss: 0.0517\n",
            "Epoch 33/100\n",
            "100/100 [==============================] - 11s 113ms/step - loss: 0.0539 - masked_acc: 0.9835 - masked_loss: 0.0539 - val_loss: 0.1462 - val_masked_acc: 0.9760 - val_masked_loss: 0.1462\n",
            "Epoch 34/100\n",
            "100/100 [==============================] - 13s 132ms/step - loss: 0.0426 - masked_acc: 0.9864 - masked_loss: 0.0426 - val_loss: 0.0541 - val_masked_acc: 0.9843 - val_masked_loss: 0.0541\n",
            "Epoch 35/100\n",
            "100/100 [==============================] - 14s 140ms/step - loss: 0.0636 - masked_acc: 0.9817 - masked_loss: 0.0636 - val_loss: 0.0529 - val_masked_acc: 0.9834 - val_masked_loss: 0.0529\n",
            "Epoch 36/100\n",
            "100/100 [==============================] - 11s 112ms/step - loss: 0.1972 - masked_acc: 0.9646 - masked_loss: 0.1972 - val_loss: 0.0814 - val_masked_acc: 0.9768 - val_masked_loss: 0.0814\n",
            "Epoch 37/100\n",
            "100/100 [==============================] - 11s 113ms/step - loss: 0.0555 - masked_acc: 0.9828 - masked_loss: 0.0555 - val_loss: 0.0624 - val_masked_acc: 0.9831 - val_masked_loss: 0.0624\n",
            "Epoch 38/100\n",
            "100/100 [==============================] - 12s 118ms/step - loss: 0.0636 - masked_acc: 0.9816 - masked_loss: 0.0636 - val_loss: 0.0449 - val_masked_acc: 0.9856 - val_masked_loss: 0.0449\n",
            "Epoch 39/100\n",
            "100/100 [==============================] - 11s 114ms/step - loss: 0.0426 - masked_acc: 0.9870 - masked_loss: 0.0426 - val_loss: 0.0334 - val_masked_acc: 0.9890 - val_masked_loss: 0.0334\n",
            "Epoch 40/100\n",
            "100/100 [==============================] - 10s 105ms/step - loss: 0.0438 - masked_acc: 0.9866 - masked_loss: 0.0438 - val_loss: 0.0396 - val_masked_acc: 0.9875 - val_masked_loss: 0.0396\n",
            "Epoch 41/100\n",
            "100/100 [==============================] - 11s 112ms/step - loss: 0.0853 - masked_acc: 0.9804 - masked_loss: 0.0853 - val_loss: 0.0410 - val_masked_acc: 0.9870 - val_masked_loss: 0.0410\n",
            "Epoch 42/100\n",
            "100/100 [==============================] - 12s 116ms/step - loss: 0.0395 - masked_acc: 0.9878 - masked_loss: 0.0395 - val_loss: 0.0371 - val_masked_acc: 0.9885 - val_masked_loss: 0.0371\n",
            "Epoch 43/100\n",
            "100/100 [==============================] - 11s 115ms/step - loss: 0.0412 - masked_acc: 0.9880 - masked_loss: 0.0412 - val_loss: 0.0332 - val_masked_acc: 0.9896 - val_masked_loss: 0.0332\n",
            "Epoch 44/100\n",
            "100/100 [==============================] - 12s 116ms/step - loss: 0.0491 - masked_acc: 0.9873 - masked_loss: 0.0491 - val_loss: 0.1002 - val_masked_acc: 0.9859 - val_masked_loss: 0.1002\n",
            "Epoch 45/100\n",
            "100/100 [==============================] - 12s 117ms/step - loss: 0.0340 - masked_acc: 0.9900 - masked_loss: 0.0340 - val_loss: 0.0319 - val_masked_acc: 0.9901 - val_masked_loss: 0.0319\n",
            "Epoch 46/100\n",
            "100/100 [==============================] - 12s 119ms/step - loss: 0.0742 - masked_acc: 0.9834 - masked_loss: 0.0742 - val_loss: 0.0346 - val_masked_acc: 0.9895 - val_masked_loss: 0.0346\n",
            "Epoch 47/100\n",
            "100/100 [==============================] - 11s 114ms/step - loss: 0.0862 - masked_acc: 0.9841 - masked_loss: 0.0862 - val_loss: 0.0321 - val_masked_acc: 0.9900 - val_masked_loss: 0.0321\n",
            "Epoch 48/100\n",
            "100/100 [==============================] - 13s 132ms/step - loss: 0.0452 - masked_acc: 0.9874 - masked_loss: 0.0452 - val_loss: 0.0292 - val_masked_acc: 0.9910 - val_masked_loss: 0.0292\n",
            "Epoch 49/100\n",
            "100/100 [==============================] - 12s 116ms/step - loss: 0.0930 - masked_acc: 0.9835 - masked_loss: 0.0930 - val_loss: 0.0349 - val_masked_acc: 0.9907 - val_masked_loss: 0.0349\n",
            "Epoch 50/100\n",
            "100/100 [==============================] - 11s 114ms/step - loss: 0.2195 - masked_acc: 0.9751 - masked_loss: 0.2195 - val_loss: 0.0785 - val_masked_acc: 0.9803 - val_masked_loss: 0.0785\n",
            "Epoch 51/100\n",
            "100/100 [==============================] - 13s 135ms/step - loss: 0.0611 - masked_acc: 0.9835 - masked_loss: 0.0611 - val_loss: 0.0337 - val_masked_acc: 0.9895 - val_masked_loss: 0.0337\n",
            "Epoch 52/100\n",
            "100/100 [==============================] - 11s 113ms/step - loss: 0.0348 - masked_acc: 0.9902 - masked_loss: 0.0348 - val_loss: 0.0375 - val_masked_acc: 0.9882 - val_masked_loss: 0.0375\n",
            "Epoch 53/100\n",
            "100/100 [==============================] - 11s 109ms/step - loss: 0.0786 - masked_acc: 0.9825 - masked_loss: 0.0786 - val_loss: 0.0301 - val_masked_acc: 0.9912 - val_masked_loss: 0.0301\n",
            "Epoch 54/100\n",
            "100/100 [==============================] - 11s 107ms/step - loss: 0.0301 - masked_acc: 0.9918 - masked_loss: 0.0301 - val_loss: 0.0423 - val_masked_acc: 0.9903 - val_masked_loss: 0.0423\n",
            "Epoch 55/100\n",
            "100/100 [==============================] - 12s 116ms/step - loss: 0.0437 - masked_acc: 0.9890 - masked_loss: 0.0437 - val_loss: 0.0300 - val_masked_acc: 0.9918 - val_masked_loss: 0.0300\n",
            "Epoch 56/100\n",
            "100/100 [==============================] - 11s 114ms/step - loss: 0.0220 - masked_acc: 0.9938 - masked_loss: 0.0220 - val_loss: 0.0596 - val_masked_acc: 0.9834 - val_masked_loss: 0.0596\n",
            "Epoch 57/100\n",
            "100/100 [==============================] - 12s 121ms/step - loss: 0.0742 - masked_acc: 0.9835 - masked_loss: 0.0742 - val_loss: 0.0289 - val_masked_acc: 0.9919 - val_masked_loss: 0.0289\n",
            "Epoch 58/100\n",
            "100/100 [==============================] - 11s 115ms/step - loss: 0.0502 - masked_acc: 0.9851 - masked_loss: 0.0502 - val_loss: 0.0246 - val_masked_acc: 0.9925 - val_masked_loss: 0.0246\n",
            "Epoch 59/100\n",
            "100/100 [==============================] - 12s 116ms/step - loss: 0.0280 - masked_acc: 0.9922 - masked_loss: 0.0280 - val_loss: 0.0271 - val_masked_acc: 0.9925 - val_masked_loss: 0.0271\n",
            "Epoch 60/100\n",
            "100/100 [==============================] - 12s 116ms/step - loss: 0.0253 - masked_acc: 0.9934 - masked_loss: 0.0253 - val_loss: 0.0322 - val_masked_acc: 0.9913 - val_masked_loss: 0.0322\n",
            "Epoch 61/100\n",
            "100/100 [==============================] - 12s 117ms/step - loss: 0.2411 - masked_acc: 0.9565 - masked_loss: 0.2411 - val_loss: 0.1796 - val_masked_acc: 0.9635 - val_masked_loss: 0.1796\n",
            "Epoch 62/100\n",
            "100/100 [==============================] - 11s 115ms/step - loss: 0.1166 - masked_acc: 0.9770 - masked_loss: 0.1166 - val_loss: 0.0513 - val_masked_acc: 0.9873 - val_masked_loss: 0.0513\n",
            "Epoch 63/100\n",
            "100/100 [==============================] - 11s 114ms/step - loss: 0.0391 - masked_acc: 0.9894 - masked_loss: 0.0391 - val_loss: 0.0391 - val_masked_acc: 0.9897 - val_masked_loss: 0.0391\n",
            "Epoch 64/100\n",
            "100/100 [==============================] - 11s 111ms/step - loss: 0.0361 - masked_acc: 0.9901 - masked_loss: 0.0361 - val_loss: 0.0297 - val_masked_acc: 0.9914 - val_masked_loss: 0.0297\n",
            "Epoch 65/100\n",
            "100/100 [==============================] - 11s 109ms/step - loss: 0.0303 - masked_acc: 0.9915 - masked_loss: 0.0303 - val_loss: 0.0240 - val_masked_acc: 0.9932 - val_masked_loss: 0.0240\n",
            "Epoch 66/100\n",
            "100/100 [==============================] - 12s 117ms/step - loss: 0.0484 - masked_acc: 0.9849 - masked_loss: 0.0484 - val_loss: 0.0363 - val_masked_acc: 0.9930 - val_masked_loss: 0.0363\n",
            "Epoch 67/100\n",
            "100/100 [==============================] - 11s 115ms/step - loss: 0.1288 - masked_acc: 0.9818 - masked_loss: 0.1288 - val_loss: 0.0467 - val_masked_acc: 0.9890 - val_masked_loss: 0.0467\n",
            "Epoch 68/100\n",
            "100/100 [==============================] - 11s 115ms/step - loss: 0.0693 - masked_acc: 0.9828 - masked_loss: 0.0693 - val_loss: 0.0494 - val_masked_acc: 0.9882 - val_masked_loss: 0.0494\n",
            "Epoch 69/100\n",
            "100/100 [==============================] - 11s 114ms/step - loss: 0.0336 - masked_acc: 0.9913 - masked_loss: 0.0336 - val_loss: 0.0217 - val_masked_acc: 0.9937 - val_masked_loss: 0.0217\n",
            "Epoch 70/100\n",
            "100/100 [==============================] - 12s 121ms/step - loss: 0.0291 - masked_acc: 0.9928 - masked_loss: 0.0291 - val_loss: 0.0270 - val_masked_acc: 0.9933 - val_masked_loss: 0.0270\n",
            "Epoch 71/100\n",
            "100/100 [==============================] - 12s 117ms/step - loss: 0.0742 - masked_acc: 0.9872 - masked_loss: 0.0742 - val_loss: 0.0269 - val_masked_acc: 0.9928 - val_masked_loss: 0.0269\n",
            "Epoch 72/100\n",
            "100/100 [==============================] - 11s 112ms/step - loss: 0.0272 - masked_acc: 0.9928 - masked_loss: 0.0272 - val_loss: 0.0217 - val_masked_acc: 0.9943 - val_masked_loss: 0.0217\n",
            "Epoch 73/100\n",
            "100/100 [==============================] - 13s 131ms/step - loss: 0.0227 - masked_acc: 0.9940 - masked_loss: 0.0227 - val_loss: 0.0193 - val_masked_acc: 0.9950 - val_masked_loss: 0.0193\n",
            "Epoch 74/100\n",
            "100/100 [==============================] - 14s 137ms/step - loss: 0.0257 - masked_acc: 0.9936 - masked_loss: 0.0257 - val_loss: 0.0239 - val_masked_acc: 0.9937 - val_masked_loss: 0.0239\n",
            "Epoch 75/100\n",
            "100/100 [==============================] - 11s 114ms/step - loss: 0.0260 - masked_acc: 0.9945 - masked_loss: 0.0260 - val_loss: 0.0184 - val_masked_acc: 0.9950 - val_masked_loss: 0.0184\n",
            "Epoch 76/100\n",
            "100/100 [==============================] - 11s 115ms/step - loss: 0.0214 - masked_acc: 0.9946 - masked_loss: 0.0214 - val_loss: 0.0259 - val_masked_acc: 0.9938 - val_masked_loss: 0.0259\n",
            "Epoch 77/100\n",
            "100/100 [==============================] - 11s 114ms/step - loss: 0.0680 - masked_acc: 0.9879 - masked_loss: 0.0680 - val_loss: 0.0242 - val_masked_acc: 0.9938 - val_masked_loss: 0.0242\n",
            "Epoch 78/100\n",
            "100/100 [==============================] - 13s 130ms/step - loss: 0.1286 - masked_acc: 0.9813 - masked_loss: 0.1286 - val_loss: 0.0387 - val_masked_acc: 0.9907 - val_masked_loss: 0.0387\n",
            "Epoch 79/100\n",
            "100/100 [==============================] - 13s 132ms/step - loss: 0.0183 - masked_acc: 0.9955 - masked_loss: 0.0183 - val_loss: 0.0263 - val_masked_acc: 0.9934 - val_masked_loss: 0.0263\n",
            "Epoch 80/100\n",
            "100/100 [==============================] - 12s 116ms/step - loss: 0.0194 - masked_acc: 0.9948 - masked_loss: 0.0194 - val_loss: 0.0151 - val_masked_acc: 0.9965 - val_masked_loss: 0.0151\n",
            "Epoch 81/100\n",
            "100/100 [==============================] - 13s 133ms/step - loss: 0.0174 - masked_acc: 0.9959 - masked_loss: 0.0174 - val_loss: 0.0168 - val_masked_acc: 0.9964 - val_masked_loss: 0.0168\n",
            "Epoch 82/100\n",
            "100/100 [==============================] - 13s 133ms/step - loss: 0.0213 - masked_acc: 0.9953 - masked_loss: 0.0213 - val_loss: 0.0212 - val_masked_acc: 0.9953 - val_masked_loss: 0.0212\n",
            "Epoch 83/100\n",
            "100/100 [==============================] - 14s 136ms/step - loss: 0.0155 - masked_acc: 0.9962 - masked_loss: 0.0155 - val_loss: 0.1129 - val_masked_acc: 0.9854 - val_masked_loss: 0.1129\n",
            "Epoch 84/100\n",
            "100/100 [==============================] - 11s 114ms/step - loss: 0.0192 - masked_acc: 0.9954 - masked_loss: 0.0192 - val_loss: 0.0143 - val_masked_acc: 0.9961 - val_masked_loss: 0.0143\n",
            "Epoch 85/100\n",
            "100/100 [==============================] - 11s 112ms/step - loss: 0.0941 - masked_acc: 0.9895 - masked_loss: 0.0941 - val_loss: 0.1099 - val_masked_acc: 0.9850 - val_masked_loss: 0.1099\n",
            "Epoch 86/100\n",
            "100/100 [==============================] - 13s 132ms/step - loss: 0.0211 - masked_acc: 0.9955 - masked_loss: 0.0211 - val_loss: 0.0189 - val_masked_acc: 0.9955 - val_masked_loss: 0.0189\n",
            "Epoch 87/100\n",
            "100/100 [==============================] - 13s 131ms/step - loss: 0.0221 - masked_acc: 0.9954 - masked_loss: 0.0221 - val_loss: 0.0815 - val_masked_acc: 0.9867 - val_masked_loss: 0.0815\n",
            "Epoch 88/100\n",
            "100/100 [==============================] - 14s 141ms/step - loss: 0.0181 - masked_acc: 0.9959 - masked_loss: 0.0181 - val_loss: 0.0242 - val_masked_acc: 0.9953 - val_masked_loss: 0.0242\n",
            "Epoch 89/100\n",
            "100/100 [==============================] - 11s 115ms/step - loss: 0.0188 - masked_acc: 0.9958 - masked_loss: 0.0188 - val_loss: 0.0181 - val_masked_acc: 0.9957 - val_masked_loss: 0.0181\n",
            "Epoch 90/100\n",
            "100/100 [==============================] - 14s 136ms/step - loss: 0.0202 - masked_acc: 0.9952 - masked_loss: 0.0202 - val_loss: 0.1398 - val_masked_acc: 0.9860 - val_masked_loss: 0.1398\n",
            "Epoch 91/100\n",
            "100/100 [==============================] - 12s 118ms/step - loss: 0.0269 - masked_acc: 0.9939 - masked_loss: 0.0269 - val_loss: 0.0273 - val_masked_acc: 0.9932 - val_masked_loss: 0.0273\n",
            "Epoch 92/100\n",
            "100/100 [==============================] - 11s 114ms/step - loss: 0.0196 - masked_acc: 0.9957 - masked_loss: 0.0196 - val_loss: 0.0194 - val_masked_acc: 0.9959 - val_masked_loss: 0.0194\n",
            "Epoch 93/100\n",
            "100/100 [==============================] - 13s 131ms/step - loss: 0.1583 - masked_acc: 0.9825 - masked_loss: 0.1583 - val_loss: 0.2180 - val_masked_acc: 0.9723 - val_masked_loss: 0.2180\n"
          ]
        }
      ],
      "source": [
        "history = model.fit(\n",
        "    train_ds.repeat(),\n",
        "    epochs=100,\n",
        "    steps_per_epoch = 100,\n",
        "    validation_data=val_ds,\n",
        "    validation_steps = 70,\n",
        "    callbacks=[\n",
        "        tf.keras.callbacks.EarlyStopping(patience=9)])"
      ]
    },
    {
      "cell_type": "markdown",
      "metadata": {
        "id": "Uq9lHbPgenz9"
      },
      "source": [
        "## Plotting the Loss from Training"
      ]
    },
    {
      "cell_type": "code",
      "execution_count": null,
      "metadata": {
        "colab": {
          "base_uri": "https://localhost:8080/",
          "height": 466
        },
        "id": "38rLdlmtQHCm",
        "outputId": "a2244db2-45a2-4a21-cf7c-39490bb3fa14"
      },
      "outputs": [
        {
          "data": {
            "text/plain": [
              "<matplotlib.legend.Legend at 0x7f3a5ac2c850>"
            ]
          },
          "execution_count": 46,
          "metadata": {},
          "output_type": "execute_result"
        },
        {
          "data": {
            "image/png": "[encoded data removed]",
            "text/plain": [
              "<Figure size 640x480 with 1 Axes>"
            ]
          },
          "metadata": {},
          "output_type": "display_data"
        }
      ],
      "source": [
        "plt.plot(history.history['loss'], label='loss')\n",
        "plt.plot(history.history['masked_loss'], label='masked_loss')\n",
        "plt.plot(history.history['val_masked_loss'], label='val_masked_loss')\n",
        "plt.ylim([0, max(plt.ylim())])\n",
        "plt.xlabel('Epoch #')\n",
        "plt.ylabel('CE/token')\n",
        "plt.legend()"
      ]
    },
    {
      "cell_type": "markdown",
      "metadata": {
        "id": "lUssYQFZet7E"
      },
      "source": [
        "## Plotting the aacuracy from the training"
      ]
    },
    {
      "cell_type": "code",
      "execution_count": null,
      "metadata": {
        "colab": {
          "base_uri": "https://localhost:8080/",
          "height": 466
        },
        "id": "KkhXRASNG80_",
        "outputId": "262b1abd-ae94-43d1-ebeb-0096e79e4f41"
      },
      "outputs": [
        {
          "data": {
            "text/plain": [
              "<matplotlib.legend.Legend at 0x7f3a7a1847c0>"
            ]
          },
          "execution_count": 47,
          "metadata": {},
          "output_type": "execute_result"
        },
        {
          "data": {
            "image/png": "[encoded data removed]",
            "text/plain": [
              "<Figure size 640x480 with 1 Axes>"
            ]
          },
          "metadata": {},
          "output_type": "display_data"
        }
      ],
      "source": [
        "plt.plot(history.history['masked_acc'], label='accuracy')\n",
        "plt.plot(history.history['val_masked_acc'], label='val_accuracy')\n",
        "plt.ylim([0, max(plt.ylim())])\n",
        "plt.xlabel('Epoch #')\n",
        "plt.ylabel('CE/token')\n",
        "plt.legend()"
      ]
    },
    {
      "cell_type": "markdown",
      "metadata": {
        "id": "mU3Ce8M6I3rz"
      },
      "source": [
        "### Translate Module Development\n",
        "\n",
        "Now that the model is trained, implement a function to execute the full `text => text` translation. This code is basically identical to the [inference example](#inference) in the [decoder section](#the_decoder), but this also captures the attention weights."
      ]
    },
    {
      "cell_type": "code",
      "execution_count": null,
      "metadata": {
        "id": "mmgYPCVgEwp_"
      },
      "outputs": [],
      "source": [
        "#@title\n",
        "@Translator.add_method\n",
        "def translate(self,\n",
        "              texts, *,\n",
        "              max_length=50,\n",
        "              temperature=0.0):\n",
        "  # Process the input texts\n",
        "  context = self.encoder.convert_input(texts)\n",
        "  batch_size = tf.shape(texts)[0]\n",
        "\n",
        "  # Setup the loop inputs\n",
        "  tokens = []\n",
        "  attention_weights = []\n",
        "  next_token, done, state = self.decoder.get_initial_state(context)\n",
        "\n",
        "  for _ in range(max_length):\n",
        "    # Generate the next token\n",
        "    next_token, done, state = self.decoder.get_next_token(\n",
        "        context, next_token, done,  state, temperature)\n",
        "\n",
        "    # Collect the generated tokens\n",
        "    tokens.append(next_token)\n",
        "    attention_weights.append(self.decoder.last_attention_weights)\n",
        "\n",
        "    if tf.executing_eagerly() and tf.reduce_all(done):\n",
        "      break\n",
        "\n",
        "  # Stack the lists of tokens and attention weights.\n",
        "  tokens = tf.concat(tokens, axis=-1)   # t*[(batch 1)] -> (batch, t)\n",
        "  self.last_attention_weights = tf.concat(attention_weights, axis=1)  # t*[(batch 1 s)] -> (batch, t s)\n",
        "\n",
        "  result = self.decoder.tokens_to_text(tokens)\n",
        "  return result"
      ]
    },
    {
      "cell_type": "markdown",
      "metadata": {
        "id": "U4XufRntbbva"
      },
      "source": [
        "Here are the two helper methods, used above, to convert tokens to text, and to get the next token:"
      ]
    },
    {
      "cell_type": "code",
      "execution_count": null,
      "metadata": {
        "id": "E5hqvbR5FUCD",
        "scrolled": false
      },
      "outputs": [],
      "source": [
        "#Individual translator mechanism, can be used to translate each data separately\n",
        "\n",
        "\n",
        "result1 = model.translate([''])\n",
        "\n",
        "result2 = model.translate([''])\n",
        "\n",
        "result23 = model.translate([''])\n",
        "\n",
        "result222 = model.translate([''])\n",
        "#result1[0].numpy().decode()\n",
        "#result2[0].numpy().decode()\n",
        "\n"
      ]
    },
    {
      "cell_type": "markdown",
      "metadata": {
        "id": "wQ1iU63cVgfs"
      },
      "source": [
        "### Attention plot generation after model training has been completed"
      ]
    },
    {
      "cell_type": "code",
      "execution_count": null,
      "metadata": {
        "id": "s5hQWlbN3jGF"
      },
      "outputs": [],
      "source": [
        "#@title\n",
        "@Translator.add_method\n",
        "def plot_attention(self, text, **kwargs):\n",
        "  assert isinstance(text, str)\n",
        "  output = self.translate([text], **kwargs)\n",
        "  output = output[0].numpy().decode()\n",
        "\n",
        "  attention = self.last_attention_weights[0]\n",
        "\n",
        "  context = tf_lower_and_split_punct(text)\n",
        "  context = context.numpy().decode().split()\n",
        "\n",
        "  output = tf_lower_and_split_punct(output)\n",
        "  output = output.numpy().decode().split()[1:]\n",
        "\n",
        "  fig = plt.figure(figsize=(10, 10))\n",
        "  ax = fig.add_subplot(1, 1, 1)\n",
        "\n",
        "  ax.matshow(attention, cmap='viridis', vmin=0.0)\n",
        "\n",
        "  fontdict = {'fontsize': 14}\n",
        "\n",
        "  ax.set_xticklabels([''] + context, fontdict=fontdict, rotation=90)\n",
        "  ax.set_yticklabels([''] + output, fontdict=fontdict)\n",
        "\n",
        "  ax.xaxis.set_major_locator(ticker.MultipleLocator(1))\n",
        "  ax.yaxis.set_major_locator(ticker.MultipleLocator(1))\n",
        "\n",
        "  ax.set_xlabel('Input text')\n",
        "  ax.set_ylabel('Output text')"
      ]
    },
    {
      "cell_type": "code",
      "execution_count": null,
      "metadata": {
        "id": "rrGawQv2eiA4"
      },
      "outputs": [],
      "source": [
        "#model.plot_attention('')"
      ]
    },
    {
      "cell_type": "markdown",
      "metadata": {
        "id": "JHBdOf9duumm"
      },
      "source": [
        "Translate a few more sentences and plot them:"
      ]
    },
    {
      "cell_type": "markdown",
      "metadata": {
        "id": "rA3xI3NzrRJt"
      },
      "source": [
        "The short sentences often work well, but if the input is too long the model literally loses focus and stops providing reasonable predictions. There are two main reasons for this:\n",
        "\n",
        "1. The model was trained with teacher-forcing feeding the correct token at each step, regardless of the model's predictions. The model could be made more robust if it were sometimes fed its own predictions.\n",
        "2. The model only has access to its previous output through the RNN state. If the RNN state looses track of where it was in the context sequence there's no way for the model to recover. [Transformers](transformer.ipynb) improve on this by letting the decoder look at what it has output so far."
      ]
    },
    {
      "cell_type": "markdown",
      "metadata": {
        "id": "Vtz6QBoGWqT2"
      },
      "source": [
        "The raw data is sorted by length, so try translating the longest sequence:"
      ]
    },
    {
      "cell_type": "code",
      "execution_count": null,
      "metadata": {
        "id": "-FUHFLEvSMbG"
      },
      "outputs": [],
      "source": [
        "long_text = context_raw[-1]\n",
        "\n",
        "import textwrap\n",
        "#print('Expected output:\\n', '\\n'.join(textwrap.wrap(target_raw[-1])))"
      ]
    },
    {
      "cell_type": "markdown",
      "metadata": {
        "id": "Rc1aekzi9dLZ"
      },
      "source": [
        "# Testing unseen samples"
      ]
    },
    {
      "cell_type": "code",
      "execution_count": 3,
      "metadata": {
        "id": "6OIFQKZI9bc5"
      },
      "outputs": [],
      "source": [
        "import pandas as pd\n",
        "\n",
        "dc = pd.read_excel('random_set_3.0.xlsx')"
      ]
    },
    {
      "cell_type": "code",
      "execution_count": 4,
      "metadata": {
        "colab": {
          "base_uri": "https://localhost:8080/",
          "height": 206
        },
        "id": "Nsx0IyYZ9k3v",
        "outputId": "2a93384d-3a26-4596-e8a9-9971cd487938"
      },
      "outputs": [
        {
          "output_type": "execute_result",
          "data": {
            "text/plain": [
              "                                          OM_Regular  OM_Prediction\n",
              "0  module OM_name: 0 ,openDeclaration one sig cla...              0\n",
              "1  module OM_name: 0 ,openDeclaration one sig cla...              0\n",
              "2  module OM_name: 0 ,openDeclaration one sig cla...              0\n",
              "3  module OM_name: 0 ,openDeclaration one sig cla...              0\n",
              "4  module OM_name: 0 ,openDeclaration one sig cla...              0"
            ],
            "text/html": [
              "\n",
              "  <div id=\"df-77dd42c4-6176-434f-b47d-8e0de75f5cb8\">\n",
              "    <div class=\"colab-df-container\">\n",
              "      <div>\n",
              "<style scoped>\n",
              "    .dataframe tbody tr th:only-of-type {\n",
              "        vertical-align: middle;\n",
              "    }\n",
              "\n",
              "    .dataframe tbody tr th {\n",
              "        vertical-align: top;\n",
              "    }\n",
              "\n",
              "    .dataframe thead th {\n",
              "        text-align: right;\n",
              "    }\n",
              "</style>\n",
              "<table border=\"1\" class=\"dataframe\">\n",
              "  <thead>\n",
              "    <tr style=\"text-align: right;\">\n",
              "      <th></th>\n",
              "      <th>OM_Regular</th>\n",
              "      <th>OM_Prediction</th>\n",
              "    </tr>\n",
              "  </thead>\n",
              "  <tbody>\n",
              "    <tr>\n",
              "      <th>0</th>\n",
              "      <td>module OM_name: 0 ,openDeclaration one sig cla...</td>\n",
              "      <td>0</td>\n",
              "    </tr>\n",
              "    <tr>\n",
              "      <th>1</th>\n",
              "      <td>module OM_name: 0 ,openDeclaration one sig cla...</td>\n",
              "      <td>0</td>\n",
              "    </tr>\n",
              "    <tr>\n",
              "      <th>2</th>\n",
              "      <td>module OM_name: 0 ,openDeclaration one sig cla...</td>\n",
              "      <td>0</td>\n",
              "    </tr>\n",
              "    <tr>\n",
              "      <th>3</th>\n",
              "      <td>module OM_name: 0 ,openDeclaration one sig cla...</td>\n",
              "      <td>0</td>\n",
              "    </tr>\n",
              "    <tr>\n",
              "      <th>4</th>\n",
              "      <td>module OM_name: 0 ,openDeclaration one sig cla...</td>\n",
              "      <td>0</td>\n",
              "    </tr>\n",
              "  </tbody>\n",
              "</table>\n",
              "</div>\n",
              "      <button class=\"colab-df-convert\" onclick=\"convertToInteractive('df-77dd42c4-6176-434f-b47d-8e0de75f5cb8')\"\n",
              "              title=\"Convert this dataframe to an interactive table.\"\n",
              "              style=\"display:none;\">\n",
              "        \n",
              "  <svg xmlns=\"http://www.w3.org/2000/svg\" height=\"24px\"viewBox=\"0 0 24 24\"\n",
              "       width=\"24px\">\n",
              "    <path d=\"M0 0h24v24H0V0z\" fill=\"none\"/>\n",
              "    <path d=\"M18.56 5.44l.94 2.06.94-2.06 2.06-.94-2.06-.94-.94-2.06-.94 2.06-2.06.94zm-11 1L8.5 8.5l.94-2.06 2.06-.94-2.06-.94L8.5 2.5l-.94 2.06-2.06.94zm10 10l.94 2.06.94-2.06 2.06-.94-2.06-.94-.94-2.06-.94 2.06-2.06.94z\"/><path d=\"M17.41 7.96l-1.37-1.37c-.4-.4-.92-.59-1.43-.59-.52 0-1.04.2-1.43.59L10.3 9.45l-7.72 7.72c-.78.78-.78 2.05 0 2.83L4 21.41c.39.39.9.59 1.41.59.51 0 1.02-.2 1.41-.59l7.78-7.78 2.81-2.81c.8-.78.8-2.07 0-2.86zM5.41 20L4 18.59l7.72-7.72 1.47 1.35L5.41 20z\"/>\n",
              "  </svg>\n",
              "      </button>\n",
              "      \n",
              "  <style>\n",
              "    .colab-df-container {\n",
              "      display:flex;\n",
              "      flex-wrap:wrap;\n",
              "      gap: 12px;\n",
              "    }\n",
              "\n",
              "    .colab-df-convert {\n",
              "      background-color: #E8F0FE;\n",
              "      border: none;\n",
              "      border-radius: 50%;\n",
              "      cursor: pointer;\n",
              "      display: none;\n",
              "      fill: #1967D2;\n",
              "      height: 32px;\n",
              "      padding: 0 0 0 0;\n",
              "      width: 32px;\n",
              "    }\n",
              "\n",
              "    .colab-df-convert:hover {\n",
              "      background-color: #E2EBFA;\n",
              "      box-shadow: 0px 1px 2px rgba(60, 64, 67, 0.3), 0px 1px 3px 1px rgba(60, 64, 67, 0.15);\n",
              "      fill: #174EA6;\n",
              "    }\n",
              "\n",
              "    [theme=dark] .colab-df-convert {\n",
              "      background-color: #3B4455;\n",
              "      fill: #D2E3FC;\n",
              "    }\n",
              "\n",
              "    [theme=dark] .colab-df-convert:hover {\n",
              "      background-color: #434B5C;\n",
              "      box-shadow: 0px 1px 3px 1px rgba(0, 0, 0, 0.15);\n",
              "      filter: drop-shadow(0px 1px 2px rgba(0, 0, 0, 0.3));\n",
              "      fill: #FFFFFF;\n",
              "    }\n",
              "  </style>\n",
              "\n",
              "      <script>\n",
              "        const buttonEl =\n",
              "          document.querySelector('#df-77dd42c4-6176-434f-b47d-8e0de75f5cb8 button.colab-df-convert');\n",
              "        buttonEl.style.display =\n",
              "          google.colab.kernel.accessAllowed ? 'block' : 'none';\n",
              "\n",
              "        async function convertToInteractive(key) {\n",
              "          const element = document.querySelector('#df-77dd42c4-6176-434f-b47d-8e0de75f5cb8');\n",
              "          const dataTable =\n",
              "            await google.colab.kernel.invokeFunction('convertToInteractive',\n",
              "                                                     [key], {});\n",
              "          if (!dataTable) return;\n",
              "\n",
              "          const docLinkHtml = 'Like what you see? Visit the ' +\n",
              "            '<a target=\"_blank\" href=https://colab.research.google.com/notebooks/data_table.ipynb>data table notebook</a>'\n",
              "            + ' to learn more about interactive tables.';\n",
              "          element.innerHTML = '';\n",
              "          dataTable['output_type'] = 'display_data';\n",
              "          await google.colab.output.renderOutput(dataTable, element);\n",
              "          const docLink = document.createElement('div');\n",
              "          docLink.innerHTML = docLinkHtml;\n",
              "          element.appendChild(docLink);\n",
              "        }\n",
              "      </script>\n",
              "    </div>\n",
              "  </div>\n",
              "  "
            ]
          },
          "metadata": {},
          "execution_count": 4
        }
      ],
      "source": [
        "dc.head()"
      ]
    },
    {
      "cell_type": "markdown",
      "metadata": {
        "id": "er0zQybAgoJJ"
      },
      "source": [
        "### Separating Columns in X_test and y_test"
      ]
    },
    {
      "cell_type": "code",
      "execution_count": 5,
      "metadata": {
        "id": "naG54qF791Hs"
      },
      "outputs": [],
      "source": [
        "X_test2 = dc['OM_Regular'].values\n",
        "y_test2 = dc['OM_Prediction'].values"
      ]
    },
    {
      "cell_type": "code",
      "execution_count": 6,
      "metadata": {
        "colab": {
          "base_uri": "https://localhost:8080/"
        },
        "id": "VcNO_Ews2q8x",
        "outputId": "82b8cb61-82cb-4fc5-d112-e3377da4fda7"
      },
      "outputs": [
        {
          "output_type": "stream",
          "name": "stdout",
          "text": [
            "(4670,)\n",
            "(4670,)\n",
            "X data type:  object\n",
            "y data type:  int64\n"
          ]
        }
      ],
      "source": [
        "print(X_test2.shape)\n",
        "print(y_test2.shape)\n",
        "\n",
        "print(\"X data type: \", X_test2.dtype)\n",
        "print(\"y data type: \", y_test2.dtype)"
      ]
    },
    {
      "cell_type": "code",
      "execution_count": 7,
      "metadata": {
        "colab": {
          "base_uri": "https://localhost:8080/"
        },
        "id": "XZFASLWP95TU",
        "outputId": "7f8c16f3-8356-4163-f71a-77a018120de1"
      },
      "outputs": [
        {
          "output_type": "stream",
          "name": "stdout",
          "text": [
            "[0 0 0 ... 1 1 1]\n"
          ]
        }
      ],
      "source": [
        "print(y_test2)"
      ]
    },
    {
      "cell_type": "code",
      "execution_count": 8,
      "metadata": {
        "id": "hgO5sa73-3f1"
      },
      "outputs": [],
      "source": [
        "inputs = X_test2"
      ]
    },
    {
      "cell_type": "markdown",
      "metadata": {
        "id": "K_yUzQq_gyYj"
      },
      "source": [
        "### Obtaining results from the model of the unseen dataset"
      ]
    },
    {
      "cell_type": "code",
      "execution_count": 9,
      "metadata": {
        "id": "4qjPTIDB-8UZ"
      },
      "outputs": [],
      "source": [
        "# import time\n",
        "\n",
        "# # Increase the time parameter\n",
        "# time_limit = 50  # in seconds\n",
        "\n",
        "# for t in inputs:\n",
        "#     start_time = time.time()\n",
        "#     output = \"\"\n",
        "#     while True:\n",
        "#         partial_output = model.translate([t], max_length=len(output) + 10)[0].numpy().decode()\n",
        "#         output += partial_output\n",
        "#         if time.time() - start_time > time_limit:\n",
        "#             break\n",
        "#     output = output.replace(' ', '')\n",
        "#     print(output)\n",
        "\n",
        "# print()\n"
      ]
    },
    {
      "cell_type": "markdown",
      "metadata": {
        "id": "1t4_2FqbE9da"
      },
      "source": [
        "# Classification Report (Unseen samples)\n"
      ]
    },
    {
      "cell_type": "code",
      "execution_count": 10,
      "metadata": {
        "id": "fVaZsDnJhkz5"
      },
      "outputs": [],
      "source": [
        "import warnings\n",
        "import numpy as np\n",
        "import pandas as pd\n",
        "import matplotlib.pyplot as plt\n",
        "from sklearn import datasets\n",
        "from sklearn.preprocessing import StandardScaler\n",
        "from sklearn.neighbors import KNeighborsClassifier\n",
        "from sklearn.model_selection import train_test_split, GridSearchCV, cross_val_score, cross_val_predict\n",
        "from sklearn.metrics import confusion_matrix, precision_score, recall_score, f1_score, roc_curve, roc_auc_score\n",
        "from sklearn.metrics import precision_recall_curve, classification_report"
      ]
    },
    {
      "cell_type": "markdown",
      "metadata": {
        "id": "TbThCFoRhLHs"
      },
      "source": [
        "### The result is obtained and captured in a separate file, labels are converted to 1 and 0 . Where 1 denotes P and 0 denotes NP."
      ]
    },
    {
      "cell_type": "markdown",
      "metadata": {
        "id": "9Jz3Rt18lUtE"
      },
      "source": [
        "###READING the predicted dataset"
      ]
    },
    {
      "cell_type": "code",
      "execution_count": 11,
      "metadata": {
        "id": "jhKnUY4XFCSj"
      },
      "outputs": [],
      "source": [
        "dd = pd.read_excel('random_set_3.0_pred.xlsx')"
      ]
    },
    {
      "cell_type": "code",
      "execution_count": 12,
      "metadata": {
        "id": "v9M2iW1MGjfM",
        "colab": {
          "base_uri": "https://localhost:8080/",
          "height": 206
        },
        "outputId": "6ee25bfe-9f77-4a7e-8e67-531c7b4fe078"
      },
      "outputs": [
        {
          "output_type": "execute_result",
          "data": {
            "text/plain": [
              "                                          OM_Regular  OM_Prediction\n",
              "0  p,moduleom_name:0,opendeclarationonesigclass1_...              1\n",
              "1  p,moduleom_name:0,opendeclarationonesigclass1_...              1\n",
              "2  p,moduleom_name:0,opendeclarationonesigclass1_...              1\n",
              "3  p,moduleom_name:0,opendeclarationonesigclass1_...              1\n",
              "4  p,moduleom_name:0,opendeclarationonesigclass1_...              1"
            ],
            "text/html": [
              "\n",
              "  <div id=\"df-113af3a7-cad2-4236-8cbf-76d4ae115402\">\n",
              "    <div class=\"colab-df-container\">\n",
              "      <div>\n",
              "<style scoped>\n",
              "    .dataframe tbody tr th:only-of-type {\n",
              "        vertical-align: middle;\n",
              "    }\n",
              "\n",
              "    .dataframe tbody tr th {\n",
              "        vertical-align: top;\n",
              "    }\n",
              "\n",
              "    .dataframe thead th {\n",
              "        text-align: right;\n",
              "    }\n",
              "</style>\n",
              "<table border=\"1\" class=\"dataframe\">\n",
              "  <thead>\n",
              "    <tr style=\"text-align: right;\">\n",
              "      <th></th>\n",
              "      <th>OM_Regular</th>\n",
              "      <th>OM_Prediction</th>\n",
              "    </tr>\n",
              "  </thead>\n",
              "  <tbody>\n",
              "    <tr>\n",
              "      <th>0</th>\n",
              "      <td>p,moduleom_name:0,opendeclarationonesigclass1_...</td>\n",
              "      <td>1</td>\n",
              "    </tr>\n",
              "    <tr>\n",
              "      <th>1</th>\n",
              "      <td>p,moduleom_name:0,opendeclarationonesigclass1_...</td>\n",
              "      <td>1</td>\n",
              "    </tr>\n",
              "    <tr>\n",
              "      <th>2</th>\n",
              "      <td>p,moduleom_name:0,opendeclarationonesigclass1_...</td>\n",
              "      <td>1</td>\n",
              "    </tr>\n",
              "    <tr>\n",
              "      <th>3</th>\n",
              "      <td>p,moduleom_name:0,opendeclarationonesigclass1_...</td>\n",
              "      <td>1</td>\n",
              "    </tr>\n",
              "    <tr>\n",
              "      <th>4</th>\n",
              "      <td>p,moduleom_name:0,opendeclarationonesigclass1_...</td>\n",
              "      <td>1</td>\n",
              "    </tr>\n",
              "  </tbody>\n",
              "</table>\n",
              "</div>\n",
              "      <button class=\"colab-df-convert\" onclick=\"convertToInteractive('df-113af3a7-cad2-4236-8cbf-76d4ae115402')\"\n",
              "              title=\"Convert this dataframe to an interactive table.\"\n",
              "              style=\"display:none;\">\n",
              "        \n",
              "  <svg xmlns=\"http://www.w3.org/2000/svg\" height=\"24px\"viewBox=\"0 0 24 24\"\n",
              "       width=\"24px\">\n",
              "    <path d=\"M0 0h24v24H0V0z\" fill=\"none\"/>\n",
              "    <path d=\"M18.56 5.44l.94 2.06.94-2.06 2.06-.94-2.06-.94-.94-2.06-.94 2.06-2.06.94zm-11 1L8.5 8.5l.94-2.06 2.06-.94-2.06-.94L8.5 2.5l-.94 2.06-2.06.94zm10 10l.94 2.06.94-2.06 2.06-.94-2.06-.94-.94-2.06-.94 2.06-2.06.94z\"/><path d=\"M17.41 7.96l-1.37-1.37c-.4-.4-.92-.59-1.43-.59-.52 0-1.04.2-1.43.59L10.3 9.45l-7.72 7.72c-.78.78-.78 2.05 0 2.83L4 21.41c.39.39.9.59 1.41.59.51 0 1.02-.2 1.41-.59l7.78-7.78 2.81-2.81c.8-.78.8-2.07 0-2.86zM5.41 20L4 18.59l7.72-7.72 1.47 1.35L5.41 20z\"/>\n",
              "  </svg>\n",
              "      </button>\n",
              "      \n",
              "  <style>\n",
              "    .colab-df-container {\n",
              "      display:flex;\n",
              "      flex-wrap:wrap;\n",
              "      gap: 12px;\n",
              "    }\n",
              "\n",
              "    .colab-df-convert {\n",
              "      background-color: #E8F0FE;\n",
              "      border: none;\n",
              "      border-radius: 50%;\n",
              "      cursor: pointer;\n",
              "      display: none;\n",
              "      fill: #1967D2;\n",
              "      height: 32px;\n",
              "      padding: 0 0 0 0;\n",
              "      width: 32px;\n",
              "    }\n",
              "\n",
              "    .colab-df-convert:hover {\n",
              "      background-color: #E2EBFA;\n",
              "      box-shadow: 0px 1px 2px rgba(60, 64, 67, 0.3), 0px 1px 3px 1px rgba(60, 64, 67, 0.15);\n",
              "      fill: #174EA6;\n",
              "    }\n",
              "\n",
              "    [theme=dark] .colab-df-convert {\n",
              "      background-color: #3B4455;\n",
              "      fill: #D2E3FC;\n",
              "    }\n",
              "\n",
              "    [theme=dark] .colab-df-convert:hover {\n",
              "      background-color: #434B5C;\n",
              "      box-shadow: 0px 1px 3px 1px rgba(0, 0, 0, 0.15);\n",
              "      filter: drop-shadow(0px 1px 2px rgba(0, 0, 0, 0.3));\n",
              "      fill: #FFFFFF;\n",
              "    }\n",
              "  </style>\n",
              "\n",
              "      <script>\n",
              "        const buttonEl =\n",
              "          document.querySelector('#df-113af3a7-cad2-4236-8cbf-76d4ae115402 button.colab-df-convert');\n",
              "        buttonEl.style.display =\n",
              "          google.colab.kernel.accessAllowed ? 'block' : 'none';\n",
              "\n",
              "        async function convertToInteractive(key) {\n",
              "          const element = document.querySelector('#df-113af3a7-cad2-4236-8cbf-76d4ae115402');\n",
              "          const dataTable =\n",
              "            await google.colab.kernel.invokeFunction('convertToInteractive',\n",
              "                                                     [key], {});\n",
              "          if (!dataTable) return;\n",
              "\n",
              "          const docLinkHtml = 'Like what you see? Visit the ' +\n",
              "            '<a target=\"_blank\" href=https://colab.research.google.com/notebooks/data_table.ipynb>data table notebook</a>'\n",
              "            + ' to learn more about interactive tables.';\n",
              "          element.innerHTML = '';\n",
              "          dataTable['output_type'] = 'display_data';\n",
              "          await google.colab.output.renderOutput(dataTable, element);\n",
              "          const docLink = document.createElement('div');\n",
              "          docLink.innerHTML = docLinkHtml;\n",
              "          element.appendChild(docLink);\n",
              "        }\n",
              "      </script>\n",
              "    </div>\n",
              "  </div>\n",
              "  "
            ]
          },
          "metadata": {},
          "execution_count": 12
        }
      ],
      "source": [
        "dd.head()"
      ]
    },
    {
      "cell_type": "code",
      "execution_count": 13,
      "metadata": {
        "id": "1tO_WHmVHQDR"
      },
      "outputs": [],
      "source": [
        "X_test_pred2 = dd['OM_Regular'].values\n",
        "y_test_pred2 = dd['OM_Prediction'].values"
      ]
    },
    {
      "cell_type": "markdown",
      "metadata": {
        "id": "0nbGKNUjldCp"
      },
      "source": [
        "### Printing predicted labels"
      ]
    },
    {
      "cell_type": "code",
      "execution_count": 14,
      "metadata": {
        "id": "Wy2Fvt1fHYJO",
        "colab": {
          "base_uri": "https://localhost:8080/"
        },
        "outputId": "016c6c7a-d56b-4061-ea4f-09faa83be808"
      },
      "outputs": [
        {
          "output_type": "stream",
          "name": "stdout",
          "text": [
            "[1 1 1 ... 1 1 1]\n"
          ]
        }
      ],
      "source": [
        "print (y_test_pred2 )"
      ]
    },
    {
      "cell_type": "code",
      "execution_count": 15,
      "metadata": {
        "id": "w7RY4modHkts",
        "colab": {
          "base_uri": "https://localhost:8080/"
        },
        "outputId": "d94fce91-59db-425f-a430-b6e0cbd5e86e"
      },
      "outputs": [
        {
          "output_type": "stream",
          "name": "stdout",
          "text": [
            "Testing: Precision = 0.668967\n",
            "Testing: Recall = 0.992958\n",
            "Testing: F1 Score = 0.799382\n",
            "\n",
            "Confusion Matrix (Test Data):\n",
            " [[  11 1535]\n",
            " [  22 3102]]\n"
          ]
        }
      ],
      "source": [
        "precision = precision_score(y_test2, y_test_pred2)\n",
        "print(\"Testing: Precision = %f\" % precision)\n",
        "\n",
        "\n",
        "recall = recall_score(y_test2, y_test_pred2)\n",
        "print(\"Testing: Recall = %f\" % recall)\n",
        "\n",
        "\n",
        "f1 = f1_score(y_test2, y_test_pred2)\n",
        "print(\"Testing: F1 Score = %f\" % f1)\n",
        "\n",
        "print(\"\\nConfusion Matrix (Test Data):\\n\", confusion_matrix(y_test2, y_test_pred2))"
      ]
    },
    {
      "cell_type": "code",
      "execution_count": 16,
      "metadata": {
        "id": "nd3P-TGIIN6b",
        "colab": {
          "base_uri": "https://localhost:8080/"
        },
        "outputId": "8fc2295a-89cc-4ac9-ae2c-946b4ef43bdf"
      },
      "outputs": [
        {
          "output_type": "stream",
          "name": "stdout",
          "text": [
            "              precision    recall  f1-score   support\n",
            "\n",
            "           0       0.33      0.01      0.01      1546\n",
            "           1       0.67      0.99      0.80      3124\n",
            "\n",
            "    accuracy                           0.67      4670\n",
            "   macro avg       0.50      0.50      0.41      4670\n",
            "weighted avg       0.56      0.67      0.54      4670\n",
            "\n"
          ]
        }
      ],
      "source": [
        "print(classification_report(y_test2,y_test_pred2))"
      ]
    }
  ],
  "metadata": {
    "accelerator": "GPU",
    "colab": {
      "provenance": []
    },
    "gpuClass": "standard",
    "kernelspec": {
      "display_name": "Python 3 (ipykernel)",
      "language": "python",
      "name": "python3"
    },
    "language_info": {
      "codemirror_mode": {
        "name": "ipython",
        "version": 3
      },
      "file_extension": ".py",
      "mimetype": "text/x-python",
      "name": "python",
      "nbconvert_exporter": "python",
      "pygments_lexer": "ipython3",
      "version": "3.9.12"
    }
  },
  "nbformat": 4,
  "nbformat_minor": 0
}