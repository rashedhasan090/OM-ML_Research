{
  "nbformat": 4,
  "nbformat_minor": 0,
  "metadata": {
    "colab": {
      "provenance": []
    },
    "kernelspec": {
      "name": "python3",
      "display_name": "Python 3"
    },
    "language_info": {
      "name": "python"
    }
  },
  "cells": [
    {
      "cell_type": "markdown",
      "source": [
        "#P Balanced, NP Balanced Distribution\n",
        "\n",
        "###Notebook: [Can be found here](https://github.com/rashedhasan090/OM-ML_Research/blob/main/Optimal%20Sampling%20Discovery/6_OM_oversample/50-50/P_50__NP_50__6_Train_3_Test_(Library_Management%2C_School%2C_Student_course).ipynb)\n",
        "\n",
        "P instances have been increased through oversampling.\n",
        "\n",
        "## 6 OM - Dataset , Camping,OnlineStore, Decider , Bank, Customer_order, E-Commerce\n",
        "\n",
        "## 3 OM - Testing - Library Management, School OM, Student-course (unseen)\n",
        "\n",
        "### P - NP Distribution\n",
        "\n",
        "### 50% - 50%\n",
        "\n",
        "#### Training\n",
        "\n",
        "Total instances - 590\n",
        "\n",
        "P samples - 295 P\n",
        "\n",
        "NP samples - 295 NP\n",
        "\n",
        "#### Testing\n",
        "\n",
        "Total instances - 100\n",
        "\n",
        "P samples - 15\n",
        "\n",
        "NP samples - 85\n"
      ],
      "metadata": {
        "id": "GcfQliCP4iHl"
      }
    },
    {
      "cell_type": "code",
      "source": [
        "#                   precision    recall  f1-score   support\n",
        "\n",
        "#            0       0.91      0.97      0.94       138\n",
        "#            1       0.83      0.59      0.69        32\n",
        "\n",
        "#     accuracy                           0.90       170\n",
        "#    macro avg       0.87      0.78      0.82       170\n",
        "# weighted avg       0.90      0.90      0.89       170\n"
      ],
      "metadata": {
        "id": "80SH_ibl5Rnc"
      },
      "execution_count": null,
      "outputs": []
    },
    {
      "cell_type": "markdown",
      "source": [
        "#P Oversample , NP Undersample Distribution\n",
        "\n",
        "###Notebook: [Can be found here](https://github.com/rashedhasan090/OM-ML_Research/blob/main/Optimal%20Sampling%20Discovery/6_OM_oversample/60-40/P_60__NP_40__6_Train_3_Test_(Library_Management%2C_School%2C_Student_course).ipynb) \n",
        "\n",
        "P instances have been increased through oversampling.\n",
        "\n",
        "##6 OM - Dataset , Camping,OnlineStore, Decider , Bank, Customer_order, E-Commerce\n",
        "\n",
        "##3 OM - Testing - Library Management, School OM, Student-course (unseen)\n",
        "\n",
        "P - NP Distribution\n",
        "\n",
        "60% - 40%\n",
        "\n",
        "### Training\n",
        "\n",
        "Total instances - 590\n",
        "\n",
        "P samples - 326 P\n",
        "\n",
        "NP samples - 260 NP\n",
        "\n",
        "### Testing\n",
        "\n",
        "Total instances - 170\n",
        "\n",
        "P samples - 32\n",
        "\n",
        "NP samples - 138\n"
      ],
      "metadata": {
        "id": "QxChY5cb5ZEQ"
      }
    },
    {
      "cell_type": "code",
      "source": [
        "#                  precision    recall  f1-score   support\n",
        "\n",
        "#            0       0.92      0.93      0.92       138\n",
        "#            1       0.68      0.66      0.67        32\n",
        "\n",
        "#     accuracy                           0.88       170\n",
        "#    macro avg       0.80      0.79      0.80       170\n",
        "# weighted avg       0.88      0.88      0.88       170\n"
      ],
      "metadata": {
        "id": "dkiO_nWv58bS"
      },
      "execution_count": null,
      "outputs": []
    },
    {
      "cell_type": "markdown",
      "source": [
        "# P Oversample , NP Undersample Distribution\n",
        "\n",
        "###Notebook: [Can be found here](https://github.com/rashedhasan090/OM-ML_Research/blob/main/Optimal%20Sampling%20Discovery/6_OM_oversample/70-30/P_70__NP_30__6_Train_3_Test_(Library_Management%2C_School%2C_Student_course).ipynb) \n",
        "\n",
        "P instances have been increased through oversampling.\n",
        "\n",
        "## 6 OM - Dataset , Camping,OnlineStore, Decider , Bank, Customer_order, E-Commerce\n",
        "\n",
        "## 3 OM - Testing - Library Management, School OM, Student-course (unseen)\n",
        "\n",
        "P - NP Distribution\n",
        "\n",
        "70% - 30%\n",
        "\n",
        "### Training\n",
        "\n",
        "Total instances - 590\n",
        "\n",
        "P samples - 413 P\n",
        "\n",
        "NP samples - 177 NP\n",
        "\n",
        "### Testing\n",
        "\n",
        "Total instances - 170\n",
        "\n",
        "P samples - 32\n",
        "\n",
        "NP samples - 138"
      ],
      "metadata": {
        "id": "rhhylzE16GZU"
      }
    },
    {
      "cell_type": "code",
      "source": [
        "#                 precision    recall  f1-score   support\n",
        "\n",
        "#            0       0.94      0.95      0.95       138\n",
        "#            1       0.77      0.75      0.76        32\n",
        "\n",
        "#     accuracy                           0.91       170\n",
        "#    macro avg       0.86      0.85      0.85       170\n",
        "# weighted avg       0.91      0.91      0.91       170\n"
      ],
      "metadata": {
        "id": "j5ADgSzV6i0E"
      },
      "execution_count": null,
      "outputs": []
    },
    {
      "cell_type": "markdown",
      "source": [
        "#P Oversample , NP EUndersample Distribution\n",
        "\n",
        "###Notebook: [Can be found here](https://github.com/rashedhasan090/OM-ML_Research/blob/main/Optimal%20Sampling%20Discovery/6_OM_oversample/80-20/P_80__NP_20__6_Train_3_Test_(Library_Management%2C_School%2C_Student_course).ipynb)\n",
        "\n",
        "P instances have been increased through oversampling.\n",
        "\n",
        "##6 OM - Dataset , Camping,OnlineStore, Decider , Bank, Customer_order, E-Commerce\n",
        "\n",
        "##3 OM - Testing - Library Management, School OM, Student-course (unseen)\n",
        "\n",
        "P - NP Distribution\n",
        "\n",
        "80% - 20%\n",
        "\n",
        "###Training\n",
        "\n",
        "Total instances - 590\n",
        "\n",
        "P samples - 472 P\n",
        "\n",
        "NP samples - 118 NP\n",
        "\n",
        "###Testing\n",
        "\n",
        "Total instances - 170\n",
        "\n",
        "P samples - 32\n",
        "\n",
        "NP samples - 138"
      ],
      "metadata": {
        "id": "wrkHPMH56pIx"
      }
    },
    {
      "cell_type": "code",
      "source": [
        "#                 precision    recall  f1-score   support\n",
        "\n",
        "#            0       1.00      0.22      0.37       138\n",
        "#            1       0.23      1.00      0.37        32\n",
        "\n",
        "#     accuracy                           0.37       170\n",
        "#    macro avg       0.62      0.61      0.37       170\n",
        "# weighted avg       0.86      0.37      0.37       170\n"
      ],
      "metadata": {
        "id": "jcBwLhOx68kg"
      },
      "execution_count": null,
      "outputs": []
    }
  ]
}