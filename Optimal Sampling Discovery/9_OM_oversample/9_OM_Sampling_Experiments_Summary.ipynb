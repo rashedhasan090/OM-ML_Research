{
  "nbformat": 4,
  "nbformat_minor": 0,
  "metadata": {
    "colab": {
      "provenance": []
    },
    "kernelspec": {
      "name": "python3",
      "display_name": "Python 3"
    },
    "language_info": {
      "name": "python"
    }
  },
  "cells": [
    {
      "cell_type": "markdown",
      "source": [
        "\n",
        "\n",
        "\n",
        "#P Balanced, NP Balanced Distribution\n",
        "\n",
        "###Notebook: [Can be found here](https://github.com/rashedhasan090/OM-ML_Research/blob/main/Optimal%20Sampling%20Discovery/9_OM_oversample/50-50/P_50__NP_50__9_Train_1_Test_(Decider).ipynb) \n",
        "\n",
        "\n",
        "\n",
        "P instances have been increased through oversampling.\n",
        "\n",
        "### 9 OM - Dataset , Camping,OnlineStore, Library Management, Bank, Customer_order, E-Commerce, School Management, Student-Course\n",
        "\n",
        "1 OM - Testing - Decider (Seen by Model)\n",
        "\n",
        "P - NP Distribution\n",
        "\n",
        "50% - 50%\n",
        "\n",
        "### Training\n",
        "\n",
        "Total instances - 772\n",
        "\n",
        "P samples - 386 P\n",
        "\n",
        "NP samples - 386 NP\n",
        "\n",
        "### Testing\n",
        "\n",
        "Total instances - 80\n",
        "\n",
        "P samples - 12\n",
        "\n",
        "NP samples - 68\n"
      ],
      "metadata": {
        "id": "GcfQliCP4iHl"
      }
    },
    {
      "cell_type": "code",
      "source": [
        "#                 precision    recall  f1-score   support\n",
        "\n",
        "#            0       0.99      1.00      0.99        68\n",
        "#            1       1.00      0.92      0.96        12\n",
        "\n",
        "#     accuracy                           0.99        80\n",
        "#    macro avg       0.99      0.96      0.97        80\n",
        "# weighted avg       0.99      0.99      0.99        80\n",
        "\n"
      ],
      "metadata": {
        "id": "80SH_ibl5Rnc"
      },
      "execution_count": null,
      "outputs": []
    },
    {
      "cell_type": "markdown",
      "source": [
        "#P Oversample , NP Undersample Distribution\n",
        "\n",
        "###Notebook: [Can be found here](https://github.com/rashedhasan090/OM-ML_Research/blob/main/Optimal%20Sampling%20Discovery/9_OM_oversample/60-40/P_60__NP_40__9_Train_1_Test_(Decider).ipynb) \n",
        "\n",
        "9 OM - Dataset , Camping,OnlineStore, Library Management, Bank, Customer_order, E-Commerce, School Management, Student-Course\n",
        "\n",
        "1 OM - Testing - Decider (Seen by Model)\n",
        "\n",
        "P - NP Distribution\n",
        "\n",
        "60% - 40%\n",
        "\n",
        "Training\n",
        "\n",
        "Total instances - 772\n",
        "\n",
        "P samples - 464 P\n",
        "\n",
        "NP samples - 308 NP\n",
        "\n",
        "Testing\n",
        "\n",
        "Total instances - 80\n",
        "\n",
        "P samples - 12\n",
        "\n",
        "NP samples - 68"
      ],
      "metadata": {
        "id": "QxChY5cb5ZEQ"
      }
    },
    {
      "cell_type": "code",
      "source": [
        "#                   precision    recall  f1-score   support\n",
        "\n",
        "#            0       1.00      0.97      0.99        68\n",
        "#            1       0.86      1.00      0.92        12\n",
        "\n",
        "#     accuracy                           0.97        80\n",
        "#    macro avg       0.93      0.99      0.95        80\n",
        "# weighted avg       0.98      0.97      0.98        80\n"
      ],
      "metadata": {
        "id": "dkiO_nWv58bS"
      },
      "execution_count": null,
      "outputs": []
    },
    {
      "cell_type": "markdown",
      "source": [
        "# P Oversample , NP Undersample Distribution\n",
        "\n",
        "###Notebook: [Can be found here](https://github.com/rashedhasan090/OM-ML_Research/blob/main/Optimal%20Sampling%20Discovery/9_OM_oversample/70-30/P_70__NP_30__9_Train_1_Test_(Decider).ipynb) \n",
        "\n",
        "\n",
        "## P Oversample , NP Undersample Distribution\n",
        "\n",
        "P instances have been increased through oversampling.\n",
        "\n",
        "### 9 OM - Dataset , Camping,OnlineStore, Library Management, Bank, Customer_order, E-Commerce, School Management, Student-Course\n",
        "\n",
        "### 1 OM - Testing - Decider (Seen by Model)\n",
        "\n",
        "P - NP Distribution\n",
        "\n",
        "70% - 30%\n",
        "\n",
        "### Training\n",
        "\n",
        "Total instances - 772\n",
        "\n",
        "P samples - 540 P\n",
        "\n",
        "NP samples - 232 NP\n",
        "\n",
        "### Testing\n",
        "\n",
        "Total instances - 80\n",
        "\n",
        "P samples - 12\n",
        "\n",
        "NP samples - 68\n",
        "NP samples - 85"
      ],
      "metadata": {
        "id": "rhhylzE16GZU"
      }
    },
    {
      "cell_type": "code",
      "source": [
        "#                 precision    recall  f1-score   support\n",
        "\n",
        "#            0       0.98      0.91      0.95        68\n",
        "#            1       0.65      0.92      0.76        12\n",
        "\n",
        "#     accuracy                           0.91        80\n",
        "#    macro avg       0.82      0.91      0.85        80\n",
        "# weighted avg       0.93      0.91      0.92        80\n",
        "\n"
      ],
      "metadata": {
        "id": "j5ADgSzV6i0E"
      },
      "execution_count": null,
      "outputs": []
    },
    {
      "cell_type": "markdown",
      "source": [
        "#P Oversample , NP Undersample Distribution\n",
        "\n",
        "###Notebook: [Can be found here](https://github.com/rashedhasan090/OM-ML_Research/blob/main/Optimal%20Sampling%20Discovery/9_OM_oversample/80-20/P_80__NP_20__9_Train_1_Test_(Decider).ipynb) \n",
        "\n",
        "9 OM - Dataset , Camping,OnlineStore, Library Management, Bank, Customer_order, E-Commerce, School Management, Student-Course\n",
        "\n",
        "1 OM - Testing - Decider (Seen by Model)\n",
        "\n",
        "P - NP Distribution\n",
        "\n",
        "80% - 20%\n",
        "\n",
        "### Training\n",
        "\n",
        "Total instances - 772\n",
        "\n",
        "P samples - 695 P\n",
        "\n",
        "NP samples - 77NP\n",
        "\n",
        "### Testing\n",
        "\n",
        "Total instances - 80\n",
        "\n",
        "P samples - 12\n",
        "\n",
        "NP samples - 68\n",
        "Setup (installing necessary libraries)\n",
        "NP samples - 138"
      ],
      "metadata": {
        "id": "wrkHPMH56pIx"
      }
    },
    {
      "cell_type": "code",
      "source": [
        "#                   precision    recall  f1-score   support\n",
        "\n",
        "#            0       0.95      0.31      0.47        68\n",
        "#            1       0.19      0.92      0.31        12\n",
        "\n",
        "#     accuracy                           0.40        80\n",
        "#    macro avg       0.57      0.61      0.39        80\n",
        "# weighted avg       0.84      0.40      0.44        80\n"
      ],
      "metadata": {
        "id": "jcBwLhOx68kg"
      },
      "execution_count": null,
      "outputs": []
    }
  ]
}