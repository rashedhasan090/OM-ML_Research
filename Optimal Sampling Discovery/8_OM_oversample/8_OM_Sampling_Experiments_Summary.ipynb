{
  "nbformat": 4,
  "nbformat_minor": 0,
  "metadata": {
    "colab": {
      "provenance": []
    },
    "kernelspec": {
      "name": "python3",
      "display_name": "Python 3"
    },
    "language_info": {
      "name": "python"
    }
  },
  "cells": [
    {
      "cell_type": "markdown",
      "source": [
        "\n",
        "\n",
        "\n",
        "#P Balanced, NP Balanced Distribution\n",
        "\n",
        "###Notebook: [Can be found here](https://github.com/rashedhasan090/OM-ML_Research/blob/main/Optimal%20Sampling%20Discovery/8_OM_oversample/50-50/P_50__NP_50__8_Train_1_Test_(Library_Management).ipynb)\n",
        "\n",
        "P instances have been increased through oversampling.\n",
        "\n",
        "## 8 OM - Dataset , Camping,OnlineStore, Decider , Bank, Customer_order, E-Commerce, School Management, Student-Course\n",
        "\n",
        "##1 OM - Testing - Library Management (unseen)\n",
        "\n",
        "### P - NP Distribution\n",
        "\n",
        "50% - 50%\n",
        "\n",
        "### Training\n",
        "\n",
        "Total instances - 652\n",
        "\n",
        "P samples - 326 P\n",
        "\n",
        "NP samples - 326 NP\n",
        "\n",
        "### Testing\n",
        "\n",
        "Total instances - 100\n",
        "\n",
        "P samples - 15\n",
        "\n",
        "NP samples - 85\n"
      ],
      "metadata": {
        "id": "GcfQliCP4iHl"
      }
    },
    {
      "cell_type": "code",
      "source": [
        "#                  precision    recall  f1-score   support\n",
        "\n",
        "#            0       0.89      1.00      0.94        85\n",
        "#            1       1.00      0.33      0.50        15\n",
        "\n",
        "#     accuracy                           0.90       100\n",
        "#    macro avg       0.95      0.67      0.72       100\n",
        "# weighted avg       0.91      0.90      0.88       100\n"
      ],
      "metadata": {
        "id": "80SH_ibl5Rnc"
      },
      "execution_count": null,
      "outputs": []
    },
    {
      "cell_type": "markdown",
      "source": [
        "#P Oversample , NP Undersample Distribution\n",
        "\n",
        "###Notebook: [Can be found here](https://github.com/rashedhasan090/OM-ML_Research/blob/main/Optimal%20Sampling%20Discovery/8_OM_oversample/60-40/P_60__NP_40__8_Train_1_Test_(Library_Management).ipynb) \n",
        "\n",
        "\n",
        "\n",
        "P instances have been increased through oversampling.\n",
        "\n",
        "##8 OM - Dataset , Camping,OnlineStore, Decider , Bank, Customer_order, E-Commerce, School Management, Student-Course\n",
        "\n",
        "1 OM - Testing - Library Management (unseen)\n",
        "\n",
        "P - NP Distribution\n",
        "\n",
        "60% - 40%\n",
        "\n",
        "### Training\n",
        "\n",
        "Total instances - 652\n",
        "\n",
        "P samples - 392 P\n",
        "\n",
        "NP samples - 260 NP\n",
        "\n",
        "### Testing\n",
        "\n",
        "Total instances - 100\n",
        "\n",
        "P samples - 15\n",
        "\n",
        "NP samples - 85"
      ],
      "metadata": {
        "id": "QxChY5cb5ZEQ"
      }
    },
    {
      "cell_type": "code",
      "source": [
        "#                  precision    recall  f1-score   support\n",
        "\n",
        "#            0       1.00      0.24      0.38        85\n",
        "#            1       0.19      1.00      0.32        15\n",
        "\n",
        "#     accuracy                           0.35       100\n",
        "#    macro avg       0.59      0.62      0.35       100\n",
        "# weighted avg       0.88      0.35      0.37       100\n"
      ],
      "metadata": {
        "id": "dkiO_nWv58bS"
      },
      "execution_count": null,
      "outputs": []
    },
    {
      "cell_type": "markdown",
      "source": [
        "# P Oversample , NP Undersample Distribution\n",
        "\n",
        "###Notebook: [Can be found here](https://github.com/rashedhasan090/OM-ML_Research/blob/main/Optimal%20Sampling%20Discovery/8_OM_oversample/70-30/P_70__NP_30__8_Train_1_Test_(Library_Management).ipynb) \n",
        "\n",
        "\n",
        "P instances have been increased through oversampling.\n",
        "\n",
        "###8 OM - Dataset , Camping,OnlineStore, Decider , Bank, Customer_order, E-Commerce, School Management, Student-Course\n",
        "\n",
        "1 OM - Testing - Library Management (unseen)\n",
        "\n",
        "P - NP Distribution\n",
        "\n",
        "70% - 30%\n",
        "\n",
        "###Training\n",
        "\n",
        "Total instances - 652\n",
        "\n",
        "P samples - 456 P\n",
        "\n",
        "NP samples - 196 NP\n",
        "\n",
        "###Testing\n",
        "\n",
        "Total instances - 100\n",
        "\n",
        "P samples - 15\n",
        "\n",
        "NP samples - 85"
      ],
      "metadata": {
        "id": "rhhylzE16GZU"
      }
    },
    {
      "cell_type": "code",
      "source": [
        "#                   precision    recall  f1-score   support\n",
        "\n",
        "#            0       0.91      0.91      0.91        85\n",
        "#            1       0.47      0.47      0.47        15\n",
        "\n",
        "#     accuracy                           0.84       100\n",
        "#    macro avg       0.69      0.69      0.69       100\n",
        "# weighted avg       0.84      0.84      0.84       100\n"
      ],
      "metadata": {
        "id": "j5ADgSzV6i0E"
      },
      "execution_count": null,
      "outputs": []
    },
    {
      "cell_type": "markdown",
      "source": [
        "#P Oversample , NP Undersample Distribution\n",
        "\n",
        "\n",
        "\n",
        "\n",
        "###Notebook: [Can be found here](https://github.com/rashedhasan090/OM-ML_Research/blob/main/Optimal%20Sampling%20Discovery/6_OM_oversample/80-20/P_80__NP_20__6_Train_3_Test_(Library_Management%2C_School%2C_Student_course).ipynb)\n",
        "\n",
        "P instances have been increased through oversampling.\n",
        "\n",
        "##6 OM - Dataset , Camping,OnlineStore, Decider , Bank, Customer_order, E-Commerce\n",
        "\n",
        "##3 OM - Testing - Library Management, School OM, Student-course (unseen)\n",
        "\n",
        "P - NP Distribution\n",
        "\n",
        "80% - 20%\n",
        "\n",
        "###Training\n",
        "\n",
        "Total instances - 590\n",
        "\n",
        "P samples - 472 P\n",
        "\n",
        "NP samples - 118 NP\n",
        "\n",
        "###Testing\n",
        "\n",
        "Total instances - 170\n",
        "\n",
        "P samples - 32\n",
        "\n",
        "NP samples - 138"
      ],
      "metadata": {
        "id": "wrkHPMH56pIx"
      }
    },
    {
      "cell_type": "code",
      "source": [
        "#                  precision    recall  f1-score   support\n",
        "\n",
        "#            0       0.00      0.00      0.00        85\n",
        "#            1       0.15      1.00      0.26        15\n",
        "\n",
        "#     accuracy                           0.15       100\n",
        "#    macro avg       0.07      0.50      0.13       100\n",
        "# weighted avg       0.02      0.15      0.04       100"
      ],
      "metadata": {
        "id": "jcBwLhOx68kg"
      },
      "execution_count": null,
      "outputs": []
    }
  ]
}