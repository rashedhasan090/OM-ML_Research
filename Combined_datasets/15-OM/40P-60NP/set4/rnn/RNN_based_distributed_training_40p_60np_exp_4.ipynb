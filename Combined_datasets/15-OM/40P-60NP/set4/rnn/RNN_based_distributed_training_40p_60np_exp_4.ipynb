{
  "cells": [
    {
      "cell_type": "markdown",
      "metadata": {
        "id": "J0Qjg6vuaHNt"
      },
      "source": [
        "# RNNbased distributed training\n",
        "RNN_based_distributed_training_40p_60np_exp_4.ipynb\n",
        " 40P- 60NP : Experiment 4\n",
        "\n",
        "\n",
        "\n",
        "\n",
        "## Object Models: 15\n",
        "\n",
        "1.\tBank\n",
        "2.\tCamping\n",
        "3.\tCanteen\n",
        "4.\tCustomer_Order\n",
        "5.\tEcommerce\n",
        "6.\tHospital Management\n",
        "7.\tLibrary Management\n",
        "8.\tOnlinestore\n",
        "9.\tStudent Course\n",
        "10.\tTraffic_Controller\n",
        "11.\tUniversity\n",
        "12.\tDecider\n",
        "13.\tSchool_mgmt\n",
        "14.\tStore_mgmt\n",
        "15. Credit Card Process\n",
        "\n",
        "\n",
        "# Dataset Instances: 31139\n",
        "\n",
        "\n",
        "## Total Training Data: 26470\n",
        "\n",
        "### training set P :  4779\n",
        "\n",
        "### training set NP : 21690\n",
        "\n",
        "\n",
        "## Total Testing Data: 4670\n",
        "\n",
        "\n",
        "### testing set P : 1295\n",
        "\n",
        "### testing set NP : 3375"
      ]
    },
    {
      "cell_type": "markdown",
      "metadata": {
        "id": "yAmSR1FaqKrl"
      },
      "source": [
        "## Setup (installing necessary libraries)"
      ]
    },
    {
      "cell_type": "code",
      "execution_count": 1,
      "metadata": {
        "colab": {
          "base_uri": "https://localhost:8080/"
        },
        "id": "DGFTkuRvzWqc",
        "outputId": "433f1831-6e17-497e-cab5-5287338c9f5a"
      },
      "outputs": [
        {
          "output_type": "stream",
          "name": "stdout",
          "text": [
            "Collecting tensorflow-text>=2.10\n",
            "  Downloading tensorflow_text-2.12.1-cp310-cp310-manylinux_2_17_x86_64.manylinux2014_x86_64.whl (6.0 MB)\n",
            "\u001b[?25l     \u001b[90m━━━━━━━━━━━━━━━━━━━━━━━━━━━━━━━━━━━━━━━━\u001b[0m \u001b[32m0.0/6.0 MB\u001b[0m \u001b[31m?\u001b[0m eta \u001b[36m-:--:--\u001b[0m\r\u001b[2K     \u001b[91m━━━━━━━━━━━━━━━━━━━━━━━━━━\u001b[0m\u001b[91m╸\u001b[0m\u001b[90m━━━━━━━━━━━━━\u001b[0m \u001b[32m4.0/6.0 MB\u001b[0m \u001b[31m122.0 MB/s\u001b[0m eta \u001b[36m0:00:01\u001b[0m\r\u001b[2K     \u001b[91m━━━━━━━━━━━━━━━━━━━━━━━━━━━━━━━━━━━━━━━\u001b[0m\u001b[91m╸\u001b[0m \u001b[32m6.0/6.0 MB\u001b[0m \u001b[31m109.2 MB/s\u001b[0m eta \u001b[36m0:00:01\u001b[0m\r\u001b[2K     \u001b[90m━━━━━━━━━━━━━━━━━━━━━━━━━━━━━━━━━━━━━━━━\u001b[0m \u001b[32m6.0/6.0 MB\u001b[0m \u001b[31m66.7 MB/s\u001b[0m eta \u001b[36m0:00:00\u001b[0m\n",
            "\u001b[?25hRequirement already satisfied: tensorflow-hub>=0.8.0 in /usr/local/lib/python3.10/dist-packages (from tensorflow-text>=2.10) (0.13.0)\n",
            "Requirement already satisfied: tensorflow<2.13,>=2.12.0 in /usr/local/lib/python3.10/dist-packages (from tensorflow-text>=2.10) (2.12.0)\n",
            "Requirement already satisfied: absl-py>=1.0.0 in /usr/local/lib/python3.10/dist-packages (from tensorflow<2.13,>=2.12.0->tensorflow-text>=2.10) (1.4.0)\n",
            "Requirement already satisfied: astunparse>=1.6.0 in /usr/local/lib/python3.10/dist-packages (from tensorflow<2.13,>=2.12.0->tensorflow-text>=2.10) (1.6.3)\n",
            "Requirement already satisfied: flatbuffers>=2.0 in /usr/local/lib/python3.10/dist-packages (from tensorflow<2.13,>=2.12.0->tensorflow-text>=2.10) (23.5.26)\n",
            "Requirement already satisfied: gast<=0.4.0,>=0.2.1 in /usr/local/lib/python3.10/dist-packages (from tensorflow<2.13,>=2.12.0->tensorflow-text>=2.10) (0.4.0)\n",
            "Requirement already satisfied: google-pasta>=0.1.1 in /usr/local/lib/python3.10/dist-packages (from tensorflow<2.13,>=2.12.0->tensorflow-text>=2.10) (0.2.0)\n",
            "Requirement already satisfied: grpcio<2.0,>=1.24.3 in /usr/local/lib/python3.10/dist-packages (from tensorflow<2.13,>=2.12.0->tensorflow-text>=2.10) (1.56.0)\n",
            "Requirement already satisfied: h5py>=2.9.0 in /usr/local/lib/python3.10/dist-packages (from tensorflow<2.13,>=2.12.0->tensorflow-text>=2.10) (3.8.0)\n",
            "Requirement already satisfied: jax>=0.3.15 in /usr/local/lib/python3.10/dist-packages (from tensorflow<2.13,>=2.12.0->tensorflow-text>=2.10) (0.4.10)\n",
            "Requirement already satisfied: keras<2.13,>=2.12.0 in /usr/local/lib/python3.10/dist-packages (from tensorflow<2.13,>=2.12.0->tensorflow-text>=2.10) (2.12.0)\n",
            "Requirement already satisfied: libclang>=13.0.0 in /usr/local/lib/python3.10/dist-packages (from tensorflow<2.13,>=2.12.0->tensorflow-text>=2.10) (16.0.0)\n",
            "Requirement already satisfied: numpy<1.24,>=1.22 in /usr/local/lib/python3.10/dist-packages (from tensorflow<2.13,>=2.12.0->tensorflow-text>=2.10) (1.22.4)\n",
            "Requirement already satisfied: opt-einsum>=2.3.2 in /usr/local/lib/python3.10/dist-packages (from tensorflow<2.13,>=2.12.0->tensorflow-text>=2.10) (3.3.0)\n",
            "Requirement already satisfied: packaging in /usr/local/lib/python3.10/dist-packages (from tensorflow<2.13,>=2.12.0->tensorflow-text>=2.10) (23.1)\n",
            "Requirement already satisfied: protobuf!=4.21.0,!=4.21.1,!=4.21.2,!=4.21.3,!=4.21.4,!=4.21.5,<5.0.0dev,>=3.20.3 in /usr/local/lib/python3.10/dist-packages (from tensorflow<2.13,>=2.12.0->tensorflow-text>=2.10) (3.20.3)\n",
            "Requirement already satisfied: setuptools in /usr/local/lib/python3.10/dist-packages (from tensorflow<2.13,>=2.12.0->tensorflow-text>=2.10) (67.7.2)\n",
            "Requirement already satisfied: six>=1.12.0 in /usr/local/lib/python3.10/dist-packages (from tensorflow<2.13,>=2.12.0->tensorflow-text>=2.10) (1.16.0)\n",
            "Requirement already satisfied: tensorboard<2.13,>=2.12 in /usr/local/lib/python3.10/dist-packages (from tensorflow<2.13,>=2.12.0->tensorflow-text>=2.10) (2.12.3)\n",
            "Requirement already satisfied: tensorflow-estimator<2.13,>=2.12.0 in /usr/local/lib/python3.10/dist-packages (from tensorflow<2.13,>=2.12.0->tensorflow-text>=2.10) (2.12.0)\n",
            "Requirement already satisfied: termcolor>=1.1.0 in /usr/local/lib/python3.10/dist-packages (from tensorflow<2.13,>=2.12.0->tensorflow-text>=2.10) (2.3.0)\n",
            "Requirement already satisfied: typing-extensions>=3.6.6 in /usr/local/lib/python3.10/dist-packages (from tensorflow<2.13,>=2.12.0->tensorflow-text>=2.10) (4.6.3)\n",
            "Requirement already satisfied: wrapt<1.15,>=1.11.0 in /usr/local/lib/python3.10/dist-packages (from tensorflow<2.13,>=2.12.0->tensorflow-text>=2.10) (1.14.1)\n",
            "Requirement already satisfied: tensorflow-io-gcs-filesystem>=0.23.1 in /usr/local/lib/python3.10/dist-packages (from tensorflow<2.13,>=2.12.0->tensorflow-text>=2.10) (0.32.0)\n",
            "Requirement already satisfied: wheel<1.0,>=0.23.0 in /usr/local/lib/python3.10/dist-packages (from astunparse>=1.6.0->tensorflow<2.13,>=2.12.0->tensorflow-text>=2.10) (0.40.0)\n",
            "Requirement already satisfied: ml-dtypes>=0.1.0 in /usr/local/lib/python3.10/dist-packages (from jax>=0.3.15->tensorflow<2.13,>=2.12.0->tensorflow-text>=2.10) (0.2.0)\n",
            "Requirement already satisfied: scipy>=1.7 in /usr/local/lib/python3.10/dist-packages (from jax>=0.3.15->tensorflow<2.13,>=2.12.0->tensorflow-text>=2.10) (1.10.1)\n",
            "Requirement already satisfied: google-auth<3,>=1.6.3 in /usr/local/lib/python3.10/dist-packages (from tensorboard<2.13,>=2.12->tensorflow<2.13,>=2.12.0->tensorflow-text>=2.10) (2.17.3)\n",
            "Requirement already satisfied: google-auth-oauthlib<1.1,>=0.5 in /usr/local/lib/python3.10/dist-packages (from tensorboard<2.13,>=2.12->tensorflow<2.13,>=2.12.0->tensorflow-text>=2.10) (1.0.0)\n",
            "Requirement already satisfied: markdown>=2.6.8 in /usr/local/lib/python3.10/dist-packages (from tensorboard<2.13,>=2.12->tensorflow<2.13,>=2.12.0->tensorflow-text>=2.10) (3.4.3)\n",
            "Requirement already satisfied: requests<3,>=2.21.0 in /usr/local/lib/python3.10/dist-packages (from tensorboard<2.13,>=2.12->tensorflow<2.13,>=2.12.0->tensorflow-text>=2.10) (2.27.1)\n",
            "Requirement already satisfied: tensorboard-data-server<0.8.0,>=0.7.0 in /usr/local/lib/python3.10/dist-packages (from tensorboard<2.13,>=2.12->tensorflow<2.13,>=2.12.0->tensorflow-text>=2.10) (0.7.1)\n",
            "Requirement already satisfied: werkzeug>=1.0.1 in /usr/local/lib/python3.10/dist-packages (from tensorboard<2.13,>=2.12->tensorflow<2.13,>=2.12.0->tensorflow-text>=2.10) (2.3.6)\n",
            "Requirement already satisfied: cachetools<6.0,>=2.0.0 in /usr/local/lib/python3.10/dist-packages (from google-auth<3,>=1.6.3->tensorboard<2.13,>=2.12->tensorflow<2.13,>=2.12.0->tensorflow-text>=2.10) (5.3.1)\n",
            "Requirement already satisfied: pyasn1-modules>=0.2.1 in /usr/local/lib/python3.10/dist-packages (from google-auth<3,>=1.6.3->tensorboard<2.13,>=2.12->tensorflow<2.13,>=2.12.0->tensorflow-text>=2.10) (0.3.0)\n",
            "Requirement already satisfied: rsa<5,>=3.1.4 in /usr/local/lib/python3.10/dist-packages (from google-auth<3,>=1.6.3->tensorboard<2.13,>=2.12->tensorflow<2.13,>=2.12.0->tensorflow-text>=2.10) (4.9)\n",
            "Requirement already satisfied: requests-oauthlib>=0.7.0 in /usr/local/lib/python3.10/dist-packages (from google-auth-oauthlib<1.1,>=0.5->tensorboard<2.13,>=2.12->tensorflow<2.13,>=2.12.0->tensorflow-text>=2.10) (1.3.1)\n",
            "Requirement already satisfied: urllib3<1.27,>=1.21.1 in /usr/local/lib/python3.10/dist-packages (from requests<3,>=2.21.0->tensorboard<2.13,>=2.12->tensorflow<2.13,>=2.12.0->tensorflow-text>=2.10) (1.26.16)\n",
            "Requirement already satisfied: certifi>=2017.4.17 in /usr/local/lib/python3.10/dist-packages (from requests<3,>=2.21.0->tensorboard<2.13,>=2.12->tensorflow<2.13,>=2.12.0->tensorflow-text>=2.10) (2023.5.7)\n",
            "Requirement already satisfied: charset-normalizer~=2.0.0 in /usr/local/lib/python3.10/dist-packages (from requests<3,>=2.21.0->tensorboard<2.13,>=2.12->tensorflow<2.13,>=2.12.0->tensorflow-text>=2.10) (2.0.12)\n",
            "Requirement already satisfied: idna<4,>=2.5 in /usr/local/lib/python3.10/dist-packages (from requests<3,>=2.21.0->tensorboard<2.13,>=2.12->tensorflow<2.13,>=2.12.0->tensorflow-text>=2.10) (3.4)\n",
            "Requirement already satisfied: MarkupSafe>=2.1.1 in /usr/local/lib/python3.10/dist-packages (from werkzeug>=1.0.1->tensorboard<2.13,>=2.12->tensorflow<2.13,>=2.12.0->tensorflow-text>=2.10) (2.1.3)\n",
            "Requirement already satisfied: pyasn1<0.6.0,>=0.4.6 in /usr/local/lib/python3.10/dist-packages (from pyasn1-modules>=0.2.1->google-auth<3,>=1.6.3->tensorboard<2.13,>=2.12->tensorflow<2.13,>=2.12.0->tensorflow-text>=2.10) (0.5.0)\n",
            "Requirement already satisfied: oauthlib>=3.0.0 in /usr/local/lib/python3.10/dist-packages (from requests-oauthlib>=0.7.0->google-auth-oauthlib<1.1,>=0.5->tensorboard<2.13,>=2.12->tensorflow<2.13,>=2.12.0->tensorflow-text>=2.10) (3.2.2)\n",
            "Installing collected packages: tensorflow-text\n",
            "Successfully installed tensorflow-text-2.12.1\n",
            "Collecting einops\n",
            "  Downloading einops-0.6.1-py3-none-any.whl (42 kB)\n",
            "\u001b[2K     \u001b[90m━━━━━━━━━━━━━━━━━━━━━━━━━━━━━━━━━━━━━━━━\u001b[0m \u001b[32m42.2/42.2 kB\u001b[0m \u001b[31m6.0 MB/s\u001b[0m eta \u001b[36m0:00:00\u001b[0m\n",
            "\u001b[?25hInstalling collected packages: einops\n",
            "Successfully installed einops-0.6.1\n"
          ]
        }
      ],
      "source": [
        "!pip install \"tensorflow-text>=2.10\"\n",
        "!pip install einops"
      ]
    },
    {
      "cell_type": "markdown",
      "metadata": {
        "id": "A07RWC45HcG0"
      },
      "source": [
        "#Importing Libraries"
      ]
    },
    {
      "cell_type": "code",
      "execution_count": 2,
      "metadata": {
        "id": "tnxXKDjq3jEL"
      },
      "outputs": [],
      "source": [
        "import numpy as np\n",
        "import typing\n",
        "from typing import Any, Tuple\n",
        "from sklearn.model_selection import train_test_split\n",
        "\n",
        "import pathlib\n",
        "\n",
        "import einops\n",
        "import matplotlib.pyplot as plt\n",
        "import matplotlib.ticker as ticker\n",
        "\n",
        "import tensorflow as tf\n",
        "import tensorflow_text as tf_text"
      ]
    },
    {
      "cell_type": "markdown",
      "metadata": {
        "id": "h87kqCNBHly5"
      },
      "source": [
        "#Defining the Shapechecker"
      ]
    },
    {
      "cell_type": "code",
      "execution_count": 3,
      "metadata": {
        "id": "KqFqKi4fqN9X"
      },
      "outputs": [],
      "source": [
        "#@title\n",
        "class ShapeChecker():\n",
        "  def __init__(self):\n",
        "    # Keep a cache of every axis-name seen\n",
        "    self.shapes = {}\n",
        "\n",
        "  def __call__(self, tensor, names, broadcast=False):\n",
        "    if not tf.executing_eagerly():\n",
        "      return\n",
        "\n",
        "    parsed = einops.parse_shape(tensor, names)\n",
        "\n",
        "    for name, new_dim in parsed.items():\n",
        "      old_dim = self.shapes.get(name, None)\n",
        "\n",
        "      if (broadcast and new_dim == 1):\n",
        "        continue\n",
        "\n",
        "      if old_dim is None:\n",
        "        # If the axis name is new, add its length to the cache.\n",
        "        self.shapes[name] = new_dim\n",
        "        continue\n",
        "\n",
        "      if new_dim != old_dim:\n",
        "        raise ValueError(f\"Shape mismatch for dimension: '{name}'\\n\"\n",
        "                         f\"    found: {new_dim}\\n\"\n",
        "                         f\"    expected: {old_dim}\\n\")"
      ]
    },
    {
      "cell_type": "markdown",
      "metadata": {
        "id": "dB7rgJDbeBDF"
      },
      "source": [
        "# Loading the Dataset"
      ]
    },
    {
      "cell_type": "code",
      "execution_count": 4,
      "metadata": {
        "id": "daNcrh1lVej7"
      },
      "outputs": [],
      "source": [
        "import pandas as pd\n",
        "ORM_data = pd.read_excel('15_OM_40p_final_4.xlsx')\n"
      ]
    },
    {
      "cell_type": "markdown",
      "metadata": {
        "id": "KbiGtupGHyJd"
      },
      "source": [
        "#Reading Data from Dataset"
      ]
    },
    {
      "cell_type": "code",
      "execution_count": 5,
      "metadata": {
        "colab": {
          "base_uri": "https://localhost:8080/",
          "height": 206
        },
        "id": "ve7kyoOxWY1u",
        "outputId": "204d4484-7805-4c5c-af26-64b7ed953637"
      },
      "outputs": [
        {
          "output_type": "execute_result",
          "data": {
            "text/plain": [
              "                                          OM_Regular  \\\n",
              "0  module OM_name:0,open Declaration one sig clas...   \n",
              "1  module OM_name:0,open Declaration one sig clas...   \n",
              "2  module OM_name:0,open Declaration one sig clas...   \n",
              "3  module OM_name:0,open Declaration one sig clas...   \n",
              "4  module OM_name:0,open Declaration one sig clas...   \n",
              "\n",
              "                                       OM_Prediction  \n",
              "0  P, module OM_name:0,open Declaration one sig c...  \n",
              "1  P, module OM_name:0,open Declaration one sig c...  \n",
              "2  P, module OM_name:0,open Declaration one sig c...  \n",
              "3  NP, module OM_name:0,open Declaration one sig ...  \n",
              "4  NP, module OM_name:0,open Declaration one sig ...  "
            ],
            "text/html": [
              "\n",
              "  <div id=\"df-2047aa80-81bf-415b-a2c6-42907019fd49\">\n",
              "    <div class=\"colab-df-container\">\n",
              "      <div>\n",
              "<style scoped>\n",
              "    .dataframe tbody tr th:only-of-type {\n",
              "        vertical-align: middle;\n",
              "    }\n",
              "\n",
              "    .dataframe tbody tr th {\n",
              "        vertical-align: top;\n",
              "    }\n",
              "\n",
              "    .dataframe thead th {\n",
              "        text-align: right;\n",
              "    }\n",
              "</style>\n",
              "<table border=\"1\" class=\"dataframe\">\n",
              "  <thead>\n",
              "    <tr style=\"text-align: right;\">\n",
              "      <th></th>\n",
              "      <th>OM_Regular</th>\n",
              "      <th>OM_Prediction</th>\n",
              "    </tr>\n",
              "  </thead>\n",
              "  <tbody>\n",
              "    <tr>\n",
              "      <th>0</th>\n",
              "      <td>module OM_name:0,open Declaration one sig clas...</td>\n",
              "      <td>P, module OM_name:0,open Declaration one sig c...</td>\n",
              "    </tr>\n",
              "    <tr>\n",
              "      <th>1</th>\n",
              "      <td>module OM_name:0,open Declaration one sig clas...</td>\n",
              "      <td>P, module OM_name:0,open Declaration one sig c...</td>\n",
              "    </tr>\n",
              "    <tr>\n",
              "      <th>2</th>\n",
              "      <td>module OM_name:0,open Declaration one sig clas...</td>\n",
              "      <td>P, module OM_name:0,open Declaration one sig c...</td>\n",
              "    </tr>\n",
              "    <tr>\n",
              "      <th>3</th>\n",
              "      <td>module OM_name:0,open Declaration one sig clas...</td>\n",
              "      <td>NP, module OM_name:0,open Declaration one sig ...</td>\n",
              "    </tr>\n",
              "    <tr>\n",
              "      <th>4</th>\n",
              "      <td>module OM_name:0,open Declaration one sig clas...</td>\n",
              "      <td>NP, module OM_name:0,open Declaration one sig ...</td>\n",
              "    </tr>\n",
              "  </tbody>\n",
              "</table>\n",
              "</div>\n",
              "      <button class=\"colab-df-convert\" onclick=\"convertToInteractive('df-2047aa80-81bf-415b-a2c6-42907019fd49')\"\n",
              "              title=\"Convert this dataframe to an interactive table.\"\n",
              "              style=\"display:none;\">\n",
              "        \n",
              "  <svg xmlns=\"http://www.w3.org/2000/svg\" height=\"24px\"viewBox=\"0 0 24 24\"\n",
              "       width=\"24px\">\n",
              "    <path d=\"M0 0h24v24H0V0z\" fill=\"none\"/>\n",
              "    <path d=\"M18.56 5.44l.94 2.06.94-2.06 2.06-.94-2.06-.94-.94-2.06-.94 2.06-2.06.94zm-11 1L8.5 8.5l.94-2.06 2.06-.94-2.06-.94L8.5 2.5l-.94 2.06-2.06.94zm10 10l.94 2.06.94-2.06 2.06-.94-2.06-.94-.94-2.06-.94 2.06-2.06.94z\"/><path d=\"M17.41 7.96l-1.37-1.37c-.4-.4-.92-.59-1.43-.59-.52 0-1.04.2-1.43.59L10.3 9.45l-7.72 7.72c-.78.78-.78 2.05 0 2.83L4 21.41c.39.39.9.59 1.41.59.51 0 1.02-.2 1.41-.59l7.78-7.78 2.81-2.81c.8-.78.8-2.07 0-2.86zM5.41 20L4 18.59l7.72-7.72 1.47 1.35L5.41 20z\"/>\n",
              "  </svg>\n",
              "      </button>\n",
              "      \n",
              "  <style>\n",
              "    .colab-df-container {\n",
              "      display:flex;\n",
              "      flex-wrap:wrap;\n",
              "      gap: 12px;\n",
              "    }\n",
              "\n",
              "    .colab-df-convert {\n",
              "      background-color: #E8F0FE;\n",
              "      border: none;\n",
              "      border-radius: 50%;\n",
              "      cursor: pointer;\n",
              "      display: none;\n",
              "      fill: #1967D2;\n",
              "      height: 32px;\n",
              "      padding: 0 0 0 0;\n",
              "      width: 32px;\n",
              "    }\n",
              "\n",
              "    .colab-df-convert:hover {\n",
              "      background-color: #E2EBFA;\n",
              "      box-shadow: 0px 1px 2px rgba(60, 64, 67, 0.3), 0px 1px 3px 1px rgba(60, 64, 67, 0.15);\n",
              "      fill: #174EA6;\n",
              "    }\n",
              "\n",
              "    [theme=dark] .colab-df-convert {\n",
              "      background-color: #3B4455;\n",
              "      fill: #D2E3FC;\n",
              "    }\n",
              "\n",
              "    [theme=dark] .colab-df-convert:hover {\n",
              "      background-color: #434B5C;\n",
              "      box-shadow: 0px 1px 3px 1px rgba(0, 0, 0, 0.15);\n",
              "      filter: drop-shadow(0px 1px 2px rgba(0, 0, 0, 0.3));\n",
              "      fill: #FFFFFF;\n",
              "    }\n",
              "  </style>\n",
              "\n",
              "      <script>\n",
              "        const buttonEl =\n",
              "          document.querySelector('#df-2047aa80-81bf-415b-a2c6-42907019fd49 button.colab-df-convert');\n",
              "        buttonEl.style.display =\n",
              "          google.colab.kernel.accessAllowed ? 'block' : 'none';\n",
              "\n",
              "        async function convertToInteractive(key) {\n",
              "          const element = document.querySelector('#df-2047aa80-81bf-415b-a2c6-42907019fd49');\n",
              "          const dataTable =\n",
              "            await google.colab.kernel.invokeFunction('convertToInteractive',\n",
              "                                                     [key], {});\n",
              "          if (!dataTable) return;\n",
              "\n",
              "          const docLinkHtml = 'Like what you see? Visit the ' +\n",
              "            '<a target=\"_blank\" href=https://colab.research.google.com/notebooks/data_table.ipynb>data table notebook</a>'\n",
              "            + ' to learn more about interactive tables.';\n",
              "          element.innerHTML = '';\n",
              "          dataTable['output_type'] = 'display_data';\n",
              "          await google.colab.output.renderOutput(dataTable, element);\n",
              "          const docLink = document.createElement('div');\n",
              "          docLink.innerHTML = docLinkHtml;\n",
              "          element.appendChild(docLink);\n",
              "        }\n",
              "      </script>\n",
              "    </div>\n",
              "  </div>\n",
              "  "
            ]
          },
          "metadata": {},
          "execution_count": 5
        }
      ],
      "source": [
        "ORM_data.head()"
      ]
    },
    {
      "cell_type": "code",
      "execution_count": 6,
      "metadata": {
        "id": "V7OaHrVYV-Xd"
      },
      "outputs": [],
      "source": [
        "OM_Regular = ORM_data['OM_Regular'].values\n",
        "OM_Prediction = ORM_data['OM_Prediction'].values"
      ]
    },
    {
      "cell_type": "code",
      "execution_count": 7,
      "metadata": {
        "id": "jTBVOEjFWAI5"
      },
      "outputs": [],
      "source": [
        "X = OM_Regular\n",
        "Y = OM_Prediction"
      ]
    },
    {
      "cell_type": "markdown",
      "metadata": {
        "id": "YOujEo2geGod"
      },
      "source": [
        "#### Dividing data as Target and Context"
      ]
    },
    {
      "cell_type": "code",
      "execution_count": 8,
      "metadata": {
        "colab": {
          "base_uri": "https://localhost:8080/"
        },
        "id": "cTbSbBz55QtF",
        "outputId": "f72eb576-b509-4566-dc09-ffa372d0b8d7"
      },
      "outputs": [
        {
          "output_type": "stream",
          "name": "stdout",
          "text": [
            "module OM_name 0;open Declaration one sig class1_name  extends  Class attrSet  = c1_at1+c1_at2id=c1_at1no parentisAbstract = No}one sig c1_at1  extends  c1_at1_typeone sig c1_at2  extends  c1_at2_typeone sig class2_name  extends  Class attrSet  = c2_at1+c2_at2id=c2_at1no parentisAbstract = No}one sig c2_at1  extends  c2_at1_typeone sig c2_at1  extends  c2_at2_typeone sig class3_name  extends  Class attrSet  = c3_at1+c3_at2+c3_at3+c3_at4c3_at5+c3_at6id=c3_at1no parentisAbstract = No}one sig c3_at1  extends  c3_at1_typeone sig c3_at2  extends  c3_at2_typeone sig c3_at3  extends  c3_at3_typeone sig c3_at4  extends  c3_at4_typeone sig c3_at5  extends  c3_at5_typeone sig c3_at6  extends  c3_at6_typeone sig class4_name  extends  Class attrSet  = c4_at1+c4_at2+c4_at3+c4_at4id=c4_at3no parentisAbstract = No}one sig c4_at1  extends  c4_at1_typeone sig c4_at2  extends  c4_at2_typeone sig c4_at3  extends  c4_at3_typeone sig c4_at4  extends  c4_at4_typeone sig class5_name  extends  Class attrSet  = c5_at1one parent parent in class2_nameid = c2_at1isAbstract = No}one sig c5_at1  extends  c5_at1_typeone sig class6_name  extends  Class attrSet  = c6_at1_0+c6_at2+c6_at3+c6_at4id=c6_at2no parentisAbstract = No}one sig c6_at1_0  extends  c6_at1_typeone sig c6_at2  extends  c6_at2_typeone sig c6_at3  extends  c6_at3_typeone sig c6_at4  extends  c6_at4_typeone sig class7_name  extends  Class attrSet  = c7_at1one parent parent in class2_nameid = c2_at1isAbstract = No}one sig c7_at1  extends  c7_at1_typeone sig class8_name  extends  Class attrSet  = c8_at1+c8_at2+c2_at2+c6_at3id=c8_at1no parentisAbstract = No}one sig c8_at1  extends  c8_at1_typeone sig c8_at2  extends  c8_at2_typeone sig assoc1  extends    Association  src = class8_namedst= class2_name src_multiplicity  = src_mlpc dst_multiplicity  = dst_mlpc}one sig assoc2  extends    Association  src = class2_namedst= class4_name src_multiplicity  = src_mlpc2 dst_multiplicity  = dst_mlpc}one sig assoc3  extends    Association  src = class8_namedst= class3_name src_multiplicity  = src_mlpc dst_multiplicity  = dst_mlpc}one sig assoc4  extends    Association  src = class8_namedst= class4_name src_multiplicity  = src_mlpc dst_multiplicity  = dst_mlpc}one sig assoc5  extends    Association  src = class8_namedst= class6_name src_multiplicity  = src_mlpc dst_multiplicity  = dst_mlpc2}one sig assoc6  extends    Association  src = class6_namedst= Payment src_multiplicity  = src_mlpc dst_multiplicity  = dst_mlpc2}one sig assoc8  extends    Association  src = class6_namedst= class4_name src_multiplicity  = src_mlpc dst_multiplicity  = dst_mlpc}one sig assoc11  extends    Association  src = class1_namedst= class3_name src_multiplicity  = src_mlpc dst_multiplicity  = dst_mlpc}one sig assoc9  extends    Association  src = class1_namedst= class4_name src_multiplicity  = src_mlpc dst_multiplicity  = dst_mlpc}one sig assoc10  extends    Association  src = class2_namedst= class3_name src_multiplicity  = src_mlpc dst_multiplicity  = dst_mlpc2}pred showrun show,Mapping Strategy for class1_name : map_str2Mapping Strategy for class2_name : map_str2Mapping Strategy for class5_name : map_str3Mapping Strategy for class7_name : map_str3 Association  Strategy for assoc11 : assoc_str1 Association  Strategy for assoc9 : assoc_str1 Association  Strategy for assoc1 : assoc_str2 Association  Strategy for assoc2 : assoc_str2 Association  Strategy for assoc3 : assoc_str2 Association  Strategy for assoc4 : assoc_str2 Association  Strategy for assoc5 : assoc_str2 Association  Strategy for assoc6 : assoc_str2 Association  Strategy for assoc8 : assoc_str2 Association  Strategy for assoc10 : assoc_str2,USE OM_name:0;CREATE TABLE `class5_name` (`c2_at2` c2_at2_type(64),`c2_at1` c2_at1_type  NOT  NULL,PRIMARY  KEY  (`c2_at1`)CREATE TABLE `class6_name` (`c6_at4` c6_at4_type(64),`c6_at3` c6_at3_type(64),`c6_at1_0` c6_at1_type(64),`c6_at2` c6_at2_type  NOT  NULL,PRIMARY  KEY  (`c6_at2`)CREATE TABLE `class8_name` (`c8_at2` c8_at2_type(64),`c6_at3` c6_at3_type(64),`c2_at2` c2_at2_type(64),`c8_at1` c8_at1_type  NOT  NULL,PRIMARY  KEY  (`c8_at1`)CREATE TABLE `class2_name` (`c2_at2` c2_at2_type(64),`c8_at1` c8_at1_type,`c2_at1` c2_at1_type  NOT  NULL, KEY  `FK_class2_name_c8_at1_idx` (`c8_at1`),PRIMARY  KEY  (`c2_at1`)CREATE TABLE `assoc9` (`c4_at3` c4_at3_type  NOT  NULL,`c1_at1` c1_at1_type  NOT  NULL, KEY  `FK_assoc9_c4_at3_idx` (`c4_at3`), KEY  `FK_assoc9_c1_at1_idx` (`c1_at1`),PRIMARY  KEY  (`c4_at3`,`c1_at1`)CREATE TABLE `class3_name` (`c8_at1` c8_at1_type,`c3_at6` c3_at6_type,`c3_at5` c3_at5_type,`c3_at4` c3_at4_type,`c3_at3` c3_at3_type,`c3_at2` c3_at2_type,`c3_at1` c3_at1_type  NOT  NULL,`c1_at1` int, KEY  `FK_class3_name_c8_at1_idx` (`c8_at1`), KEY  `FK_class3_name_c1_at1_idx` (`c1_at1`),PRIMARY  KEY  (`c3_at1`)CREATE TABLE `class7_name` (`c7_at1` c7_at1_type(64),`c2_at2` c2_at2_type(64),`c2_at1` c2_at1_type  NOT  NULL,PRIMARY  KEY  (`c2_at1`)CREATE TABLE `class1_name` (`c1_at2` c1_at2_type(64),`c1_at1` c1_at1_type  NOT  NULL,PRIMARY  KEY  (`c1_at1`)CREATE TABLE `assoc6` (`c6_at2` c6_at2_type  NOT  NULL,`c1_at1` c1_at1_type  NOT  NULL, KEY  `FK_assoc6_c6_at2_idx` (`c6_at2`), KEY  `FK_assoc6_c1_at1_idx` (`c1_at1`),PRIMARY  KEY  (`c6_at2`,`c1_at1`) Association  Strategy for assoc5 : assoc_str2`c8_at1` c8_at1_type  NOT  NULL,`c6_at2` c6_at2_type  NOT  NULL, KEY  `FK_assoc5_c8_at1_idx` (`c8_at1`), KEY  `FK_assoc5_c6_at2_idx` (`c6_at2`),PRIMARY  KEY  (`c8_at1`,`c6_at2`)CREATE TABLE `assoc2` (`c4_at3` c4_at3_type  NOT  NULL,`c2_at1` c2_at1_type  NOT  NULL, KEY  `FK_assoc2_c4_at3_idx` (`c4_at3`), KEY  `FK_assoc2_c2_at1_idx` (`c2_at1`),PRIMARY  KEY  (`c4_at3`,`c2_at1`)CREATE TABLE `assoc10` (`c3_at1` c3_at1_type  NOT  NULL,`c2_at1` c2_at1_type  NOT  NULL, KEY  `FK_assoc10_c3_at1_idx` (`c3_at1`), KEY  `FK_assoc10_c2_at1_idx` (`c2_at1`),PRIMARY  KEY  (`c3_at1`,`c2_at1`)CREATE TABLE `class4_name` (`c4_at4` c4_at4_type(64),`c4_at2` c4_at2_type(64),`c4_at1` c4_at1_type(64),`c8_at1` c8_at1_type,`c6_at2` c6_at2_type,`c4_at3` c4_at3_type  NOT  NULL, KEY  `FK_class4_name_c8_at1_idx` (`c8_at1`), KEY  `FK_class4_name_c6_at2_idx` (`c6_at2`),PRIMARY  KEY  (`c4_at3`)ALTER TABLE `class2_name` ADD  CONSTRAINT `FK_class2_name_c8_at1` FOREIGN  KEY  (`c8_at1`)  REFERENCES  `class8_name` (`c8_at1`) ON DELETE CASCADE ON UPDATE CASCADE,ALTER TABLE `assoc9` ADD  CONSTRAINT `FK_assoc9_c4_at3` FOREIGN  KEY  (`c4_at3`)  REFERENCES  `class4_name` (`c4_at3`) ON DELETE CASCADE ON UPDATE CASCADE, ADD  CONSTRAINT `FK_assoc9_c1_at1` FOREIGN  KEY  (`c1_at1`)  REFERENCES  `class1_name` (`c1_at1`) ON DELETE CASCADE ON UPDATE CASCADE;ALTER TABLE `class3_name` ADD  CONSTRAINT `FK_class3_name_c8_at1` FOREIGN  KEY  (`c8_at1`)  REFERENCES  `class8_name` (`c8_at1`) ON DELETE CASCADE ON UPDATE CASCADE, ADD  CONSTRAINT `FK_class3_name_c1_at1` FOREIGN  KEY  (`c1_at1`)  REFERENCES  `class1_name` (`c1_at1`) ON DELETE CASCADE ON UPDATE CASCADE,ALTER TABLE `assoc6`ALTER TABLE `class7_name` ADD  CONSTRAINT `FK_assoc6_c1_at1` FOREIGN  KEY  (`c1_at1`)  REFERENCES  `class1_name` (`c1_at1`) ON DELETE CASCADE ON UPDATE CASCADE,ALTER TABLE `assoc5` ADD  CONSTRAINT `FK_assoc5_c8_at1` FOREIGN  KEY  (`c8_at1`)  REFERENCES  `class8_name` (`c8_at1`) ON DELETE CASCADE ON UPDATE CASCADE, ADD  CONSTRAINT `FK_assoc5_c6_at2` FOREIGN  KEY  (`c6_at2`)  REFERENCES  `class6_name` (`c6_at2`) ON DELETE CASCADE ON UPDATE CASCADE;ALTER TABLE `assoc2` ADD  CONSTRAINT `FK_assoc2_c4_at3` FOREIGN  KEY  (`c4_at3`)  REFERENCES  `class4_name` (`c4_at3`) ON DELETE CASCADE ON UPDATE CASCADE ADD  CONSTRAINT `FK_assoc2_c2_at1` FOREIGN  KEY  (`c2_at1`)  REFERENCES  `class2_name` (`c2_at1`) ON DELETE CASCADE ON UPDATE CASCADE,ALTER TABLE `assoc10` ADD  CONSTRAINT `FK_assoc10_c3_at1` FOREIGN  KEY  (`c3_at1`)  REFERENCES  `class3_name` (`c3_at1`) ON DELETE CASCADE ON UPDATE CASCADE, ADD  CONSTRAINT `FK_assoc10_c2_at1` FOREIGN  KEY  (`c2_at1`)  REFERENCES  `class2_name` (`c2_at1`) ON DELETE CASCADE ON UPDATE CASCADE,ALTER TABLE `class4_name` ADD  CONSTRAINT `FK_class4_name_c8_at1` FOREIGN  KEY  (`c8_at1`)  REFERENCES  `class8_name` (`c8_at1`) ON DELETE CASCADE ON UPDATE CASCADE, ADD  CONSTRAINT `FK_class4_name_c6_at2` FOREIGN  KEY  (`c6_at2`)  REFERENCES  `class6_name` (`c6_at2`) ON DELETE CASCADE ON UPDATE CASCADE;\n"
          ]
        }
      ],
      "source": [
        "target_raw =  Y\n",
        "context_raw = X\n",
        "print(context_raw[-1])"
      ]
    },
    {
      "cell_type": "code",
      "execution_count": 9,
      "metadata": {
        "colab": {
          "base_uri": "https://localhost:8080/"
        },
        "id": "lH_dPY8TRp3c",
        "outputId": "9e85d41f-c6f0-449c-84ca-05451b377767"
      },
      "outputs": [
        {
          "output_type": "stream",
          "name": "stdout",
          "text": [
            "NP, module OM_name 0;open Declaration one sig class1_name  extends  Class attrSet  = c1_at1+c1_at2id=c1_at1no parentisAbstract = No}one sig c1_at1  extends  c1_at1_typeone sig c1_at2  extends  c1_at2_typeone sig class2_name  extends  Class attrSet  = c2_at1+c2_at2id=c2_at1no parentisAbstract = No}one sig c2_at1  extends  c2_at1_typeone sig c2_at1  extends  c2_at2_typeone sig class3_name  extends  Class attrSet  = c3_at1+c3_at2+c3_at3+c3_at4c3_at5+c3_at6id=c3_at1no parentisAbstract = No}one sig c3_at1  extends  c3_at1_typeone sig c3_at2  extends  c3_at2_typeone sig c3_at3  extends  c3_at3_typeone sig c3_at4  extends  c3_at4_typeone sig c3_at5  extends  c3_at5_typeone sig c3_at6  extends  c3_at6_typeone sig class4_name  extends  Class attrSet  = c4_at1+c4_at2+c4_at3+c4_at4id=c4_at3no parentisAbstract = No}one sig c4_at1  extends  c4_at1_typeone sig c4_at2  extends  c4_at2_typeone sig c4_at3  extends  c4_at3_typeone sig c4_at4  extends  c4_at4_typeone sig class5_name  extends  Class attrSet  = c5_at1one parent parent in class2_nameid = c2_at1isAbstract = No}one sig c5_at1  extends  c5_at1_typeone sig class6_name  extends  Class attrSet  = c6_at1_0+c6_at2+c6_at3+c6_at4id=c6_at2no parentisAbstract = No}one sig c6_at1_0  extends  c6_at1_typeone sig c6_at2  extends  c6_at2_typeone sig c6_at3  extends  c6_at3_typeone sig c6_at4  extends  c6_at4_typeone sig class7_name  extends  Class attrSet  = c7_at1one parent parent in class2_nameid = c2_at1isAbstract = No}one sig c7_at1  extends  c7_at1_typeone sig class8_name  extends  Class attrSet  = c8_at1+c8_at2+c2_at2+c6_at3id=c8_at1no parentisAbstract = No}one sig c8_at1  extends  c8_at1_typeone sig c8_at2  extends  c8_at2_typeone sig assoc1  extends    Association  src = class8_namedst= class2_name src_multiplicity  = src_mlpc dst_multiplicity  = dst_mlpc}one sig assoc2  extends    Association  src = class2_namedst= class4_name src_multiplicity  = src_mlpc2 dst_multiplicity  = dst_mlpc}one sig assoc3  extends    Association  src = class8_namedst= class3_name src_multiplicity  = src_mlpc dst_multiplicity  = dst_mlpc}one sig assoc4  extends    Association  src = class8_namedst= class4_name src_multiplicity  = src_mlpc dst_multiplicity  = dst_mlpc}one sig assoc5  extends    Association  src = class8_namedst= class6_name src_multiplicity  = src_mlpc dst_multiplicity  = dst_mlpc2}one sig assoc6  extends    Association  src = class6_namedst= Payment src_multiplicity  = src_mlpc dst_multiplicity  = dst_mlpc2}one sig assoc8  extends    Association  src = class6_namedst= class4_name src_multiplicity  = src_mlpc dst_multiplicity  = dst_mlpc}one sig assoc11  extends    Association  src = class1_namedst= class3_name src_multiplicity  = src_mlpc dst_multiplicity  = dst_mlpc}one sig assoc9  extends    Association  src = class1_namedst= class4_name src_multiplicity  = src_mlpc dst_multiplicity  = dst_mlpc}one sig assoc10  extends    Association  src = class2_namedst= class3_name src_multiplicity  = src_mlpc dst_multiplicity  = dst_mlpc2}pred showrun show,Mapping Strategy for class1_name : map_str2Mapping Strategy for class2_name : map_str2Mapping Strategy for class5_name : map_str3Mapping Strategy for class7_name : map_str3 Association  Strategy for assoc11 : assoc_str1 Association  Strategy for assoc9 : assoc_str1 Association  Strategy for assoc1 : assoc_str2 Association  Strategy for assoc2 : assoc_str2 Association  Strategy for assoc3 : assoc_str2 Association  Strategy for assoc4 : assoc_str2 Association  Strategy for assoc5 : assoc_str2 Association  Strategy for assoc6 : assoc_str2 Association  Strategy for assoc8 : assoc_str2 Association  Strategy for assoc10 : assoc_str2,USE OM_name:0;CREATE TABLE `class5_name` (`c2_at2` c2_at2_type(64),`c2_at1` c2_at1_type  NOT  NULL,PRIMARY  KEY  (`c2_at1`)CREATE TABLE `class6_name` (`c6_at4` c6_at4_type(64),`c6_at3` c6_at3_type(64),`c6_at1_0` c6_at1_type(64),`c6_at2` c6_at2_type  NOT  NULL,PRIMARY  KEY  (`c6_at2`)CREATE TABLE `class8_name` (`c8_at2` c8_at2_type(64),`c6_at3` c6_at3_type(64),`c2_at2` c2_at2_type(64),`c8_at1` c8_at1_type  NOT  NULL,PRIMARY  KEY  (`c8_at1`)CREATE TABLE `class2_name` (`c2_at2` c2_at2_type(64),`c8_at1` c8_at1_type,`c2_at1` c2_at1_type  NOT  NULL, KEY  `FK_class2_name_c8_at1_idx` (`c8_at1`),PRIMARY  KEY  (`c2_at1`)CREATE TABLE `assoc9` (`c4_at3` c4_at3_type  NOT  NULL,`c1_at1` c1_at1_type  NOT  NULL, KEY  `FK_assoc9_c4_at3_idx` (`c4_at3`), KEY  `FK_assoc9_c1_at1_idx` (`c1_at1`),PRIMARY  KEY  (`c4_at3`,`c1_at1`)CREATE TABLE `class3_name` (`c8_at1` c8_at1_type,`c3_at6` c3_at6_type,`c3_at5` c3_at5_type,`c3_at4` c3_at4_type,`c3_at3` c3_at3_type,`c3_at2` c3_at2_type,`c3_at1` c3_at1_type  NOT  NULL,`c1_at1` int, KEY  `FK_class3_name_c8_at1_idx` (`c8_at1`), KEY  `FK_class3_name_c1_at1_idx` (`c1_at1`),PRIMARY  KEY  (`c3_at1`)CREATE TABLE `class7_name` (`c7_at1` c7_at1_type(64),`c2_at2` c2_at2_type(64),`c2_at1` c2_at1_type  NOT  NULL,PRIMARY  KEY  (`c2_at1`)CREATE TABLE `class1_name` (`c1_at2` c1_at2_type(64),`c1_at1` c1_at1_type  NOT  NULL,PRIMARY  KEY  (`c1_at1`)CREATE TABLE `assoc6` (`c6_at2` c6_at2_type  NOT  NULL,`c1_at1` c1_at1_type  NOT  NULL, KEY  `FK_assoc6_c6_at2_idx` (`c6_at2`), KEY  `FK_assoc6_c1_at1_idx` (`c1_at1`),PRIMARY  KEY  (`c6_at2`,`c1_at1`) Association  Strategy for assoc5 : assoc_str2`c8_at1` c8_at1_type  NOT  NULL,`c6_at2` c6_at2_type  NOT  NULL, KEY  `FK_assoc5_c8_at1_idx` (`c8_at1`), KEY  `FK_assoc5_c6_at2_idx` (`c6_at2`),PRIMARY  KEY  (`c8_at1`,`c6_at2`)CREATE TABLE `assoc2` (`c4_at3` c4_at3_type  NOT  NULL,`c2_at1` c2_at1_type  NOT  NULL, KEY  `FK_assoc2_c4_at3_idx` (`c4_at3`), KEY  `FK_assoc2_c2_at1_idx` (`c2_at1`),PRIMARY  KEY  (`c4_at3`,`c2_at1`)CREATE TABLE `assoc10` (`c3_at1` c3_at1_type  NOT  NULL,`c2_at1` c2_at1_type  NOT  NULL, KEY  `FK_assoc10_c3_at1_idx` (`c3_at1`), KEY  `FK_assoc10_c2_at1_idx` (`c2_at1`),PRIMARY  KEY  (`c3_at1`,`c2_at1`)CREATE TABLE `class4_name` (`c4_at4` c4_at4_type(64),`c4_at2` c4_at2_type(64),`c4_at1` c4_at1_type(64),`c8_at1` c8_at1_type,`c6_at2` c6_at2_type,`c4_at3` c4_at3_type  NOT  NULL, KEY  `FK_class4_name_c8_at1_idx` (`c8_at1`), KEY  `FK_class4_name_c6_at2_idx` (`c6_at2`),PRIMARY  KEY  (`c4_at3`)ALTER TABLE `class2_name` ADD  CONSTRAINT `FK_class2_name_c8_at1` FOREIGN  KEY  (`c8_at1`)  REFERENCES  `class8_name` (`c8_at1`) ON DELETE CASCADE ON UPDATE CASCADE,ALTER TABLE `assoc9` ADD  CONSTRAINT `FK_assoc9_c4_at3` FOREIGN  KEY  (`c4_at3`)  REFERENCES  `class4_name` (`c4_at3`) ON DELETE CASCADE ON UPDATE CASCADE, ADD  CONSTRAINT `FK_assoc9_c1_at1` FOREIGN  KEY  (`c1_at1`)  REFERENCES  `class1_name` (`c1_at1`) ON DELETE CASCADE ON UPDATE CASCADE;ALTER TABLE `class3_name` ADD  CONSTRAINT `FK_class3_name_c8_at1` FOREIGN  KEY  (`c8_at1`)  REFERENCES  `class8_name` (`c8_at1`) ON DELETE CASCADE ON UPDATE CASCADE, ADD  CONSTRAINT `FK_class3_name_c1_at1` FOREIGN  KEY  (`c1_at1`)  REFERENCES  `class1_name` (`c1_at1`) ON DELETE CASCADE ON UPDATE CASCADE,ALTER TABLE `assoc6`ALTER TABLE `class7_name` ADD  CONSTRAINT `FK_assoc6_c1_at1` FOREIGN  KEY  (`c1_at1`)  REFERENCES  `class1_name` (`c1_at1`) ON DELETE CASCADE ON UPDATE CASCADE,ALTER TABLE `assoc5` ADD  CONSTRAINT `FK_assoc5_c8_at1` FOREIGN  KEY  (`c8_at1`)  REFERENCES  `class8_name` (`c8_at1`) ON DELETE CASCADE ON UPDATE CASCADE, ADD  CONSTRAINT `FK_assoc5_c6_at2` FOREIGN  KEY  (`c6_at2`)  REFERENCES  `class6_name` (`c6_at2`) ON DELETE CASCADE ON UPDATE CASCADE;ALTER TABLE `assoc2` ADD  CONSTRAINT `FK_assoc2_c4_at3` FOREIGN  KEY  (`c4_at3`)  REFERENCES  `class4_name` (`c4_at3`) ON DELETE CASCADE ON UPDATE CASCADE ADD  CONSTRAINT `FK_assoc2_c2_at1` FOREIGN  KEY  (`c2_at1`)  REFERENCES  `class2_name` (`c2_at1`) ON DELETE CASCADE ON UPDATE CASCADE,ALTER TABLE `assoc10` ADD  CONSTRAINT `FK_assoc10_c3_at1` FOREIGN  KEY  (`c3_at1`)  REFERENCES  `class3_name` (`c3_at1`) ON DELETE CASCADE ON UPDATE CASCADE, ADD  CONSTRAINT `FK_assoc10_c2_at1` FOREIGN  KEY  (`c2_at1`)  REFERENCES  `class2_name` (`c2_at1`) ON DELETE CASCADE ON UPDATE CASCADE,ALTER TABLE `class4_name` ADD  CONSTRAINT `FK_class4_name_c8_at1` FOREIGN  KEY  (`c8_at1`)  REFERENCES  `class8_name` (`c8_at1`) ON DELETE CASCADE ON UPDATE CASCADE, ADD  CONSTRAINT `FK_class4_name_c6_at2` FOREIGN  KEY  (`c6_at2`)  REFERENCES  `class6_name` (`c6_at2`) ON DELETE CASCADE ON UPDATE CASCADE;\n"
          ]
        }
      ],
      "source": [
        "print(target_raw[-1])"
      ]
    },
    {
      "cell_type": "markdown",
      "metadata": {
        "id": "rgCLkfv5uO3d"
      },
      "source": [
        "### Create a tf.data dataset"
      ]
    },
    {
      "cell_type": "markdown",
      "metadata": {
        "id": "PfVWx3WaI5Df"
      },
      "source": [
        "From these arrays of strings you can create a `tf.data.Dataset` of strings that shuffles and batches them efficiently:"
      ]
    },
    {
      "cell_type": "code",
      "execution_count": 10,
      "metadata": {
        "id": "3rZFgz69nMPa"
      },
      "outputs": [],
      "source": [
        "BUFFER_SIZE = len(context_raw)\n",
        "BATCH_SIZE = 1\n",
        "\n",
        "is_train = np.random.uniform(size=(len(target_raw),)) < 0.8\n",
        "\n",
        "train_raw = (\n",
        "    tf.data.Dataset\n",
        "    .from_tensor_slices((context_raw[is_train], target_raw[is_train]))\n",
        "    .shuffle(BUFFER_SIZE)\n",
        "    .batch(BATCH_SIZE))\n",
        "val_raw = (\n",
        "    tf.data.Dataset\n",
        "    .from_tensor_slices((context_raw[~is_train], target_raw[~is_train]))\n",
        "    .shuffle(BUFFER_SIZE)\n",
        "    .batch(BATCH_SIZE))"
      ]
    },
    {
      "cell_type": "code",
      "execution_count": 11,
      "metadata": {
        "colab": {
          "base_uri": "https://localhost:8080/"
        },
        "id": "qc6-NK1GtWQt",
        "outputId": "b661341e-e7eb-4c52-ae0e-5f4bc8737547"
      },
      "outputs": [
        {
          "output_type": "stream",
          "name": "stdout",
          "text": [
            "tf.Tensor([b'module OM_name:0,open Declaration one sig class1_name extends Class attrSet =c1_at1id=c1_at1isAbstract=No no parent} one sig c1_at1 extends c1_at1_type, one sig class01_name extends Class attrSet =c01_at1id=c01_at1isAbstract=No no parent} one sig c01_at1 extends c01_at1_type, one sig assoc1 extends   Association  src=class1_namedst=class01_name src_multiplicity =src_mlpc dst_multiplicity =dst_mlpc,} one sig class2_name extends Class attrSet =c2_at1id=c2_at1isAbstract=No no parent} one sig c2_at1 extends c2_at1_type, one sig assoc2 extends   Association  src=class1_namedst=class2_name src_multiplicity =src_mlpc dst_multiplicity =dst_mlpc,} one sig class3_name extends Class attrSet =c3_at1+c3_at2id=c3_at1isAbstract=No no parent} one sig c3_at1 extends c3_at1_type one sig c3_at2 extends c3_at2_type, one sig class4_name extends Class attrSet =c4_at1 one parent id=c3_at1isAbstract=No parent in class3_name} one sig c4_at1 extends c4_at1_type, one sig assoc3 extends  Association dst=class2_namedst=class3_name src_multiplicity =src_mlpc dst_multiplicity =dst_mlpc,} one sig class5_name extends Class attrSet =c5_at1+c5_at2 one parent id=c3_at1isAbstract=No parent in class3_name} one sig c5_at2 extends c5_at2_type one sig c5_at1 extends c5_at1_type one sig assoc4 extends   Association  src=class01_namedst=class3_name src_multiplicity =src_mlpc dst_multiplicity =dst_mlpc,} one sig class6_name extends Class attrSet =c6_at1+c6_at2id=categoryIDisAbstract=No no parent} one sig c6_at1 extends c6_at1_type one sig c6_at2 extends c6_at2_type one sig class7_name extends Class attrSet =c7_at1+c7_at2+c7_at3+c7_at4id=c7_at1isAbstract=No no parent} one sig c7_at1 extends c7_at1_type one sig c7_at2 extends c7_at2_type one sig c7_at3 extends c7_at3_type one sig c7_at4 extends c7_at4_type one sig assoc5 extends   Association  src=class7_namesrc=class6_name src_multiplicity =src_mlpc2 dst_multiplicity =dst_mlpc,} one sig class8_name extends Class attrSet =c8_at1id=c8_at1isAbstract=No no parent} one sig c8_at1 extends Integer one sig assoc6 extends   Association  src=class7_namedst=class8_name src_multiplicity =src_mlpc dst_multiplicity =dst_mlpc,} one sig assoc7 extends   Association  src=class7_namedst=class3_name src_multiplicity =src_mlpc2 dst_multiplicity =dst_mlpc,} one sig class9_name extends Class attrSet =c9_at1+c10_at2 one parent id=c7_at1isAbstract=No parent in class7_name} one sig c9_at1 extends c9_at1_type one sig c10_at2 extends c10_at2_type one sig class10_name extends Class attrSet =c10_at1 one parent id=c7_at1isAbstract=No parent in class7_name} one sig c10_at1 extends c10_at1_type one sig class11_name extends Class attrSet =c11_at1 one parent id=c7_at1isAbstract=No parent in class7_name} one sig c11_at1 extends string one sig class12_name extends Class attrSet =c12_at1+c12_at2+c12_at3id=c12_at1isAbstract=No no parent} one sig c12_at1 extends c12_at1_type one sig c12_at2 extends c12_at2_type one sig c12_at3 extends c12_at3_type one sig assoc8 extends   Association  src=class7_namesrc=class12_name src_multiplicity =src_mlpc2 dst_multiplicity =dst_mlpc,} one sig class13_name extends Class attrSet =c13_at1 one parent id=c12_at1isAbstract=No parent in class12_name} one sig c13_at1 extends c13_at1_type one sig class14_name extends Class attrSet =c14_at1 one parent id=c12_at1isAbstract=No parent in class12_name} one sig c14_at1 extends c14_at1_type pred show run show ,TableName:class1_nameTableName:class01_name Mapping Strategy for class1_name:map_str2 Mapping Strategy for class5_name:map_str2 Mapping Strategy for class6_name:map_str2 Mapping Strategy for class7_name:map_str2 Mapping Strategy for class10_name:map_str2 Mapping Strategy for class11_name:map_str2 Mapping Strategy for class4_name:map_str3 Mapping Strategy for class9_name:map_str3 Mapping Strategy for class12_name:map_str1 Mapping Strategy for class11_name:map_str1 Mapping Strategy for class14_name:map_str1  Association  Strategy for assoc4:assoc_str1  Association  Strategy for assoc1:assoc_str2  Association  Strategy for assoc2:assoc_str2  Association  Strategy for assoc3:assoc_str2  Association  Strategy for assoc5:assoc_str2  Association  Strategy for assoc6:assoc_str2  Association  Strategy for assoc7:assoc_str2  Association  Strategy for assoc8:assoc_str2, USE OM _name_0CREATE TABLE `class01_name`(`c01_at1`c01_at1_type NOT  NULL, PRIMARY  KEY  (`c01_at1`),CREATE TABLE `class6_name`(`c7_at1`c7_at1_type(64)`c6_at1`c6_at1_type NOT  NULL PRIMARY  KEY  (`c6_at1`),CREATE TABLE `class1_name`(`c1_at1`c1_at1_type NOT  NULL PRIMARY  KEY  (`c1_at1`),`c3_at1`c3_at1_type NOT  NULL`c2_at1`c2_at1_type NOT  NULLCREATE TABLE `class7_name`(`c7_at3`c7_at3_type(64)`c7_at2`c7_at2_type`c7_at4`c7_at4_type(20,5)`c7_at1`c7_at1_type NOT  NULL PRIMARY  KEY  (`c7_at1`),CREATE TABLE `class11_name`(`c11_at1`c11_at1_type(64)`c7_at1`c7_at1_type NOT  NULL KEY `FK_class11_name_c7_at1_idx`(`c7_at1`) PRIMARY  KEY  (`c7_at1`),CREATE TABLE `class4_name`(`c4_at1`c4_at1_type,`c3_at1`c3_at1_type NOT  NULL KEY `FK_class4_name_c3_at1_idx`(`c3_at1`), PRIMARY  KEY  (`ItemID`), PRIMARY  KEY  (`c3_at1`),CREATE TABLE `assoc1`(`c01_at1`c01_at1_type NOT  NULL,`c1_at1`c1_at1_type NOT  NULL KEY `FK_assoc1_c01_at1_idx`(`c01_at1`), KEY `FK_assoc1_c1_at1_idx`(`c1_at1`), KEY `FK_assoc1_c1_at1_idx`(`c1_at1`),CREATE TABLE `class2_name`(`c2_at1`c2_at1_type NOT  NULL PRIMARY  KEY  (`c2_at1`),CREATE TABLE `class8_name`(`c8_at1`c8_at1_type NOT  NULL`c7_at1`c7_at1_type KEY `FK_class8_name_c7_at1_idx`(`c7_at1`) PRIMARY  KEY  (`c8_at1`),CREATE TABLE `assoc7`(`c7_at1`c7_at1_type NOT  NULL`c3_at1`c3_at1_type NOT  NULL KEY `FK_assoc7_c7_at1_idx`(`c7_at1`) KEY `FK_assoc7_c3_at1_idx`(`c3_at1`) PRIMARY  KEY  (`c7_at1`,`c3_at1`),CREATE TABLE `class3_name`(`c3_at2`c3_at2_type`c3_at1`c3_at1_type NOT  NULL PRIMARY  KEY  (`ItemID`), PRIMARY  KEY  (`c3_at1`),CREATE TABLE `class10_name`(`c10_at1`c10_at1_type(64)`c7_at1`c7_at1_type NOT  NULL KEY `FK_class10_name_c7_at1_idx`(`c7_at1`) PRIMARY  KEY  (`c7_at1`),CREATE TABLE `class9_name`(`c10_at2`c10_at2_type,`c9_at1`c9_at1_type(20,5),`c7_at1`c7_at1_type NOT  NULL KEY `FK_class9_name_c7_at1_idx`(`c7_at1`), PRIMARY  KEY  (`c7_at1`),CREATE TABLE `assoc2`(`c2_at1`c2_at1_type NOT  NULL`c1_at1`c1_at1_type NOT  NULL KEY `FK_assoc2_c2_at1_idx`(`c2_at1`) KEY `FK_assoc2_c1_at1_idx`(`c1_at1`) PRIMARY  KEY  (`c2_at1`,`c1_at1`)CREATE TABLE `assoc8`(`c12_at1`c12_at1_type NOT  NULL`c7_at1`c7_at1_type NOT  NULL KEY `FK_assoc8_c12_at1_idx`(`c12_at1`) KEY `FK_assoc8_c7_at1_idx`(`c7_at1`) PRIMARY  KEY  (`c12_at1`,`c7_at1`),CREATE TABLE `class5_name`(`c5_at1`c5_at1_type,`c5_at2`c5_at2_type,`c3_at1`c3_at1_type NOT  NULL KEY `FK_class5_name_c3_at1_idx`(`c3_at1`) PRIMARY  KEY  (`ItemID`), PRIMARY  KEY  (`c3_at1`),CREATE TABLE `class12_name`(`c14_at1`c14_at1_type(64)`c12_at3`c12_at3_type(64)`c12_at2`c12_at2_type(64)`c13_at1`c13_at1_type(64)`c12_at1`c12_at1_type NOT  NULL PRIMARY  KEY  (`c12_at1`),CREATE TABLE `assoc4`()`c3_at1`c3_at1_type NOT  NULL`c01_at1`c01_at1_type NOT  NULL, KEY `FK_assoc4_c3_at1_idx`(`c3_at1`) KEY `FK_assoc4_c01_at1D_idx`(`c01_at1`) PRIMARY  KEY  (`c3_at1`,`c01_at1`)CREATE TABLE `assoc5`(`c7_at1`c7_at1_type NOT  NULL`c6_at1`c6_at1_type NOT  NULL KEY `FK_assoc5_c7_at1_idx`(`c7_at1`) KEY `FK_assoc5_c6_at1_idx`(`c6_at1`) PRIMARY  KEY  (`c7_at1`,`c6_at1`), ALTER TABLE `class11_name`  ADD  CONSTRAINT `FK_class11_name_c7_at1` FOREIGN  KEY  (`c12_at1`) REFERENCES `class12_name`(`c12_at1`) ON DELETE CASCADE ON UPDATE CASCADE , ALTER TABLE `class4_name`  ADD  CONSTRAINT `FK_class4_name_c3_at1` FOREIGN  KEY  (`c3_at1`) REFERENCES `class3_name`(`c3_at1`) ON DELETE CASCADE ON UPDATE CASCADE , ALTER TABLE `assoc1`  ADD  CONSTRAINT `FK_assoc1_c01_at1` FOREIGN  KEY  (`c01_at1`) REFERENCES `class01_name`(`c01_at1`) ON DELETE CASCADE ON UPDATE CASCADE   ADD  CONSTRAINT `FK_assoc1_c1_at1` FOREIGN  KEY  (`c1_at1`) REFERENCES `class1_name`(`c1_at1`) ON DELETE CASCADE ON UPDATE CASCADE , ALTER TABLE `class8_name`  ADD  CONSTRAINT `FK_class8_name_c7_at1` FOREIGN  KEY  (`c7_at1`) REFERENCES `class7_name`(`c7_at1`) ON DELETE CASCADE ON UPDATE CASCADE , ALTER TABLE `assoc7`  ADD  CONSTRAINT `FK_assoc7_c7_at1` FOREIGN  KEY  (`c7_at1`) REFERENCES `class7_name`(`c7_at1`) ON DELETE CASCADE ON UPDATE CASCADE   ADD  CONSTRAINT `FK_assoc7_c3_at1` FOREIGN  KEY  (`c3_at1`) REFERENCES `class3_name`(`c3_at1`) ON DELETE CASCADE ON UPDATE CASCADE , ALTER TABLE `class10_name`  ADD  CONSTRAINT `FK_class10_name_c7_at1` FOREIGN  KEY  (`c7_at1`) REFERENCES `class7_name`(`c7_at1`) ON DELETE CASCADE ON UPDATE CASCADE , ALTER TABLE `class9_name`  ADD  CONSTRAINT `FK_class10_name_c7_at1` FOREIGN  KEY  (`c7_at1`) REFERENCES `class7_name`(`c7_at1`) ON DELETE CASCADE ON UPDATE CASCADE , ALTER TABLE `assoc2`  ADD  CONSTRAINT `FK_assoc2_c2_at1` FOREIGN  KEY  (`c2_at1`) REFERENCES `class2_name`(`c2_at1`) ON DELETE CASCADE ON UPDATE CASCADE   ADD  CONSTRAINT `FK_assoc2_c1_at1` FOREIGN  KEY  (`c1_at1`) REFERENCES `class1_name`(`c1_at1`) ON DELETE CASCADE ON UPDATE CASCADE , ALTER TABLE `assoc8`  ADD  CONSTRAINT FK_assoc5_c6_at1` FOREIGN  KEY  (`c6_at1`) REFERENCES `class6_name`(`c6_at1`) ON DELETE CASCADE ON UPDATE CASCADE ,  ADD  CONSTRAINT FK_assoc8_c7_at1` FOREIGN  KEY  (`c7_at1`) REFERENCES `class7_name`(`c7_at1`) ON DELETE CASCADE ON UPDATE CASCADE , ALTER TABLE `class5_name`  ADD  CONSTRAINT FK_class5_name_c3_at1` FOREIGN  KEY  (`c3_at1`) REFERENCES `class3_name`(`c3_at1`) ON DELETE CASCADE ON UPDATE CASCADE , ALTER TABLE `assoc4`  ADD  CONSTRAINT `FK_assoc4_c3_at1` FOREIGN  KEY  (`c3_at1`) REFERENCES `class3_name`(`c3_at1`) ON DELETE CASCADE ON UPDATE CASCADE   ADD  CONSTRAINT `FK_assoc4_c01_at1` FOREIGN  KEY  (`c01_at1`) REFERENCES `class01_name`(`c01_at1`) ON DELETE CASCADE ON UPDATE CASCADE , ALTER TABLE `assoc5`  ADD  CONSTRAINT `FK_assoc5_c7_at1` FOREIGN  KEY  (`c7_at1`) REFERENCES `class7_name`(`c7_at1`) ON DELETE CASCADE ON UPDATE CASCADE   ADD  CONSTRAINT FK_assoc5_c6_at1` FOREIGN  KEY  (`c6_at1`) REFERENCES `class6_name`(`c6_at1`) ON DELETE CASCADE ON UPDATE CASCADE '], shape=(1,), dtype=string)\n",
            "\n",
            "tf.Tensor([b'NP, module OM_name:0,open Declaration one sig class1_name extends Class attrSet =c1_at1id=c1_at1isAbstract=No no parent} one sig c1_at1 extends c1_at1_type, one sig class01_name extends Class attrSet =c01_at1id=c01_at1isAbstract=No no parent} one sig c01_at1 extends c01_at1_type, one sig assoc1 extends   Association  src=class1_namedst=class01_name src_multiplicity =src_mlpc dst_multiplicity =dst_mlpc,} one sig class2_name extends Class attrSet =c2_at1id=c2_at1isAbstract=No no parent} one sig c2_at1 extends c2_at1_type, one sig assoc2 extends   Association  src=class1_namedst=class2_name src_multiplicity =src_mlpc dst_multiplicity =dst_mlpc,} one sig class3_name extends Class attrSet =c3_at1+c3_at2id=c3_at1isAbstract=No no parent} one sig c3_at1 extends c3_at1_type one sig c3_at2 extends c3_at2_type, one sig class4_name extends Class attrSet =c4_at1 one parent id=c3_at1isAbstract=No parent in class3_name} one sig c4_at1 extends c4_at1_type, one sig assoc3 extends  Association dst=class2_namedst=class3_name src_multiplicity =src_mlpc dst_multiplicity =dst_mlpc,} one sig class5_name extends Class attrSet =c5_at1+c5_at2 one parent id=c3_at1isAbstract=No parent in class3_name} one sig c5_at2 extends c5_at2_type one sig c5_at1 extends c5_at1_type one sig assoc4 extends   Association  src=class01_namedst=class3_name src_multiplicity =src_mlpc dst_multiplicity =dst_mlpc,} one sig class6_name extends Class attrSet =c6_at1+c6_at2id=categoryIDisAbstract=No no parent} one sig c6_at1 extends c6_at1_type one sig c6_at2 extends c6_at2_type one sig class7_name extends Class attrSet =c7_at1+c7_at2+c7_at3+c7_at4id=c7_at1isAbstract=No no parent} one sig c7_at1 extends c7_at1_type one sig c7_at2 extends c7_at2_type one sig c7_at3 extends c7_at3_type one sig c7_at4 extends c7_at4_type one sig assoc5 extends   Association  src=class7_namesrc=class6_name src_multiplicity =src_mlpc2 dst_multiplicity =dst_mlpc,} one sig class8_name extends Class attrSet =c8_at1id=c8_at1isAbstract=No no parent} one sig c8_at1 extends Integer one sig assoc6 extends   Association  src=class7_namedst=class8_name src_multiplicity =src_mlpc dst_multiplicity =dst_mlpc,} one sig assoc7 extends   Association  src=class7_namedst=class3_name src_multiplicity =src_mlpc2 dst_multiplicity =dst_mlpc,} one sig class9_name extends Class attrSet =c9_at1+c10_at2 one parent id=c7_at1isAbstract=No parent in class7_name} one sig c9_at1 extends c9_at1_type one sig c10_at2 extends c10_at2_type one sig class10_name extends Class attrSet =c10_at1 one parent id=c7_at1isAbstract=No parent in class7_name} one sig c10_at1 extends c10_at1_type one sig class11_name extends Class attrSet =c11_at1 one parent id=c7_at1isAbstract=No parent in class7_name} one sig c11_at1 extends string one sig class12_name extends Class attrSet =c12_at1+c12_at2+c12_at3id=c12_at1isAbstract=No no parent} one sig c12_at1 extends c12_at1_type one sig c12_at2 extends c12_at2_type one sig c12_at3 extends c12_at3_type one sig assoc8 extends   Association  src=class7_namesrc=class12_name src_multiplicity =src_mlpc2 dst_multiplicity =dst_mlpc,} one sig class13_name extends Class attrSet =c13_at1 one parent id=c12_at1isAbstract=No parent in class12_name} one sig c13_at1 extends c13_at1_type one sig class14_name extends Class attrSet =c14_at1 one parent id=c12_at1isAbstract=No parent in class12_name} one sig c14_at1 extends c14_at1_type pred show run show ,TableName:class1_nameTableName:class01_name Mapping Strategy for class1_name:map_str2 Mapping Strategy for class5_name:map_str2 Mapping Strategy for class6_name:map_str2 Mapping Strategy for class7_name:map_str2 Mapping Strategy for class10_name:map_str2 Mapping Strategy for class11_name:map_str2 Mapping Strategy for class4_name:map_str3 Mapping Strategy for class9_name:map_str3 Mapping Strategy for class12_name:map_str1 Mapping Strategy for class11_name:map_str1 Mapping Strategy for class14_name:map_str1  Association  Strategy for assoc4:assoc_str1  Association  Strategy for assoc1:assoc_str2  Association  Strategy for assoc2:assoc_str2  Association  Strategy for assoc3:assoc_str2  Association  Strategy for assoc5:assoc_str2  Association  Strategy for assoc6:assoc_str2  Association  Strategy for assoc7:assoc_str2  Association  Strategy for assoc8:assoc_str2, USE OM _name_0CREATE TABLE `class01_name`(`c01_at1`c01_at1_type NOT  NULL, PRIMARY  KEY  (`c01_at1`),CREATE TABLE `class6_name`(`c7_at1`c7_at1_type(64)`c6_at1`c6_at1_type NOT  NULL PRIMARY  KEY  (`c6_at1`),CREATE TABLE `class1_name`(`c1_at1`c1_at1_type NOT  NULL PRIMARY  KEY  (`c1_at1`),`c3_at1`c3_at1_type NOT  NULL`c2_at1`c2_at1_type NOT  NULLCREATE TABLE `class7_name`(`c7_at3`c7_at3_type(64)`c7_at2`c7_at2_type`c7_at4`c7_at4_type(20,5)`c7_at1`c7_at1_type NOT  NULL PRIMARY  KEY  (`c7_at1`),CREATE TABLE `class11_name`(`c11_at1`c11_at1_type(64)`c7_at1`c7_at1_type NOT  NULL KEY `FK_class11_name_c7_at1_idx`(`c7_at1`) PRIMARY  KEY  (`c7_at1`),CREATE TABLE `class4_name`(`c4_at1`c4_at1_type,`c3_at1`c3_at1_type NOT  NULL KEY `FK_class4_name_c3_at1_idx`(`c3_at1`), PRIMARY  KEY  (`ItemID`), PRIMARY  KEY  (`c3_at1`),CREATE TABLE `assoc1`(`c01_at1`c01_at1_type NOT  NULL,`c1_at1`c1_at1_type NOT  NULL KEY `FK_assoc1_c01_at1_idx`(`c01_at1`), KEY `FK_assoc1_c1_at1_idx`(`c1_at1`), KEY `FK_assoc1_c1_at1_idx`(`c1_at1`),CREATE TABLE `class2_name`(`c2_at1`c2_at1_type NOT  NULL PRIMARY  KEY  (`c2_at1`),CREATE TABLE `class8_name`(`c8_at1`c8_at1_type NOT  NULL`c7_at1`c7_at1_type KEY `FK_class8_name_c7_at1_idx`(`c7_at1`) PRIMARY  KEY  (`c8_at1`),CREATE TABLE `assoc7`(`c7_at1`c7_at1_type NOT  NULL`c3_at1`c3_at1_type NOT  NULL KEY `FK_assoc7_c7_at1_idx`(`c7_at1`) KEY `FK_assoc7_c3_at1_idx`(`c3_at1`) PRIMARY  KEY  (`c7_at1`,`c3_at1`),CREATE TABLE `class3_name`(`c3_at2`c3_at2_type`c3_at1`c3_at1_type NOT  NULL PRIMARY  KEY  (`ItemID`), PRIMARY  KEY  (`c3_at1`),CREATE TABLE `class10_name`(`c10_at1`c10_at1_type(64)`c7_at1`c7_at1_type NOT  NULL KEY `FK_class10_name_c7_at1_idx`(`c7_at1`) PRIMARY  KEY  (`c7_at1`),CREATE TABLE `class9_name`(`c10_at2`c10_at2_type,`c9_at1`c9_at1_type(20,5),`c7_at1`c7_at1_type NOT  NULL KEY `FK_class9_name_c7_at1_idx`(`c7_at1`), PRIMARY  KEY  (`c7_at1`),CREATE TABLE `assoc2`(`c2_at1`c2_at1_type NOT  NULL`c1_at1`c1_at1_type NOT  NULL KEY `FK_assoc2_c2_at1_idx`(`c2_at1`) KEY `FK_assoc2_c1_at1_idx`(`c1_at1`) PRIMARY  KEY  (`c2_at1`,`c1_at1`)CREATE TABLE `assoc8`(`c12_at1`c12_at1_type NOT  NULL`c7_at1`c7_at1_type NOT  NULL KEY `FK_assoc8_c12_at1_idx`(`c12_at1`) KEY `FK_assoc8_c7_at1_idx`(`c7_at1`) PRIMARY  KEY  (`c12_at1`,`c7_at1`),CREATE TABLE `class5_name`(`c5_at1`c5_at1_type,`c5_at2`c5_at2_type,`c3_at1`c3_at1_type NOT  NULL KEY `FK_class5_name_c3_at1_idx`(`c3_at1`) PRIMARY  KEY  (`ItemID`), PRIMARY  KEY  (`c3_at1`),CREATE TABLE `class12_name`(`c14_at1`c14_at1_type(64)`c12_at3`c12_at3_type(64)`c12_at2`c12_at2_type(64)`c13_at1`c13_at1_type(64)`c12_at1`c12_at1_type NOT  NULL PRIMARY  KEY  (`c12_at1`),CREATE TABLE `assoc4`()`c3_at1`c3_at1_type NOT  NULL`c01_at1`c01_at1_type NOT  NULL, KEY `FK_assoc4_c3_at1_idx`(`c3_at1`) KEY `FK_assoc4_c01_at1D_idx`(`c01_at1`) PRIMARY  KEY  (`c3_at1`,`c01_at1`)CREATE TABLE `assoc5`(`c7_at1`c7_at1_type NOT  NULL`c6_at1`c6_at1_type NOT  NULL KEY `FK_assoc5_c7_at1_idx`(`c7_at1`) KEY `FK_assoc5_c6_at1_idx`(`c6_at1`) PRIMARY  KEY  (`c7_at1`,`c6_at1`), ALTER TABLE `class11_name`  ADD  CONSTRAINT `FK_class11_name_c7_at1` FOREIGN  KEY  (`c12_at1`) REFERENCES `class12_name`(`c12_at1`) ON DELETE CASCADE ON UPDATE CASCADE , ALTER TABLE `class4_name`  ADD  CONSTRAINT `FK_class4_name_c3_at1` FOREIGN  KEY  (`c3_at1`) REFERENCES `class3_name`(`c3_at1`) ON DELETE CASCADE ON UPDATE CASCADE , ALTER TABLE `assoc1`  ADD  CONSTRAINT `FK_assoc1_c01_at1` FOREIGN  KEY  (`c01_at1`) REFERENCES `class01_name`(`c01_at1`) ON DELETE CASCADE ON UPDATE CASCADE   ADD  CONSTRAINT `FK_assoc1_c1_at1` FOREIGN  KEY  (`c1_at1`) REFERENCES `class1_name`(`c1_at1`) ON DELETE CASCADE ON UPDATE CASCADE , ALTER TABLE `class8_name`  ADD  CONSTRAINT `FK_class8_name_c7_at1` FOREIGN  KEY  (`c7_at1`) REFERENCES `class7_name`(`c7_at1`) ON DELETE CASCADE ON UPDATE CASCADE , ALTER TABLE `assoc7`  ADD  CONSTRAINT `FK_assoc7_c7_at1` FOREIGN  KEY  (`c7_at1`) REFERENCES `class7_name`(`c7_at1`) ON DELETE CASCADE ON UPDATE CASCADE   ADD  CONSTRAINT `FK_assoc7_c3_at1` FOREIGN  KEY  (`c3_at1`) REFERENCES `class3_name`(`c3_at1`) ON DELETE CASCADE ON UPDATE CASCADE , ALTER TABLE `class10_name`  ADD  CONSTRAINT `FK_class10_name_c7_at1` FOREIGN  KEY  (`c7_at1`) REFERENCES `class7_name`(`c7_at1`) ON DELETE CASCADE ON UPDATE CASCADE , ALTER TABLE `class9_name`  ADD  CONSTRAINT `FK_class10_name_c7_at1` FOREIGN  KEY  (`c7_at1`) REFERENCES `class7_name`(`c7_at1`) ON DELETE CASCADE ON UPDATE CASCADE , ALTER TABLE `assoc2`  ADD  CONSTRAINT `FK_assoc2_c2_at1` FOREIGN  KEY  (`c2_at1`) REFERENCES `class2_name`(`c2_at1`) ON DELETE CASCADE ON UPDATE CASCADE   ADD  CONSTRAINT `FK_assoc2_c1_at1` FOREIGN  KEY  (`c1_at1`) REFERENCES `class1_name`(`c1_at1`) ON DELETE CASCADE ON UPDATE CASCADE , ALTER TABLE `assoc8`  ADD  CONSTRAINT FK_assoc5_c6_at1` FOREIGN  KEY  (`c6_at1`) REFERENCES `class6_name`(`c6_at1`) ON DELETE CASCADE ON UPDATE CASCADE ,  ADD  CONSTRAINT FK_assoc8_c7_at1` FOREIGN  KEY  (`c7_at1`) REFERENCES `class7_name`(`c7_at1`) ON DELETE CASCADE ON UPDATE CASCADE , ALTER TABLE `class5_name`  ADD  CONSTRAINT FK_class5_name_c3_at1` FOREIGN  KEY  (`c3_at1`) REFERENCES `class3_name`(`c3_at1`) ON DELETE CASCADE ON UPDATE CASCADE , ALTER TABLE `assoc4`  ADD  CONSTRAINT `FK_assoc4_c3_at1` FOREIGN  KEY  (`c3_at1`) REFERENCES `class3_name`(`c3_at1`) ON DELETE CASCADE ON UPDATE CASCADE   ADD  CONSTRAINT `FK_assoc4_c01_at1` FOREIGN  KEY  (`c01_at1`) REFERENCES `class01_name`(`c01_at1`) ON DELETE CASCADE ON UPDATE CASCADE , ALTER TABLE `assoc5`  ADD  CONSTRAINT `FK_assoc5_c7_at1` FOREIGN  KEY  (`c7_at1`) REFERENCES `class7_name`(`c7_at1`) ON DELETE CASCADE ON UPDATE CASCADE   ADD  CONSTRAINT FK_assoc5_c6_at1` FOREIGN  KEY  (`c6_at1`) REFERENCES `class6_name`(`c6_at1`) ON DELETE CASCADE ON UPDATE CASCADE '], shape=(1,), dtype=string)\n"
          ]
        }
      ],
      "source": [
        "for example_context_strings, example_target_strings in train_raw.take(1):\n",
        "  print(example_context_strings[:5])\n",
        "  print()\n",
        "  print(example_target_strings[:5])\n",
        "  break"
      ]
    },
    {
      "cell_type": "markdown",
      "metadata": {
        "id": "zCoxLcuN3bwv"
      },
      "source": [
        "### Text preprocessing"
      ]
    },
    {
      "cell_type": "markdown",
      "metadata": {
        "id": "7kwdPcHvzz_a"
      },
      "source": [
        "One of the goals of this tutorial is to build a model that can be exported as a `tf.saved_model`. To make that exported model useful it should take `tf.string` inputs, and return `tf.string` outputs: All the text processing happens inside the model. Mainly using a `layers.TextVectorization` layer."
      ]
    },
    {
      "cell_type": "markdown",
      "metadata": {
        "id": "EOQ5n55X4uDB"
      },
      "source": [
        "#### Standardization"
      ]
    },
    {
      "cell_type": "markdown",
      "metadata": {
        "id": "upKhKAMK4zzI"
      },
      "source": [
        "The model is dealing with multilingual text with a limited vocabulary. So it will be important to standardize the input text.\n",
        "\n",
        "The first step is Unicode normalization to split accented characters and replace compatibility characters with their ASCII equivalents.\n",
        "\n",
        "The `tensorflow_text` package contains a unicode normalize operation, We may or may not decide to Use this for ORM data. I kept it in the experiment"
      ]
    },
    {
      "cell_type": "code",
      "execution_count": 12,
      "metadata": {
        "colab": {
          "base_uri": "https://localhost:8080/"
        },
        "id": "mD0e-DWGQ2Vo",
        "outputId": "26dc89ef-e676-4e9c-c8e2-610f2d85fbe6"
      },
      "outputs": [
        {
          "output_type": "stream",
          "name": "stdout",
          "text": [
            "b'moduleOM_nameopenDeclarationonesigclass1_nameextendsClassattrSet=c1_at1+c1_at2id=c1_at1noparentisAbstract=No}onesigc1_at1extendsc1_at1_typeonesigc1_at2extendsc1_at2_typeonesigclass2_nameextendsClassattrSet=c2_at1+c2_at2+c2_at3+c2_at4id=c2_at1noparentisAbstract=No}onesigc2_at1extendsc2_at1_typeonesigc2_at2extendsc2_at2_typeonesigc2_at3extendsc2_at3_typeonesigc2_at4extendsc2_at4_typeonesigclass3_nameextendsClassattrSet=c3_at1+c3_at2+c3_at3+c3_at4id=c3_at1noparentisAbstract=No}onesigc3_at1extendsc3_at1_typeonesigc3_at2extendsc3_at2_typeonesigc3_at3extendsc3_at3_typeonesigc3_at4extendsc3_at4_typeonesigclass4_nameextendsClassattrSet=c4_at1id=c4_at1noparentisAbstract=No}onesigc4_at1extendsc4_at1_typeonesigclass5_nameextendsClassattrSet=c5_at1+c5_at2+c5_at3+c5_at4id=c5_at1noparentisAbstract=No}onesigc5_at1extendsc5_at1_typeonesigc5_at2extendsc5_at2_typeonesigc5_at3extendsc5_at3_typeonesigc5_at4extendsc5_at4_typeonesigclass6_nameextendsClassattrSet=c6_at1+c6_at2+c6_at3+c6_at4id=c6_at1noparentisAbstract=No}onesigc6_at1extendsc6_at1_typeonesigc6_at2extendsc6_at2_typeonesigc6_at3extendsc6_at3_typeonesigc6_at4extendsc6_at4_typeonesigassoc1extendsAssociationsrc=class1_namedst=class5_namesrc_multiplicity=src_mlpcdst_multiplicity=dst_mlpc}onesigassoc2extendsAssociationsrc=class1_namedst=class5_namesrc_multiplicity=src_mlpcdst_multiplicity=dst_mlpc}onesigassoc3extendsAssociationsrc=class4_namedst=class5_namesrc_multiplicity=src_mlpcdst_multiplicity=dst_mlpc}onesigassoc4extendsAssociationsrc=class1_namedst=class6_namesrc_multiplicity=src_mlpcdst_multiplicity=dst_mlpc2}onesigassoc5extendsAssociationsrc=class1_namedst=class3_namesrc_multiplicity=src_mlpcdst_multiplicity=dst_mlpc2}predshowrunshowfor38,\\xe2\\x80\\x8bOM_name_Solution:0Table:class1_nameAttributec1_at1:c1_at1_typePrimaryKeyTable:class1_nameAttributec1_at2:c1_at2_typeTable:class2_nameAttributec2_at1:c1_at1_typePrimaryKeyTable:class2_nameAttributec2_at2:c2_at2_typeTable:class2_nameAttributec2_at3:c2_at3_typeTable:class3_nameAttributec3_at1:c3_at1_typePrimaryKeyTable:class3_nameAttributec3_at4:c3_at4_typeTable:class3_nameAttributec3_at2:c3_at2_typeTable:class4_nameAttributec4_at1:c4_at1_typePrimaryKeyTable:class5_nameAttributec5_at3:c5_at3_typeTable:class5_nameAttributec5_at4:c5_at4_typeTable:class6_nameAttributec6_at1:c6_at1_typePrimaryKeyTable:class6_nameAttributec6_at2:c6_at2_typeTable:class6_nameAttributec6_at3:c6_at3_typeTable:class6_nameAttributec6_at4:c6_at4_typeTable:class1_nameAttributec1_at1:c1_at1_typePrimaryKeyTable:class2_nameAttributec2_at1:c1_at1_typePrimaryKeyTable:class3_nameAttributec3_at1:c3_at1_typePrimaryKeyTable:class4_nameAttributec4_at1:c4_at1_typePrimaryKeyTable:class6_nameAttributec6_at1:c6_at1_typePrimaryKeyTableName:class1_nameTableName:class2_nameTableName:class3_nameTableName:class4_nameTableName:class5_nameTableName:class6_nameMappingStrategyofTableclass1_name:map_str2MappingStrategyofTableclass2_name:map_str2MappingStrategyofTableclass3_name:map_str2MappingStrategyofTableclass4_name:map_str2MappingStrategyofTableclass6_name:map_str2AssociationStrategyforassoc1:assoc_type1AssociationStrategyforassoc2:assoc_type1AssociationStrategyforassoc3:assoc_type2AssociationStrategyforassoc4:assoc_type2AssociationStrategyforassoc5:assoc_type2,USEOM_name0----CREATETABLE`assoc1`(`c5_at1`c5_at1_type`c1_at1`c1_at1_typeKEY`FK_assoc1_c5_at1_idx`(`c5_at1`)KEY`FK_assoc1_c1_at1_idx`(`c1_at1`)PRIMARYKEY(`c5_at1``c1_at1`));----CREATETABLE`assoc3``c5_at1`c5_at1_type`c4_at1`c4_at1_typeKEY`FK_assoc3_c5_at1_idx`(`c5_at1`)KEY`FK_assoc3_c4_at1_idx`(`c4_at1`)PRIMARYKEY(`c5_at1``c4_at1`));----CREATETABLE`class5_name`(`c5_at4`c5_at4_type(64)`c5_at3`c5_at3_type(64)`c1_at1`c1_at1_type`c5_at1`c5_at1_typePRIMARYKEY(`c5_at1`));----CREATETABLE`class3_name`(`c3_at3`c3_at3_type(64)`c3_at2`c3_at2_type(64)`c3_at4`c3_at4_type`c3_at1`c3_at1_typeNOTNULLPRIMARYKEY(`c3_at1`));----CREATETABLE`class2_name`(`c2_at3`c2_at3_type(64)`c2_at2`c2_at2_type(64)`c2_at4`c2_at4_type`c2_at1`c2_at1_typePRIMARYKEY(`c2_at1`));----CREATETABLE`class4_name`(`c4_at1`c4_at1_typePRIMARYKEY(`c4_at1`));----CREATETABLE`class1_name`(`c1_at2`c1_at2_type(64)`c1_at1`c1_at1_typePRIMARYKEY(`c1_at1`));----CREATETABLE`class6_name`(`c6_at4`c6_at4_type`c6_at3`c6_at3_type`c6_at2`c6_at2_type`c6_at1`c6_at1_typeNOTNULLPRIMARYKEY(`c6_at1`));----CREATETABLE`assoc2`(`c5_at1`c5_at1_type`c2_at1`c2_at1_typeKEY`FK_assoc2_c5_at1_idx`(`c5_at1`)KEY`FK_assoc2_c2_at1_idx`(`c2_at1`)PRIMARYKEY(`c5_at1``c2_at1`));----CREATETABLE`assoc5`(`c3_at1`c3_at1_typeNOTNULL`c2_at1`c2_at1_typeKEY`FK_assoc5_c3_at1_idx`(`c3_at1`)KEY`FK_assoc5_c2_at1_idx`(`c2_at1`)PRIMARYKEY(`c3_at1``c2_at1`));----CREATETABLE`assoc4`(`c6_at1`c6_at1_typeNOTNULL`c2_at1`c2_at1_typeKEY`FK_assoc4_c6_at1_idx`(`c6_at1`)KEY`FK_assoc4_c2_at1_idx`(`c2_at1`)PRIMARYKEY(`c6_at1``c2_at1`));ALTERTABLE`assoc1`ADDCONSTRAINT`FK_assoc1_c5_at1`FOREIGNKEY(`c5_at1`)REFERENCES`class5_name`(`c5_at1`)ONDELETECASCADEONUPDATECASCADEADDCONSTRAINT`FK_assoc1_c1_at1`FOREIGNKEY(`c1_at1`)REFERENCES`class1_name`(`c1_at1`)ONDELETECASCADEONUPDATECASCADE;ALTERTABLE`assoc3`ADDCONSTRAINT`FK_assoc3_c5_at1`FOREIGNKEY(`c5_at1`)REFERENCES`class5_name`(`c5_at1`)ONDELETECASCADEONUPDATECASCADEADDCONSTRAINT`FK_assoc3_c4_at1`FOREIGNKEY(`c4_at1`)REFERENCES`class4_name`(`c4_at1`)ONDELETECASCADEONUPDATECASCADE;ALTERTABLE`assoc2`ADDCONSTRAINT`FK_assoc2_c5_at1`FOREIGNKEY(`c5_at1`)REFERENCES`class5_name`(`c5_at1`)ONDELETECASCADEONUPDATECASCADEADDCONSTRAINT`FK_assoc2_c2_at1`FOREIGNKEY(`c2_at1`)REFERENCES`class2_name`(`c2_at1`)ONDELETECASCADEONUPDATECASCADEALTERTABLE`assoc5`ADDCONSTRAINT`FK_assoc5_c3_at1`FOREIGNKEY(`c3_at1`)REFERENCES`class3_name`(`c3_at1`)ONDELETECASCADEONUPDATECASCADEADDCONSTRAINT`FK_assoc5_c2_at1`FOREIGNKEY(`c2_at1`)REFERENCES`class2_name`(`c2_at1`)ONDELETECASCADEONUPDATECASCADE;ALTERTABLE`assoc4`ADDCONSTRAINT`FK_assoc4_c6_at1`FOREIGNKEY(`c6_at1`)REFERENCES`class6_name`(`c6_at1`)ONDELETECASCADEONUPDATECASCADEADDCONSTRAINT`FK_assoc4_c2_at1`FOREIGNKEY(`c2_at1`)REFERENCES`class2_name`(`c2_at1`)ONDELETECASCADEONUPDATECASCADE'\n",
            "b'moduleOM_nameopenDeclarationonesigclass1_nameextendsClassattrSet=c1_at1+c1_at2id=c1_at1noparentisAbstract=No}onesigc1_at1extendsc1_at1_typeonesigc1_at2extendsc1_at2_typeonesigclass2_nameextendsClassattrSet=c2_at1+c2_at2+c2_at3+c2_at4id=c2_at1noparentisAbstract=No}onesigc2_at1extendsc2_at1_typeonesigc2_at2extendsc2_at2_typeonesigc2_at3extendsc2_at3_typeonesigc2_at4extendsc2_at4_typeonesigclass3_nameextendsClassattrSet=c3_at1+c3_at2+c3_at3+c3_at4id=c3_at1noparentisAbstract=No}onesigc3_at1extendsc3_at1_typeonesigc3_at2extendsc3_at2_typeonesigc3_at3extendsc3_at3_typeonesigc3_at4extendsc3_at4_typeonesigclass4_nameextendsClassattrSet=c4_at1id=c4_at1noparentisAbstract=No}onesigc4_at1extendsc4_at1_typeonesigclass5_nameextendsClassattrSet=c5_at1+c5_at2+c5_at3+c5_at4id=c5_at1noparentisAbstract=No}onesigc5_at1extendsc5_at1_typeonesigc5_at2extendsc5_at2_typeonesigc5_at3extendsc5_at3_typeonesigc5_at4extendsc5_at4_typeonesigclass6_nameextendsClassattrSet=c6_at1+c6_at2+c6_at3+c6_at4id=c6_at1noparentisAbstract=No}onesigc6_at1extendsc6_at1_typeonesigc6_at2extendsc6_at2_typeonesigc6_at3extendsc6_at3_typeonesigc6_at4extendsc6_at4_typeonesigassoc1extendsAssociationsrc=class1_namedst=class5_namesrc_multiplicity=src_mlpcdst_multiplicity=dst_mlpc}onesigassoc2extendsAssociationsrc=class1_namedst=class5_namesrc_multiplicity=src_mlpcdst_multiplicity=dst_mlpc}onesigassoc3extendsAssociationsrc=class4_namedst=class5_namesrc_multiplicity=src_mlpcdst_multiplicity=dst_mlpc}onesigassoc4extendsAssociationsrc=class1_namedst=class6_namesrc_multiplicity=src_mlpcdst_multiplicity=dst_mlpc2}onesigassoc5extendsAssociationsrc=class1_namedst=class3_namesrc_multiplicity=src_mlpcdst_multiplicity=dst_mlpc2}predshowrunshowfor38,\\xe2\\x80\\x8bOM_name_Solution:0Table:class1_nameAttributec1_at1:c1_at1_typePrimaryKeyTable:class1_nameAttributec1_at2:c1_at2_typeTable:class2_nameAttributec2_at1:c1_at1_typePrimaryKeyTable:class2_nameAttributec2_at2:c2_at2_typeTable:class2_nameAttributec2_at3:c2_at3_typeTable:class3_nameAttributec3_at1:c3_at1_typePrimaryKeyTable:class3_nameAttributec3_at4:c3_at4_typeTable:class3_nameAttributec3_at2:c3_at2_typeTable:class4_nameAttributec4_at1:c4_at1_typePrimaryKeyTable:class5_nameAttributec5_at3:c5_at3_typeTable:class5_nameAttributec5_at4:c5_at4_typeTable:class6_nameAttributec6_at1:c6_at1_typePrimaryKeyTable:class6_nameAttributec6_at2:c6_at2_typeTable:class6_nameAttributec6_at3:c6_at3_typeTable:class6_nameAttributec6_at4:c6_at4_typeTable:class1_nameAttributec1_at1:c1_at1_typePrimaryKeyTable:class2_nameAttributec2_at1:c1_at1_typePrimaryKeyTable:class3_nameAttributec3_at1:c3_at1_typePrimaryKeyTable:class4_nameAttributec4_at1:c4_at1_typePrimaryKeyTable:class6_nameAttributec6_at1:c6_at1_typePrimaryKeyTableName:class1_nameTableName:class2_nameTableName:class3_nameTableName:class4_nameTableName:class5_nameTableName:class6_nameMappingStrategyofTableclass1_name:map_str2MappingStrategyofTableclass2_name:map_str2MappingStrategyofTableclass3_name:map_str2MappingStrategyofTableclass4_name:map_str2MappingStrategyofTableclass6_name:map_str2AssociationStrategyforassoc1:assoc_type1AssociationStrategyforassoc2:assoc_type1AssociationStrategyforassoc3:assoc_type2AssociationStrategyforassoc4:assoc_type2AssociationStrategyforassoc5:assoc_type2,USEOM_name0----CREATETABLE`assoc1`(`c5_at1`c5_at1_type`c1_at1`c1_at1_typeKEY`FK_assoc1_c5_at1_idx`(`c5_at1`)KEY`FK_assoc1_c1_at1_idx`(`c1_at1`)PRIMARYKEY(`c5_at1``c1_at1`));----CREATETABLE`assoc3``c5_at1`c5_at1_type`c4_at1`c4_at1_typeKEY`FK_assoc3_c5_at1_idx`(`c5_at1`)KEY`FK_assoc3_c4_at1_idx`(`c4_at1`)PRIMARYKEY(`c5_at1``c4_at1`));----CREATETABLE`class5_name`(`c5_at4`c5_at4_type(64)`c5_at3`c5_at3_type(64)`c1_at1`c1_at1_type`c5_at1`c5_at1_typePRIMARYKEY(`c5_at1`));----CREATETABLE`class3_name`(`c3_at3`c3_at3_type(64)`c3_at2`c3_at2_type(64)`c3_at4`c3_at4_type`c3_at1`c3_at1_typeNOTNULLPRIMARYKEY(`c3_at1`));----CREATETABLE`class2_name`(`c2_at3`c2_at3_type(64)`c2_at2`c2_at2_type(64)`c2_at4`c2_at4_type`c2_at1`c2_at1_typePRIMARYKEY(`c2_at1`));----CREATETABLE`class4_name`(`c4_at1`c4_at1_typePRIMARYKEY(`c4_at1`));----CREATETABLE`class1_name`(`c1_at2`c1_at2_type(64)`c1_at1`c1_at1_typePRIMARYKEY(`c1_at1`));----CREATETABLE`class6_name`(`c6_at4`c6_at4_type`c6_at3`c6_at3_type`c6_at2`c6_at2_type`c6_at1`c6_at1_typeNOTNULLPRIMARYKEY(`c6_at1`));----CREATETABLE`assoc2`(`c5_at1`c5_at1_type`c2_at1`c2_at1_typeKEY`FK_assoc2_c5_at1_idx`(`c5_at1`)KEY`FK_assoc2_c2_at1_idx`(`c2_at1`)PRIMARYKEY(`c5_at1``c2_at1`));----CREATETABLE`assoc5`(`c3_at1`c3_at1_typeNOTNULL`c2_at1`c2_at1_typeKEY`FK_assoc5_c3_at1_idx`(`c3_at1`)KEY`FK_assoc5_c2_at1_idx`(`c2_at1`)PRIMARYKEY(`c3_at1``c2_at1`));----CREATETABLE`assoc4`(`c6_at1`c6_at1_typeNOTNULL`c2_at1`c2_at1_typeKEY`FK_assoc4_c6_at1_idx`(`c6_at1`)KEY`FK_assoc4_c2_at1_idx`(`c2_at1`)PRIMARYKEY(`c6_at1``c2_at1`));ALTERTABLE`assoc1`ADDCONSTRAINT`FK_assoc1_c5_at1`FOREIGNKEY(`c5_at1`)REFERENCES`class5_name`(`c5_at1`)ONDELETECASCADEONUPDATECASCADEADDCONSTRAINT`FK_assoc1_c1_at1`FOREIGNKEY(`c1_at1`)REFERENCES`class1_name`(`c1_at1`)ONDELETECASCADEONUPDATECASCADE;ALTERTABLE`assoc3`ADDCONSTRAINT`FK_assoc3_c5_at1`FOREIGNKEY(`c5_at1`)REFERENCES`class5_name`(`c5_at1`)ONDELETECASCADEONUPDATECASCADEADDCONSTRAINT`FK_assoc3_c4_at1`FOREIGNKEY(`c4_at1`)REFERENCES`class4_name`(`c4_at1`)ONDELETECASCADEONUPDATECASCADE;ALTERTABLE`assoc2`ADDCONSTRAINT`FK_assoc2_c5_at1`FOREIGNKEY(`c5_at1`)REFERENCES`class5_name`(`c5_at1`)ONDELETECASCADEONUPDATECASCADEADDCONSTRAINT`FK_assoc2_c2_at1`FOREIGNKEY(`c2_at1`)REFERENCES`class2_name`(`c2_at1`)ONDELETECASCADEONUPDATECASCADEALTERTABLE`assoc5`ADDCONSTRAINT`FK_assoc5_c3_at1`FOREIGNKEY(`c3_at1`)REFERENCES`class3_name`(`c3_at1`)ONDELETECASCADEONUPDATECASCADEADDCONSTRAINT`FK_assoc5_c2_at1`FOREIGNKEY(`c2_at1`)REFERENCES`class2_name`(`c2_at1`)ONDELETECASCADEONUPDATECASCADE;ALTERTABLE`assoc4`ADDCONSTRAINT`FK_assoc4_c6_at1`FOREIGNKEY(`c6_at1`)REFERENCES`class6_name`(`c6_at1`)ONDELETECASCADEONUPDATECASCADEADDCONSTRAINT`FK_assoc4_c2_at1`FOREIGNKEY(`c2_at1`)REFERENCES`class2_name`(`c2_at1`)ONDELETECASCADEONUPDATECASCADE'\n"
          ]
        }
      ],
      "source": [
        "example_text = tf.constant('moduleOM_nameopenDeclarationonesigclass1_nameextendsClassattrSet=c1_at1+c1_at2id=c1_at1noparentisAbstract=No}onesigc1_at1extendsc1_at1_typeonesigc1_at2extendsc1_at2_typeonesigclass2_nameextendsClassattrSet=c2_at1+c2_at2+c2_at3+c2_at4id=c2_at1noparentisAbstract=No}onesigc2_at1extendsc2_at1_typeonesigc2_at2extendsc2_at2_typeonesigc2_at3extendsc2_at3_typeonesigc2_at4extendsc2_at4_typeonesigclass3_nameextendsClassattrSet=c3_at1+c3_at2+c3_at3+c3_at4id=c3_at1noparentisAbstract=No}onesigc3_at1extendsc3_at1_typeonesigc3_at2extendsc3_at2_typeonesigc3_at3extendsc3_at3_typeonesigc3_at4extendsc3_at4_typeonesigclass4_nameextendsClassattrSet=c4_at1id=c4_at1noparentisAbstract=No}onesigc4_at1extendsc4_at1_typeonesigclass5_nameextendsClassattrSet=c5_at1+c5_at2+c5_at3+c5_at4id=c5_at1noparentisAbstract=No}onesigc5_at1extendsc5_at1_typeonesigc5_at2extendsc5_at2_typeonesigc5_at3extendsc5_at3_typeonesigc5_at4extendsc5_at4_typeonesigclass6_nameextendsClassattrSet=c6_at1+c6_at2+c6_at3+c6_at4id=c6_at1noparentisAbstract=No}onesigc6_at1extendsc6_at1_typeonesigc6_at2extendsc6_at2_typeonesigc6_at3extendsc6_at3_typeonesigc6_at4extendsc6_at4_typeonesigassoc1extendsAssociationsrc=class1_namedst=class5_namesrc_multiplicity=src_mlpcdst_multiplicity=dst_mlpc}onesigassoc2extendsAssociationsrc=class1_namedst=class5_namesrc_multiplicity=src_mlpcdst_multiplicity=dst_mlpc}onesigassoc3extendsAssociationsrc=class4_namedst=class5_namesrc_multiplicity=src_mlpcdst_multiplicity=dst_mlpc}onesigassoc4extendsAssociationsrc=class1_namedst=class6_namesrc_multiplicity=src_mlpcdst_multiplicity=dst_mlpc2}onesigassoc5extendsAssociationsrc=class1_namedst=class3_namesrc_multiplicity=src_mlpcdst_multiplicity=dst_mlpc2}predshowrunshowfor38,​OM_name_Solution:0Table:class1_nameAttributec1_at1:c1_at1_typePrimaryKeyTable:class1_nameAttributec1_at2:c1_at2_typeTable:class2_nameAttributec2_at1:c1_at1_typePrimaryKeyTable:class2_nameAttributec2_at2:c2_at2_typeTable:class2_nameAttributec2_at3:c2_at3_typeTable:class3_nameAttributec3_at1:c3_at1_typePrimaryKeyTable:class3_nameAttributec3_at4:c3_at4_typeTable:class3_nameAttributec3_at2:c3_at2_typeTable:class4_nameAttributec4_at1:c4_at1_typePrimaryKeyTable:class5_nameAttributec5_at3:c5_at3_typeTable:class5_nameAttributec5_at4:c5_at4_typeTable:class6_nameAttributec6_at1:c6_at1_typePrimaryKeyTable:class6_nameAttributec6_at2:c6_at2_typeTable:class6_nameAttributec6_at3:c6_at3_typeTable:class6_nameAttributec6_at4:c6_at4_typeTable:class1_nameAttributec1_at1:c1_at1_typePrimaryKeyTable:class2_nameAttributec2_at1:c1_at1_typePrimaryKeyTable:class3_nameAttributec3_at1:c3_at1_typePrimaryKeyTable:class4_nameAttributec4_at1:c4_at1_typePrimaryKeyTable:class6_nameAttributec6_at1:c6_at1_typePrimaryKeyTableName:class1_nameTableName:class2_nameTableName:class3_nameTableName:class4_nameTableName:class5_nameTableName:class6_nameMappingStrategyofTableclass1_name:map_str2MappingStrategyofTableclass2_name:map_str2MappingStrategyofTableclass3_name:map_str2MappingStrategyofTableclass4_name:map_str2MappingStrategyofTableclass6_name:map_str2AssociationStrategyforassoc1:assoc_type1AssociationStrategyforassoc2:assoc_type1AssociationStrategyforassoc3:assoc_type2AssociationStrategyforassoc4:assoc_type2AssociationStrategyforassoc5:assoc_type2,USEOM_name0----CREATETABLE`assoc1`(`c5_at1`c5_at1_type`c1_at1`c1_at1_typeKEY`FK_assoc1_c5_at1_idx`(`c5_at1`)KEY`FK_assoc1_c1_at1_idx`(`c1_at1`)PRIMARYKEY(`c5_at1``c1_at1`));----CREATETABLE`assoc3``c5_at1`c5_at1_type`c4_at1`c4_at1_typeKEY`FK_assoc3_c5_at1_idx`(`c5_at1`)KEY`FK_assoc3_c4_at1_idx`(`c4_at1`)PRIMARYKEY(`c5_at1``c4_at1`));----CREATETABLE`class5_name`(`c5_at4`c5_at4_type(64)`c5_at3`c5_at3_type(64)`c1_at1`c1_at1_type`c5_at1`c5_at1_typePRIMARYKEY(`c5_at1`));----CREATETABLE`class3_name`(`c3_at3`c3_at3_type(64)`c3_at2`c3_at2_type(64)`c3_at4`c3_at4_type`c3_at1`c3_at1_typeNOTNULLPRIMARYKEY(`c3_at1`));----CREATETABLE`class2_name`(`c2_at3`c2_at3_type(64)`c2_at2`c2_at2_type(64)`c2_at4`c2_at4_type`c2_at1`c2_at1_typePRIMARYKEY(`c2_at1`));----CREATETABLE`class4_name`(`c4_at1`c4_at1_typePRIMARYKEY(`c4_at1`));----CREATETABLE`class1_name`(`c1_at2`c1_at2_type(64)`c1_at1`c1_at1_typePRIMARYKEY(`c1_at1`));----CREATETABLE`class6_name`(`c6_at4`c6_at4_type`c6_at3`c6_at3_type`c6_at2`c6_at2_type`c6_at1`c6_at1_typeNOTNULLPRIMARYKEY(`c6_at1`));----CREATETABLE`assoc2`(`c5_at1`c5_at1_type`c2_at1`c2_at1_typeKEY`FK_assoc2_c5_at1_idx`(`c5_at1`)KEY`FK_assoc2_c2_at1_idx`(`c2_at1`)PRIMARYKEY(`c5_at1``c2_at1`));----CREATETABLE`assoc5`(`c3_at1`c3_at1_typeNOTNULL`c2_at1`c2_at1_typeKEY`FK_assoc5_c3_at1_idx`(`c3_at1`)KEY`FK_assoc5_c2_at1_idx`(`c2_at1`)PRIMARYKEY(`c3_at1``c2_at1`));----CREATETABLE`assoc4`(`c6_at1`c6_at1_typeNOTNULL`c2_at1`c2_at1_typeKEY`FK_assoc4_c6_at1_idx`(`c6_at1`)KEY`FK_assoc4_c2_at1_idx`(`c2_at1`)PRIMARYKEY(`c6_at1``c2_at1`));ALTERTABLE`assoc1`ADDCONSTRAINT`FK_assoc1_c5_at1`FOREIGNKEY(`c5_at1`)REFERENCES`class5_name`(`c5_at1`)ONDELETECASCADEONUPDATECASCADEADDCONSTRAINT`FK_assoc1_c1_at1`FOREIGNKEY(`c1_at1`)REFERENCES`class1_name`(`c1_at1`)ONDELETECASCADEONUPDATECASCADE;ALTERTABLE`assoc3`ADDCONSTRAINT`FK_assoc3_c5_at1`FOREIGNKEY(`c5_at1`)REFERENCES`class5_name`(`c5_at1`)ONDELETECASCADEONUPDATECASCADEADDCONSTRAINT`FK_assoc3_c4_at1`FOREIGNKEY(`c4_at1`)REFERENCES`class4_name`(`c4_at1`)ONDELETECASCADEONUPDATECASCADE;ALTERTABLE`assoc2`ADDCONSTRAINT`FK_assoc2_c5_at1`FOREIGNKEY(`c5_at1`)REFERENCES`class5_name`(`c5_at1`)ONDELETECASCADEONUPDATECASCADEADDCONSTRAINT`FK_assoc2_c2_at1`FOREIGNKEY(`c2_at1`)REFERENCES`class2_name`(`c2_at1`)ONDELETECASCADEONUPDATECASCADEALTERTABLE`assoc5`ADDCONSTRAINT`FK_assoc5_c3_at1`FOREIGNKEY(`c3_at1`)REFERENCES`class3_name`(`c3_at1`)ONDELETECASCADEONUPDATECASCADEADDCONSTRAINT`FK_assoc5_c2_at1`FOREIGNKEY(`c2_at1`)REFERENCES`class2_name`(`c2_at1`)ONDELETECASCADEONUPDATECASCADE;ALTERTABLE`assoc4`ADDCONSTRAINT`FK_assoc4_c6_at1`FOREIGNKEY(`c6_at1`)REFERENCES`class6_name`(`c6_at1`)ONDELETECASCADEONUPDATECASCADEADDCONSTRAINT`FK_assoc4_c2_at1`FOREIGNKEY(`c2_at1`)REFERENCES`class2_name`(`c2_at1`)ONDELETECASCADEONUPDATECASCADE')\n",
        "\n",
        "#example_text = tf.constant('class1,table2,obj1,atr1')\n",
        "print(example_text.numpy())\n",
        "print(tf_text.normalize_utf8(example_text, 'NFKD').numpy())"
      ]
    },
    {
      "cell_type": "code",
      "execution_count": 13,
      "metadata": {
        "id": "chTF5N885F0P"
      },
      "outputs": [],
      "source": [
        "#import re\n",
        "\n",
        "#def tf_lower_and_split_punct(text):\n",
        "\n",
        "def tf_lower_and_split_punct(text):\n",
        "  # Split accented characters.\n",
        "  text = tf_text.normalize_utf8(text, 'NFKD')\n",
        "  text = tf.strings.lower(text)\n",
        "  # Keep space, a to z, and select punctuation.\n",
        "  text = tf.strings.regex_replace(text, '', '')\n",
        "  # Add spaces around punctuation.\n",
        "  text = tf.strings.regex_replace(text, '', r'')\n",
        "  # Strip whitespace.\n",
        "  text = tf.strings.strip(text)\n",
        "\n",
        "  text = tf.strings.join(['[START]', text, '[END]'], separator=' ')\n",
        "  return text\n",
        "\n",
        "\n",
        "\n"
      ]
    },
    {
      "cell_type": "code",
      "execution_count": 14,
      "metadata": {
        "colab": {
          "base_uri": "https://localhost:8080/"
        },
        "id": "UREvDg3sEKYa",
        "outputId": "32852b1e-8dd5-47ea-ce79-c7a3969871b4"
      },
      "outputs": [
        {
          "output_type": "stream",
          "name": "stdout",
          "text": [
            "moduleOM_nameopenDeclarationonesigclass1_nameextendsClassattrSet=c1_at1+c1_at2id=c1_at1noparentisAbstract=No}onesigc1_at1extendsc1_at1_typeonesigc1_at2extendsc1_at2_typeonesigclass2_nameextendsClassattrSet=c2_at1+c2_at2+c2_at3+c2_at4id=c2_at1noparentisAbstract=No}onesigc2_at1extendsc2_at1_typeonesigc2_at2extendsc2_at2_typeonesigc2_at3extendsc2_at3_typeonesigc2_at4extendsc2_at4_typeonesigclass3_nameextendsClassattrSet=c3_at1+c3_at2+c3_at3+c3_at4id=c3_at1noparentisAbstract=No}onesigc3_at1extendsc3_at1_typeonesigc3_at2extendsc3_at2_typeonesigc3_at3extendsc3_at3_typeonesigc3_at4extendsc3_at4_typeonesigclass4_nameextendsClassattrSet=c4_at1id=c4_at1noparentisAbstract=No}onesigc4_at1extendsc4_at1_typeonesigclass5_nameextendsClassattrSet=c5_at1+c5_at2+c5_at3+c5_at4id=c5_at1noparentisAbstract=No}onesigc5_at1extendsc5_at1_typeonesigc5_at2extendsc5_at2_typeonesigc5_at3extendsc5_at3_typeonesigc5_at4extendsc5_at4_typeonesigclass6_nameextendsClassattrSet=c6_at1+c6_at2+c6_at3+c6_at4id=c6_at1noparentisAbstract=No}onesigc6_at1extendsc6_at1_typeonesigc6_at2extendsc6_at2_typeonesigc6_at3extendsc6_at3_typeonesigc6_at4extendsc6_at4_typeonesigassoc1extendsAssociationsrc=class1_namedst=class5_namesrc_multiplicity=src_mlpcdst_multiplicity=dst_mlpc}onesigassoc2extendsAssociationsrc=class1_namedst=class5_namesrc_multiplicity=src_mlpcdst_multiplicity=dst_mlpc}onesigassoc3extendsAssociationsrc=class4_namedst=class5_namesrc_multiplicity=src_mlpcdst_multiplicity=dst_mlpc}onesigassoc4extendsAssociationsrc=class1_namedst=class6_namesrc_multiplicity=src_mlpcdst_multiplicity=dst_mlpc2}onesigassoc5extendsAssociationsrc=class1_namedst=class3_namesrc_multiplicity=src_mlpcdst_multiplicity=dst_mlpc2}predshowrunshowfor38,​OM_name_Solution:0Table:class1_nameAttributec1_at1:c1_at1_typePrimaryKeyTable:class1_nameAttributec1_at2:c1_at2_typeTable:class2_nameAttributec2_at1:c1_at1_typePrimaryKeyTable:class2_nameAttributec2_at2:c2_at2_typeTable:class2_nameAttributec2_at3:c2_at3_typeTable:class3_nameAttributec3_at1:c3_at1_typePrimaryKeyTable:class3_nameAttributec3_at4:c3_at4_typeTable:class3_nameAttributec3_at2:c3_at2_typeTable:class4_nameAttributec4_at1:c4_at1_typePrimaryKeyTable:class5_nameAttributec5_at3:c5_at3_typeTable:class5_nameAttributec5_at4:c5_at4_typeTable:class6_nameAttributec6_at1:c6_at1_typePrimaryKeyTable:class6_nameAttributec6_at2:c6_at2_typeTable:class6_nameAttributec6_at3:c6_at3_typeTable:class6_nameAttributec6_at4:c6_at4_typeTable:class1_nameAttributec1_at1:c1_at1_typePrimaryKeyTable:class2_nameAttributec2_at1:c1_at1_typePrimaryKeyTable:class3_nameAttributec3_at1:c3_at1_typePrimaryKeyTable:class4_nameAttributec4_at1:c4_at1_typePrimaryKeyTable:class6_nameAttributec6_at1:c6_at1_typePrimaryKeyTableName:class1_nameTableName:class2_nameTableName:class3_nameTableName:class4_nameTableName:class5_nameTableName:class6_nameMappingStrategyofTableclass1_name:map_str2MappingStrategyofTableclass2_name:map_str2MappingStrategyofTableclass3_name:map_str2MappingStrategyofTableclass4_name:map_str2MappingStrategyofTableclass6_name:map_str2AssociationStrategyforassoc1:assoc_type1AssociationStrategyforassoc2:assoc_type1AssociationStrategyforassoc3:assoc_type2AssociationStrategyforassoc4:assoc_type2AssociationStrategyforassoc5:assoc_type2,USEOM_name0----CREATETABLE`assoc1`(`c5_at1`c5_at1_type`c1_at1`c1_at1_typeKEY`FK_assoc1_c5_at1_idx`(`c5_at1`)KEY`FK_assoc1_c1_at1_idx`(`c1_at1`)PRIMARYKEY(`c5_at1``c1_at1`));----CREATETABLE`assoc3``c5_at1`c5_at1_type`c4_at1`c4_at1_typeKEY`FK_assoc3_c5_at1_idx`(`c5_at1`)KEY`FK_assoc3_c4_at1_idx`(`c4_at1`)PRIMARYKEY(`c5_at1``c4_at1`));----CREATETABLE`class5_name`(`c5_at4`c5_at4_type(64)`c5_at3`c5_at3_type(64)`c1_at1`c1_at1_type`c5_at1`c5_at1_typePRIMARYKEY(`c5_at1`));----CREATETABLE`class3_name`(`c3_at3`c3_at3_type(64)`c3_at2`c3_at2_type(64)`c3_at4`c3_at4_type`c3_at1`c3_at1_typeNOTNULLPRIMARYKEY(`c3_at1`));----CREATETABLE`class2_name`(`c2_at3`c2_at3_type(64)`c2_at2`c2_at2_type(64)`c2_at4`c2_at4_type`c2_at1`c2_at1_typePRIMARYKEY(`c2_at1`));----CREATETABLE`class4_name`(`c4_at1`c4_at1_typePRIMARYKEY(`c4_at1`));----CREATETABLE`class1_name`(`c1_at2`c1_at2_type(64)`c1_at1`c1_at1_typePRIMARYKEY(`c1_at1`));----CREATETABLE`class6_name`(`c6_at4`c6_at4_type`c6_at3`c6_at3_type`c6_at2`c6_at2_type`c6_at1`c6_at1_typeNOTNULLPRIMARYKEY(`c6_at1`));----CREATETABLE`assoc2`(`c5_at1`c5_at1_type`c2_at1`c2_at1_typeKEY`FK_assoc2_c5_at1_idx`(`c5_at1`)KEY`FK_assoc2_c2_at1_idx`(`c2_at1`)PRIMARYKEY(`c5_at1``c2_at1`));----CREATETABLE`assoc5`(`c3_at1`c3_at1_typeNOTNULL`c2_at1`c2_at1_typeKEY`FK_assoc5_c3_at1_idx`(`c3_at1`)KEY`FK_assoc5_c2_at1_idx`(`c2_at1`)PRIMARYKEY(`c3_at1``c2_at1`));----CREATETABLE`assoc4`(`c6_at1`c6_at1_typeNOTNULL`c2_at1`c2_at1_typeKEY`FK_assoc4_c6_at1_idx`(`c6_at1`)KEY`FK_assoc4_c2_at1_idx`(`c2_at1`)PRIMARYKEY(`c6_at1``c2_at1`));ALTERTABLE`assoc1`ADDCONSTRAINT`FK_assoc1_c5_at1`FOREIGNKEY(`c5_at1`)REFERENCES`class5_name`(`c5_at1`)ONDELETECASCADEONUPDATECASCADEADDCONSTRAINT`FK_assoc1_c1_at1`FOREIGNKEY(`c1_at1`)REFERENCES`class1_name`(`c1_at1`)ONDELETECASCADEONUPDATECASCADE;ALTERTABLE`assoc3`ADDCONSTRAINT`FK_assoc3_c5_at1`FOREIGNKEY(`c5_at1`)REFERENCES`class5_name`(`c5_at1`)ONDELETECASCADEONUPDATECASCADEADDCONSTRAINT`FK_assoc3_c4_at1`FOREIGNKEY(`c4_at1`)REFERENCES`class4_name`(`c4_at1`)ONDELETECASCADEONUPDATECASCADE;ALTERTABLE`assoc2`ADDCONSTRAINT`FK_assoc2_c5_at1`FOREIGNKEY(`c5_at1`)REFERENCES`class5_name`(`c5_at1`)ONDELETECASCADEONUPDATECASCADEADDCONSTRAINT`FK_assoc2_c2_at1`FOREIGNKEY(`c2_at1`)REFERENCES`class2_name`(`c2_at1`)ONDELETECASCADEONUPDATECASCADEALTERTABLE`assoc5`ADDCONSTRAINT`FK_assoc5_c3_at1`FOREIGNKEY(`c3_at1`)REFERENCES`class3_name`(`c3_at1`)ONDELETECASCADEONUPDATECASCADEADDCONSTRAINT`FK_assoc5_c2_at1`FOREIGNKEY(`c2_at1`)REFERENCES`class2_name`(`c2_at1`)ONDELETECASCADEONUPDATECASCADE;ALTERTABLE`assoc4`ADDCONSTRAINT`FK_assoc4_c6_at1`FOREIGNKEY(`c6_at1`)REFERENCES`class6_name`(`c6_at1`)ONDELETECASCADEONUPDATECASCADEADDCONSTRAINT`FK_assoc4_c2_at1`FOREIGNKEY(`c2_at1`)REFERENCES`class2_name`(`c2_at1`)ONDELETECASCADEONUPDATECASCADE\n",
            "[START] moduleom_nameopendeclarationonesigclass1_nameextendsclassattrset=c1_at1+c1_at2id=c1_at1noparentisabstract=no}onesigc1_at1extendsc1_at1_typeonesigc1_at2extendsc1_at2_typeonesigclass2_nameextendsclassattrset=c2_at1+c2_at2+c2_at3+c2_at4id=c2_at1noparentisabstract=no}onesigc2_at1extendsc2_at1_typeonesigc2_at2extendsc2_at2_typeonesigc2_at3extendsc2_at3_typeonesigc2_at4extendsc2_at4_typeonesigclass3_nameextendsclassattrset=c3_at1+c3_at2+c3_at3+c3_at4id=c3_at1noparentisabstract=no}onesigc3_at1extendsc3_at1_typeonesigc3_at2extendsc3_at2_typeonesigc3_at3extendsc3_at3_typeonesigc3_at4extendsc3_at4_typeonesigclass4_nameextendsclassattrset=c4_at1id=c4_at1noparentisabstract=no}onesigc4_at1extendsc4_at1_typeonesigclass5_nameextendsclassattrset=c5_at1+c5_at2+c5_at3+c5_at4id=c5_at1noparentisabstract=no}onesigc5_at1extendsc5_at1_typeonesigc5_at2extendsc5_at2_typeonesigc5_at3extendsc5_at3_typeonesigc5_at4extendsc5_at4_typeonesigclass6_nameextendsclassattrset=c6_at1+c6_at2+c6_at3+c6_at4id=c6_at1noparentisabstract=no}onesigc6_at1extendsc6_at1_typeonesigc6_at2extendsc6_at2_typeonesigc6_at3extendsc6_at3_typeonesigc6_at4extendsc6_at4_typeonesigassoc1extendsassociationsrc=class1_namedst=class5_namesrc_multiplicity=src_mlpcdst_multiplicity=dst_mlpc}onesigassoc2extendsassociationsrc=class1_namedst=class5_namesrc_multiplicity=src_mlpcdst_multiplicity=dst_mlpc}onesigassoc3extendsassociationsrc=class4_namedst=class5_namesrc_multiplicity=src_mlpcdst_multiplicity=dst_mlpc}onesigassoc4extendsassociationsrc=class1_namedst=class6_namesrc_multiplicity=src_mlpcdst_multiplicity=dst_mlpc2}onesigassoc5extendsassociationsrc=class1_namedst=class3_namesrc_multiplicity=src_mlpcdst_multiplicity=dst_mlpc2}predshowrunshowfor38,​om_name_solution:0table:class1_nameattributec1_at1:c1_at1_typeprimarykeytable:class1_nameattributec1_at2:c1_at2_typetable:class2_nameattributec2_at1:c1_at1_typeprimarykeytable:class2_nameattributec2_at2:c2_at2_typetable:class2_nameattributec2_at3:c2_at3_typetable:class3_nameattributec3_at1:c3_at1_typeprimarykeytable:class3_nameattributec3_at4:c3_at4_typetable:class3_nameattributec3_at2:c3_at2_typetable:class4_nameattributec4_at1:c4_at1_typeprimarykeytable:class5_nameattributec5_at3:c5_at3_typetable:class5_nameattributec5_at4:c5_at4_typetable:class6_nameattributec6_at1:c6_at1_typeprimarykeytable:class6_nameattributec6_at2:c6_at2_typetable:class6_nameattributec6_at3:c6_at3_typetable:class6_nameattributec6_at4:c6_at4_typetable:class1_nameattributec1_at1:c1_at1_typeprimarykeytable:class2_nameattributec2_at1:c1_at1_typeprimarykeytable:class3_nameattributec3_at1:c3_at1_typeprimarykeytable:class4_nameattributec4_at1:c4_at1_typeprimarykeytable:class6_nameattributec6_at1:c6_at1_typeprimarykeytablename:class1_nametablename:class2_nametablename:class3_nametablename:class4_nametablename:class5_nametablename:class6_namemappingstrategyoftableclass1_name:map_str2mappingstrategyoftableclass2_name:map_str2mappingstrategyoftableclass3_name:map_str2mappingstrategyoftableclass4_name:map_str2mappingstrategyoftableclass6_name:map_str2associationstrategyforassoc1:assoc_type1associationstrategyforassoc2:assoc_type1associationstrategyforassoc3:assoc_type2associationstrategyforassoc4:assoc_type2associationstrategyforassoc5:assoc_type2,useom_name0----createtable`assoc1`(`c5_at1`c5_at1_type`c1_at1`c1_at1_typekey`fk_assoc1_c5_at1_idx`(`c5_at1`)key`fk_assoc1_c1_at1_idx`(`c1_at1`)primarykey(`c5_at1``c1_at1`));----createtable`assoc3``c5_at1`c5_at1_type`c4_at1`c4_at1_typekey`fk_assoc3_c5_at1_idx`(`c5_at1`)key`fk_assoc3_c4_at1_idx`(`c4_at1`)primarykey(`c5_at1``c4_at1`));----createtable`class5_name`(`c5_at4`c5_at4_type(64)`c5_at3`c5_at3_type(64)`c1_at1`c1_at1_type`c5_at1`c5_at1_typeprimarykey(`c5_at1`));----createtable`class3_name`(`c3_at3`c3_at3_type(64)`c3_at2`c3_at2_type(64)`c3_at4`c3_at4_type`c3_at1`c3_at1_typenotnullprimarykey(`c3_at1`));----createtable`class2_name`(`c2_at3`c2_at3_type(64)`c2_at2`c2_at2_type(64)`c2_at4`c2_at4_type`c2_at1`c2_at1_typeprimarykey(`c2_at1`));----createtable`class4_name`(`c4_at1`c4_at1_typeprimarykey(`c4_at1`));----createtable`class1_name`(`c1_at2`c1_at2_type(64)`c1_at1`c1_at1_typeprimarykey(`c1_at1`));----createtable`class6_name`(`c6_at4`c6_at4_type`c6_at3`c6_at3_type`c6_at2`c6_at2_type`c6_at1`c6_at1_typenotnullprimarykey(`c6_at1`));----createtable`assoc2`(`c5_at1`c5_at1_type`c2_at1`c2_at1_typekey`fk_assoc2_c5_at1_idx`(`c5_at1`)key`fk_assoc2_c2_at1_idx`(`c2_at1`)primarykey(`c5_at1``c2_at1`));----createtable`assoc5`(`c3_at1`c3_at1_typenotnull`c2_at1`c2_at1_typekey`fk_assoc5_c3_at1_idx`(`c3_at1`)key`fk_assoc5_c2_at1_idx`(`c2_at1`)primarykey(`c3_at1``c2_at1`));----createtable`assoc4`(`c6_at1`c6_at1_typenotnull`c2_at1`c2_at1_typekey`fk_assoc4_c6_at1_idx`(`c6_at1`)key`fk_assoc4_c2_at1_idx`(`c2_at1`)primarykey(`c6_at1``c2_at1`));altertable`assoc1`addconstraint`fk_assoc1_c5_at1`foreignkey(`c5_at1`)references`class5_name`(`c5_at1`)ondeletecascadeonupdatecascadeaddconstraint`fk_assoc1_c1_at1`foreignkey(`c1_at1`)references`class1_name`(`c1_at1`)ondeletecascadeonupdatecascade;altertable`assoc3`addconstraint`fk_assoc3_c5_at1`foreignkey(`c5_at1`)references`class5_name`(`c5_at1`)ondeletecascadeonupdatecascadeaddconstraint`fk_assoc3_c4_at1`foreignkey(`c4_at1`)references`class4_name`(`c4_at1`)ondeletecascadeonupdatecascade;altertable`assoc2`addconstraint`fk_assoc2_c5_at1`foreignkey(`c5_at1`)references`class5_name`(`c5_at1`)ondeletecascadeonupdatecascadeaddconstraint`fk_assoc2_c2_at1`foreignkey(`c2_at1`)references`class2_name`(`c2_at1`)ondeletecascadeonupdatecascadealtertable`assoc5`addconstraint`fk_assoc5_c3_at1`foreignkey(`c3_at1`)references`class3_name`(`c3_at1`)ondeletecascadeonupdatecascadeaddconstraint`fk_assoc5_c2_at1`foreignkey(`c2_at1`)references`class2_name`(`c2_at1`)ondeletecascadeonupdatecascade;altertable`assoc4`addconstraint`fk_assoc4_c6_at1`foreignkey(`c6_at1`)references`class6_name`(`c6_at1`)ondeletecascadeonupdatecascadeaddconstraint`fk_assoc4_c2_at1`foreignkey(`c2_at1`)references`class2_name`(`c2_at1`)ondeletecascadeonupdatecascade [END]\n"
          ]
        }
      ],
      "source": [
        "print(example_text.numpy().decode())\n",
        "print(tf_lower_and_split_punct(example_text).numpy().decode())"
      ]
    },
    {
      "cell_type": "markdown",
      "metadata": {
        "id": "4q-sKsSI7xRZ"
      },
      "source": [
        "#### Text Vectorization"
      ]
    },
    {
      "cell_type": "markdown",
      "metadata": {
        "id": "6aKn8qd37abi"
      },
      "source": [
        "This standardization function will be wrapped up in a `tf.keras.layers.TextVectorization` layer which will handle the vocabulary extraction and conversion of input text to sequences of tokens."
      ]
    },
    {
      "cell_type": "code",
      "execution_count": 15,
      "metadata": {
        "id": "eAY9k49G3jE_"
      },
      "outputs": [],
      "source": [
        "max_vocab_size = 5000\n",
        "\n",
        "context_text_processor = tf.keras.layers.TextVectorization(\n",
        "    standardize=tf_lower_and_split_punct,\n",
        "    max_tokens=max_vocab_size,\n",
        "    ragged=True)"
      ]
    },
    {
      "cell_type": "markdown",
      "metadata": {
        "id": "7kbC6ODP8IK_"
      },
      "source": [
        "The `TextVectorization` layer and many other [Keras preprocessing layers](https://www.tensorflow.org/guide/keras/preprocessing_layers) have an `adapt` method. This method reads one epoch of the training data, and works a lot like `Model.fit`. This `adapt` method initializes the layer based on the data. Here it determines the vocabulary:"
      ]
    },
    {
      "cell_type": "code",
      "execution_count": 16,
      "metadata": {
        "colab": {
          "base_uri": "https://localhost:8080/"
        },
        "id": "bmsI1Yql8FYe",
        "outputId": "c2e618cb-b402-4bec-ec5d-d32ed389e0b4"
      },
      "outputs": [
        {
          "output_type": "execute_result",
          "data": {
            "text/plain": [
              "['', '[UNK]', 'key', 'sig', 'extends', '=', 'on', 'table', 'not', 'one']"
            ]
          },
          "metadata": {},
          "execution_count": 16
        }
      ],
      "source": [
        "context_text_processor.adapt(train_raw.map(lambda context, target: context))\n",
        "\n",
        "# Here are the first 10 words from the vocabulary:\n",
        "context_text_processor.get_vocabulary()[:10]"
      ]
    },
    {
      "cell_type": "markdown",
      "metadata": {
        "id": "9kGjIFjX8_Wp"
      },
      "source": [
        "That's the context data  `TextVectorization` layer, now build and `.adapt()` for the Target Data one:"
      ]
    },
    {
      "cell_type": "code",
      "execution_count": 17,
      "metadata": {
        "colab": {
          "base_uri": "https://localhost:8080/"
        },
        "id": "jlC4xuZnKLBS",
        "outputId": "faca3422-fb33-4fa2-f67c-8ff478525455"
      },
      "outputs": [
        {
          "output_type": "execute_result",
          "data": {
            "text/plain": [
              "['', '[UNK]', 'key', 'sig', 'extends', '=', 'on', 'table', 'not', 'one']"
            ]
          },
          "metadata": {},
          "execution_count": 17
        }
      ],
      "source": [
        "target_text_processor = tf.keras.layers.TextVectorization(\n",
        "    standardize=tf_lower_and_split_punct,\n",
        "    max_tokens=max_vocab_size,\n",
        "    ragged=True)\n",
        "\n",
        "target_text_processor.adapt(train_raw.map(lambda context, target: target))\n",
        "target_text_processor.get_vocabulary()[:10]"
      ]
    },
    {
      "cell_type": "markdown",
      "metadata": {
        "id": "BWQqlP_s9eIv"
      },
      "source": [
        "Now these layers can convert a batch of strings into a batch of token IDs:"
      ]
    },
    {
      "cell_type": "code",
      "execution_count": 18,
      "metadata": {
        "colab": {
          "base_uri": "https://localhost:8080/"
        },
        "id": "9KZxj8IrNZ9S",
        "outputId": "7a2d7176-fc5e-4f39-f3cf-6e4b6d4ea2f9"
      },
      "outputs": [
        {
          "output_type": "execute_result",
          "data": {
            "text/plain": [
              "<tf.RaggedTensor [[122, 124, 311, 125, 9, 3, 60, 4, 22, 21, 387, 36, 72, 9, 3, 121, 4, 321,\n",
              "  9, 3, 353, 4, 22, 21, 393, 36, 72, 9, 3, 378, 4, 377, 9, 3, 89, 4, 11,\n",
              "  345, 23, 93, 24, 71, 9, 3, 63, 4, 22, 21, 386, 36, 72, 9, 3, 78, 4, 317,\n",
              "  9, 3, 96, 4, 11, 344, 23, 93, 24, 71, 9, 3, 48, 4, 22, 21, 385, 36, 72,\n",
              "  9, 3, 119, 4, 59, 9, 3, 128, 4, 363, 9, 3, 45, 4, 22, 21, 384, 9, 25,\n",
              "  231, 25, 37, 233, 9, 3, 127, 4, 362, 9, 3, 85, 4, 11, 348, 23, 93, 24,\n",
              "  71, 9, 3, 77, 4, 22, 21, 314, 9, 25, 231, 25, 37, 233, 9, 3, 313, 4,\n",
              "  312, 9, 3, 111, 4, 301, 9, 3, 79, 4, 11, 346, 23, 93, 24, 71, 9, 3, 67,\n",
              "  4, 22, 21, 383, 36, 72, 9, 3, 304, 4, 262, 9, 3, 126, 4, 50, 9, 3, 80,\n",
              "  4, 22, 21, 382, 36, 72, 9, 3, 112, 4, 361, 9, 3, 360, 4, 359, 9, 3, 358,\n",
              "  4, 357, 9, 3, 356, 4, 355, 9, 3, 62, 4, 11, 340, 23, 140, 24, 71, 9, 3,\n",
              "  75, 4, 22, 21, 381, 36, 72, 9, 3, 113, 4, 347, 9, 3, 82, 4, 11, 342, 23,\n",
              "  93, 24, 71, 9, 3, 91, 4, 11, 343, 23, 140, 24, 71, 9, 3, 238, 4, 22, 21,\n",
              "  380, 9, 25, 141, 25, 37, 142, 9, 3, 239, 4, 354, 9, 3, 240, 4, 375, 9,\n",
              "  3, 183, 4, 22, 21, 392, 9, 25, 141, 25, 37, 142, 9, 3, 241, 4, 376, 9,\n",
              "  3, 352, 4, 22, 21, 391, 9, 25, 141, 25, 37, 142, 9, 3, 374, 4, 339, 9,\n",
              "  3, 351, 4, 22, 21, 390, 36, 72, 9, 3, 373, 4, 372, 9, 3, 371, 4, 370, 9,\n",
              "  3, 369, 4, 368, 9, 3, 90, 4, 11, 341, 23, 140, 24, 71, 9, 3, 350, 4, 22,\n",
              "  21, 389, 9, 25, 232, 25, 37, 234, 9, 3, 367, 4, 366, 9, 3, 349, 4, 22,\n",
              "  21, 388, 9, 25, 232, 25, 37, 234, 9, 3, 365, 4, 364, 303, 226, 302, 226,\n",
              "  647, 47, 12, 13, 316, 47, 12, 13, 604, 47, 12, 13, 315, 47, 12, 13, 457,\n",
              "  47, 12, 13, 623, 47, 12, 13, 465, 47, 12, 13, 602, 47, 12, 13, 622, 47,\n",
              "  12, 13, 650, 47, 12, 13, 509, 47, 12, 13, 649, 11, 12, 13, 571, 11, 12,\n",
              "  13, 583, 11, 12, 13, 567, 11, 12, 13, 487, 11, 12, 13, 319, 11, 12, 13,\n",
              "  518, 11, 12, 13, 322, 11, 12, 13, 394, 305, 306, 307, 7, 335, 8, 27, 29,\n",
              "  2, 440, 7, 332, 8, 34, 29, 2, 438, 7, 334, 8, 34, 29, 2, 590, 8, 461, 8,\n",
              "  399, 7, 459, 8, 34, 29, 2, 138, 7, 612, 8, 34, 2, 611, 29, 2, 138, 7,\n",
              "  541, 8, 34, 2, 538, 29, 2, 166, 29, 2, 165, 7, 589, 8, 573, 8, 34, 2,\n",
              "  588, 2, 585, 2, 586, 7, 333, 8, 34, 29, 2, 271, 7, 331, 8, 230, 2, 505,\n",
              "  29, 2, 435, 7, 337, 8, 318, 8, 34, 2, 327, 2, 328, 29, 2, 437, 7, 395,\n",
              "  8, 34, 29, 2, 166, 29, 2, 165, 7, 617, 8, 34, 2, 616, 29, 2, 138, 7,\n",
              "  615, 8, 34, 2, 614, 29, 2, 138, 7, 550, 8, 512, 8, 34, 2, 530, 2, 549,\n",
              "  29, 2, 551, 7, 336, 8, 230, 8, 34, 2, 325, 2, 324, 29, 2, 439, 7, 520,\n",
              "  8, 34, 2, 515, 29, 2, 166, 29, 2, 165, 7, 653, 8, 34, 29, 2, 257, 7,\n",
              "  575, 8, 463, 8, 27, 2, 542, 2, 574, 29, 2, 576, 7, 338, 8, 320, 8, 34,\n",
              "  2, 329, 2, 330, 29, 2, 436, 54, 7, 613, 19, 18, 610, 14, 2, 296, 16,\n",
              "  295, 6, 17, 10, 6, 15, 10, 64, 54, 7, 49, 19, 18, 537, 14, 2, 44, 16,\n",
              "  182, 6, 17, 10, 6, 15, 10, 64, 54, 7, 107, 19, 18, 587, 14, 2, 267, 16,\n",
              "  266, 6, 17, 10, 6, 15, 10, 19, 18, 584, 14, 2, 32, 16, 227, 6, 17, 10,\n",
              "  6, 15, 10, 64, 54, 7, 57, 19, 18, 504, 14, 2, 109, 16, 110, 6, 17, 10,\n",
              "  6, 15, 10, 64, 54, 7, 135, 19, 18, 326, 14, 2, 109, 16, 110, 6, 17, 10,\n",
              "  6, 15, 10, 19, 18, 264, 14, 2, 44, 16, 182, 6, 17, 10, 6, 15, 10, 64,\n",
              "  54, 7, 137, 19, 18, 458, 14, 2, 109, 16, 110, 6, 17, 10, 6, 15, 10, 64,\n",
              "  54, 7, 256, 19, 18, 458, 14, 2, 109, 16, 110, 6, 17, 10, 6, 15, 10, 64,\n",
              "  54, 7, 99, 19, 18, 186, 14, 2, 31, 16, 460, 6, 17, 10, 6, 15, 10, 19,\n",
              "  18, 548, 14, 2, 32, 16, 227, 6, 17, 10, 6, 15, 10, 64, 54, 7, 133, 19,\n",
              "  18, 235, 14, 2, 229, 16, 228, 6, 17, 10, 6, 15, 10, 64, 19, 18, 323, 14,\n",
              "  2, 109, 16, 110, 6, 17, 10, 6, 15, 10, 64, 54, 7, 114, 19, 18, 519, 14,\n",
              "  2, 44, 16, 182, 6, 17, 10, 6, 15, 10, 64, 54, 7, 115, 19, 18, 513, 14,\n",
              "  2, 44, 16, 182, 6, 17, 10, 6, 15, 10, 19, 18, 543, 14, 2, 267, 16, 266,\n",
              "  6, 17, 10, 6, 15, 10, 64, 54, 7, 129, 19, 18, 379, 14, 2, 109, 16, 110,\n",
              "  6, 17, 10, 6, 15, 10, 19, 18, 235, 14, 2, 229, 16, 228, 6, 17, 10, 6,\n",
              "  15, 10, 123]]>"
            ]
          },
          "metadata": {},
          "execution_count": 18
        }
      ],
      "source": [
        "example_tokens = context_text_processor(example_context_strings)\n",
        "example_tokens[:3, :]"
      ]
    },
    {
      "cell_type": "markdown",
      "metadata": {
        "id": "AA9rUn9G9n78"
      },
      "source": [
        "The `get_vocabulary` method can be used to convert token IDs back to text:"
      ]
    },
    {
      "cell_type": "code",
      "execution_count": 19,
      "metadata": {
        "colab": {
          "base_uri": "https://localhost:8080/",
          "height": 87
        },
        "id": "98g9rcxGQY0I",
        "outputId": "3950e4c7-0b8e-4e9c-8ecb-1ceb81ad06cf"
      },
      "outputs": [
        {
          "output_type": "execute_result",
          "data": {
            "text/plain": [
              "'[START] module om_name:0,open declaration one sig class1_name extends class attrset =c1_at1id=c1_at1isabstract=no no parent} one sig c1_at1 extends c1_at1_type, one sig class01_name extends class attrset =c01_at1id=c01_at1isabstract=no no parent} one sig c01_at1 extends c01_at1_type, one sig assoc1 extends association src=class1_namedst=class01_name src_multiplicity =src_mlpc dst_multiplicity =dst_mlpc,} one sig class2_name extends class attrset =c2_at1id=c2_at1isabstract=no no parent} one sig c2_at1 extends c2_at1_type, one sig assoc2 extends association src=class1_namedst=class2_name src_multiplicity =src_mlpc dst_multiplicity =dst_mlpc,} one sig class3_name extends class attrset =c3_at1+c3_at2id=c3_at1isabstract=no no parent} one sig c3_at1 extends c3_at1_type one sig c3_at2 extends c3_at2_type, one sig class4_name extends class attrset =c4_at1 one parent id=c3_at1isabstract=no parent in class3_name} one sig c4_at1 extends c4_at1_type, one sig assoc3 extends association dst=class2_namedst=class3_name src_multiplicity =src_mlpc dst_multiplicity =dst_mlpc,} one sig class5_name extends class attrset =c5_at1+c5_at2 one parent id=c3_at1isabstract=no parent in class3_name} one sig c5_at2 extends c5_at2_type one sig c5_at1 extends c5_at1_type one sig assoc4 extends association src=class01_namedst=class3_name src_multiplicity =src_mlpc dst_multiplicity =dst_mlpc,} one sig class6_name extends class attrset =c6_at1+c6_at2id=categoryidisabstract=no no parent} one sig c6_at1 extends c6_at1_type one sig c6_at2 extends c6_at2_type one sig class7_name extends class attrset =c7_at1+c7_at2+c7_at3+c7_at4id=c7_at1isabstract=no no parent} one sig c7_at1 extends c7_at1_type one sig c7_at2 extends c7_at2_type one sig c7_at3 extends c7_at3_type one sig c7_at4 extends c7_at4_type one sig assoc5 extends association src=class7_namesrc=class6_name src_multiplicity =src_mlpc2 dst_multiplicity =dst_mlpc,} one sig class8_name extends class attrset =c8_at1id=c8_at1isabstract=no no parent} one sig c8_at1 extends integer one sig assoc6 extends association src=class7_namedst=class8_name src_multiplicity =src_mlpc dst_multiplicity =dst_mlpc,} one sig assoc7 extends association src=class7_namedst=class3_name src_multiplicity =src_mlpc2 dst_multiplicity =dst_mlpc,} one sig class9_name extends class attrset =c9_at1+c10_at2 one parent id=c7_at1isabstract=no parent in class7_name} one sig c9_at1 extends c9_at1_type one sig c10_at2 extends c10_at2_type one sig class10_name extends class attrset =c10_at1 one parent id=c7_at1isabstract=no parent in class7_name} one sig c10_at1 extends c10_at1_type one sig class11_name extends class attrset =c11_at1 one parent id=c7_at1isabstract=no parent in class7_name} one sig c11_at1 extends string one sig class12_name extends class attrset =c12_at1+c12_at2+c12_at3id=c12_at1isabstract=no no parent} one sig c12_at1 extends c12_at1_type one sig c12_at2 extends c12_at2_type one sig c12_at3 extends c12_at3_type one sig assoc8 extends association src=class7_namesrc=class12_name src_multiplicity =src_mlpc2 dst_multiplicity =dst_mlpc,} one sig class13_name extends class attrset =c13_at1 one parent id=c12_at1isabstract=no parent in class12_name} one sig c13_at1 extends c13_at1_type one sig class14_name extends class attrset =c14_at1 one parent id=c12_at1isabstract=no parent in class12_name} one sig c14_at1 extends c14_at1_type pred show run show ,tablename:class1_nametablename:class01_name mapping strategy for class1_name:map_str2 mapping strategy for class5_name:map_str2 mapping strategy for class6_name:map_str2 mapping strategy for class7_name:map_str2 mapping strategy for class10_name:map_str2 mapping strategy for class11_name:map_str2 mapping strategy for class4_name:map_str3 mapping strategy for class9_name:map_str3 mapping strategy for class12_name:map_str1 mapping strategy for class11_name:map_str1 mapping strategy for class14_name:map_str1 association strategy for assoc4:assoc_str1 association strategy for assoc1:assoc_str2 association strategy for assoc2:assoc_str2 association strategy for assoc3:assoc_str2 association strategy for assoc5:assoc_str2 association strategy for assoc6:assoc_str2 association strategy for assoc7:assoc_str2 association strategy for assoc8:assoc_str2, use om _name_0create table `class01_name`(`c01_at1`c01_at1_type not null, primary key (`c01_at1`),create table `class6_name`(`c7_at1`c7_at1_type(64)`c6_at1`c6_at1_type not null primary key (`c6_at1`),create table `class1_name`(`c1_at1`c1_at1_type not null primary key (`c1_at1`),`c3_at1`c3_at1_type not null`c2_at1`c2_at1_type not nullcreate table `class7_name`(`c7_at3`c7_at3_type(64)`c7_at2`c7_at2_type`c7_at4`c7_at4_type(20,5)`c7_at1`c7_at1_type not null primary key (`c7_at1`),create table `class11_name`(`c11_at1`c11_at1_type(64)`c7_at1`c7_at1_type not null key `fk_class11_name_c7_at1_idx`(`c7_at1`) primary key (`c7_at1`),create table `class4_name`(`c4_at1`c4_at1_type,`c3_at1`c3_at1_type not null key `fk_class4_name_c3_at1_idx`(`c3_at1`), primary key (`itemid`), primary key (`c3_at1`),create table `assoc1`(`c01_at1`c01_at1_type not null,`c1_at1`c1_at1_type not null key `fk_assoc1_c01_at1_idx`(`c01_at1`), key `fk_assoc1_c1_at1_idx`(`c1_at1`), key `fk_assoc1_c1_at1_idx`(`c1_at1`),create table `class2_name`(`c2_at1`c2_at1_type not null primary key (`c2_at1`),create table `class8_name`(`c8_at1`c8_at1_type not null`c7_at1`c7_at1_type key `fk_class8_name_c7_at1_idx`(`c7_at1`) primary key (`c8_at1`),create table `assoc7`(`c7_at1`c7_at1_type not null`c3_at1`c3_at1_type not null key `fk_assoc7_c7_at1_idx`(`c7_at1`) key `fk_assoc7_c3_at1_idx`(`c3_at1`) primary key (`c7_at1`,`c3_at1`),create table `class3_name`(`c3_at2`c3_at2_type`c3_at1`c3_at1_type not null primary key (`itemid`), primary key (`c3_at1`),create table `class10_name`(`c10_at1`c10_at1_type(64)`c7_at1`c7_at1_type not null key `fk_class10_name_c7_at1_idx`(`c7_at1`) primary key (`c7_at1`),create table `class9_name`(`c10_at2`c10_at2_type,`c9_at1`c9_at1_type(20,5),`c7_at1`c7_at1_type not null key `fk_class9_name_c7_at1_idx`(`c7_at1`), primary key (`c7_at1`),create table `assoc2`(`c2_at1`c2_at1_type not null`c1_at1`c1_at1_type not null key `fk_assoc2_c2_at1_idx`(`c2_at1`) key `fk_assoc2_c1_at1_idx`(`c1_at1`) primary key (`c2_at1`,`c1_at1`)create table `assoc8`(`c12_at1`c12_at1_type not null`c7_at1`c7_at1_type not null key `fk_assoc8_c12_at1_idx`(`c12_at1`) key `fk_assoc8_c7_at1_idx`(`c7_at1`) primary key (`c12_at1`,`c7_at1`),create table `class5_name`(`c5_at1`c5_at1_type,`c5_at2`c5_at2_type,`c3_at1`c3_at1_type not null key `fk_class5_name_c3_at1_idx`(`c3_at1`) primary key (`itemid`), primary key (`c3_at1`),create table `class12_name`(`c14_at1`c14_at1_type(64)`c12_at3`c12_at3_type(64)`c12_at2`c12_at2_type(64)`c13_at1`c13_at1_type(64)`c12_at1`c12_at1_type not null primary key (`c12_at1`),create table `assoc4`()`c3_at1`c3_at1_type not null`c01_at1`c01_at1_type not null, key `fk_assoc4_c3_at1_idx`(`c3_at1`) key `fk_assoc4_c01_at1d_idx`(`c01_at1`) primary key (`c3_at1`,`c01_at1`)create table `assoc5`(`c7_at1`c7_at1_type not null`c6_at1`c6_at1_type not null key `fk_assoc5_c7_at1_idx`(`c7_at1`) key `fk_assoc5_c6_at1_idx`(`c6_at1`) primary key (`c7_at1`,`c6_at1`), alter table `class11_name` add constraint `fk_class11_name_c7_at1` foreign key (`c12_at1`) references `class12_name`(`c12_at1`) on delete cascade on update cascade , alter table `class4_name` add constraint `fk_class4_name_c3_at1` foreign key (`c3_at1`) references `class3_name`(`c3_at1`) on delete cascade on update cascade , alter table `assoc1` add constraint `fk_assoc1_c01_at1` foreign key (`c01_at1`) references `class01_name`(`c01_at1`) on delete cascade on update cascade add constraint `fk_assoc1_c1_at1` foreign key (`c1_at1`) references `class1_name`(`c1_at1`) on delete cascade on update cascade , alter table `class8_name` add constraint `fk_class8_name_c7_at1` foreign key (`c7_at1`) references `class7_name`(`c7_at1`) on delete cascade on update cascade , alter table `assoc7` add constraint `fk_assoc7_c7_at1` foreign key (`c7_at1`) references `class7_name`(`c7_at1`) on delete cascade on update cascade add constraint `fk_assoc7_c3_at1` foreign key (`c3_at1`) references `class3_name`(`c3_at1`) on delete cascade on update cascade , alter table `class10_name` add constraint `fk_class10_name_c7_at1` foreign key (`c7_at1`) references `class7_name`(`c7_at1`) on delete cascade on update cascade , alter table `class9_name` add constraint `fk_class10_name_c7_at1` foreign key (`c7_at1`) references `class7_name`(`c7_at1`) on delete cascade on update cascade , alter table `assoc2` add constraint `fk_assoc2_c2_at1` foreign key (`c2_at1`) references `class2_name`(`c2_at1`) on delete cascade on update cascade add constraint `fk_assoc2_c1_at1` foreign key (`c1_at1`) references `class1_name`(`c1_at1`) on delete cascade on update cascade , alter table `assoc8` add constraint fk_assoc5_c6_at1` foreign key (`c6_at1`) references `class6_name`(`c6_at1`) on delete cascade on update cascade , add constraint fk_assoc8_c7_at1` foreign key (`c7_at1`) references `class7_name`(`c7_at1`) on delete cascade on update cascade , alter table `class5_name` add constraint fk_class5_name_c3_at1` foreign key (`c3_at1`) references `class3_name`(`c3_at1`) on delete cascade on update cascade , alter table `assoc4` add constraint `fk_assoc4_c3_at1` foreign key (`c3_at1`) references `class3_name`(`c3_at1`) on delete cascade on update cascade add constraint `fk_assoc4_c01_at1` foreign key (`c01_at1`) references `class01_name`(`c01_at1`) on delete cascade on update cascade , alter table `assoc5` add constraint `fk_assoc5_c7_at1` foreign key (`c7_at1`) references `class7_name`(`c7_at1`) on delete cascade on update cascade add constraint fk_assoc5_c6_at1` foreign key (`c6_at1`) references `class6_name`(`c6_at1`) on delete cascade on update cascade [END]'"
            ],
            "application/vnd.google.colaboratory.intrinsic+json": {
              "type": "string"
            }
          },
          "metadata": {},
          "execution_count": 19
        }
      ],
      "source": [
        "context_vocab = np.array(context_text_processor.get_vocabulary())\n",
        "tokens = context_vocab[example_tokens[0].numpy()]\n",
        "' '.join(tokens)"
      ]
    },
    {
      "cell_type": "markdown",
      "metadata": {
        "id": "Ot0aCL9t-Ghi"
      },
      "source": [
        "The returned token IDs are zero-padded. This can easily be turned into a mask:"
      ]
    },
    {
      "cell_type": "code",
      "execution_count": 20,
      "metadata": {
        "colab": {
          "base_uri": "https://localhost:8080/",
          "height": 469
        },
        "id": "_jx4Or_eFRSz",
        "outputId": "a29f8d2b-8114-4b28-da52-8547fce25ddb"
      },
      "outputs": [
        {
          "output_type": "execute_result",
          "data": {
            "text/plain": [
              "Text(0.5, 1.0, 'Mask')"
            ]
          },
          "metadata": {},
          "execution_count": 20
        },
        {
          "output_type": "display_data",
          "data": {
            "text/plain": [
              "<Figure size 640x480 with 2 Axes>"
            ],
            "image/png": "[encoded data removed]"
          },
          "metadata": {}
        }
      ],
      "source": [
        "plt.subplot(1, 2, 1)\n",
        "plt.pcolormesh(example_tokens.to_tensor())\n",
        "plt.title('Token IDs')\n",
        "\n",
        "plt.subplot(1, 2, 2)\n",
        "plt.pcolormesh(example_tokens.to_tensor() != 0)\n",
        "plt.title('Mask')"
      ]
    },
    {
      "cell_type": "markdown",
      "metadata": {
        "id": "3O0B4XdFlRgc"
      },
      "source": [
        "### Process the dataset\n",
        "\n"
      ]
    },
    {
      "cell_type": "markdown",
      "metadata": {
        "id": "rVCuyuSp_whd"
      },
      "source": [
        "The `process_text` function below converts the `Datasets` of strings, into  0-padded tensors of token IDs. It also converts from a `(context, target)` pair to an `((context, target_in), target_out)` pair for training with `keras.Model.fit`. Keras expects `(inputs, labels)` pairs, the inputs are the `(context, target_in)` and the labels are `target_out`. The difference between `target_in` and `target_out` is that they are shifted by one step relative to eachother, so that at each location the label is the next token."
      ]
    },
    {
      "cell_type": "code",
      "execution_count": 21,
      "metadata": {
        "id": "wk5tbZWQl5u1"
      },
      "outputs": [],
      "source": [
        "def process_text(context, target):\n",
        "  context = context_text_processor(context).to_tensor()\n",
        "  target = target_text_processor(target)\n",
        "  targ_in = target[:,:-1].to_tensor()\n",
        "  targ_out = target[:,1:].to_tensor()\n",
        "  return (context, targ_in), targ_out\n",
        "\n",
        "\n",
        "train_ds = train_raw.map(process_text, tf.data.AUTOTUNE)\n",
        "val_ds = val_raw.map(process_text, tf.data.AUTOTUNE)"
      ]
    },
    {
      "cell_type": "markdown",
      "metadata": {
        "id": "4iGi7X2m_tbM"
      },
      "source": [
        "Here is the first sequence of each, from the first batch:"
      ]
    },
    {
      "cell_type": "code",
      "execution_count": 22,
      "metadata": {
        "colab": {
          "base_uri": "https://localhost:8080/"
        },
        "id": "woQBWAjLsJkr",
        "outputId": "ff520263-d8f4-44c7-8b3d-0ca5c4bd33a0"
      },
      "outputs": [
        {
          "output_type": "stream",
          "name": "stdout",
          "text": [
            "[122 124 190 222 125   9   3  60   4  22]\n",
            "\n",
            "[122 141 128 191 223 124   9   3  60   4]\n",
            "[141 128 191 223 124   9   3  60   4  22]\n"
          ]
        }
      ],
      "source": [
        "for (ex_context_tok, ex_tar_in), ex_tar_out in train_ds.take(1):\n",
        "  print(ex_context_tok[0, :10].numpy())\n",
        "  print()\n",
        "  print(ex_tar_in[0, :10].numpy())\n",
        "  print(ex_tar_out[0, :10].numpy())"
      ]
    },
    {
      "cell_type": "markdown",
      "metadata": {
        "id": "TNfHIF71ulLu"
      },
      "source": [
        "## The encoder/decoder\n",
        "\n",
        "  <th colspan=1>This tutorial's model</th>\n",
        "<tr>\n",
        "</table>\n"
      ]
    },
    {
      "cell_type": "markdown",
      "metadata": {
        "id": "gzQWx2saImMV"
      },
      "source": [
        "Before getting into it define constants for the model:"
      ]
    },
    {
      "cell_type": "code",
      "execution_count": 23,
      "metadata": {
        "id": "_a9uNz3-IrF-"
      },
      "outputs": [],
      "source": [
        "UNITS = 256"
      ]
    },
    {
      "cell_type": "markdown",
      "metadata": {
        "id": "blNgVbLSzpsr"
      },
      "source": [
        "### The encoder\n",
        "\n",
        "\n",
        "The encoder:\n",
        "\n",
        "1. Takes a list of token IDs (from `context_text_processor`).\n",
        "3. Looks up an embedding vector for each token (Using a `layers.Embedding`).\n",
        "4. Processes the embeddings into a new sequence (Using a bidirectional `layers.GRU`).\n",
        "5. Returns the processed sequence. This will be passed to the attention head."
      ]
    },
    {
      "cell_type": "code",
      "execution_count": 24,
      "metadata": {
        "id": "nZ2rI24i3jFg"
      },
      "outputs": [],
      "source": [
        "class Encoder(tf.keras.layers.Layer):\n",
        "  def __init__(self, text_processor, units):\n",
        "    super(Encoder, self).__init__()\n",
        "    self.text_processor = text_processor\n",
        "    self.vocab_size = text_processor.vocabulary_size()\n",
        "    self.units = units\n",
        "\n",
        "    # The embedding layer converts tokens to vectors\n",
        "    self.embedding = tf.keras.layers.Embedding(self.vocab_size, units,\n",
        "                                               mask_zero=True)\n",
        "\n",
        "    # The RNN layer processes those vectors sequentially.\n",
        "    self.rnn = tf.keras.layers.Bidirectional(\n",
        "        merge_mode='sum',\n",
        "        layer=tf.keras.layers.GRU(units,\n",
        "                            # Return the sequence and state\n",
        "                            return_sequences=True,\n",
        "                            recurrent_initializer='glorot_uniform'))\n",
        "\n",
        "  def call(self, x):\n",
        "    shape_checker = ShapeChecker()\n",
        "    shape_checker(x, 'batch s')\n",
        "\n",
        "    # 2. The embedding layer looks up the embedding vector for each token.\n",
        "    x = self.embedding(x)\n",
        "    shape_checker(x, 'batch s units')\n",
        "\n",
        "    # 3. The GRU processes the sequence of embeddings.\n",
        "    x = self.rnn(x)\n",
        "    shape_checker(x, 'batch s units')\n",
        "\n",
        "    # 4. Returns the new sequence of embeddings.\n",
        "    return x\n",
        "\n",
        "  def convert_input(self, texts):\n",
        "    texts = tf.convert_to_tensor(texts)\n",
        "    if len(texts.shape) == 0:\n",
        "      texts = tf.convert_to_tensor(texts)[tf.newaxis]\n",
        "    context = self.text_processor(texts).to_tensor()\n",
        "    context = self(context)\n",
        "    return context"
      ]
    },
    {
      "cell_type": "code",
      "execution_count": 25,
      "metadata": {
        "colab": {
          "base_uri": "https://localhost:8080/"
        },
        "id": "60gSVh05Jl6l",
        "outputId": "eabe49c1-5580-4579-b84c-a98ec5ce95db"
      },
      "outputs": [
        {
          "output_type": "stream",
          "name": "stdout",
          "text": [
            "Context tokens, shape (batch, s): (1, 832)\n",
            "Encoder output, shape (batch, s, units): (1, 832, 256)\n"
          ]
        }
      ],
      "source": [
        "# Encode the input sequence.\n",
        "encoder = Encoder(context_text_processor, UNITS)\n",
        "ex_context = encoder(ex_context_tok)\n",
        "\n",
        "print(f'Context tokens, shape (batch, s): {ex_context_tok.shape}')\n",
        "print(f'Encoder output, shape (batch, s, units): {ex_context.shape}')"
      ]
    },
    {
      "cell_type": "markdown",
      "metadata": {
        "id": "45xM_Gl1MgXY"
      },
      "source": [
        "### The attention layer\n",
        "\n",
        "The attention layer lets the decoder access the information extracted by the encoder. It computes a vector from the entire context sequence, and adds that to the decoder's output.\n"
      ]
    },
    {
      "cell_type": "code",
      "execution_count": 26,
      "metadata": {
        "id": "-Ql3ymqwD8LS"
      },
      "outputs": [],
      "source": [
        "class CrossAttention(tf.keras.layers.Layer):\n",
        "  def __init__(self, units, **kwargs):\n",
        "    super().__init__()\n",
        "    self.mha = tf.keras.layers.MultiHeadAttention(key_dim=units, num_heads=1, **kwargs)\n",
        "    self.layernorm = tf.keras.layers.LayerNormalization()\n",
        "    self.add = tf.keras.layers.Add()\n",
        "\n",
        "  def call(self, x, context):\n",
        "    shape_checker = ShapeChecker()\n",
        "\n",
        "    shape_checker(x, 'batch t units')\n",
        "    shape_checker(context, 'batch s units')\n",
        "\n",
        "    attn_output, attn_scores = self.mha(\n",
        "       query=x,\n",
        "       value=context,\n",
        "      return_attention_scores=True)\n",
        "\n",
        "    shape_checker(x, 'batch t units')\n",
        "    shape_checker(attn_scores, 'batch heads t s')\n",
        "\n",
        "  #Cache the attention scores for plotting later.\n",
        "    attn_scores = tf.reduce_mean(attn_scores, axis=1)\n",
        "    shape_checker(attn_scores, 'batch t s')\n",
        "    self.last_attention_weights = attn_scores\n",
        "\n",
        "    x = self.add([x, attn_output])\n",
        "    x = self.layernorm(x)\n",
        "\n",
        "    return x"
      ]
    },
    {
      "cell_type": "markdown",
      "metadata": {
        "id": "bRzduCU4tGN6"
      },
      "source": []
    },
    {
      "cell_type": "code",
      "execution_count": 27,
      "metadata": {
        "colab": {
          "base_uri": "https://localhost:8080/"
        },
        "id": "VVLdvss3zN4v",
        "outputId": "c15d8b36-c04a-4441-e3e7-a944f917486a"
      },
      "outputs": [
        {
          "output_type": "stream",
          "name": "stdout",
          "text": [
            "Context sequence, shape (batch, s, units): (1, 832, 256)\n",
            "Target sequence, shape (batch, t, units): (1, 832, 256)\n",
            "Attention result, shape (batch, t, units): (1, 832, 256)\n",
            "Attention weights, shape (batch, t, s):    (1, 832, 832)\n"
          ]
        }
      ],
      "source": [
        "attention_layer = CrossAttention(UNITS)\n",
        "\n",
        "# Attend to the encoded tokens\n",
        "embed = tf.keras.layers.Embedding(target_text_processor.vocabulary_size(),\n",
        "                                 output_dim=UNITS, mask_zero=True)\n",
        "ex_tar_embed = embed(ex_tar_in)\n",
        "\n",
        "result = attention_layer(ex_tar_embed, ex_context)\n",
        "\n",
        "print(f'Context sequence, shape (batch, s, units): {ex_context.shape}')\n",
        "print(f'Target sequence, shape (batch, t, units): {ex_tar_embed.shape}')\n",
        "print(f'Attention result, shape (batch, t, units): {result.shape}')\n",
        "print(f'Attention weights, shape (batch, t, s):    {attention_layer.last_attention_weights.shape}')"
      ]
    },
    {
      "cell_type": "markdown",
      "metadata": {
        "id": "d14A2DcPtQhS"
      },
      "source": []
    },
    {
      "cell_type": "markdown",
      "metadata": {
        "id": "vx9fUhi3Pmwp"
      },
      "source": [
        "The attention weights will sum to `1` over the context sequence, at each location in the target sequence."
      ]
    },
    {
      "cell_type": "code",
      "execution_count": 28,
      "metadata": {
        "colab": {
          "base_uri": "https://localhost:8080/"
        },
        "id": "zxyR7cmQPn9P",
        "outputId": "441a044b-cdda-43c5-eec5-fcd9fb25ef0f"
      },
      "outputs": [
        {
          "output_type": "execute_result",
          "data": {
            "text/plain": [
              "array([1.        , 1.        , 1.        , 0.99999994, 1.        ,\n",
              "       1.        , 1.        , 1.        , 1.        , 1.        ,\n",
              "       1.        , 1.        , 1.        , 1.0000001 , 1.        ,\n",
              "       1.        , 1.        , 1.        , 0.99999994, 1.        ,\n",
              "       1.        , 1.        , 1.        , 1.        , 1.        ,\n",
              "       1.        , 1.        , 1.        , 1.        , 1.        ,\n",
              "       1.        , 1.        , 1.        , 1.        , 1.        ,\n",
              "       1.        , 1.        , 1.        , 1.        , 1.        ,\n",
              "       1.        , 1.        , 1.        , 1.        , 1.        ,\n",
              "       1.        , 1.        , 1.        , 1.        , 1.        ,\n",
              "       1.        , 1.        , 1.        , 1.        , 1.        ,\n",
              "       1.        , 1.        , 1.        , 1.        , 1.        ,\n",
              "       0.99999994, 1.        , 1.        , 1.        , 0.99999994,\n",
              "       1.        , 0.99999994, 1.        , 1.        , 1.        ,\n",
              "       1.        , 1.        , 1.        , 1.        , 1.        ,\n",
              "       1.        , 0.99999994, 1.        , 1.        , 1.        ,\n",
              "       1.        , 1.        , 1.        , 0.99999994, 1.        ,\n",
              "       1.        , 1.        , 1.        , 1.        , 1.        ,\n",
              "       0.99999994, 1.        , 0.9999999 , 1.        , 1.0000001 ,\n",
              "       1.        , 1.        , 1.        , 1.        , 1.        ,\n",
              "       0.99999994, 1.        , 1.        , 1.        , 1.        ,\n",
              "       1.        , 1.        , 1.        , 1.        , 1.        ,\n",
              "       1.        , 1.        , 1.        , 1.        , 1.        ,\n",
              "       1.        , 1.        , 1.        , 1.        , 0.99999994,\n",
              "       1.        , 1.        , 1.        , 1.        , 1.        ,\n",
              "       1.        , 1.        , 1.        , 1.        , 1.        ,\n",
              "       1.        , 1.        , 1.        , 1.        , 1.        ,\n",
              "       1.        , 1.        , 1.        , 1.        , 1.        ,\n",
              "       1.        , 1.        , 1.        , 1.        , 1.        ,\n",
              "       1.        , 1.        , 0.99999994, 1.        , 1.0000001 ,\n",
              "       1.        , 1.        , 1.        , 1.        , 1.0000001 ,\n",
              "       1.        , 1.        , 1.        , 1.        , 1.        ,\n",
              "       1.        , 1.        , 1.        , 1.        , 1.        ,\n",
              "       1.        , 1.0000001 , 1.        , 1.        , 1.        ,\n",
              "       1.        , 1.        , 1.        , 1.        , 1.        ,\n",
              "       1.        , 1.        , 1.        , 1.        , 1.        ,\n",
              "       1.        , 1.        , 1.        , 1.        , 1.        ,\n",
              "       1.        , 1.        , 1.        , 1.        , 1.        ,\n",
              "       1.        , 1.        , 1.        , 0.99999994, 1.        ,\n",
              "       1.        , 1.        , 1.        , 1.        , 1.        ,\n",
              "       1.        , 1.        , 1.        , 1.        , 1.        ,\n",
              "       1.        , 1.        , 0.99999994, 1.        , 1.        ,\n",
              "       1.        , 1.        , 1.        , 1.        , 1.        ,\n",
              "       1.        , 1.        , 1.        , 1.        , 1.        ,\n",
              "       1.        , 0.99999994, 1.        , 1.        , 1.        ,\n",
              "       1.        , 1.        , 1.        , 0.9999999 , 1.        ,\n",
              "       1.        , 1.        , 1.        , 1.        , 1.        ,\n",
              "       0.99999994, 1.        , 1.        , 1.        , 1.        ,\n",
              "       1.        , 1.        , 1.        , 1.        , 1.        ,\n",
              "       1.        , 1.        , 1.        , 1.        , 0.99999994,\n",
              "       1.        , 1.        , 1.        , 1.        , 1.        ,\n",
              "       1.        , 1.        , 1.        , 1.        , 1.        ,\n",
              "       1.        , 0.99999994, 1.        , 0.99999994, 1.        ,\n",
              "       1.        , 1.        , 1.        , 1.        , 1.        ,\n",
              "       1.        , 1.        , 1.        , 1.        , 1.        ,\n",
              "       0.99999994, 1.        , 0.99999994, 1.        , 1.        ,\n",
              "       1.        , 1.        , 1.        , 1.        , 1.        ,\n",
              "       1.        , 1.        , 1.        , 1.        , 1.        ,\n",
              "       1.        , 0.99999994, 1.        , 1.        , 1.        ,\n",
              "       1.        , 1.        , 1.        , 1.        , 1.        ,\n",
              "       1.        , 1.        , 1.        , 1.        , 1.        ,\n",
              "       0.99999994, 1.        , 1.        , 1.        , 1.        ,\n",
              "       1.        , 1.        , 1.        , 1.        , 1.        ,\n",
              "       1.        , 1.        , 1.        , 1.        , 0.99999994,\n",
              "       1.        , 1.        , 1.        , 1.        , 1.        ,\n",
              "       1.        , 1.        , 0.99999994, 1.        , 1.        ,\n",
              "       0.99999994, 1.        , 0.99999994, 1.        , 1.        ,\n",
              "       0.99999994, 1.        , 0.99999994, 1.        , 1.        ,\n",
              "       0.99999994, 1.        , 0.99999994, 1.        , 1.0000001 ,\n",
              "       0.99999994, 1.        , 1.        , 0.99999994, 1.        ,\n",
              "       1.        , 0.99999994, 1.        , 1.        , 0.99999994,\n",
              "       1.        , 1.        , 0.99999994, 1.        , 1.        ,\n",
              "       0.99999994, 1.        , 1.        , 0.99999994, 1.        ,\n",
              "       1.        , 0.99999994, 1.        , 1.        , 0.99999994,\n",
              "       1.        , 1.        , 0.99999994, 1.        , 0.9999999 ,\n",
              "       0.99999994, 1.        , 1.        , 0.99999994, 1.        ,\n",
              "       1.        , 0.99999994, 1.        , 1.        , 0.99999994,\n",
              "       1.        , 1.        , 0.99999994, 1.        , 1.        ,\n",
              "       0.99999994, 1.        , 1.        , 0.99999994, 1.        ,\n",
              "       1.        , 0.99999994, 1.        , 1.        , 0.99999994,\n",
              "       1.        , 1.        , 0.99999994, 1.        , 1.        ,\n",
              "       0.99999994, 1.        , 1.        , 1.0000001 , 1.        ,\n",
              "       1.        , 1.        , 0.9999999 , 1.        , 1.        ,\n",
              "       1.        , 1.        , 1.        , 1.        , 1.0000001 ,\n",
              "       0.99999994, 1.        , 1.        , 0.99999994, 1.        ,\n",
              "       1.        , 0.9999999 , 0.9999999 , 1.        , 1.        ,\n",
              "       1.0000001 , 1.        , 1.        , 1.        , 1.        ,\n",
              "       1.        , 1.        , 0.9999999 , 0.9999999 , 1.        ,\n",
              "       1.        , 0.99999994, 0.9999999 , 1.        , 1.        ,\n",
              "       0.9999999 , 0.9999999 , 1.        , 1.        , 1.0000001 ,\n",
              "       1.0000001 , 1.        , 1.        , 0.9999999 , 0.9999999 ,\n",
              "       1.        , 1.        , 1.0000001 , 1.0000001 , 1.        ,\n",
              "       1.        , 0.9999999 , 1.        , 1.        , 1.        ,\n",
              "       1.        , 0.99999994, 0.9999999 , 1.        , 1.        ,\n",
              "       1.        , 1.        , 1.        , 1.        , 1.0000001 ,\n",
              "       0.99999994, 1.        , 1.        , 1.        , 1.        ,\n",
              "       0.9999999 , 0.9999999 , 1.        , 1.        , 1.0000001 ,\n",
              "       1.        , 1.0000001 , 1.        , 1.        , 0.9999999 ,\n",
              "       0.9999999 , 1.        , 1.        , 1.0000001 , 1.        ,\n",
              "       0.9999999 , 1.        , 0.9999999 , 1.        , 1.        ,\n",
              "       0.9999999 , 1.        , 1.        , 1.        , 0.99999994,\n",
              "       1.        , 0.99999994, 1.0000001 , 1.        , 1.        ,\n",
              "       1.0000001 , 0.99999994, 1.        , 1.        , 0.9999999 ,\n",
              "       1.        , 1.        , 0.9999999 , 1.        , 1.        ,\n",
              "       1.        , 1.        , 1.        , 0.99999994, 1.        ,\n",
              "       1.        , 1.        , 1.0000001 , 1.        , 1.        ,\n",
              "       1.        , 0.9999999 , 1.        , 0.99999994, 0.9999999 ,\n",
              "       1.        , 1.        , 1.        , 1.        , 1.        ,\n",
              "       1.        , 1.0000001 , 1.        , 1.        , 1.        ,\n",
              "       0.99999994, 1.        , 1.        , 0.99999994, 1.        ,\n",
              "       1.        , 0.9999999 , 1.        , 1.        , 0.9999999 ,\n",
              "       1.        , 1.        , 0.99999994, 1.        , 1.        ,\n",
              "       1.        , 0.99999994, 1.        , 1.        , 1.0000001 ,\n",
              "       1.        , 1.        , 0.99999994, 0.9999999 , 1.        ,\n",
              "       1.        , 0.9999999 , 1.        , 1.        , 1.        ,\n",
              "       1.        , 1.        , 1.        , 1.        , 1.        ,\n",
              "       0.99999994, 1.0000001 , 1.        , 1.        , 0.99999994,\n",
              "       0.9999999 , 1.        , 1.        , 0.9999999 , 1.        ,\n",
              "       1.        , 1.        , 1.        , 1.        , 1.        ,\n",
              "       1.        , 1.        , 1.        , 1.0000001 , 1.        ,\n",
              "       1.        , 0.9999999 , 0.99999994, 0.99999994, 1.        ,\n",
              "       0.99999994, 0.9999999 , 1.        , 1.        , 1.        ,\n",
              "       1.        , 0.99999994, 1.        , 1.        , 1.0000001 ,\n",
              "       1.        , 1.        , 1.0000001 , 1.        , 1.        ,\n",
              "       1.        , 1.        , 1.        , 1.        , 1.        ,\n",
              "       1.        , 1.0000001 , 1.        , 1.        , 0.99999994,\n",
              "       1.        , 1.        , 1.        , 1.        , 1.0000001 ,\n",
              "       0.99999994, 1.0000001 , 0.99999994, 1.0000001 , 0.99999994,\n",
              "       1.        , 1.        , 1.        , 1.        , 1.        ,\n",
              "       0.99999994, 1.        , 1.        , 0.99999994, 1.        ,\n",
              "       0.99999994, 1.        , 1.        , 1.        , 1.        ,\n",
              "       1.0000001 , 0.99999994, 1.        , 1.        , 1.        ,\n",
              "       1.        , 1.        , 1.        , 1.        , 1.        ,\n",
              "       1.        , 1.        , 0.99999994, 1.        , 1.        ,\n",
              "       1.        , 1.        , 1.0000001 , 1.        , 1.        ,\n",
              "       1.        , 1.        , 1.        , 1.        , 1.        ,\n",
              "       1.        , 1.        , 1.        , 1.        , 0.99999994,\n",
              "       1.        , 1.        , 1.        , 1.        , 1.        ,\n",
              "       1.        , 1.        , 1.        , 1.        , 1.        ,\n",
              "       1.        , 1.        , 1.        , 1.        , 0.99999994,\n",
              "       1.        , 1.        , 1.        , 1.        , 1.0000001 ,\n",
              "       0.99999994, 1.        , 1.        , 0.99999994, 1.        ,\n",
              "       1.        , 1.        , 1.        , 1.        , 1.        ,\n",
              "       1.        , 0.99999994, 1.        , 1.        , 1.        ,\n",
              "       1.        , 1.        , 1.        , 1.0000001 , 1.        ,\n",
              "       1.        , 1.        , 1.        , 0.99999994, 1.        ,\n",
              "       1.        , 0.99999994, 1.        , 1.        , 1.        ,\n",
              "       1.        , 1.0000001 , 1.        , 1.        , 1.        ,\n",
              "       1.0000001 , 1.        , 1.        , 1.        , 1.        ,\n",
              "       1.        , 1.        , 1.        , 0.99999994, 1.        ,\n",
              "       1.        , 1.        , 1.        , 1.        , 1.        ,\n",
              "       1.        , 1.        , 1.        , 1.        , 1.        ,\n",
              "       1.0000001 , 1.        , 1.        , 0.99999994, 1.        ,\n",
              "       1.        , 1.        , 1.        , 1.0000001 , 1.        ,\n",
              "       1.        , 1.        , 1.        , 1.        , 1.        ,\n",
              "       1.        , 1.        , 1.0000001 , 1.        , 1.        ,\n",
              "       0.99999994, 1.        , 1.        , 1.        , 1.        ,\n",
              "       1.        , 1.        , 1.        , 1.        , 1.        ,\n",
              "       1.        , 1.        , 1.0000001 , 1.        , 1.        ,\n",
              "       0.99999994, 1.        , 1.        , 1.        , 1.        ,\n",
              "       1.0000001 , 1.        , 1.        , 1.        , 1.        ,\n",
              "       1.        , 1.        , 1.        , 1.        , 0.99999994,\n",
              "       1.        , 1.        , 0.99999994, 1.        , 1.        ,\n",
              "       1.        , 1.0000001 , 1.        , 1.        , 0.99999994,\n",
              "       1.        , 1.        , 0.99999994, 1.        , 1.        ,\n",
              "       0.99999994, 1.        , 0.99999994, 1.        , 1.        ,\n",
              "       1.        , 1.        ], dtype=float32)"
            ]
          },
          "metadata": {},
          "execution_count": 28
        }
      ],
      "source": [
        "attention_layer.last_attention_weights[0].numpy().sum(axis=-1)"
      ]
    },
    {
      "cell_type": "markdown",
      "metadata": {
        "id": "AagyXMH-Jhqt"
      },
      "source": [
        "\n",
        "\n",
        "Here are the attention weights across the context sequences at `t=0`:"
      ]
    },
    {
      "cell_type": "code",
      "execution_count": 29,
      "metadata": {
        "colab": {
          "base_uri": "https://localhost:8080/",
          "height": 452
        },
        "id": "LDc9M_CUtYWD",
        "outputId": "27b166cb-4770-4a91-9235-2da1c1f6f3cb"
      },
      "outputs": [
        {
          "output_type": "display_data",
          "data": {
            "text/plain": [
              "<Figure size 640x480 with 2 Axes>"
            ],
            "image/png": "[encoded data removed]"
          },
          "metadata": {}
        }
      ],
      "source": [
        "attention_weights = attention_layer.last_attention_weights\n",
        "mask=(ex_context_tok != 0).numpy()\n",
        "\n",
        "plt.subplot(1, 2, 1)\n",
        "plt.pcolormesh(mask*attention_weights[:, 0, :])\n",
        "plt.title('Attention weights')\n",
        "\n",
        "plt.subplot(1, 2, 2)\n",
        "plt.pcolormesh(mask)\n",
        "plt.title('Mask');"
      ]
    },
    {
      "cell_type": "markdown",
      "metadata": {
        "id": "Cpq_sCKHtZzS"
      },
      "source": []
    },
    {
      "cell_type": "markdown",
      "metadata": {
        "id": "6Eil-C_NN1rp"
      },
      "source": [
        "Because of the small-random initialization the attention weights are initially all close to `1/(sequence_length)`. The model will learn to make these less uniform as training progresses."
      ]
    },
    {
      "cell_type": "markdown",
      "metadata": {
        "id": "aQ638eHN4iCK"
      },
      "source": [
        "### The decoder\n",
        "\n",
        "The decoder's job is to generate predictions for the next token at each location in the target sequence.\n",
        "\n",
        "1. It looks up embeddings for each token in the target sequence.\n",
        "2. It uses an RNN to process the target sequence, and keep track of what it has generated so far.\n",
        "3. It uses RNN output as the \"query\" to the attention layer, when attending to the encoder's output.\n",
        "4. At each location in the output it predicts the next token.\n"
      ]
    },
    {
      "cell_type": "markdown",
      "metadata": {
        "id": "pZsQJMqNmg_L"
      },
      "source": [
        "Here is the `Decoder` class' initializer. The initializer creates all the necessary layers."
      ]
    },
    {
      "cell_type": "code",
      "execution_count": 30,
      "metadata": {
        "id": "erYvHIgAl8kh"
      },
      "outputs": [],
      "source": [
        "class Decoder(tf.keras.layers.Layer):\n",
        "  @classmethod\n",
        "  def add_method(cls, fun):\n",
        "    setattr(cls, fun.__name__, fun)\n",
        "    return fun\n",
        "\n",
        "  def __init__(self, text_processor, units):\n",
        "    super(Decoder, self).__init__()\n",
        "    self.text_processor = text_processor\n",
        "    self.vocab_size = text_processor.vocabulary_size()\n",
        "    self.word_to_id = tf.keras.layers.StringLookup(\n",
        "        vocabulary=text_processor.get_vocabulary(),\n",
        "        mask_token='', oov_token='[UNK]')\n",
        "    self.id_to_word = tf.keras.layers.StringLookup(\n",
        "        vocabulary=text_processor.get_vocabulary(),\n",
        "        mask_token='', oov_token='[UNK]',\n",
        "        invert=True)\n",
        "    self.start_token = self.word_to_id('[START]')\n",
        "    self.end_token = self.word_to_id('[END]')\n",
        "\n",
        "    self.units = units\n",
        "\n",
        "\n",
        "    # 1. The embedding layer converts token IDs to vectors\n",
        "    self.embedding = tf.keras.layers.Embedding(self.vocab_size,\n",
        "                                               units, mask_zero=True)\n",
        "\n",
        "    # 2. The RNN keeps track of what's been generated so far.\n",
        "    self.rnn = tf.keras.layers.GRU(units,\n",
        "                                   return_sequences=True,\n",
        "                                   return_state=True,\n",
        "                                   recurrent_initializer='glorot_uniform')\n",
        "\n",
        "    # 3. The RNN output will be the query for the attention layer.\n",
        "    self.attention = CrossAttention(units)\n",
        "\n",
        "    # 4. This fully connected layer produces the logits for each\n",
        "    # output token.\n",
        "    self.output_layer = tf.keras.layers.Dense(self.vocab_size)"
      ]
    },
    {
      "cell_type": "markdown",
      "metadata": {
        "id": "Sd8-nRNzFR8x"
      },
      "source": [
        "#### Training"
      ]
    },
    {
      "cell_type": "markdown",
      "metadata": {
        "id": "UPnaw583CpnY"
      },
      "source": [
        "Next, the `call` method, takes 3 arguments:\n",
        "\n",
        "* `inputs` -  a `context, x` pair where:\n",
        "  * `context` - is the context from the encoder's output.\n",
        "  * `x` - is the target sequence input.\n",
        "* `state` - Optional, the previous `state` output from the decoder (the internal state of the decoder's RNN). Pass the state from a previous run to continue generating text where you left off.\n",
        "* `return_state` - [Default: False] - Set this to `True` to return the RNN state."
      ]
    },
    {
      "cell_type": "code",
      "execution_count": 31,
      "metadata": {
        "id": "PJOi5btHAPNK"
      },
      "outputs": [],
      "source": [
        "@Decoder.add_method\n",
        "def call(self,\n",
        "         context, x,\n",
        "         state=None,\n",
        "         return_state=False):\n",
        "  shape_checker = ShapeChecker()\n",
        "  shape_checker(x, 'batch t')\n",
        "  shape_checker(context, 'batch s units')\n",
        "\n",
        "  # 1. Lookup the embeddings\n",
        "  x = self.embedding(x)\n",
        "  shape_checker(x, 'batch t units')\n",
        "\n",
        "  # 2. Process the target sequence.\n",
        "  x, state = self.rnn(x, initial_state=state)\n",
        "  shape_checker(x, 'batch t units')\n",
        "\n",
        "  # 3. Use the RNN output as the query for the attention over the context.\n",
        "  x = self.attention(x, context)\n",
        "  self.last_attention_weights = self.attention.last_attention_weights\n",
        "  shape_checker(x, 'batch t units')\n",
        "  shape_checker(self.last_attention_weights, 'batch t s')\n",
        "\n",
        "  # Step 4. Generate logit predictions for the next token.\n",
        "  logits = self.output_layer(x)\n",
        "  shape_checker(logits, 'batch t target_vocab_size')\n",
        "\n",
        "  if return_state:\n",
        "    return logits, state\n",
        "  else:\n",
        "    return logits"
      ]
    },
    {
      "cell_type": "markdown",
      "metadata": {
        "id": "E1-mLAcUEXpK"
      },
      "source": [
        "That will be sufficient for training. Create an instance of the decoder to test out:"
      ]
    },
    {
      "cell_type": "code",
      "execution_count": 32,
      "metadata": {
        "id": "4ZUMbYXIEVeA"
      },
      "outputs": [],
      "source": [
        "decoder = Decoder(target_text_processor, UNITS)"
      ]
    },
    {
      "cell_type": "markdown",
      "metadata": {
        "id": "SFWaI4wqzt4t"
      },
      "source": [
        "Decoder usage"
      ]
    },
    {
      "cell_type": "code",
      "execution_count": 33,
      "metadata": {
        "colab": {
          "base_uri": "https://localhost:8080/"
        },
        "id": "5YM-lD7bzx18",
        "outputId": "89c611ec-f62e-40a8-811a-ddde752b6f39"
      },
      "outputs": [
        {
          "output_type": "stream",
          "name": "stdout",
          "text": [
            "encoder output shape: (batch, s, units) (1, 832, 256)\n",
            "input target tokens shape: (batch, t) (1, 832)\n",
            "logits shape shape: (batch, target_vocabulary_size) (1, 832, 1839)\n"
          ]
        }
      ],
      "source": [
        "logits = decoder(ex_context, ex_tar_in)\n",
        "\n",
        "print(f'encoder output shape: (batch, s, units) {ex_context.shape}')\n",
        "print(f'input target tokens shape: (batch, t) {ex_tar_in.shape}')\n",
        "print(f'logits shape shape: (batch, target_vocabulary_size) {logits.shape}')"
      ]
    },
    {
      "cell_type": "markdown",
      "metadata": {
        "id": "zhS_tbk7VQkX"
      },
      "source": [
        "#### Inference\n",
        "\n",
        "For inference usage couple more methods."
      ]
    },
    {
      "cell_type": "code",
      "execution_count": 34,
      "metadata": {
        "id": "SPm12cnIVRQr"
      },
      "outputs": [],
      "source": [
        "@Decoder.add_method\n",
        "def get_initial_state(self, context):\n",
        "  batch_size = tf.shape(context)[0]\n",
        "  start_tokens = tf.fill([batch_size, 1], self.start_token)\n",
        "  done = tf.zeros([batch_size, 1], dtype=tf.bool)\n",
        "  embedded = self.embedding(start_tokens)\n",
        "  return start_tokens, done, self.rnn.get_initial_state(embedded)[0]"
      ]
    },
    {
      "cell_type": "code",
      "execution_count": 35,
      "metadata": {
        "id": "TzeOhpBvVS5L"
      },
      "outputs": [],
      "source": [
        "@Decoder.add_method\n",
        "def tokens_to_text(self, tokens):\n",
        "  words = self.id_to_word(tokens)\n",
        "  result = tf.strings.reduce_join(words, axis=-1, separator=' ')\n",
        "  result = tf.strings.regex_replace(result, '^ *\\[START\\] *', '')\n",
        "  result = tf.strings.regex_replace(result, ' *\\[END\\] *$', '')\n",
        "  return result"
      ]
    },
    {
      "cell_type": "code",
      "execution_count": 36,
      "metadata": {
        "id": "v6ildnz_V1MA"
      },
      "outputs": [],
      "source": [
        "@Decoder.add_method\n",
        "def get_next_token(self, context, next_token, done, state, temperature = 0.0):\n",
        "  logits, state = self(\n",
        "    context, next_token,\n",
        "    state = state,\n",
        "    return_state=True)\n",
        "\n",
        "  if temperature == 0.0:\n",
        "    next_token = tf.argmax(logits, axis=-1)\n",
        "  else:\n",
        "    logits = logits[:, -1, :]/temperature\n",
        "    next_token = tf.random.categorical(logits, num_samples=1)\n",
        "\n",
        "  # If a sequence produces an `end_token`, set it `done`\n",
        "  done = done | (next_token == self.end_token)\n",
        "  # Once a sequence is done it only produces 0-padding.\n",
        "  next_token = tf.where(done, tf.constant(0, dtype=tf.int64), next_token)\n",
        "\n",
        "  return next_token, done, state"
      ]
    },
    {
      "cell_type": "markdown",
      "metadata": {
        "id": "9WiXLrVs-FTE"
      },
      "source": [
        "With those extra functions, you can write a generation loop:"
      ]
    },
    {
      "cell_type": "code",
      "execution_count": 37,
      "metadata": {
        "id": "SuehagxL-JBZ"
      },
      "outputs": [],
      "source": [
        "# Setup the loop variables.\n",
        "next_token, done, state = decoder.get_initial_state(ex_context)\n",
        "tokens = []\n",
        "\n",
        "for n in range(10):\n",
        "  # Run one step.\n",
        "  next_token, done, state = decoder.get_next_token(\n",
        "      ex_context, next_token, done, state, temperature=1.0)\n",
        "  # Add the token to the output.\n",
        "  tokens.append(next_token)\n",
        "\n",
        "# Stack all the tokens together.\n",
        "tokens = tf.concat(tokens, axis=-1) # (batch, t)\n",
        "\n",
        "# Convert the tokens back to a a string\n",
        "result = decoder.tokens_to_text(tokens)\n",
        "#result[:3].numpy()"
      ]
    },
    {
      "cell_type": "markdown",
      "metadata": {
        "id": "B6xyru86m914"
      },
      "source": [
        "## The model\n"
      ]
    },
    {
      "cell_type": "code",
      "execution_count": 38,
      "metadata": {
        "id": "WWIyuy71TkJT"
      },
      "outputs": [],
      "source": [
        "class Translator(tf.keras.Model):\n",
        "  @classmethod\n",
        "  def add_method(cls, fun):\n",
        "    setattr(cls, fun.__name__, fun)\n",
        "    return fun\n",
        "\n",
        "  def __init__(self, units,\n",
        "               context_text_processor,\n",
        "               target_text_processor):\n",
        "    super().__init__()\n",
        "    # Build the encoder and decoder\n",
        "    encoder = Encoder(context_text_processor, units)\n",
        "    decoder = Decoder(target_text_processor, units)\n",
        "\n",
        "    self.encoder = encoder\n",
        "    self.decoder = decoder\n",
        "\n",
        "  def call(self, inputs):\n",
        "    context, x = inputs\n",
        "    context = self.encoder(context)\n",
        "    logits = self.decoder(context, x)\n",
        "\n",
        "    #TODO(b/250038731): remove this\n",
        "    try:\n",
        "      # Delete the keras mask, so keras doesn't scale the loss+accuracy.\n",
        "      del logits._keras_mask\n",
        "    except AttributeError:\n",
        "      pass\n",
        "\n",
        "    return logits"
      ]
    },
    {
      "cell_type": "markdown",
      "metadata": {
        "id": "5rPi0FkS2iA5"
      },
      "source": [
        "During training the model will be used like this:"
      ]
    },
    {
      "cell_type": "code",
      "execution_count": 39,
      "metadata": {
        "colab": {
          "base_uri": "https://localhost:8080/"
        },
        "id": "8vhjTh84K6Mg",
        "outputId": "5e47753d-25e0-4197-b323-000397160f54"
      },
      "outputs": [
        {
          "output_type": "stream",
          "name": "stdout",
          "text": [
            "Context tokens, shape: (batch, s, units) (1, 832)\n",
            "Target tokens, shape: (batch, t) (1, 832)\n",
            "logits, shape: (batch, t, target_vocabulary_size) (1, 832, 1839)\n"
          ]
        }
      ],
      "source": [
        "model = Translator(UNITS, context_text_processor, target_text_processor)\n",
        "\n",
        "logits = model((ex_context_tok, ex_tar_in))\n",
        "\n",
        "print(f'Context tokens, shape: (batch, s, units) {ex_context_tok.shape}')\n",
        "print(f'Target tokens, shape: (batch, t) {ex_tar_in.shape}')\n",
        "print(f'logits, shape: (batch, t, target_vocabulary_size) {logits.shape}')"
      ]
    },
    {
      "cell_type": "markdown",
      "metadata": {
        "id": "_ch_71VbIRfK"
      },
      "source": [
        "### Train"
      ]
    },
    {
      "cell_type": "code",
      "execution_count": 40,
      "metadata": {
        "id": "WmTHr5iV3jFr"
      },
      "outputs": [],
      "source": [
        "def masked_loss(y_true, y_pred):\n",
        "    # Calculate the loss for each item in the batch.\n",
        "    loss_fn = tf.keras.losses.SparseCategoricalCrossentropy(\n",
        "        from_logits=True, reduction='none')\n",
        "    loss = loss_fn(y_true, y_pred)\n",
        "\n",
        "    # Mask off the losses on padding.\n",
        "    mask = tf.cast(y_true != 0, loss.dtype)\n",
        "    loss *= mask\n",
        "\n",
        "    # Return the total.\n",
        "    return tf.reduce_sum(loss)/tf.reduce_sum(mask)"
      ]
    },
    {
      "cell_type": "code",
      "execution_count": 41,
      "metadata": {
        "id": "nRB1CTmQWOIL"
      },
      "outputs": [],
      "source": [
        "def masked_acc(y_true, y_pred):\n",
        "    # Calculate the loss for each item in the batch.\n",
        "    y_pred = tf.argmax(y_pred, axis=-1)\n",
        "    y_pred = tf.cast(y_pred, y_true.dtype)\n",
        "\n",
        "    match = tf.cast(y_true == y_pred, tf.float32)\n",
        "    mask = tf.cast(y_true != 0, tf.float32)\n",
        "\n",
        "    return tf.reduce_sum(match)/tf.reduce_sum(mask)"
      ]
    },
    {
      "cell_type": "markdown",
      "metadata": {
        "id": "f32GuAhw2nXm"
      },
      "source": [
        "Configure the model for training:"
      ]
    },
    {
      "cell_type": "code",
      "execution_count": 42,
      "metadata": {
        "id": "9g0DRRvm3l9X"
      },
      "outputs": [],
      "source": [
        "model.compile(optimizer='Adam',\n",
        "              loss=masked_loss,\n",
        "              metrics=[masked_acc, masked_loss])"
      ]
    },
    {
      "cell_type": "markdown",
      "metadata": {
        "id": "5DWLI3pssjnx"
      },
      "source": [
        "The model is randomly initialized, and should give roughly uniform output probabilities. So it's easy to predict what the initial values of the metrics should be:"
      ]
    },
    {
      "cell_type": "code",
      "execution_count": 43,
      "metadata": {
        "colab": {
          "base_uri": "https://localhost:8080/"
        },
        "id": "BuP3_LFENMJG",
        "outputId": "9c25c33f-9c52-40be-d1da-ef08a4454f00"
      },
      "outputs": [
        {
          "output_type": "execute_result",
          "data": {
            "text/plain": [
              "{'expected_loss': 7.5169773, 'expected_acc': 0.000543773790103317}"
            ]
          },
          "metadata": {},
          "execution_count": 43
        }
      ],
      "source": [
        "vocab_size = 1.0 * target_text_processor.vocabulary_size()\n",
        "\n",
        "{\"expected_loss\": tf.math.log(vocab_size).numpy(),\n",
        " \"expected_acc\": 1/vocab_size}"
      ]
    },
    {
      "cell_type": "markdown",
      "metadata": {
        "id": "frVba49Usd0Z"
      },
      "source": [
        "That should roughly match the values returned by running a few steps of evaluation:"
      ]
    },
    {
      "cell_type": "code",
      "execution_count": 44,
      "metadata": {
        "colab": {
          "base_uri": "https://localhost:8080/"
        },
        "id": "8rJITfxEsHKR",
        "outputId": "c4ef0dd4-f243-4a24-f8b0-b0f6772b590d"
      },
      "outputs": [
        {
          "output_type": "stream",
          "name": "stdout",
          "text": [
            "70/70 [==============================] - 11s 46ms/step - loss: 7.5104 - masked_acc: 5.7499e-05 - masked_loss: 7.5104\n"
          ]
        },
        {
          "output_type": "execute_result",
          "data": {
            "text/plain": [
              "{'loss': 7.510388374328613,\n",
              " 'masked_acc': 5.749940828536637e-05,\n",
              " 'masked_loss': 7.510388374328613}"
            ]
          },
          "metadata": {},
          "execution_count": 44
        }
      ],
      "source": [
        "model.evaluate(val_ds, steps=70, return_dict=True)"
      ]
    },
    {
      "cell_type": "code",
      "execution_count": 45,
      "metadata": {
        "colab": {
          "base_uri": "https://localhost:8080/"
        },
        "id": "BQd_esVVoSf3",
        "outputId": "353917da-ab16-4fb1-bb61-1779dd136d40"
      },
      "outputs": [
        {
          "output_type": "stream",
          "name": "stdout",
          "text": [
            "Epoch 1/100\n",
            "100/100 [==============================] - 43s 266ms/step - loss: 2.3750 - masked_acc: 0.5883 - masked_loss: 2.3750 - val_loss: 0.8644 - val_masked_acc: 0.8043 - val_masked_loss: 0.8644\n",
            "Epoch 2/100\n",
            "100/100 [==============================] - 19s 188ms/step - loss: 0.5784 - masked_acc: 0.8736 - masked_loss: 0.5784 - val_loss: 0.3649 - val_masked_acc: 0.9199 - val_masked_loss: 0.3649\n",
            "Epoch 3/100\n",
            "100/100 [==============================] - 14s 136ms/step - loss: 0.2456 - masked_acc: 0.9415 - masked_loss: 0.2456 - val_loss: 0.2589 - val_masked_acc: 0.9424 - val_masked_loss: 0.2589\n",
            "Epoch 4/100\n",
            "100/100 [==============================] - 13s 131ms/step - loss: 0.1634 - masked_acc: 0.9577 - masked_loss: 0.1634 - val_loss: 0.1189 - val_masked_acc: 0.9662 - val_masked_loss: 0.1189\n",
            "Epoch 5/100\n",
            "100/100 [==============================] - 15s 156ms/step - loss: 0.1283 - masked_acc: 0.9639 - masked_loss: 0.1283 - val_loss: 0.1372 - val_masked_acc: 0.9640 - val_masked_loss: 0.1372\n",
            "Epoch 6/100\n",
            "100/100 [==============================] - 14s 138ms/step - loss: 0.1066 - masked_acc: 0.9666 - masked_loss: 0.1066 - val_loss: 0.1576 - val_masked_acc: 0.9607 - val_masked_loss: 0.1576\n",
            "Epoch 7/100\n",
            "100/100 [==============================] - 13s 127ms/step - loss: 0.1321 - masked_acc: 0.9631 - masked_loss: 0.1321 - val_loss: 0.0873 - val_masked_acc: 0.9714 - val_masked_loss: 0.0873\n",
            "Epoch 8/100\n",
            "100/100 [==============================] - 13s 129ms/step - loss: 0.1069 - masked_acc: 0.9666 - masked_loss: 0.1069 - val_loss: 0.1715 - val_masked_acc: 0.9620 - val_masked_loss: 0.1715\n",
            "Epoch 9/100\n",
            "100/100 [==============================] - 13s 131ms/step - loss: 0.1187 - masked_acc: 0.9658 - masked_loss: 0.1187 - val_loss: 0.1052 - val_masked_acc: 0.9667 - val_masked_loss: 0.1052\n",
            "Epoch 10/100\n",
            "100/100 [==============================] - 15s 155ms/step - loss: 0.1267 - masked_acc: 0.9632 - masked_loss: 0.1267 - val_loss: 0.0861 - val_masked_acc: 0.9702 - val_masked_loss: 0.0861\n",
            "Epoch 11/100\n",
            "100/100 [==============================] - 13s 127ms/step - loss: 0.1126 - masked_acc: 0.9652 - masked_loss: 0.1126 - val_loss: 0.0807 - val_masked_acc: 0.9704 - val_masked_loss: 0.0807\n",
            "Epoch 12/100\n",
            "100/100 [==============================] - 13s 131ms/step - loss: 0.0939 - masked_acc: 0.9687 - masked_loss: 0.0939 - val_loss: 0.0821 - val_masked_acc: 0.9723 - val_masked_loss: 0.0821\n",
            "Epoch 13/100\n",
            "100/100 [==============================] - 15s 148ms/step - loss: 0.0716 - masked_acc: 0.9735 - masked_loss: 0.0716 - val_loss: 0.0704 - val_masked_acc: 0.9737 - val_masked_loss: 0.0704\n",
            "Epoch 14/100\n",
            "100/100 [==============================] - 13s 130ms/step - loss: 0.0930 - masked_acc: 0.9692 - masked_loss: 0.0930 - val_loss: 0.0797 - val_masked_acc: 0.9714 - val_masked_loss: 0.0797\n",
            "Epoch 15/100\n",
            "100/100 [==============================] - 14s 139ms/step - loss: 0.0739 - masked_acc: 0.9731 - masked_loss: 0.0739 - val_loss: 0.0775 - val_masked_acc: 0.9723 - val_masked_loss: 0.0775\n",
            "Epoch 16/100\n",
            "100/100 [==============================] - 15s 153ms/step - loss: 0.0851 - masked_acc: 0.9712 - masked_loss: 0.0851 - val_loss: 0.1026 - val_masked_acc: 0.9692 - val_masked_loss: 0.1026\n",
            "Epoch 17/100\n",
            "100/100 [==============================] - 12s 123ms/step - loss: 0.0726 - masked_acc: 0.9734 - masked_loss: 0.0726 - val_loss: 0.0921 - val_masked_acc: 0.9714 - val_masked_loss: 0.0921\n",
            "Epoch 18/100\n",
            "100/100 [==============================] - 13s 132ms/step - loss: 0.0774 - masked_acc: 0.9729 - masked_loss: 0.0774 - val_loss: 0.0698 - val_masked_acc: 0.9745 - val_masked_loss: 0.0698\n",
            "Epoch 19/100\n",
            "100/100 [==============================] - 15s 146ms/step - loss: 0.0815 - masked_acc: 0.9724 - masked_loss: 0.0815 - val_loss: 0.0777 - val_masked_acc: 0.9730 - val_masked_loss: 0.0777\n",
            "Epoch 20/100\n",
            "100/100 [==============================] - 12s 123ms/step - loss: 0.0762 - masked_acc: 0.9735 - masked_loss: 0.0762 - val_loss: 0.0685 - val_masked_acc: 0.9746 - val_masked_loss: 0.0685\n",
            "Epoch 21/100\n",
            "100/100 [==============================] - 15s 155ms/step - loss: 0.0806 - masked_acc: 0.9724 - masked_loss: 0.0806 - val_loss: 0.0687 - val_masked_acc: 0.9744 - val_masked_loss: 0.0687\n",
            "Epoch 22/100\n",
            "100/100 [==============================] - 15s 152ms/step - loss: 0.0707 - masked_acc: 0.9744 - masked_loss: 0.0707 - val_loss: 0.0700 - val_masked_acc: 0.9751 - val_masked_loss: 0.0700\n",
            "Epoch 23/100\n",
            "100/100 [==============================] - 13s 131ms/step - loss: 0.1518 - masked_acc: 0.9659 - masked_loss: 0.1518 - val_loss: 0.0862 - val_masked_acc: 0.9716 - val_masked_loss: 0.0862\n",
            "Epoch 24/100\n",
            "100/100 [==============================] - 13s 127ms/step - loss: 0.0728 - masked_acc: 0.9739 - masked_loss: 0.0728 - val_loss: 0.0725 - val_masked_acc: 0.9739 - val_masked_loss: 0.0725\n",
            "Epoch 25/100\n",
            "100/100 [==============================] - 12s 125ms/step - loss: 0.0590 - masked_acc: 0.9776 - masked_loss: 0.0590 - val_loss: 0.0626 - val_masked_acc: 0.9769 - val_masked_loss: 0.0626\n",
            "Epoch 26/100\n",
            "100/100 [==============================] - 12s 124ms/step - loss: 0.0597 - masked_acc: 0.9771 - masked_loss: 0.0597 - val_loss: 0.0641 - val_masked_acc: 0.9768 - val_masked_loss: 0.0641\n",
            "Epoch 27/100\n",
            "100/100 [==============================] - 13s 130ms/step - loss: 0.0682 - masked_acc: 0.9754 - masked_loss: 0.0682 - val_loss: 0.0722 - val_masked_acc: 0.9744 - val_masked_loss: 0.0722\n",
            "Epoch 28/100\n",
            "100/100 [==============================] - 13s 127ms/step - loss: 0.1941 - masked_acc: 0.9499 - masked_loss: 0.1941 - val_loss: 0.0783 - val_masked_acc: 0.9733 - val_masked_loss: 0.0783\n",
            "Epoch 29/100\n",
            "100/100 [==============================] - 15s 151ms/step - loss: 0.0782 - masked_acc: 0.9725 - masked_loss: 0.0782 - val_loss: 0.0636 - val_masked_acc: 0.9754 - val_masked_loss: 0.0636\n",
            "Epoch 30/100\n",
            "100/100 [==============================] - 12s 125ms/step - loss: 0.0645 - masked_acc: 0.9758 - masked_loss: 0.0645 - val_loss: 0.0620 - val_masked_acc: 0.9775 - val_masked_loss: 0.0620\n",
            "Epoch 31/100\n",
            "100/100 [==============================] - 14s 139ms/step - loss: 0.0687 - masked_acc: 0.9760 - masked_loss: 0.0687 - val_loss: 0.0686 - val_masked_acc: 0.9754 - val_masked_loss: 0.0686\n",
            "Epoch 32/100\n",
            "100/100 [==============================] - 13s 129ms/step - loss: 0.0602 - masked_acc: 0.9779 - masked_loss: 0.0602 - val_loss: 0.0555 - val_masked_acc: 0.9789 - val_masked_loss: 0.0555\n",
            "Epoch 33/100\n",
            "100/100 [==============================] - 12s 123ms/step - loss: 0.0556 - masked_acc: 0.9787 - masked_loss: 0.0556 - val_loss: 0.0667 - val_masked_acc: 0.9766 - val_masked_loss: 0.0667\n",
            "Epoch 34/100\n",
            "100/100 [==============================] - 12s 123ms/step - loss: 0.0499 - masked_acc: 0.9801 - masked_loss: 0.0499 - val_loss: 0.0473 - val_masked_acc: 0.9810 - val_masked_loss: 0.0473\n",
            "Epoch 35/100\n",
            "100/100 [==============================] - 12s 125ms/step - loss: 0.0500 - masked_acc: 0.9809 - masked_loss: 0.0500 - val_loss: 0.0646 - val_masked_acc: 0.9788 - val_masked_loss: 0.0646\n",
            "Epoch 36/100\n",
            "100/100 [==============================] - 13s 135ms/step - loss: 0.0491 - masked_acc: 0.9816 - masked_loss: 0.0491 - val_loss: 0.1661 - val_masked_acc: 0.9709 - val_masked_loss: 0.1661\n",
            "Epoch 37/100\n",
            "100/100 [==============================] - 15s 146ms/step - loss: 0.0869 - masked_acc: 0.9741 - masked_loss: 0.0869 - val_loss: 0.0703 - val_masked_acc: 0.9775 - val_masked_loss: 0.0703\n",
            "Epoch 38/100\n",
            "100/100 [==============================] - 13s 127ms/step - loss: 0.0624 - masked_acc: 0.9796 - masked_loss: 0.0624 - val_loss: 0.0622 - val_masked_acc: 0.9788 - val_masked_loss: 0.0622\n",
            "Epoch 39/100\n",
            "100/100 [==============================] - 13s 126ms/step - loss: 0.0766 - masked_acc: 0.9756 - masked_loss: 0.0766 - val_loss: 0.0498 - val_masked_acc: 0.9808 - val_masked_loss: 0.0498\n",
            "Epoch 40/100\n",
            "100/100 [==============================] - 12s 123ms/step - loss: 0.0501 - masked_acc: 0.9814 - masked_loss: 0.0501 - val_loss: 0.0499 - val_masked_acc: 0.9816 - val_masked_loss: 0.0499\n",
            "Epoch 41/100\n",
            "100/100 [==============================] - 13s 126ms/step - loss: 0.0547 - masked_acc: 0.9811 - masked_loss: 0.0547 - val_loss: 0.0499 - val_masked_acc: 0.9823 - val_masked_loss: 0.0499\n",
            "Epoch 42/100\n",
            "100/100 [==============================] - 15s 150ms/step - loss: 0.0447 - masked_acc: 0.9832 - masked_loss: 0.0447 - val_loss: 0.0439 - val_masked_acc: 0.9838 - val_masked_loss: 0.0439\n",
            "Epoch 43/100\n",
            "100/100 [==============================] - 15s 155ms/step - loss: 0.0541 - masked_acc: 0.9818 - masked_loss: 0.0541 - val_loss: 0.0465 - val_masked_acc: 0.9826 - val_masked_loss: 0.0465\n",
            "Epoch 44/100\n",
            "100/100 [==============================] - 15s 149ms/step - loss: 0.0419 - masked_acc: 0.9842 - masked_loss: 0.0419 - val_loss: 0.0370 - val_masked_acc: 0.9860 - val_masked_loss: 0.0370\n",
            "Epoch 45/100\n",
            "100/100 [==============================] - 14s 143ms/step - loss: 0.0433 - masked_acc: 0.9842 - masked_loss: 0.0433 - val_loss: 0.0427 - val_masked_acc: 0.9847 - val_masked_loss: 0.0427\n",
            "Epoch 46/100\n",
            "100/100 [==============================] - 15s 149ms/step - loss: 0.0392 - masked_acc: 0.9855 - masked_loss: 0.0392 - val_loss: 0.0378 - val_masked_acc: 0.9857 - val_masked_loss: 0.0378\n",
            "Epoch 47/100\n",
            "100/100 [==============================] - 13s 131ms/step - loss: 0.0400 - masked_acc: 0.9852 - masked_loss: 0.0400 - val_loss: 0.0369 - val_masked_acc: 0.9864 - val_masked_loss: 0.0369\n",
            "Epoch 48/100\n",
            "100/100 [==============================] - 15s 150ms/step - loss: 0.0394 - masked_acc: 0.9855 - masked_loss: 0.0394 - val_loss: 0.0377 - val_masked_acc: 0.9855 - val_masked_loss: 0.0377\n",
            "Epoch 49/100\n",
            "100/100 [==============================] - 16s 156ms/step - loss: 0.0414 - masked_acc: 0.9848 - masked_loss: 0.0414 - val_loss: 0.0364 - val_masked_acc: 0.9870 - val_masked_loss: 0.0364\n",
            "Epoch 50/100\n",
            "100/100 [==============================] - 13s 127ms/step - loss: 0.0420 - masked_acc: 0.9855 - masked_loss: 0.0420 - val_loss: 0.0350 - val_masked_acc: 0.9867 - val_masked_loss: 0.0350\n",
            "Epoch 51/100\n",
            "100/100 [==============================] - 15s 149ms/step - loss: 0.0336 - masked_acc: 0.9869 - masked_loss: 0.0336 - val_loss: 0.0382 - val_masked_acc: 0.9855 - val_masked_loss: 0.0382\n",
            "Epoch 52/100\n",
            "100/100 [==============================] - 12s 123ms/step - loss: 0.0561 - masked_acc: 0.9824 - masked_loss: 0.0561 - val_loss: 0.0439 - val_masked_acc: 0.9848 - val_masked_loss: 0.0439\n",
            "Epoch 53/100\n",
            "100/100 [==============================] - 14s 140ms/step - loss: 0.0409 - masked_acc: 0.9856 - masked_loss: 0.0409 - val_loss: 0.0336 - val_masked_acc: 0.9869 - val_masked_loss: 0.0336\n",
            "Epoch 54/100\n",
            "100/100 [==============================] - 12s 125ms/step - loss: 0.0438 - masked_acc: 0.9852 - masked_loss: 0.0438 - val_loss: 0.0429 - val_masked_acc: 0.9851 - val_masked_loss: 0.0429\n",
            "Epoch 55/100\n",
            "100/100 [==============================] - 15s 147ms/step - loss: 0.0350 - masked_acc: 0.9868 - masked_loss: 0.0350 - val_loss: 0.0337 - val_masked_acc: 0.9876 - val_masked_loss: 0.0337\n",
            "Epoch 56/100\n",
            "100/100 [==============================] - 13s 129ms/step - loss: 0.0321 - masked_acc: 0.9880 - masked_loss: 0.0321 - val_loss: 0.0344 - val_masked_acc: 0.9872 - val_masked_loss: 0.0344\n",
            "Epoch 57/100\n",
            "100/100 [==============================] - 15s 149ms/step - loss: 0.0351 - masked_acc: 0.9870 - masked_loss: 0.0351 - val_loss: 0.0376 - val_masked_acc: 0.9858 - val_masked_loss: 0.0376\n",
            "Epoch 58/100\n",
            "100/100 [==============================] - 12s 124ms/step - loss: 0.0358 - masked_acc: 0.9867 - masked_loss: 0.0358 - val_loss: 0.0362 - val_masked_acc: 0.9870 - val_masked_loss: 0.0362\n",
            "Epoch 59/100\n",
            "100/100 [==============================] - 15s 151ms/step - loss: 0.0343 - masked_acc: 0.9878 - masked_loss: 0.0343 - val_loss: 0.0357 - val_masked_acc: 0.9877 - val_masked_loss: 0.0357\n",
            "Epoch 60/100\n",
            "100/100 [==============================] - 13s 131ms/step - loss: 0.0372 - masked_acc: 0.9878 - masked_loss: 0.0372 - val_loss: 0.0338 - val_masked_acc: 0.9884 - val_masked_loss: 0.0338\n",
            "Epoch 61/100\n",
            "100/100 [==============================] - 13s 128ms/step - loss: 0.0343 - masked_acc: 0.9877 - masked_loss: 0.0343 - val_loss: 0.0382 - val_masked_acc: 0.9871 - val_masked_loss: 0.0382\n",
            "Epoch 62/100\n",
            "100/100 [==============================] - 12s 123ms/step - loss: 0.0333 - masked_acc: 0.9881 - masked_loss: 0.0333 - val_loss: 0.0343 - val_masked_acc: 0.9884 - val_masked_loss: 0.0343\n"
          ]
        }
      ],
      "source": [
        "history = model.fit(\n",
        "    train_ds.repeat(),\n",
        "    epochs=100,\n",
        "    steps_per_epoch = 100,\n",
        "    validation_data=val_ds,\n",
        "    validation_steps = 70,\n",
        "    callbacks=[\n",
        "        tf.keras.callbacks.EarlyStopping(patience=9)])"
      ]
    },
    {
      "cell_type": "markdown",
      "metadata": {
        "id": "Uq9lHbPgenz9"
      },
      "source": [
        "## Plotting the Loss from Training"
      ]
    },
    {
      "cell_type": "code",
      "execution_count": 46,
      "metadata": {
        "colab": {
          "base_uri": "https://localhost:8080/",
          "height": 466
        },
        "id": "38rLdlmtQHCm",
        "outputId": "38f74619-9f3e-4552-f761-c63f370197fc"
      },
      "outputs": [
        {
          "output_type": "execute_result",
          "data": {
            "text/plain": [
              "<matplotlib.legend.Legend at 0x7efb252cdc30>"
            ]
          },
          "metadata": {},
          "execution_count": 46
        },
        {
          "output_type": "display_data",
          "data": {
            "text/plain": [
              "<Figure size 640x480 with 1 Axes>"
            ],
            "image/png": "[encoded data removed]"
          },
          "metadata": {}
        }
      ],
      "source": [
        "plt.plot(history.history['loss'], label='loss')\n",
        "plt.plot(history.history['masked_loss'], label='masked_loss')\n",
        "plt.plot(history.history['val_masked_loss'], label='val_masked_loss')\n",
        "plt.ylim([0, max(plt.ylim())])\n",
        "plt.xlabel('Epoch #')\n",
        "plt.ylabel('CE/token')\n",
        "plt.legend()"
      ]
    },
    {
      "cell_type": "markdown",
      "metadata": {
        "id": "lUssYQFZet7E"
      },
      "source": [
        "## Plotting the aacuracy from the training"
      ]
    },
    {
      "cell_type": "code",
      "execution_count": 47,
      "metadata": {
        "colab": {
          "base_uri": "https://localhost:8080/",
          "height": 469
        },
        "id": "KkhXRASNG80_",
        "outputId": "5f0c7cd3-8ac5-4158-a921-27917e7566a4"
      },
      "outputs": [
        {
          "output_type": "execute_result",
          "data": {
            "text/plain": [
              "<matplotlib.legend.Legend at 0x7efb4235c2b0>"
            ]
          },
          "metadata": {},
          "execution_count": 47
        },
        {
          "output_type": "display_data",
          "data": {
            "text/plain": [
              "<Figure size 640x480 with 1 Axes>"
            ],
            "image/png": "[encoded data removed]"
          },
          "metadata": {}
        }
      ],
      "source": [
        "plt.plot(history.history['masked_acc'], label='accuracy')\n",
        "plt.plot(history.history['val_masked_acc'], label='val_accuracy')\n",
        "plt.ylim([0, max(plt.ylim())])\n",
        "plt.xlabel('Epoch #')\n",
        "plt.ylabel('CE/token')\n",
        "plt.legend()"
      ]
    },
    {
      "cell_type": "markdown",
      "metadata": {
        "id": "mU3Ce8M6I3rz"
      },
      "source": [
        "### Translate Module Development\n",
        "\n",
        "Now that the model is trained, implement a function to execute the full `text => text` translation. This code is basically identical to the [inference example](#inference) in the [decoder section](#the_decoder), but this also captures the attention weights."
      ]
    },
    {
      "cell_type": "code",
      "execution_count": 48,
      "metadata": {
        "id": "mmgYPCVgEwp_"
      },
      "outputs": [],
      "source": [
        "#@title\n",
        "@Translator.add_method\n",
        "def translate(self,\n",
        "              texts, *,\n",
        "              max_length=50,\n",
        "              temperature=0.0):\n",
        "  # Process the input texts\n",
        "  context = self.encoder.convert_input(texts)\n",
        "  batch_size = tf.shape(texts)[0]\n",
        "\n",
        "  # Setup the loop inputs\n",
        "  tokens = []\n",
        "  attention_weights = []\n",
        "  next_token, done, state = self.decoder.get_initial_state(context)\n",
        "\n",
        "  for _ in range(max_length):\n",
        "    # Generate the next token\n",
        "    next_token, done, state = self.decoder.get_next_token(\n",
        "        context, next_token, done,  state, temperature)\n",
        "\n",
        "    # Collect the generated tokens\n",
        "    tokens.append(next_token)\n",
        "    attention_weights.append(self.decoder.last_attention_weights)\n",
        "\n",
        "    if tf.executing_eagerly() and tf.reduce_all(done):\n",
        "      break\n",
        "\n",
        "  # Stack the lists of tokens and attention weights.\n",
        "  tokens = tf.concat(tokens, axis=-1)   # t*[(batch 1)] -> (batch, t)\n",
        "  self.last_attention_weights = tf.concat(attention_weights, axis=1)  # t*[(batch 1 s)] -> (batch, t s)\n",
        "\n",
        "  result = self.decoder.tokens_to_text(tokens)\n",
        "  return result"
      ]
    },
    {
      "cell_type": "markdown",
      "metadata": {
        "id": "U4XufRntbbva"
      },
      "source": [
        "Here are the two helper methods, used above, to convert tokens to text, and to get the next token:"
      ]
    },
    {
      "cell_type": "code",
      "execution_count": 49,
      "metadata": {
        "id": "E5hqvbR5FUCD",
        "scrolled": false
      },
      "outputs": [],
      "source": [
        "#Individual translator mechanism, can be used to translate each data separately\n",
        "\n",
        "\n",
        "result1 = model.translate([''])\n",
        "\n",
        "result2 = model.translate([''])\n",
        "\n",
        "result23 = model.translate([''])\n",
        "\n",
        "result222 = model.translate([''])\n",
        "#result1[0].numpy().decode()\n",
        "#result2[0].numpy().decode()\n",
        "\n"
      ]
    },
    {
      "cell_type": "markdown",
      "metadata": {
        "id": "wQ1iU63cVgfs"
      },
      "source": [
        "### Attention plot generation after model training has been completed"
      ]
    },
    {
      "cell_type": "code",
      "execution_count": 50,
      "metadata": {
        "id": "s5hQWlbN3jGF"
      },
      "outputs": [],
      "source": [
        "#@title\n",
        "@Translator.add_method\n",
        "def plot_attention(self, text, **kwargs):\n",
        "  assert isinstance(text, str)\n",
        "  output = self.translate([text], **kwargs)\n",
        "  output = output[0].numpy().decode()\n",
        "\n",
        "  attention = self.last_attention_weights[0]\n",
        "\n",
        "  context = tf_lower_and_split_punct(text)\n",
        "  context = context.numpy().decode().split()\n",
        "\n",
        "  output = tf_lower_and_split_punct(output)\n",
        "  output = output.numpy().decode().split()[1:]\n",
        "\n",
        "  fig = plt.figure(figsize=(10, 10))\n",
        "  ax = fig.add_subplot(1, 1, 1)\n",
        "\n",
        "  ax.matshow(attention, cmap='viridis', vmin=0.0)\n",
        "\n",
        "  fontdict = {'fontsize': 14}\n",
        "\n",
        "  ax.set_xticklabels([''] + context, fontdict=fontdict, rotation=90)\n",
        "  ax.set_yticklabels([''] + output, fontdict=fontdict)\n",
        "\n",
        "  ax.xaxis.set_major_locator(ticker.MultipleLocator(1))\n",
        "  ax.yaxis.set_major_locator(ticker.MultipleLocator(1))\n",
        "\n",
        "  ax.set_xlabel('Input text')\n",
        "  ax.set_ylabel('Output text')"
      ]
    },
    {
      "cell_type": "code",
      "execution_count": 51,
      "metadata": {
        "id": "rrGawQv2eiA4"
      },
      "outputs": [],
      "source": [
        "#model.plot_attention('')"
      ]
    },
    {
      "cell_type": "markdown",
      "metadata": {
        "id": "JHBdOf9duumm"
      },
      "source": [
        "Translate a few more sentences and plot them:"
      ]
    },
    {
      "cell_type": "markdown",
      "metadata": {
        "id": "rA3xI3NzrRJt"
      },
      "source": [
        "The short sentences often work well, but if the input is too long the model literally loses focus and stops providing reasonable predictions. There are two main reasons for this:\n",
        "\n",
        "1. The model was trained with teacher-forcing feeding the correct token at each step, regardless of the model's predictions. The model could be made more robust if it were sometimes fed its own predictions.\n",
        "2. The model only has access to its previous output through the RNN state. If the RNN state looses track of where it was in the context sequence there's no way for the model to recover. [Transformers](transformer.ipynb) improve on this by letting the decoder look at what it has output so far."
      ]
    },
    {
      "cell_type": "markdown",
      "metadata": {
        "id": "Vtz6QBoGWqT2"
      },
      "source": [
        "The raw data is sorted by length, so try translating the longest sequence:"
      ]
    },
    {
      "cell_type": "code",
      "execution_count": 52,
      "metadata": {
        "id": "-FUHFLEvSMbG"
      },
      "outputs": [],
      "source": [
        "long_text = context_raw[-1]\n",
        "\n",
        "import textwrap\n",
        "#print('Expected output:\\n', '\\n'.join(textwrap.wrap(target_raw[-1])))"
      ]
    },
    {
      "cell_type": "markdown",
      "metadata": {
        "id": "Rc1aekzi9dLZ"
      },
      "source": [
        "# Testing unseen samples"
      ]
    },
    {
      "cell_type": "code",
      "execution_count": 2,
      "metadata": {
        "id": "6OIFQKZI9bc5"
      },
      "outputs": [],
      "source": [
        "import pandas as pd\n",
        "\n",
        "\n",
        "dc = pd.read_excel('random_set_4.0.xlsx')"
      ]
    },
    {
      "cell_type": "code",
      "execution_count": 3,
      "metadata": {
        "colab": {
          "base_uri": "https://localhost:8080/",
          "height": 206
        },
        "id": "Nsx0IyYZ9k3v",
        "outputId": "85e9b3dd-9bc6-41a4-d03c-2b7e4b493005"
      },
      "outputs": [
        {
          "output_type": "execute_result",
          "data": {
            "text/plain": [
              "                                          OM_Regular  OM_Prediction\n",
              "0  module OM_name:0,open Declaration one sig clas...              1\n",
              "1  module OM_name:0,open Declaration one sig clas...              1\n",
              "2  module OM_name:0,open Declaration one sig clas...              1\n",
              "3  module OM_name:0,open Declaration one sig clas...              1\n",
              "4  module OM_name:0,open Declaration one sig clas...              1"
            ],
            "text/html": [
              "\n",
              "  <div id=\"df-dc79c632-d90a-4af8-bb97-a5b1d88611fe\">\n",
              "    <div class=\"colab-df-container\">\n",
              "      <div>\n",
              "<style scoped>\n",
              "    .dataframe tbody tr th:only-of-type {\n",
              "        vertical-align: middle;\n",
              "    }\n",
              "\n",
              "    .dataframe tbody tr th {\n",
              "        vertical-align: top;\n",
              "    }\n",
              "\n",
              "    .dataframe thead th {\n",
              "        text-align: right;\n",
              "    }\n",
              "</style>\n",
              "<table border=\"1\" class=\"dataframe\">\n",
              "  <thead>\n",
              "    <tr style=\"text-align: right;\">\n",
              "      <th></th>\n",
              "      <th>OM_Regular</th>\n",
              "      <th>OM_Prediction</th>\n",
              "    </tr>\n",
              "  </thead>\n",
              "  <tbody>\n",
              "    <tr>\n",
              "      <th>0</th>\n",
              "      <td>module OM_name:0,open Declaration one sig clas...</td>\n",
              "      <td>1</td>\n",
              "    </tr>\n",
              "    <tr>\n",
              "      <th>1</th>\n",
              "      <td>module OM_name:0,open Declaration one sig clas...</td>\n",
              "      <td>1</td>\n",
              "    </tr>\n",
              "    <tr>\n",
              "      <th>2</th>\n",
              "      <td>module OM_name:0,open Declaration one sig clas...</td>\n",
              "      <td>1</td>\n",
              "    </tr>\n",
              "    <tr>\n",
              "      <th>3</th>\n",
              "      <td>module OM_name:0,open Declaration one sig clas...</td>\n",
              "      <td>1</td>\n",
              "    </tr>\n",
              "    <tr>\n",
              "      <th>4</th>\n",
              "      <td>module OM_name:0,open Declaration one sig clas...</td>\n",
              "      <td>1</td>\n",
              "    </tr>\n",
              "  </tbody>\n",
              "</table>\n",
              "</div>\n",
              "      <button class=\"colab-df-convert\" onclick=\"convertToInteractive('df-dc79c632-d90a-4af8-bb97-a5b1d88611fe')\"\n",
              "              title=\"Convert this dataframe to an interactive table.\"\n",
              "              style=\"display:none;\">\n",
              "        \n",
              "  <svg xmlns=\"http://www.w3.org/2000/svg\" height=\"24px\"viewBox=\"0 0 24 24\"\n",
              "       width=\"24px\">\n",
              "    <path d=\"M0 0h24v24H0V0z\" fill=\"none\"/>\n",
              "    <path d=\"M18.56 5.44l.94 2.06.94-2.06 2.06-.94-2.06-.94-.94-2.06-.94 2.06-2.06.94zm-11 1L8.5 8.5l.94-2.06 2.06-.94-2.06-.94L8.5 2.5l-.94 2.06-2.06.94zm10 10l.94 2.06.94-2.06 2.06-.94-2.06-.94-.94-2.06-.94 2.06-2.06.94z\"/><path d=\"M17.41 7.96l-1.37-1.37c-.4-.4-.92-.59-1.43-.59-.52 0-1.04.2-1.43.59L10.3 9.45l-7.72 7.72c-.78.78-.78 2.05 0 2.83L4 21.41c.39.39.9.59 1.41.59.51 0 1.02-.2 1.41-.59l7.78-7.78 2.81-2.81c.8-.78.8-2.07 0-2.86zM5.41 20L4 18.59l7.72-7.72 1.47 1.35L5.41 20z\"/>\n",
              "  </svg>\n",
              "      </button>\n",
              "      \n",
              "  <style>\n",
              "    .colab-df-container {\n",
              "      display:flex;\n",
              "      flex-wrap:wrap;\n",
              "      gap: 12px;\n",
              "    }\n",
              "\n",
              "    .colab-df-convert {\n",
              "      background-color: #E8F0FE;\n",
              "      border: none;\n",
              "      border-radius: 50%;\n",
              "      cursor: pointer;\n",
              "      display: none;\n",
              "      fill: #1967D2;\n",
              "      height: 32px;\n",
              "      padding: 0 0 0 0;\n",
              "      width: 32px;\n",
              "    }\n",
              "\n",
              "    .colab-df-convert:hover {\n",
              "      background-color: #E2EBFA;\n",
              "      box-shadow: 0px 1px 2px rgba(60, 64, 67, 0.3), 0px 1px 3px 1px rgba(60, 64, 67, 0.15);\n",
              "      fill: #174EA6;\n",
              "    }\n",
              "\n",
              "    [theme=dark] .colab-df-convert {\n",
              "      background-color: #3B4455;\n",
              "      fill: #D2E3FC;\n",
              "    }\n",
              "\n",
              "    [theme=dark] .colab-df-convert:hover {\n",
              "      background-color: #434B5C;\n",
              "      box-shadow: 0px 1px 3px 1px rgba(0, 0, 0, 0.15);\n",
              "      filter: drop-shadow(0px 1px 2px rgba(0, 0, 0, 0.3));\n",
              "      fill: #FFFFFF;\n",
              "    }\n",
              "  </style>\n",
              "\n",
              "      <script>\n",
              "        const buttonEl =\n",
              "          document.querySelector('#df-dc79c632-d90a-4af8-bb97-a5b1d88611fe button.colab-df-convert');\n",
              "        buttonEl.style.display =\n",
              "          google.colab.kernel.accessAllowed ? 'block' : 'none';\n",
              "\n",
              "        async function convertToInteractive(key) {\n",
              "          const element = document.querySelector('#df-dc79c632-d90a-4af8-bb97-a5b1d88611fe');\n",
              "          const dataTable =\n",
              "            await google.colab.kernel.invokeFunction('convertToInteractive',\n",
              "                                                     [key], {});\n",
              "          if (!dataTable) return;\n",
              "\n",
              "          const docLinkHtml = 'Like what you see? Visit the ' +\n",
              "            '<a target=\"_blank\" href=https://colab.research.google.com/notebooks/data_table.ipynb>data table notebook</a>'\n",
              "            + ' to learn more about interactive tables.';\n",
              "          element.innerHTML = '';\n",
              "          dataTable['output_type'] = 'display_data';\n",
              "          await google.colab.output.renderOutput(dataTable, element);\n",
              "          const docLink = document.createElement('div');\n",
              "          docLink.innerHTML = docLinkHtml;\n",
              "          element.appendChild(docLink);\n",
              "        }\n",
              "      </script>\n",
              "    </div>\n",
              "  </div>\n",
              "  "
            ]
          },
          "metadata": {},
          "execution_count": 3
        }
      ],
      "source": [
        "dc.head()"
      ]
    },
    {
      "cell_type": "markdown",
      "metadata": {
        "id": "er0zQybAgoJJ"
      },
      "source": [
        "### Separating Columns in X_test and y_test"
      ]
    },
    {
      "cell_type": "code",
      "execution_count": 4,
      "metadata": {
        "id": "naG54qF791Hs"
      },
      "outputs": [],
      "source": [
        "X_test2 = dc['OM_Regular'].values\n",
        "y_test2 = dc['OM_Prediction'].values"
      ]
    },
    {
      "cell_type": "code",
      "execution_count": 5,
      "metadata": {
        "colab": {
          "base_uri": "https://localhost:8080/"
        },
        "id": "VcNO_Ews2q8x",
        "outputId": "0ab074a3-18f4-44f7-e8d2-1fe13aa2de5e"
      },
      "outputs": [
        {
          "output_type": "stream",
          "name": "stdout",
          "text": [
            "(4670,)\n",
            "(4670,)\n",
            "X data type:  object\n",
            "y data type:  int64\n"
          ]
        }
      ],
      "source": [
        "print(X_test2.shape)\n",
        "print(y_test2.shape)\n",
        "\n",
        "print(\"X data type: \", X_test2.dtype)\n",
        "print(\"y data type: \", y_test2.dtype)"
      ]
    },
    {
      "cell_type": "code",
      "execution_count": 6,
      "metadata": {
        "colab": {
          "base_uri": "https://localhost:8080/"
        },
        "id": "XZFASLWP95TU",
        "outputId": "e0e474c2-3af7-4af4-d212-a5996702a547"
      },
      "outputs": [
        {
          "output_type": "stream",
          "name": "stdout",
          "text": [
            "[1 1 1 ... 0 0 0]\n"
          ]
        }
      ],
      "source": [
        "print(y_test2)"
      ]
    },
    {
      "cell_type": "code",
      "execution_count": 7,
      "metadata": {
        "id": "hgO5sa73-3f1"
      },
      "outputs": [],
      "source": [
        "inputs = X_test2"
      ]
    },
    {
      "cell_type": "markdown",
      "metadata": {
        "id": "K_yUzQq_gyYj"
      },
      "source": [
        "### Obtaining results from the model of the unseen dataset"
      ]
    },
    {
      "cell_type": "code",
      "execution_count": 8,
      "metadata": {
        "id": "4qjPTIDB-8UZ"
      },
      "outputs": [],
      "source": [
        "# import time\n",
        "\n",
        "# # Increase the time parameter\n",
        "# time_limit = 50  # in seconds\n",
        "\n",
        "# for t in inputs:\n",
        "#     start_time = time.time()\n",
        "#     output = \"\"\n",
        "#     while True:\n",
        "#         partial_output = model.translate([t], max_length=len(output) + 10)[0].numpy().decode()\n",
        "#         output += partial_output\n",
        "#         if time.time() - start_time > time_limit:\n",
        "#             break\n",
        "#     output = output.replace(' ', '')\n",
        "#     print(output)\n",
        "\n",
        "# print()\n"
      ]
    },
    {
      "cell_type": "markdown",
      "metadata": {
        "id": "1t4_2FqbE9da"
      },
      "source": [
        "# Classification Report (Unseen samples)\n"
      ]
    },
    {
      "cell_type": "code",
      "execution_count": 9,
      "metadata": {
        "id": "fVaZsDnJhkz5"
      },
      "outputs": [],
      "source": [
        "import warnings\n",
        "import numpy as np\n",
        "import pandas as pd\n",
        "import matplotlib.pyplot as plt\n",
        "from sklearn import datasets\n",
        "from sklearn.preprocessing import StandardScaler\n",
        "from sklearn.neighbors import KNeighborsClassifier\n",
        "from sklearn.model_selection import train_test_split, GridSearchCV, cross_val_score, cross_val_predict\n",
        "from sklearn.metrics import confusion_matrix, precision_score, recall_score, f1_score, roc_curve, roc_auc_score\n",
        "from sklearn.metrics import precision_recall_curve, classification_report"
      ]
    },
    {
      "cell_type": "markdown",
      "metadata": {
        "id": "TbThCFoRhLHs"
      },
      "source": [
        "### The result is obtained and captured in a separate file, labels are converted to 1 and 0 . Where 1 denotes P and 0 denotes NP."
      ]
    },
    {
      "cell_type": "markdown",
      "metadata": {
        "id": "9Jz3Rt18lUtE"
      },
      "source": [
        "###READING the predicted dataset"
      ]
    },
    {
      "cell_type": "code",
      "execution_count": 10,
      "metadata": {
        "id": "jhKnUY4XFCSj"
      },
      "outputs": [],
      "source": [
        "dd = pd.read_excel('random_set_4.0_pred.xlsx')"
      ]
    },
    {
      "cell_type": "code",
      "execution_count": 11,
      "metadata": {
        "id": "v9M2iW1MGjfM",
        "colab": {
          "base_uri": "https://localhost:8080/",
          "height": 206
        },
        "outputId": "cf0380d1-b1b8-4a8a-ab96-0c356e562b65"
      },
      "outputs": [
        {
          "output_type": "execute_result",
          "data": {
            "text/plain": [
              "                                          OM_Regular  OM_Prediction\n",
              "0  np,moduleom_name:0,opendeclarationonesigclass1...              0\n",
              "1  np,moduleom_name:0,opendeclarationonesigclass1...              0\n",
              "2  np,moduleom_name:0,opendeclarationonesigclass1...              0\n",
              "3  np,moduleom_name:0,opendeclarationonesigclass1...              0\n",
              "4  np,moduleom_name:0,opendeclarationonesigclass1...              0"
            ],
            "text/html": [
              "\n",
              "  <div id=\"df-3a7366f0-fb69-4330-891b-cb0d7f28a64a\">\n",
              "    <div class=\"colab-df-container\">\n",
              "      <div>\n",
              "<style scoped>\n",
              "    .dataframe tbody tr th:only-of-type {\n",
              "        vertical-align: middle;\n",
              "    }\n",
              "\n",
              "    .dataframe tbody tr th {\n",
              "        vertical-align: top;\n",
              "    }\n",
              "\n",
              "    .dataframe thead th {\n",
              "        text-align: right;\n",
              "    }\n",
              "</style>\n",
              "<table border=\"1\" class=\"dataframe\">\n",
              "  <thead>\n",
              "    <tr style=\"text-align: right;\">\n",
              "      <th></th>\n",
              "      <th>OM_Regular</th>\n",
              "      <th>OM_Prediction</th>\n",
              "    </tr>\n",
              "  </thead>\n",
              "  <tbody>\n",
              "    <tr>\n",
              "      <th>0</th>\n",
              "      <td>np,moduleom_name:0,opendeclarationonesigclass1...</td>\n",
              "      <td>0</td>\n",
              "    </tr>\n",
              "    <tr>\n",
              "      <th>1</th>\n",
              "      <td>np,moduleom_name:0,opendeclarationonesigclass1...</td>\n",
              "      <td>0</td>\n",
              "    </tr>\n",
              "    <tr>\n",
              "      <th>2</th>\n",
              "      <td>np,moduleom_name:0,opendeclarationonesigclass1...</td>\n",
              "      <td>0</td>\n",
              "    </tr>\n",
              "    <tr>\n",
              "      <th>3</th>\n",
              "      <td>np,moduleom_name:0,opendeclarationonesigclass1...</td>\n",
              "      <td>0</td>\n",
              "    </tr>\n",
              "    <tr>\n",
              "      <th>4</th>\n",
              "      <td>np,moduleom_name:0,opendeclarationonesigclass1...</td>\n",
              "      <td>0</td>\n",
              "    </tr>\n",
              "  </tbody>\n",
              "</table>\n",
              "</div>\n",
              "      <button class=\"colab-df-convert\" onclick=\"convertToInteractive('df-3a7366f0-fb69-4330-891b-cb0d7f28a64a')\"\n",
              "              title=\"Convert this dataframe to an interactive table.\"\n",
              "              style=\"display:none;\">\n",
              "        \n",
              "  <svg xmlns=\"http://www.w3.org/2000/svg\" height=\"24px\"viewBox=\"0 0 24 24\"\n",
              "       width=\"24px\">\n",
              "    <path d=\"M0 0h24v24H0V0z\" fill=\"none\"/>\n",
              "    <path d=\"M18.56 5.44l.94 2.06.94-2.06 2.06-.94-2.06-.94-.94-2.06-.94 2.06-2.06.94zm-11 1L8.5 8.5l.94-2.06 2.06-.94-2.06-.94L8.5 2.5l-.94 2.06-2.06.94zm10 10l.94 2.06.94-2.06 2.06-.94-2.06-.94-.94-2.06-.94 2.06-2.06.94z\"/><path d=\"M17.41 7.96l-1.37-1.37c-.4-.4-.92-.59-1.43-.59-.52 0-1.04.2-1.43.59L10.3 9.45l-7.72 7.72c-.78.78-.78 2.05 0 2.83L4 21.41c.39.39.9.59 1.41.59.51 0 1.02-.2 1.41-.59l7.78-7.78 2.81-2.81c.8-.78.8-2.07 0-2.86zM5.41 20L4 18.59l7.72-7.72 1.47 1.35L5.41 20z\"/>\n",
              "  </svg>\n",
              "      </button>\n",
              "      \n",
              "  <style>\n",
              "    .colab-df-container {\n",
              "      display:flex;\n",
              "      flex-wrap:wrap;\n",
              "      gap: 12px;\n",
              "    }\n",
              "\n",
              "    .colab-df-convert {\n",
              "      background-color: #E8F0FE;\n",
              "      border: none;\n",
              "      border-radius: 50%;\n",
              "      cursor: pointer;\n",
              "      display: none;\n",
              "      fill: #1967D2;\n",
              "      height: 32px;\n",
              "      padding: 0 0 0 0;\n",
              "      width: 32px;\n",
              "    }\n",
              "\n",
              "    .colab-df-convert:hover {\n",
              "      background-color: #E2EBFA;\n",
              "      box-shadow: 0px 1px 2px rgba(60, 64, 67, 0.3), 0px 1px 3px 1px rgba(60, 64, 67, 0.15);\n",
              "      fill: #174EA6;\n",
              "    }\n",
              "\n",
              "    [theme=dark] .colab-df-convert {\n",
              "      background-color: #3B4455;\n",
              "      fill: #D2E3FC;\n",
              "    }\n",
              "\n",
              "    [theme=dark] .colab-df-convert:hover {\n",
              "      background-color: #434B5C;\n",
              "      box-shadow: 0px 1px 3px 1px rgba(0, 0, 0, 0.15);\n",
              "      filter: drop-shadow(0px 1px 2px rgba(0, 0, 0, 0.3));\n",
              "      fill: #FFFFFF;\n",
              "    }\n",
              "  </style>\n",
              "\n",
              "      <script>\n",
              "        const buttonEl =\n",
              "          document.querySelector('#df-3a7366f0-fb69-4330-891b-cb0d7f28a64a button.colab-df-convert');\n",
              "        buttonEl.style.display =\n",
              "          google.colab.kernel.accessAllowed ? 'block' : 'none';\n",
              "\n",
              "        async function convertToInteractive(key) {\n",
              "          const element = document.querySelector('#df-3a7366f0-fb69-4330-891b-cb0d7f28a64a');\n",
              "          const dataTable =\n",
              "            await google.colab.kernel.invokeFunction('convertToInteractive',\n",
              "                                                     [key], {});\n",
              "          if (!dataTable) return;\n",
              "\n",
              "          const docLinkHtml = 'Like what you see? Visit the ' +\n",
              "            '<a target=\"_blank\" href=https://colab.research.google.com/notebooks/data_table.ipynb>data table notebook</a>'\n",
              "            + ' to learn more about interactive tables.';\n",
              "          element.innerHTML = '';\n",
              "          dataTable['output_type'] = 'display_data';\n",
              "          await google.colab.output.renderOutput(dataTable, element);\n",
              "          const docLink = document.createElement('div');\n",
              "          docLink.innerHTML = docLinkHtml;\n",
              "          element.appendChild(docLink);\n",
              "        }\n",
              "      </script>\n",
              "    </div>\n",
              "  </div>\n",
              "  "
            ]
          },
          "metadata": {},
          "execution_count": 11
        }
      ],
      "source": [
        "dd.head()"
      ]
    },
    {
      "cell_type": "code",
      "execution_count": 12,
      "metadata": {
        "id": "1tO_WHmVHQDR"
      },
      "outputs": [],
      "source": [
        "X_test_pred2 = dd['OM_Regular'].values\n",
        "y_test_pred2 = dd['OM_Prediction'].values"
      ]
    },
    {
      "cell_type": "markdown",
      "metadata": {
        "id": "0nbGKNUjldCp"
      },
      "source": [
        "### Printing predicted labels"
      ]
    },
    {
      "cell_type": "code",
      "execution_count": 13,
      "metadata": {
        "id": "Wy2Fvt1fHYJO",
        "colab": {
          "base_uri": "https://localhost:8080/"
        },
        "outputId": "9d31377b-2274-4169-b98a-2d335dcbc3af"
      },
      "outputs": [
        {
          "output_type": "stream",
          "name": "stdout",
          "text": [
            "[0 0 0 ... 0 0 0]\n"
          ]
        }
      ],
      "source": [
        "print (y_test_pred2 )"
      ]
    },
    {
      "cell_type": "code",
      "execution_count": 14,
      "metadata": {
        "id": "w7RY4modHkts",
        "colab": {
          "base_uri": "https://localhost:8080/"
        },
        "outputId": "04240502-9cc1-4fcf-9137-fc344887b6e8"
      },
      "outputs": [
        {
          "output_type": "stream",
          "name": "stdout",
          "text": [
            "Testing: Precision = 0.277778\n",
            "Testing: Recall = 0.023166\n",
            "Testing: F1 Score = 0.042766\n",
            "\n",
            "Confusion Matrix (Test Data):\n",
            " [[3297   78]\n",
            " [1265   30]]\n"
          ]
        }
      ],
      "source": [
        "precision = precision_score(y_test2, y_test_pred2)\n",
        "print(\"Testing: Precision = %f\" % precision)\n",
        "\n",
        "\n",
        "recall = recall_score(y_test2, y_test_pred2)\n",
        "print(\"Testing: Recall = %f\" % recall)\n",
        "\n",
        "\n",
        "f1 = f1_score(y_test2, y_test_pred2)\n",
        "print(\"Testing: F1 Score = %f\" % f1)\n",
        "\n",
        "print(\"\\nConfusion Matrix (Test Data):\\n\", confusion_matrix(y_test2, y_test_pred2))"
      ]
    },
    {
      "cell_type": "code",
      "execution_count": 15,
      "metadata": {
        "id": "nd3P-TGIIN6b",
        "colab": {
          "base_uri": "https://localhost:8080/"
        },
        "outputId": "840c289b-a55a-4cb4-eec4-806d5bd43e15"
      },
      "outputs": [
        {
          "output_type": "stream",
          "name": "stdout",
          "text": [
            "              precision    recall  f1-score   support\n",
            "\n",
            "           0       0.72      0.98      0.83      3375\n",
            "           1       0.28      0.02      0.04      1295\n",
            "\n",
            "    accuracy                           0.71      4670\n",
            "   macro avg       0.50      0.50      0.44      4670\n",
            "weighted avg       0.60      0.71      0.61      4670\n",
            "\n"
          ]
        }
      ],
      "source": [
        "print(classification_report(y_test2,y_test_pred2))"
      ]
    }
  ],
  "metadata": {
    "accelerator": "GPU",
    "colab": {
      "provenance": []
    },
    "gpuClass": "standard",
    "kernelspec": {
      "display_name": "Python 3 (ipykernel)",
      "language": "python",
      "name": "python3"
    },
    "language_info": {
      "codemirror_mode": {
        "name": "ipython",
        "version": 3
      },
      "file_extension": ".py",
      "mimetype": "text/x-python",
      "name": "python",
      "nbconvert_exporter": "python",
      "pygments_lexer": "ipython3",
      "version": "3.9.12"
    }
  },
  "nbformat": 4,
  "nbformat_minor": 0
}