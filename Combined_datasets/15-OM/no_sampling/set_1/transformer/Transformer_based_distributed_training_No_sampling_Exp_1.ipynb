{
  "cells": [
    {
      "cell_type": "markdown",
      "metadata": {
        "id": "53kuZAzgHqa1"
      },
      "source": [
        "\n",
        "# Transformer based distributed training\n",
        "\n",
        "No sampling : Experiment 1\n",
        "\n",
        "\n",
        "## Object Models: 15\n",
        "\n",
        "1.\tBank\n",
        "2.\tCamping\n",
        "3.\tCanteen\n",
        "4.\tCustomer_Order\n",
        "5.\tEcommerce\n",
        "6.\tHospital Management\n",
        "7.\tLibrary Management\n",
        "8.\tOnlinestore\n",
        "9.\tStudent Course\n",
        "10.\tTraffic_Controller\n",
        "11.\tUniversity\n",
        "12.\tDecider\n",
        "13.\tSchool_mgmt\n",
        "14.\tStore_mgmt\n",
        "15. Credit Card Process\n",
        "\n",
        "\n",
        "## Total Training Data: 31139\n",
        "\n",
        "### training set P  423\n",
        "\n",
        "### training set NP 26046\n",
        "\n",
        "\n",
        "## Total Testing Data: 4670\n",
        "\n",
        "\n",
        "### testing set P 151\n",
        "\n",
        "### testing set NP 4520\n",
        "\n",
        "\n",
        "\n",
        "\n",
        "\n"
      ]
    },
    {
      "cell_type": "markdown",
      "metadata": {
        "id": "GtBEUtVnHqa4"
      },
      "source": [
        "## Introduction\n",
        "\n",
        "In this example, we'll build a sequence-to-sequence Transformer model, which\n",
        "we'll train on an English-to-Spanish machine translation task.\n",
        "\n",
        "You'll learn how to:\n",
        "\n",
        "- Vectorize text using the Keras `TextVectorization` layer.\n",
        "- Implement a `TransformerEncoder` layer, a `TransformerDecoder` layer,\n",
        "and a `PositionalEmbedding` layer.\n",
        "- Prepare data for training a sequence-to-sequence model.\n",
        "- Use the trained model to generate translations of never-seen-before\n",
        "input sentences (sequence-to-sequence inference).\n",
        "\n",
        "The code featured here is adapted from the book\n",
        "[Deep Learning with Python, Second Edition](https://www.manning.com/books/deep-learning-with-python-second-edition)\n",
        "(chapter 11: Deep learning for text).\n",
        "The present example is fairly barebones, so for detailed explanations of\n",
        "how each building block works, as well as the theory behind Transformers,\n",
        "I recommend reading the book."
      ]
    },
    {
      "cell_type": "markdown",
      "metadata": {
        "id": "tGG9yjvYHqa4"
      },
      "source": [
        "## Setup"
      ]
    },
    {
      "cell_type": "code",
      "execution_count": 1,
      "metadata": {
        "id": "2Ut3uI8UHqa4"
      },
      "outputs": [],
      "source": [
        "import pathlib\n",
        "import random\n",
        "import string\n",
        "import re\n",
        "import numpy as np\n",
        "import tensorflow as tf\n",
        "from tensorflow import keras\n",
        "from tensorflow.keras import layers\n",
        "from tensorflow.keras.layers import TextVectorization\n",
        "\n"
      ]
    },
    {
      "cell_type": "code",
      "source": [
        "## Using Mirrored Strategy for Distributed Training"
      ],
      "metadata": {
        "id": "Df3j-M1vA2SQ"
      },
      "execution_count": 2,
      "outputs": []
    },
    {
      "cell_type": "code",
      "source": [
        "# Enable mixed precision for better performance on GPUs with Tensor Cores\n",
        "tf.keras.mixed_precision.set_global_policy('mixed_float16')\n",
        "\n",
        "# Check the number of available GPUs\n",
        "gpus = tf.config.list_physical_devices('GPU')\n",
        "num_gpus = len(gpus)\n",
        "if num_gpus > 1:\n",
        "    # Enable mirrored strategy for distributed training\n",
        "    strategy = tf.distribute.MirroredStrategy()\n",
        "    print('Running distributed training on', num_gpus, 'GPUs.')\n",
        "else:\n",
        "    strategy = tf.distribute.get_strategy()\n",
        "    print('Running training on a single GPU.')"
      ],
      "metadata": {
        "colab": {
          "base_uri": "https://localhost:8080/"
        },
        "id": "oi3ope8A__yL",
        "outputId": "8f17e62a-4ab5-4b7e-d9c0-abc2811e8f09"
      },
      "execution_count": 2,
      "outputs": [
        {
          "output_type": "stream",
          "name": "stdout",
          "text": [
            "Running training on a single GPU.\n"
          ]
        }
      ]
    },
    {
      "cell_type": "markdown",
      "metadata": {
        "id": "0yIDuvfJHqa5"
      },
      "source": [
        "## Downloading the data\n",
        "\n",
        "We'll be working with an English-to-Spanish translation dataset\n",
        "provided by [Anki](https://www.manythings.org/anki/). Let's download it:"
      ]
    },
    {
      "cell_type": "code",
      "execution_count": 4,
      "metadata": {
        "colab": {
          "base_uri": "https://localhost:8080/"
        },
        "id": "WoNkzS7eHqa6",
        "outputId": "645186fd-1720-4d81-d3dc-7b02734591fa"
      },
      "outputs": [
        {
          "output_type": "stream",
          "name": "stdout",
          "text": [
            "Archive:  new.zip\n",
            "replace 15_OM_final_training_set_1.txt? [y]es, [n]o, [A]ll, [N]one, [r]ename: y\n",
            "  inflating: 15_OM_final_training_set_1.txt  \n"
          ]
        }
      ],
      "source": [
        "\n",
        "!unzip new.zip\n",
        "\n",
        "import pathlib\n",
        "\n",
        "file_path = \"/content/new.zip\"\n",
        "extracted_dir = pathlib.Path(file_path).parent\n",
        "text_file = extracted_dir / \"15_OM_final_training_set_1.txt\"\n"
      ]
    },
    {
      "cell_type": "markdown",
      "metadata": {
        "id": "NEuvPsK1Hqa6"
      },
      "source": [
        "## Parsing the data\n",
        "\n",
        "Each line contains an English sentence and its corresponding Spanish sentence.\n",
        "The English sentence is the *source sequence* and Spanish one is the *target sequence*.\n",
        "We prepend the token `\"[start]\"` and we append the token `\"[end]\"` to the Spanish sentence."
      ]
    },
    {
      "cell_type": "code",
      "execution_count": 6,
      "metadata": {
        "id": "CwTUqXKkHqa6"
      },
      "outputs": [],
      "source": [
        "with open(text_file) as f:\n",
        "    lines = f.read().split(\"\\n\")[:-1]\n",
        "text_pairs = []\n",
        "for line in lines:\n",
        "    eng, spa = line.split(\"\\t\")\n",
        "    spa = \"[start] \" + spa + \" [end]\"\n",
        "    text_pairs.append((eng, spa))"
      ]
    },
    {
      "cell_type": "markdown",
      "metadata": {
        "id": "0lKYYxnRHqa6"
      },
      "source": [
        "Here's what our sentence pairs look like:"
      ]
    },
    {
      "cell_type": "code",
      "execution_count": 7,
      "metadata": {
        "colab": {
          "base_uri": "https://localhost:8080/"
        },
        "id": "W71EWhMAHqa7",
        "outputId": "596635c1-bddd-481f-8eca-3149c957a524"
      },
      "outputs": [
        {
          "output_type": "stream",
          "name": "stdout",
          "text": [
            "('module OM_name:0,open Declaration one sig class1_name extends Class attrSet =c1_at1id=c1_at1isAbstract=No no parent} one sig c1_at1 extends c1_at1_type, one sig class01_name extends Class attrSet =c01_at1id=c01_at1isAbstract=No no parent} one sig c01_at1 extends c01_at1_type, one sig assoc1 extends   Association  src=class1_namedst=class01_name src_multiplicity =src_mlpc dst_multiplicity =dst_mlpc,} one sig class2_name extends Class attrSet =c2_at1id=c2_at1isAbstract=No no parent} one sig c2_at1 extends c2_at1_type, one sig assoc2 extends   Association  src=class1_namedst=class2_name src_multiplicity =src_mlpc dst_multiplicity =dst_mlpc,} one sig class3_name extends Class attrSet =c3_at1+c3_at2id=c3_at1isAbstract=No no parent} one sig c3_at1 extends c3_at1_type one sig c3_at2 extends c3_at2_type, one sig class4_name extends Class attrSet =c4_at1 one parent id=c3_at1isAbstract=No parent in class3_name} one sig c4_at1 extends c4_at1_type, one sig assoc3 extends  Association dst=class2_namedst=class3_name src_multiplicity =src_mlpc dst_multiplicity =dst_mlpc,} one sig class5_name extends Class attrSet =c5_at1+c5_at2 one parent id=c3_at1isAbstract=No parent in class3_name} one sig c5_at2 extends c5_at2_type one sig c5_at1 extends c5_at1_type one sig assoc4 extends   Association  src=class01_namedst=class3_name src_multiplicity =src_mlpc dst_multiplicity =dst_mlpc,} one sig class6_name extends Class attrSet =c6_at1+c6_at2id=categoryIDisAbstract=No no parent} one sig c6_at1 extends c6_at1_type one sig c6_at2 extends c6_at2_type one sig class7_name extends Class attrSet =c7_at1+c7_at2+c7_at3+c7_at4id=c7_at1isAbstract=No no parent} one sig c7_at1 extends c7_at1_type one sig c7_at2 extends c7_at2_type one sig c7_at3 extends c7_at3_type one sig c7_at4 extends c7_at4_type one sig assoc5 extends   Association  src=class7_namesrc=class6_name src_multiplicity =src_mlpc2 dst_multiplicity =dst_mlpc,} one sig class8_name extends Class attrSet =c8_at1id=c8_at1isAbstract=No no parent} one sig c8_at1 extends Integer one sig assoc6 extends   Association  src=class7_namedst=class8_name src_multiplicity =src_mlpc dst_multiplicity =dst_mlpc,} one sig assoc7 extends   Association  src=class7_namedst=class3_name src_multiplicity =src_mlpc2 dst_multiplicity =dst_mlpc,} one sig class9_name extends Class attrSet =c9_at1+c10_at2 one parent id=c7_at1isAbstract=No parent in class7_name} one sig c9_at1 extends c9_at1_type one sig c10_at2 extends c10_at2_type one sig class10_name extends Class attrSet =c10_at1 one parent id=c7_at1isAbstract=No parent in class7_name} one sig c10_at1 extends c10_at1_type one sig class11_name extends Class attrSet =c11_at1 one parent id=c7_at1isAbstract=No parent in class7_name} one sig c11_at1 extends string one sig class12_name extends Class attrSet =c12_at1+c12_at2+c12_at3id=c12_at1isAbstract=No no parent} one sig c12_at1 extends c12_at1_type one sig c12_at2 extends c12_at2_type one sig c12_at3 extends c12_at3_type one sig assoc8 extends   Association  src=class7_namesrc=class12_name src_multiplicity =src_mlpc2 dst_multiplicity =dst_mlpc,} one sig class13_name extends Class attrSet =c13_at1 one parent id=c12_at1isAbstract=No parent in class12_name} one sig c13_at1 extends c13_at1_type one sig class14_name extends Class attrSet =c14_at1 one parent id=c12_at1isAbstract=No parent in class12_name} one sig c14_at1 extends c14_at1_type pred show run show ,TableName:class1_nameTableName:class01_nameTableNameclass2_nameTableNameclass6_nameTableNameclass7_nameTableNameclass10_nameTableNameclass11_nameTableNameclass14_name Mapping Strategy for class1_name:map_str2 Mapping Strategy for class6_name:map_str2 Mapping Strategy for class7_name:map_str2 Mapping Strategy for class4_name:map_str3 Mapping Strategy for class3_name:map_str3 Mapping Strategy for class9_name:map_str3 Mapping Strategy for class10_name:map_str3 Mapping Strategy for class11_name:map_str3 Mapping Strategy for class12_name:map_str1 Mapping Strategy for class11_name:map_str1 Mapping Strategy for class14_name:map_str1  Association  Strategy for assoc1:assoc_str1  Association  Strategy for assoc3:assoc_str1  Association  Strategy for assoc4:assoc_str1  Association  Strategy for assoc6:assoc_str1  Association  Strategy for assoc2:assoc_str2  Association  Strategy for assoc5:assoc_str2  Association  Strategy for assoc7:assoc_str2  Association  Strategy for assoc8:assoc_str2, USE OM _name_0CREATE TABLE `class01_name`(`c01_at1`c01_at1_type NOT  NULL,`c1_at1`c1_at1_type, KEY `FK_class01_name_c1_at1_idx`(`c1_at1`), PRIMARY  KEY  (`c01_at1`),CREATE TABLE `class6_name`(`c7_at1`c7_at1_type(64)`c6_at1`c6_at1_type NOT  NULL PRIMARY  KEY  (`c6_at1`),CREATE TABLE `class1_name`(`c1_at1`c1_at1_type NOT  NULL PRIMARY  KEY  (`c1_at1`),CREATE TABLE `class13_name`(`c13_at1`c13_at1_type(64)`c12_at1`c12_at1_type NOT  NULL KEY `FK_class13_name_c12_at1_idx`(`c12_at1`) PRIMARY  KEY  (`c12_at1`),CREATE TABLE `class7_name`(`c7_at3`c7_at3_type(64)`c7_at2`c7_at2_type`c7_at4`c7_at4_type(20,5)`c7_at1`c7_at1_type NOT  NULL PRIMARY  KEY  (`c7_at1`),CREATE TABLE `class11_name`(`c11_at1`c11_at1_type(64)`c7_at3`c7_at3_type(64)`c7_at2`c7_at2_type`c7_at4`c7_at4_type(20,5)`c7_at1`c7_at1_type NOT  NULL PRIMARY  KEY  (`c7_at1`),CREATE TABLE `class4_name`(`c4_at1`c4_at1_type,`c3_at2`c3_at2_type`c3_at1`c3_at1_type NOT  NULL PRIMARY  KEY  (`ItemID`), PRIMARY  KEY  (`c3_at1`),CREATE TABLE `class2_name`(`c2_at1`c2_at1_type NOT  NULL`c1_at1`c1_at1_type, KEY `FK_class2_name_c1_at1_idx`(`c1_at1`), PRIMARY  KEY  (`c2_at1`),CREATE TABLE `class8_name`(`c8_at1`c8_at1_type NOT  NULL PRIMARY  KEY  (`c8_at1`),CREATE TABLE `assoc7`(`c7_at1`c7_at1_type NOT  NULL`c3_at1`c3_at1_type NOT  NULL KEY `FK_assoc7_c7_at1_idx`(`c7_at1`) KEY `FK_assoc7_c3_at1_idx`(`c3_at1`) PRIMARY  KEY  (`c7_at1`,`c3_at1`),CREATE TABLE `class3_name`(`c3_at2`c3_at2_type`c3_at1`c3_at1_type NOT  NULL`c2_at1`c2_at1_type`c01_at1`c01_at1_type KEY `FK_class3_name_c2_at1_idx`(`c2_at1`) KEY `FK_class3_name_c01_at1_idx`(`c01_at1`) PRIMARY  KEY  (`ItemID`), PRIMARY  KEY  (`c3_at1`),CREATE TABLE `class10_name`(`c10_at1`c10_at1_type(64)`c7_at1`c7_at1_type NOT  NULL KEY `FK_class10_name_c7_at1_idx`(`c7_at1`) PRIMARY  KEY  (`c7_at1`),CREATE TABLE `class9_name`(`c10_at2`c10_at2_type,`c9_at1`c9_at1_type(20,5),`c7_at1`c7_at1_type NOT  NULL KEY `FK_class9_name_c7_at1_idx`(`c7_at1`), PRIMARY  KEY  (`c7_at1`),CREATE TABLE `class5_name`(`c5_at1`c5_at1_type,`c5_at2`c5_at2_type,`c3_at1`c3_at1_type NOT  NULL KEY `FK_class5_name_c3_at1_idx`(`c3_at1`) PRIMARY  KEY  (`ItemID`), PRIMARY  KEY  (`c3_at1`),CREATE TABLE `assoc8`(`c12_at1`c12_at1_type NOT  NULL`c7_at1`c7_at1_type NOT  NULL KEY `FK_assoc8_c12_at1_idx`(`c12_at1`) KEY `FK_assoc8_c7_at1_idx`(`c7_at1`) PRIMARY  KEY  (`c12_at1`,`c7_at1`),CREATE TABLE `class14_name`(`c14_at1`c14_at1_type(64)`c12_at3`c12_at3_type(64)`c12_at2`c12_at2_type(64)`c12_at1`c12_at1_type NOT  NULL PRIMARY  KEY  (`c12_at1`),CREATE TABLE `class12_name`(`c12_at3`c12_at3_type(64)`c12_at2`c12_at2_type(64)`c12_at1`c12_at1_type NOT  NULL PRIMARY  KEY  (`c12_at1`),`c8_at1`c8_at1_type NOT  NULL`c7_at1`c7_at1_type NOT  NULLCREATE TABLE `assoc5`(`c7_at1`c7_at1_type NOT  NULL`c6_at1`c6_at1_type NOT  NULL KEY `FK_assoc5_c7_at1_idx`(`c7_at1`) KEY `FK_assoc5_c6_at1_idx`(`c6_at1`) PRIMARY  KEY  (`c7_at1`,`c6_at1`), ALTER TABLE `class01_name`  ADD  CONSTRAINT `FK_class01_name_c1_at1` FOREIGN  KEY  (`c1_at1`) REFERENCES `class1_name`(`c1_at1`) ON DELETE CASCADE ON UPDATE CASCADE ; ALTER TABLE `class13_name`  ADD  CONSTRAINT `FK_class13_name_c12_at1` FOREIGN  KEY  (`c12_at1`) REFERENCES `class12_name`(`c12_at1`) ON DELETE CASCADE ON UPDATE CASCADE ; ALTER TABLE `class2_name`  ADD  CONSTRAINT `FK_class2_name_c1_at1` FOREIGN  KEY  (`c1_at1`) REFERENCES `class1_name`(`c1_at1`) ON DELETE CASCADE ON UPDATE CASCADE , ALTER TABLE `assoc7`  ADD  CONSTRAINT `FK_assoc7_c7_at1` FOREIGN  KEY  (`c7_at1`) REFERENCES `class7_name`(`c7_at1`) ON DELETE CASCADE ON UPDATE CASCADE   ADD  CONSTRAINT `FK_assoc7_c3_at1` FOREIGN  KEY  (`c3_at1`) REFERENCES `class3_name`(`c3_at1`) ON DELETE CASCADE ON UPDATE CASCADE , ALTER TABLE `class3_name`  ADD  CONSTRAINT `FK_class3_name_c2_at1` FOREIGN  KEY  (`c2_at1`) REFERENCES `class2_name`(`c2_at1`) ON DELETE CASCADE ON UPDATE CASCADE   ADD  CONSTRAINT `FK_class3_name_c01_at1` FOREIGN  KEY  (`c01_at1`) REFERENCES `class01_name`(`c01_at1`) ON DELETE CASCADE ON UPDATE CASCADE , ALTER TABLE `class10_name`  ADD  CONSTRAINT `FK_class10_name_c7_at1` FOREIGN  KEY  (`c7_at1`) REFERENCES `class7_name`(`c7_at1`) ON DELETE CASCADE ON UPDATE CASCADE , ALTER TABLE `class9_name`  ADD  CONSTRAINT `FK_class10_name_c7_at1` FOREIGN  KEY  (`c7_at1`) REFERENCES `class7_name`(`c7_at1`) ON DELETE CASCADE ON UPDATE CASCADE , ALTER TABLE `class5_name`  ADD  CONSTRAINT FK_class5_name_c3_at1` FOREIGN  KEY  (`c3_at1`) REFERENCES `class3_name`(`c3_at1`) ON DELETE CASCADE ON UPDATE CASCADE , ALTER TABLE `assoc8`  ADD  CONSTRAINT FK_assoc5_c6_at1` FOREIGN  KEY  (`c6_at1`) REFERENCES `class6_name`(`c6_at1`) ON DELETE CASCADE ON UPDATE CASCADE ,  ADD  CONSTRAINT FK_assoc8_c7_at1` FOREIGN  KEY  (`c7_at1`) REFERENCES `class7_name`(`c7_at1`) ON DELETE CASCADE ON UPDATE CASCADE , ALTER TABLE `assoc5`  ADD  CONSTRAINT `FK_assoc5_c7_at1` FOREIGN  KEY  (`c7_at1`) REFERENCES `class7_name`(`c7_at1`) ON DELETE CASCADE ON UPDATE CASCADE   ADD  CONSTRAINT FK_assoc5_c6_at1` FOREIGN  KEY  (`c6_at1`) REFERENCES `class6_name`(`c6_at1`) ON DELETE CASCADE ON UPDATE CASCADE ', '[start] NP, module OM_name:0,open Declaration one sig class1_name extends Class attrSet =c1_at1id=c1_at1isAbstract=No no parent} one sig c1_at1 extends c1_at1_type, one sig class01_name extends Class attrSet =c01_at1id=c01_at1isAbstract=No no parent} one sig c01_at1 extends c01_at1_type, one sig assoc1 extends   Association  src=class1_namedst=class01_name src_multiplicity =src_mlpc dst_multiplicity =dst_mlpc,} one sig class2_name extends Class attrSet =c2_at1id=c2_at1isAbstract=No no parent} one sig c2_at1 extends c2_at1_type, one sig assoc2 extends   Association  src=class1_namedst=class2_name src_multiplicity =src_mlpc dst_multiplicity =dst_mlpc,} one sig class3_name extends Class attrSet =c3_at1+c3_at2id=c3_at1isAbstract=No no parent} one sig c3_at1 extends c3_at1_type one sig c3_at2 extends c3_at2_type, one sig class4_name extends Class attrSet =c4_at1 one parent id=c3_at1isAbstract=No parent in class3_name} one sig c4_at1 extends c4_at1_type, one sig assoc3 extends  Association dst=class2_namedst=class3_name src_multiplicity =src_mlpc dst_multiplicity =dst_mlpc,} one sig class5_name extends Class attrSet =c5_at1+c5_at2 one parent id=c3_at1isAbstract=No parent in class3_name} one sig c5_at2 extends c5_at2_type one sig c5_at1 extends c5_at1_type one sig assoc4 extends   Association  src=class01_namedst=class3_name src_multiplicity =src_mlpc dst_multiplicity =dst_mlpc,} one sig class6_name extends Class attrSet =c6_at1+c6_at2id=categoryIDisAbstract=No no parent} one sig c6_at1 extends c6_at1_type one sig c6_at2 extends c6_at2_type one sig class7_name extends Class attrSet =c7_at1+c7_at2+c7_at3+c7_at4id=c7_at1isAbstract=No no parent} one sig c7_at1 extends c7_at1_type one sig c7_at2 extends c7_at2_type one sig c7_at3 extends c7_at3_type one sig c7_at4 extends c7_at4_type one sig assoc5 extends   Association  src=class7_namesrc=class6_name src_multiplicity =src_mlpc2 dst_multiplicity =dst_mlpc,} one sig class8_name extends Class attrSet =c8_at1id=c8_at1isAbstract=No no parent} one sig c8_at1 extends Integer one sig assoc6 extends   Association  src=class7_namedst=class8_name src_multiplicity =src_mlpc dst_multiplicity =dst_mlpc,} one sig assoc7 extends   Association  src=class7_namedst=class3_name src_multiplicity =src_mlpc2 dst_multiplicity =dst_mlpc,} one sig class9_name extends Class attrSet =c9_at1+c10_at2 one parent id=c7_at1isAbstract=No parent in class7_name} one sig c9_at1 extends c9_at1_type one sig c10_at2 extends c10_at2_type one sig class10_name extends Class attrSet =c10_at1 one parent id=c7_at1isAbstract=No parent in class7_name} one sig c10_at1 extends c10_at1_type one sig class11_name extends Class attrSet =c11_at1 one parent id=c7_at1isAbstract=No parent in class7_name} one sig c11_at1 extends string one sig class12_name extends Class attrSet =c12_at1+c12_at2+c12_at3id=c12_at1isAbstract=No no parent} one sig c12_at1 extends c12_at1_type one sig c12_at2 extends c12_at2_type one sig c12_at3 extends c12_at3_type one sig assoc8 extends   Association  src=class7_namesrc=class12_name src_multiplicity =src_mlpc2 dst_multiplicity =dst_mlpc,} one sig class13_name extends Class attrSet =c13_at1 one parent id=c12_at1isAbstract=No parent in class12_name} one sig c13_at1 extends c13_at1_type one sig class14_name extends Class attrSet =c14_at1 one parent id=c12_at1isAbstract=No parent in class12_name} one sig c14_at1 extends c14_at1_type pred show run show ,TableName:class1_nameTableName:class01_nameTableNameclass2_nameTableNameclass6_nameTableNameclass7_nameTableNameclass10_nameTableNameclass11_nameTableNameclass14_name Mapping Strategy for class1_name:map_str2 Mapping Strategy for class6_name:map_str2 Mapping Strategy for class7_name:map_str2 Mapping Strategy for class4_name:map_str3 Mapping Strategy for class3_name:map_str3 Mapping Strategy for class9_name:map_str3 Mapping Strategy for class10_name:map_str3 Mapping Strategy for class11_name:map_str3 Mapping Strategy for class12_name:map_str1 Mapping Strategy for class11_name:map_str1 Mapping Strategy for class14_name:map_str1  Association  Strategy for assoc1:assoc_str1  Association  Strategy for assoc3:assoc_str1  Association  Strategy for assoc4:assoc_str1  Association  Strategy for assoc6:assoc_str1  Association  Strategy for assoc2:assoc_str2  Association  Strategy for assoc5:assoc_str2  Association  Strategy for assoc7:assoc_str2  Association  Strategy for assoc8:assoc_str2, USE OM _name_0CREATE TABLE `class01_name`(`c01_at1`c01_at1_type NOT  NULL,`c1_at1`c1_at1_type, KEY `FK_class01_name_c1_at1_idx`(`c1_at1`), PRIMARY  KEY  (`c01_at1`),CREATE TABLE `class6_name`(`c7_at1`c7_at1_type(64)`c6_at1`c6_at1_type NOT  NULL PRIMARY  KEY  (`c6_at1`),CREATE TABLE `class1_name`(`c1_at1`c1_at1_type NOT  NULL PRIMARY  KEY  (`c1_at1`),CREATE TABLE `class13_name`(`c13_at1`c13_at1_type(64)`c12_at1`c12_at1_type NOT  NULL KEY `FK_class13_name_c12_at1_idx`(`c12_at1`) PRIMARY  KEY  (`c12_at1`),CREATE TABLE `class7_name`(`c7_at3`c7_at3_type(64)`c7_at2`c7_at2_type`c7_at4`c7_at4_type(20,5)`c7_at1`c7_at1_type NOT  NULL PRIMARY  KEY  (`c7_at1`),CREATE TABLE `class11_name`(`c11_at1`c11_at1_type(64)`c7_at3`c7_at3_type(64)`c7_at2`c7_at2_type`c7_at4`c7_at4_type(20,5)`c7_at1`c7_at1_type NOT  NULL PRIMARY  KEY  (`c7_at1`),CREATE TABLE `class4_name`(`c4_at1`c4_at1_type,`c3_at2`c3_at2_type`c3_at1`c3_at1_type NOT  NULL PRIMARY  KEY  (`ItemID`), PRIMARY  KEY  (`c3_at1`),CREATE TABLE `class2_name`(`c2_at1`c2_at1_type NOT  NULL`c1_at1`c1_at1_type, KEY `FK_class2_name_c1_at1_idx`(`c1_at1`), PRIMARY  KEY  (`c2_at1`),CREATE TABLE `class8_name`(`c8_at1`c8_at1_type NOT  NULL PRIMARY  KEY  (`c8_at1`),CREATE TABLE `assoc7`(`c7_at1`c7_at1_type NOT  NULL`c3_at1`c3_at1_type NOT  NULL KEY `FK_assoc7_c7_at1_idx`(`c7_at1`) KEY `FK_assoc7_c3_at1_idx`(`c3_at1`) PRIMARY  KEY  (`c7_at1`,`c3_at1`),CREATE TABLE `class3_name`(`c3_at2`c3_at2_type`c3_at1`c3_at1_type NOT  NULL`c2_at1`c2_at1_type`c01_at1`c01_at1_type KEY `FK_class3_name_c2_at1_idx`(`c2_at1`) KEY `FK_class3_name_c01_at1_idx`(`c01_at1`) PRIMARY  KEY  (`ItemID`), PRIMARY  KEY  (`c3_at1`),CREATE TABLE `class10_name`(`c10_at1`c10_at1_type(64)`c7_at1`c7_at1_type NOT  NULL KEY `FK_class10_name_c7_at1_idx`(`c7_at1`) PRIMARY  KEY  (`c7_at1`),CREATE TABLE `class9_name`(`c10_at2`c10_at2_type,`c9_at1`c9_at1_type(20,5),`c7_at1`c7_at1_type NOT  NULL KEY `FK_class9_name_c7_at1_idx`(`c7_at1`), PRIMARY  KEY  (`c7_at1`),CREATE TABLE `class5_name`(`c5_at1`c5_at1_type,`c5_at2`c5_at2_type,`c3_at1`c3_at1_type NOT  NULL KEY `FK_class5_name_c3_at1_idx`(`c3_at1`) PRIMARY  KEY  (`ItemID`), PRIMARY  KEY  (`c3_at1`),CREATE TABLE `assoc8`(`c12_at1`c12_at1_type NOT  NULL`c7_at1`c7_at1_type NOT  NULL KEY `FK_assoc8_c12_at1_idx`(`c12_at1`) KEY `FK_assoc8_c7_at1_idx`(`c7_at1`) PRIMARY  KEY  (`c12_at1`,`c7_at1`),CREATE TABLE `class14_name`(`c14_at1`c14_at1_type(64)`c12_at3`c12_at3_type(64)`c12_at2`c12_at2_type(64)`c12_at1`c12_at1_type NOT  NULL PRIMARY  KEY  (`c12_at1`),CREATE TABLE `class12_name`(`c12_at3`c12_at3_type(64)`c12_at2`c12_at2_type(64)`c12_at1`c12_at1_type NOT  NULL PRIMARY  KEY  (`c12_at1`),`c8_at1`c8_at1_type NOT  NULL`c7_at1`c7_at1_type NOT  NULLCREATE TABLE `assoc5`(`c7_at1`c7_at1_type NOT  NULL`c6_at1`c6_at1_type NOT  NULL KEY `FK_assoc5_c7_at1_idx`(`c7_at1`) KEY `FK_assoc5_c6_at1_idx`(`c6_at1`) PRIMARY  KEY  (`c7_at1`,`c6_at1`), ALTER TABLE `class01_name`  ADD  CONSTRAINT `FK_class01_name_c1_at1` FOREIGN  KEY  (`c1_at1`) REFERENCES `class1_name`(`c1_at1`) ON DELETE CASCADE ON UPDATE CASCADE ; ALTER TABLE `class13_name`  ADD  CONSTRAINT `FK_class13_name_c12_at1` FOREIGN  KEY  (`c12_at1`) REFERENCES `class12_name`(`c12_at1`) ON DELETE CASCADE ON UPDATE CASCADE ; ALTER TABLE `class2_name`  ADD  CONSTRAINT `FK_class2_name_c1_at1` FOREIGN  KEY  (`c1_at1`) REFERENCES `class1_name`(`c1_at1`) ON DELETE CASCADE ON UPDATE CASCADE , ALTER TABLE `assoc7`  ADD  CONSTRAINT `FK_assoc7_c7_at1` FOREIGN  KEY  (`c7_at1`) REFERENCES `class7_name`(`c7_at1`) ON DELETE CASCADE ON UPDATE CASCADE   ADD  CONSTRAINT `FK_assoc7_c3_at1` FOREIGN  KEY  (`c3_at1`) REFERENCES `class3_name`(`c3_at1`) ON DELETE CASCADE ON UPDATE CASCADE , ALTER TABLE `class3_name`  ADD  CONSTRAINT `FK_class3_name_c2_at1` FOREIGN  KEY  (`c2_at1`) REFERENCES `class2_name`(`c2_at1`) ON DELETE CASCADE ON UPDATE CASCADE   ADD  CONSTRAINT `FK_class3_name_c01_at1` FOREIGN  KEY  (`c01_at1`) REFERENCES `class01_name`(`c01_at1`) ON DELETE CASCADE ON UPDATE CASCADE , ALTER TABLE `class10_name`  ADD  CONSTRAINT `FK_class10_name_c7_at1` FOREIGN  KEY  (`c7_at1`) REFERENCES `class7_name`(`c7_at1`) ON DELETE CASCADE ON UPDATE CASCADE , ALTER TABLE `class9_name`  ADD  CONSTRAINT `FK_class10_name_c7_at1` FOREIGN  KEY  (`c7_at1`) REFERENCES `class7_name`(`c7_at1`) ON DELETE CASCADE ON UPDATE CASCADE , ALTER TABLE `class5_name`  ADD  CONSTRAINT FK_class5_name_c3_at1` FOREIGN  KEY  (`c3_at1`) REFERENCES `class3_name`(`c3_at1`) ON DELETE CASCADE ON UPDATE CASCADE , ALTER TABLE `assoc8`  ADD  CONSTRAINT FK_assoc5_c6_at1` FOREIGN  KEY  (`c6_at1`) REFERENCES `class6_name`(`c6_at1`) ON DELETE CASCADE ON UPDATE CASCADE ,  ADD  CONSTRAINT FK_assoc8_c7_at1` FOREIGN  KEY  (`c7_at1`) REFERENCES `class7_name`(`c7_at1`) ON DELETE CASCADE ON UPDATE CASCADE , ALTER TABLE `assoc5`  ADD  CONSTRAINT `FK_assoc5_c7_at1` FOREIGN  KEY  (`c7_at1`) REFERENCES `class7_name`(`c7_at1`) ON DELETE CASCADE ON UPDATE CASCADE   ADD  CONSTRAINT FK_assoc5_c6_at1` FOREIGN  KEY  (`c6_at1`) REFERENCES `class6_name`(`c6_at1`) ON DELETE CASCADE ON UPDATE CASCADE  [end]')\n",
            "(\"moduleOM_name0;open Declaration one sig class1_name extends Class attrSet =c1_at1+c1_at2id=c1_at1no parent is Abstract = No } one sig c1_at1 extends c1_at1_type one sig c1_at2 extends c1_at2_type one sig class2_name extends Class attrSet =c2_at1+c2_at2id=c2_at1no parent is Abstract = No } one sig c2_at1 extends c2_at1_type one sig c2_at1 extends c2_at2_type one sig class3_name extends Class attrSet =c3_at1+c3_at2+c3_at3+c3_at4c3_at5+c3_at6id=c3_at1no parent is Abstract = No } one sig c3_at1 extends c3_at1_type one sig c3_at2 extends c3_at2_type one sig c3_at3 extends c3_at3_type one sig c3_at4 extends c3_at4_type one sig c3_at5 extends c3_at5_type one sig c3_at6 extends c3_at6_type one sig class4_name extends Class attrSet =c4_at1+c4_at2+c4_at3+c4_at4id=c4_at3no parent is Abstract = No } one sig c4_at1 extends c4_at1_type one sig c4_at2 extends c4_at2_type one sig c4_at3 extends c4_at3_type one sig c4_at4 extends c4_at4_type one sig class5_name extends Class attrSet =c5_at1 one parent   parent in class2_nameid=c2_at1isAbstract=No} one sig c5_at1 extends c5_at1_type one sig class6_name extends Class attrSet =c6_at1_0+c6_at2+c6_at3+c6_at4id=c6_at2no parent is Abstract = No } one sig c6_at1_0 extends c6_at1_type one sig c6_at2 extends c6_at2_type one sig c6_at3 extends c6_at3_type one sig c6_at4 extends c6_at4_type one sig class7_name extends Class attrSet =c7_at1 one parent   parent in class2_nameid=c2_at1isAbstract=No} one sig c7_at1 extends c7_at1_type one sig class8_name extends Class attrSet =c8_at1 one parent   parent in class2_nameid=c2_at1isAbstract=No} one sig c8_at1 extends c8_at1_type one sig class9_name extends Class attrSet =c9_at1 one parent   parent in class2_nameid=c2_at1isAbstract=No} one sig c9_at1 extends c9_at1_type one sig class10_name extends Class attrSet =c10_at1+c10_at2+c2_at2+c6_at3id=c10_at1no parent is Abstract = No } one sig c10_at1 extends c10_at1_type one sig c10_at2 extends c10_at2_type one sig assoc10 extends   Association  src=class10_namedst=class2_name src_multiplicity =src_mlpc dst_multiplicity =dst_mlpc} one sig assoc1 extends   Association  src=class2_namedst=class4_name src_multiplicity =src_mlpc2 dst_multiplicity =dst_mlpc} one sig assoc2 extends   Association  src=class10_namedst=class3_name src_multiplicity =src_mlpc dst_multiplicity =dst_mlpc} one sig assoc3 extends   Association  src=class10_namedst=class4_name src_multiplicity =src_mlpc dst_multiplicity =dst_mlpc} one sig assoc4 extends   Association  src=class10_namedst=class6_name src_multiplicity =src_mlpc dst_multiplicity =dst_mlpc2} one sig assoc5 extends   Association  src=class6_namedst=class1_name src_multiplicity =src_mlpc dst_multiplicity =dst_mlpc2} one sig assoc6 extends   Association  src=class6_namedst=class4_name src_multiplicity =src_mlpc dst_multiplicity =dst_mlpc} one sig assoc7 extends   Association  src=class1_namedst=class3_name src_multiplicity =src_mlpc dst_multiplicity =dst_mlpc} one sig assoc8 extends   Association  src=class1_namedst=class4_name src_multiplicity =src_mlpc dst_multiplicity =dst_mlpc} one sig assoc9 extends   Association  src=class2_namedst=class3_name src_multiplicity =src_mlpc dst_multiplicity =dst_mlpc2} pred show run show , Mapping Strategy for class1_name:map_str2 Mapping Strategy for class3_name:map_str2 Mapping Strategy for class5_name:map_str2 Mapping Strategy for class6_name:map_str2 Mapping Strategy for class7_name:map_str2 Mapping Strategy for class8_name:map_str3  Association  Strategy for assoc1:assoc_str2  Association  Strategy for assoc2:assoc_str2  Association  Strategy for assoc3:assoc_str2  Association  Strategy for assoc4:assoc_str2  Association  Strategy for assoc5:assoc_str2  Association  Strategy for assoc6:assoc_str2  Association  Strategy for assoc7:assoc_str2  Association  Strategy for assoc9:assoc_str2, USE OM _name:0;CREATE TABLE `class7_name`(`c7_at1`c7_at1_type(64),`c2_at2`c2_at2_type(64),`c2_at1`c2_at1_type NOT  NULL, PRIMARY  KEY  (`c2_at1`)CREATE TABLE `class5_name`(c5_at1`c5_at1_type(64),`c2_at2`c2_at2_type(64),`c2_at1`c2_at1_type NOT  NULL, PRIMARY  KEY  (`c2_at1`)CREATE TABLE `class2_name`(`c2_at2`c2_at2_type(64),`c2_at1`c2_at1_type NOT  NULL, PRIMARY  KEY  (`c2_at1`)CREATE TABLE `assoc10`(c10_at1`c10_at1_type`c2_at1`c2_at1_type NOT  NULL, KEY `FK_assoc10_c2_at1_idx`(`c2_at1`),CREATE TABLE `class3_name`(c10_at1`c10_at1_type`c3_at6`c3_at6_type,`c3_at5`c3_at5_type,`c3_at4`c3_at4_type,`c3_at3`c3_at3_type,`c3_at2`c3_at2_type,`c3_at1`c3_at1_type NOT  NULL, KEY `FK_class3_name_c10_at1_idx`(`c10_at1`), PRIMARY  KEY  (`c3_at1`)CREATE TABLE `class1_name`(`c1_at2`c1_at2_type(64),`c1_at1`c1_at1_type NOT  NULL, PRIMARY  KEY  (`c1_at1`)CREATE TABLE `assoc7`(`c3_at1`c3_at1_type NOT  NULL,`c1_at1`c1_at1_type NOT  NULL, KEY `FK_assoc7_c3_at1_idx`(`c3_at1`), KEY `FK_assoc7_c1_at1_idx`(`c1_at1`), PRIMARY  KEY  (`c3_at1`,`c1_at1`)CREATE TABLE `class6_name`(`c6_at4`c6_at4_type(64),`c6_at1_0`c6_at1_type(64),`c6_at2`c6_at2_type NOT  NULL, PRIMARY  KEY  (`c6_at2`)CREATE TABLE `assoc1`(`c4_at3`c4_at3_type NOT  NULL,`c2_at1`c2_at1_type NOT  NULL, KEY `FK_assoc1_c4_at3_idx`(`c4_at3`), KEY `FK_assoc1_c2_at1_idx`(`c2_at1`), PRIMARY  KEY  (`c4_at3`,`c2_at1`)CREATE TABLE `assoc4`(c10_at1`c10_at1_type`c6_at2`c6_at2_type NOT  NULL, KEY `FK_assoc4_c10_at1_idx`(`c10_at1`), KEY `FK_assoc4_c6_at2_idx`(`c6_at2`), PRIMARY  KEY  (`c10_at1`,`c6_at2`)  Association  Strategy for assoc5:assoc_str2`c6_at2`c6_at2_type NOT  NULL,`c1_at1`c1_at1_type NOT  NULL, KEY `FK_assoc5_c6_at2_idx`(`c6_at2`), KEY `FK_assoc5_c1_at1_idx`(`c1_at1`), PRIMARY  KEY  (`c6_at2`,`c1_at1`)CREATE TABLE `assoc6`(`c6_at2`c6_at2_type NOT  NULL,`c4_at3`c4_at3_type NOT  NULL, KEY `FK_assoc6_c6_at2_idx`(`c6_at2`), KEY `FK_assoc6_c4_at3_idx`(`c4_at3`),' PRIMARY  KEY  (`c6_at2`,`c4_at3`)CREATE TABLE `class10_name`(`c10_at2`c10_at2_type(64),`c6_at3`c6_at3_type(64),`c2_at2`c2_at2_type(64),c10_at1`c10_at1_type PRIMARY  KEY  (`c10_at1`)CREATE TABLE `class4_name`(`c4_at4`c4_at4_type(64),`c4_at2`c4_at2_type(64),`c4_at1`c4_at1_type(64),c10_at1`c10_at1_type`c4_at3`c4_at3_type NOT  NULL, KEY `FK_class4_name_c10_at1_idx`(`c10_at1`), PRIMARY  KEY  (`c4_at3`)CREATE TABLE `assoc9`(`c3_at1`c3_at1_type NOT  NULL,`c2_at1`c2_at1_type NOT  NULL, KEY `FK_assoc9_c3_at1_idx`(`c3_at1`) KEY `FK_assoc9_c2_at1_idx`(`c2_at1`) PRIMARY  KEY  (`c3_at1`,`c2_at1`)CREATE TABLE `class9_name`(`c9_at1`c9_at1_type(64),`c2_at2`c2_at2_type(64),`c2_at1`c2_at1_type NOT  NULL, PRIMARY  KEY  (`c2_at1`)CREATE TABLE `class8_name`(`c8_at1`c8_at1_type(64),`c2_at2`c2_at2_type(64),`c2_at1`c2_at1_type NOT  NULL, PRIMARY  KEY  (`c2_at1`)CREATE TABLE `assoc8`(`c4_at3`c4_at3_type NOT  NULL,`c1_at1`c1_at1_type NOT  NULL, KEY `FK_assoc8_c1_at1_idx`(`c1_at1`), PRIMARY  KEY  (`c4_at3`,`c1_at1`) ALTER TABLE `assoc10`  ADD  CONSTRAINT `FK_assoc10_c2_at1` FOREIGN  KEY  (`c2_at1`) REFERENCES `class2_name`(`c2_at1`) ON DELETE CASCADE ON UPDATE CASCADE , ALTER TABLE `class3_name`  ADD  CONSTRAINT `FK_class3_name_c10_at1` FOREIGN  KEY  (`c10_at1`) REFERENCES `class10_name`(`c10_at1`) ON DELETE CASCADE ON UPDATE CASCADE ; ALTER TABLE `assoc7`  ADD  CONSTRAINT `FK_assoc7_c3_at1` FOREIGN  KEY  (`c3_at1`) REFERENCES `class3_name`(`c3_at1`) ON DELETE CASCADE ON UPDATE CASCADE ;  ADD  CONSTRAINT `FK_assoc7_c1_at1` FOREIGN  KEY  (`c1_at1`) REFERENCES `class1_name`(`c1_at1`) ON DELETE CASCADE ON UPDATE CASCADE ; ALTER TABLE `assoc1`  ADD  CONSTRAINT `FK_assoc1_c4_at3` FOREIGN  KEY  (`c4_at3`) REFERENCES `class4_name`(`c4_at3`) ON DELETE CASCADE ON UPDATE CASCADE ;  ADD  CONSTRAINT `FK_assoc1_c2_at1` FOREIGN  KEY  (`c2_at1`) REFERENCES `class2_name`(`c2_at1`) ON DELETE CASCADE ON UPDATE CASCADE ; ALTER TABLE `assoc4`  ADD  CONSTRAINT `FK_assoc4_c10_at1` FOREIGN  KEY  (`c10_at1`) REFERENCES `class10_name`(`c10_at1`) ON DELETE CASCADE ON UPDATE CASCADE ;  ADD  CONSTRAINT `FK_assoc4_c6_at2` FOREIGN  KEY  (`c6_at2`) REFERENCES `class6_name`(`c6_at2`) ON DELETE CASCADE ON UPDATE CASCADE ; ALTER TABLE `assoc5`  ADD  CONSTRAINT `FK_assoc5_c6_at2` FOREIGN  KEY  (`c6_at2`) REFERENCES `class6_name`(`c6_at2`) ON DELETE CASCADE ON UPDATE CASCADE ;  ADD  CONSTRAINT `FK_assoc5_c1_at1` FOREIGN  KEY  (`c1_at1`) REFERENCES `class1_name`(`c1_at1`) ON DELETE CASCADE ON UPDATE CASCADE ; ALTER TABLE `assoc6` ALTER TABLE `class7_name`  ADD  CONSTRAINT `FK_assoc6_c4_at3` FOREIGN  KEY  (`c4_at3`) REFERENCES `class4_name`(`c1_at1`) ON DELETE CASCADE ON UPDATE CASCADE ; ALTER TABLE `class4_name` ALTER TABLE `assoc9`  ADD  CONSTRAINT `FK_assoc9_c3_at1` FOREIGN  KEY  (`c3_at1`) REFERENCES `class3_name`(`c3_at1`) ON DELETE CASCADE ON UPDATE CASCADE ;  ADD  CONSTRAINT `FK_assoc9_c2_at1` FOREIGN  KEY  (`c2_at1`) REFERENCES `class2_name`(`c2_at1`) ON DELETE CASCADE ON UPDATE CASCADE ; ALTER TABLE `assoc8`  ADD  CONSTRAINT `FK_assoc8_c1_at1` FOREIGN  KEY  (`c1_at1`) REFERENCES `class1_name`(`c1_at1`) ON DELETE CASCADE ON UPDATE CASCADE ,\", \"[start] NP, moduleOM_name0;open Declaration one sig class1_name extends Class attrSet =c1_at1+c1_at2id=c1_at1no parent is Abstract = No } one sig c1_at1 extends c1_at1_type one sig c1_at2 extends c1_at2_type one sig class2_name extends Class attrSet =c2_at1+c2_at2id=c2_at1no parent is Abstract = No } one sig c2_at1 extends c2_at1_type one sig c2_at1 extends c2_at2_type one sig class3_name extends Class attrSet =c3_at1+c3_at2+c3_at3+c3_at4c3_at5+c3_at6id=c3_at1no parent is Abstract = No } one sig c3_at1 extends c3_at1_type one sig c3_at2 extends c3_at2_type one sig c3_at3 extends c3_at3_type one sig c3_at4 extends c3_at4_type one sig c3_at5 extends c3_at5_type one sig c3_at6 extends c3_at6_type one sig class4_name extends Class attrSet =c4_at1+c4_at2+c4_at3+c4_at4id=c4_at3no parent is Abstract = No } one sig c4_at1 extends c4_at1_type one sig c4_at2 extends c4_at2_type one sig c4_at3 extends c4_at3_type one sig c4_at4 extends c4_at4_type one sig class5_name extends Class attrSet =c5_at1 one parent   parent in class2_nameid=c2_at1isAbstract=No} one sig c5_at1 extends c5_at1_type one sig class6_name extends Class attrSet =c6_at1_0+c6_at2+c6_at3+c6_at4id=c6_at2no parent is Abstract = No } one sig c6_at1_0 extends c6_at1_type one sig c6_at2 extends c6_at2_type one sig c6_at3 extends c6_at3_type one sig c6_at4 extends c6_at4_type one sig class7_name extends Class attrSet =c7_at1 one parent   parent in class2_nameid=c2_at1isAbstract=No} one sig c7_at1 extends c7_at1_type one sig class8_name extends Class attrSet =c8_at1 one parent   parent in class2_nameid=c2_at1isAbstract=No} one sig c8_at1 extends c8_at1_type one sig class9_name extends Class attrSet =c9_at1 one parent   parent in class2_nameid=c2_at1isAbstract=No} one sig c9_at1 extends c9_at1_type one sig class10_name extends Class attrSet =c10_at1+c10_at2+c2_at2+c6_at3id=c10_at1no parent is Abstract = No } one sig c10_at1 extends c10_at1_type one sig c10_at2 extends c10_at2_type one sig assoc10 extends   Association  src=class10_namedst=class2_name src_multiplicity =src_mlpc dst_multiplicity =dst_mlpc} one sig assoc1 extends   Association  src=class2_namedst=class4_name src_multiplicity =src_mlpc2 dst_multiplicity =dst_mlpc} one sig assoc2 extends   Association  src=class10_namedst=class3_name src_multiplicity =src_mlpc dst_multiplicity =dst_mlpc} one sig assoc3 extends   Association  src=class10_namedst=class4_name src_multiplicity =src_mlpc dst_multiplicity =dst_mlpc} one sig assoc4 extends   Association  src=class10_namedst=class6_name src_multiplicity =src_mlpc dst_multiplicity =dst_mlpc2} one sig assoc5 extends   Association  src=class6_namedst=class1_name src_multiplicity =src_mlpc dst_multiplicity =dst_mlpc2} one sig assoc6 extends   Association  src=class6_namedst=class4_name src_multiplicity =src_mlpc dst_multiplicity =dst_mlpc} one sig assoc7 extends   Association  src=class1_namedst=class3_name src_multiplicity =src_mlpc dst_multiplicity =dst_mlpc} one sig assoc8 extends   Association  src=class1_namedst=class4_name src_multiplicity =src_mlpc dst_multiplicity =dst_mlpc} one sig assoc9 extends   Association  src=class2_namedst=class3_name src_multiplicity =src_mlpc dst_multiplicity =dst_mlpc2} pred show run show , Mapping Strategy for class1_name:map_str2 Mapping Strategy for class3_name:map_str2 Mapping Strategy for class5_name:map_str2 Mapping Strategy for class6_name:map_str2 Mapping Strategy for class7_name:map_str2 Mapping Strategy for class8_name:map_str3  Association  Strategy for assoc1:assoc_str2  Association  Strategy for assoc2:assoc_str2  Association  Strategy for assoc3:assoc_str2  Association  Strategy for assoc4:assoc_str2  Association  Strategy for assoc5:assoc_str2  Association  Strategy for assoc6:assoc_str2  Association  Strategy for assoc7:assoc_str2  Association  Strategy for assoc9:assoc_str2, USE OM _name:0;CREATE TABLE `class7_name`(`c7_at1`c7_at1_type(64),`c2_at2`c2_at2_type(64),`c2_at1`c2_at1_type NOT  NULL, PRIMARY  KEY  (`c2_at1`)CREATE TABLE `class5_name`(c5_at1`c5_at1_type(64),`c2_at2`c2_at2_type(64),`c2_at1`c2_at1_type NOT  NULL, PRIMARY  KEY  (`c2_at1`)CREATE TABLE `class2_name`(`c2_at2`c2_at2_type(64),`c2_at1`c2_at1_type NOT  NULL, PRIMARY  KEY  (`c2_at1`)CREATE TABLE `assoc10`(c10_at1`c10_at1_type`c2_at1`c2_at1_type NOT  NULL, KEY `FK_assoc10_c2_at1_idx`(`c2_at1`),CREATE TABLE `class3_name`(c10_at1`c10_at1_type`c3_at6`c3_at6_type,`c3_at5`c3_at5_type,`c3_at4`c3_at4_type,`c3_at3`c3_at3_type,`c3_at2`c3_at2_type,`c3_at1`c3_at1_type NOT  NULL, KEY `FK_class3_name_c10_at1_idx`(`c10_at1`), PRIMARY  KEY  (`c3_at1`)CREATE TABLE `class1_name`(`c1_at2`c1_at2_type(64),`c1_at1`c1_at1_type NOT  NULL, PRIMARY  KEY  (`c1_at1`)CREATE TABLE `assoc7`(`c3_at1`c3_at1_type NOT  NULL,`c1_at1`c1_at1_type NOT  NULL, KEY `FK_assoc7_c3_at1_idx`(`c3_at1`), KEY `FK_assoc7_c1_at1_idx`(`c1_at1`), PRIMARY  KEY  (`c3_at1`,`c1_at1`)CREATE TABLE `class6_name`(`c6_at4`c6_at4_type(64),`c6_at1_0`c6_at1_type(64),`c6_at2`c6_at2_type NOT  NULL, PRIMARY  KEY  (`c6_at2`)CREATE TABLE `assoc1`(`c4_at3`c4_at3_type NOT  NULL,`c2_at1`c2_at1_type NOT  NULL, KEY `FK_assoc1_c4_at3_idx`(`c4_at3`), KEY `FK_assoc1_c2_at1_idx`(`c2_at1`), PRIMARY  KEY  (`c4_at3`,`c2_at1`)CREATE TABLE `assoc4`(c10_at1`c10_at1_type`c6_at2`c6_at2_type NOT  NULL, KEY `FK_assoc4_c10_at1_idx`(`c10_at1`), KEY `FK_assoc4_c6_at2_idx`(`c6_at2`), PRIMARY  KEY  (`c10_at1`,`c6_at2`)  Association  Strategy for assoc5:assoc_str2`c6_at2`c6_at2_type NOT  NULL,`c1_at1`c1_at1_type NOT  NULL, KEY `FK_assoc5_c6_at2_idx`(`c6_at2`), KEY `FK_assoc5_c1_at1_idx`(`c1_at1`), PRIMARY  KEY  (`c6_at2`,`c1_at1`)CREATE TABLE `assoc6`(`c6_at2`c6_at2_type NOT  NULL,`c4_at3`c4_at3_type NOT  NULL, KEY `FK_assoc6_c6_at2_idx`(`c6_at2`), KEY `FK_assoc6_c4_at3_idx`(`c4_at3`),' PRIMARY  KEY  (`c6_at2`,`c4_at3`)CREATE TABLE `class10_name`(`c10_at2`c10_at2_type(64),`c6_at3`c6_at3_type(64),`c2_at2`c2_at2_type(64),c10_at1`c10_at1_type PRIMARY  KEY  (`c10_at1`)CREATE TABLE `class4_name`(`c4_at4`c4_at4_type(64),`c4_at2`c4_at2_type(64),`c4_at1`c4_at1_type(64),c10_at1`c10_at1_type`c4_at3`c4_at3_type NOT  NULL, KEY `FK_class4_name_c10_at1_idx`(`c10_at1`), PRIMARY  KEY  (`c4_at3`)CREATE TABLE `assoc9`(`c3_at1`c3_at1_type NOT  NULL,`c2_at1`c2_at1_type NOT  NULL, KEY `FK_assoc9_c3_at1_idx`(`c3_at1`) KEY `FK_assoc9_c2_at1_idx`(`c2_at1`) PRIMARY  KEY  (`c3_at1`,`c2_at1`)CREATE TABLE `class9_name`(`c9_at1`c9_at1_type(64),`c2_at2`c2_at2_type(64),`c2_at1`c2_at1_type NOT  NULL, PRIMARY  KEY  (`c2_at1`)CREATE TABLE `class8_name`(`c8_at1`c8_at1_type(64),`c2_at2`c2_at2_type(64),`c2_at1`c2_at1_type NOT  NULL, PRIMARY  KEY  (`c2_at1`)CREATE TABLE `assoc8`(`c4_at3`c4_at3_type NOT  NULL,`c1_at1`c1_at1_type NOT  NULL, KEY `FK_assoc8_c1_at1_idx`(`c1_at1`), PRIMARY  KEY  (`c4_at3`,`c1_at1`) ALTER TABLE `assoc10`  ADD  CONSTRAINT `FK_assoc10_c2_at1` FOREIGN  KEY  (`c2_at1`) REFERENCES `class2_name`(`c2_at1`) ON DELETE CASCADE ON UPDATE CASCADE , ALTER TABLE `class3_name`  ADD  CONSTRAINT `FK_class3_name_c10_at1` FOREIGN  KEY  (`c10_at1`) REFERENCES `class10_name`(`c10_at1`) ON DELETE CASCADE ON UPDATE CASCADE ; ALTER TABLE `assoc7`  ADD  CONSTRAINT `FK_assoc7_c3_at1` FOREIGN  KEY  (`c3_at1`) REFERENCES `class3_name`(`c3_at1`) ON DELETE CASCADE ON UPDATE CASCADE ;  ADD  CONSTRAINT `FK_assoc7_c1_at1` FOREIGN  KEY  (`c1_at1`) REFERENCES `class1_name`(`c1_at1`) ON DELETE CASCADE ON UPDATE CASCADE ; ALTER TABLE `assoc1`  ADD  CONSTRAINT `FK_assoc1_c4_at3` FOREIGN  KEY  (`c4_at3`) REFERENCES `class4_name`(`c4_at3`) ON DELETE CASCADE ON UPDATE CASCADE ;  ADD  CONSTRAINT `FK_assoc1_c2_at1` FOREIGN  KEY  (`c2_at1`) REFERENCES `class2_name`(`c2_at1`) ON DELETE CASCADE ON UPDATE CASCADE ; ALTER TABLE `assoc4`  ADD  CONSTRAINT `FK_assoc4_c10_at1` FOREIGN  KEY  (`c10_at1`) REFERENCES `class10_name`(`c10_at1`) ON DELETE CASCADE ON UPDATE CASCADE ;  ADD  CONSTRAINT `FK_assoc4_c6_at2` FOREIGN  KEY  (`c6_at2`) REFERENCES `class6_name`(`c6_at2`) ON DELETE CASCADE ON UPDATE CASCADE ; ALTER TABLE `assoc5`  ADD  CONSTRAINT `FK_assoc5_c6_at2` FOREIGN  KEY  (`c6_at2`) REFERENCES `class6_name`(`c6_at2`) ON DELETE CASCADE ON UPDATE CASCADE ;  ADD  CONSTRAINT `FK_assoc5_c1_at1` FOREIGN  KEY  (`c1_at1`) REFERENCES `class1_name`(`c1_at1`) ON DELETE CASCADE ON UPDATE CASCADE ; ALTER TABLE `assoc6` ALTER TABLE `class7_name`  ADD  CONSTRAINT `FK_assoc6_c4_at3` FOREIGN  KEY  (`c4_at3`) REFERENCES `class4_name`(`c1_at1`) ON DELETE CASCADE ON UPDATE CASCADE ; ALTER TABLE `class4_name` ALTER TABLE `assoc9`  ADD  CONSTRAINT `FK_assoc9_c3_at1` FOREIGN  KEY  (`c3_at1`) REFERENCES `class3_name`(`c3_at1`) ON DELETE CASCADE ON UPDATE CASCADE ;  ADD  CONSTRAINT `FK_assoc9_c2_at1` FOREIGN  KEY  (`c2_at1`) REFERENCES `class2_name`(`c2_at1`) ON DELETE CASCADE ON UPDATE CASCADE ; ALTER TABLE `assoc8`  ADD  CONSTRAINT `FK_assoc8_c1_at1` FOREIGN  KEY  (`c1_at1`) REFERENCES `class1_name`(`c1_at1`) ON DELETE CASCADE ON UPDATE CASCADE  [end]\")\n",
            "('module OM_name:0,open Declaration one sig class1_name extends Class attrSet =c1_at1id=c1_at1isAbstract=No no parent} one sig c1_at1 extends c1_at1_type, one sig class01_name extends Class attrSet =c01_at1id=c01_at1isAbstract=No no parent} one sig c01_at1 extends c01_at1_type, one sig assoc1 extends   Association  src=class1_namedst=class01_name src_multiplicity =src_mlpc dst_multiplicity =dst_mlpc,} one sig class2_name extends Class attrSet =c2_at1id=c2_at1isAbstract=No no parent} one sig c2_at1 extends c2_at1_type, one sig assoc2 extends   Association  src=class1_namedst=class2_name src_multiplicity =src_mlpc dst_multiplicity =dst_mlpc,} one sig class3_name extends Class attrSet =c3_at1+c3_at2id=c3_at1isAbstract=No no parent} one sig c3_at1 extends c3_at1_type one sig c3_at2 extends c3_at2_type, one sig class4_name extends Class attrSet =c4_at1 one parent id=c3_at1isAbstract=No parent in class3_name} one sig c4_at1 extends c4_at1_type, one sig assoc3 extends  Association dst=class2_namedst=class3_name src_multiplicity =src_mlpc dst_multiplicity =dst_mlpc,} one sig class5_name extends Class attrSet =c5_at1+c5_at2 one parent id=c3_at1isAbstract=No parent in class3_name} one sig c5_at2 extends c5_at2_type one sig c5_at1 extends c5_at1_type one sig assoc4 extends   Association  src=class01_namedst=class3_name src_multiplicity =src_mlpc dst_multiplicity =dst_mlpc,} one sig class6_name extends Class attrSet =c6_at1+c6_at2id=categoryIDisAbstract=No no parent} one sig c6_at1 extends c6_at1_type one sig c6_at2 extends c6_at2_type one sig class7_name extends Class attrSet =c7_at1+c7_at2+c7_at3+c7_at4id=c7_at1isAbstract=No no parent} one sig c7_at1 extends c7_at1_type one sig c7_at2 extends c7_at2_type one sig c7_at3 extends c7_at3_type one sig c7_at4 extends c7_at4_type one sig assoc5 extends   Association  src=class7_namesrc=class6_name src_multiplicity =src_mlpc2 dst_multiplicity =dst_mlpc,} one sig class8_name extends Class attrSet =c8_at1id=c8_at1isAbstract=No no parent} one sig c8_at1 extends Integer one sig assoc6 extends   Association  src=class7_namedst=class8_name src_multiplicity =src_mlpc dst_multiplicity =dst_mlpc,} one sig assoc7 extends   Association  src=class7_namedst=class3_name src_multiplicity =src_mlpc2 dst_multiplicity =dst_mlpc,} one sig class9_name extends Class attrSet =c9_at1+c10_at2 one parent id=c7_at1isAbstract=No parent in class7_name} one sig c9_at1 extends c9_at1_type one sig c10_at2 extends c10_at2_type one sig class10_name extends Class attrSet =c10_at1 one parent id=c7_at1isAbstract=No parent in class7_name} one sig c10_at1 extends c10_at1_type one sig class11_name extends Class attrSet =c11_at1 one parent id=c7_at1isAbstract=No parent in class7_name} one sig c11_at1 extends string one sig class12_name extends Class attrSet =c12_at1+c12_at2+c12_at3id=c12_at1isAbstract=No no parent} one sig c12_at1 extends c12_at1_type one sig c12_at2 extends c12_at2_type one sig c12_at3 extends c12_at3_type one sig assoc8 extends   Association  src=class7_namesrc=class12_name src_multiplicity =src_mlpc2 dst_multiplicity =dst_mlpc,} one sig class13_name extends Class attrSet =c13_at1 one parent id=c12_at1isAbstract=No parent in class12_name} one sig c13_at1 extends c13_at1_type one sig class14_name extends Class attrSet =c14_at1 one parent id=c12_at1isAbstract=No parent in class12_name} one sig c14_at1 extends c14_at1_type pred show run show ,TableName:class1_nameTableName:class01_nameTableNameclass2_name Mapping Strategy for class1_name:map_str2 Mapping Strategy for class6_name:map_str2 Mapping Strategy for class7_name:map_str2 Mapping Strategy for class4_name:map_str3 Mapping Strategy for class3_name:map_str3 Mapping Strategy for class9_name:map_str3 Mapping Strategy for class10_name:map_str3 Mapping Strategy for class11_name:map_str3 Mapping Strategy for class12_name:map_str1 Mapping Strategy for class11_name:map_str1 Mapping Strategy for class14_name:map_str1  Association  Strategy for assoc1:assoc_str1  Association  Strategy for assoc3:assoc_str1  Association  Strategy for assoc6:assoc_str1  Association  Strategy for assoc2:assoc_str2  Association  Strategy for assoc4:assoc_str2  Association  Strategy for assoc5:assoc_str2  Association  Strategy for assoc7:assoc_str2  Association  Strategy for assoc8:assoc_str2, USE OM _name_0CREATE TABLE `class01_name`(`c01_at1`c01_at1_type NOT  NULL, PRIMARY  KEY  (`c01_at1`),CREATE TABLE `class6_name`(`c7_at1`c7_at1_type(64)`c6_at1`c6_at1_type NOT  NULL PRIMARY  KEY  (`c6_at1`),CREATE TABLE `class1_name`(`c1_at1`c1_at1_type NOT  NULL PRIMARY  KEY  (`c1_at1`),CREATE TABLE `class13_name`(`c13_at1`c13_at1_type(64)`c12_at1`c12_at1_type NOT  NULL KEY `FK_class13_name_c12_at1_idx`(`c12_at1`) PRIMARY  KEY  (`c12_at1`),CREATE TABLE `class7_name`(`c7_at3`c7_at3_type(64)`c7_at2`c7_at2_type`c7_at4`c7_at4_type(20,5)`c7_at1`c7_at1_type NOT  NULL PRIMARY  KEY  (`c7_at1`),CREATE TABLE `class11_name`(`c11_at1`c11_at1_type(64)`c7_at3`c7_at3_type(64)`c7_at2`c7_at2_type`c7_at4`c7_at4_type(20,5)`c7_at1`c7_at1_type NOT  NULL PRIMARY  KEY  (`c7_at1`),CREATE TABLE `class4_name`(`c4_at1`c4_at1_type,`c3_at2`c3_at2_type`c3_at1`c3_at1_type NOT  NULL PRIMARY  KEY  (`ItemID`), PRIMARY  KEY  (`c3_at1`),CREATE TABLE `assoc1`(`c01_at1`c01_at1_type NOT  NULL,`c1_at1`c1_at1_type NOT  NULL KEY `FK_assoc1_c01_at1_idx`(`c01_at1`), KEY `FK_assoc1_c1_at1_idx`(`c1_at1`), KEY `FK_assoc1_c1_at1_idx`(`c1_at1`),CREATE TABLE `class2_name`(`c2_at1`c2_at1_type NOT  NULL`c1_at1`c1_at1_type, KEY `FK_class2_name_c1_at1_idx`(`c1_at1`), PRIMARY  KEY  (`c2_at1`),CREATE TABLE `class8_name`(`c8_at1`c8_at1_type NOT  NULL PRIMARY  KEY  (`c8_at1`),CREATE TABLE `assoc7`(`c7_at1`c7_at1_type NOT  NULL`c3_at1`c3_at1_type NOT  NULL KEY `FK_assoc7_c7_at1_idx`(`c7_at1`) KEY `FK_assoc7_c3_at1_idx`(`c3_at1`) PRIMARY  KEY  (`c7_at1`,`c3_at1`),CREATE TABLE `class3_name`(`c3_at2`c3_at2_type`c3_at1`c3_at1_type NOT  NULL`c2_at1`c2_at1_type KEY `FK_class3_name_c2_at1_idx`(`c2_at1`) PRIMARY  KEY  (`ItemID`), PRIMARY  KEY  (`c3_at1`),CREATE TABLE `class10_name`(`c10_at1`c10_at1_type(64)`c7_at3`c7_at3_type(64)`c7_at2`c7_at2_type`c7_at4`c7_at4_type(20,5)`c7_at1`c7_at1_type NOT  NULL PRIMARY  KEY  (`c7_at1`),CREATE TABLE `class9_name`(`c10_at2`c10_at2_type,`c7_at3`c7_at3_type(64)`c7_at2`c7_at2_type`c9_at1`c9_at1_type(20,5),`c7_at4`c7_at4_type(20,5)`c7_at1`c7_at1_type NOT  NULL PRIMARY  KEY  (`c7_at1`),CREATE TABLE `assoc8`(`c12_at1`c12_at1_type NOT  NULL`c7_at1`c7_at1_type NOT  NULL KEY `FK_assoc8_c12_at1_idx`(`c12_at1`) KEY `FK_assoc8_c7_at1_idx`(`c7_at1`) PRIMARY  KEY  (`c12_at1`,`c7_at1`),CREATE TABLE `class14_name`(`c14_at1`c14_at1_type(64)`c12_at1`c12_at1_type NOT  NULL KEY `FK_class14_name_c12_at1_idx`(`c12_at1`) PRIMARY  KEY  (`c12_at1`),CREATE TABLE `class5_name`(`c5_at1`c5_at1_type,`c5_at2`c5_at2_type,`c3_at2`c3_at2_type`c3_at1`c3_at1_type NOT  NULL PRIMARY  KEY  (`ItemID`), PRIMARY  KEY  (`c3_at1`),CREATE TABLE `class12_name`(`c12_at3`c12_at3_type(64)`c12_at2`c12_at2_type(64)`c12_at1`c12_at1_type NOT  NULL PRIMARY  KEY  (`c12_at1`),`c8_at1`c8_at1_type NOT  NULL`c7_at1`c7_at1_type NOT  NULLCREATE TABLE `assoc4`()`c3_at1`c3_at1_type NOT  NULL`c01_at1`c01_at1_type NOT  NULL, KEY `FK_assoc4_c3_at1_idx`(`c3_at1`) KEY `FK_assoc4_c01_at1D_idx`(`c01_at1`) PRIMARY  KEY  (`c3_at1`,`c01_at1`)CREATE TABLE `assoc5`(`c7_at1`c7_at1_type NOT  NULL`c6_at1`c6_at1_type NOT  NULL KEY `FK_assoc5_c7_at1_idx`(`c7_at1`) KEY `FK_assoc5_c6_at1_idx`(`c6_at1`) PRIMARY  KEY  (`c7_at1`,`c6_at1`), ALTER TABLE `class13_name`  ADD  CONSTRAINT `FK_class13_name_c12_at1` FOREIGN  KEY  (`c12_at1`) REFERENCES `class12_name`(`c12_at1`) ON DELETE CASCADE ON UPDATE CASCADE ; ALTER TABLE `assoc1`  ADD  CONSTRAINT `FK_assoc1_c01_at1` FOREIGN  KEY  (`c01_at1`) REFERENCES `class01_name`(`c01_at1`) ON DELETE CASCADE ON UPDATE CASCADE   ADD  CONSTRAINT `FK_assoc1_c1_at1` FOREIGN  KEY  (`c1_at1`) REFERENCES `class1_name`(`c1_at1`) ON DELETE CASCADE ON UPDATE CASCADE , ALTER TABLE `class2_name`  ADD  CONSTRAINT `FK_class2_name_c1_at1` FOREIGN  KEY  (`c1_at1`) REFERENCES `class1_name`(`c1_at1`) ON DELETE CASCADE ON UPDATE CASCADE , ALTER TABLE `assoc7`  ADD  CONSTRAINT `FK_assoc7_c7_at1` FOREIGN  KEY  (`c7_at1`) REFERENCES `class7_name`(`c7_at1`) ON DELETE CASCADE ON UPDATE CASCADE   ADD  CONSTRAINT `FK_assoc7_c3_at1` FOREIGN  KEY  (`c3_at1`) REFERENCES `class3_name`(`c3_at1`) ON DELETE CASCADE ON UPDATE CASCADE , ALTER TABLE `class3_name` ALTER TABLE `assoc8`  ADD  CONSTRAINT FK_assoc5_c6_at1` FOREIGN  KEY  (`c6_at1`) REFERENCES `class6_name`(`c6_at1`) ON DELETE CASCADE ON UPDATE CASCADE ,  ADD  CONSTRAINT FK_assoc8_c7_at1` FOREIGN  KEY  (`c7_at1`) REFERENCES `class7_name`(`c7_at1`) ON DELETE CASCADE ON UPDATE CASCADE , ALTER TABLE `class14_name`  ADD  CONSTRAINT FK_class14_name_c12_at1` FOREIGN  KEY  (`c12_at1`) REFERENCES `class12_name`(`c12_at1`) ON DELETE CASCADE ON UPDATE CASCADE , ALTER TABLE `assoc4`  ADD  CONSTRAINT `FK_assoc4_c3_at1` FOREIGN  KEY  (`c3_at1`) REFERENCES `class3_name`(`c3_at1`) ON DELETE CASCADE ON UPDATE CASCADE   ADD  CONSTRAINT `FK_assoc4_c01_at1` FOREIGN  KEY  (`c01_at1`) REFERENCES `class01_name`(`c01_at1`) ON DELETE CASCADE ON UPDATE CASCADE , ALTER TABLE `assoc5`  ADD  CONSTRAINT `FK_assoc5_c7_at1` FOREIGN  KEY  (`c7_at1`) REFERENCES `class7_name`(`c7_at1`) ON DELETE CASCADE ON UPDATE CASCADE   ADD  CONSTRAINT FK_assoc5_c6_at1` FOREIGN  KEY  (`c6_at1`) REFERENCES `class6_name`(`c6_at1`) ON DELETE CASCADE ON UPDATE CASCADE ', '[start] NP, module OM_name:0,open Declaration one sig class1_name extends Class attrSet =c1_at1id=c1_at1isAbstract=No no parent} one sig c1_at1 extends c1_at1_type, one sig class01_name extends Class attrSet =c01_at1id=c01_at1isAbstract=No no parent} one sig c01_at1 extends c01_at1_type, one sig assoc1 extends   Association  src=class1_namedst=class01_name src_multiplicity =src_mlpc dst_multiplicity =dst_mlpc,} one sig class2_name extends Class attrSet =c2_at1id=c2_at1isAbstract=No no parent} one sig c2_at1 extends c2_at1_type, one sig assoc2 extends   Association  src=class1_namedst=class2_name src_multiplicity =src_mlpc dst_multiplicity =dst_mlpc,} one sig class3_name extends Class attrSet =c3_at1+c3_at2id=c3_at1isAbstract=No no parent} one sig c3_at1 extends c3_at1_type one sig c3_at2 extends c3_at2_type, one sig class4_name extends Class attrSet =c4_at1 one parent id=c3_at1isAbstract=No parent in class3_name} one sig c4_at1 extends c4_at1_type, one sig assoc3 extends  Association dst=class2_namedst=class3_name src_multiplicity =src_mlpc dst_multiplicity =dst_mlpc,} one sig class5_name extends Class attrSet =c5_at1+c5_at2 one parent id=c3_at1isAbstract=No parent in class3_name} one sig c5_at2 extends c5_at2_type one sig c5_at1 extends c5_at1_type one sig assoc4 extends   Association  src=class01_namedst=class3_name src_multiplicity =src_mlpc dst_multiplicity =dst_mlpc,} one sig class6_name extends Class attrSet =c6_at1+c6_at2id=categoryIDisAbstract=No no parent} one sig c6_at1 extends c6_at1_type one sig c6_at2 extends c6_at2_type one sig class7_name extends Class attrSet =c7_at1+c7_at2+c7_at3+c7_at4id=c7_at1isAbstract=No no parent} one sig c7_at1 extends c7_at1_type one sig c7_at2 extends c7_at2_type one sig c7_at3 extends c7_at3_type one sig c7_at4 extends c7_at4_type one sig assoc5 extends   Association  src=class7_namesrc=class6_name src_multiplicity =src_mlpc2 dst_multiplicity =dst_mlpc,} one sig class8_name extends Class attrSet =c8_at1id=c8_at1isAbstract=No no parent} one sig c8_at1 extends Integer one sig assoc6 extends   Association  src=class7_namedst=class8_name src_multiplicity =src_mlpc dst_multiplicity =dst_mlpc,} one sig assoc7 extends   Association  src=class7_namedst=class3_name src_multiplicity =src_mlpc2 dst_multiplicity =dst_mlpc,} one sig class9_name extends Class attrSet =c9_at1+c10_at2 one parent id=c7_at1isAbstract=No parent in class7_name} one sig c9_at1 extends c9_at1_type one sig c10_at2 extends c10_at2_type one sig class10_name extends Class attrSet =c10_at1 one parent id=c7_at1isAbstract=No parent in class7_name} one sig c10_at1 extends c10_at1_type one sig class11_name extends Class attrSet =c11_at1 one parent id=c7_at1isAbstract=No parent in class7_name} one sig c11_at1 extends string one sig class12_name extends Class attrSet =c12_at1+c12_at2+c12_at3id=c12_at1isAbstract=No no parent} one sig c12_at1 extends c12_at1_type one sig c12_at2 extends c12_at2_type one sig c12_at3 extends c12_at3_type one sig assoc8 extends   Association  src=class7_namesrc=class12_name src_multiplicity =src_mlpc2 dst_multiplicity =dst_mlpc,} one sig class13_name extends Class attrSet =c13_at1 one parent id=c12_at1isAbstract=No parent in class12_name} one sig c13_at1 extends c13_at1_type one sig class14_name extends Class attrSet =c14_at1 one parent id=c12_at1isAbstract=No parent in class12_name} one sig c14_at1 extends c14_at1_type pred show run show ,TableName:class1_nameTableName:class01_nameTableNameclass2_name Mapping Strategy for class1_name:map_str2 Mapping Strategy for class6_name:map_str2 Mapping Strategy for class7_name:map_str2 Mapping Strategy for class4_name:map_str3 Mapping Strategy for class3_name:map_str3 Mapping Strategy for class9_name:map_str3 Mapping Strategy for class10_name:map_str3 Mapping Strategy for class11_name:map_str3 Mapping Strategy for class12_name:map_str1 Mapping Strategy for class11_name:map_str1 Mapping Strategy for class14_name:map_str1  Association  Strategy for assoc1:assoc_str1  Association  Strategy for assoc3:assoc_str1  Association  Strategy for assoc6:assoc_str1  Association  Strategy for assoc2:assoc_str2  Association  Strategy for assoc4:assoc_str2  Association  Strategy for assoc5:assoc_str2  Association  Strategy for assoc7:assoc_str2  Association  Strategy for assoc8:assoc_str2, USE OM _name_0CREATE TABLE `class01_name`(`c01_at1`c01_at1_type NOT  NULL, PRIMARY  KEY  (`c01_at1`),CREATE TABLE `class6_name`(`c7_at1`c7_at1_type(64)`c6_at1`c6_at1_type NOT  NULL PRIMARY  KEY  (`c6_at1`),CREATE TABLE `class1_name`(`c1_at1`c1_at1_type NOT  NULL PRIMARY  KEY  (`c1_at1`),CREATE TABLE `class13_name`(`c13_at1`c13_at1_type(64)`c12_at1`c12_at1_type NOT  NULL KEY `FK_class13_name_c12_at1_idx`(`c12_at1`) PRIMARY  KEY  (`c12_at1`),CREATE TABLE `class7_name`(`c7_at3`c7_at3_type(64)`c7_at2`c7_at2_type`c7_at4`c7_at4_type(20,5)`c7_at1`c7_at1_type NOT  NULL PRIMARY  KEY  (`c7_at1`),CREATE TABLE `class11_name`(`c11_at1`c11_at1_type(64)`c7_at3`c7_at3_type(64)`c7_at2`c7_at2_type`c7_at4`c7_at4_type(20,5)`c7_at1`c7_at1_type NOT  NULL PRIMARY  KEY  (`c7_at1`),CREATE TABLE `class4_name`(`c4_at1`c4_at1_type,`c3_at2`c3_at2_type`c3_at1`c3_at1_type NOT  NULL PRIMARY  KEY  (`ItemID`), PRIMARY  KEY  (`c3_at1`),CREATE TABLE `assoc1`(`c01_at1`c01_at1_type NOT  NULL,`c1_at1`c1_at1_type NOT  NULL KEY `FK_assoc1_c01_at1_idx`(`c01_at1`), KEY `FK_assoc1_c1_at1_idx`(`c1_at1`), KEY `FK_assoc1_c1_at1_idx`(`c1_at1`),CREATE TABLE `class2_name`(`c2_at1`c2_at1_type NOT  NULL`c1_at1`c1_at1_type, KEY `FK_class2_name_c1_at1_idx`(`c1_at1`), PRIMARY  KEY  (`c2_at1`),CREATE TABLE `class8_name`(`c8_at1`c8_at1_type NOT  NULL PRIMARY  KEY  (`c8_at1`),CREATE TABLE `assoc7`(`c7_at1`c7_at1_type NOT  NULL`c3_at1`c3_at1_type NOT  NULL KEY `FK_assoc7_c7_at1_idx`(`c7_at1`) KEY `FK_assoc7_c3_at1_idx`(`c3_at1`) PRIMARY  KEY  (`c7_at1`,`c3_at1`),CREATE TABLE `class3_name`(`c3_at2`c3_at2_type`c3_at1`c3_at1_type NOT  NULL`c2_at1`c2_at1_type KEY `FK_class3_name_c2_at1_idx`(`c2_at1`) PRIMARY  KEY  (`ItemID`), PRIMARY  KEY  (`c3_at1`),CREATE TABLE `class10_name`(`c10_at1`c10_at1_type(64)`c7_at3`c7_at3_type(64)`c7_at2`c7_at2_type`c7_at4`c7_at4_type(20,5)`c7_at1`c7_at1_type NOT  NULL PRIMARY  KEY  (`c7_at1`),CREATE TABLE `class9_name`(`c10_at2`c10_at2_type,`c7_at3`c7_at3_type(64)`c7_at2`c7_at2_type`c9_at1`c9_at1_type(20,5),`c7_at4`c7_at4_type(20,5)`c7_at1`c7_at1_type NOT  NULL PRIMARY  KEY  (`c7_at1`),CREATE TABLE `assoc8`(`c12_at1`c12_at1_type NOT  NULL`c7_at1`c7_at1_type NOT  NULL KEY `FK_assoc8_c12_at1_idx`(`c12_at1`) KEY `FK_assoc8_c7_at1_idx`(`c7_at1`) PRIMARY  KEY  (`c12_at1`,`c7_at1`),CREATE TABLE `class14_name`(`c14_at1`c14_at1_type(64)`c12_at1`c12_at1_type NOT  NULL KEY `FK_class14_name_c12_at1_idx`(`c12_at1`) PRIMARY  KEY  (`c12_at1`),CREATE TABLE `class5_name`(`c5_at1`c5_at1_type,`c5_at2`c5_at2_type,`c3_at2`c3_at2_type`c3_at1`c3_at1_type NOT  NULL PRIMARY  KEY  (`ItemID`), PRIMARY  KEY  (`c3_at1`),CREATE TABLE `class12_name`(`c12_at3`c12_at3_type(64)`c12_at2`c12_at2_type(64)`c12_at1`c12_at1_type NOT  NULL PRIMARY  KEY  (`c12_at1`),`c8_at1`c8_at1_type NOT  NULL`c7_at1`c7_at1_type NOT  NULLCREATE TABLE `assoc4`()`c3_at1`c3_at1_type NOT  NULL`c01_at1`c01_at1_type NOT  NULL, KEY `FK_assoc4_c3_at1_idx`(`c3_at1`) KEY `FK_assoc4_c01_at1D_idx`(`c01_at1`) PRIMARY  KEY  (`c3_at1`,`c01_at1`)CREATE TABLE `assoc5`(`c7_at1`c7_at1_type NOT  NULL`c6_at1`c6_at1_type NOT  NULL KEY `FK_assoc5_c7_at1_idx`(`c7_at1`) KEY `FK_assoc5_c6_at1_idx`(`c6_at1`) PRIMARY  KEY  (`c7_at1`,`c6_at1`), ALTER TABLE `class13_name`  ADD  CONSTRAINT `FK_class13_name_c12_at1` FOREIGN  KEY  (`c12_at1`) REFERENCES `class12_name`(`c12_at1`) ON DELETE CASCADE ON UPDATE CASCADE ; ALTER TABLE `assoc1`  ADD  CONSTRAINT `FK_assoc1_c01_at1` FOREIGN  KEY  (`c01_at1`) REFERENCES `class01_name`(`c01_at1`) ON DELETE CASCADE ON UPDATE CASCADE   ADD  CONSTRAINT `FK_assoc1_c1_at1` FOREIGN  KEY  (`c1_at1`) REFERENCES `class1_name`(`c1_at1`) ON DELETE CASCADE ON UPDATE CASCADE , ALTER TABLE `class2_name`  ADD  CONSTRAINT `FK_class2_name_c1_at1` FOREIGN  KEY  (`c1_at1`) REFERENCES `class1_name`(`c1_at1`) ON DELETE CASCADE ON UPDATE CASCADE , ALTER TABLE `assoc7`  ADD  CONSTRAINT `FK_assoc7_c7_at1` FOREIGN  KEY  (`c7_at1`) REFERENCES `class7_name`(`c7_at1`) ON DELETE CASCADE ON UPDATE CASCADE   ADD  CONSTRAINT `FK_assoc7_c3_at1` FOREIGN  KEY  (`c3_at1`) REFERENCES `class3_name`(`c3_at1`) ON DELETE CASCADE ON UPDATE CASCADE , ALTER TABLE `class3_name` ALTER TABLE `assoc8`  ADD  CONSTRAINT FK_assoc5_c6_at1` FOREIGN  KEY  (`c6_at1`) REFERENCES `class6_name`(`c6_at1`) ON DELETE CASCADE ON UPDATE CASCADE ,  ADD  CONSTRAINT FK_assoc8_c7_at1` FOREIGN  KEY  (`c7_at1`) REFERENCES `class7_name`(`c7_at1`) ON DELETE CASCADE ON UPDATE CASCADE , ALTER TABLE `class14_name`  ADD  CONSTRAINT FK_class14_name_c12_at1` FOREIGN  KEY  (`c12_at1`) REFERENCES `class12_name`(`c12_at1`) ON DELETE CASCADE ON UPDATE CASCADE , ALTER TABLE `assoc4`  ADD  CONSTRAINT `FK_assoc4_c3_at1` FOREIGN  KEY  (`c3_at1`) REFERENCES `class3_name`(`c3_at1`) ON DELETE CASCADE ON UPDATE CASCADE   ADD  CONSTRAINT `FK_assoc4_c01_at1` FOREIGN  KEY  (`c01_at1`) REFERENCES `class01_name`(`c01_at1`) ON DELETE CASCADE ON UPDATE CASCADE , ALTER TABLE `assoc5`  ADD  CONSTRAINT `FK_assoc5_c7_at1` FOREIGN  KEY  (`c7_at1`) REFERENCES `class7_name`(`c7_at1`) ON DELETE CASCADE ON UPDATE CASCADE   ADD  CONSTRAINT FK_assoc5_c6_at1` FOREIGN  KEY  (`c6_at1`) REFERENCES `class6_name`(`c6_at1`) ON DELETE CASCADE ON UPDATE CASCADE  [end]')\n",
            "('module OM_name:0,open Declaration one sig class1_name extends Class attrSet =c1_at1id=c1_at1isAbstract=No no parent} one sig c1_at1 extends c1_at1_type, one sig class01_name extends Class attrSet =c01_at1id=c01_at1isAbstract=No no parent} one sig c01_at1 extends c01_at1_type, one sig assoc1 extends   Association  src=class1_namedst=class01_name src_multiplicity =src_mlpc dst_multiplicity =dst_mlpc,} one sig class2_name extends Class attrSet =c2_at1id=c2_at1isAbstract=No no parent} one sig c2_at1 extends c2_at1_type, one sig assoc2 extends   Association  src=class1_namedst=class2_name src_multiplicity =src_mlpc dst_multiplicity =dst_mlpc,} one sig class3_name extends Class attrSet =c3_at1+c3_at2id=c3_at1isAbstract=No no parent} one sig c3_at1 extends c3_at1_type one sig c3_at2 extends c3_at2_type, one sig class4_name extends Class attrSet =c4_at1 one parent id=c3_at1isAbstract=No parent in class3_name} one sig c4_at1 extends c4_at1_type, one sig assoc3 extends  Association dst=class2_namedst=class3_name src_multiplicity =src_mlpc dst_multiplicity =dst_mlpc,} one sig class5_name extends Class attrSet =c5_at1+c5_at2 one parent id=c3_at1isAbstract=No parent in class3_name} one sig c5_at2 extends c5_at2_type one sig c5_at1 extends c5_at1_type one sig assoc4 extends   Association  src=class01_namedst=class3_name src_multiplicity =src_mlpc dst_multiplicity =dst_mlpc,} one sig class6_name extends Class attrSet =c6_at1+c6_at2id=categoryIDisAbstract=No no parent} one sig c6_at1 extends c6_at1_type one sig c6_at2 extends c6_at2_type one sig class7_name extends Class attrSet =c7_at1+c7_at2+c7_at3+c7_at4id=c7_at1isAbstract=No no parent} one sig c7_at1 extends c7_at1_type one sig c7_at2 extends c7_at2_type one sig c7_at3 extends c7_at3_type one sig c7_at4 extends c7_at4_type one sig assoc5 extends   Association  src=class7_namesrc=class6_name src_multiplicity =src_mlpc2 dst_multiplicity =dst_mlpc,} one sig class8_name extends Class attrSet =c8_at1id=c8_at1isAbstract=No no parent} one sig c8_at1 extends Integer one sig assoc6 extends   Association  src=class7_namedst=class8_name src_multiplicity =src_mlpc dst_multiplicity =dst_mlpc,} one sig assoc7 extends   Association  src=class7_namedst=class3_name src_multiplicity =src_mlpc2 dst_multiplicity =dst_mlpc,} one sig class9_name extends Class attrSet =c9_at1+c10_at2 one parent id=c7_at1isAbstract=No parent in class7_name} one sig c9_at1 extends c9_at1_type one sig c10_at2 extends c10_at2_type one sig class10_name extends Class attrSet =c10_at1 one parent id=c7_at1isAbstract=No parent in class7_name} one sig c10_at1 extends c10_at1_type one sig class11_name extends Class attrSet =c11_at1 one parent id=c7_at1isAbstract=No parent in class7_name} one sig c11_at1 extends string one sig class12_name extends Class attrSet =c12_at1+c12_at2+c12_at3id=c12_at1isAbstract=No no parent} one sig c12_at1 extends c12_at1_type one sig c12_at2 extends c12_at2_type one sig c12_at3 extends c12_at3_type one sig assoc8 extends   Association  src=class7_namesrc=class12_name src_multiplicity =src_mlpc2 dst_multiplicity =dst_mlpc,} one sig class13_name extends Class attrSet =c13_at1 one parent id=c12_at1isAbstract=No parent in class12_name} one sig c13_at1 extends c13_at1_type one sig class14_name extends Class attrSet =c14_at1 one parent id=c12_at1isAbstract=No parent in class12_name} one sig c14_at1 extends c14_at1_type pred show run show ,TableName:class1_nameTableName:class01_nameTableNameclass6_nameTableNameclass7_nameTableNameclass10_nameTableNameclass11_name Mapping Strategy for class1_name:map_str2 Mapping Strategy for class6_name:map_str2 Mapping Strategy for class7_name:map_str2 Mapping Strategy for class9_name:map_str2 Mapping Strategy for class10_name:map_str2 Mapping Strategy for class11_name:map_str3 Mapping Strategy for class4_name:map_str1 Mapping Strategy for class5_name:map_str1 Mapping Strategy for class12_name:map_str1 Mapping Strategy for class11_name:map_str1 Mapping Strategy for class14_name:map_str1  Association  Strategy for assoc6:assoc_str1  Association  Strategy for assoc1:assoc_str2  Association  Strategy for assoc2:assoc_str2  Association  Strategy for assoc3:assoc_str2  Association  Strategy for assoc4:assoc_str2  Association  Strategy for assoc5:assoc_str2  Association  Strategy for assoc7:assoc_str2  Association  Strategy for assoc8:assoc_str2, USE OM _name_0CREATE TABLE `class01_name`(`c01_at1`c01_at1_type NOT  NULL,`c1_at1`c1_at1_type, KEY `FK_class01_name_c1_at1_idx`(`c1_at1`), PRIMARY  KEY  (`c01_at1`),CREATE TABLE `class6_name`(`c7_at1`c7_at1_type(64)`c6_at1`c6_at1_type NOT  NULL PRIMARY  KEY  (`c6_at1`),CREATE TABLE `class1_name`(`c1_at1`c1_at1_type NOT  NULL PRIMARY  KEY  (`c1_at1`),`c3_at1`c3_at1_type NOT  NULL`c2_at1`c2_at1_type NOT  NULLCREATE TABLE `class13_name`(`c13_at1`c13_at1_type(64)`c12_at1`c12_at1_type NOT  NULL KEY `FK_class13_name_c12_at1_idx`(`c12_at1`) PRIMARY  KEY  (`c12_at1`),CREATE TABLE `class7_name`(`c7_at3`c7_at3_type(64)`c7_at2`c7_at2_type`c7_at4`c7_at4_type(20,5)`c7_at1`c7_at1_type NOT  NULL PRIMARY  KEY  (`c7_at1`),CREATE TABLE `class11_name`(`c11_at1`c11_at1_type(64)`c7_at3`c7_at3_type(64)`c7_at2`c7_at2_type`c7_at4`c7_at4_type(20,5)`c7_at1`c7_at1_type NOT  NULL PRIMARY  KEY  (`c7_at1`),CREATE TABLE `class4_name`(`c4_at1`c4_at1_type,`c3_at1`c3_at1_type NOT  NULL KEY `FK_class4_name_c3_at1_idx`(`c3_at1`), PRIMARY  KEY  (`ItemID`), PRIMARY  KEY  (`c3_at1`),CREATE TABLE `class2_name`(`c2_at1`c2_at1_type NOT  NULL PRIMARY  KEY  (`c2_at1`),CREATE TABLE `class8_name`(`c8_at1`c8_at1_type NOT  NULL PRIMARY  KEY  (`c8_at1`),CREATE TABLE `assoc7`(`c7_at1`c7_at1_type NOT  NULL`c3_at1`c3_at1_type NOT  NULL KEY `FK_assoc7_c7_at1_idx`(`c7_at1`) KEY `FK_assoc7_c3_at1_idx`(`c3_at1`) PRIMARY  KEY  (`c7_at1`,`c3_at1`),CREATE TABLE `class3_name`(`c3_at2`c3_at2_type`c3_at1`c3_at1_type NOT  NULL PRIMARY  KEY  (`ItemID`), PRIMARY  KEY  (`c3_at1`),CREATE TABLE `class10_name`(`c10_at1`c10_at1_type(64)`c7_at1`c7_at1_type NOT  NULL KEY `FK_class10_name_c7_at1_idx`(`c7_at1`) PRIMARY  KEY  (`c7_at1`),CREATE TABLE `class9_name`(`c10_at2`c10_at2_type,`c9_at1`c9_at1_type(20,5),`c7_at1`c7_at1_type NOT  NULL KEY `FK_class9_name_c7_at1_idx`(`c7_at1`), PRIMARY  KEY  (`c7_at1`),CREATE TABLE `class14_name`(`c14_at1`c14_at1_type(64)`c12_at1`c12_at1_type NOT  NULL KEY `FK_class14_name_c12_at1_idx`(`c12_at1`) PRIMARY  KEY  (`c12_at1`),CREATE TABLE `assoc2`(`c2_at1`c2_at1_type NOT  NULL`c1_at1`c1_at1_type NOT  NULL KEY `FK_assoc2_c2_at1_idx`(`c2_at1`) KEY `FK_assoc2_c1_at1_idx`(`c1_at1`) PRIMARY  KEY  (`c2_at1`,`c1_at1`)CREATE TABLE `assoc8`(`c12_at1`c12_at1_type NOT  NULL`c7_at1`c7_at1_type NOT  NULL KEY `FK_assoc8_c12_at1_idx`(`c12_at1`) KEY `FK_assoc8_c7_at1_idx`(`c7_at1`) PRIMARY  KEY  (`c12_at1`,`c7_at1`),CREATE TABLE `class5_name`(`c5_at1`c5_at1_type,`c5_at2`c5_at2_type,`c3_at1`c3_at1_type NOT  NULL KEY `FK_class5_name_c3_at1_idx`(`c3_at1`) PRIMARY  KEY  (`ItemID`), PRIMARY  KEY  (`c3_at1`),CREATE TABLE `class12_name`(`c12_at3`c12_at3_type(64)`c12_at2`c12_at2_type(64)`c12_at1`c12_at1_type NOT  NULL PRIMARY  KEY  (`c12_at1`),`c8_at1`c8_at1_type NOT  NULL`c7_at1`c7_at1_type NOT  NULLCREATE TABLE `assoc4`()`c3_at1`c3_at1_type NOT  NULL`c01_at1`c01_at1_type NOT  NULL, KEY `FK_assoc4_c3_at1_idx`(`c3_at1`) KEY `FK_assoc4_c01_at1D_idx`(`c01_at1`) PRIMARY  KEY  (`c3_at1`,`c01_at1`)CREATE TABLE `assoc5`(`c7_at1`c7_at1_type NOT  NULL`c6_at1`c6_at1_type NOT  NULL KEY `FK_assoc5_c7_at1_idx`(`c7_at1`) KEY `FK_assoc5_c6_at1_idx`(`c6_at1`) PRIMARY  KEY  (`c7_at1`,`c6_at1`), ALTER TABLE `class01_name`  ADD  CONSTRAINT `FK_class01_name_c1_at1` FOREIGN  KEY  (`c1_at1`) REFERENCES `class1_name`(`c1_at1`) ON DELETE CASCADE ON UPDATE CASCADE ; ALTER TABLE `class13_name`  ADD  CONSTRAINT `FK_class13_name_c12_at1` FOREIGN  KEY  (`c12_at1`) REFERENCES `class12_name`(`c12_at1`) ON DELETE CASCADE ON UPDATE CASCADE ; ALTER TABLE `class4_name`  ADD  CONSTRAINT `FK_class4_name_c3_at1` FOREIGN  KEY  (`c3_at1`) REFERENCES `class3_name`(`c3_at1`) ON DELETE CASCADE ON UPDATE CASCADE , ALTER TABLE `assoc7`  ADD  CONSTRAINT `FK_assoc7_c7_at1` FOREIGN  KEY  (`c7_at1`) REFERENCES `class7_name`(`c7_at1`) ON DELETE CASCADE ON UPDATE CASCADE   ADD  CONSTRAINT `FK_assoc7_c3_at1` FOREIGN  KEY  (`c3_at1`) REFERENCES `class3_name`(`c3_at1`) ON DELETE CASCADE ON UPDATE CASCADE , ALTER TABLE `class10_name`  ADD  CONSTRAINT `FK_class10_name_c7_at1` FOREIGN  KEY  (`c7_at1`) REFERENCES `class7_name`(`c7_at1`) ON DELETE CASCADE ON UPDATE CASCADE , ALTER TABLE `class9_name`  ADD  CONSTRAINT `FK_class10_name_c7_at1` FOREIGN  KEY  (`c7_at1`) REFERENCES `class7_name`(`c7_at1`) ON DELETE CASCADE ON UPDATE CASCADE , ALTER TABLE `class14_name`  ADD  CONSTRAINT FK_class14_name_c12_at1` FOREIGN  KEY  (`c12_at1`) REFERENCES `class12_name`(`c12_at1`) ON DELETE CASCADE ON UPDATE CASCADE , ALTER TABLE `assoc2`  ADD  CONSTRAINT `FK_assoc2_c2_at1` FOREIGN  KEY  (`c2_at1`) REFERENCES `class2_name`(`c2_at1`) ON DELETE CASCADE ON UPDATE CASCADE   ADD  CONSTRAINT `FK_assoc2_c1_at1` FOREIGN  KEY  (`c1_at1`) REFERENCES `class1_name`(`c1_at1`) ON DELETE CASCADE ON UPDATE CASCADE , ALTER TABLE `assoc8`  ADD  CONSTRAINT FK_assoc5_c6_at1` FOREIGN  KEY  (`c6_at1`) REFERENCES `class6_name`(`c6_at1`) ON DELETE CASCADE ON UPDATE CASCADE ,  ADD  CONSTRAINT FK_assoc8_c7_at1` FOREIGN  KEY  (`c7_at1`) REFERENCES `class7_name`(`c7_at1`) ON DELETE CASCADE ON UPDATE CASCADE , ALTER TABLE `class5_name`  ADD  CONSTRAINT FK_class5_name_c3_at1` FOREIGN  KEY  (`c3_at1`) REFERENCES `class3_name`(`c3_at1`) ON DELETE CASCADE ON UPDATE CASCADE , ALTER TABLE `assoc4`  ADD  CONSTRAINT `FK_assoc4_c3_at1` FOREIGN  KEY  (`c3_at1`) REFERENCES `class3_name`(`c3_at1`) ON DELETE CASCADE ON UPDATE CASCADE   ADD  CONSTRAINT `FK_assoc4_c01_at1` FOREIGN  KEY  (`c01_at1`) REFERENCES `class01_name`(`c01_at1`) ON DELETE CASCADE ON UPDATE CASCADE , ALTER TABLE `assoc5`  ADD  CONSTRAINT `FK_assoc5_c7_at1` FOREIGN  KEY  (`c7_at1`) REFERENCES `class7_name`(`c7_at1`) ON DELETE CASCADE ON UPDATE CASCADE   ADD  CONSTRAINT FK_assoc5_c6_at1` FOREIGN  KEY  (`c6_at1`) REFERENCES `class6_name`(`c6_at1`) ON DELETE CASCADE ON UPDATE CASCADE ', '[start] NP, module OM_name:0,open Declaration one sig class1_name extends Class attrSet =c1_at1id=c1_at1isAbstract=No no parent} one sig c1_at1 extends c1_at1_type, one sig class01_name extends Class attrSet =c01_at1id=c01_at1isAbstract=No no parent} one sig c01_at1 extends c01_at1_type, one sig assoc1 extends   Association  src=class1_namedst=class01_name src_multiplicity =src_mlpc dst_multiplicity =dst_mlpc,} one sig class2_name extends Class attrSet =c2_at1id=c2_at1isAbstract=No no parent} one sig c2_at1 extends c2_at1_type, one sig assoc2 extends   Association  src=class1_namedst=class2_name src_multiplicity =src_mlpc dst_multiplicity =dst_mlpc,} one sig class3_name extends Class attrSet =c3_at1+c3_at2id=c3_at1isAbstract=No no parent} one sig c3_at1 extends c3_at1_type one sig c3_at2 extends c3_at2_type, one sig class4_name extends Class attrSet =c4_at1 one parent id=c3_at1isAbstract=No parent in class3_name} one sig c4_at1 extends c4_at1_type, one sig assoc3 extends  Association dst=class2_namedst=class3_name src_multiplicity =src_mlpc dst_multiplicity =dst_mlpc,} one sig class5_name extends Class attrSet =c5_at1+c5_at2 one parent id=c3_at1isAbstract=No parent in class3_name} one sig c5_at2 extends c5_at2_type one sig c5_at1 extends c5_at1_type one sig assoc4 extends   Association  src=class01_namedst=class3_name src_multiplicity =src_mlpc dst_multiplicity =dst_mlpc,} one sig class6_name extends Class attrSet =c6_at1+c6_at2id=categoryIDisAbstract=No no parent} one sig c6_at1 extends c6_at1_type one sig c6_at2 extends c6_at2_type one sig class7_name extends Class attrSet =c7_at1+c7_at2+c7_at3+c7_at4id=c7_at1isAbstract=No no parent} one sig c7_at1 extends c7_at1_type one sig c7_at2 extends c7_at2_type one sig c7_at3 extends c7_at3_type one sig c7_at4 extends c7_at4_type one sig assoc5 extends   Association  src=class7_namesrc=class6_name src_multiplicity =src_mlpc2 dst_multiplicity =dst_mlpc,} one sig class8_name extends Class attrSet =c8_at1id=c8_at1isAbstract=No no parent} one sig c8_at1 extends Integer one sig assoc6 extends   Association  src=class7_namedst=class8_name src_multiplicity =src_mlpc dst_multiplicity =dst_mlpc,} one sig assoc7 extends   Association  src=class7_namedst=class3_name src_multiplicity =src_mlpc2 dst_multiplicity =dst_mlpc,} one sig class9_name extends Class attrSet =c9_at1+c10_at2 one parent id=c7_at1isAbstract=No parent in class7_name} one sig c9_at1 extends c9_at1_type one sig c10_at2 extends c10_at2_type one sig class10_name extends Class attrSet =c10_at1 one parent id=c7_at1isAbstract=No parent in class7_name} one sig c10_at1 extends c10_at1_type one sig class11_name extends Class attrSet =c11_at1 one parent id=c7_at1isAbstract=No parent in class7_name} one sig c11_at1 extends string one sig class12_name extends Class attrSet =c12_at1+c12_at2+c12_at3id=c12_at1isAbstract=No no parent} one sig c12_at1 extends c12_at1_type one sig c12_at2 extends c12_at2_type one sig c12_at3 extends c12_at3_type one sig assoc8 extends   Association  src=class7_namesrc=class12_name src_multiplicity =src_mlpc2 dst_multiplicity =dst_mlpc,} one sig class13_name extends Class attrSet =c13_at1 one parent id=c12_at1isAbstract=No parent in class12_name} one sig c13_at1 extends c13_at1_type one sig class14_name extends Class attrSet =c14_at1 one parent id=c12_at1isAbstract=No parent in class12_name} one sig c14_at1 extends c14_at1_type pred show run show ,TableName:class1_nameTableName:class01_nameTableNameclass6_nameTableNameclass7_nameTableNameclass10_nameTableNameclass11_name Mapping Strategy for class1_name:map_str2 Mapping Strategy for class6_name:map_str2 Mapping Strategy for class7_name:map_str2 Mapping Strategy for class9_name:map_str2 Mapping Strategy for class10_name:map_str2 Mapping Strategy for class11_name:map_str3 Mapping Strategy for class4_name:map_str1 Mapping Strategy for class5_name:map_str1 Mapping Strategy for class12_name:map_str1 Mapping Strategy for class11_name:map_str1 Mapping Strategy for class14_name:map_str1  Association  Strategy for assoc6:assoc_str1  Association  Strategy for assoc1:assoc_str2  Association  Strategy for assoc2:assoc_str2  Association  Strategy for assoc3:assoc_str2  Association  Strategy for assoc4:assoc_str2  Association  Strategy for assoc5:assoc_str2  Association  Strategy for assoc7:assoc_str2  Association  Strategy for assoc8:assoc_str2, USE OM _name_0CREATE TABLE `class01_name`(`c01_at1`c01_at1_type NOT  NULL,`c1_at1`c1_at1_type, KEY `FK_class01_name_c1_at1_idx`(`c1_at1`), PRIMARY  KEY  (`c01_at1`),CREATE TABLE `class6_name`(`c7_at1`c7_at1_type(64)`c6_at1`c6_at1_type NOT  NULL PRIMARY  KEY  (`c6_at1`),CREATE TABLE `class1_name`(`c1_at1`c1_at1_type NOT  NULL PRIMARY  KEY  (`c1_at1`),`c3_at1`c3_at1_type NOT  NULL`c2_at1`c2_at1_type NOT  NULLCREATE TABLE `class13_name`(`c13_at1`c13_at1_type(64)`c12_at1`c12_at1_type NOT  NULL KEY `FK_class13_name_c12_at1_idx`(`c12_at1`) PRIMARY  KEY  (`c12_at1`),CREATE TABLE `class7_name`(`c7_at3`c7_at3_type(64)`c7_at2`c7_at2_type`c7_at4`c7_at4_type(20,5)`c7_at1`c7_at1_type NOT  NULL PRIMARY  KEY  (`c7_at1`),CREATE TABLE `class11_name`(`c11_at1`c11_at1_type(64)`c7_at3`c7_at3_type(64)`c7_at2`c7_at2_type`c7_at4`c7_at4_type(20,5)`c7_at1`c7_at1_type NOT  NULL PRIMARY  KEY  (`c7_at1`),CREATE TABLE `class4_name`(`c4_at1`c4_at1_type,`c3_at1`c3_at1_type NOT  NULL KEY `FK_class4_name_c3_at1_idx`(`c3_at1`), PRIMARY  KEY  (`ItemID`), PRIMARY  KEY  (`c3_at1`),CREATE TABLE `class2_name`(`c2_at1`c2_at1_type NOT  NULL PRIMARY  KEY  (`c2_at1`),CREATE TABLE `class8_name`(`c8_at1`c8_at1_type NOT  NULL PRIMARY  KEY  (`c8_at1`),CREATE TABLE `assoc7`(`c7_at1`c7_at1_type NOT  NULL`c3_at1`c3_at1_type NOT  NULL KEY `FK_assoc7_c7_at1_idx`(`c7_at1`) KEY `FK_assoc7_c3_at1_idx`(`c3_at1`) PRIMARY  KEY  (`c7_at1`,`c3_at1`),CREATE TABLE `class3_name`(`c3_at2`c3_at2_type`c3_at1`c3_at1_type NOT  NULL PRIMARY  KEY  (`ItemID`), PRIMARY  KEY  (`c3_at1`),CREATE TABLE `class10_name`(`c10_at1`c10_at1_type(64)`c7_at1`c7_at1_type NOT  NULL KEY `FK_class10_name_c7_at1_idx`(`c7_at1`) PRIMARY  KEY  (`c7_at1`),CREATE TABLE `class9_name`(`c10_at2`c10_at2_type,`c9_at1`c9_at1_type(20,5),`c7_at1`c7_at1_type NOT  NULL KEY `FK_class9_name_c7_at1_idx`(`c7_at1`), PRIMARY  KEY  (`c7_at1`),CREATE TABLE `class14_name`(`c14_at1`c14_at1_type(64)`c12_at1`c12_at1_type NOT  NULL KEY `FK_class14_name_c12_at1_idx`(`c12_at1`) PRIMARY  KEY  (`c12_at1`),CREATE TABLE `assoc2`(`c2_at1`c2_at1_type NOT  NULL`c1_at1`c1_at1_type NOT  NULL KEY `FK_assoc2_c2_at1_idx`(`c2_at1`) KEY `FK_assoc2_c1_at1_idx`(`c1_at1`) PRIMARY  KEY  (`c2_at1`,`c1_at1`)CREATE TABLE `assoc8`(`c12_at1`c12_at1_type NOT  NULL`c7_at1`c7_at1_type NOT  NULL KEY `FK_assoc8_c12_at1_idx`(`c12_at1`) KEY `FK_assoc8_c7_at1_idx`(`c7_at1`) PRIMARY  KEY  (`c12_at1`,`c7_at1`),CREATE TABLE `class5_name`(`c5_at1`c5_at1_type,`c5_at2`c5_at2_type,`c3_at1`c3_at1_type NOT  NULL KEY `FK_class5_name_c3_at1_idx`(`c3_at1`) PRIMARY  KEY  (`ItemID`), PRIMARY  KEY  (`c3_at1`),CREATE TABLE `class12_name`(`c12_at3`c12_at3_type(64)`c12_at2`c12_at2_type(64)`c12_at1`c12_at1_type NOT  NULL PRIMARY  KEY  (`c12_at1`),`c8_at1`c8_at1_type NOT  NULL`c7_at1`c7_at1_type NOT  NULLCREATE TABLE `assoc4`()`c3_at1`c3_at1_type NOT  NULL`c01_at1`c01_at1_type NOT  NULL, KEY `FK_assoc4_c3_at1_idx`(`c3_at1`) KEY `FK_assoc4_c01_at1D_idx`(`c01_at1`) PRIMARY  KEY  (`c3_at1`,`c01_at1`)CREATE TABLE `assoc5`(`c7_at1`c7_at1_type NOT  NULL`c6_at1`c6_at1_type NOT  NULL KEY `FK_assoc5_c7_at1_idx`(`c7_at1`) KEY `FK_assoc5_c6_at1_idx`(`c6_at1`) PRIMARY  KEY  (`c7_at1`,`c6_at1`), ALTER TABLE `class01_name`  ADD  CONSTRAINT `FK_class01_name_c1_at1` FOREIGN  KEY  (`c1_at1`) REFERENCES `class1_name`(`c1_at1`) ON DELETE CASCADE ON UPDATE CASCADE ; ALTER TABLE `class13_name`  ADD  CONSTRAINT `FK_class13_name_c12_at1` FOREIGN  KEY  (`c12_at1`) REFERENCES `class12_name`(`c12_at1`) ON DELETE CASCADE ON UPDATE CASCADE ; ALTER TABLE `class4_name`  ADD  CONSTRAINT `FK_class4_name_c3_at1` FOREIGN  KEY  (`c3_at1`) REFERENCES `class3_name`(`c3_at1`) ON DELETE CASCADE ON UPDATE CASCADE , ALTER TABLE `assoc7`  ADD  CONSTRAINT `FK_assoc7_c7_at1` FOREIGN  KEY  (`c7_at1`) REFERENCES `class7_name`(`c7_at1`) ON DELETE CASCADE ON UPDATE CASCADE   ADD  CONSTRAINT `FK_assoc7_c3_at1` FOREIGN  KEY  (`c3_at1`) REFERENCES `class3_name`(`c3_at1`) ON DELETE CASCADE ON UPDATE CASCADE , ALTER TABLE `class10_name`  ADD  CONSTRAINT `FK_class10_name_c7_at1` FOREIGN  KEY  (`c7_at1`) REFERENCES `class7_name`(`c7_at1`) ON DELETE CASCADE ON UPDATE CASCADE , ALTER TABLE `class9_name`  ADD  CONSTRAINT `FK_class10_name_c7_at1` FOREIGN  KEY  (`c7_at1`) REFERENCES `class7_name`(`c7_at1`) ON DELETE CASCADE ON UPDATE CASCADE , ALTER TABLE `class14_name`  ADD  CONSTRAINT FK_class14_name_c12_at1` FOREIGN  KEY  (`c12_at1`) REFERENCES `class12_name`(`c12_at1`) ON DELETE CASCADE ON UPDATE CASCADE , ALTER TABLE `assoc2`  ADD  CONSTRAINT `FK_assoc2_c2_at1` FOREIGN  KEY  (`c2_at1`) REFERENCES `class2_name`(`c2_at1`) ON DELETE CASCADE ON UPDATE CASCADE   ADD  CONSTRAINT `FK_assoc2_c1_at1` FOREIGN  KEY  (`c1_at1`) REFERENCES `class1_name`(`c1_at1`) ON DELETE CASCADE ON UPDATE CASCADE , ALTER TABLE `assoc8`  ADD  CONSTRAINT FK_assoc5_c6_at1` FOREIGN  KEY  (`c6_at1`) REFERENCES `class6_name`(`c6_at1`) ON DELETE CASCADE ON UPDATE CASCADE ,  ADD  CONSTRAINT FK_assoc8_c7_at1` FOREIGN  KEY  (`c7_at1`) REFERENCES `class7_name`(`c7_at1`) ON DELETE CASCADE ON UPDATE CASCADE , ALTER TABLE `class5_name`  ADD  CONSTRAINT FK_class5_name_c3_at1` FOREIGN  KEY  (`c3_at1`) REFERENCES `class3_name`(`c3_at1`) ON DELETE CASCADE ON UPDATE CASCADE , ALTER TABLE `assoc4`  ADD  CONSTRAINT `FK_assoc4_c3_at1` FOREIGN  KEY  (`c3_at1`) REFERENCES `class3_name`(`c3_at1`) ON DELETE CASCADE ON UPDATE CASCADE   ADD  CONSTRAINT `FK_assoc4_c01_at1` FOREIGN  KEY  (`c01_at1`) REFERENCES `class01_name`(`c01_at1`) ON DELETE CASCADE ON UPDATE CASCADE , ALTER TABLE `assoc5`  ADD  CONSTRAINT `FK_assoc5_c7_at1` FOREIGN  KEY  (`c7_at1`) REFERENCES `class7_name`(`c7_at1`) ON DELETE CASCADE ON UPDATE CASCADE   ADD  CONSTRAINT FK_assoc5_c6_at1` FOREIGN  KEY  (`c6_at1`) REFERENCES `class6_name`(`c6_at1`) ON DELETE CASCADE ON UPDATE CASCADE  [end]')\n",
            "(\"moduleOM_name0;open Declaration one sig class1_name extends Class attrSet =c1_at1+c1_at2id=c1_at1no parent is Abstract = No } one sig c1_at1 extends c1_at1_type one sig c1_at2 extends c1_at2_type one sig class2_name extends Class attrSet =c2_at1+c2_at2id=c2_at1no parent is Abstract = No } one sig c2_at1 extends c2_at1_type one sig c2_at1 extends c2_at2_type one sig class3_name extends Class attrSet =c3_at1+c3_at2+c3_at3+c3_at4c3_at5+c3_at6id=c3_at1no parent is Abstract = No } one sig c3_at1 extends c3_at1_type one sig c3_at2 extends c3_at2_type one sig c3_at3 extends c3_at3_type one sig c3_at4 extends c3_at4_type one sig c3_at5 extends c3_at5_type one sig c3_at6 extends c3_at6_type one sig class4_name extends Class attrSet =c4_at1+c4_at2+c4_at3+c4_at4id=c4_at3no parent is Abstract = No } one sig c4_at1 extends c4_at1_type one sig c4_at2 extends c4_at2_type one sig c4_at3 extends c4_at3_type one sig c4_at4 extends c4_at4_type one sig class5_name extends Class attrSet =c5_at1 one parent   parent in class2_nameid=c2_at1isAbstract=No} one sig c5_at1 extends c5_at1_type one sig class6_name extends Class attrSet =c6_at1_0+c6_at2+c6_at3+c6_at4id=c6_at2no parent is Abstract = No } one sig c6_at1_0 extends c6_at1_type one sig c6_at2 extends c6_at2_type one sig c6_at3 extends c6_at3_type one sig c6_at4 extends c6_at4_type one sig class7_name extends Class attrSet =c7_at1 one parent   parent in class2_nameid=c2_at1isAbstract=No} one sig c7_at1 extends c7_at1_type one sig class8_name extends Class attrSet =c8_at1 one parent   parent in class2_nameid=c2_at1isAbstract=No} one sig c8_at1 extends c8_at1_type one sig class9_name extends Class attrSet =c9_at1 one parent   parent in class2_nameid=c2_at1isAbstract=No} one sig c9_at1 extends c9_at1_type one sig class10_name extends Class attrSet =c10_at1+c10_at2+c2_at2+c6_at3id=c10_at1no parent is Abstract = No } one sig c10_at1 extends c10_at1_type one sig c10_at2 extends c10_at2_type one sig assoc10 extends   Association  src=class10_namedst=class2_name src_multiplicity =src_mlpc dst_multiplicity =dst_mlpc} one sig assoc1 extends   Association  src=class2_namedst=class4_name src_multiplicity =src_mlpc2 dst_multiplicity =dst_mlpc} one sig assoc2 extends   Association  src=class10_namedst=class3_name src_multiplicity =src_mlpc dst_multiplicity =dst_mlpc} one sig assoc3 extends   Association  src=class10_namedst=class4_name src_multiplicity =src_mlpc dst_multiplicity =dst_mlpc} one sig assoc4 extends   Association  src=class10_namedst=class6_name src_multiplicity =src_mlpc dst_multiplicity =dst_mlpc2} one sig assoc5 extends   Association  src=class6_namedst=class1_name src_multiplicity =src_mlpc dst_multiplicity =dst_mlpc2} one sig assoc6 extends   Association  src=class6_namedst=class4_name src_multiplicity =src_mlpc dst_multiplicity =dst_mlpc} one sig assoc7 extends   Association  src=class1_namedst=class3_name src_multiplicity =src_mlpc dst_multiplicity =dst_mlpc} one sig assoc8 extends   Association  src=class1_namedst=class4_name src_multiplicity =src_mlpc dst_multiplicity =dst_mlpc} one sig assoc9 extends   Association  src=class2_namedst=class3_name src_multiplicity =src_mlpc dst_multiplicity =dst_mlpc2} pred show run show , Mapping Strategy for class1_name:map_str2 Mapping Strategy for class6_name:map_str2 Mapping Strategy for class10_name:map_str2 Mapping Strategy for class5_name:map_str3 Mapping Strategy for class7_name:map_str3 Mapping Strategy for class8_name:map_str3  Association  Strategy for assoc2:assoc_str1  Association  Strategy for assoc7:assoc_str1  Association  Strategy for assoc1:assoc_str2  Association  Strategy for assoc3:assoc_str2  Association  Strategy for assoc4:assoc_str2  Association  Strategy for assoc5:assoc_str2  Association  Strategy for assoc6:assoc_str2  Association  Strategy for assoc9:assoc_str2, USE OM _name:0;CREATE TABLE `class7_name`(`c7_at1`c7_at1_type(64),`c2_at1`c2_at1_type NOT  NULL, KEY `FK_class7_name_c2_at1_idx`(`c2_at1`), PRIMARY  KEY  (`c2_at1`)CREATE TABLE `class5_name`(c5_at1`c5_at1_type(64),`c2_at1`c2_at1_type NOT  NULL, KEY `FK_class5_name_c2_at1_idx`(`c2_at1`), PRIMARY  KEY  (`c2_at1`)CREATE TABLE `assoc3`(c10_at1`c10_at1_type`c4_at3`c4_at3_type NOT  NULL,CREATE TABLE `class2_name`(`c2_at2`c2_at2_type(64),`c2_at1`c2_at1_type NOT  NULL, PRIMARY  KEY  (`c2_at1`)CREATE TABLE `assoc10`(c10_at1`c10_at1_type`c2_at1`c2_at1_type NOT  NULL, KEY `FK_assoc10_c2_at1_idx`(`c2_at1`),CREATE TABLE `class3_name`(c10_at1`c10_at1_type`c3_at6`c3_at6_type,`c3_at5`c3_at5_type,`c3_at4`c3_at4_type,`c3_at3`c3_at3_type,`c3_at2`c3_at2_type,`c3_at1`c3_at1_type NOT  NULL, KEY `FK_class3_name_c10_at1_idx`(`c10_at1`), PRIMARY  KEY  (`c3_at1`)CREATE TABLE `class1_name`(`c1_at2`c1_at2_type(64),`c1_at1`c1_at1_type NOT  NULL, PRIMARY  KEY  (`c1_at1`)CREATE TABLE `assoc7`(`c3_at1`c3_at1_type NOT  NULL,`c1_at1`c1_at1_type NOT  NULL, KEY `FK_assoc7_c3_at1_idx`(`c3_at1`), KEY `FK_assoc7_c1_at1_idx`(`c1_at1`), PRIMARY  KEY  (`c3_at1`,`c1_at1`)CREATE TABLE `class6_name`(`c6_at4`c6_at4_type(64),`c6_at1_0`c6_at1_type(64),`c6_at2`c6_at2_type NOT  NULL, PRIMARY  KEY  (`c6_at2`)CREATE TABLE `assoc1`(`c4_at3`c4_at3_type NOT  NULL,`c2_at1`c2_at1_type NOT  NULL, KEY `FK_assoc1_c4_at3_idx`(`c4_at3`), KEY `FK_assoc1_c2_at1_idx`(`c2_at1`), PRIMARY  KEY  (`c4_at3`,`c2_at1`)CREATE TABLE `assoc4`(c10_at1`c10_at1_type`c6_at2`c6_at2_type NOT  NULL, KEY `FK_assoc4_c10_at1_idx`(`c10_at1`), KEY `FK_assoc4_c6_at2_idx`(`c6_at2`), PRIMARY  KEY  (`c10_at1`,`c6_at2`)  Association  Strategy for assoc5:assoc_str2`c6_at2`c6_at2_type NOT  NULL,`c1_at1`c1_at1_type NOT  NULL, KEY `FK_assoc5_c6_at2_idx`(`c6_at2`), KEY `FK_assoc5_c1_at1_idx`(`c1_at1`), PRIMARY  KEY  (`c6_at2`,`c1_at1`)CREATE TABLE `assoc6`(`c6_at2`c6_at2_type NOT  NULL,`c4_at3`c4_at3_type NOT  NULL, KEY `FK_assoc6_c6_at2_idx`(`c6_at2`), KEY `FK_assoc6_c4_at3_idx`(`c4_at3`),' PRIMARY  KEY  (`c6_at2`,`c4_at3`)CREATE TABLE `class10_name`(`c10_at2`c10_at2_type(64),`c6_at3`c6_at3_type(64),c10_at1`c10_at1_type PRIMARY  KEY  (`c10_at1`)CREATE TABLE `class4_name`(`c4_at4`c4_at4_type(64),`c4_at2`c4_at2_type(64),`c4_at1`c4_at1_type(64),`c4_at3`c4_at3_type NOT  NULL, PRIMARY  KEY  (`c4_at3`)CREATE TABLE `assoc9`(`c3_at1`c3_at1_type NOT  NULL,`c2_at1`c2_at1_type NOT  NULL, KEY `FK_assoc9_c3_at1_idx`(`c3_at1`) KEY `FK_assoc9_c2_at1_idx`(`c2_at1`) PRIMARY  KEY  (`c3_at1`,`c2_at1`)CREATE TABLE `class9_name`(`c9_at1`c9_at1_type(64),`c2_at1`c2_at1_type NOT  NULL, KEY `FK_class9_name_c2_at1_idx`(`c2_at1`), PRIMARY  KEY  (`c2_at1`)CREATE TABLE `class8_name`(`c8_at1`c8_at1_type(64),`c2_at2`c2_at2_type(64),`c2_at1`c2_at1_type NOT  NULL, PRIMARY  KEY  (`c2_at1`)CREATE TABLE `assoc8`(`c4_at3`c4_at3_type NOT  NULL,`c1_at1`c1_at1_type NOT  NULL, KEY `FK_assoc8_c1_at1_idx`(`c1_at1`), PRIMARY  KEY  (`c4_at3`,`c1_at1`) ALTER TABLE `class7_name`  ADD  CONSTRAINT `FK_class7_name_c2_at1` FOREIGN  KEY  (`c2_at1`) REFERENCES `class2_name`(`c2_at1`) ON DELETE CASCADE ON UPDATE CASCADE , ALTER TABLE `class5_name`  ADD  CONSTRAINT `FK_class5_name_c2_at1` FOREIGN  KEY  (`c2_at1`) REFERENCES `class2_name`(`c2_at1`) ON DELETE CASCADE ON UPDATE CASCADE , ALTER TABLE `assoc3` ALTER TABLE `assoc10`  ADD  CONSTRAINT `FK_assoc10_c2_at1` FOREIGN  KEY  (`c2_at1`) REFERENCES `class2_name`(`c2_at1`) ON DELETE CASCADE ON UPDATE CASCADE , ALTER TABLE `class3_name`  ADD  CONSTRAINT `FK_class3_name_c10_at1` FOREIGN  KEY  (`c10_at1`) REFERENCES `class10_name`(`c10_at1`) ON DELETE CASCADE ON UPDATE CASCADE ; ALTER TABLE `assoc7`  ADD  CONSTRAINT `FK_assoc7_c3_at1` FOREIGN  KEY  (`c3_at1`) REFERENCES `class3_name`(`c3_at1`) ON DELETE CASCADE ON UPDATE CASCADE ;  ADD  CONSTRAINT `FK_assoc7_c1_at1` FOREIGN  KEY  (`c1_at1`) REFERENCES `class1_name`(`c1_at1`) ON DELETE CASCADE ON UPDATE CASCADE ; ALTER TABLE `assoc1`  ADD  CONSTRAINT `FK_assoc1_c4_at3` FOREIGN  KEY  (`c4_at3`) REFERENCES `class4_name`(`c4_at3`) ON DELETE CASCADE ON UPDATE CASCADE ;  ADD  CONSTRAINT `FK_assoc1_c2_at1` FOREIGN  KEY  (`c2_at1`) REFERENCES `class2_name`(`c2_at1`) ON DELETE CASCADE ON UPDATE CASCADE ; ALTER TABLE `assoc4`  ADD  CONSTRAINT `FK_assoc4_c10_at1` FOREIGN  KEY  (`c10_at1`) REFERENCES `class10_name`(`c10_at1`) ON DELETE CASCADE ON UPDATE CASCADE ;  ADD  CONSTRAINT `FK_assoc4_c6_at2` FOREIGN  KEY  (`c6_at2`) REFERENCES `class6_name`(`c6_at2`) ON DELETE CASCADE ON UPDATE CASCADE ; ALTER TABLE `assoc5`  ADD  CONSTRAINT `FK_assoc5_c6_at2` FOREIGN  KEY  (`c6_at2`) REFERENCES `class6_name`(`c6_at2`) ON DELETE CASCADE ON UPDATE CASCADE ;  ADD  CONSTRAINT `FK_assoc5_c1_at1` FOREIGN  KEY  (`c1_at1`) REFERENCES `class1_name`(`c1_at1`) ON DELETE CASCADE ON UPDATE CASCADE ; ALTER TABLE `assoc6` ALTER TABLE `class7_name`  ADD  CONSTRAINT `FK_assoc6_c4_at3` FOREIGN  KEY  (`c4_at3`) REFERENCES `class4_name`(`c1_at1`) ON DELETE CASCADE ON UPDATE CASCADE ; ALTER TABLE `assoc9`  ADD  CONSTRAINT `FK_assoc9_c3_at1` FOREIGN  KEY  (`c3_at1`) REFERENCES `class3_name`(`c3_at1`) ON DELETE CASCADE ON UPDATE CASCADE ;  ADD  CONSTRAINT `FK_assoc9_c2_at1` FOREIGN  KEY  (`c2_at1`) REFERENCES `class2_name`(`c2_at1`) ON DELETE CASCADE ON UPDATE CASCADE ; ALTER TABLE `class9_name`  ADD  CONSTRAINT `FK_class9_name_c2_at1` FOREIGN  KEY  (`c2_at1`) REFERENCES `class2_name`(`c2_at1`) ON DELETE CASCADE ON UPDATE CASCADE ; ALTER TABLE `assoc8`  ADD  CONSTRAINT `FK_assoc8_c1_at1` FOREIGN  KEY  (`c1_at1`) REFERENCES `class1_name`(`c1_at1`) ON DELETE CASCADE ON UPDATE CASCADE ,\", \"[start] NP, moduleOM_name0;open Declaration one sig class1_name extends Class attrSet =c1_at1+c1_at2id=c1_at1no parent is Abstract = No } one sig c1_at1 extends c1_at1_type one sig c1_at2 extends c1_at2_type one sig class2_name extends Class attrSet =c2_at1+c2_at2id=c2_at1no parent is Abstract = No } one sig c2_at1 extends c2_at1_type one sig c2_at1 extends c2_at2_type one sig class3_name extends Class attrSet =c3_at1+c3_at2+c3_at3+c3_at4c3_at5+c3_at6id=c3_at1no parent is Abstract = No } one sig c3_at1 extends c3_at1_type one sig c3_at2 extends c3_at2_type one sig c3_at3 extends c3_at3_type one sig c3_at4 extends c3_at4_type one sig c3_at5 extends c3_at5_type one sig c3_at6 extends c3_at6_type one sig class4_name extends Class attrSet =c4_at1+c4_at2+c4_at3+c4_at4id=c4_at3no parent is Abstract = No } one sig c4_at1 extends c4_at1_type one sig c4_at2 extends c4_at2_type one sig c4_at3 extends c4_at3_type one sig c4_at4 extends c4_at4_type one sig class5_name extends Class attrSet =c5_at1 one parent   parent in class2_nameid=c2_at1isAbstract=No} one sig c5_at1 extends c5_at1_type one sig class6_name extends Class attrSet =c6_at1_0+c6_at2+c6_at3+c6_at4id=c6_at2no parent is Abstract = No } one sig c6_at1_0 extends c6_at1_type one sig c6_at2 extends c6_at2_type one sig c6_at3 extends c6_at3_type one sig c6_at4 extends c6_at4_type one sig class7_name extends Class attrSet =c7_at1 one parent   parent in class2_nameid=c2_at1isAbstract=No} one sig c7_at1 extends c7_at1_type one sig class8_name extends Class attrSet =c8_at1 one parent   parent in class2_nameid=c2_at1isAbstract=No} one sig c8_at1 extends c8_at1_type one sig class9_name extends Class attrSet =c9_at1 one parent   parent in class2_nameid=c2_at1isAbstract=No} one sig c9_at1 extends c9_at1_type one sig class10_name extends Class attrSet =c10_at1+c10_at2+c2_at2+c6_at3id=c10_at1no parent is Abstract = No } one sig c10_at1 extends c10_at1_type one sig c10_at2 extends c10_at2_type one sig assoc10 extends   Association  src=class10_namedst=class2_name src_multiplicity =src_mlpc dst_multiplicity =dst_mlpc} one sig assoc1 extends   Association  src=class2_namedst=class4_name src_multiplicity =src_mlpc2 dst_multiplicity =dst_mlpc} one sig assoc2 extends   Association  src=class10_namedst=class3_name src_multiplicity =src_mlpc dst_multiplicity =dst_mlpc} one sig assoc3 extends   Association  src=class10_namedst=class4_name src_multiplicity =src_mlpc dst_multiplicity =dst_mlpc} one sig assoc4 extends   Association  src=class10_namedst=class6_name src_multiplicity =src_mlpc dst_multiplicity =dst_mlpc2} one sig assoc5 extends   Association  src=class6_namedst=class1_name src_multiplicity =src_mlpc dst_multiplicity =dst_mlpc2} one sig assoc6 extends   Association  src=class6_namedst=class4_name src_multiplicity =src_mlpc dst_multiplicity =dst_mlpc} one sig assoc7 extends   Association  src=class1_namedst=class3_name src_multiplicity =src_mlpc dst_multiplicity =dst_mlpc} one sig assoc8 extends   Association  src=class1_namedst=class4_name src_multiplicity =src_mlpc dst_multiplicity =dst_mlpc} one sig assoc9 extends   Association  src=class2_namedst=class3_name src_multiplicity =src_mlpc dst_multiplicity =dst_mlpc2} pred show run show , Mapping Strategy for class1_name:map_str2 Mapping Strategy for class6_name:map_str2 Mapping Strategy for class10_name:map_str2 Mapping Strategy for class5_name:map_str3 Mapping Strategy for class7_name:map_str3 Mapping Strategy for class8_name:map_str3  Association  Strategy for assoc2:assoc_str1  Association  Strategy for assoc7:assoc_str1  Association  Strategy for assoc1:assoc_str2  Association  Strategy for assoc3:assoc_str2  Association  Strategy for assoc4:assoc_str2  Association  Strategy for assoc5:assoc_str2  Association  Strategy for assoc6:assoc_str2  Association  Strategy for assoc9:assoc_str2, USE OM _name:0;CREATE TABLE `class7_name`(`c7_at1`c7_at1_type(64),`c2_at1`c2_at1_type NOT  NULL, KEY `FK_class7_name_c2_at1_idx`(`c2_at1`), PRIMARY  KEY  (`c2_at1`)CREATE TABLE `class5_name`(c5_at1`c5_at1_type(64),`c2_at1`c2_at1_type NOT  NULL, KEY `FK_class5_name_c2_at1_idx`(`c2_at1`), PRIMARY  KEY  (`c2_at1`)CREATE TABLE `assoc3`(c10_at1`c10_at1_type`c4_at3`c4_at3_type NOT  NULL,CREATE TABLE `class2_name`(`c2_at2`c2_at2_type(64),`c2_at1`c2_at1_type NOT  NULL, PRIMARY  KEY  (`c2_at1`)CREATE TABLE `assoc10`(c10_at1`c10_at1_type`c2_at1`c2_at1_type NOT  NULL, KEY `FK_assoc10_c2_at1_idx`(`c2_at1`),CREATE TABLE `class3_name`(c10_at1`c10_at1_type`c3_at6`c3_at6_type,`c3_at5`c3_at5_type,`c3_at4`c3_at4_type,`c3_at3`c3_at3_type,`c3_at2`c3_at2_type,`c3_at1`c3_at1_type NOT  NULL, KEY `FK_class3_name_c10_at1_idx`(`c10_at1`), PRIMARY  KEY  (`c3_at1`)CREATE TABLE `class1_name`(`c1_at2`c1_at2_type(64),`c1_at1`c1_at1_type NOT  NULL, PRIMARY  KEY  (`c1_at1`)CREATE TABLE `assoc7`(`c3_at1`c3_at1_type NOT  NULL,`c1_at1`c1_at1_type NOT  NULL, KEY `FK_assoc7_c3_at1_idx`(`c3_at1`), KEY `FK_assoc7_c1_at1_idx`(`c1_at1`), PRIMARY  KEY  (`c3_at1`,`c1_at1`)CREATE TABLE `class6_name`(`c6_at4`c6_at4_type(64),`c6_at1_0`c6_at1_type(64),`c6_at2`c6_at2_type NOT  NULL, PRIMARY  KEY  (`c6_at2`)CREATE TABLE `assoc1`(`c4_at3`c4_at3_type NOT  NULL,`c2_at1`c2_at1_type NOT  NULL, KEY `FK_assoc1_c4_at3_idx`(`c4_at3`), KEY `FK_assoc1_c2_at1_idx`(`c2_at1`), PRIMARY  KEY  (`c4_at3`,`c2_at1`)CREATE TABLE `assoc4`(c10_at1`c10_at1_type`c6_at2`c6_at2_type NOT  NULL, KEY `FK_assoc4_c10_at1_idx`(`c10_at1`), KEY `FK_assoc4_c6_at2_idx`(`c6_at2`), PRIMARY  KEY  (`c10_at1`,`c6_at2`)  Association  Strategy for assoc5:assoc_str2`c6_at2`c6_at2_type NOT  NULL,`c1_at1`c1_at1_type NOT  NULL, KEY `FK_assoc5_c6_at2_idx`(`c6_at2`), KEY `FK_assoc5_c1_at1_idx`(`c1_at1`), PRIMARY  KEY  (`c6_at2`,`c1_at1`)CREATE TABLE `assoc6`(`c6_at2`c6_at2_type NOT  NULL,`c4_at3`c4_at3_type NOT  NULL, KEY `FK_assoc6_c6_at2_idx`(`c6_at2`), KEY `FK_assoc6_c4_at3_idx`(`c4_at3`),' PRIMARY  KEY  (`c6_at2`,`c4_at3`)CREATE TABLE `class10_name`(`c10_at2`c10_at2_type(64),`c6_at3`c6_at3_type(64),c10_at1`c10_at1_type PRIMARY  KEY  (`c10_at1`)CREATE TABLE `class4_name`(`c4_at4`c4_at4_type(64),`c4_at2`c4_at2_type(64),`c4_at1`c4_at1_type(64),`c4_at3`c4_at3_type NOT  NULL, PRIMARY  KEY  (`c4_at3`)CREATE TABLE `assoc9`(`c3_at1`c3_at1_type NOT  NULL,`c2_at1`c2_at1_type NOT  NULL, KEY `FK_assoc9_c3_at1_idx`(`c3_at1`) KEY `FK_assoc9_c2_at1_idx`(`c2_at1`) PRIMARY  KEY  (`c3_at1`,`c2_at1`)CREATE TABLE `class9_name`(`c9_at1`c9_at1_type(64),`c2_at1`c2_at1_type NOT  NULL, KEY `FK_class9_name_c2_at1_idx`(`c2_at1`), PRIMARY  KEY  (`c2_at1`)CREATE TABLE `class8_name`(`c8_at1`c8_at1_type(64),`c2_at2`c2_at2_type(64),`c2_at1`c2_at1_type NOT  NULL, PRIMARY  KEY  (`c2_at1`)CREATE TABLE `assoc8`(`c4_at3`c4_at3_type NOT  NULL,`c1_at1`c1_at1_type NOT  NULL, KEY `FK_assoc8_c1_at1_idx`(`c1_at1`), PRIMARY  KEY  (`c4_at3`,`c1_at1`) ALTER TABLE `class7_name`  ADD  CONSTRAINT `FK_class7_name_c2_at1` FOREIGN  KEY  (`c2_at1`) REFERENCES `class2_name`(`c2_at1`) ON DELETE CASCADE ON UPDATE CASCADE , ALTER TABLE `class5_name`  ADD  CONSTRAINT `FK_class5_name_c2_at1` FOREIGN  KEY  (`c2_at1`) REFERENCES `class2_name`(`c2_at1`) ON DELETE CASCADE ON UPDATE CASCADE , ALTER TABLE `assoc3` ALTER TABLE `assoc10`  ADD  CONSTRAINT `FK_assoc10_c2_at1` FOREIGN  KEY  (`c2_at1`) REFERENCES `class2_name`(`c2_at1`) ON DELETE CASCADE ON UPDATE CASCADE , ALTER TABLE `class3_name`  ADD  CONSTRAINT `FK_class3_name_c10_at1` FOREIGN  KEY  (`c10_at1`) REFERENCES `class10_name`(`c10_at1`) ON DELETE CASCADE ON UPDATE CASCADE ; ALTER TABLE `assoc7`  ADD  CONSTRAINT `FK_assoc7_c3_at1` FOREIGN  KEY  (`c3_at1`) REFERENCES `class3_name`(`c3_at1`) ON DELETE CASCADE ON UPDATE CASCADE ;  ADD  CONSTRAINT `FK_assoc7_c1_at1` FOREIGN  KEY  (`c1_at1`) REFERENCES `class1_name`(`c1_at1`) ON DELETE CASCADE ON UPDATE CASCADE ; ALTER TABLE `assoc1`  ADD  CONSTRAINT `FK_assoc1_c4_at3` FOREIGN  KEY  (`c4_at3`) REFERENCES `class4_name`(`c4_at3`) ON DELETE CASCADE ON UPDATE CASCADE ;  ADD  CONSTRAINT `FK_assoc1_c2_at1` FOREIGN  KEY  (`c2_at1`) REFERENCES `class2_name`(`c2_at1`) ON DELETE CASCADE ON UPDATE CASCADE ; ALTER TABLE `assoc4`  ADD  CONSTRAINT `FK_assoc4_c10_at1` FOREIGN  KEY  (`c10_at1`) REFERENCES `class10_name`(`c10_at1`) ON DELETE CASCADE ON UPDATE CASCADE ;  ADD  CONSTRAINT `FK_assoc4_c6_at2` FOREIGN  KEY  (`c6_at2`) REFERENCES `class6_name`(`c6_at2`) ON DELETE CASCADE ON UPDATE CASCADE ; ALTER TABLE `assoc5`  ADD  CONSTRAINT `FK_assoc5_c6_at2` FOREIGN  KEY  (`c6_at2`) REFERENCES `class6_name`(`c6_at2`) ON DELETE CASCADE ON UPDATE CASCADE ;  ADD  CONSTRAINT `FK_assoc5_c1_at1` FOREIGN  KEY  (`c1_at1`) REFERENCES `class1_name`(`c1_at1`) ON DELETE CASCADE ON UPDATE CASCADE ; ALTER TABLE `assoc6` ALTER TABLE `class7_name`  ADD  CONSTRAINT `FK_assoc6_c4_at3` FOREIGN  KEY  (`c4_at3`) REFERENCES `class4_name`(`c1_at1`) ON DELETE CASCADE ON UPDATE CASCADE ; ALTER TABLE `assoc9`  ADD  CONSTRAINT `FK_assoc9_c3_at1` FOREIGN  KEY  (`c3_at1`) REFERENCES `class3_name`(`c3_at1`) ON DELETE CASCADE ON UPDATE CASCADE ;  ADD  CONSTRAINT `FK_assoc9_c2_at1` FOREIGN  KEY  (`c2_at1`) REFERENCES `class2_name`(`c2_at1`) ON DELETE CASCADE ON UPDATE CASCADE ; ALTER TABLE `class9_name`  ADD  CONSTRAINT `FK_class9_name_c2_at1` FOREIGN  KEY  (`c2_at1`) REFERENCES `class2_name`(`c2_at1`) ON DELETE CASCADE ON UPDATE CASCADE ; ALTER TABLE `assoc8`  ADD  CONSTRAINT `FK_assoc8_c1_at1` FOREIGN  KEY  (`c1_at1`) REFERENCES `class1_name`(`c1_at1`) ON DELETE CASCADE ON UPDATE CASCADE  [end]\")\n"
          ]
        }
      ],
      "source": [
        "for _ in range(5):\n",
        "    print(random.choice(text_pairs))"
      ]
    },
    {
      "cell_type": "markdown",
      "metadata": {
        "id": "6W_CONhiHqa7"
      },
      "source": [
        "Now, let's split the sentence pairs into a training set, a validation set,\n",
        "and a test set."
      ]
    },
    {
      "cell_type": "code",
      "execution_count": 8,
      "metadata": {
        "colab": {
          "base_uri": "https://localhost:8080/"
        },
        "id": "URk0VYj5Hqa7",
        "outputId": "bf69a515-2d36-4b3c-d3d2-570bd888c16d"
      },
      "outputs": [
        {
          "output_type": "stream",
          "name": "stdout",
          "text": [
            "26469 total pairs\n",
            "18529 training pairs\n",
            "3970 validation pairs\n",
            "3970 test pairs\n"
          ]
        }
      ],
      "source": [
        "random.shuffle(text_pairs)\n",
        "num_val_samples = int(0.15 * len(text_pairs))\n",
        "num_train_samples = len(text_pairs) - 2 * num_val_samples\n",
        "train_pairs = text_pairs[:num_train_samples]\n",
        "val_pairs = text_pairs[num_train_samples : num_train_samples + num_val_samples]\n",
        "test_pairs = text_pairs[num_train_samples + num_val_samples :]\n",
        "\n",
        "print(f\"{len(text_pairs)} total pairs\")\n",
        "print(f\"{len(train_pairs)} training pairs\")\n",
        "print(f\"{len(val_pairs)} validation pairs\")\n",
        "print(f\"{len(test_pairs)} test pairs\")"
      ]
    },
    {
      "cell_type": "markdown",
      "metadata": {
        "id": "Sph5JNZfHqa7"
      },
      "source": [
        "## Vectorizing the text data\n",
        "\n",
        "We'll use two instances of the `TextVectorization` layer to vectorize the text\n",
        "data (one for English and one for Spanish),\n",
        "that is to say, to turn the original strings into integer sequences\n",
        "where each integer represents the index of a word in a vocabulary.\n",
        "\n",
        "The English layer will use the default string standardization (strip punctuation characters)\n",
        "and splitting scheme (split on whitespace), while\n",
        "the Spanish layer will use a custom standardization, where we add the character\n",
        "`\"¿\"` to the set of punctuation characters to be stripped.\n",
        "\n",
        "Note: in a production-grade machine translation model, I would not recommend\n",
        "stripping the punctuation characters in either language. Instead, I would recommend turning\n",
        "each punctuation character into its own token,\n",
        "which you could achieve by providing a custom `split` function to the `TextVectorization` layer."
      ]
    },
    {
      "cell_type": "code",
      "execution_count": 15,
      "metadata": {
        "id": "MjmfEsJaHqa7"
      },
      "outputs": [],
      "source": [
        "strip_chars = string.punctuation + \"\"\n",
        "strip_chars = strip_chars.replace(\"[\", \"\")\n",
        "strip_chars = strip_chars.replace(\"]\", \"\")\n",
        "\n",
        "vocab_size = 15000\n",
        "sequence_length = 500\n",
        "batch_size = 64\n",
        "\n",
        "\n",
        "def custom_standardization(input_string):\n",
        "    lowercase = tf.strings.lower(input_string)\n",
        "    return tf.strings.regex_replace(lowercase, \"[%s]\" % re.escape(strip_chars), \"\")\n",
        "\n",
        "\n",
        "eng_vectorization = TextVectorization(\n",
        "    max_tokens=vocab_size, output_mode=\"int\", output_sequence_length=sequence_length,\n",
        ")\n",
        "spa_vectorization = TextVectorization(\n",
        "    max_tokens=vocab_size,\n",
        "    output_mode=\"int\",\n",
        "    output_sequence_length=sequence_length + 1,\n",
        "    standardize=custom_standardization,\n",
        ")\n",
        "train_eng_texts = [pair[0] for pair in train_pairs]\n",
        "train_spa_texts = [pair[1] for pair in train_pairs]\n",
        "eng_vectorization.adapt(train_eng_texts)\n",
        "spa_vectorization.adapt(train_spa_texts)"
      ]
    },
    {
      "cell_type": "markdown",
      "metadata": {
        "id": "FaQljM4HHqa8"
      },
      "source": [
        "Next, we'll format our datasets.\n",
        "\n",
        "At each training step, the model will seek to predict target words N+1 (and beyond)\n",
        "using the source sentence and the target words 0 to N.\n",
        "\n",
        "As such, the training dataset will yield a tuple `(inputs, targets)`, where:\n",
        "\n",
        "- `inputs` is a dictionary with the keys `encoder_inputs` and `decoder_inputs`.\n",
        "`encoder_inputs` is the vectorized source sentence and `encoder_inputs` is the target sentence \"so far\",\n",
        "that is to say, the words 0 to N used to predict word N+1 (and beyond) in the target sentence.\n",
        "- `target` is the target sentence offset by one step:\n",
        "it provides the next words in the target sentence -- what the model will try to predict."
      ]
    },
    {
      "cell_type": "code",
      "execution_count": 16,
      "metadata": {
        "id": "HIrpGv30Hqa8"
      },
      "outputs": [],
      "source": [
        "\n",
        "def format_dataset(eng, spa):\n",
        "    eng = eng_vectorization(eng)\n",
        "    spa = spa_vectorization(spa)\n",
        "    return ({\"encoder_inputs\": eng, \"decoder_inputs\": spa[:, :-1],}, spa[:, 1:])\n",
        "\n",
        "\n",
        "# def make_dataset(pairs):\n",
        "#     eng_texts, spa_texts = zip(*pairs)\n",
        "#     eng_texts = list(eng_texts)\n",
        "#     spa_texts = list(spa_texts)\n",
        "#     dataset = tf.data.Dataset.from_tensor_slices((eng_texts, spa_texts))\n",
        "#     dataset = dataset.batch(batch_size)\n",
        "#     dataset = dataset.map(format_dataset)\n",
        "#     return dataset.shuffle(2048).prefetch(16).cache()\n",
        "\n",
        "def make_dataset(pairs):\n",
        "    eng_texts, spa_texts = zip(*pairs)\n",
        "    eng_texts = list(eng_texts)\n",
        "    spa_texts = list(spa_texts)\n",
        "    dataset = tf.data.Dataset.from_tensor_slices((eng_texts, spa_texts))\n",
        "    dataset = dataset.batch(batch_size)\n",
        "\n",
        "    # Distribute the dataset creation across multiple GPUs\n",
        "    if num_gpus > 1:\n",
        "        dataset = dataset.distribute(strategy)\n",
        "\n",
        "    dataset = dataset.map(format_dataset)\n",
        "    return dataset.shuffle(2048).prefetch(16).cache()\n",
        "\n",
        "# Create the datasets\n",
        "train_ds = make_dataset(train_pairs)\n",
        "val_ds = make_dataset(val_pairs)"
      ]
    },
    {
      "cell_type": "markdown",
      "metadata": {
        "id": "x7VKHafcHqa8"
      },
      "source": [
        "Let's take a quick look at the sequence shapes\n",
        "(we have batches of 64 pairs, and all sequences are 20 steps long):"
      ]
    },
    {
      "cell_type": "code",
      "execution_count": 17,
      "metadata": {
        "colab": {
          "base_uri": "https://localhost:8080/"
        },
        "id": "BNuIpcepHqa8",
        "outputId": "01375d96-1f9b-4542-96ee-8cdb23fbe2f3"
      },
      "outputs": [
        {
          "output_type": "stream",
          "name": "stdout",
          "text": [
            "inputs[\"encoder_inputs\"].shape: (64, 500)\n",
            "inputs[\"decoder_inputs\"].shape: (64, 500)\n",
            "targets.shape: (64, 500)\n"
          ]
        }
      ],
      "source": [
        "for inputs, targets in train_ds.take(1):\n",
        "    print(f'inputs[\"encoder_inputs\"].shape: {inputs[\"encoder_inputs\"].shape}')\n",
        "    print(f'inputs[\"decoder_inputs\"].shape: {inputs[\"decoder_inputs\"].shape}')\n",
        "    print(f\"targets.shape: {targets.shape}\")"
      ]
    },
    {
      "cell_type": "markdown",
      "metadata": {
        "id": "pCZrNjuJHqa8"
      },
      "source": [
        "## Building the model\n",
        "\n",
        "Our sequence-to-sequence Transformer consists of a `TransformerEncoder`\n",
        "and a `TransformerDecoder` chained together. To make the model aware of word order,\n",
        "we also use a `PositionalEmbedding` layer.\n",
        "\n",
        "The source sequence will be pass to the `TransformerEncoder`,\n",
        "which will produce a new representation of it.\n",
        "This new representation will then be passed\n",
        "to the `TransformerDecoder`, together with the target sequence so far (target words 0 to N).\n",
        "The `TransformerDecoder` will then seek to predict the next words in the target sequence (N+1 and beyond).\n",
        "\n",
        "A key detail that makes this possible is causal masking\n",
        "(see method `get_causal_attention_mask()` on the `TransformerDecoder`).\n",
        "The `TransformerDecoder` sees the entire sequences at once, and thus we must make\n",
        "sure that it only uses information from target tokens 0 to N when predicting token N+1\n",
        "(otherwise, it could use information from the future, which would\n",
        "result in a model that cannot be used at inference time)."
      ]
    },
    {
      "cell_type": "code",
      "execution_count": 18,
      "metadata": {
        "id": "u7QpLXimHqa8"
      },
      "outputs": [],
      "source": [
        "\n",
        "class TransformerEncoder(layers.Layer):\n",
        "    def __init__(self, embed_dim, dense_dim, num_heads, **kwargs):\n",
        "        super().__init__(**kwargs)\n",
        "        self.embed_dim = embed_dim\n",
        "        self.dense_dim = dense_dim\n",
        "        self.num_heads = num_heads\n",
        "        self.attention = layers.MultiHeadAttention(\n",
        "            num_heads=num_heads, key_dim=embed_dim\n",
        "        )\n",
        "        self.dense_proj = keras.Sequential(\n",
        "            [layers.Dense(dense_dim, activation=\"relu\"), layers.Dense(embed_dim),]\n",
        "        )\n",
        "        self.layernorm_1 = layers.LayerNormalization()\n",
        "        self.layernorm_2 = layers.LayerNormalization()\n",
        "        self.supports_masking = True\n",
        "\n",
        "    def call(self, inputs, mask=None):\n",
        "        if mask is not None:\n",
        "            padding_mask = tf.cast(mask[:, tf.newaxis, :], dtype=\"int32\")\n",
        "        attention_output = self.attention(\n",
        "            query=inputs, value=inputs, key=inputs, attention_mask=padding_mask\n",
        "        )\n",
        "        proj_input = self.layernorm_1(inputs + attention_output)\n",
        "        proj_output = self.dense_proj(proj_input)\n",
        "        return self.layernorm_2(proj_input + proj_output)\n",
        "    def get_config(self):\n",
        "        config = super().get_config()\n",
        "        config.update({\n",
        "            \"embed_dim\": self.embed_dim,\n",
        "            \"dense_dim\": self.dense_dim,\n",
        "            \"num_heads\": self.num_heads,\n",
        "        })\n",
        "        return config\n",
        "\n",
        "\n",
        "class PositionalEmbedding(layers.Layer):\n",
        "    def __init__(self, sequence_length, vocab_size, embed_dim, **kwargs):\n",
        "        super().__init__(**kwargs)\n",
        "        self.token_embeddings = layers.Embedding(\n",
        "            input_dim=vocab_size, output_dim=embed_dim\n",
        "        )\n",
        "        self.position_embeddings = layers.Embedding(\n",
        "            input_dim=sequence_length, output_dim=embed_dim\n",
        "        )\n",
        "        self.sequence_length = sequence_length\n",
        "        self.vocab_size = vocab_size\n",
        "        self.embed_dim = embed_dim\n",
        "\n",
        "    def call(self, inputs):\n",
        "        length = tf.shape(inputs)[-1]\n",
        "        positions = tf.range(start=0, limit=length, delta=1)\n",
        "        embedded_tokens = self.token_embeddings(inputs)\n",
        "        embedded_positions = self.position_embeddings(positions)\n",
        "        return embedded_tokens + embedded_positions\n",
        "\n",
        "    def compute_mask(self, inputs, mask=None):\n",
        "        return tf.math.not_equal(inputs, 0)\n",
        "    def get_config(self):\n",
        "        config = super().get_config()\n",
        "        config.update({\n",
        "            \"sequence_length\": self.sequence_length,\n",
        "            \"vocab_size\": self.vocab_size,\n",
        "            \"embed_dim\": self.embed_dim,\n",
        "        })\n",
        "        return config\n",
        "\n",
        "\n",
        "class TransformerDecoder(layers.Layer):\n",
        "    def __init__(self, embed_dim, latent_dim, num_heads, **kwargs):\n",
        "        super().__init__(**kwargs)\n",
        "        self.embed_dim = embed_dim\n",
        "        self.latent_dim = latent_dim\n",
        "        self.num_heads = num_heads\n",
        "        self.attention_1 = layers.MultiHeadAttention(\n",
        "            num_heads=num_heads, key_dim=embed_dim\n",
        "        )\n",
        "        self.attention_2 = layers.MultiHeadAttention(\n",
        "            num_heads=num_heads, key_dim=embed_dim\n",
        "        )\n",
        "        self.dense_proj = keras.Sequential(\n",
        "            [layers.Dense(latent_dim, activation=\"relu\"), layers.Dense(embed_dim),]\n",
        "        )\n",
        "        self.layernorm_1 = layers.LayerNormalization()\n",
        "        self.layernorm_2 = layers.LayerNormalization()\n",
        "        self.layernorm_3 = layers.LayerNormalization()\n",
        "        self.supports_masking = True\n",
        "\n",
        "    def call(self, inputs, encoder_outputs, mask=None):\n",
        "        causal_mask = self.get_causal_attention_mask(inputs)\n",
        "        if mask is not None:\n",
        "            padding_mask = tf.cast(mask[:, tf.newaxis, :], dtype=\"int32\")\n",
        "            padding_mask = tf.minimum(padding_mask, causal_mask)\n",
        "\n",
        "        attention_output_1 = self.attention_1(\n",
        "            query=inputs, value=inputs, key=inputs, attention_mask=causal_mask\n",
        "        )\n",
        "        out_1 = self.layernorm_1(inputs + attention_output_1)\n",
        "\n",
        "        attention_output_2 = self.attention_2(\n",
        "            query=out_1,\n",
        "            value=encoder_outputs,\n",
        "            key=encoder_outputs,\n",
        "            attention_mask=padding_mask,\n",
        "        )\n",
        "        out_2 = self.layernorm_2(out_1 + attention_output_2)\n",
        "\n",
        "        proj_output = self.dense_proj(out_2)\n",
        "        return self.layernorm_3(out_2 + proj_output)\n",
        "\n",
        "    def get_causal_attention_mask(self, inputs):\n",
        "        input_shape = tf.shape(inputs)\n",
        "        batch_size, sequence_length = input_shape[0], input_shape[1]\n",
        "        i = tf.range(sequence_length)[:, tf.newaxis]\n",
        "        j = tf.range(sequence_length)\n",
        "        mask = tf.cast(i >= j, dtype=\"int32\")\n",
        "        mask = tf.reshape(mask, (1, input_shape[1], input_shape[1]))\n",
        "        mult = tf.concat(\n",
        "            [tf.expand_dims(batch_size, -1), tf.constant([1, 1], dtype=tf.int32)],\n",
        "            axis=0,\n",
        "        )\n",
        "        return tf.tile(mask, mult)\n",
        "    def get_config(self):\n",
        "        config = super().get_config()\n",
        "        config.update({\n",
        "            \"embed_dim\": self.embed_dim,\n",
        "            \"latent_dim\": self.latent_dim,\n",
        "            \"num_heads\": self.num_heads,\n",
        "        })\n",
        "        return config\n"
      ]
    },
    {
      "cell_type": "markdown",
      "metadata": {
        "id": "6nWPRP0IHqa9"
      },
      "source": [
        "Next, we assemble the end-to-end model."
      ]
    },
    {
      "cell_type": "code",
      "execution_count": 19,
      "metadata": {
        "id": "jwMSG2sEHqa9"
      },
      "outputs": [],
      "source": [
        "embed_dim = 256\n",
        "latent_dim = 2048\n",
        "num_heads = 8\n",
        "\n",
        "\n",
        "with strategy.scope():\n",
        "\n",
        "  encoder_inputs = keras.Input(shape=(None,), dtype=\"int64\", name=\"encoder_inputs\")\n",
        "  x = PositionalEmbedding(sequence_length, vocab_size, embed_dim)(encoder_inputs)\n",
        "  encoder_outputs = TransformerEncoder(embed_dim, latent_dim, num_heads)(x)\n",
        "  encoder = keras.Model(encoder_inputs, encoder_outputs)\n",
        "\n",
        "  decoder_inputs = keras.Input(shape=(None,), dtype=\"int64\", name=\"decoder_inputs\")\n",
        "  encoded_seq_inputs = keras.Input(shape=(None, embed_dim), name=\"decoder_state_inputs\")\n",
        "  x = PositionalEmbedding(sequence_length, vocab_size, embed_dim)(decoder_inputs)\n",
        "  x = TransformerDecoder(embed_dim, latent_dim, num_heads)(x, encoded_seq_inputs)\n",
        "  x = layers.Dropout(0.5)(x)\n",
        "  decoder_outputs = layers.Dense(vocab_size, activation=\"softmax\")(x)\n",
        "  decoder = keras.Model([decoder_inputs, encoded_seq_inputs], decoder_outputs)\n",
        "\n",
        "  decoder_outputs = decoder([decoder_inputs, encoder_outputs])\n",
        "  transformer = keras.Model(\n",
        "      [encoder_inputs, decoder_inputs], decoder_outputs, name=\"transformer\"\n",
        "  )"
      ]
    },
    {
      "cell_type": "markdown",
      "metadata": {
        "id": "Vxau2QMGHqa9"
      },
      "source": [
        "## Training our model\n",
        "\n",
        "We'll use accuracy as a quick way to monitor training progress on the validation data.\n",
        "Note that machine translation typically uses BLEU scores as well as other metrics, rather than accuracy.\n",
        "\n",
        "Here we only train for 1 epoch, but to get the model to actually converge\n",
        "you should train for at least 30 epochs."
      ]
    },
    {
      "cell_type": "code",
      "source": [
        "\n"
      ],
      "metadata": {
        "id": "x1hlE2egwCvk"
      },
      "execution_count": 19,
      "outputs": []
    },
    {
      "cell_type": "code",
      "execution_count": 20,
      "metadata": {
        "colab": {
          "base_uri": "https://localhost:8080/"
        },
        "id": "yJC2FQxmHqa9",
        "outputId": "5a92a3af-6729-4ae6-c86f-3ec64378bc6e"
      },
      "outputs": [
        {
          "output_type": "stream",
          "name": "stdout",
          "text": [
            "Model: \"transformer\"\n",
            "__________________________________________________________________________________________________\n",
            " Layer (type)                   Output Shape         Param #     Connected to                     \n",
            "==================================================================================================\n",
            " encoder_inputs (InputLayer)    [(None, None)]       0           []                               \n",
            "                                                                                                  \n",
            " positional_embedding_2 (Positi  (None, None, 256)   3968000     ['encoder_inputs[0][0]']         \n",
            " onalEmbedding)                                                                                   \n",
            "                                                                                                  \n",
            " decoder_inputs (InputLayer)    [(None, None)]       0           []                               \n",
            "                                                                                                  \n",
            " transformer_encoder_1 (Transfo  (None, None, 256)   3155456     ['positional_embedding_2[0][0]'] \n",
            " rmerEncoder)                                                                                     \n",
            "                                                                                                  \n",
            " model_3 (Functional)           (None, None, 15000)  13082520    ['decoder_inputs[0][0]',         \n",
            "                                                                  'transformer_encoder_1[0][0]']  \n",
            "                                                                                                  \n",
            "==================================================================================================\n",
            "Total params: 20,205,976\n",
            "Trainable params: 20,205,976\n",
            "Non-trainable params: 0\n",
            "__________________________________________________________________________________________________\n",
            "Epoch 1/150\n",
            "290/290 [==============================] - 112s 311ms/step - loss: inf - accuracy: 0.9073 - val_loss: 0.0149 - val_accuracy: 0.9959\n",
            "Epoch 2/150\n",
            "290/290 [==============================] - 64s 220ms/step - loss: 0.0105 - accuracy: 0.9979 - val_loss: 0.0042 - val_accuracy: 0.9989\n",
            "Epoch 3/150\n",
            "290/290 [==============================] - 64s 219ms/step - loss: 0.0051 - accuracy: 0.9989 - val_loss: 0.0030 - val_accuracy: 0.9991\n",
            "Epoch 4/150\n",
            "290/290 [==============================] - 64s 219ms/step - loss: 0.0035 - accuracy: 0.9992 - val_loss: 0.0030 - val_accuracy: 0.9991\n",
            "Epoch 5/150\n",
            "290/290 [==============================] - 64s 219ms/step - loss: inf - accuracy: 0.1838 - val_loss: inf - val_accuracy: 0.0969\n",
            "Epoch 6/150\n",
            "290/290 [==============================] - 64s 219ms/step - loss: inf - accuracy: 0.1459 - val_loss: inf - val_accuracy: 0.3249\n",
            "Epoch 7/150\n",
            "290/290 [==============================] - 64s 219ms/step - loss: inf - accuracy: 0.7273 - val_loss: 0.2367 - val_accuracy: 0.9302\n",
            "Epoch 8/150\n",
            "290/290 [==============================] - 64s 219ms/step - loss: 0.2100 - accuracy: 0.9352 - val_loss: 0.1542 - val_accuracy: 0.9465\n",
            "Epoch 9/150\n",
            "290/290 [==============================] - 63s 219ms/step - loss: 0.1436 - accuracy: 0.9499 - val_loss: 0.1092 - val_accuracy: 0.9587\n",
            "Epoch 10/150\n",
            "290/290 [==============================] - 64s 220ms/step - loss: 0.1075 - accuracy: 0.9600 - val_loss: 0.0842 - val_accuracy: 0.9664\n",
            "Epoch 11/150\n",
            "290/290 [==============================] - 64s 220ms/step - loss: 0.0854 - accuracy: 0.9669 - val_loss: 0.0702 - val_accuracy: 0.9708\n",
            "Epoch 12/150\n",
            "290/290 [==============================] - 64s 219ms/step - loss: 0.0729 - accuracy: 0.9708 - val_loss: 0.0625 - val_accuracy: 0.9734\n",
            "Epoch 13/150\n",
            "290/290 [==============================] - 63s 219ms/step - loss: 0.0658 - accuracy: 0.9730 - val_loss: 0.0585 - val_accuracy: 0.9748\n",
            "Epoch 14/150\n",
            "290/290 [==============================] - 63s 219ms/step - loss: 0.0604 - accuracy: 0.9746 - val_loss: 0.0530 - val_accuracy: 0.9766\n",
            "Epoch 15/150\n",
            "290/290 [==============================] - 63s 219ms/step - loss: 0.0525 - accuracy: 0.9776 - val_loss: 0.0438 - val_accuracy: 0.9810\n",
            "Epoch 16/150\n",
            "290/290 [==============================] - 64s 219ms/step - loss: 0.0452 - accuracy: 0.9807 - val_loss: 0.0400 - val_accuracy: 0.9820\n",
            "Epoch 17/150\n",
            "290/290 [==============================] - 63s 219ms/step - loss: 0.0422 - accuracy: 0.9817 - val_loss: 0.0384 - val_accuracy: 0.9827\n",
            "Epoch 18/150\n",
            "290/290 [==============================] - 63s 219ms/step - loss: 0.0406 - accuracy: 0.9821 - val_loss: 0.0371 - val_accuracy: 0.9830\n",
            "Epoch 19/150\n",
            "290/290 [==============================] - 63s 219ms/step - loss: 0.0391 - accuracy: 0.9825 - val_loss: 0.0361 - val_accuracy: 0.9832\n",
            "Epoch 20/150\n",
            "290/290 [==============================] - 63s 219ms/step - loss: 0.0381 - accuracy: 0.9828 - val_loss: 0.0358 - val_accuracy: 0.9833\n",
            "Epoch 21/150\n",
            "290/290 [==============================] - 63s 219ms/step - loss: 0.0374 - accuracy: 0.9830 - val_loss: 0.0353 - val_accuracy: 0.9832\n",
            "Epoch 22/150\n",
            "290/290 [==============================] - 63s 219ms/step - loss: 0.0361 - accuracy: 0.9836 - val_loss: 0.0325 - val_accuracy: 0.9847\n",
            "Epoch 23/150\n",
            "290/290 [==============================] - 63s 219ms/step - loss: inf - accuracy: 0.8753 - val_loss: 0.0582 - val_accuracy: 0.9786\n",
            "Epoch 24/150\n",
            "290/290 [==============================] - 63s 219ms/step - loss: 0.0527 - accuracy: 0.9806 - val_loss: 0.0403 - val_accuracy: 0.9832\n",
            "Epoch 25/150\n",
            "290/290 [==============================] - 64s 219ms/step - loss: 0.0421 - accuracy: 0.9831 - val_loss: 0.0359 - val_accuracy: 0.9847\n",
            "Epoch 26/150\n",
            "290/290 [==============================] - 64s 219ms/step - loss: 0.0385 - accuracy: 0.9841 - val_loss: 0.0339 - val_accuracy: 0.9851\n",
            "Epoch 27/150\n",
            "290/290 [==============================] - 64s 220ms/step - loss: 0.0357 - accuracy: 0.9850 - val_loss: 0.0330 - val_accuracy: 0.9857\n",
            "Epoch 28/150\n",
            "290/290 [==============================] - 64s 219ms/step - loss: 0.0343 - accuracy: 0.9854 - val_loss: 0.0324 - val_accuracy: 0.9856\n",
            "Epoch 29/150\n",
            "290/290 [==============================] - 63s 219ms/step - loss: 0.0334 - accuracy: 0.9857 - val_loss: 0.0311 - val_accuracy: 0.9862\n",
            "Epoch 30/150\n",
            "290/290 [==============================] - 64s 219ms/step - loss: 0.0324 - accuracy: 0.9859 - val_loss: 0.0300 - val_accuracy: 0.9867\n",
            "Epoch 31/150\n",
            "290/290 [==============================] - 64s 219ms/step - loss: 0.0316 - accuracy: 0.9862 - val_loss: 0.0294 - val_accuracy: 0.9869\n",
            "Epoch 32/150\n",
            "290/290 [==============================] - 64s 219ms/step - loss: 0.0310 - accuracy: 0.9864 - val_loss: 0.0299 - val_accuracy: 0.9863\n",
            "Epoch 33/150\n",
            "290/290 [==============================] - 64s 219ms/step - loss: 0.0308 - accuracy: 0.9865 - val_loss: 0.0287 - val_accuracy: 0.9871\n",
            "Epoch 34/150\n",
            "290/290 [==============================] - 63s 219ms/step - loss: 0.0297 - accuracy: 0.9870 - val_loss: 0.0284 - val_accuracy: 0.9873\n",
            "Epoch 35/150\n",
            "290/290 [==============================] - 64s 219ms/step - loss: 0.0294 - accuracy: 0.9873 - val_loss: 0.0280 - val_accuracy: 0.9878\n",
            "Epoch 36/150\n",
            "290/290 [==============================] - 64s 219ms/step - loss: 0.0278 - accuracy: 0.9878 - val_loss: 0.0255 - val_accuracy: 0.9886\n",
            "Epoch 37/150\n",
            "290/290 [==============================] - 64s 219ms/step - loss: 0.0263 - accuracy: 0.9884 - val_loss: 0.0247 - val_accuracy: 0.9889\n",
            "Epoch 38/150\n",
            "290/290 [==============================] - 64s 219ms/step - loss: 0.0254 - accuracy: 0.9887 - val_loss: 0.0240 - val_accuracy: 0.9891\n",
            "Epoch 39/150\n",
            "290/290 [==============================] - 63s 219ms/step - loss: 0.0242 - accuracy: 0.9893 - val_loss: 0.0216 - val_accuracy: 0.9903\n",
            "Epoch 40/150\n",
            "290/290 [==============================] - 64s 219ms/step - loss: 0.0210 - accuracy: 0.9909 - val_loss: 0.0177 - val_accuracy: 0.9923\n",
            "Epoch 41/150\n",
            "290/290 [==============================] - 64s 219ms/step - loss: 0.0179 - accuracy: 0.9923 - val_loss: 0.0149 - val_accuracy: 0.9932\n",
            "Epoch 42/150\n",
            "290/290 [==============================] - 63s 219ms/step - loss: 0.0155 - accuracy: 0.9932 - val_loss: 0.0130 - val_accuracy: 0.9941\n",
            "Epoch 43/150\n",
            "290/290 [==============================] - 63s 219ms/step - loss: 0.0124 - accuracy: 0.9948 - val_loss: 0.0092 - val_accuracy: 0.9962\n",
            "Epoch 44/150\n",
            "290/290 [==============================] - 64s 219ms/step - loss: 0.0086 - accuracy: 0.9965 - val_loss: 0.0067 - val_accuracy: 0.9972\n",
            "Epoch 45/150\n",
            "290/290 [==============================] - 64s 219ms/step - loss: 0.0071 - accuracy: 0.9972 - val_loss: 0.0048 - val_accuracy: 0.9982\n",
            "Epoch 46/150\n",
            "290/290 [==============================] - 63s 219ms/step - loss: 0.0048 - accuracy: 0.9983 - val_loss: 0.0041 - val_accuracy: 0.9986\n",
            "Epoch 47/150\n",
            "290/290 [==============================] - 63s 219ms/step - loss: 0.0040 - accuracy: 0.9987 - val_loss: 0.0031 - val_accuracy: 0.9990\n",
            "Epoch 48/150\n",
            "290/290 [==============================] - 63s 219ms/step - loss: 0.0032 - accuracy: 0.9990 - val_loss: 0.0026 - val_accuracy: 0.9992\n",
            "Epoch 49/150\n",
            "290/290 [==============================] - 64s 219ms/step - loss: 0.0034 - accuracy: 0.9990 - val_loss: 0.0025 - val_accuracy: 0.9992\n",
            "Epoch 50/150\n",
            "290/290 [==============================] - 64s 219ms/step - loss: 0.0029 - accuracy: 0.9991 - val_loss: 0.0022 - val_accuracy: 0.9993\n",
            "Epoch 51/150\n",
            "290/290 [==============================] - 64s 219ms/step - loss: 0.0028 - accuracy: 0.9992 - val_loss: 0.0022 - val_accuracy: 0.9993\n",
            "Epoch 52/150\n",
            "290/290 [==============================] - 63s 219ms/step - loss: 0.0029 - accuracy: 0.9991 - val_loss: 0.0018 - val_accuracy: 0.9994\n",
            "Epoch 53/150\n",
            "290/290 [==============================] - 63s 219ms/step - loss: 0.0015 - accuracy: 0.9995 - val_loss: 0.0017 - val_accuracy: 0.9995\n",
            "Epoch 54/150\n",
            "290/290 [==============================] - 63s 219ms/step - loss: 0.0029 - accuracy: 0.9991 - val_loss: 0.0020 - val_accuracy: 0.9994\n",
            "Epoch 55/150\n",
            "290/290 [==============================] - 64s 219ms/step - loss: 0.0017 - accuracy: 0.9995 - val_loss: 0.0015 - val_accuracy: 0.9995\n",
            "Epoch 56/150\n",
            "290/290 [==============================] - 64s 219ms/step - loss: 0.0013 - accuracy: 0.9996 - val_loss: 0.0015 - val_accuracy: 0.9996\n",
            "Epoch 57/150\n",
            "290/290 [==============================] - 64s 219ms/step - loss: 0.0020 - accuracy: 0.9994 - val_loss: 0.0017 - val_accuracy: 0.9995\n",
            "Epoch 58/150\n",
            "290/290 [==============================] - 63s 219ms/step - loss: 0.0013 - accuracy: 0.9996 - val_loss: 0.0014 - val_accuracy: 0.9996\n",
            "Epoch 59/150\n",
            "290/290 [==============================] - 63s 219ms/step - loss: inf - accuracy: 0.9891 - val_loss: 0.0122 - val_accuracy: 0.9955\n",
            "Epoch 60/150\n",
            "290/290 [==============================] - 64s 220ms/step - loss: 0.0078 - accuracy: 0.9972 - val_loss: 0.0037 - val_accuracy: 0.9985\n",
            "Epoch 61/150\n",
            "290/290 [==============================] - 64s 219ms/step - loss: 0.0034 - accuracy: 0.9987 - val_loss: 0.0024 - val_accuracy: 0.9991\n",
            "Epoch 62/150\n",
            "290/290 [==============================] - 64s 219ms/step - loss: 0.0022 - accuracy: 0.9992 - val_loss: 0.0019 - val_accuracy: 0.9992\n",
            "Epoch 63/150\n",
            "290/290 [==============================] - 64s 219ms/step - loss: 0.0018 - accuracy: 0.9993 - val_loss: 0.0017 - val_accuracy: 0.9994\n",
            "Epoch 64/150\n",
            "290/290 [==============================] - 64s 219ms/step - loss: 0.0018 - accuracy: 0.9994 - val_loss: 0.0016 - val_accuracy: 0.9995\n",
            "Epoch 65/150\n",
            "290/290 [==============================] - 64s 219ms/step - loss: 0.0012 - accuracy: 0.9996 - val_loss: 0.0014 - val_accuracy: 0.9996\n",
            "Epoch 66/150\n",
            "290/290 [==============================] - 64s 219ms/step - loss: 0.0012 - accuracy: 0.9996 - val_loss: 0.0013 - val_accuracy: 0.9996\n",
            "Epoch 67/150\n",
            "290/290 [==============================] - 64s 219ms/step - loss: 0.0013 - accuracy: 0.9996 - val_loss: 0.0018 - val_accuracy: 0.9995\n",
            "Epoch 68/150\n",
            "290/290 [==============================] - 64s 219ms/step - loss: 0.0010 - accuracy: 0.9997 - val_loss: 0.0012 - val_accuracy: 0.9997\n",
            "Epoch 69/150\n",
            "290/290 [==============================] - 64s 219ms/step - loss: 9.0433e-04 - accuracy: 0.9997 - val_loss: 0.0021 - val_accuracy: 0.9994\n",
            "Epoch 70/150\n",
            "290/290 [==============================] - 64s 220ms/step - loss: 0.0013 - accuracy: 0.9996 - val_loss: 0.0014 - val_accuracy: 0.9996\n",
            "Epoch 71/150\n",
            "290/290 [==============================] - 64s 219ms/step - loss: 0.0023 - accuracy: 0.9993 - val_loss: 0.0018 - val_accuracy: 0.9994\n",
            "Epoch 72/150\n",
            "290/290 [==============================] - 64s 220ms/step - loss: 0.0013 - accuracy: 0.9996 - val_loss: 0.0014 - val_accuracy: 0.9996\n",
            "Epoch 73/150\n",
            "290/290 [==============================] - 64s 220ms/step - loss: 0.0014 - accuracy: 0.9996 - val_loss: 0.0015 - val_accuracy: 0.9996\n",
            "Epoch 74/150\n",
            "290/290 [==============================] - 63s 219ms/step - loss: 0.0010 - accuracy: 0.9997 - val_loss: 0.0013 - val_accuracy: 0.9996\n",
            "Epoch 75/150\n",
            "290/290 [==============================] - 63s 219ms/step - loss: 0.0011 - accuracy: 0.9997 - val_loss: 0.0015 - val_accuracy: 0.9996\n",
            "Epoch 76/150\n",
            "290/290 [==============================] - 63s 219ms/step - loss: 0.0015 - accuracy: 0.9996 - val_loss: 0.0012 - val_accuracy: 0.9996\n",
            "Epoch 77/150\n",
            "290/290 [==============================] - 63s 218ms/step - loss: 9.7993e-04 - accuracy: 0.9997 - val_loss: 0.0013 - val_accuracy: 0.9996\n",
            "Epoch 78/150\n",
            "290/290 [==============================] - 64s 219ms/step - loss: 8.8138e-04 - accuracy: 0.9997 - val_loss: 0.0016 - val_accuracy: 0.9996\n",
            "Epoch 79/150\n",
            "290/290 [==============================] - 64s 219ms/step - loss: 0.0026 - accuracy: 0.9993 - val_loss: 0.0021 - val_accuracy: 0.9995\n",
            "Epoch 80/150\n",
            "290/290 [==============================] - 64s 219ms/step - loss: 0.0010 - accuracy: 0.9997 - val_loss: 0.0015 - val_accuracy: 0.9996\n",
            "Epoch 81/150\n",
            "290/290 [==============================] - 64s 219ms/step - loss: 7.8517e-04 - accuracy: 0.9998 - val_loss: 0.0012 - val_accuracy: 0.9997\n",
            "Epoch 82/150\n",
            "290/290 [==============================] - 63s 219ms/step - loss: 0.0014 - accuracy: 0.9996 - val_loss: 0.0074 - val_accuracy: 0.9978\n",
            "Epoch 83/150\n",
            "290/290 [==============================] - 63s 218ms/step - loss: 0.0017 - accuracy: 0.9995 - val_loss: 0.0014 - val_accuracy: 0.9996\n",
            "Epoch 84/150\n",
            "290/290 [==============================] - 63s 219ms/step - loss: 7.4729e-04 - accuracy: 0.9998 - val_loss: 0.0011 - val_accuracy: 0.9997\n",
            "Epoch 85/150\n",
            "290/290 [==============================] - 63s 219ms/step - loss: 8.3788e-04 - accuracy: 0.9997 - val_loss: 0.0012 - val_accuracy: 0.9997\n",
            "Epoch 86/150\n",
            "290/290 [==============================] - 63s 219ms/step - loss: 8.7324e-04 - accuracy: 0.9997 - val_loss: 0.0017 - val_accuracy: 0.9996\n",
            "Epoch 87/150\n",
            "290/290 [==============================] - 63s 219ms/step - loss: 0.0015 - accuracy: 0.9996 - val_loss: 0.0012 - val_accuracy: 0.9997\n",
            "Epoch 88/150\n",
            "290/290 [==============================] - 63s 219ms/step - loss: 9.8752e-04 - accuracy: 0.9997 - val_loss: 0.0014 - val_accuracy: 0.9996\n",
            "Epoch 89/150\n",
            "290/290 [==============================] - 64s 219ms/step - loss: 8.0643e-04 - accuracy: 0.9998 - val_loss: 0.0012 - val_accuracy: 0.9997\n",
            "Epoch 90/150\n",
            "290/290 [==============================] - 63s 219ms/step - loss: inf - accuracy: 0.9931 - val_loss: 0.0024 - val_accuracy: 0.9993\n",
            "Epoch 91/150\n",
            "290/290 [==============================] - 64s 219ms/step - loss: 0.0018 - accuracy: 0.9995 - val_loss: 0.0014 - val_accuracy: 0.9996\n",
            "Epoch 92/150\n",
            "290/290 [==============================] - 63s 219ms/step - loss: 0.0011 - accuracy: 0.9997 - val_loss: 0.0013 - val_accuracy: 0.9996\n",
            "Epoch 93/150\n",
            "290/290 [==============================] - 64s 219ms/step - loss: 7.9971e-04 - accuracy: 0.9998 - val_loss: 0.0011 - val_accuracy: 0.9997\n",
            "Epoch 94/150\n",
            "290/290 [==============================] - 63s 219ms/step - loss: 6.4556e-04 - accuracy: 0.9998 - val_loss: 0.0011 - val_accuracy: 0.9997\n",
            "Epoch 95/150\n",
            "290/290 [==============================] - 63s 219ms/step - loss: 6.2576e-04 - accuracy: 0.9998 - val_loss: 0.0013 - val_accuracy: 0.9997\n",
            "Epoch 96/150\n",
            "290/290 [==============================] - 63s 219ms/step - loss: 6.7084e-04 - accuracy: 0.9998 - val_loss: 0.0012 - val_accuracy: 0.9997\n",
            "Epoch 97/150\n",
            "290/290 [==============================] - 64s 219ms/step - loss: 5.7105e-04 - accuracy: 0.9998 - val_loss: 0.0011 - val_accuracy: 0.9997\n",
            "Epoch 98/150\n",
            "290/290 [==============================] - 64s 219ms/step - loss: 6.3998e-04 - accuracy: 0.9998 - val_loss: 0.0014 - val_accuracy: 0.9997\n",
            "Epoch 99/150\n",
            "290/290 [==============================] - 63s 219ms/step - loss: 7.5335e-04 - accuracy: 0.9998 - val_loss: 0.0012 - val_accuracy: 0.9997\n",
            "Epoch 100/150\n",
            "290/290 [==============================] - 63s 219ms/step - loss: 6.8234e-04 - accuracy: 0.9998 - val_loss: 0.0012 - val_accuracy: 0.9997\n",
            "Epoch 101/150\n",
            "290/290 [==============================] - 63s 219ms/step - loss: 5.5749e-04 - accuracy: 0.9998 - val_loss: 0.0012 - val_accuracy: 0.9997\n",
            "Epoch 102/150\n",
            "290/290 [==============================] - 63s 219ms/step - loss: 7.2652e-04 - accuracy: 0.9998 - val_loss: 0.0020 - val_accuracy: 0.9995\n",
            "Epoch 103/150\n",
            "290/290 [==============================] - 63s 219ms/step - loss: 7.9815e-04 - accuracy: 0.9998 - val_loss: 0.0011 - val_accuracy: 0.9997\n",
            "Epoch 104/150\n",
            "290/290 [==============================] - 63s 219ms/step - loss: 5.6046e-04 - accuracy: 0.9998 - val_loss: 0.0011 - val_accuracy: 0.9998\n",
            "Epoch 105/150\n",
            "290/290 [==============================] - 63s 219ms/step - loss: 5.3237e-04 - accuracy: 0.9998 - val_loss: 0.0011 - val_accuracy: 0.9998\n",
            "Epoch 106/150\n",
            "290/290 [==============================] - 64s 219ms/step - loss: 9.0010e-04 - accuracy: 0.9998 - val_loss: 0.0019 - val_accuracy: 0.9995\n",
            "Epoch 107/150\n",
            "290/290 [==============================] - 63s 219ms/step - loss: 9.0510e-04 - accuracy: 0.9997 - val_loss: 0.0012 - val_accuracy: 0.9997\n",
            "Epoch 108/150\n",
            "290/290 [==============================] - 67s 232ms/step - loss: 7.4335e-04 - accuracy: 0.9998 - val_loss: 0.0014 - val_accuracy: 0.9997\n",
            "Epoch 109/150\n",
            "290/290 [==============================] - 63s 219ms/step - loss: 9.2738e-04 - accuracy: 0.9997 - val_loss: 0.0013 - val_accuracy: 0.9997\n",
            "Epoch 110/150\n",
            "290/290 [==============================] - 63s 219ms/step - loss: 7.0633e-04 - accuracy: 0.9998 - val_loss: 0.0012 - val_accuracy: 0.9997\n",
            "Epoch 111/150\n",
            "290/290 [==============================] - 63s 219ms/step - loss: 5.9744e-04 - accuracy: 0.9998 - val_loss: 0.0011 - val_accuracy: 0.9997\n",
            "Epoch 112/150\n",
            "290/290 [==============================] - 64s 219ms/step - loss: 4.8266e-04 - accuracy: 0.9998 - val_loss: 0.0015 - val_accuracy: 0.9996\n",
            "Epoch 113/150\n",
            "290/290 [==============================] - 63s 219ms/step - loss: 0.0012 - accuracy: 0.9997 - val_loss: 0.0012 - val_accuracy: 0.9997\n",
            "Epoch 114/150\n",
            "290/290 [==============================] - 63s 219ms/step - loss: 6.2028e-04 - accuracy: 0.9998 - val_loss: 0.0013 - val_accuracy: 0.9997\n",
            "Epoch 115/150\n",
            "290/290 [==============================] - 63s 219ms/step - loss: 6.8381e-04 - accuracy: 0.9998 - val_loss: 0.0012 - val_accuracy: 0.9998\n",
            "Epoch 116/150\n",
            "290/290 [==============================] - 63s 219ms/step - loss: 7.8505e-04 - accuracy: 0.9998 - val_loss: 0.0014 - val_accuracy: 0.9997\n",
            "Epoch 117/150\n",
            "290/290 [==============================] - 63s 219ms/step - loss: 0.0013 - accuracy: 0.9996 - val_loss: 0.0013 - val_accuracy: 0.9997\n",
            "Epoch 118/150\n",
            "290/290 [==============================] - 64s 219ms/step - loss: 8.2593e-04 - accuracy: 0.9998 - val_loss: 0.0011 - val_accuracy: 0.9997\n",
            "Epoch 119/150\n",
            "290/290 [==============================] - 63s 219ms/step - loss: 5.1879e-04 - accuracy: 0.9998 - val_loss: 0.0010 - val_accuracy: 0.9998\n",
            "Epoch 120/150\n",
            "290/290 [==============================] - 63s 219ms/step - loss: 4.7340e-04 - accuracy: 0.9999 - val_loss: 0.0011 - val_accuracy: 0.9998\n",
            "Epoch 121/150\n",
            "290/290 [==============================] - 63s 219ms/step - loss: 7.6587e-04 - accuracy: 0.9998 - val_loss: 0.0017 - val_accuracy: 0.9996\n",
            "Epoch 122/150\n",
            "290/290 [==============================] - 63s 219ms/step - loss: 0.0010 - accuracy: 0.9997 - val_loss: 0.0011 - val_accuracy: 0.9997\n",
            "Epoch 123/150\n",
            "290/290 [==============================] - 64s 219ms/step - loss: 5.6581e-04 - accuracy: 0.9998 - val_loss: 0.0011 - val_accuracy: 0.9998\n",
            "Epoch 124/150\n",
            "290/290 [==============================] - 63s 219ms/step - loss: 7.5000e-04 - accuracy: 0.9998 - val_loss: 0.0012 - val_accuracy: 0.9997\n",
            "Epoch 125/150\n",
            "290/290 [==============================] - 63s 219ms/step - loss: 5.6602e-04 - accuracy: 0.9998 - val_loss: 0.0011 - val_accuracy: 0.9998\n",
            "Epoch 126/150\n",
            "290/290 [==============================] - 64s 219ms/step - loss: 0.0011 - accuracy: 0.9997 - val_loss: 0.0012 - val_accuracy: 0.9997\n",
            "Epoch 127/150\n",
            "290/290 [==============================] - 63s 219ms/step - loss: 7.0825e-04 - accuracy: 0.9998 - val_loss: 0.0011 - val_accuracy: 0.9998\n",
            "Epoch 128/150\n",
            "290/290 [==============================] - 63s 219ms/step - loss: 7.6648e-04 - accuracy: 0.9998 - val_loss: 0.0019 - val_accuracy: 0.9995\n",
            "Epoch 129/150\n",
            "290/290 [==============================] - 63s 219ms/step - loss: 7.9880e-04 - accuracy: 0.9998 - val_loss: 0.0011 - val_accuracy: 0.9998\n",
            "Epoch 130/150\n",
            "290/290 [==============================] - 63s 219ms/step - loss: 5.8044e-04 - accuracy: 0.9998 - val_loss: 0.0011 - val_accuracy: 0.9998\n",
            "Epoch 131/150\n",
            "290/290 [==============================] - 63s 219ms/step - loss: 4.2105e-04 - accuracy: 0.9999 - val_loss: 0.0011 - val_accuracy: 0.9998\n",
            "Epoch 132/150\n",
            "290/290 [==============================] - 63s 219ms/step - loss: 3.7149e-04 - accuracy: 0.9999 - val_loss: 0.0011 - val_accuracy: 0.9998\n",
            "Epoch 133/150\n",
            "290/290 [==============================] - 63s 218ms/step - loss: 0.0015 - accuracy: 0.9996 - val_loss: 0.0015 - val_accuracy: 0.9997\n",
            "Epoch 134/150\n",
            "290/290 [==============================] - 63s 218ms/step - loss: 9.8363e-04 - accuracy: 0.9997 - val_loss: 0.0012 - val_accuracy: 0.9997\n",
            "Epoch 135/150\n",
            "290/290 [==============================] - 64s 219ms/step - loss: 5.2423e-04 - accuracy: 0.9998 - val_loss: 0.0010 - val_accuracy: 0.9998\n",
            "Epoch 136/150\n",
            "290/290 [==============================] - 63s 219ms/step - loss: 4.5853e-04 - accuracy: 0.9999 - val_loss: 0.0011 - val_accuracy: 0.9998\n",
            "Epoch 137/150\n",
            "290/290 [==============================] - 63s 219ms/step - loss: 3.9979e-04 - accuracy: 0.9999 - val_loss: 0.0011 - val_accuracy: 0.9998\n",
            "Epoch 138/150\n",
            "290/290 [==============================] - 64s 219ms/step - loss: 5.6164e-04 - accuracy: 0.9998 - val_loss: 0.0010 - val_accuracy: 0.9998\n",
            "Epoch 139/150\n",
            "290/290 [==============================] - 64s 219ms/step - loss: 4.1041e-04 - accuracy: 0.9999 - val_loss: 0.0011 - val_accuracy: 0.9998\n",
            "Epoch 140/150\n",
            "290/290 [==============================] - 64s 219ms/step - loss: 9.8608e-04 - accuracy: 0.9997 - val_loss: 0.0012 - val_accuracy: 0.9997\n",
            "Epoch 141/150\n",
            "290/290 [==============================] - 63s 219ms/step - loss: 4.4545e-04 - accuracy: 0.9999 - val_loss: 0.0011 - val_accuracy: 0.9998\n",
            "Epoch 142/150\n",
            "290/290 [==============================] - 63s 219ms/step - loss: 5.7481e-04 - accuracy: 0.9998 - val_loss: 0.0013 - val_accuracy: 0.9997\n",
            "Epoch 143/150\n",
            "290/290 [==============================] - 63s 219ms/step - loss: 6.1024e-04 - accuracy: 0.9998 - val_loss: 0.0011 - val_accuracy: 0.9998\n",
            "Epoch 144/150\n",
            "290/290 [==============================] - 64s 219ms/step - loss: 3.9783e-04 - accuracy: 0.9999 - val_loss: 0.0010 - val_accuracy: 0.9998\n",
            "Epoch 145/150\n",
            "290/290 [==============================] - 63s 219ms/step - loss: 4.2773e-04 - accuracy: 0.9999 - val_loss: 0.0011 - val_accuracy: 0.9998\n",
            "Epoch 146/150\n",
            "290/290 [==============================] - 64s 219ms/step - loss: 0.0012 - accuracy: 0.9997 - val_loss: 0.0016 - val_accuracy: 0.9996\n",
            "Epoch 147/150\n",
            "290/290 [==============================] - 64s 219ms/step - loss: 6.0237e-04 - accuracy: 0.9998 - val_loss: 0.0011 - val_accuracy: 0.9998\n",
            "Epoch 148/150\n",
            "290/290 [==============================] - 63s 219ms/step - loss: 3.5704e-04 - accuracy: 0.9999 - val_loss: 0.0011 - val_accuracy: 0.9998\n",
            "Epoch 149/150\n",
            "290/290 [==============================] - 64s 219ms/step - loss: 3.9649e-04 - accuracy: 0.9999 - val_loss: 0.0011 - val_accuracy: 0.9998\n",
            "Epoch 150/150\n",
            "290/290 [==============================] - 63s 219ms/step - loss: 3.4010e-04 - accuracy: 0.9999 - val_loss: 0.0011 - val_accuracy: 0.9998\n"
          ]
        }
      ],
      "source": [
        "epochs = 150  # This should be at least 30 for convergence\n",
        "# steps_per_epoch = 100,\n",
        "transformer.summary()\n",
        "transformer.compile(\n",
        "    \"adam\", loss=\"sparse_categorical_crossentropy\", metrics=[\"accuracy\"]\n",
        ")\n",
        "history = transformer.fit(train_ds, epochs=epochs, validation_data=val_ds)\n",
        "\n"
      ]
    },
    {
      "cell_type": "code",
      "execution_count": 20,
      "metadata": {
        "id": "mltZPv8ClL-d"
      },
      "outputs": [],
      "source": []
    },
    {
      "cell_type": "code",
      "execution_count": 21,
      "metadata": {
        "id": "QA19vfoVqH70",
        "colab": {
          "base_uri": "https://localhost:8080/",
          "height": 449
        },
        "outputId": "f39157ca-b1e3-4a14-9507-77e097710694"
      },
      "outputs": [
        {
          "output_type": "display_data",
          "data": {
            "text/plain": [
              "<Figure size 640x480 with 1 Axes>"
            ],
            "image/png": "[encoded data removed]"
          },
          "metadata": {}
        }
      ],
      "source": [
        "import matplotlib.pyplot as plt\n",
        "\n",
        "\n",
        "plt.plot(history.history['accuracy'], label='Accuracy')\n",
        "plt.plot(history.history['loss'], label='Loss')\n",
        "plt.plot(history.history['val_accuracy'], label='Validation Accuracy')\n",
        "plt.plot(history.history['val_loss'], label='Validation Loss')\n",
        "\n",
        "plt.xlabel('Epochs')\n",
        "plt.ylabel('Metrics')\n",
        "plt.legend()\n",
        "plt.show()\n"
      ]
    },
    {
      "cell_type": "markdown",
      "metadata": {
        "id": "Qjx1ptXzHqa9"
      },
      "source": [
        "## Decoding test sentences\n",
        "\n",
        "Finally, let's demonstrate how to translate brand new English sentences.\n",
        "We simply feed into the model the vectorized English sentence\n",
        "as well as the target token `\"[start]\"`, then we repeatedly generated the next token, until\n",
        "we hit the token `\"[end]\"`."
      ]
    },
    {
      "cell_type": "code",
      "execution_count": 23,
      "metadata": {
        "id": "tSflJcBEHqa9"
      },
      "outputs": [],
      "source": [
        "spa_vocab = spa_vectorization.get_vocabulary()\n",
        "spa_index_lookup = dict(zip(range(len(spa_vocab)), spa_vocab))\n",
        "max_decoded_sentence_length = 500\n",
        "\n",
        "\n",
        "def decode_sequence(input_sentence):\n",
        "    tokenized_input_sentence = eng_vectorization([input_sentence])\n",
        "    decoded_sentence = \"[start]\"\n",
        "    for i in range(max_decoded_sentence_length):\n",
        "        tokenized_target_sentence = spa_vectorization([decoded_sentence])[:, :-1]\n",
        "        predictions = transformer([tokenized_input_sentence, tokenized_target_sentence])\n",
        "\n",
        "        sampled_token_index = np.argmax(predictions[0, i, :])\n",
        "        sampled_token = spa_index_lookup[sampled_token_index]\n",
        "        decoded_sentence += \" \" + sampled_token\n",
        "\n",
        "        if sampled_token == \"[end]\":\n",
        "            break\n",
        "    return decoded_sentence\n",
        "\n",
        "\n",
        "test_eng_texts = [pair[0] for pair in test_pairs]\n",
        "for _ in range(30):\n",
        "    input_sentence = random.choice(test_eng_texts)\n",
        "    translated = decode_sequence(input_sentence)"
      ]
    },
    {
      "cell_type": "markdown",
      "metadata": {
        "id": "5idcwgsIIt7I"
      },
      "source": [
        "## Adding data from Test set"
      ]
    },
    {
      "cell_type": "code",
      "execution_count": 1,
      "metadata": {
        "id": "N3p0oR60I0x8"
      },
      "outputs": [],
      "source": [
        "import pandas as pd\n",
        "\n",
        "\n",
        "dc = pd.read_excel('random_set_1.0.xlsx')"
      ]
    },
    {
      "cell_type": "code",
      "execution_count": 2,
      "metadata": {
        "id": "iocoqiuuJYo9",
        "colab": {
          "base_uri": "https://localhost:8080/",
          "height": 206
        },
        "outputId": "af2cc6cf-bc87-405d-9909-7c640f11b3f4"
      },
      "outputs": [
        {
          "output_type": "execute_result",
          "data": {
            "text/plain": [
              "                                          OM_Regular  OM_Prediction\n",
              "0  moduleOM_name one sig class1_name extends Clas...              1\n",
              "1  moduleOM_name one sig class1_name extends Clas...              1\n",
              "2  moduleOM_name one sig class1_name extends Clas...              1\n",
              "3  moduleOM_name one sig class1_name extends Clas...              1\n",
              "4  moduleOM_name one sig class1_name extends Clas...              1"
            ],
            "text/html": [
              "\n",
              "  <div id=\"df-081e5236-19d9-4249-8146-ec2b6c9c038f\">\n",
              "    <div class=\"colab-df-container\">\n",
              "      <div>\n",
              "<style scoped>\n",
              "    .dataframe tbody tr th:only-of-type {\n",
              "        vertical-align: middle;\n",
              "    }\n",
              "\n",
              "    .dataframe tbody tr th {\n",
              "        vertical-align: top;\n",
              "    }\n",
              "\n",
              "    .dataframe thead th {\n",
              "        text-align: right;\n",
              "    }\n",
              "</style>\n",
              "<table border=\"1\" class=\"dataframe\">\n",
              "  <thead>\n",
              "    <tr style=\"text-align: right;\">\n",
              "      <th></th>\n",
              "      <th>OM_Regular</th>\n",
              "      <th>OM_Prediction</th>\n",
              "    </tr>\n",
              "  </thead>\n",
              "  <tbody>\n",
              "    <tr>\n",
              "      <th>0</th>\n",
              "      <td>moduleOM_name one sig class1_name extends Clas...</td>\n",
              "      <td>1</td>\n",
              "    </tr>\n",
              "    <tr>\n",
              "      <th>1</th>\n",
              "      <td>moduleOM_name one sig class1_name extends Clas...</td>\n",
              "      <td>1</td>\n",
              "    </tr>\n",
              "    <tr>\n",
              "      <th>2</th>\n",
              "      <td>moduleOM_name one sig class1_name extends Clas...</td>\n",
              "      <td>1</td>\n",
              "    </tr>\n",
              "    <tr>\n",
              "      <th>3</th>\n",
              "      <td>moduleOM_name one sig class1_name extends Clas...</td>\n",
              "      <td>1</td>\n",
              "    </tr>\n",
              "    <tr>\n",
              "      <th>4</th>\n",
              "      <td>moduleOM_name one sig class1_name extends Clas...</td>\n",
              "      <td>1</td>\n",
              "    </tr>\n",
              "  </tbody>\n",
              "</table>\n",
              "</div>\n",
              "      <button class=\"colab-df-convert\" onclick=\"convertToInteractive('df-081e5236-19d9-4249-8146-ec2b6c9c038f')\"\n",
              "              title=\"Convert this dataframe to an interactive table.\"\n",
              "              style=\"display:none;\">\n",
              "        \n",
              "  <svg xmlns=\"http://www.w3.org/2000/svg\" height=\"24px\"viewBox=\"0 0 24 24\"\n",
              "       width=\"24px\">\n",
              "    <path d=\"M0 0h24v24H0V0z\" fill=\"none\"/>\n",
              "    <path d=\"M18.56 5.44l.94 2.06.94-2.06 2.06-.94-2.06-.94-.94-2.06-.94 2.06-2.06.94zm-11 1L8.5 8.5l.94-2.06 2.06-.94-2.06-.94L8.5 2.5l-.94 2.06-2.06.94zm10 10l.94 2.06.94-2.06 2.06-.94-2.06-.94-.94-2.06-.94 2.06-2.06.94z\"/><path d=\"M17.41 7.96l-1.37-1.37c-.4-.4-.92-.59-1.43-.59-.52 0-1.04.2-1.43.59L10.3 9.45l-7.72 7.72c-.78.78-.78 2.05 0 2.83L4 21.41c.39.39.9.59 1.41.59.51 0 1.02-.2 1.41-.59l7.78-7.78 2.81-2.81c.8-.78.8-2.07 0-2.86zM5.41 20L4 18.59l7.72-7.72 1.47 1.35L5.41 20z\"/>\n",
              "  </svg>\n",
              "      </button>\n",
              "      \n",
              "  <style>\n",
              "    .colab-df-container {\n",
              "      display:flex;\n",
              "      flex-wrap:wrap;\n",
              "      gap: 12px;\n",
              "    }\n",
              "\n",
              "    .colab-df-convert {\n",
              "      background-color: #E8F0FE;\n",
              "      border: none;\n",
              "      border-radius: 50%;\n",
              "      cursor: pointer;\n",
              "      display: none;\n",
              "      fill: #1967D2;\n",
              "      height: 32px;\n",
              "      padding: 0 0 0 0;\n",
              "      width: 32px;\n",
              "    }\n",
              "\n",
              "    .colab-df-convert:hover {\n",
              "      background-color: #E2EBFA;\n",
              "      box-shadow: 0px 1px 2px rgba(60, 64, 67, 0.3), 0px 1px 3px 1px rgba(60, 64, 67, 0.15);\n",
              "      fill: #174EA6;\n",
              "    }\n",
              "\n",
              "    [theme=dark] .colab-df-convert {\n",
              "      background-color: #3B4455;\n",
              "      fill: #D2E3FC;\n",
              "    }\n",
              "\n",
              "    [theme=dark] .colab-df-convert:hover {\n",
              "      background-color: #434B5C;\n",
              "      box-shadow: 0px 1px 3px 1px rgba(0, 0, 0, 0.15);\n",
              "      filter: drop-shadow(0px 1px 2px rgba(0, 0, 0, 0.3));\n",
              "      fill: #FFFFFF;\n",
              "    }\n",
              "  </style>\n",
              "\n",
              "      <script>\n",
              "        const buttonEl =\n",
              "          document.querySelector('#df-081e5236-19d9-4249-8146-ec2b6c9c038f button.colab-df-convert');\n",
              "        buttonEl.style.display =\n",
              "          google.colab.kernel.accessAllowed ? 'block' : 'none';\n",
              "\n",
              "        async function convertToInteractive(key) {\n",
              "          const element = document.querySelector('#df-081e5236-19d9-4249-8146-ec2b6c9c038f');\n",
              "          const dataTable =\n",
              "            await google.colab.kernel.invokeFunction('convertToInteractive',\n",
              "                                                     [key], {});\n",
              "          if (!dataTable) return;\n",
              "\n",
              "          const docLinkHtml = 'Like what you see? Visit the ' +\n",
              "            '<a target=\"_blank\" href=https://colab.research.google.com/notebooks/data_table.ipynb>data table notebook</a>'\n",
              "            + ' to learn more about interactive tables.';\n",
              "          element.innerHTML = '';\n",
              "          dataTable['output_type'] = 'display_data';\n",
              "          await google.colab.output.renderOutput(dataTable, element);\n",
              "          const docLink = document.createElement('div');\n",
              "          docLink.innerHTML = docLinkHtml;\n",
              "          element.appendChild(docLink);\n",
              "        }\n",
              "      </script>\n",
              "    </div>\n",
              "  </div>\n",
              "  "
            ]
          },
          "metadata": {},
          "execution_count": 2
        }
      ],
      "source": [
        "dc.head()"
      ]
    },
    {
      "cell_type": "code",
      "execution_count": 3,
      "metadata": {
        "id": "WEcoRd5hJGDT"
      },
      "outputs": [],
      "source": [
        "X_test2 = dc['OM_Regular'].values\n",
        "y_test2 = dc['OM_Prediction'].values"
      ]
    },
    {
      "cell_type": "code",
      "execution_count": 4,
      "metadata": {
        "id": "npksdP3PJOq6",
        "colab": {
          "base_uri": "https://localhost:8080/"
        },
        "outputId": "e1e11580-72b1-45f8-9727-7e11ec539bde"
      },
      "outputs": [
        {
          "output_type": "stream",
          "name": "stdout",
          "text": [
            "(4669,)\n",
            "(4669,)\n",
            "X data type:  object\n",
            "y data type:  int64\n"
          ]
        }
      ],
      "source": [
        "print(X_test2.shape)\n",
        "print(y_test2.shape)\n",
        "\n",
        "print(\"X data type: \", X_test2.dtype)\n",
        "print(\"y data type: \", y_test2.dtype)"
      ]
    },
    {
      "cell_type": "code",
      "execution_count": 5,
      "metadata": {
        "id": "l6Xn1sFBJQsA",
        "colab": {
          "base_uri": "https://localhost:8080/"
        },
        "outputId": "e3244f30-dfea-4946-bbab-e512bf52e0f5"
      },
      "outputs": [
        {
          "output_type": "stream",
          "name": "stdout",
          "text": [
            "[1 1 1 ... 0 0 0]\n"
          ]
        }
      ],
      "source": [
        "print(y_test2)"
      ]
    },
    {
      "cell_type": "code",
      "execution_count": 6,
      "metadata": {
        "id": "t_WywObeJdMJ"
      },
      "outputs": [],
      "source": [
        "inputs = X_test2"
      ]
    },
    {
      "cell_type": "markdown",
      "metadata": {
        "id": "dYRa3kkQJgA2"
      },
      "source": [
        "## Output from Unseen Data"
      ]
    },
    {
      "cell_type": "code",
      "execution_count": 13,
      "metadata": {
        "id": "GKIRmrcoJlG3"
      },
      "outputs": [],
      "source": [
        "# import time\n",
        "\n",
        "# start_time = time.time()\n",
        "# mylist_res = []\n",
        "# for sentence in inputs:\n",
        "#     result = decode_sequence(sentence)\n",
        "#     mylist_res.append(result)\n",
        "#     print(result)\n",
        "#     time.sleep(1)  # Add a 1-second delay between each print statement\n",
        "\n",
        "# end_time = time.time()\n",
        "# execution_time = end_time - start_time\n",
        "\n",
        "# print(f\"Execution time: {execution_time} seconds\")\n",
        "# print(mylist_res)"
      ]
    },
    {
      "cell_type": "markdown",
      "metadata": {
        "id": "hkeF3s1IJpWP"
      },
      "source": [
        "## Result Computation"
      ]
    },
    {
      "cell_type": "code",
      "execution_count": 7,
      "metadata": {
        "id": "KdsbTahpeSiP"
      },
      "outputs": [],
      "source": [
        "import warnings\n",
        "import numpy as np\n",
        "import pandas as pd\n",
        "import matplotlib.pyplot as plt\n",
        "from sklearn import datasets\n",
        "from sklearn.preprocessing import StandardScaler\n",
        "from sklearn.neighbors import KNeighborsClassifier\n",
        "from sklearn.model_selection import train_test_split, GridSearchCV, cross_val_score, cross_val_predict\n",
        "from sklearn.metrics import confusion_matrix, precision_score, recall_score, f1_score, roc_curve, roc_auc_score\n",
        "from sklearn.metrics import precision_recall_curve, classification_report"
      ]
    },
    {
      "cell_type": "code",
      "execution_count": 8,
      "metadata": {
        "id": "RFlUXSNheTt6"
      },
      "outputs": [],
      "source": [
        "dd = pd.read_excel('random_set_1.0-pred.xlsx')"
      ]
    },
    {
      "cell_type": "code",
      "execution_count": 9,
      "metadata": {
        "id": "SznLVsNbeWLx"
      },
      "outputs": [],
      "source": [
        "X_test_pred2 = dd['OM_Regular'].values\n",
        "y_test_pred2 = dd['OM_Prediction'].values"
      ]
    },
    {
      "cell_type": "code",
      "execution_count": 10,
      "metadata": {
        "id": "9iykq6NSeY0s",
        "colab": {
          "base_uri": "https://localhost:8080/"
        },
        "outputId": "a30a1d99-f7f6-45e2-9f10-f42a8ceddb6e"
      },
      "outputs": [
        {
          "output_type": "stream",
          "name": "stdout",
          "text": [
            "[0 0 0 ... 0 0 0]\n"
          ]
        }
      ],
      "source": [
        "print (y_test_pred2 )"
      ]
    },
    {
      "cell_type": "code",
      "execution_count": 11,
      "metadata": {
        "id": "drSHPblTebi6",
        "colab": {
          "base_uri": "https://localhost:8080/"
        },
        "outputId": "4918c35e-b3f4-40b9-cbae-396d23a41790"
      },
      "outputs": [
        {
          "output_type": "stream",
          "name": "stdout",
          "text": [
            "Testing: Precision = 0.032099\n",
            "Testing: Recall = 0.228070\n",
            "Testing: F1 Score = 0.056277\n",
            "\n",
            "Confusion Matrix (Test Data):\n",
            " [[3771  784]\n",
            " [  88   26]]\n"
          ]
        }
      ],
      "source": [
        "precision = precision_score(y_test2, y_test_pred2)\n",
        "print(\"Testing: Precision = %f\" % precision)\n",
        "\n",
        "\n",
        "recall = recall_score(y_test2, y_test_pred2)\n",
        "print(\"Testing: Recall = %f\" % recall)\n",
        "\n",
        "\n",
        "f1 = f1_score(y_test2, y_test_pred2)\n",
        "print(\"Testing: F1 Score = %f\" % f1)\n",
        "\n",
        "print(\"\\nConfusion Matrix (Test Data):\\n\", confusion_matrix(y_test2, y_test_pred2))"
      ]
    },
    {
      "cell_type": "code",
      "execution_count": 12,
      "metadata": {
        "id": "QwNDwGXVeeV1",
        "colab": {
          "base_uri": "https://localhost:8080/"
        },
        "outputId": "f016d3e0-b5f1-4ad7-ad59-44b55bc2fe3b"
      },
      "outputs": [
        {
          "output_type": "stream",
          "name": "stdout",
          "text": [
            "              precision    recall  f1-score   support\n",
            "\n",
            "           0       0.98      0.83      0.90      4555\n",
            "           1       0.03      0.23      0.06       114\n",
            "\n",
            "    accuracy                           0.81      4669\n",
            "   macro avg       0.50      0.53      0.48      4669\n",
            "weighted avg       0.95      0.81      0.88      4669\n",
            "\n"
          ]
        }
      ],
      "source": [
        "print(classification_report(y_test2,y_test_pred2))"
      ]
    }
  ],
  "metadata": {
    "accelerator": "GPU",
    "colab": {
      "provenance": [],
      "machine_shape": "hm",
      "gpuType": "T4"
    },
    "kernelspec": {
      "display_name": "Python 3",
      "name": "python3"
    },
    "language_info": {
      "codemirror_mode": {
        "name": "ipython",
        "version": 3
      },
      "file_extension": ".py",
      "mimetype": "text/x-python",
      "name": "python",
      "nbconvert_exporter": "python",
      "pygments_lexer": "ipython3",
      "version": "3.10.9"
    }
  },
  "nbformat": 4,
  "nbformat_minor": 0
}