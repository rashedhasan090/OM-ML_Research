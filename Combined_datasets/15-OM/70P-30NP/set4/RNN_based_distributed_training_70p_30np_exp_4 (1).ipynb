{
 "cells": [
  {
   "cell_type": "markdown",
   "metadata": {
    "id": "J0Qjg6vuaHNt"
   },
   "source": [
    "\n",
    "# RNN based distributed training\n",
    "\n",
    "RNN based distributed training - 70P - 30NP_exp_4.ipynb\n",
    "70P- 30NP : Experiment 4\n",
    "\n",
    "\n",
    "## Object Models: 15\n",
    "\n",
    "1.\tBank\n",
    "2.\tCamping\n",
    "3.\tCanteen\n",
    "4.\tCustomer_Order\n",
    "5.\tEcommerce\n",
    "6.\tHospital Management\n",
    "7.\tLibrary Management\n",
    "8.\tOnlinestore\n",
    "9.\tStudent Course\n",
    "10.\tTraffic_Controller\n",
    "11.\tUniversity\n",
    "12.\tDecider\n",
    "13.\tSchool_mgmt\n",
    "14.\tStore_mgmt\n",
    "15. Credit Card Process\n",
    "\n",
    "\n",
    "## Dataset Instances: 31139\n",
    "\n",
    "\n",
    "## Total Training Data: 26470\n",
    "\n",
    "### training set P :  18739\n",
    "\n",
    "### training set NP : 7730\n",
    "\n",
    "\n",
    "## Total Testing Data: 4670\n",
    "\n",
    "\n",
    "### testing set P : 1784\n",
    "\n",
    "### testing set NP : 2886"
   ]
  },
  {
   "cell_type": "markdown",
   "metadata": {
    "id": "yAmSR1FaqKrl"
   },
   "source": [
    "## Setup (installing necessary libraries)"
   ]
  },
  {
   "cell_type": "code",
   "execution_count": null,
   "metadata": {
    "colab": {
     "base_uri": "https://localhost:8080/"
    },
    "id": "DGFTkuRvzWqc",
    "outputId": "49cabd44-79ca-48c7-a3d8-6d6fcb30bfe1"
   },
   "outputs": [
    {
     "name": "stdout",
     "output_type": "stream",
     "text": [
      "Looking in indexes: https://pypi.org/simple, https://us-python.pkg.dev/colab-wheels/public/simple/\n",
      "Collecting tensorflow-text>=2.10\n",
      "  Downloading tensorflow_text-2.12.1-cp310-cp310-manylinux_2_17_x86_64.manylinux2014_x86_64.whl (6.0 MB)\n",
      "\u001b[2K     \u001b[90m━━━━━━━━━━━━━━━━━━━━━━━━━━━━━━━━━━━━━━━━\u001b[0m \u001b[32m6.0/6.0 MB\u001b[0m \u001b[31m50.1 MB/s\u001b[0m eta \u001b[36m0:00:00\u001b[0m\n",
      "\u001b[?25hRequirement already satisfied: tensorflow-hub>=0.8.0 in /usr/local/lib/python3.10/dist-packages (from tensorflow-text>=2.10) (0.13.0)\n",
      "Requirement already satisfied: tensorflow<2.13,>=2.12.0 in /usr/local/lib/python3.10/dist-packages (from tensorflow-text>=2.10) (2.12.0)\n",
      "Requirement already satisfied: absl-py>=1.0.0 in /usr/local/lib/python3.10/dist-packages (from tensorflow<2.13,>=2.12.0->tensorflow-text>=2.10) (1.4.0)\n",
      "Requirement already satisfied: astunparse>=1.6.0 in /usr/local/lib/python3.10/dist-packages (from tensorflow<2.13,>=2.12.0->tensorflow-text>=2.10) (1.6.3)\n",
      "Requirement already satisfied: flatbuffers>=2.0 in /usr/local/lib/python3.10/dist-packages (from tensorflow<2.13,>=2.12.0->tensorflow-text>=2.10) (23.3.3)\n",
      "Requirement already satisfied: gast<=0.4.0,>=0.2.1 in /usr/local/lib/python3.10/dist-packages (from tensorflow<2.13,>=2.12.0->tensorflow-text>=2.10) (0.4.0)\n",
      "Requirement already satisfied: google-pasta>=0.1.1 in /usr/local/lib/python3.10/dist-packages (from tensorflow<2.13,>=2.12.0->tensorflow-text>=2.10) (0.2.0)\n",
      "Requirement already satisfied: grpcio<2.0,>=1.24.3 in /usr/local/lib/python3.10/dist-packages (from tensorflow<2.13,>=2.12.0->tensorflow-text>=2.10) (1.54.0)\n",
      "Requirement already satisfied: h5py>=2.9.0 in /usr/local/lib/python3.10/dist-packages (from tensorflow<2.13,>=2.12.0->tensorflow-text>=2.10) (3.8.0)\n",
      "Requirement already satisfied: jax>=0.3.15 in /usr/local/lib/python3.10/dist-packages (from tensorflow<2.13,>=2.12.0->tensorflow-text>=2.10) (0.4.10)\n",
      "Requirement already satisfied: keras<2.13,>=2.12.0 in /usr/local/lib/python3.10/dist-packages (from tensorflow<2.13,>=2.12.0->tensorflow-text>=2.10) (2.12.0)\n",
      "Requirement already satisfied: libclang>=13.0.0 in /usr/local/lib/python3.10/dist-packages (from tensorflow<2.13,>=2.12.0->tensorflow-text>=2.10) (16.0.0)\n",
      "Requirement already satisfied: numpy<1.24,>=1.22 in /usr/local/lib/python3.10/dist-packages (from tensorflow<2.13,>=2.12.0->tensorflow-text>=2.10) (1.22.4)\n",
      "Requirement already satisfied: opt-einsum>=2.3.2 in /usr/local/lib/python3.10/dist-packages (from tensorflow<2.13,>=2.12.0->tensorflow-text>=2.10) (3.3.0)\n",
      "Requirement already satisfied: packaging in /usr/local/lib/python3.10/dist-packages (from tensorflow<2.13,>=2.12.0->tensorflow-text>=2.10) (23.1)\n",
      "Requirement already satisfied: protobuf!=4.21.0,!=4.21.1,!=4.21.2,!=4.21.3,!=4.21.4,!=4.21.5,<5.0.0dev,>=3.20.3 in /usr/local/lib/python3.10/dist-packages (from tensorflow<2.13,>=2.12.0->tensorflow-text>=2.10) (3.20.3)\n",
      "Requirement already satisfied: setuptools in /usr/local/lib/python3.10/dist-packages (from tensorflow<2.13,>=2.12.0->tensorflow-text>=2.10) (67.7.2)\n",
      "Requirement already satisfied: six>=1.12.0 in /usr/local/lib/python3.10/dist-packages (from tensorflow<2.13,>=2.12.0->tensorflow-text>=2.10) (1.16.0)\n",
      "Requirement already satisfied: tensorboard<2.13,>=2.12 in /usr/local/lib/python3.10/dist-packages (from tensorflow<2.13,>=2.12.0->tensorflow-text>=2.10) (2.12.2)\n",
      "Requirement already satisfied: tensorflow-estimator<2.13,>=2.12.0 in /usr/local/lib/python3.10/dist-packages (from tensorflow<2.13,>=2.12.0->tensorflow-text>=2.10) (2.12.0)\n",
      "Requirement already satisfied: termcolor>=1.1.0 in /usr/local/lib/python3.10/dist-packages (from tensorflow<2.13,>=2.12.0->tensorflow-text>=2.10) (2.3.0)\n",
      "Requirement already satisfied: typing-extensions>=3.6.6 in /usr/local/lib/python3.10/dist-packages (from tensorflow<2.13,>=2.12.0->tensorflow-text>=2.10) (4.5.0)\n",
      "Requirement already satisfied: wrapt<1.15,>=1.11.0 in /usr/local/lib/python3.10/dist-packages (from tensorflow<2.13,>=2.12.0->tensorflow-text>=2.10) (1.14.1)\n",
      "Requirement already satisfied: tensorflow-io-gcs-filesystem>=0.23.1 in /usr/local/lib/python3.10/dist-packages (from tensorflow<2.13,>=2.12.0->tensorflow-text>=2.10) (0.32.0)\n",
      "Requirement already satisfied: wheel<1.0,>=0.23.0 in /usr/local/lib/python3.10/dist-packages (from astunparse>=1.6.0->tensorflow<2.13,>=2.12.0->tensorflow-text>=2.10) (0.40.0)\n",
      "Requirement already satisfied: ml-dtypes>=0.1.0 in /usr/local/lib/python3.10/dist-packages (from jax>=0.3.15->tensorflow<2.13,>=2.12.0->tensorflow-text>=2.10) (0.1.0)\n",
      "Requirement already satisfied: scipy>=1.7 in /usr/local/lib/python3.10/dist-packages (from jax>=0.3.15->tensorflow<2.13,>=2.12.0->tensorflow-text>=2.10) (1.10.1)\n",
      "Requirement already satisfied: google-auth<3,>=1.6.3 in /usr/local/lib/python3.10/dist-packages (from tensorboard<2.13,>=2.12->tensorflow<2.13,>=2.12.0->tensorflow-text>=2.10) (2.17.3)\n",
      "Requirement already satisfied: google-auth-oauthlib<1.1,>=0.5 in /usr/local/lib/python3.10/dist-packages (from tensorboard<2.13,>=2.12->tensorflow<2.13,>=2.12.0->tensorflow-text>=2.10) (1.0.0)\n",
      "Requirement already satisfied: markdown>=2.6.8 in /usr/local/lib/python3.10/dist-packages (from tensorboard<2.13,>=2.12->tensorflow<2.13,>=2.12.0->tensorflow-text>=2.10) (3.4.3)\n",
      "Requirement already satisfied: requests<3,>=2.21.0 in /usr/local/lib/python3.10/dist-packages (from tensorboard<2.13,>=2.12->tensorflow<2.13,>=2.12.0->tensorflow-text>=2.10) (2.27.1)\n",
      "Requirement already satisfied: tensorboard-data-server<0.8.0,>=0.7.0 in /usr/local/lib/python3.10/dist-packages (from tensorboard<2.13,>=2.12->tensorflow<2.13,>=2.12.0->tensorflow-text>=2.10) (0.7.0)\n",
      "Requirement already satisfied: tensorboard-plugin-wit>=1.6.0 in /usr/local/lib/python3.10/dist-packages (from tensorboard<2.13,>=2.12->tensorflow<2.13,>=2.12.0->tensorflow-text>=2.10) (1.8.1)\n",
      "Requirement already satisfied: werkzeug>=1.0.1 in /usr/local/lib/python3.10/dist-packages (from tensorboard<2.13,>=2.12->tensorflow<2.13,>=2.12.0->tensorflow-text>=2.10) (2.3.0)\n",
      "Requirement already satisfied: cachetools<6.0,>=2.0.0 in /usr/local/lib/python3.10/dist-packages (from google-auth<3,>=1.6.3->tensorboard<2.13,>=2.12->tensorflow<2.13,>=2.12.0->tensorflow-text>=2.10) (5.3.0)\n",
      "Requirement already satisfied: pyasn1-modules>=0.2.1 in /usr/local/lib/python3.10/dist-packages (from google-auth<3,>=1.6.3->tensorboard<2.13,>=2.12->tensorflow<2.13,>=2.12.0->tensorflow-text>=2.10) (0.3.0)\n",
      "Requirement already satisfied: rsa<5,>=3.1.4 in /usr/local/lib/python3.10/dist-packages (from google-auth<3,>=1.6.3->tensorboard<2.13,>=2.12->tensorflow<2.13,>=2.12.0->tensorflow-text>=2.10) (4.9)\n",
      "Requirement already satisfied: requests-oauthlib>=0.7.0 in /usr/local/lib/python3.10/dist-packages (from google-auth-oauthlib<1.1,>=0.5->tensorboard<2.13,>=2.12->tensorflow<2.13,>=2.12.0->tensorflow-text>=2.10) (1.3.1)\n",
      "Requirement already satisfied: urllib3<1.27,>=1.21.1 in /usr/local/lib/python3.10/dist-packages (from requests<3,>=2.21.0->tensorboard<2.13,>=2.12->tensorflow<2.13,>=2.12.0->tensorflow-text>=2.10) (1.26.15)\n",
      "Requirement already satisfied: certifi>=2017.4.17 in /usr/local/lib/python3.10/dist-packages (from requests<3,>=2.21.0->tensorboard<2.13,>=2.12->tensorflow<2.13,>=2.12.0->tensorflow-text>=2.10) (2022.12.7)\n",
      "Requirement already satisfied: charset-normalizer~=2.0.0 in /usr/local/lib/python3.10/dist-packages (from requests<3,>=2.21.0->tensorboard<2.13,>=2.12->tensorflow<2.13,>=2.12.0->tensorflow-text>=2.10) (2.0.12)\n",
      "Requirement already satisfied: idna<4,>=2.5 in /usr/local/lib/python3.10/dist-packages (from requests<3,>=2.21.0->tensorboard<2.13,>=2.12->tensorflow<2.13,>=2.12.0->tensorflow-text>=2.10) (3.4)\n",
      "Requirement already satisfied: MarkupSafe>=2.1.1 in /usr/local/lib/python3.10/dist-packages (from werkzeug>=1.0.1->tensorboard<2.13,>=2.12->tensorflow<2.13,>=2.12.0->tensorflow-text>=2.10) (2.1.2)\n",
      "Requirement already satisfied: pyasn1<0.6.0,>=0.4.6 in /usr/local/lib/python3.10/dist-packages (from pyasn1-modules>=0.2.1->google-auth<3,>=1.6.3->tensorboard<2.13,>=2.12->tensorflow<2.13,>=2.12.0->tensorflow-text>=2.10) (0.5.0)\n",
      "Requirement already satisfied: oauthlib>=3.0.0 in /usr/local/lib/python3.10/dist-packages (from requests-oauthlib>=0.7.0->google-auth-oauthlib<1.1,>=0.5->tensorboard<2.13,>=2.12->tensorflow<2.13,>=2.12.0->tensorflow-text>=2.10) (3.2.2)\n",
      "Installing collected packages: tensorflow-text\n",
      "Successfully installed tensorflow-text-2.12.1\n",
      "Looking in indexes: https://pypi.org/simple, https://us-python.pkg.dev/colab-wheels/public/simple/\n",
      "Collecting einops\n",
      "  Downloading einops-0.6.1-py3-none-any.whl (42 kB)\n",
      "\u001b[2K     \u001b[90m━━━━━━━━━━━━━━━━━━━━━━━━━━━━━━━━━━━━━━━━\u001b[0m \u001b[32m42.2/42.2 kB\u001b[0m \u001b[31m3.3 MB/s\u001b[0m eta \u001b[36m0:00:00\u001b[0m\n",
      "\u001b[?25hInstalling collected packages: einops\n",
      "Successfully installed einops-0.6.1\n"
     ]
    }
   ],
   "source": [
    "!pip install \"tensorflow-text>=2.10\"\n",
    "!pip install einops"
   ]
  },
  {
   "cell_type": "markdown",
   "metadata": {
    "id": "A07RWC45HcG0"
   },
   "source": [
    "#Importing Libraries"
   ]
  },
  {
   "cell_type": "code",
   "execution_count": null,
   "metadata": {
    "id": "tnxXKDjq3jEL"
   },
   "outputs": [],
   "source": [
    "import numpy as np\n",
    "import typing\n",
    "from typing import Any, Tuple\n",
    "from sklearn.model_selection import train_test_split\n",
    "\n",
    "import pathlib\n",
    "\n",
    "import einops\n",
    "import matplotlib.pyplot as plt\n",
    "import matplotlib.ticker as ticker\n",
    "\n",
    "import tensorflow as tf\n",
    "import tensorflow_text as tf_text"
   ]
  },
  {
   "cell_type": "markdown",
   "metadata": {
    "id": "h87kqCNBHly5"
   },
   "source": [
    "#Defining the Shapechecker"
   ]
  },
  {
   "cell_type": "code",
   "execution_count": null,
   "metadata": {
    "id": "KqFqKi4fqN9X"
   },
   "outputs": [],
   "source": [
    "#@title\n",
    "class ShapeChecker():\n",
    "  def __init__(self):\n",
    "    # Keep a cache of every axis-name seen\n",
    "    self.shapes = {}\n",
    "\n",
    "  def __call__(self, tensor, names, broadcast=False):\n",
    "    if not tf.executing_eagerly():\n",
    "      return\n",
    "\n",
    "    parsed = einops.parse_shape(tensor, names)\n",
    "\n",
    "    for name, new_dim in parsed.items():\n",
    "      old_dim = self.shapes.get(name, None)\n",
    "\n",
    "      if (broadcast and new_dim == 1):\n",
    "        continue\n",
    "\n",
    "      if old_dim is None:\n",
    "        # If the axis name is new, add its length to the cache.\n",
    "        self.shapes[name] = new_dim\n",
    "        continue\n",
    "\n",
    "      if new_dim != old_dim:\n",
    "        raise ValueError(f\"Shape mismatch for dimension: '{name}'\\n\"\n",
    "                         f\"    found: {new_dim}\\n\"\n",
    "                         f\"    expected: {old_dim}\\n\")"
   ]
  },
  {
   "cell_type": "markdown",
   "metadata": {
    "id": "dB7rgJDbeBDF"
   },
   "source": [
    "# Loading the Dataset"
   ]
  },
  {
   "cell_type": "code",
   "execution_count": null,
   "metadata": {
    "id": "daNcrh1lVej7"
   },
   "outputs": [],
   "source": [
    "import pandas as pd\n",
    "ORM_data = pd.read_excel('15_OM_70_final_4.xlsx')\n"
   ]
  },
  {
   "cell_type": "markdown",
   "metadata": {
    "id": "KbiGtupGHyJd"
   },
   "source": [
    "#Reading Data from Dataset"
   ]
  },
  {
   "cell_type": "code",
   "execution_count": null,
   "metadata": {
    "colab": {
     "base_uri": "https://localhost:8080/",
     "height": 206
    },
    "id": "ve7kyoOxWY1u",
    "outputId": "b4339a62-1fad-49aa-ee42-99c629d88e7c"
   },
   "outputs": [
    {
     "data": {
      "text/html": [
       "\n",
       "  <div id=\"df-9948cc18-340c-49b5-a59f-154223639382\">\n",
       "    <div class=\"colab-df-container\">\n",
       "      <div>\n",
       "<style scoped>\n",
       "    .dataframe tbody tr th:only-of-type {\n",
       "        vertical-align: middle;\n",
       "    }\n",
       "\n",
       "    .dataframe tbody tr th {\n",
       "        vertical-align: top;\n",
       "    }\n",
       "\n",
       "    .dataframe thead th {\n",
       "        text-align: right;\n",
       "    }\n",
       "</style>\n",
       "<table border=\"1\" class=\"dataframe\">\n",
       "  <thead>\n",
       "    <tr style=\"text-align: right;\">\n",
       "      <th></th>\n",
       "      <th>OM_Regular</th>\n",
       "      <th>OM_Prediction</th>\n",
       "    </tr>\n",
       "  </thead>\n",
       "  <tbody>\n",
       "    <tr>\n",
       "      <th>0</th>\n",
       "      <td>module OM_name:0 , open Declaration one sig cl...</td>\n",
       "      <td>P, module OM_name:0 , open Declaration one sig...</td>\n",
       "    </tr>\n",
       "    <tr>\n",
       "      <th>1</th>\n",
       "      <td>module OM_name:0 , open Declaration one sig cl...</td>\n",
       "      <td>P, module OM_name:0 , open Declaration one sig...</td>\n",
       "    </tr>\n",
       "    <tr>\n",
       "      <th>2</th>\n",
       "      <td>module OM_name:0 , open Declaration one sig cl...</td>\n",
       "      <td>P, module OM_name:0 , open Declaration one sig...</td>\n",
       "    </tr>\n",
       "    <tr>\n",
       "      <th>3</th>\n",
       "      <td>module OM_name:0 , open Declaration one sig cl...</td>\n",
       "      <td>P, module OM_name:0 , open Declaration one sig...</td>\n",
       "    </tr>\n",
       "    <tr>\n",
       "      <th>4</th>\n",
       "      <td>module OM_name:0 , open Declaration one sig cl...</td>\n",
       "      <td>P, module OM_name:0 , open Declaration one sig...</td>\n",
       "    </tr>\n",
       "  </tbody>\n",
       "</table>\n",
       "</div>\n",
       "      <button class=\"colab-df-convert\" onclick=\"convertToInteractive('df-9948cc18-340c-49b5-a59f-154223639382')\"\n",
       "              title=\"Convert this dataframe to an interactive table.\"\n",
       "              style=\"display:none;\">\n",
       "        \n",
       "  <svg xmlns=\"http://www.w3.org/2000/svg\" height=\"24px\"viewBox=\"0 0 24 24\"\n",
       "       width=\"24px\">\n",
       "    <path d=\"M0 0h24v24H0V0z\" fill=\"none\"/>\n",
       "    <path d=\"M18.56 5.44l.94 2.06.94-2.06 2.06-.94-2.06-.94-.94-2.06-.94 2.06-2.06.94zm-11 1L8.5 8.5l.94-2.06 2.06-.94-2.06-.94L8.5 2.5l-.94 2.06-2.06.94zm10 10l.94 2.06.94-2.06 2.06-.94-2.06-.94-.94-2.06-.94 2.06-2.06.94z\"/><path d=\"M17.41 7.96l-1.37-1.37c-.4-.4-.92-.59-1.43-.59-.52 0-1.04.2-1.43.59L10.3 9.45l-7.72 7.72c-.78.78-.78 2.05 0 2.83L4 21.41c.39.39.9.59 1.41.59.51 0 1.02-.2 1.41-.59l7.78-7.78 2.81-2.81c.8-.78.8-2.07 0-2.86zM5.41 20L4 18.59l7.72-7.72 1.47 1.35L5.41 20z\"/>\n",
       "  </svg>\n",
       "      </button>\n",
       "      \n",
       "  <style>\n",
       "    .colab-df-container {\n",
       "      display:flex;\n",
       "      flex-wrap:wrap;\n",
       "      gap: 12px;\n",
       "    }\n",
       "\n",
       "    .colab-df-convert {\n",
       "      background-color: #E8F0FE;\n",
       "      border: none;\n",
       "      border-radius: 50%;\n",
       "      cursor: pointer;\n",
       "      display: none;\n",
       "      fill: #1967D2;\n",
       "      height: 32px;\n",
       "      padding: 0 0 0 0;\n",
       "      width: 32px;\n",
       "    }\n",
       "\n",
       "    .colab-df-convert:hover {\n",
       "      background-color: #E2EBFA;\n",
       "      box-shadow: 0px 1px 2px rgba(60, 64, 67, 0.3), 0px 1px 3px 1px rgba(60, 64, 67, 0.15);\n",
       "      fill: #174EA6;\n",
       "    }\n",
       "\n",
       "    [theme=dark] .colab-df-convert {\n",
       "      background-color: #3B4455;\n",
       "      fill: #D2E3FC;\n",
       "    }\n",
       "\n",
       "    [theme=dark] .colab-df-convert:hover {\n",
       "      background-color: #434B5C;\n",
       "      box-shadow: 0px 1px 3px 1px rgba(0, 0, 0, 0.15);\n",
       "      filter: drop-shadow(0px 1px 2px rgba(0, 0, 0, 0.3));\n",
       "      fill: #FFFFFF;\n",
       "    }\n",
       "  </style>\n",
       "\n",
       "      <script>\n",
       "        const buttonEl =\n",
       "          document.querySelector('#df-9948cc18-340c-49b5-a59f-154223639382 button.colab-df-convert');\n",
       "        buttonEl.style.display =\n",
       "          google.colab.kernel.accessAllowed ? 'block' : 'none';\n",
       "\n",
       "        async function convertToInteractive(key) {\n",
       "          const element = document.querySelector('#df-9948cc18-340c-49b5-a59f-154223639382');\n",
       "          const dataTable =\n",
       "            await google.colab.kernel.invokeFunction('convertToInteractive',\n",
       "                                                     [key], {});\n",
       "          if (!dataTable) return;\n",
       "\n",
       "          const docLinkHtml = 'Like what you see? Visit the ' +\n",
       "            '<a target=\"_blank\" href=https://colab.research.google.com/notebooks/data_table.ipynb>data table notebook</a>'\n",
       "            + ' to learn more about interactive tables.';\n",
       "          element.innerHTML = '';\n",
       "          dataTable['output_type'] = 'display_data';\n",
       "          await google.colab.output.renderOutput(dataTable, element);\n",
       "          const docLink = document.createElement('div');\n",
       "          docLink.innerHTML = docLinkHtml;\n",
       "          element.appendChild(docLink);\n",
       "        }\n",
       "      </script>\n",
       "    </div>\n",
       "  </div>\n",
       "  "
      ],
      "text/plain": [
       "                                          OM_Regular  \\\n",
       "0  module OM_name:0 , open Declaration one sig cl...   \n",
       "1  module OM_name:0 , open Declaration one sig cl...   \n",
       "2  module OM_name:0 , open Declaration one sig cl...   \n",
       "3  module OM_name:0 , open Declaration one sig cl...   \n",
       "4  module OM_name:0 , open Declaration one sig cl...   \n",
       "\n",
       "                                       OM_Prediction  \n",
       "0  P, module OM_name:0 , open Declaration one sig...  \n",
       "1  P, module OM_name:0 , open Declaration one sig...  \n",
       "2  P, module OM_name:0 , open Declaration one sig...  \n",
       "3  P, module OM_name:0 , open Declaration one sig...  \n",
       "4  P, module OM_name:0 , open Declaration one sig...  "
      ]
     },
     "execution_count": 5,
     "metadata": {},
     "output_type": "execute_result"
    }
   ],
   "source": [
    "ORM_data.head()"
   ]
  },
  {
   "cell_type": "code",
   "execution_count": null,
   "metadata": {
    "id": "V7OaHrVYV-Xd"
   },
   "outputs": [],
   "source": [
    "OM_Regular = ORM_data['OM_Regular'].values\n",
    "OM_Prediction = ORM_data['OM_Prediction'].values"
   ]
  },
  {
   "cell_type": "code",
   "execution_count": null,
   "metadata": {
    "id": "jTBVOEjFWAI5"
   },
   "outputs": [],
   "source": [
    "X = OM_Regular\n",
    "Y = OM_Prediction"
   ]
  },
  {
   "cell_type": "markdown",
   "metadata": {
    "id": "YOujEo2geGod"
   },
   "source": [
    "#### Dividing data as Target and Context"
   ]
  },
  {
   "cell_type": "code",
   "execution_count": null,
   "metadata": {
    "colab": {
     "base_uri": "https://localhost:8080/"
    },
    "id": "cTbSbBz55QtF",
    "outputId": "affc4a90-8ec3-482c-baf2-5c31d35ad01a"
   },
   "outputs": [
    {
     "name": "stdout",
     "output_type": "stream",
     "text": [
      "module OM_name open Declaration one sig class1_name extends Class{}{ attrSet = c1_at1+c1_at2 id=c1_at1 no parent isAbstract = No } one sig c1_at1 extends c1_at1_type{} one sig c1_at2 extends c1_at2_type{} one sig class2_name extends Class{}{ attrSet = c2_at1 one parent parent in class5_name id = c2_at1 isAbstract = No } one sig c2_at1 extends c2_at1_type{} one sig class3_name extends Class{}{ attrSet = c3_at1+c3_at2+c3_at3+c3_at4+c3_at5 id=c3_at1 no parent isAbstract = No } one sig c3_at1 extends c3_at1_type{} one sig c3_at2 extends c3_at2_type{} one sig c3_at3 extends c3_at3_type{} one sig c3_at4 extends c3_at4_type{} one sig c3_at5 extends c3_at5_type{} one sig class4_name extends Class{}{ attrSet = c4_at1+c4_at2 id=c4_at1 no parent isAbstract = No } one sig c4_at1 extends c4_at1_type{} one sig c4_at2 extends c4_at2_type{} one sig class5_name extends Class{}{ attrSet = c5_at1+c3_at1 id=c5_at1 no parent isAbstract = No } one sig c5_at1 extends c5_at1_type{} one sig class6_name extends Class{}{ attrSet = c6_at1+c6_at2+c6_at3 id=c6_at1 no parent isAbstract = No } one sig c6_at1 extends c6_at1_type{} one sig c6_at2 extends c6_at2_type{} one sig c6_at3 extends c6_at3_type{} one sig class7_name extends Class{}{ attrSet = c7_at1 one parent parent in class5_name id=c5_at1 isAbstract = No } one sig c7_at1 extends c7_at1_type{} one sig assoc1 extends Association{}{ src = class6_name dst= class4_name src_multiplicity = src_mlpc dst_multiplicity = dst_mlpc2 } one sig assoc2 extends Association{}{ src = class6_name dst= class3_name src_multiplicity = src_mlpc dst_multiplicity = dst_mlpc2 } one sig assoc3 extends Association{}{ src = class3_name dst= class4_name src_multiplicity = src_mlpc2 dst_multiplicity = dst_mlpc2 } one sig assoc4 extends Association{}{ src = class3_name dst= class5_name src_multiplicity = src_mlpc dst_multiplicity = dst_mlpc2 } one sig assoc5 extends Association{}{ src = class3_name dst= class1_name src_multiplicity = src_mlpc dst_multiplicity = dst_mlpc2 } pred show{} run show for 38,Mapping Strategy for class1_name : map_str2Mapping Strategy for class5_name : map_str2Mapping Strategy for class7_name : map_str2Mapping Strategy for class6_name : map_str2Mapping Strategy for class8_name : map_str3Association Strategy for assoc1 : assoc_str1Association Strategy for assoc3 : assoc_str2Association Strategy for assoc4 : assoc_str2Association Strategy for assoc6 : assoc_str2Association Strategy for assoc2 : assoc_str2,USE OM_name:0;CREATE TABLE `assoc4` (`c5_at1` c5_at1_type NOT NULL,`c3_at1` c3_at1_type NOT NULL,KEY `FK_assoc4_c5_at1_idx` (`c5_at1`),KEY `FK_assoc4_c3_at1_idx` (`c3_at1`),PRIMARY KEY (`c5_at1`,`c3_at1`)CREATE TABLE `class1_name` (`c1_at2` c1_at2_type(64),`c3_at1` c3_at1_type,`c1_at1` c1_at1_type NOT NULL,KEY `FK_class1_name_c3_at1_idx` (`c3_at1`),PRIMARY KEY (`c1_at1`)CREATE TABLE `class2_name` (`c5_at1` c5_at1_type NOT NULL,`c2_at1` c2_at1_type,KEY `FK_class2_name_c5_at1_idx` (`c5_at1`),PRIMARY KEY (`c5_at1`)CREATE TABLE `class6_name` (`c6_at3` c6_at3_type(64),`c2_at2` c2_at2_type(64),`c6_at1_0` c6_at1_type NOT NULL,PRIMARY KEY (`c6_at1_0`)CREATE TABLE `class4_name` (`c4_at2` c4_at2_type(64),`c6_at1_0` c6_at1_type,`c4_at1` c4_at1_type NOT NULL,FK_class4_name_c6_at1_0_idx` (`c6_at1_0`),PRIMARY KEY (`c4_at1`)CREATE TABLE `class3_name` (`c3_at3` c3_at3_type(64),`c3_at2` c3_at2_type(64),`c3_at5` c3_at5_type,`c3_at4` c3_at4_type,`c3_at1` c3_at1_type NOT NULL,PRIMARY KEY (`c3_at1`)CREATE TABLE `assoc3` (`c4_at1` c4_at1_type NOT NULL,`c3_at1` c3_at1_type NOT NULL,KEY `FK_assoc3_c4_at1_idx` (`c4_at1`),KEY `FK_assoc3_c3_at1_idx` (`c3_at1`),PRIMARY KEY (`c4_at1`,`c3_at1`)CREATE TABLE `class7_name` (`c7_at1` c7_at1_type,`c5_at1` c5_at1_type NOT NULL,`c3_at1` c3_at1_type,PRIMARY KEY (`c5_at1`)CREATE TABLE `class5_name` (`c5_at1` c5_at1_type NOT NULL,PRIMARY KEY (`c5_at1`)CREATE TABLE `assoc2` (`c6_at1_0` c6_at1_type NOT NULL,`c3_at1` c3_at1_type NOT NULL,ALTER TABLE `assoc4`ADD CONSTRAINT `FK_assoc4_c5_at1` FOREIGN KEY (`c5_at1`) REFERENCES `class5_name` (`c5_at1`) ON DELETE CASCADE ON UPDATE CASCADE,ADD CONSTRAINT `FK_assoc4_c3_at1` FOREIGN KEY (`c3_at1`) REFERENCES `class3_name` (`c3_at1`) ON DELETE CASCADE ON UPDATE CASCADE,ADD CONSTRAINT `FK_class1_name_c3_at1` FOREIGN KEY (`c3_at1`) REFERENCES `class3_name` (`c3_at1`) ON DELETE CASCADE ON UPDATE CASCADE,ALTER TABLE `class2_name`ADD CONSTRAINT `FK_class2_name_c5_at1` FOREIGN KEY (`c5_at1`) REFERENCES `class5_name` (`c5_at1`) ON DELETE CASCADE ON UPDATE CASCADE;ALTER TABLE `class4_name`ADD CONSTRAINT `FK_class4_name_c6_at1_0` FOREIGN KEY (`c6_at1_0`) REFERENCES `class6_name` (`c6_at1_0`) ON DELETE CASCADE ON UPDATE CASCADE;ALTER TABLE `assoc3`ADD CONSTRAINT `FK_assoc3_c4_at1` FOREIGN KEY (`c4_at1`) REFERENCES `class4_name` (`c4_at1`) ON DELETE CASCADE ON UPDATE CASCADE,ADD CONSTRAINT `FK_assoc3_c3_at1` FOREIGN KEY (`c3_at1`) REFERENCES `class3_name` (`c3_at1`) ON DELETE CASCADE ON UPDATE CASCADE,ALTER TABLE `assoc2`\n"
     ]
    }
   ],
   "source": [
    "target_raw =  Y\n",
    "context_raw = X\n",
    "print(context_raw[-1])"
   ]
  },
  {
   "cell_type": "code",
   "execution_count": null,
   "metadata": {
    "colab": {
     "base_uri": "https://localhost:8080/"
    },
    "id": "lH_dPY8TRp3c",
    "outputId": "2a203b32-576c-4dc8-f440-64800afa6873"
   },
   "outputs": [
    {
     "name": "stdout",
     "output_type": "stream",
     "text": [
      "NP,module OM_name open Declaration one sig class1_name extends Class{}{ attrSet = c1_at1+c1_at2 id=c1_at1 no parent isAbstract = No } one sig c1_at1 extends c1_at1_type{} one sig c1_at2 extends c1_at2_type{} one sig class2_name extends Class{}{ attrSet = c2_at1 one parent parent in class5_name id = c2_at1 isAbstract = No } one sig c2_at1 extends c2_at1_type{} one sig class3_name extends Class{}{ attrSet = c3_at1+c3_at2+c3_at3+c3_at4+c3_at5 id=c3_at1 no parent isAbstract = No } one sig c3_at1 extends c3_at1_type{} one sig c3_at2 extends c3_at2_type{} one sig c3_at3 extends c3_at3_type{} one sig c3_at4 extends c3_at4_type{} one sig c3_at5 extends c3_at5_type{} one sig class4_name extends Class{}{ attrSet = c4_at1+c4_at2 id=c4_at1 no parent isAbstract = No } one sig c4_at1 extends c4_at1_type{} one sig c4_at2 extends c4_at2_type{} one sig class5_name extends Class{}{ attrSet = c5_at1+c3_at1 id=c5_at1 no parent isAbstract = No } one sig c5_at1 extends c5_at1_type{} one sig class6_name extends Class{}{ attrSet = c6_at1+c6_at2+c6_at3 id=c6_at1 no parent isAbstract = No } one sig c6_at1 extends c6_at1_type{} one sig c6_at2 extends c6_at2_type{} one sig c6_at3 extends c6_at3_type{} one sig class7_name extends Class{}{ attrSet = c7_at1 one parent parent in class5_name id=c5_at1 isAbstract = No } one sig c7_at1 extends c7_at1_type{} one sig assoc1 extends Association{}{ src = class6_name dst= class4_name src_multiplicity = src_mlpc dst_multiplicity = dst_mlpc2 } one sig assoc2 extends Association{}{ src = class6_name dst= class3_name src_multiplicity = src_mlpc dst_multiplicity = dst_mlpc2 } one sig assoc3 extends Association{}{ src = class3_name dst= class4_name src_multiplicity = src_mlpc2 dst_multiplicity = dst_mlpc2 } one sig assoc4 extends Association{}{ src = class3_name dst= class5_name src_multiplicity = src_mlpc dst_multiplicity = dst_mlpc2 } one sig assoc5 extends Association{}{ src = class3_name dst= class1_name src_multiplicity = src_mlpc dst_multiplicity = dst_mlpc2 } pred show{} run show for 38,Mapping Strategy for class3_name : map_str2Mapping Strategy for class7_name : map_str2Mapping Strategy for class8_name : map_str3Mapping Strategy for class6_name : map_str3Association Strategy for assoc6 : assoc_str1Association Strategy for assoc2 : assoc_str1Association Strategy for assoc3 : assoc_str2Association Strategy for assoc1 : assoc_str2Association Strategy for assoc4 : assoc_str2,USE OM_name:0;CREATE TABLE `class1_name` (`c1_at2` c1_at2_type(64),`c3_at1` c3_at1_type,`c1_at1` c1_at1_type NOT NULL,KEY `FK_class1_name_c3_at1_idx` (`c3_at1`),PRIMARY KEY (`c1_at1`)CREATE TABLE `class2_name` (`c5_at1` c5_at1_type NOT NULL,`c2_at1` c2_at1_type,KEY `FK_class2_name_c5_at1_idx` (`c5_at1`),PRIMARY KEY (`c5_at1`)CREATE TABLE `class6_name` (`c6_at3` c6_at3_type(64),`c2_at2` c2_at2_type(64),`c6_at1_0` c6_at1_type NOT NULL,PRIMARY KEY (`c6_at1_0`)CREATE TABLE `class4_name` (`c4_at2` c4_at2_type(64),`c4_at1` c4_at1_type NOT NULL,PRIMARY KEY (`c4_at1`)CREATE TABLE `class3_name` (`c3_at3` c3_at3_type(64),`c3_at2` c3_at2_type(64),`c3_at5` c3_at5_type,`c3_at4` c3_at4_type,`c3_at1` c3_at1_type NOT NULL,PRIMARY KEY (`c3_at1`)CREATE TABLE `assoc1` (`c6_at1_0` c6_at1_type NOT NULL,`c4_at1` c4_at1_type NOT NULL,KEY `FK_assoc1_c6_at1_0_idx` (`c6_at1_0`),KEY `FK_assoc1_c4_at1_idx` (`c4_at1`),PRIMARY KEY (`c6_at1_0`,`c4_at1`)CREATE TABLE `assoc3` (`c4_at1` c4_at1_type NOT NULL,`c3_at1` c3_at1_type NOT NULL,KEY `FK_assoc3_c4_at1_idx` (`c4_at1`),KEY `FK_assoc3_c3_at1_idx` (`c3_at1`),PRIMARY KEY (`c4_at1`,`c3_at1`)CREATE TABLE `class7_name` (`c7_at1` c7_at1_type,`c5_at1` c5_at1_type NOT NULL,KEY `FK_class7_name_c5_at1_idx` (`c5_at1`),PRIMARY KEY (`c5_at1`)CREATE TABLE `class5_name` (`c5_at1` c5_at1_type NOT NULL,`c3_at1` c3_at1_type,PRIMARY KEY (`c5_at1`)CREATE TABLE `assoc2` (`c6_at1_0` c6_at1_type NOT NULL,`c3_at1` c3_at1_type NOT NULL,ADD CONSTRAINT `FK_class1_name_c3_at1` FOREIGN KEY (`c3_at1`) REFERENCES `class3_name` (`c3_at1`) ON DELETE CASCADE ON UPDATE CASCADE,ALTER TABLE `class2_name`ADD CONSTRAINT `FK_class2_name_c5_at1` FOREIGN KEY (`c5_at1`) REFERENCES `class5_name` (`c5_at1`) ON DELETE CASCADE ON UPDATE CASCADE;ALTER TABLE `assoc1`ADD CONSTRAINT `FK_assoc1_c6_at1_0` FOREIGN KEY (`c6_at1_0`) REFERENCES `assoc1` (`c6_at1_0`) ON DELETE CASCADE ON UPDATE CASCADE,ALTER TABLE `assoc3`ADD CONSTRAINT `FK_assoc3_c4_at1` FOREIGN KEY (`c4_at1`) REFERENCES `class4_name` (`c4_at1`) ON DELETE CASCADE ON UPDATE CASCADE,ADD CONSTRAINT `FK_assoc3_c3_at1` FOREIGN KEY (`c3_at1`) REFERENCES `class3_name` (`c3_at1`) ON DELETE CASCADE ON UPDATE CASCADE,ALTER TABLE `class7_name`ADD CONSTRAINT `FK_class7_name_c5_at1` FOREIGN KEY (`c5_at1`) REFERENCES `class5_name` (`c5_at1`) ON DELETE CASCADE ON UPDATE CASCADE;ALTER TABLE `class5_name`ALTER TABLE `assoc2`\n"
     ]
    }
   ],
   "source": [
    "print(target_raw[-1])"
   ]
  },
  {
   "cell_type": "markdown",
   "metadata": {
    "id": "rgCLkfv5uO3d"
   },
   "source": [
    "### Create a tf.data dataset"
   ]
  },
  {
   "cell_type": "markdown",
   "metadata": {
    "id": "PfVWx3WaI5Df"
   },
   "source": [
    "From these arrays of strings you can create a `tf.data.Dataset` of strings that shuffles and batches them efficiently:"
   ]
  },
  {
   "cell_type": "code",
   "execution_count": null,
   "metadata": {
    "id": "3rZFgz69nMPa"
   },
   "outputs": [],
   "source": [
    "BUFFER_SIZE = len(context_raw)\n",
    "BATCH_SIZE = 1\n",
    "\n",
    "is_train = np.random.uniform(size=(len(target_raw),)) < 0.8\n",
    "\n",
    "train_raw = (\n",
    "    tf.data.Dataset\n",
    "    .from_tensor_slices((context_raw[is_train], target_raw[is_train]))\n",
    "    .shuffle(BUFFER_SIZE)\n",
    "    .batch(BATCH_SIZE))\n",
    "val_raw = (\n",
    "    tf.data.Dataset\n",
    "    .from_tensor_slices((context_raw[~is_train], target_raw[~is_train]))\n",
    "    .shuffle(BUFFER_SIZE)\n",
    "    .batch(BATCH_SIZE))"
   ]
  },
  {
   "cell_type": "code",
   "execution_count": null,
   "metadata": {
    "colab": {
     "base_uri": "https://localhost:8080/"
    },
    "id": "qc6-NK1GtWQt",
    "outputId": "18fdb455-a48a-4851-9cbb-e1a3cec0814a"
   },
   "outputs": [
    {
     "name": "stdout",
     "output_type": "stream",
     "text": [
      "tf.Tensor([b'module OM_name 0;open Declarationone sig class1_name extends ClassattrSet = c1_at1+c1_at2id=c1_at1no parentisAbstract = No}one sig c1_at1 extends c1_at1_typeone sig c1_at2 extends c1_at2_typeone sig class2_name extends ClassattrSet = c2_at1+c2_at2id=c2_at1no parentisAbstract = No}one sig c2_at1 extends c2_at1_typeone sig c2_at1 extends c2_at2_typeone sig class3_name extends ClassattrSet = c3_at1+c3_at2+c3_at3+c3_at4c3_at5+c3_at6id=c3_at1no parentisAbstract = No}one sig c3_at1 extends c3_at1_typeone sig c3_at2 extends c3_at2_typeone sig c3_at3 extends c3_at3_typeone sig c3_at4 extends c3_at4_typeone sig c3_at5 extends c3_at5_typeone sig c3_at6 extends c3_at6_typeone sig class4_name extends ClassattrSet = c4_at1+c4_at2+c4_at3+c4_at4id=c4_at3no parentisAbstract = No}one sig c4_at1 extends c4_at1_typeone sig c4_at2 extends c4_at2_typeone sig c4_at3 extends c4_at3_typeone sig c4_at4 extends c4_at4_typeone sig class5_name extends ClassattrSet = c5_at1one parentparent in class2_nameid = c2_at1isAbstract = No}one sig c5_at1 extends c5_at1_typeone sig class6_name extends ClassattrSet = c6_at1_0+c6_at2+c6_at3+c6_at4id=c6_at2no parentisAbstract = No}one sig c6_at1_0 extends c6_at1_typeone sig c6_at2 extends c6_at2_typeone sig c6_at3 extends c6_at3_typeone sig c6_at4 extends c6_at4_typeone sig class7_name extends ClassattrSet = c7_at1one parentparent in class2_nameid = c2_at1isAbstract = No}one sig c7_at1 extends c7_at1_typeone sig class8_name extends ClassattrSet = c8_at1+c8_at2+c2_at2+c6_at3id=c8_at1no parentisAbstract = No}one sig c8_at1 extends c8_at1_typeone sig c8_at2 extends c8_at2_typeone sig assoc1 extends Associationsrc = class8_namedst= class2_namesrc_multiplicity = src_mlpcdst_multiplicity = dst_mlpc}one sig assoc2 extends Associationsrc = class2_namedst= class4_namesrc_multiplicity = src_mlpc2dst_multiplicity = dst_mlpc}one sig assoc3 extends Associationsrc = class8_namedst= class3_namesrc_multiplicity = src_mlpcdst_multiplicity = dst_mlpc}one sig assoc4 extends Associationsrc = class8_namedst= class4_namesrc_multiplicity = src_mlpcdst_multiplicity = dst_mlpc}one sig assoc5 extends Associationsrc = class8_namedst= class6_namesrc_multiplicity = src_mlpcdst_multiplicity = dst_mlpc2}one sig assoc6 extends Associationsrc = class6_namedst= Paymentsrc_multiplicity = src_mlpcdst_multiplicity = dst_mlpc2}one sig assoc8 extends Associationsrc = class6_namedst= class4_namesrc_multiplicity = src_mlpcdst_multiplicity = dst_mlpc}one sig assoc11 extends Associationsrc = class1_namedst= class3_namesrc_multiplicity = src_mlpcdst_multiplicity = dst_mlpc}one sig assoc9 extends Associationsrc = class1_namedst= class4_namesrc_multiplicity = src_mlpcdst_multiplicity = dst_mlpc}one sig assoc10 extends Associationsrc = class2_namedst= class3_namesrc_multiplicity = src_mlpcdst_multiplicity = dst_mlpc2}pred showrun show ,Mapping Strategy for class1_name : map_str2Mapping Strategy for class3_name : map_str2Mapping Strategy for class7_name : map_str2Mapping Strategy for class5_name : map_str3Association Strategy for assoc1 : assoc_str1Association Strategy for assoc2 : assoc_str2Association Strategy for assoc3 : assoc_str2Association Strategy for assoc4 : assoc_str2Association Strategy for assoc5 : assoc_str2Association Strategy for assoc6 : assoc_str2Association Strategy for assoc8 : assoc_str2Association Strategy for assoc11 : assoc_str2Association Strategy for assoc9 : assoc_str2Association Strategy for assoc10 : assoc_str2 ,USE OM_name:0;CREATE TABLE `class5_name` (`c2_at1` c2_at1_type NOT NULL ,KEY `FK_class5_name_c2_at1_idx` (`c2_at1`) ,PRIMARY KEY (`c2_at1`) CREATE TABLE `class6_name` (`c6_at4` c6_at4_type(64) ,`c6_at3` c6_at3_type(64) ,`c6_at1_0` c6_at1_type(64) ,`c6_at2` c6_at2_type NOT NULL ,PRIMARY KEY (`c6_at2`)CREATE TABLE `class8_name` (`c8_at2` c8_at2_type(64) ,`c8_at1` c8_at1_type NOT NULL ,PRIMARY KEY (`c8_at1`)CREATE TABLE `class2_name` (`c2_at2` c2_at2_type(64) ,`c2_at1` c2_at1_type NOT NULL ,PRIMARY KEY (`c2_at1`) CREATE TABLE `assoc9` (`c4_at3` c4_at3_type NOT NULL ,`c1_at1` c1_at1_type NOT NULL ,KEY `FK_assoc9_c4_at3_idx` (`c4_at3`) ,KEY `FK_assoc9_c1_at1_idx` (`c1_at1`) ,PRIMARY KEY (`c4_at3` ,`c1_at1`)CREATE TABLE `assoc8` (`c6_at2` c6_at2_type NOT NULL ,`c4_at3` c4_at3_type NOT NULL ,PRIMARY KEY (`c6_at2` ,`c4_at3`)CREATE TABLE `class3_name` (`c3_at6` c3_at6_type ,`c3_at5` c3_at5_type ,`c3_at4` c3_at4_type ,`c3_at3` c3_at3_type ,`c3_at2` c3_at2_type ,`c3_at1` c3_at1_type NOT NULL ,`c1_at1` int ,KEY `FK_class3_name_c1_at1_idx` (`c1_at1`) ,PRIMARY KEY (`c3_at1`)CREATE TABLE `assoc3` (`c8_at1` c8_at1_type NOT NULL ,`c3_at1` c3_at1_type NOT NULL ,KEY `FK_assoc3_c8_at1_idx` (`c8_at1`) ,KEY `FK_assoc3_c3_at1_idx` (`c3_at1`) ,PRIMARY KEY (`c8_at1` ,`c3_at1`)CREATE TABLE `class7_name` (`c7_at1` c7_at1_type(64) ,`c2_at2` c2_at2_type(64) ,`c2_at1` c2_at1_type NOT NULL ,PRIMARY KEY (`c2_at1`) CREATE TABLE `class1_name` (`c1_at2` c1_at2_type(64) ,`c1_at1` c1_at1_type NOT NULL ,PRIMARY KEY (`c1_at1`)CREATE TABLE `assoc6` (`c6_at2` c6_at2_type NOT NULL ,`c1_at1` c1_at1_type NOT NULL ,KEY `FK_assoc6_c6_at2_idx` (`c6_at2`) ,KEY `FK_assoc6_c1_at1_idx` (`c1_at1`) ,PRIMARY KEY (`c6_at2` ,`c1_at1`)CREATE TABLE `assoc1` (`c8_at1` c8_at1_type NOT NULL ,`c2_at1` c2_at1_type NOT NULL ,KEY `FK_assoc1_c8_at1_idx` (`c8_at1`) ,KEY `FK_assoc1_c2_at1_idx` (`c2_at1`) ,PRIMARY KEY (`c8_at1` ,`c2_at1`)CREATE TABLE `assoc4` (`c8_at1` c8_at1_type NOT NULL ,`c4_at3` c4_at3_type NOT NULL ,KEY `FK_assoc4_c8_at1_idx` (`c8_at1`) ,KEY `FK_assoc4_c4_at3_idx` (`c4_at3`) ,PRIMARY KEY (`c8_at1` ,`c4_at3`)Association Strategy for assoc5 : assoc_str2`c8_at1` c8_at1_type NOT NULL ,`c6_at2` c6_at2_type NOT NULL ,KEY `FK_assoc5_c8_at1_idx` (`c8_at1`) ,KEY `FK_assoc5_c6_at2_idx` (`c6_at2`) ,PRIMARY KEY (`c8_at1` ,`c6_at2`)CREATE TABLE `assoc2` (`c4_at3` c4_at3_type NOT NULL ,`c2_at1` c2_at1_type NOT NULL ,KEY `FK_assoc2_c4_at3_idx` (`c4_at3`) ,KEY `FK_assoc2_c2_at1_idx` (`c2_at1`) ,PRIMARY KEY (`c4_at3` ,`c2_at1`)CREATE TABLE `assoc10` (`c3_at1` c3_at1_type NOT NULL ,`c2_at1` c2_at1_type NOT NULL ,KEY `FK_assoc10_c3_at1_idx` (`c3_at1`) ,KEY `FK_assoc10_c2_at1_idx` (`c2_at1`) ,PRIMARY KEY (`c3_at1` ,`c2_at1`)CREATE TABLE `class4_name` (`c4_at4` c4_at4_type(64) ,`c4_at2` c4_at2_type(64) ,`c4_at1` c4_at1_type(64) ,`c4_at3` c4_at3_type NOT NULL ,PRIMARY KEY (`c4_at3`)ALTER TABLE `class5_name`ADD CONSTRAINT `FK_class5_name_c2_at1` FOREIGN KEY (`c2_at1`)  REFERENCES  `class2_name` (`c2_at1`) ON DELETE CASCADE ON UPDATE CASCADE ,ALTER TABLE `assoc9`ADD CONSTRAINT `FK_assoc9_c4_at3` FOREIGN KEY (`c4_at3`)  REFERENCES  `class4_name` (`c4_at3`) ON DELETE CASCADE ON UPDATE CASCADE ,ADD CONSTRAINT `FK_assoc9_c1_at1` FOREIGN KEY (`c1_at1`)  REFERENCES  `class1_name` (`c1_at1`) ON DELETE CASCADE ON UPDATE CASCADE;ALTER TABLE `assoc8`ALTER TABLE `class3_name`ADD CONSTRAINT `FK_class3_name_c1_at1` FOREIGN KEY (`c1_at1`)  REFERENCES  `class1_name` (`c1_at1`) ON DELETE CASCADE ON UPDATE CASCADE ,ALTER TABLE `assoc3`ADD CONSTRAINT `FK_assoc3_c8_at1` FOREIGN KEY (`c8_at1`)  REFERENCES  `class8_name` (`c8_at1`) ON DELETE CASCADE ON UPDATE CASCADE ,ADD CONSTRAINT `FK_assoc3_c3_at1` FOREIGN KEY (`c3_at1`)  REFERENCES  `class3_name` (`c3_at1`) ON DELETE CASCADE ON UPDATE CASCADE ,ALTER TABLE `assoc6`ADD CONSTRAINT `FK_assoc6_c6_at2` FOREIGN KEY (`c6_at2`)  REFERENCES  `class6_name` (`c6_at2`) ON DELETE CASCADE ON UPDATE CASCADEADD CONSTRAINT `FK_assoc6_c1_at1` FOREIGN KEY (`c1_at1`)  REFERENCES  `class1_name` (`c1_at1`) ON DELETE CASCADE ON UPDATE CASCADE ,ALTER TABLE `assoc1`ADD CONSTRAINT `FK_assoc1_c8_at1` FOREIGN KEY (`c8_at1`)  REFERENCES  `class8_name` (`c8_at1`) ON DELETE CASCADE ON UPDATE CASCADE ,ALTER TABLE `assoc4`ADD CONSTRAINT `FK_assoc4_c8_at1` FOREIGN KEY (`c8_at1`)  REFERENCES  `class8_name` (`c8_at1`) ON DELETE CASCADE ON UPDATE CASCADE ,ADD CONSTRAINT `FK_assoc4_c4_at3` FOREIGN KEY (`c4_at3`)  REFERENCES  `class4_name` (`c4_at3`) ON DELETE CASCADE ON UPDATE CASCADE;ALTER TABLE `assoc5`ADD CONSTRAINT `FK_assoc5_c8_at1` FOREIGN KEY (`c8_at1`)  REFERENCES  `class8_name` (`c8_at1`) ON DELETE CASCADE ON UPDATE CASCADE ,ADD CONSTRAINT `FK_assoc5_c6_at2` FOREIGN KEY (`c6_at2`)  REFERENCES  `class6_name` (`c6_at2`) ON DELETE CASCADE ON UPDATE CASCADE;ALTER TABLE `assoc2`ADD CONSTRAINT `FK_assoc2_c4_at3` FOREIGN KEY (`c4_at3`)  REFERENCES  `class4_name` (`c4_at3`) ON DELETE CASCADE ON UPDATE CASCADEADD CONSTRAINT `FK_assoc2_c2_at1` FOREIGN KEY (`c2_at1`)  REFERENCES  `class2_name` (`c2_at1`) ON DELETE CASCADE ON UPDATE CASCADE ,ALTER TABLE `assoc10`ADD CONSTRAINT `FK_assoc10_c3_at1` FOREIGN KEY (`c3_at1`)  REFERENCES  `class3_name` (`c3_at1`) ON DELETE CASCADE ON UPDATE CASCADE ,ADD CONSTRAINT `FK_assoc10_c2_at1` FOREIGN KEY (`c2_at1`)  REFERENCES  `class2_name` (`c2_at1`) ON DELETE CASCADE ON UPDATE CASCADE ,'], shape=(1,), dtype=string)\n",
      "\n",
      "tf.Tensor([b'P, module OM_name 0;open Declarationone sig class1_name extends ClassattrSet = c1_at1+c1_at2id=c1_at1no parentisAbstract = No}one sig c1_at1 extends c1_at1_typeone sig c1_at2 extends c1_at2_typeone sig class2_name extends ClassattrSet = c2_at1+c2_at2id=c2_at1no parentisAbstract = No}one sig c2_at1 extends c2_at1_typeone sig c2_at1 extends c2_at2_typeone sig class3_name extends ClassattrSet = c3_at1+c3_at2+c3_at3+c3_at4c3_at5+c3_at6id=c3_at1no parentisAbstract = No}one sig c3_at1 extends c3_at1_typeone sig c3_at2 extends c3_at2_typeone sig c3_at3 extends c3_at3_typeone sig c3_at4 extends c3_at4_typeone sig c3_at5 extends c3_at5_typeone sig c3_at6 extends c3_at6_typeone sig class4_name extends ClassattrSet = c4_at1+c4_at2+c4_at3+c4_at4id=c4_at3no parentisAbstract = No}one sig c4_at1 extends c4_at1_typeone sig c4_at2 extends c4_at2_typeone sig c4_at3 extends c4_at3_typeone sig c4_at4 extends c4_at4_typeone sig class5_name extends ClassattrSet = c5_at1one parentparent in class2_nameid = c2_at1isAbstract = No}one sig c5_at1 extends c5_at1_typeone sig class6_name extends ClassattrSet = c6_at1_0+c6_at2+c6_at3+c6_at4id=c6_at2no parentisAbstract = No}one sig c6_at1_0 extends c6_at1_typeone sig c6_at2 extends c6_at2_typeone sig c6_at3 extends c6_at3_typeone sig c6_at4 extends c6_at4_typeone sig class7_name extends ClassattrSet = c7_at1one parentparent in class2_nameid = c2_at1isAbstract = No}one sig c7_at1 extends c7_at1_typeone sig class8_name extends ClassattrSet = c8_at1+c8_at2+c2_at2+c6_at3id=c8_at1no parentisAbstract = No}one sig c8_at1 extends c8_at1_typeone sig c8_at2 extends c8_at2_typeone sig assoc1 extends Associationsrc = class8_namedst= class2_namesrc_multiplicity = src_mlpcdst_multiplicity = dst_mlpc}one sig assoc2 extends Associationsrc = class2_namedst= class4_namesrc_multiplicity = src_mlpc2dst_multiplicity = dst_mlpc}one sig assoc3 extends Associationsrc = class8_namedst= class3_namesrc_multiplicity = src_mlpcdst_multiplicity = dst_mlpc}one sig assoc4 extends Associationsrc = class8_namedst= class4_namesrc_multiplicity = src_mlpcdst_multiplicity = dst_mlpc}one sig assoc5 extends Associationsrc = class8_namedst= class6_namesrc_multiplicity = src_mlpcdst_multiplicity = dst_mlpc2}one sig assoc6 extends Associationsrc = class6_namedst= Paymentsrc_multiplicity = src_mlpcdst_multiplicity = dst_mlpc2}one sig assoc8 extends Associationsrc = class6_namedst= class4_namesrc_multiplicity = src_mlpcdst_multiplicity = dst_mlpc}one sig assoc11 extends Associationsrc = class1_namedst= class3_namesrc_multiplicity = src_mlpcdst_multiplicity = dst_mlpc}one sig assoc9 extends Associationsrc = class1_namedst= class4_namesrc_multiplicity = src_mlpcdst_multiplicity = dst_mlpc}one sig assoc10 extends Associationsrc = class2_namedst= class3_namesrc_multiplicity = src_mlpcdst_multiplicity = dst_mlpc2}pred showrun show ,Mapping Strategy for class1_name : map_str2Mapping Strategy for class3_name : map_str2Mapping Strategy for class7_name : map_str2Mapping Strategy for class5_name : map_str3Association Strategy for assoc1 : assoc_str1Association Strategy for assoc2 : assoc_str2Association Strategy for assoc3 : assoc_str2Association Strategy for assoc4 : assoc_str2Association Strategy for assoc5 : assoc_str2Association Strategy for assoc6 : assoc_str2Association Strategy for assoc8 : assoc_str2Association Strategy for assoc11 : assoc_str2Association Strategy for assoc9 : assoc_str2Association Strategy for assoc10 : assoc_str2 ,USE OM_name:0;CREATE TABLE `class5_name` (`c2_at1` c2_at1_type NOT NULL ,KEY `FK_class5_name_c2_at1_idx` (`c2_at1`) ,PRIMARY KEY (`c2_at1`) CREATE TABLE `class6_name` (`c6_at4` c6_at4_type(64) ,`c6_at3` c6_at3_type(64) ,`c6_at1_0` c6_at1_type(64) ,`c6_at2` c6_at2_type NOT NULL ,PRIMARY KEY (`c6_at2`)CREATE TABLE `class8_name` (`c8_at2` c8_at2_type(64) ,`c8_at1` c8_at1_type NOT NULL ,PRIMARY KEY (`c8_at1`)CREATE TABLE `class2_name` (`c2_at2` c2_at2_type(64) ,`c2_at1` c2_at1_type NOT NULL ,PRIMARY KEY (`c2_at1`) CREATE TABLE `assoc9` (`c4_at3` c4_at3_type NOT NULL ,`c1_at1` c1_at1_type NOT NULL ,KEY `FK_assoc9_c4_at3_idx` (`c4_at3`) ,KEY `FK_assoc9_c1_at1_idx` (`c1_at1`) ,PRIMARY KEY (`c4_at3` ,`c1_at1`)CREATE TABLE `assoc8` (`c6_at2` c6_at2_type NOT NULL ,`c4_at3` c4_at3_type NOT NULL ,PRIMARY KEY (`c6_at2` ,`c4_at3`)CREATE TABLE `class3_name` (`c3_at6` c3_at6_type ,`c3_at5` c3_at5_type ,`c3_at4` c3_at4_type ,`c3_at3` c3_at3_type ,`c3_at2` c3_at2_type ,`c3_at1` c3_at1_type NOT NULL ,`c1_at1` int ,KEY `FK_class3_name_c1_at1_idx` (`c1_at1`) ,PRIMARY KEY (`c3_at1`)CREATE TABLE `assoc3` (`c8_at1` c8_at1_type NOT NULL ,`c3_at1` c3_at1_type NOT NULL ,KEY `FK_assoc3_c8_at1_idx` (`c8_at1`) ,KEY `FK_assoc3_c3_at1_idx` (`c3_at1`) ,PRIMARY KEY (`c8_at1` ,`c3_at1`)CREATE TABLE `class7_name` (`c7_at1` c7_at1_type(64) ,`c2_at2` c2_at2_type(64) ,`c2_at1` c2_at1_type NOT NULL ,PRIMARY KEY (`c2_at1`) CREATE TABLE `class1_name` (`c1_at2` c1_at2_type(64) ,`c1_at1` c1_at1_type NOT NULL ,PRIMARY KEY (`c1_at1`)CREATE TABLE `assoc6` (`c6_at2` c6_at2_type NOT NULL ,`c1_at1` c1_at1_type NOT NULL ,KEY `FK_assoc6_c6_at2_idx` (`c6_at2`) ,KEY `FK_assoc6_c1_at1_idx` (`c1_at1`) ,PRIMARY KEY (`c6_at2` ,`c1_at1`)CREATE TABLE `assoc1` (`c8_at1` c8_at1_type NOT NULL ,`c2_at1` c2_at1_type NOT NULL ,KEY `FK_assoc1_c8_at1_idx` (`c8_at1`) ,KEY `FK_assoc1_c2_at1_idx` (`c2_at1`) ,PRIMARY KEY (`c8_at1` ,`c2_at1`)CREATE TABLE `assoc4` (`c8_at1` c8_at1_type NOT NULL ,`c4_at3` c4_at3_type NOT NULL ,KEY `FK_assoc4_c8_at1_idx` (`c8_at1`) ,KEY `FK_assoc4_c4_at3_idx` (`c4_at3`) ,PRIMARY KEY (`c8_at1` ,`c4_at3`)Association Strategy for assoc5 : assoc_str2`c8_at1` c8_at1_type NOT NULL ,`c6_at2` c6_at2_type NOT NULL ,KEY `FK_assoc5_c8_at1_idx` (`c8_at1`) ,KEY `FK_assoc5_c6_at2_idx` (`c6_at2`) ,PRIMARY KEY (`c8_at1` ,`c6_at2`)CREATE TABLE `assoc2` (`c4_at3` c4_at3_type NOT NULL ,`c2_at1` c2_at1_type NOT NULL ,KEY `FK_assoc2_c4_at3_idx` (`c4_at3`) ,KEY `FK_assoc2_c2_at1_idx` (`c2_at1`) ,PRIMARY KEY (`c4_at3` ,`c2_at1`)CREATE TABLE `assoc10` (`c3_at1` c3_at1_type NOT NULL ,`c2_at1` c2_at1_type NOT NULL ,KEY `FK_assoc10_c3_at1_idx` (`c3_at1`) ,KEY `FK_assoc10_c2_at1_idx` (`c2_at1`) ,PRIMARY KEY (`c3_at1` ,`c2_at1`)CREATE TABLE `class4_name` (`c4_at4` c4_at4_type(64) ,`c4_at2` c4_at2_type(64) ,`c4_at1` c4_at1_type(64) ,`c4_at3` c4_at3_type NOT NULL ,PRIMARY KEY (`c4_at3`)ALTER TABLE `class5_name`ADD CONSTRAINT `FK_class5_name_c2_at1` FOREIGN KEY (`c2_at1`)  REFERENCES  `class2_name` (`c2_at1`) ON DELETE CASCADE ON UPDATE CASCADE ,ALTER TABLE `assoc9`ADD CONSTRAINT `FK_assoc9_c4_at3` FOREIGN KEY (`c4_at3`)  REFERENCES  `class4_name` (`c4_at3`) ON DELETE CASCADE ON UPDATE CASCADE ,ADD CONSTRAINT `FK_assoc9_c1_at1` FOREIGN KEY (`c1_at1`)  REFERENCES  `class1_name` (`c1_at1`) ON DELETE CASCADE ON UPDATE CASCADE;ALTER TABLE `assoc8`ALTER TABLE `class3_name`ADD CONSTRAINT `FK_class3_name_c1_at1` FOREIGN KEY (`c1_at1`)  REFERENCES  `class1_name` (`c1_at1`) ON DELETE CASCADE ON UPDATE CASCADE ,ALTER TABLE `assoc3`ADD CONSTRAINT `FK_assoc3_c8_at1` FOREIGN KEY (`c8_at1`)  REFERENCES  `class8_name` (`c8_at1`) ON DELETE CASCADE ON UPDATE CASCADE ,ADD CONSTRAINT `FK_assoc3_c3_at1` FOREIGN KEY (`c3_at1`)  REFERENCES  `class3_name` (`c3_at1`) ON DELETE CASCADE ON UPDATE CASCADE ,ALTER TABLE `assoc6`ADD CONSTRAINT `FK_assoc6_c6_at2` FOREIGN KEY (`c6_at2`)  REFERENCES  `class6_name` (`c6_at2`) ON DELETE CASCADE ON UPDATE CASCADEADD CONSTRAINT `FK_assoc6_c1_at1` FOREIGN KEY (`c1_at1`)  REFERENCES  `class1_name` (`c1_at1`) ON DELETE CASCADE ON UPDATE CASCADE ,ALTER TABLE `assoc1`ADD CONSTRAINT `FK_assoc1_c8_at1` FOREIGN KEY (`c8_at1`)  REFERENCES  `class8_name` (`c8_at1`) ON DELETE CASCADE ON UPDATE CASCADE ,ALTER TABLE `assoc4`ADD CONSTRAINT `FK_assoc4_c8_at1` FOREIGN KEY (`c8_at1`)  REFERENCES  `class8_name` (`c8_at1`) ON DELETE CASCADE ON UPDATE CASCADE ,ADD CONSTRAINT `FK_assoc4_c4_at3` FOREIGN KEY (`c4_at3`)  REFERENCES  `class4_name` (`c4_at3`) ON DELETE CASCADE ON UPDATE CASCADE;ALTER TABLE `assoc5`ADD CONSTRAINT `FK_assoc5_c8_at1` FOREIGN KEY (`c8_at1`)  REFERENCES  `class8_name` (`c8_at1`) ON DELETE CASCADE ON UPDATE CASCADE ,ADD CONSTRAINT `FK_assoc5_c6_at2` FOREIGN KEY (`c6_at2`)  REFERENCES  `class6_name` (`c6_at2`) ON DELETE CASCADE ON UPDATE CASCADE;ALTER TABLE `assoc2`ADD CONSTRAINT `FK_assoc2_c4_at3` FOREIGN KEY (`c4_at3`)  REFERENCES  `class4_name` (`c4_at3`) ON DELETE CASCADE ON UPDATE CASCADEADD CONSTRAINT `FK_assoc2_c2_at1` FOREIGN KEY (`c2_at1`)  REFERENCES  `class2_name` (`c2_at1`) ON DELETE CASCADE ON UPDATE CASCADE ,ALTER TABLE `assoc10`ADD CONSTRAINT `FK_assoc10_c3_at1` FOREIGN KEY (`c3_at1`)  REFERENCES  `class3_name` (`c3_at1`) ON DELETE CASCADE ON UPDATE CASCADE ,ADD CONSTRAINT `FK_assoc10_c2_at1` FOREIGN KEY (`c2_at1`)  REFERENCES  `class2_name` (`c2_at1`) ON DELETE CASCADE ON UPDATE CASCADE '], shape=(1,), dtype=string)\n"
     ]
    }
   ],
   "source": [
    "for example_context_strings, example_target_strings in train_raw.take(1):\n",
    "  print(example_context_strings[:5])\n",
    "  print()\n",
    "  print(example_target_strings[:5])\n",
    "  break"
   ]
  },
  {
   "cell_type": "markdown",
   "metadata": {
    "id": "zCoxLcuN3bwv"
   },
   "source": [
    "### Text preprocessing"
   ]
  },
  {
   "cell_type": "markdown",
   "metadata": {
    "id": "7kwdPcHvzz_a"
   },
   "source": [
    "One of the goals of this tutorial is to build a model that can be exported as a `tf.saved_model`. To make that exported model useful it should take `tf.string` inputs, and return `tf.string` outputs: All the text processing happens inside the model. Mainly using a `layers.TextVectorization` layer."
   ]
  },
  {
   "cell_type": "markdown",
   "metadata": {
    "id": "EOQ5n55X4uDB"
   },
   "source": [
    "#### Standardization"
   ]
  },
  {
   "cell_type": "markdown",
   "metadata": {
    "id": "upKhKAMK4zzI"
   },
   "source": [
    "The model is dealing with multilingual text with a limited vocabulary. So it will be important to standardize the input text.\n",
    "\n",
    "The first step is Unicode normalization to split accented characters and replace compatibility characters with their ASCII equivalents.\n",
    "\n",
    "The `tensorflow_text` package contains a unicode normalize operation, We may or may not decide to Use this for ORM data. I kept it in the experiment"
   ]
  },
  {
   "cell_type": "code",
   "execution_count": null,
   "metadata": {
    "colab": {
     "base_uri": "https://localhost:8080/"
    },
    "id": "mD0e-DWGQ2Vo",
    "outputId": "2837b589-44d6-46fe-aff9-d2e5e961e2e1"
   },
   "outputs": [
    {
     "name": "stdout",
     "output_type": "stream",
     "text": [
      "b'moduleOM_nameopenDeclarationonesigclass1_nameextendsClassattrSet=c1_at1+c1_at2id=c1_at1noparentisAbstract=No}onesigc1_at1extendsc1_at1_typeonesigc1_at2extendsc1_at2_typeonesigclass2_nameextendsClassattrSet=c2_at1+c2_at2+c2_at3+c2_at4id=c2_at1noparentisAbstract=No}onesigc2_at1extendsc2_at1_typeonesigc2_at2extendsc2_at2_typeonesigc2_at3extendsc2_at3_typeonesigc2_at4extendsc2_at4_typeonesigclass3_nameextendsClassattrSet=c3_at1+c3_at2+c3_at3+c3_at4id=c3_at1noparentisAbstract=No}onesigc3_at1extendsc3_at1_typeonesigc3_at2extendsc3_at2_typeonesigc3_at3extendsc3_at3_typeonesigc3_at4extendsc3_at4_typeonesigclass4_nameextendsClassattrSet=c4_at1id=c4_at1noparentisAbstract=No}onesigc4_at1extendsc4_at1_typeonesigclass5_nameextendsClassattrSet=c5_at1+c5_at2+c5_at3+c5_at4id=c5_at1noparentisAbstract=No}onesigc5_at1extendsc5_at1_typeonesigc5_at2extendsc5_at2_typeonesigc5_at3extendsc5_at3_typeonesigc5_at4extendsc5_at4_typeonesigclass6_nameextendsClassattrSet=c6_at1+c6_at2+c6_at3+c6_at4id=c6_at1noparentisAbstract=No}onesigc6_at1extendsc6_at1_typeonesigc6_at2extendsc6_at2_typeonesigc6_at3extendsc6_at3_typeonesigc6_at4extendsc6_at4_typeonesigassoc1extendsAssociationsrc=class1_namedst=class5_namesrc_multiplicity=src_mlpcdst_multiplicity=dst_mlpc}onesigassoc2extendsAssociationsrc=class1_namedst=class5_namesrc_multiplicity=src_mlpcdst_multiplicity=dst_mlpc}onesigassoc3extendsAssociationsrc=class4_namedst=class5_namesrc_multiplicity=src_mlpcdst_multiplicity=dst_mlpc}onesigassoc4extendsAssociationsrc=class1_namedst=class6_namesrc_multiplicity=src_mlpcdst_multiplicity=dst_mlpc2}onesigassoc5extendsAssociationsrc=class1_namedst=class3_namesrc_multiplicity=src_mlpcdst_multiplicity=dst_mlpc2}predshowrunshowfor38,\\xe2\\x80\\x8bOM_name_Solution:0Table:class1_nameAttributec1_at1:c1_at1_typePrimaryKeyTable:class1_nameAttributec1_at2:c1_at2_typeTable:class2_nameAttributec2_at1:c1_at1_typePrimaryKeyTable:class2_nameAttributec2_at2:c2_at2_typeTable:class2_nameAttributec2_at3:c2_at3_typeTable:class3_nameAttributec3_at1:c3_at1_typePrimaryKeyTable:class3_nameAttributec3_at4:c3_at4_typeTable:class3_nameAttributec3_at2:c3_at2_typeTable:class4_nameAttributec4_at1:c4_at1_typePrimaryKeyTable:class5_nameAttributec5_at3:c5_at3_typeTable:class5_nameAttributec5_at4:c5_at4_typeTable:class6_nameAttributec6_at1:c6_at1_typePrimaryKeyTable:class6_nameAttributec6_at2:c6_at2_typeTable:class6_nameAttributec6_at3:c6_at3_typeTable:class6_nameAttributec6_at4:c6_at4_typeTable:class1_nameAttributec1_at1:c1_at1_typePrimaryKeyTable:class2_nameAttributec2_at1:c1_at1_typePrimaryKeyTable:class3_nameAttributec3_at1:c3_at1_typePrimaryKeyTable:class4_nameAttributec4_at1:c4_at1_typePrimaryKeyTable:class6_nameAttributec6_at1:c6_at1_typePrimaryKeyTableName:class1_nameTableName:class2_nameTableName:class3_nameTableName:class4_nameTableName:class5_nameTableName:class6_nameMappingStrategyofTableclass1_name:map_str2MappingStrategyofTableclass2_name:map_str2MappingStrategyofTableclass3_name:map_str2MappingStrategyofTableclass4_name:map_str2MappingStrategyofTableclass6_name:map_str2AssociationStrategyforassoc1:assoc_type1AssociationStrategyforassoc2:assoc_type1AssociationStrategyforassoc3:assoc_type2AssociationStrategyforassoc4:assoc_type2AssociationStrategyforassoc5:assoc_type2,USEOM_name0----CREATETABLE`assoc1`(`c5_at1`c5_at1_type`c1_at1`c1_at1_typeKEY`FK_assoc1_c5_at1_idx`(`c5_at1`)KEY`FK_assoc1_c1_at1_idx`(`c1_at1`)PRIMARYKEY(`c5_at1``c1_at1`));----CREATETABLE`assoc3``c5_at1`c5_at1_type`c4_at1`c4_at1_typeKEY`FK_assoc3_c5_at1_idx`(`c5_at1`)KEY`FK_assoc3_c4_at1_idx`(`c4_at1`)PRIMARYKEY(`c5_at1``c4_at1`));----CREATETABLE`class5_name`(`c5_at4`c5_at4_type(64)`c5_at3`c5_at3_type(64)`c1_at1`c1_at1_type`c5_at1`c5_at1_typePRIMARYKEY(`c5_at1`));----CREATETABLE`class3_name`(`c3_at3`c3_at3_type(64)`c3_at2`c3_at2_type(64)`c3_at4`c3_at4_type`c3_at1`c3_at1_typeNOTNULLPRIMARYKEY(`c3_at1`));----CREATETABLE`class2_name`(`c2_at3`c2_at3_type(64)`c2_at2`c2_at2_type(64)`c2_at4`c2_at4_type`c2_at1`c2_at1_typePRIMARYKEY(`c2_at1`));----CREATETABLE`class4_name`(`c4_at1`c4_at1_typePRIMARYKEY(`c4_at1`));----CREATETABLE`class1_name`(`c1_at2`c1_at2_type(64)`c1_at1`c1_at1_typePRIMARYKEY(`c1_at1`));----CREATETABLE`class6_name`(`c6_at4`c6_at4_type`c6_at3`c6_at3_type`c6_at2`c6_at2_type`c6_at1`c6_at1_typeNOTNULLPRIMARYKEY(`c6_at1`));----CREATETABLE`assoc2`(`c5_at1`c5_at1_type`c2_at1`c2_at1_typeKEY`FK_assoc2_c5_at1_idx`(`c5_at1`)KEY`FK_assoc2_c2_at1_idx`(`c2_at1`)PRIMARYKEY(`c5_at1``c2_at1`));----CREATETABLE`assoc5`(`c3_at1`c3_at1_typeNOTNULL`c2_at1`c2_at1_typeKEY`FK_assoc5_c3_at1_idx`(`c3_at1`)KEY`FK_assoc5_c2_at1_idx`(`c2_at1`)PRIMARYKEY(`c3_at1``c2_at1`));----CREATETABLE`assoc4`(`c6_at1`c6_at1_typeNOTNULL`c2_at1`c2_at1_typeKEY`FK_assoc4_c6_at1_idx`(`c6_at1`)KEY`FK_assoc4_c2_at1_idx`(`c2_at1`)PRIMARYKEY(`c6_at1``c2_at1`));ALTERTABLE`assoc1`ADDCONSTRAINT`FK_assoc1_c5_at1`FOREIGNKEY(`c5_at1`)REFERENCES`class5_name`(`c5_at1`)ONDELETECASCADEONUPDATECASCADEADDCONSTRAINT`FK_assoc1_c1_at1`FOREIGNKEY(`c1_at1`)REFERENCES`class1_name`(`c1_at1`)ONDELETECASCADEONUPDATECASCADE;ALTERTABLE`assoc3`ADDCONSTRAINT`FK_assoc3_c5_at1`FOREIGNKEY(`c5_at1`)REFERENCES`class5_name`(`c5_at1`)ONDELETECASCADEONUPDATECASCADEADDCONSTRAINT`FK_assoc3_c4_at1`FOREIGNKEY(`c4_at1`)REFERENCES`class4_name`(`c4_at1`)ONDELETECASCADEONUPDATECASCADE;ALTERTABLE`assoc2`ADDCONSTRAINT`FK_assoc2_c5_at1`FOREIGNKEY(`c5_at1`)REFERENCES`class5_name`(`c5_at1`)ONDELETECASCADEONUPDATECASCADEADDCONSTRAINT`FK_assoc2_c2_at1`FOREIGNKEY(`c2_at1`)REFERENCES`class2_name`(`c2_at1`)ONDELETECASCADEONUPDATECASCADEALTERTABLE`assoc5`ADDCONSTRAINT`FK_assoc5_c3_at1`FOREIGNKEY(`c3_at1`)REFERENCES`class3_name`(`c3_at1`)ONDELETECASCADEONUPDATECASCADEADDCONSTRAINT`FK_assoc5_c2_at1`FOREIGNKEY(`c2_at1`)REFERENCES`class2_name`(`c2_at1`)ONDELETECASCADEONUPDATECASCADE;ALTERTABLE`assoc4`ADDCONSTRAINT`FK_assoc4_c6_at1`FOREIGNKEY(`c6_at1`)REFERENCES`class6_name`(`c6_at1`)ONDELETECASCADEONUPDATECASCADEADDCONSTRAINT`FK_assoc4_c2_at1`FOREIGNKEY(`c2_at1`)REFERENCES`class2_name`(`c2_at1`)ONDELETECASCADEONUPDATECASCADE'\n",
      "b'moduleOM_nameopenDeclarationonesigclass1_nameextendsClassattrSet=c1_at1+c1_at2id=c1_at1noparentisAbstract=No}onesigc1_at1extendsc1_at1_typeonesigc1_at2extendsc1_at2_typeonesigclass2_nameextendsClassattrSet=c2_at1+c2_at2+c2_at3+c2_at4id=c2_at1noparentisAbstract=No}onesigc2_at1extendsc2_at1_typeonesigc2_at2extendsc2_at2_typeonesigc2_at3extendsc2_at3_typeonesigc2_at4extendsc2_at4_typeonesigclass3_nameextendsClassattrSet=c3_at1+c3_at2+c3_at3+c3_at4id=c3_at1noparentisAbstract=No}onesigc3_at1extendsc3_at1_typeonesigc3_at2extendsc3_at2_typeonesigc3_at3extendsc3_at3_typeonesigc3_at4extendsc3_at4_typeonesigclass4_nameextendsClassattrSet=c4_at1id=c4_at1noparentisAbstract=No}onesigc4_at1extendsc4_at1_typeonesigclass5_nameextendsClassattrSet=c5_at1+c5_at2+c5_at3+c5_at4id=c5_at1noparentisAbstract=No}onesigc5_at1extendsc5_at1_typeonesigc5_at2extendsc5_at2_typeonesigc5_at3extendsc5_at3_typeonesigc5_at4extendsc5_at4_typeonesigclass6_nameextendsClassattrSet=c6_at1+c6_at2+c6_at3+c6_at4id=c6_at1noparentisAbstract=No}onesigc6_at1extendsc6_at1_typeonesigc6_at2extendsc6_at2_typeonesigc6_at3extendsc6_at3_typeonesigc6_at4extendsc6_at4_typeonesigassoc1extendsAssociationsrc=class1_namedst=class5_namesrc_multiplicity=src_mlpcdst_multiplicity=dst_mlpc}onesigassoc2extendsAssociationsrc=class1_namedst=class5_namesrc_multiplicity=src_mlpcdst_multiplicity=dst_mlpc}onesigassoc3extendsAssociationsrc=class4_namedst=class5_namesrc_multiplicity=src_mlpcdst_multiplicity=dst_mlpc}onesigassoc4extendsAssociationsrc=class1_namedst=class6_namesrc_multiplicity=src_mlpcdst_multiplicity=dst_mlpc2}onesigassoc5extendsAssociationsrc=class1_namedst=class3_namesrc_multiplicity=src_mlpcdst_multiplicity=dst_mlpc2}predshowrunshowfor38,\\xe2\\x80\\x8bOM_name_Solution:0Table:class1_nameAttributec1_at1:c1_at1_typePrimaryKeyTable:class1_nameAttributec1_at2:c1_at2_typeTable:class2_nameAttributec2_at1:c1_at1_typePrimaryKeyTable:class2_nameAttributec2_at2:c2_at2_typeTable:class2_nameAttributec2_at3:c2_at3_typeTable:class3_nameAttributec3_at1:c3_at1_typePrimaryKeyTable:class3_nameAttributec3_at4:c3_at4_typeTable:class3_nameAttributec3_at2:c3_at2_typeTable:class4_nameAttributec4_at1:c4_at1_typePrimaryKeyTable:class5_nameAttributec5_at3:c5_at3_typeTable:class5_nameAttributec5_at4:c5_at4_typeTable:class6_nameAttributec6_at1:c6_at1_typePrimaryKeyTable:class6_nameAttributec6_at2:c6_at2_typeTable:class6_nameAttributec6_at3:c6_at3_typeTable:class6_nameAttributec6_at4:c6_at4_typeTable:class1_nameAttributec1_at1:c1_at1_typePrimaryKeyTable:class2_nameAttributec2_at1:c1_at1_typePrimaryKeyTable:class3_nameAttributec3_at1:c3_at1_typePrimaryKeyTable:class4_nameAttributec4_at1:c4_at1_typePrimaryKeyTable:class6_nameAttributec6_at1:c6_at1_typePrimaryKeyTableName:class1_nameTableName:class2_nameTableName:class3_nameTableName:class4_nameTableName:class5_nameTableName:class6_nameMappingStrategyofTableclass1_name:map_str2MappingStrategyofTableclass2_name:map_str2MappingStrategyofTableclass3_name:map_str2MappingStrategyofTableclass4_name:map_str2MappingStrategyofTableclass6_name:map_str2AssociationStrategyforassoc1:assoc_type1AssociationStrategyforassoc2:assoc_type1AssociationStrategyforassoc3:assoc_type2AssociationStrategyforassoc4:assoc_type2AssociationStrategyforassoc5:assoc_type2,USEOM_name0----CREATETABLE`assoc1`(`c5_at1`c5_at1_type`c1_at1`c1_at1_typeKEY`FK_assoc1_c5_at1_idx`(`c5_at1`)KEY`FK_assoc1_c1_at1_idx`(`c1_at1`)PRIMARYKEY(`c5_at1``c1_at1`));----CREATETABLE`assoc3``c5_at1`c5_at1_type`c4_at1`c4_at1_typeKEY`FK_assoc3_c5_at1_idx`(`c5_at1`)KEY`FK_assoc3_c4_at1_idx`(`c4_at1`)PRIMARYKEY(`c5_at1``c4_at1`));----CREATETABLE`class5_name`(`c5_at4`c5_at4_type(64)`c5_at3`c5_at3_type(64)`c1_at1`c1_at1_type`c5_at1`c5_at1_typePRIMARYKEY(`c5_at1`));----CREATETABLE`class3_name`(`c3_at3`c3_at3_type(64)`c3_at2`c3_at2_type(64)`c3_at4`c3_at4_type`c3_at1`c3_at1_typeNOTNULLPRIMARYKEY(`c3_at1`));----CREATETABLE`class2_name`(`c2_at3`c2_at3_type(64)`c2_at2`c2_at2_type(64)`c2_at4`c2_at4_type`c2_at1`c2_at1_typePRIMARYKEY(`c2_at1`));----CREATETABLE`class4_name`(`c4_at1`c4_at1_typePRIMARYKEY(`c4_at1`));----CREATETABLE`class1_name`(`c1_at2`c1_at2_type(64)`c1_at1`c1_at1_typePRIMARYKEY(`c1_at1`));----CREATETABLE`class6_name`(`c6_at4`c6_at4_type`c6_at3`c6_at3_type`c6_at2`c6_at2_type`c6_at1`c6_at1_typeNOTNULLPRIMARYKEY(`c6_at1`));----CREATETABLE`assoc2`(`c5_at1`c5_at1_type`c2_at1`c2_at1_typeKEY`FK_assoc2_c5_at1_idx`(`c5_at1`)KEY`FK_assoc2_c2_at1_idx`(`c2_at1`)PRIMARYKEY(`c5_at1``c2_at1`));----CREATETABLE`assoc5`(`c3_at1`c3_at1_typeNOTNULL`c2_at1`c2_at1_typeKEY`FK_assoc5_c3_at1_idx`(`c3_at1`)KEY`FK_assoc5_c2_at1_idx`(`c2_at1`)PRIMARYKEY(`c3_at1``c2_at1`));----CREATETABLE`assoc4`(`c6_at1`c6_at1_typeNOTNULL`c2_at1`c2_at1_typeKEY`FK_assoc4_c6_at1_idx`(`c6_at1`)KEY`FK_assoc4_c2_at1_idx`(`c2_at1`)PRIMARYKEY(`c6_at1``c2_at1`));ALTERTABLE`assoc1`ADDCONSTRAINT`FK_assoc1_c5_at1`FOREIGNKEY(`c5_at1`)REFERENCES`class5_name`(`c5_at1`)ONDELETECASCADEONUPDATECASCADEADDCONSTRAINT`FK_assoc1_c1_at1`FOREIGNKEY(`c1_at1`)REFERENCES`class1_name`(`c1_at1`)ONDELETECASCADEONUPDATECASCADE;ALTERTABLE`assoc3`ADDCONSTRAINT`FK_assoc3_c5_at1`FOREIGNKEY(`c5_at1`)REFERENCES`class5_name`(`c5_at1`)ONDELETECASCADEONUPDATECASCADEADDCONSTRAINT`FK_assoc3_c4_at1`FOREIGNKEY(`c4_at1`)REFERENCES`class4_name`(`c4_at1`)ONDELETECASCADEONUPDATECASCADE;ALTERTABLE`assoc2`ADDCONSTRAINT`FK_assoc2_c5_at1`FOREIGNKEY(`c5_at1`)REFERENCES`class5_name`(`c5_at1`)ONDELETECASCADEONUPDATECASCADEADDCONSTRAINT`FK_assoc2_c2_at1`FOREIGNKEY(`c2_at1`)REFERENCES`class2_name`(`c2_at1`)ONDELETECASCADEONUPDATECASCADEALTERTABLE`assoc5`ADDCONSTRAINT`FK_assoc5_c3_at1`FOREIGNKEY(`c3_at1`)REFERENCES`class3_name`(`c3_at1`)ONDELETECASCADEONUPDATECASCADEADDCONSTRAINT`FK_assoc5_c2_at1`FOREIGNKEY(`c2_at1`)REFERENCES`class2_name`(`c2_at1`)ONDELETECASCADEONUPDATECASCADE;ALTERTABLE`assoc4`ADDCONSTRAINT`FK_assoc4_c6_at1`FOREIGNKEY(`c6_at1`)REFERENCES`class6_name`(`c6_at1`)ONDELETECASCADEONUPDATECASCADEADDCONSTRAINT`FK_assoc4_c2_at1`FOREIGNKEY(`c2_at1`)REFERENCES`class2_name`(`c2_at1`)ONDELETECASCADEONUPDATECASCADE'\n"
     ]
    }
   ],
   "source": [
    "example_text = tf.constant('moduleOM_nameopenDeclarationonesigclass1_nameextendsClassattrSet=c1_at1+c1_at2id=c1_at1noparentisAbstract=No}onesigc1_at1extendsc1_at1_typeonesigc1_at2extendsc1_at2_typeonesigclass2_nameextendsClassattrSet=c2_at1+c2_at2+c2_at3+c2_at4id=c2_at1noparentisAbstract=No}onesigc2_at1extendsc2_at1_typeonesigc2_at2extendsc2_at2_typeonesigc2_at3extendsc2_at3_typeonesigc2_at4extendsc2_at4_typeonesigclass3_nameextendsClassattrSet=c3_at1+c3_at2+c3_at3+c3_at4id=c3_at1noparentisAbstract=No}onesigc3_at1extendsc3_at1_typeonesigc3_at2extendsc3_at2_typeonesigc3_at3extendsc3_at3_typeonesigc3_at4extendsc3_at4_typeonesigclass4_nameextendsClassattrSet=c4_at1id=c4_at1noparentisAbstract=No}onesigc4_at1extendsc4_at1_typeonesigclass5_nameextendsClassattrSet=c5_at1+c5_at2+c5_at3+c5_at4id=c5_at1noparentisAbstract=No}onesigc5_at1extendsc5_at1_typeonesigc5_at2extendsc5_at2_typeonesigc5_at3extendsc5_at3_typeonesigc5_at4extendsc5_at4_typeonesigclass6_nameextendsClassattrSet=c6_at1+c6_at2+c6_at3+c6_at4id=c6_at1noparentisAbstract=No}onesigc6_at1extendsc6_at1_typeonesigc6_at2extendsc6_at2_typeonesigc6_at3extendsc6_at3_typeonesigc6_at4extendsc6_at4_typeonesigassoc1extendsAssociationsrc=class1_namedst=class5_namesrc_multiplicity=src_mlpcdst_multiplicity=dst_mlpc}onesigassoc2extendsAssociationsrc=class1_namedst=class5_namesrc_multiplicity=src_mlpcdst_multiplicity=dst_mlpc}onesigassoc3extendsAssociationsrc=class4_namedst=class5_namesrc_multiplicity=src_mlpcdst_multiplicity=dst_mlpc}onesigassoc4extendsAssociationsrc=class1_namedst=class6_namesrc_multiplicity=src_mlpcdst_multiplicity=dst_mlpc2}onesigassoc5extendsAssociationsrc=class1_namedst=class3_namesrc_multiplicity=src_mlpcdst_multiplicity=dst_mlpc2}predshowrunshowfor38,​OM_name_Solution:0Table:class1_nameAttributec1_at1:c1_at1_typePrimaryKeyTable:class1_nameAttributec1_at2:c1_at2_typeTable:class2_nameAttributec2_at1:c1_at1_typePrimaryKeyTable:class2_nameAttributec2_at2:c2_at2_typeTable:class2_nameAttributec2_at3:c2_at3_typeTable:class3_nameAttributec3_at1:c3_at1_typePrimaryKeyTable:class3_nameAttributec3_at4:c3_at4_typeTable:class3_nameAttributec3_at2:c3_at2_typeTable:class4_nameAttributec4_at1:c4_at1_typePrimaryKeyTable:class5_nameAttributec5_at3:c5_at3_typeTable:class5_nameAttributec5_at4:c5_at4_typeTable:class6_nameAttributec6_at1:c6_at1_typePrimaryKeyTable:class6_nameAttributec6_at2:c6_at2_typeTable:class6_nameAttributec6_at3:c6_at3_typeTable:class6_nameAttributec6_at4:c6_at4_typeTable:class1_nameAttributec1_at1:c1_at1_typePrimaryKeyTable:class2_nameAttributec2_at1:c1_at1_typePrimaryKeyTable:class3_nameAttributec3_at1:c3_at1_typePrimaryKeyTable:class4_nameAttributec4_at1:c4_at1_typePrimaryKeyTable:class6_nameAttributec6_at1:c6_at1_typePrimaryKeyTableName:class1_nameTableName:class2_nameTableName:class3_nameTableName:class4_nameTableName:class5_nameTableName:class6_nameMappingStrategyofTableclass1_name:map_str2MappingStrategyofTableclass2_name:map_str2MappingStrategyofTableclass3_name:map_str2MappingStrategyofTableclass4_name:map_str2MappingStrategyofTableclass6_name:map_str2AssociationStrategyforassoc1:assoc_type1AssociationStrategyforassoc2:assoc_type1AssociationStrategyforassoc3:assoc_type2AssociationStrategyforassoc4:assoc_type2AssociationStrategyforassoc5:assoc_type2,USEOM_name0----CREATETABLE`assoc1`(`c5_at1`c5_at1_type`c1_at1`c1_at1_typeKEY`FK_assoc1_c5_at1_idx`(`c5_at1`)KEY`FK_assoc1_c1_at1_idx`(`c1_at1`)PRIMARYKEY(`c5_at1``c1_at1`));----CREATETABLE`assoc3``c5_at1`c5_at1_type`c4_at1`c4_at1_typeKEY`FK_assoc3_c5_at1_idx`(`c5_at1`)KEY`FK_assoc3_c4_at1_idx`(`c4_at1`)PRIMARYKEY(`c5_at1``c4_at1`));----CREATETABLE`class5_name`(`c5_at4`c5_at4_type(64)`c5_at3`c5_at3_type(64)`c1_at1`c1_at1_type`c5_at1`c5_at1_typePRIMARYKEY(`c5_at1`));----CREATETABLE`class3_name`(`c3_at3`c3_at3_type(64)`c3_at2`c3_at2_type(64)`c3_at4`c3_at4_type`c3_at1`c3_at1_typeNOTNULLPRIMARYKEY(`c3_at1`));----CREATETABLE`class2_name`(`c2_at3`c2_at3_type(64)`c2_at2`c2_at2_type(64)`c2_at4`c2_at4_type`c2_at1`c2_at1_typePRIMARYKEY(`c2_at1`));----CREATETABLE`class4_name`(`c4_at1`c4_at1_typePRIMARYKEY(`c4_at1`));----CREATETABLE`class1_name`(`c1_at2`c1_at2_type(64)`c1_at1`c1_at1_typePRIMARYKEY(`c1_at1`));----CREATETABLE`class6_name`(`c6_at4`c6_at4_type`c6_at3`c6_at3_type`c6_at2`c6_at2_type`c6_at1`c6_at1_typeNOTNULLPRIMARYKEY(`c6_at1`));----CREATETABLE`assoc2`(`c5_at1`c5_at1_type`c2_at1`c2_at1_typeKEY`FK_assoc2_c5_at1_idx`(`c5_at1`)KEY`FK_assoc2_c2_at1_idx`(`c2_at1`)PRIMARYKEY(`c5_at1``c2_at1`));----CREATETABLE`assoc5`(`c3_at1`c3_at1_typeNOTNULL`c2_at1`c2_at1_typeKEY`FK_assoc5_c3_at1_idx`(`c3_at1`)KEY`FK_assoc5_c2_at1_idx`(`c2_at1`)PRIMARYKEY(`c3_at1``c2_at1`));----CREATETABLE`assoc4`(`c6_at1`c6_at1_typeNOTNULL`c2_at1`c2_at1_typeKEY`FK_assoc4_c6_at1_idx`(`c6_at1`)KEY`FK_assoc4_c2_at1_idx`(`c2_at1`)PRIMARYKEY(`c6_at1``c2_at1`));ALTERTABLE`assoc1`ADDCONSTRAINT`FK_assoc1_c5_at1`FOREIGNKEY(`c5_at1`)REFERENCES`class5_name`(`c5_at1`)ONDELETECASCADEONUPDATECASCADEADDCONSTRAINT`FK_assoc1_c1_at1`FOREIGNKEY(`c1_at1`)REFERENCES`class1_name`(`c1_at1`)ONDELETECASCADEONUPDATECASCADE;ALTERTABLE`assoc3`ADDCONSTRAINT`FK_assoc3_c5_at1`FOREIGNKEY(`c5_at1`)REFERENCES`class5_name`(`c5_at1`)ONDELETECASCADEONUPDATECASCADEADDCONSTRAINT`FK_assoc3_c4_at1`FOREIGNKEY(`c4_at1`)REFERENCES`class4_name`(`c4_at1`)ONDELETECASCADEONUPDATECASCADE;ALTERTABLE`assoc2`ADDCONSTRAINT`FK_assoc2_c5_at1`FOREIGNKEY(`c5_at1`)REFERENCES`class5_name`(`c5_at1`)ONDELETECASCADEONUPDATECASCADEADDCONSTRAINT`FK_assoc2_c2_at1`FOREIGNKEY(`c2_at1`)REFERENCES`class2_name`(`c2_at1`)ONDELETECASCADEONUPDATECASCADEALTERTABLE`assoc5`ADDCONSTRAINT`FK_assoc5_c3_at1`FOREIGNKEY(`c3_at1`)REFERENCES`class3_name`(`c3_at1`)ONDELETECASCADEONUPDATECASCADEADDCONSTRAINT`FK_assoc5_c2_at1`FOREIGNKEY(`c2_at1`)REFERENCES`class2_name`(`c2_at1`)ONDELETECASCADEONUPDATECASCADE;ALTERTABLE`assoc4`ADDCONSTRAINT`FK_assoc4_c6_at1`FOREIGNKEY(`c6_at1`)REFERENCES`class6_name`(`c6_at1`)ONDELETECASCADEONUPDATECASCADEADDCONSTRAINT`FK_assoc4_c2_at1`FOREIGNKEY(`c2_at1`)REFERENCES`class2_name`(`c2_at1`)ONDELETECASCADEONUPDATECASCADE')\n",
    "\n",
    "#example_text = tf.constant('class1,table2,obj1,atr1')\n",
    "print(example_text.numpy())\n",
    "print(tf_text.normalize_utf8(example_text, 'NFKD').numpy())"
   ]
  },
  {
   "cell_type": "code",
   "execution_count": null,
   "metadata": {
    "id": "chTF5N885F0P"
   },
   "outputs": [],
   "source": [
    "#import re\n",
    "\n",
    "#def tf_lower_and_split_punct(text):\n",
    "\n",
    "def tf_lower_and_split_punct(text):\n",
    "  # Split accented characters.\n",
    "  text = tf_text.normalize_utf8(text, 'NFKD')\n",
    "  text = tf.strings.lower(text)\n",
    "  # Keep space, a to z, and select punctuation.\n",
    "  text = tf.strings.regex_replace(text, '', '')\n",
    "  # Add spaces around punctuation.\n",
    "  text = tf.strings.regex_replace(text, '', r'')\n",
    "  # Strip whitespace.\n",
    "  text = tf.strings.strip(text)\n",
    "\n",
    "  text = tf.strings.join(['[START]', text, '[END]'], separator=' ')\n",
    "  return text\n",
    "\n",
    "\n",
    "\n"
   ]
  },
  {
   "cell_type": "code",
   "execution_count": null,
   "metadata": {
    "colab": {
     "base_uri": "https://localhost:8080/"
    },
    "id": "UREvDg3sEKYa",
    "outputId": "0b6ae8a2-676b-4d54-b822-355719836358"
   },
   "outputs": [
    {
     "name": "stdout",
     "output_type": "stream",
     "text": [
      "moduleOM_nameopenDeclarationonesigclass1_nameextendsClassattrSet=c1_at1+c1_at2id=c1_at1noparentisAbstract=No}onesigc1_at1extendsc1_at1_typeonesigc1_at2extendsc1_at2_typeonesigclass2_nameextendsClassattrSet=c2_at1+c2_at2+c2_at3+c2_at4id=c2_at1noparentisAbstract=No}onesigc2_at1extendsc2_at1_typeonesigc2_at2extendsc2_at2_typeonesigc2_at3extendsc2_at3_typeonesigc2_at4extendsc2_at4_typeonesigclass3_nameextendsClassattrSet=c3_at1+c3_at2+c3_at3+c3_at4id=c3_at1noparentisAbstract=No}onesigc3_at1extendsc3_at1_typeonesigc3_at2extendsc3_at2_typeonesigc3_at3extendsc3_at3_typeonesigc3_at4extendsc3_at4_typeonesigclass4_nameextendsClassattrSet=c4_at1id=c4_at1noparentisAbstract=No}onesigc4_at1extendsc4_at1_typeonesigclass5_nameextendsClassattrSet=c5_at1+c5_at2+c5_at3+c5_at4id=c5_at1noparentisAbstract=No}onesigc5_at1extendsc5_at1_typeonesigc5_at2extendsc5_at2_typeonesigc5_at3extendsc5_at3_typeonesigc5_at4extendsc5_at4_typeonesigclass6_nameextendsClassattrSet=c6_at1+c6_at2+c6_at3+c6_at4id=c6_at1noparentisAbstract=No}onesigc6_at1extendsc6_at1_typeonesigc6_at2extendsc6_at2_typeonesigc6_at3extendsc6_at3_typeonesigc6_at4extendsc6_at4_typeonesigassoc1extendsAssociationsrc=class1_namedst=class5_namesrc_multiplicity=src_mlpcdst_multiplicity=dst_mlpc}onesigassoc2extendsAssociationsrc=class1_namedst=class5_namesrc_multiplicity=src_mlpcdst_multiplicity=dst_mlpc}onesigassoc3extendsAssociationsrc=class4_namedst=class5_namesrc_multiplicity=src_mlpcdst_multiplicity=dst_mlpc}onesigassoc4extendsAssociationsrc=class1_namedst=class6_namesrc_multiplicity=src_mlpcdst_multiplicity=dst_mlpc2}onesigassoc5extendsAssociationsrc=class1_namedst=class3_namesrc_multiplicity=src_mlpcdst_multiplicity=dst_mlpc2}predshowrunshowfor38,​OM_name_Solution:0Table:class1_nameAttributec1_at1:c1_at1_typePrimaryKeyTable:class1_nameAttributec1_at2:c1_at2_typeTable:class2_nameAttributec2_at1:c1_at1_typePrimaryKeyTable:class2_nameAttributec2_at2:c2_at2_typeTable:class2_nameAttributec2_at3:c2_at3_typeTable:class3_nameAttributec3_at1:c3_at1_typePrimaryKeyTable:class3_nameAttributec3_at4:c3_at4_typeTable:class3_nameAttributec3_at2:c3_at2_typeTable:class4_nameAttributec4_at1:c4_at1_typePrimaryKeyTable:class5_nameAttributec5_at3:c5_at3_typeTable:class5_nameAttributec5_at4:c5_at4_typeTable:class6_nameAttributec6_at1:c6_at1_typePrimaryKeyTable:class6_nameAttributec6_at2:c6_at2_typeTable:class6_nameAttributec6_at3:c6_at3_typeTable:class6_nameAttributec6_at4:c6_at4_typeTable:class1_nameAttributec1_at1:c1_at1_typePrimaryKeyTable:class2_nameAttributec2_at1:c1_at1_typePrimaryKeyTable:class3_nameAttributec3_at1:c3_at1_typePrimaryKeyTable:class4_nameAttributec4_at1:c4_at1_typePrimaryKeyTable:class6_nameAttributec6_at1:c6_at1_typePrimaryKeyTableName:class1_nameTableName:class2_nameTableName:class3_nameTableName:class4_nameTableName:class5_nameTableName:class6_nameMappingStrategyofTableclass1_name:map_str2MappingStrategyofTableclass2_name:map_str2MappingStrategyofTableclass3_name:map_str2MappingStrategyofTableclass4_name:map_str2MappingStrategyofTableclass6_name:map_str2AssociationStrategyforassoc1:assoc_type1AssociationStrategyforassoc2:assoc_type1AssociationStrategyforassoc3:assoc_type2AssociationStrategyforassoc4:assoc_type2AssociationStrategyforassoc5:assoc_type2,USEOM_name0----CREATETABLE`assoc1`(`c5_at1`c5_at1_type`c1_at1`c1_at1_typeKEY`FK_assoc1_c5_at1_idx`(`c5_at1`)KEY`FK_assoc1_c1_at1_idx`(`c1_at1`)PRIMARYKEY(`c5_at1``c1_at1`));----CREATETABLE`assoc3``c5_at1`c5_at1_type`c4_at1`c4_at1_typeKEY`FK_assoc3_c5_at1_idx`(`c5_at1`)KEY`FK_assoc3_c4_at1_idx`(`c4_at1`)PRIMARYKEY(`c5_at1``c4_at1`));----CREATETABLE`class5_name`(`c5_at4`c5_at4_type(64)`c5_at3`c5_at3_type(64)`c1_at1`c1_at1_type`c5_at1`c5_at1_typePRIMARYKEY(`c5_at1`));----CREATETABLE`class3_name`(`c3_at3`c3_at3_type(64)`c3_at2`c3_at2_type(64)`c3_at4`c3_at4_type`c3_at1`c3_at1_typeNOTNULLPRIMARYKEY(`c3_at1`));----CREATETABLE`class2_name`(`c2_at3`c2_at3_type(64)`c2_at2`c2_at2_type(64)`c2_at4`c2_at4_type`c2_at1`c2_at1_typePRIMARYKEY(`c2_at1`));----CREATETABLE`class4_name`(`c4_at1`c4_at1_typePRIMARYKEY(`c4_at1`));----CREATETABLE`class1_name`(`c1_at2`c1_at2_type(64)`c1_at1`c1_at1_typePRIMARYKEY(`c1_at1`));----CREATETABLE`class6_name`(`c6_at4`c6_at4_type`c6_at3`c6_at3_type`c6_at2`c6_at2_type`c6_at1`c6_at1_typeNOTNULLPRIMARYKEY(`c6_at1`));----CREATETABLE`assoc2`(`c5_at1`c5_at1_type`c2_at1`c2_at1_typeKEY`FK_assoc2_c5_at1_idx`(`c5_at1`)KEY`FK_assoc2_c2_at1_idx`(`c2_at1`)PRIMARYKEY(`c5_at1``c2_at1`));----CREATETABLE`assoc5`(`c3_at1`c3_at1_typeNOTNULL`c2_at1`c2_at1_typeKEY`FK_assoc5_c3_at1_idx`(`c3_at1`)KEY`FK_assoc5_c2_at1_idx`(`c2_at1`)PRIMARYKEY(`c3_at1``c2_at1`));----CREATETABLE`assoc4`(`c6_at1`c6_at1_typeNOTNULL`c2_at1`c2_at1_typeKEY`FK_assoc4_c6_at1_idx`(`c6_at1`)KEY`FK_assoc4_c2_at1_idx`(`c2_at1`)PRIMARYKEY(`c6_at1``c2_at1`));ALTERTABLE`assoc1`ADDCONSTRAINT`FK_assoc1_c5_at1`FOREIGNKEY(`c5_at1`)REFERENCES`class5_name`(`c5_at1`)ONDELETECASCADEONUPDATECASCADEADDCONSTRAINT`FK_assoc1_c1_at1`FOREIGNKEY(`c1_at1`)REFERENCES`class1_name`(`c1_at1`)ONDELETECASCADEONUPDATECASCADE;ALTERTABLE`assoc3`ADDCONSTRAINT`FK_assoc3_c5_at1`FOREIGNKEY(`c5_at1`)REFERENCES`class5_name`(`c5_at1`)ONDELETECASCADEONUPDATECASCADEADDCONSTRAINT`FK_assoc3_c4_at1`FOREIGNKEY(`c4_at1`)REFERENCES`class4_name`(`c4_at1`)ONDELETECASCADEONUPDATECASCADE;ALTERTABLE`assoc2`ADDCONSTRAINT`FK_assoc2_c5_at1`FOREIGNKEY(`c5_at1`)REFERENCES`class5_name`(`c5_at1`)ONDELETECASCADEONUPDATECASCADEADDCONSTRAINT`FK_assoc2_c2_at1`FOREIGNKEY(`c2_at1`)REFERENCES`class2_name`(`c2_at1`)ONDELETECASCADEONUPDATECASCADEALTERTABLE`assoc5`ADDCONSTRAINT`FK_assoc5_c3_at1`FOREIGNKEY(`c3_at1`)REFERENCES`class3_name`(`c3_at1`)ONDELETECASCADEONUPDATECASCADEADDCONSTRAINT`FK_assoc5_c2_at1`FOREIGNKEY(`c2_at1`)REFERENCES`class2_name`(`c2_at1`)ONDELETECASCADEONUPDATECASCADE;ALTERTABLE`assoc4`ADDCONSTRAINT`FK_assoc4_c6_at1`FOREIGNKEY(`c6_at1`)REFERENCES`class6_name`(`c6_at1`)ONDELETECASCADEONUPDATECASCADEADDCONSTRAINT`FK_assoc4_c2_at1`FOREIGNKEY(`c2_at1`)REFERENCES`class2_name`(`c2_at1`)ONDELETECASCADEONUPDATECASCADE\n",
      "[START] moduleom_nameopendeclarationonesigclass1_nameextendsclassattrset=c1_at1+c1_at2id=c1_at1noparentisabstract=no}onesigc1_at1extendsc1_at1_typeonesigc1_at2extendsc1_at2_typeonesigclass2_nameextendsclassattrset=c2_at1+c2_at2+c2_at3+c2_at4id=c2_at1noparentisabstract=no}onesigc2_at1extendsc2_at1_typeonesigc2_at2extendsc2_at2_typeonesigc2_at3extendsc2_at3_typeonesigc2_at4extendsc2_at4_typeonesigclass3_nameextendsclassattrset=c3_at1+c3_at2+c3_at3+c3_at4id=c3_at1noparentisabstract=no}onesigc3_at1extendsc3_at1_typeonesigc3_at2extendsc3_at2_typeonesigc3_at3extendsc3_at3_typeonesigc3_at4extendsc3_at4_typeonesigclass4_nameextendsclassattrset=c4_at1id=c4_at1noparentisabstract=no}onesigc4_at1extendsc4_at1_typeonesigclass5_nameextendsclassattrset=c5_at1+c5_at2+c5_at3+c5_at4id=c5_at1noparentisabstract=no}onesigc5_at1extendsc5_at1_typeonesigc5_at2extendsc5_at2_typeonesigc5_at3extendsc5_at3_typeonesigc5_at4extendsc5_at4_typeonesigclass6_nameextendsclassattrset=c6_at1+c6_at2+c6_at3+c6_at4id=c6_at1noparentisabstract=no}onesigc6_at1extendsc6_at1_typeonesigc6_at2extendsc6_at2_typeonesigc6_at3extendsc6_at3_typeonesigc6_at4extendsc6_at4_typeonesigassoc1extendsassociationsrc=class1_namedst=class5_namesrc_multiplicity=src_mlpcdst_multiplicity=dst_mlpc}onesigassoc2extendsassociationsrc=class1_namedst=class5_namesrc_multiplicity=src_mlpcdst_multiplicity=dst_mlpc}onesigassoc3extendsassociationsrc=class4_namedst=class5_namesrc_multiplicity=src_mlpcdst_multiplicity=dst_mlpc}onesigassoc4extendsassociationsrc=class1_namedst=class6_namesrc_multiplicity=src_mlpcdst_multiplicity=dst_mlpc2}onesigassoc5extendsassociationsrc=class1_namedst=class3_namesrc_multiplicity=src_mlpcdst_multiplicity=dst_mlpc2}predshowrunshowfor38,​om_name_solution:0table:class1_nameattributec1_at1:c1_at1_typeprimarykeytable:class1_nameattributec1_at2:c1_at2_typetable:class2_nameattributec2_at1:c1_at1_typeprimarykeytable:class2_nameattributec2_at2:c2_at2_typetable:class2_nameattributec2_at3:c2_at3_typetable:class3_nameattributec3_at1:c3_at1_typeprimarykeytable:class3_nameattributec3_at4:c3_at4_typetable:class3_nameattributec3_at2:c3_at2_typetable:class4_nameattributec4_at1:c4_at1_typeprimarykeytable:class5_nameattributec5_at3:c5_at3_typetable:class5_nameattributec5_at4:c5_at4_typetable:class6_nameattributec6_at1:c6_at1_typeprimarykeytable:class6_nameattributec6_at2:c6_at2_typetable:class6_nameattributec6_at3:c6_at3_typetable:class6_nameattributec6_at4:c6_at4_typetable:class1_nameattributec1_at1:c1_at1_typeprimarykeytable:class2_nameattributec2_at1:c1_at1_typeprimarykeytable:class3_nameattributec3_at1:c3_at1_typeprimarykeytable:class4_nameattributec4_at1:c4_at1_typeprimarykeytable:class6_nameattributec6_at1:c6_at1_typeprimarykeytablename:class1_nametablename:class2_nametablename:class3_nametablename:class4_nametablename:class5_nametablename:class6_namemappingstrategyoftableclass1_name:map_str2mappingstrategyoftableclass2_name:map_str2mappingstrategyoftableclass3_name:map_str2mappingstrategyoftableclass4_name:map_str2mappingstrategyoftableclass6_name:map_str2associationstrategyforassoc1:assoc_type1associationstrategyforassoc2:assoc_type1associationstrategyforassoc3:assoc_type2associationstrategyforassoc4:assoc_type2associationstrategyforassoc5:assoc_type2,useom_name0----createtable`assoc1`(`c5_at1`c5_at1_type`c1_at1`c1_at1_typekey`fk_assoc1_c5_at1_idx`(`c5_at1`)key`fk_assoc1_c1_at1_idx`(`c1_at1`)primarykey(`c5_at1``c1_at1`));----createtable`assoc3``c5_at1`c5_at1_type`c4_at1`c4_at1_typekey`fk_assoc3_c5_at1_idx`(`c5_at1`)key`fk_assoc3_c4_at1_idx`(`c4_at1`)primarykey(`c5_at1``c4_at1`));----createtable`class5_name`(`c5_at4`c5_at4_type(64)`c5_at3`c5_at3_type(64)`c1_at1`c1_at1_type`c5_at1`c5_at1_typeprimarykey(`c5_at1`));----createtable`class3_name`(`c3_at3`c3_at3_type(64)`c3_at2`c3_at2_type(64)`c3_at4`c3_at4_type`c3_at1`c3_at1_typenotnullprimarykey(`c3_at1`));----createtable`class2_name`(`c2_at3`c2_at3_type(64)`c2_at2`c2_at2_type(64)`c2_at4`c2_at4_type`c2_at1`c2_at1_typeprimarykey(`c2_at1`));----createtable`class4_name`(`c4_at1`c4_at1_typeprimarykey(`c4_at1`));----createtable`class1_name`(`c1_at2`c1_at2_type(64)`c1_at1`c1_at1_typeprimarykey(`c1_at1`));----createtable`class6_name`(`c6_at4`c6_at4_type`c6_at3`c6_at3_type`c6_at2`c6_at2_type`c6_at1`c6_at1_typenotnullprimarykey(`c6_at1`));----createtable`assoc2`(`c5_at1`c5_at1_type`c2_at1`c2_at1_typekey`fk_assoc2_c5_at1_idx`(`c5_at1`)key`fk_assoc2_c2_at1_idx`(`c2_at1`)primarykey(`c5_at1``c2_at1`));----createtable`assoc5`(`c3_at1`c3_at1_typenotnull`c2_at1`c2_at1_typekey`fk_assoc5_c3_at1_idx`(`c3_at1`)key`fk_assoc5_c2_at1_idx`(`c2_at1`)primarykey(`c3_at1``c2_at1`));----createtable`assoc4`(`c6_at1`c6_at1_typenotnull`c2_at1`c2_at1_typekey`fk_assoc4_c6_at1_idx`(`c6_at1`)key`fk_assoc4_c2_at1_idx`(`c2_at1`)primarykey(`c6_at1``c2_at1`));altertable`assoc1`addconstraint`fk_assoc1_c5_at1`foreignkey(`c5_at1`)references`class5_name`(`c5_at1`)ondeletecascadeonupdatecascadeaddconstraint`fk_assoc1_c1_at1`foreignkey(`c1_at1`)references`class1_name`(`c1_at1`)ondeletecascadeonupdatecascade;altertable`assoc3`addconstraint`fk_assoc3_c5_at1`foreignkey(`c5_at1`)references`class5_name`(`c5_at1`)ondeletecascadeonupdatecascadeaddconstraint`fk_assoc3_c4_at1`foreignkey(`c4_at1`)references`class4_name`(`c4_at1`)ondeletecascadeonupdatecascade;altertable`assoc2`addconstraint`fk_assoc2_c5_at1`foreignkey(`c5_at1`)references`class5_name`(`c5_at1`)ondeletecascadeonupdatecascadeaddconstraint`fk_assoc2_c2_at1`foreignkey(`c2_at1`)references`class2_name`(`c2_at1`)ondeletecascadeonupdatecascadealtertable`assoc5`addconstraint`fk_assoc5_c3_at1`foreignkey(`c3_at1`)references`class3_name`(`c3_at1`)ondeletecascadeonupdatecascadeaddconstraint`fk_assoc5_c2_at1`foreignkey(`c2_at1`)references`class2_name`(`c2_at1`)ondeletecascadeonupdatecascade;altertable`assoc4`addconstraint`fk_assoc4_c6_at1`foreignkey(`c6_at1`)references`class6_name`(`c6_at1`)ondeletecascadeonupdatecascadeaddconstraint`fk_assoc4_c2_at1`foreignkey(`c2_at1`)references`class2_name`(`c2_at1`)ondeletecascadeonupdatecascade [END]\n"
     ]
    }
   ],
   "source": [
    "print(example_text.numpy().decode())\n",
    "print(tf_lower_and_split_punct(example_text).numpy().decode())"
   ]
  },
  {
   "cell_type": "markdown",
   "metadata": {
    "id": "4q-sKsSI7xRZ"
   },
   "source": [
    "#### Text Vectorization"
   ]
  },
  {
   "cell_type": "markdown",
   "metadata": {
    "id": "6aKn8qd37abi"
   },
   "source": [
    "This standardization function will be wrapped up in a `tf.keras.layers.TextVectorization` layer which will handle the vocabulary extraction and conversion of input text to sequences of tokens."
   ]
  },
  {
   "cell_type": "code",
   "execution_count": null,
   "metadata": {
    "id": "eAY9k49G3jE_"
   },
   "outputs": [],
   "source": [
    "max_vocab_size = 5000\n",
    "\n",
    "context_text_processor = tf.keras.layers.TextVectorization(\n",
    "    standardize=tf_lower_and_split_punct,\n",
    "    max_tokens=max_vocab_size,\n",
    "    ragged=True)"
   ]
  },
  {
   "cell_type": "markdown",
   "metadata": {
    "id": "7kbC6ODP8IK_"
   },
   "source": [
    "The `TextVectorization` layer and many other [Keras preprocessing layers](https://www.tensorflow.org/guide/keras/preprocessing_layers) have an `adapt` method. This method reads one epoch of the training data, and works a lot like `Model.fit`. This `adapt` method initializes the layer based on the data. Here it determines the vocabulary:"
   ]
  },
  {
   "cell_type": "code",
   "execution_count": null,
   "metadata": {
    "colab": {
     "base_uri": "https://localhost:8080/"
    },
    "id": "bmsI1Yql8FYe",
    "outputId": "9a7c8ec9-b8c1-4929-e742-a2a070c6314d"
   },
   "outputs": [
    {
     "data": {
      "text/plain": [
       "['', '[UNK]', '=', 'extends', 'key', 'sig', 'on', 'table', 'cascade', 'not']"
      ]
     },
     "execution_count": 16,
     "metadata": {},
     "output_type": "execute_result"
    }
   ],
   "source": [
    "context_text_processor.adapt(train_raw.map(lambda context, target: context))\n",
    "\n",
    "# Here are the first 10 words from the vocabulary:\n",
    "context_text_processor.get_vocabulary()[:10]"
   ]
  },
  {
   "cell_type": "markdown",
   "metadata": {
    "id": "9kGjIFjX8_Wp"
   },
   "source": [
    "That's the context data  `TextVectorization` layer, now build and `.adapt()` for the Target Data one:"
   ]
  },
  {
   "cell_type": "code",
   "execution_count": null,
   "metadata": {
    "colab": {
     "base_uri": "https://localhost:8080/"
    },
    "id": "jlC4xuZnKLBS",
    "outputId": "e3759a8f-c2e8-4eb9-ce05-0fc36127219b"
   },
   "outputs": [
    {
     "data": {
      "text/plain": [
       "['', '[UNK]', '=', 'extends', 'key', 'sig', 'on', 'table', 'cascade', 'not']"
      ]
     },
     "execution_count": 17,
     "metadata": {},
     "output_type": "execute_result"
    }
   ],
   "source": [
    "target_text_processor = tf.keras.layers.TextVectorization(\n",
    "    standardize=tf_lower_and_split_punct,\n",
    "    max_tokens=max_vocab_size,\n",
    "    ragged=True)\n",
    "\n",
    "target_text_processor.adapt(train_raw.map(lambda context, target: target))\n",
    "target_text_processor.get_vocabulary()[:10]"
   ]
  },
  {
   "cell_type": "markdown",
   "metadata": {
    "id": "BWQqlP_s9eIv"
   },
   "source": [
    "Now these layers can convert a batch of strings into a batch of token IDs:"
   ]
  },
  {
   "cell_type": "code",
   "execution_count": null,
   "metadata": {
    "colab": {
     "base_uri": "https://localhost:8080/"
    },
    "id": "9KZxj8IrNZ9S",
    "outputId": "368df198-b78a-4917-a3e4-cc70e1fbe5f4"
   },
   "outputs": [
    {
     "data": {
      "text/plain": [
       "<tf.RaggedTensor [[120, 122, 197, 233, 202, 5, 67, 3, 33, 2, 232, 42, 2, 32, 5, 141, 3,\n",
       "  231, 5, 143, 3, 230, 5, 74, 3, 33, 2, 229, 42, 2, 32, 5, 85, 3, 228, 5,\n",
       "  85, 3, 227, 5, 81, 3, 33, 2, 226, 42, 2, 32, 5, 140, 3, 225, 5, 153, 3,\n",
       "  224, 5, 152, 3, 223, 5, 151, 3, 222, 5, 150, 3, 221, 5, 180, 3, 220, 5,\n",
       "  99, 3, 33, 2, 219, 42, 2, 32, 5, 142, 3, 218, 5, 149, 3, 217, 5, 179, 3,\n",
       "  216, 5, 178, 3, 215, 5, 84, 3, 33, 2, 213, 75, 70, 76, 2, 77, 2, 32, 5,\n",
       "  129, 3, 214, 5, 79, 3, 33, 2, 212, 42, 2, 32, 5, 177, 3, 211, 5, 145, 3,\n",
       "  210, 5, 148, 3, 209, 5, 176, 3, 208, 5, 86, 3, 33, 2, 206, 75, 70, 76,\n",
       "  2, 77, 2, 32, 5, 128, 3, 207, 5, 78, 3, 33, 2, 281, 42, 2, 32, 5, 137,\n",
       "  3, 205, 5, 280, 3, 279, 5, 105, 3, 27, 2, 90, 204, 2, 30, 2, 39, 5, 115,\n",
       "  3, 27, 2, 110, 61, 2, 199, 2, 39, 5, 91, 3, 27, 2, 90, 72, 2, 30, 2, 39,\n",
       "  5, 87, 3, 27, 2, 90, 61, 2, 30, 2, 39, 5, 66, 3, 27, 2, 90, 203, 2, 30,\n",
       "  2, 108, 5, 88, 3, 27, 2, 109, 505, 2, 30, 2, 108, 5, 106, 3, 27, 2, 109,\n",
       "  61, 2, 30, 2, 39, 5, 378, 3, 27, 2, 111, 72, 2, 30, 2, 39, 5, 89, 3, 27,\n",
       "  2, 111, 61, 2, 30, 2, 39, 5, 107, 3, 27, 2, 110, 72, 2, 30, 2, 201, 200,\n",
       "  196, 182, 18, 17, 67, 19, 52, 18, 17, 81, 19, 52, 18, 17, 86, 19, 52,\n",
       "  18, 17, 84, 19, 269, 18, 17, 105, 19, 95, 18, 17, 115, 19, 40, 18, 17,\n",
       "  91, 19, 40, 18, 17, 87, 19, 40, 18, 17, 66, 19, 40, 18, 17, 88, 19, 40,\n",
       "  18, 17, 106, 19, 40, 18, 17, 378, 19, 40, 18, 17, 89, 19, 40, 18, 17,\n",
       "  107, 19, 181, 175, 144, 7, 138, 283, 35, 9, 10, 16, 295, 21, 20, 4, 21,\n",
       "  23, 7, 54, 172, 158, 131, 130, 165, 159, 83, 47, 9, 10, 20, 4, 173, 7,\n",
       "  50, 260, 253, 125, 53, 9, 10, 20, 4, 305, 7, 44, 247, 73, 41, 35, 9, 10,\n",
       "  20, 4, 21, 23, 7, 245, 62, 51, 9, 10, 48, 58, 9, 10, 16, 319, 37, 16,\n",
       "  320, 24, 20, 4, 62, 92, 7, 185, 69, 47, 9, 10, 103, 51, 9, 10, 20, 4,\n",
       "  69, 273, 7, 64, 271, 132, 168, 133, 169, 134, 170, 135, 171, 136, 123,\n",
       "  60, 9, 10, 48, 235, 16, 299, 24, 20, 4, 154, 7, 276, 56, 53, 9, 10, 123,\n",
       "  60, 9, 10, 16, 424, 26, 16, 388, 34, 20, 4, 56, 425, 7, 187, 100, 157,\n",
       "  104, 73, 41, 35, 9, 10, 20, 4, 21, 23, 7, 49, 146, 163, 48, 58, 9, 10,\n",
       "  20, 4, 147, 7, 198, 69, 47, 9, 10, 48, 58, 9, 10, 16, 237, 28, 16, 255,\n",
       "  24, 20, 4, 69, 92, 7, 195, 56, 53, 9, 10, 41, 35, 9, 10, 16, 304, 26,\n",
       "  16, 241, 21, 20, 4, 56, 82, 7, 238, 56, 53, 9, 10, 103, 51, 9, 10, 16,\n",
       "  438, 26, 16, 439, 37, 20, 4, 56, 448, 18, 17, 66, 19, 254, 53, 9, 10,\n",
       "  83, 47, 9, 10, 16, 256, 26, 16, 164, 28, 20, 4, 56, 243, 7, 183, 62, 51,\n",
       "  9, 10, 41, 35, 9, 10, 16, 257, 37, 16, 258, 21, 20, 4, 62, 82, 7, 191,\n",
       "  63, 60, 9, 10, 41, 35, 9, 10, 16, 259, 34, 16, 193, 21, 20, 4, 63, 82,\n",
       "  7, 59, 174, 160, 166, 161, 167, 162, 103, 51, 9, 10, 20, 4, 506, 7, 296,\n",
       "  15, 294, 11, 4, 21, 13, 44, 21, 6, 14, 8, 6, 12, 8, 43, 7, 246, 15, 316,\n",
       "  11, 4, 37, 13, 59, 37, 6, 14, 8, 6, 12, 8, 57, 15, 317, 11, 4, 24, 13,\n",
       "  49, 24, 6, 14, 8, 6, 12, 55, 7, 552, 7, 275, 15, 297, 11, 4, 24, 13, 49,\n",
       "  24, 6, 14, 8, 6, 12, 8, 43, 7, 387, 15, 423, 11, 4, 26, 13, 50, 26, 6,\n",
       "  14, 8, 6, 12, 8, 57, 15, 373, 11, 4, 34, 13, 64, 34, 6, 14, 8, 6, 12, 8,\n",
       "  43, 7, 442, 15, 441, 11, 4, 28, 13, 54, 28, 6, 14, 8, 6, 12, 186, 15,\n",
       "  248, 11, 4, 24, 13, 49, 24, 6, 14, 8, 6, 12, 8, 43, 7, 240, 15, 302, 11,\n",
       "  4, 26, 13, 50, 26, 6, 14, 8, 6, 12, 8, 43, 7, 264, 15, 436, 11, 4, 26,\n",
       "  13, 50, 26, 6, 14, 8, 6, 12, 8, 57, 15, 437, 11, 4, 37, 13, 59, 37, 6,\n",
       "  14, 8, 6, 12, 55, 7, 156, 15, 249, 11, 4, 26, 13, 50, 26, 6, 14, 8, 6,\n",
       "  12, 8, 57, 15, 155, 11, 4, 28, 13, 54, 28, 6, 14, 8, 6, 12, 55, 7, 252,\n",
       "  15, 250, 11, 4, 37, 13, 59, 37, 6, 14, 8, 6, 12, 186, 15, 242, 11, 4,\n",
       "  21, 13, 44, 21, 6, 14, 8, 6, 12, 8, 43, 7, 194, 15, 251, 11, 4, 34, 13,\n",
       "  64, 34, 6, 14, 8, 6, 12, 8, 57, 15, 190, 11, 4, 21, 13, 44, 21, 6, 14,\n",
       "  8, 6, 12, 8, 22, 121]]>"
      ]
     },
     "execution_count": 18,
     "metadata": {},
     "output_type": "execute_result"
    }
   ],
   "source": [
    "example_tokens = context_text_processor(example_context_strings)\n",
    "example_tokens[:3, :]"
   ]
  },
  {
   "cell_type": "markdown",
   "metadata": {
    "id": "AA9rUn9G9n78"
   },
   "source": [
    "The `get_vocabulary` method can be used to convert token IDs back to text:"
   ]
  },
  {
   "cell_type": "code",
   "execution_count": null,
   "metadata": {
    "colab": {
     "base_uri": "https://localhost:8080/",
     "height": 105
    },
    "id": "98g9rcxGQY0I",
    "outputId": "ac612727-689e-4337-8bef-3ea77852cdc1"
   },
   "outputs": [
    {
     "data": {
      "application/vnd.google.colaboratory.intrinsic+json": {
       "type": "string"
      },
      "text/plain": [
       "'[START] module om_name 0;open declarationone sig class1_name extends classattrset = c1_at1+c1_at2id=c1_at1no parentisabstract = no}one sig c1_at1 extends c1_at1_typeone sig c1_at2 extends c1_at2_typeone sig class2_name extends classattrset = c2_at1+c2_at2id=c2_at1no parentisabstract = no}one sig c2_at1 extends c2_at1_typeone sig c2_at1 extends c2_at2_typeone sig class3_name extends classattrset = c3_at1+c3_at2+c3_at3+c3_at4c3_at5+c3_at6id=c3_at1no parentisabstract = no}one sig c3_at1 extends c3_at1_typeone sig c3_at2 extends c3_at2_typeone sig c3_at3 extends c3_at3_typeone sig c3_at4 extends c3_at4_typeone sig c3_at5 extends c3_at5_typeone sig c3_at6 extends c3_at6_typeone sig class4_name extends classattrset = c4_at1+c4_at2+c4_at3+c4_at4id=c4_at3no parentisabstract = no}one sig c4_at1 extends c4_at1_typeone sig c4_at2 extends c4_at2_typeone sig c4_at3 extends c4_at3_typeone sig c4_at4 extends c4_at4_typeone sig class5_name extends classattrset = c5_at1one parentparent in class2_nameid = c2_at1isabstract = no}one sig c5_at1 extends c5_at1_typeone sig class6_name extends classattrset = c6_at1_0+c6_at2+c6_at3+c6_at4id=c6_at2no parentisabstract = no}one sig c6_at1_0 extends c6_at1_typeone sig c6_at2 extends c6_at2_typeone sig c6_at3 extends c6_at3_typeone sig c6_at4 extends c6_at4_typeone sig class7_name extends classattrset = c7_at1one parentparent in class2_nameid = c2_at1isabstract = no}one sig c7_at1 extends c7_at1_typeone sig class8_name extends classattrset = c8_at1+c8_at2+c2_at2+c6_at3id=c8_at1no parentisabstract = no}one sig c8_at1 extends c8_at1_typeone sig c8_at2 extends c8_at2_typeone sig assoc1 extends associationsrc = class8_namedst= class2_namesrc_multiplicity = src_mlpcdst_multiplicity = dst_mlpc}one sig assoc2 extends associationsrc = class2_namedst= class4_namesrc_multiplicity = src_mlpc2dst_multiplicity = dst_mlpc}one sig assoc3 extends associationsrc = class8_namedst= class3_namesrc_multiplicity = src_mlpcdst_multiplicity = dst_mlpc}one sig assoc4 extends associationsrc = class8_namedst= class4_namesrc_multiplicity = src_mlpcdst_multiplicity = dst_mlpc}one sig assoc5 extends associationsrc = class8_namedst= class6_namesrc_multiplicity = src_mlpcdst_multiplicity = dst_mlpc2}one sig assoc6 extends associationsrc = class6_namedst= paymentsrc_multiplicity = src_mlpcdst_multiplicity = dst_mlpc2}one sig assoc8 extends associationsrc = class6_namedst= class4_namesrc_multiplicity = src_mlpcdst_multiplicity = dst_mlpc}one sig assoc11 extends associationsrc = class1_namedst= class3_namesrc_multiplicity = src_mlpcdst_multiplicity = dst_mlpc}one sig assoc9 extends associationsrc = class1_namedst= class4_namesrc_multiplicity = src_mlpcdst_multiplicity = dst_mlpc}one sig assoc10 extends associationsrc = class2_namedst= class3_namesrc_multiplicity = src_mlpcdst_multiplicity = dst_mlpc2}pred showrun show ,mapping strategy for class1_name : map_str2mapping strategy for class3_name : map_str2mapping strategy for class7_name : map_str2mapping strategy for class5_name : map_str3association strategy for assoc1 : assoc_str1association strategy for assoc2 : assoc_str2association strategy for assoc3 : assoc_str2association strategy for assoc4 : assoc_str2association strategy for assoc5 : assoc_str2association strategy for assoc6 : assoc_str2association strategy for assoc8 : assoc_str2association strategy for assoc11 : assoc_str2association strategy for assoc9 : assoc_str2association strategy for assoc10 : assoc_str2 ,use om_name:0;create table `class5_name` (`c2_at1` c2_at1_type not null ,key `fk_class5_name_c2_at1_idx` (`c2_at1`) ,primary key (`c2_at1`) create table `class6_name` (`c6_at4` c6_at4_type(64) ,`c6_at3` c6_at3_type(64) ,`c6_at1_0` c6_at1_type(64) ,`c6_at2` c6_at2_type not null ,primary key (`c6_at2`)create table `class8_name` (`c8_at2` c8_at2_type(64) ,`c8_at1` c8_at1_type not null ,primary key (`c8_at1`)create table `class2_name` (`c2_at2` c2_at2_type(64) ,`c2_at1` c2_at1_type not null ,primary key (`c2_at1`) create table `assoc9` (`c4_at3` c4_at3_type not null ,`c1_at1` c1_at1_type not null ,key `fk_assoc9_c4_at3_idx` (`c4_at3`) ,key `fk_assoc9_c1_at1_idx` (`c1_at1`) ,primary key (`c4_at3` ,`c1_at1`)create table `assoc8` (`c6_at2` c6_at2_type not null ,`c4_at3` c4_at3_type not null ,primary key (`c6_at2` ,`c4_at3`)create table `class3_name` (`c3_at6` c3_at6_type ,`c3_at5` c3_at5_type ,`c3_at4` c3_at4_type ,`c3_at3` c3_at3_type ,`c3_at2` c3_at2_type ,`c3_at1` c3_at1_type not null ,`c1_at1` int ,key `fk_class3_name_c1_at1_idx` (`c1_at1`) ,primary key (`c3_at1`)create table `assoc3` (`c8_at1` c8_at1_type not null ,`c3_at1` c3_at1_type not null ,key `fk_assoc3_c8_at1_idx` (`c8_at1`) ,key `fk_assoc3_c3_at1_idx` (`c3_at1`) ,primary key (`c8_at1` ,`c3_at1`)create table `class7_name` (`c7_at1` c7_at1_type(64) ,`c2_at2` c2_at2_type(64) ,`c2_at1` c2_at1_type not null ,primary key (`c2_at1`) create table `class1_name` (`c1_at2` c1_at2_type(64) ,`c1_at1` c1_at1_type not null ,primary key (`c1_at1`)create table `assoc6` (`c6_at2` c6_at2_type not null ,`c1_at1` c1_at1_type not null ,key `fk_assoc6_c6_at2_idx` (`c6_at2`) ,key `fk_assoc6_c1_at1_idx` (`c1_at1`) ,primary key (`c6_at2` ,`c1_at1`)create table `assoc1` (`c8_at1` c8_at1_type not null ,`c2_at1` c2_at1_type not null ,key `fk_assoc1_c8_at1_idx` (`c8_at1`) ,key `fk_assoc1_c2_at1_idx` (`c2_at1`) ,primary key (`c8_at1` ,`c2_at1`)create table `assoc4` (`c8_at1` c8_at1_type not null ,`c4_at3` c4_at3_type not null ,key `fk_assoc4_c8_at1_idx` (`c8_at1`) ,key `fk_assoc4_c4_at3_idx` (`c4_at3`) ,primary key (`c8_at1` ,`c4_at3`)association strategy for assoc5 : assoc_str2`c8_at1` c8_at1_type not null ,`c6_at2` c6_at2_type not null ,key `fk_assoc5_c8_at1_idx` (`c8_at1`) ,key `fk_assoc5_c6_at2_idx` (`c6_at2`) ,primary key (`c8_at1` ,`c6_at2`)create table `assoc2` (`c4_at3` c4_at3_type not null ,`c2_at1` c2_at1_type not null ,key `fk_assoc2_c4_at3_idx` (`c4_at3`) ,key `fk_assoc2_c2_at1_idx` (`c2_at1`) ,primary key (`c4_at3` ,`c2_at1`)create table `assoc10` (`c3_at1` c3_at1_type not null ,`c2_at1` c2_at1_type not null ,key `fk_assoc10_c3_at1_idx` (`c3_at1`) ,key `fk_assoc10_c2_at1_idx` (`c2_at1`) ,primary key (`c3_at1` ,`c2_at1`)create table `class4_name` (`c4_at4` c4_at4_type(64) ,`c4_at2` c4_at2_type(64) ,`c4_at1` c4_at1_type(64) ,`c4_at3` c4_at3_type not null ,primary key (`c4_at3`)alter table `class5_name`add constraint `fk_class5_name_c2_at1` foreign key (`c2_at1`) references `class2_name` (`c2_at1`) on delete cascade on update cascade ,alter table `assoc9`add constraint `fk_assoc9_c4_at3` foreign key (`c4_at3`) references `class4_name` (`c4_at3`) on delete cascade on update cascade ,add constraint `fk_assoc9_c1_at1` foreign key (`c1_at1`) references `class1_name` (`c1_at1`) on delete cascade on update cascade;alter table `assoc8`alter table `class3_name`add constraint `fk_class3_name_c1_at1` foreign key (`c1_at1`) references `class1_name` (`c1_at1`) on delete cascade on update cascade ,alter table `assoc3`add constraint `fk_assoc3_c8_at1` foreign key (`c8_at1`) references `class8_name` (`c8_at1`) on delete cascade on update cascade ,add constraint `fk_assoc3_c3_at1` foreign key (`c3_at1`) references `class3_name` (`c3_at1`) on delete cascade on update cascade ,alter table `assoc6`add constraint `fk_assoc6_c6_at2` foreign key (`c6_at2`) references `class6_name` (`c6_at2`) on delete cascade on update cascadeadd constraint `fk_assoc6_c1_at1` foreign key (`c1_at1`) references `class1_name` (`c1_at1`) on delete cascade on update cascade ,alter table `assoc1`add constraint `fk_assoc1_c8_at1` foreign key (`c8_at1`) references `class8_name` (`c8_at1`) on delete cascade on update cascade ,alter table `assoc4`add constraint `fk_assoc4_c8_at1` foreign key (`c8_at1`) references `class8_name` (`c8_at1`) on delete cascade on update cascade ,add constraint `fk_assoc4_c4_at3` foreign key (`c4_at3`) references `class4_name` (`c4_at3`) on delete cascade on update cascade;alter table `assoc5`add constraint `fk_assoc5_c8_at1` foreign key (`c8_at1`) references `class8_name` (`c8_at1`) on delete cascade on update cascade ,add constraint `fk_assoc5_c6_at2` foreign key (`c6_at2`) references `class6_name` (`c6_at2`) on delete cascade on update cascade;alter table `assoc2`add constraint `fk_assoc2_c4_at3` foreign key (`c4_at3`) references `class4_name` (`c4_at3`) on delete cascade on update cascadeadd constraint `fk_assoc2_c2_at1` foreign key (`c2_at1`) references `class2_name` (`c2_at1`) on delete cascade on update cascade ,alter table `assoc10`add constraint `fk_assoc10_c3_at1` foreign key (`c3_at1`) references `class3_name` (`c3_at1`) on delete cascade on update cascade ,add constraint `fk_assoc10_c2_at1` foreign key (`c2_at1`) references `class2_name` (`c2_at1`) on delete cascade on update cascade , [END]'"
      ]
     },
     "execution_count": 19,
     "metadata": {},
     "output_type": "execute_result"
    }
   ],
   "source": [
    "context_vocab = np.array(context_text_processor.get_vocabulary())\n",
    "tokens = context_vocab[example_tokens[0].numpy()]\n",
    "' '.join(tokens)"
   ]
  },
  {
   "cell_type": "markdown",
   "metadata": {
    "id": "Ot0aCL9t-Ghi"
   },
   "source": [
    "The returned token IDs are zero-padded. This can easily be turned into a mask:"
   ]
  },
  {
   "cell_type": "code",
   "execution_count": null,
   "metadata": {
    "colab": {
     "base_uri": "https://localhost:8080/",
     "height": 469
    },
    "id": "_jx4Or_eFRSz",
    "outputId": "e490281d-c14a-4288-9f37-0db023af7baa"
   },
   "outputs": [
    {
     "data": {
      "text/plain": [
       "Text(0.5, 1.0, 'Mask')"
      ]
     },
     "execution_count": 20,
     "metadata": {},
     "output_type": "execute_result"
    },
    {
     "data": {
      "image/png": "[encoded data removed]",
      "text/plain": [
       "<Figure size 640x480 with 2 Axes>"
      ]
     },
     "metadata": {},
     "output_type": "display_data"
    }
   ],
   "source": [
    "plt.subplot(1, 2, 1)\n",
    "plt.pcolormesh(example_tokens.to_tensor())\n",
    "plt.title('Token IDs')\n",
    "\n",
    "plt.subplot(1, 2, 2)\n",
    "plt.pcolormesh(example_tokens.to_tensor() != 0)\n",
    "plt.title('Mask')"
   ]
  },
  {
   "cell_type": "markdown",
   "metadata": {
    "id": "3O0B4XdFlRgc"
   },
   "source": [
    "### Process the dataset\n",
    "\n"
   ]
  },
  {
   "cell_type": "markdown",
   "metadata": {
    "id": "rVCuyuSp_whd"
   },
   "source": [
    "The `process_text` function below converts the `Datasets` of strings, into  0-padded tensors of token IDs. It also converts from a `(context, target)` pair to an `((context, target_in), target_out)` pair for training with `keras.Model.fit`. Keras expects `(inputs, labels)` pairs, the inputs are the `(context, target_in)` and the labels are `target_out`. The difference between `target_in` and `target_out` is that they are shifted by one step relative to eachother, so that at each location the label is the next token."
   ]
  },
  {
   "cell_type": "code",
   "execution_count": null,
   "metadata": {
    "id": "wk5tbZWQl5u1"
   },
   "outputs": [],
   "source": [
    "def process_text(context, target):\n",
    "  context = context_text_processor(context).to_tensor()\n",
    "  target = target_text_processor(target)\n",
    "  targ_in = target[:,:-1].to_tensor()\n",
    "  targ_out = target[:,1:].to_tensor()\n",
    "  return (context, targ_in), targ_out\n",
    "\n",
    "\n",
    "train_ds = train_raw.map(process_text, tf.data.AUTOTUNE)\n",
    "val_ds = val_raw.map(process_text, tf.data.AUTOTUNE)"
   ]
  },
  {
   "cell_type": "markdown",
   "metadata": {
    "id": "4iGi7X2m_tbM"
   },
   "source": [
    "Here is the first sequence of each, from the first batch:"
   ]
  },
  {
   "cell_type": "code",
   "execution_count": null,
   "metadata": {
    "colab": {
     "base_uri": "https://localhost:8080/"
    },
    "id": "woQBWAjLsJkr",
    "outputId": "8ccf38d9-1bc3-4394-f0af-edf169ac445c"
   },
   "outputs": [
    {
     "name": "stdout",
     "output_type": "stream",
     "text": [
      "[120 122 309  22 267 268  25   5  67   3]\n",
      "\n",
      "[120 305 122 311  22 268 269  25   5  67]\n",
      "[305 122 311  22 268 269  25   5  67   3]\n"
     ]
    }
   ],
   "source": [
    "for (ex_context_tok, ex_tar_in), ex_tar_out in train_ds.take(1):\n",
    "  print(ex_context_tok[0, :10].numpy())\n",
    "  print()\n",
    "  print(ex_tar_in[0, :10].numpy())\n",
    "  print(ex_tar_out[0, :10].numpy())"
   ]
  },
  {
   "cell_type": "markdown",
   "metadata": {
    "id": "TNfHIF71ulLu"
   },
   "source": [
    "## The encoder/decoder\n",
    "\n",
    "  <th colspan=1>This tutorial's model</th>\n",
    "<tr>\n",
    "</table>\n"
   ]
  },
  {
   "cell_type": "markdown",
   "metadata": {
    "id": "gzQWx2saImMV"
   },
   "source": [
    "Before getting into it define constants for the model:"
   ]
  },
  {
   "cell_type": "code",
   "execution_count": null,
   "metadata": {
    "id": "_a9uNz3-IrF-"
   },
   "outputs": [],
   "source": [
    "UNITS = 256"
   ]
  },
  {
   "cell_type": "markdown",
   "metadata": {
    "id": "blNgVbLSzpsr"
   },
   "source": [
    "### The encoder\n",
    "\n",
    "\n",
    "The encoder:\n",
    "\n",
    "1. Takes a list of token IDs (from `context_text_processor`).\n",
    "3. Looks up an embedding vector for each token (Using a `layers.Embedding`).\n",
    "4. Processes the embeddings into a new sequence (Using a bidirectional `layers.GRU`).\n",
    "5. Returns the processed sequence. This will be passed to the attention head."
   ]
  },
  {
   "cell_type": "code",
   "execution_count": null,
   "metadata": {
    "id": "nZ2rI24i3jFg"
   },
   "outputs": [],
   "source": [
    "class Encoder(tf.keras.layers.Layer):\n",
    "  def __init__(self, text_processor, units):\n",
    "    super(Encoder, self).__init__()\n",
    "    self.text_processor = text_processor\n",
    "    self.vocab_size = text_processor.vocabulary_size()\n",
    "    self.units = units\n",
    "\n",
    "    # The embedding layer converts tokens to vectors\n",
    "    self.embedding = tf.keras.layers.Embedding(self.vocab_size, units,\n",
    "                                               mask_zero=True)\n",
    "\n",
    "    # The RNN layer processes those vectors sequentially.\n",
    "    self.rnn = tf.keras.layers.Bidirectional(\n",
    "        merge_mode='sum',\n",
    "        layer=tf.keras.layers.GRU(units,\n",
    "                            # Return the sequence and state\n",
    "                            return_sequences=True,\n",
    "                            recurrent_initializer='glorot_uniform'))\n",
    "\n",
    "  def call(self, x):\n",
    "    shape_checker = ShapeChecker()\n",
    "    shape_checker(x, 'batch s')\n",
    "\n",
    "    # 2. The embedding layer looks up the embedding vector for each token.\n",
    "    x = self.embedding(x)\n",
    "    shape_checker(x, 'batch s units')\n",
    "\n",
    "    # 3. The GRU processes the sequence of embeddings.\n",
    "    x = self.rnn(x)\n",
    "    shape_checker(x, 'batch s units')\n",
    "\n",
    "    # 4. Returns the new sequence of embeddings.\n",
    "    return x\n",
    "\n",
    "  def convert_input(self, texts):\n",
    "    texts = tf.convert_to_tensor(texts)\n",
    "    if len(texts.shape) == 0:\n",
    "      texts = tf.convert_to_tensor(texts)[tf.newaxis]\n",
    "    context = self.text_processor(texts).to_tensor()\n",
    "    context = self(context)\n",
    "    return context"
   ]
  },
  {
   "cell_type": "code",
   "execution_count": null,
   "metadata": {
    "colab": {
     "base_uri": "https://localhost:8080/"
    },
    "id": "60gSVh05Jl6l",
    "outputId": "06578a37-e00a-4239-92d9-f57e79562269"
   },
   "outputs": [
    {
     "name": "stdout",
     "output_type": "stream",
     "text": [
      "Context tokens, shape (batch, s): (1, 562)\n",
      "Encoder output, shape (batch, s, units): (1, 562, 256)\n"
     ]
    }
   ],
   "source": [
    "# Encode the input sequence.\n",
    "encoder = Encoder(context_text_processor, UNITS)\n",
    "ex_context = encoder(ex_context_tok)\n",
    "\n",
    "print(f'Context tokens, shape (batch, s): {ex_context_tok.shape}')\n",
    "print(f'Encoder output, shape (batch, s, units): {ex_context.shape}')"
   ]
  },
  {
   "cell_type": "markdown",
   "metadata": {
    "id": "45xM_Gl1MgXY"
   },
   "source": [
    "### The attention layer\n",
    "\n",
    "The attention layer lets the decoder access the information extracted by the encoder. It computes a vector from the entire context sequence, and adds that to the decoder's output.\n"
   ]
  },
  {
   "cell_type": "code",
   "execution_count": null,
   "metadata": {
    "id": "-Ql3ymqwD8LS"
   },
   "outputs": [],
   "source": [
    "class CrossAttention(tf.keras.layers.Layer):\n",
    "  def __init__(self, units, **kwargs):\n",
    "    super().__init__()\n",
    "    self.mha = tf.keras.layers.MultiHeadAttention(key_dim=units, num_heads=1, **kwargs)\n",
    "    self.layernorm = tf.keras.layers.LayerNormalization()\n",
    "    self.add = tf.keras.layers.Add()\n",
    "\n",
    "  def call(self, x, context):\n",
    "    shape_checker = ShapeChecker()\n",
    "\n",
    "    shape_checker(x, 'batch t units')\n",
    "    shape_checker(context, 'batch s units')\n",
    "\n",
    "    attn_output, attn_scores = self.mha(\n",
    "       query=x,\n",
    "       value=context,\n",
    "      return_attention_scores=True)\n",
    "\n",
    "    shape_checker(x, 'batch t units')\n",
    "    shape_checker(attn_scores, 'batch heads t s')\n",
    "\n",
    "  #Cache the attention scores for plotting later.\n",
    "    attn_scores = tf.reduce_mean(attn_scores, axis=1)\n",
    "    shape_checker(attn_scores, 'batch t s')\n",
    "    self.last_attention_weights = attn_scores\n",
    "\n",
    "    x = self.add([x, attn_output])\n",
    "    x = self.layernorm(x)\n",
    "\n",
    "    return x"
   ]
  },
  {
   "cell_type": "markdown",
   "metadata": {
    "id": "bRzduCU4tGN6"
   },
   "source": []
  },
  {
   "cell_type": "code",
   "execution_count": null,
   "metadata": {
    "colab": {
     "base_uri": "https://localhost:8080/"
    },
    "id": "VVLdvss3zN4v",
    "outputId": "eb534808-b5a4-47c8-abcb-a6e228905e9c"
   },
   "outputs": [
    {
     "name": "stdout",
     "output_type": "stream",
     "text": [
      "Context sequence, shape (batch, s, units): (1, 562, 256)\n",
      "Target sequence, shape (batch, t, units): (1, 562, 256)\n",
      "Attention result, shape (batch, t, units): (1, 562, 256)\n",
      "Attention weights, shape (batch, t, s):    (1, 562, 562)\n"
     ]
    }
   ],
   "source": [
    "attention_layer = CrossAttention(UNITS)\n",
    "\n",
    "# Attend to the encoded tokens\n",
    "embed = tf.keras.layers.Embedding(target_text_processor.vocabulary_size(),\n",
    "                                 output_dim=UNITS, mask_zero=True)\n",
    "ex_tar_embed = embed(ex_tar_in)\n",
    "\n",
    "result = attention_layer(ex_tar_embed, ex_context)\n",
    "\n",
    "print(f'Context sequence, shape (batch, s, units): {ex_context.shape}')\n",
    "print(f'Target sequence, shape (batch, t, units): {ex_tar_embed.shape}')\n",
    "print(f'Attention result, shape (batch, t, units): {result.shape}')\n",
    "print(f'Attention weights, shape (batch, t, s):    {attention_layer.last_attention_weights.shape}')"
   ]
  },
  {
   "cell_type": "markdown",
   "metadata": {
    "id": "d14A2DcPtQhS"
   },
   "source": []
  },
  {
   "cell_type": "markdown",
   "metadata": {
    "id": "vx9fUhi3Pmwp"
   },
   "source": [
    "The attention weights will sum to `1` over the context sequence, at each location in the target sequence."
   ]
  },
  {
   "cell_type": "code",
   "execution_count": null,
   "metadata": {
    "colab": {
     "base_uri": "https://localhost:8080/"
    },
    "id": "zxyR7cmQPn9P",
    "outputId": "106c4dbf-742f-4392-96cc-7456572b1625"
   },
   "outputs": [
    {
     "data": {
      "text/plain": [
       "array([1.        , 0.99999994, 1.        , 1.        , 1.        ,\n",
       "       1.        , 1.        , 1.        , 1.        , 1.        ,\n",
       "       1.        , 0.9999999 , 1.        , 1.        , 1.0000001 ,\n",
       "       1.        , 0.9999999 , 1.        , 1.        , 1.        ,\n",
       "       1.        , 1.        , 0.9999999 , 1.        , 1.        ,\n",
       "       1.        , 0.99999994, 1.        , 0.9999999 , 1.        ,\n",
       "       0.9999999 , 1.        , 1.        , 0.9999999 , 1.        ,\n",
       "       1.        , 1.        , 1.        , 1.        , 0.9999999 ,\n",
       "       1.        , 1.        , 1.        , 1.        , 0.9999999 ,\n",
       "       1.        , 1.        , 1.        , 0.9999999 , 1.        ,\n",
       "       0.99999994, 1.        , 1.        , 0.9999999 , 1.        ,\n",
       "       1.        , 1.        , 1.0000001 , 1.        , 1.        ,\n",
       "       1.        , 1.        , 1.        , 1.        , 1.        ,\n",
       "       0.9999999 , 1.        , 1.0000001 , 1.        , 0.9999999 ,\n",
       "       1.        , 1.        , 1.        , 0.9999999 , 1.        ,\n",
       "       0.9999999 , 1.        , 0.9999999 , 1.        , 1.        ,\n",
       "       1.        , 1.        , 0.9999999 , 1.        , 0.99999994,\n",
       "       1.        , 0.9999999 , 1.        , 0.9999999 , 1.        ,\n",
       "       1.        , 1.        , 1.        , 0.9999999 , 1.        ,\n",
       "       1.        , 1.        , 1.        , 1.        , 1.        ,\n",
       "       1.        , 1.        , 1.        , 1.        , 1.        ,\n",
       "       1.        , 1.        , 1.        , 1.        , 1.        ,\n",
       "       1.        , 1.        , 1.0000001 , 1.        , 1.        ,\n",
       "       1.        , 1.        , 1.        , 0.99999994, 1.        ,\n",
       "       1.        , 1.        , 1.        , 1.        , 1.        ,\n",
       "       1.        , 1.        , 0.99999994, 1.        , 1.        ,\n",
       "       1.        , 1.        , 1.        , 1.        , 1.        ,\n",
       "       1.        , 1.        , 0.99999994, 1.        , 1.        ,\n",
       "       1.        , 1.        , 1.        , 1.        , 1.        ,\n",
       "       1.        , 1.        , 0.99999994, 1.        , 1.        ,\n",
       "       1.        , 1.        , 1.        , 1.        , 1.        ,\n",
       "       1.        , 1.        , 1.        , 1.        , 1.        ,\n",
       "       1.        , 1.        , 1.        , 0.99999994, 1.        ,\n",
       "       1.        , 1.        , 1.        , 1.        , 1.        ,\n",
       "       1.        , 1.        , 1.        , 1.        , 1.        ,\n",
       "       1.        , 1.        , 1.        , 1.        , 1.        ,\n",
       "       1.        , 1.        , 1.        , 1.        , 1.        ,\n",
       "       0.99999994, 1.        , 1.        , 1.0000001 , 1.        ,\n",
       "       1.        , 1.        , 1.        , 1.        , 1.        ,\n",
       "       1.        , 1.        , 1.        , 0.99999994, 1.        ,\n",
       "       1.        , 1.        , 1.0000001 , 1.        , 1.        ,\n",
       "       0.9999999 , 1.        , 1.        , 1.        , 1.        ,\n",
       "       1.        , 1.        , 1.        , 1.        , 1.        ,\n",
       "       1.        , 1.        , 1.        , 1.        , 1.        ,\n",
       "       1.        , 1.        , 1.        , 1.        , 0.99999994,\n",
       "       1.        , 1.        , 1.        , 1.        , 1.        ,\n",
       "       1.        , 1.        , 1.        , 1.0000001 , 1.        ,\n",
       "       1.        , 1.        , 0.99999994, 1.        , 1.        ,\n",
       "       1.        , 1.        , 1.        , 1.        , 1.        ,\n",
       "       1.        , 0.99999994, 1.        , 1.        , 1.0000001 ,\n",
       "       1.        , 1.        , 1.        , 1.        , 1.        ,\n",
       "       1.        , 0.99999994, 1.0000001 , 1.        , 1.        ,\n",
       "       0.9999999 , 1.        , 1.        , 0.99999994, 1.        ,\n",
       "       1.        , 1.        , 1.        , 1.        , 1.        ,\n",
       "       1.        , 1.        , 1.        , 1.        , 1.        ,\n",
       "       0.99999994, 0.99999994, 0.99999994, 1.        , 1.        ,\n",
       "       1.        , 1.        , 1.        , 1.        , 1.        ,\n",
       "       1.        , 1.        , 1.        , 1.        , 1.        ,\n",
       "       1.        , 1.        , 1.        , 1.        , 1.        ,\n",
       "       1.        , 1.        , 1.        , 1.        , 1.        ,\n",
       "       1.        , 0.9999999 , 1.        , 1.        , 0.99999994,\n",
       "       1.        , 1.        , 1.        , 1.        , 1.        ,\n",
       "       0.99999994, 1.        , 1.        , 1.        , 1.        ,\n",
       "       1.        , 1.        , 1.        , 1.        , 1.        ,\n",
       "       1.        , 1.0000001 , 1.        , 1.        , 0.9999999 ,\n",
       "       1.        , 1.        , 1.0000001 , 1.        , 1.        ,\n",
       "       1.        , 1.        , 1.        , 0.9999999 , 1.        ,\n",
       "       1.        , 1.0000001 , 1.0000001 , 1.        , 0.99999994,\n",
       "       1.        , 1.        , 0.99999994, 1.        , 1.0000001 ,\n",
       "       1.        , 1.        , 1.        , 1.        , 1.        ,\n",
       "       0.9999999 , 1.        , 1.        , 1.0000001 , 1.        ,\n",
       "       1.        , 0.99999994, 1.        , 1.        , 0.99999994,\n",
       "       1.        , 1.        , 1.0000001 , 0.9999999 , 1.        ,\n",
       "       1.        , 1.0000001 , 1.        , 1.        , 0.99999994,\n",
       "       1.        , 1.        , 0.99999994, 1.        , 1.0000001 ,\n",
       "       1.        , 1.        , 1.        , 1.        , 0.99999994,\n",
       "       0.9999999 , 1.        , 1.        , 1.0000001 , 1.        ,\n",
       "       1.        , 1.        , 0.99999994, 1.        , 1.        ,\n",
       "       0.99999994, 1.        , 1.0000001 , 1.        , 0.99999994,\n",
       "       1.        , 1.        , 1.        , 0.9999999 , 1.        ,\n",
       "       1.        , 1.0000001 , 1.        , 1.        , 1.        ,\n",
       "       0.99999994, 1.        , 1.        , 0.99999994, 1.        ,\n",
       "       1.        , 1.        , 0.9999999 , 1.        , 1.        ,\n",
       "       1.0000001 , 1.0000001 , 1.        , 0.99999994, 1.        ,\n",
       "       1.        , 0.99999994, 1.        , 1.0000001 , 1.        ,\n",
       "       1.        , 1.        , 1.        , 1.        , 0.9999999 ,\n",
       "       1.        , 1.        , 1.0000001 , 1.        , 1.        ,\n",
       "       0.99999994, 1.        , 1.        , 0.99999994, 1.        ,\n",
       "       1.        , 1.        , 0.9999999 , 1.        , 1.        ,\n",
       "       1.0000001 , 1.        , 1.        , 0.99999994, 1.        ,\n",
       "       1.        , 0.99999994, 1.        , 1.0000001 , 1.        ,\n",
       "       1.        , 1.        , 1.        , 1.        , 0.9999999 ,\n",
       "       1.        , 1.        , 1.0000001 , 1.0000001 , 1.        ,\n",
       "       0.99999994, 1.        , 1.        , 0.99999994, 1.        ,\n",
       "       1.        , 1.        , 1.        , 0.9999999 , 1.        ,\n",
       "       1.        , 1.0000001 , 1.        , 1.        , 1.        ,\n",
       "       0.99999994, 1.        , 1.        , 0.99999994, 1.        ,\n",
       "       1.0000001 , 1.        , 1.        , 1.        , 1.        ,\n",
       "       1.        , 0.9999999 , 1.        , 1.        , 1.0000001 ,\n",
       "       1.0000001 , 1.        , 0.99999994, 1.        , 1.        ,\n",
       "       0.99999994, 1.        , 1.0000001 , 1.        , 1.        ,\n",
       "       1.        , 1.        , 1.        , 0.9999999 , 1.        ,\n",
       "       1.        , 1.0000001 , 1.0000001 , 1.        , 0.99999994,\n",
       "       1.        , 1.        , 0.99999994, 1.        , 1.        ,\n",
       "       1.        , 0.9999999 , 1.        , 1.        , 1.0000001 ,\n",
       "       1.        , 1.        , 0.99999994, 1.        , 1.        ,\n",
       "       0.99999994, 1.        , 1.0000001 , 1.        , 1.        ,\n",
       "       1.        , 1.        , 1.        , 0.9999999 , 1.        ,\n",
       "       1.        , 1.0000001 , 1.        , 1.        , 1.        ,\n",
       "       0.99999994, 1.        , 1.        , 0.99999994, 1.        ,\n",
       "       1.        , 1.        , 0.9999999 , 1.        , 1.        ,\n",
       "       1.0000001 , 1.0000001 , 1.        , 0.99999994, 1.        ,\n",
       "       1.        , 0.99999994], dtype=float32)"
      ]
     },
     "execution_count": 28,
     "metadata": {},
     "output_type": "execute_result"
    }
   ],
   "source": [
    "attention_layer.last_attention_weights[0].numpy().sum(axis=-1)"
   ]
  },
  {
   "cell_type": "markdown",
   "metadata": {
    "id": "AagyXMH-Jhqt"
   },
   "source": [
    "\n",
    "\n",
    "Here are the attention weights across the context sequences at `t=0`:"
   ]
  },
  {
   "cell_type": "code",
   "execution_count": null,
   "metadata": {
    "colab": {
     "base_uri": "https://localhost:8080/",
     "height": 452
    },
    "id": "LDc9M_CUtYWD",
    "outputId": "f7d15524-369b-4b33-f47f-3a62a764d31f"
   },
   "outputs": [
    {
     "data": {
      "image/png": "[encoded data removed]",
      "text/plain": [
       "<Figure size 640x480 with 2 Axes>"
      ]
     },
     "metadata": {},
     "output_type": "display_data"
    }
   ],
   "source": [
    "attention_weights = attention_layer.last_attention_weights\n",
    "mask=(ex_context_tok != 0).numpy()\n",
    "\n",
    "plt.subplot(1, 2, 1)\n",
    "plt.pcolormesh(mask*attention_weights[:, 0, :])\n",
    "plt.title('Attention weights')\n",
    "\n",
    "plt.subplot(1, 2, 2)\n",
    "plt.pcolormesh(mask)\n",
    "plt.title('Mask');"
   ]
  },
  {
   "cell_type": "markdown",
   "metadata": {
    "id": "Cpq_sCKHtZzS"
   },
   "source": []
  },
  {
   "cell_type": "markdown",
   "metadata": {
    "id": "6Eil-C_NN1rp"
   },
   "source": [
    "Because of the small-random initialization the attention weights are initially all close to `1/(sequence_length)`. The model will learn to make these less uniform as training progresses."
   ]
  },
  {
   "cell_type": "markdown",
   "metadata": {
    "id": "aQ638eHN4iCK"
   },
   "source": [
    "### The decoder\n",
    "\n",
    "The decoder's job is to generate predictions for the next token at each location in the target sequence.\n",
    "\n",
    "1. It looks up embeddings for each token in the target sequence.\n",
    "2. It uses an RNN to process the target sequence, and keep track of what it has generated so far.\n",
    "3. It uses RNN output as the \"query\" to the attention layer, when attending to the encoder's output.\n",
    "4. At each location in the output it predicts the next token.\n"
   ]
  },
  {
   "cell_type": "markdown",
   "metadata": {
    "id": "pZsQJMqNmg_L"
   },
   "source": [
    "Here is the `Decoder` class' initializer. The initializer creates all the necessary layers."
   ]
  },
  {
   "cell_type": "code",
   "execution_count": null,
   "metadata": {
    "id": "erYvHIgAl8kh"
   },
   "outputs": [],
   "source": [
    "class Decoder(tf.keras.layers.Layer):\n",
    "  @classmethod\n",
    "  def add_method(cls, fun):\n",
    "    setattr(cls, fun.__name__, fun)\n",
    "    return fun\n",
    "\n",
    "  def __init__(self, text_processor, units):\n",
    "    super(Decoder, self).__init__()\n",
    "    self.text_processor = text_processor\n",
    "    self.vocab_size = text_processor.vocabulary_size()\n",
    "    self.word_to_id = tf.keras.layers.StringLookup(\n",
    "        vocabulary=text_processor.get_vocabulary(),\n",
    "        mask_token='', oov_token='[UNK]')\n",
    "    self.id_to_word = tf.keras.layers.StringLookup(\n",
    "        vocabulary=text_processor.get_vocabulary(),\n",
    "        mask_token='', oov_token='[UNK]',\n",
    "        invert=True)\n",
    "    self.start_token = self.word_to_id('[START]')\n",
    "    self.end_token = self.word_to_id('[END]')\n",
    "\n",
    "    self.units = units\n",
    "\n",
    "\n",
    "    # 1. The embedding layer converts token IDs to vectors\n",
    "    self.embedding = tf.keras.layers.Embedding(self.vocab_size,\n",
    "                                               units, mask_zero=True)\n",
    "\n",
    "    # 2. The RNN keeps track of what's been generated so far.\n",
    "    self.rnn = tf.keras.layers.GRU(units,\n",
    "                                   return_sequences=True,\n",
    "                                   return_state=True,\n",
    "                                   recurrent_initializer='glorot_uniform')\n",
    "\n",
    "    # 3. The RNN output will be the query for the attention layer.\n",
    "    self.attention = CrossAttention(units)\n",
    "\n",
    "    # 4. This fully connected layer produces the logits for each\n",
    "    # output token.\n",
    "    self.output_layer = tf.keras.layers.Dense(self.vocab_size)"
   ]
  },
  {
   "cell_type": "markdown",
   "metadata": {
    "id": "Sd8-nRNzFR8x"
   },
   "source": [
    "#### Training"
   ]
  },
  {
   "cell_type": "markdown",
   "metadata": {
    "id": "UPnaw583CpnY"
   },
   "source": [
    "Next, the `call` method, takes 3 arguments:\n",
    "\n",
    "* `inputs` -  a `context, x` pair where:\n",
    "  * `context` - is the context from the encoder's output.\n",
    "  * `x` - is the target sequence input.\n",
    "* `state` - Optional, the previous `state` output from the decoder (the internal state of the decoder's RNN). Pass the state from a previous run to continue generating text where you left off.\n",
    "* `return_state` - [Default: False] - Set this to `True` to return the RNN state."
   ]
  },
  {
   "cell_type": "code",
   "execution_count": null,
   "metadata": {
    "id": "PJOi5btHAPNK"
   },
   "outputs": [],
   "source": [
    "@Decoder.add_method\n",
    "def call(self,\n",
    "         context, x,\n",
    "         state=None,\n",
    "         return_state=False):\n",
    "  shape_checker = ShapeChecker()\n",
    "  shape_checker(x, 'batch t')\n",
    "  shape_checker(context, 'batch s units')\n",
    "\n",
    "  # 1. Lookup the embeddings\n",
    "  x = self.embedding(x)\n",
    "  shape_checker(x, 'batch t units')\n",
    "\n",
    "  # 2. Process the target sequence.\n",
    "  x, state = self.rnn(x, initial_state=state)\n",
    "  shape_checker(x, 'batch t units')\n",
    "\n",
    "  # 3. Use the RNN output as the query for the attention over the context.\n",
    "  x = self.attention(x, context)\n",
    "  self.last_attention_weights = self.attention.last_attention_weights\n",
    "  shape_checker(x, 'batch t units')\n",
    "  shape_checker(self.last_attention_weights, 'batch t s')\n",
    "\n",
    "  # Step 4. Generate logit predictions for the next token.\n",
    "  logits = self.output_layer(x)\n",
    "  shape_checker(logits, 'batch t target_vocab_size')\n",
    "\n",
    "  if return_state:\n",
    "    return logits, state\n",
    "  else:\n",
    "    return logits"
   ]
  },
  {
   "cell_type": "markdown",
   "metadata": {
    "id": "E1-mLAcUEXpK"
   },
   "source": [
    "That will be sufficient for training. Create an instance of the decoder to test out:"
   ]
  },
  {
   "cell_type": "code",
   "execution_count": null,
   "metadata": {
    "id": "4ZUMbYXIEVeA"
   },
   "outputs": [],
   "source": [
    "decoder = Decoder(target_text_processor, UNITS)"
   ]
  },
  {
   "cell_type": "markdown",
   "metadata": {
    "id": "SFWaI4wqzt4t"
   },
   "source": [
    "Decoder usage"
   ]
  },
  {
   "cell_type": "code",
   "execution_count": null,
   "metadata": {
    "colab": {
     "base_uri": "https://localhost:8080/"
    },
    "id": "5YM-lD7bzx18",
    "outputId": "0f3a1926-8b41-4438-c4cd-3230c6988629"
   },
   "outputs": [
    {
     "name": "stdout",
     "output_type": "stream",
     "text": [
      "encoder output shape: (batch, s, units) (1, 562, 256)\n",
      "input target tokens shape: (batch, t) (1, 562)\n",
      "logits shape shape: (batch, target_vocabulary_size) (1, 562, 3150)\n"
     ]
    }
   ],
   "source": [
    "logits = decoder(ex_context, ex_tar_in)\n",
    "\n",
    "print(f'encoder output shape: (batch, s, units) {ex_context.shape}')\n",
    "print(f'input target tokens shape: (batch, t) {ex_tar_in.shape}')\n",
    "print(f'logits shape shape: (batch, target_vocabulary_size) {logits.shape}')"
   ]
  },
  {
   "cell_type": "markdown",
   "metadata": {
    "id": "zhS_tbk7VQkX"
   },
   "source": [
    "#### Inference\n",
    "\n",
    "For inference usage couple more methods."
   ]
  },
  {
   "cell_type": "code",
   "execution_count": null,
   "metadata": {
    "id": "SPm12cnIVRQr"
   },
   "outputs": [],
   "source": [
    "@Decoder.add_method\n",
    "def get_initial_state(self, context):\n",
    "  batch_size = tf.shape(context)[0]\n",
    "  start_tokens = tf.fill([batch_size, 1], self.start_token)\n",
    "  done = tf.zeros([batch_size, 1], dtype=tf.bool)\n",
    "  embedded = self.embedding(start_tokens)\n",
    "  return start_tokens, done, self.rnn.get_initial_state(embedded)[0]"
   ]
  },
  {
   "cell_type": "code",
   "execution_count": null,
   "metadata": {
    "id": "TzeOhpBvVS5L"
   },
   "outputs": [],
   "source": [
    "@Decoder.add_method\n",
    "def tokens_to_text(self, tokens):\n",
    "  words = self.id_to_word(tokens)\n",
    "  result = tf.strings.reduce_join(words, axis=-1, separator=' ')\n",
    "  result = tf.strings.regex_replace(result, '^ *\\[START\\] *', '')\n",
    "  result = tf.strings.regex_replace(result, ' *\\[END\\] *$', '')\n",
    "  return result"
   ]
  },
  {
   "cell_type": "code",
   "execution_count": null,
   "metadata": {
    "id": "v6ildnz_V1MA"
   },
   "outputs": [],
   "source": [
    "@Decoder.add_method\n",
    "def get_next_token(self, context, next_token, done, state, temperature = 0.0):\n",
    "  logits, state = self(\n",
    "    context, next_token,\n",
    "    state = state,\n",
    "    return_state=True)\n",
    "\n",
    "  if temperature == 0.0:\n",
    "    next_token = tf.argmax(logits, axis=-1)\n",
    "  else:\n",
    "    logits = logits[:, -1, :]/temperature\n",
    "    next_token = tf.random.categorical(logits, num_samples=1)\n",
    "\n",
    "  # If a sequence produces an `end_token`, set it `done`\n",
    "  done = done | (next_token == self.end_token)\n",
    "  # Once a sequence is done it only produces 0-padding.\n",
    "  next_token = tf.where(done, tf.constant(0, dtype=tf.int64), next_token)\n",
    "\n",
    "  return next_token, done, state"
   ]
  },
  {
   "cell_type": "markdown",
   "metadata": {
    "id": "9WiXLrVs-FTE"
   },
   "source": [
    "With those extra functions, you can write a generation loop:"
   ]
  },
  {
   "cell_type": "code",
   "execution_count": null,
   "metadata": {
    "id": "SuehagxL-JBZ"
   },
   "outputs": [],
   "source": [
    "# Setup the loop variables.\n",
    "next_token, done, state = decoder.get_initial_state(ex_context)\n",
    "tokens = []\n",
    "\n",
    "for n in range(10):\n",
    "  # Run one step.\n",
    "  next_token, done, state = decoder.get_next_token(\n",
    "      ex_context, next_token, done, state, temperature=1.0)\n",
    "  # Add the token to the output.\n",
    "  tokens.append(next_token)\n",
    "\n",
    "# Stack all the tokens together.\n",
    "tokens = tf.concat(tokens, axis=-1) # (batch, t)\n",
    "\n",
    "# Convert the tokens back to a a string\n",
    "result = decoder.tokens_to_text(tokens)\n",
    "#result[:3].numpy()"
   ]
  },
  {
   "cell_type": "markdown",
   "metadata": {
    "id": "B6xyru86m914"
   },
   "source": [
    "## The model\n"
   ]
  },
  {
   "cell_type": "code",
   "execution_count": null,
   "metadata": {
    "id": "WWIyuy71TkJT"
   },
   "outputs": [],
   "source": [
    "class Translator(tf.keras.Model):\n",
    "  @classmethod\n",
    "  def add_method(cls, fun):\n",
    "    setattr(cls, fun.__name__, fun)\n",
    "    return fun\n",
    "\n",
    "  def __init__(self, units,\n",
    "               context_text_processor,\n",
    "               target_text_processor):\n",
    "    super().__init__()\n",
    "    # Build the encoder and decoder\n",
    "    encoder = Encoder(context_text_processor, units)\n",
    "    decoder = Decoder(target_text_processor, units)\n",
    "\n",
    "    self.encoder = encoder\n",
    "    self.decoder = decoder\n",
    "\n",
    "  def call(self, inputs):\n",
    "    context, x = inputs\n",
    "    context = self.encoder(context)\n",
    "    logits = self.decoder(context, x)\n",
    "\n",
    "    #TODO(b/250038731): remove this\n",
    "    try:\n",
    "      # Delete the keras mask, so keras doesn't scale the loss+accuracy.\n",
    "      del logits._keras_mask\n",
    "    except AttributeError:\n",
    "      pass\n",
    "\n",
    "    return logits"
   ]
  },
  {
   "cell_type": "markdown",
   "metadata": {
    "id": "5rPi0FkS2iA5"
   },
   "source": [
    "During training the model will be used like this:"
   ]
  },
  {
   "cell_type": "code",
   "execution_count": null,
   "metadata": {
    "colab": {
     "base_uri": "https://localhost:8080/"
    },
    "id": "8vhjTh84K6Mg",
    "outputId": "fc6396ac-9bf6-4335-a3a2-6bbd489c08de"
   },
   "outputs": [
    {
     "name": "stdout",
     "output_type": "stream",
     "text": [
      "Context tokens, shape: (batch, s, units) (1, 562)\n",
      "Target tokens, shape: (batch, t) (1, 562)\n",
      "logits, shape: (batch, t, target_vocabulary_size) (1, 562, 3150)\n"
     ]
    }
   ],
   "source": [
    "model = Translator(UNITS, context_text_processor, target_text_processor)\n",
    "\n",
    "logits = model((ex_context_tok, ex_tar_in))\n",
    "\n",
    "print(f'Context tokens, shape: (batch, s, units) {ex_context_tok.shape}')\n",
    "print(f'Target tokens, shape: (batch, t) {ex_tar_in.shape}')\n",
    "print(f'logits, shape: (batch, t, target_vocabulary_size) {logits.shape}')"
   ]
  },
  {
   "cell_type": "markdown",
   "metadata": {
    "id": "_ch_71VbIRfK"
   },
   "source": [
    "### Train"
   ]
  },
  {
   "cell_type": "code",
   "execution_count": null,
   "metadata": {
    "id": "WmTHr5iV3jFr"
   },
   "outputs": [],
   "source": [
    "def masked_loss(y_true, y_pred):\n",
    "    # Calculate the loss for each item in the batch.\n",
    "    loss_fn = tf.keras.losses.SparseCategoricalCrossentropy(\n",
    "        from_logits=True, reduction='none')\n",
    "    loss = loss_fn(y_true, y_pred)\n",
    "\n",
    "    # Mask off the losses on padding.\n",
    "    mask = tf.cast(y_true != 0, loss.dtype)\n",
    "    loss *= mask\n",
    "\n",
    "    # Return the total.\n",
    "    return tf.reduce_sum(loss)/tf.reduce_sum(mask)"
   ]
  },
  {
   "cell_type": "code",
   "execution_count": null,
   "metadata": {
    "id": "nRB1CTmQWOIL"
   },
   "outputs": [],
   "source": [
    "def masked_acc(y_true, y_pred):\n",
    "    # Calculate the loss for each item in the batch.\n",
    "    y_pred = tf.argmax(y_pred, axis=-1)\n",
    "    y_pred = tf.cast(y_pred, y_true.dtype)\n",
    "\n",
    "    match = tf.cast(y_true == y_pred, tf.float32)\n",
    "    mask = tf.cast(y_true != 0, tf.float32)\n",
    "\n",
    "    return tf.reduce_sum(match)/tf.reduce_sum(mask)"
   ]
  },
  {
   "cell_type": "markdown",
   "metadata": {
    "id": "f32GuAhw2nXm"
   },
   "source": [
    "Configure the model for training:"
   ]
  },
  {
   "cell_type": "code",
   "execution_count": null,
   "metadata": {
    "id": "9g0DRRvm3l9X"
   },
   "outputs": [],
   "source": [
    "model.compile(optimizer='Adam',\n",
    "              loss=masked_loss,\n",
    "              metrics=[masked_acc, masked_loss])"
   ]
  },
  {
   "cell_type": "markdown",
   "metadata": {
    "id": "5DWLI3pssjnx"
   },
   "source": [
    "The model is randomly initialized, and should give roughly uniform output probabilities. So it's easy to predict what the initial values of the metrics should be:"
   ]
  },
  {
   "cell_type": "code",
   "execution_count": null,
   "metadata": {
    "colab": {
     "base_uri": "https://localhost:8080/"
    },
    "id": "BuP3_LFENMJG",
    "outputId": "c501a30b-9193-464a-d371-9bd6822037c6"
   },
   "outputs": [
    {
     "data": {
      "text/plain": [
       "{'expected_loss': 8.055158, 'expected_acc': 0.00031746031746031746}"
      ]
     },
     "execution_count": 43,
     "metadata": {},
     "output_type": "execute_result"
    }
   ],
   "source": [
    "vocab_size = 1.0 * target_text_processor.vocabulary_size()\n",
    "\n",
    "{\"expected_loss\": tf.math.log(vocab_size).numpy(),\n",
    " \"expected_acc\": 1/vocab_size}"
   ]
  },
  {
   "cell_type": "markdown",
   "metadata": {
    "id": "frVba49Usd0Z"
   },
   "source": [
    "That should roughly match the values returned by running a few steps of evaluation:"
   ]
  },
  {
   "cell_type": "code",
   "execution_count": null,
   "metadata": {
    "colab": {
     "base_uri": "https://localhost:8080/"
    },
    "id": "8rJITfxEsHKR",
    "outputId": "e43b4d7a-d8a4-4094-df3e-5fb974ad5600"
   },
   "outputs": [
    {
     "name": "stdout",
     "output_type": "stream",
     "text": [
      "70/70 [==============================] - 11s 49ms/step - loss: 8.0617 - masked_acc: 2.1015e-04 - masked_loss: 8.0617\n"
     ]
    },
    {
     "data": {
      "text/plain": [
       "{'loss': 8.061665534973145,\n",
       " 'masked_acc': 0.00021015368110965937,\n",
       " 'masked_loss': 8.061665534973145}"
      ]
     },
     "execution_count": 44,
     "metadata": {},
     "output_type": "execute_result"
    }
   ],
   "source": [
    "model.evaluate(val_ds, steps=70, return_dict=True)"
   ]
  },
  {
   "cell_type": "code",
   "execution_count": null,
   "metadata": {
    "colab": {
     "base_uri": "https://localhost:8080/"
    },
    "id": "BQd_esVVoSf3",
    "outputId": "0b75ebb9-f425-4aad-9b6c-430e7fc73317"
   },
   "outputs": [
    {
     "name": "stdout",
     "output_type": "stream",
     "text": [
      "Epoch 1/100\n",
      "100/100 [==============================] - 47s 300ms/step - loss: 2.8698 - masked_acc: 0.5224 - masked_loss: 2.8698 - val_loss: 0.9530 - val_masked_acc: 0.7838 - val_masked_loss: 0.9530\n",
      "Epoch 2/100\n",
      "100/100 [==============================] - 21s 211ms/step - loss: 0.6697 - masked_acc: 0.8559 - masked_loss: 0.6697 - val_loss: 0.4191 - val_masked_acc: 0.9050 - val_masked_loss: 0.4191\n",
      "Epoch 3/100\n",
      "100/100 [==============================] - 19s 196ms/step - loss: 0.3987 - masked_acc: 0.9155 - masked_loss: 0.3987 - val_loss: 0.4043 - val_masked_acc: 0.9163 - val_masked_loss: 0.4043\n",
      "Epoch 4/100\n",
      "100/100 [==============================] - 17s 165ms/step - loss: 0.2569 - masked_acc: 0.9386 - masked_loss: 0.2569 - val_loss: 0.1778 - val_masked_acc: 0.9541 - val_masked_loss: 0.1778\n",
      "Epoch 5/100\n",
      "100/100 [==============================] - 16s 164ms/step - loss: 0.2566 - masked_acc: 0.9417 - masked_loss: 0.2566 - val_loss: 0.1367 - val_masked_acc: 0.9597 - val_masked_loss: 0.1367\n",
      "Epoch 6/100\n",
      "100/100 [==============================] - 16s 165ms/step - loss: 0.1540 - masked_acc: 0.9584 - masked_loss: 0.1540 - val_loss: 0.1279 - val_masked_acc: 0.9633 - val_masked_loss: 0.1279\n",
      "Epoch 7/100\n",
      "100/100 [==============================] - 14s 137ms/step - loss: 0.1196 - masked_acc: 0.9656 - masked_loss: 0.1196 - val_loss: 0.1235 - val_masked_acc: 0.9631 - val_masked_loss: 0.1235\n",
      "Epoch 8/100\n",
      "100/100 [==============================] - 16s 159ms/step - loss: 0.1508 - masked_acc: 0.9597 - masked_loss: 0.1508 - val_loss: 0.0876 - val_masked_acc: 0.9731 - val_masked_loss: 0.0876\n",
      "Epoch 9/100\n",
      "100/100 [==============================] - 14s 141ms/step - loss: 0.2797 - masked_acc: 0.9445 - masked_loss: 0.2797 - val_loss: 0.2591 - val_masked_acc: 0.9351 - val_masked_loss: 0.2591\n",
      "Epoch 10/100\n",
      "100/100 [==============================] - 15s 155ms/step - loss: 0.1472 - masked_acc: 0.9609 - masked_loss: 0.1472 - val_loss: 0.0959 - val_masked_acc: 0.9709 - val_masked_loss: 0.0959\n",
      "Epoch 11/100\n",
      "100/100 [==============================] - 16s 159ms/step - loss: 0.0915 - masked_acc: 0.9713 - masked_loss: 0.0915 - val_loss: 0.0904 - val_masked_acc: 0.9702 - val_masked_loss: 0.0904\n",
      "Epoch 12/100\n",
      "100/100 [==============================] - 16s 165ms/step - loss: 0.1075 - masked_acc: 0.9677 - masked_loss: 0.1075 - val_loss: 0.0828 - val_masked_acc: 0.9719 - val_masked_loss: 0.0828\n",
      "Epoch 13/100\n",
      "100/100 [==============================] - 13s 134ms/step - loss: 0.0856 - masked_acc: 0.9729 - masked_loss: 0.0856 - val_loss: 0.0803 - val_masked_acc: 0.9741 - val_masked_loss: 0.0803\n",
      "Epoch 14/100\n",
      "100/100 [==============================] - 14s 144ms/step - loss: 0.0921 - masked_acc: 0.9710 - masked_loss: 0.0921 - val_loss: 0.0765 - val_masked_acc: 0.9738 - val_masked_loss: 0.0765\n",
      "Epoch 15/100\n",
      "100/100 [==============================] - 13s 126ms/step - loss: 0.0690 - masked_acc: 0.9760 - masked_loss: 0.0690 - val_loss: 0.1093 - val_masked_acc: 0.9711 - val_masked_loss: 0.1093\n",
      "Epoch 16/100\n",
      "100/100 [==============================] - 18s 186ms/step - loss: 0.1357 - masked_acc: 0.9685 - masked_loss: 0.1357 - val_loss: 0.0958 - val_masked_acc: 0.9693 - val_masked_loss: 0.0958\n",
      "Epoch 17/100\n",
      "100/100 [==============================] - 15s 153ms/step - loss: 0.0961 - masked_acc: 0.9710 - masked_loss: 0.0961 - val_loss: 0.0779 - val_masked_acc: 0.9734 - val_masked_loss: 0.0779\n",
      "Epoch 18/100\n",
      "100/100 [==============================] - 15s 153ms/step - loss: 0.1160 - masked_acc: 0.9684 - masked_loss: 0.1160 - val_loss: 0.0911 - val_masked_acc: 0.9750 - val_masked_loss: 0.0911\n",
      "Epoch 19/100\n",
      "100/100 [==============================] - 15s 155ms/step - loss: 0.1063 - masked_acc: 0.9687 - masked_loss: 0.1063 - val_loss: 0.0710 - val_masked_acc: 0.9757 - val_masked_loss: 0.0710\n",
      "Epoch 20/100\n",
      "100/100 [==============================] - 13s 129ms/step - loss: 0.1079 - masked_acc: 0.9714 - masked_loss: 0.1079 - val_loss: 0.1236 - val_masked_acc: 0.9685 - val_masked_loss: 0.1236\n",
      "Epoch 21/100\n",
      "100/100 [==============================] - 16s 162ms/step - loss: 0.0744 - masked_acc: 0.9757 - masked_loss: 0.0744 - val_loss: 0.0659 - val_masked_acc: 0.9776 - val_masked_loss: 0.0659\n",
      "Epoch 22/100\n",
      "100/100 [==============================] - 13s 133ms/step - loss: 0.0919 - masked_acc: 0.9714 - masked_loss: 0.0919 - val_loss: 0.0683 - val_masked_acc: 0.9776 - val_masked_loss: 0.0683\n",
      "Epoch 23/100\n",
      "100/100 [==============================] - 13s 130ms/step - loss: 0.0738 - masked_acc: 0.9754 - masked_loss: 0.0738 - val_loss: 0.1644 - val_masked_acc: 0.9685 - val_masked_loss: 0.1644\n",
      "Epoch 24/100\n",
      "100/100 [==============================] - 16s 157ms/step - loss: 0.0844 - masked_acc: 0.9733 - masked_loss: 0.0844 - val_loss: 0.0688 - val_masked_acc: 0.9766 - val_masked_loss: 0.0688\n",
      "Epoch 25/100\n",
      "100/100 [==============================] - 16s 158ms/step - loss: 0.0939 - masked_acc: 0.9742 - masked_loss: 0.0939 - val_loss: 0.0535 - val_masked_acc: 0.9812 - val_masked_loss: 0.0535\n",
      "Epoch 26/100\n",
      "100/100 [==============================] - 13s 129ms/step - loss: 0.0626 - masked_acc: 0.9786 - masked_loss: 0.0626 - val_loss: 0.0636 - val_masked_acc: 0.9780 - val_masked_loss: 0.0636\n",
      "Epoch 27/100\n",
      "100/100 [==============================] - 13s 128ms/step - loss: 0.0685 - masked_acc: 0.9773 - masked_loss: 0.0685 - val_loss: 0.0552 - val_masked_acc: 0.9810 - val_masked_loss: 0.0552\n",
      "Epoch 28/100\n",
      "100/100 [==============================] - 15s 146ms/step - loss: 0.1043 - masked_acc: 0.9733 - masked_loss: 0.1043 - val_loss: 0.0739 - val_masked_acc: 0.9766 - val_masked_loss: 0.0739\n",
      "Epoch 29/100\n",
      "100/100 [==============================] - 13s 128ms/step - loss: 0.0516 - masked_acc: 0.9815 - masked_loss: 0.0516 - val_loss: 0.0651 - val_masked_acc: 0.9792 - val_masked_loss: 0.0651\n",
      "Epoch 30/100\n",
      "100/100 [==============================] - 14s 142ms/step - loss: 0.0527 - masked_acc: 0.9821 - masked_loss: 0.0527 - val_loss: 0.0661 - val_masked_acc: 0.9805 - val_masked_loss: 0.0661\n",
      "Epoch 31/100\n",
      "100/100 [==============================] - 16s 160ms/step - loss: 0.0617 - masked_acc: 0.9801 - masked_loss: 0.0617 - val_loss: 0.0503 - val_masked_acc: 0.9826 - val_masked_loss: 0.0503\n",
      "Epoch 32/100\n",
      "100/100 [==============================] - 15s 153ms/step - loss: 0.0859 - masked_acc: 0.9796 - masked_loss: 0.0859 - val_loss: 0.0533 - val_masked_acc: 0.9821 - val_masked_loss: 0.0533\n",
      "Epoch 33/100\n",
      "100/100 [==============================] - 13s 134ms/step - loss: 0.0944 - masked_acc: 0.9768 - masked_loss: 0.0944 - val_loss: 0.0589 - val_masked_acc: 0.9803 - val_masked_loss: 0.0589\n",
      "Epoch 34/100\n",
      "100/100 [==============================] - 14s 143ms/step - loss: 0.0547 - masked_acc: 0.9815 - masked_loss: 0.0547 - val_loss: 0.0658 - val_masked_acc: 0.9795 - val_masked_loss: 0.0658\n",
      "Epoch 35/100\n",
      "100/100 [==============================] - 13s 128ms/step - loss: 0.0488 - masked_acc: 0.9836 - masked_loss: 0.0488 - val_loss: 0.0485 - val_masked_acc: 0.9837 - val_masked_loss: 0.0485\n",
      "Epoch 36/100\n",
      "100/100 [==============================] - 13s 130ms/step - loss: 0.0516 - masked_acc: 0.9839 - masked_loss: 0.0516 - val_loss: 0.0485 - val_masked_acc: 0.9837 - val_masked_loss: 0.0485\n",
      "Epoch 37/100\n",
      "100/100 [==============================] - 15s 150ms/step - loss: 0.0896 - masked_acc: 0.9758 - masked_loss: 0.0896 - val_loss: 0.0534 - val_masked_acc: 0.9820 - val_masked_loss: 0.0534\n",
      "Epoch 38/100\n",
      "100/100 [==============================] - 15s 154ms/step - loss: 0.0500 - masked_acc: 0.9831 - masked_loss: 0.0500 - val_loss: 0.0510 - val_masked_acc: 0.9835 - val_masked_loss: 0.0510\n",
      "Epoch 39/100\n",
      "100/100 [==============================] - 13s 133ms/step - loss: 0.0538 - masked_acc: 0.9827 - masked_loss: 0.0538 - val_loss: 0.0639 - val_masked_acc: 0.9804 - val_masked_loss: 0.0639\n",
      "Epoch 40/100\n",
      "100/100 [==============================] - 13s 135ms/step - loss: 0.0706 - masked_acc: 0.9791 - masked_loss: 0.0706 - val_loss: 0.0525 - val_masked_acc: 0.9823 - val_masked_loss: 0.0525\n",
      "Epoch 41/100\n",
      "100/100 [==============================] - 15s 152ms/step - loss: 0.0467 - masked_acc: 0.9844 - masked_loss: 0.0467 - val_loss: 0.1514 - val_masked_acc: 0.9757 - val_masked_loss: 0.1514\n",
      "Epoch 42/100\n",
      "100/100 [==============================] - 15s 147ms/step - loss: 0.0461 - masked_acc: 0.9845 - masked_loss: 0.0461 - val_loss: 0.0455 - val_masked_acc: 0.9844 - val_masked_loss: 0.0455\n",
      "Epoch 43/100\n",
      "100/100 [==============================] - 15s 148ms/step - loss: 0.1415 - masked_acc: 0.9734 - masked_loss: 0.1415 - val_loss: 0.0605 - val_masked_acc: 0.9793 - val_masked_loss: 0.0605\n",
      "Epoch 44/100\n",
      "100/100 [==============================] - 13s 128ms/step - loss: 0.0826 - masked_acc: 0.9750 - masked_loss: 0.0826 - val_loss: 0.0524 - val_masked_acc: 0.9827 - val_masked_loss: 0.0524\n",
      "Epoch 45/100\n",
      "100/100 [==============================] - 16s 156ms/step - loss: 0.0515 - masked_acc: 0.9835 - masked_loss: 0.0515 - val_loss: 0.0938 - val_masked_acc: 0.9762 - val_masked_loss: 0.0938\n",
      "Epoch 46/100\n",
      "100/100 [==============================] - 15s 153ms/step - loss: 0.0516 - masked_acc: 0.9840 - masked_loss: 0.0516 - val_loss: 0.0396 - val_masked_acc: 0.9866 - val_masked_loss: 0.0396\n",
      "Epoch 47/100\n",
      "100/100 [==============================] - 14s 140ms/step - loss: 0.0413 - masked_acc: 0.9860 - masked_loss: 0.0413 - val_loss: 0.0339 - val_masked_acc: 0.9883 - val_masked_loss: 0.0339\n",
      "Epoch 48/100\n",
      "100/100 [==============================] - 13s 129ms/step - loss: 0.0487 - masked_acc: 0.9846 - masked_loss: 0.0487 - val_loss: 0.0425 - val_masked_acc: 0.9858 - val_masked_loss: 0.0425\n",
      "Epoch 49/100\n",
      "100/100 [==============================] - 13s 126ms/step - loss: 0.0379 - masked_acc: 0.9873 - masked_loss: 0.0379 - val_loss: 0.0377 - val_masked_acc: 0.9876 - val_masked_loss: 0.0377\n",
      "Epoch 50/100\n",
      "100/100 [==============================] - 16s 156ms/step - loss: 0.0420 - masked_acc: 0.9862 - masked_loss: 0.0420 - val_loss: 0.0361 - val_masked_acc: 0.9883 - val_masked_loss: 0.0361\n",
      "Epoch 51/100\n",
      "100/100 [==============================] - 13s 129ms/step - loss: 0.0325 - masked_acc: 0.9887 - masked_loss: 0.0325 - val_loss: 0.0391 - val_masked_acc: 0.9871 - val_masked_loss: 0.0391\n",
      "Epoch 52/100\n",
      "100/100 [==============================] - 13s 128ms/step - loss: 0.0373 - masked_acc: 0.9880 - masked_loss: 0.0373 - val_loss: 0.0313 - val_masked_acc: 0.9885 - val_masked_loss: 0.0313\n",
      "Epoch 53/100\n",
      "100/100 [==============================] - 12s 124ms/step - loss: 0.0431 - masked_acc: 0.9861 - masked_loss: 0.0431 - val_loss: 0.0376 - val_masked_acc: 0.9874 - val_masked_loss: 0.0376\n",
      "Epoch 54/100\n",
      "100/100 [==============================] - 15s 147ms/step - loss: 0.0772 - masked_acc: 0.9800 - masked_loss: 0.0772 - val_loss: 0.0340 - val_masked_acc: 0.9887 - val_masked_loss: 0.0340\n",
      "Epoch 55/100\n",
      "100/100 [==============================] - 15s 152ms/step - loss: 0.0483 - masked_acc: 0.9850 - masked_loss: 0.0483 - val_loss: 0.0338 - val_masked_acc: 0.9876 - val_masked_loss: 0.0338\n",
      "Epoch 56/100\n",
      "100/100 [==============================] - 16s 157ms/step - loss: 0.0393 - masked_acc: 0.9870 - masked_loss: 0.0393 - val_loss: 0.0319 - val_masked_acc: 0.9890 - val_masked_loss: 0.0319\n",
      "Epoch 57/100\n",
      "100/100 [==============================] - 15s 154ms/step - loss: 0.0343 - masked_acc: 0.9885 - masked_loss: 0.0343 - val_loss: 0.0347 - val_masked_acc: 0.9887 - val_masked_loss: 0.0347\n",
      "Epoch 58/100\n",
      "100/100 [==============================] - 12s 124ms/step - loss: 0.0886 - masked_acc: 0.9815 - masked_loss: 0.0886 - val_loss: 0.1909 - val_masked_acc: 0.9563 - val_masked_loss: 0.1909\n",
      "Epoch 59/100\n",
      "100/100 [==============================] - 15s 146ms/step - loss: 0.0865 - masked_acc: 0.9759 - masked_loss: 0.0865 - val_loss: 0.0553 - val_masked_acc: 0.9834 - val_masked_loss: 0.0553\n",
      "Epoch 60/100\n",
      "100/100 [==============================] - 13s 133ms/step - loss: 0.0476 - masked_acc: 0.9850 - masked_loss: 0.0476 - val_loss: 0.0529 - val_masked_acc: 0.9834 - val_masked_loss: 0.0529\n",
      "Epoch 61/100\n",
      "100/100 [==============================] - 13s 129ms/step - loss: 0.0431 - masked_acc: 0.9862 - masked_loss: 0.0431 - val_loss: 0.0386 - val_masked_acc: 0.9875 - val_masked_loss: 0.0386\n"
     ]
    }
   ],
   "source": [
    "history = model.fit(\n",
    "    train_ds.repeat(),\n",
    "    epochs=100,\n",
    "    steps_per_epoch = 100,\n",
    "    validation_data=val_ds,\n",
    "    validation_steps = 70,\n",
    "    callbacks=[\n",
    "        tf.keras.callbacks.EarlyStopping(patience=9)])"
   ]
  },
  {
   "cell_type": "markdown",
   "metadata": {
    "id": "Uq9lHbPgenz9"
   },
   "source": [
    "## Plotting the Loss from Training"
   ]
  },
  {
   "cell_type": "code",
   "execution_count": null,
   "metadata": {
    "colab": {
     "base_uri": "https://localhost:8080/",
     "height": 470
    },
    "id": "38rLdlmtQHCm",
    "outputId": "69de95b2-0b51-48e7-a01c-a039ac6df74b"
   },
   "outputs": [
    {
     "data": {
      "text/plain": [
       "<matplotlib.legend.Legend at 0x7fe401a9ddb0>"
      ]
     },
     "execution_count": 46,
     "metadata": {},
     "output_type": "execute_result"
    },
    {
     "data": {
      "image/png": "[encoded data removed]",
      "text/plain": [
       "<Figure size 640x480 with 1 Axes>"
      ]
     },
     "metadata": {},
     "output_type": "display_data"
    }
   ],
   "source": [
    "plt.plot(history.history['loss'], label='loss')\n",
    "plt.plot(history.history['masked_loss'], label='masked_loss')\n",
    "plt.plot(history.history['val_masked_loss'], label='val_masked_loss')\n",
    "plt.ylim([0, max(plt.ylim())])\n",
    "plt.xlabel('Epoch #')\n",
    "plt.ylabel('CE/token')\n",
    "plt.legend()"
   ]
  },
  {
   "cell_type": "markdown",
   "metadata": {
    "id": "lUssYQFZet7E"
   },
   "source": [
    "## Plotting the aacuracy from the training"
   ]
  },
  {
   "cell_type": "code",
   "execution_count": null,
   "metadata": {
    "colab": {
     "base_uri": "https://localhost:8080/",
     "height": 467
    },
    "id": "KkhXRASNG80_",
    "outputId": "3d47e57f-04a2-452a-a05d-6ab5a4b294da"
   },
   "outputs": [
    {
     "data": {
      "text/plain": [
       "<matplotlib.legend.Legend at 0x7fe401a79660>"
      ]
     },
     "execution_count": 47,
     "metadata": {},
     "output_type": "execute_result"
    },
    {
     "data": {
      "image/png": "[encoded data removed]",
      "text/plain": [
       "<Figure size 640x480 with 1 Axes>"
      ]
     },
     "metadata": {},
     "output_type": "display_data"
    }
   ],
   "source": [
    "plt.plot(history.history['masked_acc'], label='accuracy')\n",
    "plt.plot(history.history['val_masked_acc'], label='val_accuracy')\n",
    "plt.ylim([0, max(plt.ylim())])\n",
    "plt.xlabel('Epoch #')\n",
    "plt.ylabel('CE/token')\n",
    "plt.legend()"
   ]
  },
  {
   "cell_type": "markdown",
   "metadata": {
    "id": "mU3Ce8M6I3rz"
   },
   "source": [
    "### Translate Module Development\n",
    "\n",
    "Now that the model is trained, implement a function to execute the full `text => text` translation. This code is basically identical to the [inference example](#inference) in the [decoder section](#the_decoder), but this also captures the attention weights."
   ]
  },
  {
   "cell_type": "code",
   "execution_count": null,
   "metadata": {
    "id": "mmgYPCVgEwp_"
   },
   "outputs": [],
   "source": [
    "#@title\n",
    "@Translator.add_method\n",
    "def translate(self,\n",
    "              texts, *,\n",
    "              max_length=50,\n",
    "              temperature=0.0):\n",
    "  # Process the input texts\n",
    "  context = self.encoder.convert_input(texts)\n",
    "  batch_size = tf.shape(texts)[0]\n",
    "\n",
    "  # Setup the loop inputs\n",
    "  tokens = []\n",
    "  attention_weights = []\n",
    "  next_token, done, state = self.decoder.get_initial_state(context)\n",
    "\n",
    "  for _ in range(max_length):\n",
    "    # Generate the next token\n",
    "    next_token, done, state = self.decoder.get_next_token(\n",
    "        context, next_token, done,  state, temperature)\n",
    "\n",
    "    # Collect the generated tokens\n",
    "    tokens.append(next_token)\n",
    "    attention_weights.append(self.decoder.last_attention_weights)\n",
    "\n",
    "    if tf.executing_eagerly() and tf.reduce_all(done):\n",
    "      break\n",
    "\n",
    "  # Stack the lists of tokens and attention weights.\n",
    "  tokens = tf.concat(tokens, axis=-1)   # t*[(batch 1)] -> (batch, t)\n",
    "  self.last_attention_weights = tf.concat(attention_weights, axis=1)  # t*[(batch 1 s)] -> (batch, t s)\n",
    "\n",
    "  result = self.decoder.tokens_to_text(tokens)\n",
    "  return result"
   ]
  },
  {
   "cell_type": "markdown",
   "metadata": {
    "id": "U4XufRntbbva"
   },
   "source": [
    "Here are the two helper methods, used above, to convert tokens to text, and to get the next token:"
   ]
  },
  {
   "cell_type": "code",
   "execution_count": null,
   "metadata": {
    "id": "E5hqvbR5FUCD",
    "scrolled": false
   },
   "outputs": [],
   "source": [
    "#Individual translator mechanism, can be used to translate each data separately\n",
    "\n",
    "\n",
    "result1 = model.translate([''])\n",
    "\n",
    "result2 = model.translate([''])\n",
    "\n",
    "result23 = model.translate([''])\n",
    "\n",
    "result222 = model.translate([''])\n",
    "#result1[0].numpy().decode()\n",
    "#result2[0].numpy().decode()\n",
    "\n"
   ]
  },
  {
   "cell_type": "markdown",
   "metadata": {
    "id": "wQ1iU63cVgfs"
   },
   "source": [
    "### Attention plot generation after model training has been completed"
   ]
  },
  {
   "cell_type": "code",
   "execution_count": null,
   "metadata": {
    "id": "s5hQWlbN3jGF"
   },
   "outputs": [],
   "source": [
    "#@title\n",
    "@Translator.add_method\n",
    "def plot_attention(self, text, **kwargs):\n",
    "  assert isinstance(text, str)\n",
    "  output = self.translate([text], **kwargs)\n",
    "  output = output[0].numpy().decode()\n",
    "\n",
    "  attention = self.last_attention_weights[0]\n",
    "\n",
    "  context = tf_lower_and_split_punct(text)\n",
    "  context = context.numpy().decode().split()\n",
    "\n",
    "  output = tf_lower_and_split_punct(output)\n",
    "  output = output.numpy().decode().split()[1:]\n",
    "\n",
    "  fig = plt.figure(figsize=(10, 10))\n",
    "  ax = fig.add_subplot(1, 1, 1)\n",
    "\n",
    "  ax.matshow(attention, cmap='viridis', vmin=0.0)\n",
    "\n",
    "  fontdict = {'fontsize': 14}\n",
    "\n",
    "  ax.set_xticklabels([''] + context, fontdict=fontdict, rotation=90)\n",
    "  ax.set_yticklabels([''] + output, fontdict=fontdict)\n",
    "\n",
    "  ax.xaxis.set_major_locator(ticker.MultipleLocator(1))\n",
    "  ax.yaxis.set_major_locator(ticker.MultipleLocator(1))\n",
    "\n",
    "  ax.set_xlabel('Input text')\n",
    "  ax.set_ylabel('Output text')"
   ]
  },
  {
   "cell_type": "code",
   "execution_count": null,
   "metadata": {
    "id": "rrGawQv2eiA4"
   },
   "outputs": [],
   "source": [
    "#model.plot_attention('')"
   ]
  },
  {
   "cell_type": "markdown",
   "metadata": {
    "id": "JHBdOf9duumm"
   },
   "source": [
    "Translate a few more sentences and plot them:"
   ]
  },
  {
   "cell_type": "markdown",
   "metadata": {
    "id": "rA3xI3NzrRJt"
   },
   "source": [
    "The short sentences often work well, but if the input is too long the model literally loses focus and stops providing reasonable predictions. There are two main reasons for this:\n",
    "\n",
    "1. The model was trained with teacher-forcing feeding the correct token at each step, regardless of the model's predictions. The model could be made more robust if it were sometimes fed its own predictions.\n",
    "2. The model only has access to its previous output through the RNN state. If the RNN state looses track of where it was in the context sequence there's no way for the model to recover. [Transformers](transformer.ipynb) improve on this by letting the decoder look at what it has output so far."
   ]
  },
  {
   "cell_type": "markdown",
   "metadata": {
    "id": "Vtz6QBoGWqT2"
   },
   "source": [
    "The raw data is sorted by length, so try translating the longest sequence:"
   ]
  },
  {
   "cell_type": "code",
   "execution_count": null,
   "metadata": {
    "id": "-FUHFLEvSMbG"
   },
   "outputs": [],
   "source": [
    "long_text = context_raw[-1]\n",
    "\n",
    "import textwrap\n",
    "#print('Expected output:\\n', '\\n'.join(textwrap.wrap(target_raw[-1])))"
   ]
  },
  {
   "cell_type": "markdown",
   "metadata": {
    "id": "Rc1aekzi9dLZ"
   },
   "source": [
    "# Testing unseen samples"
   ]
  },
  {
   "cell_type": "code",
   "execution_count": 2,
   "metadata": {
    "id": "6OIFQKZI9bc5"
   },
   "outputs": [],
   "source": [
    "import pandas as pd\n",
    "\n",
    "\n",
    "dc = pd.read_excel('random_set_4.0.xlsx')"
   ]
  },
  {
   "cell_type": "code",
   "execution_count": 3,
   "metadata": {
    "colab": {
     "base_uri": "https://localhost:8080/",
     "height": 206
    },
    "id": "Nsx0IyYZ9k3v",
    "outputId": "bb453937-907b-40f5-b817-84c3651120dd"
   },
   "outputs": [
    {
     "data": {
      "text/html": [
       "\n",
       "  <div id=\"df-0bd793d7-4839-4d3d-8cae-c6eefdaf1099\">\n",
       "    <div class=\"colab-df-container\">\n",
       "      <div>\n",
       "<style scoped>\n",
       "    .dataframe tbody tr th:only-of-type {\n",
       "        vertical-align: middle;\n",
       "    }\n",
       "\n",
       "    .dataframe tbody tr th {\n",
       "        vertical-align: top;\n",
       "    }\n",
       "\n",
       "    .dataframe thead th {\n",
       "        text-align: right;\n",
       "    }\n",
       "</style>\n",
       "<table border=\"1\" class=\"dataframe\">\n",
       "  <thead>\n",
       "    <tr style=\"text-align: right;\">\n",
       "      <th></th>\n",
       "      <th>OM_Regular</th>\n",
       "      <th>OM_Prediction</th>\n",
       "    </tr>\n",
       "  </thead>\n",
       "  <tbody>\n",
       "    <tr>\n",
       "      <th>0</th>\n",
       "      <td>module OM_name:0 , open Declaration one sig cl...</td>\n",
       "      <td>1</td>\n",
       "    </tr>\n",
       "    <tr>\n",
       "      <th>1</th>\n",
       "      <td>module OM_name:0 , open Declaration one sig cl...</td>\n",
       "      <td>1</td>\n",
       "    </tr>\n",
       "    <tr>\n",
       "      <th>2</th>\n",
       "      <td>module OM_name:0 , open Declaration one sig cl...</td>\n",
       "      <td>1</td>\n",
       "    </tr>\n",
       "    <tr>\n",
       "      <th>3</th>\n",
       "      <td>module OM_name:0 , open Declaration one sig cl...</td>\n",
       "      <td>1</td>\n",
       "    </tr>\n",
       "    <tr>\n",
       "      <th>4</th>\n",
       "      <td>module OM_name:0 , open Declaration one sig cl...</td>\n",
       "      <td>1</td>\n",
       "    </tr>\n",
       "  </tbody>\n",
       "</table>\n",
       "</div>\n",
       "      <button class=\"colab-df-convert\" onclick=\"convertToInteractive('df-0bd793d7-4839-4d3d-8cae-c6eefdaf1099')\"\n",
       "              title=\"Convert this dataframe to an interactive table.\"\n",
       "              style=\"display:none;\">\n",
       "        \n",
       "  <svg xmlns=\"http://www.w3.org/2000/svg\" height=\"24px\"viewBox=\"0 0 24 24\"\n",
       "       width=\"24px\">\n",
       "    <path d=\"M0 0h24v24H0V0z\" fill=\"none\"/>\n",
       "    <path d=\"M18.56 5.44l.94 2.06.94-2.06 2.06-.94-2.06-.94-.94-2.06-.94 2.06-2.06.94zm-11 1L8.5 8.5l.94-2.06 2.06-.94-2.06-.94L8.5 2.5l-.94 2.06-2.06.94zm10 10l.94 2.06.94-2.06 2.06-.94-2.06-.94-.94-2.06-.94 2.06-2.06.94z\"/><path d=\"M17.41 7.96l-1.37-1.37c-.4-.4-.92-.59-1.43-.59-.52 0-1.04.2-1.43.59L10.3 9.45l-7.72 7.72c-.78.78-.78 2.05 0 2.83L4 21.41c.39.39.9.59 1.41.59.51 0 1.02-.2 1.41-.59l7.78-7.78 2.81-2.81c.8-.78.8-2.07 0-2.86zM5.41 20L4 18.59l7.72-7.72 1.47 1.35L5.41 20z\"/>\n",
       "  </svg>\n",
       "      </button>\n",
       "      \n",
       "  <style>\n",
       "    .colab-df-container {\n",
       "      display:flex;\n",
       "      flex-wrap:wrap;\n",
       "      gap: 12px;\n",
       "    }\n",
       "\n",
       "    .colab-df-convert {\n",
       "      background-color: #E8F0FE;\n",
       "      border: none;\n",
       "      border-radius: 50%;\n",
       "      cursor: pointer;\n",
       "      display: none;\n",
       "      fill: #1967D2;\n",
       "      height: 32px;\n",
       "      padding: 0 0 0 0;\n",
       "      width: 32px;\n",
       "    }\n",
       "\n",
       "    .colab-df-convert:hover {\n",
       "      background-color: #E2EBFA;\n",
       "      box-shadow: 0px 1px 2px rgba(60, 64, 67, 0.3), 0px 1px 3px 1px rgba(60, 64, 67, 0.15);\n",
       "      fill: #174EA6;\n",
       "    }\n",
       "\n",
       "    [theme=dark] .colab-df-convert {\n",
       "      background-color: #3B4455;\n",
       "      fill: #D2E3FC;\n",
       "    }\n",
       "\n",
       "    [theme=dark] .colab-df-convert:hover {\n",
       "      background-color: #434B5C;\n",
       "      box-shadow: 0px 1px 3px 1px rgba(0, 0, 0, 0.15);\n",
       "      filter: drop-shadow(0px 1px 2px rgba(0, 0, 0, 0.3));\n",
       "      fill: #FFFFFF;\n",
       "    }\n",
       "  </style>\n",
       "\n",
       "      <script>\n",
       "        const buttonEl =\n",
       "          document.querySelector('#df-0bd793d7-4839-4d3d-8cae-c6eefdaf1099 button.colab-df-convert');\n",
       "        buttonEl.style.display =\n",
       "          google.colab.kernel.accessAllowed ? 'block' : 'none';\n",
       "\n",
       "        async function convertToInteractive(key) {\n",
       "          const element = document.querySelector('#df-0bd793d7-4839-4d3d-8cae-c6eefdaf1099');\n",
       "          const dataTable =\n",
       "            await google.colab.kernel.invokeFunction('convertToInteractive',\n",
       "                                                     [key], {});\n",
       "          if (!dataTable) return;\n",
       "\n",
       "          const docLinkHtml = 'Like what you see? Visit the ' +\n",
       "            '<a target=\"_blank\" href=https://colab.research.google.com/notebooks/data_table.ipynb>data table notebook</a>'\n",
       "            + ' to learn more about interactive tables.';\n",
       "          element.innerHTML = '';\n",
       "          dataTable['output_type'] = 'display_data';\n",
       "          await google.colab.output.renderOutput(dataTable, element);\n",
       "          const docLink = document.createElement('div');\n",
       "          docLink.innerHTML = docLinkHtml;\n",
       "          element.appendChild(docLink);\n",
       "        }\n",
       "      </script>\n",
       "    </div>\n",
       "  </div>\n",
       "  "
      ],
      "text/plain": [
       "                                          OM_Regular  OM_Prediction\n",
       "0  module OM_name:0 , open Declaration one sig cl...              1\n",
       "1  module OM_name:0 , open Declaration one sig cl...              1\n",
       "2  module OM_name:0 , open Declaration one sig cl...              1\n",
       "3  module OM_name:0 , open Declaration one sig cl...              1\n",
       "4  module OM_name:0 , open Declaration one sig cl...              1"
      ]
     },
     "execution_count": 3,
     "metadata": {},
     "output_type": "execute_result"
    }
   ],
   "source": [
    "dc.head()"
   ]
  },
  {
   "cell_type": "markdown",
   "metadata": {
    "id": "er0zQybAgoJJ"
   },
   "source": [
    "### Separating Columns in X_test and y_test"
   ]
  },
  {
   "cell_type": "code",
   "execution_count": 4,
   "metadata": {
    "id": "naG54qF791Hs"
   },
   "outputs": [],
   "source": [
    "X_test2 = dc['OM_Regular'].values\n",
    "y_test2 = dc['OM_Prediction'].values"
   ]
  },
  {
   "cell_type": "code",
   "execution_count": 5,
   "metadata": {
    "colab": {
     "base_uri": "https://localhost:8080/"
    },
    "id": "VcNO_Ews2q8x",
    "outputId": "c8e244db-62ae-4424-8e6e-b60249365de8"
   },
   "outputs": [
    {
     "name": "stdout",
     "output_type": "stream",
     "text": [
      "(4670,)\n",
      "(4670,)\n",
      "X data type:  object\n",
      "y data type:  int64\n"
     ]
    }
   ],
   "source": [
    "print(X_test2.shape)\n",
    "print(y_test2.shape)\n",
    "\n",
    "print(\"X data type: \", X_test2.dtype)\n",
    "print(\"y data type: \", y_test2.dtype)"
   ]
  },
  {
   "cell_type": "code",
   "execution_count": 6,
   "metadata": {
    "colab": {
     "base_uri": "https://localhost:8080/"
    },
    "id": "XZFASLWP95TU",
    "outputId": "401da5d5-24de-4c50-ebdc-96f3332ce609"
   },
   "outputs": [
    {
     "name": "stdout",
     "output_type": "stream",
     "text": [
      "[1 1 1 ... 1 1 1]\n"
     ]
    }
   ],
   "source": [
    "print(y_test2)"
   ]
  },
  {
   "cell_type": "code",
   "execution_count": 7,
   "metadata": {
    "id": "hgO5sa73-3f1"
   },
   "outputs": [],
   "source": [
    "inputs = X_test2"
   ]
  },
  {
   "cell_type": "markdown",
   "metadata": {
    "id": "K_yUzQq_gyYj"
   },
   "source": [
    "### Obtaining results from the model of the unseen dataset"
   ]
  },
  {
   "cell_type": "code",
   "execution_count": 8,
   "metadata": {
    "id": "4qjPTIDB-8UZ"
   },
   "outputs": [],
   "source": [
    "# import time\n",
    "\n",
    "# # Increase the time parameter\n",
    "# time_limit = 50  # in seconds\n",
    "\n",
    "# for t in inputs:\n",
    "#     start_time = time.time()\n",
    "#     output = \"\"\n",
    "#     while True:\n",
    "#         partial_output = model.translate([t], max_length=len(output) + 10)[0].numpy().decode()\n",
    "#         output += partial_output\n",
    "#         if time.time() - start_time > time_limit:\n",
    "#             break\n",
    "#     output = output.replace(' ', '')\n",
    "#     print(output)\n",
    "\n",
    "# print()\n"
   ]
  },
  {
   "cell_type": "markdown",
   "metadata": {
    "id": "1t4_2FqbE9da"
   },
   "source": [
    "# Classification Report (Unseen samples)\n"
   ]
  },
  {
   "cell_type": "code",
   "execution_count": 9,
   "metadata": {
    "id": "fVaZsDnJhkz5"
   },
   "outputs": [],
   "source": [
    "import warnings\n",
    "import numpy as np\n",
    "import pandas as pd\n",
    "import matplotlib.pyplot as plt\n",
    "from sklearn import datasets\n",
    "from sklearn.preprocessing import StandardScaler\n",
    "from sklearn.neighbors import KNeighborsClassifier\n",
    "from sklearn.model_selection import train_test_split, GridSearchCV, cross_val_score, cross_val_predict\n",
    "from sklearn.metrics import confusion_matrix, precision_score, recall_score, f1_score, roc_curve, roc_auc_score\n",
    "from sklearn.metrics import precision_recall_curve, classification_report"
   ]
  },
  {
   "cell_type": "markdown",
   "metadata": {
    "id": "TbThCFoRhLHs"
   },
   "source": [
    "### The result is obtained and captured in a separate file, labels are converted to 1 and 0 . Where 1 denotes P and 0 denotes NP."
   ]
  },
  {
   "cell_type": "markdown",
   "metadata": {
    "id": "9Jz3Rt18lUtE"
   },
   "source": [
    "###READING the predicted dataset"
   ]
  },
  {
   "cell_type": "code",
   "execution_count": 11,
   "metadata": {
    "id": "jhKnUY4XFCSj"
   },
   "outputs": [],
   "source": [
    "dd = pd.read_excel('random_set_4.0_pred.xlsx')"
   ]
  },
  {
   "cell_type": "code",
   "execution_count": 12,
   "metadata": {
    "colab": {
     "base_uri": "https://localhost:8080/",
     "height": 206
    },
    "id": "v9M2iW1MGjfM",
    "outputId": "fed76b72-9950-4727-a333-93fad814cd19"
   },
   "outputs": [
    {
     "data": {
      "text/html": [
       "\n",
       "  <div id=\"df-39789e49-b9e0-48ad-aab6-fb3968561c72\">\n",
       "    <div class=\"colab-df-container\">\n",
       "      <div>\n",
       "<style scoped>\n",
       "    .dataframe tbody tr th:only-of-type {\n",
       "        vertical-align: middle;\n",
       "    }\n",
       "\n",
       "    .dataframe tbody tr th {\n",
       "        vertical-align: top;\n",
       "    }\n",
       "\n",
       "    .dataframe thead th {\n",
       "        text-align: right;\n",
       "    }\n",
       "</style>\n",
       "<table border=\"1\" class=\"dataframe\">\n",
       "  <thead>\n",
       "    <tr style=\"text-align: right;\">\n",
       "      <th></th>\n",
       "      <th>OM_Regular</th>\n",
       "      <th>OM_Prediction</th>\n",
       "    </tr>\n",
       "  </thead>\n",
       "  <tbody>\n",
       "    <tr>\n",
       "      <th>0</th>\n",
       "      <td>p,moduleom_name:0,opendeclarationonesigclass1_...</td>\n",
       "      <td>1</td>\n",
       "    </tr>\n",
       "    <tr>\n",
       "      <th>1</th>\n",
       "      <td>p,moduleom_name:0,opendeclarationonesigclass1_...</td>\n",
       "      <td>1</td>\n",
       "    </tr>\n",
       "    <tr>\n",
       "      <th>2</th>\n",
       "      <td>p,moduleom_name:0,opendeclarationonesigclass1_...</td>\n",
       "      <td>1</td>\n",
       "    </tr>\n",
       "    <tr>\n",
       "      <th>3</th>\n",
       "      <td>p,moduleom_name:0,opendeclarationonesigclass1_...</td>\n",
       "      <td>1</td>\n",
       "    </tr>\n",
       "    <tr>\n",
       "      <th>4</th>\n",
       "      <td>p,moduleom_name:0,opendeclarationonesigclass1_...</td>\n",
       "      <td>1</td>\n",
       "    </tr>\n",
       "  </tbody>\n",
       "</table>\n",
       "</div>\n",
       "      <button class=\"colab-df-convert\" onclick=\"convertToInteractive('df-39789e49-b9e0-48ad-aab6-fb3968561c72')\"\n",
       "              title=\"Convert this dataframe to an interactive table.\"\n",
       "              style=\"display:none;\">\n",
       "        \n",
       "  <svg xmlns=\"http://www.w3.org/2000/svg\" height=\"24px\"viewBox=\"0 0 24 24\"\n",
       "       width=\"24px\">\n",
       "    <path d=\"M0 0h24v24H0V0z\" fill=\"none\"/>\n",
       "    <path d=\"M18.56 5.44l.94 2.06.94-2.06 2.06-.94-2.06-.94-.94-2.06-.94 2.06-2.06.94zm-11 1L8.5 8.5l.94-2.06 2.06-.94-2.06-.94L8.5 2.5l-.94 2.06-2.06.94zm10 10l.94 2.06.94-2.06 2.06-.94-2.06-.94-.94-2.06-.94 2.06-2.06.94z\"/><path d=\"M17.41 7.96l-1.37-1.37c-.4-.4-.92-.59-1.43-.59-.52 0-1.04.2-1.43.59L10.3 9.45l-7.72 7.72c-.78.78-.78 2.05 0 2.83L4 21.41c.39.39.9.59 1.41.59.51 0 1.02-.2 1.41-.59l7.78-7.78 2.81-2.81c.8-.78.8-2.07 0-2.86zM5.41 20L4 18.59l7.72-7.72 1.47 1.35L5.41 20z\"/>\n",
       "  </svg>\n",
       "      </button>\n",
       "      \n",
       "  <style>\n",
       "    .colab-df-container {\n",
       "      display:flex;\n",
       "      flex-wrap:wrap;\n",
       "      gap: 12px;\n",
       "    }\n",
       "\n",
       "    .colab-df-convert {\n",
       "      background-color: #E8F0FE;\n",
       "      border: none;\n",
       "      border-radius: 50%;\n",
       "      cursor: pointer;\n",
       "      display: none;\n",
       "      fill: #1967D2;\n",
       "      height: 32px;\n",
       "      padding: 0 0 0 0;\n",
       "      width: 32px;\n",
       "    }\n",
       "\n",
       "    .colab-df-convert:hover {\n",
       "      background-color: #E2EBFA;\n",
       "      box-shadow: 0px 1px 2px rgba(60, 64, 67, 0.3), 0px 1px 3px 1px rgba(60, 64, 67, 0.15);\n",
       "      fill: #174EA6;\n",
       "    }\n",
       "\n",
       "    [theme=dark] .colab-df-convert {\n",
       "      background-color: #3B4455;\n",
       "      fill: #D2E3FC;\n",
       "    }\n",
       "\n",
       "    [theme=dark] .colab-df-convert:hover {\n",
       "      background-color: #434B5C;\n",
       "      box-shadow: 0px 1px 3px 1px rgba(0, 0, 0, 0.15);\n",
       "      filter: drop-shadow(0px 1px 2px rgba(0, 0, 0, 0.3));\n",
       "      fill: #FFFFFF;\n",
       "    }\n",
       "  </style>\n",
       "\n",
       "      <script>\n",
       "        const buttonEl =\n",
       "          document.querySelector('#df-39789e49-b9e0-48ad-aab6-fb3968561c72 button.colab-df-convert');\n",
       "        buttonEl.style.display =\n",
       "          google.colab.kernel.accessAllowed ? 'block' : 'none';\n",
       "\n",
       "        async function convertToInteractive(key) {\n",
       "          const element = document.querySelector('#df-39789e49-b9e0-48ad-aab6-fb3968561c72');\n",
       "          const dataTable =\n",
       "            await google.colab.kernel.invokeFunction('convertToInteractive',\n",
       "                                                     [key], {});\n",
       "          if (!dataTable) return;\n",
       "\n",
       "          const docLinkHtml = 'Like what you see? Visit the ' +\n",
       "            '<a target=\"_blank\" href=https://colab.research.google.com/notebooks/data_table.ipynb>data table notebook</a>'\n",
       "            + ' to learn more about interactive tables.';\n",
       "          element.innerHTML = '';\n",
       "          dataTable['output_type'] = 'display_data';\n",
       "          await google.colab.output.renderOutput(dataTable, element);\n",
       "          const docLink = document.createElement('div');\n",
       "          docLink.innerHTML = docLinkHtml;\n",
       "          element.appendChild(docLink);\n",
       "        }\n",
       "      </script>\n",
       "    </div>\n",
       "  </div>\n",
       "  "
      ],
      "text/plain": [
       "                                          OM_Regular  OM_Prediction\n",
       "0  p,moduleom_name:0,opendeclarationonesigclass1_...              1\n",
       "1  p,moduleom_name:0,opendeclarationonesigclass1_...              1\n",
       "2  p,moduleom_name:0,opendeclarationonesigclass1_...              1\n",
       "3  p,moduleom_name:0,opendeclarationonesigclass1_...              1\n",
       "4  p,moduleom_name:0,opendeclarationonesigclass1_...              1"
      ]
     },
     "execution_count": 12,
     "metadata": {},
     "output_type": "execute_result"
    }
   ],
   "source": [
    "dd.head()"
   ]
  },
  {
   "cell_type": "code",
   "execution_count": 13,
   "metadata": {
    "id": "1tO_WHmVHQDR"
   },
   "outputs": [],
   "source": [
    "X_test_pred2 = dd['OM_Regular'].values\n",
    "y_test_pred2 = dd['OM_Prediction'].values"
   ]
  },
  {
   "cell_type": "markdown",
   "metadata": {
    "id": "0nbGKNUjldCp"
   },
   "source": [
    "### Printing predicted labels"
   ]
  },
  {
   "cell_type": "code",
   "execution_count": 14,
   "metadata": {
    "colab": {
     "base_uri": "https://localhost:8080/"
    },
    "id": "Wy2Fvt1fHYJO",
    "outputId": "0a5a6188-527f-446f-ed31-e61c1016ebf1"
   },
   "outputs": [
    {
     "name": "stdout",
     "output_type": "stream",
     "text": [
      "[1 1 1 ... 1 1 1]\n"
     ]
    }
   ],
   "source": [
    "print (y_test_pred2 )"
   ]
  },
  {
   "cell_type": "code",
   "execution_count": 15,
   "metadata": {
    "colab": {
     "base_uri": "https://localhost:8080/"
    },
    "id": "w7RY4modHkts",
    "outputId": "2e6db512-a28a-41eb-c92e-f98fd91e9ce3"
   },
   "outputs": [
    {
     "name": "stdout",
     "output_type": "stream",
     "text": [
      "Testing: Precision = 0.381651\n",
      "Testing: Recall = 0.932735\n",
      "Testing: F1 Score = 0.541667\n",
      "\n",
      "Confusion Matrix (Test Data):\n",
      " [[ 190 2696]\n",
      " [ 120 1664]]\n"
     ]
    }
   ],
   "source": [
    "precision = precision_score(y_test2, y_test_pred2)\n",
    "print(\"Testing: Precision = %f\" % precision)\n",
    "\n",
    "\n",
    "recall = recall_score(y_test2, y_test_pred2)\n",
    "print(\"Testing: Recall = %f\" % recall)\n",
    "\n",
    "\n",
    "f1 = f1_score(y_test2, y_test_pred2)\n",
    "print(\"Testing: F1 Score = %f\" % f1)\n",
    "\n",
    "print(\"\\nConfusion Matrix (Test Data):\\n\", confusion_matrix(y_test2, y_test_pred2))"
   ]
  },
  {
   "cell_type": "code",
   "execution_count": 16,
   "metadata": {
    "colab": {
     "base_uri": "https://localhost:8080/"
    },
    "id": "nd3P-TGIIN6b",
    "outputId": "f2bcf05a-3d0b-47e3-e3bd-a3541ae548e7"
   },
   "outputs": [
    {
     "name": "stdout",
     "output_type": "stream",
     "text": [
      "              precision    recall  f1-score   support\n",
      "\n",
      "           0       0.61      0.07      0.12      2886\n",
      "           1       0.38      0.93      0.54      1784\n",
      "\n",
      "    accuracy                           0.40      4670\n",
      "   macro avg       0.50      0.50      0.33      4670\n",
      "weighted avg       0.52      0.40      0.28      4670\n",
      "\n"
     ]
    }
   ],
   "source": [
    "print(classification_report(y_test2,y_test_pred2))"
   ]
  }
 ],
 "metadata": {
  "accelerator": "GPU",
  "colab": {
   "provenance": []
  },
  "gpuClass": "standard",
  "kernelspec": {
   "display_name": "Python 3 (ipykernel)",
   "language": "python",
   "name": "python3"
  },
  "language_info": {
   "codemirror_mode": {
    "name": "ipython",
    "version": 3
   },
   "file_extension": ".py",
   "mimetype": "text/x-python",
   "name": "python",
   "nbconvert_exporter": "python",
   "pygments_lexer": "ipython3",
   "version": "3.10.9"
  }
 },
 "nbformat": 4,
 "nbformat_minor": 1
}
