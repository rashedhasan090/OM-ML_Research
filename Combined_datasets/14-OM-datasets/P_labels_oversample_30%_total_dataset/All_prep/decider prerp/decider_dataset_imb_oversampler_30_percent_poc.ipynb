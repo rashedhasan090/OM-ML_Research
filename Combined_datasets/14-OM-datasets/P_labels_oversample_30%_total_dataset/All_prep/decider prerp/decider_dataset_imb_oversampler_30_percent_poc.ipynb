{
  "nbformat": 4,
  "nbformat_minor": 0,
  "metadata": {
    "colab": {
      "provenance": []
    },
    "kernelspec": {
      "name": "python3",
      "display_name": "Python 3"
    },
    "language_info": {
      "name": "python"
    }
  },
  "cells": [
    {
      "cell_type": "code",
      "source": [
        "from imblearn.over_sampling import RandomOverSampler\n",
        "from collections import Counter"
      ],
      "metadata": {
        "id": "wL3Bp5rfnRPa"
      },
      "execution_count": 13,
      "outputs": []
    },
    {
      "cell_type": "code",
      "source": [
        "import pandas as pd\n",
        "df = pd.read_csv('decider_30.csv')"
      ],
      "metadata": {
        "id": "Z2zX-IrnnRhV"
      },
      "execution_count": 14,
      "outputs": []
    },
    {
      "cell_type": "code",
      "source": [
        "df.head()"
      ],
      "metadata": {
        "colab": {
          "base_uri": "https://localhost:8080/",
          "height": 206
        },
        "id": "n7JtDD8UnRqv",
        "outputId": "489d846b-08a4-4b44-9bf3-e2b69105d679"
      },
      "execution_count": 15,
      "outputs": [
        {
          "output_type": "execute_result",
          "data": {
            "text/plain": [
              "                                          OM_Regular  OM_Prediction\n",
              "0  moduleOM_name:0openDeclarationonesigclass1_nam...              1\n",
              "1  moduleOM_name:0openDeclarationonesigclass1_nam...              0\n",
              "2  moduleOM_name:0openDeclarationonesigclass1_nam...              1\n",
              "3  moduleOM_name:0openDeclarationonesigclass1_nam...              1\n",
              "4  moduleOM_name:0openDeclarationonesigclass1_nam...              1"
            ],
            "text/html": [
              "\n",
              "  <div id=\"df-f563aed0-3215-4dac-8f46-5ec779a00683\">\n",
              "    <div class=\"colab-df-container\">\n",
              "      <div>\n",
              "<style scoped>\n",
              "    .dataframe tbody tr th:only-of-type {\n",
              "        vertical-align: middle;\n",
              "    }\n",
              "\n",
              "    .dataframe tbody tr th {\n",
              "        vertical-align: top;\n",
              "    }\n",
              "\n",
              "    .dataframe thead th {\n",
              "        text-align: right;\n",
              "    }\n",
              "</style>\n",
              "<table border=\"1\" class=\"dataframe\">\n",
              "  <thead>\n",
              "    <tr style=\"text-align: right;\">\n",
              "      <th></th>\n",
              "      <th>OM_Regular</th>\n",
              "      <th>OM_Prediction</th>\n",
              "    </tr>\n",
              "  </thead>\n",
              "  <tbody>\n",
              "    <tr>\n",
              "      <th>0</th>\n",
              "      <td>moduleOM_name:0openDeclarationonesigclass1_nam...</td>\n",
              "      <td>1</td>\n",
              "    </tr>\n",
              "    <tr>\n",
              "      <th>1</th>\n",
              "      <td>moduleOM_name:0openDeclarationonesigclass1_nam...</td>\n",
              "      <td>0</td>\n",
              "    </tr>\n",
              "    <tr>\n",
              "      <th>2</th>\n",
              "      <td>moduleOM_name:0openDeclarationonesigclass1_nam...</td>\n",
              "      <td>1</td>\n",
              "    </tr>\n",
              "    <tr>\n",
              "      <th>3</th>\n",
              "      <td>moduleOM_name:0openDeclarationonesigclass1_nam...</td>\n",
              "      <td>1</td>\n",
              "    </tr>\n",
              "    <tr>\n",
              "      <th>4</th>\n",
              "      <td>moduleOM_name:0openDeclarationonesigclass1_nam...</td>\n",
              "      <td>1</td>\n",
              "    </tr>\n",
              "  </tbody>\n",
              "</table>\n",
              "</div>\n",
              "      <button class=\"colab-df-convert\" onclick=\"convertToInteractive('df-f563aed0-3215-4dac-8f46-5ec779a00683')\"\n",
              "              title=\"Convert this dataframe to an interactive table.\"\n",
              "              style=\"display:none;\">\n",
              "        \n",
              "  <svg xmlns=\"http://www.w3.org/2000/svg\" height=\"24px\"viewBox=\"0 0 24 24\"\n",
              "       width=\"24px\">\n",
              "    <path d=\"M0 0h24v24H0V0z\" fill=\"none\"/>\n",
              "    <path d=\"M18.56 5.44l.94 2.06.94-2.06 2.06-.94-2.06-.94-.94-2.06-.94 2.06-2.06.94zm-11 1L8.5 8.5l.94-2.06 2.06-.94-2.06-.94L8.5 2.5l-.94 2.06-2.06.94zm10 10l.94 2.06.94-2.06 2.06-.94-2.06-.94-.94-2.06-.94 2.06-2.06.94z\"/><path d=\"M17.41 7.96l-1.37-1.37c-.4-.4-.92-.59-1.43-.59-.52 0-1.04.2-1.43.59L10.3 9.45l-7.72 7.72c-.78.78-.78 2.05 0 2.83L4 21.41c.39.39.9.59 1.41.59.51 0 1.02-.2 1.41-.59l7.78-7.78 2.81-2.81c.8-.78.8-2.07 0-2.86zM5.41 20L4 18.59l7.72-7.72 1.47 1.35L5.41 20z\"/>\n",
              "  </svg>\n",
              "      </button>\n",
              "      \n",
              "  <style>\n",
              "    .colab-df-container {\n",
              "      display:flex;\n",
              "      flex-wrap:wrap;\n",
              "      gap: 12px;\n",
              "    }\n",
              "\n",
              "    .colab-df-convert {\n",
              "      background-color: #E8F0FE;\n",
              "      border: none;\n",
              "      border-radius: 50%;\n",
              "      cursor: pointer;\n",
              "      display: none;\n",
              "      fill: #1967D2;\n",
              "      height: 32px;\n",
              "      padding: 0 0 0 0;\n",
              "      width: 32px;\n",
              "    }\n",
              "\n",
              "    .colab-df-convert:hover {\n",
              "      background-color: #E2EBFA;\n",
              "      box-shadow: 0px 1px 2px rgba(60, 64, 67, 0.3), 0px 1px 3px 1px rgba(60, 64, 67, 0.15);\n",
              "      fill: #174EA6;\n",
              "    }\n",
              "\n",
              "    [theme=dark] .colab-df-convert {\n",
              "      background-color: #3B4455;\n",
              "      fill: #D2E3FC;\n",
              "    }\n",
              "\n",
              "    [theme=dark] .colab-df-convert:hover {\n",
              "      background-color: #434B5C;\n",
              "      box-shadow: 0px 1px 3px 1px rgba(0, 0, 0, 0.15);\n",
              "      filter: drop-shadow(0px 1px 2px rgba(0, 0, 0, 0.3));\n",
              "      fill: #FFFFFF;\n",
              "    }\n",
              "  </style>\n",
              "\n",
              "      <script>\n",
              "        const buttonEl =\n",
              "          document.querySelector('#df-f563aed0-3215-4dac-8f46-5ec779a00683 button.colab-df-convert');\n",
              "        buttonEl.style.display =\n",
              "          google.colab.kernel.accessAllowed ? 'block' : 'none';\n",
              "\n",
              "        async function convertToInteractive(key) {\n",
              "          const element = document.querySelector('#df-f563aed0-3215-4dac-8f46-5ec779a00683');\n",
              "          const dataTable =\n",
              "            await google.colab.kernel.invokeFunction('convertToInteractive',\n",
              "                                                     [key], {});\n",
              "          if (!dataTable) return;\n",
              "\n",
              "          const docLinkHtml = 'Like what you see? Visit the ' +\n",
              "            '<a target=\"_blank\" href=https://colab.research.google.com/notebooks/data_table.ipynb>data table notebook</a>'\n",
              "            + ' to learn more about interactive tables.';\n",
              "          element.innerHTML = '';\n",
              "          dataTable['output_type'] = 'display_data';\n",
              "          await google.colab.output.renderOutput(dataTable, element);\n",
              "          const docLink = document.createElement('div');\n",
              "          docLink.innerHTML = docLinkHtml;\n",
              "          element.appendChild(docLink);\n",
              "        }\n",
              "      </script>\n",
              "    </div>\n",
              "  </div>\n",
              "  "
            ]
          },
          "metadata": {},
          "execution_count": 15
        }
      ]
    },
    {
      "cell_type": "code",
      "source": [],
      "metadata": {
        "id": "7V0AEMdzn3Fm"
      },
      "execution_count": 3,
      "outputs": []
    },
    {
      "cell_type": "code",
      "source": [
        "#Split our data into features(X) and labels(y)\n",
        "X=df.drop('OM_Regular',axis=1)\n",
        "y=df['OM_Regular']"
      ],
      "metadata": {
        "id": "Xhta8W2un66Y"
      },
      "execution_count": 16,
      "outputs": []
    },
    {
      "cell_type": "code",
      "source": [
        "y.value_counts()"
      ],
      "metadata": {
        "colab": {
          "base_uri": "https://localhost:8080/"
        },
        "id": "dRHw9zpvsUcV",
        "outputId": "5cb5e9bc-4d6a-4380-e9ad-d42f76b8352a"
      },
      "execution_count": 17,
      "outputs": [
        {
          "output_type": "execute_result",
          "data": {
            "text/plain": [
              "moduleOM_name:0openDeclarationonesigclass1_nameextendsClassattrSet=c1_at1+c1_at2id=c1_at1noparentisAbstract=No}onesigc1_at1extendsc1_at1_typeonesigc1_at2extendsc1_at2_typeonesigclass2_nameextendsClassattrSet=c2_at1+c2_at2id=c2_at1noparentisAbstract=No}onesigc2_at1extendsc2_at1_typeonesigc2_at2extendsc2_at2_typeonesigclass3_nameextendsClassattrSet=c3_at1+c3_at2id=c3_at1noparentisAbstract=No}onesigc3_at1extendsc3_at1_typeonesigc3_at2extendsc3_at2_typeonesigclass4_nameextendsClassattrSet=c4_at1+c4_at2+c4_at3+c4_at4id=c4_at1noparentisAbstract=No}onesigc4_at1extendsc4_at1_typeonesigc4_at2extendsc4_at2_typeonesigc4_at3extendsc4_at3_typeonesigc4_at4extendsc4_at4_typeonesigclass5_nameextendsClassattrSet=c5_at1+c5_at2oneparentparentinclass4_nameid=c4_at1isAbstract=No}onesigc5_at1extendsc5_at1_typeonesigc5_at2extendsc5_at2_typeonesigclass6_nameextendsClassattrSet=c6_at1+c6_at2+c6_at3id=c6_at1noparentisAbstract=No}onesigc6_at1extendsc6_at1_typeonesigc6_at2extendsc6_at2_typeonesigc6_at3extendsc6_at3_typeonesigassoc1extendsAssociationsrc=class6_namedst=class4_namesrc_multiplicity=src_mlpc2dst_multiplicity=dst_mlpc}onesigassoc2extendsAssociationsrc=class1_namedst=class5_namesrc_multiplicity=src_mlpcdst_multiplicity=dst_mlpc}onesigassoc3extendsAssociationsrc=class4_namedst=class1_namesrc_multiplicity=src_mlpcdst_multiplicity=dst_mlpc}onesigassoc4extendsAssociationsrc=class3_namedst=class1_namesrc_multiplicity=src_mlpcdst_multiplicity=dst_mlpc}predshowrunshowfor30​,MappingStrategyofTableclass4_name:map_str2MappingStrategyofTableclass5_name:map_str2MappingStrategyofTableclass7_name:map_str1MappingStrategyofTableclass8_name:map_str1MappingStrategyofTableclass10_name:map_str1AssociationStrategyforassoc4:assoc_type1AssociationStrategyforassoc1:assoc_type2AssociationStrategyforassoc2:assoc_type2AssociationStrategyforassoc3:assoc_type2AssociationStrategyforassoc4:assoc_type2,USEOM_name_0CREATETABLE`assoc2`(`c7_at1`c7_at1_typeNOTNULL`c4_at1`c4_at1_typeNOTNULLKEY`FK_assoc2_c7_at1_idx`(`c7_at1`)KEY`FK_assoc2_c4_at1_idx`(`c4_at1`)PRIMARYKEY(`c7_at1`,`c4_at1`));CREATETABLE`class2_name`(`c2_at2`c2_at2_type`c2_at1`c2_at1_typeNOTNULLPRIMARYKEY(`c2_at1`));CREATETABLE`class1_name`(`c1_at2`c1_at2_type`c5_at1`c5_at1_type`c1_at1`c1_at1_typeNOTNULLKEY`FK_class1_name_c5_at1_idx`(`c5_at1`),PRIMARYKEY(`c1_at1`));CREATETABLE`assoc1`(`c3_at1`c3_at1_typeNOTNULL`c2_at1`c2_at1_typeNOTNULLKEY`FK_assoc1_c3_at1_idx`(`c3_at1`),KEY`FK_assoc1_c2_at1_idx`(`c2_at1`),PRIMARYKEY(`c3_at1`,`c2_at1`));CREATETABLE`class4_name`(`c4_at2`c4_at2_type`c4_at1`c4_at1_typeNOTNULLPRIMARYKEY(`c4_at1`));CREATETABLE`class7_name`(`c7_at2`c7_at2_type(64)`c8_at2`c8_at2_type(64),`c8_at1`c8_at1_type(64),`c10_at1`c10_at1_type`c9_at1`c9_at1_type`c7_at1`c7_at1_typeNOTNULLPRIMARYKEY(`c7_at1`));CREATETABLE`class6_name`(`c6_at2`c6_at2_type(64)`c6_at1`c6_at1_typeNOTNULLPRIMARYKEY(`c6_at1`));CREATETABLE`class3_name`(`c3_at2`c3_at2_type(64)`c3_at1`c3_at1_typeNOTNULLPRIMARYKEY(`c3_at1`));CREATETABLE`assoc4`(`c6_at1`c6_at1_typeNOTNULL`c2_at1`c2_at1_typeNOTNULLKEY`FK_assoc4_c6_at1_idx`(`c6_at1`)KEY`FK_assoc4_c2_at1_idx`(`c2_at1`)PRIMARYKEY(`c6_at1`,`c2_at1`));CREATETABLE`assoc3`(`c7_at1`c7_at1_typeNOTNULL`c6_at1`c6_at1_typeNOTNULLKEY`FK_assoc3_c7_at1_idx`(`c7_at1`),KEY`FK_assoc3_c6_at1_idx`(`c6_at1`),PRIMARYKEY(`c7_at1`,`c6_at1`));ALTERTABLE`assoc2`ADDCONSTRAINT`FK_assoc2_c7_at1`FOREIGNKEY(`c7_at1`)REFERENCES`class7_name`(`c7_at1`)ONDELETECASCADEONUPDATECASCADEADDCONSTRAINT`FK_assoc2_c4_at1`FOREIGNKEY(`c4_at1`)REFERENCES`class4_name`(`c4_at1`)ONDELETECASCADEONUPDATECASCADEALTERTABLE`class1_name`ADDCONSTRAINT`FK_class1_name_c5_at1`FOREIGNKEY(`c5_at1`)REFERENCES`class5_name`(`c5_at1`)ONDELETECASCADEONUPDATECASCADEALTERTABLE`assoc1`ADDCONSTRAINT`FK_assoc1_c3_at1`FOREIGNKEY(`c3_at1`)REFERENCES`class3_name`(`c3_at1`)ONDELETECASCADEONUPDATECASCADEADDCONSTRAINT`FK_assoc1_c3_at1`FOREIGNKEY(`c2_at1`)REFERENCES`class2_name`(`c2_at1`)ONDELETECASCADEONUPDATECASCADEALTERTABLE`assoc4`ADDCONSTRAINT`FK_assoc4_c6_at1`FOREIGNKEY(`c6_at1`)REFERENCES`class6_name`(`c6_at1`)ONDELETECASCADEONUPDATECASCADEADDCONSTRAINT`FK_assoc4_c2_at1`FOREIGNKEY(`c2_at1`)REFERENCES`class2_name`(`c2_at1`)ONDELETECASCADEONUPDATECASCADEALTERTABLE`assoc3`ADDCONSTRAINT`FK_assoc3_c7_at1`FOREIGNKEY(`c7_at1`)REFERENCES`class7_name`(`c7_at1`)ONDELETECASCADEONUPDATECASCADEADDCONSTRAINT`FK_assoc3_c6_at1`FOREIGNKEY(`c6_at1`)REFERENCES`class6_name`(`c6_at1`)ONDELETECASCADEONUPDATECASCADE,NP                                                                                                                                                                                                                                    4\n",
              "moduleOM_name:0openDeclarationonesigclass1_nameextendsClassattrSet=c1_at1+c1_at2id=c1_at1noparentisAbstract=No}onesigc1_at1extendsc1_at1_typeonesigc1_at2extendsc1_at2_typeonesigclass2_nameextendsClassattrSet=c2_at1+c2_at2id=c2_at1noparentisAbstract=No}onesigc2_at1extendsc2_at1_typeonesigc2_at2extendsc2_at2_typeonesigclass3_nameextendsClassattrSet=c3_at1+c3_at2id=c3_at1noparentisAbstract=No}onesigc3_at1extendsc3_at1_typeonesigc3_at2extendsc3_at2_typeonesigclass4_nameextendsClassattrSet=c4_at1+c4_at2+c4_at3+c4_at4id=c4_at1noparentisAbstract=No}onesigc4_at1extendsc4_at1_typeonesigc4_at2extendsc4_at2_typeonesigc4_at3extendsc4_at3_typeonesigc4_at4extendsc4_at4_typeonesigclass5_nameextendsClassattrSet=c5_at1+c5_at2oneparentparentinclass4_nameid=c4_at1isAbstract=No}onesigc5_at1extendsc5_at1_typeonesigc5_at2extendsc5_at2_typeonesigclass6_nameextendsClassattrSet=c6_at1+c6_at2+c6_at3id=c6_at1noparentisAbstract=No}onesigc6_at1extendsc6_at1_typeonesigc6_at2extendsc6_at2_typeonesigc6_at3extendsc6_at3_typeonesigassoc1extendsAssociationsrc=class6_namedst=class4_namesrc_multiplicity=src_mlpc2dst_multiplicity=dst_mlpc}onesigassoc2extendsAssociationsrc=class1_namedst=class5_namesrc_multiplicity=src_mlpcdst_multiplicity=dst_mlpc}onesigassoc3extendsAssociationsrc=class4_namedst=class1_namesrc_multiplicity=src_mlpcdst_multiplicity=dst_mlpc}onesigassoc4extendsAssociationsrc=class3_namedst=class1_namesrc_multiplicity=src_mlpcdst_multiplicity=dst_mlpc}predshowrunshowfor30​,MappingStrategyofTableclass4_name:map_str2MappingStrategyofTableclass5_name:map_str2MappingStrategyofTableclass7_name:map_str1MappingStrategyofTableclass8_name:map_str1MappingStrategyofTableclass10_name:map_str1AssociationStrategyforassoc1:assoc_type1AssociationStrategyforassoc4:assoc_type1AssociationStrategyforassoc4:assoc_type1AssociationStrategyforassoc2:assoc_type2AssociationStrategyforassoc3:assoc_type2,USEOM_name_0CREATETABLE`assoc2`(`c7_at1`c7_at1_typeNOTNULL`c4_at1`c4_at1_typeNOTNULLKEY`FK_assoc2_c7_at1_idx`(`c7_at1`)KEY`FK_assoc2_c4_at1_idx`(`c4_at1`)PRIMARYKEY(`c7_at1`,`c4_at1`));CREATETABLE`class2_name`(`c2_at2`c2_at2_type`c5_at1`c5_at1_type`c2_at1`c2_at1_typeNOTNULLKEY`FK_class2_name_c5_at1_idx`(`c5_at1`),PRIMARYKEY(`c2_at1`));CREATETABLE`class1_name`(`c1_at2`c1_at2_type`c5_at1`c5_at1_type`c1_at1`c1_at1_typeNOTNULLKEY`FK_class1_name_c5_at1_idx`(`c5_at1`),PRIMARYKEY(`c1_at1`));CREATETABLE`class4_name`(`c4_at2`c4_at2_type`c4_at1`c4_at1_typeNOTNULLPRIMARYKEY(`c4_at1`));CREATETABLE`class7_name`(`c7_at2`c7_at2_type(64)`c8_at2`c8_at2_type(64),`c8_at1`c8_at1_type(64),`c10_at1`c10_at1_type`c9_at1`c9_at1_type`c7_at1`c7_at1_typeNOTNULLPRIMARYKEY(`c7_at1`));CREATETABLE`class6_name`(`c6_at2`c6_at2_type(64)`c6_at1`c6_at1_typeNOTNULLPRIMARYKEY(`c6_at1`));CREATETABLE`class3_name`(`c3_at2`c3_at2_type(64)`c3_at1`c3_at1_typeNOTNULL`c2_at1`c2_at1_typeKEY`FK_class3_name_c2_at1_idx`(`c2_at1`)PRIMARYKEY(`c3_at1`));CREATETABLE`assoc3`(`c7_at1`c7_at1_typeNOTNULL`c6_at1`c6_at1_typeNOTNULLKEY`FK_assoc3_c7_at1_idx`(`c7_at1`),KEY`FK_assoc3_c6_at1_idx`(`c6_at1`),PRIMARYKEY(`c7_at1`,`c6_at1`));ALTERTABLE`assoc2`ADDCONSTRAINT`FK_assoc2_c7_at1`FOREIGNKEY(`c7_at1`)REFERENCES`class7_name`(`c7_at1`)ONDELETECASCADEONUPDATECASCADEADDCONSTRAINT`FK_assoc2_c4_at1`FOREIGNKEY(`c4_at1`)REFERENCES`class4_name`(`c4_at1`)ONDELETECASCADEONUPDATECASCADEALTERTABLE`class2_name`ADDCONSTRAINT`FK_class2_name_c5_at1`FOREIGNKEY(`c5_at1`)REFERENCES`class5_name`(`c5_at1`)ONDELETECASCADEONUPDATECASCADEALTERTABLE`class1_name`ADDCONSTRAINT`FK_class1_name_c5_at1`FOREIGNKEY(`c5_at1`)REFERENCES`class5_name`(`c5_at1`)ONDELETECASCADEONUPDATECASCADEALTERTABLE`class3_name`ADDCONSTRAINT`FK_class3_name_c2_at1`FOREIGNKEY(`c2_at1`)REFERENCES`class2_name`(`c2_at1`)ONDELETECASCADEONUPDATECASCADEALTERTABLE`assoc3`ADDCONSTRAINT`FK_assoc3_c7_at1`FOREIGNKEY(`c7_at1`)REFERENCES`class7_name`(`c7_at1`)ONDELETECASCADEONUPDATECASCADEADDCONSTRAINT`FK_assoc3_c6_at1`FOREIGNKEY(`c6_at1`)REFERENCES`class6_name`(`c6_at1`)ONDELETECASCADEONUPDATECASCADE,P                                                                                                                                                                                                                                                                                                                                                                                                                                                                                                                                                                                                                                                                                          1\n",
              "moduleOM_name:0openDeclarationonesigclass1_nameextendsClassattrSet=c1_at1+c1_at2id=c1_at1noparentisAbstract=No}onesigc1_at1extendsc1_at1_typeonesigc1_at2extendsc1_at2_typeonesigclass2_nameextendsClassattrSet=c2_at1+c2_at2id=c2_at1noparentisAbstract=No}onesigc2_at1extendsc2_at1_typeonesigc2_at2extendsc2_at2_typeonesigclass3_nameextendsClassattrSet=c3_at1+c3_at2id=c3_at1noparentisAbstract=No}onesigc3_at1extendsc3_at1_typeonesigc3_at2extendsc3_at2_typeonesigclass4_nameextendsClassattrSet=c4_at1+c4_at2+c4_at3+c4_at4id=c4_at1noparentisAbstract=No}onesigc4_at1extendsc4_at1_typeonesigc4_at2extendsc4_at2_typeonesigc4_at3extendsc4_at3_typeonesigc4_at4extendsc4_at4_typeonesigclass5_nameextendsClassattrSet=c5_at1+c5_at2oneparentparentinclass4_nameid=c4_at1isAbstract=No}onesigc5_at1extendsc5_at1_typeonesigc5_at2extendsc5_at2_typeonesigclass6_nameextendsClassattrSet=c6_at1+c6_at2+c6_at3id=c6_at1noparentisAbstract=No}onesigc6_at1extendsc6_at1_typeonesigc6_at2extendsc6_at2_typeonesigc6_at3extendsc6_at3_typeonesigassoc1extendsAssociationsrc=class6_namedst=class4_namesrc_multiplicity=src_mlpc2dst_multiplicity=dst_mlpc}onesigassoc2extendsAssociationsrc=class1_namedst=class5_namesrc_multiplicity=src_mlpcdst_multiplicity=dst_mlpc}onesigassoc3extendsAssociationsrc=class4_namedst=class1_namesrc_multiplicity=src_mlpcdst_multiplicity=dst_mlpc}onesigassoc4extendsAssociationsrc=class3_namedst=class1_namesrc_multiplicity=src_mlpcdst_multiplicity=dst_mlpc}predshowrunshowfor30​,MappingStrategyofTableclass4_name:map_str2MappingStrategyofTableclass5_name:map_str2MappingStrategyofTableclass7_name:map_str1MappingStrategyofTableclass8_name:map_str1MappingStrategyofTableclass10_name:map_str1AssociationStrategyforassoc1:assoc_type2AssociationStrategyforassoc2:assoc_type2AssociationStrategyforassoc3:assoc_type2AssociationStrategyforassoc4:assoc_type2AssociationStrategyforassoc4:assoc_type2,USEOM_name_0CREATETABLE`assoc2`(`c7_at1`c7_at1_typeNOTNULL`c4_at1`c4_at1_typeNOTNULLKEY`FK_assoc2_c7_at1_idx`(`c7_at1`)KEY`FK_assoc2_c4_at1_idx`(`c4_at1`)PRIMARYKEY(`c7_at1`,`c4_at1`));CREATETABLE`class2_name`(`c2_at2`c2_at2_type`c2_at1`c2_at1_typeNOTNULLPRIMARYKEY(`c2_at1`));CREATETABLE`assoc5`(`c6_at1`c6_at1_typeNOTNULL`c1_at1`c1_at1_typeNOTNULLKEY`FK_assoc5_c6_at1_idx`(`c6_at1`),KEY`FK_assoc5_c1_at1_idx`(`c1_at1`),PRIMARYKEY(`c5_at1`,`c1_at1`));CREATETABLE`class1_name`(`c1_at2`c1_at2_type`c1_at1`c1_at1_typeNOTNULLPRIMARYKEY(`c1_at1`));CREATETABLE`assoc1`(`c3_at1`c3_at1_typeNOTNULL`c2_at1`c2_at1_typeNOTNULLKEY`FK_assoc1_c3_at1_idx`(`c3_at1`),KEY`FK_assoc1_c2_at1_idx`(`c2_at1`),PRIMARYKEY(`c3_at1`,`c2_at1`));CREATETABLE`class4_name`(`c4_at2`c4_at2_type`c4_at1`c4_at1_typeNOTNULLPRIMARYKEY(`c4_at1`));CREATETABLE`class7_name`(`c7_at2`c7_at2_type(64)`c8_at2`c8_at2_type(64),`c8_at1`c8_at1_type(64),`c10_at1`c10_at1_type`c9_at1`c9_at1_type`c7_at1`c7_at1_typeNOTNULLPRIMARYKEY(`c7_at1`));CREATETABLE`class6_name`(`c6_at2`c6_at2_type(64)`c6_at1`c6_at1_typeNOTNULLPRIMARYKEY(`c6_at1`));CREATETABLE`class3_name`(`c3_at2`c3_at2_type(64)`c3_at1`c3_at1_typeNOTNULLPRIMARYKEY(`c3_at1`));CREATETABLE`assoc4`(`c6_at1`c6_at1_typeNOTNULL`c2_at1`c2_at1_typeNOTNULLKEY`FK_assoc4_c6_at1_idx`(`c6_at1`)KEY`FK_assoc4_c2_at1_idx`(`c2_at1`)PRIMARYKEY(`c6_at1`,`c2_at1`));CREATETABLE`assoc3`(`c7_at1`c7_at1_typeNOTNULL`c6_at1`c6_at1_typeNOTNULLKEY`FK_assoc3_c7_at1_idx`(`c7_at1`),KEY`FK_assoc3_c6_at1_idx`(`c6_at1`),PRIMARYKEY(`c7_at1`,`c6_at1`));ALTERTABLE`assoc2`ADDCONSTRAINT`FK_assoc2_c7_at1`FOREIGNKEY(`c7_at1`)REFERENCES`class7_name`(`c7_at1`)ONDELETECASCADEONUPDATECASCADEADDCONSTRAINT`FK_assoc2_c4_at1`FOREIGNKEY(`c4_at1`)REFERENCES`class4_name`(`c4_at1`)ONDELETECASCADEONUPDATECASCADEALTERTABLE`class10_name`ADDCONSTRAINT`FK_assoc5_c6_at1`FOREIGNKEY(`c6_at1`)REFERENCES`class6_name`(`c6_at1`)ONDELETECASCADEONUPDATECASCADEADDCONSTRAINT`FK_assoc5_c6_at1`FOREIGNKEY(`c1_at1`)REFERENCES`class1_name`(`c1_at1`)ONDELETECASCADEONUPDATECASCADEALTERTABLE`assoc1`ADDCONSTRAINT`FK_assoc1_c3_at1`FOREIGNKEY(`c3_at1`)REFERENCES`class3_name`(`c3_at1`)ONDELETECASCADEONUPDATECASCADEADDCONSTRAINT`FK_assoc1_c3_at1`FOREIGNKEY(`c2_at1`)REFERENCES`class2_name`(`c2_at1`)ONDELETECASCADEONUPDATECASCADEALTERTABLE`assoc4`ADDCONSTRAINT`FK_assoc4_c6_at1`FOREIGNKEY(`c6_at1`)REFERENCES`class6_name`(`c6_at1`)ONDELETECASCADEONUPDATECASCADEADDCONSTRAINT`FK_assoc4_c2_at1`FOREIGNKEY(`c2_at1`)REFERENCES`class2_name`(`c2_at1`)ONDELETECASCADEONUPDATECASCADEALTERTABLE`assoc3`ADDCONSTRAINT`FK_assoc3_c7_at1`FOREIGNKEY(`c7_at1`)REFERENCES`class7_name`(`c7_at1`)ONDELETECASCADEONUPDATECASCADEADDCONSTRAINT`FK_assoc3_c6_at1`FOREIGNKEY(`c6_at1`)REFERENCES`class6_name`(`c6_at1`)ONDELETECASCADEONUPDATECASCADE,P    1\n",
              "moduleOM_name:0openDeclarationonesigclass1_nameextendsClassattrSet=c1_at1+c1_at2id=c1_at1noparentisAbstract=No}onesigc1_at1extendsc1_at1_typeonesigc1_at2extendsc1_at2_typeonesigclass2_nameextendsClassattrSet=c2_at1+c2_at2id=c2_at1noparentisAbstract=No}onesigc2_at1extendsc2_at1_typeonesigc2_at2extendsc2_at2_typeonesigclass3_nameextendsClassattrSet=c3_at1+c3_at2id=c3_at1noparentisAbstract=No}onesigc3_at1extendsc3_at1_typeonesigc3_at2extendsc3_at2_typeonesigclass4_nameextendsClassattrSet=c4_at1+c4_at2+c4_at3+c4_at4id=c4_at1noparentisAbstract=No}onesigc4_at1extendsc4_at1_typeonesigc4_at2extendsc4_at2_typeonesigc4_at3extendsc4_at3_typeonesigc4_at4extendsc4_at4_typeonesigclass5_nameextendsClassattrSet=c5_at1+c5_at2oneparentparentinclass4_nameid=c4_at1isAbstract=No}onesigc5_at1extendsc5_at1_typeonesigc5_at2extendsc5_at2_typeonesigclass6_nameextendsClassattrSet=c6_at1+c6_at2+c6_at3id=c6_at1noparentisAbstract=No}onesigc6_at1extendsc6_at1_typeonesigc6_at2extendsc6_at2_typeonesigc6_at3extendsc6_at3_typeonesigassoc1extendsAssociationsrc=class6_namedst=class4_namesrc_multiplicity=src_mlpc2dst_multiplicity=dst_mlpc}onesigassoc2extendsAssociationsrc=class1_namedst=class5_namesrc_multiplicity=src_mlpcdst_multiplicity=dst_mlpc}onesigassoc3extendsAssociationsrc=class4_namedst=class1_namesrc_multiplicity=src_mlpcdst_multiplicity=dst_mlpc}onesigassoc4extendsAssociationsrc=class3_namedst=class1_namesrc_multiplicity=src_mlpcdst_multiplicity=dst_mlpc}predshowrunshowfor30​,MappingStrategyofTableclass4_name:map_str2MappingStrategyofTableclass5_name:map_str2MappingStrategyofTableclass7_name:map_str2MappingStrategyofTableclass8_name:map_str2MappingStrategyofTableclass10_name:map_str2AssociationStrategyforassoc4:assoc_type1AssociationStrategyforassoc4:assoc_type1AssociationStrategyforassoc1:assoc_type2AssociationStrategyforassoc2:assoc_type2AssociationStrategyforassoc3:assoc_type2,USEOM_name_0CREATETABLE`assoc2`(`c7_at1`c7_at1_typeNOTNULL`c4_at1`c4_at1_typeNOTNULLKEY`FK_assoc2_c7_at1_idx`(`c7_at1`)KEY`FK_assoc2_c4_at1_idx`(`c4_at1`)PRIMARYKEY(`c7_at1`,`c4_at1`));CREATETABLE`class2_name`(`c2_at2`c2_at2_type`c5_at1`c5_at1_type`c2_at1`c2_at1_typeNOTNULLKEY`FK_class2_name_c5_at1_idx`(`c5_at1`),PRIMARYKEY(`c2_at1`));CREATETABLE`class8_name`(`c8_at2`c8_at2_type(64),`c8_at1`c8_at1_type(64),`c7_at1`c7_at1_typeNOTNULLPRIMARYKEY(`c7_at1`));CREATETABLE`class1_name`(`c1_at2`c1_at2_type`c5_at1`c5_at1_type`c1_at1`c1_at1_typeNOTNULLKEY`FK_class1_name_c5_at1_idx`(`c5_at1`),PRIMARYKEY(`c1_at1`));CREATETABLE`class10_name`(`c10_at1`c10_at1_type`c7_at1`c7_at1_typeNOTNULLPRIMARYKEY(`c7_at1`));CREATETABLE`class9_name`(`c9_at1`c9_at1_type`c7_at1`c7_at1_typeNOTNULLPRIMARYKEY(`c7_at1`));CREATETABLE`assoc1`(`c3_at1`c3_at1_typeNOTNULL`c2_at1`c2_at1_typeNOTNULLKEY`FK_assoc1_c3_at1_idx`(`c3_at1`),KEY`FK_assoc1_c2_at1_idx`(`c2_at1`),PRIMARYKEY(`c3_at1`,`c2_at1`));CREATETABLE`class4_name`(`c4_at2`c4_at2_type`c4_at1`c4_at1_typeNOTNULLPRIMARYKEY(`c4_at1`));CREATETABLE`class7_name`(`c7_at1`c7_at1_typeNOTNULLPRIMARYKEY(`c7_at1`));CREATETABLE`class6_name`(`c6_at2`c6_at2_type(64)`c6_at1`c6_at1_typeNOTNULLPRIMARYKEY(`c6_at1`));CREATETABLE`class3_name`(`c3_at2`c3_at2_type(64)`c3_at1`c3_at1_typeNOTNULLPRIMARYKEY(`c3_at1`));CREATETABLE`assoc3`(`c7_at1`c7_at1_typeNOTNULL`c6_at1`c6_at1_typeNOTNULLKEY`FK_assoc3_c7_at1_idx`(`c7_at1`),KEY`FK_assoc3_c6_at1_idx`(`c6_at1`),PRIMARYKEY(`c7_at1`,`c6_at1`));ALTERTABLE`assoc2`ADDCONSTRAINT`FK_assoc2_c7_at1`FOREIGNKEY(`c7_at1`)REFERENCES`class7_name`(`c7_at1`)ONDELETECASCADEONUPDATECASCADEADDCONSTRAINT`FK_assoc2_c4_at1`FOREIGNKEY(`c4_at1`)REFERENCES`class4_name`(`c4_at1`)ONDELETECASCADEONUPDATECASCADEALTERTABLE`class2_name`ADDCONSTRAINT`FK_class2_name_c5_at1`FOREIGNKEY(`c5_at1`)REFERENCES`class5_name`(`c5_at1`)ONDELETECASCADEONUPDATECASCADEALTERTABLE`class1_name`ADDCONSTRAINT`FK_class1_name_c5_at1`FOREIGNKEY(`c5_at1`)REFERENCES`class5_name`(`c5_at1`)ONDELETECASCADEONUPDATECASCADEALTERTABLE`assoc1`ADDCONSTRAINT`FK_assoc1_c3_at1`FOREIGNKEY(`c3_at1`)REFERENCES`class3_name`(`c3_at1`)ONDELETECASCADEONUPDATECASCADEADDCONSTRAINT`FK_assoc1_c3_at1`FOREIGNKEY(`c2_at1`)REFERENCES`class2_name`(`c2_at1`)ONDELETECASCADEONUPDATECASCADEALTERTABLE`assoc3`ADDCONSTRAINT`FK_assoc3_c7_at1`FOREIGNKEY(`c7_at1`)REFERENCES`class7_name`(`c7_at1`)ONDELETECASCADEONUPDATECASCADEADDCONSTRAINT`FK_assoc3_c6_at1`FOREIGNKEY(`c6_at1`)REFERENCES`class6_name`(`c6_at1`)ONDELETECASCADEONUPDATECASCADE,P                                                                                                                                                                                                                                                         1\n",
              "moduleOM_name:0openDeclarationonesigclass1_nameextendsClassattrSet=c1_at1+c1_at2id=c1_at1noparentisAbstract=No}onesigc1_at1extendsc1_at1_typeonesigc1_at2extendsc1_at2_typeonesigclass2_nameextendsClassattrSet=c2_at1+c2_at2id=c2_at1noparentisAbstract=No}onesigc2_at1extendsc2_at1_typeonesigc2_at2extendsc2_at2_typeonesigclass3_nameextendsClassattrSet=c3_at1+c3_at2id=c3_at1noparentisAbstract=No}onesigc3_at1extendsc3_at1_typeonesigc3_at2extendsc3_at2_typeonesigclass4_nameextendsClassattrSet=c4_at1+c4_at2+c4_at3+c4_at4id=c4_at1noparentisAbstract=No}onesigc4_at1extendsc4_at1_typeonesigc4_at2extendsc4_at2_typeonesigc4_at3extendsc4_at3_typeonesigc4_at4extendsc4_at4_typeonesigclass5_nameextendsClassattrSet=c5_at1+c5_at2oneparentparentinclass4_nameid=c4_at1isAbstract=No}onesigc5_at1extendsc5_at1_typeonesigc5_at2extendsc5_at2_typeonesigclass6_nameextendsClassattrSet=c6_at1+c6_at2+c6_at3id=c6_at1noparentisAbstract=No}onesigc6_at1extendsc6_at1_typeonesigc6_at2extendsc6_at2_typeonesigc6_at3extendsc6_at3_typeonesigassoc1extendsAssociationsrc=class6_namedst=class4_namesrc_multiplicity=src_mlpc2dst_multiplicity=dst_mlpc}onesigassoc2extendsAssociationsrc=class1_namedst=class5_namesrc_multiplicity=src_mlpcdst_multiplicity=dst_mlpc}onesigassoc3extendsAssociationsrc=class4_namedst=class1_namesrc_multiplicity=src_mlpcdst_multiplicity=dst_mlpc}onesigassoc4extendsAssociationsrc=class3_namedst=class1_namesrc_multiplicity=src_mlpcdst_multiplicity=dst_mlpc}predshowrunshowfor30​,MappingStrategyofTableclass4_name:map_str2MappingStrategyofTableclass5_name:map_str2MappingStrategyofTableclass7_name:map_str2MappingStrategyofTableclass8_name:map_str2MappingStrategyofTableclass10_name:map_str2MappingStrategyofTableclass9_name:map_str3AssociationStrategyforassoc4:assoc_type1AssociationStrategyforassoc4:assoc_type1AssociationStrategyforassoc1:assoc_type2AssociationStrategyforassoc2:assoc_type2AssociationStrategyforassoc3:assoc_type2,USEOM_name_0CREATETABLE`assoc2`(`c7_at1`c7_at1_typeNOTNULL`c4_at1`c4_at1_typeNOTNULLKEY`FK_assoc2_c7_at1_idx`(`c7_at1`)KEY`FK_assoc2_c4_at1_idx`(`c4_at1`)PRIMARYKEY(`c7_at1`,`c4_at1`));CREATETABLE`class2_name`(`c2_at2`c2_at2_type`c5_at1`c5_at1_type`c2_at1`c2_at1_typeNOTNULLKEY`FK_class2_name_c5_at1_idx`(`c5_at1`),PRIMARYKEY(`c2_at1`));CREATETABLE`class8_name`(`c8_at2`c8_at2_type(64),`c8_at1`c8_at1_type(64),`c7_at1`c7_at1_typeNOTNULLPRIMARYKEY(`c7_at1`));CREATETABLE`class1_name`(`c1_at2`c1_at2_type`c5_at1`c5_at1_type`c1_at1`c1_at1_typeNOTNULLKEY`FK_class1_name_c5_at1_idx`(`c5_at1`),PRIMARYKEY(`c1_at1`));CREATETABLE`class10_name`(`c10_at1`c10_at1_type`c7_at1`c7_at1_typeNOTNULLPRIMARYKEY(`c7_at1`));CREATETABLE`class9_name`(`c9_at1`c9_at1_type`c7_at1`c7_at1_typeNOTNULLKEY`FK_class9_name_c7_at1_idx`(`c7_at1`),PRIMARYKEY(`c7_at1`));CREATETABLE`assoc1`(`c3_at1`c3_at1_typeNOTNULL`c2_at1`c2_at1_typeNOTNULLKEY`FK_assoc1_c3_at1_idx`(`c3_at1`),KEY`FK_assoc1_c2_at1_idx`(`c2_at1`),PRIMARYKEY(`c3_at1`,`c2_at1`));CREATETABLE`class4_name`(`c4_at2`c4_at2_type`c4_at1`c4_at1_typeNOTNULLPRIMARYKEY(`c4_at1`));CREATETABLE`class7_name`(`c7_at1`c7_at1_typeNOTNULLPRIMARYKEY(`c7_at1`));CREATETABLE`class6_name`(`c6_at2`c6_at2_type(64)`c6_at1`c6_at1_typeNOTNULLPRIMARYKEY(`c6_at1`));CREATETABLE`class3_name`(`c3_at2`c3_at2_type(64)`c3_at1`c3_at1_typeNOTNULLPRIMARYKEY(`c3_at1`));CREATETABLE`assoc3`(`c7_at1`c7_at1_typeNOTNULL`c6_at1`c6_at1_typeNOTNULLKEY`FK_assoc3_c7_at1_idx`(`c7_at1`),KEY`FK_assoc3_c6_at1_idx`(`c6_at1`),PRIMARYKEY(`c7_at1`,`c6_at1`));ALTERTABLE`assoc2`ADDCONSTRAINT`FK_assoc2_c7_at1`FOREIGNKEY(`c7_at1`)REFERENCES`class7_name`(`c7_at1`)ONDELETECASCADEONUPDATECASCADEADDCONSTRAINT`FK_assoc2_c4_at1`FOREIGNKEY(`c4_at1`)REFERENCES`class4_name`(`c4_at1`)ONDELETECASCADEONUPDATECASCADEALTERTABLE`class2_name`ADDCONSTRAINT`FK_class2_name_c5_at1`FOREIGNKEY(`c5_at1`)REFERENCES`class5_name`(`c5_at1`)ONDELETECASCADEONUPDATECASCADEALTERTABLE`class1_name`ADDCONSTRAINT`FK_class1_name_c5_at1`FOREIGNKEY(`c5_at1`)REFERENCES`class5_name`(`c5_at1`)ONDELETECASCADEONUPDATECASCADEALTERTABLE`class9_name`ADDCONSTRAINT`FK_class9_name_c7_at1`FOREIGNKEY(`c7_at1`)REFERENCES`Participant`(`c7_at1`)ONDELETECASCADEONUPDATECASCADEALTERTABLE`assoc1`ADDCONSTRAINT`FK_assoc1_c3_at1`FOREIGNKEY(`c3_at1`)REFERENCES`class3_name`(`c3_at1`)ONDELETECASCADEONUPDATECASCADEADDCONSTRAINT`FK_assoc1_c3_at1`FOREIGNKEY(`c2_at1`)REFERENCES`class2_name`(`c2_at1`)ONDELETECASCADEONUPDATECASCADEALTERTABLE`assoc3`ADDCONSTRAINT`FK_assoc3_c7_at1`FOREIGNKEY(`c7_at1`)REFERENCES`class7_name`(`c7_at1`)ONDELETECASCADEONUPDATECASCADEADDCONSTRAINT`FK_assoc3_c6_at1`FOREIGNKEY(`c6_at1`)REFERENCES`class6_name`(`c6_at1`)ONDELETECASCADEONUPDATECASCADE,P                        1\n",
              "Name: OM_Regular, dtype: int64"
            ]
          },
          "metadata": {},
          "execution_count": 17
        }
      ]
    },
    {
      "cell_type": "code",
      "source": [
        "#y.value_counts().plot.pie(autopct='%.2f')\n"
      ],
      "metadata": {
        "id": "09g_Hjfkn7Fk"
      },
      "execution_count": 18,
      "outputs": []
    },
    {
      "cell_type": "code",
      "source": [
        "from imblearn.over_sampling import RandomOverSampler\n",
        "ros = RandomOverSampler(sampling_strategy=\"not majority\") # String\n",
        "X_res, y_res = ros.fit_resample(X, y)\n"
      ],
      "metadata": {
        "id": "B_2Y45wbn7Kj"
      },
      "execution_count": 19,
      "outputs": []
    },
    {
      "cell_type": "code",
      "source": [
        "y_res.value_counts()"
      ],
      "metadata": {
        "colab": {
          "base_uri": "https://localhost:8080/"
        },
        "id": "dvrgVs31opKJ",
        "outputId": "dd3a0d9d-ad87-4f4a-d626-67b85eb0deee"
      },
      "execution_count": 20,
      "outputs": [
        {
          "output_type": "execute_result",
          "data": {
            "text/plain": [
              "moduleOM_name:0openDeclarationonesigclass1_nameextendsClassattrSet=c1_at1+c1_at2id=c1_at1noparentisAbstract=No}onesigc1_at1extendsc1_at1_typeonesigc1_at2extendsc1_at2_typeonesigclass2_nameextendsClassattrSet=c2_at1+c2_at2id=c2_at1noparentisAbstract=No}onesigc2_at1extendsc2_at1_typeonesigc2_at2extendsc2_at2_typeonesigclass3_nameextendsClassattrSet=c3_at1+c3_at2id=c3_at1noparentisAbstract=No}onesigc3_at1extendsc3_at1_typeonesigc3_at2extendsc3_at2_typeonesigclass4_nameextendsClassattrSet=c4_at1+c4_at2+c4_at3+c4_at4id=c4_at1noparentisAbstract=No}onesigc4_at1extendsc4_at1_typeonesigc4_at2extendsc4_at2_typeonesigc4_at3extendsc4_at3_typeonesigc4_at4extendsc4_at4_typeonesigclass5_nameextendsClassattrSet=c5_at1+c5_at2oneparentparentinclass4_nameid=c4_at1isAbstract=No}onesigc5_at1extendsc5_at1_typeonesigc5_at2extendsc5_at2_typeonesigclass6_nameextendsClassattrSet=c6_at1+c6_at2+c6_at3id=c6_at1noparentisAbstract=No}onesigc6_at1extendsc6_at1_typeonesigc6_at2extendsc6_at2_typeonesigc6_at3extendsc6_at3_typeonesigassoc1extendsAssociationsrc=class6_namedst=class4_namesrc_multiplicity=src_mlpc2dst_multiplicity=dst_mlpc}onesigassoc2extendsAssociationsrc=class1_namedst=class5_namesrc_multiplicity=src_mlpcdst_multiplicity=dst_mlpc}onesigassoc3extendsAssociationsrc=class4_namedst=class1_namesrc_multiplicity=src_mlpcdst_multiplicity=dst_mlpc}onesigassoc4extendsAssociationsrc=class3_namedst=class1_namesrc_multiplicity=src_mlpcdst_multiplicity=dst_mlpc}predshowrunshowfor30​,MappingStrategyofTableclass4_name:map_str2MappingStrategyofTableclass5_name:map_str2MappingStrategyofTableclass7_name:map_str1MappingStrategyofTableclass8_name:map_str1MappingStrategyofTableclass10_name:map_str1AssociationStrategyforassoc1:assoc_type1AssociationStrategyforassoc4:assoc_type1AssociationStrategyforassoc4:assoc_type1AssociationStrategyforassoc2:assoc_type2AssociationStrategyforassoc3:assoc_type2,USEOM_name_0CREATETABLE`assoc2`(`c7_at1`c7_at1_typeNOTNULL`c4_at1`c4_at1_typeNOTNULLKEY`FK_assoc2_c7_at1_idx`(`c7_at1`)KEY`FK_assoc2_c4_at1_idx`(`c4_at1`)PRIMARYKEY(`c7_at1`,`c4_at1`));CREATETABLE`class2_name`(`c2_at2`c2_at2_type`c5_at1`c5_at1_type`c2_at1`c2_at1_typeNOTNULLKEY`FK_class2_name_c5_at1_idx`(`c5_at1`),PRIMARYKEY(`c2_at1`));CREATETABLE`class1_name`(`c1_at2`c1_at2_type`c5_at1`c5_at1_type`c1_at1`c1_at1_typeNOTNULLKEY`FK_class1_name_c5_at1_idx`(`c5_at1`),PRIMARYKEY(`c1_at1`));CREATETABLE`class4_name`(`c4_at2`c4_at2_type`c4_at1`c4_at1_typeNOTNULLPRIMARYKEY(`c4_at1`));CREATETABLE`class7_name`(`c7_at2`c7_at2_type(64)`c8_at2`c8_at2_type(64),`c8_at1`c8_at1_type(64),`c10_at1`c10_at1_type`c9_at1`c9_at1_type`c7_at1`c7_at1_typeNOTNULLPRIMARYKEY(`c7_at1`));CREATETABLE`class6_name`(`c6_at2`c6_at2_type(64)`c6_at1`c6_at1_typeNOTNULLPRIMARYKEY(`c6_at1`));CREATETABLE`class3_name`(`c3_at2`c3_at2_type(64)`c3_at1`c3_at1_typeNOTNULL`c2_at1`c2_at1_typeKEY`FK_class3_name_c2_at1_idx`(`c2_at1`)PRIMARYKEY(`c3_at1`));CREATETABLE`assoc3`(`c7_at1`c7_at1_typeNOTNULL`c6_at1`c6_at1_typeNOTNULLKEY`FK_assoc3_c7_at1_idx`(`c7_at1`),KEY`FK_assoc3_c6_at1_idx`(`c6_at1`),PRIMARYKEY(`c7_at1`,`c6_at1`));ALTERTABLE`assoc2`ADDCONSTRAINT`FK_assoc2_c7_at1`FOREIGNKEY(`c7_at1`)REFERENCES`class7_name`(`c7_at1`)ONDELETECASCADEONUPDATECASCADEADDCONSTRAINT`FK_assoc2_c4_at1`FOREIGNKEY(`c4_at1`)REFERENCES`class4_name`(`c4_at1`)ONDELETECASCADEONUPDATECASCADEALTERTABLE`class2_name`ADDCONSTRAINT`FK_class2_name_c5_at1`FOREIGNKEY(`c5_at1`)REFERENCES`class5_name`(`c5_at1`)ONDELETECASCADEONUPDATECASCADEALTERTABLE`class1_name`ADDCONSTRAINT`FK_class1_name_c5_at1`FOREIGNKEY(`c5_at1`)REFERENCES`class5_name`(`c5_at1`)ONDELETECASCADEONUPDATECASCADEALTERTABLE`class3_name`ADDCONSTRAINT`FK_class3_name_c2_at1`FOREIGNKEY(`c2_at1`)REFERENCES`class2_name`(`c2_at1`)ONDELETECASCADEONUPDATECASCADEALTERTABLE`assoc3`ADDCONSTRAINT`FK_assoc3_c7_at1`FOREIGNKEY(`c7_at1`)REFERENCES`class7_name`(`c7_at1`)ONDELETECASCADEONUPDATECASCADEADDCONSTRAINT`FK_assoc3_c6_at1`FOREIGNKEY(`c6_at1`)REFERENCES`class6_name`(`c6_at1`)ONDELETECASCADEONUPDATECASCADE,P                                                                                                                                                                                                                                                                                                                                                                                                                                                                                                                                                                                                                                                                                          4\n",
              "moduleOM_name:0openDeclarationonesigclass1_nameextendsClassattrSet=c1_at1+c1_at2id=c1_at1noparentisAbstract=No}onesigc1_at1extendsc1_at1_typeonesigc1_at2extendsc1_at2_typeonesigclass2_nameextendsClassattrSet=c2_at1+c2_at2id=c2_at1noparentisAbstract=No}onesigc2_at1extendsc2_at1_typeonesigc2_at2extendsc2_at2_typeonesigclass3_nameextendsClassattrSet=c3_at1+c3_at2id=c3_at1noparentisAbstract=No}onesigc3_at1extendsc3_at1_typeonesigc3_at2extendsc3_at2_typeonesigclass4_nameextendsClassattrSet=c4_at1+c4_at2+c4_at3+c4_at4id=c4_at1noparentisAbstract=No}onesigc4_at1extendsc4_at1_typeonesigc4_at2extendsc4_at2_typeonesigc4_at3extendsc4_at3_typeonesigc4_at4extendsc4_at4_typeonesigclass5_nameextendsClassattrSet=c5_at1+c5_at2oneparentparentinclass4_nameid=c4_at1isAbstract=No}onesigc5_at1extendsc5_at1_typeonesigc5_at2extendsc5_at2_typeonesigclass6_nameextendsClassattrSet=c6_at1+c6_at2+c6_at3id=c6_at1noparentisAbstract=No}onesigc6_at1extendsc6_at1_typeonesigc6_at2extendsc6_at2_typeonesigc6_at3extendsc6_at3_typeonesigassoc1extendsAssociationsrc=class6_namedst=class4_namesrc_multiplicity=src_mlpc2dst_multiplicity=dst_mlpc}onesigassoc2extendsAssociationsrc=class1_namedst=class5_namesrc_multiplicity=src_mlpcdst_multiplicity=dst_mlpc}onesigassoc3extendsAssociationsrc=class4_namedst=class1_namesrc_multiplicity=src_mlpcdst_multiplicity=dst_mlpc}onesigassoc4extendsAssociationsrc=class3_namedst=class1_namesrc_multiplicity=src_mlpcdst_multiplicity=dst_mlpc}predshowrunshowfor30​,MappingStrategyofTableclass4_name:map_str2MappingStrategyofTableclass5_name:map_str2MappingStrategyofTableclass7_name:map_str1MappingStrategyofTableclass8_name:map_str1MappingStrategyofTableclass10_name:map_str1AssociationStrategyforassoc4:assoc_type1AssociationStrategyforassoc1:assoc_type2AssociationStrategyforassoc2:assoc_type2AssociationStrategyforassoc3:assoc_type2AssociationStrategyforassoc4:assoc_type2,USEOM_name_0CREATETABLE`assoc2`(`c7_at1`c7_at1_typeNOTNULL`c4_at1`c4_at1_typeNOTNULLKEY`FK_assoc2_c7_at1_idx`(`c7_at1`)KEY`FK_assoc2_c4_at1_idx`(`c4_at1`)PRIMARYKEY(`c7_at1`,`c4_at1`));CREATETABLE`class2_name`(`c2_at2`c2_at2_type`c2_at1`c2_at1_typeNOTNULLPRIMARYKEY(`c2_at1`));CREATETABLE`class1_name`(`c1_at2`c1_at2_type`c5_at1`c5_at1_type`c1_at1`c1_at1_typeNOTNULLKEY`FK_class1_name_c5_at1_idx`(`c5_at1`),PRIMARYKEY(`c1_at1`));CREATETABLE`assoc1`(`c3_at1`c3_at1_typeNOTNULL`c2_at1`c2_at1_typeNOTNULLKEY`FK_assoc1_c3_at1_idx`(`c3_at1`),KEY`FK_assoc1_c2_at1_idx`(`c2_at1`),PRIMARYKEY(`c3_at1`,`c2_at1`));CREATETABLE`class4_name`(`c4_at2`c4_at2_type`c4_at1`c4_at1_typeNOTNULLPRIMARYKEY(`c4_at1`));CREATETABLE`class7_name`(`c7_at2`c7_at2_type(64)`c8_at2`c8_at2_type(64),`c8_at1`c8_at1_type(64),`c10_at1`c10_at1_type`c9_at1`c9_at1_type`c7_at1`c7_at1_typeNOTNULLPRIMARYKEY(`c7_at1`));CREATETABLE`class6_name`(`c6_at2`c6_at2_type(64)`c6_at1`c6_at1_typeNOTNULLPRIMARYKEY(`c6_at1`));CREATETABLE`class3_name`(`c3_at2`c3_at2_type(64)`c3_at1`c3_at1_typeNOTNULLPRIMARYKEY(`c3_at1`));CREATETABLE`assoc4`(`c6_at1`c6_at1_typeNOTNULL`c2_at1`c2_at1_typeNOTNULLKEY`FK_assoc4_c6_at1_idx`(`c6_at1`)KEY`FK_assoc4_c2_at1_idx`(`c2_at1`)PRIMARYKEY(`c6_at1`,`c2_at1`));CREATETABLE`assoc3`(`c7_at1`c7_at1_typeNOTNULL`c6_at1`c6_at1_typeNOTNULLKEY`FK_assoc3_c7_at1_idx`(`c7_at1`),KEY`FK_assoc3_c6_at1_idx`(`c6_at1`),PRIMARYKEY(`c7_at1`,`c6_at1`));ALTERTABLE`assoc2`ADDCONSTRAINT`FK_assoc2_c7_at1`FOREIGNKEY(`c7_at1`)REFERENCES`class7_name`(`c7_at1`)ONDELETECASCADEONUPDATECASCADEADDCONSTRAINT`FK_assoc2_c4_at1`FOREIGNKEY(`c4_at1`)REFERENCES`class4_name`(`c4_at1`)ONDELETECASCADEONUPDATECASCADEALTERTABLE`class1_name`ADDCONSTRAINT`FK_class1_name_c5_at1`FOREIGNKEY(`c5_at1`)REFERENCES`class5_name`(`c5_at1`)ONDELETECASCADEONUPDATECASCADEALTERTABLE`assoc1`ADDCONSTRAINT`FK_assoc1_c3_at1`FOREIGNKEY(`c3_at1`)REFERENCES`class3_name`(`c3_at1`)ONDELETECASCADEONUPDATECASCADEADDCONSTRAINT`FK_assoc1_c3_at1`FOREIGNKEY(`c2_at1`)REFERENCES`class2_name`(`c2_at1`)ONDELETECASCADEONUPDATECASCADEALTERTABLE`assoc4`ADDCONSTRAINT`FK_assoc4_c6_at1`FOREIGNKEY(`c6_at1`)REFERENCES`class6_name`(`c6_at1`)ONDELETECASCADEONUPDATECASCADEADDCONSTRAINT`FK_assoc4_c2_at1`FOREIGNKEY(`c2_at1`)REFERENCES`class2_name`(`c2_at1`)ONDELETECASCADEONUPDATECASCADEALTERTABLE`assoc3`ADDCONSTRAINT`FK_assoc3_c7_at1`FOREIGNKEY(`c7_at1`)REFERENCES`class7_name`(`c7_at1`)ONDELETECASCADEONUPDATECASCADEADDCONSTRAINT`FK_assoc3_c6_at1`FOREIGNKEY(`c6_at1`)REFERENCES`class6_name`(`c6_at1`)ONDELETECASCADEONUPDATECASCADE,NP                                                                                                                                                                                                                                    4\n",
              "moduleOM_name:0openDeclarationonesigclass1_nameextendsClassattrSet=c1_at1+c1_at2id=c1_at1noparentisAbstract=No}onesigc1_at1extendsc1_at1_typeonesigc1_at2extendsc1_at2_typeonesigclass2_nameextendsClassattrSet=c2_at1+c2_at2id=c2_at1noparentisAbstract=No}onesigc2_at1extendsc2_at1_typeonesigc2_at2extendsc2_at2_typeonesigclass3_nameextendsClassattrSet=c3_at1+c3_at2id=c3_at1noparentisAbstract=No}onesigc3_at1extendsc3_at1_typeonesigc3_at2extendsc3_at2_typeonesigclass4_nameextendsClassattrSet=c4_at1+c4_at2+c4_at3+c4_at4id=c4_at1noparentisAbstract=No}onesigc4_at1extendsc4_at1_typeonesigc4_at2extendsc4_at2_typeonesigc4_at3extendsc4_at3_typeonesigc4_at4extendsc4_at4_typeonesigclass5_nameextendsClassattrSet=c5_at1+c5_at2oneparentparentinclass4_nameid=c4_at1isAbstract=No}onesigc5_at1extendsc5_at1_typeonesigc5_at2extendsc5_at2_typeonesigclass6_nameextendsClassattrSet=c6_at1+c6_at2+c6_at3id=c6_at1noparentisAbstract=No}onesigc6_at1extendsc6_at1_typeonesigc6_at2extendsc6_at2_typeonesigc6_at3extendsc6_at3_typeonesigassoc1extendsAssociationsrc=class6_namedst=class4_namesrc_multiplicity=src_mlpc2dst_multiplicity=dst_mlpc}onesigassoc2extendsAssociationsrc=class1_namedst=class5_namesrc_multiplicity=src_mlpcdst_multiplicity=dst_mlpc}onesigassoc3extendsAssociationsrc=class4_namedst=class1_namesrc_multiplicity=src_mlpcdst_multiplicity=dst_mlpc}onesigassoc4extendsAssociationsrc=class3_namedst=class1_namesrc_multiplicity=src_mlpcdst_multiplicity=dst_mlpc}predshowrunshowfor30​,MappingStrategyofTableclass4_name:map_str2MappingStrategyofTableclass5_name:map_str2MappingStrategyofTableclass7_name:map_str1MappingStrategyofTableclass8_name:map_str1MappingStrategyofTableclass10_name:map_str1AssociationStrategyforassoc1:assoc_type2AssociationStrategyforassoc2:assoc_type2AssociationStrategyforassoc3:assoc_type2AssociationStrategyforassoc4:assoc_type2AssociationStrategyforassoc4:assoc_type2,USEOM_name_0CREATETABLE`assoc2`(`c7_at1`c7_at1_typeNOTNULL`c4_at1`c4_at1_typeNOTNULLKEY`FK_assoc2_c7_at1_idx`(`c7_at1`)KEY`FK_assoc2_c4_at1_idx`(`c4_at1`)PRIMARYKEY(`c7_at1`,`c4_at1`));CREATETABLE`class2_name`(`c2_at2`c2_at2_type`c2_at1`c2_at1_typeNOTNULLPRIMARYKEY(`c2_at1`));CREATETABLE`assoc5`(`c6_at1`c6_at1_typeNOTNULL`c1_at1`c1_at1_typeNOTNULLKEY`FK_assoc5_c6_at1_idx`(`c6_at1`),KEY`FK_assoc5_c1_at1_idx`(`c1_at1`),PRIMARYKEY(`c5_at1`,`c1_at1`));CREATETABLE`class1_name`(`c1_at2`c1_at2_type`c1_at1`c1_at1_typeNOTNULLPRIMARYKEY(`c1_at1`));CREATETABLE`assoc1`(`c3_at1`c3_at1_typeNOTNULL`c2_at1`c2_at1_typeNOTNULLKEY`FK_assoc1_c3_at1_idx`(`c3_at1`),KEY`FK_assoc1_c2_at1_idx`(`c2_at1`),PRIMARYKEY(`c3_at1`,`c2_at1`));CREATETABLE`class4_name`(`c4_at2`c4_at2_type`c4_at1`c4_at1_typeNOTNULLPRIMARYKEY(`c4_at1`));CREATETABLE`class7_name`(`c7_at2`c7_at2_type(64)`c8_at2`c8_at2_type(64),`c8_at1`c8_at1_type(64),`c10_at1`c10_at1_type`c9_at1`c9_at1_type`c7_at1`c7_at1_typeNOTNULLPRIMARYKEY(`c7_at1`));CREATETABLE`class6_name`(`c6_at2`c6_at2_type(64)`c6_at1`c6_at1_typeNOTNULLPRIMARYKEY(`c6_at1`));CREATETABLE`class3_name`(`c3_at2`c3_at2_type(64)`c3_at1`c3_at1_typeNOTNULLPRIMARYKEY(`c3_at1`));CREATETABLE`assoc4`(`c6_at1`c6_at1_typeNOTNULL`c2_at1`c2_at1_typeNOTNULLKEY`FK_assoc4_c6_at1_idx`(`c6_at1`)KEY`FK_assoc4_c2_at1_idx`(`c2_at1`)PRIMARYKEY(`c6_at1`,`c2_at1`));CREATETABLE`assoc3`(`c7_at1`c7_at1_typeNOTNULL`c6_at1`c6_at1_typeNOTNULLKEY`FK_assoc3_c7_at1_idx`(`c7_at1`),KEY`FK_assoc3_c6_at1_idx`(`c6_at1`),PRIMARYKEY(`c7_at1`,`c6_at1`));ALTERTABLE`assoc2`ADDCONSTRAINT`FK_assoc2_c7_at1`FOREIGNKEY(`c7_at1`)REFERENCES`class7_name`(`c7_at1`)ONDELETECASCADEONUPDATECASCADEADDCONSTRAINT`FK_assoc2_c4_at1`FOREIGNKEY(`c4_at1`)REFERENCES`class4_name`(`c4_at1`)ONDELETECASCADEONUPDATECASCADEALTERTABLE`class10_name`ADDCONSTRAINT`FK_assoc5_c6_at1`FOREIGNKEY(`c6_at1`)REFERENCES`class6_name`(`c6_at1`)ONDELETECASCADEONUPDATECASCADEADDCONSTRAINT`FK_assoc5_c6_at1`FOREIGNKEY(`c1_at1`)REFERENCES`class1_name`(`c1_at1`)ONDELETECASCADEONUPDATECASCADEALTERTABLE`assoc1`ADDCONSTRAINT`FK_assoc1_c3_at1`FOREIGNKEY(`c3_at1`)REFERENCES`class3_name`(`c3_at1`)ONDELETECASCADEONUPDATECASCADEADDCONSTRAINT`FK_assoc1_c3_at1`FOREIGNKEY(`c2_at1`)REFERENCES`class2_name`(`c2_at1`)ONDELETECASCADEONUPDATECASCADEALTERTABLE`assoc4`ADDCONSTRAINT`FK_assoc4_c6_at1`FOREIGNKEY(`c6_at1`)REFERENCES`class6_name`(`c6_at1`)ONDELETECASCADEONUPDATECASCADEADDCONSTRAINT`FK_assoc4_c2_at1`FOREIGNKEY(`c2_at1`)REFERENCES`class2_name`(`c2_at1`)ONDELETECASCADEONUPDATECASCADEALTERTABLE`assoc3`ADDCONSTRAINT`FK_assoc3_c7_at1`FOREIGNKEY(`c7_at1`)REFERENCES`class7_name`(`c7_at1`)ONDELETECASCADEONUPDATECASCADEADDCONSTRAINT`FK_assoc3_c6_at1`FOREIGNKEY(`c6_at1`)REFERENCES`class6_name`(`c6_at1`)ONDELETECASCADEONUPDATECASCADE,P    4\n",
              "moduleOM_name:0openDeclarationonesigclass1_nameextendsClassattrSet=c1_at1+c1_at2id=c1_at1noparentisAbstract=No}onesigc1_at1extendsc1_at1_typeonesigc1_at2extendsc1_at2_typeonesigclass2_nameextendsClassattrSet=c2_at1+c2_at2id=c2_at1noparentisAbstract=No}onesigc2_at1extendsc2_at1_typeonesigc2_at2extendsc2_at2_typeonesigclass3_nameextendsClassattrSet=c3_at1+c3_at2id=c3_at1noparentisAbstract=No}onesigc3_at1extendsc3_at1_typeonesigc3_at2extendsc3_at2_typeonesigclass4_nameextendsClassattrSet=c4_at1+c4_at2+c4_at3+c4_at4id=c4_at1noparentisAbstract=No}onesigc4_at1extendsc4_at1_typeonesigc4_at2extendsc4_at2_typeonesigc4_at3extendsc4_at3_typeonesigc4_at4extendsc4_at4_typeonesigclass5_nameextendsClassattrSet=c5_at1+c5_at2oneparentparentinclass4_nameid=c4_at1isAbstract=No}onesigc5_at1extendsc5_at1_typeonesigc5_at2extendsc5_at2_typeonesigclass6_nameextendsClassattrSet=c6_at1+c6_at2+c6_at3id=c6_at1noparentisAbstract=No}onesigc6_at1extendsc6_at1_typeonesigc6_at2extendsc6_at2_typeonesigc6_at3extendsc6_at3_typeonesigassoc1extendsAssociationsrc=class6_namedst=class4_namesrc_multiplicity=src_mlpc2dst_multiplicity=dst_mlpc}onesigassoc2extendsAssociationsrc=class1_namedst=class5_namesrc_multiplicity=src_mlpcdst_multiplicity=dst_mlpc}onesigassoc3extendsAssociationsrc=class4_namedst=class1_namesrc_multiplicity=src_mlpcdst_multiplicity=dst_mlpc}onesigassoc4extendsAssociationsrc=class3_namedst=class1_namesrc_multiplicity=src_mlpcdst_multiplicity=dst_mlpc}predshowrunshowfor30​,MappingStrategyofTableclass4_name:map_str2MappingStrategyofTableclass5_name:map_str2MappingStrategyofTableclass7_name:map_str2MappingStrategyofTableclass8_name:map_str2MappingStrategyofTableclass10_name:map_str2AssociationStrategyforassoc4:assoc_type1AssociationStrategyforassoc4:assoc_type1AssociationStrategyforassoc1:assoc_type2AssociationStrategyforassoc2:assoc_type2AssociationStrategyforassoc3:assoc_type2,USEOM_name_0CREATETABLE`assoc2`(`c7_at1`c7_at1_typeNOTNULL`c4_at1`c4_at1_typeNOTNULLKEY`FK_assoc2_c7_at1_idx`(`c7_at1`)KEY`FK_assoc2_c4_at1_idx`(`c4_at1`)PRIMARYKEY(`c7_at1`,`c4_at1`));CREATETABLE`class2_name`(`c2_at2`c2_at2_type`c5_at1`c5_at1_type`c2_at1`c2_at1_typeNOTNULLKEY`FK_class2_name_c5_at1_idx`(`c5_at1`),PRIMARYKEY(`c2_at1`));CREATETABLE`class8_name`(`c8_at2`c8_at2_type(64),`c8_at1`c8_at1_type(64),`c7_at1`c7_at1_typeNOTNULLPRIMARYKEY(`c7_at1`));CREATETABLE`class1_name`(`c1_at2`c1_at2_type`c5_at1`c5_at1_type`c1_at1`c1_at1_typeNOTNULLKEY`FK_class1_name_c5_at1_idx`(`c5_at1`),PRIMARYKEY(`c1_at1`));CREATETABLE`class10_name`(`c10_at1`c10_at1_type`c7_at1`c7_at1_typeNOTNULLPRIMARYKEY(`c7_at1`));CREATETABLE`class9_name`(`c9_at1`c9_at1_type`c7_at1`c7_at1_typeNOTNULLPRIMARYKEY(`c7_at1`));CREATETABLE`assoc1`(`c3_at1`c3_at1_typeNOTNULL`c2_at1`c2_at1_typeNOTNULLKEY`FK_assoc1_c3_at1_idx`(`c3_at1`),KEY`FK_assoc1_c2_at1_idx`(`c2_at1`),PRIMARYKEY(`c3_at1`,`c2_at1`));CREATETABLE`class4_name`(`c4_at2`c4_at2_type`c4_at1`c4_at1_typeNOTNULLPRIMARYKEY(`c4_at1`));CREATETABLE`class7_name`(`c7_at1`c7_at1_typeNOTNULLPRIMARYKEY(`c7_at1`));CREATETABLE`class6_name`(`c6_at2`c6_at2_type(64)`c6_at1`c6_at1_typeNOTNULLPRIMARYKEY(`c6_at1`));CREATETABLE`class3_name`(`c3_at2`c3_at2_type(64)`c3_at1`c3_at1_typeNOTNULLPRIMARYKEY(`c3_at1`));CREATETABLE`assoc3`(`c7_at1`c7_at1_typeNOTNULL`c6_at1`c6_at1_typeNOTNULLKEY`FK_assoc3_c7_at1_idx`(`c7_at1`),KEY`FK_assoc3_c6_at1_idx`(`c6_at1`),PRIMARYKEY(`c7_at1`,`c6_at1`));ALTERTABLE`assoc2`ADDCONSTRAINT`FK_assoc2_c7_at1`FOREIGNKEY(`c7_at1`)REFERENCES`class7_name`(`c7_at1`)ONDELETECASCADEONUPDATECASCADEADDCONSTRAINT`FK_assoc2_c4_at1`FOREIGNKEY(`c4_at1`)REFERENCES`class4_name`(`c4_at1`)ONDELETECASCADEONUPDATECASCADEALTERTABLE`class2_name`ADDCONSTRAINT`FK_class2_name_c5_at1`FOREIGNKEY(`c5_at1`)REFERENCES`class5_name`(`c5_at1`)ONDELETECASCADEONUPDATECASCADEALTERTABLE`class1_name`ADDCONSTRAINT`FK_class1_name_c5_at1`FOREIGNKEY(`c5_at1`)REFERENCES`class5_name`(`c5_at1`)ONDELETECASCADEONUPDATECASCADEALTERTABLE`assoc1`ADDCONSTRAINT`FK_assoc1_c3_at1`FOREIGNKEY(`c3_at1`)REFERENCES`class3_name`(`c3_at1`)ONDELETECASCADEONUPDATECASCADEADDCONSTRAINT`FK_assoc1_c3_at1`FOREIGNKEY(`c2_at1`)REFERENCES`class2_name`(`c2_at1`)ONDELETECASCADEONUPDATECASCADEALTERTABLE`assoc3`ADDCONSTRAINT`FK_assoc3_c7_at1`FOREIGNKEY(`c7_at1`)REFERENCES`class7_name`(`c7_at1`)ONDELETECASCADEONUPDATECASCADEADDCONSTRAINT`FK_assoc3_c6_at1`FOREIGNKEY(`c6_at1`)REFERENCES`class6_name`(`c6_at1`)ONDELETECASCADEONUPDATECASCADE,P                                                                                                                                                                                                                                                         4\n",
              "moduleOM_name:0openDeclarationonesigclass1_nameextendsClassattrSet=c1_at1+c1_at2id=c1_at1noparentisAbstract=No}onesigc1_at1extendsc1_at1_typeonesigc1_at2extendsc1_at2_typeonesigclass2_nameextendsClassattrSet=c2_at1+c2_at2id=c2_at1noparentisAbstract=No}onesigc2_at1extendsc2_at1_typeonesigc2_at2extendsc2_at2_typeonesigclass3_nameextendsClassattrSet=c3_at1+c3_at2id=c3_at1noparentisAbstract=No}onesigc3_at1extendsc3_at1_typeonesigc3_at2extendsc3_at2_typeonesigclass4_nameextendsClassattrSet=c4_at1+c4_at2+c4_at3+c4_at4id=c4_at1noparentisAbstract=No}onesigc4_at1extendsc4_at1_typeonesigc4_at2extendsc4_at2_typeonesigc4_at3extendsc4_at3_typeonesigc4_at4extendsc4_at4_typeonesigclass5_nameextendsClassattrSet=c5_at1+c5_at2oneparentparentinclass4_nameid=c4_at1isAbstract=No}onesigc5_at1extendsc5_at1_typeonesigc5_at2extendsc5_at2_typeonesigclass6_nameextendsClassattrSet=c6_at1+c6_at2+c6_at3id=c6_at1noparentisAbstract=No}onesigc6_at1extendsc6_at1_typeonesigc6_at2extendsc6_at2_typeonesigc6_at3extendsc6_at3_typeonesigassoc1extendsAssociationsrc=class6_namedst=class4_namesrc_multiplicity=src_mlpc2dst_multiplicity=dst_mlpc}onesigassoc2extendsAssociationsrc=class1_namedst=class5_namesrc_multiplicity=src_mlpcdst_multiplicity=dst_mlpc}onesigassoc3extendsAssociationsrc=class4_namedst=class1_namesrc_multiplicity=src_mlpcdst_multiplicity=dst_mlpc}onesigassoc4extendsAssociationsrc=class3_namedst=class1_namesrc_multiplicity=src_mlpcdst_multiplicity=dst_mlpc}predshowrunshowfor30​,MappingStrategyofTableclass4_name:map_str2MappingStrategyofTableclass5_name:map_str2MappingStrategyofTableclass7_name:map_str2MappingStrategyofTableclass8_name:map_str2MappingStrategyofTableclass10_name:map_str2MappingStrategyofTableclass9_name:map_str3AssociationStrategyforassoc4:assoc_type1AssociationStrategyforassoc4:assoc_type1AssociationStrategyforassoc1:assoc_type2AssociationStrategyforassoc2:assoc_type2AssociationStrategyforassoc3:assoc_type2,USEOM_name_0CREATETABLE`assoc2`(`c7_at1`c7_at1_typeNOTNULL`c4_at1`c4_at1_typeNOTNULLKEY`FK_assoc2_c7_at1_idx`(`c7_at1`)KEY`FK_assoc2_c4_at1_idx`(`c4_at1`)PRIMARYKEY(`c7_at1`,`c4_at1`));CREATETABLE`class2_name`(`c2_at2`c2_at2_type`c5_at1`c5_at1_type`c2_at1`c2_at1_typeNOTNULLKEY`FK_class2_name_c5_at1_idx`(`c5_at1`),PRIMARYKEY(`c2_at1`));CREATETABLE`class8_name`(`c8_at2`c8_at2_type(64),`c8_at1`c8_at1_type(64),`c7_at1`c7_at1_typeNOTNULLPRIMARYKEY(`c7_at1`));CREATETABLE`class1_name`(`c1_at2`c1_at2_type`c5_at1`c5_at1_type`c1_at1`c1_at1_typeNOTNULLKEY`FK_class1_name_c5_at1_idx`(`c5_at1`),PRIMARYKEY(`c1_at1`));CREATETABLE`class10_name`(`c10_at1`c10_at1_type`c7_at1`c7_at1_typeNOTNULLPRIMARYKEY(`c7_at1`));CREATETABLE`class9_name`(`c9_at1`c9_at1_type`c7_at1`c7_at1_typeNOTNULLKEY`FK_class9_name_c7_at1_idx`(`c7_at1`),PRIMARYKEY(`c7_at1`));CREATETABLE`assoc1`(`c3_at1`c3_at1_typeNOTNULL`c2_at1`c2_at1_typeNOTNULLKEY`FK_assoc1_c3_at1_idx`(`c3_at1`),KEY`FK_assoc1_c2_at1_idx`(`c2_at1`),PRIMARYKEY(`c3_at1`,`c2_at1`));CREATETABLE`class4_name`(`c4_at2`c4_at2_type`c4_at1`c4_at1_typeNOTNULLPRIMARYKEY(`c4_at1`));CREATETABLE`class7_name`(`c7_at1`c7_at1_typeNOTNULLPRIMARYKEY(`c7_at1`));CREATETABLE`class6_name`(`c6_at2`c6_at2_type(64)`c6_at1`c6_at1_typeNOTNULLPRIMARYKEY(`c6_at1`));CREATETABLE`class3_name`(`c3_at2`c3_at2_type(64)`c3_at1`c3_at1_typeNOTNULLPRIMARYKEY(`c3_at1`));CREATETABLE`assoc3`(`c7_at1`c7_at1_typeNOTNULL`c6_at1`c6_at1_typeNOTNULLKEY`FK_assoc3_c7_at1_idx`(`c7_at1`),KEY`FK_assoc3_c6_at1_idx`(`c6_at1`),PRIMARYKEY(`c7_at1`,`c6_at1`));ALTERTABLE`assoc2`ADDCONSTRAINT`FK_assoc2_c7_at1`FOREIGNKEY(`c7_at1`)REFERENCES`class7_name`(`c7_at1`)ONDELETECASCADEONUPDATECASCADEADDCONSTRAINT`FK_assoc2_c4_at1`FOREIGNKEY(`c4_at1`)REFERENCES`class4_name`(`c4_at1`)ONDELETECASCADEONUPDATECASCADEALTERTABLE`class2_name`ADDCONSTRAINT`FK_class2_name_c5_at1`FOREIGNKEY(`c5_at1`)REFERENCES`class5_name`(`c5_at1`)ONDELETECASCADEONUPDATECASCADEALTERTABLE`class1_name`ADDCONSTRAINT`FK_class1_name_c5_at1`FOREIGNKEY(`c5_at1`)REFERENCES`class5_name`(`c5_at1`)ONDELETECASCADEONUPDATECASCADEALTERTABLE`class9_name`ADDCONSTRAINT`FK_class9_name_c7_at1`FOREIGNKEY(`c7_at1`)REFERENCES`Participant`(`c7_at1`)ONDELETECASCADEONUPDATECASCADEALTERTABLE`assoc1`ADDCONSTRAINT`FK_assoc1_c3_at1`FOREIGNKEY(`c3_at1`)REFERENCES`class3_name`(`c3_at1`)ONDELETECASCADEONUPDATECASCADEADDCONSTRAINT`FK_assoc1_c3_at1`FOREIGNKEY(`c2_at1`)REFERENCES`class2_name`(`c2_at1`)ONDELETECASCADEONUPDATECASCADEALTERTABLE`assoc3`ADDCONSTRAINT`FK_assoc3_c7_at1`FOREIGNKEY(`c7_at1`)REFERENCES`class7_name`(`c7_at1`)ONDELETECASCADEONUPDATECASCADEADDCONSTRAINT`FK_assoc3_c6_at1`FOREIGNKEY(`c6_at1`)REFERENCES`class6_name`(`c6_at1`)ONDELETECASCADEONUPDATECASCADE,P                        4\n",
              "Name: OM_Regular, dtype: int64"
            ]
          },
          "metadata": {},
          "execution_count": 20
        }
      ]
    },
    {
      "cell_type": "code",
      "source": [
        "#y_res.value_counts().plot.pie(autopct='%.2f')\n"
      ],
      "metadata": {
        "id": "yxwAEtRnLZ-0"
      },
      "execution_count": null,
      "outputs": []
    },
    {
      "cell_type": "code",
      "source": [
        "y_res.tail()\n"
      ],
      "metadata": {
        "colab": {
          "base_uri": "https://localhost:8080/"
        },
        "id": "FXP8RzqYtpMk",
        "outputId": "9f4e9408-31de-418c-eb27-2fa867723260"
      },
      "execution_count": 21,
      "outputs": [
        {
          "output_type": "execute_result",
          "data": {
            "text/plain": [
              "15    moduleOM_name:0openDeclarationonesigclass1_nam...\n",
              "16    moduleOM_name:0openDeclarationonesigclass1_nam...\n",
              "17    moduleOM_name:0openDeclarationonesigclass1_nam...\n",
              "18    moduleOM_name:0openDeclarationonesigclass1_nam...\n",
              "19    moduleOM_name:0openDeclarationonesigclass1_nam...\n",
              "Name: OM_Regular, dtype: object"
            ]
          },
          "metadata": {},
          "execution_count": 21
        }
      ]
    },
    {
      "cell_type": "code",
      "source": [
        "y_res.to_csv('decider_oversample_30.csv')"
      ],
      "metadata": {
        "id": "LMldxks5yc6W"
      },
      "execution_count": 22,
      "outputs": []
    }
  ]
}