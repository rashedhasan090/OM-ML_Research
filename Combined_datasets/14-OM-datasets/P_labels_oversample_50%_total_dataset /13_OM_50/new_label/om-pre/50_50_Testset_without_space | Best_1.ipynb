{
  "cells": [
    {
      "cell_type": "markdown",
      "metadata": {
        "id": "53kuZAzgHqa1"
      },
      "source": [
        "# English-to-Spanish translation with a sequence-to-sequence Transformer\n",
        "\n",
        "**Author:** [fchollet](https://twitter.com/fchollet)<br>\n",
        "**Date created:** 2021/05/26<br>\n",
        "**Last modified:** 2023/02/25<br>\n",
        "**Description:** Implementing a sequence-to-sequene Transformer and training it on a machine translation task."
      ]
    },
    {
      "cell_type": "markdown",
      "metadata": {
        "id": "GtBEUtVnHqa4"
      },
      "source": [
        "## Introduction\n",
        "\n",
        "In this example, we'll build a sequence-to-sequence Transformer model, which\n",
        "we'll train on an English-to-Spanish machine translation task.\n",
        "\n",
        "You'll learn how to:\n",
        "\n",
        "- Vectorize text using the Keras `TextVectorization` layer.\n",
        "- Implement a `TransformerEncoder` layer, a `TransformerDecoder` layer,\n",
        "and a `PositionalEmbedding` layer.\n",
        "- Prepare data for training a sequence-to-sequence model.\n",
        "- Use the trained model to generate translations of never-seen-before\n",
        "input sentences (sequence-to-sequence inference).\n",
        "\n",
        "The code featured here is adapted from the book\n",
        "[Deep Learning with Python, Second Edition](https://www.manning.com/books/deep-learning-with-python-second-edition)\n",
        "(chapter 11: Deep learning for text).\n",
        "The present example is fairly barebones, so for detailed explanations of\n",
        "how each building block works, as well as the theory behind Transformers,\n",
        "I recommend reading the book."
      ]
    },
    {
      "cell_type": "markdown",
      "metadata": {
        "id": "tGG9yjvYHqa4"
      },
      "source": [
        "## Setup"
      ]
    },
    {
      "cell_type": "code",
      "execution_count": 4,
      "metadata": {
        "id": "2Ut3uI8UHqa4"
      },
      "outputs": [],
      "source": [
        "import pathlib\n",
        "import random\n",
        "import string\n",
        "import re\n",
        "import numpy as np\n",
        "import tensorflow as tf\n",
        "from tensorflow import keras\n",
        "from tensorflow.keras import layers\n",
        "from tensorflow.keras.layers import TextVectorization"
      ]
    },
    {
      "cell_type": "markdown",
      "metadata": {
        "id": "0yIDuvfJHqa5"
      },
      "source": [
        "## Downloading the data\n",
        "\n",
        "We'll be working with an English-to-Spanish translation dataset\n",
        "provided by [Anki](https://www.manythings.org/anki/). Let's download it:"
      ]
    },
    {
      "cell_type": "code",
      "execution_count": 5,
      "metadata": {
        "id": "WoNkzS7eHqa6",
        "colab": {
          "base_uri": "https://localhost:8080/"
        },
        "outputId": "07a1bcc3-00f6-4548-d2a7-1d662cc68cd5"
      },
      "outputs": [
        {
          "output_type": "stream",
          "name": "stdout",
          "text": [
            "Archive:  om-pre.zip\n",
            "   creating: om-pre/\n",
            "  inflating: om-pre/13_OM_50.txt     \n",
            "  inflating: __MACOSX/om-pre/._13_OM_50.txt  \n"
          ]
        }
      ],
      "source": [
        "\n",
        "!unzip om-pre.zip\n",
        "\n",
        "import pathlib\n",
        "\n",
        "file_path = \"/content/om-pre.zip\"\n",
        "extracted_dir = pathlib.Path(file_path).parent / \"om-pre\"\n",
        "text_file = extracted_dir / \"13_OM_50.txt\""
      ]
    },
    {
      "cell_type": "markdown",
      "metadata": {
        "id": "NEuvPsK1Hqa6"
      },
      "source": [
        "## Parsing the data\n",
        "\n",
        "Each line contains an English sentence and its corresponding Spanish sentence.\n",
        "The English sentence is the *source sequence* and Spanish one is the *target sequence*.\n",
        "We prepend the token `\"[start]\"` and we append the token `\"[end]\"` to the Spanish sentence."
      ]
    },
    {
      "cell_type": "code",
      "execution_count": 6,
      "metadata": {
        "id": "CwTUqXKkHqa6"
      },
      "outputs": [],
      "source": [
        "with open(text_file) as f:\n",
        "    lines = f.read().split(\"\\n\")[:-1]\n",
        "text_pairs = []\n",
        "for line in lines:\n",
        "    eng, spa = line.split(\"\\t\")\n",
        "    spa = \"[start] \" + spa + \" [end]\"\n",
        "    text_pairs.append((eng, spa))"
      ]
    },
    {
      "cell_type": "markdown",
      "metadata": {
        "id": "0lKYYxnRHqa6"
      },
      "source": [
        "Here's what our sentence pairs look like:"
      ]
    },
    {
      "cell_type": "code",
      "execution_count": 7,
      "metadata": {
        "id": "W71EWhMAHqa7",
        "colab": {
          "base_uri": "https://localhost:8080/"
        },
        "outputId": "4b0d5ca8-5b0a-43dc-d886-17f90b12ad69"
      },
      "outputs": [
        {
          "output_type": "stream",
          "name": "stdout",
          "text": [
            "('module OM_name: 0 ,openDeclaration one sig class1_name extends ClassattrSet=c1_at1+c1_at2id=c1_at1noparentisAbstract=No} one sig c1_at1 extends c1_at1_type one sig c1_at2 extends c1_at2_type, one sig class2_name extends ClassattrSet=c2_at1+c2_at2id=c2_at1noparentisAbstract=No} one sig c2_at1 extends c2_at1_type one sig c2_at2 extends c2_at2_type, one sig class3_name extends ClassattrSet=c3_at1+c3_at2+c3_at3+c3_at4+c3_at5+c3_at6id=c3_at1noparentisAbstract=No} one sig c3_at1 extends c3_at1_type one sig c3_at2 extends c3_at2_type one sig c3_at3 extends c3_at3_type one sig c3_at4 extends c3_at4_type one sig c3_at5 extends c3_at5_type one sig c3_at6 extends c3_at6_type, one sig class4_name extends ClassattrSet=c4_at1+c4_at2+c4_at3+c4_at4id=c4_at3noparentisAbstract=No} one sig c4_at1 extends c4_at1_type one sig c4_at2 extends c4_at2_type one sig c4_at3 extends c4_at3_type one sig c4_at4 extends c4_at4_type, one sig class5_name extends ClassattrSet=c5_at1 one parent  parentinclass2_nameid=c2_at1isAbstract=No} one sig c5_at1 extends c5_at1_type, one sig class6_name extends ClassattrSet=c6_at1_0+c6_at2+c6_at3+c6_at4id=c6_at2noparentisAbstract=No} one sig c6_at1_0 extends c6_at1_type one sig c6_at2 extends c6_at2_type one sig c6_at3 extends c6_at3_type one sig c6_at4 extends c6_at4_type, one sig class7_name extends ClassattrSet=c7_at1 one parent  parentinclass2_nameid=c2_at1isAbstract=No} one sig c7_at1 extends c7_at1_type, one sig class8_name extends ClassattrSet=c8_at1+c8_at2+c2_at2+c6_at3id=c8_at1noparentisAbstract=No} one sig c8_at1 extends c8_at1_type one sig c8_at1 extends c8_at1_type, one sig assoc1 extends  Association src=class8_namedst=class2_name, src_multiplicity =src_mlpc dst_multiplicity =dst_mlpc,} one sig assoc2 extends  Association src=class2_namedst=class4_name, src_multiplicity =src_mlpc2 dst_multiplicity =dst_mlpc,} one sig assoc3 extends  Association src=class8_namedst=class3_name, src_multiplicity =src_mlpc dst_multiplicity =dst_mlpc,} one sig assoc4 extends  Association src=class8_namedst=class4_name, src_multiplicity =src_mlpc dst_multiplicity =dst_mlpc,} one sig assoc5 extends  Association src=class8_namedst=class6_name, src_multiplicity =src_mlpc dst_multiplicity =dst_mlpc2,} one sig assoc6 extends  Association src=class6_namedst=class1_name, src_multiplicity =src_mlpc dst_multiplicity =dst_mlpc2,} one sig assoc7 extends  Association src=class6_namedst=class4_name, src_multiplicity =src_mlpc dst_multiplicity =dst_mlpc,} one sig assoc8 extends  Association src=class1_namedst=class3_name, src_multiplicity =src_mlpc dst_multiplicity =dst_mlpc,} one sig assoc9 extends  Association src=class1_namedst=class4_name, src_multiplicity =src_mlpc dst_multiplicity =dst_mlpc,} one sig assoc10 extends  Association src=class2_namedst=class3_name, src_multiplicity =src_mlpc dst_multiplicity =dst_mlpc2,},MappingStrategyforclass1_name:map_str2MappingStrategyforclass6_name:map_str2MappingStrategyforclass2_name:map_str1MappingStrategyforclass5_name:map_str1MappingStrategyforclass7_name:map_str1AssociationStrategyforassoc3:assoc_str1AssociationStrategyforassoc4:assoc_str1AssociationStrategyforassoc7:assoc_str1AssociationStrategyforassoc8:assoc_str1AssociationStrategyforassoc1:assoc_str2AssociationStrategyforassoc10:assoc_str2AssociationStrategyforassoc5:assoc_str2AssociationStrategyforassoc6:assoc_str2AssociationStrategyforassoc9:assoc_str2,USEOM_name:0;CREATE TABLE `class3_name`(`c3_at6`c3_at6_type,`c3_at5`c3_at5_type,`c3_at4`c3_at4_type,`c3_at3`c3_at3_type,`c3_at2`c3_at2_type,`c3_at1`c3_at1_typeNOT NULL,`c1_at1`int, KEY `FK_class3_name_c1_at1_idx`(`c1_at1`), PRIMARY  KEY  (`c3_at1`)CREATE TABLE `class1_name`(`c1_at2`c1_at2_type(64),`c1_at1`c1_at1_typeNOT NULL, PRIMARY  KEY  (`c1_at1`)CREATE TABLE `class2_name`(`c2_at2`c2_at2_type(64),`c2_at1`c2_at1_typeNOT NULL, PRIMARY  KEY  (`c2_at1`)CREATE TABLE `class7_name`(`c7_at1`c7_at1_type(64),`c2_at2`c2_at2_type(64),`c2_at1`c2_at1_typeNOT NULL, PRIMARY  KEY  (`c2_at1`)CREATE TABLE `assoc10`(`c3_at1`c3_at1_typeNOT NULL,`c2_at1`c2_at1_typeNOT NULL, KEY `FK_assoc10_c3_at1_idx`(`c3_at1`), KEY `FK_assoc10_c2_at1_idx`(`c2_at1`), PRIMARY  KEY  (`c3_at1`,`c2_at1`)CREATE TABLE `class8_name`(`c8_at2`c8_at2_type(64),`c6_at3`c6_at3_type(64),`c8_at1`c8_at1_typeNOT NULL, PRIMARY  KEY  (`c8_at1`)CREATE TABLE `class5_name`(`c5_at1`c5_at1_type,`c2_at1`c2_at1_typeNOT NULL, KEY `FK_class5_name_c2_at1_idx`(`c2_at1`), PRIMARY  KEY  (`c2_at1`)CREATE TABLE `assoc7`(`c6_at2`c6_at2_typeNOT NULL,`c4_at3`c4_at3_typeNOT NULL, KEY `FK_assoc7_c6_at2_idx`(`c6_at2`), KEY `FK_assoc7_c4_at3_idx`(`c4_at3`), PRIMARY  KEY  (`c6_at2`,`c4_at3`)AssociationStrategyforassoc5:assoc_str2`c8_at1`c8_at1_typeNOT NULL,`c6_at2`c6_at2_typeNOT NULL, KEY `FK_assoc5_c8_at1_idx`(`c8_at1`), KEY `FK_assoc5_c6_at2_idx`(`c6_at2`), PRIMARY  KEY  (`c8_at1`,`c6_at2`)CREATE TABLE `assoc3`(`c8_at1`c8_at1_typeNOT NULL,`c3_at1`c3_at1_typeNOT NULL, KEY `FK_assoc3_c8_at1_idx`(`c8_at1`), KEY `FK_assoc3_c3_at1_idx`(`c3_at1`), PRIMARY  KEY  (`c8_at1`,`c3_at1`)CREATE TABLE `assoc1`(`c8_at1`c8_at1_typeNOT NULL,`c2_at1`c2_at1_typeNOT NULL, KEY `FK_assoc1_c8_at1_idx`(`c8_at1`), KEY `FK_assoc1_c2_at1_idx`(`c2_at1`), PRIMARY  KEY  (`c8_at1`,`c2_at1`)CREATE TABLE `class4_name`(`c4_at4`c4_at4_type(64),`c4_at2`c4_at2_type(64),`c4_at1`c4_at1_type(64),`c8_at1`c8_at1_type,`c4_at3`c4_at3_typeNOT NULL,`c1_at1`int, KEY `FK_class4_name_c8_at1_idx`(`c8_at1`), KEY `FK_class4_name_c1_at1_idx`(`c1_at1`), PRIMARY  KEY  (`c4_at3`)CREATE TABLE `assoc6`(`c6_at2`c6_at2_typeNOT NULL,`c1_at1`c1_at1_typeNOT NULL, KEY `FK_assoc6_c6_at2_idx`(`c6_at2`), KEY `FK_assoc6_c1_at1_idx`(`c1_at1`), PRIMARY  KEY  (`c6_at2`,`c1_at1`)CREATE TABLE `class6_name`(`c6_at4`c6_at4_type(64),`c6_at3`c6_at3_type(64),`c6_at1_0`c6_at1_type(64),`c6_at2`c6_at2_typeNOT NULL, PRIMARY  KEY  (`c6_at2`)CREATE TABLE `assoc2`(`c4_at3`c4_at3_typeNOT NULL,`c2_at1`c2_at1_typeNOT NULL, KEY `FK_assoc2_c4_at3_idx`(`c4_at3`), KEY `FK_assoc2_c2_at1_idx`(`c2_at1`), PRIMARY  KEY  (`c4_at3`,`c2_at1`) ALTER TABLE `class3_name` ADD CONSTRAINT `FK_class3_name_c1_at1` FOREIGN  KEY  (`c1_at1`) REFERENCES `class1_name`(`c1_at1`) ON DELETE CASCADE ON UPDATE CASCADE , ALTER TABLE `assoc10` ADD CONSTRAINT `FK_assoc10_c3_at1` FOREIGN  KEY  (`c3_at1`) REFERENCES `class3_name`(`c3_at1`) ON DELETE CASCADE ON UPDATE CASCADE , ADD CONSTRAINT `FK_assoc10_c2_at1` FOREIGN  KEY  (`c2_at1`) REFERENCES `class2_name`(`c2_at1`) ON DELETE CASCADE ON UPDATE CASCADE , ALTER TABLE `class5_name` ADD CONSTRAINT `FK_class5_name_c2_at1` FOREIGN  KEY  (`c2_at1`) REFERENCES `class2_name`(`c2_at1`) ON DELETE CASCADE ON UPDATE CASCADE , ALTER TABLE `assoc7` ADD CONSTRAINT `FK_assoc7_c6_at2` FOREIGN  KEY  (`c6_at2`) REFERENCES `class6_name`(`c6_at2`) ON DELETE CASCADE ON UPDATE CASCADE , ADD CONSTRAINT `FK_assoc7_c4_at3` FOREIGN  KEY  (`c4_at3`) REFERENCES `class4_name`(`c4_at3`) ON DELETE CASCADE ON UPDATE CASCADE ; ALTER TABLE `assoc5` ADD CONSTRAINT `FK_assoc5_c8_at1` FOREIGN  KEY  (`c8_at1`) REFERENCES `class8_name`(`c8_at1`) ON DELETE CASCADE ON UPDATE CASCADE , ADD CONSTRAINT `FK_assoc5_c6_at2` FOREIGN  KEY  (`c6_at2`) REFERENCES `class6_name`(`c6_at2`) ON DELETE CASCADE ON UPDATE CASCADE ; ALTER TABLE `assoc3` ADD CONSTRAINT `FK_assoc3_c8_at1` FOREIGN  KEY  (`c8_at1`) REFERENCES `class8_name`(`c8_at1`) ON DELETE CASCADE ON UPDATE CASCADE , ADD CONSTRAINT `FK_assoc3_c3_at1` FOREIGN  KEY  (`c3_at1`) REFERENCES `class3_name`(`c3_at1`) ON DELETE CASCADE ON UPDATE CASCADE , ALTER TABLE `assoc1` ADD CONSTRAINT `FK_assoc1_c8_at1` FOREIGN  KEY  (`c8_at1`) REFERENCES `class8_name`(`c8_at1`) ON DELETE CASCADE ON UPDATE CASCADE , ALTER TABLE `class4_name` ADD CONSTRAINT `FK_class4_name_c8_at1` FOREIGN  KEY  (`c8_at1`) REFERENCES `class8_name`(`c8_at1`) ON DELETE CASCADE ON UPDATE CASCADE , ADD CONSTRAINT `FK_class4_name_c1_at1` FOREIGN  KEY  (`c1_at1`) REFERENCES `class1_name`(`c1_at1`) ON DELETE CASCADE ON UPDATE CASCADE , ALTER TABLE `assoc6` ALTER TABLE `class7_name` ADD CONSTRAINT `FK_assoc6_c1_at1` FOREIGN  KEY  (`c1_at1`) REFERENCES `class1_name`(`c1_at1`) ON DELETE CASCADE ON UPDATE CASCADE , ALTER TABLE `assoc2` ADD CONSTRAINT `FK_assoc2_c4_at3` FOREIGN  KEY  (`c4_at3`) REFERENCES `class4_name`(`c4_at3`) ON DELETE CASCADE ON UPDATE CASCADE  ADD CONSTRAINT `FK_assoc2_c2_at1` FOREIGN  KEY  (`c2_at1`) REFERENCES `class2_name`(`c2_at1`) ON DELETE CASCADE ON UPDATE CASCADE ', '[start] NP, module OM_name: 0 ,openDeclaration one sig class1_name extends ClassattrSet=c1_at1+c1_at2id=c1_at1noparentisAbstract=No} one sig c1_at1 extends c1_at1_type one sig c1_at2 extends c1_at2_type, one sig class2_name extends ClassattrSet=c2_at1+c2_at2id=c2_at1noparentisAbstract=No} one sig c2_at1 extends c2_at1_type one sig c2_at2 extends c2_at2_type, one sig class3_name extends ClassattrSet=c3_at1+c3_at2+c3_at3+c3_at4+c3_at5+c3_at6id=c3_at1noparentisAbstract=No} one sig c3_at1 extends c3_at1_type one sig c3_at2 extends c3_at2_type one sig c3_at3 extends c3_at3_type one sig c3_at4 extends c3_at4_type one sig c3_at5 extends c3_at5_type one sig c3_at6 extends c3_at6_type, one sig class4_name extends ClassattrSet=c4_at1+c4_at2+c4_at3+c4_at4id=c4_at3noparentisAbstract=No} one sig c4_at1 extends c4_at1_type one sig c4_at2 extends c4_at2_type one sig c4_at3 extends c4_at3_type one sig c4_at4 extends c4_at4_type, one sig class5_name extends ClassattrSet=c5_at1 one parent  parentinclass2_nameid=c2_at1isAbstract=No} one sig c5_at1 extends c5_at1_type, one sig class6_name extends ClassattrSet=c6_at1_0+c6_at2+c6_at3+c6_at4id=c6_at2noparentisAbstract=No} one sig c6_at1_0 extends c6_at1_type one sig c6_at2 extends c6_at2_type one sig c6_at3 extends c6_at3_type one sig c6_at4 extends c6_at4_type, one sig class7_name extends ClassattrSet=c7_at1 one parent  parentinclass2_nameid=c2_at1isAbstract=No} one sig c7_at1 extends c7_at1_type, one sig class8_name extends ClassattrSet=c8_at1+c8_at2+c2_at2+c6_at3id=c8_at1noparentisAbstract=No} one sig c8_at1 extends c8_at1_type one sig c8_at1 extends c8_at1_type, one sig assoc1 extends  Association src=class8_namedst=class2_name, src_multiplicity =src_mlpc dst_multiplicity =dst_mlpc,} one sig assoc2 extends  Association src=class2_namedst=class4_name, src_multiplicity =src_mlpc2 dst_multiplicity =dst_mlpc,} one sig assoc3 extends  Association src=class8_namedst=class3_name, src_multiplicity =src_mlpc dst_multiplicity =dst_mlpc,} one sig assoc4 extends  Association src=class8_namedst=class4_name, src_multiplicity =src_mlpc dst_multiplicity =dst_mlpc,} one sig assoc5 extends  Association src=class8_namedst=class6_name, src_multiplicity =src_mlpc dst_multiplicity =dst_mlpc2,} one sig assoc6 extends  Association src=class6_namedst=class1_name, src_multiplicity =src_mlpc dst_multiplicity =dst_mlpc2,} one sig assoc7 extends  Association src=class6_namedst=class4_name, src_multiplicity =src_mlpc dst_multiplicity =dst_mlpc,} one sig assoc8 extends  Association src=class1_namedst=class3_name, src_multiplicity =src_mlpc dst_multiplicity =dst_mlpc,} one sig assoc9 extends  Association src=class1_namedst=class4_name, src_multiplicity =src_mlpc dst_multiplicity =dst_mlpc,} one sig assoc10 extends  Association src=class2_namedst=class3_name, src_multiplicity =src_mlpc dst_multiplicity =dst_mlpc2,},MappingStrategyforclass1_name:map_str2MappingStrategyforclass6_name:map_str2MappingStrategyforclass2_name:map_str1MappingStrategyforclass5_name:map_str1MappingStrategyforclass7_name:map_str1AssociationStrategyforassoc3:assoc_str1AssociationStrategyforassoc4:assoc_str1AssociationStrategyforassoc7:assoc_str1AssociationStrategyforassoc8:assoc_str1AssociationStrategyforassoc1:assoc_str2AssociationStrategyforassoc10:assoc_str2AssociationStrategyforassoc5:assoc_str2AssociationStrategyforassoc6:assoc_str2AssociationStrategyforassoc9:assoc_str2,USEOM_name:0;CREATE TABLE `class3_name`(`c3_at6`c3_at6_type,`c3_at5`c3_at5_type,`c3_at4`c3_at4_type,`c3_at3`c3_at3_type,`c3_at2`c3_at2_type,`c3_at1`c3_at1_typeNOT NULL,`c1_at1`int, KEY `FK_class3_name_c1_at1_idx`(`c1_at1`), PRIMARY  KEY  (`c3_at1`)CREATE TABLE `class1_name`(`c1_at2`c1_at2_type(64),`c1_at1`c1_at1_typeNOT NULL, PRIMARY  KEY  (`c1_at1`)CREATE TABLE `class2_name`(`c2_at2`c2_at2_type(64),`c2_at1`c2_at1_typeNOT NULL, PRIMARY  KEY  (`c2_at1`)CREATE TABLE `class7_name`(`c7_at1`c7_at1_type(64),`c2_at2`c2_at2_type(64),`c2_at1`c2_at1_typeNOT NULL, PRIMARY  KEY  (`c2_at1`)CREATE TABLE `assoc10`(`c3_at1`c3_at1_typeNOT NULL,`c2_at1`c2_at1_typeNOT NULL, KEY `FK_assoc10_c3_at1_idx`(`c3_at1`), KEY `FK_assoc10_c2_at1_idx`(`c2_at1`), PRIMARY  KEY  (`c3_at1`,`c2_at1`)CREATE TABLE `class8_name`(`c8_at2`c8_at2_type(64),`c6_at3`c6_at3_type(64),`c8_at1`c8_at1_typeNOT NULL, PRIMARY  KEY  (`c8_at1`)CREATE TABLE `class5_name`(`c5_at1`c5_at1_type,`c2_at1`c2_at1_typeNOT NULL, KEY `FK_class5_name_c2_at1_idx`(`c2_at1`), PRIMARY  KEY  (`c2_at1`)CREATE TABLE `assoc7`(`c6_at2`c6_at2_typeNOT NULL,`c4_at3`c4_at3_typeNOT NULL, KEY `FK_assoc7_c6_at2_idx`(`c6_at2`), KEY `FK_assoc7_c4_at3_idx`(`c4_at3`), PRIMARY  KEY  (`c6_at2`,`c4_at3`)AssociationStrategyforassoc5:assoc_str2`c8_at1`c8_at1_typeNOT NULL,`c6_at2`c6_at2_typeNOT NULL, KEY `FK_assoc5_c8_at1_idx`(`c8_at1`), KEY `FK_assoc5_c6_at2_idx`(`c6_at2`), PRIMARY  KEY  (`c8_at1`,`c6_at2`)CREATE TABLE `assoc3`(`c8_at1`c8_at1_typeNOT NULL,`c3_at1`c3_at1_typeNOT NULL, KEY `FK_assoc3_c8_at1_idx`(`c8_at1`), KEY `FK_assoc3_c3_at1_idx`(`c3_at1`), PRIMARY  KEY  (`c8_at1`,`c3_at1`)CREATE TABLE `assoc1`(`c8_at1`c8_at1_typeNOT NULL,`c2_at1`c2_at1_typeNOT NULL, KEY `FK_assoc1_c8_at1_idx`(`c8_at1`), KEY `FK_assoc1_c2_at1_idx`(`c2_at1`), PRIMARY  KEY  (`c8_at1`,`c2_at1`)CREATE TABLE `class4_name`(`c4_at4`c4_at4_type(64),`c4_at2`c4_at2_type(64),`c4_at1`c4_at1_type(64),`c8_at1`c8_at1_type,`c4_at3`c4_at3_typeNOT NULL,`c1_at1`int, KEY `FK_class4_name_c8_at1_idx`(`c8_at1`), KEY `FK_class4_name_c1_at1_idx`(`c1_at1`), PRIMARY  KEY  (`c4_at3`)CREATE TABLE `assoc6`(`c6_at2`c6_at2_typeNOT NULL,`c1_at1`c1_at1_typeNOT NULL, KEY `FK_assoc6_c6_at2_idx`(`c6_at2`), KEY `FK_assoc6_c1_at1_idx`(`c1_at1`), PRIMARY  KEY  (`c6_at2`,`c1_at1`)CREATE TABLE `class6_name`(`c6_at4`c6_at4_type(64),`c6_at3`c6_at3_type(64),`c6_at1_0`c6_at1_type(64),`c6_at2`c6_at2_typeNOT NULL, PRIMARY  KEY  (`c6_at2`)CREATE TABLE `assoc2`(`c4_at3`c4_at3_typeNOT NULL,`c2_at1`c2_at1_typeNOT NULL, KEY `FK_assoc2_c4_at3_idx`(`c4_at3`), KEY `FK_assoc2_c2_at1_idx`(`c2_at1`), PRIMARY  KEY  (`c4_at3`,`c2_at1`) ALTER TABLE `class3_name` ADD CONSTRAINT `FK_class3_name_c1_at1` FOREIGN  KEY  (`c1_at1`) REFERENCES `class1_name`(`c1_at1`) ON DELETE CASCADE ON UPDATE CASCADE , ALTER TABLE `assoc10` ADD CONSTRAINT `FK_assoc10_c3_at1` FOREIGN  KEY  (`c3_at1`) REFERENCES `class3_name`(`c3_at1`) ON DELETE CASCADE ON UPDATE CASCADE , ADD CONSTRAINT `FK_assoc10_c2_at1` FOREIGN  KEY  (`c2_at1`) REFERENCES `class2_name`(`c2_at1`) ON DELETE CASCADE ON UPDATE CASCADE , ALTER TABLE `class5_name` ADD CONSTRAINT `FK_class5_name_c2_at1` FOREIGN  KEY  (`c2_at1`) REFERENCES `class2_name`(`c2_at1`) ON DELETE CASCADE ON UPDATE CASCADE , ALTER TABLE `assoc7` ADD CONSTRAINT `FK_assoc7_c6_at2` FOREIGN  KEY  (`c6_at2`) REFERENCES `class6_name`(`c6_at2`) ON DELETE CASCADE ON UPDATE CASCADE , ADD CONSTRAINT `FK_assoc7_c4_at3` FOREIGN  KEY  (`c4_at3`) REFERENCES `class4_name`(`c4_at3`) ON DELETE CASCADE ON UPDATE CASCADE ; ALTER TABLE `assoc5` ADD CONSTRAINT `FK_assoc5_c8_at1` FOREIGN  KEY  (`c8_at1`) REFERENCES `class8_name`(`c8_at1`) ON DELETE CASCADE ON UPDATE CASCADE , ADD CONSTRAINT `FK_assoc5_c6_at2` FOREIGN  KEY  (`c6_at2`) REFERENCES `class6_name`(`c6_at2`) ON DELETE CASCADE ON UPDATE CASCADE ; ALTER TABLE `assoc3` ADD CONSTRAINT `FK_assoc3_c8_at1` FOREIGN  KEY  (`c8_at1`) REFERENCES `class8_name`(`c8_at1`) ON DELETE CASCADE ON UPDATE CASCADE , ADD CONSTRAINT `FK_assoc3_c3_at1` FOREIGN  KEY  (`c3_at1`) REFERENCES `class3_name`(`c3_at1`) ON DELETE CASCADE ON UPDATE CASCADE , ALTER TABLE `assoc1` ADD CONSTRAINT `FK_assoc1_c8_at1` FOREIGN  KEY  (`c8_at1`) REFERENCES `class8_name`(`c8_at1`) ON DELETE CASCADE ON UPDATE CASCADE , ALTER TABLE `class4_name` ADD CONSTRAINT `FK_class4_name_c8_at1` FOREIGN  KEY  (`c8_at1`) REFERENCES `class8_name`(`c8_at1`) ON DELETE CASCADE ON UPDATE CASCADE , ADD CONSTRAINT `FK_class4_name_c1_at1` FOREIGN  KEY  (`c1_at1`) REFERENCES `class1_name`(`c1_at1`) ON DELETE CASCADE ON UPDATE CASCADE , ALTER TABLE `assoc6` ALTER TABLE `class7_name` ADD CONSTRAINT `FK_assoc6_c1_at1` FOREIGN  KEY  (`c1_at1`) REFERENCES `class1_name`(`c1_at1`) ON DELETE CASCADE ON UPDATE CASCADE , ALTER TABLE `assoc2` ADD CONSTRAINT `FK_assoc2_c4_at3` FOREIGN  KEY  (`c4_at3`) REFERENCES `class4_name`(`c4_at3`) ON DELETE CASCADE ON UPDATE CASCADE  ADD CONSTRAINT `FK_assoc2_c2_at1` FOREIGN  KEY  (`c2_at1`) REFERENCES `class2_name`(`c2_at1`) ON DELETE CASCADE ON UPDATE CASCADE [end]')\n",
            "('module OM_name: 0 ,openDeclaration one sig class1_name extends ClassattrSet=c1_at1+c1_at2id=c1_at1noparentisAbstract=No} one sig c1_at1 extends c1_at1_type one sig c1_at2 extends c1_at2_type, one sig class2_name extends ClassattrSet=c2_at1+c2_at2id=c2_at1noparentisAbstract=No} one sig c2_at1 extends c2_at1_type one sig c2_at2 extends c2_at2_type, one sig class3_name extends ClassattrSet=c3_at1+c3_at2+c3_at3+c3_at4+c3_at5+c3_at6id=c3_at1noparentisAbstract=No} one sig c3_at1 extends c3_at1_type one sig c3_at2 extends c3_at2_type one sig c3_at3 extends c3_at3_type one sig c3_at4 extends c3_at4_type one sig c3_at5 extends c3_at5_type one sig c3_at6 extends c3_at6_type, one sig class4_name extends ClassattrSet=c4_at1+c4_at2+c4_at3+c4_at4id=c4_at3noparentisAbstract=No} one sig c4_at1 extends c4_at1_type one sig c4_at2 extends c4_at2_type one sig c4_at3 extends c4_at3_type one sig c4_at4 extends c4_at4_type, one sig class5_name extends ClassattrSet=c5_at1 one parent  parentinclass2_nameid=c2_at1isAbstract=No} one sig c5_at1 extends c5_at1_type, one sig class6_name extends ClassattrSet=c6_at1_0+c6_at2+c6_at3+c6_at4id=c6_at2noparentisAbstract=No} one sig c6_at1_0 extends c6_at1_type one sig c6_at2 extends c6_at2_type one sig c6_at3 extends c6_at3_type one sig c6_at4 extends c6_at4_type, one sig class7_name extends ClassattrSet=c7_at1 one parent  parentinclass2_nameid=c2_at1isAbstract=No} one sig c7_at1 extends c7_at1_type, one sig class8_name extends ClassattrSet=c8_at1+c8_at2+c2_at2+c6_at3id=c8_at1noparentisAbstract=No} one sig c8_at1 extends c8_at1_type one sig c8_at1 extends c8_at1_type, one sig assoc1 extends  Association src=class8_namedst=class2_name, src_multiplicity =src_mlpc dst_multiplicity =dst_mlpc,} one sig assoc2 extends  Association src=class2_namedst=class4_name, src_multiplicity =src_mlpc2 dst_multiplicity =dst_mlpc,} one sig assoc3 extends  Association src=class8_namedst=class3_name, src_multiplicity =src_mlpc dst_multiplicity =dst_mlpc,} one sig assoc4 extends  Association src=class8_namedst=class4_name, src_multiplicity =src_mlpc dst_multiplicity =dst_mlpc,} one sig assoc5 extends  Association src=class8_namedst=class6_name, src_multiplicity =src_mlpc dst_multiplicity =dst_mlpc2,} one sig assoc6 extends  Association src=class6_namedst=class1_name, src_multiplicity =src_mlpc dst_multiplicity =dst_mlpc2,} one sig assoc7 extends  Association src=class6_namedst=class4_name, src_multiplicity =src_mlpc dst_multiplicity =dst_mlpc,} one sig assoc8 extends  Association src=class1_namedst=class3_name, src_multiplicity =src_mlpc dst_multiplicity =dst_mlpc,} one sig assoc9 extends  Association src=class1_namedst=class4_name, src_multiplicity =src_mlpc dst_multiplicity =dst_mlpc,} one sig assoc10 extends  Association src=class2_namedst=class3_name, src_multiplicity =src_mlpc dst_multiplicity =dst_mlpc2,},MappingStrategyforclass1_name:map_str2MappingStrategyforclass2_name:map_str2MappingStrategyforclass5_name:map_str2MappingStrategyforclass6_name:map_str2MappingStrategyforclass8_name:map_str2MappingStrategyforclass7_name:map_str3AssociationStrategyforassoc4:assoc_str1AssociationStrategyforassoc7:assoc_str1AssociationStrategyforassoc8:assoc_str1AssociationStrategyforassoc1:assoc_str2AssociationStrategyforassoc10:assoc_str2AssociationStrategyforassoc3:assoc_str2AssociationStrategyforassoc5:assoc_str2AssociationStrategyforassoc6:assoc_str2AssociationStrategyforassoc9:assoc_str2,USEOM_name:0;CREATE TABLE `class3_name`(`c8_at1`c8_at1_type,`c3_at6`c3_at6_type,`c3_at5`c3_at5_type,`c3_at4`c3_at4_type,`c3_at3`c3_at3_type,`c3_at2`c3_at2_type,`c3_at1`c3_at1_typeNOT NULL, KEY `FK_class3_name_c8_at1_idx`(`c8_at1`), PRIMARY  KEY  (`c3_at1`)CREATE TABLE `class1_name`(`c1_at2`c1_at2_type(64),`c1_at1`c1_at1_typeNOT NULL, PRIMARY  KEY  (`c1_at1`)CREATE TABLE `class2_name`(`c2_at2`c2_at2_type(64),`c2_at1`c2_at1_typeNOT NULL, PRIMARY  KEY  (`c2_at1`)CREATE TABLE `class7_name`(`c7_at1`c7_at1_type(64),`c2_at2`c2_at2_type(64),`c2_at1`c2_at1_typeNOT NULL, PRIMARY  KEY  (`c2_at1`)CREATE TABLE `assoc10`(`c3_at1`c3_at1_typeNOT NULL,`c2_at1`c2_at1_typeNOT NULL, KEY `FK_assoc10_c3_at1_idx`(`c3_at1`), KEY `FK_assoc10_c2_at1_idx`(`c2_at1`), PRIMARY  KEY  (`c3_at1`,`c2_at1`)CREATE TABLE `class8_name`(`c8_at2`c8_at2_type(64),`c8_at1`c8_at1_typeNOT NULL, PRIMARY  KEY  (`c8_at1`)CREATE TABLE `class5_name`(`c5_at1`c5_at1_type,`c2_at1`c2_at1_typeNOT NULL, KEY `FK_class5_name_c2_at1_idx`(`c2_at1`), PRIMARY  KEY  (`c2_at1`)AssociationStrategyforassoc5:assoc_str2`c8_at1`c8_at1_typeNOT NULL,`c6_at2`c6_at2_typeNOT NULL, KEY `FK_assoc5_c8_at1_idx`(`c8_at1`), KEY `FK_assoc5_c6_at2_idx`(`c6_at2`), PRIMARY  KEY  (`c8_at1`,`c6_at2`)CREATE TABLE `assoc8`(`c3_at1`c3_at1_typeNOT NULL,`c1_at1`c1_at1_typeNOT NULL, KEY `FK_assoc8_c3_at1_idx`(`c3_at1`), KEY `FK_assoc8_c1_at1_idx`(`c1_at1`), PRIMARY  KEY  (`c3_at1`,`c1_at1`)CREATE TABLE `class4_name`(`c4_at4`c4_at4_type(64),`c4_at2`c4_at2_type(64),`c4_at1`c4_at1_type(64),`c6_at2`c6_at2_type,`c4_at3`c4_at3_typeNOT NULL,`c1_at1`int, KEY `FK_class4_name_c6_at2_idx`(`c6_at2`), KEY `FK_class4_name_c1_at1_idx`(`c1_at1`), PRIMARY  KEY  (`c4_at3`)CREATE TABLE `assoc1`(`c8_at1`c8_at1_typeNOT NULL,`c2_at1`c2_at1_typeNOT NULL, KEY `FK_assoc1_c8_at1_idx`(`c8_at1`), KEY `FK_assoc1_c2_at1_idx`(`c2_at1`), PRIMARY  KEY  (`c8_at1`,`c2_at1`)CREATE TABLE `assoc4`(`c8_at1`c8_at1_typeNOT NULL,`c4_at3`c4_at3_typeNOT NULL, KEY `FK_assoc4_c8_at1_idx`(`c8_at1`), KEY `FK_assoc4_c4_at3_idx`(`c4_at3`), PRIMARY  KEY  (`c8_at1`,`c4_at3`)CREATE TABLE `assoc6`(`c6_at2`c6_at2_typeNOT NULL,`c1_at1`c1_at1_typeNOT NULL, KEY `FK_assoc6_c6_at2_idx`(`c6_at2`), KEY `FK_assoc6_c1_at1_idx`(`c1_at1`), PRIMARY  KEY  (`c6_at2`,`c1_at1`)CREATE TABLE `class6_name`(`c6_at4`c6_at4_type(64),`c6_at3`c6_at3_type(64),`c6_at1_0`c6_at1_type(64),`c6_at2`c6_at2_typeNOT NULL, PRIMARY  KEY  (`c6_at2`)CREATE TABLE `assoc2`(`c4_at3`c4_at3_typeNOT NULL,`c2_at1`c2_at1_typeNOT NULL, KEY `FK_assoc2_c4_at3_idx`(`c4_at3`), KEY `FK_assoc2_c2_at1_idx`(`c2_at1`), PRIMARY  KEY  (`c4_at3`,`c2_at1`) ALTER TABLE `class3_name` ALTER TABLE `assoc10` ADD CONSTRAINT `FK_assoc10_c3_at1` FOREIGN  KEY  (`c3_at1`) REFERENCES `class3_name`(`c3_at1`) ON DELETE CASCADE ON UPDATE CASCADE , ADD CONSTRAINT `FK_assoc10_c2_at1` FOREIGN  KEY  (`c2_at1`) REFERENCES `class2_name`(`c2_at1`) ON DELETE CASCADE ON UPDATE CASCADE , ALTER TABLE `class5_name` ADD CONSTRAINT `FK_class5_name_c2_at1` FOREIGN  KEY  (`c2_at1`) REFERENCES `class2_name`(`c2_at1`) ON DELETE CASCADE ON UPDATE CASCADE , ALTER TABLE `assoc5` ADD CONSTRAINT `FK_assoc5_c8_at1` FOREIGN  KEY  (`c8_at1`) REFERENCES `class8_name`(`c8_at1`) ON DELETE CASCADE ON UPDATE CASCADE , ADD CONSTRAINT `FK_assoc5_c6_at2` FOREIGN  KEY  (`c6_at2`) REFERENCES `class6_name`(`c6_at2`) ON DELETE CASCADE ON UPDATE CASCADE ; ALTER TABLE `assoc8` ADD CONSTRAINT `FK_assoc8_c3_at1` FOREIGN  KEY  (`c3_at1`) REFERENCES `class3_name`(`c3_at1`) ON DELETE CASCADE ON UPDATE CASCADE , ADD CONSTRAINT `FK_assoc8_c1_at1` FOREIGN  KEY  (`c1_at1`) REFERENCES `class1_name`(`c1_at1`) ON DELETE CASCADE ON UPDATE CASCADE , ALTER TABLE `class4_name` ADD CONSTRAINT `FK_class4_name_c6_at2` FOREIGN  KEY  (`c6_at2`) REFERENCES `class6_name`(`c6_at2`) ON DELETE CASCADE ON UPDATE CASCADE ; ADD CONSTRAINT `FK_class4_name_c1_at1` FOREIGN  KEY  (`c1_at1`) REFERENCES `class1_name`(`c1_at1`) ON DELETE CASCADE ON UPDATE CASCADE , ALTER TABLE `assoc1` ADD CONSTRAINT `FK_assoc1_c8_at1` FOREIGN  KEY  (`c8_at1`) REFERENCES `class8_name`(`c8_at1`) ON DELETE CASCADE ON UPDATE CASCADE , ALTER TABLE `assoc4` ADD CONSTRAINT `FK_assoc4_c8_at1` FOREIGN  KEY  (`c8_at1`) REFERENCES `class8_name`(`c8_at1`) ON DELETE CASCADE ON UPDATE CASCADE , ADD CONSTRAINT `FK_assoc4_c4_at3` FOREIGN  KEY  (`c4_at3`) REFERENCES `class4_name`(`c4_at3`) ON DELETE CASCADE ON UPDATE CASCADE ; ALTER TABLE `assoc6` ALTER TABLE `class7_name` ADD CONSTRAINT `FK_assoc6_c1_at1` FOREIGN  KEY  (`c1_at1`) REFERENCES `class1_name`(`c1_at1`) ON DELETE CASCADE ON UPDATE CASCADE , ALTER TABLE `assoc2` ADD CONSTRAINT `FK_assoc2_c4_at3` FOREIGN  KEY  (`c4_at3`) REFERENCES `class4_name`(`c4_at3`) ON DELETE CASCADE ON UPDATE CASCADE  ADD CONSTRAINT `FK_assoc2_c2_at1` FOREIGN  KEY  (`c2_at1`) REFERENCES `class2_name`(`c2_at1`) ON DELETE CASCADE ON UPDATE CASCADE ', '[start] NP, module OM_name: 0 ,openDeclaration one sig class1_name extends ClassattrSet=c1_at1+c1_at2id=c1_at1noparentisAbstract=No} one sig c1_at1 extends c1_at1_type one sig c1_at2 extends c1_at2_type, one sig class2_name extends ClassattrSet=c2_at1+c2_at2id=c2_at1noparentisAbstract=No} one sig c2_at1 extends c2_at1_type one sig c2_at2 extends c2_at2_type, one sig class3_name extends ClassattrSet=c3_at1+c3_at2+c3_at3+c3_at4+c3_at5+c3_at6id=c3_at1noparentisAbstract=No} one sig c3_at1 extends c3_at1_type one sig c3_at2 extends c3_at2_type one sig c3_at3 extends c3_at3_type one sig c3_at4 extends c3_at4_type one sig c3_at5 extends c3_at5_type one sig c3_at6 extends c3_at6_type, one sig class4_name extends ClassattrSet=c4_at1+c4_at2+c4_at3+c4_at4id=c4_at3noparentisAbstract=No} one sig c4_at1 extends c4_at1_type one sig c4_at2 extends c4_at2_type one sig c4_at3 extends c4_at3_type one sig c4_at4 extends c4_at4_type, one sig class5_name extends ClassattrSet=c5_at1 one parent  parentinclass2_nameid=c2_at1isAbstract=No} one sig c5_at1 extends c5_at1_type, one sig class6_name extends ClassattrSet=c6_at1_0+c6_at2+c6_at3+c6_at4id=c6_at2noparentisAbstract=No} one sig c6_at1_0 extends c6_at1_type one sig c6_at2 extends c6_at2_type one sig c6_at3 extends c6_at3_type one sig c6_at4 extends c6_at4_type, one sig class7_name extends ClassattrSet=c7_at1 one parent  parentinclass2_nameid=c2_at1isAbstract=No} one sig c7_at1 extends c7_at1_type, one sig class8_name extends ClassattrSet=c8_at1+c8_at2+c2_at2+c6_at3id=c8_at1noparentisAbstract=No} one sig c8_at1 extends c8_at1_type one sig c8_at1 extends c8_at1_type, one sig assoc1 extends  Association src=class8_namedst=class2_name, src_multiplicity =src_mlpc dst_multiplicity =dst_mlpc,} one sig assoc2 extends  Association src=class2_namedst=class4_name, src_multiplicity =src_mlpc2 dst_multiplicity =dst_mlpc,} one sig assoc3 extends  Association src=class8_namedst=class3_name, src_multiplicity =src_mlpc dst_multiplicity =dst_mlpc,} one sig assoc4 extends  Association src=class8_namedst=class4_name, src_multiplicity =src_mlpc dst_multiplicity =dst_mlpc,} one sig assoc5 extends  Association src=class8_namedst=class6_name, src_multiplicity =src_mlpc dst_multiplicity =dst_mlpc2,} one sig assoc6 extends  Association src=class6_namedst=class1_name, src_multiplicity =src_mlpc dst_multiplicity =dst_mlpc2,} one sig assoc7 extends  Association src=class6_namedst=class4_name, src_multiplicity =src_mlpc dst_multiplicity =dst_mlpc,} one sig assoc8 extends  Association src=class1_namedst=class3_name, src_multiplicity =src_mlpc dst_multiplicity =dst_mlpc,} one sig assoc9 extends  Association src=class1_namedst=class4_name, src_multiplicity =src_mlpc dst_multiplicity =dst_mlpc,} one sig assoc10 extends  Association src=class2_namedst=class3_name, src_multiplicity =src_mlpc dst_multiplicity =dst_mlpc2,},MappingStrategyforclass1_name:map_str2MappingStrategyforclass2_name:map_str2MappingStrategyforclass5_name:map_str2MappingStrategyforclass6_name:map_str2MappingStrategyforclass8_name:map_str2MappingStrategyforclass7_name:map_str3AssociationStrategyforassoc4:assoc_str1AssociationStrategyforassoc7:assoc_str1AssociationStrategyforassoc8:assoc_str1AssociationStrategyforassoc1:assoc_str2AssociationStrategyforassoc10:assoc_str2AssociationStrategyforassoc3:assoc_str2AssociationStrategyforassoc5:assoc_str2AssociationStrategyforassoc6:assoc_str2AssociationStrategyforassoc9:assoc_str2,USEOM_name:0;CREATE TABLE `class3_name`(`c8_at1`c8_at1_type,`c3_at6`c3_at6_type,`c3_at5`c3_at5_type,`c3_at4`c3_at4_type,`c3_at3`c3_at3_type,`c3_at2`c3_at2_type,`c3_at1`c3_at1_typeNOT NULL, KEY `FK_class3_name_c8_at1_idx`(`c8_at1`), PRIMARY  KEY  (`c3_at1`)CREATE TABLE `class1_name`(`c1_at2`c1_at2_type(64),`c1_at1`c1_at1_typeNOT NULL, PRIMARY  KEY  (`c1_at1`)CREATE TABLE `class2_name`(`c2_at2`c2_at2_type(64),`c2_at1`c2_at1_typeNOT NULL, PRIMARY  KEY  (`c2_at1`)CREATE TABLE `class7_name`(`c7_at1`c7_at1_type(64),`c2_at2`c2_at2_type(64),`c2_at1`c2_at1_typeNOT NULL, PRIMARY  KEY  (`c2_at1`)CREATE TABLE `assoc10`(`c3_at1`c3_at1_typeNOT NULL,`c2_at1`c2_at1_typeNOT NULL, KEY `FK_assoc10_c3_at1_idx`(`c3_at1`), KEY `FK_assoc10_c2_at1_idx`(`c2_at1`), PRIMARY  KEY  (`c3_at1`,`c2_at1`)CREATE TABLE `class8_name`(`c8_at2`c8_at2_type(64),`c8_at1`c8_at1_typeNOT NULL, PRIMARY  KEY  (`c8_at1`)CREATE TABLE `class5_name`(`c5_at1`c5_at1_type,`c2_at1`c2_at1_typeNOT NULL, KEY `FK_class5_name_c2_at1_idx`(`c2_at1`), PRIMARY  KEY  (`c2_at1`)AssociationStrategyforassoc5:assoc_str2`c8_at1`c8_at1_typeNOT NULL,`c6_at2`c6_at2_typeNOT NULL, KEY `FK_assoc5_c8_at1_idx`(`c8_at1`), KEY `FK_assoc5_c6_at2_idx`(`c6_at2`), PRIMARY  KEY  (`c8_at1`,`c6_at2`)CREATE TABLE `assoc8`(`c3_at1`c3_at1_typeNOT NULL,`c1_at1`c1_at1_typeNOT NULL, KEY `FK_assoc8_c3_at1_idx`(`c3_at1`), KEY `FK_assoc8_c1_at1_idx`(`c1_at1`), PRIMARY  KEY  (`c3_at1`,`c1_at1`)CREATE TABLE `class4_name`(`c4_at4`c4_at4_type(64),`c4_at2`c4_at2_type(64),`c4_at1`c4_at1_type(64),`c6_at2`c6_at2_type,`c4_at3`c4_at3_typeNOT NULL,`c1_at1`int, KEY `FK_class4_name_c6_at2_idx`(`c6_at2`), KEY `FK_class4_name_c1_at1_idx`(`c1_at1`), PRIMARY  KEY  (`c4_at3`)CREATE TABLE `assoc1`(`c8_at1`c8_at1_typeNOT NULL,`c2_at1`c2_at1_typeNOT NULL, KEY `FK_assoc1_c8_at1_idx`(`c8_at1`), KEY `FK_assoc1_c2_at1_idx`(`c2_at1`), PRIMARY  KEY  (`c8_at1`,`c2_at1`)CREATE TABLE `assoc4`(`c8_at1`c8_at1_typeNOT NULL,`c4_at3`c4_at3_typeNOT NULL, KEY `FK_assoc4_c8_at1_idx`(`c8_at1`), KEY `FK_assoc4_c4_at3_idx`(`c4_at3`), PRIMARY  KEY  (`c8_at1`,`c4_at3`)CREATE TABLE `assoc6`(`c6_at2`c6_at2_typeNOT NULL,`c1_at1`c1_at1_typeNOT NULL, KEY `FK_assoc6_c6_at2_idx`(`c6_at2`), KEY `FK_assoc6_c1_at1_idx`(`c1_at1`), PRIMARY  KEY  (`c6_at2`,`c1_at1`)CREATE TABLE `class6_name`(`c6_at4`c6_at4_type(64),`c6_at3`c6_at3_type(64),`c6_at1_0`c6_at1_type(64),`c6_at2`c6_at2_typeNOT NULL, PRIMARY  KEY  (`c6_at2`)CREATE TABLE `assoc2`(`c4_at3`c4_at3_typeNOT NULL,`c2_at1`c2_at1_typeNOT NULL, KEY `FK_assoc2_c4_at3_idx`(`c4_at3`), KEY `FK_assoc2_c2_at1_idx`(`c2_at1`), PRIMARY  KEY  (`c4_at3`,`c2_at1`) ALTER TABLE `class3_name` ALTER TABLE `assoc10` ADD CONSTRAINT `FK_assoc10_c3_at1` FOREIGN  KEY  (`c3_at1`) REFERENCES `class3_name`(`c3_at1`) ON DELETE CASCADE ON UPDATE CASCADE , ADD CONSTRAINT `FK_assoc10_c2_at1` FOREIGN  KEY  (`c2_at1`) REFERENCES `class2_name`(`c2_at1`) ON DELETE CASCADE ON UPDATE CASCADE , ALTER TABLE `class5_name` ADD CONSTRAINT `FK_class5_name_c2_at1` FOREIGN  KEY  (`c2_at1`) REFERENCES `class2_name`(`c2_at1`) ON DELETE CASCADE ON UPDATE CASCADE , ALTER TABLE `assoc5` ADD CONSTRAINT `FK_assoc5_c8_at1` FOREIGN  KEY  (`c8_at1`) REFERENCES `class8_name`(`c8_at1`) ON DELETE CASCADE ON UPDATE CASCADE , ADD CONSTRAINT `FK_assoc5_c6_at2` FOREIGN  KEY  (`c6_at2`) REFERENCES `class6_name`(`c6_at2`) ON DELETE CASCADE ON UPDATE CASCADE ; ALTER TABLE `assoc8` ADD CONSTRAINT `FK_assoc8_c3_at1` FOREIGN  KEY  (`c3_at1`) REFERENCES `class3_name`(`c3_at1`) ON DELETE CASCADE ON UPDATE CASCADE , ADD CONSTRAINT `FK_assoc8_c1_at1` FOREIGN  KEY  (`c1_at1`) REFERENCES `class1_name`(`c1_at1`) ON DELETE CASCADE ON UPDATE CASCADE , ALTER TABLE `class4_name` ADD CONSTRAINT `FK_class4_name_c6_at2` FOREIGN  KEY  (`c6_at2`) REFERENCES `class6_name`(`c6_at2`) ON DELETE CASCADE ON UPDATE CASCADE ; ADD CONSTRAINT `FK_class4_name_c1_at1` FOREIGN  KEY  (`c1_at1`) REFERENCES `class1_name`(`c1_at1`) ON DELETE CASCADE ON UPDATE CASCADE , ALTER TABLE `assoc1` ADD CONSTRAINT `FK_assoc1_c8_at1` FOREIGN  KEY  (`c8_at1`) REFERENCES `class8_name`(`c8_at1`) ON DELETE CASCADE ON UPDATE CASCADE , ALTER TABLE `assoc4` ADD CONSTRAINT `FK_assoc4_c8_at1` FOREIGN  KEY  (`c8_at1`) REFERENCES `class8_name`(`c8_at1`) ON DELETE CASCADE ON UPDATE CASCADE , ADD CONSTRAINT `FK_assoc4_c4_at3` FOREIGN  KEY  (`c4_at3`) REFERENCES `class4_name`(`c4_at3`) ON DELETE CASCADE ON UPDATE CASCADE ; ALTER TABLE `assoc6` ALTER TABLE `class7_name` ADD CONSTRAINT `FK_assoc6_c1_at1` FOREIGN  KEY  (`c1_at1`) REFERENCES `class1_name`(`c1_at1`) ON DELETE CASCADE ON UPDATE CASCADE , ALTER TABLE `assoc2` ADD CONSTRAINT `FK_assoc2_c4_at3` FOREIGN  KEY  (`c4_at3`) REFERENCES `class4_name`(`c4_at3`) ON DELETE CASCADE ON UPDATE CASCADE  ADD CONSTRAINT `FK_assoc2_c2_at1` FOREIGN  KEY  (`c2_at1`) REFERENCES `class2_name`(`c2_at1`) ON DELETE CASCADE ON UPDATE CASCADE [end]')\n",
            "('module OM_name: 0 ,openDeclaration one sig class1_name extends ClassattrSet=c1_at1+c1_at2id=c1_at1noparentisAbstract=No} one sig c1_at1 extends c1_at1_type one sig c1_at2 extends c1_at2_type, one sig class2_name extends ClassattrSet=c2_at1+c2_at2id=c2_at1noparentisAbstract=No} one sig c2_at1 extends c2_at1_type one sig c2_at2 extends c2_at2_type, one sig class3_name extends ClassattrSet=c3_at1+c3_at2+c3_at3+c3_at4+c3_at5+c3_at6id=c3_at1noparentisAbstract=No} one sig c3_at1 extends c3_at1_type one sig c3_at2 extends c3_at2_type one sig c3_at3 extends c3_at3_type one sig c3_at4 extends c3_at4_type one sig c3_at5 extends c3_at5_type one sig c3_at6 extends c3_at6_type, one sig class4_name extends ClassattrSet=c4_at1+c4_at2+c4_at3+c4_at4id=c4_at3noparentisAbstract=No} one sig c4_at1 extends c4_at1_type one sig c4_at2 extends c4_at2_type one sig c4_at3 extends c4_at3_type one sig c4_at4 extends c4_at4_type, one sig class5_name extends ClassattrSet=c5_at1 one parent  parentinclass2_nameid=c2_at1isAbstract=No} one sig c5_at1 extends c5_at1_type, one sig class6_name extends ClassattrSet=c6_at1_0+c6_at2+c6_at3+c6_at4id=c6_at2noparentisAbstract=No} one sig c6_at1_0 extends c6_at1_type one sig c6_at2 extends c6_at2_type one sig c6_at3 extends c6_at3_type one sig c6_at4 extends c6_at4_type, one sig class7_name extends ClassattrSet=c7_at1 one parent  parentinclass2_nameid=c2_at1isAbstract=No} one sig c7_at1 extends c7_at1_type, one sig class8_name extends ClassattrSet=c8_at1+c8_at2+c2_at2+c6_at3id=c8_at1noparentisAbstract=No} one sig c8_at1 extends c8_at1_type one sig c8_at1 extends c8_at1_type, one sig assoc1 extends  Association src=class8_namedst=class2_name, src_multiplicity =src_mlpc dst_multiplicity =dst_mlpc,} one sig assoc2 extends  Association src=class2_namedst=class4_name, src_multiplicity =src_mlpc2 dst_multiplicity =dst_mlpc,} one sig assoc3 extends  Association src=class8_namedst=class3_name, src_multiplicity =src_mlpc dst_multiplicity =dst_mlpc,} one sig assoc4 extends  Association src=class8_namedst=class4_name, src_multiplicity =src_mlpc dst_multiplicity =dst_mlpc,} one sig assoc5 extends  Association src=class8_namedst=class6_name, src_multiplicity =src_mlpc dst_multiplicity =dst_mlpc2,} one sig assoc6 extends  Association src=class6_namedst=class1_name, src_multiplicity =src_mlpc dst_multiplicity =dst_mlpc2,} one sig assoc7 extends  Association src=class6_namedst=class4_name, src_multiplicity =src_mlpc dst_multiplicity =dst_mlpc,} one sig assoc8 extends  Association src=class1_namedst=class3_name, src_multiplicity =src_mlpc dst_multiplicity =dst_mlpc,} one sig assoc9 extends  Association src=class1_namedst=class4_name, src_multiplicity =src_mlpc dst_multiplicity =dst_mlpc,} one sig assoc10 extends  Association src=class2_namedst=class3_name, src_multiplicity =src_mlpc dst_multiplicity =dst_mlpc2,},MappingStrategyforclass1_name:map_str2MappingStrategyforclass2_name:map_str2MappingStrategyforclass3_name:map_str2MappingStrategyforclass5_name:map_str2MappingStrategyforclass6_name:map_str2MappingStrategyforclass7_name:map_str3AssociationStrategyforassoc1:assoc_str2AssociationStrategyforassoc10:assoc_str2AssociationStrategyforassoc3:assoc_str2AssociationStrategyforassoc4:assoc_str2AssociationStrategyforassoc5:assoc_str2AssociationStrategyforassoc6:assoc_str2AssociationStrategyforassoc7:assoc_str2AssociationStrategyforassoc8:assoc_str2AssociationStrategyforassoc9:assoc_str2,USEOM_name:0;CREATE TABLE `class3_name`(`c3_at6`c3_at6_type,`c3_at5`c3_at5_type,`c3_at4`c3_at4_type,`c3_at3`c3_at3_type,`c3_at2`c3_at2_type,`c3_at1`c3_at1_typeNOT NULL, PRIMARY  KEY  (`c3_at1`)CREATE TABLE `class1_name`(`c1_at2`c1_at2_type(64),`c1_at1`c1_at1_typeNOT NULL, PRIMARY  KEY  (`c1_at1`)CREATE TABLE `class2_name`(`c8_at1`c8_at1_type,`c2_at1`c2_at1_typeNOT NULL, KEY `FK_class2_name_c8_at1_idx`(`c8_at1`), PRIMARY  KEY  (`c2_at1`)CREATE TABLE `class7_name`(`c7_at1`c7_at1_type(64),`c2_at1`c2_at1_typeNOT NULL, KEY `FK_class7_name_c2_at1_idx`(`c2_at1`), PRIMARY  KEY  (`c2_at1`)CREATE TABLE `assoc10`(`c3_at1`c3_at1_typeNOT NULL,`c2_at1`c2_at1_typeNOT NULL, KEY `FK_assoc10_c3_at1_idx`(`c3_at1`), KEY `FK_assoc10_c2_at1_idx`(`c2_at1`), PRIMARY  KEY  (`c3_at1`,`c2_at1`)CREATE TABLE `class8_name`(`c8_at2`c8_at2_type(64),`c2_at2`c2_at2_type(64),`c8_at1`c8_at1_typeNOT NULL, PRIMARY  KEY  (`c8_at1`)CREATE TABLE `class5_name`(`c5_at1`c5_at1_type,`c2_at2`c2_at2_type(64),`c2_at1`c2_at1_typeNOT NULL, PRIMARY  KEY  (`c2_at1`)AssociationStrategyforassoc5:assoc_str2`c8_at1`c8_at1_typeNOT NULL,`c6_at2`c6_at2_typeNOT NULL, KEY `FK_assoc5_c8_at1_idx`(`c8_at1`), KEY `FK_assoc5_c6_at2_idx`(`c6_at2`), PRIMARY  KEY  (`c8_at1`,`c6_at2`)CREATE TABLE `assoc3`(`c8_at1`c8_at1_typeNOT NULL,`c3_at1`c3_at1_typeNOT NULL, KEY `FK_assoc3_c8_at1_idx`(`c8_at1`), KEY `FK_assoc3_c3_at1_idx`(`c3_at1`), PRIMARY  KEY  (`c8_at1`,`c3_at1`)CREATE TABLE `assoc8`(`c3_at1`c3_at1_typeNOT NULL,`c1_at1`c1_at1_typeNOT NULL, KEY `FK_assoc8_c3_at1_idx`(`c3_at1`), KEY `FK_assoc8_c1_at1_idx`(`c1_at1`), PRIMARY  KEY  (`c3_at1`,`c1_at1`)CREATE TABLE `class4_name`(`c4_at4`c4_at4_type(64),`c4_at2`c4_at2_type(64),`c4_at1`c4_at1_type(64),`c8_at1`c8_at1_type,`c6_at2`c6_at2_type,`c4_at3`c4_at3_typeNOT NULL, KEY `FK_class4_name_c8_at1_idx`(`c8_at1`), KEY `FK_class4_name_c6_at2_idx`(`c6_at2`), PRIMARY  KEY  (`c4_at3`)CREATE TABLE `assoc6`(`c6_at2`c6_at2_typeNOT NULL,`c1_at1`c1_at1_typeNOT NULL, KEY `FK_assoc6_c6_at2_idx`(`c6_at2`), KEY `FK_assoc6_c1_at1_idx`(`c1_at1`), PRIMARY  KEY  (`c6_at2`,`c1_at1`)CREATE TABLE `class6_name`(`c6_at4`c6_at4_type(64),`c6_at3`c6_at3_type(64),`c6_at1_0`c6_at1_type(64),`c6_at2`c6_at2_typeNOT NULL, PRIMARY  KEY  (`c6_at2`)CREATE TABLE `assoc9`(`c4_at3`c4_at3_typeNOT NULL,`c1_at1`c1_at1_typeNOT NULL, KEY `FK_assoc9_c4_at3_idx`(`c4_at3`), KEY `FK_assoc9_c1_at1_idx`(`c1_at1`), PRIMARY  KEY  (`c4_at3`,`c1_at1`)CREATE TABLE `assoc2`(`c4_at3`c4_at3_typeNOT NULL,`c2_at1`c2_at1_typeNOT NULL, KEY `FK_assoc2_c4_at3_idx`(`c4_at3`), KEY `FK_assoc2_c2_at1_idx`(`c2_at1`), PRIMARY  KEY  (`c4_at3`,`c2_at1`) ALTER TABLE `class2_name` ADD CONSTRAINT `FK_class2_name_c8_at1` FOREIGN  KEY  (`c8_at1`) REFERENCES `class8_name`(`c8_at1`) ON DELETE CASCADE ON UPDATE CASCADE , ALTER TABLE `class7_name` ADD CONSTRAINT `FK_class7_name_c2_at1` FOREIGN  KEY  (`c2_at1`) REFERENCES `class2_name`(`c2_at1`) ON DELETE CASCADE ON UPDATE CASCADE , ALTER TABLE `assoc10` ADD CONSTRAINT `FK_assoc10_c3_at1` FOREIGN  KEY  (`c3_at1`) REFERENCES `class3_name`(`c3_at1`) ON DELETE CASCADE ON UPDATE CASCADE , ADD CONSTRAINT `FK_assoc10_c2_at1` FOREIGN  KEY  (`c2_at1`) REFERENCES `class2_name`(`c2_at1`) ON DELETE CASCADE ON UPDATE CASCADE , ALTER TABLE `assoc5` ADD CONSTRAINT `FK_assoc5_c8_at1` FOREIGN  KEY  (`c8_at1`) REFERENCES `class8_name`(`c8_at1`) ON DELETE CASCADE ON UPDATE CASCADE , ADD CONSTRAINT `FK_assoc5_c6_at2` FOREIGN  KEY  (`c6_at2`) REFERENCES `class6_name`(`c6_at2`) ON DELETE CASCADE ON UPDATE CASCADE ; ALTER TABLE `assoc3` ADD CONSTRAINT `FK_assoc3_c8_at1` FOREIGN  KEY  (`c8_at1`) REFERENCES `class8_name`(`c8_at1`) ON DELETE CASCADE ON UPDATE CASCADE , ADD CONSTRAINT `FK_assoc3_c3_at1` FOREIGN  KEY  (`c3_at1`) REFERENCES `class3_name`(`c3_at1`) ON DELETE CASCADE ON UPDATE CASCADE , ALTER TABLE `assoc8` ADD CONSTRAINT `FK_assoc8_c3_at1` FOREIGN  KEY  (`c3_at1`) REFERENCES `class3_name`(`c3_at1`) ON DELETE CASCADE ON UPDATE CASCADE , ADD CONSTRAINT `FK_assoc8_c1_at1` FOREIGN  KEY  (`c1_at1`) REFERENCES `class1_name`(`c1_at1`) ON DELETE CASCADE ON UPDATE CASCADE , ALTER TABLE `class4_name` ADD CONSTRAINT `FK_class4_name_c8_at1` FOREIGN  KEY  (`c8_at1`) REFERENCES `class8_name`(`c8_at1`) ON DELETE CASCADE ON UPDATE CASCADE , ADD CONSTRAINT `FK_class4_name_c6_at2` FOREIGN  KEY  (`c6_at2`) REFERENCES `class6_name`(`c6_at2`) ON DELETE CASCADE ON UPDATE CASCADE ; ALTER TABLE `assoc6` ALTER TABLE `class7_name` ADD CONSTRAINT `FK_assoc6_c1_at1` FOREIGN  KEY  (`c1_at1`) REFERENCES `class1_name`(`c1_at1`) ON DELETE CASCADE ON UPDATE CASCADE , ALTER TABLE `assoc9` ADD CONSTRAINT `FK_assoc9_c4_at3` FOREIGN  KEY  (`c4_at3`) REFERENCES `class4_name`(`c4_at3`) ON DELETE CASCADE ON UPDATE CASCADE , ADD CONSTRAINT `FK_assoc9_c1_at1` FOREIGN  KEY  (`c1_at1`) REFERENCES `class1_name`(`c1_at1`) ON DELETE CASCADE ON UPDATE CASCADE ; ALTER TABLE `assoc2` ADD CONSTRAINT `FK_assoc2_c4_at3` FOREIGN  KEY  (`c4_at3`) REFERENCES `class4_name`(`c4_at3`) ON DELETE CASCADE ON UPDATE CASCADE  ADD CONSTRAINT `FK_assoc2_c2_at1` FOREIGN  KEY  (`c2_at1`) REFERENCES `class2_name`(`c2_at1`) ON DELETE CASCADE ON UPDATE CASCADE ', '[start] NP, module OM_name: 0 ,openDeclaration one sig class1_name extends ClassattrSet=c1_at1+c1_at2id=c1_at1noparentisAbstract=No} one sig c1_at1 extends c1_at1_type one sig c1_at2 extends c1_at2_type, one sig class2_name extends ClassattrSet=c2_at1+c2_at2id=c2_at1noparentisAbstract=No} one sig c2_at1 extends c2_at1_type one sig c2_at2 extends c2_at2_type, one sig class3_name extends ClassattrSet=c3_at1+c3_at2+c3_at3+c3_at4+c3_at5+c3_at6id=c3_at1noparentisAbstract=No} one sig c3_at1 extends c3_at1_type one sig c3_at2 extends c3_at2_type one sig c3_at3 extends c3_at3_type one sig c3_at4 extends c3_at4_type one sig c3_at5 extends c3_at5_type one sig c3_at6 extends c3_at6_type, one sig class4_name extends ClassattrSet=c4_at1+c4_at2+c4_at3+c4_at4id=c4_at3noparentisAbstract=No} one sig c4_at1 extends c4_at1_type one sig c4_at2 extends c4_at2_type one sig c4_at3 extends c4_at3_type one sig c4_at4 extends c4_at4_type, one sig class5_name extends ClassattrSet=c5_at1 one parent  parentinclass2_nameid=c2_at1isAbstract=No} one sig c5_at1 extends c5_at1_type, one sig class6_name extends ClassattrSet=c6_at1_0+c6_at2+c6_at3+c6_at4id=c6_at2noparentisAbstract=No} one sig c6_at1_0 extends c6_at1_type one sig c6_at2 extends c6_at2_type one sig c6_at3 extends c6_at3_type one sig c6_at4 extends c6_at4_type, one sig class7_name extends ClassattrSet=c7_at1 one parent  parentinclass2_nameid=c2_at1isAbstract=No} one sig c7_at1 extends c7_at1_type, one sig class8_name extends ClassattrSet=c8_at1+c8_at2+c2_at2+c6_at3id=c8_at1noparentisAbstract=No} one sig c8_at1 extends c8_at1_type one sig c8_at1 extends c8_at1_type, one sig assoc1 extends  Association src=class8_namedst=class2_name, src_multiplicity =src_mlpc dst_multiplicity =dst_mlpc,} one sig assoc2 extends  Association src=class2_namedst=class4_name, src_multiplicity =src_mlpc2 dst_multiplicity =dst_mlpc,} one sig assoc3 extends  Association src=class8_namedst=class3_name, src_multiplicity =src_mlpc dst_multiplicity =dst_mlpc,} one sig assoc4 extends  Association src=class8_namedst=class4_name, src_multiplicity =src_mlpc dst_multiplicity =dst_mlpc,} one sig assoc5 extends  Association src=class8_namedst=class6_name, src_multiplicity =src_mlpc dst_multiplicity =dst_mlpc2,} one sig assoc6 extends  Association src=class6_namedst=class1_name, src_multiplicity =src_mlpc dst_multiplicity =dst_mlpc2,} one sig assoc7 extends  Association src=class6_namedst=class4_name, src_multiplicity =src_mlpc dst_multiplicity =dst_mlpc,} one sig assoc8 extends  Association src=class1_namedst=class3_name, src_multiplicity =src_mlpc dst_multiplicity =dst_mlpc,} one sig assoc9 extends  Association src=class1_namedst=class4_name, src_multiplicity =src_mlpc dst_multiplicity =dst_mlpc,} one sig assoc10 extends  Association src=class2_namedst=class3_name, src_multiplicity =src_mlpc dst_multiplicity =dst_mlpc2,},MappingStrategyforclass1_name:map_str2MappingStrategyforclass2_name:map_str2MappingStrategyforclass3_name:map_str2MappingStrategyforclass5_name:map_str2MappingStrategyforclass6_name:map_str2MappingStrategyforclass7_name:map_str3AssociationStrategyforassoc1:assoc_str2AssociationStrategyforassoc10:assoc_str2AssociationStrategyforassoc3:assoc_str2AssociationStrategyforassoc4:assoc_str2AssociationStrategyforassoc5:assoc_str2AssociationStrategyforassoc6:assoc_str2AssociationStrategyforassoc7:assoc_str2AssociationStrategyforassoc8:assoc_str2AssociationStrategyforassoc9:assoc_str2,USEOM_name:0;CREATE TABLE `class3_name`(`c3_at6`c3_at6_type,`c3_at5`c3_at5_type,`c3_at4`c3_at4_type,`c3_at3`c3_at3_type,`c3_at2`c3_at2_type,`c3_at1`c3_at1_typeNOT NULL, PRIMARY  KEY  (`c3_at1`)CREATE TABLE `class1_name`(`c1_at2`c1_at2_type(64),`c1_at1`c1_at1_typeNOT NULL, PRIMARY  KEY  (`c1_at1`)CREATE TABLE `class2_name`(`c8_at1`c8_at1_type,`c2_at1`c2_at1_typeNOT NULL, KEY `FK_class2_name_c8_at1_idx`(`c8_at1`), PRIMARY  KEY  (`c2_at1`)CREATE TABLE `class7_name`(`c7_at1`c7_at1_type(64),`c2_at1`c2_at1_typeNOT NULL, KEY `FK_class7_name_c2_at1_idx`(`c2_at1`), PRIMARY  KEY  (`c2_at1`)CREATE TABLE `assoc10`(`c3_at1`c3_at1_typeNOT NULL,`c2_at1`c2_at1_typeNOT NULL, KEY `FK_assoc10_c3_at1_idx`(`c3_at1`), KEY `FK_assoc10_c2_at1_idx`(`c2_at1`), PRIMARY  KEY  (`c3_at1`,`c2_at1`)CREATE TABLE `class8_name`(`c8_at2`c8_at2_type(64),`c2_at2`c2_at2_type(64),`c8_at1`c8_at1_typeNOT NULL, PRIMARY  KEY  (`c8_at1`)CREATE TABLE `class5_name`(`c5_at1`c5_at1_type,`c2_at2`c2_at2_type(64),`c2_at1`c2_at1_typeNOT NULL, PRIMARY  KEY  (`c2_at1`)AssociationStrategyforassoc5:assoc_str2`c8_at1`c8_at1_typeNOT NULL,`c6_at2`c6_at2_typeNOT NULL, KEY `FK_assoc5_c8_at1_idx`(`c8_at1`), KEY `FK_assoc5_c6_at2_idx`(`c6_at2`), PRIMARY  KEY  (`c8_at1`,`c6_at2`)CREATE TABLE `assoc3`(`c8_at1`c8_at1_typeNOT NULL,`c3_at1`c3_at1_typeNOT NULL, KEY `FK_assoc3_c8_at1_idx`(`c8_at1`), KEY `FK_assoc3_c3_at1_idx`(`c3_at1`), PRIMARY  KEY  (`c8_at1`,`c3_at1`)CREATE TABLE `assoc8`(`c3_at1`c3_at1_typeNOT NULL,`c1_at1`c1_at1_typeNOT NULL, KEY `FK_assoc8_c3_at1_idx`(`c3_at1`), KEY `FK_assoc8_c1_at1_idx`(`c1_at1`), PRIMARY  KEY  (`c3_at1`,`c1_at1`)CREATE TABLE `class4_name`(`c4_at4`c4_at4_type(64),`c4_at2`c4_at2_type(64),`c4_at1`c4_at1_type(64),`c8_at1`c8_at1_type,`c6_at2`c6_at2_type,`c4_at3`c4_at3_typeNOT NULL, KEY `FK_class4_name_c8_at1_idx`(`c8_at1`), KEY `FK_class4_name_c6_at2_idx`(`c6_at2`), PRIMARY  KEY  (`c4_at3`)CREATE TABLE `assoc6`(`c6_at2`c6_at2_typeNOT NULL,`c1_at1`c1_at1_typeNOT NULL, KEY `FK_assoc6_c6_at2_idx`(`c6_at2`), KEY `FK_assoc6_c1_at1_idx`(`c1_at1`), PRIMARY  KEY  (`c6_at2`,`c1_at1`)CREATE TABLE `class6_name`(`c6_at4`c6_at4_type(64),`c6_at3`c6_at3_type(64),`c6_at1_0`c6_at1_type(64),`c6_at2`c6_at2_typeNOT NULL, PRIMARY  KEY  (`c6_at2`)CREATE TABLE `assoc9`(`c4_at3`c4_at3_typeNOT NULL,`c1_at1`c1_at1_typeNOT NULL, KEY `FK_assoc9_c4_at3_idx`(`c4_at3`), KEY `FK_assoc9_c1_at1_idx`(`c1_at1`), PRIMARY  KEY  (`c4_at3`,`c1_at1`)CREATE TABLE `assoc2`(`c4_at3`c4_at3_typeNOT NULL,`c2_at1`c2_at1_typeNOT NULL, KEY `FK_assoc2_c4_at3_idx`(`c4_at3`), KEY `FK_assoc2_c2_at1_idx`(`c2_at1`), PRIMARY  KEY  (`c4_at3`,`c2_at1`) ALTER TABLE `class2_name` ADD CONSTRAINT `FK_class2_name_c8_at1` FOREIGN  KEY  (`c8_at1`) REFERENCES `class8_name`(`c8_at1`) ON DELETE CASCADE ON UPDATE CASCADE , ALTER TABLE `class7_name` ADD CONSTRAINT `FK_class7_name_c2_at1` FOREIGN  KEY  (`c2_at1`) REFERENCES `class2_name`(`c2_at1`) ON DELETE CASCADE ON UPDATE CASCADE , ALTER TABLE `assoc10` ADD CONSTRAINT `FK_assoc10_c3_at1` FOREIGN  KEY  (`c3_at1`) REFERENCES `class3_name`(`c3_at1`) ON DELETE CASCADE ON UPDATE CASCADE , ADD CONSTRAINT `FK_assoc10_c2_at1` FOREIGN  KEY  (`c2_at1`) REFERENCES `class2_name`(`c2_at1`) ON DELETE CASCADE ON UPDATE CASCADE , ALTER TABLE `assoc5` ADD CONSTRAINT `FK_assoc5_c8_at1` FOREIGN  KEY  (`c8_at1`) REFERENCES `class8_name`(`c8_at1`) ON DELETE CASCADE ON UPDATE CASCADE , ADD CONSTRAINT `FK_assoc5_c6_at2` FOREIGN  KEY  (`c6_at2`) REFERENCES `class6_name`(`c6_at2`) ON DELETE CASCADE ON UPDATE CASCADE ; ALTER TABLE `assoc3` ADD CONSTRAINT `FK_assoc3_c8_at1` FOREIGN  KEY  (`c8_at1`) REFERENCES `class8_name`(`c8_at1`) ON DELETE CASCADE ON UPDATE CASCADE , ADD CONSTRAINT `FK_assoc3_c3_at1` FOREIGN  KEY  (`c3_at1`) REFERENCES `class3_name`(`c3_at1`) ON DELETE CASCADE ON UPDATE CASCADE , ALTER TABLE `assoc8` ADD CONSTRAINT `FK_assoc8_c3_at1` FOREIGN  KEY  (`c3_at1`) REFERENCES `class3_name`(`c3_at1`) ON DELETE CASCADE ON UPDATE CASCADE , ADD CONSTRAINT `FK_assoc8_c1_at1` FOREIGN  KEY  (`c1_at1`) REFERENCES `class1_name`(`c1_at1`) ON DELETE CASCADE ON UPDATE CASCADE , ALTER TABLE `class4_name` ADD CONSTRAINT `FK_class4_name_c8_at1` FOREIGN  KEY  (`c8_at1`) REFERENCES `class8_name`(`c8_at1`) ON DELETE CASCADE ON UPDATE CASCADE , ADD CONSTRAINT `FK_class4_name_c6_at2` FOREIGN  KEY  (`c6_at2`) REFERENCES `class6_name`(`c6_at2`) ON DELETE CASCADE ON UPDATE CASCADE ; ALTER TABLE `assoc6` ALTER TABLE `class7_name` ADD CONSTRAINT `FK_assoc6_c1_at1` FOREIGN  KEY  (`c1_at1`) REFERENCES `class1_name`(`c1_at1`) ON DELETE CASCADE ON UPDATE CASCADE , ALTER TABLE `assoc9` ADD CONSTRAINT `FK_assoc9_c4_at3` FOREIGN  KEY  (`c4_at3`) REFERENCES `class4_name`(`c4_at3`) ON DELETE CASCADE ON UPDATE CASCADE , ADD CONSTRAINT `FK_assoc9_c1_at1` FOREIGN  KEY  (`c1_at1`) REFERENCES `class1_name`(`c1_at1`) ON DELETE CASCADE ON UPDATE CASCADE ; ALTER TABLE `assoc2` ADD CONSTRAINT `FK_assoc2_c4_at3` FOREIGN  KEY  (`c4_at3`) REFERENCES `class4_name`(`c4_at3`) ON DELETE CASCADE ON UPDATE CASCADE  ADD CONSTRAINT `FK_assoc2_c2_at1` FOREIGN  KEY  (`c2_at1`) REFERENCES `class2_name`(`c2_at1`) ON DELETE CASCADE ON UPDATE CASCADE [end]')\n",
            "('module OM_name: 0 ,openDeclaration one sig class1_name extends ClassattrSet=c1_at1+c1_at2id=c1_at1noparentisAbstract=No} one sig c1_at1 extends c1_at1_type one sig c1_at2 extends c1_at2_type, one sig class2_name extends ClassattrSet=c2_at1+c2_at2id=c2_at1noparentisAbstract=No} one sig c2_at1 extends c2_at1_type one sig c2_at2 extends c2_at2_type, one sig class3_name extends ClassattrSet=c3_at1+c3_at2+c3_at3+c3_at4+c3_at5+c3_at6id=c3_at1noparentisAbstract=No} one sig c3_at1 extends c3_at1_type one sig c3_at2 extends c3_at2_type one sig c3_at3 extends c3_at3_type one sig c3_at4 extends c3_at4_type one sig c3_at5 extends c3_at5_type one sig c3_at6 extends c3_at6_type, one sig class4_name extends ClassattrSet=c4_at1+c4_at2+c4_at3+c4_at4id=c4_at3noparentisAbstract=No} one sig c4_at1 extends c4_at1_type one sig c4_at2 extends c4_at2_type one sig c4_at3 extends c4_at3_type one sig c4_at4 extends c4_at4_type, one sig class5_name extends ClassattrSet=c5_at1 one parent  parentinclass2_nameid=c2_at1isAbstract=No} one sig c5_at1 extends c5_at1_type, one sig class6_name extends ClassattrSet=c6_at1_0+c6_at2+c6_at3+c6_at4id=c6_at2noparentisAbstract=No} one sig c6_at1_0 extends c6_at1_type one sig c6_at2 extends c6_at2_type one sig c6_at3 extends c6_at3_type one sig c6_at4 extends c6_at4_type, one sig class7_name extends ClassattrSet=c7_at1 one parent  parentinclass2_nameid=c2_at1isAbstract=No} one sig c7_at1 extends c7_at1_type, one sig class8_name extends ClassattrSet=c8_at1+c8_at2+c2_at2+c6_at3id=c8_at1noparentisAbstract=No} one sig c8_at1 extends c8_at1_type one sig c8_at1 extends c8_at1_type, one sig assoc1 extends  Association src=class8_namedst=class2_name, src_multiplicity =src_mlpc dst_multiplicity =dst_mlpc,} one sig assoc2 extends  Association src=class2_namedst=class4_name, src_multiplicity =src_mlpc2 dst_multiplicity =dst_mlpc,} one sig assoc3 extends  Association src=class8_namedst=class3_name, src_multiplicity =src_mlpc dst_multiplicity =dst_mlpc,} one sig assoc4 extends  Association src=class8_namedst=class4_name, src_multiplicity =src_mlpc dst_multiplicity =dst_mlpc,} one sig assoc5 extends  Association src=class8_namedst=class6_name, src_multiplicity =src_mlpc dst_multiplicity =dst_mlpc2,} one sig assoc6 extends  Association src=class6_namedst=class1_name, src_multiplicity =src_mlpc dst_multiplicity =dst_mlpc2,} one sig assoc7 extends  Association src=class6_namedst=class4_name, src_multiplicity =src_mlpc dst_multiplicity =dst_mlpc,} one sig assoc8 extends  Association src=class1_namedst=class3_name, src_multiplicity =src_mlpc dst_multiplicity =dst_mlpc,} one sig assoc9 extends  Association src=class1_namedst=class4_name, src_multiplicity =src_mlpc dst_multiplicity =dst_mlpc,} one sig assoc10 extends  Association src=class2_namedst=class3_name, src_multiplicity =src_mlpc dst_multiplicity =dst_mlpc2,},MappingStrategyforclass1_name:map_str2MappingStrategyforclass6_name:map_str2MappingStrategyforclass5_name:map_str3MappingStrategyforclass7_name:map_str3AssociationStrategyforassoc1:assoc_str1AssociationStrategyforassoc3:assoc_str1AssociationStrategyforassoc7:assoc_str1AssociationStrategyforassoc8:assoc_str1AssociationStrategyforassoc9:assoc_str1AssociationStrategyforassoc10:assoc_str2AssociationStrategyforassoc4:assoc_str2AssociationStrategyforassoc5:assoc_str2AssociationStrategyforassoc6:assoc_str2,USEOM_name:0;CREATE TABLE `class3_name`(`c8_at1`c8_at1_type,`c3_at6`c3_at6_type,`c3_at5`c3_at5_type,`c3_at4`c3_at4_type,`c3_at3`c3_at3_type,`c3_at2`c3_at2_type,`c3_at1`c3_at1_typeNOT NULL,`c1_at1`int, KEY `FK_class3_name_c8_at1_idx`(`c8_at1`), KEY `FK_class3_name_c1_at1_idx`(`c1_at1`), PRIMARY  KEY  (`c3_at1`)CREATE TABLE `class1_name`(`c1_at2`c1_at2_type(64),`c1_at1`c1_at1_typeNOT NULL, PRIMARY  KEY  (`c1_at1`)CREATE TABLE `class2_name`(`c2_at2`c2_at2_type(64),`c2_at1`c2_at1_typeNOT NULL, PRIMARY  KEY  (`c2_at1`)CREATE TABLE `class7_name`(`c7_at1`c7_at1_type(64),`c2_at1`c2_at1_typeNOT NULL, KEY `FK_class7_name_c2_at1_idx`(`c2_at1`), PRIMARY  KEY  (`c2_at1`)CREATE TABLE `assoc10`(`c3_at1`c3_at1_typeNOT NULL,`c2_at1`c2_at1_typeNOT NULL, KEY `FK_assoc10_c3_at1_idx`(`c3_at1`), KEY `FK_assoc10_c2_at1_idx`(`c2_at1`), PRIMARY  KEY  (`c3_at1`,`c2_at1`)CREATE TABLE `class8_name`(`c8_at2`c8_at2_type(64),`c2_at2`c2_at2_type(64),`c8_at1`c8_at1_typeNOT NULL, PRIMARY  KEY  (`c8_at1`)CREATE TABLE `class5_name`(`c5_at1`c5_at1_type,`c2_at2`c2_at2_type(64),`c2_at1`c2_at1_typeNOT NULL, PRIMARY  KEY  (`c2_at1`)CREATE TABLE `assoc7`(`c6_at2`c6_at2_typeNOT NULL,`c4_at3`c4_at3_typeNOT NULL, KEY `FK_assoc7_c6_at2_idx`(`c6_at2`), KEY `FK_assoc7_c4_at3_idx`(`c4_at3`), PRIMARY  KEY  (`c6_at2`,`c4_at3`)AssociationStrategyforassoc5:assoc_str2`c8_at1`c8_at1_typeNOT NULL,`c6_at2`c6_at2_typeNOT NULL, KEY `FK_assoc5_c8_at1_idx`(`c8_at1`), KEY `FK_assoc5_c6_at2_idx`(`c6_at2`), PRIMARY  KEY  (`c8_at1`,`c6_at2`)CREATE TABLE `assoc1`(`c8_at1`c8_at1_typeNOT NULL,`c2_at1`c2_at1_typeNOT NULL, KEY `FK_assoc1_c8_at1_idx`(`c8_at1`), KEY `FK_assoc1_c2_at1_idx`(`c2_at1`), PRIMARY  KEY  (`c8_at1`,`c2_at1`)CREATE TABLE `class4_name`(`c4_at4`c4_at4_type(64),`c4_at2`c4_at2_type(64),`c4_at1`c4_at1_type(64),`c4_at3`c4_at3_typeNOT NULL, PRIMARY  KEY  (`c4_at3`)CREATE TABLE `assoc4`(`c8_at1`c8_at1_typeNOT NULL,`c4_at3`c4_at3_typeNOT NULL, KEY `FK_assoc4_c8_at1_idx`(`c8_at1`), KEY `FK_assoc4_c4_at3_idx`(`c4_at3`), PRIMARY  KEY  (`c8_at1`,`c4_at3`)CREATE TABLE `assoc6`(`c6_at2`c6_at2_typeNOT NULL,`c1_at1`c1_at1_typeNOT NULL, KEY `FK_assoc6_c6_at2_idx`(`c6_at2`), KEY `FK_assoc6_c1_at1_idx`(`c1_at1`), PRIMARY  KEY  (`c6_at2`,`c1_at1`)CREATE TABLE `class6_name`(`c6_at4`c6_at4_type(64),`c6_at3`c6_at3_type(64),`c6_at1_0`c6_at1_type(64),`c6_at2`c6_at2_typeNOT NULL, PRIMARY  KEY  (`c6_at2`)CREATE TABLE `assoc9`(`c4_at3`c4_at3_typeNOT NULL,`c1_at1`c1_at1_typeNOT NULL, KEY `FK_assoc9_c4_at3_idx`(`c4_at3`), KEY `FK_assoc9_c1_at1_idx`(`c1_at1`), PRIMARY  KEY  (`c4_at3`,`c1_at1`)CREATE TABLE `assoc2`(`c4_at3`c4_at3_typeNOT NULL,`c2_at1`c2_at1_typeNOT NULL, KEY `FK_assoc2_c4_at3_idx`(`c4_at3`), KEY `FK_assoc2_c2_at1_idx`(`c2_at1`), PRIMARY  KEY  (`c4_at3`,`c2_at1`) ALTER TABLE `class3_name` ADD CONSTRAINT `FK_class3_name_c8_at1` FOREIGN  KEY  (`c8_at1`) REFERENCES `class8_name`(`c8_at1`) ON DELETE CASCADE ON UPDATE CASCADE , ADD CONSTRAINT `FK_class3_name_c1_at1` FOREIGN  KEY  (`c1_at1`) REFERENCES `class1_name`(`c1_at1`) ON DELETE CASCADE ON UPDATE CASCADE , ALTER TABLE `class7_name` ADD CONSTRAINT `FK_class7_name_c2_at1` FOREIGN  KEY  (`c2_at1`) REFERENCES `class2_name`(`c2_at1`) ON DELETE CASCADE ON UPDATE CASCADE , ALTER TABLE `assoc10` ADD CONSTRAINT `FK_assoc10_c3_at1` FOREIGN  KEY  (`c3_at1`) REFERENCES `class3_name`(`c3_at1`) ON DELETE CASCADE ON UPDATE CASCADE , ADD CONSTRAINT `FK_assoc10_c2_at1` FOREIGN  KEY  (`c2_at1`) REFERENCES `class2_name`(`c2_at1`) ON DELETE CASCADE ON UPDATE CASCADE , ALTER TABLE `assoc7` ADD CONSTRAINT `FK_assoc7_c6_at2` FOREIGN  KEY  (`c6_at2`) REFERENCES `class6_name`(`c6_at2`) ON DELETE CASCADE ON UPDATE CASCADE , ADD CONSTRAINT `FK_assoc7_c4_at3` FOREIGN  KEY  (`c4_at3`) REFERENCES `class4_name`(`c4_at3`) ON DELETE CASCADE ON UPDATE CASCADE ; ALTER TABLE `assoc5` ADD CONSTRAINT `FK_assoc5_c8_at1` FOREIGN  KEY  (`c8_at1`) REFERENCES `class8_name`(`c8_at1`) ON DELETE CASCADE ON UPDATE CASCADE , ADD CONSTRAINT `FK_assoc5_c6_at2` FOREIGN  KEY  (`c6_at2`) REFERENCES `class6_name`(`c6_at2`) ON DELETE CASCADE ON UPDATE CASCADE ; ALTER TABLE `assoc1` ADD CONSTRAINT `FK_assoc1_c8_at1` FOREIGN  KEY  (`c8_at1`) REFERENCES `class8_name`(`c8_at1`) ON DELETE CASCADE ON UPDATE CASCADE , ALTER TABLE `assoc4` ADD CONSTRAINT `FK_assoc4_c8_at1` FOREIGN  KEY  (`c8_at1`) REFERENCES `class8_name`(`c8_at1`) ON DELETE CASCADE ON UPDATE CASCADE , ADD CONSTRAINT `FK_assoc4_c4_at3` FOREIGN  KEY  (`c4_at3`) REFERENCES `class4_name`(`c4_at3`) ON DELETE CASCADE ON UPDATE CASCADE ; ALTER TABLE `assoc6` ALTER TABLE `class7_name` ADD CONSTRAINT `FK_assoc6_c1_at1` FOREIGN  KEY  (`c1_at1`) REFERENCES `class1_name`(`c1_at1`) ON DELETE CASCADE ON UPDATE CASCADE , ALTER TABLE `assoc9` ADD CONSTRAINT `FK_assoc9_c4_at3` FOREIGN  KEY  (`c4_at3`) REFERENCES `class4_name`(`c4_at3`) ON DELETE CASCADE ON UPDATE CASCADE , ADD CONSTRAINT `FK_assoc9_c1_at1` FOREIGN  KEY  (`c1_at1`) REFERENCES `class1_name`(`c1_at1`) ON DELETE CASCADE ON UPDATE CASCADE ; ALTER TABLE `assoc2` ADD CONSTRAINT `FK_assoc2_c4_at3` FOREIGN  KEY  (`c4_at3`) REFERENCES `class4_name`(`c4_at3`) ON DELETE CASCADE ON UPDATE CASCADE  ADD CONSTRAINT `FK_assoc2_c2_at1` FOREIGN  KEY  (`c2_at1`) REFERENCES `class2_name`(`c2_at1`) ON DELETE CASCADE ON UPDATE CASCADE ', '[start] NP, module OM_name: 0 ,openDeclaration one sig class1_name extends ClassattrSet=c1_at1+c1_at2id=c1_at1noparentisAbstract=No} one sig c1_at1 extends c1_at1_type one sig c1_at2 extends c1_at2_type, one sig class2_name extends ClassattrSet=c2_at1+c2_at2id=c2_at1noparentisAbstract=No} one sig c2_at1 extends c2_at1_type one sig c2_at2 extends c2_at2_type, one sig class3_name extends ClassattrSet=c3_at1+c3_at2+c3_at3+c3_at4+c3_at5+c3_at6id=c3_at1noparentisAbstract=No} one sig c3_at1 extends c3_at1_type one sig c3_at2 extends c3_at2_type one sig c3_at3 extends c3_at3_type one sig c3_at4 extends c3_at4_type one sig c3_at5 extends c3_at5_type one sig c3_at6 extends c3_at6_type, one sig class4_name extends ClassattrSet=c4_at1+c4_at2+c4_at3+c4_at4id=c4_at3noparentisAbstract=No} one sig c4_at1 extends c4_at1_type one sig c4_at2 extends c4_at2_type one sig c4_at3 extends c4_at3_type one sig c4_at4 extends c4_at4_type, one sig class5_name extends ClassattrSet=c5_at1 one parent  parentinclass2_nameid=c2_at1isAbstract=No} one sig c5_at1 extends c5_at1_type, one sig class6_name extends ClassattrSet=c6_at1_0+c6_at2+c6_at3+c6_at4id=c6_at2noparentisAbstract=No} one sig c6_at1_0 extends c6_at1_type one sig c6_at2 extends c6_at2_type one sig c6_at3 extends c6_at3_type one sig c6_at4 extends c6_at4_type, one sig class7_name extends ClassattrSet=c7_at1 one parent  parentinclass2_nameid=c2_at1isAbstract=No} one sig c7_at1 extends c7_at1_type, one sig class8_name extends ClassattrSet=c8_at1+c8_at2+c2_at2+c6_at3id=c8_at1noparentisAbstract=No} one sig c8_at1 extends c8_at1_type one sig c8_at1 extends c8_at1_type, one sig assoc1 extends  Association src=class8_namedst=class2_name, src_multiplicity =src_mlpc dst_multiplicity =dst_mlpc,} one sig assoc2 extends  Association src=class2_namedst=class4_name, src_multiplicity =src_mlpc2 dst_multiplicity =dst_mlpc,} one sig assoc3 extends  Association src=class8_namedst=class3_name, src_multiplicity =src_mlpc dst_multiplicity =dst_mlpc,} one sig assoc4 extends  Association src=class8_namedst=class4_name, src_multiplicity =src_mlpc dst_multiplicity =dst_mlpc,} one sig assoc5 extends  Association src=class8_namedst=class6_name, src_multiplicity =src_mlpc dst_multiplicity =dst_mlpc2,} one sig assoc6 extends  Association src=class6_namedst=class1_name, src_multiplicity =src_mlpc dst_multiplicity =dst_mlpc2,} one sig assoc7 extends  Association src=class6_namedst=class4_name, src_multiplicity =src_mlpc dst_multiplicity =dst_mlpc,} one sig assoc8 extends  Association src=class1_namedst=class3_name, src_multiplicity =src_mlpc dst_multiplicity =dst_mlpc,} one sig assoc9 extends  Association src=class1_namedst=class4_name, src_multiplicity =src_mlpc dst_multiplicity =dst_mlpc,} one sig assoc10 extends  Association src=class2_namedst=class3_name, src_multiplicity =src_mlpc dst_multiplicity =dst_mlpc2,},MappingStrategyforclass1_name:map_str2MappingStrategyforclass6_name:map_str2MappingStrategyforclass5_name:map_str3MappingStrategyforclass7_name:map_str3AssociationStrategyforassoc1:assoc_str1AssociationStrategyforassoc3:assoc_str1AssociationStrategyforassoc7:assoc_str1AssociationStrategyforassoc8:assoc_str1AssociationStrategyforassoc9:assoc_str1AssociationStrategyforassoc10:assoc_str2AssociationStrategyforassoc4:assoc_str2AssociationStrategyforassoc5:assoc_str2AssociationStrategyforassoc6:assoc_str2,USEOM_name:0;CREATE TABLE `class3_name`(`c8_at1`c8_at1_type,`c3_at6`c3_at6_type,`c3_at5`c3_at5_type,`c3_at4`c3_at4_type,`c3_at3`c3_at3_type,`c3_at2`c3_at2_type,`c3_at1`c3_at1_typeNOT NULL,`c1_at1`int, KEY `FK_class3_name_c8_at1_idx`(`c8_at1`), KEY `FK_class3_name_c1_at1_idx`(`c1_at1`), PRIMARY  KEY  (`c3_at1`)CREATE TABLE `class1_name`(`c1_at2`c1_at2_type(64),`c1_at1`c1_at1_typeNOT NULL, PRIMARY  KEY  (`c1_at1`)CREATE TABLE `class2_name`(`c2_at2`c2_at2_type(64),`c2_at1`c2_at1_typeNOT NULL, PRIMARY  KEY  (`c2_at1`)CREATE TABLE `class7_name`(`c7_at1`c7_at1_type(64),`c2_at1`c2_at1_typeNOT NULL, KEY `FK_class7_name_c2_at1_idx`(`c2_at1`), PRIMARY  KEY  (`c2_at1`)CREATE TABLE `assoc10`(`c3_at1`c3_at1_typeNOT NULL,`c2_at1`c2_at1_typeNOT NULL, KEY `FK_assoc10_c3_at1_idx`(`c3_at1`), KEY `FK_assoc10_c2_at1_idx`(`c2_at1`), PRIMARY  KEY  (`c3_at1`,`c2_at1`)CREATE TABLE `class8_name`(`c8_at2`c8_at2_type(64),`c2_at2`c2_at2_type(64),`c8_at1`c8_at1_typeNOT NULL, PRIMARY  KEY  (`c8_at1`)CREATE TABLE `class5_name`(`c5_at1`c5_at1_type,`c2_at2`c2_at2_type(64),`c2_at1`c2_at1_typeNOT NULL, PRIMARY  KEY  (`c2_at1`)CREATE TABLE `assoc7`(`c6_at2`c6_at2_typeNOT NULL,`c4_at3`c4_at3_typeNOT NULL, KEY `FK_assoc7_c6_at2_idx`(`c6_at2`), KEY `FK_assoc7_c4_at3_idx`(`c4_at3`), PRIMARY  KEY  (`c6_at2`,`c4_at3`)AssociationStrategyforassoc5:assoc_str2`c8_at1`c8_at1_typeNOT NULL,`c6_at2`c6_at2_typeNOT NULL, KEY `FK_assoc5_c8_at1_idx`(`c8_at1`), KEY `FK_assoc5_c6_at2_idx`(`c6_at2`), PRIMARY  KEY  (`c8_at1`,`c6_at2`)CREATE TABLE `assoc1`(`c8_at1`c8_at1_typeNOT NULL,`c2_at1`c2_at1_typeNOT NULL, KEY `FK_assoc1_c8_at1_idx`(`c8_at1`), KEY `FK_assoc1_c2_at1_idx`(`c2_at1`), PRIMARY  KEY  (`c8_at1`,`c2_at1`)CREATE TABLE `class4_name`(`c4_at4`c4_at4_type(64),`c4_at2`c4_at2_type(64),`c4_at1`c4_at1_type(64),`c4_at3`c4_at3_typeNOT NULL, PRIMARY  KEY  (`c4_at3`)CREATE TABLE `assoc4`(`c8_at1`c8_at1_typeNOT NULL,`c4_at3`c4_at3_typeNOT NULL, KEY `FK_assoc4_c8_at1_idx`(`c8_at1`), KEY `FK_assoc4_c4_at3_idx`(`c4_at3`), PRIMARY  KEY  (`c8_at1`,`c4_at3`)CREATE TABLE `assoc6`(`c6_at2`c6_at2_typeNOT NULL,`c1_at1`c1_at1_typeNOT NULL, KEY `FK_assoc6_c6_at2_idx`(`c6_at2`), KEY `FK_assoc6_c1_at1_idx`(`c1_at1`), PRIMARY  KEY  (`c6_at2`,`c1_at1`)CREATE TABLE `class6_name`(`c6_at4`c6_at4_type(64),`c6_at3`c6_at3_type(64),`c6_at1_0`c6_at1_type(64),`c6_at2`c6_at2_typeNOT NULL, PRIMARY  KEY  (`c6_at2`)CREATE TABLE `assoc9`(`c4_at3`c4_at3_typeNOT NULL,`c1_at1`c1_at1_typeNOT NULL, KEY `FK_assoc9_c4_at3_idx`(`c4_at3`), KEY `FK_assoc9_c1_at1_idx`(`c1_at1`), PRIMARY  KEY  (`c4_at3`,`c1_at1`)CREATE TABLE `assoc2`(`c4_at3`c4_at3_typeNOT NULL,`c2_at1`c2_at1_typeNOT NULL, KEY `FK_assoc2_c4_at3_idx`(`c4_at3`), KEY `FK_assoc2_c2_at1_idx`(`c2_at1`), PRIMARY  KEY  (`c4_at3`,`c2_at1`) ALTER TABLE `class3_name` ADD CONSTRAINT `FK_class3_name_c8_at1` FOREIGN  KEY  (`c8_at1`) REFERENCES `class8_name`(`c8_at1`) ON DELETE CASCADE ON UPDATE CASCADE , ADD CONSTRAINT `FK_class3_name_c1_at1` FOREIGN  KEY  (`c1_at1`) REFERENCES `class1_name`(`c1_at1`) ON DELETE CASCADE ON UPDATE CASCADE , ALTER TABLE `class7_name` ADD CONSTRAINT `FK_class7_name_c2_at1` FOREIGN  KEY  (`c2_at1`) REFERENCES `class2_name`(`c2_at1`) ON DELETE CASCADE ON UPDATE CASCADE , ALTER TABLE `assoc10` ADD CONSTRAINT `FK_assoc10_c3_at1` FOREIGN  KEY  (`c3_at1`) REFERENCES `class3_name`(`c3_at1`) ON DELETE CASCADE ON UPDATE CASCADE , ADD CONSTRAINT `FK_assoc10_c2_at1` FOREIGN  KEY  (`c2_at1`) REFERENCES `class2_name`(`c2_at1`) ON DELETE CASCADE ON UPDATE CASCADE , ALTER TABLE `assoc7` ADD CONSTRAINT `FK_assoc7_c6_at2` FOREIGN  KEY  (`c6_at2`) REFERENCES `class6_name`(`c6_at2`) ON DELETE CASCADE ON UPDATE CASCADE , ADD CONSTRAINT `FK_assoc7_c4_at3` FOREIGN  KEY  (`c4_at3`) REFERENCES `class4_name`(`c4_at3`) ON DELETE CASCADE ON UPDATE CASCADE ; ALTER TABLE `assoc5` ADD CONSTRAINT `FK_assoc5_c8_at1` FOREIGN  KEY  (`c8_at1`) REFERENCES `class8_name`(`c8_at1`) ON DELETE CASCADE ON UPDATE CASCADE , ADD CONSTRAINT `FK_assoc5_c6_at2` FOREIGN  KEY  (`c6_at2`) REFERENCES `class6_name`(`c6_at2`) ON DELETE CASCADE ON UPDATE CASCADE ; ALTER TABLE `assoc1` ADD CONSTRAINT `FK_assoc1_c8_at1` FOREIGN  KEY  (`c8_at1`) REFERENCES `class8_name`(`c8_at1`) ON DELETE CASCADE ON UPDATE CASCADE , ALTER TABLE `assoc4` ADD CONSTRAINT `FK_assoc4_c8_at1` FOREIGN  KEY  (`c8_at1`) REFERENCES `class8_name`(`c8_at1`) ON DELETE CASCADE ON UPDATE CASCADE , ADD CONSTRAINT `FK_assoc4_c4_at3` FOREIGN  KEY  (`c4_at3`) REFERENCES `class4_name`(`c4_at3`) ON DELETE CASCADE ON UPDATE CASCADE ; ALTER TABLE `assoc6` ALTER TABLE `class7_name` ADD CONSTRAINT `FK_assoc6_c1_at1` FOREIGN  KEY  (`c1_at1`) REFERENCES `class1_name`(`c1_at1`) ON DELETE CASCADE ON UPDATE CASCADE , ALTER TABLE `assoc9` ADD CONSTRAINT `FK_assoc9_c4_at3` FOREIGN  KEY  (`c4_at3`) REFERENCES `class4_name`(`c4_at3`) ON DELETE CASCADE ON UPDATE CASCADE , ADD CONSTRAINT `FK_assoc9_c1_at1` FOREIGN  KEY  (`c1_at1`) REFERENCES `class1_name`(`c1_at1`) ON DELETE CASCADE ON UPDATE CASCADE ; ALTER TABLE `assoc2` ADD CONSTRAINT `FK_assoc2_c4_at3` FOREIGN  KEY  (`c4_at3`) REFERENCES `class4_name`(`c4_at3`) ON DELETE CASCADE ON UPDATE CASCADE  ADD CONSTRAINT `FK_assoc2_c2_at1` FOREIGN  KEY  (`c2_at1`) REFERENCES `class2_name`(`c2_at1`) ON DELETE CASCADE ON UPDATE CASCADE [end]')\n",
            "('module OM_name: 0 openDeclaration one sig class1_name extends ClassattrSet=c1_at1+c1_at2id=c1_at1noparentisAbstract=No} one sig c1_at1 extends c1_at1_type one sig c1_at2 extends c1_at2_type one sig class2_name extends ClassattrSet=c2_at1+c2_at2id=c2_at1noparentisAbstract=No} one sig c2_at1 extends c2_at1_type one sig c2_at2 extends c2_at2_type one sig class3_name extends ClassattrSet=c3_at1+c3_at2id=c3_at1noparentisAbstract=No} one sig c3_at1 extends c3_at1_type one sig c3_at2 extends c3_at2_type one sig class4_name extends ClassattrSet=c4_at1+c4_at2+c4_at3+c4_at4id=c4_at1noparentisAbstract=No} one sig c4_at1 extends c4_at1_type one sig c4_at2 extends c4_at2_type one sig c4_at3 extends c4_at3_type one sig c4_at4 extends c4_at4_type one sig class5_name extends ClassattrSet=c5_at1+c5_at2 one parent  parentinclass4_nameid=c4_at1isAbstract=No} one sig c5_at1 extends c5_at1_type one sig c5_at2 extends c5_at2_type one sig class6_name extends ClassattrSet=c6_at1+c6_at2+c6_at3id=c6_at1noparentisAbstract=No} one sig c6_at1 extends c6_at1_type one sig c6_at2 extends c6_at2_type one sig c6_at3 extends c6_at3_type one sig assoc1 extends  Association src=class6_namedst=class4_name src_multiplicity =src_mlpc2 dst_multiplicity =dst_mlpc} one sig assoc2 extends  Association src=class1_namedst=class5_name src_multiplicity =src_mlpc dst_multiplicity =dst_mlpc} one sig assoc3 extends  Association src=class4_namedst=class1_name src_multiplicity =src_mlpc dst_multiplicity =dst_mlpc} one sig assoc4 extends  Association src=class3_namedst=class1_name src_multiplicity =src_mlpc dst_multiplicity =dst_mlpc} pred show run show for30\\u200b,OM_name_Solution:0Table:class1_nameAttributec1_at1:c1_at1_typePrimaryKeyTable:class1_nameAttributec1_at2:c1_at2_typeTable:class2_nameAttributec2_at1:c1_at1_typePrimaryKeyTable:class2_nameAttributec2_at2:c2_at2_typeTable:class3_nameAttributec3_at1:c3_at1_typePrimaryKeyTable:class3_nameAttributec3_at2:c3_at2_typeTable:class4_nameAttributec4_at1:c4_at1_typePrimaryKeyTable:class4_nameAttributec4_at2:c4_at2_typeTable:class4_nameAttributec4_at3:c4_at3_typeTable:class4_nameAttributec4_at4:c4_at4_typeTable:class5_nameAttributec5_at1:c5_at1_typePrimaryKeyTable:class5_nameAttributec5_at2:c5_at2_typeTable:class6_nameAttributec6_at1:c6_at1_typePrimaryKeyTable:class6_nameAttributec6_at2:c6_at2_typeTableName:class6_nameTable:class1_nameAttributec1_at1:c1_at1_typePrimaryKeyTable:class2_nameAttributec2_at1:c1_at1_typePrimaryKeyTable:class3_nameAttributec3_at1:c3_at1_typePrimaryKeyTable:class4_nameAttributec4_at1:c4_at1_typePrimaryKeyTable:class6_nameAttributec6_at1:c6_at1_typePrimaryKeyTableName:class1_nameTableName:class2_nameTableName:class3_nameTableName:class4_nameTableName:class5_nameTableName:class6_name Mapping Strategy of Tableclass2_name:map_str2 Mapping Strategy of Tableclass3_name:map_str2 Mapping Strategy of Tableclass4_name:map_str1 Mapping Strategy of Tableclass5_name:map_str1AssociationStrategyforassoc2:assoc_type1AssociationStrategyforassoc3:assoc_type1AssociationStrategyforassoc4:assoc_type1AssociationStrategyforassoc1:assoc_type2,USEOM_name_0CREATE TABLE `assoc1`(`c6_at1`c6_at1_typeNOT NULL,`c4_at1`c4_at1_typeNOT NULL, KEY `FK_assoc1_c6_at1_idx`(`c6_at1`),FK_assoc1_c4_at1_idx`(`c4_at1`), PRIMARY  KEY  (`c6_at1`,`c4_at1`));CREATE TABLE `class3_name`(`c3_at2`c3_at2_type(64)`c3_at1`c3_at1_typeNOT NULL, PRIMARY  KEY  (`c3_at1`));CREATE TABLE `class2_name`(`c2_at2`c2_at2_type(64),`c2_at1`c2_at1_typeNOT NULL, PRIMARY  KEY  (`c2_at1`));CREATE TABLE `class6_name`(`c6_at3`c6_at3_type,`c6_at2`c6_at2_type,`c6_at1`c6_at1_typeNOT NULL,`c2_at1`c2_at1_type, KEY `FK_class6_name_c2_at1_idx`(`c2_at1`), PRIMARY  KEY  (`c6_at1`));CREATE TABLE `class1_name`(`c4_at1`c4_at1_type,`c3_at1`c3_at1_type,`c1_at2`c1_at2_type,`c1_at1`c1_at1_typeNOT NULL, KEY `FK_class1_name_c4_at1_idx`(`c4_at1`), KEY `FK_class1_name_c3_at1_idx`(`c3_at1`), PRIMARY  KEY  (`c1_at1`));CREATE TABLE `class4_name`(`c4_at5`c4_at5_type(64),`c4_at2`c4_at2_type(64),`c5_at2`c5_at2_type,`c5_at1`c5_at1_type,`c4_at4`c4_at4_type,`c4_at3`c4_at3_type,`c4_at1`c4_at1_typeNOT NULL, PRIMARY  KEY  (`c4_at1`)); ALTER TABLE `assoc1` ADD CONSTRAINT `FK_assoc1_c6_at1` FOREIGN  KEY  (`c6_at1`) REFERENCES `class6_name`(`c6_at1`) ON DELETE CASCADE ON UPDATE CASCADE , ADD CONSTRAINT `FK_assoc1_c4_at1` FOREIGN  KEY  (`c4_at1`) REFERENCES `class4_name`(`c4_at1`) ON DELETE CASCADE ON UPDATE CASCADE ; ALTER TABLE `class6_name` ADD CONSTRAINT `FK_class6_name_c2_at1` FOREIGN  KEY  (`c2_at1`) REFERENCES `class2_name`(`c2_at1`) ON DELETE CASCADE ON UPDATE CASCADE ; ALTER TABLE `class1_name` ADD CONSTRAINT `FK_class1_name_c4_at1` FOREIGN  KEY  (`c4_at1`) REFERENCES `class4_name`(`c4_at1`) ON DELETE CASCADE ON UPDATE CASCADE , ADD CONSTRAINT `FK_class1_name_c3_at1` FOREIGN  KEY  (`c3_at1`) REFERENCES `class3_name`(`c3_at1`) ON DELETE CASCADE ON UPDATE CASCADE ', '[start] NP, module OM_name: 0 openDeclaration one sig class1_name extends ClassattrSet=c1_at1+c1_at2id=c1_at1noparentisAbstract=No} one sig c1_at1 extends c1_at1_type one sig c1_at2 extends c1_at2_type one sig class2_name extends ClassattrSet=c2_at1+c2_at2id=c2_at1noparentisAbstract=No} one sig c2_at1 extends c2_at1_type one sig c2_at2 extends c2_at2_type one sig class3_name extends ClassattrSet=c3_at1+c3_at2id=c3_at1noparentisAbstract=No} one sig c3_at1 extends c3_at1_type one sig c3_at2 extends c3_at2_type one sig class4_name extends ClassattrSet=c4_at1+c4_at2+c4_at3+c4_at4id=c4_at1noparentisAbstract=No} one sig c4_at1 extends c4_at1_type one sig c4_at2 extends c4_at2_type one sig c4_at3 extends c4_at3_type one sig c4_at4 extends c4_at4_type one sig class5_name extends ClassattrSet=c5_at1+c5_at2 one parent  parentinclass4_nameid=c4_at1isAbstract=No} one sig c5_at1 extends c5_at1_type one sig c5_at2 extends c5_at2_type one sig class6_name extends ClassattrSet=c6_at1+c6_at2+c6_at3id=c6_at1noparentisAbstract=No} one sig c6_at1 extends c6_at1_type one sig c6_at2 extends c6_at2_type one sig c6_at3 extends c6_at3_type one sig assoc1 extends  Association src=class6_namedst=class4_name src_multiplicity =src_mlpc2 dst_multiplicity =dst_mlpc} one sig assoc2 extends  Association src=class1_namedst=class5_name src_multiplicity =src_mlpc dst_multiplicity =dst_mlpc} one sig assoc3 extends  Association src=class4_namedst=class1_name src_multiplicity =src_mlpc dst_multiplicity =dst_mlpc} one sig assoc4 extends  Association src=class3_namedst=class1_name src_multiplicity =src_mlpc dst_multiplicity =dst_mlpc} pred show run show for30\\u200b,OM_name_Solution:0Table:class1_nameAttributec1_at1:c1_at1_typePrimaryKeyTable:class1_nameAttributec1_at2:c1_at2_typeTable:class2_nameAttributec2_at1:c1_at1_typePrimaryKeyTable:class2_nameAttributec2_at2:c2_at2_typeTable:class3_nameAttributec3_at1:c3_at1_typePrimaryKeyTable:class3_nameAttributec3_at2:c3_at2_typeTable:class4_nameAttributec4_at1:c4_at1_typePrimaryKeyTable:class4_nameAttributec4_at2:c4_at2_typeTable:class4_nameAttributec4_at3:c4_at3_typeTable:class4_nameAttributec4_at4:c4_at4_typeTable:class5_nameAttributec5_at1:c5_at1_typePrimaryKeyTable:class5_nameAttributec5_at2:c5_at2_typeTable:class6_nameAttributec6_at1:c6_at1_typePrimaryKeyTable:class6_nameAttributec6_at2:c6_at2_typeTableName:class6_nameTable:class1_nameAttributec1_at1:c1_at1_typePrimaryKeyTable:class2_nameAttributec2_at1:c1_at1_typePrimaryKeyTable:class3_nameAttributec3_at1:c3_at1_typePrimaryKeyTable:class4_nameAttributec4_at1:c4_at1_typePrimaryKeyTable:class6_nameAttributec6_at1:c6_at1_typePrimaryKeyTableName:class1_nameTableName:class2_nameTableName:class3_nameTableName:class4_nameTableName:class5_nameTableName:class6_name Mapping Strategy of Tableclass2_name:map_str2 Mapping Strategy of Tableclass3_name:map_str2 Mapping Strategy of Tableclass4_name:map_str1 Mapping Strategy of Tableclass5_name:map_str1AssociationStrategyforassoc2:assoc_type1AssociationStrategyforassoc3:assoc_type1AssociationStrategyforassoc4:assoc_type1AssociationStrategyforassoc1:assoc_type2,USEOM_name_0CREATE TABLE `assoc1`(`c6_at1`c6_at1_typeNOT NULL,`c4_at1`c4_at1_typeNOT NULL, KEY `FK_assoc1_c6_at1_idx`(`c6_at1`),FK_assoc1_c4_at1_idx`(`c4_at1`), PRIMARY  KEY  (`c6_at1`,`c4_at1`));CREATE TABLE `class3_name`(`c3_at2`c3_at2_type(64)`c3_at1`c3_at1_typeNOT NULL, PRIMARY  KEY  (`c3_at1`));CREATE TABLE `class2_name`(`c2_at2`c2_at2_type(64),`c2_at1`c2_at1_typeNOT NULL, PRIMARY  KEY  (`c2_at1`));CREATE TABLE `class6_name`(`c6_at3`c6_at3_type,`c6_at2`c6_at2_type,`c6_at1`c6_at1_typeNOT NULL,`c2_at1`c2_at1_type, KEY `FK_class6_name_c2_at1_idx`(`c2_at1`), PRIMARY  KEY  (`c6_at1`));CREATE TABLE `class1_name`(`c4_at1`c4_at1_type,`c3_at1`c3_at1_type,`c1_at2`c1_at2_type,`c1_at1`c1_at1_typeNOT NULL, KEY `FK_class1_name_c4_at1_idx`(`c4_at1`), KEY `FK_class1_name_c3_at1_idx`(`c3_at1`), PRIMARY  KEY  (`c1_at1`));CREATE TABLE `class4_name`(`c4_at5`c4_at5_type(64),`c4_at2`c4_at2_type(64),`c5_at2`c5_at2_type,`c5_at1`c5_at1_type,`c4_at4`c4_at4_type,`c4_at3`c4_at3_type,`c4_at1`c4_at1_typeNOT NULL, PRIMARY  KEY  (`c4_at1`)); ALTER TABLE `assoc1` ADD CONSTRAINT `FK_assoc1_c6_at1` FOREIGN  KEY  (`c6_at1`) REFERENCES `class6_name`(`c6_at1`) ON DELETE CASCADE ON UPDATE CASCADE , ADD CONSTRAINT `FK_assoc1_c4_at1` FOREIGN  KEY  (`c4_at1`) REFERENCES `class4_name`(`c4_at1`) ON DELETE CASCADE ON UPDATE CASCADE ; ALTER TABLE `class6_name` ADD CONSTRAINT `FK_class6_name_c2_at1` FOREIGN  KEY  (`c2_at1`) REFERENCES `class2_name`(`c2_at1`) ON DELETE CASCADE ON UPDATE CASCADE ; ALTER TABLE `class1_name` ADD CONSTRAINT `FK_class1_name_c4_at1` FOREIGN  KEY  (`c4_at1`) REFERENCES `class4_name`(`c4_at1`) ON DELETE CASCADE ON UPDATE CASCADE , ADD CONSTRAINT `FK_class1_name_c3_at1` FOREIGN  KEY  (`c3_at1`) REFERENCES `class3_name`(`c3_at1`) ON DELETE CASCADE ON UPDATE CASCADE [end]')\n"
          ]
        }
      ],
      "source": [
        "for _ in range(5):\n",
        "    print(random.choice(text_pairs))"
      ]
    },
    {
      "cell_type": "markdown",
      "metadata": {
        "id": "6W_CONhiHqa7"
      },
      "source": [
        "Now, let's split the sentence pairs into a training set, a validation set,\n",
        "and a test set."
      ]
    },
    {
      "cell_type": "code",
      "execution_count": 8,
      "metadata": {
        "id": "URk0VYj5Hqa7",
        "colab": {
          "base_uri": "https://localhost:8080/"
        },
        "outputId": "b9f99520-11d7-4fad-9d50-830301935121"
      },
      "outputs": [
        {
          "output_type": "stream",
          "name": "stdout",
          "text": [
            "1541 total pairs\n",
            "1079 training pairs\n",
            "231 validation pairs\n",
            "231 test pairs\n"
          ]
        }
      ],
      "source": [
        "random.shuffle(text_pairs)\n",
        "num_val_samples = int(0.15 * len(text_pairs))\n",
        "num_train_samples = len(text_pairs) - 2 * num_val_samples\n",
        "train_pairs = text_pairs[:num_train_samples]\n",
        "val_pairs = text_pairs[num_train_samples : num_train_samples + num_val_samples]\n",
        "test_pairs = text_pairs[num_train_samples + num_val_samples :]\n",
        "\n",
        "print(f\"{len(text_pairs)} total pairs\")\n",
        "print(f\"{len(train_pairs)} training pairs\")\n",
        "print(f\"{len(val_pairs)} validation pairs\")\n",
        "print(f\"{len(test_pairs)} test pairs\")"
      ]
    },
    {
      "cell_type": "markdown",
      "metadata": {
        "id": "Sph5JNZfHqa7"
      },
      "source": [
        "## Vectorizing the text data\n",
        "\n",
        "We'll use two instances of the `TextVectorization` layer to vectorize the text\n",
        "data (one for English and one for Spanish),\n",
        "that is to say, to turn the original strings into integer sequences\n",
        "where each integer represents the index of a word in a vocabulary.\n",
        "\n",
        "The English layer will use the default string standardization (strip punctuation characters)\n",
        "and splitting scheme (split on whitespace), while\n",
        "the Spanish layer will use a custom standardization, where we add the character\n",
        "`\"¿\"` to the set of punctuation characters to be stripped.\n",
        "\n",
        "Note: in a production-grade machine translation model, I would not recommend\n",
        "stripping the punctuation characters in either language. Instead, I would recommend turning\n",
        "each punctuation character into its own token,\n",
        "which you could achieve by providing a custom `split` function to the `TextVectorization` layer."
      ]
    },
    {
      "cell_type": "code",
      "execution_count": 16,
      "metadata": {
        "id": "MjmfEsJaHqa7"
      },
      "outputs": [],
      "source": [
        "strip_chars = string.punctuation + \"\"\n",
        "strip_chars = strip_chars.replace(\"[\", \"\")\n",
        "strip_chars = strip_chars.replace(\"]\", \"\")\n",
        "\n",
        "vocab_size = 15000\n",
        "sequence_length = 100\n",
        "batch_size = 64\n",
        "\n",
        "\n",
        "def custom_standardization(input_string):\n",
        "    lowercase = tf.strings.lower(input_string)\n",
        "    return tf.strings.regex_replace(lowercase, \"[%s]\" % re.escape(strip_chars), \"\")\n",
        "\n",
        "\n",
        "eng_vectorization = TextVectorization(\n",
        "    max_tokens=vocab_size, output_mode=\"int\", output_sequence_length=sequence_length,\n",
        ")\n",
        "spa_vectorization = TextVectorization(\n",
        "    max_tokens=vocab_size,\n",
        "    output_mode=\"int\",\n",
        "    output_sequence_length=sequence_length + 1,\n",
        "    standardize=custom_standardization,\n",
        ")\n",
        "train_eng_texts = [pair[0] for pair in train_pairs]\n",
        "train_spa_texts = [pair[1] for pair in train_pairs]\n",
        "eng_vectorization.adapt(train_eng_texts)\n",
        "spa_vectorization.adapt(train_spa_texts)"
      ]
    },
    {
      "cell_type": "markdown",
      "metadata": {
        "id": "FaQljM4HHqa8"
      },
      "source": [
        "Next, we'll format our datasets.\n",
        "\n",
        "At each training step, the model will seek to predict target words N+1 (and beyond)\n",
        "using the source sentence and the target words 0 to N.\n",
        "\n",
        "As such, the training dataset will yield a tuple `(inputs, targets)`, where:\n",
        "\n",
        "- `inputs` is a dictionary with the keys `encoder_inputs` and `decoder_inputs`.\n",
        "`encoder_inputs` is the vectorized source sentence and `encoder_inputs` is the target sentence \"so far\",\n",
        "that is to say, the words 0 to N used to predict word N+1 (and beyond) in the target sentence.\n",
        "- `target` is the target sentence offset by one step:\n",
        "it provides the next words in the target sentence -- what the model will try to predict."
      ]
    },
    {
      "cell_type": "code",
      "execution_count": 17,
      "metadata": {
        "id": "HIrpGv30Hqa8"
      },
      "outputs": [],
      "source": [
        "\n",
        "def format_dataset(eng, spa):\n",
        "    eng = eng_vectorization(eng)\n",
        "    spa = spa_vectorization(spa)\n",
        "    return ({\"encoder_inputs\": eng, \"decoder_inputs\": spa[:, :-1],}, spa[:, 1:])\n",
        "\n",
        "\n",
        "def make_dataset(pairs):\n",
        "    eng_texts, spa_texts = zip(*pairs)\n",
        "    eng_texts = list(eng_texts)\n",
        "    spa_texts = list(spa_texts)\n",
        "    dataset = tf.data.Dataset.from_tensor_slices((eng_texts, spa_texts))\n",
        "    dataset = dataset.batch(batch_size)\n",
        "    dataset = dataset.map(format_dataset)\n",
        "    return dataset.shuffle(2048).prefetch(16).cache()\n",
        "\n",
        "\n",
        "train_ds = make_dataset(train_pairs)\n",
        "val_ds = make_dataset(val_pairs)"
      ]
    },
    {
      "cell_type": "markdown",
      "metadata": {
        "id": "x7VKHafcHqa8"
      },
      "source": [
        "Let's take a quick look at the sequence shapes\n",
        "(we have batches of 64 pairs, and all sequences are 20 steps long):"
      ]
    },
    {
      "cell_type": "code",
      "execution_count": 18,
      "metadata": {
        "id": "BNuIpcepHqa8",
        "colab": {
          "base_uri": "https://localhost:8080/"
        },
        "outputId": "1485e0de-235f-4b6b-d3cf-90d6c6d90df5"
      },
      "outputs": [
        {
          "output_type": "stream",
          "name": "stdout",
          "text": [
            "inputs[\"encoder_inputs\"].shape: (64, 100)\n",
            "inputs[\"decoder_inputs\"].shape: (64, 100)\n",
            "targets.shape: (64, 100)\n"
          ]
        }
      ],
      "source": [
        "for inputs, targets in train_ds.take(1):\n",
        "    print(f'inputs[\"encoder_inputs\"].shape: {inputs[\"encoder_inputs\"].shape}')\n",
        "    print(f'inputs[\"decoder_inputs\"].shape: {inputs[\"decoder_inputs\"].shape}')\n",
        "    print(f\"targets.shape: {targets.shape}\")"
      ]
    },
    {
      "cell_type": "markdown",
      "metadata": {
        "id": "pCZrNjuJHqa8"
      },
      "source": [
        "## Building the model\n",
        "\n",
        "Our sequence-to-sequence Transformer consists of a `TransformerEncoder`\n",
        "and a `TransformerDecoder` chained together. To make the model aware of word order,\n",
        "we also use a `PositionalEmbedding` layer.\n",
        "\n",
        "The source sequence will be pass to the `TransformerEncoder`,\n",
        "which will produce a new representation of it.\n",
        "This new representation will then be passed\n",
        "to the `TransformerDecoder`, together with the target sequence so far (target words 0 to N).\n",
        "The `TransformerDecoder` will then seek to predict the next words in the target sequence (N+1 and beyond).\n",
        "\n",
        "A key detail that makes this possible is causal masking\n",
        "(see method `get_causal_attention_mask()` on the `TransformerDecoder`).\n",
        "The `TransformerDecoder` sees the entire sequences at once, and thus we must make\n",
        "sure that it only uses information from target tokens 0 to N when predicting token N+1\n",
        "(otherwise, it could use information from the future, which would\n",
        "result in a model that cannot be used at inference time)."
      ]
    },
    {
      "cell_type": "code",
      "execution_count": 19,
      "metadata": {
        "id": "u7QpLXimHqa8"
      },
      "outputs": [],
      "source": [
        "\n",
        "class TransformerEncoder(layers.Layer):\n",
        "    def __init__(self, embed_dim, dense_dim, num_heads, **kwargs):\n",
        "        super().__init__(**kwargs)\n",
        "        self.embed_dim = embed_dim\n",
        "        self.dense_dim = dense_dim\n",
        "        self.num_heads = num_heads\n",
        "        self.attention = layers.MultiHeadAttention(\n",
        "            num_heads=num_heads, key_dim=embed_dim\n",
        "        )\n",
        "        self.dense_proj = keras.Sequential(\n",
        "            [layers.Dense(dense_dim, activation=\"relu\"), layers.Dense(embed_dim),]\n",
        "        )\n",
        "        self.layernorm_1 = layers.LayerNormalization()\n",
        "        self.layernorm_2 = layers.LayerNormalization()\n",
        "        self.supports_masking = True\n",
        "\n",
        "    def call(self, inputs, mask=None):\n",
        "        if mask is not None:\n",
        "            padding_mask = tf.cast(mask[:, tf.newaxis, :], dtype=\"int32\")\n",
        "        attention_output = self.attention(\n",
        "            query=inputs, value=inputs, key=inputs, attention_mask=padding_mask\n",
        "        )\n",
        "        proj_input = self.layernorm_1(inputs + attention_output)\n",
        "        proj_output = self.dense_proj(proj_input)\n",
        "        return self.layernorm_2(proj_input + proj_output)\n",
        "    def get_config(self):\n",
        "        config = super().get_config()\n",
        "        config.update({\n",
        "            \"embed_dim\": self.embed_dim,\n",
        "            \"dense_dim\": self.dense_dim,\n",
        "            \"num_heads\": self.num_heads,\n",
        "        })\n",
        "        return config\n",
        "\n",
        "\n",
        "class PositionalEmbedding(layers.Layer):\n",
        "    def __init__(self, sequence_length, vocab_size, embed_dim, **kwargs):\n",
        "        super().__init__(**kwargs)\n",
        "        self.token_embeddings = layers.Embedding(\n",
        "            input_dim=vocab_size, output_dim=embed_dim\n",
        "        )\n",
        "        self.position_embeddings = layers.Embedding(\n",
        "            input_dim=sequence_length, output_dim=embed_dim\n",
        "        )\n",
        "        self.sequence_length = sequence_length\n",
        "        self.vocab_size = vocab_size\n",
        "        self.embed_dim = embed_dim\n",
        "\n",
        "    def call(self, inputs):\n",
        "        length = tf.shape(inputs)[-1]\n",
        "        positions = tf.range(start=0, limit=length, delta=1)\n",
        "        embedded_tokens = self.token_embeddings(inputs)\n",
        "        embedded_positions = self.position_embeddings(positions)\n",
        "        return embedded_tokens + embedded_positions\n",
        "\n",
        "    def compute_mask(self, inputs, mask=None):\n",
        "        return tf.math.not_equal(inputs, 0)\n",
        "    def get_config(self):\n",
        "        config = super().get_config()\n",
        "        config.update({\n",
        "            \"sequence_length\": self.sequence_length,\n",
        "            \"vocab_size\": self.vocab_size,\n",
        "            \"embed_dim\": self.embed_dim,\n",
        "        })\n",
        "        return config\n",
        "\n",
        "\n",
        "class TransformerDecoder(layers.Layer):\n",
        "    def __init__(self, embed_dim, latent_dim, num_heads, **kwargs):\n",
        "        super().__init__(**kwargs)\n",
        "        self.embed_dim = embed_dim\n",
        "        self.latent_dim = latent_dim\n",
        "        self.num_heads = num_heads\n",
        "        self.attention_1 = layers.MultiHeadAttention(\n",
        "            num_heads=num_heads, key_dim=embed_dim\n",
        "        )\n",
        "        self.attention_2 = layers.MultiHeadAttention(\n",
        "            num_heads=num_heads, key_dim=embed_dim\n",
        "        )\n",
        "        self.dense_proj = keras.Sequential(\n",
        "            [layers.Dense(latent_dim, activation=\"relu\"), layers.Dense(embed_dim),]\n",
        "        )\n",
        "        self.layernorm_1 = layers.LayerNormalization()\n",
        "        self.layernorm_2 = layers.LayerNormalization()\n",
        "        self.layernorm_3 = layers.LayerNormalization()\n",
        "        self.supports_masking = True\n",
        "\n",
        "    def call(self, inputs, encoder_outputs, mask=None):\n",
        "        causal_mask = self.get_causal_attention_mask(inputs)\n",
        "        if mask is not None:\n",
        "            padding_mask = tf.cast(mask[:, tf.newaxis, :], dtype=\"int32\")\n",
        "            padding_mask = tf.minimum(padding_mask, causal_mask)\n",
        "\n",
        "        attention_output_1 = self.attention_1(\n",
        "            query=inputs, value=inputs, key=inputs, attention_mask=causal_mask\n",
        "        )\n",
        "        out_1 = self.layernorm_1(inputs + attention_output_1)\n",
        "\n",
        "        attention_output_2 = self.attention_2(\n",
        "            query=out_1,\n",
        "            value=encoder_outputs,\n",
        "            key=encoder_outputs,\n",
        "            attention_mask=padding_mask,\n",
        "        )\n",
        "        out_2 = self.layernorm_2(out_1 + attention_output_2)\n",
        "\n",
        "        proj_output = self.dense_proj(out_2)\n",
        "        return self.layernorm_3(out_2 + proj_output)\n",
        "\n",
        "    def get_causal_attention_mask(self, inputs):\n",
        "        input_shape = tf.shape(inputs)\n",
        "        batch_size, sequence_length = input_shape[0], input_shape[1]\n",
        "        i = tf.range(sequence_length)[:, tf.newaxis]\n",
        "        j = tf.range(sequence_length)\n",
        "        mask = tf.cast(i >= j, dtype=\"int32\")\n",
        "        mask = tf.reshape(mask, (1, input_shape[1], input_shape[1]))\n",
        "        mult = tf.concat(\n",
        "            [tf.expand_dims(batch_size, -1), tf.constant([1, 1], dtype=tf.int32)],\n",
        "            axis=0,\n",
        "        )\n",
        "        return tf.tile(mask, mult)\n",
        "    def get_config(self):\n",
        "        config = super().get_config()\n",
        "        config.update({\n",
        "            \"embed_dim\": self.embed_dim,\n",
        "            \"latent_dim\": self.latent_dim,\n",
        "            \"num_heads\": self.num_heads,\n",
        "        })\n",
        "        return config\n"
      ]
    },
    {
      "cell_type": "markdown",
      "metadata": {
        "id": "6nWPRP0IHqa9"
      },
      "source": [
        "Next, we assemble the end-to-end model."
      ]
    },
    {
      "cell_type": "code",
      "execution_count": 20,
      "metadata": {
        "id": "jwMSG2sEHqa9"
      },
      "outputs": [],
      "source": [
        "embed_dim = 256\n",
        "latent_dim = 2048\n",
        "num_heads = 8\n",
        "\n",
        "encoder_inputs = keras.Input(shape=(None,), dtype=\"int64\", name=\"encoder_inputs\")\n",
        "x = PositionalEmbedding(sequence_length, vocab_size, embed_dim)(encoder_inputs)\n",
        "encoder_outputs = TransformerEncoder(embed_dim, latent_dim, num_heads)(x)\n",
        "encoder = keras.Model(encoder_inputs, encoder_outputs)\n",
        "\n",
        "decoder_inputs = keras.Input(shape=(None,), dtype=\"int64\", name=\"decoder_inputs\")\n",
        "encoded_seq_inputs = keras.Input(shape=(None, embed_dim), name=\"decoder_state_inputs\")\n",
        "x = PositionalEmbedding(sequence_length, vocab_size, embed_dim)(decoder_inputs)\n",
        "x = TransformerDecoder(embed_dim, latent_dim, num_heads)(x, encoded_seq_inputs)\n",
        "x = layers.Dropout(0.5)(x)\n",
        "decoder_outputs = layers.Dense(vocab_size, activation=\"softmax\")(x)\n",
        "decoder = keras.Model([decoder_inputs, encoded_seq_inputs], decoder_outputs)\n",
        "\n",
        "decoder_outputs = decoder([decoder_inputs, encoder_outputs])\n",
        "transformer = keras.Model(\n",
        "    [encoder_inputs, decoder_inputs], decoder_outputs, name=\"transformer\"\n",
        ")"
      ]
    },
    {
      "cell_type": "markdown",
      "metadata": {
        "id": "Vxau2QMGHqa9"
      },
      "source": [
        "## Training our model\n",
        "\n",
        "We'll use accuracy as a quick way to monitor training progress on the validation data.\n",
        "Note that machine translation typically uses BLEU scores as well as other metrics, rather than accuracy.\n",
        "\n",
        "Here we only train for 1 epoch, but to get the model to actually converge\n",
        "you should train for at least 30 epochs."
      ]
    },
    {
      "cell_type": "code",
      "execution_count": 21,
      "metadata": {
        "id": "yJC2FQxmHqa9",
        "colab": {
          "base_uri": "https://localhost:8080/"
        },
        "outputId": "99413fcf-8020-436d-9301-ea15f2464134"
      },
      "outputs": [
        {
          "output_type": "stream",
          "name": "stdout",
          "text": [
            "Model: \"transformer\"\n",
            "__________________________________________________________________________________________________\n",
            " Layer (type)                   Output Shape         Param #     Connected to                     \n",
            "==================================================================================================\n",
            " encoder_inputs (InputLayer)    [(None, None)]       0           []                               \n",
            "                                                                                                  \n",
            " positional_embedding_2 (Positi  (None, None, 256)   3865600     ['encoder_inputs[0][0]']         \n",
            " onalEmbedding)                                                                                   \n",
            "                                                                                                  \n",
            " decoder_inputs (InputLayer)    [(None, None)]       0           []                               \n",
            "                                                                                                  \n",
            " transformer_encoder_1 (Transfo  (None, None, 256)   3155456     ['positional_embedding_2[0][0]'] \n",
            " rmerEncoder)                                                                                     \n",
            "                                                                                                  \n",
            " model_3 (Functional)           (None, None, 15000)  12980120    ['decoder_inputs[0][0]',         \n",
            "                                                                  'transformer_encoder_1[0][0]']  \n",
            "                                                                                                  \n",
            "==================================================================================================\n",
            "Total params: 20,001,176\n",
            "Trainable params: 20,001,176\n",
            "Non-trainable params: 0\n",
            "__________________________________________________________________________________________________\n",
            "Epoch 1/35\n",
            "17/17 [==============================] - 15s 359ms/step - loss: 6.0603 - accuracy: 0.4887 - val_loss: 2.7110 - val_accuracy: 0.8518\n",
            "Epoch 2/35\n",
            "17/17 [==============================] - 5s 267ms/step - loss: 1.3907 - accuracy: 0.9658 - val_loss: 0.4631 - val_accuracy: 0.9771\n",
            "Epoch 3/35\n",
            "17/17 [==============================] - 5s 268ms/step - loss: 0.3009 - accuracy: 0.9838 - val_loss: 0.1628 - val_accuracy: 0.9791\n",
            "Epoch 4/35\n",
            "17/17 [==============================] - 5s 270ms/step - loss: 0.1228 - accuracy: 0.9876 - val_loss: 0.0963 - val_accuracy: 0.9840\n",
            "Epoch 5/35\n",
            "17/17 [==============================] - 5s 271ms/step - loss: 0.0709 - accuracy: 0.9903 - val_loss: 0.0729 - val_accuracy: 0.9860\n",
            "Epoch 6/35\n",
            "17/17 [==============================] - 5s 283ms/step - loss: 0.0521 - accuracy: 0.9910 - val_loss: 0.0625 - val_accuracy: 0.9876\n",
            "Epoch 7/35\n",
            "17/17 [==============================] - 4s 267ms/step - loss: 0.0436 - accuracy: 0.9916 - val_loss: 0.0572 - val_accuracy: 0.9885\n",
            "Epoch 8/35\n",
            "17/17 [==============================] - 4s 265ms/step - loss: 0.0394 - accuracy: 0.9920 - val_loss: 0.0544 - val_accuracy: 0.9892\n",
            "Epoch 9/35\n",
            "17/17 [==============================] - 4s 262ms/step - loss: 0.0373 - accuracy: 0.9920 - val_loss: 0.0507 - val_accuracy: 0.9894\n",
            "Epoch 10/35\n",
            "17/17 [==============================] - 4s 260ms/step - loss: 0.0358 - accuracy: 0.9921 - val_loss: 0.0508 - val_accuracy: 0.9892\n",
            "Epoch 11/35\n",
            "17/17 [==============================] - 5s 275ms/step - loss: 0.0349 - accuracy: 0.9922 - val_loss: 0.0510 - val_accuracy: 0.9892\n",
            "Epoch 12/35\n",
            "17/17 [==============================] - 4s 260ms/step - loss: 0.0348 - accuracy: 0.9923 - val_loss: 0.0498 - val_accuracy: 0.9894\n",
            "Epoch 13/35\n",
            "17/17 [==============================] - 4s 257ms/step - loss: 0.0337 - accuracy: 0.9922 - val_loss: 0.0488 - val_accuracy: 0.9894\n",
            "Epoch 14/35\n",
            "17/17 [==============================] - 5s 271ms/step - loss: 0.0334 - accuracy: 0.9922 - val_loss: 0.0476 - val_accuracy: 0.9894\n",
            "Epoch 15/35\n",
            "17/17 [==============================] - 4s 257ms/step - loss: 0.0330 - accuracy: 0.9923 - val_loss: 0.0475 - val_accuracy: 0.9893\n",
            "Epoch 16/35\n",
            "17/17 [==============================] - 4s 257ms/step - loss: 0.0326 - accuracy: 0.9922 - val_loss: 0.0482 - val_accuracy: 0.9893\n",
            "Epoch 17/35\n",
            "17/17 [==============================] - 4s 260ms/step - loss: 0.0315 - accuracy: 0.9923 - val_loss: 0.0461 - val_accuracy: 0.9895\n",
            "Epoch 18/35\n",
            "17/17 [==============================] - 4s 259ms/step - loss: 0.0335 - accuracy: 0.9909 - val_loss: 0.0655 - val_accuracy: 0.9892\n",
            "Epoch 19/35\n",
            "17/17 [==============================] - 4s 261ms/step - loss: 0.0335 - accuracy: 0.9922 - val_loss: 0.0442 - val_accuracy: 0.9899\n",
            "Epoch 20/35\n",
            "17/17 [==============================] - 4s 262ms/step - loss: 0.0291 - accuracy: 0.9924 - val_loss: 0.0502 - val_accuracy: 0.9900\n",
            "Epoch 21/35\n",
            "17/17 [==============================] - 4s 263ms/step - loss: 0.0293 - accuracy: 0.9925 - val_loss: 0.0879 - val_accuracy: 0.9879\n",
            "Epoch 22/35\n",
            "17/17 [==============================] - 5s 277ms/step - loss: 0.0323 - accuracy: 0.9922 - val_loss: 0.0418 - val_accuracy: 0.9903\n",
            "Epoch 23/35\n",
            "17/17 [==============================] - 4s 262ms/step - loss: 0.0332 - accuracy: 0.9872 - val_loss: 0.0671 - val_accuracy: 0.9887\n",
            "Epoch 24/35\n",
            "17/17 [==============================] - 4s 263ms/step - loss: 0.0361 - accuracy: 0.9923 - val_loss: 0.0417 - val_accuracy: 0.9903\n",
            "Epoch 25/35\n",
            "17/17 [==============================] - 4s 265ms/step - loss: 0.0269 - accuracy: 0.9924 - val_loss: 0.0483 - val_accuracy: 0.9906\n",
            "Epoch 26/35\n",
            "17/17 [==============================] - 4s 264ms/step - loss: 0.0229 - accuracy: 0.9939 - val_loss: 0.0419 - val_accuracy: 0.9910\n",
            "Epoch 27/35\n",
            "17/17 [==============================] - 5s 278ms/step - loss: 0.0359 - accuracy: 0.9881 - val_loss: 0.3193 - val_accuracy: 0.9283\n",
            "Epoch 28/35\n",
            "17/17 [==============================] - 4s 262ms/step - loss: 0.0498 - accuracy: 0.9880 - val_loss: 0.0389 - val_accuracy: 0.9907\n",
            "Epoch 29/35\n",
            "17/17 [==============================] - 4s 260ms/step - loss: 0.0377 - accuracy: 0.9872 - val_loss: 1.6976 - val_accuracy: 0.7986\n",
            "Epoch 30/35\n",
            "17/17 [==============================] - 4s 262ms/step - loss: 0.1360 - accuracy: 0.9804 - val_loss: 0.0389 - val_accuracy: 0.9903\n",
            "Epoch 31/35\n",
            "17/17 [==============================] - 4s 260ms/step - loss: 0.0243 - accuracy: 0.9930 - val_loss: 4.5126 - val_accuracy: 0.3085\n",
            "Epoch 32/35\n",
            "17/17 [==============================] - 5s 275ms/step - loss: 0.2947 - accuracy: 0.9519 - val_loss: 0.0376 - val_accuracy: 0.9904\n",
            "Epoch 33/35\n",
            "17/17 [==============================] - 4s 260ms/step - loss: 0.0211 - accuracy: 0.9942 - val_loss: 0.0330 - val_accuracy: 0.9925\n",
            "Epoch 34/35\n",
            "17/17 [==============================] - 4s 259ms/step - loss: 0.0164 - accuracy: 0.9962 - val_loss: 0.0429 - val_accuracy: 0.9897\n",
            "Epoch 35/35\n",
            "17/17 [==============================] - 5s 276ms/step - loss: 0.0701 - accuracy: 0.9847 - val_loss: 0.1380 - val_accuracy: 0.9793\n"
          ]
        },
        {
          "output_type": "execute_result",
          "data": {
            "text/plain": [
              "<keras.callbacks.History at 0x7f615240d8d0>"
            ]
          },
          "metadata": {},
          "execution_count": 21
        }
      ],
      "source": [
        "epochs = 35  # This should be at least 30 for convergence\n",
        "\n",
        "transformer.summary()\n",
        "transformer.compile(\n",
        "    \"rmsprop\", loss=\"sparse_categorical_crossentropy\", metrics=[\"accuracy\"]\n",
        ")\n",
        "transformer.fit(train_ds, epochs=epochs, validation_data=val_ds)"
      ]
    },
    {
      "cell_type": "markdown",
      "metadata": {
        "id": "Qjx1ptXzHqa9"
      },
      "source": [
        "## Decoding test sentences\n",
        "\n",
        "Finally, let's demonstrate how to translate brand new English sentences.\n",
        "We simply feed into the model the vectorized English sentence\n",
        "as well as the target token `\"[start]\"`, then we repeatedly generated the next token, until\n",
        "we hit the token `\"[end]\"`."
      ]
    },
    {
      "cell_type": "code",
      "execution_count": 23,
      "metadata": {
        "id": "tSflJcBEHqa9"
      },
      "outputs": [],
      "source": [
        "spa_vocab = spa_vectorization.get_vocabulary()\n",
        "spa_index_lookup = dict(zip(range(len(spa_vocab)), spa_vocab))\n",
        "max_decoded_sentence_length = 100\n",
        "\n",
        "\n",
        "def decode_sequence(input_sentence):\n",
        "    tokenized_input_sentence = eng_vectorization([input_sentence])\n",
        "    decoded_sentence = \"[start]\"\n",
        "    for i in range(max_decoded_sentence_length):\n",
        "        tokenized_target_sentence = spa_vectorization([decoded_sentence])[:, :-1]\n",
        "        predictions = transformer([tokenized_input_sentence, tokenized_target_sentence])\n",
        "\n",
        "        sampled_token_index = np.argmax(predictions[0, i, :])\n",
        "        sampled_token = spa_index_lookup[sampled_token_index]\n",
        "        decoded_sentence += \" \" + sampled_token\n",
        "\n",
        "        if sampled_token == \"[end]\":\n",
        "            break\n",
        "    return decoded_sentence\n",
        "\n",
        "\n",
        "test_eng_texts = [pair[0] for pair in test_pairs]\n",
        "for _ in range(30):\n",
        "    input_sentence = random.choice(test_eng_texts)\n",
        "    translated = decode_sequence(input_sentence)"
      ]
    },
    {
      "cell_type": "markdown",
      "source": [
        "## Adding data from Test set "
      ],
      "metadata": {
        "id": "5idcwgsIIt7I"
      }
    },
    {
      "cell_type": "code",
      "source": [
        "import pandas as pd \n",
        "\n",
        "\n",
        "dc = pd.read_excel('University_OM_test.xlsx')"
      ],
      "metadata": {
        "id": "N3p0oR60I0x8"
      },
      "execution_count": 24,
      "outputs": []
    },
    {
      "cell_type": "code",
      "source": [
        "dc.head()"
      ],
      "metadata": {
        "id": "iocoqiuuJYo9",
        "colab": {
          "base_uri": "https://localhost:8080/",
          "height": 206
        },
        "outputId": "e9ea2417-ae80-4cc8-9648-dbdef4236b56"
      },
      "execution_count": 25,
      "outputs": [
        {
          "output_type": "execute_result",
          "data": {
            "text/plain": [
              "                                          OM_Regular  OM_Prediction\n",
              "0  module OM_name:0, open Declaration one sig cla...              1\n",
              "1  module OM_name:0, open Declaration one sig cla...              1\n",
              "2  module OM_name:0, open Declaration one sig cla...              1\n",
              "3  module OM_name:0, open Declaration one sig cla...              1\n",
              "4  module OM_name:0, open Declaration one sig cla...              0"
            ],
            "text/html": [
              "\n",
              "  <div id=\"df-204ac23b-153b-40e4-b7b8-37c255eb438c\">\n",
              "    <div class=\"colab-df-container\">\n",
              "      <div>\n",
              "<style scoped>\n",
              "    .dataframe tbody tr th:only-of-type {\n",
              "        vertical-align: middle;\n",
              "    }\n",
              "\n",
              "    .dataframe tbody tr th {\n",
              "        vertical-align: top;\n",
              "    }\n",
              "\n",
              "    .dataframe thead th {\n",
              "        text-align: right;\n",
              "    }\n",
              "</style>\n",
              "<table border=\"1\" class=\"dataframe\">\n",
              "  <thead>\n",
              "    <tr style=\"text-align: right;\">\n",
              "      <th></th>\n",
              "      <th>OM_Regular</th>\n",
              "      <th>OM_Prediction</th>\n",
              "    </tr>\n",
              "  </thead>\n",
              "  <tbody>\n",
              "    <tr>\n",
              "      <th>0</th>\n",
              "      <td>module OM_name:0, open Declaration one sig cla...</td>\n",
              "      <td>1</td>\n",
              "    </tr>\n",
              "    <tr>\n",
              "      <th>1</th>\n",
              "      <td>module OM_name:0, open Declaration one sig cla...</td>\n",
              "      <td>1</td>\n",
              "    </tr>\n",
              "    <tr>\n",
              "      <th>2</th>\n",
              "      <td>module OM_name:0, open Declaration one sig cla...</td>\n",
              "      <td>1</td>\n",
              "    </tr>\n",
              "    <tr>\n",
              "      <th>3</th>\n",
              "      <td>module OM_name:0, open Declaration one sig cla...</td>\n",
              "      <td>1</td>\n",
              "    </tr>\n",
              "    <tr>\n",
              "      <th>4</th>\n",
              "      <td>module OM_name:0, open Declaration one sig cla...</td>\n",
              "      <td>0</td>\n",
              "    </tr>\n",
              "  </tbody>\n",
              "</table>\n",
              "</div>\n",
              "      <button class=\"colab-df-convert\" onclick=\"convertToInteractive('df-204ac23b-153b-40e4-b7b8-37c255eb438c')\"\n",
              "              title=\"Convert this dataframe to an interactive table.\"\n",
              "              style=\"display:none;\">\n",
              "        \n",
              "  <svg xmlns=\"http://www.w3.org/2000/svg\" height=\"24px\"viewBox=\"0 0 24 24\"\n",
              "       width=\"24px\">\n",
              "    <path d=\"M0 0h24v24H0V0z\" fill=\"none\"/>\n",
              "    <path d=\"M18.56 5.44l.94 2.06.94-2.06 2.06-.94-2.06-.94-.94-2.06-.94 2.06-2.06.94zm-11 1L8.5 8.5l.94-2.06 2.06-.94-2.06-.94L8.5 2.5l-.94 2.06-2.06.94zm10 10l.94 2.06.94-2.06 2.06-.94-2.06-.94-.94-2.06-.94 2.06-2.06.94z\"/><path d=\"M17.41 7.96l-1.37-1.37c-.4-.4-.92-.59-1.43-.59-.52 0-1.04.2-1.43.59L10.3 9.45l-7.72 7.72c-.78.78-.78 2.05 0 2.83L4 21.41c.39.39.9.59 1.41.59.51 0 1.02-.2 1.41-.59l7.78-7.78 2.81-2.81c.8-.78.8-2.07 0-2.86zM5.41 20L4 18.59l7.72-7.72 1.47 1.35L5.41 20z\"/>\n",
              "  </svg>\n",
              "      </button>\n",
              "      \n",
              "  <style>\n",
              "    .colab-df-container {\n",
              "      display:flex;\n",
              "      flex-wrap:wrap;\n",
              "      gap: 12px;\n",
              "    }\n",
              "\n",
              "    .colab-df-convert {\n",
              "      background-color: #E8F0FE;\n",
              "      border: none;\n",
              "      border-radius: 50%;\n",
              "      cursor: pointer;\n",
              "      display: none;\n",
              "      fill: #1967D2;\n",
              "      height: 32px;\n",
              "      padding: 0 0 0 0;\n",
              "      width: 32px;\n",
              "    }\n",
              "\n",
              "    .colab-df-convert:hover {\n",
              "      background-color: #E2EBFA;\n",
              "      box-shadow: 0px 1px 2px rgba(60, 64, 67, 0.3), 0px 1px 3px 1px rgba(60, 64, 67, 0.15);\n",
              "      fill: #174EA6;\n",
              "    }\n",
              "\n",
              "    [theme=dark] .colab-df-convert {\n",
              "      background-color: #3B4455;\n",
              "      fill: #D2E3FC;\n",
              "    }\n",
              "\n",
              "    [theme=dark] .colab-df-convert:hover {\n",
              "      background-color: #434B5C;\n",
              "      box-shadow: 0px 1px 3px 1px rgba(0, 0, 0, 0.15);\n",
              "      filter: drop-shadow(0px 1px 2px rgba(0, 0, 0, 0.3));\n",
              "      fill: #FFFFFF;\n",
              "    }\n",
              "  </style>\n",
              "\n",
              "      <script>\n",
              "        const buttonEl =\n",
              "          document.querySelector('#df-204ac23b-153b-40e4-b7b8-37c255eb438c button.colab-df-convert');\n",
              "        buttonEl.style.display =\n",
              "          google.colab.kernel.accessAllowed ? 'block' : 'none';\n",
              "\n",
              "        async function convertToInteractive(key) {\n",
              "          const element = document.querySelector('#df-204ac23b-153b-40e4-b7b8-37c255eb438c');\n",
              "          const dataTable =\n",
              "            await google.colab.kernel.invokeFunction('convertToInteractive',\n",
              "                                                     [key], {});\n",
              "          if (!dataTable) return;\n",
              "\n",
              "          const docLinkHtml = 'Like what you see? Visit the ' +\n",
              "            '<a target=\"_blank\" href=https://colab.research.google.com/notebooks/data_table.ipynb>data table notebook</a>'\n",
              "            + ' to learn more about interactive tables.';\n",
              "          element.innerHTML = '';\n",
              "          dataTable['output_type'] = 'display_data';\n",
              "          await google.colab.output.renderOutput(dataTable, element);\n",
              "          const docLink = document.createElement('div');\n",
              "          docLink.innerHTML = docLinkHtml;\n",
              "          element.appendChild(docLink);\n",
              "        }\n",
              "      </script>\n",
              "    </div>\n",
              "  </div>\n",
              "  "
            ]
          },
          "metadata": {},
          "execution_count": 25
        }
      ]
    },
    {
      "cell_type": "code",
      "source": [
        "X_test2 = dc['OM_Regular'].values\n",
        "y_test2 = dc['OM_Prediction'].values"
      ],
      "metadata": {
        "id": "WEcoRd5hJGDT"
      },
      "execution_count": 26,
      "outputs": []
    },
    {
      "cell_type": "code",
      "source": [
        "print(X_test2.shape)\n",
        "print(y_test2.shape)\n",
        "\n",
        "print(\"X data type: \", X_test2.dtype)\n",
        "print(\"y data type: \", y_test2.dtype)"
      ],
      "metadata": {
        "id": "npksdP3PJOq6",
        "colab": {
          "base_uri": "https://localhost:8080/"
        },
        "outputId": "af999e14-b743-4b6e-b5cc-d629fa4f4974"
      },
      "execution_count": 27,
      "outputs": [
        {
          "output_type": "stream",
          "name": "stdout",
          "text": [
            "(31,)\n",
            "(31,)\n",
            "X data type:  object\n",
            "y data type:  int64\n"
          ]
        }
      ]
    },
    {
      "cell_type": "code",
      "source": [
        "print(y_test2)"
      ],
      "metadata": {
        "id": "l6Xn1sFBJQsA",
        "colab": {
          "base_uri": "https://localhost:8080/"
        },
        "outputId": "b3df7710-c211-4c32-8f65-5bd54a3958fa"
      },
      "execution_count": 28,
      "outputs": [
        {
          "output_type": "stream",
          "name": "stdout",
          "text": [
            "[1 1 1 1 0 0 0 0 0 0 1 0 1 1 0 0 0 0 0 0 0 0 0 0 0 0 1 0 1 1 0]\n"
          ]
        }
      ]
    },
    {
      "cell_type": "code",
      "source": [
        "inputs = X_test2"
      ],
      "metadata": {
        "id": "t_WywObeJdMJ"
      },
      "execution_count": 29,
      "outputs": []
    },
    {
      "cell_type": "markdown",
      "source": [
        "## Output from Unseen Data "
      ],
      "metadata": {
        "id": "dYRa3kkQJgA2"
      }
    },
    {
      "cell_type": "code",
      "source": [
        "import time\n",
        "\n",
        "start_time = time.time()\n",
        "mylist_res = []\n",
        "for sentence in inputs:\n",
        "    result = decode_sequence(sentence)\n",
        "    mylist_res.append(result)\n",
        "    print(result)\n",
        "    time.sleep(1)  # Add a 1-second delay between each print statement\n",
        "\n",
        "end_time = time.time()\n",
        "execution_time = end_time - start_time\n",
        "\n",
        "print(f\"Execution time: {execution_time} seconds\")\n",
        "print(mylist_res)"
      ],
      "metadata": {
        "id": "GKIRmrcoJlG3",
        "colab": {
          "base_uri": "https://localhost:8080/"
        },
        "outputId": "c84bfc01-3d15-4a08-c385-f1314aa5ae0f"
      },
      "execution_count": 30,
      "outputs": [
        {
          "output_type": "stream",
          "name": "stdout",
          "text": [
            "[start] np module omname 0 opendeclaration one sig class1name extends classattrsetc1at1c1at2idc1at1noparentisabstractno one sig c1at1 extends c1at1type one sig c1at2 extends c1at2type one sig class2name extends classattrsetc2at1c2at2idc2at1noparentisabstractno one sig c2at1 extends c2at1type one sig c2at2 extends c2at2type one sig class3name extends classattrsetc3at1c3at2c3at3c3at4c3at5c3at6idc3at1noparentisabstractno one sig c3at1 extends c3at1type one sig c3at2 extends c3at2type one sig c3at3 extends c3at3type one sig c3at4 extends c3at4type one sig c3at5 extends c3at5type one sig c3at6 extends c3at6type one sig class4name extends classattrsetc4at1c4at2c4at3c4at4idc4at3noparentisabstractno one sig c4at1 extends c4at1type one sig c4at2 extends c4at2type one sig c4at3 extends c4at3type one sig c4at4 extends c4at4type one sig class5name extends classattrsetc5at1\n",
            "[start] np module omname 0 opendeclaration one sig class1name extends classattrsetc1at1c1at2idc1at1noparentisabstractno one sig c1at1 extends c1at1type one sig c1at2 extends c1at2type one sig class2name extends classattrsetc2at1c2at2idc2at1noparentisabstractno one sig c2at1 extends c2at1type one sig c2at2 extends c2at2type one sig class3name extends classattrsetc3at1c3at2c3at3c3at4c3at5c3at6idc3at1noparentisabstractno one sig c3at1 extends c3at1type one sig c3at2 extends c3at2type one sig c3at3 extends c3at3type one sig c3at4 extends c3at4type one sig c3at5 extends c3at5type one sig c3at6 extends c3at6type one sig class4name extends classattrsetc4at1c4at2c4at3c4at4idc4at3noparentisabstractno one sig c4at1 extends c4at1type one sig c4at2 extends c4at2type one sig c4at3 extends c4at3type one sig c4at4 extends c4at4type one sig class5name extends classattrsetc5at1\n",
            "[start] np module omname 0 opendeclaration one sig class1name extends classattrsetc1at1c1at2idc1at1noparentisabstractno one sig c1at1 extends c1at1type one sig c1at2 extends c1at2type one sig class2name extends classattrsetc2at1c2at2idc2at1noparentisabstractno one sig c2at1 extends c2at1type one sig c2at2 extends c2at2type one sig class3name extends classattrsetc3at1c3at2c3at3c3at4c3at5c3at6idc3at1noparentisabstractno one sig c3at1 extends c3at1type one sig c3at2 extends c3at2type one sig c3at3 extends c3at3type one sig c3at4 extends c3at4type one sig c3at5 extends c3at5type one sig c3at6 extends c3at6type one sig class4name extends classattrsetc4at1c4at2c4at3c4at4idc4at3noparentisabstractno one sig c4at1 extends c4at1type one sig c4at2 extends c4at2type one sig c4at3 extends c4at3type one sig c4at4 extends c4at4type one sig class5name extends classattrsetc5at1\n",
            "[start] np module omname 0 opendeclaration one sig class1name extends classattrsetc1at1c1at2idc1at1noparentisabstractno one sig c1at1 extends c1at1type one sig c1at2 extends c1at2type one sig class2name extends classattrsetc2at1c2at2idc2at1noparentisabstractno one sig c2at1 extends c2at1type one sig c2at2 extends c2at2type one sig class3name extends classattrsetc3at1c3at2c3at3c3at4c3at5c3at6idc3at1noparentisabstractno one sig c3at1 extends c3at1type one sig c3at2 extends c3at2type one sig c3at3 extends c3at3type one sig c3at4 extends c3at4type one sig c3at5 extends c3at5type one sig c3at6 extends c3at6type one sig class4name extends classattrsetc4at1c4at2c4at3c4at4idc4at3noparentisabstractno one sig c4at1 extends c4at1type one sig c4at2 extends c4at2type one sig c4at3 extends c4at3type one sig c4at4 extends c4at4type one sig class5name extends classattrsetc5at1\n",
            "[start] np module omname 0 opendeclaration one sig class1name extends classattrsetc1at1c1at2idc1at1noparentisabstractno one sig c1at1 extends c1at1type one sig c1at2 extends c1at2type one sig class2name extends classattrsetc2at1c2at2idc2at1noparentisabstractno one sig c2at1 extends c2at1type one sig c2at2 extends c2at2type one sig class3name extends classattrsetc3at1c3at2c3at3c3at4c3at5c3at6idc3at1noparentisabstractno one sig c3at1 extends c3at1type one sig c3at2 extends c3at2type one sig c3at3 extends c3at3type one sig c3at4 extends c3at4type one sig c3at5 extends c3at5type one sig c3at6 extends c3at6type one sig class4name extends classattrsetc4at1c4at2c4at3c4at4idc4at3noparentisabstractno one sig c4at1 extends c4at1type one sig c4at2 extends c4at2type one sig c4at3 extends c4at3type one sig c4at4 extends c4at4type one sig class5name extends classattrsetc5at1\n",
            "[start] np module omname 0 opendeclaration one sig class1name extends classattrsetc1at1c1at2idc1at1noparentisabstractno one sig c1at1 extends c1at1type one sig c1at2 extends c1at2type one sig class2name extends classattrsetc2at1c2at2idc2at1noparentisabstractno one sig c2at1 extends c2at1type one sig c2at2 extends c2at2type one sig class3name extends classattrsetc3at1c3at2c3at3c3at4c3at5c3at6idc3at1noparentisabstractno one sig c3at1 extends c3at1type one sig c3at2 extends c3at2type one sig c3at3 extends c3at3type one sig c3at4 extends c3at4type one sig c3at5 extends c3at5type one sig c3at6 extends c3at6type one sig class4name extends classattrsetc4at1c4at2c4at3c4at4idc4at3noparentisabstractno one sig c4at1 extends c4at1type one sig c4at2 extends c4at2type one sig c4at3 extends c4at3type one sig c4at4 extends c4at4type one sig class5name extends classattrsetc5at1\n",
            "[start] np module omname 0 opendeclaration one sig class1name extends classattrsetc1at1c1at2idc1at1noparentisabstractno one sig c1at1 extends c1at1type one sig c1at2 extends c1at2type one sig class2name extends classattrsetc2at1c2at2idc2at1noparentisabstractno one sig c2at1 extends c2at1type one sig c2at2 extends c2at2type one sig class3name extends classattrsetc3at1c3at2c3at3c3at4c3at5c3at6idc3at1noparentisabstractno one sig c3at1 extends c3at1type one sig c3at2 extends c3at2type one sig c3at3 extends c3at3type one sig c3at4 extends c3at4type one sig c3at5 extends c3at5type one sig c3at6 extends c3at6type one sig class4name extends classattrsetc4at1c4at2c4at3c4at4idc4at3noparentisabstractno one sig c4at1 extends c4at1type one sig c4at2 extends c4at2type one sig c4at3 extends c4at3type one sig c4at4 extends c4at4type one sig class5name extends classattrsetc5at1\n",
            "[start] np module omname 0 opendeclaration one sig class1name extends classattrsetc1at1c1at2idc1at1noparentisabstractno one sig c1at1 extends c1at1type one sig c1at2 extends c1at2type one sig class2name extends classattrsetc2at1c2at2idc2at1noparentisabstractno one sig c2at1 extends c2at1type one sig c2at2 extends c2at2type one sig class3name extends classattrsetc3at1c3at2c3at3c3at4c3at5c3at6idc3at1noparentisabstractno one sig c3at1 extends c3at1type one sig c3at2 extends c3at2type one sig c3at3 extends c3at3type one sig c3at4 extends c3at4type one sig c3at5 extends c3at5type one sig c3at6 extends c3at6type one sig class4name extends classattrsetc4at1c4at2c4at3c4at4idc4at3noparentisabstractno one sig c4at1 extends c4at1type one sig c4at2 extends c4at2type one sig c4at3 extends c4at3type one sig c4at4 extends c4at4type one sig class5name extends classattrsetc5at1\n",
            "[start] np module omname 0 opendeclaration one sig class1name extends classattrsetc1at1c1at2idc1at1noparentisabstractno one sig c1at1 extends c1at1type one sig c1at2 extends c1at2type one sig class2name extends classattrsetc2at1c2at2idc2at1noparentisabstractno one sig c2at1 extends c2at1type one sig c2at2 extends c2at2type one sig class3name extends classattrsetc3at1c3at2c3at3c3at4c3at5c3at6idc3at1noparentisabstractno one sig c3at1 extends c3at1type one sig c3at2 extends c3at2type one sig c3at3 extends c3at3type one sig c3at4 extends c3at4type one sig c3at5 extends c3at5type one sig c3at6 extends c3at6type one sig class4name extends classattrsetc4at1c4at2c4at3c4at4idc4at3noparentisabstractno one sig c4at1 extends c4at1type one sig c4at2 extends c4at2type one sig c4at3 extends c4at3type one sig c4at4 extends c4at4type one sig class5name extends classattrsetc5at1\n",
            "[start] np module omname 0 opendeclaration one sig class1name extends classattrsetc1at1c1at2idc1at1noparentisabstractno one sig c1at1 extends c1at1type one sig c1at2 extends c1at2type one sig class2name extends classattrsetc2at1c2at2idc2at1noparentisabstractno one sig c2at1 extends c2at1type one sig c2at2 extends c2at2type one sig class3name extends classattrsetc3at1c3at2c3at3c3at4c3at5c3at6idc3at1noparentisabstractno one sig c3at1 extends c3at1type one sig c3at2 extends c3at2type one sig c3at3 extends c3at3type one sig c3at4 extends c3at4type one sig c3at5 extends c3at5type one sig c3at6 extends c3at6type one sig class4name extends classattrsetc4at1c4at2c4at3c4at4idc4at3noparentisabstractno one sig c4at1 extends c4at1type one sig c4at2 extends c4at2type one sig c4at3 extends c4at3type one sig c4at4 extends c4at4type one sig class5name extends classattrsetc5at1\n",
            "[start] np module omname 0 opendeclaration one sig class1name extends classattrsetc1at1c1at2idc1at1noparentisabstractno one sig c1at1 extends c1at1type one sig c1at2 extends c1at2type one sig class2name extends classattrsetc2at1c2at2idc2at1noparentisabstractno one sig c2at1 extends c2at1type one sig c2at2 extends c2at2type one sig class3name extends classattrsetc3at1c3at2c3at3c3at4c3at5c3at6idc3at1noparentisabstractno one sig c3at1 extends c3at1type one sig c3at2 extends c3at2type one sig c3at3 extends c3at3type one sig c3at4 extends c3at4type one sig c3at5 extends c3at5type one sig c3at6 extends c3at6type one sig class4name extends classattrsetc4at1c4at2c4at3c4at4idc4at3noparentisabstractno one sig c4at1 extends c4at1type one sig c4at2 extends c4at2type one sig c4at3 extends c4at3type one sig c4at4 extends c4at4type one sig class5name extends classattrsetc5at1\n",
            "[start] np module omname 0 opendeclaration one sig class1name extends classattrsetc1at1c1at2idc1at1noparentisabstractno one sig c1at1 extends c1at1type one sig c1at2 extends c1at2type one sig class2name extends classattrsetc2at1c2at2idc2at1noparentisabstractno one sig c2at1 extends c2at1type one sig c2at2 extends c2at2type one sig class3name extends classattrsetc3at1c3at2c3at3c3at4c3at5c3at6idc3at1noparentisabstractno one sig c3at1 extends c3at1type one sig c3at2 extends c3at2type one sig c3at3 extends c3at3type one sig c3at4 extends c3at4type one sig c3at5 extends c3at5type one sig c3at6 extends c3at6type one sig class4name extends classattrsetc4at1c4at2c4at3c4at4idc4at3noparentisabstractno one sig c4at1 extends c4at1type one sig c4at2 extends c4at2type one sig c4at3 extends c4at3type one sig c4at4 extends c4at4type one sig class5name extends classattrsetc5at1\n",
            "[start] np module omname 0 opendeclaration one sig class1name extends classattrsetc1at1c1at2idc1at1noparentisabstractno one sig c1at1 extends c1at1type one sig c1at2 extends c1at2type one sig class2name extends classattrsetc2at1c2at2idc2at1noparentisabstractno one sig c2at1 extends c2at1type one sig c2at2 extends c2at2type one sig class3name extends classattrsetc3at1c3at2c3at3c3at4c3at5c3at6idc3at1noparentisabstractno one sig c3at1 extends c3at1type one sig c3at2 extends c3at2type one sig c3at3 extends c3at3type one sig c3at4 extends c3at4type one sig c3at5 extends c3at5type one sig c3at6 extends c3at6type one sig class4name extends classattrsetc4at1c4at2c4at3c4at4idc4at3noparentisabstractno one sig c4at1 extends c4at1type one sig c4at2 extends c4at2type one sig c4at3 extends c4at3type one sig c4at4 extends c4at4type one sig class5name extends classattrsetc5at1\n",
            "[start] np module omname 0 opendeclaration one sig class1name extends classattrsetc1at1c1at2idc1at1noparentisabstractno one sig c1at1 extends c1at1type one sig c1at2 extends c1at2type one sig class2name extends classattrsetc2at1c2at2idc2at1noparentisabstractno one sig c2at1 extends c2at1type one sig c2at2 extends c2at2type one sig class3name extends classattrsetc3at1c3at2c3at3c3at4c3at5c3at6idc3at1noparentisabstractno one sig c3at1 extends c3at1type one sig c3at2 extends c3at2type one sig c3at3 extends c3at3type one sig c3at4 extends c3at4type one sig c3at5 extends c3at5type one sig c3at6 extends c3at6type one sig class4name extends classattrsetc4at1c4at2c4at3c4at4idc4at3noparentisabstractno one sig c4at1 extends c4at1type one sig c4at2 extends c4at2type one sig c4at3 extends c4at3type one sig c4at4 extends c4at4type one sig class5name extends classattrsetc5at1\n",
            "[start] np module omname 0 opendeclaration one sig class1name extends classattrsetc1at1c1at2idc1at1noparentisabstractno one sig c1at1 extends c1at1type one sig c1at2 extends c1at2type one sig class2name extends classattrsetc2at1c2at2idc2at1noparentisabstractno one sig c2at1 extends c2at1type one sig c2at2 extends c2at2type one sig class3name extends classattrsetc3at1c3at2c3at3c3at4c3at5c3at6idc3at1noparentisabstractno one sig c3at1 extends c3at1type one sig c3at2 extends c3at2type one sig c3at3 extends c3at3type one sig c3at4 extends c3at4type one sig c3at5 extends c3at5type one sig c3at6 extends c3at6type one sig class4name extends classattrsetc4at1c4at2c4at3c4at4idc4at3noparentisabstractno one sig c4at1 extends c4at1type one sig c4at2 extends c4at2type one sig c4at3 extends c4at3type one sig c4at4 extends c4at4type one sig class5name extends classattrsetc5at1\n",
            "[start] np module omname 0 opendeclaration one sig class1name extends classattrsetc1at1c1at2idc1at1noparentisabstractno one sig c1at1 extends c1at1type one sig c1at2 extends c1at2type one sig class2name extends classattrsetc2at1c2at2idc2at1noparentisabstractno one sig c2at1 extends c2at1type one sig c2at2 extends c2at2type one sig class3name extends classattrsetc3at1c3at2c3at3c3at4c3at5c3at6idc3at1noparentisabstractno one sig c3at1 extends c3at1type one sig c3at2 extends c3at2type one sig c3at3 extends c3at3type one sig c3at4 extends c3at4type one sig c3at5 extends c3at5type one sig c3at6 extends c3at6type one sig class4name extends classattrsetc4at1c4at2c4at3c4at4idc4at3noparentisabstractno one sig c4at1 extends c4at1type one sig c4at2 extends c4at2type one sig c4at3 extends c4at3type one sig c4at4 extends c4at4type one sig class5name extends classattrsetc5at1\n",
            "[start] np module omname 0 opendeclaration one sig class1name extends classattrsetc1at1c1at2idc1at1noparentisabstractno one sig c1at1 extends c1at1type one sig c1at2 extends c1at2type one sig class2name extends classattrsetc2at1c2at2idc2at1noparentisabstractno one sig c2at1 extends c2at1type one sig c2at2 extends c2at2type one sig class3name extends classattrsetc3at1c3at2c3at3c3at4c3at5c3at6idc3at1noparentisabstractno one sig c3at1 extends c3at1type one sig c3at2 extends c3at2type one sig c3at3 extends c3at3type one sig c3at4 extends c3at4type one sig c3at5 extends c3at5type one sig c3at6 extends c3at6type one sig class4name extends classattrsetc4at1c4at2c4at3c4at4idc4at3noparentisabstractno one sig c4at1 extends c4at1type one sig c4at2 extends c4at2type one sig c4at3 extends c4at3type one sig c4at4 extends c4at4type one sig class5name extends classattrsetc5at1\n",
            "[start] np module omname 0 opendeclaration one sig class1name extends classattrsetc1at1c1at2idc1at1noparentisabstractno one sig c1at1 extends c1at1type one sig c1at2 extends c1at2type one sig class2name extends classattrsetc2at1c2at2idc2at1noparentisabstractno one sig c2at1 extends c2at1type one sig c2at2 extends c2at2type one sig class3name extends classattrsetc3at1c3at2c3at3c3at4c3at5c3at6idc3at1noparentisabstractno one sig c3at1 extends c3at1type one sig c3at2 extends c3at2type one sig c3at3 extends c3at3type one sig c3at4 extends c3at4type one sig c3at5 extends c3at5type one sig c3at6 extends c3at6type one sig class4name extends classattrsetc4at1c4at2c4at3c4at4idc4at3noparentisabstractno one sig c4at1 extends c4at1type one sig c4at2 extends c4at2type one sig c4at3 extends c4at3type one sig c4at4 extends c4at4type one sig class5name extends classattrsetc5at1\n",
            "[start] np module omname 0 opendeclaration one sig class1name extends classattrsetc1at1c1at2idc1at1noparentisabstractno one sig c1at1 extends c1at1type one sig c1at2 extends c1at2type one sig class2name extends classattrsetc2at1c2at2idc2at1noparentisabstractno one sig c2at1 extends c2at1type one sig c2at2 extends c2at2type one sig class3name extends classattrsetc3at1c3at2c3at3c3at4c3at5c3at6idc3at1noparentisabstractno one sig c3at1 extends c3at1type one sig c3at2 extends c3at2type one sig c3at3 extends c3at3type one sig c3at4 extends c3at4type one sig c3at5 extends c3at5type one sig c3at6 extends c3at6type one sig class4name extends classattrsetc4at1c4at2c4at3c4at4idc4at3noparentisabstractno one sig c4at1 extends c4at1type one sig c4at2 extends c4at2type one sig c4at3 extends c4at3type one sig c4at4 extends c4at4type one sig class5name extends classattrsetc5at1\n",
            "[start] np module omname 0 opendeclaration one sig class1name extends classattrsetc1at1c1at2idc1at1noparentisabstractno one sig c1at1 extends c1at1type one sig c1at2 extends c1at2type one sig class2name extends classattrsetc2at1c2at2idc2at1noparentisabstractno one sig c2at1 extends c2at1type one sig c2at2 extends c2at2type one sig class3name extends classattrsetc3at1c3at2c3at3c3at4c3at5c3at6idc3at1noparentisabstractno one sig c3at1 extends c3at1type one sig c3at2 extends c3at2type one sig c3at3 extends c3at3type one sig c3at4 extends c3at4type one sig c3at5 extends c3at5type one sig c3at6 extends c3at6type one sig class4name extends classattrsetc4at1c4at2c4at3c4at4idc4at3noparentisabstractno one sig c4at1 extends c4at1type one sig c4at2 extends c4at2type one sig c4at3 extends c4at3type one sig c4at4 extends c4at4type one sig class5name extends classattrsetc5at1\n",
            "[start] np module omname 0 opendeclaration one sig class1name extends classattrsetc1at1c1at2idc1at1noparentisabstractno one sig c1at1 extends c1at1type one sig c1at2 extends c1at2type one sig class2name extends classattrsetc2at1c2at2idc2at1noparentisabstractno one sig c2at1 extends c2at1type one sig c2at2 extends c2at2type one sig class3name extends classattrsetc3at1c3at2c3at3c3at4c3at5c3at6idc3at1noparentisabstractno one sig c3at1 extends c3at1type one sig c3at2 extends c3at2type one sig c3at3 extends c3at3type one sig c3at4 extends c3at4type one sig c3at5 extends c3at5type one sig c3at6 extends c3at6type one sig class4name extends classattrsetc4at1c4at2c4at3c4at4idc4at3noparentisabstractno one sig c4at1 extends c4at1type one sig c4at2 extends c4at2type one sig c4at3 extends c4at3type one sig c4at4 extends c4at4type one sig class5name extends classattrsetc5at1\n",
            "[start] np module omname 0 opendeclaration one sig class1name extends classattrsetc1at1c1at2idc1at1noparentisabstractno one sig c1at1 extends c1at1type one sig c1at2 extends c1at2type one sig class2name extends classattrsetc2at1c2at2idc2at1noparentisabstractno one sig c2at1 extends c2at1type one sig c2at2 extends c2at2type one sig class3name extends classattrsetc3at1c3at2c3at3c3at4c3at5c3at6idc3at1noparentisabstractno one sig c3at1 extends c3at1type one sig c3at2 extends c3at2type one sig c3at3 extends c3at3type one sig c3at4 extends c3at4type one sig c3at5 extends c3at5type one sig c3at6 extends c3at6type one sig class4name extends classattrsetc4at1c4at2c4at3c4at4idc4at3noparentisabstractno one sig c4at1 extends c4at1type one sig c4at2 extends c4at2type one sig c4at3 extends c4at3type one sig c4at4 extends c4at4type one sig class5name extends classattrsetc5at1\n",
            "[start] np module omname 0 opendeclaration one sig class1name extends classattrsetc1at1c1at2idc1at1noparentisabstractno one sig c1at1 extends c1at1type one sig c1at2 extends c1at2type one sig class2name extends classattrsetc2at1c2at2idc2at1noparentisabstractno one sig c2at1 extends c2at1type one sig c2at2 extends c2at2type one sig class3name extends classattrsetc3at1c3at2c3at3c3at4c3at5c3at6idc3at1noparentisabstractno one sig c3at1 extends c3at1type one sig c3at2 extends c3at2type one sig c3at3 extends c3at3type one sig c3at4 extends c3at4type one sig c3at5 extends c3at5type one sig c3at6 extends c3at6type one sig class4name extends classattrsetc4at1c4at2c4at3c4at4idc4at3noparentisabstractno one sig c4at1 extends c4at1type one sig c4at2 extends c4at2type one sig c4at3 extends c4at3type one sig c4at4 extends c4at4type one sig class5name extends classattrsetc5at1\n",
            "[start] np module omname 0 opendeclaration one sig class1name extends classattrsetc1at1c1at2idc1at1noparentisabstractno one sig c1at1 extends c1at1type one sig c1at2 extends c1at2type one sig class2name extends classattrsetc2at1c2at2idc2at1noparentisabstractno one sig c2at1 extends c2at1type one sig c2at2 extends c2at2type one sig class3name extends classattrsetc3at1c3at2c3at3c3at4c3at5c3at6idc3at1noparentisabstractno one sig c3at1 extends c3at1type one sig c3at2 extends c3at2type one sig c3at3 extends c3at3type one sig c3at4 extends c3at4type one sig c3at5 extends c3at5type one sig c3at6 extends c3at6type one sig class4name extends classattrsetc4at1c4at2c4at3c4at4idc4at3noparentisabstractno one sig c4at1 extends c4at1type one sig c4at2 extends c4at2type one sig c4at3 extends c4at3type one sig c4at4 extends c4at4type one sig class5name extends classattrsetc5at1\n",
            "[start] np module omname 0 opendeclaration one sig class1name extends classattrsetc1at1c1at2idc1at1noparentisabstractno one sig c1at1 extends c1at1type one sig c1at2 extends c1at2type one sig class2name extends classattrsetc2at1c2at2idc2at1noparentisabstractno one sig c2at1 extends c2at1type one sig c2at2 extends c2at2type one sig class3name extends classattrsetc3at1c3at2c3at3c3at4c3at5c3at6idc3at1noparentisabstractno one sig c3at1 extends c3at1type one sig c3at2 extends c3at2type one sig c3at3 extends c3at3type one sig c3at4 extends c3at4type one sig c3at5 extends c3at5type one sig c3at6 extends c3at6type one sig class4name extends classattrsetc4at1c4at2c4at3c4at4idc4at3noparentisabstractno one sig c4at1 extends c4at1type one sig c4at2 extends c4at2type one sig c4at3 extends c4at3type one sig c4at4 extends c4at4type one sig class5name extends classattrsetc5at1\n",
            "[start] np module omname 0 opendeclaration one sig class1name extends classattrsetc1at1c1at2idc1at1noparentisabstractno one sig c1at1 extends c1at1type one sig c1at2 extends c1at2type one sig class2name extends classattrsetc2at1c2at2idc2at1noparentisabstractno one sig c2at1 extends c2at1type one sig c2at2 extends c2at2type one sig class3name extends classattrsetc3at1c3at2c3at3c3at4c3at5c3at6idc3at1noparentisabstractno one sig c3at1 extends c3at1type one sig c3at2 extends c3at2type one sig c3at3 extends c3at3type one sig c3at4 extends c3at4type one sig c3at5 extends c3at5type one sig c3at6 extends c3at6type one sig class4name extends classattrsetc4at1c4at2c4at3c4at4idc4at3noparentisabstractno one sig c4at1 extends c4at1type one sig c4at2 extends c4at2type one sig c4at3 extends c4at3type one sig c4at4 extends c4at4type one sig class5name extends classattrsetc5at1\n",
            "[start] np module omname 0 opendeclaration one sig class1name extends classattrsetc1at1c1at2idc1at1noparentisabstractno one sig c1at1 extends c1at1type one sig c1at2 extends c1at2type one sig class2name extends classattrsetc2at1c2at2idc2at1noparentisabstractno one sig c2at1 extends c2at1type one sig c2at2 extends c2at2type one sig class3name extends classattrsetc3at1c3at2c3at3c3at4c3at5c3at6idc3at1noparentisabstractno one sig c3at1 extends c3at1type one sig c3at2 extends c3at2type one sig c3at3 extends c3at3type one sig c3at4 extends c3at4type one sig c3at5 extends c3at5type one sig c3at6 extends c3at6type one sig class4name extends classattrsetc4at1c4at2c4at3c4at4idc4at3noparentisabstractno one sig c4at1 extends c4at1type one sig c4at2 extends c4at2type one sig c4at3 extends c4at3type one sig c4at4 extends c4at4type one sig class5name extends classattrsetc5at1\n",
            "[start] np module omname 0 opendeclaration one sig class1name extends classattrsetc1at1c1at2idc1at1noparentisabstractno one sig c1at1 extends c1at1type one sig c1at2 extends c1at2type one sig class2name extends classattrsetc2at1c2at2idc2at1noparentisabstractno one sig c2at1 extends c2at1type one sig c2at2 extends c2at2type one sig class3name extends classattrsetc3at1c3at2c3at3c3at4c3at5c3at6idc3at1noparentisabstractno one sig c3at1 extends c3at1type one sig c3at2 extends c3at2type one sig c3at3 extends c3at3type one sig c3at4 extends c3at4type one sig c3at5 extends c3at5type one sig c3at6 extends c3at6type one sig class4name extends classattrsetc4at1c4at2c4at3c4at4idc4at3noparentisabstractno one sig c4at1 extends c4at1type one sig c4at2 extends c4at2type one sig c4at3 extends c4at3type one sig c4at4 extends c4at4type one sig class5name extends classattrsetc5at1\n",
            "[start] np module omname 0 opendeclaration one sig class1name extends classattrsetc1at1c1at2idc1at1noparentisabstractno one sig c1at1 extends c1at1type one sig c1at2 extends c1at2type one sig class2name extends classattrsetc2at1c2at2idc2at1noparentisabstractno one sig c2at1 extends c2at1type one sig c2at2 extends c2at2type one sig class3name extends classattrsetc3at1c3at2c3at3c3at4c3at5c3at6idc3at1noparentisabstractno one sig c3at1 extends c3at1type one sig c3at2 extends c3at2type one sig c3at3 extends c3at3type one sig c3at4 extends c3at4type one sig c3at5 extends c3at5type one sig c3at6 extends c3at6type one sig class4name extends classattrsetc4at1c4at2c4at3c4at4idc4at3noparentisabstractno one sig c4at1 extends c4at1type one sig c4at2 extends c4at2type one sig c4at3 extends c4at3type one sig c4at4 extends c4at4type one sig class5name extends classattrsetc5at1\n",
            "[start] np module omname 0 opendeclaration one sig class1name extends classattrsetc1at1c1at2idc1at1noparentisabstractno one sig c1at1 extends c1at1type one sig c1at2 extends c1at2type one sig class2name extends classattrsetc2at1c2at2idc2at1noparentisabstractno one sig c2at1 extends c2at1type one sig c2at2 extends c2at2type one sig class3name extends classattrsetc3at1c3at2c3at3c3at4c3at5c3at6idc3at1noparentisabstractno one sig c3at1 extends c3at1type one sig c3at2 extends c3at2type one sig c3at3 extends c3at3type one sig c3at4 extends c3at4type one sig c3at5 extends c3at5type one sig c3at6 extends c3at6type one sig class4name extends classattrsetc4at1c4at2c4at3c4at4idc4at3noparentisabstractno one sig c4at1 extends c4at1type one sig c4at2 extends c4at2type one sig c4at3 extends c4at3type one sig c4at4 extends c4at4type one sig class5name extends classattrsetc5at1\n",
            "[start] np module omname 0 opendeclaration one sig class1name extends classattrsetc1at1c1at2idc1at1noparentisabstractno one sig c1at1 extends c1at1type one sig c1at2 extends c1at2type one sig class2name extends classattrsetc2at1c2at2idc2at1noparentisabstractno one sig c2at1 extends c2at1type one sig c2at2 extends c2at2type one sig class3name extends classattrsetc3at1c3at2c3at3c3at4c3at5c3at6idc3at1noparentisabstractno one sig c3at1 extends c3at1type one sig c3at2 extends c3at2type one sig c3at3 extends c3at3type one sig c3at4 extends c3at4type one sig c3at5 extends c3at5type one sig c3at6 extends c3at6type one sig class4name extends classattrsetc4at1c4at2c4at3c4at4idc4at3noparentisabstractno one sig c4at1 extends c4at1type one sig c4at2 extends c4at2type one sig c4at3 extends c4at3type one sig c4at4 extends c4at4type one sig class5name extends classattrsetc5at1\n",
            "Execution time: 217.55045533180237 seconds\n",
            "['[start] np module omname 0 opendeclaration one sig class1name extends classattrsetc1at1c1at2idc1at1noparentisabstractno one sig c1at1 extends c1at1type one sig c1at2 extends c1at2type one sig class2name extends classattrsetc2at1c2at2idc2at1noparentisabstractno one sig c2at1 extends c2at1type one sig c2at2 extends c2at2type one sig class3name extends classattrsetc3at1c3at2c3at3c3at4c3at5c3at6idc3at1noparentisabstractno one sig c3at1 extends c3at1type one sig c3at2 extends c3at2type one sig c3at3 extends c3at3type one sig c3at4 extends c3at4type one sig c3at5 extends c3at5type one sig c3at6 extends c3at6type one sig class4name extends classattrsetc4at1c4at2c4at3c4at4idc4at3noparentisabstractno one sig c4at1 extends c4at1type one sig c4at2 extends c4at2type one sig c4at3 extends c4at3type one sig c4at4 extends c4at4type one sig class5name extends classattrsetc5at1', '[start] np module omname 0 opendeclaration one sig class1name extends classattrsetc1at1c1at2idc1at1noparentisabstractno one sig c1at1 extends c1at1type one sig c1at2 extends c1at2type one sig class2name extends classattrsetc2at1c2at2idc2at1noparentisabstractno one sig c2at1 extends c2at1type one sig c2at2 extends c2at2type one sig class3name extends classattrsetc3at1c3at2c3at3c3at4c3at5c3at6idc3at1noparentisabstractno one sig c3at1 extends c3at1type one sig c3at2 extends c3at2type one sig c3at3 extends c3at3type one sig c3at4 extends c3at4type one sig c3at5 extends c3at5type one sig c3at6 extends c3at6type one sig class4name extends classattrsetc4at1c4at2c4at3c4at4idc4at3noparentisabstractno one sig c4at1 extends c4at1type one sig c4at2 extends c4at2type one sig c4at3 extends c4at3type one sig c4at4 extends c4at4type one sig class5name extends classattrsetc5at1', '[start] np module omname 0 opendeclaration one sig class1name extends classattrsetc1at1c1at2idc1at1noparentisabstractno one sig c1at1 extends c1at1type one sig c1at2 extends c1at2type one sig class2name extends classattrsetc2at1c2at2idc2at1noparentisabstractno one sig c2at1 extends c2at1type one sig c2at2 extends c2at2type one sig class3name extends classattrsetc3at1c3at2c3at3c3at4c3at5c3at6idc3at1noparentisabstractno one sig c3at1 extends c3at1type one sig c3at2 extends c3at2type one sig c3at3 extends c3at3type one sig c3at4 extends c3at4type one sig c3at5 extends c3at5type one sig c3at6 extends c3at6type one sig class4name extends classattrsetc4at1c4at2c4at3c4at4idc4at3noparentisabstractno one sig c4at1 extends c4at1type one sig c4at2 extends c4at2type one sig c4at3 extends c4at3type one sig c4at4 extends c4at4type one sig class5name extends classattrsetc5at1', '[start] np module omname 0 opendeclaration one sig class1name extends classattrsetc1at1c1at2idc1at1noparentisabstractno one sig c1at1 extends c1at1type one sig c1at2 extends c1at2type one sig class2name extends classattrsetc2at1c2at2idc2at1noparentisabstractno one sig c2at1 extends c2at1type one sig c2at2 extends c2at2type one sig class3name extends classattrsetc3at1c3at2c3at3c3at4c3at5c3at6idc3at1noparentisabstractno one sig c3at1 extends c3at1type one sig c3at2 extends c3at2type one sig c3at3 extends c3at3type one sig c3at4 extends c3at4type one sig c3at5 extends c3at5type one sig c3at6 extends c3at6type one sig class4name extends classattrsetc4at1c4at2c4at3c4at4idc4at3noparentisabstractno one sig c4at1 extends c4at1type one sig c4at2 extends c4at2type one sig c4at3 extends c4at3type one sig c4at4 extends c4at4type one sig class5name extends classattrsetc5at1', '[start] np module omname 0 opendeclaration one sig class1name extends classattrsetc1at1c1at2idc1at1noparentisabstractno one sig c1at1 extends c1at1type one sig c1at2 extends c1at2type one sig class2name extends classattrsetc2at1c2at2idc2at1noparentisabstractno one sig c2at1 extends c2at1type one sig c2at2 extends c2at2type one sig class3name extends classattrsetc3at1c3at2c3at3c3at4c3at5c3at6idc3at1noparentisabstractno one sig c3at1 extends c3at1type one sig c3at2 extends c3at2type one sig c3at3 extends c3at3type one sig c3at4 extends c3at4type one sig c3at5 extends c3at5type one sig c3at6 extends c3at6type one sig class4name extends classattrsetc4at1c4at2c4at3c4at4idc4at3noparentisabstractno one sig c4at1 extends c4at1type one sig c4at2 extends c4at2type one sig c4at3 extends c4at3type one sig c4at4 extends c4at4type one sig class5name extends classattrsetc5at1', '[start] np module omname 0 opendeclaration one sig class1name extends classattrsetc1at1c1at2idc1at1noparentisabstractno one sig c1at1 extends c1at1type one sig c1at2 extends c1at2type one sig class2name extends classattrsetc2at1c2at2idc2at1noparentisabstractno one sig c2at1 extends c2at1type one sig c2at2 extends c2at2type one sig class3name extends classattrsetc3at1c3at2c3at3c3at4c3at5c3at6idc3at1noparentisabstractno one sig c3at1 extends c3at1type one sig c3at2 extends c3at2type one sig c3at3 extends c3at3type one sig c3at4 extends c3at4type one sig c3at5 extends c3at5type one sig c3at6 extends c3at6type one sig class4name extends classattrsetc4at1c4at2c4at3c4at4idc4at3noparentisabstractno one sig c4at1 extends c4at1type one sig c4at2 extends c4at2type one sig c4at3 extends c4at3type one sig c4at4 extends c4at4type one sig class5name extends classattrsetc5at1', '[start] np module omname 0 opendeclaration one sig class1name extends classattrsetc1at1c1at2idc1at1noparentisabstractno one sig c1at1 extends c1at1type one sig c1at2 extends c1at2type one sig class2name extends classattrsetc2at1c2at2idc2at1noparentisabstractno one sig c2at1 extends c2at1type one sig c2at2 extends c2at2type one sig class3name extends classattrsetc3at1c3at2c3at3c3at4c3at5c3at6idc3at1noparentisabstractno one sig c3at1 extends c3at1type one sig c3at2 extends c3at2type one sig c3at3 extends c3at3type one sig c3at4 extends c3at4type one sig c3at5 extends c3at5type one sig c3at6 extends c3at6type one sig class4name extends classattrsetc4at1c4at2c4at3c4at4idc4at3noparentisabstractno one sig c4at1 extends c4at1type one sig c4at2 extends c4at2type one sig c4at3 extends c4at3type one sig c4at4 extends c4at4type one sig class5name extends classattrsetc5at1', '[start] np module omname 0 opendeclaration one sig class1name extends classattrsetc1at1c1at2idc1at1noparentisabstractno one sig c1at1 extends c1at1type one sig c1at2 extends c1at2type one sig class2name extends classattrsetc2at1c2at2idc2at1noparentisabstractno one sig c2at1 extends c2at1type one sig c2at2 extends c2at2type one sig class3name extends classattrsetc3at1c3at2c3at3c3at4c3at5c3at6idc3at1noparentisabstractno one sig c3at1 extends c3at1type one sig c3at2 extends c3at2type one sig c3at3 extends c3at3type one sig c3at4 extends c3at4type one sig c3at5 extends c3at5type one sig c3at6 extends c3at6type one sig class4name extends classattrsetc4at1c4at2c4at3c4at4idc4at3noparentisabstractno one sig c4at1 extends c4at1type one sig c4at2 extends c4at2type one sig c4at3 extends c4at3type one sig c4at4 extends c4at4type one sig class5name extends classattrsetc5at1', '[start] np module omname 0 opendeclaration one sig class1name extends classattrsetc1at1c1at2idc1at1noparentisabstractno one sig c1at1 extends c1at1type one sig c1at2 extends c1at2type one sig class2name extends classattrsetc2at1c2at2idc2at1noparentisabstractno one sig c2at1 extends c2at1type one sig c2at2 extends c2at2type one sig class3name extends classattrsetc3at1c3at2c3at3c3at4c3at5c3at6idc3at1noparentisabstractno one sig c3at1 extends c3at1type one sig c3at2 extends c3at2type one sig c3at3 extends c3at3type one sig c3at4 extends c3at4type one sig c3at5 extends c3at5type one sig c3at6 extends c3at6type one sig class4name extends classattrsetc4at1c4at2c4at3c4at4idc4at3noparentisabstractno one sig c4at1 extends c4at1type one sig c4at2 extends c4at2type one sig c4at3 extends c4at3type one sig c4at4 extends c4at4type one sig class5name extends classattrsetc5at1', '[start] np module omname 0 opendeclaration one sig class1name extends classattrsetc1at1c1at2idc1at1noparentisabstractno one sig c1at1 extends c1at1type one sig c1at2 extends c1at2type one sig class2name extends classattrsetc2at1c2at2idc2at1noparentisabstractno one sig c2at1 extends c2at1type one sig c2at2 extends c2at2type one sig class3name extends classattrsetc3at1c3at2c3at3c3at4c3at5c3at6idc3at1noparentisabstractno one sig c3at1 extends c3at1type one sig c3at2 extends c3at2type one sig c3at3 extends c3at3type one sig c3at4 extends c3at4type one sig c3at5 extends c3at5type one sig c3at6 extends c3at6type one sig class4name extends classattrsetc4at1c4at2c4at3c4at4idc4at3noparentisabstractno one sig c4at1 extends c4at1type one sig c4at2 extends c4at2type one sig c4at3 extends c4at3type one sig c4at4 extends c4at4type one sig class5name extends classattrsetc5at1', '[start] np module omname 0 opendeclaration one sig class1name extends classattrsetc1at1c1at2idc1at1noparentisabstractno one sig c1at1 extends c1at1type one sig c1at2 extends c1at2type one sig class2name extends classattrsetc2at1c2at2idc2at1noparentisabstractno one sig c2at1 extends c2at1type one sig c2at2 extends c2at2type one sig class3name extends classattrsetc3at1c3at2c3at3c3at4c3at5c3at6idc3at1noparentisabstractno one sig c3at1 extends c3at1type one sig c3at2 extends c3at2type one sig c3at3 extends c3at3type one sig c3at4 extends c3at4type one sig c3at5 extends c3at5type one sig c3at6 extends c3at6type one sig class4name extends classattrsetc4at1c4at2c4at3c4at4idc4at3noparentisabstractno one sig c4at1 extends c4at1type one sig c4at2 extends c4at2type one sig c4at3 extends c4at3type one sig c4at4 extends c4at4type one sig class5name extends classattrsetc5at1', '[start] np module omname 0 opendeclaration one sig class1name extends classattrsetc1at1c1at2idc1at1noparentisabstractno one sig c1at1 extends c1at1type one sig c1at2 extends c1at2type one sig class2name extends classattrsetc2at1c2at2idc2at1noparentisabstractno one sig c2at1 extends c2at1type one sig c2at2 extends c2at2type one sig class3name extends classattrsetc3at1c3at2c3at3c3at4c3at5c3at6idc3at1noparentisabstractno one sig c3at1 extends c3at1type one sig c3at2 extends c3at2type one sig c3at3 extends c3at3type one sig c3at4 extends c3at4type one sig c3at5 extends c3at5type one sig c3at6 extends c3at6type one sig class4name extends classattrsetc4at1c4at2c4at3c4at4idc4at3noparentisabstractno one sig c4at1 extends c4at1type one sig c4at2 extends c4at2type one sig c4at3 extends c4at3type one sig c4at4 extends c4at4type one sig class5name extends classattrsetc5at1', '[start] np module omname 0 opendeclaration one sig class1name extends classattrsetc1at1c1at2idc1at1noparentisabstractno one sig c1at1 extends c1at1type one sig c1at2 extends c1at2type one sig class2name extends classattrsetc2at1c2at2idc2at1noparentisabstractno one sig c2at1 extends c2at1type one sig c2at2 extends c2at2type one sig class3name extends classattrsetc3at1c3at2c3at3c3at4c3at5c3at6idc3at1noparentisabstractno one sig c3at1 extends c3at1type one sig c3at2 extends c3at2type one sig c3at3 extends c3at3type one sig c3at4 extends c3at4type one sig c3at5 extends c3at5type one sig c3at6 extends c3at6type one sig class4name extends classattrsetc4at1c4at2c4at3c4at4idc4at3noparentisabstractno one sig c4at1 extends c4at1type one sig c4at2 extends c4at2type one sig c4at3 extends c4at3type one sig c4at4 extends c4at4type one sig class5name extends classattrsetc5at1', '[start] np module omname 0 opendeclaration one sig class1name extends classattrsetc1at1c1at2idc1at1noparentisabstractno one sig c1at1 extends c1at1type one sig c1at2 extends c1at2type one sig class2name extends classattrsetc2at1c2at2idc2at1noparentisabstractno one sig c2at1 extends c2at1type one sig c2at2 extends c2at2type one sig class3name extends classattrsetc3at1c3at2c3at3c3at4c3at5c3at6idc3at1noparentisabstractno one sig c3at1 extends c3at1type one sig c3at2 extends c3at2type one sig c3at3 extends c3at3type one sig c3at4 extends c3at4type one sig c3at5 extends c3at5type one sig c3at6 extends c3at6type one sig class4name extends classattrsetc4at1c4at2c4at3c4at4idc4at3noparentisabstractno one sig c4at1 extends c4at1type one sig c4at2 extends c4at2type one sig c4at3 extends c4at3type one sig c4at4 extends c4at4type one sig class5name extends classattrsetc5at1', '[start] np module omname 0 opendeclaration one sig class1name extends classattrsetc1at1c1at2idc1at1noparentisabstractno one sig c1at1 extends c1at1type one sig c1at2 extends c1at2type one sig class2name extends classattrsetc2at1c2at2idc2at1noparentisabstractno one sig c2at1 extends c2at1type one sig c2at2 extends c2at2type one sig class3name extends classattrsetc3at1c3at2c3at3c3at4c3at5c3at6idc3at1noparentisabstractno one sig c3at1 extends c3at1type one sig c3at2 extends c3at2type one sig c3at3 extends c3at3type one sig c3at4 extends c3at4type one sig c3at5 extends c3at5type one sig c3at6 extends c3at6type one sig class4name extends classattrsetc4at1c4at2c4at3c4at4idc4at3noparentisabstractno one sig c4at1 extends c4at1type one sig c4at2 extends c4at2type one sig c4at3 extends c4at3type one sig c4at4 extends c4at4type one sig class5name extends classattrsetc5at1', '[start] np module omname 0 opendeclaration one sig class1name extends classattrsetc1at1c1at2idc1at1noparentisabstractno one sig c1at1 extends c1at1type one sig c1at2 extends c1at2type one sig class2name extends classattrsetc2at1c2at2idc2at1noparentisabstractno one sig c2at1 extends c2at1type one sig c2at2 extends c2at2type one sig class3name extends classattrsetc3at1c3at2c3at3c3at4c3at5c3at6idc3at1noparentisabstractno one sig c3at1 extends c3at1type one sig c3at2 extends c3at2type one sig c3at3 extends c3at3type one sig c3at4 extends c3at4type one sig c3at5 extends c3at5type one sig c3at6 extends c3at6type one sig class4name extends classattrsetc4at1c4at2c4at3c4at4idc4at3noparentisabstractno one sig c4at1 extends c4at1type one sig c4at2 extends c4at2type one sig c4at3 extends c4at3type one sig c4at4 extends c4at4type one sig class5name extends classattrsetc5at1', '[start] np module omname 0 opendeclaration one sig class1name extends classattrsetc1at1c1at2idc1at1noparentisabstractno one sig c1at1 extends c1at1type one sig c1at2 extends c1at2type one sig class2name extends classattrsetc2at1c2at2idc2at1noparentisabstractno one sig c2at1 extends c2at1type one sig c2at2 extends c2at2type one sig class3name extends classattrsetc3at1c3at2c3at3c3at4c3at5c3at6idc3at1noparentisabstractno one sig c3at1 extends c3at1type one sig c3at2 extends c3at2type one sig c3at3 extends c3at3type one sig c3at4 extends c3at4type one sig c3at5 extends c3at5type one sig c3at6 extends c3at6type one sig class4name extends classattrsetc4at1c4at2c4at3c4at4idc4at3noparentisabstractno one sig c4at1 extends c4at1type one sig c4at2 extends c4at2type one sig c4at3 extends c4at3type one sig c4at4 extends c4at4type one sig class5name extends classattrsetc5at1', '[start] np module omname 0 opendeclaration one sig class1name extends classattrsetc1at1c1at2idc1at1noparentisabstractno one sig c1at1 extends c1at1type one sig c1at2 extends c1at2type one sig class2name extends classattrsetc2at1c2at2idc2at1noparentisabstractno one sig c2at1 extends c2at1type one sig c2at2 extends c2at2type one sig class3name extends classattrsetc3at1c3at2c3at3c3at4c3at5c3at6idc3at1noparentisabstractno one sig c3at1 extends c3at1type one sig c3at2 extends c3at2type one sig c3at3 extends c3at3type one sig c3at4 extends c3at4type one sig c3at5 extends c3at5type one sig c3at6 extends c3at6type one sig class4name extends classattrsetc4at1c4at2c4at3c4at4idc4at3noparentisabstractno one sig c4at1 extends c4at1type one sig c4at2 extends c4at2type one sig c4at3 extends c4at3type one sig c4at4 extends c4at4type one sig class5name extends classattrsetc5at1', '[start] np module omname 0 opendeclaration one sig class1name extends classattrsetc1at1c1at2idc1at1noparentisabstractno one sig c1at1 extends c1at1type one sig c1at2 extends c1at2type one sig class2name extends classattrsetc2at1c2at2idc2at1noparentisabstractno one sig c2at1 extends c2at1type one sig c2at2 extends c2at2type one sig class3name extends classattrsetc3at1c3at2c3at3c3at4c3at5c3at6idc3at1noparentisabstractno one sig c3at1 extends c3at1type one sig c3at2 extends c3at2type one sig c3at3 extends c3at3type one sig c3at4 extends c3at4type one sig c3at5 extends c3at5type one sig c3at6 extends c3at6type one sig class4name extends classattrsetc4at1c4at2c4at3c4at4idc4at3noparentisabstractno one sig c4at1 extends c4at1type one sig c4at2 extends c4at2type one sig c4at3 extends c4at3type one sig c4at4 extends c4at4type one sig class5name extends classattrsetc5at1', '[start] np module omname 0 opendeclaration one sig class1name extends classattrsetc1at1c1at2idc1at1noparentisabstractno one sig c1at1 extends c1at1type one sig c1at2 extends c1at2type one sig class2name extends classattrsetc2at1c2at2idc2at1noparentisabstractno one sig c2at1 extends c2at1type one sig c2at2 extends c2at2type one sig class3name extends classattrsetc3at1c3at2c3at3c3at4c3at5c3at6idc3at1noparentisabstractno one sig c3at1 extends c3at1type one sig c3at2 extends c3at2type one sig c3at3 extends c3at3type one sig c3at4 extends c3at4type one sig c3at5 extends c3at5type one sig c3at6 extends c3at6type one sig class4name extends classattrsetc4at1c4at2c4at3c4at4idc4at3noparentisabstractno one sig c4at1 extends c4at1type one sig c4at2 extends c4at2type one sig c4at3 extends c4at3type one sig c4at4 extends c4at4type one sig class5name extends classattrsetc5at1', '[start] np module omname 0 opendeclaration one sig class1name extends classattrsetc1at1c1at2idc1at1noparentisabstractno one sig c1at1 extends c1at1type one sig c1at2 extends c1at2type one sig class2name extends classattrsetc2at1c2at2idc2at1noparentisabstractno one sig c2at1 extends c2at1type one sig c2at2 extends c2at2type one sig class3name extends classattrsetc3at1c3at2c3at3c3at4c3at5c3at6idc3at1noparentisabstractno one sig c3at1 extends c3at1type one sig c3at2 extends c3at2type one sig c3at3 extends c3at3type one sig c3at4 extends c3at4type one sig c3at5 extends c3at5type one sig c3at6 extends c3at6type one sig class4name extends classattrsetc4at1c4at2c4at3c4at4idc4at3noparentisabstractno one sig c4at1 extends c4at1type one sig c4at2 extends c4at2type one sig c4at3 extends c4at3type one sig c4at4 extends c4at4type one sig class5name extends classattrsetc5at1', '[start] np module omname 0 opendeclaration one sig class1name extends classattrsetc1at1c1at2idc1at1noparentisabstractno one sig c1at1 extends c1at1type one sig c1at2 extends c1at2type one sig class2name extends classattrsetc2at1c2at2idc2at1noparentisabstractno one sig c2at1 extends c2at1type one sig c2at2 extends c2at2type one sig class3name extends classattrsetc3at1c3at2c3at3c3at4c3at5c3at6idc3at1noparentisabstractno one sig c3at1 extends c3at1type one sig c3at2 extends c3at2type one sig c3at3 extends c3at3type one sig c3at4 extends c3at4type one sig c3at5 extends c3at5type one sig c3at6 extends c3at6type one sig class4name extends classattrsetc4at1c4at2c4at3c4at4idc4at3noparentisabstractno one sig c4at1 extends c4at1type one sig c4at2 extends c4at2type one sig c4at3 extends c4at3type one sig c4at4 extends c4at4type one sig class5name extends classattrsetc5at1', '[start] np module omname 0 opendeclaration one sig class1name extends classattrsetc1at1c1at2idc1at1noparentisabstractno one sig c1at1 extends c1at1type one sig c1at2 extends c1at2type one sig class2name extends classattrsetc2at1c2at2idc2at1noparentisabstractno one sig c2at1 extends c2at1type one sig c2at2 extends c2at2type one sig class3name extends classattrsetc3at1c3at2c3at3c3at4c3at5c3at6idc3at1noparentisabstractno one sig c3at1 extends c3at1type one sig c3at2 extends c3at2type one sig c3at3 extends c3at3type one sig c3at4 extends c3at4type one sig c3at5 extends c3at5type one sig c3at6 extends c3at6type one sig class4name extends classattrsetc4at1c4at2c4at3c4at4idc4at3noparentisabstractno one sig c4at1 extends c4at1type one sig c4at2 extends c4at2type one sig c4at3 extends c4at3type one sig c4at4 extends c4at4type one sig class5name extends classattrsetc5at1', '[start] np module omname 0 opendeclaration one sig class1name extends classattrsetc1at1c1at2idc1at1noparentisabstractno one sig c1at1 extends c1at1type one sig c1at2 extends c1at2type one sig class2name extends classattrsetc2at1c2at2idc2at1noparentisabstractno one sig c2at1 extends c2at1type one sig c2at2 extends c2at2type one sig class3name extends classattrsetc3at1c3at2c3at3c3at4c3at5c3at6idc3at1noparentisabstractno one sig c3at1 extends c3at1type one sig c3at2 extends c3at2type one sig c3at3 extends c3at3type one sig c3at4 extends c3at4type one sig c3at5 extends c3at5type one sig c3at6 extends c3at6type one sig class4name extends classattrsetc4at1c4at2c4at3c4at4idc4at3noparentisabstractno one sig c4at1 extends c4at1type one sig c4at2 extends c4at2type one sig c4at3 extends c4at3type one sig c4at4 extends c4at4type one sig class5name extends classattrsetc5at1', '[start] np module omname 0 opendeclaration one sig class1name extends classattrsetc1at1c1at2idc1at1noparentisabstractno one sig c1at1 extends c1at1type one sig c1at2 extends c1at2type one sig class2name extends classattrsetc2at1c2at2idc2at1noparentisabstractno one sig c2at1 extends c2at1type one sig c2at2 extends c2at2type one sig class3name extends classattrsetc3at1c3at2c3at3c3at4c3at5c3at6idc3at1noparentisabstractno one sig c3at1 extends c3at1type one sig c3at2 extends c3at2type one sig c3at3 extends c3at3type one sig c3at4 extends c3at4type one sig c3at5 extends c3at5type one sig c3at6 extends c3at6type one sig class4name extends classattrsetc4at1c4at2c4at3c4at4idc4at3noparentisabstractno one sig c4at1 extends c4at1type one sig c4at2 extends c4at2type one sig c4at3 extends c4at3type one sig c4at4 extends c4at4type one sig class5name extends classattrsetc5at1', '[start] np module omname 0 opendeclaration one sig class1name extends classattrsetc1at1c1at2idc1at1noparentisabstractno one sig c1at1 extends c1at1type one sig c1at2 extends c1at2type one sig class2name extends classattrsetc2at1c2at2idc2at1noparentisabstractno one sig c2at1 extends c2at1type one sig c2at2 extends c2at2type one sig class3name extends classattrsetc3at1c3at2c3at3c3at4c3at5c3at6idc3at1noparentisabstractno one sig c3at1 extends c3at1type one sig c3at2 extends c3at2type one sig c3at3 extends c3at3type one sig c3at4 extends c3at4type one sig c3at5 extends c3at5type one sig c3at6 extends c3at6type one sig class4name extends classattrsetc4at1c4at2c4at3c4at4idc4at3noparentisabstractno one sig c4at1 extends c4at1type one sig c4at2 extends c4at2type one sig c4at3 extends c4at3type one sig c4at4 extends c4at4type one sig class5name extends classattrsetc5at1', '[start] np module omname 0 opendeclaration one sig class1name extends classattrsetc1at1c1at2idc1at1noparentisabstractno one sig c1at1 extends c1at1type one sig c1at2 extends c1at2type one sig class2name extends classattrsetc2at1c2at2idc2at1noparentisabstractno one sig c2at1 extends c2at1type one sig c2at2 extends c2at2type one sig class3name extends classattrsetc3at1c3at2c3at3c3at4c3at5c3at6idc3at1noparentisabstractno one sig c3at1 extends c3at1type one sig c3at2 extends c3at2type one sig c3at3 extends c3at3type one sig c3at4 extends c3at4type one sig c3at5 extends c3at5type one sig c3at6 extends c3at6type one sig class4name extends classattrsetc4at1c4at2c4at3c4at4idc4at3noparentisabstractno one sig c4at1 extends c4at1type one sig c4at2 extends c4at2type one sig c4at3 extends c4at3type one sig c4at4 extends c4at4type one sig class5name extends classattrsetc5at1', '[start] np module omname 0 opendeclaration one sig class1name extends classattrsetc1at1c1at2idc1at1noparentisabstractno one sig c1at1 extends c1at1type one sig c1at2 extends c1at2type one sig class2name extends classattrsetc2at1c2at2idc2at1noparentisabstractno one sig c2at1 extends c2at1type one sig c2at2 extends c2at2type one sig class3name extends classattrsetc3at1c3at2c3at3c3at4c3at5c3at6idc3at1noparentisabstractno one sig c3at1 extends c3at1type one sig c3at2 extends c3at2type one sig c3at3 extends c3at3type one sig c3at4 extends c3at4type one sig c3at5 extends c3at5type one sig c3at6 extends c3at6type one sig class4name extends classattrsetc4at1c4at2c4at3c4at4idc4at3noparentisabstractno one sig c4at1 extends c4at1type one sig c4at2 extends c4at2type one sig c4at3 extends c4at3type one sig c4at4 extends c4at4type one sig class5name extends classattrsetc5at1', '[start] np module omname 0 opendeclaration one sig class1name extends classattrsetc1at1c1at2idc1at1noparentisabstractno one sig c1at1 extends c1at1type one sig c1at2 extends c1at2type one sig class2name extends classattrsetc2at1c2at2idc2at1noparentisabstractno one sig c2at1 extends c2at1type one sig c2at2 extends c2at2type one sig class3name extends classattrsetc3at1c3at2c3at3c3at4c3at5c3at6idc3at1noparentisabstractno one sig c3at1 extends c3at1type one sig c3at2 extends c3at2type one sig c3at3 extends c3at3type one sig c3at4 extends c3at4type one sig c3at5 extends c3at5type one sig c3at6 extends c3at6type one sig class4name extends classattrsetc4at1c4at2c4at3c4at4idc4at3noparentisabstractno one sig c4at1 extends c4at1type one sig c4at2 extends c4at2type one sig c4at3 extends c4at3type one sig c4at4 extends c4at4type one sig class5name extends classattrsetc5at1', '[start] np module omname 0 opendeclaration one sig class1name extends classattrsetc1at1c1at2idc1at1noparentisabstractno one sig c1at1 extends c1at1type one sig c1at2 extends c1at2type one sig class2name extends classattrsetc2at1c2at2idc2at1noparentisabstractno one sig c2at1 extends c2at1type one sig c2at2 extends c2at2type one sig class3name extends classattrsetc3at1c3at2c3at3c3at4c3at5c3at6idc3at1noparentisabstractno one sig c3at1 extends c3at1type one sig c3at2 extends c3at2type one sig c3at3 extends c3at3type one sig c3at4 extends c3at4type one sig c3at5 extends c3at5type one sig c3at6 extends c3at6type one sig class4name extends classattrsetc4at1c4at2c4at3c4at4idc4at3noparentisabstractno one sig c4at1 extends c4at1type one sig c4at2 extends c4at2type one sig c4at3 extends c4at3type one sig c4at4 extends c4at4type one sig class5name extends classattrsetc5at1', '[start] np module omname 0 opendeclaration one sig class1name extends classattrsetc1at1c1at2idc1at1noparentisabstractno one sig c1at1 extends c1at1type one sig c1at2 extends c1at2type one sig class2name extends classattrsetc2at1c2at2idc2at1noparentisabstractno one sig c2at1 extends c2at1type one sig c2at2 extends c2at2type one sig class3name extends classattrsetc3at1c3at2c3at3c3at4c3at5c3at6idc3at1noparentisabstractno one sig c3at1 extends c3at1type one sig c3at2 extends c3at2type one sig c3at3 extends c3at3type one sig c3at4 extends c3at4type one sig c3at5 extends c3at5type one sig c3at6 extends c3at6type one sig class4name extends classattrsetc4at1c4at2c4at3c4at4idc4at3noparentisabstractno one sig c4at1 extends c4at1type one sig c4at2 extends c4at2type one sig c4at3 extends c4at3type one sig c4at4 extends c4at4type one sig class5name extends classattrsetc5at1']\n"
          ]
        }
      ]
    },
    {
      "cell_type": "markdown",
      "source": [
        "## Result Computation"
      ],
      "metadata": {
        "id": "hkeF3s1IJpWP"
      }
    },
    {
      "cell_type": "code",
      "source": [
        "import warnings\n",
        "import numpy as np\n",
        "import pandas as pd\n",
        "import matplotlib.pyplot as plt\n",
        "from sklearn import datasets\n",
        "from sklearn.preprocessing import StandardScaler\n",
        "from sklearn.neighbors import KNeighborsClassifier\n",
        "from sklearn.model_selection import train_test_split, GridSearchCV, cross_val_score, cross_val_predict\n",
        "from sklearn.metrics import confusion_matrix, precision_score, recall_score, f1_score, roc_curve, roc_auc_score\n",
        "from sklearn.metrics import precision_recall_curve, classification_report"
      ],
      "metadata": {
        "id": "LqYB3LO2aBu1"
      },
      "execution_count": 31,
      "outputs": []
    },
    {
      "cell_type": "code",
      "source": [
        "dd = pd.read_excel('University_OM_test_pred.xlsx')"
      ],
      "metadata": {
        "id": "tu2KZ_KCaG5C"
      },
      "execution_count": 32,
      "outputs": []
    },
    {
      "cell_type": "code",
      "source": [
        "X_test_pred2 = dd['OM_Regular'].values\n",
        "y_test_pred2 = dd['OM_Prediction'].values"
      ],
      "metadata": {
        "id": "Gf_HnKV-aLuJ"
      },
      "execution_count": 33,
      "outputs": []
    },
    {
      "cell_type": "code",
      "source": [
        "print (y_test_pred2 )"
      ],
      "metadata": {
        "colab": {
          "base_uri": "https://localhost:8080/"
        },
        "id": "LTxLvGHYaQTZ",
        "outputId": "adf7edfe-2071-4719-e5b4-0bb61f56c2fd"
      },
      "execution_count": 34,
      "outputs": [
        {
          "output_type": "stream",
          "name": "stdout",
          "text": [
            "[0 0 0 0 0 0 0 0 0 0 0 0 0 0 0 0 0 0 0 0 0 0 0 0 0 0 0 0 0 0 0]\n"
          ]
        }
      ]
    },
    {
      "cell_type": "code",
      "source": [
        "precision = precision_score(y_test2, y_test_pred2) \n",
        "print(\"Testing: Precision = %f\" % precision)\n",
        "\n",
        "\n",
        "recall = recall_score(y_test2, y_test_pred2)\n",
        "print(\"Testing: Recall = %f\" % recall)\n",
        "\n",
        "\n",
        "f1 = f1_score(y_test2, y_test_pred2)\n",
        "print(\"Testing: F1 Score = %f\" % f1)\n",
        "\n",
        "print(\"\\nConfusion Matrix (Test Data):\\n\", confusion_matrix(y_test2, y_test_pred2))"
      ],
      "metadata": {
        "colab": {
          "base_uri": "https://localhost:8080/"
        },
        "id": "Q1t5gn8LaR3q",
        "outputId": "018aed38-5234-447d-a209-0fef2493c729"
      },
      "execution_count": 35,
      "outputs": [
        {
          "output_type": "stream",
          "name": "stdout",
          "text": [
            "Testing: Precision = 0.000000\n",
            "Testing: Recall = 0.000000\n",
            "Testing: F1 Score = 0.000000\n",
            "\n",
            "Confusion Matrix (Test Data):\n",
            " [[21  0]\n",
            " [10  0]]\n"
          ]
        },
        {
          "output_type": "stream",
          "name": "stderr",
          "text": [
            "/usr/local/lib/python3.10/dist-packages/sklearn/metrics/_classification.py:1344: UndefinedMetricWarning: Precision is ill-defined and being set to 0.0 due to no predicted samples. Use `zero_division` parameter to control this behavior.\n",
            "  _warn_prf(average, modifier, msg_start, len(result))\n"
          ]
        }
      ]
    },
    {
      "cell_type": "code",
      "source": [
        "print(classification_report(y_test2,y_test_pred2))"
      ],
      "metadata": {
        "colab": {
          "base_uri": "https://localhost:8080/"
        },
        "id": "Pr-xEGUKaUsr",
        "outputId": "924ab813-58e3-46e5-ef82-9ad9c353dbb0"
      },
      "execution_count": 36,
      "outputs": [
        {
          "output_type": "stream",
          "name": "stdout",
          "text": [
            "              precision    recall  f1-score   support\n",
            "\n",
            "           0       0.68      1.00      0.81        21\n",
            "           1       0.00      0.00      0.00        10\n",
            "\n",
            "    accuracy                           0.68        31\n",
            "   macro avg       0.34      0.50      0.40        31\n",
            "weighted avg       0.46      0.68      0.55        31\n",
            "\n"
          ]
        },
        {
          "output_type": "stream",
          "name": "stderr",
          "text": [
            "/usr/local/lib/python3.10/dist-packages/sklearn/metrics/_classification.py:1344: UndefinedMetricWarning: Precision and F-score are ill-defined and being set to 0.0 in labels with no predicted samples. Use `zero_division` parameter to control this behavior.\n",
            "  _warn_prf(average, modifier, msg_start, len(result))\n",
            "/usr/local/lib/python3.10/dist-packages/sklearn/metrics/_classification.py:1344: UndefinedMetricWarning: Precision and F-score are ill-defined and being set to 0.0 in labels with no predicted samples. Use `zero_division` parameter to control this behavior.\n",
            "  _warn_prf(average, modifier, msg_start, len(result))\n",
            "/usr/local/lib/python3.10/dist-packages/sklearn/metrics/_classification.py:1344: UndefinedMetricWarning: Precision and F-score are ill-defined and being set to 0.0 in labels with no predicted samples. Use `zero_division` parameter to control this behavior.\n",
            "  _warn_prf(average, modifier, msg_start, len(result))\n"
          ]
        }
      ]
    }
  ],
  "metadata": {
    "accelerator": "GPU",
    "colab": {
      "provenance": []
    },
    "kernelspec": {
      "display_name": "Python 3",
      "language": "python",
      "name": "python3"
    },
    "language_info": {
      "codemirror_mode": {
        "name": "ipython",
        "version": 3
      },
      "file_extension": ".py",
      "mimetype": "text/x-python",
      "name": "python",
      "nbconvert_exporter": "python",
      "pygments_lexer": "ipython3",
      "version": "3.7.0"
    }
  },
  "nbformat": 4,
  "nbformat_minor": 0
}