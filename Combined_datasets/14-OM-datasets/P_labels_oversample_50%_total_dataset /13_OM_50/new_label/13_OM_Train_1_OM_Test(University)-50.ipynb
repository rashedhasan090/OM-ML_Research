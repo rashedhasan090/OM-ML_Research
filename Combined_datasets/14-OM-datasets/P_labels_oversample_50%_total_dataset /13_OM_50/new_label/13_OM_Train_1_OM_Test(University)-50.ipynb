{
  "cells": [
    {
      "cell_type": "markdown",
      "metadata": {
        "id": "J0Qjg6vuaHNt"
      },
      "source": [
        "\n",
        "# 13_OM_Train_1_OM_Test(University).\n",
        "\n",
        "# P oversample increased to 50%\n",
        "\n",
        "P instances have been increased through oversampling. \n",
        "\n",
        "###13 OM Dataset -  Camping,  Bank, , E-Commerce,  Traffic Controller, Library Management, School OM, Store OM, Student-course , Canteen OM, Hospital Management, Decider, Online Store, Customer Order\n",
        "\n",
        "###1 OM - Testing - University (Unseen) \n",
        "\n",
        "## P - NP Distribution \n",
        "\n",
        "### 50% - 50%\n",
        "\n",
        "\n",
        "\n",
        "## Training \n",
        "\n",
        "\n",
        "### Total instances - 30940\n",
        "\n",
        "### P samples - 15470 P \n",
        "### NP samples -  15470 NP\n",
        "\n",
        "## Testing \n",
        "\n",
        "### Total instances - 31\n",
        "\n",
        "### P samples - 10\n",
        "### NP samples - 21\n",
        "\n"
      ]
    },
    {
      "cell_type": "markdown",
      "metadata": {
        "id": "yAmSR1FaqKrl"
      },
      "source": [
        "## Setup (installing necessary libraries)"
      ]
    },
    {
      "cell_type": "code",
      "execution_count": 100,
      "metadata": {
        "id": "DGFTkuRvzWqc"
      },
      "outputs": [],
      "source": [
        "# !pip install \"tensorflow-text>=2.10\"\n",
        "# !pip install einops"
      ]
    },
    {
      "cell_type": "markdown",
      "metadata": {
        "id": "A07RWC45HcG0"
      },
      "source": [
        "#Importing Libraries "
      ]
    },
    {
      "cell_type": "code",
      "execution_count": 5,
      "metadata": {
        "id": "tnxXKDjq3jEL"
      },
      "outputs": [],
      "source": [
        "import numpy as np\n",
        "import typing\n",
        "from typing import Any, Tuple\n",
        "from sklearn.model_selection import train_test_split\n",
        "\n",
        "import pathlib\n",
        "\n",
        "import einops\n",
        "import matplotlib.pyplot as plt\n",
        "import matplotlib.ticker as ticker\n",
        "\n",
        "import tensorflow as tf\n",
        "import tensorflow_text as tf_text"
      ]
    },
    {
      "cell_type": "markdown",
      "metadata": {
        "id": "h87kqCNBHly5"
      },
      "source": [
        "#Defining the Shapechecker"
      ]
    },
    {
      "cell_type": "code",
      "execution_count": 6,
      "metadata": {
        "id": "KqFqKi4fqN9X"
      },
      "outputs": [],
      "source": [
        "#@title\n",
        "class ShapeChecker():\n",
        "  def __init__(self):\n",
        "    # Keep a cache of every axis-name seen\n",
        "    self.shapes = {}\n",
        "\n",
        "  def __call__(self, tensor, names, broadcast=False):\n",
        "    if not tf.executing_eagerly():\n",
        "      return\n",
        "\n",
        "    parsed = einops.parse_shape(tensor, names)\n",
        "\n",
        "    for name, new_dim in parsed.items():\n",
        "      old_dim = self.shapes.get(name, None)\n",
        "      \n",
        "      if (broadcast and new_dim == 1):\n",
        "        continue\n",
        "\n",
        "      if old_dim is None:\n",
        "        # If the axis name is new, add its length to the cache.\n",
        "        self.shapes[name] = new_dim\n",
        "        continue\n",
        "\n",
        "      if new_dim != old_dim:\n",
        "        raise ValueError(f\"Shape mismatch for dimension: '{name}'\\n\"\n",
        "                         f\"    found: {new_dim}\\n\"\n",
        "                         f\"    expected: {old_dim}\\n\")"
      ]
    },
    {
      "cell_type": "markdown",
      "metadata": {
        "id": "dB7rgJDbeBDF"
      },
      "source": [
        "# Loading the Dataset"
      ]
    },
    {
      "cell_type": "code",
      "execution_count": 7,
      "metadata": {
        "id": "daNcrh1lVej7"
      },
      "outputs": [],
      "source": [
        "import pandas as pd\n",
        "ORM_data = pd.read_excel('13_OM_50_label.xlsx')\n"
      ]
    },
    {
      "cell_type": "markdown",
      "metadata": {
        "id": "KbiGtupGHyJd"
      },
      "source": [
        "#Reading Data from Dataset"
      ]
    },
    {
      "cell_type": "code",
      "execution_count": 8,
      "metadata": {
        "id": "ve7kyoOxWY1u",
        "colab": {
          "base_uri": "https://localhost:8080/",
          "height": 206
        },
        "outputId": "19138e98-e4a1-48f4-b3e1-f035fa28dc62"
      },
      "outputs": [
        {
          "output_type": "execute_result",
          "data": {
            "text/plain": [
              "                                          OM_Regular  \\\n",
              "0  module OM_name: 0 ,openDeclaration one sig cla...   \n",
              "1  module OM_name: 0 ,openDeclaration one sig cla...   \n",
              "2  module OM_name: 0 ,openDeclaration one sig cla...   \n",
              "3  module OM_name: 0 ,openDeclaration one sig cla...   \n",
              "4  module OM_name: 0 ,openDeclaration one sig cla...   \n",
              "\n",
              "                                       OM_Prediction  \n",
              "0  module OM_name: 0 ,openDeclaration one sig cla...  \n",
              "1  P, module OM_name: 0 ,openDeclaration one sig ...  \n",
              "2  P, module OM_name: 0 ,openDeclaration one sig ...  \n",
              "3  P, module OM_name: 0 ,openDeclaration one sig ...  \n",
              "4  NP, module OM_name: 0 ,openDeclaration one sig...  "
            ],
            "text/html": [
              "\n",
              "  <div id=\"df-ed0a2616-9fb0-4897-827e-4b6f6578f31c\">\n",
              "    <div class=\"colab-df-container\">\n",
              "      <div>\n",
              "<style scoped>\n",
              "    .dataframe tbody tr th:only-of-type {\n",
              "        vertical-align: middle;\n",
              "    }\n",
              "\n",
              "    .dataframe tbody tr th {\n",
              "        vertical-align: top;\n",
              "    }\n",
              "\n",
              "    .dataframe thead th {\n",
              "        text-align: right;\n",
              "    }\n",
              "</style>\n",
              "<table border=\"1\" class=\"dataframe\">\n",
              "  <thead>\n",
              "    <tr style=\"text-align: right;\">\n",
              "      <th></th>\n",
              "      <th>OM_Regular</th>\n",
              "      <th>OM_Prediction</th>\n",
              "    </tr>\n",
              "  </thead>\n",
              "  <tbody>\n",
              "    <tr>\n",
              "      <th>0</th>\n",
              "      <td>module OM_name: 0 ,openDeclaration one sig cla...</td>\n",
              "      <td>module OM_name: 0 ,openDeclaration one sig cla...</td>\n",
              "    </tr>\n",
              "    <tr>\n",
              "      <th>1</th>\n",
              "      <td>module OM_name: 0 ,openDeclaration one sig cla...</td>\n",
              "      <td>P, module OM_name: 0 ,openDeclaration one sig ...</td>\n",
              "    </tr>\n",
              "    <tr>\n",
              "      <th>2</th>\n",
              "      <td>module OM_name: 0 ,openDeclaration one sig cla...</td>\n",
              "      <td>P, module OM_name: 0 ,openDeclaration one sig ...</td>\n",
              "    </tr>\n",
              "    <tr>\n",
              "      <th>3</th>\n",
              "      <td>module OM_name: 0 ,openDeclaration one sig cla...</td>\n",
              "      <td>P, module OM_name: 0 ,openDeclaration one sig ...</td>\n",
              "    </tr>\n",
              "    <tr>\n",
              "      <th>4</th>\n",
              "      <td>module OM_name: 0 ,openDeclaration one sig cla...</td>\n",
              "      <td>NP, module OM_name: 0 ,openDeclaration one sig...</td>\n",
              "    </tr>\n",
              "  </tbody>\n",
              "</table>\n",
              "</div>\n",
              "      <button class=\"colab-df-convert\" onclick=\"convertToInteractive('df-ed0a2616-9fb0-4897-827e-4b6f6578f31c')\"\n",
              "              title=\"Convert this dataframe to an interactive table.\"\n",
              "              style=\"display:none;\">\n",
              "        \n",
              "  <svg xmlns=\"http://www.w3.org/2000/svg\" height=\"24px\"viewBox=\"0 0 24 24\"\n",
              "       width=\"24px\">\n",
              "    <path d=\"M0 0h24v24H0V0z\" fill=\"none\"/>\n",
              "    <path d=\"M18.56 5.44l.94 2.06.94-2.06 2.06-.94-2.06-.94-.94-2.06-.94 2.06-2.06.94zm-11 1L8.5 8.5l.94-2.06 2.06-.94-2.06-.94L8.5 2.5l-.94 2.06-2.06.94zm10 10l.94 2.06.94-2.06 2.06-.94-2.06-.94-.94-2.06-.94 2.06-2.06.94z\"/><path d=\"M17.41 7.96l-1.37-1.37c-.4-.4-.92-.59-1.43-.59-.52 0-1.04.2-1.43.59L10.3 9.45l-7.72 7.72c-.78.78-.78 2.05 0 2.83L4 21.41c.39.39.9.59 1.41.59.51 0 1.02-.2 1.41-.59l7.78-7.78 2.81-2.81c.8-.78.8-2.07 0-2.86zM5.41 20L4 18.59l7.72-7.72 1.47 1.35L5.41 20z\"/>\n",
              "  </svg>\n",
              "      </button>\n",
              "      \n",
              "  <style>\n",
              "    .colab-df-container {\n",
              "      display:flex;\n",
              "      flex-wrap:wrap;\n",
              "      gap: 12px;\n",
              "    }\n",
              "\n",
              "    .colab-df-convert {\n",
              "      background-color: #E8F0FE;\n",
              "      border: none;\n",
              "      border-radius: 50%;\n",
              "      cursor: pointer;\n",
              "      display: none;\n",
              "      fill: #1967D2;\n",
              "      height: 32px;\n",
              "      padding: 0 0 0 0;\n",
              "      width: 32px;\n",
              "    }\n",
              "\n",
              "    .colab-df-convert:hover {\n",
              "      background-color: #E2EBFA;\n",
              "      box-shadow: 0px 1px 2px rgba(60, 64, 67, 0.3), 0px 1px 3px 1px rgba(60, 64, 67, 0.15);\n",
              "      fill: #174EA6;\n",
              "    }\n",
              "\n",
              "    [theme=dark] .colab-df-convert {\n",
              "      background-color: #3B4455;\n",
              "      fill: #D2E3FC;\n",
              "    }\n",
              "\n",
              "    [theme=dark] .colab-df-convert:hover {\n",
              "      background-color: #434B5C;\n",
              "      box-shadow: 0px 1px 3px 1px rgba(0, 0, 0, 0.15);\n",
              "      filter: drop-shadow(0px 1px 2px rgba(0, 0, 0, 0.3));\n",
              "      fill: #FFFFFF;\n",
              "    }\n",
              "  </style>\n",
              "\n",
              "      <script>\n",
              "        const buttonEl =\n",
              "          document.querySelector('#df-ed0a2616-9fb0-4897-827e-4b6f6578f31c button.colab-df-convert');\n",
              "        buttonEl.style.display =\n",
              "          google.colab.kernel.accessAllowed ? 'block' : 'none';\n",
              "\n",
              "        async function convertToInteractive(key) {\n",
              "          const element = document.querySelector('#df-ed0a2616-9fb0-4897-827e-4b6f6578f31c');\n",
              "          const dataTable =\n",
              "            await google.colab.kernel.invokeFunction('convertToInteractive',\n",
              "                                                     [key], {});\n",
              "          if (!dataTable) return;\n",
              "\n",
              "          const docLinkHtml = 'Like what you see? Visit the ' +\n",
              "            '<a target=\"_blank\" href=https://colab.research.google.com/notebooks/data_table.ipynb>data table notebook</a>'\n",
              "            + ' to learn more about interactive tables.';\n",
              "          element.innerHTML = '';\n",
              "          dataTable['output_type'] = 'display_data';\n",
              "          await google.colab.output.renderOutput(dataTable, element);\n",
              "          const docLink = document.createElement('div');\n",
              "          docLink.innerHTML = docLinkHtml;\n",
              "          element.appendChild(docLink);\n",
              "        }\n",
              "      </script>\n",
              "    </div>\n",
              "  </div>\n",
              "  "
            ]
          },
          "metadata": {},
          "execution_count": 8
        }
      ],
      "source": [
        "ORM_data.head()"
      ]
    },
    {
      "cell_type": "code",
      "execution_count": 9,
      "metadata": {
        "id": "V7OaHrVYV-Xd"
      },
      "outputs": [],
      "source": [
        "OM_Regular = ORM_data['OM_Regular'].values\n",
        "OM_Prediction = ORM_data['OM_Prediction'].values"
      ]
    },
    {
      "cell_type": "code",
      "execution_count": 10,
      "metadata": {
        "id": "jTBVOEjFWAI5"
      },
      "outputs": [],
      "source": [
        "X = OM_Regular\n",
        "Y = OM_Prediction"
      ]
    },
    {
      "cell_type": "markdown",
      "metadata": {
        "id": "YOujEo2geGod"
      },
      "source": [
        "#### Dividing data as Target and Context"
      ]
    },
    {
      "cell_type": "code",
      "execution_count": 99,
      "metadata": {
        "id": "cTbSbBz55QtF"
      },
      "outputs": [],
      "source": [
        "# target_raw =  Y\n",
        "# context_raw = X\n",
        "# print(context_raw[-1])"
      ]
    },
    {
      "cell_type": "code",
      "execution_count": 98,
      "metadata": {
        "id": "lH_dPY8TRp3c"
      },
      "outputs": [],
      "source": [
        "# print(target_raw[-1])"
      ]
    },
    {
      "cell_type": "markdown",
      "metadata": {
        "id": "rgCLkfv5uO3d"
      },
      "source": [
        "### Create a tf.data dataset"
      ]
    },
    {
      "cell_type": "markdown",
      "metadata": {
        "id": "PfVWx3WaI5Df"
      },
      "source": [
        "From these arrays of strings you can create a `tf.data.Dataset` of strings that shuffles and batches them efficiently:"
      ]
    },
    {
      "cell_type": "code",
      "execution_count": 13,
      "metadata": {
        "id": "3rZFgz69nMPa"
      },
      "outputs": [],
      "source": [
        "BUFFER_SIZE = len(context_raw)\n",
        "BATCH_SIZE = 1\n",
        "\n",
        "is_train = np.random.uniform(size=(len(target_raw),)) < 0.8\n",
        "\n",
        "train_raw = (\n",
        "    tf.data.Dataset\n",
        "    .from_tensor_slices((context_raw[is_train], target_raw[is_train]))\n",
        "    .shuffle(BUFFER_SIZE)\n",
        "    .batch(BATCH_SIZE))\n",
        "val_raw = (\n",
        "    tf.data.Dataset\n",
        "    .from_tensor_slices((context_raw[~is_train], target_raw[~is_train]))\n",
        "    .shuffle(BUFFER_SIZE)\n",
        "    .batch(BATCH_SIZE))"
      ]
    },
    {
      "cell_type": "code",
      "execution_count": 97,
      "metadata": {
        "id": "qc6-NK1GtWQt"
      },
      "outputs": [],
      "source": [
        "# for example_context_strings, example_target_strings in train_raw.take(1):\n",
        "#   print(example_context_strings[:5])\n",
        "#   print()\n",
        "#   print(example_target_strings[:5])\n",
        "#   break"
      ]
    },
    {
      "cell_type": "markdown",
      "metadata": {
        "id": "zCoxLcuN3bwv"
      },
      "source": [
        "### Text preprocessing"
      ]
    },
    {
      "cell_type": "markdown",
      "metadata": {
        "id": "7kwdPcHvzz_a"
      },
      "source": [
        "One of the goals of this tutorial is to build a model that can be exported as a `tf.saved_model`. To make that exported model useful it should take `tf.string` inputs, and return `tf.string` outputs: All the text processing happens inside the model. Mainly using a `layers.TextVectorization` layer."
      ]
    },
    {
      "cell_type": "markdown",
      "metadata": {
        "id": "EOQ5n55X4uDB"
      },
      "source": [
        "#### Standardization"
      ]
    },
    {
      "cell_type": "markdown",
      "metadata": {
        "id": "upKhKAMK4zzI"
      },
      "source": [
        "The model is dealing with multilingual text with a limited vocabulary. So it will be important to standardize the input text.\n",
        "\n",
        "The first step is Unicode normalization to split accented characters and replace compatibility characters with their ASCII equivalents.\n",
        "\n",
        "The `tensorflow_text` package contains a unicode normalize operation, We may or may not decide to Use this for ORM data. I kept it in the experiment"
      ]
    },
    {
      "cell_type": "code",
      "execution_count": 96,
      "metadata": {
        "id": "mD0e-DWGQ2Vo"
      },
      "outputs": [],
      "source": [
        "# example_text = tf.constant('moduleOM_nameopenDeclarationonesigclass1_nameextendsClassattrSet=c1_at1+c1_at2id=c1_at1noparentisAbstract=No}onesigc1_at1extendsc1_at1_typeonesigc1_at2extendsc1_at2_typeonesigclass2_nameextendsClassattrSet=c2_at1+c2_at2+c2_at3+c2_at4id=c2_at1noparentisAbstract=No}onesigc2_at1extendsc2_at1_typeonesigc2_at2extendsc2_at2_typeonesigc2_at3extendsc2_at3_typeonesigc2_at4extendsc2_at4_typeonesigclass3_nameextendsClassattrSet=c3_at1+c3_at2+c3_at3+c3_at4id=c3_at1noparentisAbstract=No}onesigc3_at1extendsc3_at1_typeonesigc3_at2extendsc3_at2_typeonesigc3_at3extendsc3_at3_typeonesigc3_at4extendsc3_at4_typeonesigclass4_nameextendsClassattrSet=c4_at1id=c4_at1noparentisAbstract=No}onesigc4_at1extendsc4_at1_typeonesigclass5_nameextendsClassattrSet=c5_at1+c5_at2+c5_at3+c5_at4id=c5_at1noparentisAbstract=No}onesigc5_at1extendsc5_at1_typeonesigc5_at2extendsc5_at2_typeonesigc5_at3extendsc5_at3_typeonesigc5_at4extendsc5_at4_typeonesigclass6_nameextendsClassattrSet=c6_at1+c6_at2+c6_at3+c6_at4id=c6_at1noparentisAbstract=No}onesigc6_at1extendsc6_at1_typeonesigc6_at2extendsc6_at2_typeonesigc6_at3extendsc6_at3_typeonesigc6_at4extendsc6_at4_typeonesigassoc1extendsAssociationsrc=class1_namedst=class5_namesrc_multiplicity=src_mlpcdst_multiplicity=dst_mlpc}onesigassoc2extendsAssociationsrc=class1_namedst=class5_namesrc_multiplicity=src_mlpcdst_multiplicity=dst_mlpc}onesigassoc3extendsAssociationsrc=class4_namedst=class5_namesrc_multiplicity=src_mlpcdst_multiplicity=dst_mlpc}onesigassoc4extendsAssociationsrc=class1_namedst=class6_namesrc_multiplicity=src_mlpcdst_multiplicity=dst_mlpc2}onesigassoc5extendsAssociationsrc=class1_namedst=class3_namesrc_multiplicity=src_mlpcdst_multiplicity=dst_mlpc2}predshowrunshowfor38,​OM_name_Solution:0Table:class1_nameAttributec1_at1:c1_at1_typePrimaryKeyTable:class1_nameAttributec1_at2:c1_at2_typeTable:class2_nameAttributec2_at1:c1_at1_typePrimaryKeyTable:class2_nameAttributec2_at2:c2_at2_typeTable:class2_nameAttributec2_at3:c2_at3_typeTable:class3_nameAttributec3_at1:c3_at1_typePrimaryKeyTable:class3_nameAttributec3_at4:c3_at4_typeTable:class3_nameAttributec3_at2:c3_at2_typeTable:class4_nameAttributec4_at1:c4_at1_typePrimaryKeyTable:class5_nameAttributec5_at3:c5_at3_typeTable:class5_nameAttributec5_at4:c5_at4_typeTable:class6_nameAttributec6_at1:c6_at1_typePrimaryKeyTable:class6_nameAttributec6_at2:c6_at2_typeTable:class6_nameAttributec6_at3:c6_at3_typeTable:class6_nameAttributec6_at4:c6_at4_typeTable:class1_nameAttributec1_at1:c1_at1_typePrimaryKeyTable:class2_nameAttributec2_at1:c1_at1_typePrimaryKeyTable:class3_nameAttributec3_at1:c3_at1_typePrimaryKeyTable:class4_nameAttributec4_at1:c4_at1_typePrimaryKeyTable:class6_nameAttributec6_at1:c6_at1_typePrimaryKeyTableName:class1_nameTableName:class2_nameTableName:class3_nameTableName:class4_nameTableName:class5_nameTableName:class6_nameMappingStrategyofTableclass1_name:map_str2MappingStrategyofTableclass2_name:map_str2MappingStrategyofTableclass3_name:map_str2MappingStrategyofTableclass4_name:map_str2MappingStrategyofTableclass6_name:map_str2AssociationStrategyforassoc1:assoc_type1AssociationStrategyforassoc2:assoc_type1AssociationStrategyforassoc3:assoc_type2AssociationStrategyforassoc4:assoc_type2AssociationStrategyforassoc5:assoc_type2,USEOM_name0----CREATETABLE`assoc1`(`c5_at1`c5_at1_type`c1_at1`c1_at1_typeKEY`FK_assoc1_c5_at1_idx`(`c5_at1`)KEY`FK_assoc1_c1_at1_idx`(`c1_at1`)PRIMARYKEY(`c5_at1``c1_at1`));----CREATETABLE`assoc3``c5_at1`c5_at1_type`c4_at1`c4_at1_typeKEY`FK_assoc3_c5_at1_idx`(`c5_at1`)KEY`FK_assoc3_c4_at1_idx`(`c4_at1`)PRIMARYKEY(`c5_at1``c4_at1`));----CREATETABLE`class5_name`(`c5_at4`c5_at4_type(64)`c5_at3`c5_at3_type(64)`c1_at1`c1_at1_type`c5_at1`c5_at1_typePRIMARYKEY(`c5_at1`));----CREATETABLE`class3_name`(`c3_at3`c3_at3_type(64)`c3_at2`c3_at2_type(64)`c3_at4`c3_at4_type`c3_at1`c3_at1_typeNOTNULLPRIMARYKEY(`c3_at1`));----CREATETABLE`class2_name`(`c2_at3`c2_at3_type(64)`c2_at2`c2_at2_type(64)`c2_at4`c2_at4_type`c2_at1`c2_at1_typePRIMARYKEY(`c2_at1`));----CREATETABLE`class4_name`(`c4_at1`c4_at1_typePRIMARYKEY(`c4_at1`));----CREATETABLE`class1_name`(`c1_at2`c1_at2_type(64)`c1_at1`c1_at1_typePRIMARYKEY(`c1_at1`));----CREATETABLE`class6_name`(`c6_at4`c6_at4_type`c6_at3`c6_at3_type`c6_at2`c6_at2_type`c6_at1`c6_at1_typeNOTNULLPRIMARYKEY(`c6_at1`));----CREATETABLE`assoc2`(`c5_at1`c5_at1_type`c2_at1`c2_at1_typeKEY`FK_assoc2_c5_at1_idx`(`c5_at1`)KEY`FK_assoc2_c2_at1_idx`(`c2_at1`)PRIMARYKEY(`c5_at1``c2_at1`));----CREATETABLE`assoc5`(`c3_at1`c3_at1_typeNOTNULL`c2_at1`c2_at1_typeKEY`FK_assoc5_c3_at1_idx`(`c3_at1`)KEY`FK_assoc5_c2_at1_idx`(`c2_at1`)PRIMARYKEY(`c3_at1``c2_at1`));----CREATETABLE`assoc4`(`c6_at1`c6_at1_typeNOTNULL`c2_at1`c2_at1_typeKEY`FK_assoc4_c6_at1_idx`(`c6_at1`)KEY`FK_assoc4_c2_at1_idx`(`c2_at1`)PRIMARYKEY(`c6_at1``c2_at1`));ALTERTABLE`assoc1`ADDCONSTRAINT`FK_assoc1_c5_at1`FOREIGNKEY(`c5_at1`)REFERENCES`class5_name`(`c5_at1`)ONDELETECASCADEONUPDATECASCADEADDCONSTRAINT`FK_assoc1_c1_at1`FOREIGNKEY(`c1_at1`)REFERENCES`class1_name`(`c1_at1`)ONDELETECASCADEONUPDATECASCADE;ALTERTABLE`assoc3`ADDCONSTRAINT`FK_assoc3_c5_at1`FOREIGNKEY(`c5_at1`)REFERENCES`class5_name`(`c5_at1`)ONDELETECASCADEONUPDATECASCADEADDCONSTRAINT`FK_assoc3_c4_at1`FOREIGNKEY(`c4_at1`)REFERENCES`class4_name`(`c4_at1`)ONDELETECASCADEONUPDATECASCADE;ALTERTABLE`assoc2`ADDCONSTRAINT`FK_assoc2_c5_at1`FOREIGNKEY(`c5_at1`)REFERENCES`class5_name`(`c5_at1`)ONDELETECASCADEONUPDATECASCADEADDCONSTRAINT`FK_assoc2_c2_at1`FOREIGNKEY(`c2_at1`)REFERENCES`class2_name`(`c2_at1`)ONDELETECASCADEONUPDATECASCADEALTERTABLE`assoc5`ADDCONSTRAINT`FK_assoc5_c3_at1`FOREIGNKEY(`c3_at1`)REFERENCES`class3_name`(`c3_at1`)ONDELETECASCADEONUPDATECASCADEADDCONSTRAINT`FK_assoc5_c2_at1`FOREIGNKEY(`c2_at1`)REFERENCES`class2_name`(`c2_at1`)ONDELETECASCADEONUPDATECASCADE;ALTERTABLE`assoc4`ADDCONSTRAINT`FK_assoc4_c6_at1`FOREIGNKEY(`c6_at1`)REFERENCES`class6_name`(`c6_at1`)ONDELETECASCADEONUPDATECASCADEADDCONSTRAINT`FK_assoc4_c2_at1`FOREIGNKEY(`c2_at1`)REFERENCES`class2_name`(`c2_at1`)ONDELETECASCADEONUPDATECASCADE')\n",
        "\n",
        "# #example_text = tf.constant('class1,table2,obj1,atr1')\n",
        "# print(example_text.numpy())\n",
        "# print(tf_text.normalize_utf8(example_text, 'NFKD').numpy())"
      ]
    },
    {
      "cell_type": "code",
      "execution_count": 16,
      "metadata": {
        "id": "chTF5N885F0P"
      },
      "outputs": [],
      "source": [
        "#import re\n",
        "\n",
        "#def tf_lower_and_split_punct(text):\n",
        "\n",
        "def tf_lower_and_split_punct(text):\n",
        "  # Split accented characters.\n",
        "  text = tf_text.normalize_utf8(text, 'NFKD')\n",
        "  text = tf.strings.lower(text)\n",
        "  # Keep space, a to z, and select punctuation.\n",
        "  text = tf.strings.regex_replace(text, '', '')\n",
        "  # Add spaces around punctuation.\n",
        "  text = tf.strings.regex_replace(text, '', r'')\n",
        "  # Strip whitespace.\n",
        "  text = tf.strings.strip(text)\n",
        "\n",
        "  text = tf.strings.join(['[START]', text, '[END]'], separator=' ')\n",
        "  return text\n",
        "\n",
        "\n",
        "\n"
      ]
    },
    {
      "cell_type": "code",
      "execution_count": 95,
      "metadata": {
        "id": "UREvDg3sEKYa"
      },
      "outputs": [],
      "source": [
        "# print(example_text.numpy().decode())\n",
        "# print(tf_lower_and_split_punct(example_text).numpy().decode())"
      ]
    },
    {
      "cell_type": "markdown",
      "metadata": {
        "id": "4q-sKsSI7xRZ"
      },
      "source": [
        "#### Text Vectorization"
      ]
    },
    {
      "cell_type": "markdown",
      "metadata": {
        "id": "6aKn8qd37abi"
      },
      "source": [
        "This standardization function will be wrapped up in a `tf.keras.layers.TextVectorization` layer which will handle the vocabulary extraction and conversion of input text to sequences of tokens."
      ]
    },
    {
      "cell_type": "code",
      "execution_count": 18,
      "metadata": {
        "id": "eAY9k49G3jE_"
      },
      "outputs": [],
      "source": [
        "max_vocab_size = 5000\n",
        "\n",
        "context_text_processor = tf.keras.layers.TextVectorization(\n",
        "    standardize=tf_lower_and_split_punct,\n",
        "    max_tokens=max_vocab_size,\n",
        "    ragged=True)"
      ]
    },
    {
      "cell_type": "markdown",
      "metadata": {
        "id": "7kbC6ODP8IK_"
      },
      "source": [
        "The `TextVectorization` layer and many other [Keras preprocessing layers](https://www.tensorflow.org/guide/keras/preprocessing_layers) have an `adapt` method. This method reads one epoch of the training data, and works a lot like `Model.fit`. This `adapt` method initializes the layer based on the data. Here it determines the vocabulary:"
      ]
    },
    {
      "cell_type": "code",
      "execution_count": 19,
      "metadata": {
        "id": "bmsI1Yql8FYe",
        "colab": {
          "base_uri": "https://localhost:8080/"
        },
        "outputId": "8285f862-3254-4814-d247-7d6b8099db6c"
      },
      "outputs": [
        {
          "output_type": "execute_result",
          "data": {
            "text/plain": [
              "['',\n",
              " '[UNK]',\n",
              " 'key',\n",
              " 'one',\n",
              " 'sig',\n",
              " 'extends',\n",
              " 'on',\n",
              " 'cascade',\n",
              " 'table',\n",
              " 'primary']"
            ]
          },
          "metadata": {},
          "execution_count": 19
        }
      ],
      "source": [
        "context_text_processor.adapt(train_raw.map(lambda context, target: context))\n",
        "\n",
        "# Here are the first 10 words from the vocabulary:\n",
        "context_text_processor.get_vocabulary()[:10]"
      ]
    },
    {
      "cell_type": "markdown",
      "metadata": {
        "id": "9kGjIFjX8_Wp"
      },
      "source": [
        "That's the context data  `TextVectorization` layer, now build and `.adapt()` for the Target Data one:"
      ]
    },
    {
      "cell_type": "code",
      "execution_count": 20,
      "metadata": {
        "id": "jlC4xuZnKLBS",
        "colab": {
          "base_uri": "https://localhost:8080/"
        },
        "outputId": "e2910561-2c41-4484-8ca5-4bbc833dcfa4"
      },
      "outputs": [
        {
          "output_type": "execute_result",
          "data": {
            "text/plain": [
              "['',\n",
              " '[UNK]',\n",
              " 'key',\n",
              " 'one',\n",
              " 'sig',\n",
              " 'extends',\n",
              " 'on',\n",
              " 'cascade',\n",
              " 'table',\n",
              " 'primary']"
            ]
          },
          "metadata": {},
          "execution_count": 20
        }
      ],
      "source": [
        "target_text_processor = tf.keras.layers.TextVectorization(\n",
        "    standardize=tf_lower_and_split_punct,\n",
        "    max_tokens=max_vocab_size,\n",
        "    ragged=True)\n",
        "\n",
        "target_text_processor.adapt(train_raw.map(lambda context, target: target))\n",
        "target_text_processor.get_vocabulary()[:10]"
      ]
    },
    {
      "cell_type": "markdown",
      "metadata": {
        "id": "BWQqlP_s9eIv"
      },
      "source": [
        "Now these layers can convert a batch of strings into a batch of token IDs:"
      ]
    },
    {
      "cell_type": "code",
      "execution_count": 94,
      "metadata": {
        "id": "9KZxj8IrNZ9S"
      },
      "outputs": [],
      "source": [
        "# example_tokens = context_text_processor(example_context_strings)\n",
        "# example_tokens[:3, :]"
      ]
    },
    {
      "cell_type": "markdown",
      "metadata": {
        "id": "AA9rUn9G9n78"
      },
      "source": [
        "The `get_vocabulary` method can be used to convert token IDs back to text:"
      ]
    },
    {
      "cell_type": "code",
      "execution_count": 93,
      "metadata": {
        "id": "98g9rcxGQY0I"
      },
      "outputs": [],
      "source": [
        "# context_vocab = np.array(context_text_processor.get_vocabulary())\n",
        "# tokens = context_vocab[example_tokens[0].numpy()]\n",
        "# ' '.join(tokens)"
      ]
    },
    {
      "cell_type": "markdown",
      "metadata": {
        "id": "Ot0aCL9t-Ghi"
      },
      "source": [
        "The returned token IDs are zero-padded. This can easily be turned into a mask:"
      ]
    },
    {
      "cell_type": "code",
      "execution_count": 23,
      "metadata": {
        "id": "_jx4Or_eFRSz",
        "colab": {
          "base_uri": "https://localhost:8080/",
          "height": 470
        },
        "outputId": "a3a29dd4-a4fd-4c05-c1e7-401a39dc9a97"
      },
      "outputs": [
        {
          "output_type": "execute_result",
          "data": {
            "text/plain": [
              "Text(0.5, 1.0, 'Mask')"
            ]
          },
          "metadata": {},
          "execution_count": 23
        },
        {
          "output_type": "display_data",
          "data": {
            "text/plain": [
              "<Figure size 640x480 with 2 Axes>"
            ],
            "image/png": "[encoded data removed]"
          },
          "metadata": {}
        }
      ],
      "source": [
        "plt.subplot(1, 2, 1)\n",
        "plt.pcolormesh(example_tokens.to_tensor())\n",
        "plt.title('Token IDs')\n",
        "\n",
        "plt.subplot(1, 2, 2)\n",
        "plt.pcolormesh(example_tokens.to_tensor() != 0)\n",
        "plt.title('Mask')"
      ]
    },
    {
      "cell_type": "markdown",
      "metadata": {
        "id": "3O0B4XdFlRgc"
      },
      "source": [
        "### Process the dataset\n",
        "\n"
      ]
    },
    {
      "cell_type": "markdown",
      "metadata": {
        "id": "rVCuyuSp_whd"
      },
      "source": [
        "The `process_text` function below converts the `Datasets` of strings, into  0-padded tensors of token IDs. It also converts from a `(context, target)` pair to an `((context, target_in), target_out)` pair for training with `keras.Model.fit`. Keras expects `(inputs, labels)` pairs, the inputs are the `(context, target_in)` and the labels are `target_out`. The difference between `target_in` and `target_out` is that they are shifted by one step relative to eachother, so that at each location the label is the next token."
      ]
    },
    {
      "cell_type": "code",
      "execution_count": 24,
      "metadata": {
        "id": "wk5tbZWQl5u1"
      },
      "outputs": [],
      "source": [
        "def process_text(context, target):\n",
        "  context = context_text_processor(context).to_tensor()\n",
        "  target = target_text_processor(target)\n",
        "  targ_in = target[:,:-1].to_tensor()\n",
        "  targ_out = target[:,1:].to_tensor()\n",
        "  return (context, targ_in), targ_out\n",
        "\n",
        "\n",
        "train_ds = train_raw.map(process_text, tf.data.AUTOTUNE)\n",
        "val_ds = val_raw.map(process_text, tf.data.AUTOTUNE)"
      ]
    },
    {
      "cell_type": "markdown",
      "metadata": {
        "id": "4iGi7X2m_tbM"
      },
      "source": [
        "Here is the first sequence of each, from the first batch:"
      ]
    },
    {
      "cell_type": "code",
      "execution_count": 25,
      "metadata": {
        "id": "woQBWAjLsJkr",
        "colab": {
          "base_uri": "https://localhost:8080/"
        },
        "outputId": "face382c-25fd-475f-c729-e7e9f8547bd8"
      },
      "outputs": [
        {
          "output_type": "stream",
          "name": "stdout",
          "text": [
            "[ 57  73 146 149   3   4  59   5  91   3]\n",
            "\n",
            "[ 57 160  73 146 149   3   4  59   5  91]\n",
            "[160  73 146 149   3   4  59   5  91   3]\n"
          ]
        }
      ],
      "source": [
        "for (ex_context_tok, ex_tar_in), ex_tar_out in train_ds.take(1):\n",
        "  print(ex_context_tok[0, :10].numpy()) \n",
        "  print()\n",
        "  print(ex_tar_in[0, :10].numpy()) \n",
        "  print(ex_tar_out[0, :10].numpy()) "
      ]
    },
    {
      "cell_type": "markdown",
      "metadata": {
        "id": "TNfHIF71ulLu"
      },
      "source": [
        "## The encoder/decoder\n",
        "\n",
        "  <th colspan=1>This tutorial's model</th>\n",
        "<tr>\n",
        "</table>\n"
      ]
    },
    {
      "cell_type": "markdown",
      "metadata": {
        "id": "gzQWx2saImMV"
      },
      "source": [
        "Before getting into it define constants for the model:"
      ]
    },
    {
      "cell_type": "code",
      "execution_count": 26,
      "metadata": {
        "id": "_a9uNz3-IrF-"
      },
      "outputs": [],
      "source": [
        "UNITS = 256"
      ]
    },
    {
      "cell_type": "markdown",
      "metadata": {
        "id": "blNgVbLSzpsr"
      },
      "source": [
        "### The encoder\n",
        "\n",
        "\n",
        "The encoder:\n",
        "\n",
        "1. Takes a list of token IDs (from `context_text_processor`).\n",
        "3. Looks up an embedding vector for each token (Using a `layers.Embedding`).\n",
        "4. Processes the embeddings into a new sequence (Using a bidirectional `layers.GRU`).\n",
        "5. Returns the processed sequence. This will be passed to the attention head."
      ]
    },
    {
      "cell_type": "code",
      "execution_count": 27,
      "metadata": {
        "id": "nZ2rI24i3jFg"
      },
      "outputs": [],
      "source": [
        "class Encoder(tf.keras.layers.Layer):\n",
        "  def __init__(self, text_processor, units):\n",
        "    super(Encoder, self).__init__()\n",
        "    self.text_processor = text_processor\n",
        "    self.vocab_size = text_processor.vocabulary_size()\n",
        "    self.units = units\n",
        "    \n",
        "    # The embedding layer converts tokens to vectors\n",
        "    self.embedding = tf.keras.layers.Embedding(self.vocab_size, units,\n",
        "                                               mask_zero=True)\n",
        "\n",
        "    # The RNN layer processes those vectors sequentially.\n",
        "    self.rnn = tf.keras.layers.Bidirectional(\n",
        "        merge_mode='sum',\n",
        "        layer=tf.keras.layers.GRU(units,\n",
        "                            # Return the sequence and state\n",
        "                            return_sequences=True,\n",
        "                            recurrent_initializer='glorot_uniform'))\n",
        "\n",
        "  def call(self, x):\n",
        "    shape_checker = ShapeChecker()\n",
        "    shape_checker(x, 'batch s')\n",
        "\n",
        "    # 2. The embedding layer looks up the embedding vector for each token.\n",
        "    x = self.embedding(x)\n",
        "    shape_checker(x, 'batch s units')\n",
        "\n",
        "    # 3. The GRU processes the sequence of embeddings.\n",
        "    x = self.rnn(x)\n",
        "    shape_checker(x, 'batch s units')\n",
        "\n",
        "    # 4. Returns the new sequence of embeddings.\n",
        "    return x\n",
        "\n",
        "  def convert_input(self, texts):\n",
        "    texts = tf.convert_to_tensor(texts)\n",
        "    if len(texts.shape) == 0:\n",
        "      texts = tf.convert_to_tensor(texts)[tf.newaxis]\n",
        "    context = self.text_processor(texts).to_tensor()\n",
        "    context = self(context)\n",
        "    return context"
      ]
    },
    {
      "cell_type": "code",
      "execution_count": 28,
      "metadata": {
        "id": "60gSVh05Jl6l",
        "colab": {
          "base_uri": "https://localhost:8080/"
        },
        "outputId": "553ff9d7-8db4-427d-fee6-f799f1cf82ce"
      },
      "outputs": [
        {
          "output_type": "stream",
          "name": "stdout",
          "text": [
            "Context tokens, shape (batch, s): (1, 671)\n",
            "Encoder output, shape (batch, s, units): (1, 671, 256)\n"
          ]
        }
      ],
      "source": [
        "# Encode the input sequence.\n",
        "encoder = Encoder(context_text_processor, UNITS)\n",
        "ex_context = encoder(ex_context_tok)\n",
        "\n",
        "print(f'Context tokens, shape (batch, s): {ex_context_tok.shape}')\n",
        "print(f'Encoder output, shape (batch, s, units): {ex_context.shape}')"
      ]
    },
    {
      "cell_type": "markdown",
      "metadata": {
        "id": "45xM_Gl1MgXY"
      },
      "source": [
        "### The attention layer\n",
        "\n",
        "The attention layer lets the decoder access the information extracted by the encoder. It computes a vector from the entire context sequence, and adds that to the decoder's output. \n"
      ]
    },
    {
      "cell_type": "code",
      "execution_count": 29,
      "metadata": {
        "id": "-Ql3ymqwD8LS"
      },
      "outputs": [],
      "source": [
        "class CrossAttention(tf.keras.layers.Layer):\n",
        "  def __init__(self, units, **kwargs):\n",
        "    super().__init__()\n",
        "    self.mha = tf.keras.layers.MultiHeadAttention(key_dim=units, num_heads=1, **kwargs)\n",
        "    self.layernorm = tf.keras.layers.LayerNormalization()\n",
        "    self.add = tf.keras.layers.Add()\n",
        "\n",
        "  def call(self, x, context):\n",
        "    shape_checker = ShapeChecker()\n",
        " \n",
        "    shape_checker(x, 'batch t units')\n",
        "    shape_checker(context, 'batch s units')\n",
        "\n",
        "    attn_output, attn_scores = self.mha(\n",
        "       query=x,\n",
        "       value=context,\n",
        "      return_attention_scores=True)\n",
        "    \n",
        "    shape_checker(x, 'batch t units')\n",
        "    shape_checker(attn_scores, 'batch heads t s')\n",
        "    \n",
        "  #Cache the attention scores for plotting later.\n",
        "    attn_scores = tf.reduce_mean(attn_scores, axis=1)\n",
        "    shape_checker(attn_scores, 'batch t s')\n",
        "    self.last_attention_weights = attn_scores\n",
        "\n",
        "    x = self.add([x, attn_output])\n",
        "    x = self.layernorm(x)\n",
        "\n",
        "    return x"
      ]
    },
    {
      "cell_type": "markdown",
      "metadata": {
        "id": "bRzduCU4tGN6"
      },
      "source": []
    },
    {
      "cell_type": "code",
      "execution_count": 30,
      "metadata": {
        "id": "VVLdvss3zN4v",
        "colab": {
          "base_uri": "https://localhost:8080/"
        },
        "outputId": "0187d55f-87be-414a-b616-438a03a1cbd8"
      },
      "outputs": [
        {
          "output_type": "stream",
          "name": "stdout",
          "text": [
            "Context sequence, shape (batch, s, units): (1, 671, 256)\n",
            "Target sequence, shape (batch, t, units): (1, 670, 256)\n",
            "Attention result, shape (batch, t, units): (1, 670, 256)\n",
            "Attention weights, shape (batch, t, s):    (1, 670, 671)\n"
          ]
        }
      ],
      "source": [
        "attention_layer = CrossAttention(UNITS)\n",
        "\n",
        "# Attend to the encoded tokens\n",
        "embed = tf.keras.layers.Embedding(target_text_processor.vocabulary_size(),\n",
        "                                 output_dim=UNITS, mask_zero=True)\n",
        "ex_tar_embed = embed(ex_tar_in)\n",
        "\n",
        "result = attention_layer(ex_tar_embed, ex_context)\n",
        "\n",
        "print(f'Context sequence, shape (batch, s, units): {ex_context.shape}')\n",
        "print(f'Target sequence, shape (batch, t, units): {ex_tar_embed.shape}')\n",
        "print(f'Attention result, shape (batch, t, units): {result.shape}')\n",
        "print(f'Attention weights, shape (batch, t, s):    {attention_layer.last_attention_weights.shape}')"
      ]
    },
    {
      "cell_type": "markdown",
      "metadata": {
        "id": "d14A2DcPtQhS"
      },
      "source": []
    },
    {
      "cell_type": "markdown",
      "metadata": {
        "id": "vx9fUhi3Pmwp"
      },
      "source": [
        "The attention weights will sum to `1` over the context sequence, at each location in the target sequence."
      ]
    },
    {
      "cell_type": "code",
      "execution_count": 31,
      "metadata": {
        "id": "zxyR7cmQPn9P",
        "colab": {
          "base_uri": "https://localhost:8080/"
        },
        "outputId": "6fb82a66-2e88-4ee2-c322-d0b3ebc895b4"
      },
      "outputs": [
        {
          "output_type": "execute_result",
          "data": {
            "text/plain": [
              "array([1.        , 1.        , 1.0000001 , 1.        , 1.        ,\n",
              "       1.        , 1.        , 0.99999994, 1.0000001 , 1.        ,\n",
              "       1.        , 1.        , 1.        , 1.0000001 , 1.        ,\n",
              "       1.        , 1.        , 0.99999994, 1.0000001 , 1.        ,\n",
              "       1.        , 1.        , 0.99999994, 1.0000001 , 1.        ,\n",
              "       1.        , 1.        , 1.0000001 , 1.0000001 , 0.9999999 ,\n",
              "       1.        , 1.        , 1.0000001 , 1.0000001 , 1.        ,\n",
              "       1.        , 1.        , 1.        , 1.0000001 , 0.99999994,\n",
              "       1.        , 1.        , 1.        , 1.0000001 , 1.        ,\n",
              "       1.        , 1.        , 1.        , 1.0000001 , 1.        ,\n",
              "       1.        , 1.        , 1.        , 1.0000001 , 1.        ,\n",
              "       1.        , 1.        , 1.0000001 , 1.0000001 , 1.        ,\n",
              "       1.        , 1.        , 1.        , 1.0000001 , 0.99999994,\n",
              "       1.        , 1.        , 1.        , 1.0000001 , 1.        ,\n",
              "       1.        , 1.        , 1.        , 1.0000001 , 1.        ,\n",
              "       1.        , 1.        , 1.        , 1.0000001 , 1.        ,\n",
              "       1.        , 1.        , 0.99999994, 1.0000001 , 1.0000001 ,\n",
              "       1.        , 1.        , 1.0000001 , 1.0000001 , 1.        ,\n",
              "       1.        , 1.        , 0.9999999 , 1.0000001 , 1.        ,\n",
              "       1.        , 1.        , 1.        , 1.0000001 , 0.99999994,\n",
              "       1.        , 1.0000001 , 0.9999999 , 1.        , 1.        ,\n",
              "       1.        , 1.0000001 , 0.9999999 , 1.        , 1.        ,\n",
              "       1.        , 1.0000001 , 1.        , 1.        , 1.        ,\n",
              "       0.99999994, 1.0000001 , 1.        , 1.        , 1.        ,\n",
              "       1.        , 1.0000001 , 1.        , 1.        , 1.        ,\n",
              "       1.        , 1.0000001 , 1.        , 1.        , 1.        ,\n",
              "       1.        , 1.0000001 , 1.        , 1.        , 1.        ,\n",
              "       1.        , 1.0000001 , 1.        , 1.        , 1.0000001 ,\n",
              "       0.9999999 , 1.        , 1.        , 0.9999999 , 1.0000001 ,\n",
              "       1.        , 1.        , 1.        , 1.        , 1.0000001 ,\n",
              "       1.        , 1.        , 1.0000001 , 0.9999999 , 1.        ,\n",
              "       1.        , 1.        , 1.0000001 , 1.0000001 , 1.        ,\n",
              "       1.        , 1.        , 1.0000001 , 1.        , 1.        ,\n",
              "       1.0000001 , 0.9999999 , 1.        , 1.        , 1.        ,\n",
              "       1.0000001 , 1.        , 1.        , 1.        , 1.        ,\n",
              "       1.0000001 , 1.        , 1.        , 1.        , 1.        ,\n",
              "       1.0000001 , 0.9999999 , 1.        , 1.        , 1.        ,\n",
              "       1.0000001 , 1.        , 1.        , 1.        , 1.        ,\n",
              "       1.0000001 , 1.        , 1.        , 1.        , 1.        ,\n",
              "       1.        , 1.        , 1.        , 1.        , 1.        ,\n",
              "       1.0000001 , 1.        , 1.        , 1.        , 0.99999994,\n",
              "       1.        , 1.        , 1.        , 1.        , 1.        ,\n",
              "       1.0000001 , 1.        , 1.        , 1.        , 1.        ,\n",
              "       1.        , 1.        , 1.        , 1.        , 1.        ,\n",
              "       1.0000001 , 1.        , 0.9999999 , 1.        , 1.        ,\n",
              "       1.        , 1.        , 1.        , 1.        , 1.        ,\n",
              "       1.0000001 , 1.        , 1.        , 1.        , 1.        ,\n",
              "       1.        , 1.        , 1.        , 1.        , 1.        ,\n",
              "       1.0000001 , 1.        , 0.99999994, 1.        , 1.        ,\n",
              "       1.        , 1.        , 1.        , 1.        , 1.        ,\n",
              "       1.0000001 , 1.        , 1.        , 1.        , 1.        ,\n",
              "       1.        , 1.        , 1.        , 1.        , 1.0000001 ,\n",
              "       1.0000001 , 1.        , 1.        , 1.        , 1.        ,\n",
              "       1.        , 1.        , 1.        , 1.        , 1.        ,\n",
              "       1.0000001 , 1.        , 0.9999999 , 1.        , 1.        ,\n",
              "       1.        , 1.        , 1.        , 1.        , 1.        ,\n",
              "       1.0000001 , 1.        , 1.        , 1.        , 1.        ,\n",
              "       1.        , 1.        , 1.        , 1.        , 1.        ,\n",
              "       1.        , 1.        , 1.        , 0.99999994, 0.99999994,\n",
              "       1.        , 1.        , 1.        , 1.        , 1.        ,\n",
              "       1.        , 1.        , 0.99999994, 1.        , 1.        ,\n",
              "       1.        , 1.        , 1.        , 0.99999994, 1.        ,\n",
              "       1.        , 1.        , 1.        , 1.        , 0.99999994,\n",
              "       1.        , 0.99999994, 1.        , 1.        , 0.99999994,\n",
              "       1.        , 1.        , 0.99999994, 1.        , 1.        ,\n",
              "       0.99999994, 1.        , 1.        , 1.0000001 , 1.        ,\n",
              "       1.        , 0.99999994, 0.99999994, 1.        , 1.        ,\n",
              "       1.        , 1.        , 1.        , 1.        , 1.        ,\n",
              "       1.        , 0.9999999 , 0.99999994, 1.        , 1.        ,\n",
              "       1.        , 1.        , 1.        , 1.        , 0.99999994,\n",
              "       1.        , 1.        , 1.        , 0.99999994, 1.        ,\n",
              "       1.        , 1.        , 1.        , 1.        , 0.99999994,\n",
              "       1.        , 1.        , 1.        , 1.        , 1.        ,\n",
              "       1.        , 0.99999994, 1.        , 0.99999994, 0.99999994,\n",
              "       0.99999994, 0.99999994, 1.        , 1.        , 1.        ,\n",
              "       0.99999994, 1.        , 1.        , 0.99999994, 1.        ,\n",
              "       1.        , 1.        , 1.        , 1.0000001 , 1.        ,\n",
              "       1.        , 0.9999999 , 1.        , 1.        , 1.        ,\n",
              "       1.0000001 , 1.        , 1.        , 1.        , 1.        ,\n",
              "       1.        , 1.        , 1.        , 1.        , 0.99999994,\n",
              "       1.        , 1.        , 1.        , 1.        , 1.        ,\n",
              "       1.        , 1.        , 1.        , 1.0000001 , 0.99999994,\n",
              "       1.        , 1.        , 1.        , 1.        , 1.        ,\n",
              "       0.99999994, 1.        , 1.        , 1.        , 1.0000001 ,\n",
              "       1.        , 0.9999999 , 1.        , 1.        , 1.0000001 ,\n",
              "       1.        , 1.        , 1.        , 1.        , 1.        ,\n",
              "       0.99999994, 1.0000001 , 1.        , 0.99999994, 1.        ,\n",
              "       1.        , 1.        , 1.0000001 , 1.        , 0.99999994,\n",
              "       1.        , 1.        , 1.        , 1.        , 1.        ,\n",
              "       1.        , 1.        , 1.        , 0.99999994, 1.0000001 ,\n",
              "       1.        , 0.99999994, 1.        , 1.        , 1.        ,\n",
              "       1.0000001 , 1.        , 1.        , 1.        , 1.        ,\n",
              "       1.0000001 , 1.        , 1.        , 0.9999999 , 1.        ,\n",
              "       0.9999999 , 0.99999994, 1.0000001 , 1.        , 0.99999994,\n",
              "       1.        , 1.        , 1.        , 1.        , 1.        ,\n",
              "       1.        , 1.        , 1.        , 0.99999994, 1.        ,\n",
              "       1.        , 0.99999994, 1.0000001 , 1.        , 0.99999994,\n",
              "       1.        , 1.        , 1.        , 1.0000001 , 1.        ,\n",
              "       0.99999994, 1.        , 1.        , 1.        , 1.        ,\n",
              "       1.        , 1.        , 1.        , 0.9999999 , 0.99999994,\n",
              "       1.0000001 , 1.        , 0.99999994, 1.        , 1.        ,\n",
              "       1.        , 1.        , 1.        , 1.        , 1.        ,\n",
              "       1.        , 1.        , 1.        , 1.        , 0.99999994,\n",
              "       1.0000001 , 1.        , 0.99999994, 1.        , 1.        ,\n",
              "       1.        , 1.0000001 , 1.        , 0.99999994, 1.        ,\n",
              "       1.        , 1.        , 1.        , 1.        , 1.0000001 ,\n",
              "       1.        , 0.99999994, 0.99999994, 1.0000001 , 1.        ,\n",
              "       0.99999994, 1.        , 1.        , 1.        , 1.        ,\n",
              "       1.        , 1.        , 1.        , 1.        , 1.        ,\n",
              "       1.        , 1.        , 0.99999994, 1.0000001 , 1.        ,\n",
              "       0.99999994, 1.        , 1.        , 1.        , 1.0000001 ,\n",
              "       1.        , 0.9999999 , 1.0000001 , 1.        , 0.9999999 ,\n",
              "       1.        , 1.        , 1.        , 1.        , 1.        ,\n",
              "       1.        , 1.        , 1.        , 0.99999994, 1.0000001 ,\n",
              "       1.        , 0.99999994, 1.        , 1.        , 1.        ,\n",
              "       1.        , 1.        , 0.99999994, 1.        , 1.        ,\n",
              "       0.99999994, 1.        , 1.        , 0.99999994, 1.0000001 ,\n",
              "       1.        , 0.99999994, 1.        , 1.        , 1.        ,\n",
              "       1.0000001 , 1.        , 1.        , 1.        , 1.        ,\n",
              "       1.        , 1.        , 1.        , 1.0000001 , 1.        ,\n",
              "       0.99999994, 0.99999994, 1.0000001 , 1.        , 0.99999994,\n",
              "       1.        , 1.        , 1.        , 1.        , 1.        ,\n",
              "       1.        , 1.        , 1.        , 1.        , 1.        ,\n",
              "       1.        , 0.99999994, 1.0000001 , 1.        , 0.99999994,\n",
              "       1.        , 1.        , 1.        , 1.        , 1.        ,\n",
              "       1.        , 1.        , 1.        , 0.99999994, 1.        ,\n",
              "       1.        , 0.99999994, 1.0000001 , 1.        , 0.99999994,\n",
              "       1.        , 1.        , 1.        , 1.0000001 , 1.        ,\n",
              "       1.        , 1.        , 1.        , 1.0000001 , 1.        ,\n",
              "       1.        , 0.9999999 , 1.        , 0.9999999 , 0.99999994,\n",
              "       1.0000001 , 1.        , 0.99999994, 1.        , 1.        ,\n",
              "       1.        , 1.        , 1.        , 0.9999999 , 1.        ,\n",
              "       1.        , 1.        , 1.        , 1.        , 0.99999994,\n",
              "       1.0000001 , 1.        , 0.99999994, 1.        , 1.        ],\n",
              "      dtype=float32)"
            ]
          },
          "metadata": {},
          "execution_count": 31
        }
      ],
      "source": [
        "attention_layer.last_attention_weights[0].numpy().sum(axis=-1)"
      ]
    },
    {
      "cell_type": "markdown",
      "metadata": {
        "id": "AagyXMH-Jhqt"
      },
      "source": [
        "\n",
        "\n",
        "Here are the attention weights across the context sequences at `t=0`:"
      ]
    },
    {
      "cell_type": "code",
      "execution_count": 32,
      "metadata": {
        "id": "LDc9M_CUtYWD",
        "colab": {
          "base_uri": "https://localhost:8080/",
          "height": 452
        },
        "outputId": "25be498c-5bee-4943-d072-cdfc331c7a77"
      },
      "outputs": [
        {
          "output_type": "display_data",
          "data": {
            "text/plain": [
              "<Figure size 640x480 with 2 Axes>"
            ],
            "image/png": "[encoded data removed]"
          },
          "metadata": {}
        }
      ],
      "source": [
        "attention_weights = attention_layer.last_attention_weights\n",
        "mask=(ex_context_tok != 0).numpy()\n",
        "\n",
        "plt.subplot(1, 2, 1)\n",
        "plt.pcolormesh(mask*attention_weights[:, 0, :])\n",
        "plt.title('Attention weights')\n",
        "\n",
        "plt.subplot(1, 2, 2)\n",
        "plt.pcolormesh(mask)\n",
        "plt.title('Mask');"
      ]
    },
    {
      "cell_type": "markdown",
      "metadata": {
        "id": "Cpq_sCKHtZzS"
      },
      "source": []
    },
    {
      "cell_type": "markdown",
      "metadata": {
        "id": "6Eil-C_NN1rp"
      },
      "source": [
        "Because of the small-random initialization the attention weights are initially all close to `1/(sequence_length)`. The model will learn to make these less uniform as training progresses."
      ]
    },
    {
      "cell_type": "markdown",
      "metadata": {
        "id": "aQ638eHN4iCK"
      },
      "source": [
        "### The decoder\n",
        "\n",
        "The decoder's job is to generate predictions for the next token at each location in the target sequence.\n",
        "\n",
        "1. It looks up embeddings for each token in the target sequence.\n",
        "2. It uses an RNN to process the target sequence, and keep track of what it has generated so far.\n",
        "3. It uses RNN output as the \"query\" to the attention layer, when attending to the encoder's output.\n",
        "4. At each location in the output it predicts the next token.\n"
      ]
    },
    {
      "cell_type": "markdown",
      "metadata": {
        "id": "pZsQJMqNmg_L"
      },
      "source": [
        "Here is the `Decoder` class' initializer. The initializer creates all the necessary layers."
      ]
    },
    {
      "cell_type": "code",
      "execution_count": 33,
      "metadata": {
        "id": "erYvHIgAl8kh"
      },
      "outputs": [],
      "source": [
        "class Decoder(tf.keras.layers.Layer):\n",
        "  @classmethod\n",
        "  def add_method(cls, fun):\n",
        "    setattr(cls, fun.__name__, fun)\n",
        "    return fun\n",
        "\n",
        "  def __init__(self, text_processor, units):\n",
        "    super(Decoder, self).__init__()\n",
        "    self.text_processor = text_processor\n",
        "    self.vocab_size = text_processor.vocabulary_size()\n",
        "    self.word_to_id = tf.keras.layers.StringLookup(\n",
        "        vocabulary=text_processor.get_vocabulary(),\n",
        "        mask_token='', oov_token='[UNK]')\n",
        "    self.id_to_word = tf.keras.layers.StringLookup(\n",
        "        vocabulary=text_processor.get_vocabulary(),\n",
        "        mask_token='', oov_token='[UNK]',\n",
        "        invert=True)\n",
        "    self.start_token = self.word_to_id('[START]')\n",
        "    self.end_token = self.word_to_id('[END]')\n",
        "\n",
        "    self.units = units\n",
        "\n",
        "\n",
        "    # 1. The embedding layer converts token IDs to vectors\n",
        "    self.embedding = tf.keras.layers.Embedding(self.vocab_size,\n",
        "                                               units, mask_zero=True)\n",
        "\n",
        "    # 2. The RNN keeps track of what's been generated so far.\n",
        "    self.rnn = tf.keras.layers.GRU(units,\n",
        "                                   return_sequences=True,\n",
        "                                   return_state=True,\n",
        "                                   recurrent_initializer='glorot_uniform')\n",
        "\n",
        "    # 3. The RNN output will be the query for the attention layer.\n",
        "    self.attention = CrossAttention(units)\n",
        "\n",
        "    # 4. This fully connected layer produces the logits for each\n",
        "    # output token.\n",
        "    self.output_layer = tf.keras.layers.Dense(self.vocab_size)"
      ]
    },
    {
      "cell_type": "markdown",
      "metadata": {
        "id": "Sd8-nRNzFR8x"
      },
      "source": [
        "#### Training"
      ]
    },
    {
      "cell_type": "markdown",
      "metadata": {
        "id": "UPnaw583CpnY"
      },
      "source": [
        "Next, the `call` method, takes 3 arguments:\n",
        "\n",
        "* `inputs` -  a `context, x` pair where:\n",
        "  * `context` - is the context from the encoder's output.\n",
        "  * `x` - is the target sequence input.\n",
        "* `state` - Optional, the previous `state` output from the decoder (the internal state of the decoder's RNN). Pass the state from a previous run to continue generating text where you left off.\n",
        "* `return_state` - [Default: False] - Set this to `True` to return the RNN state. "
      ]
    },
    {
      "cell_type": "code",
      "execution_count": 34,
      "metadata": {
        "id": "PJOi5btHAPNK"
      },
      "outputs": [],
      "source": [
        "@Decoder.add_method\n",
        "def call(self,\n",
        "         context, x,\n",
        "         state=None,\n",
        "         return_state=False):  \n",
        "  shape_checker = ShapeChecker()\n",
        "  shape_checker(x, 'batch t')\n",
        "  shape_checker(context, 'batch s units')\n",
        "\n",
        "  # 1. Lookup the embeddings\n",
        "  x = self.embedding(x)\n",
        "  shape_checker(x, 'batch t units')\n",
        "\n",
        "  # 2. Process the target sequence.\n",
        "  x, state = self.rnn(x, initial_state=state)\n",
        "  shape_checker(x, 'batch t units')\n",
        "\n",
        "  # 3. Use the RNN output as the query for the attention over the context.\n",
        "  x = self.attention(x, context)\n",
        "  self.last_attention_weights = self.attention.last_attention_weights\n",
        "  shape_checker(x, 'batch t units')\n",
        "  shape_checker(self.last_attention_weights, 'batch t s')\n",
        "\n",
        "  # Step 4. Generate logit predictions for the next token.\n",
        "  logits = self.output_layer(x)\n",
        "  shape_checker(logits, 'batch t target_vocab_size')\n",
        "\n",
        "  if return_state:\n",
        "    return logits, state\n",
        "  else:\n",
        "    return logits"
      ]
    },
    {
      "cell_type": "markdown",
      "metadata": {
        "id": "E1-mLAcUEXpK"
      },
      "source": [
        "That will be sufficient for training. Create an instance of the decoder to test out:"
      ]
    },
    {
      "cell_type": "code",
      "execution_count": 35,
      "metadata": {
        "id": "4ZUMbYXIEVeA"
      },
      "outputs": [],
      "source": [
        "decoder = Decoder(target_text_processor, UNITS)"
      ]
    },
    {
      "cell_type": "markdown",
      "metadata": {
        "id": "SFWaI4wqzt4t"
      },
      "source": [
        "Decoder usage"
      ]
    },
    {
      "cell_type": "code",
      "execution_count": 36,
      "metadata": {
        "id": "5YM-lD7bzx18",
        "colab": {
          "base_uri": "https://localhost:8080/"
        },
        "outputId": "732c2225-1608-4972-b083-7bdbd840b471"
      },
      "outputs": [
        {
          "output_type": "stream",
          "name": "stdout",
          "text": [
            "encoder output shape: (batch, s, units) (1, 671, 256)\n",
            "input target tokens shape: (batch, t) (1, 670)\n",
            "logits shape shape: (batch, target_vocabulary_size) (1, 670, 5000)\n"
          ]
        }
      ],
      "source": [
        "logits = decoder(ex_context, ex_tar_in)\n",
        "\n",
        "print(f'encoder output shape: (batch, s, units) {ex_context.shape}')\n",
        "print(f'input target tokens shape: (batch, t) {ex_tar_in.shape}')\n",
        "print(f'logits shape shape: (batch, target_vocabulary_size) {logits.shape}')"
      ]
    },
    {
      "cell_type": "markdown",
      "metadata": {
        "id": "zhS_tbk7VQkX"
      },
      "source": [
        "#### Inference\n",
        "\n",
        "For inference usage couple more methods."
      ]
    },
    {
      "cell_type": "code",
      "execution_count": 37,
      "metadata": {
        "id": "SPm12cnIVRQr"
      },
      "outputs": [],
      "source": [
        "@Decoder.add_method\n",
        "def get_initial_state(self, context):\n",
        "  batch_size = tf.shape(context)[0]\n",
        "  start_tokens = tf.fill([batch_size, 1], self.start_token)\n",
        "  done = tf.zeros([batch_size, 1], dtype=tf.bool)\n",
        "  embedded = self.embedding(start_tokens)\n",
        "  return start_tokens, done, self.rnn.get_initial_state(embedded)[0]"
      ]
    },
    {
      "cell_type": "code",
      "execution_count": 38,
      "metadata": {
        "id": "TzeOhpBvVS5L"
      },
      "outputs": [],
      "source": [
        "@Decoder.add_method\n",
        "def tokens_to_text(self, tokens):\n",
        "  words = self.id_to_word(tokens)\n",
        "  result = tf.strings.reduce_join(words, axis=-1, separator=' ')\n",
        "  result = tf.strings.regex_replace(result, '^ *\\[START\\] *', '')\n",
        "  result = tf.strings.regex_replace(result, ' *\\[END\\] *$', '')\n",
        "  return result"
      ]
    },
    {
      "cell_type": "code",
      "execution_count": 39,
      "metadata": {
        "id": "v6ildnz_V1MA"
      },
      "outputs": [],
      "source": [
        "@Decoder.add_method\n",
        "def get_next_token(self, context, next_token, done, state, temperature = 0.0):\n",
        "  logits, state = self(\n",
        "    context, next_token,\n",
        "    state = state,\n",
        "    return_state=True) \n",
        "  \n",
        "  if temperature == 0.0:\n",
        "    next_token = tf.argmax(logits, axis=-1)\n",
        "  else:\n",
        "    logits = logits[:, -1, :]/temperature\n",
        "    next_token = tf.random.categorical(logits, num_samples=1)\n",
        "\n",
        "  # If a sequence produces an `end_token`, set it `done`\n",
        "  done = done | (next_token == self.end_token)\n",
        "  # Once a sequence is done it only produces 0-padding.\n",
        "  next_token = tf.where(done, tf.constant(0, dtype=tf.int64), next_token)\n",
        "  \n",
        "  return next_token, done, state"
      ]
    },
    {
      "cell_type": "markdown",
      "metadata": {
        "id": "9WiXLrVs-FTE"
      },
      "source": [
        "With those extra functions, you can write a generation loop:"
      ]
    },
    {
      "cell_type": "code",
      "execution_count": 40,
      "metadata": {
        "id": "SuehagxL-JBZ"
      },
      "outputs": [],
      "source": [
        "# Setup the loop variables.\n",
        "next_token, done, state = decoder.get_initial_state(ex_context)\n",
        "tokens = []\n",
        "\n",
        "for n in range(10):\n",
        "  # Run one step.\n",
        "  next_token, done, state = decoder.get_next_token(\n",
        "      ex_context, next_token, done, state, temperature=1.0)\n",
        "  # Add the token to the output.\n",
        "  tokens.append(next_token)\n",
        "\n",
        "# Stack all the tokens together.\n",
        "tokens = tf.concat(tokens, axis=-1) # (batch, t)\n",
        "\n",
        "# Convert the tokens back to a a string\n",
        "result = decoder.tokens_to_text(tokens)\n",
        "#result[:3].numpy()"
      ]
    },
    {
      "cell_type": "markdown",
      "metadata": {
        "id": "B6xyru86m914"
      },
      "source": [
        "## The model\n"
      ]
    },
    {
      "cell_type": "code",
      "execution_count": 41,
      "metadata": {
        "id": "WWIyuy71TkJT"
      },
      "outputs": [],
      "source": [
        "class Translator(tf.keras.Model):\n",
        "  @classmethod\n",
        "  def add_method(cls, fun):\n",
        "    setattr(cls, fun.__name__, fun)\n",
        "    return fun\n",
        "\n",
        "  def __init__(self, units,\n",
        "               context_text_processor,\n",
        "               target_text_processor):\n",
        "    super().__init__()\n",
        "    # Build the encoder and decoder\n",
        "    encoder = Encoder(context_text_processor, units)\n",
        "    decoder = Decoder(target_text_processor, units)\n",
        "\n",
        "    self.encoder = encoder\n",
        "    self.decoder = decoder\n",
        "\n",
        "  def call(self, inputs):\n",
        "    context, x = inputs\n",
        "    context = self.encoder(context)\n",
        "    logits = self.decoder(context, x)\n",
        "\n",
        "    #TODO(b/250038731): remove this\n",
        "    try:\n",
        "      # Delete the keras mask, so keras doesn't scale the loss+accuracy. \n",
        "      del logits._keras_mask\n",
        "    except AttributeError:\n",
        "      pass\n",
        "\n",
        "    return logits"
      ]
    },
    {
      "cell_type": "markdown",
      "metadata": {
        "id": "5rPi0FkS2iA5"
      },
      "source": [
        "During training the model will be used like this:"
      ]
    },
    {
      "cell_type": "code",
      "execution_count": 42,
      "metadata": {
        "id": "8vhjTh84K6Mg",
        "colab": {
          "base_uri": "https://localhost:8080/"
        },
        "outputId": "29fba413-e458-4780-9488-18f768640543"
      },
      "outputs": [
        {
          "output_type": "stream",
          "name": "stdout",
          "text": [
            "Context tokens, shape: (batch, s, units) (1, 671)\n",
            "Target tokens, shape: (batch, t) (1, 670)\n",
            "logits, shape: (batch, t, target_vocabulary_size) (1, 670, 5000)\n"
          ]
        }
      ],
      "source": [
        "model = Translator(UNITS, context_text_processor, target_text_processor)\n",
        "\n",
        "logits = model((ex_context_tok, ex_tar_in))\n",
        "\n",
        "print(f'Context tokens, shape: (batch, s, units) {ex_context_tok.shape}')\n",
        "print(f'Target tokens, shape: (batch, t) {ex_tar_in.shape}')\n",
        "print(f'logits, shape: (batch, t, target_vocabulary_size) {logits.shape}')"
      ]
    },
    {
      "cell_type": "markdown",
      "metadata": {
        "id": "_ch_71VbIRfK"
      },
      "source": [
        "### Train"
      ]
    },
    {
      "cell_type": "code",
      "execution_count": 43,
      "metadata": {
        "id": "WmTHr5iV3jFr"
      },
      "outputs": [],
      "source": [
        "def masked_loss(y_true, y_pred):\n",
        "    # Calculate the loss for each item in the batch.\n",
        "    loss_fn = tf.keras.losses.SparseCategoricalCrossentropy(\n",
        "        from_logits=True, reduction='none')\n",
        "    loss = loss_fn(y_true, y_pred)\n",
        "\n",
        "    # Mask off the losses on padding.\n",
        "    mask = tf.cast(y_true != 0, loss.dtype)\n",
        "    loss *= mask\n",
        "\n",
        "    # Return the total.\n",
        "    return tf.reduce_sum(loss)/tf.reduce_sum(mask)"
      ]
    },
    {
      "cell_type": "code",
      "execution_count": 44,
      "metadata": {
        "id": "nRB1CTmQWOIL"
      },
      "outputs": [],
      "source": [
        "def masked_acc(y_true, y_pred):\n",
        "    # Calculate the loss for each item in the batch.\n",
        "    y_pred = tf.argmax(y_pred, axis=-1)\n",
        "    y_pred = tf.cast(y_pred, y_true.dtype)\n",
        "    \n",
        "    match = tf.cast(y_true == y_pred, tf.float32)\n",
        "    mask = tf.cast(y_true != 0, tf.float32)\n",
        "    \n",
        "    return tf.reduce_sum(match)/tf.reduce_sum(mask)"
      ]
    },
    {
      "cell_type": "markdown",
      "metadata": {
        "id": "f32GuAhw2nXm"
      },
      "source": [
        "Configure the model for training:"
      ]
    },
    {
      "cell_type": "code",
      "execution_count": 45,
      "metadata": {
        "id": "9g0DRRvm3l9X"
      },
      "outputs": [],
      "source": [
        "model.compile(optimizer='Adam',\n",
        "              loss=masked_loss, \n",
        "              metrics=[masked_acc, masked_loss])"
      ]
    },
    {
      "cell_type": "markdown",
      "metadata": {
        "id": "5DWLI3pssjnx"
      },
      "source": [
        "The model is randomly initialized, and should give roughly uniform output probabilities. So it's easy to predict what the initial values of the metrics should be:"
      ]
    },
    {
      "cell_type": "code",
      "execution_count": 46,
      "metadata": {
        "id": "BuP3_LFENMJG",
        "colab": {
          "base_uri": "https://localhost:8080/"
        },
        "outputId": "be0282f5-ce54-44c9-bf0d-066d12646f97"
      },
      "outputs": [
        {
          "output_type": "execute_result",
          "data": {
            "text/plain": [
              "{'expected_loss': 8.517193, 'expected_acc': 0.0002}"
            ]
          },
          "metadata": {},
          "execution_count": 46
        }
      ],
      "source": [
        "vocab_size = 1.0 * target_text_processor.vocabulary_size()\n",
        "\n",
        "{\"expected_loss\": tf.math.log(vocab_size).numpy(),\n",
        " \"expected_acc\": 1/vocab_size}"
      ]
    },
    {
      "cell_type": "markdown",
      "metadata": {
        "id": "frVba49Usd0Z"
      },
      "source": [
        "That should roughly match the values returned by running a few steps of evaluation:"
      ]
    },
    {
      "cell_type": "code",
      "execution_count": 47,
      "metadata": {
        "id": "8rJITfxEsHKR",
        "colab": {
          "base_uri": "https://localhost:8080/"
        },
        "outputId": "ec723d47-d800-48c9-98c9-7816440afaed"
      },
      "outputs": [
        {
          "output_type": "stream",
          "name": "stdout",
          "text": [
            "70/70 [==============================] - 11s 45ms/step - loss: 8.5163 - masked_acc: 0.0000e+00 - masked_loss: 8.5163\n"
          ]
        },
        {
          "output_type": "execute_result",
          "data": {
            "text/plain": [
              "{'loss': 8.516302108764648,\n",
              " 'masked_acc': 0.0,\n",
              " 'masked_loss': 8.516302108764648}"
            ]
          },
          "metadata": {},
          "execution_count": 47
        }
      ],
      "source": [
        "model.evaluate(val_ds, steps=70, return_dict=True)"
      ]
    },
    {
      "cell_type": "code",
      "execution_count": 48,
      "metadata": {
        "colab": {
          "base_uri": "https://localhost:8080/"
        },
        "id": "BQd_esVVoSf3",
        "outputId": "239496c0-8dc9-412d-b8b3-0c2092864572"
      },
      "outputs": [
        {
          "output_type": "stream",
          "name": "stdout",
          "text": [
            "Epoch 1/100\n",
            "100/100 [==============================] - 40s 244ms/step - loss: 2.5511 - masked_acc: 0.5771 - masked_loss: 2.5511 - val_loss: 0.9559 - val_masked_acc: 0.8001 - val_masked_loss: 0.9559\n",
            "Epoch 2/100\n",
            "100/100 [==============================] - 14s 136ms/step - loss: 0.5591 - masked_acc: 0.8782 - masked_loss: 0.5591 - val_loss: 0.3298 - val_masked_acc: 0.9223 - val_masked_loss: 0.3298\n",
            "Epoch 3/100\n",
            "100/100 [==============================] - 13s 132ms/step - loss: 0.2559 - masked_acc: 0.9405 - masked_loss: 0.2559 - val_loss: 0.1803 - val_masked_acc: 0.9572 - val_masked_loss: 0.1803\n",
            "Epoch 4/100\n",
            "100/100 [==============================] - 13s 126ms/step - loss: 0.1744 - masked_acc: 0.9582 - masked_loss: 0.1744 - val_loss: 0.1973 - val_masked_acc: 0.9540 - val_masked_loss: 0.1973\n",
            "Epoch 5/100\n",
            "100/100 [==============================] - 12s 120ms/step - loss: 0.1454 - masked_acc: 0.9631 - masked_loss: 0.1454 - val_loss: 0.1297 - val_masked_acc: 0.9655 - val_masked_loss: 0.1297\n",
            "Epoch 6/100\n",
            "100/100 [==============================] - 12s 115ms/step - loss: 0.0904 - masked_acc: 0.9742 - masked_loss: 0.0904 - val_loss: 0.0961 - val_masked_acc: 0.9719 - val_masked_loss: 0.0961\n",
            "Epoch 7/100\n",
            "100/100 [==============================] - 11s 115ms/step - loss: 0.0875 - masked_acc: 0.9739 - masked_loss: 0.0875 - val_loss: 0.0865 - val_masked_acc: 0.9747 - val_masked_loss: 0.0865\n",
            "Epoch 8/100\n",
            "100/100 [==============================] - 11s 111ms/step - loss: 0.0789 - masked_acc: 0.9753 - masked_loss: 0.0789 - val_loss: 0.1044 - val_masked_acc: 0.9735 - val_masked_loss: 0.1044\n",
            "Epoch 9/100\n",
            "100/100 [==============================] - 12s 118ms/step - loss: 0.1258 - masked_acc: 0.9682 - masked_loss: 0.1258 - val_loss: 0.1142 - val_masked_acc: 0.9657 - val_masked_loss: 0.1142\n",
            "Epoch 10/100\n",
            "100/100 [==============================] - 12s 119ms/step - loss: 0.1690 - masked_acc: 0.9603 - masked_loss: 0.1690 - val_loss: 0.1022 - val_masked_acc: 0.9702 - val_masked_loss: 0.1022\n",
            "Epoch 11/100\n",
            "100/100 [==============================] - 11s 112ms/step - loss: 0.0811 - masked_acc: 0.9751 - masked_loss: 0.0811 - val_loss: 0.0866 - val_masked_acc: 0.9734 - val_masked_loss: 0.0866\n",
            "Epoch 12/100\n",
            "100/100 [==============================] - 14s 145ms/step - loss: 0.0960 - masked_acc: 0.9723 - masked_loss: 0.0960 - val_loss: 0.0987 - val_masked_acc: 0.9701 - val_masked_loss: 0.0987\n",
            "Epoch 13/100\n",
            "100/100 [==============================] - 11s 114ms/step - loss: 0.0781 - masked_acc: 0.9749 - masked_loss: 0.0781 - val_loss: 0.0726 - val_masked_acc: 0.9752 - val_masked_loss: 0.0726\n",
            "Epoch 14/100\n",
            "100/100 [==============================] - 13s 135ms/step - loss: 0.0699 - masked_acc: 0.9765 - masked_loss: 0.0699 - val_loss: 0.1957 - val_masked_acc: 0.9615 - val_masked_loss: 0.1957\n",
            "Epoch 15/100\n",
            "100/100 [==============================] - 12s 117ms/step - loss: 0.0702 - masked_acc: 0.9777 - masked_loss: 0.0702 - val_loss: 0.0757 - val_masked_acc: 0.9762 - val_masked_loss: 0.0757\n",
            "Epoch 16/100\n",
            "100/100 [==============================] - 11s 114ms/step - loss: 0.0813 - masked_acc: 0.9753 - masked_loss: 0.0813 - val_loss: 0.0769 - val_masked_acc: 0.9760 - val_masked_loss: 0.0769\n",
            "Epoch 17/100\n",
            "100/100 [==============================] - 11s 115ms/step - loss: 0.0778 - masked_acc: 0.9762 - masked_loss: 0.0778 - val_loss: 0.0752 - val_masked_acc: 0.9746 - val_masked_loss: 0.0752\n",
            "Epoch 18/100\n",
            "100/100 [==============================] - 13s 132ms/step - loss: 0.0630 - masked_acc: 0.9788 - masked_loss: 0.0630 - val_loss: 0.0766 - val_masked_acc: 0.9755 - val_masked_loss: 0.0766\n",
            "Epoch 19/100\n",
            "100/100 [==============================] - 11s 111ms/step - loss: 0.0654 - masked_acc: 0.9778 - masked_loss: 0.0654 - val_loss: 0.0676 - val_masked_acc: 0.9784 - val_masked_loss: 0.0676\n",
            "Epoch 20/100\n",
            "100/100 [==============================] - 11s 110ms/step - loss: 0.0652 - masked_acc: 0.9781 - masked_loss: 0.0652 - val_loss: 0.0672 - val_masked_acc: 0.9784 - val_masked_loss: 0.0672\n",
            "Epoch 21/100\n",
            "100/100 [==============================] - 11s 108ms/step - loss: 0.0664 - masked_acc: 0.9781 - masked_loss: 0.0664 - val_loss: 0.0604 - val_masked_acc: 0.9789 - val_masked_loss: 0.0604\n",
            "Epoch 22/100\n",
            "100/100 [==============================] - 11s 110ms/step - loss: 0.0591 - masked_acc: 0.9798 - masked_loss: 0.0591 - val_loss: 0.0608 - val_masked_acc: 0.9798 - val_masked_loss: 0.0608\n",
            "Epoch 23/100\n",
            "100/100 [==============================] - 11s 110ms/step - loss: 0.0662 - masked_acc: 0.9791 - masked_loss: 0.0662 - val_loss: 0.0633 - val_masked_acc: 0.9790 - val_masked_loss: 0.0633\n",
            "Epoch 24/100\n",
            "100/100 [==============================] - 11s 110ms/step - loss: 0.0680 - masked_acc: 0.9781 - masked_loss: 0.0680 - val_loss: 0.0606 - val_masked_acc: 0.9800 - val_masked_loss: 0.0606\n",
            "Epoch 25/100\n",
            "100/100 [==============================] - 11s 114ms/step - loss: 0.0683 - masked_acc: 0.9775 - masked_loss: 0.0683 - val_loss: 0.0657 - val_masked_acc: 0.9788 - val_masked_loss: 0.0657\n",
            "Epoch 26/100\n",
            "100/100 [==============================] - 11s 115ms/step - loss: 0.0705 - masked_acc: 0.9774 - masked_loss: 0.0705 - val_loss: 0.0677 - val_masked_acc: 0.9766 - val_masked_loss: 0.0677\n",
            "Epoch 27/100\n",
            "100/100 [==============================] - 12s 123ms/step - loss: 0.0649 - masked_acc: 0.9793 - masked_loss: 0.0649 - val_loss: 0.0671 - val_masked_acc: 0.9792 - val_masked_loss: 0.0671\n",
            "Epoch 28/100\n",
            "100/100 [==============================] - 20s 204ms/step - loss: 0.0598 - masked_acc: 0.9805 - masked_loss: 0.0598 - val_loss: 0.0669 - val_masked_acc: 0.9775 - val_masked_loss: 0.0669\n",
            "Epoch 29/100\n",
            "100/100 [==============================] - 12s 116ms/step - loss: 0.0578 - masked_acc: 0.9810 - masked_loss: 0.0578 - val_loss: 0.0548 - val_masked_acc: 0.9805 - val_masked_loss: 0.0548\n",
            "Epoch 30/100\n",
            "100/100 [==============================] - 11s 113ms/step - loss: 0.0613 - masked_acc: 0.9803 - masked_loss: 0.0613 - val_loss: 0.0519 - val_masked_acc: 0.9820 - val_masked_loss: 0.0519\n",
            "Epoch 31/100\n",
            "100/100 [==============================] - 11s 113ms/step - loss: 0.0631 - masked_acc: 0.9789 - masked_loss: 0.0631 - val_loss: 0.0528 - val_masked_acc: 0.9820 - val_masked_loss: 0.0528\n",
            "Epoch 32/100\n",
            "100/100 [==============================] - 11s 112ms/step - loss: 0.0544 - masked_acc: 0.9826 - masked_loss: 0.0544 - val_loss: 0.0477 - val_masked_acc: 0.9831 - val_masked_loss: 0.0477\n",
            "Epoch 33/100\n",
            "100/100 [==============================] - 11s 112ms/step - loss: 0.0862 - masked_acc: 0.9781 - masked_loss: 0.0862 - val_loss: 0.0621 - val_masked_acc: 0.9803 - val_masked_loss: 0.0621\n",
            "Epoch 34/100\n",
            "100/100 [==============================] - 11s 113ms/step - loss: 0.0593 - masked_acc: 0.9810 - masked_loss: 0.0593 - val_loss: 0.0588 - val_masked_acc: 0.9804 - val_masked_loss: 0.0588\n",
            "Epoch 35/100\n",
            "100/100 [==============================] - 13s 128ms/step - loss: 0.0590 - masked_acc: 0.9809 - masked_loss: 0.0590 - val_loss: 0.0559 - val_masked_acc: 0.9819 - val_masked_loss: 0.0559\n",
            "Epoch 36/100\n",
            "100/100 [==============================] - 11s 114ms/step - loss: 0.0778 - masked_acc: 0.9796 - masked_loss: 0.0778 - val_loss: 0.0583 - val_masked_acc: 0.9812 - val_masked_loss: 0.0583\n",
            "Epoch 37/100\n",
            "100/100 [==============================] - 11s 112ms/step - loss: 0.0561 - masked_acc: 0.9829 - masked_loss: 0.0561 - val_loss: 0.0527 - val_masked_acc: 0.9827 - val_masked_loss: 0.0527\n",
            "Epoch 38/100\n",
            "100/100 [==============================] - 11s 108ms/step - loss: 0.0602 - masked_acc: 0.9808 - masked_loss: 0.0602 - val_loss: 0.0450 - val_masked_acc: 0.9849 - val_masked_loss: 0.0450\n",
            "Epoch 39/100\n",
            "100/100 [==============================] - 11s 107ms/step - loss: 0.0437 - masked_acc: 0.9852 - masked_loss: 0.0437 - val_loss: 0.0450 - val_masked_acc: 0.9841 - val_masked_loss: 0.0450\n",
            "Epoch 40/100\n",
            "100/100 [==============================] - 12s 119ms/step - loss: 0.0608 - masked_acc: 0.9817 - masked_loss: 0.0608 - val_loss: 0.0503 - val_masked_acc: 0.9832 - val_masked_loss: 0.0503\n",
            "Epoch 41/100\n",
            "100/100 [==============================] - 11s 113ms/step - loss: 0.0587 - masked_acc: 0.9816 - masked_loss: 0.0587 - val_loss: 0.0474 - val_masked_acc: 0.9848 - val_masked_loss: 0.0474\n",
            "Epoch 42/100\n",
            "100/100 [==============================] - 11s 114ms/step - loss: 0.0466 - masked_acc: 0.9856 - masked_loss: 0.0466 - val_loss: 0.0433 - val_masked_acc: 0.9853 - val_masked_loss: 0.0433\n",
            "Epoch 43/100\n",
            "100/100 [==============================] - 11s 112ms/step - loss: 0.0455 - masked_acc: 0.9847 - masked_loss: 0.0455 - val_loss: 0.0465 - val_masked_acc: 0.9856 - val_masked_loss: 0.0465\n",
            "Epoch 44/100\n",
            "100/100 [==============================] - 11s 111ms/step - loss: 0.0438 - masked_acc: 0.9858 - masked_loss: 0.0438 - val_loss: 0.0427 - val_masked_acc: 0.9855 - val_masked_loss: 0.0427\n",
            "Epoch 45/100\n",
            "100/100 [==============================] - 11s 112ms/step - loss: 0.0374 - masked_acc: 0.9879 - masked_loss: 0.0374 - val_loss: 0.0457 - val_masked_acc: 0.9859 - val_masked_loss: 0.0457\n",
            "Epoch 46/100\n",
            "100/100 [==============================] - 11s 113ms/step - loss: 0.0388 - masked_acc: 0.9875 - masked_loss: 0.0388 - val_loss: 0.0431 - val_masked_acc: 0.9857 - val_masked_loss: 0.0431\n",
            "Epoch 47/100\n",
            "100/100 [==============================] - 11s 115ms/step - loss: 0.0447 - masked_acc: 0.9861 - masked_loss: 0.0447 - val_loss: 0.0476 - val_masked_acc: 0.9854 - val_masked_loss: 0.0476\n",
            "Epoch 48/100\n",
            "100/100 [==============================] - 10s 103ms/step - loss: 0.0484 - masked_acc: 0.9855 - masked_loss: 0.0484 - val_loss: 0.0368 - val_masked_acc: 0.9883 - val_masked_loss: 0.0368\n",
            "Epoch 49/100\n",
            "100/100 [==============================] - 11s 111ms/step - loss: 0.0578 - masked_acc: 0.9838 - masked_loss: 0.0578 - val_loss: 0.0388 - val_masked_acc: 0.9874 - val_masked_loss: 0.0388\n",
            "Epoch 50/100\n",
            "100/100 [==============================] - 11s 111ms/step - loss: 0.0429 - masked_acc: 0.9870 - masked_loss: 0.0429 - val_loss: 0.0370 - val_masked_acc: 0.9874 - val_masked_loss: 0.0370\n",
            "Epoch 51/100\n",
            "100/100 [==============================] - 12s 117ms/step - loss: 0.0401 - masked_acc: 0.9879 - masked_loss: 0.0401 - val_loss: 0.0368 - val_masked_acc: 0.9886 - val_masked_loss: 0.0368\n",
            "Epoch 52/100\n",
            "100/100 [==============================] - 11s 114ms/step - loss: 0.0436 - masked_acc: 0.9871 - masked_loss: 0.0436 - val_loss: 0.0369 - val_masked_acc: 0.9883 - val_masked_loss: 0.0369\n",
            "Epoch 53/100\n",
            "100/100 [==============================] - 11s 114ms/step - loss: 0.0460 - masked_acc: 0.9862 - masked_loss: 0.0460 - val_loss: 0.0369 - val_masked_acc: 0.9875 - val_masked_loss: 0.0369\n",
            "Epoch 54/100\n",
            "100/100 [==============================] - 11s 110ms/step - loss: 0.0374 - masked_acc: 0.9885 - masked_loss: 0.0374 - val_loss: 0.0316 - val_masked_acc: 0.9895 - val_masked_loss: 0.0316\n",
            "Epoch 55/100\n",
            "100/100 [==============================] - 11s 112ms/step - loss: 0.0432 - masked_acc: 0.9878 - masked_loss: 0.0432 - val_loss: 0.0461 - val_masked_acc: 0.9853 - val_masked_loss: 0.0461\n",
            "Epoch 56/100\n",
            "100/100 [==============================] - 11s 112ms/step - loss: 0.0369 - masked_acc: 0.9893 - masked_loss: 0.0369 - val_loss: 0.0324 - val_masked_acc: 0.9892 - val_masked_loss: 0.0324\n",
            "Epoch 57/100\n",
            "100/100 [==============================] - 11s 106ms/step - loss: 0.0341 - masked_acc: 0.9897 - masked_loss: 0.0341 - val_loss: 0.0280 - val_masked_acc: 0.9912 - val_masked_loss: 0.0280\n",
            "Epoch 58/100\n",
            "100/100 [==============================] - 11s 107ms/step - loss: 0.0307 - masked_acc: 0.9905 - masked_loss: 0.0307 - val_loss: 0.0399 - val_masked_acc: 0.9887 - val_masked_loss: 0.0399\n",
            "Epoch 59/100\n",
            "100/100 [==============================] - 11s 110ms/step - loss: 0.0356 - masked_acc: 0.9897 - masked_loss: 0.0356 - val_loss: 0.0282 - val_masked_acc: 0.9909 - val_masked_loss: 0.0282\n",
            "Epoch 60/100\n",
            "100/100 [==============================] - 11s 112ms/step - loss: 0.0324 - masked_acc: 0.9900 - masked_loss: 0.0324 - val_loss: 0.0277 - val_masked_acc: 0.9913 - val_masked_loss: 0.0277\n",
            "Epoch 61/100\n",
            "100/100 [==============================] - 11s 114ms/step - loss: 0.0442 - masked_acc: 0.9895 - masked_loss: 0.0442 - val_loss: 0.0385 - val_masked_acc: 0.9893 - val_masked_loss: 0.0385\n",
            "Epoch 62/100\n",
            "100/100 [==============================] - 12s 120ms/step - loss: 0.0354 - masked_acc: 0.9898 - masked_loss: 0.0354 - val_loss: 0.0368 - val_masked_acc: 0.9897 - val_masked_loss: 0.0368\n",
            "Epoch 63/100\n",
            "100/100 [==============================] - 11s 113ms/step - loss: 0.0310 - masked_acc: 0.9913 - masked_loss: 0.0310 - val_loss: 0.0267 - val_masked_acc: 0.9925 - val_masked_loss: 0.0267\n",
            "Epoch 64/100\n",
            "100/100 [==============================] - 13s 134ms/step - loss: 0.0330 - masked_acc: 0.9908 - masked_loss: 0.0330 - val_loss: 0.0301 - val_masked_acc: 0.9910 - val_masked_loss: 0.0301\n",
            "Epoch 65/100\n",
            "100/100 [==============================] - 11s 112ms/step - loss: 0.0278 - masked_acc: 0.9920 - masked_loss: 0.0278 - val_loss: 0.0253 - val_masked_acc: 0.9929 - val_masked_loss: 0.0253\n",
            "Epoch 66/100\n",
            "100/100 [==============================] - 11s 112ms/step - loss: 0.0323 - masked_acc: 0.9915 - masked_loss: 0.0323 - val_loss: 0.0257 - val_masked_acc: 0.9932 - val_masked_loss: 0.0257\n",
            "Epoch 67/100\n",
            "100/100 [==============================] - 12s 116ms/step - loss: 0.0256 - masked_acc: 0.9933 - masked_loss: 0.0256 - val_loss: 0.0182 - val_masked_acc: 0.9948 - val_masked_loss: 0.0182\n",
            "Epoch 68/100\n",
            "100/100 [==============================] - 13s 130ms/step - loss: 0.0217 - masked_acc: 0.9941 - masked_loss: 0.0217 - val_loss: 0.0260 - val_masked_acc: 0.9934 - val_masked_loss: 0.0260\n",
            "Epoch 69/100\n",
            "100/100 [==============================] - 13s 128ms/step - loss: 0.0220 - masked_acc: 0.9938 - masked_loss: 0.0220 - val_loss: 0.0194 - val_masked_acc: 0.9947 - val_masked_loss: 0.0194\n",
            "Epoch 70/100\n",
            "100/100 [==============================] - 13s 130ms/step - loss: 0.0213 - masked_acc: 0.9942 - masked_loss: 0.0213 - val_loss: 0.0189 - val_masked_acc: 0.9952 - val_masked_loss: 0.0189\n",
            "Epoch 71/100\n",
            "100/100 [==============================] - 13s 133ms/step - loss: 0.0214 - masked_acc: 0.9946 - masked_loss: 0.0214 - val_loss: 0.0174 - val_masked_acc: 0.9954 - val_masked_loss: 0.0174\n",
            "Epoch 72/100\n",
            "100/100 [==============================] - 11s 112ms/step - loss: 0.0323 - masked_acc: 0.9923 - masked_loss: 0.0323 - val_loss: 0.0316 - val_masked_acc: 0.9917 - val_masked_loss: 0.0316\n",
            "Epoch 73/100\n",
            "100/100 [==============================] - 11s 113ms/step - loss: 0.0233 - masked_acc: 0.9939 - masked_loss: 0.0233 - val_loss: 0.0213 - val_masked_acc: 0.9943 - val_masked_loss: 0.0213\n",
            "Epoch 74/100\n",
            "100/100 [==============================] - 13s 130ms/step - loss: 0.0222 - masked_acc: 0.9944 - masked_loss: 0.0222 - val_loss: 0.0160 - val_masked_acc: 0.9954 - val_masked_loss: 0.0160\n",
            "Epoch 75/100\n",
            "100/100 [==============================] - 11s 111ms/step - loss: 0.0250 - masked_acc: 0.9940 - masked_loss: 0.0250 - val_loss: 0.0182 - val_masked_acc: 0.9956 - val_masked_loss: 0.0182\n",
            "Epoch 76/100\n",
            "100/100 [==============================] - 10s 104ms/step - loss: 0.0188 - masked_acc: 0.9954 - masked_loss: 0.0188 - val_loss: 0.0178 - val_masked_acc: 0.9953 - val_masked_loss: 0.0178\n",
            "Epoch 77/100\n",
            "100/100 [==============================] - 11s 109ms/step - loss: 0.0226 - masked_acc: 0.9948 - masked_loss: 0.0226 - val_loss: 0.0145 - val_masked_acc: 0.9963 - val_masked_loss: 0.0145\n",
            "Epoch 78/100\n",
            "100/100 [==============================] - 11s 112ms/step - loss: 0.0146 - masked_acc: 0.9965 - masked_loss: 0.0146 - val_loss: 0.0229 - val_masked_acc: 0.9944 - val_masked_loss: 0.0229\n",
            "Epoch 79/100\n",
            "100/100 [==============================] - 11s 114ms/step - loss: 0.0154 - masked_acc: 0.9962 - masked_loss: 0.0154 - val_loss: 0.0150 - val_masked_acc: 0.9962 - val_masked_loss: 0.0150\n",
            "Epoch 80/100\n",
            "100/100 [==============================] - 11s 114ms/step - loss: 0.0133 - masked_acc: 0.9969 - masked_loss: 0.0133 - val_loss: 0.0155 - val_masked_acc: 0.9963 - val_masked_loss: 0.0155\n",
            "Epoch 81/100\n",
            "100/100 [==============================] - 11s 112ms/step - loss: 0.0286 - masked_acc: 0.9941 - masked_loss: 0.0286 - val_loss: 0.0223 - val_masked_acc: 0.9945 - val_masked_loss: 0.0223\n",
            "Epoch 82/100\n",
            "100/100 [==============================] - 11s 113ms/step - loss: 0.0291 - masked_acc: 0.9929 - masked_loss: 0.0291 - val_loss: 0.0203 - val_masked_acc: 0.9948 - val_masked_loss: 0.0203\n",
            "Epoch 83/100\n",
            "100/100 [==============================] - 11s 112ms/step - loss: 0.0138 - masked_acc: 0.9969 - masked_loss: 0.0138 - val_loss: 0.0183 - val_masked_acc: 0.9957 - val_masked_loss: 0.0183\n",
            "Epoch 84/100\n",
            "100/100 [==============================] - 13s 129ms/step - loss: 0.0144 - masked_acc: 0.9971 - masked_loss: 0.0144 - val_loss: 0.0235 - val_masked_acc: 0.9951 - val_masked_loss: 0.0235\n",
            "Epoch 85/100\n",
            "100/100 [==============================] - 13s 133ms/step - loss: 0.0173 - masked_acc: 0.9962 - masked_loss: 0.0173 - val_loss: 0.0127 - val_masked_acc: 0.9972 - val_masked_loss: 0.0127\n",
            "Epoch 86/100\n",
            "100/100 [==============================] - 13s 132ms/step - loss: 0.0142 - masked_acc: 0.9967 - masked_loss: 0.0142 - val_loss: 0.0148 - val_masked_acc: 0.9965 - val_masked_loss: 0.0148\n",
            "Epoch 87/100\n",
            "100/100 [==============================] - 11s 112ms/step - loss: 0.0156 - masked_acc: 0.9966 - masked_loss: 0.0156 - val_loss: 0.0113 - val_masked_acc: 0.9974 - val_masked_loss: 0.0113\n",
            "Epoch 88/100\n",
            "100/100 [==============================] - 13s 129ms/step - loss: 0.0159 - masked_acc: 0.9968 - masked_loss: 0.0159 - val_loss: 0.0125 - val_masked_acc: 0.9974 - val_masked_loss: 0.0125\n",
            "Epoch 89/100\n",
            "100/100 [==============================] - 13s 132ms/step - loss: 0.0143 - masked_acc: 0.9972 - masked_loss: 0.0143 - val_loss: 0.0152 - val_masked_acc: 0.9963 - val_masked_loss: 0.0152\n",
            "Epoch 90/100\n",
            "100/100 [==============================] - 14s 137ms/step - loss: 0.0133 - masked_acc: 0.9972 - masked_loss: 0.0133 - val_loss: 0.0093 - val_masked_acc: 0.9982 - val_masked_loss: 0.0093\n",
            "Epoch 91/100\n",
            "100/100 [==============================] - 11s 114ms/step - loss: 0.0140 - masked_acc: 0.9971 - masked_loss: 0.0140 - val_loss: 0.0144 - val_masked_acc: 0.9968 - val_masked_loss: 0.0144\n",
            "Epoch 92/100\n",
            "100/100 [==============================] - 14s 138ms/step - loss: 0.0114 - masked_acc: 0.9976 - masked_loss: 0.0114 - val_loss: 0.0098 - val_masked_acc: 0.9980 - val_masked_loss: 0.0098\n",
            "Epoch 93/100\n",
            "100/100 [==============================] - 11s 114ms/step - loss: 0.0153 - masked_acc: 0.9970 - masked_loss: 0.0153 - val_loss: 0.0158 - val_masked_acc: 0.9968 - val_masked_loss: 0.0158\n",
            "Epoch 94/100\n",
            "100/100 [==============================] - 14s 138ms/step - loss: 0.0095 - masked_acc: 0.9983 - masked_loss: 0.0095 - val_loss: 0.0111 - val_masked_acc: 0.9981 - val_masked_loss: 0.0111\n",
            "Epoch 95/100\n",
            "100/100 [==============================] - 11s 115ms/step - loss: 0.0235 - masked_acc: 0.9958 - masked_loss: 0.0235 - val_loss: 0.0155 - val_masked_acc: 0.9970 - val_masked_loss: 0.0155\n",
            "Epoch 96/100\n",
            "100/100 [==============================] - 11s 114ms/step - loss: 0.1939 - masked_acc: 0.9827 - masked_loss: 0.1939 - val_loss: 0.0240 - val_masked_acc: 0.9947 - val_masked_loss: 0.0240\n",
            "Epoch 97/100\n",
            "100/100 [==============================] - 11s 112ms/step - loss: 0.0150 - masked_acc: 0.9972 - masked_loss: 0.0150 - val_loss: 0.0157 - val_masked_acc: 0.9965 - val_masked_loss: 0.0157\n",
            "Epoch 98/100\n",
            "100/100 [==============================] - 11s 111ms/step - loss: 0.0195 - masked_acc: 0.9961 - masked_loss: 0.0195 - val_loss: 0.0212 - val_masked_acc: 0.9948 - val_masked_loss: 0.0212\n",
            "Epoch 99/100\n",
            "100/100 [==============================] - 10s 103ms/step - loss: 0.0107 - masked_acc: 0.9980 - masked_loss: 0.0107 - val_loss: 0.0103 - val_masked_acc: 0.9981 - val_masked_loss: 0.0103\n"
          ]
        }
      ],
      "source": [
        "history = model.fit(\n",
        "    train_ds.repeat(), \n",
        "    epochs=100,\n",
        "    steps_per_epoch = 100,\n",
        "    validation_data=val_ds,\n",
        "    validation_steps = 70,\n",
        "    callbacks=[\n",
        "        tf.keras.callbacks.EarlyStopping(patience=9)])"
      ]
    },
    {
      "cell_type": "markdown",
      "metadata": {
        "id": "Uq9lHbPgenz9"
      },
      "source": [
        "## Plotting the Loss from Training "
      ]
    },
    {
      "cell_type": "code",
      "execution_count": 49,
      "metadata": {
        "colab": {
          "base_uri": "https://localhost:8080/",
          "height": 467
        },
        "id": "38rLdlmtQHCm",
        "outputId": "5ea47df1-82c4-4e83-d04c-d49c0ba29ffc"
      },
      "outputs": [
        {
          "output_type": "execute_result",
          "data": {
            "text/plain": [
              "<matplotlib.legend.Legend at 0x7f7c181cd8d0>"
            ]
          },
          "metadata": {},
          "execution_count": 49
        },
        {
          "output_type": "display_data",
          "data": {
            "text/plain": [
              "<Figure size 640x480 with 1 Axes>"
            ],
            "image/png": "[encoded data removed]"
          },
          "metadata": {}
        }
      ],
      "source": [
        "plt.plot(history.history['loss'], label='loss')\n",
        "plt.plot(history.history['masked_loss'], label='masked_loss')\n",
        "plt.plot(history.history['val_masked_loss'], label='val_masked_loss')\n",
        "plt.ylim([0, max(plt.ylim())])\n",
        "plt.xlabel('Epoch #')\n",
        "plt.ylabel('CE/token')\n",
        "plt.legend()"
      ]
    },
    {
      "cell_type": "markdown",
      "metadata": {
        "id": "lUssYQFZet7E"
      },
      "source": [
        "## Plotting the aacuracy from the training"
      ]
    },
    {
      "cell_type": "code",
      "execution_count": 50,
      "metadata": {
        "colab": {
          "base_uri": "https://localhost:8080/",
          "height": 467
        },
        "id": "KkhXRASNG80_",
        "outputId": "26456c6c-64cc-41d1-8c35-3962e97c314e"
      },
      "outputs": [
        {
          "output_type": "execute_result",
          "data": {
            "text/plain": [
              "<matplotlib.legend.Legend at 0x7f7c2ef41f90>"
            ]
          },
          "metadata": {},
          "execution_count": 50
        },
        {
          "output_type": "display_data",
          "data": {
            "text/plain": [
              "<Figure size 640x480 with 1 Axes>"
            ],
            "image/png": "[encoded data removed]"
          },
          "metadata": {}
        }
      ],
      "source": [
        "plt.plot(history.history['masked_acc'], label='accuracy')\n",
        "plt.plot(history.history['val_masked_acc'], label='val_accuracy')\n",
        "plt.ylim([0, max(plt.ylim())])\n",
        "plt.xlabel('Epoch #')\n",
        "plt.ylabel('CE/token')\n",
        "plt.legend()"
      ]
    },
    {
      "cell_type": "markdown",
      "metadata": {
        "id": "mU3Ce8M6I3rz"
      },
      "source": [
        "### Translate Module Development\n",
        "\n",
        "Now that the model is trained, implement a function to execute the full `text => text` translation. This code is basically identical to the [inference example](#inference) in the [decoder section](#the_decoder), but this also captures the attention weights."
      ]
    },
    {
      "cell_type": "code",
      "execution_count": 51,
      "metadata": {
        "id": "mmgYPCVgEwp_"
      },
      "outputs": [],
      "source": [
        "#@title\n",
        "@Translator.add_method\n",
        "def translate(self,\n",
        "              texts, *,\n",
        "              max_length=50,\n",
        "              temperature=0.0):\n",
        "  # Process the input texts\n",
        "  context = self.encoder.convert_input(texts)\n",
        "  batch_size = tf.shape(texts)[0]\n",
        "\n",
        "  # Setup the loop inputs\n",
        "  tokens = []\n",
        "  attention_weights = []\n",
        "  next_token, done, state = self.decoder.get_initial_state(context)\n",
        "\n",
        "  for _ in range(max_length):\n",
        "    # Generate the next token\n",
        "    next_token, done, state = self.decoder.get_next_token(\n",
        "        context, next_token, done,  state, temperature)\n",
        "        \n",
        "    # Collect the generated tokens\n",
        "    tokens.append(next_token)\n",
        "    attention_weights.append(self.decoder.last_attention_weights)\n",
        "    \n",
        "    if tf.executing_eagerly() and tf.reduce_all(done):\n",
        "      break\n",
        "\n",
        "  # Stack the lists of tokens and attention weights.\n",
        "  tokens = tf.concat(tokens, axis=-1)   # t*[(batch 1)] -> (batch, t)\n",
        "  self.last_attention_weights = tf.concat(attention_weights, axis=1)  # t*[(batch 1 s)] -> (batch, t s)\n",
        "\n",
        "  result = self.decoder.tokens_to_text(tokens)\n",
        "  return result"
      ]
    },
    {
      "cell_type": "markdown",
      "metadata": {
        "id": "U4XufRntbbva"
      },
      "source": [
        "Here are the two helper methods, used above, to convert tokens to text, and to get the next token:"
      ]
    },
    {
      "cell_type": "code",
      "execution_count": 52,
      "metadata": {
        "id": "E5hqvbR5FUCD",
        "scrolled": false
      },
      "outputs": [],
      "source": [
        "#Individual translator mechanism, can be used to translate each data separately\n",
        "\n",
        "\n",
        "result1 = model.translate([''])\n",
        "\n",
        "result2 = model.translate([''])\n",
        "\n",
        "result23 = model.translate([''])\n",
        "\n",
        "result222 = model.translate([''])\n",
        "#result1[0].numpy().decode()\n",
        "#result2[0].numpy().decode()\n",
        "\n"
      ]
    },
    {
      "cell_type": "markdown",
      "metadata": {
        "id": "wQ1iU63cVgfs"
      },
      "source": [
        "### Attention plot generation after model training has been completed"
      ]
    },
    {
      "cell_type": "code",
      "execution_count": 53,
      "metadata": {
        "id": "s5hQWlbN3jGF"
      },
      "outputs": [],
      "source": [
        "#@title\n",
        "@Translator.add_method\n",
        "def plot_attention(self, text, **kwargs):\n",
        "  assert isinstance(text, str)\n",
        "  output = self.translate([text], **kwargs)\n",
        "  output = output[0].numpy().decode()\n",
        "\n",
        "  attention = self.last_attention_weights[0]\n",
        "\n",
        "  context = tf_lower_and_split_punct(text)\n",
        "  context = context.numpy().decode().split()\n",
        "\n",
        "  output = tf_lower_and_split_punct(output)\n",
        "  output = output.numpy().decode().split()[1:]\n",
        "\n",
        "  fig = plt.figure(figsize=(10, 10))\n",
        "  ax = fig.add_subplot(1, 1, 1)\n",
        "\n",
        "  ax.matshow(attention, cmap='viridis', vmin=0.0)\n",
        "\n",
        "  fontdict = {'fontsize': 14}\n",
        "\n",
        "  ax.set_xticklabels([''] + context, fontdict=fontdict, rotation=90)\n",
        "  ax.set_yticklabels([''] + output, fontdict=fontdict)\n",
        "\n",
        "  ax.xaxis.set_major_locator(ticker.MultipleLocator(1))\n",
        "  ax.yaxis.set_major_locator(ticker.MultipleLocator(1))\n",
        "\n",
        "  ax.set_xlabel('Input text')\n",
        "  ax.set_ylabel('Output text')"
      ]
    },
    {
      "cell_type": "code",
      "execution_count": 54,
      "metadata": {
        "id": "rrGawQv2eiA4"
      },
      "outputs": [],
      "source": [
        "#model.plot_attention('') "
      ]
    },
    {
      "cell_type": "markdown",
      "metadata": {
        "id": "JHBdOf9duumm"
      },
      "source": [
        "Translate a few more sentences and plot them:"
      ]
    },
    {
      "cell_type": "markdown",
      "metadata": {
        "id": "rA3xI3NzrRJt"
      },
      "source": [
        "The short sentences often work well, but if the input is too long the model literally loses focus and stops providing reasonable predictions. There are two main reasons for this:\n",
        "\n",
        "1. The model was trained with teacher-forcing feeding the correct token at each step, regardless of the model's predictions. The model could be made more robust if it were sometimes fed its own predictions.\n",
        "2. The model only has access to its previous output through the RNN state. If the RNN state looses track of where it was in the context sequence there's no way for the model to recover. [Transformers](transformer.ipynb) improve on this by letting the decoder look at what it has output so far."
      ]
    },
    {
      "cell_type": "markdown",
      "metadata": {
        "id": "Vtz6QBoGWqT2"
      },
      "source": [
        "The raw data is sorted by length, so try translating the longest sequence:"
      ]
    },
    {
      "cell_type": "code",
      "execution_count": 55,
      "metadata": {
        "id": "-FUHFLEvSMbG"
      },
      "outputs": [],
      "source": [
        "long_text = context_raw[-1]\n",
        "\n",
        "import textwrap\n",
        "#print('Expected output:\\n', '\\n'.join(textwrap.wrap(target_raw[-1])))"
      ]
    },
    {
      "cell_type": "markdown",
      "metadata": {
        "id": "Rc1aekzi9dLZ"
      },
      "source": [
        "# Testing unseen samples"
      ]
    },
    {
      "cell_type": "code",
      "execution_count": 56,
      "metadata": {
        "id": "6OIFQKZI9bc5"
      },
      "outputs": [],
      "source": [
        "dc = pd.read_excel('University_OM_test.xlsx')"
      ]
    },
    {
      "cell_type": "code",
      "execution_count": 57,
      "metadata": {
        "colab": {
          "base_uri": "https://localhost:8080/",
          "height": 206
        },
        "id": "Nsx0IyYZ9k3v",
        "outputId": "6de94402-2dd1-4b15-f004-dd00670fff16"
      },
      "outputs": [
        {
          "output_type": "execute_result",
          "data": {
            "text/plain": [
              "                                          OM_Regular  OM_Prediction\n",
              "0  module OM_name:0, open Declaration one sig cla...              1\n",
              "1  module OM_name:0, open Declaration one sig cla...              1\n",
              "2  module OM_name:0, open Declaration one sig cla...              1\n",
              "3  module OM_name:0, open Declaration one sig cla...              1\n",
              "4  module OM_name:0, open Declaration one sig cla...              0"
            ],
            "text/html": [
              "\n",
              "  <div id=\"df-bc3ecce3-2429-46f9-a9a1-a5953619cb07\">\n",
              "    <div class=\"colab-df-container\">\n",
              "      <div>\n",
              "<style scoped>\n",
              "    .dataframe tbody tr th:only-of-type {\n",
              "        vertical-align: middle;\n",
              "    }\n",
              "\n",
              "    .dataframe tbody tr th {\n",
              "        vertical-align: top;\n",
              "    }\n",
              "\n",
              "    .dataframe thead th {\n",
              "        text-align: right;\n",
              "    }\n",
              "</style>\n",
              "<table border=\"1\" class=\"dataframe\">\n",
              "  <thead>\n",
              "    <tr style=\"text-align: right;\">\n",
              "      <th></th>\n",
              "      <th>OM_Regular</th>\n",
              "      <th>OM_Prediction</th>\n",
              "    </tr>\n",
              "  </thead>\n",
              "  <tbody>\n",
              "    <tr>\n",
              "      <th>0</th>\n",
              "      <td>module OM_name:0, open Declaration one sig cla...</td>\n",
              "      <td>1</td>\n",
              "    </tr>\n",
              "    <tr>\n",
              "      <th>1</th>\n",
              "      <td>module OM_name:0, open Declaration one sig cla...</td>\n",
              "      <td>1</td>\n",
              "    </tr>\n",
              "    <tr>\n",
              "      <th>2</th>\n",
              "      <td>module OM_name:0, open Declaration one sig cla...</td>\n",
              "      <td>1</td>\n",
              "    </tr>\n",
              "    <tr>\n",
              "      <th>3</th>\n",
              "      <td>module OM_name:0, open Declaration one sig cla...</td>\n",
              "      <td>1</td>\n",
              "    </tr>\n",
              "    <tr>\n",
              "      <th>4</th>\n",
              "      <td>module OM_name:0, open Declaration one sig cla...</td>\n",
              "      <td>0</td>\n",
              "    </tr>\n",
              "  </tbody>\n",
              "</table>\n",
              "</div>\n",
              "      <button class=\"colab-df-convert\" onclick=\"convertToInteractive('df-bc3ecce3-2429-46f9-a9a1-a5953619cb07')\"\n",
              "              title=\"Convert this dataframe to an interactive table.\"\n",
              "              style=\"display:none;\">\n",
              "        \n",
              "  <svg xmlns=\"http://www.w3.org/2000/svg\" height=\"24px\"viewBox=\"0 0 24 24\"\n",
              "       width=\"24px\">\n",
              "    <path d=\"M0 0h24v24H0V0z\" fill=\"none\"/>\n",
              "    <path d=\"M18.56 5.44l.94 2.06.94-2.06 2.06-.94-2.06-.94-.94-2.06-.94 2.06-2.06.94zm-11 1L8.5 8.5l.94-2.06 2.06-.94-2.06-.94L8.5 2.5l-.94 2.06-2.06.94zm10 10l.94 2.06.94-2.06 2.06-.94-2.06-.94-.94-2.06-.94 2.06-2.06.94z\"/><path d=\"M17.41 7.96l-1.37-1.37c-.4-.4-.92-.59-1.43-.59-.52 0-1.04.2-1.43.59L10.3 9.45l-7.72 7.72c-.78.78-.78 2.05 0 2.83L4 21.41c.39.39.9.59 1.41.59.51 0 1.02-.2 1.41-.59l7.78-7.78 2.81-2.81c.8-.78.8-2.07 0-2.86zM5.41 20L4 18.59l7.72-7.72 1.47 1.35L5.41 20z\"/>\n",
              "  </svg>\n",
              "      </button>\n",
              "      \n",
              "  <style>\n",
              "    .colab-df-container {\n",
              "      display:flex;\n",
              "      flex-wrap:wrap;\n",
              "      gap: 12px;\n",
              "    }\n",
              "\n",
              "    .colab-df-convert {\n",
              "      background-color: #E8F0FE;\n",
              "      border: none;\n",
              "      border-radius: 50%;\n",
              "      cursor: pointer;\n",
              "      display: none;\n",
              "      fill: #1967D2;\n",
              "      height: 32px;\n",
              "      padding: 0 0 0 0;\n",
              "      width: 32px;\n",
              "    }\n",
              "\n",
              "    .colab-df-convert:hover {\n",
              "      background-color: #E2EBFA;\n",
              "      box-shadow: 0px 1px 2px rgba(60, 64, 67, 0.3), 0px 1px 3px 1px rgba(60, 64, 67, 0.15);\n",
              "      fill: #174EA6;\n",
              "    }\n",
              "\n",
              "    [theme=dark] .colab-df-convert {\n",
              "      background-color: #3B4455;\n",
              "      fill: #D2E3FC;\n",
              "    }\n",
              "\n",
              "    [theme=dark] .colab-df-convert:hover {\n",
              "      background-color: #434B5C;\n",
              "      box-shadow: 0px 1px 3px 1px rgba(0, 0, 0, 0.15);\n",
              "      filter: drop-shadow(0px 1px 2px rgba(0, 0, 0, 0.3));\n",
              "      fill: #FFFFFF;\n",
              "    }\n",
              "  </style>\n",
              "\n",
              "      <script>\n",
              "        const buttonEl =\n",
              "          document.querySelector('#df-bc3ecce3-2429-46f9-a9a1-a5953619cb07 button.colab-df-convert');\n",
              "        buttonEl.style.display =\n",
              "          google.colab.kernel.accessAllowed ? 'block' : 'none';\n",
              "\n",
              "        async function convertToInteractive(key) {\n",
              "          const element = document.querySelector('#df-bc3ecce3-2429-46f9-a9a1-a5953619cb07');\n",
              "          const dataTable =\n",
              "            await google.colab.kernel.invokeFunction('convertToInteractive',\n",
              "                                                     [key], {});\n",
              "          if (!dataTable) return;\n",
              "\n",
              "          const docLinkHtml = 'Like what you see? Visit the ' +\n",
              "            '<a target=\"_blank\" href=https://colab.research.google.com/notebooks/data_table.ipynb>data table notebook</a>'\n",
              "            + ' to learn more about interactive tables.';\n",
              "          element.innerHTML = '';\n",
              "          dataTable['output_type'] = 'display_data';\n",
              "          await google.colab.output.renderOutput(dataTable, element);\n",
              "          const docLink = document.createElement('div');\n",
              "          docLink.innerHTML = docLinkHtml;\n",
              "          element.appendChild(docLink);\n",
              "        }\n",
              "      </script>\n",
              "    </div>\n",
              "  </div>\n",
              "  "
            ]
          },
          "metadata": {},
          "execution_count": 57
        }
      ],
      "source": [
        "dc.head()"
      ]
    },
    {
      "cell_type": "markdown",
      "metadata": {
        "id": "er0zQybAgoJJ"
      },
      "source": [
        "### Separating Columns in X_test and y_test"
      ]
    },
    {
      "cell_type": "code",
      "execution_count": 58,
      "metadata": {
        "id": "naG54qF791Hs"
      },
      "outputs": [],
      "source": [
        "X_test2 = dc['OM_Regular'].values\n",
        "y_test2 = dc['OM_Prediction'].values"
      ]
    },
    {
      "cell_type": "code",
      "execution_count": 59,
      "metadata": {
        "colab": {
          "base_uri": "https://localhost:8080/"
        },
        "id": "VcNO_Ews2q8x",
        "outputId": "db265756-f619-4625-f344-6a3b08df634f"
      },
      "outputs": [
        {
          "output_type": "stream",
          "name": "stdout",
          "text": [
            "(31,)\n",
            "(31,)\n",
            "X data type:  object\n",
            "y data type:  int64\n"
          ]
        }
      ],
      "source": [
        "print(X_test2.shape)\n",
        "print(y_test2.shape)\n",
        "\n",
        "print(\"X data type: \", X_test2.dtype)\n",
        "print(\"y data type: \", y_test2.dtype)"
      ]
    },
    {
      "cell_type": "code",
      "execution_count": 60,
      "metadata": {
        "colab": {
          "base_uri": "https://localhost:8080/"
        },
        "id": "XZFASLWP95TU",
        "outputId": "e9404b7d-bcc2-4cf5-f9ee-5bd63cc446be"
      },
      "outputs": [
        {
          "output_type": "stream",
          "name": "stdout",
          "text": [
            "[1 1 1 1 0 0 0 0 0 0 1 0 1 1 0 0 0 0 0 0 0 0 0 0 0 0 1 0 1 1 0]\n"
          ]
        }
      ],
      "source": [
        "print(y_test2)"
      ]
    },
    {
      "cell_type": "code",
      "execution_count": 61,
      "metadata": {
        "id": "hgO5sa73-3f1"
      },
      "outputs": [],
      "source": [
        "inputs = X_test2"
      ]
    },
    {
      "cell_type": "markdown",
      "metadata": {
        "id": "K_yUzQq_gyYj"
      },
      "source": [
        "### Obtaining results from the model of the unseen dataset"
      ]
    },
    {
      "cell_type": "code",
      "execution_count": 92,
      "metadata": {
        "id": "4qjPTIDB-8UZ"
      },
      "outputs": [],
      "source": [
        "# import time\n",
        "\n",
        "# # Increase the time parameter\n",
        "# time_limit = 60  # in seconds\n",
        "\n",
        "# for t in inputs:\n",
        "#     start_time = time.time()\n",
        "#     output = \"\"\n",
        "#     while True:\n",
        "#         partial_output = model.translate([t], max_length=len(output) + 10)[0].numpy().decode()\n",
        "#         output += partial_output\n",
        "#         if time.time() - start_time > time_limit:\n",
        "#             break\n",
        "#     output = output.replace(' ', '')\n",
        "#     print(output)\n",
        "\n",
        "# print()\n"
      ]
    },
    {
      "cell_type": "markdown",
      "metadata": {
        "id": "1t4_2FqbE9da"
      },
      "source": [
        "# Classification Report (Unseen samples)\n"
      ]
    },
    {
      "cell_type": "code",
      "execution_count": 85,
      "metadata": {
        "id": "fVaZsDnJhkz5"
      },
      "outputs": [],
      "source": [
        "import warnings\n",
        "import numpy as np\n",
        "import pandas as pd\n",
        "import matplotlib.pyplot as plt\n",
        "from sklearn import datasets\n",
        "from sklearn.preprocessing import StandardScaler\n",
        "from sklearn.neighbors import KNeighborsClassifier\n",
        "from sklearn.model_selection import train_test_split, GridSearchCV, cross_val_score, cross_val_predict\n",
        "from sklearn.metrics import confusion_matrix, precision_score, recall_score, f1_score, roc_curve, roc_auc_score\n",
        "from sklearn.metrics import precision_recall_curve, classification_report"
      ]
    },
    {
      "cell_type": "markdown",
      "metadata": {
        "id": "TbThCFoRhLHs"
      },
      "source": [
        "### The result is obtained and captured in a separate file, labels are converted to 1 and 0 . Where 1 denotes P and 0 denotes NP. "
      ]
    },
    {
      "cell_type": "markdown",
      "metadata": {
        "id": "9Jz3Rt18lUtE"
      },
      "source": [
        "###READING the predicted dataset"
      ]
    },
    {
      "cell_type": "code",
      "execution_count": 86,
      "metadata": {
        "id": "jhKnUY4XFCSj"
      },
      "outputs": [],
      "source": [
        "dd = pd.read_excel('University_OM_test_pred.xlsx')"
      ]
    },
    {
      "cell_type": "code",
      "execution_count": 87,
      "metadata": {
        "id": "v9M2iW1MGjfM",
        "colab": {
          "base_uri": "https://localhost:8080/",
          "height": 206
        },
        "outputId": "8c8e5694-7841-4c67-f938-e0023c90b850"
      },
      "outputs": [
        {
          "output_type": "execute_result",
          "data": {
            "text/plain": [
              "                                          OM_Regular  OM_Prediction\n",
              "0  np,moduleom_name:0opendeclarationonesigclass1_...              0\n",
              "1  6_at2`foreignkey(`c6_at2`)references`class6_na...              1\n",
              "2  `(`c7_at1`)ondeletecascadeonupdatecascade,alte...              0\n",
              "3  8_name`addconstraint`fk_class8_name_c7_at1`for...              0\n",
              "4  p,moduleom_name:0opendeclarationonesigclass1_n...              0"
            ],
            "text/html": [
              "\n",
              "  <div id=\"df-e3ece91d-9f4a-420f-ae00-ac3880e90a44\">\n",
              "    <div class=\"colab-df-container\">\n",
              "      <div>\n",
              "<style scoped>\n",
              "    .dataframe tbody tr th:only-of-type {\n",
              "        vertical-align: middle;\n",
              "    }\n",
              "\n",
              "    .dataframe tbody tr th {\n",
              "        vertical-align: top;\n",
              "    }\n",
              "\n",
              "    .dataframe thead th {\n",
              "        text-align: right;\n",
              "    }\n",
              "</style>\n",
              "<table border=\"1\" class=\"dataframe\">\n",
              "  <thead>\n",
              "    <tr style=\"text-align: right;\">\n",
              "      <th></th>\n",
              "      <th>OM_Regular</th>\n",
              "      <th>OM_Prediction</th>\n",
              "    </tr>\n",
              "  </thead>\n",
              "  <tbody>\n",
              "    <tr>\n",
              "      <th>0</th>\n",
              "      <td>np,moduleom_name:0opendeclarationonesigclass1_...</td>\n",
              "      <td>0</td>\n",
              "    </tr>\n",
              "    <tr>\n",
              "      <th>1</th>\n",
              "      <td>6_at2`foreignkey(`c6_at2`)references`class6_na...</td>\n",
              "      <td>1</td>\n",
              "    </tr>\n",
              "    <tr>\n",
              "      <th>2</th>\n",
              "      <td>`(`c7_at1`)ondeletecascadeonupdatecascade,alte...</td>\n",
              "      <td>0</td>\n",
              "    </tr>\n",
              "    <tr>\n",
              "      <th>3</th>\n",
              "      <td>8_name`addconstraint`fk_class8_name_c7_at1`for...</td>\n",
              "      <td>0</td>\n",
              "    </tr>\n",
              "    <tr>\n",
              "      <th>4</th>\n",
              "      <td>p,moduleom_name:0opendeclarationonesigclass1_n...</td>\n",
              "      <td>0</td>\n",
              "    </tr>\n",
              "  </tbody>\n",
              "</table>\n",
              "</div>\n",
              "      <button class=\"colab-df-convert\" onclick=\"convertToInteractive('df-e3ece91d-9f4a-420f-ae00-ac3880e90a44')\"\n",
              "              title=\"Convert this dataframe to an interactive table.\"\n",
              "              style=\"display:none;\">\n",
              "        \n",
              "  <svg xmlns=\"http://www.w3.org/2000/svg\" height=\"24px\"viewBox=\"0 0 24 24\"\n",
              "       width=\"24px\">\n",
              "    <path d=\"M0 0h24v24H0V0z\" fill=\"none\"/>\n",
              "    <path d=\"M18.56 5.44l.94 2.06.94-2.06 2.06-.94-2.06-.94-.94-2.06-.94 2.06-2.06.94zm-11 1L8.5 8.5l.94-2.06 2.06-.94-2.06-.94L8.5 2.5l-.94 2.06-2.06.94zm10 10l.94 2.06.94-2.06 2.06-.94-2.06-.94-.94-2.06-.94 2.06-2.06.94z\"/><path d=\"M17.41 7.96l-1.37-1.37c-.4-.4-.92-.59-1.43-.59-.52 0-1.04.2-1.43.59L10.3 9.45l-7.72 7.72c-.78.78-.78 2.05 0 2.83L4 21.41c.39.39.9.59 1.41.59.51 0 1.02-.2 1.41-.59l7.78-7.78 2.81-2.81c.8-.78.8-2.07 0-2.86zM5.41 20L4 18.59l7.72-7.72 1.47 1.35L5.41 20z\"/>\n",
              "  </svg>\n",
              "      </button>\n",
              "      \n",
              "  <style>\n",
              "    .colab-df-container {\n",
              "      display:flex;\n",
              "      flex-wrap:wrap;\n",
              "      gap: 12px;\n",
              "    }\n",
              "\n",
              "    .colab-df-convert {\n",
              "      background-color: #E8F0FE;\n",
              "      border: none;\n",
              "      border-radius: 50%;\n",
              "      cursor: pointer;\n",
              "      display: none;\n",
              "      fill: #1967D2;\n",
              "      height: 32px;\n",
              "      padding: 0 0 0 0;\n",
              "      width: 32px;\n",
              "    }\n",
              "\n",
              "    .colab-df-convert:hover {\n",
              "      background-color: #E2EBFA;\n",
              "      box-shadow: 0px 1px 2px rgba(60, 64, 67, 0.3), 0px 1px 3px 1px rgba(60, 64, 67, 0.15);\n",
              "      fill: #174EA6;\n",
              "    }\n",
              "\n",
              "    [theme=dark] .colab-df-convert {\n",
              "      background-color: #3B4455;\n",
              "      fill: #D2E3FC;\n",
              "    }\n",
              "\n",
              "    [theme=dark] .colab-df-convert:hover {\n",
              "      background-color: #434B5C;\n",
              "      box-shadow: 0px 1px 3px 1px rgba(0, 0, 0, 0.15);\n",
              "      filter: drop-shadow(0px 1px 2px rgba(0, 0, 0, 0.3));\n",
              "      fill: #FFFFFF;\n",
              "    }\n",
              "  </style>\n",
              "\n",
              "      <script>\n",
              "        const buttonEl =\n",
              "          document.querySelector('#df-e3ece91d-9f4a-420f-ae00-ac3880e90a44 button.colab-df-convert');\n",
              "        buttonEl.style.display =\n",
              "          google.colab.kernel.accessAllowed ? 'block' : 'none';\n",
              "\n",
              "        async function convertToInteractive(key) {\n",
              "          const element = document.querySelector('#df-e3ece91d-9f4a-420f-ae00-ac3880e90a44');\n",
              "          const dataTable =\n",
              "            await google.colab.kernel.invokeFunction('convertToInteractive',\n",
              "                                                     [key], {});\n",
              "          if (!dataTable) return;\n",
              "\n",
              "          const docLinkHtml = 'Like what you see? Visit the ' +\n",
              "            '<a target=\"_blank\" href=https://colab.research.google.com/notebooks/data_table.ipynb>data table notebook</a>'\n",
              "            + ' to learn more about interactive tables.';\n",
              "          element.innerHTML = '';\n",
              "          dataTable['output_type'] = 'display_data';\n",
              "          await google.colab.output.renderOutput(dataTable, element);\n",
              "          const docLink = document.createElement('div');\n",
              "          docLink.innerHTML = docLinkHtml;\n",
              "          element.appendChild(docLink);\n",
              "        }\n",
              "      </script>\n",
              "    </div>\n",
              "  </div>\n",
              "  "
            ]
          },
          "metadata": {},
          "execution_count": 87
        }
      ],
      "source": [
        "dd.head()"
      ]
    },
    {
      "cell_type": "code",
      "execution_count": 88,
      "metadata": {
        "id": "1tO_WHmVHQDR"
      },
      "outputs": [],
      "source": [
        "X_test_pred2 = dd['OM_Regular'].values\n",
        "y_test_pred2 = dd['OM_Prediction'].values"
      ]
    },
    {
      "cell_type": "markdown",
      "metadata": {
        "id": "0nbGKNUjldCp"
      },
      "source": [
        "### Printing predicted labels"
      ]
    },
    {
      "cell_type": "code",
      "execution_count": 89,
      "metadata": {
        "id": "Wy2Fvt1fHYJO",
        "colab": {
          "base_uri": "https://localhost:8080/"
        },
        "outputId": "4e578663-16f5-4f6e-85fa-55c295d73092"
      },
      "outputs": [
        {
          "output_type": "stream",
          "name": "stdout",
          "text": [
            "[0 1 0 0 0 0 1 1 0 0 1 0 1 1 1 1 1 0 1 1 0 0 0 0 0 0 1 0 1 1 0]\n"
          ]
        }
      ],
      "source": [
        "print (y_test_pred2 )"
      ]
    },
    {
      "cell_type": "code",
      "execution_count": 90,
      "metadata": {
        "id": "w7RY4modHkts",
        "colab": {
          "base_uri": "https://localhost:8080/"
        },
        "outputId": "e8b42bdc-a480-461b-896f-9c54ce913f17"
      },
      "outputs": [
        {
          "output_type": "stream",
          "name": "stdout",
          "text": [
            "Testing: Precision = 0.500000\n",
            "Testing: Recall = 0.700000\n",
            "Testing: F1 Score = 0.583333\n",
            "\n",
            "Confusion Matrix (Test Data):\n",
            " [[14  7]\n",
            " [ 3  7]]\n"
          ]
        }
      ],
      "source": [
        "precision = precision_score(y_test2, y_test_pred2) \n",
        "print(\"Testing: Precision = %f\" % precision)\n",
        "\n",
        "\n",
        "recall = recall_score(y_test2, y_test_pred2)\n",
        "print(\"Testing: Recall = %f\" % recall)\n",
        "\n",
        "\n",
        "f1 = f1_score(y_test2, y_test_pred2)\n",
        "print(\"Testing: F1 Score = %f\" % f1)\n",
        "\n",
        "print(\"\\nConfusion Matrix (Test Data):\\n\", confusion_matrix(y_test2, y_test_pred2))"
      ]
    },
    {
      "cell_type": "code",
      "execution_count": 91,
      "metadata": {
        "id": "nd3P-TGIIN6b",
        "colab": {
          "base_uri": "https://localhost:8080/"
        },
        "outputId": "ebdfd166-4a15-4ab4-caed-768259027730"
      },
      "outputs": [
        {
          "output_type": "stream",
          "name": "stdout",
          "text": [
            "              precision    recall  f1-score   support\n",
            "\n",
            "           0       0.82      0.67      0.74        21\n",
            "           1       0.50      0.70      0.58        10\n",
            "\n",
            "    accuracy                           0.68        31\n",
            "   macro avg       0.66      0.68      0.66        31\n",
            "weighted avg       0.72      0.68      0.69        31\n",
            "\n"
          ]
        }
      ],
      "source": [
        "print(classification_report(y_test2,y_test_pred2))"
      ]
    }
  ],
  "metadata": {
    "accelerator": "GPU",
    "colab": {
      "provenance": []
    },
    "gpuClass": "standard",
    "kernelspec": {
      "display_name": "Python 3 (ipykernel)",
      "language": "python",
      "name": "python3"
    },
    "language_info": {
      "codemirror_mode": {
        "name": "ipython",
        "version": 3
      },
      "file_extension": ".py",
      "mimetype": "text/x-python",
      "name": "python",
      "nbconvert_exporter": "python",
      "pygments_lexer": "ipython3",
      "version": "3.9.12"
    }
  },
  "nbformat": 4,
  "nbformat_minor": 0
}