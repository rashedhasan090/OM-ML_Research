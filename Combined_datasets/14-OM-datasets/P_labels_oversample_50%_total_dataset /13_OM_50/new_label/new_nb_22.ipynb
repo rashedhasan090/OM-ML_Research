{
  "nbformat": 4,
  "nbformat_minor": 0,
  "metadata": {
    "colab": {
      "provenance": []
    },
    "kernelspec": {
      "name": "python3",
      "display_name": "Python 3"
    },
    "language_info": {
      "name": "python"
    }
  },
  "cells": [
    {
      "cell_type": "code",
      "execution_count": 2,
      "metadata": {
        "id": "1XjDK35_QSr5"
      },
      "outputs": [],
      "source": [
        "import pathlib\n",
        "import random\n",
        "import string\n",
        "import re\n",
        "import numpy as np\n",
        "import tensorflow as tf\n",
        "from tensorflow import keras\n",
        "from tensorflow.keras import layers\n",
        "from tensorflow.keras.layers import TextVectorization"
      ]
    },
    {
      "cell_type": "code",
      "source": [
        "!unzip om-pre_min.zip"
      ],
      "metadata": {
        "colab": {
          "base_uri": "https://localhost:8080/"
        },
        "id": "8hEpn2QMY3mS",
        "outputId": "9a77a2c5-ca29-423c-e21e-6c94d1c0f3ad"
      },
      "execution_count": 3,
      "outputs": [
        {
          "output_type": "stream",
          "name": "stdout",
          "text": [
            "Archive:  om-pre_min.zip\n",
            "replace om-pre_min/.DS_Store? [y]es, [n]o, [A]ll, [N]one, [r]ename: n\n",
            "replace __MACOSX/om-pre_min/._.DS_Store? [y]es, [n]o, [A]ll, [N]one, [r]ename: n\n",
            "replace om-pre_min/min.txt? [y]es, [n]o, [A]ll, [N]one, [r]ename: n\n",
            "replace __MACOSX/om-pre_min/._min.txt? [y]es, [n]o, [A]ll, [N]one, [r]ename: n\n"
          ]
        }
      ]
    },
    {
      "cell_type": "code",
      "source": [
        "import pathlib\n",
        "\n",
        "file_path = \"/content/om-pre_min.zip\"\n",
        "extracted_dir = pathlib.Path(file_path).parent / \"om-pre_min\"\n",
        "text_file = extracted_dir / \"min.txt\"\n"
      ],
      "metadata": {
        "id": "8vcsJPlVSLZn"
      },
      "execution_count": 4,
      "outputs": []
    },
    {
      "cell_type": "code",
      "source": [
        "with open(text_file) as f:\n",
        "    lines = f.read().split(\"\\n\")[:-1]\n",
        "text_pairs = []\n",
        "for line in lines:\n",
        "    eng, spa = line.split(\"\\t\")\n",
        "    spa = \"[start] \" + spa + \" [end]\"\n",
        "    text_pairs.append((eng, spa))"
      ],
      "metadata": {
        "id": "zdtdG95pYNQg"
      },
      "execution_count": 5,
      "outputs": []
    },
    {
      "cell_type": "code",
      "source": [
        "for _ in range(5):\n",
        "    print(random.choice(text_pairs))"
      ],
      "metadata": {
        "colab": {
          "base_uri": "https://localhost:8080/"
        },
        "id": "v68laGd8XmlA",
        "outputId": "3542624d-a6ef-4857-8b96-8fa78755431d"
      },
      "execution_count": 6,
      "outputs": [
        {
          "output_type": "stream",
          "name": "stdout",
          "text": [
            "('module OM_name: 0 ,openDeclaration one sig class1_name extends ClassattrSet=c1_at1+c1_at2id=c1_at1noparentisAbstract=No} one sig c1_at1 extends c1_at1_type one sig c1_at2 extends c1_at2_type, one sig class2_name extends ClassattrSet=c2_at1 one parent  parentinclass5_nameid=c3_at1isAbstract=No} one sig c2_at1 extends c2_at1_type, one sig class3_name extends ClassattrSet=c3_at1+c3_at2+c3_at3+c3_at4+c3_at5id=c3_at1noparentisAbstract=No} one sig c3_at1 extends c3_at1_type one sig c3_at1 extends c3_at1_type one sig c3_at3 extends c3_at3_type one sig c3_at4 extends c3_at4_type one sig c3_at5 extends c3_at5_type, one sig class4_name extends ClassattrSet=c4_at1+c4_at2id=c4_at1noparentisAbstract=No} one sig c4_at1 extends c4_at1_type one sig c4_at2 extends c4_at2_type, one sig class5_name extends ClassattrSet=c5_at1+c3_at1id=c5_at1noparentisAbstract=No} one sig c5_at1 extends c5_at1_type, one sig class6_name extends ClassattrSet=c6_at1+c6_at2+c6_at3id=c6_at1noparentisAbstract=No} one sig c6_at1 extends c6_at1_type one sig c6_at2 extends c6_at2_type one sig c6_at3 extends c6_at3_type, one sig class7_name extends ClassattrSet=c7_at1 one parent  parentinclass5_nameid=c3_at1isAbstract=No} one sig c7_at1 extends c7_at1_type, one sig assoc1 extends  Association src=class6_namedst=class4_name, src_multiplicity =src_mlpc dst_multiplicity =dst_mlpc,} one sig assoc2 extends  Association src=class6_namedst=Customer src_multiplicity =src_mlpc dst_multiplicity =dst_mlpc,} one sig assoc3 extends  Association src=class3_namedst=class4_name, src_multiplicity =src_mlpc2 dst_multiplicity =dst_mlpc,} one sig assoc4 extends  Association src=class3_namedst=class5_name src_multiplicity =src_mlpc dst_multiplicity =dst_mlpc,} one sig CustomerLoanAssociation extends Association{}{src=class3_namedst=class1_name src_multiplicity =src_mlpc dst_multiplicity =dst_mlpc,} pred show run show \\u200b,Tableclass1_name:Attributec1_at1PrimaryKeyTableclass1_name:Attributec1_at2Tableclass2_name:Attributec2_at1PrimaryKeyTableclass3_name:Attributec3_at4Tableclass3_name:Attributec3_at5Tableclass3_name:Attributec3_at2Tableclass3_name:Attributec3_at2Tableclass4_name:Attributec4_at1PrimaryKeyTableclass4_name:Attributec4_at2Tableclass5_name:Attributec3_at1PrimaryKeyTableclass5_name:Attributec5_at1Tableclass6_name:Attributec6_at1PrimaryKeyTableclass6_name:Attributec6_at2Tableclass6_name:Attributec6_at3Tableclass7_name:Attributec7_at1Tableclass1_name:Attributec1_at1PrimaryKeyTableclass4_name:Attributec4_at1PrimaryKeyTableclass5_name:Attributec5_at1Tableclass6_name:Attributec6_at1PrimaryKeyTableName:class1_nameTableName:class2_nameTableName:class3_nameTableName:class4_nameTableName:class5_nameTableName:class6_nameTableName:class7_nameMappingStrategyforclass1_name:map_str2MappingStrategyforclass8_name:map_str2MappingStrategyforclass3_name:map_str2MappingStrategyforclass5_name:map_str2MappingStrategyforclass6_name:map_str2MappingStrategyforclass7_name:map_str2AssociationStrategyforassoc1:assoc_type1AssociationStrategyforassoc2:assoc_type2AssociationStrategyforassoc3:assoc_type2AssociationStrategyforassoc5:assoc_type2,USEOM_name_0CREATE TABLE `class5_name`(`c5_at1`c5_at1_typeNOT NULL`c3_at1`c3_at2_type PRIMARY  KEY  (`c5_at1`),);CREATE TABLE `class2_name`(`c7_at1`c7_at1_type`c5_at1`c5_at1_type`c3_at1`c3_at2_type PRIMARY  KEY  (`c3_at1`),);CREATE TABLE `class6_name`(`c6_at3`c6_at3_type(64)`c6_at2`c6_at2_type(64)`c6_at1`c6_at1_typeNOT NULL PRIMARY  KEY  (`c6_at1`),);CREATE TABLE `class1_name`(`c1_at2`c4_at2_type(64)`c1_at1`c1_at1_type PRIMARY  KEY  (`c1_at1`),);CREATE TABLE `class3_name`(`c3_at3`c3_at3_type(64)`c3_at2`c3_at2_type(64)`c3_at5`c3_at5_type`c3_at4`c3_at4_type`c3_at1`c3_at2_type PRIMARY  KEY  (`c3_at1`),);CREATE TABLE `assoc5`(`c3_at1`c3_at2_type`c1_at1`c1_at1_type KEY `FK_assoc5_c3_at1_idx`(`c3_at1`) KEY `FK_assoc5_c1_at1_idx`(`c1_at1`) PRIMARY  KEY  (`c3_at1`,`c1_at1`),);CREATE TABLE `class4_name`(`c4_at2`c4_at2_type(64)`c6_at1`c6_at1_type`c4_at1`c4_at1_typeNOT NULL KEY `FK_class4_name_c6_at1_idx`(`c6_at1`) PRIMARY  KEY  (`c4_at1`),);CREATE TABLE `assoc2`(`c6_at1`c6_at1_typeNOT NULL`c3_at1`c3_at2_type KEY `FK_assoc2_c6_at1_idx`(`c6_at1`), KEY `FK_assoc2_c3_at1_idx`(`c3_at1`) PRIMARY  KEY  (`c6_at1`,`c3_at1`),);CREATE TABLE `assoc3`(`c4_at1`c4_at1_typeNOT NULL`c3_at1`c3_at2_type KEY `FK_assoc3_c4_at1_idx`(`c4_at1`) KEY `FK_assoc3_c3_at1_idx`(`c3_at1`) PRIMARY  KEY  (`c4_at1`,`c3_at1`),);CREATE TABLE `assoc4`(`c5_at1`c5_at1_typeNOT NULL`c3_at1`c3_at2_type KEY `FK_assoc4_c5_at1_idx`(`c5_at1`) KEY `FK_assoc4_c3_at1_idx`(`c3_at1`), PRIMARY  KEY  (`c5_at1`,`c3_at1`));CREATE TABLE `class8_name`(`c5_at1`c5_at1_type`c3_at1`c3_at2_type`c2_at1`c2_at1_type PRIMARY  KEY  (`c3_at1`),); ALTER TABLE `assoc5` ADD CONSTRAINT `FK_assoc5_c3_at1` FOREIGN  KEY  (`c3_at1`) REFERENCES `class3_name`(`c3_at1`) ON DELETE CASCADE ON UPDATE CASCADE  ADD CONSTRAINT `FK_assoc5_c1_at1` FOREIGN  KEY  (`c1_at1`) REFERENCES `class1_name`(`c1_at1`) ON DELETE CASCADE ON UPDATE CASCADE , ALTER TABLE `class4_name` ADD CONSTRAINT `FK_class4_name_c6_at1` FOREIGN  KEY  (`c6_at1`) REFERENCES `class6_name`(`c6_at1`) ON DELETE CASCADE ON UPDATE CASCADE , ALTER TABLE `assoc2` ADD CONSTRAINT `FK_assoc2_c6_at1` FOREIGN  KEY  (`c6_at1`) REFERENCES `class6_name`(`c6_at1`) ON DELETE CASCADE ON UPDATE CASCADE  ADD CONSTRAINT `FK_assoc2_c3_at1` FOREIGN  KEY  (`c3_at1`) REFERENCES `class3_name`(`c3_at1`) ON DELETE CASCADE ON UPDATE CASCADE , ALTER TABLE `assoc3` ADD CONSTRAINT `FK_assoc3_c4_at1` FOREIGN  KEY  (`c4_at1`) REFERENCES `class4_name`(`c4_at1`) ON DELETE CASCADE ON UPDATE CASCADE  ADD CONSTRAINT `FK_assoc3_c3_at1` FOREIGN  KEY  (`c3_at1`) REFERENCES `class3_name`(`c3_at1`) ON DELETE CASCADE ON UPDATE CASCADE , ALTER TABLE `assoc4` ADD CONSTRAINT `FK_assoc4_c5_at1` FOREIGN  KEY  (`c5_at1`) REFERENCES `class5_name`(`c5_at1`) ON DELETE CASCADE ON UPDATE CASCADE  ADD CONSTRAINT `FK_assoc4_c5_at1` FOREIGN  KEY  (`c5_at1`) REFERENCES `class5_name`(`c5_at1`) ON DELETE CASCADE ON UPDATE CASCADE ,', '[start] NP, module OM_name: 0 ,openDeclaration one sig class1_name extends ClassattrSet=c1_at1+c1_at2id=c1_at1noparentisAbstract=No} one sig c1_at1 extends c1_at1_type one sig c1_at2 extends c1_at2_type, one sig class2_name extends ClassattrSet=c2_at1 one parent  parentinclass5_nameid=c3_at1isAbstract=No} one sig c2_at1 extends c2_at1_type, one sig class3_name extends ClassattrSet=c3_at1+c3_at2+c3_at3+c3_at4+c3_at5id=c3_at1noparentisAbstract=No} one sig c3_at1 extends c3_at1_type one sig c3_at1 extends c3_at1_type one sig c3_at3 extends c3_at3_type one sig c3_at4 extends c3_at4_type one sig c3_at5 extends c3_at5_type, one sig class4_name extends ClassattrSet=c4_at1+c4_at2id=c4_at1noparentisAbstract=No} one sig c4_at1 extends c4_at1_type one sig c4_at2 extends c4_at2_type, one sig class5_name extends ClassattrSet=c5_at1+c3_at1id=c5_at1noparentisAbstract=No} one sig c5_at1 extends c5_at1_type, one sig class6_name extends ClassattrSet=c6_at1+c6_at2+c6_at3id=c6_at1noparentisAbstract=No} one sig c6_at1 extends c6_at1_type one sig c6_at2 extends c6_at2_type one sig c6_at3 extends c6_at3_type, one sig class7_name extends ClassattrSet=c7_at1 one parent  parentinclass5_nameid=c3_at1isAbstract=No} one sig c7_at1 extends c7_at1_type, one sig assoc1 extends  Association src=class6_namedst=class4_name, src_multiplicity =src_mlpc dst_multiplicity =dst_mlpc,} one sig assoc2 extends  Association src=class6_namedst=Customer src_multiplicity =src_mlpc dst_multiplicity =dst_mlpc,} one sig assoc3 extends  Association src=class3_namedst=class4_name, src_multiplicity =src_mlpc2 dst_multiplicity =dst_mlpc,} one sig assoc4 extends  Association src=class3_namedst=class5_name src_multiplicity =src_mlpc dst_multiplicity =dst_mlpc,} one sig CustomerLoanAssociation extends Association{}{src=class3_namedst=class1_name src_multiplicity =src_mlpc dst_multiplicity =dst_mlpc,} pred show run show \\u200b,Tableclass1_name:Attributec1_at1PrimaryKeyTableclass1_name:Attributec1_at2Tableclass2_name:Attributec2_at1PrimaryKeyTableclass3_name:Attributec3_at4Tableclass3_name:Attributec3_at5Tableclass3_name:Attributec3_at2Tableclass3_name:Attributec3_at2Tableclass4_name:Attributec4_at1PrimaryKeyTableclass4_name:Attributec4_at2Tableclass5_name:Attributec3_at1PrimaryKeyTableclass5_name:Attributec5_at1Tableclass6_name:Attributec6_at1PrimaryKeyTableclass6_name:Attributec6_at2Tableclass6_name:Attributec6_at3Tableclass7_name:Attributec7_at1Tableclass1_name:Attributec1_at1PrimaryKeyTableclass4_name:Attributec4_at1PrimaryKeyTableclass5_name:Attributec5_at1Tableclass6_name:Attributec6_at1PrimaryKeyTableName:class1_nameTableName:class2_nameTableName:class3_nameTableName:class4_nameTableName:class5_nameTableName:class6_nameTableName:class7_nameMappingStrategyforclass1_name:map_str2MappingStrategyforclass8_name:map_str2MappingStrategyforclass3_name:map_str2MappingStrategyforclass5_name:map_str2MappingStrategyforclass6_name:map_str2MappingStrategyforclass7_name:map_str2AssociationStrategyforassoc1:assoc_type1AssociationStrategyforassoc2:assoc_type2AssociationStrategyforassoc3:assoc_type2AssociationStrategyforassoc5:assoc_type2,USEOM_name_0CREATE TABLE `class5_name`(`c5_at1`c5_at1_typeNOT NULL`c3_at1`c3_at2_type PRIMARY  KEY  (`c5_at1`),);CREATE TABLE `class2_name`(`c7_at1`c7_at1_type`c5_at1`c5_at1_type`c3_at1`c3_at2_type PRIMARY  KEY  (`c3_at1`),);CREATE TABLE `class6_name`(`c6_at3`c6_at3_type(64)`c6_at2`c6_at2_type(64)`c6_at1`c6_at1_typeNOT NULL PRIMARY  KEY  (`c6_at1`),);CREATE TABLE `class1_name`(`c1_at2`c4_at2_type(64)`c1_at1`c1_at1_type PRIMARY  KEY  (`c1_at1`),);CREATE TABLE `class3_name`(`c3_at3`c3_at3_type(64)`c3_at2`c3_at2_type(64)`c3_at5`c3_at5_type`c3_at4`c3_at4_type`c3_at1`c3_at2_type PRIMARY  KEY  (`c3_at1`),);CREATE TABLE `assoc5`(`c3_at1`c3_at2_type`c1_at1`c1_at1_type KEY `FK_assoc5_c3_at1_idx`(`c3_at1`) KEY `FK_assoc5_c1_at1_idx`(`c1_at1`) PRIMARY  KEY  (`c3_at1`,`c1_at1`),);CREATE TABLE `class4_name`(`c4_at2`c4_at2_type(64)`c6_at1`c6_at1_type`c4_at1`c4_at1_typeNOT NULL KEY `FK_class4_name_c6_at1_idx`(`c6_at1`) PRIMARY  KEY  (`c4_at1`),);CREATE TABLE `assoc2`(`c6_at1`c6_at1_typeNOT NULL`c3_at1`c3_at2_type KEY `FK_assoc2_c6_at1_idx`(`c6_at1`), KEY `FK_assoc2_c3_at1_idx`(`c3_at1`) PRIMARY  KEY  (`c6_at1`,`c3_at1`),);CREATE TABLE `assoc3`(`c4_at1`c4_at1_typeNOT NULL`c3_at1`c3_at2_type KEY `FK_assoc3_c4_at1_idx`(`c4_at1`) KEY `FK_assoc3_c3_at1_idx`(`c3_at1`) PRIMARY  KEY  (`c4_at1`,`c3_at1`),);CREATE TABLE `assoc4`(`c5_at1`c5_at1_typeNOT NULL`c3_at1`c3_at2_type KEY `FK_assoc4_c5_at1_idx`(`c5_at1`) KEY `FK_assoc4_c3_at1_idx`(`c3_at1`), PRIMARY  KEY  (`c5_at1`,`c3_at1`));CREATE TABLE `class8_name`(`c5_at1`c5_at1_type`c3_at1`c3_at2_type`c2_at1`c2_at1_type PRIMARY  KEY  (`c3_at1`),); ALTER TABLE `assoc5` ADD CONSTRAINT `FK_assoc5_c3_at1` FOREIGN  KEY  (`c3_at1`) REFERENCES `class3_name`(`c3_at1`) ON DELETE CASCADE ON UPDATE CASCADE  ADD CONSTRAINT `FK_assoc5_c1_at1` FOREIGN  KEY  (`c1_at1`) REFERENCES `class1_name`(`c1_at1`) ON DELETE CASCADE ON UPDATE CASCADE , ALTER TABLE `class4_name` ADD CONSTRAINT `FK_class4_name_c6_at1` FOREIGN  KEY  (`c6_at1`) REFERENCES `class6_name`(`c6_at1`) ON DELETE CASCADE ON UPDATE CASCADE , ALTER TABLE `assoc2` ADD CONSTRAINT `FK_assoc2_c6_at1` FOREIGN  KEY  (`c6_at1`) REFERENCES `class6_name`(`c6_at1`) ON DELETE CASCADE ON UPDATE CASCADE  ADD CONSTRAINT `FK_assoc2_c3_at1` FOREIGN  KEY  (`c3_at1`) REFERENCES `class3_name`(`c3_at1`) ON DELETE CASCADE ON UPDATE CASCADE , ALTER TABLE `assoc3` ADD CONSTRAINT `FK_assoc3_c4_at1` FOREIGN  KEY  (`c4_at1`) REFERENCES `class4_name`(`c4_at1`) ON DELETE CASCADE ON UPDATE CASCADE  ADD CONSTRAINT `FK_assoc3_c3_at1` FOREIGN  KEY  (`c3_at1`) REFERENCES `class3_name`(`c3_at1`) ON DELETE CASCADE ON UPDATE CASCADE , ALTER TABLE `assoc4` ADD CONSTRAINT `FK_assoc4_c5_at1` FOREIGN  KEY  (`c5_at1`) REFERENCES `class5_name`(`c5_at1`) ON DELETE CASCADE ON UPDATE CASCADE  ADD CONSTRAINT `FK_assoc4_c5_at1` FOREIGN  KEY  (`c5_at1`) REFERENCES `class5_name`(`c5_at1`) ON DELETE CASCADE ON UPDATE CASCADE [end]')\n",
            "('module OM_name: 0 openDeclaration one sig class1_name extends ClassattrSet=c1_at1+c1_at2id=c1_at1noparentisAbstract=No} one sig c1_at1 extends c1_at1_type one sig c1_at2 extends c1_at2_type one sig class2_name extends ClassattrSet=c2_at1+c2_at2id=c2_at1noparentisAbstract=No} one sig c2_at1 extends c2_at1_type one sig c2_at2 extends c2_at2_type one sig class3_name extends ClassattrSet=c3_at1+c3_at2id=c3_at1noparentisAbstract=No} one sig c3_at1 extends c3_at1_type one sig c3_at2 extends c3_at2_type one sig class4_name extends ClassattrSet=c4_at1+c4_at2+c4_at3+c4_at4id=c4_at1noparentisAbstract=No} one sig c4_at1 extends c4_at1_type one sig c4_at2 extends c4_at2_type one sig c4_at3 extends c4_at3_type one sig c4_at4 extends c4_at4_type one sig class5_name extends ClassattrSet=c5_at1+c5_at2 one parent  parentinclass4_nameid=c4_at1isAbstract=No} one sig c5_at1 extends c5_at1_type one sig c5_at2 extends c5_at2_type one sig class6_name extends ClassattrSet=c6_at1+c6_at2+c6_at3id=c6_at1noparentisAbstract=No} one sig c6_at1 extends c6_at1_type one sig c6_at2 extends c6_at2_type one sig c6_at3 extends c6_at3_type one sig assoc1 extends  Association src=class6_namedst=class4_name src_multiplicity =src_mlpc2 dst_multiplicity =dst_mlpc} one sig assoc2 extends  Association src=class1_namedst=class5_name src_multiplicity =src_mlpc dst_multiplicity =dst_mlpc} one sig assoc3 extends  Association src=class4_namedst=class1_name src_multiplicity =src_mlpc dst_multiplicity =dst_mlpc} one sig assoc4 extends  Association src=class3_namedst=class1_name src_multiplicity =src_mlpc dst_multiplicity =dst_mlpc} pred show run show for30\\u200b,OM_name_Solution:0Table:class1_nameAttributec1_at1:c1_at1_typePrimaryKeyTable:class1_nameAttributec1_at2:c1_at2_typeTable:class2_nameAttributec2_at1:c1_at1_typePrimaryKeyTable:class2_nameAttributec2_at2:c2_at2_typeTable:class3_nameAttributec3_at1:c3_at1_typePrimaryKeyTable:class3_nameAttributec3_at2:c3_at2_typeTable:class4_nameAttributec4_at1:c4_at1_typePrimaryKeyTable:class4_nameAttributec4_at2:c4_at2_typeTable:class4_nameAttributec4_at3:c4_at3_typeTable:class4_nameAttributec4_at4:c4_at4_typeTable:class5_nameAttributec5_at1:c5_at1_typePrimaryKeyTable:class5_nameAttributec5_at2:c5_at2_typeTable:class6_nameAttributec6_at1:c6_at1_typePrimaryKeyTable:class6_nameAttributec6_at2:c6_at2_typeTableName:class6_nameTable:class1_nameAttributec1_at1:c1_at1_typePrimaryKeyTable:class2_nameAttributec2_at1:c1_at1_typePrimaryKeyTable:class3_nameAttributec3_at1:c3_at1_typePrimaryKeyTable:class4_nameAttributec4_at1:c4_at1_typePrimaryKeyTable:class6_nameAttributec6_at1:c6_at1_typePrimaryKeyTableName:class1_nameTableName:class2_nameTableName:class3_nameTableName:class4_nameTableName:class5_nameTableName:class6_name Mapping Strategy of Tableclass2_name:map_str2 Mapping Strategy of Tableclass3_name:map_str2 Mapping Strategy of Tableclass6_name:map_str2 Mapping Strategy of Tableclass4_name:map_str1 Mapping Strategy of Tableclass5_name:map_str1AssociationStrategyforassoc4:assoc_type1AssociationStrategyforassoc1:assoc_type2AssociationStrategyforassoc2:assoc_type2AssociationStrategyforassoc3:assoc_type2,USEOM_name_0CREATE TABLE `assoc1`(`c6_at1`c6_at1_typeNOT NULL,`c4_at1`c4_at1_typeNOT NULL, KEY `FK_assoc1_c6_at1_idx`(`c6_at1`),FK_assoc1_c4_at1_idx`(`c4_at1`), PRIMARY  KEY  (`c6_at1`,`c4_at1`));CREATE TABLE `class3_name`(`c3_at2`c3_at2_type(64)`c3_at1`c3_at1_typeNOT NULL, PRIMARY  KEY  (`c3_at1`));CREATE TABLE `class2_name`(`c2_at2`c2_at2_type(64),`c2_at1`c2_at1_typeNOT NULL, PRIMARY  KEY  (`c2_at1`));CREATE TABLE `assoc3`(`c4_at1`c4_at1_typeNOT NULL,`c1_at1`c1_at1_typeNOT NULL, KEY `FK_assoc3_c4_at1_idx`(`c4_at1`), KEY `FK_assoc3_c1_at1_idx`(`c1_at1`), PRIMARY  KEY  (`c4_at1`,`c1_at1`));CREATE TABLE `class6_name`(`c6_at3`c6_at3_type,`c6_at2`c6_at2_type,`c6_at1`c6_at1_typeNOT NULL, PRIMARY  KEY  (`c6_at1`));CREATE TABLE `class1_name`(`c3_at1`c3_at1_type,`c1_at2`c1_at2_type,`c1_at1`c1_at1_typeNOT NULL, KEY `FK_class1_name_c3_at1_idx`(`c3_at1`), PRIMARY  KEY  (`c1_at1`));CREATE TABLE `assoc2`(`c6_at1`c6_at1_typeNOT NULL,`c2_at1`c2_at1_typeNOT NULL, KEY `FK_assoc2_c6_at1_idx`(`c6_at1`), KEY `FK_assoc2_c2_at1_idx`(`c2_at1`), PRIMARY  KEY  (`c6_at1`,`c2_at1`));CREATE TABLE `class4_name`(`c4_at5`c4_at5_type(64),`c4_at2`c4_at2_type(64),`c5_at2`c5_at2_type,`c5_at1`c5_at1_type,`c4_at4`c4_at4_type,`c4_at3`c4_at3_type,`c4_at1`c4_at1_typeNOT NULL, PRIMARY  KEY  (`c4_at1`)); ALTER TABLE `assoc1` ADD CONSTRAINT `FK_assoc1_c6_at1` FOREIGN  KEY  (`c6_at1`) REFERENCES `class6_name`(`c6_at1`) ON DELETE CASCADE ON UPDATE CASCADE , ADD CONSTRAINT `FK_assoc1_c4_at1` FOREIGN  KEY  (`c4_at1`) REFERENCES `class4_name`(`c4_at1`) ON DELETE CASCADE ON UPDATE CASCADE ; ALTER TABLE `assoc3` ADD CONSTRAINT `FK_assoc3_c4_at1` FOREIGN  KEY  (`c4_at1`) REFERENCES `class4_name`(`c4_at1`) ON DELETE CASCADE ON UPDATE CASCADE , ADD CONSTRAINT `FK_assoc3_c1_at1` FOREIGN  KEY  (`c1_at1`) REFERENCES `class1_name`(`c1_at1`) ON DELETE CASCADE ON UPDATE CASCADE ; ALTER TABLE `class1_name` ADD CONSTRAINT `FK_class1_name_c3_at1` FOREIGN  KEY  (`c3_at1`) REFERENCES `class3_name`(`c3_at1`) ON DELETE CASCADE ON UPDATE CASCADE ; ALTER TABLE `assoc2` ADD CONSTRAINT `FK_assoc2_c6_at1` FOREIGN  KEY  (`c6_at1`) REFERENCES `class6_name`(`c6_at1`) ON DELETE CASCADE ON UPDATE CASCADE , ADD CONSTRAINT `FK_assoc2_c2_at1` FOREIGN  KEY  (`c2_at1`) REFERENCES `class2_name`(`c2_at1`) ON DELETE CASCADE ON UPDATE CASCADE ', '[start] NP, module OM_name: 0 openDeclaration one sig class1_name extends ClassattrSet=c1_at1+c1_at2id=c1_at1noparentisAbstract=No} one sig c1_at1 extends c1_at1_type one sig c1_at2 extends c1_at2_type one sig class2_name extends ClassattrSet=c2_at1+c2_at2id=c2_at1noparentisAbstract=No} one sig c2_at1 extends c2_at1_type one sig c2_at2 extends c2_at2_type one sig class3_name extends ClassattrSet=c3_at1+c3_at2id=c3_at1noparentisAbstract=No} one sig c3_at1 extends c3_at1_type one sig c3_at2 extends c3_at2_type one sig class4_name extends ClassattrSet=c4_at1+c4_at2+c4_at3+c4_at4id=c4_at1noparentisAbstract=No} one sig c4_at1 extends c4_at1_type one sig c4_at2 extends c4_at2_type one sig c4_at3 extends c4_at3_type one sig c4_at4 extends c4_at4_type one sig class5_name extends ClassattrSet=c5_at1+c5_at2 one parent  parentinclass4_nameid=c4_at1isAbstract=No} one sig c5_at1 extends c5_at1_type one sig c5_at2 extends c5_at2_type one sig class6_name extends ClassattrSet=c6_at1+c6_at2+c6_at3id=c6_at1noparentisAbstract=No} one sig c6_at1 extends c6_at1_type one sig c6_at2 extends c6_at2_type one sig c6_at3 extends c6_at3_type one sig assoc1 extends  Association src=class6_namedst=class4_name src_multiplicity =src_mlpc2 dst_multiplicity =dst_mlpc} one sig assoc2 extends  Association src=class1_namedst=class5_name src_multiplicity =src_mlpc dst_multiplicity =dst_mlpc} one sig assoc3 extends  Association src=class4_namedst=class1_name src_multiplicity =src_mlpc dst_multiplicity =dst_mlpc} one sig assoc4 extends  Association src=class3_namedst=class1_name src_multiplicity =src_mlpc dst_multiplicity =dst_mlpc} pred show run show for30\\u200b,OM_name_Solution:0Table:class1_nameAttributec1_at1:c1_at1_typePrimaryKeyTable:class1_nameAttributec1_at2:c1_at2_typeTable:class2_nameAttributec2_at1:c1_at1_typePrimaryKeyTable:class2_nameAttributec2_at2:c2_at2_typeTable:class3_nameAttributec3_at1:c3_at1_typePrimaryKeyTable:class3_nameAttributec3_at2:c3_at2_typeTable:class4_nameAttributec4_at1:c4_at1_typePrimaryKeyTable:class4_nameAttributec4_at2:c4_at2_typeTable:class4_nameAttributec4_at3:c4_at3_typeTable:class4_nameAttributec4_at4:c4_at4_typeTable:class5_nameAttributec5_at1:c5_at1_typePrimaryKeyTable:class5_nameAttributec5_at2:c5_at2_typeTable:class6_nameAttributec6_at1:c6_at1_typePrimaryKeyTable:class6_nameAttributec6_at2:c6_at2_typeTableName:class6_nameTable:class1_nameAttributec1_at1:c1_at1_typePrimaryKeyTable:class2_nameAttributec2_at1:c1_at1_typePrimaryKeyTable:class3_nameAttributec3_at1:c3_at1_typePrimaryKeyTable:class4_nameAttributec4_at1:c4_at1_typePrimaryKeyTable:class6_nameAttributec6_at1:c6_at1_typePrimaryKeyTableName:class1_nameTableName:class2_nameTableName:class3_nameTableName:class4_nameTableName:class5_nameTableName:class6_name Mapping Strategy of Tableclass2_name:map_str2 Mapping Strategy of Tableclass3_name:map_str2 Mapping Strategy of Tableclass6_name:map_str2 Mapping Strategy of Tableclass4_name:map_str1 Mapping Strategy of Tableclass5_name:map_str1AssociationStrategyforassoc4:assoc_type1AssociationStrategyforassoc1:assoc_type2AssociationStrategyforassoc2:assoc_type2AssociationStrategyforassoc3:assoc_type2,USEOM_name_0CREATE TABLE `assoc1`(`c6_at1`c6_at1_typeNOT NULL,`c4_at1`c4_at1_typeNOT NULL, KEY `FK_assoc1_c6_at1_idx`(`c6_at1`),FK_assoc1_c4_at1_idx`(`c4_at1`), PRIMARY  KEY  (`c6_at1`,`c4_at1`));CREATE TABLE `class3_name`(`c3_at2`c3_at2_type(64)`c3_at1`c3_at1_typeNOT NULL, PRIMARY  KEY  (`c3_at1`));CREATE TABLE `class2_name`(`c2_at2`c2_at2_type(64),`c2_at1`c2_at1_typeNOT NULL, PRIMARY  KEY  (`c2_at1`));CREATE TABLE `assoc3`(`c4_at1`c4_at1_typeNOT NULL,`c1_at1`c1_at1_typeNOT NULL, KEY `FK_assoc3_c4_at1_idx`(`c4_at1`), KEY `FK_assoc3_c1_at1_idx`(`c1_at1`), PRIMARY  KEY  (`c4_at1`,`c1_at1`));CREATE TABLE `class6_name`(`c6_at3`c6_at3_type,`c6_at2`c6_at2_type,`c6_at1`c6_at1_typeNOT NULL, PRIMARY  KEY  (`c6_at1`));CREATE TABLE `class1_name`(`c3_at1`c3_at1_type,`c1_at2`c1_at2_type,`c1_at1`c1_at1_typeNOT NULL, KEY `FK_class1_name_c3_at1_idx`(`c3_at1`), PRIMARY  KEY  (`c1_at1`));CREATE TABLE `assoc2`(`c6_at1`c6_at1_typeNOT NULL,`c2_at1`c2_at1_typeNOT NULL, KEY `FK_assoc2_c6_at1_idx`(`c6_at1`), KEY `FK_assoc2_c2_at1_idx`(`c2_at1`), PRIMARY  KEY  (`c6_at1`,`c2_at1`));CREATE TABLE `class4_name`(`c4_at5`c4_at5_type(64),`c4_at2`c4_at2_type(64),`c5_at2`c5_at2_type,`c5_at1`c5_at1_type,`c4_at4`c4_at4_type,`c4_at3`c4_at3_type,`c4_at1`c4_at1_typeNOT NULL, PRIMARY  KEY  (`c4_at1`)); ALTER TABLE `assoc1` ADD CONSTRAINT `FK_assoc1_c6_at1` FOREIGN  KEY  (`c6_at1`) REFERENCES `class6_name`(`c6_at1`) ON DELETE CASCADE ON UPDATE CASCADE , ADD CONSTRAINT `FK_assoc1_c4_at1` FOREIGN  KEY  (`c4_at1`) REFERENCES `class4_name`(`c4_at1`) ON DELETE CASCADE ON UPDATE CASCADE ; ALTER TABLE `assoc3` ADD CONSTRAINT `FK_assoc3_c4_at1` FOREIGN  KEY  (`c4_at1`) REFERENCES `class4_name`(`c4_at1`) ON DELETE CASCADE ON UPDATE CASCADE , ADD CONSTRAINT `FK_assoc3_c1_at1` FOREIGN  KEY  (`c1_at1`) REFERENCES `class1_name`(`c1_at1`) ON DELETE CASCADE ON UPDATE CASCADE ; ALTER TABLE `class1_name` ADD CONSTRAINT `FK_class1_name_c3_at1` FOREIGN  KEY  (`c3_at1`) REFERENCES `class3_name`(`c3_at1`) ON DELETE CASCADE ON UPDATE CASCADE ; ALTER TABLE `assoc2` ADD CONSTRAINT `FK_assoc2_c6_at1` FOREIGN  KEY  (`c6_at1`) REFERENCES `class6_name`(`c6_at1`) ON DELETE CASCADE ON UPDATE CASCADE , ADD CONSTRAINT `FK_assoc2_c2_at1` FOREIGN  KEY  (`c2_at1`) REFERENCES `class2_name`(`c2_at1`) ON DELETE CASCADE ON UPDATE CASCADE [end]')\n",
            "('module OM_name: 0 ,openDeclaration one sig class1_name extends ClassattrSet=c1_at1+c1_at2id=c1_at1noparentisAbstract=No} one sig c1_at1 extends c1_at1_type one sig c1_at2 extends c1_at2_type, one sig class2_name extends ClassattrSet=c2_at1 one parent  parentinclass5_nameid=c3_at1isAbstract=No} one sig c2_at1 extends c2_at1_type, one sig class3_name extends ClassattrSet=c3_at1+c3_at2+c3_at3+c3_at4+c3_at5id=c3_at1noparentisAbstract=No} one sig c3_at1 extends c3_at1_type one sig c3_at1 extends c3_at1_type one sig c3_at3 extends c3_at3_type one sig c3_at4 extends c3_at4_type one sig c3_at5 extends c3_at5_type, one sig class4_name extends ClassattrSet=c4_at1+c4_at2id=c4_at1noparentisAbstract=No} one sig c4_at1 extends c4_at1_type one sig c4_at2 extends c4_at2_type, one sig class5_name extends ClassattrSet=c5_at1+c3_at1id=c5_at1noparentisAbstract=No} one sig c5_at1 extends c5_at1_type, one sig class6_name extends ClassattrSet=c6_at1+c6_at2+c6_at3id=c6_at1noparentisAbstract=No} one sig c6_at1 extends c6_at1_type one sig c6_at2 extends c6_at2_type one sig c6_at3 extends c6_at3_type, one sig class7_name extends ClassattrSet=c7_at1 one parent  parentinclass5_nameid=c3_at1isAbstract=No} one sig c7_at1 extends c7_at1_type, one sig assoc1 extends  Association src=class6_namedst=class4_name, src_multiplicity =src_mlpc dst_multiplicity =dst_mlpc,} one sig assoc2 extends  Association src=class6_namedst=Customer src_multiplicity =src_mlpc dst_multiplicity =dst_mlpc,} one sig assoc3 extends  Association src=class3_namedst=class4_name, src_multiplicity =src_mlpc2 dst_multiplicity =dst_mlpc,} one sig assoc4 extends  Association src=class3_namedst=class5_name src_multiplicity =src_mlpc dst_multiplicity =dst_mlpc,} one sig CustomerLoanAssociation extends Association{}{src=class3_namedst=class1_name src_multiplicity =src_mlpc dst_multiplicity =dst_mlpc,} pred show run show \\u200b,Tableclass1_name:Attributec1_at1PrimaryKeyTableclass1_name:Attributec1_at2Tableclass2_name:Attributec2_at1PrimaryKeyTableclass3_name:Attributec3_at4Tableclass3_name:Attributec3_at5Tableclass3_name:Attributec3_at2Tableclass3_name:Attributec3_at2Tableclass4_name:Attributec4_at1PrimaryKeyTableclass4_name:Attributec4_at2Tableclass5_name:Attributec3_at1PrimaryKeyTableclass5_name:Attributec5_at1Tableclass6_name:Attributec6_at1PrimaryKeyTableclass6_name:Attributec6_at2Tableclass6_name:Attributec6_at3Tableclass7_name:Attributec7_at1Tableclass1_name:Attributec1_at1PrimaryKeyTableclass4_name:Attributec4_at1PrimaryKeyTableclass5_name:Attributec5_at1Tableclass6_name:Attributec6_at1PrimaryKeyTableName:class1_nameTableName:class2_nameTableName:class3_nameTableName:class4_nameTableName:class5_nameTableName:class6_nameTableName:class7_nameMappingStrategyforclass8_name:map_str2MappingStrategyforclass3_name:map_str2MappingStrategyforclass6_name:map_str2MappingStrategyforclass7_name:map_str2AssociationStrategyforassoc1:assoc_type1AssociationStrategyforassoc5:assoc_type1AssociationStrategyforassoc2:assoc_type2AssociationStrategyforassoc3:assoc_type2Tableclass1_name:Attributec1_at1PrimaryKeyTableclass1_name:Attributec1_at2Tableclass2_name:Attributec2_at1PrimaryKeyTableclass3_name:Attributec3_at4Tableclass3_name:Attributec3_at5Tableclass3_name:Attributec3_at2Tableclass3_name:Attributec3_at2Tableclass4_name:Attributec4_at1PrimaryKeyTableclass4_name:Attributec4_at2Tableclass5_name:Attributec3_at1PrimaryKeyTableclass5_name:Attributec5_at1Tableclass6_name:Attributec6_at1PrimaryKeyTableclass6_name:Attributec6_at2Tableclass6_name:Attributec6_at3Tableclass7_name:Attributec7_at1Tableclass1_name:Attributec1_at1PrimaryKeyTableclass4_name:Attributec4_at1PrimaryKeyTableclass5_name:Attributec5_at1Tableclass6_name:Attributec6_at1PrimaryKeyTableName:class1_nameTableName:class2_nameTableName:class3_nameTableName:class4_nameTableName:class5_nameTableName:class6_nameTableName:class7_nameMappingStrategyforclass8_name:map_str2MappingStrategyforclass3_name:map_str2MappingStrategyforclass6_name:map_str2MappingStrategyforclass7_name:map_str2AssociationStrategyforassoc1:assoc_type1AssociationStrategyforassoc5:assoc_type1AssociationStrategyforassoc2:assoc_type2AssociationStrategyforassoc3:assoc_type2,USEOM_name_0CREATE TABLE `class5_name`(`c5_at1`c5_at1_typeNOT NULL PRIMARY  KEY  (`c5_at1`),);CREATE TABLE `class2_name`(`c7_at1`c7_at1_type`c5_at1`c5_at1_type`c3_at1`c3_at2_type PRIMARY  KEY  (`c3_at1`),);CREATE TABLE `class6_name`(`c6_at3`c6_at3_type(64)`c6_at2`c6_at2_type(64)`c6_at1`c6_at1_typeNOT NULL PRIMARY  KEY  (`c6_at1`),);CREATE TABLE `class1_name`(`c1_at2`c4_at2_type(64)`c3_at1`c3_at2_type`c1_at1`c1_at1_type KEY `FK_class1_name_c3_at1_idx`(`c3_at1`), PRIMARY  KEY  (`c1_at1`),);CREATE TABLE `class3_name`(`c3_at3`c3_at3_type(64)`c3_at2`c3_at2_type(64)`c3_at5`c3_at5_type`c3_at4`c3_at4_type`c3_at1`c3_at2_type PRIMARY  KEY  (`c3_at1`),);CREATE TABLE `class4_name`(`c4_at2`c4_at2_type(64)`c4_at1`c4_at1_typeNOT NULL PRIMARY  KEY  (`c4_at1`),);CREATE TABLE `assoc2`(`c6_at1`c6_at1_typeNOT NULL`c3_at1`c3_at2_type KEY `FK_assoc2_c6_at1_idx`(`c6_at1`), KEY `FK_assoc2_c3_at1_idx`(`c3_at1`) PRIMARY  KEY  (`c6_at1`,`c3_at1`),);CREATE TABLE `assoc3`(`c4_at1`c4_at1_typeNOT NULL`c3_at1`c3_at2_type KEY `FK_assoc3_c4_at1_idx`(`c4_at1`) KEY `FK_assoc3_c3_at1_idx`(`c3_at1`) PRIMARY  KEY  (`c4_at1`,`c3_at1`),);CREATE TABLE `assoc4`(`c5_at1`c5_at1_typeNOT NULL`c3_at1`c3_at2_type KEY `FK_assoc4_c5_at1_idx`(`c5_at1`) KEY `FK_assoc4_c3_at1_idx`(`c3_at1`), PRIMARY  KEY  (`c5_at1`,`c3_at1`));CREATE TABLE `assoc1`(`c6_at1`c6_at1_typeNOT NULL`c4_at1`c4_at1_typeNOT NULL KEY `FK_assoc1_c6_at1_idx`(`c6_at1`), KEY `FK_assoc1_c4_at1_idx`(`c4_at1`) PRIMARY  KEY  (`c6_at1`,`c4_at1`),);CREATE TABLE `class8_name`(`c5_at1`c5_at1_type`c3_at1`c3_at2_type`c2_at1`c2_at1_type PRIMARY  KEY  (`c3_at1`),); ALTER TABLE `class1_name` ADD CONSTRAINT `FK_class1_name_c3_at1` FOREIGN  KEY  (`c3_at1`) REFERENCES `class3_name`(`c3_at1`) ON DELETE CASCADE ON UPDATE CASCADE , ALTER TABLE `assoc2` ADD CONSTRAINT `FK_assoc2_c6_at1` FOREIGN  KEY  (`c6_at1`) REFERENCES `class6_name`(`c6_at1`) ON DELETE CASCADE ON UPDATE CASCADE  ADD CONSTRAINT `FK_assoc2_c3_at1` FOREIGN  KEY  (`c3_at1`) REFERENCES `class3_name`(`c3_at1`) ON DELETE CASCADE ON UPDATE CASCADE , ALTER TABLE `assoc3` ADD CONSTRAINT `FK_assoc3_c4_at1` FOREIGN  KEY  (`c4_at1`) REFERENCES `class4_name`(`c4_at1`) ON DELETE CASCADE ON UPDATE CASCADE  ADD CONSTRAINT `FK_assoc3_c3_at1` FOREIGN  KEY  (`c3_at1`) REFERENCES `class3_name`(`c3_at1`) ON DELETE CASCADE ON UPDATE CASCADE , ALTER TABLE `assoc4` ADD CONSTRAINT `FK_assoc4_c5_at1` FOREIGN  KEY  (`c5_at1`) REFERENCES `class5_name`(`c5_at1`) ON DELETE CASCADE ON UPDATE CASCADE  ADD CONSTRAINT `FK_assoc4_c5_at1` FOREIGN  KEY  (`c5_at1`) REFERENCES `class5_name`(`c5_at1`) ON DELETE CASCADE ON UPDATE CASCADE , ALTER TABLE `assoc1` ADD CONSTRAINT `FK_assoc1_c6_at1` FOREIGN  KEY  (`c6_at1`) REFERENCES `class6_name`(`c6_at1`) ON DELETE CASCADE ON UPDATE CASCADE  ADD CONSTRAINT `FK_assoc1_c4_at1` FOREIGN  KEY  (`c4_at1`) REFERENCES `class4_name`(`c4_at1`) ON DELETE CASCADE ON UPDATE CASCADE ,', '[start] P, module OM_name: 0 ,openDeclaration one sig class1_name extends ClassattrSet=c1_at1+c1_at2id=c1_at1noparentisAbstract=No} one sig c1_at1 extends c1_at1_type one sig c1_at2 extends c1_at2_type, one sig class2_name extends ClassattrSet=c2_at1 one parent  parentinclass5_nameid=c3_at1isAbstract=No} one sig c2_at1 extends c2_at1_type, one sig class3_name extends ClassattrSet=c3_at1+c3_at2+c3_at3+c3_at4+c3_at5id=c3_at1noparentisAbstract=No} one sig c3_at1 extends c3_at1_type one sig c3_at1 extends c3_at1_type one sig c3_at3 extends c3_at3_type one sig c3_at4 extends c3_at4_type one sig c3_at5 extends c3_at5_type, one sig class4_name extends ClassattrSet=c4_at1+c4_at2id=c4_at1noparentisAbstract=No} one sig c4_at1 extends c4_at1_type one sig c4_at2 extends c4_at2_type, one sig class5_name extends ClassattrSet=c5_at1+c3_at1id=c5_at1noparentisAbstract=No} one sig c5_at1 extends c5_at1_type, one sig class6_name extends ClassattrSet=c6_at1+c6_at2+c6_at3id=c6_at1noparentisAbstract=No} one sig c6_at1 extends c6_at1_type one sig c6_at2 extends c6_at2_type one sig c6_at3 extends c6_at3_type, one sig class7_name extends ClassattrSet=c7_at1 one parent  parentinclass5_nameid=c3_at1isAbstract=No} one sig c7_at1 extends c7_at1_type, one sig assoc1 extends  Association src=class6_namedst=class4_name, src_multiplicity =src_mlpc dst_multiplicity =dst_mlpc,} one sig assoc2 extends  Association src=class6_namedst=Customer src_multiplicity =src_mlpc dst_multiplicity =dst_mlpc,} one sig assoc3 extends  Association src=class3_namedst=class4_name, src_multiplicity =src_mlpc2 dst_multiplicity =dst_mlpc,} one sig assoc4 extends  Association src=class3_namedst=class5_name src_multiplicity =src_mlpc dst_multiplicity =dst_mlpc,} one sig CustomerLoanAssociation extends Association{}{src=class3_namedst=class1_name src_multiplicity =src_mlpc dst_multiplicity =dst_mlpc,} pred show run show \\u200b,Tableclass1_name:Attributec1_at1PrimaryKeyTableclass1_name:Attributec1_at2Tableclass2_name:Attributec2_at1PrimaryKeyTableclass3_name:Attributec3_at4Tableclass3_name:Attributec3_at5Tableclass3_name:Attributec3_at2Tableclass3_name:Attributec3_at2Tableclass4_name:Attributec4_at1PrimaryKeyTableclass4_name:Attributec4_at2Tableclass5_name:Attributec3_at1PrimaryKeyTableclass5_name:Attributec5_at1Tableclass6_name:Attributec6_at1PrimaryKeyTableclass6_name:Attributec6_at2Tableclass6_name:Attributec6_at3Tableclass7_name:Attributec7_at1Tableclass1_name:Attributec1_at1PrimaryKeyTableclass4_name:Attributec4_at1PrimaryKeyTableclass5_name:Attributec5_at1Tableclass6_name:Attributec6_at1PrimaryKeyTableName:class1_nameTableName:class2_nameTableName:class3_nameTableName:class4_nameTableName:class5_nameTableName:class6_nameTableName:class7_nameMappingStrategyforclass8_name:map_str2MappingStrategyforclass3_name:map_str2MappingStrategyforclass6_name:map_str2MappingStrategyforclass7_name:map_str2AssociationStrategyforassoc1:assoc_type1AssociationStrategyforassoc5:assoc_type1AssociationStrategyforassoc2:assoc_type2AssociationStrategyforassoc3:assoc_type2Tableclass1_name:Attributec1_at1PrimaryKeyTableclass1_name:Attributec1_at2Tableclass2_name:Attributec2_at1PrimaryKeyTableclass3_name:Attributec3_at4Tableclass3_name:Attributec3_at5Tableclass3_name:Attributec3_at2Tableclass3_name:Attributec3_at2Tableclass4_name:Attributec4_at1PrimaryKeyTableclass4_name:Attributec4_at2Tableclass5_name:Attributec3_at1PrimaryKeyTableclass5_name:Attributec5_at1Tableclass6_name:Attributec6_at1PrimaryKeyTableclass6_name:Attributec6_at2Tableclass6_name:Attributec6_at3Tableclass7_name:Attributec7_at1Tableclass1_name:Attributec1_at1PrimaryKeyTableclass4_name:Attributec4_at1PrimaryKeyTableclass5_name:Attributec5_at1Tableclass6_name:Attributec6_at1PrimaryKeyTableName:class1_nameTableName:class2_nameTableName:class3_nameTableName:class4_nameTableName:class5_nameTableName:class6_nameTableName:class7_nameMappingStrategyforclass8_name:map_str2MappingStrategyforclass3_name:map_str2MappingStrategyforclass6_name:map_str2MappingStrategyforclass7_name:map_str2AssociationStrategyforassoc1:assoc_type1AssociationStrategyforassoc5:assoc_type1AssociationStrategyforassoc2:assoc_type2AssociationStrategyforassoc3:assoc_type2,USEOM_name_0CREATE TABLE `class5_name`(`c5_at1`c5_at1_typeNOT NULL PRIMARY  KEY  (`c5_at1`),);CREATE TABLE `class2_name`(`c7_at1`c7_at1_type`c5_at1`c5_at1_type`c3_at1`c3_at2_type PRIMARY  KEY  (`c3_at1`),);CREATE TABLE `class6_name`(`c6_at3`c6_at3_type(64)`c6_at2`c6_at2_type(64)`c6_at1`c6_at1_typeNOT NULL PRIMARY  KEY  (`c6_at1`),);CREATE TABLE `class1_name`(`c1_at2`c4_at2_type(64)`c3_at1`c3_at2_type`c1_at1`c1_at1_type KEY `FK_class1_name_c3_at1_idx`(`c3_at1`), PRIMARY  KEY  (`c1_at1`),);CREATE TABLE `class3_name`(`c3_at3`c3_at3_type(64)`c3_at2`c3_at2_type(64)`c3_at5`c3_at5_type`c3_at4`c3_at4_type`c3_at1`c3_at2_type PRIMARY  KEY  (`c3_at1`),);CREATE TABLE `class4_name`(`c4_at2`c4_at2_type(64)`c4_at1`c4_at1_typeNOT NULL PRIMARY  KEY  (`c4_at1`),);CREATE TABLE `assoc2`(`c6_at1`c6_at1_typeNOT NULL`c3_at1`c3_at2_type KEY `FK_assoc2_c6_at1_idx`(`c6_at1`), KEY `FK_assoc2_c3_at1_idx`(`c3_at1`) PRIMARY  KEY  (`c6_at1`,`c3_at1`),);CREATE TABLE `assoc3`(`c4_at1`c4_at1_typeNOT NULL`c3_at1`c3_at2_type KEY `FK_assoc3_c4_at1_idx`(`c4_at1`) KEY `FK_assoc3_c3_at1_idx`(`c3_at1`) PRIMARY  KEY  (`c4_at1`,`c3_at1`),);CREATE TABLE `assoc4`(`c5_at1`c5_at1_typeNOT NULL`c3_at1`c3_at2_type KEY `FK_assoc4_c5_at1_idx`(`c5_at1`) KEY `FK_assoc4_c3_at1_idx`(`c3_at1`), PRIMARY  KEY  (`c5_at1`,`c3_at1`));CREATE TABLE `assoc1`(`c6_at1`c6_at1_typeNOT NULL`c4_at1`c4_at1_typeNOT NULL KEY `FK_assoc1_c6_at1_idx`(`c6_at1`), KEY `FK_assoc1_c4_at1_idx`(`c4_at1`) PRIMARY  KEY  (`c6_at1`,`c4_at1`),);CREATE TABLE `class8_name`(`c5_at1`c5_at1_type`c3_at1`c3_at2_type`c2_at1`c2_at1_type PRIMARY  KEY  (`c3_at1`),); ALTER TABLE `class1_name` ADD CONSTRAINT `FK_class1_name_c3_at1` FOREIGN  KEY  (`c3_at1`) REFERENCES `class3_name`(`c3_at1`) ON DELETE CASCADE ON UPDATE CASCADE , ALTER TABLE `assoc2` ADD CONSTRAINT `FK_assoc2_c6_at1` FOREIGN  KEY  (`c6_at1`) REFERENCES `class6_name`(`c6_at1`) ON DELETE CASCADE ON UPDATE CASCADE  ADD CONSTRAINT `FK_assoc2_c3_at1` FOREIGN  KEY  (`c3_at1`) REFERENCES `class3_name`(`c3_at1`) ON DELETE CASCADE ON UPDATE CASCADE , ALTER TABLE `assoc3` ADD CONSTRAINT `FK_assoc3_c4_at1` FOREIGN  KEY  (`c4_at1`) REFERENCES `class4_name`(`c4_at1`) ON DELETE CASCADE ON UPDATE CASCADE  ADD CONSTRAINT `FK_assoc3_c3_at1` FOREIGN  KEY  (`c3_at1`) REFERENCES `class3_name`(`c3_at1`) ON DELETE CASCADE ON UPDATE CASCADE , ALTER TABLE `assoc4` ADD CONSTRAINT `FK_assoc4_c5_at1` FOREIGN  KEY  (`c5_at1`) REFERENCES `class5_name`(`c5_at1`) ON DELETE CASCADE ON UPDATE CASCADE  ADD CONSTRAINT `FK_assoc4_c5_at1` FOREIGN  KEY  (`c5_at1`) REFERENCES `class5_name`(`c5_at1`) ON DELETE CASCADE ON UPDATE CASCADE , ALTER TABLE `assoc1` ADD CONSTRAINT `FK_assoc1_c6_at1` FOREIGN  KEY  (`c6_at1`) REFERENCES `class6_name`(`c6_at1`) ON DELETE CASCADE ON UPDATE CASCADE  ADD CONSTRAINT `FK_assoc1_c4_at1` FOREIGN  KEY  (`c4_at1`) REFERENCES `class4_name`(`c4_at1`) ON DELETE CASCADE ON UPDATE CASCADE [end]')\n",
            "('module OM_name: 0 openDeclaration one sig class1_name extends ClassattrSet=c1_at1+c1_at2id=c1_at1noparentisAbstract=No} one sig c1_at1 extends c1_at1_type one sig c1_at2 extends c1_at2_type one sig class2_name extends ClassattrSet=c2_at1+c2_at2id=c2_at1noparentisAbstract=No} one sig c2_at1 extends c2_at1_type one sig c2_at2 extends c2_at2_type one sig class3_name extends ClassattrSet=c3_at1+c3_at2id=c3_at1noparentisAbstract=No} one sig c3_at1 extends c3_at1_type one sig c3_at2 extends c3_at2_type one sig class4_name extends ClassattrSet=c4_at1+c4_at2+c4_at3+c4_at4id=c4_at1noparentisAbstract=No} one sig c4_at1 extends c4_at1_type one sig c4_at2 extends c4_at2_type one sig c4_at3 extends c4_at3_type one sig c4_at4 extends c4_at4_type one sig class5_name extends ClassattrSet=c5_at1+c5_at2 one parent  parentinclass4_nameid=c4_at1isAbstract=No} one sig c5_at1 extends c5_at1_type one sig c5_at2 extends c5_at2_type one sig class6_name extends ClassattrSet=c6_at1+c6_at2+c6_at3id=c6_at1noparentisAbstract=No} one sig c6_at1 extends c6_at1_type one sig c6_at2 extends c6_at2_type one sig c6_at3 extends c6_at3_type one sig assoc1 extends  Association src=class6_namedst=class4_name src_multiplicity =src_mlpc2 dst_multiplicity =dst_mlpc} one sig assoc2 extends  Association src=class1_namedst=class5_name src_multiplicity =src_mlpc dst_multiplicity =dst_mlpc} one sig assoc3 extends  Association src=class4_namedst=class1_name src_multiplicity =src_mlpc dst_multiplicity =dst_mlpc} one sig assoc4 extends  Association src=class3_namedst=class1_name src_multiplicity =src_mlpc dst_multiplicity =dst_mlpc} pred show run show for30\\u200b,OM_name_Solution:0Table:class1_nameAttributec1_at1:c1_at1_typePrimaryKeyTable:class1_nameAttributec1_at2:c1_at2_typeTable:class2_nameAttributec2_at1:c1_at1_typePrimaryKeyTable:class2_nameAttributec2_at2:c2_at2_typeTable:class3_nameAttributec3_at1:c3_at1_typePrimaryKeyTable:class3_nameAttributec3_at2:c3_at2_typeTable:class4_nameAttributec4_at1:c4_at1_typePrimaryKeyTable:class4_nameAttributec4_at2:c4_at2_typeTable:class4_nameAttributec4_at3:c4_at3_typeTable:class4_nameAttributec4_at4:c4_at4_typeTable:class5_nameAttributec5_at1:c5_at1_typePrimaryKeyTable:class5_nameAttributec5_at2:c5_at2_typeTable:class6_nameAttributec6_at1:c6_at1_typePrimaryKeyTable:class6_nameAttributec6_at2:c6_at2_typeTableName:class6_nameTable:class1_nameAttributec1_at1:c1_at1_typePrimaryKeyTable:class2_nameAttributec2_at1:c1_at1_typePrimaryKeyTable:class3_nameAttributec3_at1:c3_at1_typePrimaryKeyTable:class4_nameAttributec4_at1:c4_at1_typePrimaryKeyTable:class6_nameAttributec6_at1:c6_at1_typePrimaryKeyTableName:class1_nameTableName:class2_nameTableName:class3_nameTableName:class4_nameTableName:class5_nameTableName:class6_name Mapping Strategy of Tableclass2_name:map_str2 Mapping Strategy of Tableclass3_name:map_str2 Mapping Strategy of Tableclass4_name:map_str2 Mapping Strategy of Tableclass5_name:map_str2AssociationStrategyforassoc2:assoc_type1AssociationStrategyforassoc3:assoc_type1AssociationStrategyforassoc4:assoc_type1AssociationStrategyforassoc1:assoc_type2,USEOM_name_0CREATE TABLE `assoc1`(`c6_at1`c6_at1_typeNOT NULL,`c4_at1`c4_at1_typeNOT NULL, KEY `FK_assoc1_c6_at1_idx`(`c6_at1`),FK_assoc1_c4_at1_idx`(`c4_at1`), PRIMARY  KEY  (`c6_at1`,`c4_at1`));CREATE TABLE `class3_name`(`c3_at2`c3_at2_type(64)`c3_at1`c3_at1_typeNOT NULL, PRIMARY  KEY  (`c3_at1`));CREATE TABLE `class5_name`(`c5_at2`c5_at2_type,`c5_at1`c5_at1_type,`c4_at1`c4_at1_typeNOT NULL, KEY `FK_class5_name_c4_at1_idx`(`c4_at1`), PRIMARY  KEY  (`c4_at1`));CREATE TABLE `class2_name`(`c2_at2`c2_at2_type(64),`c2_at1`c2_at1_typeNOT NULL, PRIMARY  KEY  (`c2_at1`));CREATE TABLE `class6_name`(`c6_at3`c6_at3_type,`c6_at2`c6_at2_type,`c6_at1`c6_at1_typeNOT NULL,`c2_at1`c2_at1_type, KEY `FK_class6_name_c2_at1_idx`(`c2_at1`), PRIMARY  KEY  (`c6_at1`));CREATE TABLE `class1_name`(`c4_at1`c4_at1_type,`c3_at1`c3_at1_type,`c1_at2`c1_at2_type,`c1_at1`c1_at1_typeNOT NULL, KEY `FK_class1_name_c4_at1_idx`(`c4_at1`), KEY `FK_class1_name_c3_at1_idx`(`c3_at1`), PRIMARY  KEY  (`c1_at1`));CREATE TABLE `class4_name`(`c4_at2`c4_at2_type(64),`c4_at4`c4_at4_type,`c4_at3`c4_at3_type,`c4_at1`c4_at1_typeNOT NULL, PRIMARY  KEY  (`c4_at1`)); ALTER TABLE `assoc1` ADD CONSTRAINT `FK_assoc1_c6_at1` FOREIGN  KEY  (`c6_at1`) REFERENCES `class6_name`(`c6_at1`) ON DELETE CASCADE ON UPDATE CASCADE , ADD CONSTRAINT `FK_assoc1_c4_at1` FOREIGN  KEY  (`c4_at1`) REFERENCES `class4_name`(`c4_at1`) ON DELETE CASCADE ON UPDATE CASCADE ; ALTER TABLE `class5_name` ADD CONSTRAINT `FK_class5_name_c4_at1` FOREIGN  KEY  (`c4_at1`) REFERENCES `class4_name`(`c4_at1`) ON DELETE CASCADE ON UPDATE CASCADE ; ALTER TABLE `class6_name` ADD CONSTRAINT `FK_class6_name_c2_at1` FOREIGN  KEY  (`c2_at1`) REFERENCES `class2_name`(`c2_at1`) ON DELETE CASCADE ON UPDATE CASCADE ; ALTER TABLE `class1_name` ADD CONSTRAINT `FK_class1_name_c4_at1` FOREIGN  KEY  (`c4_at1`) REFERENCES `class4_name`(`c4_at1`) ON DELETE CASCADE ON UPDATE CASCADE , ADD CONSTRAINT `FK_class1_name_c3_at1` FOREIGN  KEY  (`c3_at1`) REFERENCES `class3_name`(`c3_at1`) ON DELETE CASCADE ON UPDATE CASCADE ', '[start] P, module OM_name: 0 openDeclaration one sig class1_name extends ClassattrSet=c1_at1+c1_at2id=c1_at1noparentisAbstract=No} one sig c1_at1 extends c1_at1_type one sig c1_at2 extends c1_at2_type one sig class2_name extends ClassattrSet=c2_at1+c2_at2id=c2_at1noparentisAbstract=No} one sig c2_at1 extends c2_at1_type one sig c2_at2 extends c2_at2_type one sig class3_name extends ClassattrSet=c3_at1+c3_at2id=c3_at1noparentisAbstract=No} one sig c3_at1 extends c3_at1_type one sig c3_at2 extends c3_at2_type one sig class4_name extends ClassattrSet=c4_at1+c4_at2+c4_at3+c4_at4id=c4_at1noparentisAbstract=No} one sig c4_at1 extends c4_at1_type one sig c4_at2 extends c4_at2_type one sig c4_at3 extends c4_at3_type one sig c4_at4 extends c4_at4_type one sig class5_name extends ClassattrSet=c5_at1+c5_at2 one parent  parentinclass4_nameid=c4_at1isAbstract=No} one sig c5_at1 extends c5_at1_type one sig c5_at2 extends c5_at2_type one sig class6_name extends ClassattrSet=c6_at1+c6_at2+c6_at3id=c6_at1noparentisAbstract=No} one sig c6_at1 extends c6_at1_type one sig c6_at2 extends c6_at2_type one sig c6_at3 extends c6_at3_type one sig assoc1 extends  Association src=class6_namedst=class4_name src_multiplicity =src_mlpc2 dst_multiplicity =dst_mlpc} one sig assoc2 extends  Association src=class1_namedst=class5_name src_multiplicity =src_mlpc dst_multiplicity =dst_mlpc} one sig assoc3 extends  Association src=class4_namedst=class1_name src_multiplicity =src_mlpc dst_multiplicity =dst_mlpc} one sig assoc4 extends  Association src=class3_namedst=class1_name src_multiplicity =src_mlpc dst_multiplicity =dst_mlpc} pred show run show for30\\u200b,OM_name_Solution:0Table:class1_nameAttributec1_at1:c1_at1_typePrimaryKeyTable:class1_nameAttributec1_at2:c1_at2_typeTable:class2_nameAttributec2_at1:c1_at1_typePrimaryKeyTable:class2_nameAttributec2_at2:c2_at2_typeTable:class3_nameAttributec3_at1:c3_at1_typePrimaryKeyTable:class3_nameAttributec3_at2:c3_at2_typeTable:class4_nameAttributec4_at1:c4_at1_typePrimaryKeyTable:class4_nameAttributec4_at2:c4_at2_typeTable:class4_nameAttributec4_at3:c4_at3_typeTable:class4_nameAttributec4_at4:c4_at4_typeTable:class5_nameAttributec5_at1:c5_at1_typePrimaryKeyTable:class5_nameAttributec5_at2:c5_at2_typeTable:class6_nameAttributec6_at1:c6_at1_typePrimaryKeyTable:class6_nameAttributec6_at2:c6_at2_typeTableName:class6_nameTable:class1_nameAttributec1_at1:c1_at1_typePrimaryKeyTable:class2_nameAttributec2_at1:c1_at1_typePrimaryKeyTable:class3_nameAttributec3_at1:c3_at1_typePrimaryKeyTable:class4_nameAttributec4_at1:c4_at1_typePrimaryKeyTable:class6_nameAttributec6_at1:c6_at1_typePrimaryKeyTableName:class1_nameTableName:class2_nameTableName:class3_nameTableName:class4_nameTableName:class5_nameTableName:class6_name Mapping Strategy of Tableclass2_name:map_str2 Mapping Strategy of Tableclass3_name:map_str2 Mapping Strategy of Tableclass4_name:map_str2 Mapping Strategy of Tableclass5_name:map_str2AssociationStrategyforassoc2:assoc_type1AssociationStrategyforassoc3:assoc_type1AssociationStrategyforassoc4:assoc_type1AssociationStrategyforassoc1:assoc_type2,USEOM_name_0CREATE TABLE `assoc1`(`c6_at1`c6_at1_typeNOT NULL,`c4_at1`c4_at1_typeNOT NULL, KEY `FK_assoc1_c6_at1_idx`(`c6_at1`),FK_assoc1_c4_at1_idx`(`c4_at1`), PRIMARY  KEY  (`c6_at1`,`c4_at1`));CREATE TABLE `class3_name`(`c3_at2`c3_at2_type(64)`c3_at1`c3_at1_typeNOT NULL, PRIMARY  KEY  (`c3_at1`));CREATE TABLE `class5_name`(`c5_at2`c5_at2_type,`c5_at1`c5_at1_type,`c4_at1`c4_at1_typeNOT NULL, KEY `FK_class5_name_c4_at1_idx`(`c4_at1`), PRIMARY  KEY  (`c4_at1`));CREATE TABLE `class2_name`(`c2_at2`c2_at2_type(64),`c2_at1`c2_at1_typeNOT NULL, PRIMARY  KEY  (`c2_at1`));CREATE TABLE `class6_name`(`c6_at3`c6_at3_type,`c6_at2`c6_at2_type,`c6_at1`c6_at1_typeNOT NULL,`c2_at1`c2_at1_type, KEY `FK_class6_name_c2_at1_idx`(`c2_at1`), PRIMARY  KEY  (`c6_at1`));CREATE TABLE `class1_name`(`c4_at1`c4_at1_type,`c3_at1`c3_at1_type,`c1_at2`c1_at2_type,`c1_at1`c1_at1_typeNOT NULL, KEY `FK_class1_name_c4_at1_idx`(`c4_at1`), KEY `FK_class1_name_c3_at1_idx`(`c3_at1`), PRIMARY  KEY  (`c1_at1`));CREATE TABLE `class4_name`(`c4_at2`c4_at2_type(64),`c4_at4`c4_at4_type,`c4_at3`c4_at3_type,`c4_at1`c4_at1_typeNOT NULL, PRIMARY  KEY  (`c4_at1`)); ALTER TABLE `assoc1` ADD CONSTRAINT `FK_assoc1_c6_at1` FOREIGN  KEY  (`c6_at1`) REFERENCES `class6_name`(`c6_at1`) ON DELETE CASCADE ON UPDATE CASCADE , ADD CONSTRAINT `FK_assoc1_c4_at1` FOREIGN  KEY  (`c4_at1`) REFERENCES `class4_name`(`c4_at1`) ON DELETE CASCADE ON UPDATE CASCADE ; ALTER TABLE `class5_name` ADD CONSTRAINT `FK_class5_name_c4_at1` FOREIGN  KEY  (`c4_at1`) REFERENCES `class4_name`(`c4_at1`) ON DELETE CASCADE ON UPDATE CASCADE ; ALTER TABLE `class6_name` ADD CONSTRAINT `FK_class6_name_c2_at1` FOREIGN  KEY  (`c2_at1`) REFERENCES `class2_name`(`c2_at1`) ON DELETE CASCADE ON UPDATE CASCADE ; ALTER TABLE `class1_name` ADD CONSTRAINT `FK_class1_name_c4_at1` FOREIGN  KEY  (`c4_at1`) REFERENCES `class4_name`(`c4_at1`) ON DELETE CASCADE ON UPDATE CASCADE , ADD CONSTRAINT `FK_class1_name_c3_at1` FOREIGN  KEY  (`c3_at1`) REFERENCES `class3_name`(`c3_at1`) ON DELETE CASCADE ON UPDATE CASCADE [end]')\n",
            "('module OM_name: 0 openDeclaration one sig class1_name extends ClassattrSet=c1_at1+c1_at2id=c1_at1noparentisAbstract=No} one sig c1_at1 extends c1_at1_type one sig c1_at2 extends c1_at2_type one sig class2_name extends ClassattrSet=c2_at1+c2_at2id=c2_at1noparentisAbstract=No} one sig c2_at1 extends c2_at1_type one sig c2_at2 extends c2_at2_type one sig class3_name extends ClassattrSet=c3_at1+c3_at2id=c3_at1noparentisAbstract=No} one sig c3_at1 extends c3_at1_type one sig c3_at2 extends c3_at2_type one sig class4_name extends ClassattrSet=c4_at1+c4_at2+c4_at3+c4_at4id=c4_at1noparentisAbstract=No} one sig c4_at1 extends c4_at1_type one sig c4_at2 extends c4_at2_type one sig c4_at3 extends c4_at3_type one sig c4_at4 extends c4_at4_type one sig class5_name extends ClassattrSet=c5_at1+c5_at2 one parent  parentinclass4_nameid=c4_at1isAbstract=No} one sig c5_at1 extends c5_at1_type one sig c5_at2 extends c5_at2_type one sig class6_name extends ClassattrSet=c6_at1+c6_at2+c6_at3id=c6_at1noparentisAbstract=No} one sig c6_at1 extends c6_at1_type one sig c6_at2 extends c6_at2_type one sig c6_at3 extends c6_at3_type one sig assoc1 extends  Association src=class6_namedst=class4_name src_multiplicity =src_mlpc2 dst_multiplicity =dst_mlpc} one sig assoc2 extends  Association src=class1_namedst=class5_name src_multiplicity =src_mlpc dst_multiplicity =dst_mlpc} one sig assoc3 extends  Association src=class4_namedst=class1_name src_multiplicity =src_mlpc dst_multiplicity =dst_mlpc} one sig assoc4 extends  Association src=class3_namedst=class1_name src_multiplicity =src_mlpc dst_multiplicity =dst_mlpc} pred show run show for30\\u200b,OM_name_Solution:0Table:class1_nameAttributec1_at1:c1_at1_typePrimaryKeyTable:class1_nameAttributec1_at2:c1_at2_typeTable:class2_nameAttributec2_at1:c1_at1_typePrimaryKeyTable:class2_nameAttributec2_at2:c2_at2_typeTable:class3_nameAttributec3_at1:c3_at1_typePrimaryKeyTable:class3_nameAttributec3_at2:c3_at2_typeTable:class4_nameAttributec4_at1:c4_at1_typePrimaryKeyTable:class4_nameAttributec4_at2:c4_at2_typeTable:class4_nameAttributec4_at3:c4_at3_typeTable:class4_nameAttributec4_at4:c4_at4_typeTable:class5_nameAttributec5_at1:c5_at1_typePrimaryKeyTable:class5_nameAttributec5_at2:c5_at2_typeTable:class6_nameAttributec6_at1:c6_at1_typePrimaryKeyTable:class6_nameAttributec6_at2:c6_at2_typeTableName:class6_nameTable:class1_nameAttributec1_at1:c1_at1_typePrimaryKeyTable:class2_nameAttributec2_at1:c1_at1_typePrimaryKeyTable:class3_nameAttributec3_at1:c3_at1_typePrimaryKeyTable:class4_nameAttributec4_at1:c4_at1_typePrimaryKeyTable:class6_nameAttributec6_at1:c6_at1_typePrimaryKeyTableName:class1_nameTableName:class2_nameTableName:class3_nameTableName:class4_nameTableName:class5_nameTableName:class6_name Mapping Strategy of Tableclass2_name:map_str2 Mapping Strategy of Tableclass3_name:map_str2 Mapping Strategy of Tableclass4_name:map_str1 Mapping Strategy of Tableclass5_name:map_str1AssociationStrategyforassoc2:assoc_type1AssociationStrategyforassoc3:assoc_type1AssociationStrategyforassoc4:assoc_type1AssociationStrategyforassoc1:assoc_type2,USEOM_name_0CREATE TABLE `assoc1`(`c6_at1`c6_at1_typeNOT NULL,`c4_at1`c4_at1_typeNOT NULL, KEY `FK_assoc1_c6_at1_idx`(`c6_at1`),FK_assoc1_c4_at1_idx`(`c4_at1`), PRIMARY  KEY  (`c6_at1`,`c4_at1`));CREATE TABLE `class3_name`(`c3_at2`c3_at2_type(64)`c3_at1`c3_at1_typeNOT NULL, PRIMARY  KEY  (`c3_at1`));CREATE TABLE `class2_name`(`c2_at2`c2_at2_type(64),`c2_at1`c2_at1_typeNOT NULL, PRIMARY  KEY  (`c2_at1`));CREATE TABLE `class6_name`(`c6_at3`c6_at3_type,`c6_at2`c6_at2_type,`c6_at1`c6_at1_typeNOT NULL,`c2_at1`c2_at1_type, KEY `FK_class6_name_c2_at1_idx`(`c2_at1`), PRIMARY  KEY  (`c6_at1`));CREATE TABLE `class1_name`(`c4_at1`c4_at1_type,`c3_at1`c3_at1_type,`c1_at2`c1_at2_type,`c1_at1`c1_at1_typeNOT NULL, KEY `FK_class1_name_c4_at1_idx`(`c4_at1`), KEY `FK_class1_name_c3_at1_idx`(`c3_at1`), PRIMARY  KEY  (`c1_at1`));CREATE TABLE `class4_name`(`c4_at5`c4_at5_type(64),`c4_at2`c4_at2_type(64),`c5_at2`c5_at2_type,`c5_at1`c5_at1_type,`c4_at4`c4_at4_type,`c4_at3`c4_at3_type,`c4_at1`c4_at1_typeNOT NULL, PRIMARY  KEY  (`c4_at1`)); ALTER TABLE `assoc1` ADD CONSTRAINT `FK_assoc1_c6_at1` FOREIGN  KEY  (`c6_at1`) REFERENCES `class6_name`(`c6_at1`) ON DELETE CASCADE ON UPDATE CASCADE , ADD CONSTRAINT `FK_assoc1_c4_at1` FOREIGN  KEY  (`c4_at1`) REFERENCES `class4_name`(`c4_at1`) ON DELETE CASCADE ON UPDATE CASCADE ; ALTER TABLE `class6_name` ADD CONSTRAINT `FK_class6_name_c2_at1` FOREIGN  KEY  (`c2_at1`) REFERENCES `class2_name`(`c2_at1`) ON DELETE CASCADE ON UPDATE CASCADE ; ALTER TABLE `class1_name` ADD CONSTRAINT `FK_class1_name_c4_at1` FOREIGN  KEY  (`c4_at1`) REFERENCES `class4_name`(`c4_at1`) ON DELETE CASCADE ON UPDATE CASCADE , ADD CONSTRAINT `FK_class1_name_c3_at1` FOREIGN  KEY  (`c3_at1`) REFERENCES `class3_name`(`c3_at1`) ON DELETE CASCADE ON UPDATE CASCADE ', '[start] P, module OM_name: 0 openDeclaration one sig class1_name extends ClassattrSet=c1_at1+c1_at2id=c1_at1noparentisAbstract=No} one sig c1_at1 extends c1_at1_type one sig c1_at2 extends c1_at2_type one sig class2_name extends ClassattrSet=c2_at1+c2_at2id=c2_at1noparentisAbstract=No} one sig c2_at1 extends c2_at1_type one sig c2_at2 extends c2_at2_type one sig class3_name extends ClassattrSet=c3_at1+c3_at2id=c3_at1noparentisAbstract=No} one sig c3_at1 extends c3_at1_type one sig c3_at2 extends c3_at2_type one sig class4_name extends ClassattrSet=c4_at1+c4_at2+c4_at3+c4_at4id=c4_at1noparentisAbstract=No} one sig c4_at1 extends c4_at1_type one sig c4_at2 extends c4_at2_type one sig c4_at3 extends c4_at3_type one sig c4_at4 extends c4_at4_type one sig class5_name extends ClassattrSet=c5_at1+c5_at2 one parent  parentinclass4_nameid=c4_at1isAbstract=No} one sig c5_at1 extends c5_at1_type one sig c5_at2 extends c5_at2_type one sig class6_name extends ClassattrSet=c6_at1+c6_at2+c6_at3id=c6_at1noparentisAbstract=No} one sig c6_at1 extends c6_at1_type one sig c6_at2 extends c6_at2_type one sig c6_at3 extends c6_at3_type one sig assoc1 extends  Association src=class6_namedst=class4_name src_multiplicity =src_mlpc2 dst_multiplicity =dst_mlpc} one sig assoc2 extends  Association src=class1_namedst=class5_name src_multiplicity =src_mlpc dst_multiplicity =dst_mlpc} one sig assoc3 extends  Association src=class4_namedst=class1_name src_multiplicity =src_mlpc dst_multiplicity =dst_mlpc} one sig assoc4 extends  Association src=class3_namedst=class1_name src_multiplicity =src_mlpc dst_multiplicity =dst_mlpc} pred show run show for30\\u200b,OM_name_Solution:0Table:class1_nameAttributec1_at1:c1_at1_typePrimaryKeyTable:class1_nameAttributec1_at2:c1_at2_typeTable:class2_nameAttributec2_at1:c1_at1_typePrimaryKeyTable:class2_nameAttributec2_at2:c2_at2_typeTable:class3_nameAttributec3_at1:c3_at1_typePrimaryKeyTable:class3_nameAttributec3_at2:c3_at2_typeTable:class4_nameAttributec4_at1:c4_at1_typePrimaryKeyTable:class4_nameAttributec4_at2:c4_at2_typeTable:class4_nameAttributec4_at3:c4_at3_typeTable:class4_nameAttributec4_at4:c4_at4_typeTable:class5_nameAttributec5_at1:c5_at1_typePrimaryKeyTable:class5_nameAttributec5_at2:c5_at2_typeTable:class6_nameAttributec6_at1:c6_at1_typePrimaryKeyTable:class6_nameAttributec6_at2:c6_at2_typeTableName:class6_nameTable:class1_nameAttributec1_at1:c1_at1_typePrimaryKeyTable:class2_nameAttributec2_at1:c1_at1_typePrimaryKeyTable:class3_nameAttributec3_at1:c3_at1_typePrimaryKeyTable:class4_nameAttributec4_at1:c4_at1_typePrimaryKeyTable:class6_nameAttributec6_at1:c6_at1_typePrimaryKeyTableName:class1_nameTableName:class2_nameTableName:class3_nameTableName:class4_nameTableName:class5_nameTableName:class6_name Mapping Strategy of Tableclass2_name:map_str2 Mapping Strategy of Tableclass3_name:map_str2 Mapping Strategy of Tableclass4_name:map_str1 Mapping Strategy of Tableclass5_name:map_str1AssociationStrategyforassoc2:assoc_type1AssociationStrategyforassoc3:assoc_type1AssociationStrategyforassoc4:assoc_type1AssociationStrategyforassoc1:assoc_type2,USEOM_name_0CREATE TABLE `assoc1`(`c6_at1`c6_at1_typeNOT NULL,`c4_at1`c4_at1_typeNOT NULL, KEY `FK_assoc1_c6_at1_idx`(`c6_at1`),FK_assoc1_c4_at1_idx`(`c4_at1`), PRIMARY  KEY  (`c6_at1`,`c4_at1`));CREATE TABLE `class3_name`(`c3_at2`c3_at2_type(64)`c3_at1`c3_at1_typeNOT NULL, PRIMARY  KEY  (`c3_at1`));CREATE TABLE `class2_name`(`c2_at2`c2_at2_type(64),`c2_at1`c2_at1_typeNOT NULL, PRIMARY  KEY  (`c2_at1`));CREATE TABLE `class6_name`(`c6_at3`c6_at3_type,`c6_at2`c6_at2_type,`c6_at1`c6_at1_typeNOT NULL,`c2_at1`c2_at1_type, KEY `FK_class6_name_c2_at1_idx`(`c2_at1`), PRIMARY  KEY  (`c6_at1`));CREATE TABLE `class1_name`(`c4_at1`c4_at1_type,`c3_at1`c3_at1_type,`c1_at2`c1_at2_type,`c1_at1`c1_at1_typeNOT NULL, KEY `FK_class1_name_c4_at1_idx`(`c4_at1`), KEY `FK_class1_name_c3_at1_idx`(`c3_at1`), PRIMARY  KEY  (`c1_at1`));CREATE TABLE `class4_name`(`c4_at5`c4_at5_type(64),`c4_at2`c4_at2_type(64),`c5_at2`c5_at2_type,`c5_at1`c5_at1_type,`c4_at4`c4_at4_type,`c4_at3`c4_at3_type,`c4_at1`c4_at1_typeNOT NULL, PRIMARY  KEY  (`c4_at1`)); ALTER TABLE `assoc1` ADD CONSTRAINT `FK_assoc1_c6_at1` FOREIGN  KEY  (`c6_at1`) REFERENCES `class6_name`(`c6_at1`) ON DELETE CASCADE ON UPDATE CASCADE , ADD CONSTRAINT `FK_assoc1_c4_at1` FOREIGN  KEY  (`c4_at1`) REFERENCES `class4_name`(`c4_at1`) ON DELETE CASCADE ON UPDATE CASCADE ; ALTER TABLE `class6_name` ADD CONSTRAINT `FK_class6_name_c2_at1` FOREIGN  KEY  (`c2_at1`) REFERENCES `class2_name`(`c2_at1`) ON DELETE CASCADE ON UPDATE CASCADE ; ALTER TABLE `class1_name` ADD CONSTRAINT `FK_class1_name_c4_at1` FOREIGN  KEY  (`c4_at1`) REFERENCES `class4_name`(`c4_at1`) ON DELETE CASCADE ON UPDATE CASCADE , ADD CONSTRAINT `FK_class1_name_c3_at1` FOREIGN  KEY  (`c3_at1`) REFERENCES `class3_name`(`c3_at1`) ON DELETE CASCADE ON UPDATE CASCADE [end]')\n"
          ]
        }
      ]
    },
    {
      "cell_type": "code",
      "source": [
        "random.shuffle(text_pairs)\n",
        "num_val_samples = int(0.15 * len(text_pairs))\n",
        "num_train_samples = len(text_pairs) - 2 * num_val_samples\n",
        "train_pairs = text_pairs[:num_train_samples]\n",
        "val_pairs = text_pairs[num_train_samples : num_train_samples + num_val_samples]\n",
        "test_pairs = text_pairs[num_train_samples + num_val_samples :]\n",
        "\n",
        "print(f\"{len(text_pairs)} total pairs\")\n",
        "print(f\"{len(train_pairs)} training pairs\")\n",
        "print(f\"{len(val_pairs)} validation pairs\")\n",
        "print(f\"{len(test_pairs)} test pairs\")"
      ],
      "metadata": {
        "colab": {
          "base_uri": "https://localhost:8080/"
        },
        "id": "LPOdZY0-b4P6",
        "outputId": "6a3fc7b2-ac1a-4f8f-d80e-5fe59b47568a"
      },
      "execution_count": 7,
      "outputs": [
        {
          "output_type": "stream",
          "name": "stdout",
          "text": [
            "85 total pairs\n",
            "61 training pairs\n",
            "12 validation pairs\n",
            "12 test pairs\n"
          ]
        }
      ]
    },
    {
      "cell_type": "code",
      "source": [
        "strip_chars = string.punctuation + \"\"\n",
        "strip_chars = strip_chars.replace(\"\", \"\")\n",
        "strip_chars = strip_chars.replace(\"\", \"\")\n",
        "\n",
        "vocab_size = 5000\n",
        "sequence_length = 1000\n",
        "batch_size = 64\n",
        "\n",
        "\n",
        "def custom_standardization(input_string):\n",
        "    lowercase = tf.strings.lower(input_string)\n",
        "    return tf.strings.regex_replace(lowercase, \"[%s]\" % re.escape(strip_chars), \"\")\n",
        "\n",
        "\n",
        "eng_vectorization = TextVectorization(\n",
        "    max_tokens=vocab_size, output_mode=\"int\", output_sequence_length=sequence_length,\n",
        ")\n",
        "spa_vectorization = TextVectorization(\n",
        "    max_tokens=vocab_size,\n",
        "    output_mode=\"int\",\n",
        "    output_sequence_length=sequence_length + 1,\n",
        "    standardize=custom_standardization,\n",
        ")\n",
        "train_eng_texts = [pair[0] for pair in train_pairs]\n",
        "train_spa_texts = [pair[1] for pair in train_pairs]\n",
        "eng_vectorization.adapt(train_eng_texts)\n",
        "spa_vectorization.adapt(train_spa_texts)"
      ],
      "metadata": {
        "id": "1vfxMNShb53y"
      },
      "execution_count": 8,
      "outputs": []
    },
    {
      "cell_type": "code",
      "source": [
        "def format_dataset(eng, spa):\n",
        "    eng = eng_vectorization(eng)\n",
        "    spa = spa_vectorization(spa)\n",
        "    return ({\"encoder_inputs\": eng, \"decoder_inputs\": spa[:, :-1],}, spa[:, 1:])\n",
        "\n",
        "\n",
        "def make_dataset(pairs):\n",
        "    eng_texts, spa_texts = zip(*pairs)\n",
        "    eng_texts = list(eng_texts)\n",
        "    spa_texts = list(spa_texts)\n",
        "    dataset = tf.data.Dataset.from_tensor_slices((eng_texts, spa_texts))\n",
        "    dataset = dataset.batch(batch_size)\n",
        "    dataset = dataset.map(format_dataset)\n",
        "    return dataset.shuffle(2048).prefetch(16).cache()\n",
        "\n",
        "\n",
        "train_ds = make_dataset(train_pairs)\n",
        "val_ds = make_dataset(val_pairs)"
      ],
      "metadata": {
        "id": "r5wdHQy0cOod"
      },
      "execution_count": 9,
      "outputs": []
    },
    {
      "cell_type": "code",
      "source": [
        "for inputs, targets in train_ds.take(1):\n",
        "    print(f'inputs[\"encoder_inputs\"].shape: {inputs[\"encoder_inputs\"].shape}')\n",
        "    print(f'inputs[\"decoder_inputs\"].shape: {inputs[\"decoder_inputs\"].shape}')\n",
        "    print(f\"targets.shape: {targets.shape}\")"
      ],
      "metadata": {
        "colab": {
          "base_uri": "https://localhost:8080/"
        },
        "id": "iuJZ5C_2cSJc",
        "outputId": "0d6ed982-d253-4476-8207-d6f9ceeb658b"
      },
      "execution_count": 10,
      "outputs": [
        {
          "output_type": "stream",
          "name": "stdout",
          "text": [
            "inputs[\"encoder_inputs\"].shape: (61, 1000)\n",
            "inputs[\"decoder_inputs\"].shape: (61, 1000)\n",
            "targets.shape: (61, 1000)\n"
          ]
        }
      ]
    },
    {
      "cell_type": "code",
      "source": [
        "class TransformerEncoder(layers.Layer):\n",
        "    def __init__(self, embed_dim, dense_dim, num_heads, **kwargs):\n",
        "        super().__init__(**kwargs)\n",
        "        self.embed_dim = embed_dim\n",
        "        self.dense_dim = dense_dim\n",
        "        self.num_heads = num_heads\n",
        "        self.attention = layers.MultiHeadAttention(\n",
        "            num_heads=num_heads, key_dim=embed_dim\n",
        "        )\n",
        "        self.dense_proj = keras.Sequential(\n",
        "            [layers.Dense(dense_dim, activation=\"relu\"), layers.Dense(embed_dim),]\n",
        "        )\n",
        "        self.layernorm_1 = layers.LayerNormalization()\n",
        "        self.layernorm_2 = layers.LayerNormalization()\n",
        "        self.supports_masking = True\n",
        "\n",
        "    def call(self, inputs, mask=None):\n",
        "        if mask is not None:\n",
        "            padding_mask = tf.cast(mask[:, tf.newaxis, :], dtype=\"int32\")\n",
        "        attention_output = self.attention(\n",
        "            query=inputs, value=inputs, key=inputs, attention_mask=padding_mask\n",
        "        )\n",
        "        proj_input = self.layernorm_1(inputs + attention_output)\n",
        "        proj_output = self.dense_proj(proj_input)\n",
        "        return self.layernorm_2(proj_input + proj_output)\n",
        "\n",
        "\n",
        "# def call(self, query, value, key, attention_mask, return_attention_scores=False, training=None, use_causal_mask=False):\n",
        "#     if use_causal_mask:\n",
        "#         seq_len = tf.shape(query)[1]\n",
        "#         causal_mask = tf.linalg.band_part(tf.ones((seq_len, seq_len)), -1, 0)\n",
        "#         attention_mask = tf.cast(causal_mask, dtype=attention_mask.dtype) * attention_mask\n",
        "\n",
        "#     query = self.query_dense(query)\n",
        "#     key = self.key_dense(key)\n",
        "#     value = self.value_dense(value)\n",
        "\n",
        "#     query = self.split_heads(query)\n",
        "#     key = self.split_heads(key)\n",
        "#     value = self.split_heads(value)\n",
        "\n",
        "#     attention_scores = tf.matmul(query, key, transpose_b=True)\n",
        "#     dk = tf.cast(tf.shape(key)[-1], attention_scores.dtype)\n",
        "#     attention_scores = attention_scores / tf.math.sqrt(dk)\n",
        "\n",
        "#     if attention_mask is not None:\n",
        "#         attention_scores = attention_scores + (tf.cast(attention_mask, attention_scores.dtype) * -1e9)\n",
        "\n",
        "#     attention_probs = tf.nn.softmax(attention_scores, axis=-1)\n",
        "#     attention_probs = self.dropout(attention_probs, training=training)\n",
        "\n",
        "#     context = tf.matmul(attention_probs, value)\n",
        "#     context = self.combine_heads(context)\n",
        "#     context = self.output_dense(context)\n",
        "\n",
        "#     if return_attention_scores:\n",
        "#         return context, attention_probs\n",
        "#     return context\n",
        "\n",
        "\n",
        "class PositionalEmbedding(layers.Layer):\n",
        "    def __init__(self, sequence_length, vocab_size, embed_dim, **kwargs):\n",
        "        super().__init__(**kwargs)\n",
        "        self.token_embeddings = layers.Embedding(\n",
        "            input_dim=vocab_size, output_dim=embed_dim\n",
        "        )\n",
        "        self.position_embeddings = layers.Embedding(\n",
        "            input_dim=sequence_length, output_dim=embed_dim\n",
        "        )\n",
        "        self.sequence_length = sequence_length\n",
        "        self.vocab_size = vocab_size\n",
        "        self.embed_dim = embed_dim\n",
        "\n",
        "    def call(self, inputs):\n",
        "        length = tf.shape(inputs)[-1]\n",
        "        positions = tf.range(start=0, limit=length, delta=1)\n",
        "        embedded_tokens = self.token_embeddings(inputs)\n",
        "        embedded_positions = self.position_embeddings(positions)\n",
        "        return embedded_tokens + embedded_positions\n",
        "\n",
        "    def compute_mask(self, inputs, mask=None):\n",
        "        return tf.math.not_equal(inputs, 0)\n",
        "\n",
        "\n",
        "class TransformerDecoder(layers.Layer):\n",
        "    def __init__(self, embed_dim, latent_dim, num_heads, **kwargs):\n",
        "        super().__init__(**kwargs)\n",
        "        self.embed_dim = embed_dim\n",
        "        self.latent_dim = latent_dim\n",
        "        self.num_heads = num_heads\n",
        "        self.attention_1 = layers.MultiHeadAttention(\n",
        "            num_heads=num_heads, key_dim=embed_dim\n",
        "        )\n",
        "        self.attention_2 = layers.MultiHeadAttention(\n",
        "            num_heads=num_heads, key_dim=embed_dim\n",
        "        )\n",
        "        self.dense_proj = keras.Sequential(\n",
        "            [layers.Dense(latent_dim, activation=\"relu\"), layers.Dense(embed_dim),]\n",
        "        )\n",
        "        self.layernorm_1 = layers.LayerNormalization()\n",
        "        self.layernorm_2 = layers.LayerNormalization()\n",
        "        self.layernorm_3 = layers.LayerNormalization()\n",
        "        self.supports_masking = True\n",
        "\n",
        "    def call(self, inputs, encoder_outputs, mask=None):\n",
        "        causal_mask = self.get_causal_attention_mask(inputs)\n",
        "        if mask is not None:\n",
        "            padding_mask = tf.cast(mask[:, tf.newaxis, :], dtype=\"int32\")\n",
        "            padding_mask = tf.minimum(padding_mask, causal_mask)\n",
        "\n",
        "        attention_output_1 = self.attention_1(\n",
        "            query=inputs, value=inputs, key=inputs, attention_mask=causal_mask\n",
        "        )\n",
        "        out_1 = self.layernorm_1(inputs + attention_output_1)\n",
        "\n",
        "        attention_output_2 = self.attention_2(\n",
        "            query=out_1,\n",
        "            value=encoder_outputs,\n",
        "            key=encoder_outputs,\n",
        "            attention_mask=padding_mask,\n",
        "        )\n",
        "        out_2 = self.layernorm_2(out_1 + attention_output_2)\n",
        "\n",
        "        proj_output = self.dense_proj(out_2)\n",
        "        return self.layernorm_3(out_2 + proj_output)\n",
        "\n",
        "    def get_causal_attention_mask(self, inputs):\n",
        "        input_shape = tf.shape(inputs)\n",
        "        batch_size, sequence_length = input_shape[0], input_shape[1]\n",
        "        i = tf.range(sequence_length)[:, tf.newaxis]\n",
        "        j = tf.range(sequence_length)\n",
        "        mask = tf.cast(i >= j, dtype=\"int32\")\n",
        "        mask = tf.reshape(mask, (1, input_shape[1], input_shape[1]))\n",
        "        mult = tf.concat(\n",
        "            [tf.expand_dims(batch_size, -1), tf.constant([1, 1], dtype=tf.int32)],\n",
        "            axis=0,\n",
        "        )\n",
        "        return tf.tile(mask, mult)"
      ],
      "metadata": {
        "id": "A1c6kGDLcVdL"
      },
      "execution_count": 11,
      "outputs": []
    },
    {
      "cell_type": "code",
      "source": [
        "embed_dim = 256\n",
        "latent_dim = 2048\n",
        "num_heads = 8\n",
        "\n",
        "encoder_inputs = keras.Input(shape=(None,), dtype=\"int64\", name=\"encoder_inputs\")\n",
        "x = PositionalEmbedding(sequence_length, vocab_size, embed_dim)(encoder_inputs)\n",
        "encoder_outputs = TransformerEncoder(embed_dim, latent_dim, num_heads)(x)\n",
        "encoder = keras.Model(encoder_inputs, encoder_outputs)\n",
        "\n",
        "decoder_inputs = keras.Input(shape=(None,), dtype=\"int64\", name=\"decoder_inputs\")\n",
        "encoded_seq_inputs = keras.Input(shape=(None, embed_dim), name=\"decoder_state_inputs\")\n",
        "x = PositionalEmbedding(sequence_length, vocab_size, embed_dim)(decoder_inputs)\n",
        "x = TransformerDecoder(embed_dim, latent_dim, num_heads)(x, encoded_seq_inputs)\n",
        "x = layers.Dropout(0.5)(x)\n",
        "decoder_outputs = layers.Dense(vocab_size, activation=\"softmax\")(x)\n",
        "decoder = keras.Model([decoder_inputs, encoded_seq_inputs], decoder_outputs)\n",
        "\n",
        "decoder_outputs = decoder([decoder_inputs, encoder_outputs])\n",
        "transformer = keras.Model(\n",
        "    [encoder_inputs, decoder_inputs], decoder_outputs, name=\"transformer\"\n",
        ")"
      ],
      "metadata": {
        "id": "K1RK59l1caZC"
      },
      "execution_count": 12,
      "outputs": []
    },
    {
      "cell_type": "code",
      "source": [
        "epochs = 30  # This should be at least 30 for convergence\n",
        "\n",
        "transformer.summary()\n",
        "transformer.compile(\n",
        "    \"Adam\", loss=\"sparse_categorical_crossentropy\", metrics=[\"accuracy\"]\n",
        ")\n",
        "transformer.fit(train_ds, epochs=epochs, validation_data=val_ds)"
      ],
      "metadata": {
        "colab": {
          "base_uri": "https://localhost:8080/"
        },
        "id": "2ZDrt-xicdL7",
        "outputId": "3f78583e-d6a9-4d18-a015-8ea14e8bb896"
      },
      "execution_count": null,
      "outputs": [
        {
          "output_type": "stream",
          "name": "stdout",
          "text": [
            "Model: \"transformer\"\n",
            "__________________________________________________________________________________________________\n",
            " Layer (type)                   Output Shape         Param #     Connected to                     \n",
            "==================================================================================================\n",
            " encoder_inputs (InputLayer)    [(None, None)]       0           []                               \n",
            "                                                                                                  \n",
            " positional_embedding (Position  (None, None, 256)   1536000     ['encoder_inputs[0][0]']         \n",
            " alEmbedding)                                                                                     \n",
            "                                                                                                  \n",
            " decoder_inputs (InputLayer)    [(None, None)]       0           []                               \n",
            "                                                                                                  \n",
            " transformer_encoder (Transform  (None, None, 256)   3155456     ['positional_embedding[0][0]']   \n",
            " erEncoder)                                                                                       \n",
            "                                                                                                  \n",
            " model_1 (Functional)           (None, None, 5000)   8080520     ['decoder_inputs[0][0]',         \n",
            "                                                                  'transformer_encoder[0][0]']    \n",
            "                                                                                                  \n",
            "==================================================================================================\n",
            "Total params: 12,771,976\n",
            "Trainable params: 12,771,976\n",
            "Non-trainable params: 0\n",
            "__________________________________________________________________________________________________\n",
            "Epoch 1/30\n"
          ]
        }
      ]
    },
    {
      "cell_type": "code",
      "source": [
        "spa_vocab = spa_vectorization.get_vocabulary()\n",
        "spa_index_lookup = dict(zip(range(len(spa_vocab)), spa_vocab))\n",
        "max_decoded_sentence_length = 20\n",
        "\n",
        "\n",
        "def decode_sequence(input_sentence):\n",
        "    tokenized_input_sentence = eng_vectorization([input_sentence])\n",
        "    decoded_sentence = \"[start]\"\n",
        "    for i in range(max_decoded_sentence_length):\n",
        "        tokenized_target_sentence = spa_vectorization([decoded_sentence])[:, :-1]\n",
        "        predictions = transformer([tokenized_input_sentence, tokenized_target_sentence])\n",
        "\n",
        "        sampled_token_index = np.argmax(predictions[0, i, :])\n",
        "        sampled_token = spa_index_lookup[sampled_token_index]\n",
        "        decoded_sentence += \" \" + sampled_token\n",
        "\n",
        "        if sampled_token == \"[end]\":\n",
        "            break\n",
        "    return decoded_sentence\n",
        "\n",
        "\n",
        "test_eng_texts = [pair[0] for pair in test_pairs]\n",
        "for _ in range(30):\n",
        "    input_sentence = random.choice(test_eng_texts)\n",
        "    translated = decode_sequence(input_sentence)"
      ],
      "metadata": {
        "id": "uBacshbgc2pH"
      },
      "execution_count": null,
      "outputs": []
    },
    {
      "cell_type": "code",
      "source": [
        "def decode_sequence(input_sentence):\n",
        "    tokenized_input_sentence = eng_vectorization([input_sentence])\n",
        "    decoded_sentence = \"[start]\"\n",
        "    tokenized_target_sentence = spa_vectorization([decoded_sentence])\n",
        "    for i in range(max_decoded_sentence_length):\n",
        "        if len(tokenized_target_sentence[0]) < 2:\n",
        "            break\n",
        "\n",
        "        tokenized_target_sentence = tokenized_target_sentence[:, :-1]\n",
        "        predictions = transformer([tokenized_input_sentence, tokenized_target_sentence])\n",
        "\n",
        "        sampled_token_index = np.argmax(predictions[0, i, :])\n",
        "        sampled_token = spa_index_lookup[sampled_token_index]\n",
        "        decoded_sentence += \" \" + sampled_token\n",
        "\n",
        "        if sampled_token == \"[end]\":\n",
        "            break\n",
        "    return decoded_sentence\n",
        "\n",
        "\n",
        "test_eng_texts = [pair[0] for pair in test_pairs]\n",
        "for _ in range(30):\n",
        "    input_sentence = random.choice(test_eng_texts)\n",
        "    translated = decode_sequence(input_sentence)\n"
      ],
      "metadata": {
        "id": "hmESgvYxgyy4"
      },
      "execution_count": null,
      "outputs": []
    },
    {
      "cell_type": "code",
      "source": [
        "# inh = \"hello\""
      ],
      "metadata": {
        "id": "6Cw3cpBSllKc"
      },
      "execution_count": null,
      "outputs": []
    },
    {
      "cell_type": "code",
      "source": [
        "# decode_sequence(inh)"
      ],
      "metadata": {
        "id": "CQOjSbkSluDg"
      },
      "execution_count": null,
      "outputs": []
    },
    {
      "cell_type": "code",
      "source": [
        "# test_eng_texts = [pair[0] for pair in test_pairs]\n",
        "# for _ in range(30):\n",
        "#     input_sentence = random.choice(test_eng_texts)\n",
        "#     try:\n",
        "#         translated = decode_sequence(input_sentence)\n",
        "#         print(f\"Input: {input_sentence}\")\n",
        "#         print(f\"Translated: {translated}\")\n",
        "#         print()\n",
        "#     except IndexError:\n",
        "#         print(\"Error: Unable to decode the sequence\")\n",
        "#         print()\n"
      ],
      "metadata": {
        "id": "kNj_oT6ylXl-"
      },
      "execution_count": null,
      "outputs": []
    }
  ]
}