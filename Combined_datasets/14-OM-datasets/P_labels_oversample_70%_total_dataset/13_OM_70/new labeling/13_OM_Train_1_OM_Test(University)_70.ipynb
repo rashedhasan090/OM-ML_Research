{
  "cells": [
    {
      "cell_type": "markdown",
      "metadata": {
        "id": "J0Qjg6vuaHNt"
      },
      "source": [
        "\n",
        "# 13_OM_Train_1_OM_Test(University)-70\n",
        "\n",
        "# P oversample increased to 70%\n",
        "\n",
        "P instances have been increased through oversampling. \n",
        "\n",
        "###13 OM Dataset -  Camping,  Bank, , E-Commerce,  Traffic Controller, Library Management, School OM, Store OM, Student-course , Canteen OM, Hospital Management , Decider (Unseen) , Online Store, Customer Order\n",
        "\n",
        "###1 OM - Testing - University (Unseen)  \n",
        "\n",
        "## P - NP Distribution \n",
        "\n",
        "### 70% - 30%\n",
        "\n",
        "\n",
        "\n",
        "## Training \n",
        "\n",
        "\n",
        "### Total instances - 30940\n",
        "\n",
        "### P samples - 21658 P \n",
        "### NP samples -  9282 NP\n",
        "\n",
        "## Testing \n",
        "\n",
        "### Total instances - 31\n",
        "\n",
        "### P samples - 10\n",
        "### NP samples - 21\n",
        "\n"
      ]
    },
    {
      "cell_type": "markdown",
      "metadata": {
        "id": "yAmSR1FaqKrl"
      },
      "source": [
        "## Setup (installing necessary libraries)"
      ]
    },
    {
      "cell_type": "code",
      "execution_count": 1,
      "metadata": {
        "id": "DGFTkuRvzWqc",
        "colab": {
          "base_uri": "https://localhost:8080/"
        },
        "outputId": "969164f8-1a63-4091-e766-91787db2f6a4"
      },
      "outputs": [
        {
          "output_type": "stream",
          "name": "stdout",
          "text": [
            "Looking in indexes: https://pypi.org/simple, https://us-python.pkg.dev/colab-wheels/public/simple/\n",
            "Collecting tensorflow-text>=2.10\n",
            "  Downloading tensorflow_text-2.12.1-cp310-cp310-manylinux_2_17_x86_64.manylinux2014_x86_64.whl (6.0 MB)\n",
            "\u001b[2K     \u001b[90m━━━━━━━━━━━━━━━━━━━━━━━━━━━━━━━━━━━━━━━━\u001b[0m \u001b[32m6.0/6.0 MB\u001b[0m \u001b[31m100.2 MB/s\u001b[0m eta \u001b[36m0:00:00\u001b[0m\n",
            "\u001b[?25hRequirement already satisfied: tensorflow-hub>=0.8.0 in /usr/local/lib/python3.10/dist-packages (from tensorflow-text>=2.10) (0.13.0)\n",
            "Requirement already satisfied: tensorflow<2.13,>=2.12.0 in /usr/local/lib/python3.10/dist-packages (from tensorflow-text>=2.10) (2.12.0)\n",
            "Requirement already satisfied: absl-py>=1.0.0 in /usr/local/lib/python3.10/dist-packages (from tensorflow<2.13,>=2.12.0->tensorflow-text>=2.10) (1.4.0)\n",
            "Requirement already satisfied: astunparse>=1.6.0 in /usr/local/lib/python3.10/dist-packages (from tensorflow<2.13,>=2.12.0->tensorflow-text>=2.10) (1.6.3)\n",
            "Requirement already satisfied: flatbuffers>=2.0 in /usr/local/lib/python3.10/dist-packages (from tensorflow<2.13,>=2.12.0->tensorflow-text>=2.10) (23.3.3)\n",
            "Requirement already satisfied: gast<=0.4.0,>=0.2.1 in /usr/local/lib/python3.10/dist-packages (from tensorflow<2.13,>=2.12.0->tensorflow-text>=2.10) (0.4.0)\n",
            "Requirement already satisfied: google-pasta>=0.1.1 in /usr/local/lib/python3.10/dist-packages (from tensorflow<2.13,>=2.12.0->tensorflow-text>=2.10) (0.2.0)\n",
            "Requirement already satisfied: grpcio<2.0,>=1.24.3 in /usr/local/lib/python3.10/dist-packages (from tensorflow<2.13,>=2.12.0->tensorflow-text>=2.10) (1.54.0)\n",
            "Requirement already satisfied: h5py>=2.9.0 in /usr/local/lib/python3.10/dist-packages (from tensorflow<2.13,>=2.12.0->tensorflow-text>=2.10) (3.8.0)\n",
            "Requirement already satisfied: jax>=0.3.15 in /usr/local/lib/python3.10/dist-packages (from tensorflow<2.13,>=2.12.0->tensorflow-text>=2.10) (0.4.8)\n",
            "Requirement already satisfied: keras<2.13,>=2.12.0 in /usr/local/lib/python3.10/dist-packages (from tensorflow<2.13,>=2.12.0->tensorflow-text>=2.10) (2.12.0)\n",
            "Requirement already satisfied: libclang>=13.0.0 in /usr/local/lib/python3.10/dist-packages (from tensorflow<2.13,>=2.12.0->tensorflow-text>=2.10) (16.0.0)\n",
            "Requirement already satisfied: numpy<1.24,>=1.22 in /usr/local/lib/python3.10/dist-packages (from tensorflow<2.13,>=2.12.0->tensorflow-text>=2.10) (1.22.4)\n",
            "Requirement already satisfied: opt-einsum>=2.3.2 in /usr/local/lib/python3.10/dist-packages (from tensorflow<2.13,>=2.12.0->tensorflow-text>=2.10) (3.3.0)\n",
            "Requirement already satisfied: packaging in /usr/local/lib/python3.10/dist-packages (from tensorflow<2.13,>=2.12.0->tensorflow-text>=2.10) (23.1)\n",
            "Requirement already satisfied: protobuf!=4.21.0,!=4.21.1,!=4.21.2,!=4.21.3,!=4.21.4,!=4.21.5,<5.0.0dev,>=3.20.3 in /usr/local/lib/python3.10/dist-packages (from tensorflow<2.13,>=2.12.0->tensorflow-text>=2.10) (3.20.3)\n",
            "Requirement already satisfied: setuptools in /usr/local/lib/python3.10/dist-packages (from tensorflow<2.13,>=2.12.0->tensorflow-text>=2.10) (67.7.2)\n",
            "Requirement already satisfied: six>=1.12.0 in /usr/local/lib/python3.10/dist-packages (from tensorflow<2.13,>=2.12.0->tensorflow-text>=2.10) (1.16.0)\n",
            "Requirement already satisfied: tensorboard<2.13,>=2.12 in /usr/local/lib/python3.10/dist-packages (from tensorflow<2.13,>=2.12.0->tensorflow-text>=2.10) (2.12.2)\n",
            "Requirement already satisfied: tensorflow-estimator<2.13,>=2.12.0 in /usr/local/lib/python3.10/dist-packages (from tensorflow<2.13,>=2.12.0->tensorflow-text>=2.10) (2.12.0)\n",
            "Requirement already satisfied: termcolor>=1.1.0 in /usr/local/lib/python3.10/dist-packages (from tensorflow<2.13,>=2.12.0->tensorflow-text>=2.10) (2.3.0)\n",
            "Requirement already satisfied: typing-extensions>=3.6.6 in /usr/local/lib/python3.10/dist-packages (from tensorflow<2.13,>=2.12.0->tensorflow-text>=2.10) (4.5.0)\n",
            "Requirement already satisfied: wrapt<1.15,>=1.11.0 in /usr/local/lib/python3.10/dist-packages (from tensorflow<2.13,>=2.12.0->tensorflow-text>=2.10) (1.14.1)\n",
            "Requirement already satisfied: tensorflow-io-gcs-filesystem>=0.23.1 in /usr/local/lib/python3.10/dist-packages (from tensorflow<2.13,>=2.12.0->tensorflow-text>=2.10) (0.32.0)\n",
            "Requirement already satisfied: wheel<1.0,>=0.23.0 in /usr/local/lib/python3.10/dist-packages (from astunparse>=1.6.0->tensorflow<2.13,>=2.12.0->tensorflow-text>=2.10) (0.40.0)\n",
            "Requirement already satisfied: ml-dtypes>=0.0.3 in /usr/local/lib/python3.10/dist-packages (from jax>=0.3.15->tensorflow<2.13,>=2.12.0->tensorflow-text>=2.10) (0.1.0)\n",
            "Requirement already satisfied: scipy>=1.7 in /usr/local/lib/python3.10/dist-packages (from jax>=0.3.15->tensorflow<2.13,>=2.12.0->tensorflow-text>=2.10) (1.10.1)\n",
            "Requirement already satisfied: google-auth<3,>=1.6.3 in /usr/local/lib/python3.10/dist-packages (from tensorboard<2.13,>=2.12->tensorflow<2.13,>=2.12.0->tensorflow-text>=2.10) (2.17.3)\n",
            "Requirement already satisfied: google-auth-oauthlib<1.1,>=0.5 in /usr/local/lib/python3.10/dist-packages (from tensorboard<2.13,>=2.12->tensorflow<2.13,>=2.12.0->tensorflow-text>=2.10) (1.0.0)\n",
            "Requirement already satisfied: markdown>=2.6.8 in /usr/local/lib/python3.10/dist-packages (from tensorboard<2.13,>=2.12->tensorflow<2.13,>=2.12.0->tensorflow-text>=2.10) (3.4.3)\n",
            "Requirement already satisfied: requests<3,>=2.21.0 in /usr/local/lib/python3.10/dist-packages (from tensorboard<2.13,>=2.12->tensorflow<2.13,>=2.12.0->tensorflow-text>=2.10) (2.27.1)\n",
            "Requirement already satisfied: tensorboard-data-server<0.8.0,>=0.7.0 in /usr/local/lib/python3.10/dist-packages (from tensorboard<2.13,>=2.12->tensorflow<2.13,>=2.12.0->tensorflow-text>=2.10) (0.7.0)\n",
            "Requirement already satisfied: tensorboard-plugin-wit>=1.6.0 in /usr/local/lib/python3.10/dist-packages (from tensorboard<2.13,>=2.12->tensorflow<2.13,>=2.12.0->tensorflow-text>=2.10) (1.8.1)\n",
            "Requirement already satisfied: werkzeug>=1.0.1 in /usr/local/lib/python3.10/dist-packages (from tensorboard<2.13,>=2.12->tensorflow<2.13,>=2.12.0->tensorflow-text>=2.10) (2.3.0)\n",
            "Requirement already satisfied: cachetools<6.0,>=2.0.0 in /usr/local/lib/python3.10/dist-packages (from google-auth<3,>=1.6.3->tensorboard<2.13,>=2.12->tensorflow<2.13,>=2.12.0->tensorflow-text>=2.10) (5.3.0)\n",
            "Requirement already satisfied: pyasn1-modules>=0.2.1 in /usr/local/lib/python3.10/dist-packages (from google-auth<3,>=1.6.3->tensorboard<2.13,>=2.12->tensorflow<2.13,>=2.12.0->tensorflow-text>=2.10) (0.3.0)\n",
            "Requirement already satisfied: rsa<5,>=3.1.4 in /usr/local/lib/python3.10/dist-packages (from google-auth<3,>=1.6.3->tensorboard<2.13,>=2.12->tensorflow<2.13,>=2.12.0->tensorflow-text>=2.10) (4.9)\n",
            "Requirement already satisfied: requests-oauthlib>=0.7.0 in /usr/local/lib/python3.10/dist-packages (from google-auth-oauthlib<1.1,>=0.5->tensorboard<2.13,>=2.12->tensorflow<2.13,>=2.12.0->tensorflow-text>=2.10) (1.3.1)\n",
            "Requirement already satisfied: urllib3<1.27,>=1.21.1 in /usr/local/lib/python3.10/dist-packages (from requests<3,>=2.21.0->tensorboard<2.13,>=2.12->tensorflow<2.13,>=2.12.0->tensorflow-text>=2.10) (1.26.15)\n",
            "Requirement already satisfied: certifi>=2017.4.17 in /usr/local/lib/python3.10/dist-packages (from requests<3,>=2.21.0->tensorboard<2.13,>=2.12->tensorflow<2.13,>=2.12.0->tensorflow-text>=2.10) (2022.12.7)\n",
            "Requirement already satisfied: charset-normalizer~=2.0.0 in /usr/local/lib/python3.10/dist-packages (from requests<3,>=2.21.0->tensorboard<2.13,>=2.12->tensorflow<2.13,>=2.12.0->tensorflow-text>=2.10) (2.0.12)\n",
            "Requirement already satisfied: idna<4,>=2.5 in /usr/local/lib/python3.10/dist-packages (from requests<3,>=2.21.0->tensorboard<2.13,>=2.12->tensorflow<2.13,>=2.12.0->tensorflow-text>=2.10) (3.4)\n",
            "Requirement already satisfied: MarkupSafe>=2.1.1 in /usr/local/lib/python3.10/dist-packages (from werkzeug>=1.0.1->tensorboard<2.13,>=2.12->tensorflow<2.13,>=2.12.0->tensorflow-text>=2.10) (2.1.2)\n",
            "Requirement already satisfied: pyasn1<0.6.0,>=0.4.6 in /usr/local/lib/python3.10/dist-packages (from pyasn1-modules>=0.2.1->google-auth<3,>=1.6.3->tensorboard<2.13,>=2.12->tensorflow<2.13,>=2.12.0->tensorflow-text>=2.10) (0.5.0)\n",
            "Requirement already satisfied: oauthlib>=3.0.0 in /usr/local/lib/python3.10/dist-packages (from requests-oauthlib>=0.7.0->google-auth-oauthlib<1.1,>=0.5->tensorboard<2.13,>=2.12->tensorflow<2.13,>=2.12.0->tensorflow-text>=2.10) (3.2.2)\n",
            "Installing collected packages: tensorflow-text\n",
            "Successfully installed tensorflow-text-2.12.1\n",
            "Looking in indexes: https://pypi.org/simple, https://us-python.pkg.dev/colab-wheels/public/simple/\n",
            "Collecting einops\n",
            "  Downloading einops-0.6.1-py3-none-any.whl (42 kB)\n",
            "\u001b[2K     \u001b[90m━━━━━━━━━━━━━━━━━━━━━━━━━━━━━━━━━━━━━━━━\u001b[0m \u001b[32m42.2/42.2 kB\u001b[0m \u001b[31m5.6 MB/s\u001b[0m eta \u001b[36m0:00:00\u001b[0m\n",
            "\u001b[?25hInstalling collected packages: einops\n",
            "Successfully installed einops-0.6.1\n"
          ]
        }
      ],
      "source": [
        "!pip install \"tensorflow-text>=2.10\"\n",
        "!pip install einops"
      ]
    },
    {
      "cell_type": "markdown",
      "source": [
        "#Importing Libraries "
      ],
      "metadata": {
        "id": "A07RWC45HcG0"
      }
    },
    {
      "cell_type": "code",
      "execution_count": 62,
      "metadata": {
        "id": "tnxXKDjq3jEL"
      },
      "outputs": [],
      "source": [
        "import numpy as np\n",
        "import typing\n",
        "from typing import Any, Tuple\n",
        "from sklearn.model_selection import train_test_split\n",
        "\n",
        "import pathlib\n",
        "\n",
        "import einops\n",
        "import matplotlib.pyplot as plt\n",
        "import matplotlib.ticker as ticker\n",
        "\n",
        "import tensorflow as tf\n",
        "import tensorflow_text as tf_text"
      ]
    },
    {
      "cell_type": "markdown",
      "source": [
        "#Defining the Shapechecker"
      ],
      "metadata": {
        "id": "h87kqCNBHly5"
      }
    },
    {
      "cell_type": "code",
      "execution_count": 63,
      "metadata": {
        "id": "KqFqKi4fqN9X"
      },
      "outputs": [],
      "source": [
        "#@title\n",
        "class ShapeChecker():\n",
        "  def __init__(self):\n",
        "    # Keep a cache of every axis-name seen\n",
        "    self.shapes = {}\n",
        "\n",
        "  def __call__(self, tensor, names, broadcast=False):\n",
        "    if not tf.executing_eagerly():\n",
        "      return\n",
        "\n",
        "    parsed = einops.parse_shape(tensor, names)\n",
        "\n",
        "    for name, new_dim in parsed.items():\n",
        "      old_dim = self.shapes.get(name, None)\n",
        "      \n",
        "      if (broadcast and new_dim == 1):\n",
        "        continue\n",
        "\n",
        "      if old_dim is None:\n",
        "        # If the axis name is new, add its length to the cache.\n",
        "        self.shapes[name] = new_dim\n",
        "        continue\n",
        "\n",
        "      if new_dim != old_dim:\n",
        "        raise ValueError(f\"Shape mismatch for dimension: '{name}'\\n\"\n",
        "                         f\"    found: {new_dim}\\n\"\n",
        "                         f\"    expected: {old_dim}\\n\")"
      ]
    },
    {
      "cell_type": "markdown",
      "metadata": {
        "id": "dB7rgJDbeBDF"
      },
      "source": [
        "# Loading the Dataset"
      ]
    },
    {
      "cell_type": "code",
      "execution_count": 64,
      "metadata": {
        "id": "daNcrh1lVej7"
      },
      "outputs": [],
      "source": [
        "import pandas as pd\n",
        "ORM_data = pd.read_excel('13_OM_70_label.xlsx')\n"
      ]
    },
    {
      "cell_type": "markdown",
      "source": [
        "#Reading Data from Dataset"
      ],
      "metadata": {
        "id": "KbiGtupGHyJd"
      }
    },
    {
      "cell_type": "code",
      "execution_count": 65,
      "metadata": {
        "colab": {
          "base_uri": "https://localhost:8080/",
          "height": 206
        },
        "id": "ve7kyoOxWY1u",
        "outputId": "040f2091-69b3-4d3c-ffee-1644198a1fc7"
      },
      "outputs": [
        {
          "output_type": "execute_result",
          "data": {
            "text/plain": [
              "                                          OM_Regular  \\\n",
              "0  module OM_name:0 , open Declaration one sig cl...   \n",
              "1  module OM_name:0 , open Declaration one sig cl...   \n",
              "2  module OM_name:0 , open Declaration one sig cl...   \n",
              "3  module OM_name:0 , open Declaration one sig cl...   \n",
              "4  module OM_name:0 , open Declaration one sig cl...   \n",
              "\n",
              "                                       OM_Prediction  \n",
              "0  P, module OM_name:0 , open Declaration one sig...  \n",
              "1  P, module OM_name:0 , open Declaration one sig...  \n",
              "2  P, module OM_name:0 , open Declaration one sig...  \n",
              "3  P, module OM_name:0 , open Declaration one sig...  \n",
              "4  P, module OM_name:0 , open Declaration one sig...  "
            ],
            "text/html": [
              "\n",
              "  <div id=\"df-215fc22b-7c0e-4fc9-a683-6ce8c04b4863\">\n",
              "    <div class=\"colab-df-container\">\n",
              "      <div>\n",
              "<style scoped>\n",
              "    .dataframe tbody tr th:only-of-type {\n",
              "        vertical-align: middle;\n",
              "    }\n",
              "\n",
              "    .dataframe tbody tr th {\n",
              "        vertical-align: top;\n",
              "    }\n",
              "\n",
              "    .dataframe thead th {\n",
              "        text-align: right;\n",
              "    }\n",
              "</style>\n",
              "<table border=\"1\" class=\"dataframe\">\n",
              "  <thead>\n",
              "    <tr style=\"text-align: right;\">\n",
              "      <th></th>\n",
              "      <th>OM_Regular</th>\n",
              "      <th>OM_Prediction</th>\n",
              "    </tr>\n",
              "  </thead>\n",
              "  <tbody>\n",
              "    <tr>\n",
              "      <th>0</th>\n",
              "      <td>module OM_name:0 , open Declaration one sig cl...</td>\n",
              "      <td>P, module OM_name:0 , open Declaration one sig...</td>\n",
              "    </tr>\n",
              "    <tr>\n",
              "      <th>1</th>\n",
              "      <td>module OM_name:0 , open Declaration one sig cl...</td>\n",
              "      <td>P, module OM_name:0 , open Declaration one sig...</td>\n",
              "    </tr>\n",
              "    <tr>\n",
              "      <th>2</th>\n",
              "      <td>module OM_name:0 , open Declaration one sig cl...</td>\n",
              "      <td>P, module OM_name:0 , open Declaration one sig...</td>\n",
              "    </tr>\n",
              "    <tr>\n",
              "      <th>3</th>\n",
              "      <td>module OM_name:0 , open Declaration one sig cl...</td>\n",
              "      <td>P, module OM_name:0 , open Declaration one sig...</td>\n",
              "    </tr>\n",
              "    <tr>\n",
              "      <th>4</th>\n",
              "      <td>module OM_name:0 , open Declaration one sig cl...</td>\n",
              "      <td>P, module OM_name:0 , open Declaration one sig...</td>\n",
              "    </tr>\n",
              "  </tbody>\n",
              "</table>\n",
              "</div>\n",
              "      <button class=\"colab-df-convert\" onclick=\"convertToInteractive('df-215fc22b-7c0e-4fc9-a683-6ce8c04b4863')\"\n",
              "              title=\"Convert this dataframe to an interactive table.\"\n",
              "              style=\"display:none;\">\n",
              "        \n",
              "  <svg xmlns=\"http://www.w3.org/2000/svg\" height=\"24px\"viewBox=\"0 0 24 24\"\n",
              "       width=\"24px\">\n",
              "    <path d=\"M0 0h24v24H0V0z\" fill=\"none\"/>\n",
              "    <path d=\"M18.56 5.44l.94 2.06.94-2.06 2.06-.94-2.06-.94-.94-2.06-.94 2.06-2.06.94zm-11 1L8.5 8.5l.94-2.06 2.06-.94-2.06-.94L8.5 2.5l-.94 2.06-2.06.94zm10 10l.94 2.06.94-2.06 2.06-.94-2.06-.94-.94-2.06-.94 2.06-2.06.94z\"/><path d=\"M17.41 7.96l-1.37-1.37c-.4-.4-.92-.59-1.43-.59-.52 0-1.04.2-1.43.59L10.3 9.45l-7.72 7.72c-.78.78-.78 2.05 0 2.83L4 21.41c.39.39.9.59 1.41.59.51 0 1.02-.2 1.41-.59l7.78-7.78 2.81-2.81c.8-.78.8-2.07 0-2.86zM5.41 20L4 18.59l7.72-7.72 1.47 1.35L5.41 20z\"/>\n",
              "  </svg>\n",
              "      </button>\n",
              "      \n",
              "  <style>\n",
              "    .colab-df-container {\n",
              "      display:flex;\n",
              "      flex-wrap:wrap;\n",
              "      gap: 12px;\n",
              "    }\n",
              "\n",
              "    .colab-df-convert {\n",
              "      background-color: #E8F0FE;\n",
              "      border: none;\n",
              "      border-radius: 50%;\n",
              "      cursor: pointer;\n",
              "      display: none;\n",
              "      fill: #1967D2;\n",
              "      height: 32px;\n",
              "      padding: 0 0 0 0;\n",
              "      width: 32px;\n",
              "    }\n",
              "\n",
              "    .colab-df-convert:hover {\n",
              "      background-color: #E2EBFA;\n",
              "      box-shadow: 0px 1px 2px rgba(60, 64, 67, 0.3), 0px 1px 3px 1px rgba(60, 64, 67, 0.15);\n",
              "      fill: #174EA6;\n",
              "    }\n",
              "\n",
              "    [theme=dark] .colab-df-convert {\n",
              "      background-color: #3B4455;\n",
              "      fill: #D2E3FC;\n",
              "    }\n",
              "\n",
              "    [theme=dark] .colab-df-convert:hover {\n",
              "      background-color: #434B5C;\n",
              "      box-shadow: 0px 1px 3px 1px rgba(0, 0, 0, 0.15);\n",
              "      filter: drop-shadow(0px 1px 2px rgba(0, 0, 0, 0.3));\n",
              "      fill: #FFFFFF;\n",
              "    }\n",
              "  </style>\n",
              "\n",
              "      <script>\n",
              "        const buttonEl =\n",
              "          document.querySelector('#df-215fc22b-7c0e-4fc9-a683-6ce8c04b4863 button.colab-df-convert');\n",
              "        buttonEl.style.display =\n",
              "          google.colab.kernel.accessAllowed ? 'block' : 'none';\n",
              "\n",
              "        async function convertToInteractive(key) {\n",
              "          const element = document.querySelector('#df-215fc22b-7c0e-4fc9-a683-6ce8c04b4863');\n",
              "          const dataTable =\n",
              "            await google.colab.kernel.invokeFunction('convertToInteractive',\n",
              "                                                     [key], {});\n",
              "          if (!dataTable) return;\n",
              "\n",
              "          const docLinkHtml = 'Like what you see? Visit the ' +\n",
              "            '<a target=\"_blank\" href=https://colab.research.google.com/notebooks/data_table.ipynb>data table notebook</a>'\n",
              "            + ' to learn more about interactive tables.';\n",
              "          element.innerHTML = '';\n",
              "          dataTable['output_type'] = 'display_data';\n",
              "          await google.colab.output.renderOutput(dataTable, element);\n",
              "          const docLink = document.createElement('div');\n",
              "          docLink.innerHTML = docLinkHtml;\n",
              "          element.appendChild(docLink);\n",
              "        }\n",
              "      </script>\n",
              "    </div>\n",
              "  </div>\n",
              "  "
            ]
          },
          "metadata": {},
          "execution_count": 65
        }
      ],
      "source": [
        "ORM_data.head()"
      ]
    },
    {
      "cell_type": "code",
      "execution_count": 66,
      "metadata": {
        "id": "V7OaHrVYV-Xd"
      },
      "outputs": [],
      "source": [
        "OM_Regular = ORM_data['OM_Regular'].values\n",
        "OM_Prediction = ORM_data['OM_Prediction'].values"
      ]
    },
    {
      "cell_type": "code",
      "execution_count": 67,
      "metadata": {
        "id": "jTBVOEjFWAI5"
      },
      "outputs": [],
      "source": [
        "X = OM_Regular\n",
        "Y = OM_Prediction"
      ]
    },
    {
      "cell_type": "markdown",
      "metadata": {
        "id": "YOujEo2geGod"
      },
      "source": [
        "#### Dividing data as Target and Context"
      ]
    },
    {
      "cell_type": "code",
      "execution_count": 68,
      "metadata": {
        "id": "cTbSbBz55QtF",
        "colab": {
          "base_uri": "https://localhost:8080/"
        },
        "outputId": "23c4a6af-9526-4d00-af0c-c7f3bd1d8c94"
      },
      "outputs": [
        {
          "output_type": "stream",
          "name": "stdout",
          "text": [
            "module OM_name:0, open Declaration one sig class1_name extends Class attr Set =c1_at1+c1_at2id=c1_at1 no parentisAbstract=No}onesigc1_at1extendsc1_at1_typeonesigc1_at2extendsc1_at2_type, onesigclass2_nameextendsClassattrSet=c2_at1oneparentparentinclass5_nameid=c3_at1isAbstract=No}onesigc2_at1extendsc2_at1_type, onesigclass3_nameextendsClassattrSet=c3_at1+c3_at2+c3_at3+c3_at4+c3_at5id=c3_at1 no parentisAbstract=No}onesigc3_at1extendsc3_at1_typeonesigc3_at1extendsc3_at1_typeonesigc3_at3extendsc3_at3_typeonesigc3_at4extendsc3_at4_typeonesigc3_at5extendsc3_at5_type, onesigclass4_nameextendsClassattrSet=c4_at1+c4_at2id=c4_at1 no parentisAbstract=No}onesigc4_at1extendsc4_at1_typeonesigc4_at2extendsc4_at2_type, onesigclass5_nameextendsClassattrSet=c5_at1+c3_at1id=c5_at1 no parentisAbstract=No}onesigc5_at1extendsc5_at1_type, onesigclass6_nameextendsClassattrSet=c6_at1+c6_at2+c6_at3id=c6_at1 no parentisAbstract=No}onesigc6_at1extendsc6_at1_typeonesigc6_at2extendsc6_at2_typeonesigc6_at3extendsc6_at3_type, onesigclass7_nameextendsClassattrSet=c7_at1oneparentparentinclass5_nameid=c3_at1isAbstract=No}onesigc7_at1extendsc7_at1_type, one sig assoc1extendsAssociationsrc=class6_namedst=class4_name, src_multiplicity=src_mlpcdst_multiplicity=dst_mlpc, }one sig assoc2extendsAssociationsrc=class6_namedst=Customersrc_multiplicity=src_mlpcdst_multiplicity=dst_mlpc, }one sig assoc3extendsAssociationsrc=class3_namedst=class4_name, src_multiplicity=src_mlpc2dst_multiplicity=dst_mlpc, }one sig assoc4extendsAssociationsrc=class3_namedst=class5_namesrc_multiplicity=src_mlpcdst_multiplicity=dst_mlpc, }one sig assoc3extendsAssociation{}{src=class3_namedst=class1_namesrc_multiplicity=src_mlpcdst_multiplicity=dst_mlpc, } pred show run show​ , Table class1_name: Attribute c1_at1 PRIMARY  KEY  Table class1_name: Attribute c1_at2Table class2_name: Attribute c2_at1 PRIMARY  KEY  Table class3_name: Attribute c3_at4Table class3_name: Attribute c3_at5Table class3_name: Attribute c3_at2Table class3_name: Attribute c3_at2Table class4_name: Attribute c4_at1 PRIMARY  KEY  Table class4_name: Attribute c4_at2Table class5_name: Attribute c3_at1 PRIMARY  KEY  Table class5_name: Attribute c5_at1 Table  class6_name: Attribute c6_at1 PRIMARY  KEY   Table  class6_name: Attribute c6_at2 Table  class6_name: Attribute c6_at3Table class7_name: Attribute c7_at1Table class1_name: Attribute c1_at1 PRIMARY  KEY  Table class4_name: Attribute c4_at1 PRIMARY  KEY  Table class5_name: Attribute c5_at1 Table  class6_name: Attribute c6_at1 PRIMARY  KEY   Table  Name :class1_name Table  Name :class2_name Table  Name :class3_name Table  Name :class4_name Table  Name :class5_name Table  Name :class6_name Table  Name :class7_name Mapping Strategy  for class8_name:map_str2 Mapping Strategy  for class3_name:map_str2 Mapping Strategy  for class5_name:map_str2 Mapping Strategy  for class6_name:map_str2 Mapping Strategy  for class7_name:map_str2 Association Strategy  for assoc1:assoc_type1 Association Strategy  for assoc5:assoc_type1 Association Strategy  for assoc2:assoc_type2 Association Strategy  for assoc3:assoc_type2, USEOM_name_0 CREATE Table  `class5_name`(`c5_at1`c5_at1_type NOT NULL `c3_at1`c3_at2_type PRIMARY  KEY  (`c5_at1`), );USEOM_name_0 CREATE Table  `class5_name`(`c5_at1`c5_at1_type NOT NULL `c3_at1`c3_at2_type PRIMARY  KEY  (`c5_at1`), ); CREATE Table  `class2_name`(`c7_at1`c7_at1_type`c5_at1`c5_at1_type`c3_at1`c3_at2_type PRIMARY  KEY  (`c3_at1`), ); CREATE Table  `class6_name`(`c6_at3`c6_at3_type(64)`c6_at2`c6_at2_type(64)`c6_at1`c6_at1_type NOT NULL  PRIMARY  KEY  (`c6_at1`), ); CREATE Table  `class1_name`(`c1_at2`c4_at2_type(64)`c3_at1`c3_at2_type`c1_at1`c1_at1_type KEY `FK_class1_name_c3_at1_idx`(`c3_at1`),  PRIMARY  KEY  (`c1_at1`), ); CREATE Table  `class3_name`(`c3_at3`c3_at3_type(64)`c3_at2`c3_at2_type(64)`c3_at5`c3_at5_type`c3_at4`c3_at4_type`c3_at1`c3_at2_type PRIMARY  KEY  (`c3_at1`), ); CREATE Table  `class4_name`(`c4_at2`c4_at2_type(64)`c6_at1`c6_at1_type`c4_at1`c4_at1_type NOT NULL  KEY `FK_class4_name_c6_at1_idx`(`c6_at1`) PRIMARY  KEY  (`c4_at1`), ); CREATE Table  `assoc2`(`c6_at1`c6_at1_type NOT NULL `c3_at1`c3_at2_type KEY `FK_assoc2_c6_at1_idx`(`c6_at1`),  KEY `FK_assoc2_c3_at1_idx`(`c3_at1`) PRIMARY  KEY  (`c6_at1`, `c3_at1`), ); CREATE Table  `assoc3`(`c4_at1`c4_at1_type NOT NULL `c3_at1`c3_at2_type KEY `FK_assoc3_c4_at1_idx`(`c4_at1`) KEY `FK_assoc3_c3_at1_idx`(`c3_at1`) PRIMARY  KEY  (`c4_at1`, `c3_at1`), ); CREATE Table  `assoc4`(`c5_at1`c5_at1_type NOT NULL `c3_at1`c3_at2_type KEY `FK_assoc4_c5_at1_idx`(`c5_at1`) KEY `FK_assoc4_c3_at1_idx`(`c3_at1`),  PRIMARY  KEY  (`c5_at1`, `c3_at1`)); CREATE Table  `class8_name`(`c5_at1`c5_at1_type`c3_at1`c3_at2_type`c2_at1`c2_at1_type PRIMARY  KEY  (`c3_at1`), ); ALTER Table  `class1_name`ADD CONSTRAINT `FK_class1_name_c3_at1` FOREIGN  KEY  (`c3_at1`) REFERENCES `class3_name`(`c3_at1`) ON DELETE CASCADE ON UPDATE CASCADE ,  ALTER Table  `class4_name`ADD CONSTRAINT `FK_class4_name_c6_at1` FOREIGN  KEY  (`c6_at1`) REFERENCES `class6_name`(`c6_at1`) ON DELETE CASCADE ON UPDATE CASCADE ,  ALTER Table  `assoc2`ADD CONSTRAINT `FK_assoc2_c6_at1` FOREIGN  KEY  (`c6_at1`) REFERENCES `class6_name`(`c6_at1`) ON DELETE CASCADE ON UPDATE CASCADE ADD CONSTRAINT `FK_assoc2_c3_at1` FOREIGN  KEY  (`c3_at1`) REFERENCES `class3_name`(`c3_at1`) ON DELETE CASCADE ON UPDATE CASCADE ,  ALTER Table  `assoc3`ADD CONSTRAINT `FK_assoc3_c4_at1` FOREIGN  KEY  (`c4_at1`) REFERENCES `class4_name`(`c4_at1`) ON DELETE CASCADE ON UPDATE CASCADE ADD CONSTRAINT `FK_assoc3_c3_at1` FOREIGN  KEY  (`c3_at1`) REFERENCES `class3_name`(`c3_at1`) ON DELETE CASCADE ON UPDATE CASCADE ,  ALTER Table  `assoc4`ADD CONSTRAINT `FK_assoc4_c5_at1` FOREIGN  KEY  (`c5_at1`) REFERENCES `class5_name`(`c5_at1`) ON DELETE CASCADE ON UPDATE CASCADE ADD CONSTRAINT `FK_assoc4_c5_at1` FOREIGN  KEY  (`c5_at1`) REFERENCES `class5_name`(`c5_at1`) ON DELETE CASCADE ON UPDATE CASCADE \n"
          ]
        }
      ],
      "source": [
        "target_raw =  Y\n",
        "context_raw = X\n",
        "print(context_raw[-1])"
      ]
    },
    {
      "cell_type": "code",
      "execution_count": 69,
      "metadata": {
        "id": "lH_dPY8TRp3c",
        "colab": {
          "base_uri": "https://localhost:8080/"
        },
        "outputId": "701ba317-e93b-4403-c8b5-a85c0671f9fb"
      },
      "outputs": [
        {
          "output_type": "stream",
          "name": "stdout",
          "text": [
            "NP, module OM_name:0, open Declaration one sig class1_name extends Class attr Set =c1_at1+c1_at2id=c1_at1 no parentisAbstract=No}onesigc1_at1extendsc1_at1_typeonesigc1_at2extendsc1_at2_type, onesigclass2_nameextendsClassattrSet=c2_at1oneparentparentinclass5_nameid=c3_at1isAbstract=No}onesigc2_at1extendsc2_at1_type, onesigclass3_nameextendsClassattrSet=c3_at1+c3_at2+c3_at3+c3_at4+c3_at5id=c3_at1 no parentisAbstract=No}onesigc3_at1extendsc3_at1_typeonesigc3_at1extendsc3_at1_typeonesigc3_at3extendsc3_at3_typeonesigc3_at4extendsc3_at4_typeonesigc3_at5extendsc3_at5_type, onesigclass4_nameextendsClassattrSet=c4_at1+c4_at2id=c4_at1 no parentisAbstract=No}onesigc4_at1extendsc4_at1_typeonesigc4_at2extendsc4_at2_type, onesigclass5_nameextendsClassattrSet=c5_at1+c3_at1id=c5_at1 no parentisAbstract=No}onesigc5_at1extendsc5_at1_type, onesigclass6_nameextendsClassattrSet=c6_at1+c6_at2+c6_at3id=c6_at1 no parentisAbstract=No}onesigc6_at1extendsc6_at1_typeonesigc6_at2extendsc6_at2_typeonesigc6_at3extendsc6_at3_type, onesigclass7_nameextendsClassattrSet=c7_at1oneparentparentinclass5_nameid=c3_at1isAbstract=No}onesigc7_at1extendsc7_at1_type, one sig assoc1extendsAssociationsrc=class6_namedst=class4_name, src_multiplicity=src_mlpcdst_multiplicity=dst_mlpc, }one sig assoc2extendsAssociationsrc=class6_namedst=Customersrc_multiplicity=src_mlpcdst_multiplicity=dst_mlpc, }one sig assoc3extendsAssociationsrc=class3_namedst=class4_name, src_multiplicity=src_mlpc2dst_multiplicity=dst_mlpc, }one sig assoc4extendsAssociationsrc=class3_namedst=class5_namesrc_multiplicity=src_mlpcdst_multiplicity=dst_mlpc, }one sig assoc3extendsAssociation{}{src=class3_namedst=class1_namesrc_multiplicity=src_mlpcdst_multiplicity=dst_mlpc, } pred show run show​ , Table class1_name: Attribute c1_at1 PRIMARY  KEY  Table class1_name: Attribute c1_at2Table class2_name: Attribute c2_at1 PRIMARY  KEY  Table class3_name: Attribute c3_at4Table class3_name: Attribute c3_at5Table class3_name: Attribute c3_at2Table class3_name: Attribute c3_at2Table class4_name: Attribute c4_at1 PRIMARY  KEY  Table class4_name: Attribute c4_at2Table class5_name: Attribute c3_at1 PRIMARY  KEY  Table class5_name: Attribute c5_at1 Table  class6_name: Attribute c6_at1 PRIMARY  KEY   Table  class6_name: Attribute c6_at2 Table  class6_name: Attribute c6_at3Table class7_name: Attribute c7_at1Table class1_name: Attribute c1_at1 PRIMARY  KEY  Table class4_name: Attribute c4_at1 PRIMARY  KEY  Table class5_name: Attribute c5_at1 Table  class6_name: Attribute c6_at1 PRIMARY  KEY   Table  Name :class1_name Table  Name :class2_name Table  Name :class3_name Table  Name :class4_name Table  Name :class5_name Table  Name :class6_name Table  Name :class7_name Mapping Strategy  for class8_name:map_str2 Mapping Strategy  for class3_name:map_str2 Mapping Strategy  for class5_name:map_str2 Mapping Strategy  for class6_name:map_str2 Mapping Strategy  for class7_name:map_str2 Association Strategy  for assoc1:assoc_type1 Association Strategy  for assoc5:assoc_type1 Association Strategy  for assoc2:assoc_type2 Association Strategy  for assoc3:assoc_type2, USEOM_name_0 CREATE Table  `class5_name`(`c5_at1`c5_at1_type NOT NULL `c3_at1`c3_at2_type PRIMARY  KEY  (`c5_at1`), );USEOM_name_0 CREATE Table  `class5_name`(`c5_at1`c5_at1_type NOT NULL `c3_at1`c3_at2_type PRIMARY  KEY  (`c5_at1`), ); CREATE Table  `class2_name`(`c7_at1`c7_at1_type`c5_at1`c5_at1_type`c3_at1`c3_at2_type PRIMARY  KEY  (`c3_at1`), ); CREATE Table  `class6_name`(`c6_at3`c6_at3_type(64)`c6_at2`c6_at2_type(64)`c6_at1`c6_at1_type NOT NULL  PRIMARY  KEY  (`c6_at1`), ); CREATE Table  `class1_name`(`c1_at2`c4_at2_type(64)`c3_at1`c3_at2_type`c1_at1`c1_at1_type KEY `FK_class1_name_c3_at1_idx`(`c3_at1`),  PRIMARY  KEY  (`c1_at1`), ); CREATE Table  `class3_name`(`c3_at3`c3_at3_type(64)`c3_at2`c3_at2_type(64)`c3_at5`c3_at5_type`c3_at4`c3_at4_type`c3_at1`c3_at2_type PRIMARY  KEY  (`c3_at1`), ); CREATE Table  `class4_name`(`c4_at2`c4_at2_type(64)`c6_at1`c6_at1_type`c4_at1`c4_at1_type NOT NULL  KEY `FK_class4_name_c6_at1_idx`(`c6_at1`) PRIMARY  KEY  (`c4_at1`), ); CREATE Table  `assoc2`(`c6_at1`c6_at1_type NOT NULL `c3_at1`c3_at2_type KEY `FK_assoc2_c6_at1_idx`(`c6_at1`),  KEY `FK_assoc2_c3_at1_idx`(`c3_at1`) PRIMARY  KEY  (`c6_at1`, `c3_at1`), ); CREATE Table  `assoc3`(`c4_at1`c4_at1_type NOT NULL `c3_at1`c3_at2_type KEY `FK_assoc3_c4_at1_idx`(`c4_at1`) KEY `FK_assoc3_c3_at1_idx`(`c3_at1`) PRIMARY  KEY  (`c4_at1`, `c3_at1`), ); CREATE Table  `assoc4`(`c5_at1`c5_at1_type NOT NULL `c3_at1`c3_at2_type KEY `FK_assoc4_c5_at1_idx`(`c5_at1`) KEY `FK_assoc4_c3_at1_idx`(`c3_at1`),  PRIMARY  KEY  (`c5_at1`, `c3_at1`)); CREATE Table  `class8_name`(`c5_at1`c5_at1_type`c3_at1`c3_at2_type`c2_at1`c2_at1_type PRIMARY  KEY  (`c3_at1`), ); ALTER Table  `class1_name`ADD CONSTRAINT `FK_class1_name_c3_at1` FOREIGN  KEY  (`c3_at1`) REFERENCES `class3_name`(`c3_at1`) ON DELETE CASCADE ON UPDATE CASCADE ,  ALTER Table  `class4_name`ADD CONSTRAINT `FK_class4_name_c6_at1` FOREIGN  KEY  (`c6_at1`) REFERENCES `class6_name`(`c6_at1`) ON DELETE CASCADE ON UPDATE CASCADE ,  ALTER Table  `assoc2`ADD CONSTRAINT `FK_assoc2_c6_at1` FOREIGN  KEY  (`c6_at1`) REFERENCES `class6_name`(`c6_at1`) ON DELETE CASCADE ON UPDATE CASCADE ADD CONSTRAINT `FK_assoc2_c3_at1` FOREIGN  KEY  (`c3_at1`) REFERENCES `class3_name`(`c3_at1`) ON DELETE CASCADE ON UPDATE CASCADE ,  ALTER Table  `assoc3`ADD CONSTRAINT `FK_assoc3_c4_at1` FOREIGN  KEY  (`c4_at1`) REFERENCES `class4_name`(`c4_at1`) ON DELETE CASCADE ON UPDATE CASCADE ADD CONSTRAINT `FK_assoc3_c3_at1` FOREIGN  KEY  (`c3_at1`) REFERENCES `class3_name`(`c3_at1`) ON DELETE CASCADE ON UPDATE CASCADE ,  ALTER Table  `assoc4`ADD CONSTRAINT `FK_assoc4_c5_at1` FOREIGN  KEY  (`c5_at1`) REFERENCES `class5_name`(`c5_at1`) ON DELETE CASCADE ON UPDATE CASCADE ADD CONSTRAINT `FK_assoc4_c5_at1` FOREIGN  KEY  (`c5_at1`) REFERENCES `class5_name`(`c5_at1`) ON DELETE CASCADE ON UPDATE CASCADE \n"
          ]
        }
      ],
      "source": [
        "print(target_raw[-1])"
      ]
    },
    {
      "cell_type": "markdown",
      "metadata": {
        "id": "rgCLkfv5uO3d"
      },
      "source": [
        "### Create a tf.data dataset"
      ]
    },
    {
      "cell_type": "markdown",
      "metadata": {
        "id": "PfVWx3WaI5Df"
      },
      "source": [
        "From these arrays of strings you can create a `tf.data.Dataset` of strings that shuffles and batches them efficiently:"
      ]
    },
    {
      "cell_type": "code",
      "execution_count": 70,
      "metadata": {
        "id": "3rZFgz69nMPa"
      },
      "outputs": [],
      "source": [
        "BUFFER_SIZE = len(context_raw)\n",
        "BATCH_SIZE = 1\n",
        "\n",
        "is_train = np.random.uniform(size=(len(target_raw),)) < 0.8\n",
        "\n",
        "train_raw = (\n",
        "    tf.data.Dataset\n",
        "    .from_tensor_slices((context_raw[is_train], target_raw[is_train]))\n",
        "    .shuffle(BUFFER_SIZE)\n",
        "    .batch(BATCH_SIZE))\n",
        "val_raw = (\n",
        "    tf.data.Dataset\n",
        "    .from_tensor_slices((context_raw[~is_train], target_raw[~is_train]))\n",
        "    .shuffle(BUFFER_SIZE)\n",
        "    .batch(BATCH_SIZE))"
      ]
    },
    {
      "cell_type": "code",
      "execution_count": 71,
      "metadata": {
        "id": "qc6-NK1GtWQt",
        "colab": {
          "base_uri": "https://localhost:8080/"
        },
        "outputId": "bf5366b7-a3cd-4b9c-fca0-d783328861eb"
      },
      "outputs": [
        {
          "output_type": "stream",
          "name": "stdout",
          "text": [
            "tf.Tensor([b\"module OM_name 0;open Declarationone sig class1_name extends ClassattrSet = c1_at1+c1_at2id=c1_at1no parentisAbstract = No}one sig c1_at1 extends c1_at1_typeone sig c1_at2 extends c1_at2_typeone sig class2_name extends ClassattrSet = c2_at1+c2_at2id=c2_at1no parentisAbstract = No}one sig c2_at1 extends c2_at1_typeone sig c2_at1 extends c2_at2_typeone sig class3_name extends ClassattrSet = c3_at1+c3_at2+c3_at3+c3_at4c3_at5+c3_at6id=c3_at1no parentisAbstract = No}one sig c3_at1 extends c3_at1_typeone sig c3_at2 extends c3_at2_typeone sig c3_at3 extends c3_at3_typeone sig c3_at4 extends c3_at4_typeone sig c3_at5 extends c3_at5_typeone sig c3_at6 extends c3_at6_typeone sig class4_name extends ClassattrSet = c4_at1+c4_at2+c4_at3+c4_at4id=c4_at3no parentisAbstract = No}one sig c4_at1 extends c4_at1_typeone sig c4_at2 extends c4_at2_typeone sig c4_at3 extends c4_at3_typeone sig c4_at4 extends c4_at4_typeone sig class5_name extends ClassattrSet = c5_at1one parentparent in class2_nameid = c2_at1isAbstract = No}one sig c5_at1 extends c5_at1_typeone sig class6_name extends ClassattrSet = c6_at1_0+c6_at2+c6_at3+c6_at4id=c6_at2no parentisAbstract = No}one sig c6_at1_0 extends c6_at1_typeone sig c6_at2 extends c6_at2_typeone sig c6_at3 extends c6_at3_typeone sig c6_at4 extends c6_at4_typeone sig class7_name extends ClassattrSet = c7_at1one parentparent in class2_nameid = c2_at1isAbstract = No}one sig c7_at1 extends c7_at1_typeone sig class8_name extends ClassattrSet = c8_at1one parentparent in class2_nameid = c2_at1isAbstract = No}one sig c8_at1 extends c8_at1_typeone sig class9_name extends ClassattrSet = c9_at1one parentparent in class2_nameid = c2_at1isAbstract = No}one sig c9_at1 extends c9_at1_typeone sig class10_name extends ClassattrSet = c10_at1+c10_at2+c2_at2+c6_at3id=c10_at1no parentisAbstract = No}one sig c10_at1 extends c10_at1_typeone sig c10_at2 extends c10_at2_typeone sig assoc10 extends Associationsrc = class10_namedst= class2_namesrc_multiplicity = src_mlpcdst_multiplicity = dst_mlpc}one sig assoc1 extends Associationsrc = class2_namedst= class4_namesrc_multiplicity = src_mlpc2dst_multiplicity = dst_mlpc}one sig assoc2 extends Associationsrc = class10_namedst= class3_namesrc_multiplicity = src_mlpcdst_multiplicity = dst_mlpc}one sig assoc3 extends Associationsrc = class10_namedst= class4_namesrc_multiplicity = src_mlpcdst_multiplicity = dst_mlpc}one sig assoc4 extends Associationsrc = class10_namedst= class6_namesrc_multiplicity = src_mlpcdst_multiplicity = dst_mlpc2}one sig assoc5 extends Associationsrc = class6_namedst= class1_namesrc_multiplicity = src_mlpcdst_multiplicity = dst_mlpc2}one sig assoc6 extends Associationsrc = class6_namedst= class4_namesrc_multiplicity = src_mlpcdst_multiplicity = dst_mlpc}one sig assoc7 extends Associationsrc = class1_namedst= class3_namesrc_multiplicity = src_mlpcdst_multiplicity = dst_mlpc}one sig assoc8 extends Associationsrc = class1_namedst= class4_namesrc_multiplicity = src_mlpcdst_multiplicity = dst_mlpc}one sig assoc9 extends Associationsrc = class2_namedst= class3_namesrc_multiplicity = src_mlpcdst_multiplicity = dst_mlpc2}pred showrun show ,Mapping Strategy for class1_name : map_str2Mapping Strategy for class6_name : map_str2Mapping Strategy for class10_name : map_str2Mapping Strategy for class5_name : map_str3Mapping Strategy for class7_name : map_str3Mapping Strategy for class8_name : map_str3Association Strategy for assoc2 : assoc_str1Association Strategy for assoc1 : assoc_str2Association Strategy for assoc3 : assoc_str2Association Strategy for assoc4 : assoc_str2Association Strategy for assoc5 : assoc_str2Association Strategy for assoc6 : assoc_str2Association Strategy for assoc7 : assoc_str2Association Strategy for assoc9 : assoc_str2 ,USE OM_name:0;CREATE TABLE `class7_name` (`c7_at1` c7_at1_type(64) ,`c2_at2` c2_at2_type(64) ,`c2_at1` c2_at1_type NOT NULL ,PRIMARY KEY (`c2_at1`) CREATE TABLE `class5_name` (c5_at1` c5_at1_type(64) ,`c2_at2` c2_at2_type(64) ,`c2_at1` c2_at1_type NOT NULL ,PRIMARY KEY (`c2_at1`) CREATE TABLE `assoc3` (c10_at1` c10_at1_type`c4_at3` c4_at3_type NOT NULL ,CREATE TABLE `class2_name` (`c2_at2` c2_at2_type(64) ,c10_at1` c10_at1_type`c2_at1` c2_at1_type NOT NULL ,KEY `FK_class2_name_c10_at1_idx` (`c10_at1`) ,PRIMARY KEY (`c2_at1`) CREATE TABLE `class3_name` (c10_at1` c10_at1_type`c3_at6` c3_at6_type ,`c3_at5` c3_at5_type ,`c3_at4` c3_at4_type ,`c3_at3` c3_at3_type ,`c3_at2` c3_at2_type ,`c3_at1` c3_at1_type NOT NULL ,KEY `FK_class3_name_c10_at1_idx` (`c10_at1`) ,PRIMARY KEY (`c3_at1`)CREATE TABLE `class1_name` (`c1_at2` c1_at2_type(64) ,`c1_at1` c1_at1_type NOT NULL ,PRIMARY KEY (`c1_at1`)CREATE TABLE `assoc7` (`c3_at1` c3_at1_type NOT NULL ,`c1_at1` c1_at1_type NOT NULL ,KEY `FK_assoc7_c3_at1_idx` (`c3_at1`) ,KEY `FK_assoc7_c1_at1_idx` (`c1_at1`) ,PRIMARY KEY (`c3_at1` ,`c1_at1`)CREATE TABLE `class6_name` (`c6_at4` c6_at4_type(64) ,`c6_at1_0` c6_at1_type(64) ,`c6_at2` c6_at2_type NOT NULL ,PRIMARY KEY (`c6_at2`)CREATE TABLE `assoc1` (`c4_at3` c4_at3_type NOT NULL ,`c2_at1` c2_at1_type NOT NULL ,KEY `FK_assoc1_c4_at3_idx` (`c4_at3`) ,KEY `FK_assoc1_c2_at1_idx` (`c2_at1`) ,PRIMARY KEY (`c4_at3` ,`c2_at1`)CREATE TABLE `assoc4` (c10_at1` c10_at1_type`c6_at2` c6_at2_type NOT NULL ,KEY `FK_assoc4_c10_at1_idx` (`c10_at1`) ,KEY `FK_assoc4_c6_at2_idx` (`c6_at2`) ,PRIMARY KEY (`c10_at1` ,`c6_at2`)Association Strategy for assoc5 : assoc_str2`c6_at2` c6_at2_type NOT NULL ,`c1_at1` c1_at1_type NOT NULL ,KEY `FK_assoc5_c6_at2_idx` (`c6_at2`) ,KEY `FK_assoc5_c1_at1_idx` (`c1_at1`) ,PRIMARY KEY (`c6_at2` ,`c1_at1`)CREATE TABLE `assoc6` (`c6_at2` c6_at2_type NOT NULL ,`c4_at3` c4_at3_type NOT NULL ,KEY `FK_assoc6_c6_at2_idx` (`c6_at2`) ,KEY `FK_assoc6_c4_at3_idx` (`c4_at3`) ,'PRIMARY KEY (`c6_at2` ,`c4_at3`)CREATE TABLE `class10_name` (`c10_at2` c10_at2_type(64) ,`c6_at3` c6_at3_type(64) ,`c2_at2` c2_at2_type(64) ,c10_at1` c10_at1_typePRIMARY KEY (`c10_at1`)CREATE TABLE `class4_name` (`c4_at4` c4_at4_type(64) ,`c4_at2` c4_at2_type(64) ,`c4_at1` c4_at1_type(64) ,`c4_at3` c4_at3_type NOT NULL ,PRIMARY KEY (`c4_at3`)CREATE TABLE `assoc9` (`c3_at1` c3_at1_type NOT NULL ,`c2_at1` c2_at1_type NOT NULL ,KEY `FK_assoc9_c3_at1_idx` (`c3_at1`)KEY `FK_assoc9_c2_at1_idx` (`c2_at1`)PRIMARY KEY (`c3_at1` ,`c2_at1`)CREATE TABLE `class9_name` (`c9_at1` c9_at1_type(64) ,`c2_at2` c2_at2_type(64) ,`c2_at1` c2_at1_type NOT NULL ,PRIMARY KEY (`c2_at1`) CREATE TABLE `class8_name` (`c8_at1` c8_at1_type(64) ,`c2_at2` c2_at2_type(64) ,`c2_at1` c2_at1_type NOT NULL ,PRIMARY KEY (`c2_at1`) CREATE TABLE `assoc8` (`c4_at3` c4_at3_type NOT NULL ,`c1_at1` c1_at1_type NOT NULL ,KEY `FK_assoc8_c1_at1_idx` (`c1_at1`) ,PRIMARY KEY (`c4_at3` ,`c1_at1`)ALTER TABLE `assoc3`ALTER TABLE `class2_name`ADD CONSTRAINT `FK_class2_name_c10_at1` FOREIGN KEY (`c10_at1`)  REFERENCES  `class10_name` (`c10_at1`) ON DELETE CASCADE ON UPDATE CASCADE;ALTER TABLE `class3_name`ADD CONSTRAINT `FK_class3_name_c10_at1` FOREIGN KEY (`c10_at1`)  REFERENCES  `class10_name` (`c10_at1`) ON DELETE CASCADE ON UPDATE CASCADE;ALTER TABLE `assoc7`ADD CONSTRAINT `FK_assoc7_c3_at1` FOREIGN KEY (`c3_at1`)  REFERENCES  `class3_name` (`c3_at1`) ON DELETE CASCADE ON UPDATE CASCADE;ADD CONSTRAINT `FK_assoc7_c1_at1` FOREIGN KEY (`c1_at1`)  REFERENCES  `class1_name` (`c1_at1`) ON DELETE CASCADE ON UPDATE CASCADE;ALTER TABLE `assoc1`ADD CONSTRAINT `FK_assoc1_c4_at3` FOREIGN KEY (`c4_at3`)  REFERENCES  `class4_name` (`c4_at3`) ON DELETE CASCADE ON UPDATE CASCADE;ADD CONSTRAINT `FK_assoc1_c2_at1` FOREIGN KEY (`c2_at1`)  REFERENCES  `class2_name` (`c2_at1`) ON DELETE CASCADE ON UPDATE CASCADE;ALTER TABLE `assoc4`ADD CONSTRAINT `FK_assoc4_c10_at1` FOREIGN KEY (`c10_at1`)  REFERENCES  `class10_name` (`c10_at1`) ON DELETE CASCADE ON UPDATE CASCADE;ADD CONSTRAINT `FK_assoc4_c6_at2` FOREIGN KEY (`c6_at2`)  REFERENCES  `class6_name` (`c6_at2`) ON DELETE CASCADE ON UPDATE CASCADE;ALTER TABLE `assoc5`ADD CONSTRAINT `FK_assoc5_c6_at2` FOREIGN KEY (`c6_at2`)  REFERENCES  `class6_name` (`c6_at2`) ON DELETE CASCADE ON UPDATE CASCADE;ADD CONSTRAINT `FK_assoc5_c1_at1` FOREIGN KEY (`c1_at1`)  REFERENCES  `class1_name` (`c1_at1`) ON DELETE CASCADE ON UPDATE CASCADE;ALTER TABLE `assoc6`ALTER TABLE `class7_name`ADD CONSTRAINT `FK_assoc6_c4_at3` FOREIGN KEY (`c4_at3`)  REFERENCES  `class4_name` (`c1_at1`) ON DELETE CASCADE ON UPDATE CASCADE;ALTER TABLE `assoc9`ADD CONSTRAINT `FK_assoc9_c3_at1` FOREIGN KEY (`c3_at1`)  REFERENCES  `class3_name` (`c3_at1`) ON DELETE CASCADE ON UPDATE CASCADE;ADD CONSTRAINT `FK_assoc9_c2_at1` FOREIGN KEY (`c2_at1`)  REFERENCES  `class2_name` (`c2_at1`) ON DELETE CASCADE ON UPDATE CASCADE;ALTER TABLE `assoc8`ADD CONSTRAINT `FK_assoc8_c1_at1` FOREIGN KEY (`c1_at1`)  REFERENCES  `class1_name` (`c1_at1`) ON DELETE CASCADE ON UPDATE CASCADE ,\"], shape=(1,), dtype=string)\n",
            "\n",
            "tf.Tensor([b\"NP, module OM_name 0;open Declarationone sig class1_name extends ClassattrSet = c1_at1+c1_at2id=c1_at1no parentisAbstract = No}one sig c1_at1 extends c1_at1_typeone sig c1_at2 extends c1_at2_typeone sig class2_name extends ClassattrSet = c2_at1+c2_at2id=c2_at1no parentisAbstract = No}one sig c2_at1 extends c2_at1_typeone sig c2_at1 extends c2_at2_typeone sig class3_name extends ClassattrSet = c3_at1+c3_at2+c3_at3+c3_at4c3_at5+c3_at6id=c3_at1no parentisAbstract = No}one sig c3_at1 extends c3_at1_typeone sig c3_at2 extends c3_at2_typeone sig c3_at3 extends c3_at3_typeone sig c3_at4 extends c3_at4_typeone sig c3_at5 extends c3_at5_typeone sig c3_at6 extends c3_at6_typeone sig class4_name extends ClassattrSet = c4_at1+c4_at2+c4_at3+c4_at4id=c4_at3no parentisAbstract = No}one sig c4_at1 extends c4_at1_typeone sig c4_at2 extends c4_at2_typeone sig c4_at3 extends c4_at3_typeone sig c4_at4 extends c4_at4_typeone sig class5_name extends ClassattrSet = c5_at1one parentparent in class2_nameid = c2_at1isAbstract = No}one sig c5_at1 extends c5_at1_typeone sig class6_name extends ClassattrSet = c6_at1_0+c6_at2+c6_at3+c6_at4id=c6_at2no parentisAbstract = No}one sig c6_at1_0 extends c6_at1_typeone sig c6_at2 extends c6_at2_typeone sig c6_at3 extends c6_at3_typeone sig c6_at4 extends c6_at4_typeone sig class7_name extends ClassattrSet = c7_at1one parentparent in class2_nameid = c2_at1isAbstract = No}one sig c7_at1 extends c7_at1_typeone sig class8_name extends ClassattrSet = c8_at1one parentparent in class2_nameid = c2_at1isAbstract = No}one sig c8_at1 extends c8_at1_typeone sig class9_name extends ClassattrSet = c9_at1one parentparent in class2_nameid = c2_at1isAbstract = No}one sig c9_at1 extends c9_at1_typeone sig class10_name extends ClassattrSet = c10_at1+c10_at2+c2_at2+c6_at3id=c10_at1no parentisAbstract = No}one sig c10_at1 extends c10_at1_typeone sig c10_at2 extends c10_at2_typeone sig assoc10 extends Associationsrc = class10_namedst= class2_namesrc_multiplicity = src_mlpcdst_multiplicity = dst_mlpc}one sig assoc1 extends Associationsrc = class2_namedst= class4_namesrc_multiplicity = src_mlpc2dst_multiplicity = dst_mlpc}one sig assoc2 extends Associationsrc = class10_namedst= class3_namesrc_multiplicity = src_mlpcdst_multiplicity = dst_mlpc}one sig assoc3 extends Associationsrc = class10_namedst= class4_namesrc_multiplicity = src_mlpcdst_multiplicity = dst_mlpc}one sig assoc4 extends Associationsrc = class10_namedst= class6_namesrc_multiplicity = src_mlpcdst_multiplicity = dst_mlpc2}one sig assoc5 extends Associationsrc = class6_namedst= class1_namesrc_multiplicity = src_mlpcdst_multiplicity = dst_mlpc2}one sig assoc6 extends Associationsrc = class6_namedst= class4_namesrc_multiplicity = src_mlpcdst_multiplicity = dst_mlpc}one sig assoc7 extends Associationsrc = class1_namedst= class3_namesrc_multiplicity = src_mlpcdst_multiplicity = dst_mlpc}one sig assoc8 extends Associationsrc = class1_namedst= class4_namesrc_multiplicity = src_mlpcdst_multiplicity = dst_mlpc}one sig assoc9 extends Associationsrc = class2_namedst= class3_namesrc_multiplicity = src_mlpcdst_multiplicity = dst_mlpc2}pred showrun show ,Mapping Strategy for class1_name : map_str2Mapping Strategy for class6_name : map_str2Mapping Strategy for class10_name : map_str2Mapping Strategy for class5_name : map_str3Mapping Strategy for class7_name : map_str3Mapping Strategy for class8_name : map_str3Association Strategy for assoc2 : assoc_str1Association Strategy for assoc1 : assoc_str2Association Strategy for assoc3 : assoc_str2Association Strategy for assoc4 : assoc_str2Association Strategy for assoc5 : assoc_str2Association Strategy for assoc6 : assoc_str2Association Strategy for assoc7 : assoc_str2Association Strategy for assoc9 : assoc_str2 ,USE OM_name:0;CREATE TABLE `class7_name` (`c7_at1` c7_at1_type(64) ,`c2_at2` c2_at2_type(64) ,`c2_at1` c2_at1_type NOT NULL ,PRIMARY KEY (`c2_at1`) CREATE TABLE `class5_name` (c5_at1` c5_at1_type(64) ,`c2_at2` c2_at2_type(64) ,`c2_at1` c2_at1_type NOT NULL ,PRIMARY KEY (`c2_at1`) CREATE TABLE `assoc3` (c10_at1` c10_at1_type`c4_at3` c4_at3_type NOT NULL ,CREATE TABLE `class2_name` (`c2_at2` c2_at2_type(64) ,c10_at1` c10_at1_type`c2_at1` c2_at1_type NOT NULL ,KEY `FK_class2_name_c10_at1_idx` (`c10_at1`) ,PRIMARY KEY (`c2_at1`) CREATE TABLE `class3_name` (c10_at1` c10_at1_type`c3_at6` c3_at6_type ,`c3_at5` c3_at5_type ,`c3_at4` c3_at4_type ,`c3_at3` c3_at3_type ,`c3_at2` c3_at2_type ,`c3_at1` c3_at1_type NOT NULL ,KEY `FK_class3_name_c10_at1_idx` (`c10_at1`) ,PRIMARY KEY (`c3_at1`)CREATE TABLE `class1_name` (`c1_at2` c1_at2_type(64) ,`c1_at1` c1_at1_type NOT NULL ,PRIMARY KEY (`c1_at1`)CREATE TABLE `assoc7` (`c3_at1` c3_at1_type NOT NULL ,`c1_at1` c1_at1_type NOT NULL ,KEY `FK_assoc7_c3_at1_idx` (`c3_at1`) ,KEY `FK_assoc7_c1_at1_idx` (`c1_at1`) ,PRIMARY KEY (`c3_at1` ,`c1_at1`)CREATE TABLE `class6_name` (`c6_at4` c6_at4_type(64) ,`c6_at1_0` c6_at1_type(64) ,`c6_at2` c6_at2_type NOT NULL ,PRIMARY KEY (`c6_at2`)CREATE TABLE `assoc1` (`c4_at3` c4_at3_type NOT NULL ,`c2_at1` c2_at1_type NOT NULL ,KEY `FK_assoc1_c4_at3_idx` (`c4_at3`) ,KEY `FK_assoc1_c2_at1_idx` (`c2_at1`) ,PRIMARY KEY (`c4_at3` ,`c2_at1`)CREATE TABLE `assoc4` (c10_at1` c10_at1_type`c6_at2` c6_at2_type NOT NULL ,KEY `FK_assoc4_c10_at1_idx` (`c10_at1`) ,KEY `FK_assoc4_c6_at2_idx` (`c6_at2`) ,PRIMARY KEY (`c10_at1` ,`c6_at2`)Association Strategy for assoc5 : assoc_str2`c6_at2` c6_at2_type NOT NULL ,`c1_at1` c1_at1_type NOT NULL ,KEY `FK_assoc5_c6_at2_idx` (`c6_at2`) ,KEY `FK_assoc5_c1_at1_idx` (`c1_at1`) ,PRIMARY KEY (`c6_at2` ,`c1_at1`)CREATE TABLE `assoc6` (`c6_at2` c6_at2_type NOT NULL ,`c4_at3` c4_at3_type NOT NULL ,KEY `FK_assoc6_c6_at2_idx` (`c6_at2`) ,KEY `FK_assoc6_c4_at3_idx` (`c4_at3`) ,'PRIMARY KEY (`c6_at2` ,`c4_at3`)CREATE TABLE `class10_name` (`c10_at2` c10_at2_type(64) ,`c6_at3` c6_at3_type(64) ,`c2_at2` c2_at2_type(64) ,c10_at1` c10_at1_typePRIMARY KEY (`c10_at1`)CREATE TABLE `class4_name` (`c4_at4` c4_at4_type(64) ,`c4_at2` c4_at2_type(64) ,`c4_at1` c4_at1_type(64) ,`c4_at3` c4_at3_type NOT NULL ,PRIMARY KEY (`c4_at3`)CREATE TABLE `assoc9` (`c3_at1` c3_at1_type NOT NULL ,`c2_at1` c2_at1_type NOT NULL ,KEY `FK_assoc9_c3_at1_idx` (`c3_at1`)KEY `FK_assoc9_c2_at1_idx` (`c2_at1`)PRIMARY KEY (`c3_at1` ,`c2_at1`)CREATE TABLE `class9_name` (`c9_at1` c9_at1_type(64) ,`c2_at2` c2_at2_type(64) ,`c2_at1` c2_at1_type NOT NULL ,PRIMARY KEY (`c2_at1`) CREATE TABLE `class8_name` (`c8_at1` c8_at1_type(64) ,`c2_at2` c2_at2_type(64) ,`c2_at1` c2_at1_type NOT NULL ,PRIMARY KEY (`c2_at1`) CREATE TABLE `assoc8` (`c4_at3` c4_at3_type NOT NULL ,`c1_at1` c1_at1_type NOT NULL ,KEY `FK_assoc8_c1_at1_idx` (`c1_at1`) ,PRIMARY KEY (`c4_at3` ,`c1_at1`)ALTER TABLE `assoc3`ALTER TABLE `class2_name`ADD CONSTRAINT `FK_class2_name_c10_at1` FOREIGN KEY (`c10_at1`)  REFERENCES  `class10_name` (`c10_at1`) ON DELETE CASCADE ON UPDATE CASCADE;ALTER TABLE `class3_name`ADD CONSTRAINT `FK_class3_name_c10_at1` FOREIGN KEY (`c10_at1`)  REFERENCES  `class10_name` (`c10_at1`) ON DELETE CASCADE ON UPDATE CASCADE;ALTER TABLE `assoc7`ADD CONSTRAINT `FK_assoc7_c3_at1` FOREIGN KEY (`c3_at1`)  REFERENCES  `class3_name` (`c3_at1`) ON DELETE CASCADE ON UPDATE CASCADE;ADD CONSTRAINT `FK_assoc7_c1_at1` FOREIGN KEY (`c1_at1`)  REFERENCES  `class1_name` (`c1_at1`) ON DELETE CASCADE ON UPDATE CASCADE;ALTER TABLE `assoc1`ADD CONSTRAINT `FK_assoc1_c4_at3` FOREIGN KEY (`c4_at3`)  REFERENCES  `class4_name` (`c4_at3`) ON DELETE CASCADE ON UPDATE CASCADE;ADD CONSTRAINT `FK_assoc1_c2_at1` FOREIGN KEY (`c2_at1`)  REFERENCES  `class2_name` (`c2_at1`) ON DELETE CASCADE ON UPDATE CASCADE;ALTER TABLE `assoc4`ADD CONSTRAINT `FK_assoc4_c10_at1` FOREIGN KEY (`c10_at1`)  REFERENCES  `class10_name` (`c10_at1`) ON DELETE CASCADE ON UPDATE CASCADE;ADD CONSTRAINT `FK_assoc4_c6_at2` FOREIGN KEY (`c6_at2`)  REFERENCES  `class6_name` (`c6_at2`) ON DELETE CASCADE ON UPDATE CASCADE;ALTER TABLE `assoc5`ADD CONSTRAINT `FK_assoc5_c6_at2` FOREIGN KEY (`c6_at2`)  REFERENCES  `class6_name` (`c6_at2`) ON DELETE CASCADE ON UPDATE CASCADE;ADD CONSTRAINT `FK_assoc5_c1_at1` FOREIGN KEY (`c1_at1`)  REFERENCES  `class1_name` (`c1_at1`) ON DELETE CASCADE ON UPDATE CASCADE;ALTER TABLE `assoc6`ALTER TABLE `class7_name`ADD CONSTRAINT `FK_assoc6_c4_at3` FOREIGN KEY (`c4_at3`)  REFERENCES  `class4_name` (`c1_at1`) ON DELETE CASCADE ON UPDATE CASCADE;ALTER TABLE `assoc9`ADD CONSTRAINT `FK_assoc9_c3_at1` FOREIGN KEY (`c3_at1`)  REFERENCES  `class3_name` (`c3_at1`) ON DELETE CASCADE ON UPDATE CASCADE;ADD CONSTRAINT `FK_assoc9_c2_at1` FOREIGN KEY (`c2_at1`)  REFERENCES  `class2_name` (`c2_at1`) ON DELETE CASCADE ON UPDATE CASCADE;ALTER TABLE `assoc8`ADD CONSTRAINT `FK_assoc8_c1_at1` FOREIGN KEY (`c1_at1`)  REFERENCES  `class1_name` (`c1_at1`) ON DELETE CASCADE ON UPDATE CASCADE \"], shape=(1,), dtype=string)\n"
          ]
        }
      ],
      "source": [
        "for example_context_strings, example_target_strings in train_raw.take(1):\n",
        "  print(example_context_strings[:5])\n",
        "  print()\n",
        "  print(example_target_strings[:5])\n",
        "  break"
      ]
    },
    {
      "cell_type": "markdown",
      "metadata": {
        "id": "zCoxLcuN3bwv"
      },
      "source": [
        "### Text preprocessing"
      ]
    },
    {
      "cell_type": "markdown",
      "metadata": {
        "id": "7kwdPcHvzz_a"
      },
      "source": [
        "One of the goals of this tutorial is to build a model that can be exported as a `tf.saved_model`. To make that exported model useful it should take `tf.string` inputs, and return `tf.string` outputs: All the text processing happens inside the model. Mainly using a `layers.TextVectorization` layer."
      ]
    },
    {
      "cell_type": "markdown",
      "metadata": {
        "id": "EOQ5n55X4uDB"
      },
      "source": [
        "#### Standardization"
      ]
    },
    {
      "cell_type": "markdown",
      "metadata": {
        "id": "upKhKAMK4zzI"
      },
      "source": [
        "The model is dealing with multilingual text with a limited vocabulary. So it will be important to standardize the input text.\n",
        "\n",
        "The first step is Unicode normalization to split accented characters and replace compatibility characters with their ASCII equivalents.\n",
        "\n",
        "The `tensorflow_text` package contains a unicode normalize operation, We may or may not decide to Use this for ORM data. I kept it in the experiment"
      ]
    },
    {
      "cell_type": "code",
      "execution_count": 72,
      "metadata": {
        "id": "mD0e-DWGQ2Vo",
        "colab": {
          "base_uri": "https://localhost:8080/"
        },
        "outputId": "5c7df13f-65d3-4a23-c296-63856fa54e87"
      },
      "outputs": [
        {
          "output_type": "stream",
          "name": "stdout",
          "text": [
            "b'module OM_name:0, open Declaration one sig class1_name extends Class attr Set =c1_at1+c1_at2id=c1_at1 no parentisAbstract=No}onesigc1_at1extendsc1_at1_typeonesigc1_at2extendsc1_at2_type, onesigclass2_nameextendsClassattrSet=c2_at1oneparentparentinclass5_nameid=c3_at1isAbstract=No}onesigc2_at1extendsc2_at1_type, onesigclass3_nameextendsClassattrSet=c3_at1+c3_at2+c3_at3+c3_at4+c3_at5id=c3_at1 no parentisAbstract=No}onesigc3_at1extendsc3_at1_typeonesigc3_at1extendsc3_at1_typeonesigc3_at3extendsc3_at3_typeonesigc3_at4extendsc3_at4_typeonesigc3_at5extendsc3_at5_type, onesigclass4_nameextendsClassattrSet=c4_at1+c4_at2id=c4_at1 no parentisAbstract=No}onesigc4_at1extendsc4_at1_typeonesigc4_at2extendsc4_at2_type, onesigclass5_nameextendsClassattrSet=c5_at1+c3_at1id=c5_at1 no parentisAbstract=No}onesigc5_at1extendsc5_at1_type, onesigclass6_nameextendsClassattrSet=c6_at1+c6_at2+c6_at3id=c6_at1 no parentisAbstract=No}onesigc6_at1extendsc6_at1_typeonesigc6_at2extendsc6_at2_typeonesigc6_at3extendsc6_at3_type, onesigclass7_nameextendsClassattrSet=c7_at1oneparentparentinclass5_nameid=c3_at1isAbstract=No}onesigc7_at1extendsc7_at1_type, one sig assoc1extendsAssociationsrc=class6_namedst=class4_name, src_multiplicity=src_mlpcdst_multiplicity=dst_mlpc, }one sig assoc2extendsAssociationsrc=class6_namedst=Customersrc_multiplicity=src_mlpcdst_multiplicity=dst_mlpc, }one sig assoc3extendsAssociationsrc=class3_namedst=class4_name, src_multiplicity=src_mlpc2dst_multiplicity=dst_mlpc, }one sig assoc4extendsAssociationsrc=class3_namedst=class5_namesrc_multiplicity=src_mlpcdst_multiplicity=dst_mlpc, }one sig assoc3extendsAssociation{}{src=class3_namedst=class1_namesrc_multiplicity=src_mlpcdst_multiplicity=dst_mlpc, } pred show run show\\xe2\\x80\\x8b , Table class1_name: Attribute c1_at1 PRIMARY  KEY  Table class1_name: Attribute c1_at2Table class2_name: Attribute c2_at1 PRIMARY  KEY  Table class3_name: Attribute c3_at4Table class3_name: Attribute c3_at5Table class3_name: Attribute c3_at2Table class3_name: Attribute c3_at2Table class4_name: Attribute c4_at1 PRIMARY  KEY  Table class4_name: Attribute c4_at2Table class5_name: Attribute c3_at1 PRIMARY  KEY  Table class5_name: Attribute c5_at1 Table  class6_name: Attribute c6_at1 PRIMARY  KEY   Table  class6_name: Attribute c6_at2 Table  class6_name: Attribute c6_at3Table class7_name: Attribute c7_at1Table class1_name: Attribute c1_at1 PRIMARY  KEY  Table class4_name: Attribute c4_at1 PRIMARY  KEY  Table class5_name: Attribute c5_at1 Table  class6_name: Attribute c6_at1 PRIMARY  KEY   Table  Name :class1_name Table  Name :class2_name Table  Name :class3_name Table  Name :class4_name Table  Name :class5_name Table  Name :class6_name Table  Name :class7_name Mapping Strategy  for class8_name:map_str2 Mapping Strategy  for class3_name:map_str2 Mapping Strategy  for class6_name:map_str2 Mapping Strategy  for class7_name:map_str2 Association Strategy  for assoc5:assoc_type1 Association Strategy  for assoc1:assoc_type2 Association Strategy  for assoc2:assoc_type2 Association Strategy  for assoc3:assoc_type2, USEOM_name_0 CREATE Table  `class5_name`(`c5_at1`c5_at1_type NOT NULL  PRIMARY  KEY  (`c5_at1`), ); CREATE Table  `class2_name`(`c7_at1`c7_at1_type`c5_at1`c5_at1_type`c3_at1`c3_at2_type PRIMARY  KEY  (`c3_at1`), ); CREATE Table  `class6_name`(`c6_at3`c6_at3_type(64)`c6_at2`c6_at2_type(64)`c6_at1`c6_at1_type NOT NULL  PRIMARY  KEY  (`c6_at1`), ); CREATE Table  `class1_name`(`c1_at2`c4_at2_type(64)`c3_at1`c3_at2_type`c1_at1`c1_at1_type KEY `FK_class1_name_c3_at1_idx`(`c3_at1`),  PRIMARY  KEY  (`c1_at1`), ); CREATE Table  `class3_name`(`c3_at3`c3_at3_type(64)`c3_at2`c3_at2_type(64)`c3_at5`c3_at5_type`c3_at4`c3_at4_type`c3_at1`c3_at2_type PRIMARY  KEY  (`c3_at1`), ); CREATE Table  `class4_name`(`c4_at2`c4_at2_type(64)`c4_at1`c4_at1_type NOT NULL  PRIMARY  KEY  (`c4_at1`), ); CREATE Table  `assoc2`(`c6_at1`c6_at1_type NOT NULL `c3_at1`c3_at2_type KEY `FK_assoc2_c6_at1_idx`(`c6_at1`),  KEY `FK_assoc2_c3_at1_idx`(`c3_at1`) PRIMARY  KEY  (`c6_at1`, `c3_at1`), ); CREATE Table  `assoc3`(`c4_at1`c4_at1_type NOT NULL `c3_at1`c3_at2_type KEY `FK_assoc3_c4_at1_idx`(`c4_at1`) KEY `FK_assoc3_c3_at1_idx`(`c3_at1`) PRIMARY  KEY  (`c4_at1`, `c3_at1`), ); CREATE Table  `assoc4`(`c5_at1`c5_at1_type NOT NULL `c3_at1`c3_at2_type KEY `FK_assoc4_c5_at1_idx`(`c5_at1`) KEY `FK_assoc4_c3_at1_idx`(`c3_at1`),  PRIMARY  KEY  (`c5_at1`, `c3_at1`)); CREATE Table  `assoc1`(`c6_at1`c6_at1_type NOT NULL `c4_at1`c4_at1_type NOT NULL  KEY `FK_assoc1_c6_at1_idx`(`c6_at1`),  KEY `FK_assoc1_c4_at1_idx`(`c4_at1`) PRIMARY  KEY  (`c6_at1`, `c4_at1`), ); CREATE Table  `class8_name`(`c5_at1`c5_at1_type`c3_at1`c3_at2_type`c2_at1`c2_at1_type PRIMARY  KEY  (`c3_at1`), ); ALTER Table  `class1_name`ADD CONSTRAINT `FK_class1_name_c3_at1` FOREIGN  KEY  (`c3_at1`) REFERENCES `class3_name`(`c3_at1`) ON DELETE CASCADE ON UPDATE CASCADE ,  ALTER Table  `assoc2`ADD CONSTRAINT `FK_assoc2_c6_at1` FOREIGN  KEY  (`c6_at1`) REFERENCES `class6_name`(`c6_at1`) ON DELETE CASCADE ON UPDATE CASCADE ADD CONSTRAINT `FK_assoc2_c3_at1` FOREIGN  KEY  (`c3_at1`) REFERENCES `class3_name`(`c3_at1`) ON DELETE CASCADE ON UPDATE CASCADE ,  ALTER Table  `assoc3`ADD CONSTRAINT `FK_assoc3_c4_at1` FOREIGN  KEY  (`c4_at1`) REFERENCES `class4_name`(`c4_at1`) ON DELETE CASCADE ON UPDATE CASCADE ADD CONSTRAINT `FK_assoc3_c3_at1` FOREIGN  KEY  (`c3_at1`) REFERENCES `class3_name`(`c3_at1`) ON DELETE CASCADE ON UPDATE CASCADE ,  ALTER Table  `assoc4`ADD CONSTRAINT `FK_assoc4_c5_at1` FOREIGN  KEY  (`c5_at1`) REFERENCES `class5_name`(`c5_at1`) ON DELETE CASCADE ON UPDATE CASCADE ADD CONSTRAINT `FK_assoc4_c5_at1` FOREIGN  KEY  (`c5_at1`) REFERENCES `class5_name`(`c5_at1`) ON DELETE CASCADE ON UPDATE CASCADE ,  ALTER Table  `assoc1`ADD CONSTRAINT `FK_assoc1_c6_at1` FOREIGN  KEY  (`c6_at1`) REFERENCES `class6_name`(`c6_at1`) ON DELETE CASCADE ON UPDATE CASCADE ADD CONSTRAINT `FK_assoc1_c4_at1` FOREIGN  KEY  (`c4_at1`) REFERENCES `class4_name`(`c4_at1`) ON DELETE CASCADE ON UPDATE CASCADE '\n",
            "b'module OM_name:0, open Declaration one sig class1_name extends Class attr Set =c1_at1+c1_at2id=c1_at1 no parentisAbstract=No}onesigc1_at1extendsc1_at1_typeonesigc1_at2extendsc1_at2_type, onesigclass2_nameextendsClassattrSet=c2_at1oneparentparentinclass5_nameid=c3_at1isAbstract=No}onesigc2_at1extendsc2_at1_type, onesigclass3_nameextendsClassattrSet=c3_at1+c3_at2+c3_at3+c3_at4+c3_at5id=c3_at1 no parentisAbstract=No}onesigc3_at1extendsc3_at1_typeonesigc3_at1extendsc3_at1_typeonesigc3_at3extendsc3_at3_typeonesigc3_at4extendsc3_at4_typeonesigc3_at5extendsc3_at5_type, onesigclass4_nameextendsClassattrSet=c4_at1+c4_at2id=c4_at1 no parentisAbstract=No}onesigc4_at1extendsc4_at1_typeonesigc4_at2extendsc4_at2_type, onesigclass5_nameextendsClassattrSet=c5_at1+c3_at1id=c5_at1 no parentisAbstract=No}onesigc5_at1extendsc5_at1_type, onesigclass6_nameextendsClassattrSet=c6_at1+c6_at2+c6_at3id=c6_at1 no parentisAbstract=No}onesigc6_at1extendsc6_at1_typeonesigc6_at2extendsc6_at2_typeonesigc6_at3extendsc6_at3_type, onesigclass7_nameextendsClassattrSet=c7_at1oneparentparentinclass5_nameid=c3_at1isAbstract=No}onesigc7_at1extendsc7_at1_type, one sig assoc1extendsAssociationsrc=class6_namedst=class4_name, src_multiplicity=src_mlpcdst_multiplicity=dst_mlpc, }one sig assoc2extendsAssociationsrc=class6_namedst=Customersrc_multiplicity=src_mlpcdst_multiplicity=dst_mlpc, }one sig assoc3extendsAssociationsrc=class3_namedst=class4_name, src_multiplicity=src_mlpc2dst_multiplicity=dst_mlpc, }one sig assoc4extendsAssociationsrc=class3_namedst=class5_namesrc_multiplicity=src_mlpcdst_multiplicity=dst_mlpc, }one sig assoc3extendsAssociation{}{src=class3_namedst=class1_namesrc_multiplicity=src_mlpcdst_multiplicity=dst_mlpc, } pred show run show\\xe2\\x80\\x8b , Table class1_name: Attribute c1_at1 PRIMARY  KEY  Table class1_name: Attribute c1_at2Table class2_name: Attribute c2_at1 PRIMARY  KEY  Table class3_name: Attribute c3_at4Table class3_name: Attribute c3_at5Table class3_name: Attribute c3_at2Table class3_name: Attribute c3_at2Table class4_name: Attribute c4_at1 PRIMARY  KEY  Table class4_name: Attribute c4_at2Table class5_name: Attribute c3_at1 PRIMARY  KEY  Table class5_name: Attribute c5_at1 Table  class6_name: Attribute c6_at1 PRIMARY  KEY   Table  class6_name: Attribute c6_at2 Table  class6_name: Attribute c6_at3Table class7_name: Attribute c7_at1Table class1_name: Attribute c1_at1 PRIMARY  KEY  Table class4_name: Attribute c4_at1 PRIMARY  KEY  Table class5_name: Attribute c5_at1 Table  class6_name: Attribute c6_at1 PRIMARY  KEY   Table  Name :class1_name Table  Name :class2_name Table  Name :class3_name Table  Name :class4_name Table  Name :class5_name Table  Name :class6_name Table  Name :class7_name Mapping Strategy  for class8_name:map_str2 Mapping Strategy  for class3_name:map_str2 Mapping Strategy  for class6_name:map_str2 Mapping Strategy  for class7_name:map_str2 Association Strategy  for assoc5:assoc_type1 Association Strategy  for assoc1:assoc_type2 Association Strategy  for assoc2:assoc_type2 Association Strategy  for assoc3:assoc_type2, USEOM_name_0 CREATE Table  `class5_name`(`c5_at1`c5_at1_type NOT NULL  PRIMARY  KEY  (`c5_at1`), ); CREATE Table  `class2_name`(`c7_at1`c7_at1_type`c5_at1`c5_at1_type`c3_at1`c3_at2_type PRIMARY  KEY  (`c3_at1`), ); CREATE Table  `class6_name`(`c6_at3`c6_at3_type(64)`c6_at2`c6_at2_type(64)`c6_at1`c6_at1_type NOT NULL  PRIMARY  KEY  (`c6_at1`), ); CREATE Table  `class1_name`(`c1_at2`c4_at2_type(64)`c3_at1`c3_at2_type`c1_at1`c1_at1_type KEY `FK_class1_name_c3_at1_idx`(`c3_at1`),  PRIMARY  KEY  (`c1_at1`), ); CREATE Table  `class3_name`(`c3_at3`c3_at3_type(64)`c3_at2`c3_at2_type(64)`c3_at5`c3_at5_type`c3_at4`c3_at4_type`c3_at1`c3_at2_type PRIMARY  KEY  (`c3_at1`), ); CREATE Table  `class4_name`(`c4_at2`c4_at2_type(64)`c4_at1`c4_at1_type NOT NULL  PRIMARY  KEY  (`c4_at1`), ); CREATE Table  `assoc2`(`c6_at1`c6_at1_type NOT NULL `c3_at1`c3_at2_type KEY `FK_assoc2_c6_at1_idx`(`c6_at1`),  KEY `FK_assoc2_c3_at1_idx`(`c3_at1`) PRIMARY  KEY  (`c6_at1`, `c3_at1`), ); CREATE Table  `assoc3`(`c4_at1`c4_at1_type NOT NULL `c3_at1`c3_at2_type KEY `FK_assoc3_c4_at1_idx`(`c4_at1`) KEY `FK_assoc3_c3_at1_idx`(`c3_at1`) PRIMARY  KEY  (`c4_at1`, `c3_at1`), ); CREATE Table  `assoc4`(`c5_at1`c5_at1_type NOT NULL `c3_at1`c3_at2_type KEY `FK_assoc4_c5_at1_idx`(`c5_at1`) KEY `FK_assoc4_c3_at1_idx`(`c3_at1`),  PRIMARY  KEY  (`c5_at1`, `c3_at1`)); CREATE Table  `assoc1`(`c6_at1`c6_at1_type NOT NULL `c4_at1`c4_at1_type NOT NULL  KEY `FK_assoc1_c6_at1_idx`(`c6_at1`),  KEY `FK_assoc1_c4_at1_idx`(`c4_at1`) PRIMARY  KEY  (`c6_at1`, `c4_at1`), ); CREATE Table  `class8_name`(`c5_at1`c5_at1_type`c3_at1`c3_at2_type`c2_at1`c2_at1_type PRIMARY  KEY  (`c3_at1`), ); ALTER Table  `class1_name`ADD CONSTRAINT `FK_class1_name_c3_at1` FOREIGN  KEY  (`c3_at1`) REFERENCES `class3_name`(`c3_at1`) ON DELETE CASCADE ON UPDATE CASCADE ,  ALTER Table  `assoc2`ADD CONSTRAINT `FK_assoc2_c6_at1` FOREIGN  KEY  (`c6_at1`) REFERENCES `class6_name`(`c6_at1`) ON DELETE CASCADE ON UPDATE CASCADE ADD CONSTRAINT `FK_assoc2_c3_at1` FOREIGN  KEY  (`c3_at1`) REFERENCES `class3_name`(`c3_at1`) ON DELETE CASCADE ON UPDATE CASCADE ,  ALTER Table  `assoc3`ADD CONSTRAINT `FK_assoc3_c4_at1` FOREIGN  KEY  (`c4_at1`) REFERENCES `class4_name`(`c4_at1`) ON DELETE CASCADE ON UPDATE CASCADE ADD CONSTRAINT `FK_assoc3_c3_at1` FOREIGN  KEY  (`c3_at1`) REFERENCES `class3_name`(`c3_at1`) ON DELETE CASCADE ON UPDATE CASCADE ,  ALTER Table  `assoc4`ADD CONSTRAINT `FK_assoc4_c5_at1` FOREIGN  KEY  (`c5_at1`) REFERENCES `class5_name`(`c5_at1`) ON DELETE CASCADE ON UPDATE CASCADE ADD CONSTRAINT `FK_assoc4_c5_at1` FOREIGN  KEY  (`c5_at1`) REFERENCES `class5_name`(`c5_at1`) ON DELETE CASCADE ON UPDATE CASCADE ,  ALTER Table  `assoc1`ADD CONSTRAINT `FK_assoc1_c6_at1` FOREIGN  KEY  (`c6_at1`) REFERENCES `class6_name`(`c6_at1`) ON DELETE CASCADE ON UPDATE CASCADE ADD CONSTRAINT `FK_assoc1_c4_at1` FOREIGN  KEY  (`c4_at1`) REFERENCES `class4_name`(`c4_at1`) ON DELETE CASCADE ON UPDATE CASCADE '\n"
          ]
        }
      ],
      "source": [
        "# example_text = tf.constant('moduleOM_nameopenDeclarationonesigclass1_nameextendsClassattrSet=c1_at1+c1_at2id=c1_at1noparentisAbstract=No}onesigc1_at1extendsc1_at1_typeonesigc1_at2extendsc1_at2_typeonesigclass2_nameextendsClassattrSet=c2_at1+c2_at2+c2_at3+c2_at4id=c2_at1noparentisAbstract=No}onesigc2_at1extendsc2_at1_typeonesigc2_at2extendsc2_at2_typeonesigc2_at3extendsc2_at3_typeonesigc2_at4extendsc2_at4_typeonesigclass3_nameextendsClassattrSet=c3_at1+c3_at2+c3_at3+c3_at4id=c3_at1noparentisAbstract=No}onesigc3_at1extendsc3_at1_typeonesigc3_at2extendsc3_at2_typeonesigc3_at3extendsc3_at3_typeonesigc3_at4extendsc3_at4_typeonesigclass4_nameextendsClassattrSet=c4_at1id=c4_at1noparentisAbstract=No}onesigc4_at1extendsc4_at1_typeonesigclass5_nameextendsClassattrSet=c5_at1+c5_at2+c5_at3+c5_at4id=c5_at1noparentisAbstract=No}onesigc5_at1extendsc5_at1_typeonesigc5_at2extendsc5_at2_typeonesigc5_at3extendsc5_at3_typeonesigc5_at4extendsc5_at4_typeonesigclass6_nameextendsClassattrSet=c6_at1+c6_at2+c6_at3+c6_at4id=c6_at1noparentisAbstract=No}onesigc6_at1extendsc6_at1_typeonesigc6_at2extendsc6_at2_typeonesigc6_at3extendsc6_at3_typeonesigc6_at4extendsc6_at4_typeonesigassoc1extendsAssociationsrc=class1_namedst=class5_namesrc_multiplicity=src_mlpcdst_multiplicity=dst_mlpc}onesigassoc2extendsAssociationsrc=class1_namedst=class5_namesrc_multiplicity=src_mlpcdst_multiplicity=dst_mlpc}onesigassoc3extendsAssociationsrc=class4_namedst=class5_namesrc_multiplicity=src_mlpcdst_multiplicity=dst_mlpc}onesigassoc4extendsAssociationsrc=class1_namedst=class6_namesrc_multiplicity=src_mlpcdst_multiplicity=dst_mlpc2}onesigassoc5extendsAssociationsrc=class1_namedst=class3_namesrc_multiplicity=src_mlpcdst_multiplicity=dst_mlpc2}predshowrunshowfor38,​OM_name_Solution:0Table:class1_nameAttributec1_at1:c1_at1_typePrimaryKeyTable:class1_nameAttributec1_at2:c1_at2_typeTable:class2_nameAttributec2_at1:c1_at1_typePrimaryKeyTable:class2_nameAttributec2_at2:c2_at2_typeTable:class2_nameAttributec2_at3:c2_at3_typeTable:class3_nameAttributec3_at1:c3_at1_typePrimaryKeyTable:class3_nameAttributec3_at4:c3_at4_typeTable:class3_nameAttributec3_at2:c3_at2_typeTable:class4_nameAttributec4_at1:c4_at1_typePrimaryKeyTable:class5_nameAttributec5_at3:c5_at3_typeTable:class5_nameAttributec5_at4:c5_at4_typeTable:class6_nameAttributec6_at1:c6_at1_typePrimaryKeyTable:class6_nameAttributec6_at2:c6_at2_typeTable:class6_nameAttributec6_at3:c6_at3_typeTable:class6_nameAttributec6_at4:c6_at4_typeTable:class1_nameAttributec1_at1:c1_at1_typePrimaryKeyTable:class2_nameAttributec2_at1:c1_at1_typePrimaryKeyTable:class3_nameAttributec3_at1:c3_at1_typePrimaryKeyTable:class4_nameAttributec4_at1:c4_at1_typePrimaryKeyTable:class6_nameAttributec6_at1:c6_at1_typePrimaryKeyTableName:class1_nameTableName:class2_nameTableName:class3_nameTableName:class4_nameTableName:class5_nameTableName:class6_nameMappingStrategyofTableclass1_name:map_str2MappingStrategyofTableclass2_name:map_str2MappingStrategyofTableclass3_name:map_str2MappingStrategyofTableclass4_name:map_str2MappingStrategyofTableclass6_name:map_str2AssociationStrategyforassoc1:assoc_type1AssociationStrategyforassoc2:assoc_type1AssociationStrategyforassoc3:assoc_type2AssociationStrategyforassoc4:assoc_type2AssociationStrategyforassoc5:assoc_type2,USEOM_name0----CREATETABLE`assoc1`(`c5_at1`c5_at1_type`c1_at1`c1_at1_typeKEY`FK_assoc1_c5_at1_idx`(`c5_at1`)KEY`FK_assoc1_c1_at1_idx`(`c1_at1`)PRIMARYKEY(`c5_at1``c1_at1`));----CREATETABLE`assoc3``c5_at1`c5_at1_type`c4_at1`c4_at1_typeKEY`FK_assoc3_c5_at1_idx`(`c5_at1`)KEY`FK_assoc3_c4_at1_idx`(`c4_at1`)PRIMARYKEY(`c5_at1``c4_at1`));----CREATETABLE`class5_name`(`c5_at4`c5_at4_type(64)`c5_at3`c5_at3_type(64)`c1_at1`c1_at1_type`c5_at1`c5_at1_typePRIMARYKEY(`c5_at1`));----CREATETABLE`class3_name`(`c3_at3`c3_at3_type(64)`c3_at2`c3_at2_type(64)`c3_at4`c3_at4_type`c3_at1`c3_at1_typeNOTNULLPRIMARYKEY(`c3_at1`));----CREATETABLE`class2_name`(`c2_at3`c2_at3_type(64)`c2_at2`c2_at2_type(64)`c2_at4`c2_at4_type`c2_at1`c2_at1_typePRIMARYKEY(`c2_at1`));----CREATETABLE`class4_name`(`c4_at1`c4_at1_typePRIMARYKEY(`c4_at1`));----CREATETABLE`class1_name`(`c1_at2`c1_at2_type(64)`c1_at1`c1_at1_typePRIMARYKEY(`c1_at1`));----CREATETABLE`class6_name`(`c6_at4`c6_at4_type`c6_at3`c6_at3_type`c6_at2`c6_at2_type`c6_at1`c6_at1_typeNOTNULLPRIMARYKEY(`c6_at1`));----CREATETABLE`assoc2`(`c5_at1`c5_at1_type`c2_at1`c2_at1_typeKEY`FK_assoc2_c5_at1_idx`(`c5_at1`)KEY`FK_assoc2_c2_at1_idx`(`c2_at1`)PRIMARYKEY(`c5_at1``c2_at1`));----CREATETABLE`assoc5`(`c3_at1`c3_at1_typeNOTNULL`c2_at1`c2_at1_typeKEY`FK_assoc5_c3_at1_idx`(`c3_at1`)KEY`FK_assoc5_c2_at1_idx`(`c2_at1`)PRIMARYKEY(`c3_at1``c2_at1`));----CREATETABLE`assoc4`(`c6_at1`c6_at1_typeNOTNULL`c2_at1`c2_at1_typeKEY`FK_assoc4_c6_at1_idx`(`c6_at1`)KEY`FK_assoc4_c2_at1_idx`(`c2_at1`)PRIMARYKEY(`c6_at1``c2_at1`));ALTERTABLE`assoc1`ADDCONSTRAINT`FK_assoc1_c5_at1`FOREIGNKEY(`c5_at1`)REFERENCES`class5_name`(`c5_at1`)ONDELETECASCADEONUPDATECASCADEADDCONSTRAINT`FK_assoc1_c1_at1`FOREIGNKEY(`c1_at1`)REFERENCES`class1_name`(`c1_at1`)ONDELETECASCADEONUPDATECASCADE;ALTERTABLE`assoc3`ADDCONSTRAINT`FK_assoc3_c5_at1`FOREIGNKEY(`c5_at1`)REFERENCES`class5_name`(`c5_at1`)ONDELETECASCADEONUPDATECASCADEADDCONSTRAINT`FK_assoc3_c4_at1`FOREIGNKEY(`c4_at1`)REFERENCES`class4_name`(`c4_at1`)ONDELETECASCADEONUPDATECASCADE;ALTERTABLE`assoc2`ADDCONSTRAINT`FK_assoc2_c5_at1`FOREIGNKEY(`c5_at1`)REFERENCES`class5_name`(`c5_at1`)ONDELETECASCADEONUPDATECASCADEADDCONSTRAINT`FK_assoc2_c2_at1`FOREIGNKEY(`c2_at1`)REFERENCES`class2_name`(`c2_at1`)ONDELETECASCADEONUPDATECASCADEALTERTABLE`assoc5`ADDCONSTRAINT`FK_assoc5_c3_at1`FOREIGNKEY(`c3_at1`)REFERENCES`class3_name`(`c3_at1`)ONDELETECASCADEONUPDATECASCADEADDCONSTRAINT`FK_assoc5_c2_at1`FOREIGNKEY(`c2_at1`)REFERENCES`class2_name`(`c2_at1`)ONDELETECASCADEONUPDATECASCADE;ALTERTABLE`assoc4`ADDCONSTRAINT`FK_assoc4_c6_at1`FOREIGNKEY(`c6_at1`)REFERENCES`class6_name`(`c6_at1`)ONDELETECASCADEONUPDATECASCADEADDCONSTRAINT`FK_assoc4_c2_at1`FOREIGNKEY(`c2_at1`)REFERENCES`class2_name`(`c2_at1`)ONDELETECASCADEONUPDATECASCADE')\n",
        "\n",
        "example_text = tf.constant('module OM_name:0, open Declaration one sig class1_name extends Class attr Set =c1_at1+c1_at2id=c1_at1 no parentisAbstract=No}onesigc1_at1extendsc1_at1_typeonesigc1_at2extendsc1_at2_type, onesigclass2_nameextendsClassattrSet=c2_at1oneparentparentinclass5_nameid=c3_at1isAbstract=No}onesigc2_at1extendsc2_at1_type, onesigclass3_nameextendsClassattrSet=c3_at1+c3_at2+c3_at3+c3_at4+c3_at5id=c3_at1 no parentisAbstract=No}onesigc3_at1extendsc3_at1_typeonesigc3_at1extendsc3_at1_typeonesigc3_at3extendsc3_at3_typeonesigc3_at4extendsc3_at4_typeonesigc3_at5extendsc3_at5_type, onesigclass4_nameextendsClassattrSet=c4_at1+c4_at2id=c4_at1 no parentisAbstract=No}onesigc4_at1extendsc4_at1_typeonesigc4_at2extendsc4_at2_type, onesigclass5_nameextendsClassattrSet=c5_at1+c3_at1id=c5_at1 no parentisAbstract=No}onesigc5_at1extendsc5_at1_type, onesigclass6_nameextendsClassattrSet=c6_at1+c6_at2+c6_at3id=c6_at1 no parentisAbstract=No}onesigc6_at1extendsc6_at1_typeonesigc6_at2extendsc6_at2_typeonesigc6_at3extendsc6_at3_type, onesigclass7_nameextendsClassattrSet=c7_at1oneparentparentinclass5_nameid=c3_at1isAbstract=No}onesigc7_at1extendsc7_at1_type, one sig assoc1extendsAssociationsrc=class6_namedst=class4_name, src_multiplicity=src_mlpcdst_multiplicity=dst_mlpc, }one sig assoc2extendsAssociationsrc=class6_namedst=Customersrc_multiplicity=src_mlpcdst_multiplicity=dst_mlpc, }one sig assoc3extendsAssociationsrc=class3_namedst=class4_name, src_multiplicity=src_mlpc2dst_multiplicity=dst_mlpc, }one sig assoc4extendsAssociationsrc=class3_namedst=class5_namesrc_multiplicity=src_mlpcdst_multiplicity=dst_mlpc, }one sig assoc3extendsAssociation{}{src=class3_namedst=class1_namesrc_multiplicity=src_mlpcdst_multiplicity=dst_mlpc, } pred show run show​ , Table class1_name: Attribute c1_at1 PRIMARY  KEY  Table class1_name: Attribute c1_at2Table class2_name: Attribute c2_at1 PRIMARY  KEY  Table class3_name: Attribute c3_at4Table class3_name: Attribute c3_at5Table class3_name: Attribute c3_at2Table class3_name: Attribute c3_at2Table class4_name: Attribute c4_at1 PRIMARY  KEY  Table class4_name: Attribute c4_at2Table class5_name: Attribute c3_at1 PRIMARY  KEY  Table class5_name: Attribute c5_at1 Table  class6_name: Attribute c6_at1 PRIMARY  KEY   Table  class6_name: Attribute c6_at2 Table  class6_name: Attribute c6_at3Table class7_name: Attribute c7_at1Table class1_name: Attribute c1_at1 PRIMARY  KEY  Table class4_name: Attribute c4_at1 PRIMARY  KEY  Table class5_name: Attribute c5_at1 Table  class6_name: Attribute c6_at1 PRIMARY  KEY   Table  Name :class1_name Table  Name :class2_name Table  Name :class3_name Table  Name :class4_name Table  Name :class5_name Table  Name :class6_name Table  Name :class7_name Mapping Strategy  for class8_name:map_str2 Mapping Strategy  for class3_name:map_str2 Mapping Strategy  for class6_name:map_str2 Mapping Strategy  for class7_name:map_str2 Association Strategy  for assoc5:assoc_type1 Association Strategy  for assoc1:assoc_type2 Association Strategy  for assoc2:assoc_type2 Association Strategy  for assoc3:assoc_type2, USEOM_name_0 CREATE Table  `class5_name`(`c5_at1`c5_at1_type NOT NULL  PRIMARY  KEY  (`c5_at1`), ); CREATE Table  `class2_name`(`c7_at1`c7_at1_type`c5_at1`c5_at1_type`c3_at1`c3_at2_type PRIMARY  KEY  (`c3_at1`), ); CREATE Table  `class6_name`(`c6_at3`c6_at3_type(64)`c6_at2`c6_at2_type(64)`c6_at1`c6_at1_type NOT NULL  PRIMARY  KEY  (`c6_at1`), ); CREATE Table  `class1_name`(`c1_at2`c4_at2_type(64)`c3_at1`c3_at2_type`c1_at1`c1_at1_type KEY `FK_class1_name_c3_at1_idx`(`c3_at1`),  PRIMARY  KEY  (`c1_at1`), ); CREATE Table  `class3_name`(`c3_at3`c3_at3_type(64)`c3_at2`c3_at2_type(64)`c3_at5`c3_at5_type`c3_at4`c3_at4_type`c3_at1`c3_at2_type PRIMARY  KEY  (`c3_at1`), ); CREATE Table  `class4_name`(`c4_at2`c4_at2_type(64)`c4_at1`c4_at1_type NOT NULL  PRIMARY  KEY  (`c4_at1`), ); CREATE Table  `assoc2`(`c6_at1`c6_at1_type NOT NULL `c3_at1`c3_at2_type KEY `FK_assoc2_c6_at1_idx`(`c6_at1`),  KEY `FK_assoc2_c3_at1_idx`(`c3_at1`) PRIMARY  KEY  (`c6_at1`, `c3_at1`), ); CREATE Table  `assoc3`(`c4_at1`c4_at1_type NOT NULL `c3_at1`c3_at2_type KEY `FK_assoc3_c4_at1_idx`(`c4_at1`) KEY `FK_assoc3_c3_at1_idx`(`c3_at1`) PRIMARY  KEY  (`c4_at1`, `c3_at1`), ); CREATE Table  `assoc4`(`c5_at1`c5_at1_type NOT NULL `c3_at1`c3_at2_type KEY `FK_assoc4_c5_at1_idx`(`c5_at1`) KEY `FK_assoc4_c3_at1_idx`(`c3_at1`),  PRIMARY  KEY  (`c5_at1`, `c3_at1`)); CREATE Table  `assoc1`(`c6_at1`c6_at1_type NOT NULL `c4_at1`c4_at1_type NOT NULL  KEY `FK_assoc1_c6_at1_idx`(`c6_at1`),  KEY `FK_assoc1_c4_at1_idx`(`c4_at1`) PRIMARY  KEY  (`c6_at1`, `c4_at1`), ); CREATE Table  `class8_name`(`c5_at1`c5_at1_type`c3_at1`c3_at2_type`c2_at1`c2_at1_type PRIMARY  KEY  (`c3_at1`), ); ALTER Table  `class1_name`ADD CONSTRAINT `FK_class1_name_c3_at1` FOREIGN  KEY  (`c3_at1`) REFERENCES `class3_name`(`c3_at1`) ON DELETE CASCADE ON UPDATE CASCADE ,  ALTER Table  `assoc2`ADD CONSTRAINT `FK_assoc2_c6_at1` FOREIGN  KEY  (`c6_at1`) REFERENCES `class6_name`(`c6_at1`) ON DELETE CASCADE ON UPDATE CASCADE ADD CONSTRAINT `FK_assoc2_c3_at1` FOREIGN  KEY  (`c3_at1`) REFERENCES `class3_name`(`c3_at1`) ON DELETE CASCADE ON UPDATE CASCADE ,  ALTER Table  `assoc3`ADD CONSTRAINT `FK_assoc3_c4_at1` FOREIGN  KEY  (`c4_at1`) REFERENCES `class4_name`(`c4_at1`) ON DELETE CASCADE ON UPDATE CASCADE ADD CONSTRAINT `FK_assoc3_c3_at1` FOREIGN  KEY  (`c3_at1`) REFERENCES `class3_name`(`c3_at1`) ON DELETE CASCADE ON UPDATE CASCADE ,  ALTER Table  `assoc4`ADD CONSTRAINT `FK_assoc4_c5_at1` FOREIGN  KEY  (`c5_at1`) REFERENCES `class5_name`(`c5_at1`) ON DELETE CASCADE ON UPDATE CASCADE ADD CONSTRAINT `FK_assoc4_c5_at1` FOREIGN  KEY  (`c5_at1`) REFERENCES `class5_name`(`c5_at1`) ON DELETE CASCADE ON UPDATE CASCADE ,  ALTER Table  `assoc1`ADD CONSTRAINT `FK_assoc1_c6_at1` FOREIGN  KEY  (`c6_at1`) REFERENCES `class6_name`(`c6_at1`) ON DELETE CASCADE ON UPDATE CASCADE ADD CONSTRAINT `FK_assoc1_c4_at1` FOREIGN  KEY  (`c4_at1`) REFERENCES `class4_name`(`c4_at1`) ON DELETE CASCADE ON UPDATE CASCADE ')\n",
        "\n",
        "#example_text = tf.constant('class1,table2,obj1,atr1')\n",
        "print(example_text.numpy())\n",
        "print(tf_text.normalize_utf8(example_text, 'NFKD').numpy())"
      ]
    },
    {
      "cell_type": "code",
      "execution_count": 73,
      "metadata": {
        "id": "chTF5N885F0P"
      },
      "outputs": [],
      "source": [
        "#import re\n",
        "\n",
        "#def tf_lower_and_split_punct(text):\n",
        "\n",
        "def tf_lower_and_split_punct(text):\n",
        "  # Split accented characters.\n",
        "  text = tf_text.normalize_utf8(text, 'NFKD')\n",
        "  text = tf.strings.lower(text)\n",
        "  # Keep space, a to z, and select punctuation.\n",
        "  text = tf.strings.regex_replace(text, '', '')\n",
        "  # Add spaces around punctuation.\n",
        "  text = tf.strings.regex_replace(text, '', r'')\n",
        "  # Strip whitespace.\n",
        "  text = tf.strings.strip(text)\n",
        "\n",
        "  text = tf.strings.join(['[START]', text, '[END]'], separator=' ')\n",
        "  return text\n",
        "\n"
      ]
    },
    {
      "cell_type": "code",
      "execution_count": 74,
      "metadata": {
        "id": "UREvDg3sEKYa",
        "colab": {
          "base_uri": "https://localhost:8080/"
        },
        "outputId": "6f97425f-effb-414c-8238-b03ce00d94c8"
      },
      "outputs": [
        {
          "output_type": "stream",
          "name": "stdout",
          "text": [
            "module OM_name:0, open Declaration one sig class1_name extends Class attr Set =c1_at1+c1_at2id=c1_at1 no parentisAbstract=No}onesigc1_at1extendsc1_at1_typeonesigc1_at2extendsc1_at2_type, onesigclass2_nameextendsClassattrSet=c2_at1oneparentparentinclass5_nameid=c3_at1isAbstract=No}onesigc2_at1extendsc2_at1_type, onesigclass3_nameextendsClassattrSet=c3_at1+c3_at2+c3_at3+c3_at4+c3_at5id=c3_at1 no parentisAbstract=No}onesigc3_at1extendsc3_at1_typeonesigc3_at1extendsc3_at1_typeonesigc3_at3extendsc3_at3_typeonesigc3_at4extendsc3_at4_typeonesigc3_at5extendsc3_at5_type, onesigclass4_nameextendsClassattrSet=c4_at1+c4_at2id=c4_at1 no parentisAbstract=No}onesigc4_at1extendsc4_at1_typeonesigc4_at2extendsc4_at2_type, onesigclass5_nameextendsClassattrSet=c5_at1+c3_at1id=c5_at1 no parentisAbstract=No}onesigc5_at1extendsc5_at1_type, onesigclass6_nameextendsClassattrSet=c6_at1+c6_at2+c6_at3id=c6_at1 no parentisAbstract=No}onesigc6_at1extendsc6_at1_typeonesigc6_at2extendsc6_at2_typeonesigc6_at3extendsc6_at3_type, onesigclass7_nameextendsClassattrSet=c7_at1oneparentparentinclass5_nameid=c3_at1isAbstract=No}onesigc7_at1extendsc7_at1_type, one sig assoc1extendsAssociationsrc=class6_namedst=class4_name, src_multiplicity=src_mlpcdst_multiplicity=dst_mlpc, }one sig assoc2extendsAssociationsrc=class6_namedst=Customersrc_multiplicity=src_mlpcdst_multiplicity=dst_mlpc, }one sig assoc3extendsAssociationsrc=class3_namedst=class4_name, src_multiplicity=src_mlpc2dst_multiplicity=dst_mlpc, }one sig assoc4extendsAssociationsrc=class3_namedst=class5_namesrc_multiplicity=src_mlpcdst_multiplicity=dst_mlpc, }one sig assoc3extendsAssociation{}{src=class3_namedst=class1_namesrc_multiplicity=src_mlpcdst_multiplicity=dst_mlpc, } pred show run show​ , Table class1_name: Attribute c1_at1 PRIMARY  KEY  Table class1_name: Attribute c1_at2Table class2_name: Attribute c2_at1 PRIMARY  KEY  Table class3_name: Attribute c3_at4Table class3_name: Attribute c3_at5Table class3_name: Attribute c3_at2Table class3_name: Attribute c3_at2Table class4_name: Attribute c4_at1 PRIMARY  KEY  Table class4_name: Attribute c4_at2Table class5_name: Attribute c3_at1 PRIMARY  KEY  Table class5_name: Attribute c5_at1 Table  class6_name: Attribute c6_at1 PRIMARY  KEY   Table  class6_name: Attribute c6_at2 Table  class6_name: Attribute c6_at3Table class7_name: Attribute c7_at1Table class1_name: Attribute c1_at1 PRIMARY  KEY  Table class4_name: Attribute c4_at1 PRIMARY  KEY  Table class5_name: Attribute c5_at1 Table  class6_name: Attribute c6_at1 PRIMARY  KEY   Table  Name :class1_name Table  Name :class2_name Table  Name :class3_name Table  Name :class4_name Table  Name :class5_name Table  Name :class6_name Table  Name :class7_name Mapping Strategy  for class8_name:map_str2 Mapping Strategy  for class3_name:map_str2 Mapping Strategy  for class6_name:map_str2 Mapping Strategy  for class7_name:map_str2 Association Strategy  for assoc5:assoc_type1 Association Strategy  for assoc1:assoc_type2 Association Strategy  for assoc2:assoc_type2 Association Strategy  for assoc3:assoc_type2, USEOM_name_0 CREATE Table  `class5_name`(`c5_at1`c5_at1_type NOT NULL  PRIMARY  KEY  (`c5_at1`), ); CREATE Table  `class2_name`(`c7_at1`c7_at1_type`c5_at1`c5_at1_type`c3_at1`c3_at2_type PRIMARY  KEY  (`c3_at1`), ); CREATE Table  `class6_name`(`c6_at3`c6_at3_type(64)`c6_at2`c6_at2_type(64)`c6_at1`c6_at1_type NOT NULL  PRIMARY  KEY  (`c6_at1`), ); CREATE Table  `class1_name`(`c1_at2`c4_at2_type(64)`c3_at1`c3_at2_type`c1_at1`c1_at1_type KEY `FK_class1_name_c3_at1_idx`(`c3_at1`),  PRIMARY  KEY  (`c1_at1`), ); CREATE Table  `class3_name`(`c3_at3`c3_at3_type(64)`c3_at2`c3_at2_type(64)`c3_at5`c3_at5_type`c3_at4`c3_at4_type`c3_at1`c3_at2_type PRIMARY  KEY  (`c3_at1`), ); CREATE Table  `class4_name`(`c4_at2`c4_at2_type(64)`c4_at1`c4_at1_type NOT NULL  PRIMARY  KEY  (`c4_at1`), ); CREATE Table  `assoc2`(`c6_at1`c6_at1_type NOT NULL `c3_at1`c3_at2_type KEY `FK_assoc2_c6_at1_idx`(`c6_at1`),  KEY `FK_assoc2_c3_at1_idx`(`c3_at1`) PRIMARY  KEY  (`c6_at1`, `c3_at1`), ); CREATE Table  `assoc3`(`c4_at1`c4_at1_type NOT NULL `c3_at1`c3_at2_type KEY `FK_assoc3_c4_at1_idx`(`c4_at1`) KEY `FK_assoc3_c3_at1_idx`(`c3_at1`) PRIMARY  KEY  (`c4_at1`, `c3_at1`), ); CREATE Table  `assoc4`(`c5_at1`c5_at1_type NOT NULL `c3_at1`c3_at2_type KEY `FK_assoc4_c5_at1_idx`(`c5_at1`) KEY `FK_assoc4_c3_at1_idx`(`c3_at1`),  PRIMARY  KEY  (`c5_at1`, `c3_at1`)); CREATE Table  `assoc1`(`c6_at1`c6_at1_type NOT NULL `c4_at1`c4_at1_type NOT NULL  KEY `FK_assoc1_c6_at1_idx`(`c6_at1`),  KEY `FK_assoc1_c4_at1_idx`(`c4_at1`) PRIMARY  KEY  (`c6_at1`, `c4_at1`), ); CREATE Table  `class8_name`(`c5_at1`c5_at1_type`c3_at1`c3_at2_type`c2_at1`c2_at1_type PRIMARY  KEY  (`c3_at1`), ); ALTER Table  `class1_name`ADD CONSTRAINT `FK_class1_name_c3_at1` FOREIGN  KEY  (`c3_at1`) REFERENCES `class3_name`(`c3_at1`) ON DELETE CASCADE ON UPDATE CASCADE ,  ALTER Table  `assoc2`ADD CONSTRAINT `FK_assoc2_c6_at1` FOREIGN  KEY  (`c6_at1`) REFERENCES `class6_name`(`c6_at1`) ON DELETE CASCADE ON UPDATE CASCADE ADD CONSTRAINT `FK_assoc2_c3_at1` FOREIGN  KEY  (`c3_at1`) REFERENCES `class3_name`(`c3_at1`) ON DELETE CASCADE ON UPDATE CASCADE ,  ALTER Table  `assoc3`ADD CONSTRAINT `FK_assoc3_c4_at1` FOREIGN  KEY  (`c4_at1`) REFERENCES `class4_name`(`c4_at1`) ON DELETE CASCADE ON UPDATE CASCADE ADD CONSTRAINT `FK_assoc3_c3_at1` FOREIGN  KEY  (`c3_at1`) REFERENCES `class3_name`(`c3_at1`) ON DELETE CASCADE ON UPDATE CASCADE ,  ALTER Table  `assoc4`ADD CONSTRAINT `FK_assoc4_c5_at1` FOREIGN  KEY  (`c5_at1`) REFERENCES `class5_name`(`c5_at1`) ON DELETE CASCADE ON UPDATE CASCADE ADD CONSTRAINT `FK_assoc4_c5_at1` FOREIGN  KEY  (`c5_at1`) REFERENCES `class5_name`(`c5_at1`) ON DELETE CASCADE ON UPDATE CASCADE ,  ALTER Table  `assoc1`ADD CONSTRAINT `FK_assoc1_c6_at1` FOREIGN  KEY  (`c6_at1`) REFERENCES `class6_name`(`c6_at1`) ON DELETE CASCADE ON UPDATE CASCADE ADD CONSTRAINT `FK_assoc1_c4_at1` FOREIGN  KEY  (`c4_at1`) REFERENCES `class4_name`(`c4_at1`) ON DELETE CASCADE ON UPDATE CASCADE \n",
            "[START] module om_name:0, open declaration one sig class1_name extends class attr set =c1_at1+c1_at2id=c1_at1 no parentisabstract=no}onesigc1_at1extendsc1_at1_typeonesigc1_at2extendsc1_at2_type, onesigclass2_nameextendsclassattrset=c2_at1oneparentparentinclass5_nameid=c3_at1isabstract=no}onesigc2_at1extendsc2_at1_type, onesigclass3_nameextendsclassattrset=c3_at1+c3_at2+c3_at3+c3_at4+c3_at5id=c3_at1 no parentisabstract=no}onesigc3_at1extendsc3_at1_typeonesigc3_at1extendsc3_at1_typeonesigc3_at3extendsc3_at3_typeonesigc3_at4extendsc3_at4_typeonesigc3_at5extendsc3_at5_type, onesigclass4_nameextendsclassattrset=c4_at1+c4_at2id=c4_at1 no parentisabstract=no}onesigc4_at1extendsc4_at1_typeonesigc4_at2extendsc4_at2_type, onesigclass5_nameextendsclassattrset=c5_at1+c3_at1id=c5_at1 no parentisabstract=no}onesigc5_at1extendsc5_at1_type, onesigclass6_nameextendsclassattrset=c6_at1+c6_at2+c6_at3id=c6_at1 no parentisabstract=no}onesigc6_at1extendsc6_at1_typeonesigc6_at2extendsc6_at2_typeonesigc6_at3extendsc6_at3_type, onesigclass7_nameextendsclassattrset=c7_at1oneparentparentinclass5_nameid=c3_at1isabstract=no}onesigc7_at1extendsc7_at1_type, one sig assoc1extendsassociationsrc=class6_namedst=class4_name, src_multiplicity=src_mlpcdst_multiplicity=dst_mlpc, }one sig assoc2extendsassociationsrc=class6_namedst=customersrc_multiplicity=src_mlpcdst_multiplicity=dst_mlpc, }one sig assoc3extendsassociationsrc=class3_namedst=class4_name, src_multiplicity=src_mlpc2dst_multiplicity=dst_mlpc, }one sig assoc4extendsassociationsrc=class3_namedst=class5_namesrc_multiplicity=src_mlpcdst_multiplicity=dst_mlpc, }one sig assoc3extendsassociation{}{src=class3_namedst=class1_namesrc_multiplicity=src_mlpcdst_multiplicity=dst_mlpc, } pred show run show​ , table class1_name: attribute c1_at1 primary  key  table class1_name: attribute c1_at2table class2_name: attribute c2_at1 primary  key  table class3_name: attribute c3_at4table class3_name: attribute c3_at5table class3_name: attribute c3_at2table class3_name: attribute c3_at2table class4_name: attribute c4_at1 primary  key  table class4_name: attribute c4_at2table class5_name: attribute c3_at1 primary  key  table class5_name: attribute c5_at1 table  class6_name: attribute c6_at1 primary  key   table  class6_name: attribute c6_at2 table  class6_name: attribute c6_at3table class7_name: attribute c7_at1table class1_name: attribute c1_at1 primary  key  table class4_name: attribute c4_at1 primary  key  table class5_name: attribute c5_at1 table  class6_name: attribute c6_at1 primary  key   table  name :class1_name table  name :class2_name table  name :class3_name table  name :class4_name table  name :class5_name table  name :class6_name table  name :class7_name mapping strategy  for class8_name:map_str2 mapping strategy  for class3_name:map_str2 mapping strategy  for class6_name:map_str2 mapping strategy  for class7_name:map_str2 association strategy  for assoc5:assoc_type1 association strategy  for assoc1:assoc_type2 association strategy  for assoc2:assoc_type2 association strategy  for assoc3:assoc_type2, useom_name_0 create table  `class5_name`(`c5_at1`c5_at1_type not null  primary  key  (`c5_at1`), ); create table  `class2_name`(`c7_at1`c7_at1_type`c5_at1`c5_at1_type`c3_at1`c3_at2_type primary  key  (`c3_at1`), ); create table  `class6_name`(`c6_at3`c6_at3_type(64)`c6_at2`c6_at2_type(64)`c6_at1`c6_at1_type not null  primary  key  (`c6_at1`), ); create table  `class1_name`(`c1_at2`c4_at2_type(64)`c3_at1`c3_at2_type`c1_at1`c1_at1_type key `fk_class1_name_c3_at1_idx`(`c3_at1`),  primary  key  (`c1_at1`), ); create table  `class3_name`(`c3_at3`c3_at3_type(64)`c3_at2`c3_at2_type(64)`c3_at5`c3_at5_type`c3_at4`c3_at4_type`c3_at1`c3_at2_type primary  key  (`c3_at1`), ); create table  `class4_name`(`c4_at2`c4_at2_type(64)`c4_at1`c4_at1_type not null  primary  key  (`c4_at1`), ); create table  `assoc2`(`c6_at1`c6_at1_type not null `c3_at1`c3_at2_type key `fk_assoc2_c6_at1_idx`(`c6_at1`),  key `fk_assoc2_c3_at1_idx`(`c3_at1`) primary  key  (`c6_at1`, `c3_at1`), ); create table  `assoc3`(`c4_at1`c4_at1_type not null `c3_at1`c3_at2_type key `fk_assoc3_c4_at1_idx`(`c4_at1`) key `fk_assoc3_c3_at1_idx`(`c3_at1`) primary  key  (`c4_at1`, `c3_at1`), ); create table  `assoc4`(`c5_at1`c5_at1_type not null `c3_at1`c3_at2_type key `fk_assoc4_c5_at1_idx`(`c5_at1`) key `fk_assoc4_c3_at1_idx`(`c3_at1`),  primary  key  (`c5_at1`, `c3_at1`)); create table  `assoc1`(`c6_at1`c6_at1_type not null `c4_at1`c4_at1_type not null  key `fk_assoc1_c6_at1_idx`(`c6_at1`),  key `fk_assoc1_c4_at1_idx`(`c4_at1`) primary  key  (`c6_at1`, `c4_at1`), ); create table  `class8_name`(`c5_at1`c5_at1_type`c3_at1`c3_at2_type`c2_at1`c2_at1_type primary  key  (`c3_at1`), ); alter table  `class1_name`add constraint `fk_class1_name_c3_at1` foreign  key  (`c3_at1`) references `class3_name`(`c3_at1`) on delete cascade on update cascade ,  alter table  `assoc2`add constraint `fk_assoc2_c6_at1` foreign  key  (`c6_at1`) references `class6_name`(`c6_at1`) on delete cascade on update cascade add constraint `fk_assoc2_c3_at1` foreign  key  (`c3_at1`) references `class3_name`(`c3_at1`) on delete cascade on update cascade ,  alter table  `assoc3`add constraint `fk_assoc3_c4_at1` foreign  key  (`c4_at1`) references `class4_name`(`c4_at1`) on delete cascade on update cascade add constraint `fk_assoc3_c3_at1` foreign  key  (`c3_at1`) references `class3_name`(`c3_at1`) on delete cascade on update cascade ,  alter table  `assoc4`add constraint `fk_assoc4_c5_at1` foreign  key  (`c5_at1`) references `class5_name`(`c5_at1`) on delete cascade on update cascade add constraint `fk_assoc4_c5_at1` foreign  key  (`c5_at1`) references `class5_name`(`c5_at1`) on delete cascade on update cascade ,  alter table  `assoc1`add constraint `fk_assoc1_c6_at1` foreign  key  (`c6_at1`) references `class6_name`(`c6_at1`) on delete cascade on update cascade add constraint `fk_assoc1_c4_at1` foreign  key  (`c4_at1`) references `class4_name`(`c4_at1`) on delete cascade on update cascade [END]\n"
          ]
        }
      ],
      "source": [
        "print(example_text.numpy().decode())\n",
        "print(tf_lower_and_split_punct(example_text).numpy().decode())"
      ]
    },
    {
      "cell_type": "markdown",
      "metadata": {
        "id": "4q-sKsSI7xRZ"
      },
      "source": [
        "#### Text Vectorization"
      ]
    },
    {
      "cell_type": "markdown",
      "metadata": {
        "id": "6aKn8qd37abi"
      },
      "source": [
        "This standardization function will be wrapped up in a `tf.keras.layers.TextVectorization` layer which will handle the vocabulary extraction and conversion of input text to sequences of tokens."
      ]
    },
    {
      "cell_type": "code",
      "execution_count": 75,
      "metadata": {
        "id": "eAY9k49G3jE_"
      },
      "outputs": [],
      "source": [
        "max_vocab_size = 5000\n",
        "\n",
        "context_text_processor = tf.keras.layers.TextVectorization(\n",
        "    standardize=tf_lower_and_split_punct,\n",
        "    max_tokens=max_vocab_size,\n",
        "    ragged=True)"
      ]
    },
    {
      "cell_type": "markdown",
      "metadata": {
        "id": "7kbC6ODP8IK_"
      },
      "source": [
        "The `TextVectorization` layer and many other [Keras preprocessing layers](https://www.tensorflow.org/guide/keras/preprocessing_layers) have an `adapt` method. This method reads one epoch of the training data, and works a lot like `Model.fit`. This `adapt` method initializes the layer based on the data. Here it determines the vocabulary:"
      ]
    },
    {
      "cell_type": "code",
      "execution_count": 76,
      "metadata": {
        "id": "bmsI1Yql8FYe",
        "colab": {
          "base_uri": "https://localhost:8080/"
        },
        "outputId": "6f3508e0-0b7e-437f-b41a-8a3dc3c3f9c0"
      },
      "outputs": [
        {
          "output_type": "execute_result",
          "data": {
            "text/plain": [
              "['',\n",
              " '[UNK]',\n",
              " '=',\n",
              " 'extends',\n",
              " 'key',\n",
              " 'sig',\n",
              " 'on',\n",
              " 'table',\n",
              " 'cascade',\n",
              " 'null',\n",
              " 'not',\n",
              " 'foreign',\n",
              " 'update',\n",
              " 'references',\n",
              " 'delete',\n",
              " 'constraint',\n",
              " ',key',\n",
              " 'for',\n",
              " 'strategy',\n",
              " ':',\n",
              " ',primary',\n",
              " '(`c2_at1`)',\n",
              " ',',\n",
              " 'create',\n",
              " '(`c1_at1`)',\n",
              " 'associationsrc',\n",
              " '(`c6_at2`)',\n",
              " 'no}one',\n",
              " 'classattrset',\n",
              " 'src_mlpcdst_multiplicity',\n",
              " 'primary',\n",
              " 'one',\n",
              " '(`c8_at1`)',\n",
              " '(`c3_at1`)',\n",
              " 'class',\n",
              " 'c2_at1_type',\n",
              " 'dst_mlpc}one',\n",
              " '(`c4_at3`)',\n",
              " 'add',\n",
              " 'assoc_str2association',\n",
              " 'attr',\n",
              " ',`c2_at1`',\n",
              " 'parentisabstract',\n",
              " '`class2_name`',\n",
              " ',alter',\n",
              " ',);',\n",
              " 'c6_at2_type',\n",
              " ',`c1_at1`',\n",
              " 'cascade;alter',\n",
              " 'alter',\n",
              " '`class1_name`',\n",
              " 'map_str2mapping',\n",
              " 'c4_at3_type',\n",
              " '`class6_name`',\n",
              " 'class4_namesrc_multiplicity',\n",
              " '`class8_name`',\n",
              " 'c1_at1_type',\n",
              " 'c3_at1_type',\n",
              " '(`c4_at3`',\n",
              " '`class4_name`',\n",
              " '(`c3_at1`',\n",
              " '(`c8_at1`',\n",
              " 'c8_at1_type',\n",
              " '`class3_name`',\n",
              " 'assoc5',\n",
              " ',add',\n",
              " 'in',\n",
              " 'class1_name',\n",
              " '(`c10_at1`)',\n",
              " '(`c7_at1`)',\n",
              " 'parentparent',\n",
              " 'class2_nameid',\n",
              " 'c2_at1isabstract',\n",
              " '(`c6_at2`',\n",
              " 'c2_at2_type(64)',\n",
              " 'class3_namesrc_multiplicity',\n",
              " '}',\n",
              " 'cascade;add',\n",
              " 'class2_name',\n",
              " 'class8_name',\n",
              " 'no',\n",
              " ',`c2_at1`)create',\n",
              " 'c2_at1',\n",
              " 'class7_name',\n",
              " 'class5_name',\n",
              " 'assoc9',\n",
              " 'assoc6',\n",
              " 'assoc4',\n",
              " 'class6_name',\n",
              " ',`c6_at2`',\n",
              " 'assoc3',\n",
              " 'class3_name',\n",
              " ',`c2_at2`',\n",
              " 'assoc_str1association',\n",
              " ',`c1_at1`)create',\n",
              " 'class10_namedst=',\n",
              " 'assoc1',\n",
              " '(`c7_at1`',\n",
              " 'dst_mlpc2}one',\n",
              " 'class6_namedst=',\n",
              " 'class2_namedst=',\n",
              " 'class1_namedst=',\n",
              " 'assoc7',\n",
              " 'class4_name',\n",
              " ',`c4_at3`',\n",
              " 'class8_namedst=',\n",
              " 'assoc2',\n",
              " 'assoc8',\n",
              " 'assoc10',\n",
              " '`class10_name`',\n",
              " 'association',\n",
              " 'parent',\n",
              " 'src_multiplicity',\n",
              " 'src',\n",
              " 'dst_multiplicity',\n",
              " 'dst',\n",
              " '(`c12_at1`)',\n",
              " '`class7_name`(`c7_at1`)',\n",
              " '[START]',\n",
              " '[END]',\n",
              " 'module',\n",
              " '(c10_at1`',\n",
              " '(`c6_at1`)',\n",
              " 'src_mlpc',\n",
              " ',`c3_at1`',\n",
              " 'attrset',\n",
              " 'c6_at3_type(64)',\n",
              " ',`c6_at3`',\n",
              " 'isabstract',\n",
              " 'c5_at1',\n",
              " 'c3_at6_type',\n",
              " 'c3_at5_type',\n",
              " 'c3_at4_type',\n",
              " 'c3_at3_type',\n",
              " 'c3_at2_type',\n",
              " 'c8_at1',\n",
              " 'c7_at1',\n",
              " '`class5_name`',\n",
              " 'dst_mlpc',\n",
              " ',`c8_at1`',\n",
              " '`fk_assoc5_c6_at2`',\n",
              " 'c1_at1',\n",
              " 'c4_at1',\n",
              " 'c3_at1',\n",
              " 'c6_at2',\n",
              " 'c1_at2',\n",
              " '`assoc5`add',\n",
              " 'om_name:0;create',\n",
              " 'c7_at1_type(64)',\n",
              " 'c6_at4_type(64)',\n",
              " 'c6_at1_type(64)',\n",
              " 'c4_at4_type(64)',\n",
              " 'c4_at2_type(64)',\n",
              " 'c4_at1_type(64)',\n",
              " 'c1_at2_type(64)',\n",
              " '`fk_assoc5_c6_at2_idx`',\n",
              " ',`c6_at1_0`',\n",
              " ',`c4_at2`',\n",
              " ',`c4_at1`',\n",
              " ',`c3_at5`',\n",
              " ',`c3_at4`',\n",
              " ',`c3_at3`',\n",
              " ',`c3_at2`',\n",
              " '(`c6_at4`',\n",
              " '(`c6_at2`)create',\n",
              " '(`c4_at4`',\n",
              " '(`c3_at1`)create',\n",
              " '(`c1_at2`',\n",
              " '(`c1_at1`)create',\n",
              " ',use',\n",
              " 'c6_at4',\n",
              " 'c6_at3',\n",
              " 'c6_at1_0',\n",
              " 'c4_at4',\n",
              " 'c4_at3',\n",
              " 'c4_at2',\n",
              " 'c3_at6',\n",
              " 'c3_at5',\n",
              " 'c3_at4',\n",
              " 'c3_at3',\n",
              " 'c3_at2',\n",
              " 'assoc_str2',\n",
              " ',mapping',\n",
              " '`assoc8`',\n",
              " '`class7_name`',\n",
              " '`assoc2`',\n",
              " '`class7_name`add',\n",
              " '`class3_name`(`c3_at1`)on',\n",
              " '`assoc1`',\n",
              " 'cascade;',\n",
              " 'show',\n",
              " 'om_name',\n",
              " 'src_mlpc2dst_multiplicity',\n",
              " 'showrun',\n",
              " 'dst_mlpc2}pred',\n",
              " 'declarationone',\n",
              " 'class6_namesrc_multiplicity',\n",
              " 'class2_namesrc_multiplicity',\n",
              " 'c8_at1_typeone',\n",
              " 'c7_at1one']"
            ]
          },
          "metadata": {},
          "execution_count": 76
        }
      ],
      "source": [
        "context_text_processor.adapt(train_raw.map(lambda context, target: context))\n",
        "\n",
        "# Here are the first 10 words from the vocabulary:\n",
        "context_text_processor.get_vocabulary()[:200]"
      ]
    },
    {
      "cell_type": "markdown",
      "metadata": {
        "id": "9kGjIFjX8_Wp"
      },
      "source": [
        "That's the context data  `TextVectorization` layer, now build and `.adapt()` for the Target Data one:"
      ]
    },
    {
      "cell_type": "code",
      "execution_count": 77,
      "metadata": {
        "id": "jlC4xuZnKLBS",
        "colab": {
          "base_uri": "https://localhost:8080/"
        },
        "outputId": "53837684-ab7b-4554-e60b-5d9838083adc"
      },
      "outputs": [
        {
          "output_type": "execute_result",
          "data": {
            "text/plain": [
              "['',\n",
              " '[UNK]',\n",
              " '=',\n",
              " 'extends',\n",
              " 'key',\n",
              " 'sig',\n",
              " 'on',\n",
              " 'table',\n",
              " 'cascade',\n",
              " 'null',\n",
              " 'not',\n",
              " 'foreign',\n",
              " 'update',\n",
              " 'references',\n",
              " 'delete',\n",
              " 'constraint',\n",
              " ',key',\n",
              " 'for',\n",
              " 'strategy',\n",
              " ':',\n",
              " ',primary',\n",
              " '(`c2_at1`)',\n",
              " ',',\n",
              " 'create',\n",
              " '(`c1_at1`)',\n",
              " 'associationsrc',\n",
              " '(`c6_at2`)',\n",
              " 'no}one',\n",
              " 'classattrset',\n",
              " 'src_mlpcdst_multiplicity',\n",
              " 'one',\n",
              " '(`c8_at1`)',\n",
              " 'primary',\n",
              " 'class',\n",
              " '(`c3_at1`)',\n",
              " 'c2_at1_type',\n",
              " 'dst_mlpc}one',\n",
              " '(`c4_at3`)',\n",
              " 'assoc_str2association',\n",
              " 'add',\n",
              " 'attr',\n",
              " ',`c2_at1`',\n",
              " 'parentisabstract',\n",
              " '`class2_name`',\n",
              " ',alter',\n",
              " ',);',\n",
              " 'c6_at2_type',\n",
              " 'cascade;alter',\n",
              " ',`c1_at1`',\n",
              " '`class1_name`',\n",
              " 'alter',\n",
              " 'map_str2mapping',\n",
              " 'c4_at3_type',\n",
              " '`class6_name`',\n",
              " 'class4_namesrc_multiplicity',\n",
              " '`class8_name`',\n",
              " 'c1_at1_type',\n",
              " 'c3_at1_type',\n",
              " '(`c4_at3`',\n",
              " '`class4_name`',\n",
              " '(`c3_at1`',\n",
              " '(`c8_at1`',\n",
              " 'c8_at1_type',\n",
              " '`class3_name`',\n",
              " 'assoc5',\n",
              " ',add',\n",
              " 'in',\n",
              " 'class1_name',\n",
              " '(`c10_at1`)',\n",
              " '(`c7_at1`)',\n",
              " 'parentparent',\n",
              " 'class2_nameid',\n",
              " 'c2_at1isabstract',\n",
              " '(`c6_at2`',\n",
              " 'c2_at2_type(64)',\n",
              " 'class3_namesrc_multiplicity',\n",
              " '}',\n",
              " 'cascade;add',\n",
              " 'class2_name',\n",
              " 'class8_name',\n",
              " 'no',\n",
              " ',`c2_at1`)create',\n",
              " 'c2_at1',\n",
              " 'class7_name',\n",
              " 'class5_name',\n",
              " 'assoc9',\n",
              " 'assoc6',\n",
              " 'assoc4',\n",
              " 'class6_name',\n",
              " ',`c6_at2`',\n",
              " 'assoc3',\n",
              " 'class3_name',\n",
              " ',`c2_at2`',\n",
              " 'assoc_str1association',\n",
              " ',`c1_at1`)create',\n",
              " 'class10_namedst=',\n",
              " 'assoc1',\n",
              " '(`c7_at1`',\n",
              " 'dst_mlpc2}one',\n",
              " 'class6_namedst=',\n",
              " 'class2_namedst=',\n",
              " 'class1_namedst=',\n",
              " 'assoc7',\n",
              " 'class4_name',\n",
              " ',`c4_at3`',\n",
              " 'class8_namedst=',\n",
              " 'assoc2',\n",
              " 'assoc8',\n",
              " 'assoc10',\n",
              " '`class7_name`(`c7_at1`)',\n",
              " '`class10_name`',\n",
              " 'association',\n",
              " 'parent',\n",
              " 'src_multiplicity',\n",
              " 'src',\n",
              " 'dst_multiplicity',\n",
              " 'dst',\n",
              " '(`c12_at1`)',\n",
              " '[START]',\n",
              " '[END]',\n",
              " 'module',\n",
              " '(c10_at1`',\n",
              " 'src_mlpc',\n",
              " '(`c6_at1`)',\n",
              " ',`c3_at1`',\n",
              " 'attrset',\n",
              " 'c6_at3_type(64)',\n",
              " ',`c6_at3`',\n",
              " 'isabstract',\n",
              " 'c5_at1',\n",
              " 'c3_at6_type',\n",
              " 'c3_at5_type',\n",
              " 'c3_at4_type',\n",
              " 'c3_at3_type',\n",
              " 'c3_at2_type',\n",
              " 'c8_at1',\n",
              " 'c7_at1',\n",
              " '`class5_name`',\n",
              " 'dst_mlpc',\n",
              " ',`c8_at1`',\n",
              " '`fk_assoc5_c6_at2`',\n",
              " 'c1_at1',\n",
              " 'c4_at1',\n",
              " 'c3_at1',\n",
              " 'c6_at2',\n",
              " 'c1_at2',\n",
              " '`assoc5`add',\n",
              " 'om_name:0;create',\n",
              " 'c7_at1_type(64)',\n",
              " 'c6_at4_type(64)',\n",
              " 'c6_at1_type(64)',\n",
              " 'c4_at4_type(64)',\n",
              " 'c4_at2_type(64)',\n",
              " 'c4_at1_type(64)',\n",
              " 'c1_at2_type(64)',\n",
              " '`fk_assoc5_c6_at2_idx`',\n",
              " ',`c6_at1_0`',\n",
              " ',`c4_at2`',\n",
              " ',`c4_at1`',\n",
              " ',`c3_at5`',\n",
              " ',`c3_at4`',\n",
              " ',`c3_at3`',\n",
              " ',`c3_at2`',\n",
              " '(`c6_at4`',\n",
              " '(`c6_at2`)create',\n",
              " '(`c4_at4`',\n",
              " '(`c3_at1`)create',\n",
              " '(`c1_at2`',\n",
              " '(`c1_at1`)create',\n",
              " ',use',\n",
              " 'c6_at4',\n",
              " 'c6_at3',\n",
              " 'c6_at1_0',\n",
              " 'c4_at4',\n",
              " 'c4_at3',\n",
              " 'c4_at2',\n",
              " 'c3_at6',\n",
              " 'c3_at5',\n",
              " 'c3_at4',\n",
              " 'c3_at3',\n",
              " 'c3_at2',\n",
              " 'assoc_str2',\n",
              " ',mapping',\n",
              " '`assoc8`',\n",
              " '`class7_name`',\n",
              " '`assoc2`',\n",
              " '`class7_name`add',\n",
              " 'p,',\n",
              " '`assoc1`',\n",
              " 'show',\n",
              " 'om_name',\n",
              " 'src_mlpc2dst_multiplicity',\n",
              " 'showrun',\n",
              " 'dst_mlpc2}pred',\n",
              " 'declarationone',\n",
              " 'class6_namesrc_multiplicity',\n",
              " 'class2_namesrc_multiplicity',\n",
              " 'c8_at1_typeone',\n",
              " 'c7_at1one',\n",
              " 'c7_at1_typeone']"
            ]
          },
          "metadata": {},
          "execution_count": 77
        }
      ],
      "source": [
        "target_text_processor = tf.keras.layers.TextVectorization(\n",
        "    standardize=tf_lower_and_split_punct,\n",
        "    max_tokens=max_vocab_size,\n",
        "    ragged=True)\n",
        "\n",
        "target_text_processor.adapt(train_raw.map(lambda context, target: target))\n",
        "target_text_processor.get_vocabulary()[:200]"
      ]
    },
    {
      "cell_type": "markdown",
      "metadata": {
        "id": "BWQqlP_s9eIv"
      },
      "source": [
        "Now these layers can convert a batch of strings into a batch of token IDs:"
      ]
    },
    {
      "cell_type": "code",
      "execution_count": 78,
      "metadata": {
        "colab": {
          "base_uri": "https://localhost:8080/"
        },
        "id": "9KZxj8IrNZ9S",
        "outputId": "cc176c45-30cb-44cf-b78a-d42a4f8d17bb"
      },
      "outputs": [
        {
          "output_type": "execute_result",
          "data": {
            "text/plain": [
              "<tf.RaggedTensor [[118, 120, 191, 226, 195, 5, 67, 3, 28, 2, 225, 42, 2, 27, 5, 141, 3,\n",
              "  224, 5, 145, 3, 223, 5, 78, 3, 28, 2, 222, 42, 2, 27, 5, 82, 3, 221, 5,\n",
              "  82, 3, 220, 5, 91, 3, 28, 2, 219, 42, 2, 27, 5, 143, 3, 218, 5, 180, 3,\n",
              "  217, 5, 179, 3, 216, 5, 178, 3, 215, 5, 177, 3, 214, 5, 176, 3, 213, 5,\n",
              "  103, 3, 28, 2, 212, 42, 2, 27, 5, 142, 3, 211, 5, 175, 3, 210, 5, 174,\n",
              "  3, 209, 5, 173, 3, 208, 5, 84, 3, 28, 2, 206, 70, 66, 71, 2, 72, 2, 27,\n",
              "  5, 129, 3, 207, 5, 88, 3, 28, 2, 205, 42, 2, 27, 5, 172, 3, 204, 5, 144,\n",
              "  3, 203, 5, 171, 3, 202, 5, 170, 3, 201, 5, 83, 3, 28, 2, 199, 70, 66,\n",
              "  71, 2, 72, 2, 27, 5, 136, 3, 200, 5, 79, 3, 28, 2, 304, 70, 66, 71, 2,\n",
              "  72, 2, 27, 5, 135, 3, 198, 5, 299, 3, 28, 2, 300, 70, 66, 71, 2, 72, 2,\n",
              "  27, 5, 303, 3, 301, 5, 250, 3, 28, 2, 312, 42, 2, 27, 5, 313, 3, 310, 5,\n",
              "  308, 3, 306, 5, 108, 3, 25, 2, 95, 197, 2, 29, 2, 36, 5, 96, 3, 25, 2,\n",
              "  100, 54, 2, 192, 2, 36, 5, 106, 3, 25, 2, 95, 75, 2, 29, 2, 36, 5, 90,\n",
              "  3, 25, 2, 95, 54, 2, 29, 2, 36, 5, 87, 3, 25, 2, 95, 196, 2, 29, 2, 98,\n",
              "  5, 64, 3, 25, 2, 99, 247, 2, 29, 2, 98, 5, 86, 3, 25, 2, 99, 54, 2, 29,\n",
              "  2, 36, 5, 102, 3, 25, 2, 101, 75, 2, 29, 2, 36, 5, 107, 3, 25, 2, 101,\n",
              "  54, 2, 29, 2, 36, 5, 85, 3, 25, 2, 100, 75, 2, 29, 2, 194, 193, 190,\n",
              "  182, 18, 17, 67, 19, 51, 18, 17, 88, 19, 51, 18, 17, 250, 19, 51, 18,\n",
              "  17, 84, 19, 339, 18, 17, 83, 19, 339, 18, 17, 79, 19, 253, 18, 17, 106,\n",
              "  19, 93, 18, 17, 96, 19, 39, 18, 17, 90, 19, 39, 18, 17, 87, 19, 39, 18,\n",
              "  17, 64, 19, 39, 18, 17, 86, 19, 39, 18, 17, 102, 19, 39, 18, 17, 85, 19,\n",
              "  181, 169, 147, 7, 184, 97, 148, 92, 74, 41, 35, 10, 9, 20, 4, 21, 23, 7,\n",
              "  137, 275, 271, 92, 74, 41, 35, 10, 9, 20, 4, 21, 23, 7, 279, 121, 420,\n",
              "  52, 10, 9, 332, 7, 43, 246, 74, 230, 311, 35, 10, 9, 16, 480, 68, 20, 4,\n",
              "  21, 23, 7, 63, 121, 503, 130, 159, 131, 160, 132, 161, 133, 162, 134,\n",
              "  124, 57, 10, 9, 16, 504, 68, 20, 4, 166, 7, 50, 167, 154, 47, 56, 10, 9,\n",
              "  20, 4, 168, 7, 227, 60, 57, 10, 9, 47, 56, 10, 9, 16, 442, 33, 16, 444,\n",
              "  24, 20, 4, 60, 94, 7, 53, 163, 149, 156, 150, 89, 46, 10, 9, 20, 4, 164,\n",
              "  7, 188, 58, 52, 10, 9, 41, 35, 10, 9, 16, 325, 37, 16, 238, 21, 20, 4,\n",
              "  58, 81, 7, 234, 121, 256, 46, 10, 9, 16, 323, 68, 16, 321, 26, 20, 4,\n",
              "  331, 533, 18, 17, 64, 19, 314, 46, 10, 9, 47, 56, 10, 9, 16, 155, 26,\n",
              "  16, 319, 24, 20, 4, 73, 94, 7, 239, 73, 46, 10, 9, 104, 52, 10, 9, 16,\n",
              "  242, 26, 16, 491, 37, 492, 4, 73, 276, 7, 109, 329, 307, 127, 126, 92,\n",
              "  74, 230, 309, 4, 330, 7, 59, 165, 151, 157, 152, 158, 153, 104, 52, 10,\n",
              "  9, 20, 4, 228, 7, 240, 60, 57, 10, 9, 41, 35, 10, 9, 16, 316, 327, 318,\n",
              "  328, 4, 60, 81, 7, 261, 326, 302, 92, 74, 41, 35, 10, 9, 20, 4, 21, 23,\n",
              "  7, 55, 61, 305, 92, 74, 41, 35, 10, 9, 20, 4, 21, 23, 7, 183, 58, 52,\n",
              "  10, 9, 47, 56, 10, 9, 16, 286, 24, 20, 4, 58, 413, 7, 482, 7, 338, 15,\n",
              "  479, 11, 4, 68, 13, 109, 68, 6, 14, 8, 6, 12, 48, 7, 273, 15, 574, 11,\n",
              "  4, 68, 13, 109, 68, 6, 14, 8, 6, 12, 48, 7, 288, 15, 251, 11, 4, 33, 13,\n",
              "  63, 33, 6, 14, 8, 6, 12, 77, 15, 443, 11, 4, 24, 13, 50, 24, 6, 14, 8,\n",
              "  6, 12, 48, 7, 237, 15, 324, 11, 4, 37, 13, 59, 37, 6, 14, 8, 6, 12, 77,\n",
              "  15, 280, 11, 4, 21, 13, 43, 21, 6, 14, 8, 6, 12, 48, 7, 248, 15, 322,\n",
              "  11, 4, 68, 13, 109, 68, 6, 14, 8, 6, 12, 77, 15, 320, 11, 4, 26, 13, 53,\n",
              "  26, 6, 14, 8, 6, 12, 48, 7, 146, 15, 140, 11, 4, 26, 13, 53, 26, 6, 14,\n",
              "  8, 6, 12, 77, 15, 297, 11, 4, 24, 13, 50, 24, 6, 14, 8, 6, 12, 48, 7,\n",
              "  281, 7, 186, 15, 490, 11, 4, 37, 13, 59, 24, 6, 14, 8, 6, 12, 48, 7,\n",
              "  241, 15, 315, 11, 4, 33, 13, 63, 33, 6, 14, 8, 6, 12, 77, 15, 317, 11,\n",
              "  4, 21, 13, 43, 21, 6, 14, 8, 6, 12, 48, 7, 287, 15, 285, 11, 4, 24, 13,\n",
              "  50, 24, 6, 14, 8, 6, 12, 8, 22, 119]]>"
            ]
          },
          "metadata": {},
          "execution_count": 78
        }
      ],
      "source": [
        "example_tokens = context_text_processor(example_context_strings)\n",
        "example_tokens[:3, :]"
      ]
    },
    {
      "cell_type": "markdown",
      "metadata": {
        "id": "AA9rUn9G9n78"
      },
      "source": [
        "The `get_vocabulary` method can be used to convert token IDs back to text:"
      ]
    },
    {
      "cell_type": "code",
      "execution_count": 79,
      "metadata": {
        "id": "98g9rcxGQY0I",
        "colab": {
          "base_uri": "https://localhost:8080/",
          "height": 796
        },
        "outputId": "b7c38d94-92c3-4c5a-be06-1092d5fd69cc"
      },
      "outputs": [
        {
          "output_type": "execute_result",
          "data": {
            "text/plain": [
              "\"[START] module om_name 0;open declarationone sig class1_name extends classattrset = c1_at1+c1_at2id=c1_at1no parentisabstract = no}one sig c1_at1 extends c1_at1_typeone sig c1_at2 extends c1_at2_typeone sig class2_name extends classattrset = c2_at1+c2_at2id=c2_at1no parentisabstract = no}one sig c2_at1 extends c2_at1_typeone sig c2_at1 extends c2_at2_typeone sig class3_name extends classattrset = c3_at1+c3_at2+c3_at3+c3_at4c3_at5+c3_at6id=c3_at1no parentisabstract = no}one sig c3_at1 extends c3_at1_typeone sig c3_at2 extends c3_at2_typeone sig c3_at3 extends c3_at3_typeone sig c3_at4 extends c3_at4_typeone sig c3_at5 extends c3_at5_typeone sig c3_at6 extends c3_at6_typeone sig class4_name extends classattrset = c4_at1+c4_at2+c4_at3+c4_at4id=c4_at3no parentisabstract = no}one sig c4_at1 extends c4_at1_typeone sig c4_at2 extends c4_at2_typeone sig c4_at3 extends c4_at3_typeone sig c4_at4 extends c4_at4_typeone sig class5_name extends classattrset = c5_at1one parentparent in class2_nameid = c2_at1isabstract = no}one sig c5_at1 extends c5_at1_typeone sig class6_name extends classattrset = c6_at1_0+c6_at2+c6_at3+c6_at4id=c6_at2no parentisabstract = no}one sig c6_at1_0 extends c6_at1_typeone sig c6_at2 extends c6_at2_typeone sig c6_at3 extends c6_at3_typeone sig c6_at4 extends c6_at4_typeone sig class7_name extends classattrset = c7_at1one parentparent in class2_nameid = c2_at1isabstract = no}one sig c7_at1 extends c7_at1_typeone sig class8_name extends classattrset = c8_at1one parentparent in class2_nameid = c2_at1isabstract = no}one sig c8_at1 extends c8_at1_typeone sig class9_name extends classattrset = c9_at1one parentparent in class2_nameid = c2_at1isabstract = no}one sig c9_at1 extends c9_at1_typeone sig class10_name extends classattrset = c10_at1+c10_at2+c2_at2+c6_at3id=c10_at1no parentisabstract = no}one sig c10_at1 extends c10_at1_typeone sig c10_at2 extends c10_at2_typeone sig assoc10 extends associationsrc = class10_namedst= class2_namesrc_multiplicity = src_mlpcdst_multiplicity = dst_mlpc}one sig assoc1 extends associationsrc = class2_namedst= class4_namesrc_multiplicity = src_mlpc2dst_multiplicity = dst_mlpc}one sig assoc2 extends associationsrc = class10_namedst= class3_namesrc_multiplicity = src_mlpcdst_multiplicity = dst_mlpc}one sig assoc3 extends associationsrc = class10_namedst= class4_namesrc_multiplicity = src_mlpcdst_multiplicity = dst_mlpc}one sig assoc4 extends associationsrc = class10_namedst= class6_namesrc_multiplicity = src_mlpcdst_multiplicity = dst_mlpc2}one sig assoc5 extends associationsrc = class6_namedst= class1_namesrc_multiplicity = src_mlpcdst_multiplicity = dst_mlpc2}one sig assoc6 extends associationsrc = class6_namedst= class4_namesrc_multiplicity = src_mlpcdst_multiplicity = dst_mlpc}one sig assoc7 extends associationsrc = class1_namedst= class3_namesrc_multiplicity = src_mlpcdst_multiplicity = dst_mlpc}one sig assoc8 extends associationsrc = class1_namedst= class4_namesrc_multiplicity = src_mlpcdst_multiplicity = dst_mlpc}one sig assoc9 extends associationsrc = class2_namedst= class3_namesrc_multiplicity = src_mlpcdst_multiplicity = dst_mlpc2}pred showrun show ,mapping strategy for class1_name : map_str2mapping strategy for class6_name : map_str2mapping strategy for class10_name : map_str2mapping strategy for class5_name : map_str3mapping strategy for class7_name : map_str3mapping strategy for class8_name : map_str3association strategy for assoc2 : assoc_str1association strategy for assoc1 : assoc_str2association strategy for assoc3 : assoc_str2association strategy for assoc4 : assoc_str2association strategy for assoc5 : assoc_str2association strategy for assoc6 : assoc_str2association strategy for assoc7 : assoc_str2association strategy for assoc9 : assoc_str2 ,use om_name:0;create table `class7_name` (`c7_at1` c7_at1_type(64) ,`c2_at2` c2_at2_type(64) ,`c2_at1` c2_at1_type not null ,primary key (`c2_at1`) create table `class5_name` (c5_at1` c5_at1_type(64) ,`c2_at2` c2_at2_type(64) ,`c2_at1` c2_at1_type not null ,primary key (`c2_at1`) create table `assoc3` (c10_at1` c10_at1_type`c4_at3` c4_at3_type not null ,create table `class2_name` (`c2_at2` c2_at2_type(64) ,c10_at1` c10_at1_type`c2_at1` c2_at1_type not null ,key `fk_class2_name_c10_at1_idx` (`c10_at1`) ,primary key (`c2_at1`) create table `class3_name` (c10_at1` c10_at1_type`c3_at6` c3_at6_type ,`c3_at5` c3_at5_type ,`c3_at4` c3_at4_type ,`c3_at3` c3_at3_type ,`c3_at2` c3_at2_type ,`c3_at1` c3_at1_type not null ,key `fk_class3_name_c10_at1_idx` (`c10_at1`) ,primary key (`c3_at1`)create table `class1_name` (`c1_at2` c1_at2_type(64) ,`c1_at1` c1_at1_type not null ,primary key (`c1_at1`)create table `assoc7` (`c3_at1` c3_at1_type not null ,`c1_at1` c1_at1_type not null ,key `fk_assoc7_c3_at1_idx` (`c3_at1`) ,key `fk_assoc7_c1_at1_idx` (`c1_at1`) ,primary key (`c3_at1` ,`c1_at1`)create table `class6_name` (`c6_at4` c6_at4_type(64) ,`c6_at1_0` c6_at1_type(64) ,`c6_at2` c6_at2_type not null ,primary key (`c6_at2`)create table `assoc1` (`c4_at3` c4_at3_type not null ,`c2_at1` c2_at1_type not null ,key `fk_assoc1_c4_at3_idx` (`c4_at3`) ,key `fk_assoc1_c2_at1_idx` (`c2_at1`) ,primary key (`c4_at3` ,`c2_at1`)create table `assoc4` (c10_at1` c10_at1_type`c6_at2` c6_at2_type not null ,key `fk_assoc4_c10_at1_idx` (`c10_at1`) ,key `fk_assoc4_c6_at2_idx` (`c6_at2`) ,primary key (`c10_at1` ,`c6_at2`)association strategy for assoc5 : assoc_str2`c6_at2` c6_at2_type not null ,`c1_at1` c1_at1_type not null ,key `fk_assoc5_c6_at2_idx` (`c6_at2`) ,key `fk_assoc5_c1_at1_idx` (`c1_at1`) ,primary key (`c6_at2` ,`c1_at1`)create table `assoc6` (`c6_at2` c6_at2_type not null ,`c4_at3` c4_at3_type not null ,key `fk_assoc6_c6_at2_idx` (`c6_at2`) ,key `fk_assoc6_c4_at3_idx` (`c4_at3`) ,'primary key (`c6_at2` ,`c4_at3`)create table `class10_name` (`c10_at2` c10_at2_type(64) ,`c6_at3` c6_at3_type(64) ,`c2_at2` c2_at2_type(64) ,c10_at1` c10_at1_typeprimary key (`c10_at1`)create table `class4_name` (`c4_at4` c4_at4_type(64) ,`c4_at2` c4_at2_type(64) ,`c4_at1` c4_at1_type(64) ,`c4_at3` c4_at3_type not null ,primary key (`c4_at3`)create table `assoc9` (`c3_at1` c3_at1_type not null ,`c2_at1` c2_at1_type not null ,key `fk_assoc9_c3_at1_idx` (`c3_at1`)key `fk_assoc9_c2_at1_idx` (`c2_at1`)primary key (`c3_at1` ,`c2_at1`)create table `class9_name` (`c9_at1` c9_at1_type(64) ,`c2_at2` c2_at2_type(64) ,`c2_at1` c2_at1_type not null ,primary key (`c2_at1`) create table `class8_name` (`c8_at1` c8_at1_type(64) ,`c2_at2` c2_at2_type(64) ,`c2_at1` c2_at1_type not null ,primary key (`c2_at1`) create table `assoc8` (`c4_at3` c4_at3_type not null ,`c1_at1` c1_at1_type not null ,key `fk_assoc8_c1_at1_idx` (`c1_at1`) ,primary key (`c4_at3` ,`c1_at1`)alter table `assoc3`alter table `class2_name`add constraint `fk_class2_name_c10_at1` foreign key (`c10_at1`) references `class10_name` (`c10_at1`) on delete cascade on update cascade;alter table `class3_name`add constraint `fk_class3_name_c10_at1` foreign key (`c10_at1`) references `class10_name` (`c10_at1`) on delete cascade on update cascade;alter table `assoc7`add constraint `fk_assoc7_c3_at1` foreign key (`c3_at1`) references `class3_name` (`c3_at1`) on delete cascade on update cascade;add constraint `fk_assoc7_c1_at1` foreign key (`c1_at1`) references `class1_name` (`c1_at1`) on delete cascade on update cascade;alter table `assoc1`add constraint `fk_assoc1_c4_at3` foreign key (`c4_at3`) references `class4_name` (`c4_at3`) on delete cascade on update cascade;add constraint `fk_assoc1_c2_at1` foreign key (`c2_at1`) references `class2_name` (`c2_at1`) on delete cascade on update cascade;alter table `assoc4`add constraint `fk_assoc4_c10_at1` foreign key (`c10_at1`) references `class10_name` (`c10_at1`) on delete cascade on update cascade;add constraint `fk_assoc4_c6_at2` foreign key (`c6_at2`) references `class6_name` (`c6_at2`) on delete cascade on update cascade;alter table `assoc5`add constraint `fk_assoc5_c6_at2` foreign key (`c6_at2`) references `class6_name` (`c6_at2`) on delete cascade on update cascade;add constraint `fk_assoc5_c1_at1` foreign key (`c1_at1`) references `class1_name` (`c1_at1`) on delete cascade on update cascade;alter table `assoc6`alter table `class7_name`add constraint `fk_assoc6_c4_at3` foreign key (`c4_at3`) references `class4_name` (`c1_at1`) on delete cascade on update cascade;alter table `assoc9`add constraint `fk_assoc9_c3_at1` foreign key (`c3_at1`) references `class3_name` (`c3_at1`) on delete cascade on update cascade;add constraint `fk_assoc9_c2_at1` foreign key (`c2_at1`) references `class2_name` (`c2_at1`) on delete cascade on update cascade;alter table `assoc8`add constraint `fk_assoc8_c1_at1` foreign key (`c1_at1`) references `class1_name` (`c1_at1`) on delete cascade on update cascade , [END]\""
            ],
            "application/vnd.google.colaboratory.intrinsic+json": {
              "type": "string"
            }
          },
          "metadata": {},
          "execution_count": 79
        }
      ],
      "source": [
        "context_vocab = np.array(context_text_processor.get_vocabulary())\n",
        "tokens = context_vocab[example_tokens[0].numpy()]\n",
        "' '.join(tokens)"
      ]
    },
    {
      "cell_type": "markdown",
      "metadata": {
        "id": "Ot0aCL9t-Ghi"
      },
      "source": [
        "The returned token IDs are zero-padded. This can easily be turned into a mask:"
      ]
    },
    {
      "cell_type": "code",
      "execution_count": 80,
      "metadata": {
        "colab": {
          "base_uri": "https://localhost:8080/",
          "height": 470
        },
        "id": "_jx4Or_eFRSz",
        "outputId": "32e1b594-41d9-4ca8-db5d-29fae2a0af94"
      },
      "outputs": [
        {
          "output_type": "execute_result",
          "data": {
            "text/plain": [
              "Text(0.5, 1.0, 'Mask')"
            ]
          },
          "metadata": {},
          "execution_count": 80
        },
        {
          "output_type": "display_data",
          "data": {
            "text/plain": [
              "<Figure size 640x480 with 2 Axes>"
            ],
            "image/png": "[encoded data removed]"
          },
          "metadata": {}
        }
      ],
      "source": [
        "plt.subplot(1, 2, 1)\n",
        "plt.pcolormesh(example_tokens.to_tensor())\n",
        "plt.title('Token IDs')\n",
        "\n",
        "plt.subplot(1, 2, 2)\n",
        "plt.pcolormesh(example_tokens.to_tensor() != 0)\n",
        "plt.title('Mask')"
      ]
    },
    {
      "cell_type": "markdown",
      "metadata": {
        "id": "3O0B4XdFlRgc"
      },
      "source": [
        "### Process the dataset\n",
        "\n"
      ]
    },
    {
      "cell_type": "markdown",
      "metadata": {
        "id": "rVCuyuSp_whd"
      },
      "source": [
        "The `process_text` function below converts the `Datasets` of strings, into  0-padded tensors of token IDs. It also converts from a `(context, target)` pair to an `((context, target_in), target_out)` pair for training with `keras.Model.fit`. Keras expects `(inputs, labels)` pairs, the inputs are the `(context, target_in)` and the labels are `target_out`. The difference between `target_in` and `target_out` is that they are shifted by one step relative to eachother, so that at each location the label is the next token."
      ]
    },
    {
      "cell_type": "code",
      "execution_count": 81,
      "metadata": {
        "id": "wk5tbZWQl5u1"
      },
      "outputs": [],
      "source": [
        "def process_text(context, target):\n",
        "  context = context_text_processor(context).to_tensor()\n",
        "  target = target_text_processor(target)\n",
        "  targ_in = target[:,:-1].to_tensor()\n",
        "  targ_out = target[:,1:].to_tensor()\n",
        "  return (context, targ_in), targ_out\n",
        "\n",
        "\n",
        "train_ds = train_raw.map(process_text, tf.data.AUTOTUNE)\n",
        "val_ds = val_raw.map(process_text, tf.data.AUTOTUNE)"
      ]
    },
    {
      "cell_type": "markdown",
      "metadata": {
        "id": "4iGi7X2m_tbM"
      },
      "source": [
        "Here is the first sequence of each, from the first batch:"
      ]
    },
    {
      "cell_type": "code",
      "execution_count": 82,
      "metadata": {
        "colab": {
          "base_uri": "https://localhost:8080/"
        },
        "id": "woQBWAjLsJkr",
        "outputId": "56477d42-46c9-4bb7-db70-e9cd3d8c4cca"
      },
      "outputs": [
        {
          "output_type": "stream",
          "name": "stdout",
          "text": [
            "[118 120 343  22 277 278  31   5  67   3]\n",
            "\n",
            "[118 187 120 345  22 277 278  30   5  67]\n",
            "[187 120 345  22 277 278  30   5  67   3]\n"
          ]
        }
      ],
      "source": [
        "for (ex_context_tok, ex_tar_in), ex_tar_out in train_ds.take(1):\n",
        "  print(ex_context_tok[0, :10].numpy()) \n",
        "  print()\n",
        "  print(ex_tar_in[0, :10].numpy()) \n",
        "  print(ex_tar_out[0, :10].numpy()) "
      ]
    },
    {
      "cell_type": "markdown",
      "metadata": {
        "id": "TNfHIF71ulLu"
      },
      "source": [
        "## The encoder/decoder\n",
        "\n",
        "  <th colspan=1>This tutorial's model</th>\n",
        "<tr>\n",
        "</table>\n"
      ]
    },
    {
      "cell_type": "markdown",
      "metadata": {
        "id": "gzQWx2saImMV"
      },
      "source": [
        "Before getting into it define constants for the model:"
      ]
    },
    {
      "cell_type": "code",
      "execution_count": 83,
      "metadata": {
        "id": "_a9uNz3-IrF-"
      },
      "outputs": [],
      "source": [
        "UNITS = 256"
      ]
    },
    {
      "cell_type": "markdown",
      "metadata": {
        "id": "blNgVbLSzpsr"
      },
      "source": [
        "### The encoder\n",
        "\n",
        "\n",
        "The encoder:\n",
        "\n",
        "1. Takes a list of token IDs (from `context_text_processor`).\n",
        "3. Looks up an embedding vector for each token (Using a `layers.Embedding`).\n",
        "4. Processes the embeddings into a new sequence (Using a bidirectional `layers.GRU`).\n",
        "5. Returns the processed sequence. This will be passed to the attention head."
      ]
    },
    {
      "cell_type": "code",
      "execution_count": 84,
      "metadata": {
        "id": "nZ2rI24i3jFg"
      },
      "outputs": [],
      "source": [
        "class Encoder(tf.keras.layers.Layer):\n",
        "  def __init__(self, text_processor, units):\n",
        "    super(Encoder, self).__init__()\n",
        "    self.text_processor = text_processor\n",
        "    self.vocab_size = text_processor.vocabulary_size()\n",
        "    self.units = units\n",
        "    \n",
        "    # The embedding layer converts tokens to vectors\n",
        "    self.embedding = tf.keras.layers.Embedding(self.vocab_size, units,\n",
        "                                               mask_zero=True)\n",
        "\n",
        "    # The RNN layer processes those vectors sequentially.\n",
        "    self.rnn = tf.keras.layers.Bidirectional(\n",
        "        merge_mode='sum',\n",
        "        layer=tf.keras.layers.GRU(units,\n",
        "                            # Return the sequence and state\n",
        "                            return_sequences=True,\n",
        "                            recurrent_initializer='glorot_uniform'))\n",
        "\n",
        "  def call(self, x):\n",
        "    shape_checker = ShapeChecker()\n",
        "    shape_checker(x, 'batch s')\n",
        "\n",
        "    # 2. The embedding layer looks up the embedding vector for each token.\n",
        "    x = self.embedding(x)\n",
        "    shape_checker(x, 'batch s units')\n",
        "\n",
        "    # 3. The GRU processes the sequence of embeddings.\n",
        "    x = self.rnn(x)\n",
        "    shape_checker(x, 'batch s units')\n",
        "\n",
        "    # 4. Returns the new sequence of embeddings.\n",
        "    return x\n",
        "\n",
        "  def convert_input(self, texts):\n",
        "    texts = tf.convert_to_tensor(texts)\n",
        "    if len(texts.shape) == 0:\n",
        "      texts = tf.convert_to_tensor(texts)[tf.newaxis]\n",
        "    context = self.text_processor(texts).to_tensor()\n",
        "    context = self(context)\n",
        "    return context"
      ]
    },
    {
      "cell_type": "code",
      "execution_count": 85,
      "metadata": {
        "colab": {
          "base_uri": "https://localhost:8080/"
        },
        "id": "60gSVh05Jl6l",
        "outputId": "11e41c1c-0ee7-4b0d-9934-0a69f3f9f1b9"
      },
      "outputs": [
        {
          "output_type": "stream",
          "name": "stdout",
          "text": [
            "Context tokens, shape (batch, s): (1, 634)\n",
            "Encoder output, shape (batch, s, units): (1, 634, 256)\n"
          ]
        }
      ],
      "source": [
        "# Encode the input sequence.\n",
        "encoder = Encoder(context_text_processor, UNITS)\n",
        "ex_context = encoder(ex_context_tok)\n",
        "\n",
        "print(f'Context tokens, shape (batch, s): {ex_context_tok.shape}')\n",
        "print(f'Encoder output, shape (batch, s, units): {ex_context.shape}')"
      ]
    },
    {
      "cell_type": "markdown",
      "metadata": {
        "id": "45xM_Gl1MgXY"
      },
      "source": [
        "### The attention layer\n",
        "\n",
        "The attention layer lets the decoder access the information extracted by the encoder. It computes a vector from the entire context sequence, and adds that to the decoder's output. \n"
      ]
    },
    {
      "cell_type": "code",
      "execution_count": 86,
      "metadata": {
        "id": "-Ql3ymqwD8LS"
      },
      "outputs": [],
      "source": [
        "class CrossAttention(tf.keras.layers.Layer):\n",
        "  def __init__(self, units, **kwargs):\n",
        "    super().__init__()\n",
        "    self.mha = tf.keras.layers.MultiHeadAttention(key_dim=units, num_heads=1, **kwargs)\n",
        "    self.layernorm = tf.keras.layers.LayerNormalization()\n",
        "    self.add = tf.keras.layers.Add()\n",
        "\n",
        "  def call(self, x, context):\n",
        "    shape_checker = ShapeChecker()\n",
        " \n",
        "    shape_checker(x, 'batch t units')\n",
        "    shape_checker(context, 'batch s units')\n",
        "\n",
        "    attn_output, attn_scores = self.mha(\n",
        "       query=x,\n",
        "       value=context,\n",
        "      return_attention_scores=True)\n",
        "    \n",
        "    shape_checker(x, 'batch t units')\n",
        "    shape_checker(attn_scores, 'batch heads t s')\n",
        "    \n",
        "  #Cache the attention scores for plotting later.\n",
        "    attn_scores = tf.reduce_mean(attn_scores, axis=1)\n",
        "    shape_checker(attn_scores, 'batch t s')\n",
        "    self.last_attention_weights = attn_scores\n",
        "\n",
        "    x = self.add([x, attn_output])\n",
        "    x = self.layernorm(x)\n",
        "\n",
        "    return x"
      ]
    },
    {
      "cell_type": "markdown",
      "source": [],
      "metadata": {
        "id": "bRzduCU4tGN6"
      }
    },
    {
      "cell_type": "code",
      "source": [
        "attention_layer = CrossAttention(UNITS)\n",
        "\n",
        "# Attend to the encoded tokens\n",
        "embed = tf.keras.layers.Embedding(target_text_processor.vocabulary_size(),\n",
        "                                 output_dim=UNITS, mask_zero=True)\n",
        "ex_tar_embed = embed(ex_tar_in)\n",
        "\n",
        "result = attention_layer(ex_tar_embed, ex_context)\n",
        "\n",
        "print(f'Context sequence, shape (batch, s, units): {ex_context.shape}')\n",
        "print(f'Target sequence, shape (batch, t, units): {ex_tar_embed.shape}')\n",
        "print(f'Attention result, shape (batch, t, units): {result.shape}')\n",
        "print(f'Attention weights, shape (batch, t, s):    {attention_layer.last_attention_weights.shape}')"
      ],
      "metadata": {
        "colab": {
          "base_uri": "https://localhost:8080/"
        },
        "id": "VVLdvss3zN4v",
        "outputId": "785e3451-8abf-49af-9789-f066251281f2"
      },
      "execution_count": 87,
      "outputs": [
        {
          "output_type": "stream",
          "name": "stdout",
          "text": [
            "Context sequence, shape (batch, s, units): (1, 634, 256)\n",
            "Target sequence, shape (batch, t, units): (1, 634, 256)\n",
            "Attention result, shape (batch, t, units): (1, 634, 256)\n",
            "Attention weights, shape (batch, t, s):    (1, 634, 634)\n"
          ]
        }
      ]
    },
    {
      "cell_type": "markdown",
      "source": [],
      "metadata": {
        "id": "d14A2DcPtQhS"
      }
    },
    {
      "cell_type": "markdown",
      "metadata": {
        "id": "vx9fUhi3Pmwp"
      },
      "source": [
        "The attention weights will sum to `1` over the context sequence, at each location in the target sequence."
      ]
    },
    {
      "cell_type": "code",
      "execution_count": 88,
      "metadata": {
        "colab": {
          "base_uri": "https://localhost:8080/"
        },
        "id": "zxyR7cmQPn9P",
        "outputId": "e682a3fc-114b-4349-c519-5d8cc407deb2"
      },
      "outputs": [
        {
          "output_type": "execute_result",
          "data": {
            "text/plain": [
              "array([0.99999994, 0.99999994, 0.99999994, 1.        , 0.99999994,\n",
              "       1.        , 1.        , 0.99999994, 1.        , 0.99999994,\n",
              "       1.        , 1.        , 1.        , 1.        , 1.        ,\n",
              "       1.        , 1.        , 1.        , 0.99999994, 1.        ,\n",
              "       1.        , 1.        , 1.        , 1.        , 1.        ,\n",
              "       1.        , 1.        , 1.        , 1.        , 1.        ,\n",
              "       0.9999999 , 1.        , 1.        , 1.        , 1.        ,\n",
              "       1.        , 1.        , 1.        , 1.        , 1.        ,\n",
              "       1.        , 1.        , 1.        , 1.        , 1.        ,\n",
              "       1.        , 1.        , 1.        , 1.        , 1.        ,\n",
              "       1.        , 1.        , 1.        , 1.        , 1.        ,\n",
              "       1.        , 1.        , 1.        , 0.99999994, 1.        ,\n",
              "       1.        , 1.        , 1.0000001 , 1.        , 1.        ,\n",
              "       1.        , 1.        , 1.        , 1.        , 1.        ,\n",
              "       1.        , 0.9999999 , 1.        , 1.        , 1.        ,\n",
              "       1.        , 1.        , 1.        , 1.        , 0.9999999 ,\n",
              "       1.        , 1.        , 1.        , 1.        , 0.9999999 ,\n",
              "       1.        , 1.        , 1.        , 0.99999994, 1.        ,\n",
              "       0.99999994, 1.        , 1.        , 0.99999994, 1.        ,\n",
              "       0.99999994, 0.99999994, 0.9999999 , 1.        , 1.        ,\n",
              "       1.        , 1.        , 1.        , 1.        , 1.        ,\n",
              "       0.99999994, 0.9999999 , 1.        , 1.        , 1.        ,\n",
              "       1.        , 1.        , 1.        , 1.        , 0.99999994,\n",
              "       0.9999999 , 1.        , 1.        , 1.        , 1.        ,\n",
              "       1.        , 1.        , 1.        , 0.99999994, 1.        ,\n",
              "       0.99999994, 0.9999999 , 1.        , 1.        , 1.        ,\n",
              "       1.        , 1.        , 1.        , 0.9999999 , 1.        ,\n",
              "       0.99999994, 0.9999999 , 1.        , 0.9999999 , 1.        ,\n",
              "       1.        , 1.        , 1.        , 1.        , 0.99999994,\n",
              "       1.        , 1.        , 0.9999999 , 1.        , 0.9999999 ,\n",
              "       1.        , 1.        , 1.        , 1.        , 1.        ,\n",
              "       1.        , 0.99999994, 1.        , 1.        , 0.99999994,\n",
              "       0.9999999 , 1.        , 1.        , 1.        , 1.        ,\n",
              "       1.        , 1.0000002 , 1.        , 0.99999994, 1.        ,\n",
              "       1.        , 0.99999994, 1.        , 1.0000001 , 0.99999994,\n",
              "       0.99999994, 0.9999999 , 1.        , 1.        , 1.        ,\n",
              "       1.        , 1.        , 1.        , 1.        , 0.99999994,\n",
              "       0.99999994, 1.        , 0.99999994, 0.9999999 , 1.        ,\n",
              "       0.9999999 , 1.        , 1.        , 1.        , 1.0000001 ,\n",
              "       1.        , 0.99999994, 0.9999999 , 1.        , 0.9999999 ,\n",
              "       1.        , 1.        , 1.        , 1.        , 1.        ,\n",
              "       0.99999994, 0.99999994, 1.        , 0.99999994, 1.        ,\n",
              "       0.99999994, 0.9999999 , 1.        , 0.99999994, 0.9999999 ,\n",
              "       1.        , 1.        , 1.        , 1.        , 1.        ,\n",
              "       0.99999994, 1.        , 0.9999999 , 1.        , 1.        ,\n",
              "       1.        , 1.        , 1.        , 1.        , 1.        ,\n",
              "       0.99999994, 1.        , 1.        , 0.9999999 , 1.        ,\n",
              "       0.9999999 , 1.        , 1.        , 1.        , 0.9999999 ,\n",
              "       1.        , 1.        , 1.        , 1.        , 0.99999994,\n",
              "       1.        , 0.99999994, 0.99999994, 0.9999999 , 1.        ,\n",
              "       0.9999999 , 1.        , 1.        , 1.        , 1.        ,\n",
              "       1.        , 0.99999994, 1.0000001 , 1.        , 0.99999994,\n",
              "       1.        , 1.        , 0.9999999 , 1.        , 1.0000001 ,\n",
              "       1.        , 1.        , 1.        , 1.        , 0.99999994,\n",
              "       1.        , 0.99999994, 1.        , 1.        , 0.9999999 ,\n",
              "       1.        , 1.        , 1.        , 1.        , 1.        ,\n",
              "       1.        , 0.99999994, 0.99999994, 1.        , 0.99999994,\n",
              "       0.9999999 , 1.        , 1.        , 1.        , 1.        ,\n",
              "       1.        , 0.9999999 , 1.        , 1.        , 1.        ,\n",
              "       0.9999999 , 1.        , 1.        , 1.        , 1.        ,\n",
              "       0.99999994, 0.9999999 , 1.        , 1.        , 1.        ,\n",
              "       1.        , 1.        , 1.        , 1.        , 0.99999994,\n",
              "       1.0000001 , 1.        , 0.99999994, 1.        , 1.        ,\n",
              "       1.        , 0.99999994, 0.9999999 , 1.        , 1.        ,\n",
              "       1.        , 1.        , 1.        , 1.        , 1.        ,\n",
              "       0.99999994, 1.        , 1.        , 0.99999994, 1.        ,\n",
              "       0.9999999 , 0.9999999 , 1.        , 0.99999994, 1.        ,\n",
              "       1.        , 1.        , 1.        , 0.9999999 , 1.        ,\n",
              "       0.99999994, 1.        , 1.        , 1.        , 1.        ,\n",
              "       1.0000002 , 1.        , 1.        , 1.        , 0.9999999 ,\n",
              "       1.        , 1.        , 1.        , 1.        , 1.        ,\n",
              "       1.        , 0.99999994, 1.        , 1.        , 1.        ,\n",
              "       1.        , 1.0000002 , 1.        , 1.        , 1.        ,\n",
              "       0.9999999 , 1.        , 1.        , 0.99999994, 1.        ,\n",
              "       1.        , 1.        , 1.        , 0.99999994, 1.        ,\n",
              "       1.        , 1.        , 1.        , 1.0000002 , 1.0000001 ,\n",
              "       1.        , 1.        , 0.9999999 , 1.        , 1.        ,\n",
              "       0.99999994, 1.        , 1.        , 1.        , 1.        ,\n",
              "       0.99999994, 1.        , 1.        , 1.        , 1.        ,\n",
              "       1.0000002 , 0.9999999 , 1.        , 1.        , 0.9999999 ,\n",
              "       1.        , 1.        , 0.99999994, 1.        , 0.99999994,\n",
              "       1.        , 1.        , 1.        , 0.9999999 , 1.0000002 ,\n",
              "       1.        , 1.        , 1.        , 0.9999999 , 1.        ,\n",
              "       1.        , 1.        , 1.        , 1.        , 1.        ,\n",
              "       0.99999994, 1.        , 1.        , 1.        , 1.        ,\n",
              "       1.0000002 , 1.        , 1.        , 1.        , 0.9999999 ,\n",
              "       1.        , 1.        , 0.99999994, 1.        , 1.        ,\n",
              "       0.99999994, 1.        , 0.99999994, 1.        , 1.        ,\n",
              "       1.        , 0.9999999 , 1.0000002 , 1.        , 1.        ,\n",
              "       1.        , 0.9999999 , 1.        , 1.        , 1.        ,\n",
              "       0.99999994, 1.        , 1.        , 1.        , 1.        ,\n",
              "       1.0000002 , 1.0000001 , 1.        , 1.        , 0.9999999 ,\n",
              "       1.        , 1.        , 0.99999994, 1.        , 1.        ,\n",
              "       1.        , 1.        , 0.99999994, 1.0000001 , 1.        ,\n",
              "       1.        , 0.9999999 , 1.0000002 , 0.99999994, 1.        ,\n",
              "       1.        , 0.9999999 , 1.        , 1.        , 1.        ,\n",
              "       0.99999994, 1.        , 1.        , 1.        , 1.        ,\n",
              "       1.0000002 , 1.        , 1.        , 1.        , 0.9999999 ,\n",
              "       1.        , 1.        , 0.99999994, 1.        , 1.        ,\n",
              "       1.        , 1.        , 0.99999994, 1.        , 1.        ,\n",
              "       1.        , 0.9999999 , 1.0000002 , 1.        , 1.        ,\n",
              "       1.        , 0.9999999 , 1.        , 1.        , 0.99999994,\n",
              "       1.        , 1.        , 1.0000001 , 1.        , 0.99999994,\n",
              "       1.        , 1.        , 1.        , 0.9999999 , 1.0000002 ,\n",
              "       1.        , 1.        , 1.        , 0.9999999 , 1.        ,\n",
              "       1.        , 0.99999994, 1.        , 1.        , 1.        ,\n",
              "       1.        , 0.99999994, 1.        , 1.        , 1.        ,\n",
              "       1.        , 1.0000002 , 1.0000001 , 1.        , 1.        ,\n",
              "       0.9999999 , 1.        , 1.        , 0.99999994, 1.        ,\n",
              "       0.99999994, 0.99999994, 1.        , 1.        , 0.9999999 ,\n",
              "       1.0000002 , 1.        , 1.        , 1.        , 0.9999999 ,\n",
              "       1.        , 1.        , 0.99999994, 1.        , 1.        ,\n",
              "       0.9999999 , 1.        , 0.99999994, 1.        , 1.        ,\n",
              "       1.        , 1.        , 1.0000002 , 1.        , 1.        ,\n",
              "       1.        , 0.9999999 , 1.        , 1.        , 0.99999994,\n",
              "       1.        , 1.        , 1.        , 1.        , 0.99999994,\n",
              "       1.        , 1.        , 1.        , 1.        , 1.0000002 ,\n",
              "       1.        , 1.        , 1.        , 0.9999999 , 1.        ,\n",
              "       1.        , 0.99999994, 1.        , 0.99999994, 1.0000001 ,\n",
              "       1.        , 1.        , 1.        , 1.0000002 , 1.        ,\n",
              "       1.        , 1.        , 0.9999999 , 1.        , 1.        ,\n",
              "       1.        , 1.        , 1.        , 1.        , 0.99999994,\n",
              "       1.        , 1.        , 1.        , 0.9999999 , 1.0000002 ,\n",
              "       1.        , 1.        , 1.        , 0.9999999 , 1.        ,\n",
              "       1.        , 1.        , 0.99999994, 1.        , 1.        ,\n",
              "       1.        , 1.        , 1.0000002 , 1.0000001 , 1.        ,\n",
              "       1.        , 0.9999999 , 1.        , 1.        ], dtype=float32)"
            ]
          },
          "metadata": {},
          "execution_count": 88
        }
      ],
      "source": [
        "attention_layer.last_attention_weights[0].numpy().sum(axis=-1)"
      ]
    },
    {
      "cell_type": "markdown",
      "metadata": {
        "id": "AagyXMH-Jhqt"
      },
      "source": [
        "\n",
        "\n",
        "Here are the attention weights across the context sequences at `t=0`:"
      ]
    },
    {
      "cell_type": "code",
      "source": [
        "attention_weights = attention_layer.last_attention_weights\n",
        "mask=(ex_context_tok != 0).numpy()\n",
        "\n",
        "plt.subplot(1, 2, 1)\n",
        "plt.pcolormesh(mask*attention_weights[:, 0, :])\n",
        "plt.title('Attention weights')\n",
        "\n",
        "plt.subplot(1, 2, 2)\n",
        "plt.pcolormesh(mask)\n",
        "plt.title('Mask');"
      ],
      "metadata": {
        "colab": {
          "base_uri": "https://localhost:8080/",
          "height": 452
        },
        "id": "LDc9M_CUtYWD",
        "outputId": "1b7fa2da-6ba6-45cf-a8a1-ba2330799638"
      },
      "execution_count": 89,
      "outputs": [
        {
          "output_type": "display_data",
          "data": {
            "text/plain": [
              "<Figure size 640x480 with 2 Axes>"
            ],
            "image/png": "[encoded data removed]"
          },
          "metadata": {}
        }
      ]
    },
    {
      "cell_type": "markdown",
      "source": [],
      "metadata": {
        "id": "Cpq_sCKHtZzS"
      }
    },
    {
      "cell_type": "markdown",
      "metadata": {
        "id": "6Eil-C_NN1rp"
      },
      "source": [
        "Because of the small-random initialization the attention weights are initially all close to `1/(sequence_length)`. The model will learn to make these less uniform as training progresses."
      ]
    },
    {
      "cell_type": "markdown",
      "metadata": {
        "id": "aQ638eHN4iCK"
      },
      "source": [
        "### The decoder\n",
        "\n",
        "The decoder's job is to generate predictions for the next token at each location in the target sequence.\n",
        "\n",
        "1. It looks up embeddings for each token in the target sequence.\n",
        "2. It uses an RNN to process the target sequence, and keep track of what it has generated so far.\n",
        "3. It uses RNN output as the \"query\" to the attention layer, when attending to the encoder's output.\n",
        "4. At each location in the output it predicts the next token.\n"
      ]
    },
    {
      "cell_type": "markdown",
      "metadata": {
        "id": "pZsQJMqNmg_L"
      },
      "source": [
        "Here is the `Decoder` class' initializer. The initializer creates all the necessary layers."
      ]
    },
    {
      "cell_type": "code",
      "execution_count": 90,
      "metadata": {
        "id": "erYvHIgAl8kh"
      },
      "outputs": [],
      "source": [
        "class Decoder(tf.keras.layers.Layer):\n",
        "  @classmethod\n",
        "  def add_method(cls, fun):\n",
        "    setattr(cls, fun.__name__, fun)\n",
        "    return fun\n",
        "\n",
        "  def __init__(self, text_processor, units):\n",
        "    super(Decoder, self).__init__()\n",
        "    self.text_processor = text_processor\n",
        "    self.vocab_size = text_processor.vocabulary_size()\n",
        "    self.word_to_id = tf.keras.layers.StringLookup(\n",
        "        vocabulary=text_processor.get_vocabulary(),\n",
        "        mask_token='', oov_token='[UNK]')\n",
        "    self.id_to_word = tf.keras.layers.StringLookup(\n",
        "        vocabulary=text_processor.get_vocabulary(),\n",
        "        mask_token='', oov_token='[UNK]',\n",
        "        invert=True)\n",
        "    self.start_token = self.word_to_id('[START]')\n",
        "    self.end_token = self.word_to_id('[END]')\n",
        "\n",
        "    self.units = units\n",
        "\n",
        "\n",
        "    # 1. The embedding layer converts token IDs to vectors\n",
        "    self.embedding = tf.keras.layers.Embedding(self.vocab_size,\n",
        "                                               units, mask_zero=True)\n",
        "\n",
        "    # 2. The RNN keeps track of what's been generated so far.\n",
        "    self.rnn = tf.keras.layers.GRU(units,\n",
        "                                   return_sequences=True,\n",
        "                                   return_state=True,\n",
        "                                   recurrent_initializer='glorot_uniform')\n",
        "\n",
        "    # 3. The RNN output will be the query for the attention layer.\n",
        "    self.attention = CrossAttention(units)\n",
        "\n",
        "    # 4. This fully connected layer produces the logits for each\n",
        "    # output token.\n",
        "    self.output_layer = tf.keras.layers.Dense(self.vocab_size)"
      ]
    },
    {
      "cell_type": "markdown",
      "metadata": {
        "id": "Sd8-nRNzFR8x"
      },
      "source": [
        "#### Training"
      ]
    },
    {
      "cell_type": "markdown",
      "metadata": {
        "id": "UPnaw583CpnY"
      },
      "source": [
        "Next, the `call` method, takes 3 arguments:\n",
        "\n",
        "* `inputs` -  a `context, x` pair where:\n",
        "  * `context` - is the context from the encoder's output.\n",
        "  * `x` - is the target sequence input.\n",
        "* `state` - Optional, the previous `state` output from the decoder (the internal state of the decoder's RNN). Pass the state from a previous run to continue generating text where you left off.\n",
        "* `return_state` - [Default: False] - Set this to `True` to return the RNN state. "
      ]
    },
    {
      "cell_type": "code",
      "execution_count": 91,
      "metadata": {
        "id": "PJOi5btHAPNK"
      },
      "outputs": [],
      "source": [
        "@Decoder.add_method\n",
        "def call(self,\n",
        "         context, x,\n",
        "         state=None,\n",
        "         return_state=False):  \n",
        "  shape_checker = ShapeChecker()\n",
        "  shape_checker(x, 'batch t')\n",
        "  shape_checker(context, 'batch s units')\n",
        "\n",
        "  # 1. Lookup the embeddings\n",
        "  x = self.embedding(x)\n",
        "  shape_checker(x, 'batch t units')\n",
        "\n",
        "  # 2. Process the target sequence.\n",
        "  x, state = self.rnn(x, initial_state=state)\n",
        "  shape_checker(x, 'batch t units')\n",
        "\n",
        "  # 3. Use the RNN output as the query for the attention over the context.\n",
        "  x = self.attention(x, context)\n",
        "  self.last_attention_weights = self.attention.last_attention_weights\n",
        "  shape_checker(x, 'batch t units')\n",
        "  shape_checker(self.last_attention_weights, 'batch t s')\n",
        "\n",
        "  # Step 4. Generate logit predictions for the next token.\n",
        "  logits = self.output_layer(x)\n",
        "  shape_checker(logits, 'batch t target_vocab_size')\n",
        "\n",
        "  if return_state:\n",
        "    return logits, state\n",
        "  else:\n",
        "    return logits"
      ]
    },
    {
      "cell_type": "markdown",
      "metadata": {
        "id": "E1-mLAcUEXpK"
      },
      "source": [
        "That will be sufficient for training. Create an instance of the decoder to test out:"
      ]
    },
    {
      "cell_type": "code",
      "execution_count": 92,
      "metadata": {
        "id": "4ZUMbYXIEVeA"
      },
      "outputs": [],
      "source": [
        "decoder = Decoder(target_text_processor, UNITS)"
      ]
    },
    {
      "cell_type": "markdown",
      "metadata": {
        "id": "SFWaI4wqzt4t"
      },
      "source": [
        "Decoder usage"
      ]
    },
    {
      "cell_type": "code",
      "execution_count": 93,
      "metadata": {
        "colab": {
          "base_uri": "https://localhost:8080/"
        },
        "id": "5YM-lD7bzx18",
        "outputId": "70f60536-3bcc-43cf-d793-8e8627c27378"
      },
      "outputs": [
        {
          "output_type": "stream",
          "name": "stdout",
          "text": [
            "encoder output shape: (batch, s, units) (1, 634, 256)\n",
            "input target tokens shape: (batch, t) (1, 634)\n",
            "logits shape shape: (batch, target_vocabulary_size) (1, 634, 3048)\n"
          ]
        }
      ],
      "source": [
        "logits = decoder(ex_context, ex_tar_in)\n",
        "\n",
        "print(f'encoder output shape: (batch, s, units) {ex_context.shape}')\n",
        "print(f'input target tokens shape: (batch, t) {ex_tar_in.shape}')\n",
        "print(f'logits shape shape: (batch, target_vocabulary_size) {logits.shape}')"
      ]
    },
    {
      "cell_type": "markdown",
      "metadata": {
        "id": "zhS_tbk7VQkX"
      },
      "source": [
        "#### Inference\n",
        "\n",
        "For inference usage couple more methods."
      ]
    },
    {
      "cell_type": "code",
      "execution_count": 94,
      "metadata": {
        "id": "SPm12cnIVRQr"
      },
      "outputs": [],
      "source": [
        "@Decoder.add_method\n",
        "def get_initial_state(self, context):\n",
        "  batch_size = tf.shape(context)[0]\n",
        "  start_tokens = tf.fill([batch_size, 1], self.start_token)\n",
        "  done = tf.zeros([batch_size, 1], dtype=tf.bool)\n",
        "  embedded = self.embedding(start_tokens)\n",
        "  return start_tokens, done, self.rnn.get_initial_state(embedded)[0]"
      ]
    },
    {
      "cell_type": "code",
      "execution_count": 95,
      "metadata": {
        "id": "TzeOhpBvVS5L"
      },
      "outputs": [],
      "source": [
        "@Decoder.add_method\n",
        "def tokens_to_text(self, tokens):\n",
        "  words = self.id_to_word(tokens)\n",
        "  result = tf.strings.reduce_join(words, axis=-1, separator=' ')\n",
        "  result = tf.strings.regex_replace(result, '^ *\\[START\\] *', '')\n",
        "  result = tf.strings.regex_replace(result, ' *\\[END\\] *$', '')\n",
        "  return result"
      ]
    },
    {
      "cell_type": "code",
      "execution_count": 96,
      "metadata": {
        "id": "v6ildnz_V1MA"
      },
      "outputs": [],
      "source": [
        "@Decoder.add_method\n",
        "def get_next_token(self, context, next_token, done, state, temperature = 0.0):\n",
        "  logits, state = self(\n",
        "    context, next_token,\n",
        "    state = state,\n",
        "    return_state=True) \n",
        "  \n",
        "  if temperature == 0.0:\n",
        "    next_token = tf.argmax(logits, axis=-1)\n",
        "  else:\n",
        "    logits = logits[:, -1, :]/temperature\n",
        "    next_token = tf.random.categorical(logits, num_samples=1)\n",
        "\n",
        "  # If a sequence produces an `end_token`, set it `done`\n",
        "  done = done | (next_token == self.end_token)\n",
        "  # Once a sequence is done it only produces 0-padding.\n",
        "  next_token = tf.where(done, tf.constant(0, dtype=tf.int64), next_token)\n",
        "  \n",
        "  return next_token, done, state"
      ]
    },
    {
      "cell_type": "markdown",
      "metadata": {
        "id": "9WiXLrVs-FTE"
      },
      "source": [
        "With those extra functions, you can write a generation loop:"
      ]
    },
    {
      "cell_type": "code",
      "execution_count": 97,
      "metadata": {
        "id": "SuehagxL-JBZ"
      },
      "outputs": [],
      "source": [
        "# Setup the loop variables.\n",
        "next_token, done, state = decoder.get_initial_state(ex_context)\n",
        "tokens = []\n",
        "\n",
        "for n in range(10):\n",
        "  # Run one step.\n",
        "  next_token, done, state = decoder.get_next_token(\n",
        "      ex_context, next_token, done, state, temperature=1.0)\n",
        "  # Add the token to the output.\n",
        "  tokens.append(next_token)\n",
        "\n",
        "# Stack all the tokens together.\n",
        "tokens = tf.concat(tokens, axis=-1) # (batch, t)\n",
        "\n",
        "# Convert the tokens back to a a string\n",
        "result = decoder.tokens_to_text(tokens)\n",
        "#result[:3].numpy()"
      ]
    },
    {
      "cell_type": "markdown",
      "metadata": {
        "id": "B6xyru86m914"
      },
      "source": [
        "## The model\n"
      ]
    },
    {
      "cell_type": "code",
      "execution_count": 98,
      "metadata": {
        "id": "WWIyuy71TkJT"
      },
      "outputs": [],
      "source": [
        "class Translator(tf.keras.Model):\n",
        "  @classmethod\n",
        "  def add_method(cls, fun):\n",
        "    setattr(cls, fun.__name__, fun)\n",
        "    return fun\n",
        "\n",
        "  def __init__(self, units,\n",
        "               context_text_processor,\n",
        "               target_text_processor):\n",
        "    super().__init__()\n",
        "    # Build the encoder and decoder\n",
        "    encoder = Encoder(context_text_processor, units)\n",
        "    decoder = Decoder(target_text_processor, units)\n",
        "\n",
        "    self.encoder = encoder\n",
        "    self.decoder = decoder\n",
        "\n",
        "  def call(self, inputs):\n",
        "    context, x = inputs\n",
        "    context = self.encoder(context)\n",
        "    logits = self.decoder(context, x)\n",
        "\n",
        "    #TODO(b/250038731): remove this\n",
        "    try:\n",
        "      # Delete the keras mask, so keras doesn't scale the loss+accuracy. \n",
        "      del logits._keras_mask\n",
        "    except AttributeError:\n",
        "      pass\n",
        "\n",
        "    return logits"
      ]
    },
    {
      "cell_type": "markdown",
      "metadata": {
        "id": "5rPi0FkS2iA5"
      },
      "source": [
        "During training the model will be used like this:"
      ]
    },
    {
      "cell_type": "code",
      "execution_count": 99,
      "metadata": {
        "colab": {
          "base_uri": "https://localhost:8080/"
        },
        "id": "8vhjTh84K6Mg",
        "outputId": "5bbea71c-0e16-4773-ea0c-2f6cac4e4fb8"
      },
      "outputs": [
        {
          "output_type": "stream",
          "name": "stdout",
          "text": [
            "Context tokens, shape: (batch, s, units) (1, 634)\n",
            "Target tokens, shape: (batch, t) (1, 634)\n",
            "logits, shape: (batch, t, target_vocabulary_size) (1, 634, 3048)\n"
          ]
        }
      ],
      "source": [
        "model = Translator(UNITS, context_text_processor, target_text_processor)\n",
        "\n",
        "logits = model((ex_context_tok, ex_tar_in))\n",
        "\n",
        "print(f'Context tokens, shape: (batch, s, units) {ex_context_tok.shape}')\n",
        "print(f'Target tokens, shape: (batch, t) {ex_tar_in.shape}')\n",
        "print(f'logits, shape: (batch, t, target_vocabulary_size) {logits.shape}')"
      ]
    },
    {
      "cell_type": "markdown",
      "metadata": {
        "id": "_ch_71VbIRfK"
      },
      "source": [
        "### Train"
      ]
    },
    {
      "cell_type": "code",
      "execution_count": 100,
      "metadata": {
        "id": "WmTHr5iV3jFr"
      },
      "outputs": [],
      "source": [
        "def masked_loss(y_true, y_pred):\n",
        "    # Calculate the loss for each item in the batch.\n",
        "    loss_fn = tf.keras.losses.SparseCategoricalCrossentropy(\n",
        "        from_logits=True, reduction='none')\n",
        "    loss = loss_fn(y_true, y_pred)\n",
        "\n",
        "    # Mask off the losses on padding.\n",
        "    mask = tf.cast(y_true != 0, loss.dtype)\n",
        "    loss *= mask\n",
        "\n",
        "    # Return the total.\n",
        "    return tf.reduce_sum(loss)/tf.reduce_sum(mask)"
      ]
    },
    {
      "cell_type": "code",
      "execution_count": 101,
      "metadata": {
        "id": "nRB1CTmQWOIL"
      },
      "outputs": [],
      "source": [
        "def masked_acc(y_true, y_pred):\n",
        "    # Calculate the loss for each item in the batch.\n",
        "    y_pred = tf.argmax(y_pred, axis=-1)\n",
        "    y_pred = tf.cast(y_pred, y_true.dtype)\n",
        "    \n",
        "    match = tf.cast(y_true == y_pred, tf.float32)\n",
        "    mask = tf.cast(y_true != 0, tf.float32)\n",
        "    \n",
        "    return tf.reduce_sum(match)/tf.reduce_sum(mask)"
      ]
    },
    {
      "cell_type": "markdown",
      "metadata": {
        "id": "f32GuAhw2nXm"
      },
      "source": [
        "Configure the model for training:"
      ]
    },
    {
      "cell_type": "code",
      "execution_count": 102,
      "metadata": {
        "id": "9g0DRRvm3l9X"
      },
      "outputs": [],
      "source": [
        "model.compile(optimizer='Adam',\n",
        "              loss=masked_loss, \n",
        "              metrics=[masked_acc, masked_loss])"
      ]
    },
    {
      "cell_type": "markdown",
      "metadata": {
        "id": "5DWLI3pssjnx"
      },
      "source": [
        "The model is randomly initialized, and should give roughly uniform output probabilities. So it's easy to predict what the initial values of the metrics should be:"
      ]
    },
    {
      "cell_type": "code",
      "execution_count": 103,
      "metadata": {
        "colab": {
          "base_uri": "https://localhost:8080/"
        },
        "id": "BuP3_LFENMJG",
        "outputId": "8ae74b43-77bf-4235-bca0-34be1e7cec27"
      },
      "outputs": [
        {
          "output_type": "execute_result",
          "data": {
            "text/plain": [
              "{'expected_loss': 8.022241, 'expected_acc': 0.00032808398950131233}"
            ]
          },
          "metadata": {},
          "execution_count": 103
        }
      ],
      "source": [
        "vocab_size = 1.0 * target_text_processor.vocabulary_size()\n",
        "\n",
        "{\"expected_loss\": tf.math.log(vocab_size).numpy(),\n",
        " \"expected_acc\": 1/vocab_size}"
      ]
    },
    {
      "cell_type": "markdown",
      "metadata": {
        "id": "frVba49Usd0Z"
      },
      "source": [
        "That should roughly match the values returned by running a few steps of evaluation:"
      ]
    },
    {
      "cell_type": "code",
      "execution_count": 104,
      "metadata": {
        "colab": {
          "base_uri": "https://localhost:8080/"
        },
        "id": "8rJITfxEsHKR",
        "outputId": "82ce5e86-e319-4151-c75d-567232b96f59"
      },
      "outputs": [
        {
          "output_type": "stream",
          "name": "stdout",
          "text": [
            "60/60 [==============================] - 11s 64ms/step - loss: 8.0339 - masked_acc: 1.5042e-04 - masked_loss: 8.0339\n"
          ]
        },
        {
          "output_type": "execute_result",
          "data": {
            "text/plain": [
              "{'loss': 8.03392219543457,\n",
              " 'masked_acc': 0.00015041962615214288,\n",
              " 'masked_loss': 8.03392219543457}"
            ]
          },
          "metadata": {},
          "execution_count": 104
        }
      ],
      "source": [
        "model.evaluate(val_ds, steps=60, return_dict=True)"
      ]
    },
    {
      "cell_type": "code",
      "execution_count": 105,
      "metadata": {
        "colab": {
          "base_uri": "https://localhost:8080/"
        },
        "id": "BQd_esVVoSf3",
        "outputId": "68e90f25-7149-4eb4-b163-aa76d4a4582f"
      },
      "outputs": [
        {
          "output_type": "stream",
          "name": "stdout",
          "text": [
            "Epoch 1/100\n",
            "100/100 [==============================] - 46s 311ms/step - loss: 2.6958 - masked_acc: 0.5448 - masked_loss: 2.6958 - val_loss: 0.8987 - val_masked_acc: 0.8037 - val_masked_loss: 0.8987\n",
            "Epoch 2/100\n",
            "100/100 [==============================] - 19s 189ms/step - loss: 0.6531 - masked_acc: 0.8578 - masked_loss: 0.6531 - val_loss: 0.4444 - val_masked_acc: 0.9050 - val_masked_loss: 0.4444\n",
            "Epoch 3/100\n",
            "100/100 [==============================] - 15s 148ms/step - loss: 0.3217 - masked_acc: 0.9262 - masked_loss: 0.3217 - val_loss: 0.2162 - val_masked_acc: 0.9487 - val_masked_loss: 0.2162\n",
            "Epoch 4/100\n",
            "100/100 [==============================] - 13s 136ms/step - loss: 0.1950 - masked_acc: 0.9501 - masked_loss: 0.1950 - val_loss: 0.1975 - val_masked_acc: 0.9532 - val_masked_loss: 0.1975\n",
            "Epoch 5/100\n",
            "100/100 [==============================] - 13s 130ms/step - loss: 0.1229 - masked_acc: 0.9660 - masked_loss: 0.1229 - val_loss: 0.1256 - val_masked_acc: 0.9632 - val_masked_loss: 0.1256\n",
            "Epoch 6/100\n",
            "100/100 [==============================] - 14s 140ms/step - loss: 0.1594 - masked_acc: 0.9587 - masked_loss: 0.1594 - val_loss: 0.1376 - val_masked_acc: 0.9623 - val_masked_loss: 0.1376\n",
            "Epoch 7/100\n",
            "100/100 [==============================] - 14s 137ms/step - loss: 0.1586 - masked_acc: 0.9593 - masked_loss: 0.1586 - val_loss: 0.1368 - val_masked_acc: 0.9643 - val_masked_loss: 0.1368\n",
            "Epoch 8/100\n",
            "100/100 [==============================] - 13s 133ms/step - loss: 0.1065 - masked_acc: 0.9686 - masked_loss: 0.1065 - val_loss: 0.1117 - val_masked_acc: 0.9674 - val_masked_loss: 0.1117\n",
            "Epoch 9/100\n",
            "100/100 [==============================] - 13s 125ms/step - loss: 0.1275 - masked_acc: 0.9640 - masked_loss: 0.1275 - val_loss: 0.1997 - val_masked_acc: 0.9577 - val_masked_loss: 0.1997\n",
            "Epoch 10/100\n",
            "100/100 [==============================] - 13s 128ms/step - loss: 0.1041 - masked_acc: 0.9680 - masked_loss: 0.1041 - val_loss: 0.0816 - val_masked_acc: 0.9736 - val_masked_loss: 0.0816\n",
            "Epoch 11/100\n",
            "100/100 [==============================] - 13s 134ms/step - loss: 0.0916 - masked_acc: 0.9716 - masked_loss: 0.0916 - val_loss: 0.0875 - val_masked_acc: 0.9714 - val_masked_loss: 0.0875\n",
            "Epoch 12/100\n",
            "100/100 [==============================] - 15s 148ms/step - loss: 0.1612 - masked_acc: 0.9653 - masked_loss: 0.1612 - val_loss: 0.1258 - val_masked_acc: 0.9661 - val_masked_loss: 0.1258\n",
            "Epoch 13/100\n",
            "100/100 [==============================] - 12s 121ms/step - loss: 0.0748 - masked_acc: 0.9744 - masked_loss: 0.0748 - val_loss: 0.0622 - val_masked_acc: 0.9781 - val_masked_loss: 0.0622\n",
            "Epoch 14/100\n",
            "100/100 [==============================] - 14s 146ms/step - loss: 0.0802 - masked_acc: 0.9740 - masked_loss: 0.0802 - val_loss: 0.0764 - val_masked_acc: 0.9737 - val_masked_loss: 0.0764\n",
            "Epoch 15/100\n",
            "100/100 [==============================] - 13s 128ms/step - loss: 0.0726 - masked_acc: 0.9750 - masked_loss: 0.0726 - val_loss: 0.1026 - val_masked_acc: 0.9703 - val_masked_loss: 0.1026\n",
            "Epoch 16/100\n",
            "100/100 [==============================] - 11s 115ms/step - loss: 0.0711 - masked_acc: 0.9767 - masked_loss: 0.0711 - val_loss: 0.0705 - val_masked_acc: 0.9773 - val_masked_loss: 0.0705\n",
            "Epoch 17/100\n",
            "100/100 [==============================] - 11s 115ms/step - loss: 0.0652 - masked_acc: 0.9772 - masked_loss: 0.0652 - val_loss: 0.0721 - val_masked_acc: 0.9761 - val_masked_loss: 0.0721\n",
            "Epoch 18/100\n",
            "100/100 [==============================] - 14s 136ms/step - loss: 0.1083 - masked_acc: 0.9703 - masked_loss: 0.1083 - val_loss: 0.0718 - val_masked_acc: 0.9743 - val_masked_loss: 0.0718\n",
            "Epoch 19/100\n",
            "100/100 [==============================] - 12s 121ms/step - loss: 0.0758 - masked_acc: 0.9745 - masked_loss: 0.0758 - val_loss: 0.0861 - val_masked_acc: 0.9704 - val_masked_loss: 0.0861\n",
            "Epoch 20/100\n",
            "100/100 [==============================] - 12s 119ms/step - loss: 0.0655 - masked_acc: 0.9770 - masked_loss: 0.0655 - val_loss: 0.1046 - val_masked_acc: 0.9710 - val_masked_loss: 0.1046\n",
            "Epoch 21/100\n",
            "100/100 [==============================] - 14s 138ms/step - loss: 0.1186 - masked_acc: 0.9685 - masked_loss: 0.1186 - val_loss: 0.0749 - val_masked_acc: 0.9736 - val_masked_loss: 0.0749\n",
            "Epoch 22/100\n",
            "100/100 [==============================] - 12s 122ms/step - loss: 0.0737 - masked_acc: 0.9755 - masked_loss: 0.0737 - val_loss: 0.0596 - val_masked_acc: 0.9795 - val_masked_loss: 0.0596\n",
            "Epoch 23/100\n",
            "100/100 [==============================] - 12s 118ms/step - loss: 0.0602 - masked_acc: 0.9785 - masked_loss: 0.0602 - val_loss: 0.0634 - val_masked_acc: 0.9779 - val_masked_loss: 0.0634\n",
            "Epoch 24/100\n",
            "100/100 [==============================] - 14s 140ms/step - loss: 0.0562 - masked_acc: 0.9798 - masked_loss: 0.0562 - val_loss: 0.0624 - val_masked_acc: 0.9778 - val_masked_loss: 0.0624\n",
            "Epoch 25/100\n",
            "100/100 [==============================] - 12s 121ms/step - loss: 0.0600 - masked_acc: 0.9790 - masked_loss: 0.0600 - val_loss: 0.0785 - val_masked_acc: 0.9746 - val_masked_loss: 0.0785\n",
            "Epoch 26/100\n",
            "100/100 [==============================] - 12s 119ms/step - loss: 0.0551 - masked_acc: 0.9806 - masked_loss: 0.0551 - val_loss: 0.0672 - val_masked_acc: 0.9780 - val_masked_loss: 0.0672\n",
            "Epoch 27/100\n",
            "100/100 [==============================] - 11s 114ms/step - loss: 0.0668 - masked_acc: 0.9772 - masked_loss: 0.0668 - val_loss: 0.0651 - val_masked_acc: 0.9783 - val_masked_loss: 0.0651\n",
            "Epoch 28/100\n",
            "100/100 [==============================] - 11s 114ms/step - loss: 0.0522 - masked_acc: 0.9815 - masked_loss: 0.0522 - val_loss: 0.0555 - val_masked_acc: 0.9811 - val_masked_loss: 0.0555\n",
            "Epoch 29/100\n",
            "100/100 [==============================] - 12s 119ms/step - loss: 0.0571 - masked_acc: 0.9802 - masked_loss: 0.0571 - val_loss: 0.0503 - val_masked_acc: 0.9817 - val_masked_loss: 0.0503\n",
            "Epoch 30/100\n",
            "100/100 [==============================] - 14s 142ms/step - loss: 0.0638 - masked_acc: 0.9794 - masked_loss: 0.0638 - val_loss: 0.0662 - val_masked_acc: 0.9772 - val_masked_loss: 0.0662\n",
            "Epoch 31/100\n",
            "100/100 [==============================] - 12s 120ms/step - loss: 0.0560 - masked_acc: 0.9813 - masked_loss: 0.0560 - val_loss: 0.0525 - val_masked_acc: 0.9821 - val_masked_loss: 0.0525\n",
            "Epoch 32/100\n",
            "100/100 [==============================] - 11s 113ms/step - loss: 0.0546 - masked_acc: 0.9819 - masked_loss: 0.0546 - val_loss: 0.0447 - val_masked_acc: 0.9848 - val_masked_loss: 0.0447\n",
            "Epoch 33/100\n",
            "100/100 [==============================] - 11s 112ms/step - loss: 0.0551 - masked_acc: 0.9821 - masked_loss: 0.0551 - val_loss: 0.0829 - val_masked_acc: 0.9773 - val_masked_loss: 0.0829\n",
            "Epoch 34/100\n",
            "100/100 [==============================] - 11s 113ms/step - loss: 0.0605 - masked_acc: 0.9812 - masked_loss: 0.0605 - val_loss: 0.0852 - val_masked_acc: 0.9774 - val_masked_loss: 0.0852\n",
            "Epoch 35/100\n",
            "100/100 [==============================] - 11s 112ms/step - loss: 0.0436 - masked_acc: 0.9850 - masked_loss: 0.0436 - val_loss: 0.0462 - val_masked_acc: 0.9837 - val_masked_loss: 0.0462\n",
            "Epoch 36/100\n",
            "100/100 [==============================] - 12s 116ms/step - loss: 0.0400 - masked_acc: 0.9859 - masked_loss: 0.0400 - val_loss: 0.0581 - val_masked_acc: 0.9816 - val_masked_loss: 0.0581\n",
            "Epoch 37/100\n",
            "100/100 [==============================] - 11s 114ms/step - loss: 0.0519 - masked_acc: 0.9823 - masked_loss: 0.0519 - val_loss: 0.0461 - val_masked_acc: 0.9850 - val_masked_loss: 0.0461\n",
            "Epoch 38/100\n",
            "100/100 [==============================] - 12s 116ms/step - loss: 0.0675 - masked_acc: 0.9812 - masked_loss: 0.0675 - val_loss: 0.0545 - val_masked_acc: 0.9824 - val_masked_loss: 0.0545\n",
            "Epoch 39/100\n",
            "100/100 [==============================] - 11s 113ms/step - loss: 0.0536 - masked_acc: 0.9830 - masked_loss: 0.0536 - val_loss: 0.0465 - val_masked_acc: 0.9835 - val_masked_loss: 0.0465\n",
            "Epoch 40/100\n",
            "100/100 [==============================] - 12s 118ms/step - loss: 0.0371 - masked_acc: 0.9870 - masked_loss: 0.0371 - val_loss: 0.0494 - val_masked_acc: 0.9842 - val_masked_loss: 0.0494\n",
            "Epoch 41/100\n",
            "100/100 [==============================] - 12s 124ms/step - loss: 0.0515 - masked_acc: 0.9831 - masked_loss: 0.0515 - val_loss: 0.0528 - val_masked_acc: 0.9839 - val_masked_loss: 0.0528\n"
          ]
        }
      ],
      "source": [
        "history = model.fit(\n",
        "    train_ds.repeat(), \n",
        "    epochs=100,\n",
        "    steps_per_epoch = 100,\n",
        "    validation_data=val_ds,\n",
        "    validation_steps = 60,\n",
        "    callbacks=[\n",
        "        tf.keras.callbacks.EarlyStopping(patience=9)])"
      ]
    },
    {
      "cell_type": "markdown",
      "source": [
        "## Plotting the Loss from Training "
      ],
      "metadata": {
        "id": "Uq9lHbPgenz9"
      }
    },
    {
      "cell_type": "code",
      "execution_count": 106,
      "metadata": {
        "id": "38rLdlmtQHCm",
        "colab": {
          "base_uri": "https://localhost:8080/",
          "height": 467
        },
        "outputId": "15e50ec5-846f-4f6f-91f7-8f26299b2685"
      },
      "outputs": [
        {
          "output_type": "execute_result",
          "data": {
            "text/plain": [
              "<matplotlib.legend.Legend at 0x7fef444e2f80>"
            ]
          },
          "metadata": {},
          "execution_count": 106
        },
        {
          "output_type": "display_data",
          "data": {
            "text/plain": [
              "<Figure size 640x480 with 1 Axes>"
            ],
            "image/png": "[encoded data removed]"
          },
          "metadata": {}
        }
      ],
      "source": [
        "plt.plot(history.history['loss'], label='loss')\n",
        "plt.plot(history.history['masked_loss'], label='masked_loss')\n",
        "plt.plot(history.history['val_masked_loss'], label='val_masked_loss')\n",
        "plt.ylim([0, max(plt.ylim())])\n",
        "plt.xlabel('Epoch #')\n",
        "plt.ylabel('CE/token')\n",
        "plt.legend()"
      ]
    },
    {
      "cell_type": "markdown",
      "source": [
        "## Plotting the aacuracy from the training"
      ],
      "metadata": {
        "id": "lUssYQFZet7E"
      }
    },
    {
      "cell_type": "code",
      "execution_count": 107,
      "metadata": {
        "id": "KkhXRASNG80_",
        "colab": {
          "base_uri": "https://localhost:8080/",
          "height": 470
        },
        "outputId": "1feba937-923a-42f4-8ed0-5f7a29345779"
      },
      "outputs": [
        {
          "output_type": "execute_result",
          "data": {
            "text/plain": [
              "<matplotlib.legend.Legend at 0x7fef45e1d150>"
            ]
          },
          "metadata": {},
          "execution_count": 107
        },
        {
          "output_type": "display_data",
          "data": {
            "text/plain": [
              "<Figure size 640x480 with 1 Axes>"
            ],
            "image/png": "[encoded data removed]"
          },
          "metadata": {}
        }
      ],
      "source": [
        "plt.plot(history.history['masked_acc'], label='accuracy')\n",
        "plt.plot(history.history['val_masked_acc'], label='val_accuracy')\n",
        "plt.ylim([0, max(plt.ylim())])\n",
        "plt.xlabel('Epoch #')\n",
        "plt.ylabel('CE/token')\n",
        "plt.legend()"
      ]
    },
    {
      "cell_type": "markdown",
      "metadata": {
        "id": "mU3Ce8M6I3rz"
      },
      "source": [
        "### Translate Module Development\n",
        "\n",
        "Now that the model is trained, implement a function to execute the full `text => text` translation. This code is basically identical to the [inference example](#inference) in the [decoder section](#the_decoder), but this also captures the attention weights."
      ]
    },
    {
      "cell_type": "code",
      "execution_count": 108,
      "metadata": {
        "id": "mmgYPCVgEwp_"
      },
      "outputs": [],
      "source": [
        "#@title\n",
        "@Translator.add_method\n",
        "def translate(self,\n",
        "              texts, *,\n",
        "              max_length=50,\n",
        "              temperature=0.0):\n",
        "  # Process the input texts\n",
        "  context = self.encoder.convert_input(texts)\n",
        "  batch_size = tf.shape(texts)[0]\n",
        "\n",
        "  # Setup the loop inputs\n",
        "  tokens = []\n",
        "  attention_weights = []\n",
        "  next_token, done, state = self.decoder.get_initial_state(context)\n",
        "\n",
        "  for _ in range(max_length):\n",
        "    # Generate the next token\n",
        "    next_token, done, state = self.decoder.get_next_token(\n",
        "        context, next_token, done,  state, temperature)\n",
        "        \n",
        "    # Collect the generated tokens\n",
        "    tokens.append(next_token)\n",
        "    attention_weights.append(self.decoder.last_attention_weights)\n",
        "    \n",
        "    if tf.executing_eagerly() and tf.reduce_all(done):\n",
        "      break\n",
        "\n",
        "  # Stack the lists of tokens and attention weights.\n",
        "  tokens = tf.concat(tokens, axis=-1)   # t*[(batch 1)] -> (batch, t)\n",
        "  self.last_attention_weights = tf.concat(attention_weights, axis=1)  # t*[(batch 1 s)] -> (batch, t s)\n",
        "\n",
        "  result = self.decoder.tokens_to_text(tokens)\n",
        "  return result"
      ]
    },
    {
      "cell_type": "markdown",
      "metadata": {
        "id": "U4XufRntbbva"
      },
      "source": [
        "Here are the two helper methods, used above, to convert tokens to text, and to get the next token:"
      ]
    },
    {
      "cell_type": "code",
      "execution_count": 109,
      "metadata": {
        "id": "E5hqvbR5FUCD",
        "scrolled": false
      },
      "outputs": [],
      "source": [
        "#Individual translator mechanism, can be used to translate each data separately\n",
        "\n",
        "\n",
        "result1 = model.translate([''])\n",
        "\n",
        "result2 = model.translate([''])\n",
        "\n",
        "result23 = model.translate([''])\n",
        "\n",
        "result222 = model.translate([''])\n",
        "#result1[0].numpy().decode()\n",
        "#result2[0].numpy().decode()\n",
        "\n"
      ]
    },
    {
      "cell_type": "markdown",
      "metadata": {
        "id": "wQ1iU63cVgfs"
      },
      "source": [
        "### Attention plot generation after model training has been completed"
      ]
    },
    {
      "cell_type": "code",
      "execution_count": 110,
      "metadata": {
        "id": "s5hQWlbN3jGF"
      },
      "outputs": [],
      "source": [
        "#@title\n",
        "@Translator.add_method\n",
        "def plot_attention(self, text, **kwargs):\n",
        "  assert isinstance(text, str)\n",
        "  output = self.translate([text], **kwargs)\n",
        "  output = output[0].numpy().decode()\n",
        "\n",
        "  attention = self.last_attention_weights[0]\n",
        "\n",
        "  context = tf_lower_and_split_punct(text)\n",
        "  context = context.numpy().decode().split()\n",
        "\n",
        "  output = tf_lower_and_split_punct(output)\n",
        "  output = output.numpy().decode().split()[1:]\n",
        "\n",
        "  fig = plt.figure(figsize=(10, 10))\n",
        "  ax = fig.add_subplot(1, 1, 1)\n",
        "\n",
        "  ax.matshow(attention, cmap='viridis', vmin=0.0)\n",
        "\n",
        "  fontdict = {'fontsize': 14}\n",
        "\n",
        "  ax.set_xticklabels([''] + context, fontdict=fontdict, rotation=90)\n",
        "  ax.set_yticklabels([''] + output, fontdict=fontdict)\n",
        "\n",
        "  ax.xaxis.set_major_locator(ticker.MultipleLocator(1))\n",
        "  ax.yaxis.set_major_locator(ticker.MultipleLocator(1))\n",
        "\n",
        "  ax.set_xlabel('Input text')\n",
        "  ax.set_ylabel('Output text')"
      ]
    },
    {
      "cell_type": "code",
      "execution_count": 111,
      "metadata": {
        "id": "rrGawQv2eiA4"
      },
      "outputs": [],
      "source": [
        "#model.plot_attention('') "
      ]
    },
    {
      "cell_type": "markdown",
      "metadata": {
        "id": "JHBdOf9duumm"
      },
      "source": [
        "Translate a few more sentences and plot them:"
      ]
    },
    {
      "cell_type": "markdown",
      "metadata": {
        "id": "rA3xI3NzrRJt"
      },
      "source": [
        "The short sentences often work well, but if the input is too long the model literally loses focus and stops providing reasonable predictions. There are two main reasons for this:\n",
        "\n",
        "1. The model was trained with teacher-forcing feeding the correct token at each step, regardless of the model's predictions. The model could be made more robust if it were sometimes fed its own predictions.\n",
        "2. The model only has access to its previous output through the RNN state. If the RNN state looses track of where it was in the context sequence there's no way for the model to recover. [Transformers](transformer.ipynb) improve on this by letting the decoder look at what it has output so far."
      ]
    },
    {
      "cell_type": "markdown",
      "metadata": {
        "id": "Vtz6QBoGWqT2"
      },
      "source": [
        "The raw data is sorted by length, so try translating the longest sequence:"
      ]
    },
    {
      "cell_type": "code",
      "execution_count": 112,
      "metadata": {
        "id": "-FUHFLEvSMbG"
      },
      "outputs": [],
      "source": [
        "long_text = context_raw[-1]\n",
        "\n",
        "import textwrap\n",
        "#print('Expected output:\\n', '\\n'.join(textwrap.wrap(target_raw[-1])))"
      ]
    },
    {
      "cell_type": "markdown",
      "source": [
        "# Testing unseen samples"
      ],
      "metadata": {
        "id": "Rc1aekzi9dLZ"
      }
    },
    {
      "cell_type": "code",
      "source": [
        "dc = pd.read_excel('University_OM_test.xlsx')"
      ],
      "metadata": {
        "id": "6OIFQKZI9bc5"
      },
      "execution_count": 149,
      "outputs": []
    },
    {
      "cell_type": "code",
      "source": [
        "dc.head()"
      ],
      "metadata": {
        "id": "Nsx0IyYZ9k3v",
        "colab": {
          "base_uri": "https://localhost:8080/",
          "height": 206
        },
        "outputId": "cc770c86-cc70-4208-fa68-5d89292a1fbe"
      },
      "execution_count": 150,
      "outputs": [
        {
          "output_type": "execute_result",
          "data": {
            "text/plain": [
              "                                          OM_Regular  OM_Prediction\n",
              "0  module OM_name:0, open Declaration one sig cla...              1\n",
              "1  module OM_name:0, open Declaration one sig cla...              1\n",
              "2  module OM_name:0, open Declaration one sig cla...              1\n",
              "3  module OM_name:0, open Declaration one sig cla...              1\n",
              "4  module OM_name:0, open Declaration one sig cla...              0"
            ],
            "text/html": [
              "\n",
              "  <div id=\"df-199bf8fd-aa28-4734-87ee-da9dbcde3abd\">\n",
              "    <div class=\"colab-df-container\">\n",
              "      <div>\n",
              "<style scoped>\n",
              "    .dataframe tbody tr th:only-of-type {\n",
              "        vertical-align: middle;\n",
              "    }\n",
              "\n",
              "    .dataframe tbody tr th {\n",
              "        vertical-align: top;\n",
              "    }\n",
              "\n",
              "    .dataframe thead th {\n",
              "        text-align: right;\n",
              "    }\n",
              "</style>\n",
              "<table border=\"1\" class=\"dataframe\">\n",
              "  <thead>\n",
              "    <tr style=\"text-align: right;\">\n",
              "      <th></th>\n",
              "      <th>OM_Regular</th>\n",
              "      <th>OM_Prediction</th>\n",
              "    </tr>\n",
              "  </thead>\n",
              "  <tbody>\n",
              "    <tr>\n",
              "      <th>0</th>\n",
              "      <td>module OM_name:0, open Declaration one sig cla...</td>\n",
              "      <td>1</td>\n",
              "    </tr>\n",
              "    <tr>\n",
              "      <th>1</th>\n",
              "      <td>module OM_name:0, open Declaration one sig cla...</td>\n",
              "      <td>1</td>\n",
              "    </tr>\n",
              "    <tr>\n",
              "      <th>2</th>\n",
              "      <td>module OM_name:0, open Declaration one sig cla...</td>\n",
              "      <td>1</td>\n",
              "    </tr>\n",
              "    <tr>\n",
              "      <th>3</th>\n",
              "      <td>module OM_name:0, open Declaration one sig cla...</td>\n",
              "      <td>1</td>\n",
              "    </tr>\n",
              "    <tr>\n",
              "      <th>4</th>\n",
              "      <td>module OM_name:0, open Declaration one sig cla...</td>\n",
              "      <td>0</td>\n",
              "    </tr>\n",
              "  </tbody>\n",
              "</table>\n",
              "</div>\n",
              "      <button class=\"colab-df-convert\" onclick=\"convertToInteractive('df-199bf8fd-aa28-4734-87ee-da9dbcde3abd')\"\n",
              "              title=\"Convert this dataframe to an interactive table.\"\n",
              "              style=\"display:none;\">\n",
              "        \n",
              "  <svg xmlns=\"http://www.w3.org/2000/svg\" height=\"24px\"viewBox=\"0 0 24 24\"\n",
              "       width=\"24px\">\n",
              "    <path d=\"M0 0h24v24H0V0z\" fill=\"none\"/>\n",
              "    <path d=\"M18.56 5.44l.94 2.06.94-2.06 2.06-.94-2.06-.94-.94-2.06-.94 2.06-2.06.94zm-11 1L8.5 8.5l.94-2.06 2.06-.94-2.06-.94L8.5 2.5l-.94 2.06-2.06.94zm10 10l.94 2.06.94-2.06 2.06-.94-2.06-.94-.94-2.06-.94 2.06-2.06.94z\"/><path d=\"M17.41 7.96l-1.37-1.37c-.4-.4-.92-.59-1.43-.59-.52 0-1.04.2-1.43.59L10.3 9.45l-7.72 7.72c-.78.78-.78 2.05 0 2.83L4 21.41c.39.39.9.59 1.41.59.51 0 1.02-.2 1.41-.59l7.78-7.78 2.81-2.81c.8-.78.8-2.07 0-2.86zM5.41 20L4 18.59l7.72-7.72 1.47 1.35L5.41 20z\"/>\n",
              "  </svg>\n",
              "      </button>\n",
              "      \n",
              "  <style>\n",
              "    .colab-df-container {\n",
              "      display:flex;\n",
              "      flex-wrap:wrap;\n",
              "      gap: 12px;\n",
              "    }\n",
              "\n",
              "    .colab-df-convert {\n",
              "      background-color: #E8F0FE;\n",
              "      border: none;\n",
              "      border-radius: 50%;\n",
              "      cursor: pointer;\n",
              "      display: none;\n",
              "      fill: #1967D2;\n",
              "      height: 32px;\n",
              "      padding: 0 0 0 0;\n",
              "      width: 32px;\n",
              "    }\n",
              "\n",
              "    .colab-df-convert:hover {\n",
              "      background-color: #E2EBFA;\n",
              "      box-shadow: 0px 1px 2px rgba(60, 64, 67, 0.3), 0px 1px 3px 1px rgba(60, 64, 67, 0.15);\n",
              "      fill: #174EA6;\n",
              "    }\n",
              "\n",
              "    [theme=dark] .colab-df-convert {\n",
              "      background-color: #3B4455;\n",
              "      fill: #D2E3FC;\n",
              "    }\n",
              "\n",
              "    [theme=dark] .colab-df-convert:hover {\n",
              "      background-color: #434B5C;\n",
              "      box-shadow: 0px 1px 3px 1px rgba(0, 0, 0, 0.15);\n",
              "      filter: drop-shadow(0px 1px 2px rgba(0, 0, 0, 0.3));\n",
              "      fill: #FFFFFF;\n",
              "    }\n",
              "  </style>\n",
              "\n",
              "      <script>\n",
              "        const buttonEl =\n",
              "          document.querySelector('#df-199bf8fd-aa28-4734-87ee-da9dbcde3abd button.colab-df-convert');\n",
              "        buttonEl.style.display =\n",
              "          google.colab.kernel.accessAllowed ? 'block' : 'none';\n",
              "\n",
              "        async function convertToInteractive(key) {\n",
              "          const element = document.querySelector('#df-199bf8fd-aa28-4734-87ee-da9dbcde3abd');\n",
              "          const dataTable =\n",
              "            await google.colab.kernel.invokeFunction('convertToInteractive',\n",
              "                                                     [key], {});\n",
              "          if (!dataTable) return;\n",
              "\n",
              "          const docLinkHtml = 'Like what you see? Visit the ' +\n",
              "            '<a target=\"_blank\" href=https://colab.research.google.com/notebooks/data_table.ipynb>data table notebook</a>'\n",
              "            + ' to learn more about interactive tables.';\n",
              "          element.innerHTML = '';\n",
              "          dataTable['output_type'] = 'display_data';\n",
              "          await google.colab.output.renderOutput(dataTable, element);\n",
              "          const docLink = document.createElement('div');\n",
              "          docLink.innerHTML = docLinkHtml;\n",
              "          element.appendChild(docLink);\n",
              "        }\n",
              "      </script>\n",
              "    </div>\n",
              "  </div>\n",
              "  "
            ]
          },
          "metadata": {},
          "execution_count": 150
        }
      ]
    },
    {
      "cell_type": "markdown",
      "source": [
        "### Separating Columns in X_test and y_test"
      ],
      "metadata": {
        "id": "er0zQybAgoJJ"
      }
    },
    {
      "cell_type": "code",
      "source": [
        "X_test2 = dc['OM_Regular'].values\n",
        "y_test2 = dc['OM_Prediction'].values"
      ],
      "metadata": {
        "id": "naG54qF791Hs"
      },
      "execution_count": 151,
      "outputs": []
    },
    {
      "cell_type": "code",
      "source": [
        "print(X_test2.shape)\n",
        "print(y_test2.shape)\n",
        "\n",
        "print(\"X data type: \", X_test2.dtype)\n",
        "print(\"y data type: \", y_test2.dtype)"
      ],
      "metadata": {
        "id": "VcNO_Ews2q8x",
        "colab": {
          "base_uri": "https://localhost:8080/"
        },
        "outputId": "9ec37152-2828-41d0-af99-f1fb8344a3b9"
      },
      "execution_count": 152,
      "outputs": [
        {
          "output_type": "stream",
          "name": "stdout",
          "text": [
            "(31,)\n",
            "(31,)\n",
            "X data type:  object\n",
            "y data type:  int64\n"
          ]
        }
      ]
    },
    {
      "cell_type": "code",
      "source": [
        "print(y_test2)"
      ],
      "metadata": {
        "id": "XZFASLWP95TU",
        "colab": {
          "base_uri": "https://localhost:8080/"
        },
        "outputId": "4a9fe47a-c7a3-41af-94de-c56ca32bf071"
      },
      "execution_count": 153,
      "outputs": [
        {
          "output_type": "stream",
          "name": "stdout",
          "text": [
            "[1 1 1 1 0 0 0 0 0 0 1 0 1 1 0 0 0 0 0 0 0 0 0 0 0 0 1 0 1 1 0]\n"
          ]
        }
      ]
    },
    {
      "cell_type": "code",
      "source": [
        "inputs = X_test2"
      ],
      "metadata": {
        "id": "hgO5sa73-3f1"
      },
      "execution_count": 154,
      "outputs": []
    },
    {
      "cell_type": "markdown",
      "source": [
        "### Obtaining results from the model of the unseen dataset"
      ],
      "metadata": {
        "id": "K_yUzQq_gyYj"
      }
    },
    {
      "cell_type": "code",
      "source": [
        " %%time\n",
        " for t in inputs:\n",
        "  mylist_res = model.translate([t])[0].numpy().decode()\n",
        "  print(model.translate([t])[0].numpy().decode())\n",
        "\n",
        " print()"
      ],
      "metadata": {
        "id": "4qjPTIDB-8UZ",
        "colab": {
          "base_uri": "https://localhost:8080/"
        },
        "outputId": "392207e2-fb62-44d4-d3d0-962cbd591d5b"
      },
      "execution_count": 155,
      "outputs": [
        {
          "output_type": "stream",
          "name": "stdout",
          "text": [
            "p, module om_name:0 , open declaration one sig class1_name extends class attr set=c1_at1+c1_at2id=c1_at1noparentisabstract=no}onesigc1_at1extendsc1_at1_typeonesigc1_at2extendsc1_at2_type ,onesigclass2_name extends class attr set=c2_at1oneparentparentinclass5_nameid=c3_at1isabstract=no}onesigc2_at1extendsc2_at1_type ,onesigclass3_name extends class attr set=c3_at1+c3_at2+c3_at3+c3_at4+c3_at5id=c3_at1noparentisabstract=no}onesigc3_at1extendsc3_at1_typeonesigc3_at1extendsc3_at1_typeonesigc3_at3extendsc3_at3_typeonesigc3_at4extendsc3_at4_typeonesigc3_at5extendsc3_at5_type ,onesigclass4_name extends class attr set=c4_at1+c4_at2id=c4_at1noparentisabstract=no}onesigc4_at1extendsc4_at1_typeonesigc4_at2extendsc4_at2_type ,onesigclass5_name extends class attr set=c5_at1+c3_at1id=c5_at1noparentisabstract=no}onesigc5_at1extendsc5_at1_type ,onesigclass6_name extends class attr set=c6_at1+c6_at2+c6_at3id=c6_at1noparentisabstract=no}onesigc6_at1extendsc6_at1_typeonesigc6_at2extendsc6_at2_typeonesigc6_at3extendsc6_at3_type ,onesigclass7_name extends class attr set=c7_at1oneparentparentinclass5_nameid=c3_at1isabstract=no}onesigc7_at1extendsc7_at1_type ,onesigassoc1extendsassociationsrc=class6_namedst=class4_name ,src_multiplicity=src_mlpcdst_multiplicity=dst_mlpc ,}onesigassoc2extendsassociationsrc=class6_namedst=customersrc_multiplicity=src_mlpcdst_multiplicity=dst_mlpc ,}onesigassoc3extendsassociationsrc=class3_namedst=class4_name ,src_multiplicity=src_mlpc2dst_multiplicity=dst_mlpc ,}onesigassoc3extendsassociation{}{src=class3_namedst=class1_namesrc_multiplicity=src_mlpcdst_multiplicity=dst_mlpc ,}onesigassoc3extendsassociation{}{src=class3_namedst=class1_namesrc_multiplicity=src_mlpcdst_multiplicity=dst_mlpc\n",
            "p, module om_name:0 , open declaration one sig class1_name extends class attr set=c1_at1+c1_at2id=c1_at1noparentisabstract=no}onesigc1_at1extendsc1_at1_typeonesigc1_at2extendsc1_at2_type ,onesigclass2_name extends class attr set=c2_at1oneparentparentinclass5_nameid=c3_at1isabstract=no}onesigc2_at1extendsc2_at1_type ,onesigclass3_name extends class attr set=c3_at1+c3_at2+c3_at3+c3_at4+c3_at5id=c3_at1noparentisabstract=no}onesigc3_at1extendsc3_at1_typeonesigc3_at1extendsc3_at1_typeonesigc3_at3extendsc3_at3_typeonesigc3_at4extendsc3_at4_typeonesigc3_at5extendsc3_at5_type ,onesigclass4_name extends class attr set=c4_at1+c4_at2id=c4_at1noparentisabstract=no}onesigc4_at1extendsc4_at1_typeonesigc4_at2extendsc4_at2_type ,onesigclass5_name extends class attr set=c5_at1+c3_at1id=c5_at1noparentisabstract=no}onesigc5_at1extendsc5_at1_type ,onesigclass6_name extends class attr set=c6_at1+c6_at2+c6_at3id=c6_at1noparentisabstract=no}onesigc6_at1extendsc6_at1_typeonesigc6_at2extendsc6_at2_typeonesigc6_at3extendsc6_at3_type ,onesigclass7_name extends class attr set=c7_at1oneparentparentinclass5_nameid=c3_at1isabstract=no}onesigc7_at1extendsc7_at1_type ,onesigassoc1extendsassociationsrc=class6_namedst=class4_name ,src_multiplicity=src_mlpcdst_multiplicity=dst_mlpc ,}onesigassoc2extendsassociationsrc=class6_namedst=customersrc_multiplicity=src_mlpcdst_multiplicity=dst_mlpc ,}onesigassoc3extendsassociationsrc=class3_namedst=class4_name ,src_multiplicity=src_mlpc2dst_multiplicity=dst_mlpc ,}onesigassoc3extendsassociation{}{src=class3_namedst=class1_namesrc_multiplicity=src_mlpcdst_multiplicity=dst_mlpc ,}onesigassoc3extendsassociation{}{src=class3_namedst=class1_namesrc_multiplicity=src_mlpcdst_multiplicity=dst_mlpc\n",
            "p, module om_name:0 , open declaration one sig class1_name extends class attr set=c1_at1+c1_at2id=c1_at1noparentisabstract=no}onesigc1_at1extendsc1_at1_typeonesigc1_at2extendsc1_at2_type ,onesigclass2_name extends class attr set=c2_at1oneparentparentinclass5_nameid=c3_at1isabstract=no}onesigc2_at1extendsc2_at1_type ,onesigclass3_name extends class attr set=c3_at1+c3_at2+c3_at3+c3_at4+c3_at5id=c3_at1noparentisabstract=no}onesigc3_at1extendsc3_at1_typeonesigc3_at1extendsc3_at1_typeonesigc3_at3extendsc3_at3_typeonesigc3_at4extendsc3_at4_typeonesigc3_at5extendsc3_at5_type ,onesigclass4_name extends class attr set=c4_at1+c4_at2id=c4_at1noparentisabstract=no}onesigc4_at1extendsc4_at1_typeonesigc4_at2extendsc4_at2_type ,onesigclass5_name extends class attr set=c5_at1+c3_at1id=c5_at1noparentisabstract=no}onesigc5_at1extendsc5_at1_type ,onesigclass6_name extends class attr set=c6_at1+c6_at2+c6_at3id=c6_at1noparentisabstract=no}onesigc6_at1extendsc6_at1_typeonesigc6_at2extendsc6_at2_typeonesigc6_at3extendsc6_at3_type ,onesigclass7_name extends class attr set=c7_at1oneparentparentinclass5_nameid=c3_at1isabstract=no}onesigc7_at1extendsc7_at1_type ,onesigassoc1extendsassociationsrc=class6_namedst=class4_name ,src_multiplicity=src_mlpcdst_multiplicity=dst_mlpc ,}onesigassoc2extendsassociationsrc=class6_namedst=customersrc_multiplicity=src_mlpcdst_multiplicity=dst_mlpc ,}onesigassoc3extendsassociationsrc=class3_namedst=class4_name ,src_multiplicity=src_mlpc2dst_multiplicity=dst_mlpc ,}onesigassoc3extendsassociation{}{src=class3_namedst=class1_namesrc_multiplicity=src_mlpcdst_multiplicity=dst_mlpc ,}predshowrunshow​\n",
            "p, module om_name:0 , open declaration one sig class1_name extends class attr set=c1_at1+c1_at2id=c1_at1noparentisabstract=no}onesigc1_at1extendsc1_at1_typeonesigc1_at2extendsc1_at2_type ,onesigclass2_name extends class attr set=c2_at1oneparentparentinclass5_nameid=c3_at1isabstract=no}onesigc2_at1extendsc2_at1_type ,onesigclass3_name extends class attr set=c3_at1+c3_at2+c3_at3+c3_at4+c3_at5id=c3_at1noparentisabstract=no}onesigc3_at1extendsc3_at1_typeonesigc3_at1extendsc3_at1_typeonesigc3_at3extendsc3_at3_typeonesigc3_at4extendsc3_at4_typeonesigc3_at5extendsc3_at5_type ,onesigclass4_name extends class attr set=c4_at1+c4_at2id=c4_at1noparentisabstract=no}onesigc4_at1extendsc4_at1_typeonesigc4_at2extendsc4_at2_type ,onesigclass5_name extends class attr set=c5_at1+c3_at1id=c5_at1noparentisabstract=no}onesigc5_at1extendsc5_at1_type ,onesigclass6_name extends class attr set=c6_at1+c6_at2+c6_at3id=c6_at1noparentisabstract=no}onesigc6_at1extendsc6_at1_typeonesigc6_at2extendsc6_at2_typeonesigc6_at3extendsc6_at3_type ,onesigclass7_name extends class attr set=c7_at1oneparentparentinclass5_nameid=c3_at1isabstract=no}onesigc7_at1extendsc7_at1_type ,onesigassoc1extendsassociationsrc=class6_namedst=class4_name ,src_multiplicity=src_mlpcdst_multiplicity=dst_mlpc ,}onesigassoc2extendsassociationsrc=class6_namedst=customersrc_multiplicity=src_mlpcdst_multiplicity=dst_mlpc ,}onesigassoc3extendsassociationsrc=class3_namedst=class4_name ,src_multiplicity=src_mlpc2dst_multiplicity=dst_mlpc ,}onesigassoc3extendsassociation{}{src=class3_namedst=class1_namesrc_multiplicity=src_mlpcdst_multiplicity=dst_mlpc ,}predshowrunshow​\n",
            "p, module om_name:0 , open declaration one sig class1_name extends class attr set=c1_at1+c1_at2id=c1_at1noparentisabstract=no}onesigc1_at1extendsc1_at1_typeonesigc1_at2extendsc1_at2_type ,onesigclass2_name extends class attr set=c2_at1oneparentparentinclass5_nameid=c3_at1isabstract=no}onesigc2_at1extendsc2_at1_type ,onesigclass3_name extends class attr set=c3_at1+c3_at2+c3_at3+c3_at4+c3_at5id=c3_at1noparentisabstract=no}onesigc3_at1extendsc3_at1_typeonesigc3_at1extendsc3_at1_typeonesigc3_at3extendsc3_at3_typeonesigc3_at4extendsc3_at4_typeonesigc3_at5extendsc3_at5_type ,onesigclass4_name extends class attr set=c4_at1+c4_at2id=c4_at1noparentisabstract=no}onesigc4_at1extendsc4_at1_typeonesigc4_at2extendsc4_at2_type ,onesigclass5_name extends class attr set=c5_at1+c3_at1id=c5_at1noparentisabstract=no}onesigc5_at1extendsc5_at1_type ,onesigclass6_name extends class attr set=c6_at1+c6_at2+c6_at3id=c6_at1noparentisabstract=no}onesigc6_at1extendsc6_at1_typeonesigc6_at2extendsc6_at2_typeonesigc6_at3extendsc6_at3_type ,onesigclass7_name extends class attr set=c7_at1oneparentparentinclass5_nameid=c3_at1isabstract=no}onesigc7_at1extendsc7_at1_type ,onesigassoc1extendsassociationsrc=class6_namedst=class4_name ,src_multiplicity=src_mlpcdst_multiplicity=dst_mlpc ,}onesigassoc2extendsassociationsrc=class6_namedst=customersrc_multiplicity=src_mlpcdst_multiplicity=dst_mlpc ,}onesigassoc3extendsassociationsrc=class3_namedst=class4_name ,src_multiplicity=src_mlpc2dst_multiplicity=dst_mlpc ,}onesigassoc3extendsassociation{}{src=class3_namedst=class1_namesrc_multiplicity=src_mlpcdst_multiplicity=dst_mlpc ,}onesigassoc3extendsassociation{}{src=class3_namedst=class1_namesrc_multiplicity=src_mlpcdst_multiplicity=dst_mlpc\n",
            "p, module om_name:0 , open declaration one sig class1_name extends class attr set=c1_at1+c1_at2id=c1_at1noparentisabstract=no}onesigc1_at1extendsc1_at1_typeonesigc1_at2extendsc1_at2_type ,onesigclass2_name extends class attr set=c2_at1oneparentparentinclass5_nameid=c3_at1isabstract=no}onesigc2_at1extendsc2_at1_type ,onesigclass3_name extends class attr set=c3_at1+c3_at2+c3_at3+c3_at4+c3_at5id=c3_at1noparentisabstract=no}onesigc3_at1extendsc3_at1_typeonesigc3_at1extendsc3_at1_typeonesigc3_at3extendsc3_at3_typeonesigc3_at4extendsc3_at4_typeonesigc3_at5extendsc3_at5_type ,onesigclass4_name extends class attr set=c4_at1+c4_at2id=c4_at1noparentisabstract=no}onesigc4_at1extendsc4_at1_typeonesigc4_at2extendsc4_at2_type ,onesigclass5_name extends class attr set=c5_at1+c3_at1id=c5_at1noparentisabstract=no}onesigc5_at1extendsc5_at1_type ,onesigclass6_name extends class attr set=c6_at1+c6_at2+c6_at3id=c6_at1noparentisabstract=no}onesigc6_at1extendsc6_at1_typeonesigc6_at2extendsc6_at2_typeonesigc6_at3extendsc6_at3_type ,onesigclass7_name extends class attr set=c7_at1oneparentparentinclass5_nameid=c3_at1isabstract=no}onesigc7_at1extendsc7_at1_type ,onesigassoc1extendsassociationsrc=class6_namedst=class4_name ,src_multiplicity=src_mlpcdst_multiplicity=dst_mlpc ,}onesigassoc2extendsassociationsrc=class6_namedst=customersrc_multiplicity=src_mlpcdst_multiplicity=dst_mlpc ,}onesigassoc3extendsassociationsrc=class3_namedst=class4_name ,src_multiplicity=src_mlpc2dst_multiplicity=dst_mlpc ,}onesigassoc3extendsassociation{}{src=class3_namedst=class1_namesrc_multiplicity=src_mlpcdst_multiplicity=dst_mlpc ,}onesigassoc3extendsassociation{}{src=class3_namedst=class1_namesrc_multiplicity=src_mlpcdst_multiplicity=dst_mlpc\n",
            "p, module om_name:0 , open declaration one sig class1_name extends class attr set=c1_at1+c1_at2id=c1_at1noparentisabstract=no}onesigc1_at1extendsc1_at1_typeonesigc1_at2extendsc1_at2_type ,onesigclass2_name extends class attr set=c2_at1oneparentparentinclass5_nameid=c3_at1isabstract=no}onesigc2_at1extendsc2_at1_type ,onesigclass3_name extends class attr set=c3_at1+c3_at2+c3_at3+c3_at4+c3_at5id=c3_at1noparentisabstract=no}onesigc3_at1extendsc3_at1_typeonesigc3_at1extendsc3_at1_typeonesigc3_at3extendsc3_at3_typeonesigc3_at4extendsc3_at4_typeonesigc3_at5extendsc3_at5_type ,onesigclass4_name extends class attr set=c4_at1+c4_at2id=c4_at1noparentisabstract=no}onesigc4_at1extendsc4_at1_typeonesigc4_at2extendsc4_at2_type ,onesigclass5_name extends class attr set=c5_at1+c3_at1id=c5_at1noparentisabstract=no}onesigc5_at1extendsc5_at1_type ,onesigclass6_name extends class attr set=c6_at1+c6_at2+c6_at3id=c6_at1noparentisabstract=no}onesigc6_at1extendsc6_at1_typeonesigc6_at2extendsc6_at2_typeonesigc6_at3extendsc6_at3_type ,onesigclass7_name extends class attr set=c7_at1oneparentparentinclass5_nameid=c3_at1isabstract=no}onesigc7_at1extendsc7_at1_type ,onesigassoc1extendsassociationsrc=class6_namedst=class4_name ,src_multiplicity=src_mlpcdst_multiplicity=dst_mlpc ,}onesigassoc2extendsassociationsrc=class6_namedst=customersrc_multiplicity=src_mlpcdst_multiplicity=dst_mlpc ,}onesigassoc3extendsassociationsrc=class3_namedst=class4_name ,src_multiplicity=src_mlpc2dst_multiplicity=dst_mlpc ,}onesigassoc3extendsassociation{}{src=class3_namedst=class1_namesrc_multiplicity=src_mlpcdst_multiplicity=dst_mlpc ,}onesigassoc3extendsassociation{}{src=class3_namedst=class1_namesrc_multiplicity=src_mlpcdst_multiplicity=dst_mlpc\n",
            "p, module om_name:0 , open declaration one sig class1_name extends class attr set=c1_at1+c1_at2id=c1_at1noparentisabstract=no}onesigc1_at1extendsc1_at1_typeonesigc1_at2extendsc1_at2_type ,onesigclass2_name extends class attr set=c2_at1oneparentparentinclass5_nameid=c3_at1isabstract=no}onesigc2_at1extendsc2_at1_type ,onesigclass3_name extends class attr set=c3_at1+c3_at2+c3_at3+c3_at4+c3_at5id=c3_at1noparentisabstract=no}onesigc3_at1extendsc3_at1_typeonesigc3_at1extendsc3_at1_typeonesigc3_at3extendsc3_at3_typeonesigc3_at4extendsc3_at4_typeonesigc3_at5extendsc3_at5_type ,onesigclass4_name extends class attr set=c4_at1+c4_at2id=c4_at1noparentisabstract=no}onesigc4_at1extendsc4_at1_typeonesigc4_at2extendsc4_at2_type ,onesigclass5_name extends class attr set=c5_at1+c3_at1id=c5_at1noparentisabstract=no}onesigc5_at1extendsc5_at1_type ,onesigclass6_name extends class attr set=c6_at1+c6_at2+c6_at3id=c6_at1noparentisabstract=no}onesigc6_at1extendsc6_at1_typeonesigc6_at2extendsc6_at2_typeonesigc6_at3extendsc6_at3_type ,onesigclass7_name extends class attr set=c7_at1oneparentparentinclass5_nameid=c3_at1isabstract=no}onesigc7_at1extendsc7_at1_type ,onesigassoc1extendsassociationsrc=class6_namedst=class4_name ,src_multiplicity=src_mlpcdst_multiplicity=dst_mlpc ,}onesigassoc2extendsassociationsrc=class6_namedst=customersrc_multiplicity=src_mlpcdst_multiplicity=dst_mlpc ,}onesigassoc3extendsassociationsrc=class3_namedst=class4_name ,src_multiplicity=src_mlpc2dst_multiplicity=dst_mlpc ,}onesigassoc3extendsassociation{}{src=class3_namedst=class1_namesrc_multiplicity=src_mlpcdst_multiplicity=dst_mlpc ,}onesigassoc3extendsassociation{}{src=class3_namedst=class1_namesrc_multiplicity=src_mlpcdst_multiplicity=dst_mlpc\n",
            "p, module om_name:0 , open declaration one sig class1_name extends class attr set=c1_at1+c1_at2id=c1_at1noparentisabstract=no}onesigc1_at1extendsc1_at1_typeonesigc1_at2extendsc1_at2_type ,onesigclass2_name extends class attr set=c2_at1oneparentparentinclass5_nameid=c3_at1isabstract=no}onesigc2_at1extendsc2_at1_type ,onesigclass3_name extends class attr set=c3_at1+c3_at2+c3_at3+c3_at4+c3_at5id=c3_at1noparentisabstract=no}onesigc3_at1extendsc3_at1_typeonesigc3_at1extendsc3_at1_typeonesigc3_at3extendsc3_at3_typeonesigc3_at4extendsc3_at4_typeonesigc3_at5extendsc3_at5_type ,onesigclass4_name extends class attr set=c4_at1+c4_at2id=c4_at1noparentisabstract=no}onesigc4_at1extendsc4_at1_typeonesigc4_at2extendsc4_at2_type ,onesigclass5_name extends class attr set=c5_at1+c3_at1id=c5_at1noparentisabstract=no}onesigc5_at1extendsc5_at1_type ,onesigclass6_name extends class attr set=c6_at1+c6_at2+c6_at3id=c6_at1noparentisabstract=no}onesigc6_at1extendsc6_at1_typeonesigc6_at2extendsc6_at2_typeonesigc6_at3extendsc6_at3_type ,onesigclass7_name extends class attr set=c7_at1oneparentparentinclass5_nameid=c3_at1isabstract=no}onesigc7_at1extendsc7_at1_type ,onesigassoc1extendsassociationsrc=class6_namedst=class4_name ,src_multiplicity=src_mlpcdst_multiplicity=dst_mlpc ,}onesigassoc2extendsassociationsrc=class6_namedst=customersrc_multiplicity=src_mlpcdst_multiplicity=dst_mlpc ,}onesigassoc3extendsassociationsrc=class3_namedst=class4_name ,src_multiplicity=src_mlpc2dst_multiplicity=dst_mlpc ,}onesigassoc3extendsassociation{}{src=class3_namedst=class1_namesrc_multiplicity=src_mlpcdst_multiplicity=dst_mlpc ,}predshowrunshow​\n",
            "p, module om_name:0 , open declaration one sig class1_name extends class attr set=c1_at1+c1_at2id=c1_at1noparentisabstract=no}onesigc1_at1extendsc1_at1_typeonesigc1_at2extendsc1_at2_type ,onesigclass2_name extends class attr set=c2_at1+c2_at2id=c2_at1noparentisabstract=no}onesigc2_at1extendsc2_at1_typeonesigc2_at2extendsc2_at2_type ,onesigclass3_name extends class attr set=c3_at1+c3_at2+c3_at3+c3_at4+c3_at5+c3_at6id=c3_at1noparentisabstract=no}onesigc3_at1extendsc3_at1_typeonesigc3_at2extendsc3_at2_typeonesigc3_at3extendsc3_at3_typeonesigc3_at4extendsc3_at4_typeonesigc3_at5extendsc3_at5_typeonesigc3_at6extendsc3_at6_type ,onesigclass4_name extends class attr set=c4_at1+c4_at2+c4_at3+c4_at4id=c4_at3noparentisabstract=no}onesigc4_at1extendsc4_at1_typeonesigc4_at2extendsc4_at2_typeonesigc4_at3extendsc4_at3_typeonesigc4_at4extendsc4_at4_type ,onesigclass5_name extends class attr set=c5_at1oneparentparentinclass2_nameid=c2_at1isabstract=no}onesigc5_at1extendsc5_at1_type ,onesigclass6_name extends class attr set=c6_at1_0+c6_at2+c6_at3+c6_at4id=c6_at2noparentisabstract=no}onesigc6_at1_0extendsc6_at1_typeonesigc6_at2extendsc6_at2_typeonesigc6_at3extendsc6_at3_typeonesigc6_at4extendsc6_at4_type ,onesigclass7_name extends class attr set=c7_at1oneparentparentinclass2_nameid=c2_at1isabstract=no}onesigc7_at1extendsc7_at1_type ,onesigclass8_name extends class attr set=c8_at1+c8_at2+c2_at2+c6_at3id=c8_at1noparentisabstract=no}onesigc8_at1extendsc8_at1_typeonesigc8_at1extendsc8_at1_type ,onesigassoc1extendsassociationsrc=class8_namedst=class2_name ,src_multiplicity=src_mlpcdst_multiplicity=dst_mlpc\n",
            "p, module om_name:0 , open declaration one sig class1_name extends class attr set=c1_at1+c1_at2id=c1_at1noparentisabstract=no}onesigc1_at1extendsc1_at1_typeonesigc1_at2extendsc1_at2_type ,onesigclass2_name extends class attr set=c2_at1oneparentparentinclass5_nameid=c3_at1isabstract=no}onesigc2_at1extendsc2_at1_type ,onesigclass3_name extends class attr set=c3_at1+c3_at2+c3_at3+c3_at4+c3_at5id=c3_at1noparentisabstract=no}onesigc3_at1extendsc3_at1_typeonesigc3_at1extendsc3_at1_typeonesigc3_at3extendsc3_at3_typeonesigc3_at4extendsc3_at4_typeonesigc3_at5extendsc3_at5_type ,onesigclass4_name extends class attr set=c4_at1+c4_at2id=c4_at1noparentisabstract=no}onesigc4_at1extendsc4_at1_typeonesigc4_at2extendsc4_at2_type ,onesigclass5_name extends class attr set=c5_at1+c3_at1id=c5_at1noparentisabstract=no}onesigc5_at1extendsc5_at1_type ,onesigclass6_name extends class attr set=c6_at1+c6_at2+c6_at3id=c6_at1noparentisabstract=no}onesigc6_at1extendsc6_at1_typeonesigc6_at2extendsc6_at2_typeonesigc6_at3extendsc6_at3_type ,onesigclass7_name extends class attr set=c7_at1oneparentparentinclass5_nameid=c3_at1isabstract=no}onesigc7_at1extendsc7_at1_type ,onesigassoc1extendsassociationsrc=class6_namedst=class4_name ,src_multiplicity=src_mlpcdst_multiplicity=dst_mlpc ,}onesigassoc2extendsassociationsrc=class6_namedst=customersrc_multiplicity=src_mlpcdst_multiplicity=dst_mlpc ,}onesigassoc3extendsassociationsrc=class3_namedst=class4_name ,src_multiplicity=src_mlpc2dst_multiplicity=dst_mlpc ,}onesigassoc3extendsassociation{}{src=class3_namedst=class1_namesrc_multiplicity=src_mlpcdst_multiplicity=dst_mlpc ,}predshowrunshow​\n",
            "p, module om_name: 0 , open declaration one sig class1_name extends class attrset = c1_at1+c1_at2 id=c1_at1 no parent isabstract = no } one sig c1_at1 extends c1_at1_type one sig c1_at2 extends c1_at2_type , one sig class2_name extends class attrset = c2_at1+c2_at2 id = c2_at1 no parent isabstract = no }\n",
            "p, module om_name:0 , open declaration one sig class1_name extends class attr set=c1_at1+c1_at2id=c1_at1noparentisabstract=no}onesigc1_at1extendsc1_at1_typeonesigc1_at2extendsc1_at2_type ,onesigclass2_name extends class attr set=c2_at1oneparentparentinclass5_nameid=c3_at1isabstract=no}onesigc2_at1extendsc2_at1_type ,onesigclass3_name extends class attr set=c3_at1+c3_at2+c3_at3+c3_at4+c3_at5id=c3_at1noparentisabstract=no}onesigc3_at1extendsc3_at1_typeonesigc3_at1extendsc3_at1_typeonesigc3_at3extendsc3_at3_typeonesigc3_at4extendsc3_at4_typeonesigc3_at5extendsc3_at5_type ,onesigclass4_name extends class attr set=c4_at1+c4_at2id=c4_at1noparentisabstract=no}onesigc4_at1extendsc4_at1_typeonesigc4_at2extendsc4_at2_type ,onesigclass5_name extends class attr set=c5_at1+c3_at1id=c5_at1noparentisabstract=no}onesigc5_at1extendsc5_at1_type ,onesigclass6_name extends class attr set=c6_at1+c6_at2+c6_at3id=c6_at1noparentisabstract=no}onesigc6_at1extendsc6_at1_typeonesigc6_at2extendsc6_at2_typeonesigc6_at3extendsc6_at3_type ,onesigclass7_name extends class attr set=c7_at1oneparentparentinclass5_nameid=c3_at1isabstract=no}onesigc7_at1extendsc7_at1_type ,onesigassoc1extendsassociationsrc=class6_namedst=class4_name ,src_multiplicity=src_mlpcdst_multiplicity=dst_mlpc ,}onesigassoc2extendsassociationsrc=class6_namedst=customersrc_multiplicity=src_mlpcdst_multiplicity=dst_mlpc ,}onesigassoc3extendsassociationsrc=class3_namedst=class4_name ,src_multiplicity=src_mlpc2dst_multiplicity=dst_mlpc ,}onesigassoc3extendsassociation{}{src=class3_namedst=class1_namesrc_multiplicity=src_mlpcdst_multiplicity=dst_mlpc ,}onesigassoc3extendsassociation{}{src=class3_namedst=class1_namesrc_multiplicity=src_mlpcdst_multiplicity=dst_mlpc\n",
            "p, module om_name:0 , open declaration one sig class1_name extends class attr set=c1_at1+c1_at2id=c1_at1noparentisabstract=no}onesigc1_at1extendsc1_at1_typeonesigc1_at2extendsc1_at2_type ,onesigclass2_name extends class attr set=c2_at1oneparentparentinclass5_nameid=c3_at1isabstract=no}onesigc2_at1extendsc2_at1_type ,onesigclass3_name extends class attr set=c3_at1+c3_at2+c3_at3+c3_at4+c3_at5id=c3_at1noparentisabstract=no}onesigc3_at1extendsc3_at1_typeonesigc3_at1extendsc3_at1_typeonesigc3_at3extendsc3_at3_typeonesigc3_at4extendsc3_at4_typeonesigc3_at5extendsc3_at5_type ,onesigclass4_name extends class attr set=c4_at1+c4_at2id=c4_at1noparentisabstract=no}onesigc4_at1extendsc4_at1_typeonesigc4_at2extendsc4_at2_type ,onesigclass5_name extends class attr set=c5_at1+c3_at1id=c5_at1noparentisabstract=no}onesigc5_at1extendsc5_at1_type ,onesigclass6_name extends class attr set=c6_at1+c6_at2+c6_at3id=c6_at1noparentisabstract=no}onesigc6_at1extendsc6_at1_typeonesigc6_at2extendsc6_at2_typeonesigc6_at3extendsc6_at3_type ,onesigclass7_name extends class attr set=c7_at1oneparentparentinclass5_nameid=c3_at1isabstract=no}onesigc7_at1extendsc7_at1_type ,onesigassoc1extendsassociationsrc=class6_namedst=class4_name ,src_multiplicity=src_mlpcdst_multiplicity=dst_mlpc ,}onesigassoc2extendsassociationsrc=class6_namedst=customersrc_multiplicity=src_mlpcdst_multiplicity=dst_mlpc ,}onesigassoc3extendsassociationsrc=class3_namedst=class4_name ,src_multiplicity=src_mlpc2dst_multiplicity=dst_mlpc ,}onesigassoc3extendsassociation{}{src=class3_namedst=class1_namesrc_multiplicity=src_mlpcdst_multiplicity=dst_mlpc ,}onesigassoc3extendsassociation{}{src=class3_namedst=class1_namesrc_multiplicity=src_mlpcdst_multiplicity=dst_mlpc\n",
            "p, module om_name:0 , open declaration one sig class1_name extends class attr set=c1_at1+c1_at2id=c1_at1noparentisabstract=no}onesigc1_at1extendsc1_at1_typeonesigc1_at2extendsc1_at2_type ,onesigclass2_name extends class attr set=c2_at1oneparentparentinclass5_nameid=c3_at1isabstract=no}onesigc2_at1extendsc2_at1_type ,onesigclass3_name extends class attr set=c3_at1+c3_at2+c3_at3+c3_at4+c3_at5id=c3_at1noparentisabstract=no}onesigc3_at1extendsc3_at1_typeonesigc3_at1extendsc3_at1_typeonesigc3_at3extendsc3_at3_typeonesigc3_at4extendsc3_at4_typeonesigc3_at5extendsc3_at5_type ,onesigclass4_name extends class attr set=c4_at1+c4_at2id=c4_at1noparentisabstract=no}onesigc4_at1extendsc4_at1_typeonesigc4_at2extendsc4_at2_type ,onesigclass5_name extends class attr set=c5_at1+c3_at1id=c5_at1noparentisabstract=no}onesigc5_at1extendsc5_at1_type ,onesigclass6_name extends class attr set=c6_at1+c6_at2+c6_at3id=c6_at1noparentisabstract=no}onesigc6_at1extendsc6_at1_typeonesigc6_at2extendsc6_at2_typeonesigc6_at3extendsc6_at3_type ,onesigclass7_name extends class attr set=c7_at1oneparentparentinclass5_nameid=c3_at1isabstract=no}onesigc7_at1extendsc7_at1_type ,onesigassoc1extendsassociationsrc=class6_namedst=class4_name ,src_multiplicity=src_mlpcdst_multiplicity=dst_mlpc ,}onesigassoc2extendsassociationsrc=class6_namedst=customersrc_multiplicity=src_mlpcdst_multiplicity=dst_mlpc ,}onesigassoc3extendsassociationsrc=class3_namedst=class4_name ,src_multiplicity=src_mlpc2dst_multiplicity=dst_mlpc ,}onesigassoc3extendsassociation{}{src=class3_namedst=class1_namesrc_multiplicity=src_mlpcdst_multiplicity=dst_mlpc ,}onesigassoc3extendsassociation{}{src=class3_namedst=class1_namesrc_multiplicity=src_mlpcdst_multiplicity=dst_mlpc\n",
            "p, module om_name:0 , open declaration one sig class1_name extends class attr set=c1_at1+c1_at2id=c1_at1noparentisabstract=no}onesigc1_at1extendsc1_at1_typeonesigc1_at2extendsc1_at2_type ,onesigclass2_name extends class attr set=c2_at1oneparentparentinclass5_nameid=c3_at1isabstract=no}onesigc2_at1extendsc2_at1_type ,onesigclass3_name extends class attr set=c3_at1+c3_at2+c3_at3+c3_at4+c3_at5id=c3_at1noparentisabstract=no}onesigc3_at1extendsc3_at1_typeonesigc3_at1extendsc3_at1_typeonesigc3_at3extendsc3_at3_typeonesigc3_at4extendsc3_at4_typeonesigc3_at5extendsc3_at5_type ,onesigclass4_name extends class attr set=c4_at1+c4_at2id=c4_at1noparentisabstract=no}onesigc4_at1extendsc4_at1_typeonesigc4_at2extendsc4_at2_type ,onesigclass5_name extends class attr set=c5_at1+c3_at1id=c5_at1noparentisabstract=no}onesigc5_at1extendsc5_at1_type ,onesigclass6_name extends class attr set=c6_at1+c6_at2+c6_at3id=c6_at1noparentisabstract=no}onesigc6_at1extendsc6_at1_typeonesigc6_at2extendsc6_at2_typeonesigc6_at3extendsc6_at3_type ,onesigclass7_name extends class attr set=c7_at1oneparentparentinclass5_nameid=c3_at1isabstract=no}onesigc7_at1extendsc7_at1_type ,onesigassoc1extendsassociationsrc=class6_namedst=class4_name ,src_multiplicity=src_mlpcdst_multiplicity=dst_mlpc ,}onesigassoc2extendsassociationsrc=class6_namedst=customersrc_multiplicity=src_mlpcdst_multiplicity=dst_mlpc ,}onesigassoc3extendsassociationsrc=class3_namedst=class4_name ,src_multiplicity=src_mlpc2dst_multiplicity=dst_mlpc ,}onesigassoc3extendsassociation{}{src=class3_namedst=class1_namesrc_multiplicity=src_mlpcdst_multiplicity=dst_mlpc ,}onesigassoc3extendsassociation{}{src=class3_namedst=class1_namesrc_multiplicity=src_mlpcdst_multiplicity=dst_mlpc\n",
            "p, module om_name:0 , open declaration one sig class1_name extends class attr set=c1_at1+c1_at2id=c1_at1noparentisabstract=no}onesigc1_at1extendsc1_at1_typeonesigc1_at2extendsc1_at2_type ,onesigclass2_name extends class attr set=c2_at1oneparentparentinclass5_nameid=c3_at1isabstract=no}onesigc2_at1extendsc2_at1_type ,onesigclass3_name extends class attr set=c3_at1+c3_at2+c3_at3+c3_at4+c3_at5id=c3_at1noparentisabstract=no}onesigc3_at1extendsc3_at1_typeonesigc3_at1extendsc3_at1_typeonesigc3_at3extendsc3_at3_typeonesigc3_at4extendsc3_at4_typeonesigc3_at5extendsc3_at5_type ,onesigclass4_name extends class attr set=c4_at1+c4_at2id=c4_at1noparentisabstract=no}onesigc4_at1extendsc4_at1_typeonesigc4_at2extendsc4_at2_type ,onesigclass5_name extends class attr set=c5_at1+c3_at1id=c5_at1noparentisabstract=no}onesigc5_at1extendsc5_at1_type ,onesigclass6_name extends class attr set=c6_at1+c6_at2+c6_at3id=c6_at1noparentisabstract=no}onesigc6_at1extendsc6_at1_typeonesigc6_at2extendsc6_at2_typeonesigc6_at3extendsc6_at3_type ,onesigclass7_name extends class attr set=c7_at1oneparentparentinclass5_nameid=c3_at1isabstract=no}onesigc7_at1extendsc7_at1_type ,onesigassoc1extendsassociationsrc=class6_namedst=class4_name ,src_multiplicity=src_mlpcdst_multiplicity=dst_mlpc ,}onesigassoc2extendsassociationsrc=class6_namedst=customersrc_multiplicity=src_mlpcdst_multiplicity=dst_mlpc ,}onesigassoc3extendsassociationsrc=class3_namedst=class4_name ,src_multiplicity=src_mlpc2dst_multiplicity=dst_mlpc ,}onesigassoc3extendsassociation{}{src=class3_namedst=class1_namesrc_multiplicity=src_mlpcdst_multiplicity=dst_mlpc ,}predshowrunshow​\n",
            "p, module om_name:0 , open declaration one sig class1_name extends class attr set=c1_at1+c1_at2id=c1_at1noparentisabstract=no}onesigc1_at1extendsc1_at1_typeonesigc1_at2extendsc1_at2_type ,onesigclass2_name extends class attr set=c2_at1oneparentparentinclass5_nameid=c3_at1isabstract=no}onesigc2_at1extendsc2_at1_type ,onesigclass3_name extends class attr set=c3_at1+c3_at2+c3_at3+c3_at4+c3_at5id=c3_at1noparentisabstract=no}onesigc3_at1extendsc3_at1_typeonesigc3_at1extendsc3_at1_typeonesigc3_at3extendsc3_at3_typeonesigc3_at4extendsc3_at4_typeonesigc3_at5extendsc3_at5_type ,onesigclass4_name extends class attr set=c4_at1+c4_at2id=c4_at1noparentisabstract=no}onesigc4_at1extendsc4_at1_typeonesigc4_at2extendsc4_at2_type ,onesigclass5_name extends class attr set=c5_at1+c3_at1id=c5_at1noparentisabstract=no}onesigc5_at1extendsc5_at1_type ,onesigclass6_name extends class attr set=c6_at1+c6_at2+c6_at3id=c6_at1noparentisabstract=no}onesigc6_at1extendsc6_at1_typeonesigc6_at2extendsc6_at2_typeonesigc6_at3extendsc6_at3_type ,onesigclass7_name extends class attr set=c7_at1oneparentparentinclass5_nameid=c3_at1isabstract=no}onesigc7_at1extendsc7_at1_type ,onesigassoc1extendsassociationsrc=class6_namedst=class4_name ,src_multiplicity=src_mlpcdst_multiplicity=dst_mlpc ,}onesigassoc2extendsassociationsrc=class6_namedst=customersrc_multiplicity=src_mlpcdst_multiplicity=dst_mlpc ,}onesigassoc3extendsassociationsrc=class3_namedst=class4_name ,src_multiplicity=src_mlpc2dst_multiplicity=dst_mlpc ,}onesigassoc3extendsassociation{}{src=class3_namedst=class1_namesrc_multiplicity=src_mlpcdst_multiplicity=dst_mlpc ,}onesigassoc3extendsassociation{}{src=class3_namedst=class1_namesrc_multiplicity=src_mlpcdst_multiplicity=dst_mlpc\n",
            "p, module om_name:0 , open declaration one sig class1_name extends class attr set=c1_at1+c1_at2id=c1_at1noparentisabstract=no}onesigc1_at1extendsc1_at1_typeonesigc1_at2extendsc1_at2_type ,onesigclass2_name extends class attr set=c2_at1oneparentparentinclass5_nameid=c3_at1isabstract=no}onesigc2_at1extendsc2_at1_type ,onesigclass3_name extends class attr set=c3_at1+c3_at2+c3_at3+c3_at4+c3_at5id=c3_at1noparentisabstract=no}onesigc3_at1extendsc3_at1_typeonesigc3_at1extendsc3_at1_typeonesigc3_at3extendsc3_at3_typeonesigc3_at4extendsc3_at4_typeonesigc3_at5extendsc3_at5_type ,onesigclass4_name extends class attr set=c4_at1+c4_at2id=c4_at1noparentisabstract=no}onesigc4_at1extendsc4_at1_typeonesigc4_at2extendsc4_at2_type ,onesigclass5_name extends class attr set=c5_at1+c3_at1id=c5_at1noparentisabstract=no}onesigc5_at1extendsc5_at1_type ,onesigclass6_name extends class attr set=c6_at1+c6_at2+c6_at3id=c6_at1noparentisabstract=no}onesigc6_at1extendsc6_at1_typeonesigc6_at2extendsc6_at2_typeonesigc6_at3extendsc6_at3_type ,onesigclass7_name extends class attr set=c7_at1oneparentparentinclass5_nameid=c3_at1isabstract=no}onesigc7_at1extendsc7_at1_type ,onesigassoc1extendsassociationsrc=class6_namedst=class4_name ,src_multiplicity=src_mlpcdst_multiplicity=dst_mlpc ,}onesigassoc2extendsassociationsrc=class6_namedst=customersrc_multiplicity=src_mlpcdst_multiplicity=dst_mlpc ,}onesigassoc3extendsassociationsrc=class3_namedst=class4_name ,src_multiplicity=src_mlpc2dst_multiplicity=dst_mlpc ,}onesigassoc3extendsassociation{}{src=class3_namedst=class1_namesrc_multiplicity=src_mlpcdst_multiplicity=dst_mlpc ,}onesigassoc3extendsassociation{}{src=class3_namedst=class1_namesrc_multiplicity=src_mlpcdst_multiplicity=dst_mlpc\n",
            "p, module om_name:0 , open declaration one sig class1_name extends class attr set=c1_at1+c1_at2id=c1_at1noparentisabstract=no}onesigc1_at1extendsc1_at1_typeonesigc1_at2extendsc1_at2_type ,onesigclass2_name extends class attr set=c2_at1oneparentparentinclass5_nameid=c3_at1isabstract=no}onesigc2_at1extendsc2_at1_type ,onesigclass3_name extends class attr set=c3_at1+c3_at2+c3_at3+c3_at4+c3_at5id=c3_at1noparentisabstract=no}onesigc3_at1extendsc3_at1_typeonesigc3_at1extendsc3_at1_typeonesigc3_at3extendsc3_at3_typeonesigc3_at4extendsc3_at4_typeonesigc3_at5extendsc3_at5_type ,onesigclass4_name extends class attr set=c4_at1+c4_at2id=c4_at1noparentisabstract=no}onesigc4_at1extendsc4_at1_typeonesigc4_at2extendsc4_at2_type ,onesigclass5_name extends class attr set=c5_at1+c3_at1id=c5_at1noparentisabstract=no}onesigc5_at1extendsc5_at1_type ,onesigclass6_name extends class attr set=c6_at1+c6_at2+c6_at3id=c6_at1noparentisabstract=no}onesigc6_at1extendsc6_at1_typeonesigc6_at2extendsc6_at2_typeonesigc6_at3extendsc6_at3_type ,onesigclass7_name extends class attr set=c7_at1oneparentparentinclass5_nameid=c3_at1isabstract=no}onesigc7_at1extendsc7_at1_type ,onesigassoc1extendsassociationsrc=class6_namedst=class4_name ,src_multiplicity=src_mlpcdst_multiplicity=dst_mlpc ,}onesigassoc2extendsassociationsrc=class6_namedst=customersrc_multiplicity=src_mlpcdst_multiplicity=dst_mlpc ,}onesigassoc3extendsassociationsrc=class3_namedst=class4_name ,src_multiplicity=src_mlpc2dst_multiplicity=dst_mlpc ,}onesigassoc3extendsassociation{}{src=class3_namedst=class1_namesrc_multiplicity=src_mlpcdst_multiplicity=dst_mlpc ,}onesigassoc3extendsassociation{}{src=class3_namedst=class1_namesrc_multiplicity=src_mlpcdst_multiplicity=dst_mlpc\n",
            "p, module om_name:0 , open declaration one sig class1_name extends class attr set=c1_at1+c1_at2id=c1_at1noparentisabstract=no}onesigc1_at1extendsc1_at1_typeonesigc1_at2extendsc1_at2_type ,onesigclass2_name extends class attr set=c2_at1oneparentparentinclass5_nameid=c3_at1isabstract=no}onesigc2_at1extendsc2_at1_type ,onesigclass3_name extends class attr set=c3_at1+c3_at2+c3_at3+c3_at4+c3_at5id=c3_at1noparentisabstract=no}onesigc3_at1extendsc3_at1_typeonesigc3_at1extendsc3_at1_typeonesigc3_at3extendsc3_at3_typeonesigc3_at4extendsc3_at4_typeonesigc3_at5extendsc3_at5_type ,onesigclass4_name extends class attr set=c4_at1+c4_at2id=c4_at1noparentisabstract=no}onesigc4_at1extendsc4_at1_typeonesigc4_at2extendsc4_at2_type ,onesigclass5_name extends class attr set=c5_at1+c3_at1id=c5_at1noparentisabstract=no}onesigc5_at1extendsc5_at1_type ,onesigclass6_name extends class attr set=c6_at1+c6_at2+c6_at3id=c6_at1noparentisabstract=no}onesigc6_at1extendsc6_at1_typeonesigc6_at2extendsc6_at2_typeonesigc6_at3extendsc6_at3_type ,onesigclass7_name extends class attr set=c7_at1oneparentparentinclass5_nameid=c3_at1isabstract=no}onesigc7_at1extendsc7_at1_type ,onesigassoc1extendsassociationsrc=class6_namedst=class4_name ,src_multiplicity=src_mlpcdst_multiplicity=dst_mlpc ,}onesigassoc2extendsassociationsrc=class6_namedst=customersrc_multiplicity=src_mlpcdst_multiplicity=dst_mlpc ,}onesigassoc3extendsassociationsrc=class3_namedst=class4_name ,src_multiplicity=src_mlpc2dst_multiplicity=dst_mlpc ,}onesigassoc3extendsassociation{}{src=class3_namedst=class1_namesrc_multiplicity=src_mlpcdst_multiplicity=dst_mlpc ,}predshowrunshow​\n",
            "p, module om_name:0 , open declaration one sig class1_name extends class attr set=c1_at1+c1_at2id=c1_at1noparentisabstract=no}onesigc1_at1extendsc1_at1_typeonesigc1_at2extendsc1_at2_type ,onesigclass2_name extends class attr set=c2_at1oneparentparentinclass5_nameid=c3_at1isabstract=no}onesigc2_at1extendsc2_at1_type ,onesigclass3_name extends class attr set=c3_at1+c3_at2+c3_at3+c3_at4+c3_at5id=c3_at1noparentisabstract=no}onesigc3_at1extendsc3_at1_typeonesigc3_at1extendsc3_at1_typeonesigc3_at3extendsc3_at3_typeonesigc3_at4extendsc3_at4_typeonesigc3_at5extendsc3_at5_type ,onesigclass4_name extends class attr set=c4_at1+c4_at2id=c4_at1noparentisabstract=no}onesigc4_at1extendsc4_at1_typeonesigc4_at2extendsc4_at2_type ,onesigclass5_name extends class attr set=c5_at1+c3_at1id=c5_at1noparentisabstract=no}onesigc5_at1extendsc5_at1_type ,onesigclass6_name extends class attr set=c6_at1+c6_at2+c6_at3id=c6_at1noparentisabstract=no}onesigc6_at1extendsc6_at1_typeonesigc6_at2extendsc6_at2_typeonesigc6_at3extendsc6_at3_type ,onesigclass7_name extends class attr set=c7_at1oneparentparentinclass5_nameid=c3_at1isabstract=no}onesigc7_at1extendsc7_at1_type ,onesigassoc1extendsassociationsrc=class6_namedst=class4_name ,src_multiplicity=src_mlpcdst_multiplicity=dst_mlpc ,}onesigassoc2extendsassociationsrc=class6_namedst=customersrc_multiplicity=src_mlpcdst_multiplicity=dst_mlpc ,}onesigassoc3extendsassociationsrc=class3_namedst=class4_name ,src_multiplicity=src_mlpc2dst_multiplicity=dst_mlpc ,}onesigassoc3extendsassociation{}{src=class3_namedst=class1_namesrc_multiplicity=src_mlpcdst_multiplicity=dst_mlpc ,}predshowrunshow​\n",
            "p, module om_name:0 , open declaration one sig class1_name extends class attr set=c1_at1+c1_at2id=c1_at1noparentisabstract=no}onesigc1_at1extendsc1_at1_typeonesigc1_at2extendsc1_at2_type ,onesigclass2_name extends class attr set=c2_at1oneparentparentinclass5_nameid=c3_at1isabstract=no}onesigc2_at1extendsc2_at1_type ,onesigclass3_name extends class attr set=c3_at1+c3_at2+c3_at3+c3_at4+c3_at5id=c3_at1noparentisabstract=no}onesigc3_at1extendsc3_at1_typeonesigc3_at1extendsc3_at1_typeonesigc3_at3extendsc3_at3_typeonesigc3_at4extendsc3_at4_typeonesigc3_at5extendsc3_at5_type ,onesigclass4_name extends class attr set=c4_at1+c4_at2id=c4_at1noparentisabstract=no}onesigc4_at1extendsc4_at1_typeonesigc4_at2extendsc4_at2_type ,onesigclass5_name extends class attr set=c5_at1+c3_at1id=c5_at1noparentisabstract=no}onesigc5_at1extendsc5_at1_type ,onesigclass6_name extends class attr set=c6_at1+c6_at2+c6_at3id=c6_at1noparentisabstract=no}onesigc6_at1extendsc6_at1_typeonesigc6_at2extendsc6_at2_typeonesigc6_at3extendsc6_at3_type ,onesigclass7_name extends class attr set=c7_at1oneparentparentinclass5_nameid=c3_at1isabstract=no}onesigc7_at1extendsc7_at1_type ,onesigassoc1extendsassociationsrc=class6_namedst=class4_name ,src_multiplicity=src_mlpcdst_multiplicity=dst_mlpc ,}onesigassoc2extendsassociationsrc=class6_namedst=customersrc_multiplicity=src_mlpcdst_multiplicity=dst_mlpc ,}onesigassoc3extendsassociationsrc=class3_namedst=class4_name ,src_multiplicity=src_mlpc2dst_multiplicity=dst_mlpc ,}onesigassoc3extendsassociation{}{src=class3_namedst=class1_namesrc_multiplicity=src_mlpcdst_multiplicity=dst_mlpc ,}predshowrunshow​\n",
            "p, module om_name:0 , open declaration one sig class1_name extends class attr set=c1_at1+c1_at2id=c1_at1noparentisabstract=no}onesigc1_at1extendsc1_at1_typeonesigc1_at2extendsc1_at2_type ,onesigclass2_name extends class attr set=c2_at1oneparentparentinclass5_nameid=c3_at1isabstract=no}onesigc2_at1extendsc2_at1_type ,onesigclass3_name extends class attr set=c3_at1+c3_at2+c3_at3+c3_at4+c3_at5id=c3_at1noparentisabstract=no}onesigc3_at1extendsc3_at1_typeonesigc3_at1extendsc3_at1_typeonesigc3_at3extendsc3_at3_typeonesigc3_at4extendsc3_at4_typeonesigc3_at5extendsc3_at5_type ,onesigclass4_name extends class attr set=c4_at1+c4_at2id=c4_at1noparentisabstract=no}onesigc4_at1extendsc4_at1_typeonesigc4_at2extendsc4_at2_type ,onesigclass5_name extends class attr set=c5_at1+c3_at1id=c5_at1noparentisabstract=no}onesigc5_at1extendsc5_at1_type ,onesigclass6_name extends class attr set=c6_at1+c6_at2+c6_at3id=c6_at1noparentisabstract=no}onesigc6_at1extendsc6_at1_typeonesigc6_at2extendsc6_at2_typeonesigc6_at3extendsc6_at3_type ,onesigclass7_name extends class attr set=c7_at1oneparentparentinclass5_nameid=c3_at1isabstract=no}onesigc7_at1extendsc7_at1_type ,onesigassoc1extendsassociationsrc=class6_namedst=class4_name ,src_multiplicity=src_mlpcdst_multiplicity=dst_mlpc ,}onesigassoc2extendsassociationsrc=class6_namedst=customersrc_multiplicity=src_mlpcdst_multiplicity=dst_mlpc ,}onesigassoc3extendsassociationsrc=class3_namedst=class4_name ,src_multiplicity=src_mlpc2dst_multiplicity=dst_mlpc ,}onesigassoc3extendsassociation{}{src=class3_namedst=class1_namesrc_multiplicity=src_mlpcdst_multiplicity=dst_mlpc ,}predshowrunshow​\n",
            "p, module om_name:0 , open declaration one sig class1_name extends class attr set=c1_at1+c1_at2id=c1_at1noparentisabstract=no}onesigc1_at1extendsc1_at1_typeonesigc1_at2extendsc1_at2_type ,onesigclass2_name extends class attr set=c2_at1oneparentparentinclass5_nameid=c3_at1isabstract=no}onesigc2_at1extendsc2_at1_type ,onesigclass3_name extends class attr set=c3_at1+c3_at2+c3_at3+c3_at4+c3_at5id=c3_at1noparentisabstract=no}onesigc3_at1extendsc3_at1_typeonesigc3_at1extendsc3_at1_typeonesigc3_at3extendsc3_at3_typeonesigc3_at4extendsc3_at4_typeonesigc3_at5extendsc3_at5_type ,onesigclass4_name extends class attr set=c4_at1+c4_at2id=c4_at1noparentisabstract=no}onesigc4_at1extendsc4_at1_typeonesigc4_at2extendsc4_at2_type ,onesigclass5_name extends class attr set=c5_at1+c3_at1id=c5_at1noparentisabstract=no}onesigc5_at1extendsc5_at1_type ,onesigclass6_name extends class attr set=c6_at1+c6_at2+c6_at3id=c6_at1noparentisabstract=no}onesigc6_at1extendsc6_at1_typeonesigc6_at2extendsc6_at2_typeonesigc6_at3extendsc6_at3_type ,onesigclass7_name extends class attr set=c7_at1oneparentparentinclass5_nameid=c3_at1isabstract=no}onesigc7_at1extendsc7_at1_type ,onesigassoc1extendsassociationsrc=class6_namedst=class4_name ,src_multiplicity=src_mlpcdst_multiplicity=dst_mlpc ,}onesigassoc2extendsassociationsrc=class6_namedst=customersrc_multiplicity=src_mlpcdst_multiplicity=dst_mlpc ,}onesigassoc3extendsassociationsrc=class3_namedst=class4_name ,src_multiplicity=src_mlpc2dst_multiplicity=dst_mlpc ,}onesigassoc3extendsassociation{}{src=class3_namedst=class1_namesrc_multiplicity=src_mlpcdst_multiplicity=dst_mlpc ,}predshowrunshow​\n",
            "p, module om_name:0 , open declaration one sig class1_name extends class attr set=c1_at1+c1_at2id=c1_at1noparentisabstract=no}onesigc1_at1extendsc1_at1_typeonesigc1_at2extendsc1_at2_type ,onesigclass2_name extends class attr set=c2_at1oneparentparentinclass5_nameid=c3_at1isabstract=no}onesigc2_at1extendsc2_at1_type ,onesigclass3_name extends class attr set=c3_at1+c3_at2+c3_at3+c3_at4+c3_at5id=c3_at1noparentisabstract=no}onesigc3_at1extendsc3_at1_typeonesigc3_at1extendsc3_at1_typeonesigc3_at3extendsc3_at3_typeonesigc3_at4extendsc3_at4_typeonesigc3_at5extendsc3_at5_type ,onesigclass4_name extends class attr set=c4_at1+c4_at2id=c4_at1noparentisabstract=no}onesigc4_at1extendsc4_at1_typeonesigc4_at2extendsc4_at2_type ,onesigclass5_name extends class attr set=c5_at1+c3_at1id=c5_at1noparentisabstract=no}onesigc5_at1extendsc5_at1_type ,onesigclass6_name extends class attr set=c6_at1+c6_at2+c6_at3id=c6_at1noparentisabstract=no}onesigc6_at1extendsc6_at1_typeonesigc6_at2extendsc6_at2_typeonesigc6_at3extendsc6_at3_type ,onesigclass7_name extends class attr set=c7_at1oneparentparentinclass5_nameid=c3_at1isabstract=no}onesigc7_at1extendsc7_at1_type ,onesigassoc1extendsassociationsrc=class6_namedst=class4_name ,src_multiplicity=src_mlpcdst_multiplicity=dst_mlpc ,}onesigassoc2extendsassociationsrc=class6_namedst=customersrc_multiplicity=src_mlpcdst_multiplicity=dst_mlpc ,}onesigassoc3extendsassociationsrc=class3_namedst=class4_name ,src_multiplicity=src_mlpc2dst_multiplicity=dst_mlpc ,}onesigassoc3extendsassociation{}{src=class3_namedst=class1_namesrc_multiplicity=src_mlpcdst_multiplicity=dst_mlpc ,}predshowrunshow​\n",
            "p, module om_name:0 , open declaration one sig class1_name extends class attr set=c1_at1+c1_at2id=c1_at1noparentisabstract=no}onesigc1_at1extendsc1_at1_typeonesigc1_at2extendsc1_at2_type ,onesigclass2_name extends class attr set=c2_at1oneparentparentinclass5_nameid=c3_at1isabstract=no}onesigc2_at1extendsc2_at1_type ,onesigclass3_name extends class attr set=c3_at1+c3_at2+c3_at3+c3_at4+c3_at5id=c3_at1noparentisabstract=no}onesigc3_at1extendsc3_at1_typeonesigc3_at1extendsc3_at1_typeonesigc3_at3extendsc3_at3_typeonesigc3_at4extendsc3_at4_typeonesigc3_at5extendsc3_at5_type ,onesigclass4_name extends class attr set=c4_at1+c4_at2id=c4_at1noparentisabstract=no}onesigc4_at1extendsc4_at1_typeonesigc4_at2extendsc4_at2_type ,onesigclass5_name extends class attr set=c5_at1+c3_at1id=c5_at1noparentisabstract=no}onesigc5_at1extendsc5_at1_type ,onesigclass6_name extends class attr set=c6_at1+c6_at2+c6_at3id=c6_at1noparentisabstract=no}onesigc6_at1extendsc6_at1_typeonesigc6_at2extendsc6_at2_typeonesigc6_at3extendsc6_at3_type ,onesigclass7_name extends class attr set=c7_at1oneparentparentinclass5_nameid=c3_at1isabstract=no}onesigc7_at1extendsc7_at1_type ,onesigassoc1extendsassociationsrc=class6_namedst=class4_name ,src_multiplicity=src_mlpcdst_multiplicity=dst_mlpc ,}onesigassoc2extendsassociationsrc=class6_namedst=customersrc_multiplicity=src_mlpcdst_multiplicity=dst_mlpc ,}onesigassoc3extendsassociationsrc=class3_namedst=class4_name ,src_multiplicity=src_mlpc2dst_multiplicity=dst_mlpc ,}onesigassoc3extendsassociation{}{src=class3_namedst=class1_namesrc_multiplicity=src_mlpcdst_multiplicity=dst_mlpc ,}predshowrunshow​\n",
            "p, module om_name:0 , open declaration one sig class1_name extends class attr set=c1_at1+c1_at2id=c1_at1noparentisabstract=no}onesigc1_at1extendsc1_at1_typeonesigc1_at2extendsc1_at2_type ,onesigclass2_name extends class attr set=c2_at1oneparentparentinclass5_nameid=c3_at1isabstract=no}onesigc2_at1extendsc2_at1_type ,onesigclass3_name extends class attr set=c3_at1+c3_at2+c3_at3+c3_at4+c3_at5id=c3_at1noparentisabstract=no}onesigc3_at1extendsc3_at1_typeonesigc3_at1extendsc3_at1_typeonesigc3_at3extendsc3_at3_typeonesigc3_at4extendsc3_at4_typeonesigc3_at5extendsc3_at5_type ,onesigclass4_name extends class attr set=c4_at1+c4_at2id=c4_at1noparentisabstract=no}onesigc4_at1extendsc4_at1_typeonesigc4_at2extendsc4_at2_type ,onesigclass5_name extends class attr set=c5_at1+c3_at1id=c5_at1noparentisabstract=no}onesigc5_at1extendsc5_at1_type ,onesigclass6_name extends class attr set=c6_at1+c6_at2+c6_at3id=c6_at1noparentisabstract=no}onesigc6_at1extendsc6_at1_typeonesigc6_at2extendsc6_at2_typeonesigc6_at3extendsc6_at3_type ,onesigclass7_name extends class attr set=c7_at1oneparentparentinclass5_nameid=c3_at1isabstract=no}onesigc7_at1extendsc7_at1_type ,onesigassoc1extendsassociationsrc=class6_namedst=class4_name ,src_multiplicity=src_mlpcdst_multiplicity=dst_mlpc ,}onesigassoc2extendsassociationsrc=class6_namedst=customersrc_multiplicity=src_mlpcdst_multiplicity=dst_mlpc ,}onesigassoc3extendsassociationsrc=class3_namedst=class4_name ,src_multiplicity=src_mlpc2dst_multiplicity=dst_mlpc ,}onesigassoc3extendsassociation{}{src=class3_namedst=class1_namesrc_multiplicity=src_mlpcdst_multiplicity=dst_mlpc ,}onesigassoc3extendsassociation{}{src=class3_namedst=class1_namesrc_multiplicity=src_mlpcdst_multiplicity=dst_mlpc\n",
            "p, module om_name:0 , open declaration one sig class1_name extends class attr set=c1_at1+c1_at2id=c1_at1noparentisabstract=no}onesigc1_at1extendsc1_at1_typeonesigc1_at2extendsc1_at2_type ,onesigclass2_name extends class attr set=c2_at1oneparentparentinclass5_nameid=c3_at1isabstract=no}onesigc2_at1extendsc2_at1_type ,onesigclass3_name extends class attr set=c3_at1+c3_at2+c3_at3+c3_at4+c3_at5id=c3_at1noparentisabstract=no}onesigc3_at1extendsc3_at1_typeonesigc3_at1extendsc3_at1_typeonesigc3_at3extendsc3_at3_typeonesigc3_at4extendsc3_at4_typeonesigc3_at5extendsc3_at5_type ,onesigclass4_name extends class attr set=c4_at1+c4_at2id=c4_at1noparentisabstract=no}onesigc4_at1extendsc4_at1_typeonesigc4_at2extendsc4_at2_type ,onesigclass5_name extends class attr set=c5_at1+c3_at1id=c5_at1noparentisabstract=no}onesigc5_at1extendsc5_at1_type ,onesigclass6_name extends class attr set=c6_at1+c6_at2+c6_at3id=c6_at1noparentisabstract=no}onesigc6_at1extendsc6_at1_typeonesigc6_at2extendsc6_at2_typeonesigc6_at3extendsc6_at3_type ,onesigclass7_name extends class attr set=c7_at1oneparentparentinclass5_nameid=c3_at1isabstract=no}onesigc7_at1extendsc7_at1_type ,onesigassoc1extendsassociationsrc=class6_namedst=class4_name ,src_multiplicity=src_mlpcdst_multiplicity=dst_mlpc ,}onesigassoc2extendsassociationsrc=class6_namedst=customersrc_multiplicity=src_mlpcdst_multiplicity=dst_mlpc ,}onesigassoc3extendsassociationsrc=class3_namedst=class4_name ,src_multiplicity=src_mlpc2dst_multiplicity=dst_mlpc ,}onesigassoc3extendsassociation{}{src=class3_namedst=class1_namesrc_multiplicity=src_mlpcdst_multiplicity=dst_mlpc ,}predshowrunshow​\n",
            "p, module om_name:0 , open declaration one sig class1_name extends class attr set=c1_at1+c1_at2id=c1_at1noparentisabstract=no}onesigc1_at1extendsc1_at1_typeonesigc1_at2extendsc1_at2_type ,onesigclass2_name extends class attr set=c2_at1oneparentparentinclass5_nameid=c3_at1isabstract=no}onesigc2_at1extendsc2_at1_type ,onesigclass3_name extends class attr set=c3_at1+c3_at2+c3_at3+c3_at4+c3_at5id=c3_at1noparentisabstract=no}onesigc3_at1extendsc3_at1_typeonesigc3_at1extendsc3_at1_typeonesigc3_at3extendsc3_at3_typeonesigc3_at4extendsc3_at4_typeonesigc3_at5extendsc3_at5_type ,onesigclass4_name extends class attr set=c4_at1+c4_at2id=c4_at1noparentisabstract=no}onesigc4_at1extendsc4_at1_typeonesigc4_at2extendsc4_at2_type ,onesigclass5_name extends class attr set=c5_at1+c3_at1id=c5_at1noparentisabstract=no}onesigc5_at1extendsc5_at1_type ,onesigclass6_name extends class attr set=c6_at1+c6_at2+c6_at3id=c6_at1noparentisabstract=no}onesigc6_at1extendsc6_at1_typeonesigc6_at2extendsc6_at2_typeonesigc6_at3extendsc6_at3_type ,onesigclass7_name extends class attr set=c7_at1oneparentparentinclass5_nameid=c3_at1isabstract=no}onesigc7_at1extendsc7_at1_type ,onesigassoc1extendsassociationsrc=class6_namedst=class4_name ,src_multiplicity=src_mlpcdst_multiplicity=dst_mlpc ,}onesigassoc2extendsassociationsrc=class6_namedst=customersrc_multiplicity=src_mlpcdst_multiplicity=dst_mlpc ,}onesigassoc3extendsassociationsrc=class3_namedst=class4_name ,src_multiplicity=src_mlpc2dst_multiplicity=dst_mlpc ,}onesigassoc3extendsassociation{}{src=class3_namedst=class1_namesrc_multiplicity=src_mlpcdst_multiplicity=dst_mlpc ,}predshowrunshow​\n",
            "p, module om_name:0 , open declaration one sig class1_name extends class attr set=c1_at1+c1_at2id=c1_at1noparentisabstract=no}onesigc1_at1extendsc1_at1_typeonesigc1_at2extendsc1_at2_type ,onesigclass2_name extends class attr set=c2_at1oneparentparentinclass5_nameid=c3_at1isabstract=no}onesigc2_at1extendsc2_at1_type ,onesigclass3_name extends class attr set=c3_at1+c3_at2+c3_at3+c3_at4+c3_at5id=c3_at1noparentisabstract=no}onesigc3_at1extendsc3_at1_typeonesigc3_at1extendsc3_at1_typeonesigc3_at3extendsc3_at3_typeonesigc3_at4extendsc3_at4_typeonesigc3_at5extendsc3_at5_type ,onesigclass4_name extends class attr set=c4_at1+c4_at2id=c4_at1noparentisabstract=no}onesigc4_at1extendsc4_at1_typeonesigc4_at2extendsc4_at2_type ,onesigclass5_name extends class attr set=c5_at1+c3_at1id=c5_at1noparentisabstract=no}onesigc5_at1extendsc5_at1_type ,onesigclass6_name extends class attr set=c6_at1+c6_at2+c6_at3id=c6_at1noparentisabstract=no}onesigc6_at1extendsc6_at1_typeonesigc6_at2extendsc6_at2_typeonesigc6_at3extendsc6_at3_type ,onesigclass7_name extends class attr set=c7_at1oneparentparentinclass5_nameid=c3_at1isabstract=no}onesigc7_at1extendsc7_at1_type ,onesigassoc1extendsassociationsrc=class6_namedst=class4_name ,src_multiplicity=src_mlpcdst_multiplicity=dst_mlpc ,}onesigassoc2extendsassociationsrc=class6_namedst=customersrc_multiplicity=src_mlpcdst_multiplicity=dst_mlpc ,}onesigassoc3extendsassociationsrc=class3_namedst=class4_name ,src_multiplicity=src_mlpc2dst_multiplicity=dst_mlpc ,}onesigassoc3extendsassociation{}{src=class3_namedst=class1_namesrc_multiplicity=src_mlpcdst_multiplicity=dst_mlpc ,}predshowrunshow​\n",
            "\n",
            "CPU times: user 1min 17s, sys: 1.02 s, total: 1min 18s\n",
            "Wall time: 1min 18s\n"
          ]
        }
      ]
    },
    {
      "cell_type": "markdown",
      "source": [
        "# Classification Report (Unseen samples)\n"
      ],
      "metadata": {
        "id": "1t4_2FqbE9da"
      }
    },
    {
      "cell_type": "code",
      "source": [
        "import warnings\n",
        "import numpy as np\n",
        "import pandas as pd\n",
        "import matplotlib.pyplot as plt\n",
        "from sklearn import datasets\n",
        "from sklearn.preprocessing import StandardScaler\n",
        "from sklearn.neighbors import KNeighborsClassifier\n",
        "from sklearn.model_selection import train_test_split, GridSearchCV, cross_val_score, cross_val_predict\n",
        "from sklearn.metrics import confusion_matrix, precision_score, recall_score, f1_score, roc_curve, roc_auc_score\n",
        "from sklearn.metrics import precision_recall_curve, classification_report"
      ],
      "metadata": {
        "id": "fVaZsDnJhkz5"
      },
      "execution_count": 156,
      "outputs": []
    },
    {
      "cell_type": "markdown",
      "source": [
        "### The result is obtained and captured in a separate file, labels are converted to 1 and 0 . Where 1 denotes P and 0 denotes NP. "
      ],
      "metadata": {
        "id": "TbThCFoRhLHs"
      }
    },
    {
      "cell_type": "markdown",
      "source": [
        "###READING the predicted dataset"
      ],
      "metadata": {
        "id": "9Jz3Rt18lUtE"
      }
    },
    {
      "cell_type": "code",
      "source": [
        "dd = pd.read_excel('University_OM_test_pred.xlsx')"
      ],
      "metadata": {
        "id": "jhKnUY4XFCSj"
      },
      "execution_count": 158,
      "outputs": []
    },
    {
      "cell_type": "code",
      "source": [
        "dd.head()"
      ],
      "metadata": {
        "id": "v9M2iW1MGjfM",
        "colab": {
          "base_uri": "https://localhost:8080/",
          "height": 206
        },
        "outputId": "f3741014-c649-474d-e982-9cac5f708b2f"
      },
      "execution_count": 159,
      "outputs": [
        {
          "output_type": "execute_result",
          "data": {
            "text/plain": [
              "                                          OM_Regular  OM_Prediction\n",
              "0  module OM_name:0, open Declaration one sig cla...              1\n",
              "1  module OM_name:0, open Declaration one sig cla...              1\n",
              "2  module OM_name:0, open Declaration one sig cla...              1\n",
              "3  module OM_name:0, open Declaration one sig cla...              1\n",
              "4  module OM_name:0, open Declaration one sig cla...              1"
            ],
            "text/html": [
              "\n",
              "  <div id=\"df-a653e587-bd9d-4b38-8433-09352505f205\">\n",
              "    <div class=\"colab-df-container\">\n",
              "      <div>\n",
              "<style scoped>\n",
              "    .dataframe tbody tr th:only-of-type {\n",
              "        vertical-align: middle;\n",
              "    }\n",
              "\n",
              "    .dataframe tbody tr th {\n",
              "        vertical-align: top;\n",
              "    }\n",
              "\n",
              "    .dataframe thead th {\n",
              "        text-align: right;\n",
              "    }\n",
              "</style>\n",
              "<table border=\"1\" class=\"dataframe\">\n",
              "  <thead>\n",
              "    <tr style=\"text-align: right;\">\n",
              "      <th></th>\n",
              "      <th>OM_Regular</th>\n",
              "      <th>OM_Prediction</th>\n",
              "    </tr>\n",
              "  </thead>\n",
              "  <tbody>\n",
              "    <tr>\n",
              "      <th>0</th>\n",
              "      <td>module OM_name:0, open Declaration one sig cla...</td>\n",
              "      <td>1</td>\n",
              "    </tr>\n",
              "    <tr>\n",
              "      <th>1</th>\n",
              "      <td>module OM_name:0, open Declaration one sig cla...</td>\n",
              "      <td>1</td>\n",
              "    </tr>\n",
              "    <tr>\n",
              "      <th>2</th>\n",
              "      <td>module OM_name:0, open Declaration one sig cla...</td>\n",
              "      <td>1</td>\n",
              "    </tr>\n",
              "    <tr>\n",
              "      <th>3</th>\n",
              "      <td>module OM_name:0, open Declaration one sig cla...</td>\n",
              "      <td>1</td>\n",
              "    </tr>\n",
              "    <tr>\n",
              "      <th>4</th>\n",
              "      <td>module OM_name:0, open Declaration one sig cla...</td>\n",
              "      <td>1</td>\n",
              "    </tr>\n",
              "  </tbody>\n",
              "</table>\n",
              "</div>\n",
              "      <button class=\"colab-df-convert\" onclick=\"convertToInteractive('df-a653e587-bd9d-4b38-8433-09352505f205')\"\n",
              "              title=\"Convert this dataframe to an interactive table.\"\n",
              "              style=\"display:none;\">\n",
              "        \n",
              "  <svg xmlns=\"http://www.w3.org/2000/svg\" height=\"24px\"viewBox=\"0 0 24 24\"\n",
              "       width=\"24px\">\n",
              "    <path d=\"M0 0h24v24H0V0z\" fill=\"none\"/>\n",
              "    <path d=\"M18.56 5.44l.94 2.06.94-2.06 2.06-.94-2.06-.94-.94-2.06-.94 2.06-2.06.94zm-11 1L8.5 8.5l.94-2.06 2.06-.94-2.06-.94L8.5 2.5l-.94 2.06-2.06.94zm10 10l.94 2.06.94-2.06 2.06-.94-2.06-.94-.94-2.06-.94 2.06-2.06.94z\"/><path d=\"M17.41 7.96l-1.37-1.37c-.4-.4-.92-.59-1.43-.59-.52 0-1.04.2-1.43.59L10.3 9.45l-7.72 7.72c-.78.78-.78 2.05 0 2.83L4 21.41c.39.39.9.59 1.41.59.51 0 1.02-.2 1.41-.59l7.78-7.78 2.81-2.81c.8-.78.8-2.07 0-2.86zM5.41 20L4 18.59l7.72-7.72 1.47 1.35L5.41 20z\"/>\n",
              "  </svg>\n",
              "      </button>\n",
              "      \n",
              "  <style>\n",
              "    .colab-df-container {\n",
              "      display:flex;\n",
              "      flex-wrap:wrap;\n",
              "      gap: 12px;\n",
              "    }\n",
              "\n",
              "    .colab-df-convert {\n",
              "      background-color: #E8F0FE;\n",
              "      border: none;\n",
              "      border-radius: 50%;\n",
              "      cursor: pointer;\n",
              "      display: none;\n",
              "      fill: #1967D2;\n",
              "      height: 32px;\n",
              "      padding: 0 0 0 0;\n",
              "      width: 32px;\n",
              "    }\n",
              "\n",
              "    .colab-df-convert:hover {\n",
              "      background-color: #E2EBFA;\n",
              "      box-shadow: 0px 1px 2px rgba(60, 64, 67, 0.3), 0px 1px 3px 1px rgba(60, 64, 67, 0.15);\n",
              "      fill: #174EA6;\n",
              "    }\n",
              "\n",
              "    [theme=dark] .colab-df-convert {\n",
              "      background-color: #3B4455;\n",
              "      fill: #D2E3FC;\n",
              "    }\n",
              "\n",
              "    [theme=dark] .colab-df-convert:hover {\n",
              "      background-color: #434B5C;\n",
              "      box-shadow: 0px 1px 3px 1px rgba(0, 0, 0, 0.15);\n",
              "      filter: drop-shadow(0px 1px 2px rgba(0, 0, 0, 0.3));\n",
              "      fill: #FFFFFF;\n",
              "    }\n",
              "  </style>\n",
              "\n",
              "      <script>\n",
              "        const buttonEl =\n",
              "          document.querySelector('#df-a653e587-bd9d-4b38-8433-09352505f205 button.colab-df-convert');\n",
              "        buttonEl.style.display =\n",
              "          google.colab.kernel.accessAllowed ? 'block' : 'none';\n",
              "\n",
              "        async function convertToInteractive(key) {\n",
              "          const element = document.querySelector('#df-a653e587-bd9d-4b38-8433-09352505f205');\n",
              "          const dataTable =\n",
              "            await google.colab.kernel.invokeFunction('convertToInteractive',\n",
              "                                                     [key], {});\n",
              "          if (!dataTable) return;\n",
              "\n",
              "          const docLinkHtml = 'Like what you see? Visit the ' +\n",
              "            '<a target=\"_blank\" href=https://colab.research.google.com/notebooks/data_table.ipynb>data table notebook</a>'\n",
              "            + ' to learn more about interactive tables.';\n",
              "          element.innerHTML = '';\n",
              "          dataTable['output_type'] = 'display_data';\n",
              "          await google.colab.output.renderOutput(dataTable, element);\n",
              "          const docLink = document.createElement('div');\n",
              "          docLink.innerHTML = docLinkHtml;\n",
              "          element.appendChild(docLink);\n",
              "        }\n",
              "      </script>\n",
              "    </div>\n",
              "  </div>\n",
              "  "
            ]
          },
          "metadata": {},
          "execution_count": 159
        }
      ]
    },
    {
      "cell_type": "code",
      "source": [
        "X_test_pred2 = dd['OM_Regular'].values\n",
        "y_test_pred2 = dd['OM_Prediction'].values"
      ],
      "metadata": {
        "id": "1tO_WHmVHQDR"
      },
      "execution_count": 160,
      "outputs": []
    },
    {
      "cell_type": "markdown",
      "source": [
        "### Printing predicted labels"
      ],
      "metadata": {
        "id": "0nbGKNUjldCp"
      }
    },
    {
      "cell_type": "code",
      "source": [
        "print (y_test_pred2 )"
      ],
      "metadata": {
        "id": "Wy2Fvt1fHYJO",
        "colab": {
          "base_uri": "https://localhost:8080/"
        },
        "outputId": "1f5b39a7-6489-4a5e-c19c-9995c3ebd12d"
      },
      "execution_count": 161,
      "outputs": [
        {
          "output_type": "stream",
          "name": "stdout",
          "text": [
            "[1 1 1 1 1 1 1 1 1 1 1 1 1 1 1 1 1 1 1 1 1 1 1 1 1 1 1 1 1 1 1]\n"
          ]
        }
      ]
    },
    {
      "cell_type": "code",
      "source": [
        "precision = precision_score(y_test2, y_test_pred2) \n",
        "print(\"Testing: Precision = %f\" % precision)\n",
        "\n",
        "\n",
        "recall = recall_score(y_test2, y_test_pred2)\n",
        "print(\"Testing: Recall = %f\" % recall)\n",
        "\n",
        "\n",
        "f1 = f1_score(y_test2, y_test_pred2)\n",
        "print(\"Testing: F1 Score = %f\" % f1)\n",
        "\n",
        "\n",
        "\n",
        "print(\"\\nConfusion Matrix (Test Data):\\n\", confusion_matrix(y_test2, y_test_pred2))"
      ],
      "metadata": {
        "id": "w7RY4modHkts",
        "colab": {
          "base_uri": "https://localhost:8080/"
        },
        "outputId": "6341194b-a6b6-445a-a728-521d21846c45"
      },
      "execution_count": 162,
      "outputs": [
        {
          "output_type": "stream",
          "name": "stdout",
          "text": [
            "Testing: Precision = 0.322581\n",
            "Testing: Recall = 1.000000\n",
            "Testing: F1 Score = 0.487805\n",
            "\n",
            "Confusion Matrix (Test Data):\n",
            " [[ 0 21]\n",
            " [ 0 10]]\n"
          ]
        }
      ]
    },
    {
      "cell_type": "code",
      "source": [
        "print(classification_report(y_test2,y_test_pred2))"
      ],
      "metadata": {
        "id": "nd3P-TGIIN6b",
        "colab": {
          "base_uri": "https://localhost:8080/"
        },
        "outputId": "afcc31b0-7c7b-49cd-8c0f-8279793ec84c"
      },
      "execution_count": 163,
      "outputs": [
        {
          "output_type": "stream",
          "name": "stdout",
          "text": [
            "              precision    recall  f1-score   support\n",
            "\n",
            "           0       0.00      0.00      0.00        21\n",
            "           1       0.32      1.00      0.49        10\n",
            "\n",
            "    accuracy                           0.32        31\n",
            "   macro avg       0.16      0.50      0.24        31\n",
            "weighted avg       0.10      0.32      0.16        31\n",
            "\n"
          ]
        },
        {
          "output_type": "stream",
          "name": "stderr",
          "text": [
            "/usr/local/lib/python3.10/dist-packages/sklearn/metrics/_classification.py:1344: UndefinedMetricWarning: Precision and F-score are ill-defined and being set to 0.0 in labels with no predicted samples. Use `zero_division` parameter to control this behavior.\n",
            "  _warn_prf(average, modifier, msg_start, len(result))\n",
            "/usr/local/lib/python3.10/dist-packages/sklearn/metrics/_classification.py:1344: UndefinedMetricWarning: Precision and F-score are ill-defined and being set to 0.0 in labels with no predicted samples. Use `zero_division` parameter to control this behavior.\n",
            "  _warn_prf(average, modifier, msg_start, len(result))\n",
            "/usr/local/lib/python3.10/dist-packages/sklearn/metrics/_classification.py:1344: UndefinedMetricWarning: Precision and F-score are ill-defined and being set to 0.0 in labels with no predicted samples. Use `zero_division` parameter to control this behavior.\n",
            "  _warn_prf(average, modifier, msg_start, len(result))\n"
          ]
        }
      ]
    }
  ],
  "metadata": {
    "accelerator": "GPU",
    "colab": {
      "provenance": []
    },
    "gpuClass": "standard",
    "kernelspec": {
      "display_name": "Python 3 (ipykernel)",
      "language": "python",
      "name": "python3"
    },
    "language_info": {
      "codemirror_mode": {
        "name": "ipython",
        "version": 3
      },
      "file_extension": ".py",
      "mimetype": "text/x-python",
      "name": "python",
      "nbconvert_exporter": "python",
      "pygments_lexer": "ipython3",
      "version": "3.9.12"
    }
  },
  "nbformat": 4,
  "nbformat_minor": 0
}