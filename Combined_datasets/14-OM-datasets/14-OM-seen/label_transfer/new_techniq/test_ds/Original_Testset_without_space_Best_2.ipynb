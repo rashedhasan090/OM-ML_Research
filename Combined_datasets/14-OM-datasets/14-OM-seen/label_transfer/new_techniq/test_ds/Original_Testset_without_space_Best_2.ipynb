{
  "cells": [
    {
      "cell_type": "markdown",
      "metadata": {
        "id": "53kuZAzgHqa1"
      },
      "source": [
        "# English-to-Spanish translation with a sequence-to-sequence Transformer\n",
        "\n",
        "**Author:** [fchollet](https://twitter.com/fchollet)<br>\n",
        "**Date created:** 2021/05/26<br>\n",
        "**Last modified:** 2023/02/25<br>\n",
        "**Description:** Implementing a sequence-to-sequene Transformer and training it on a machine translation task."
      ]
    },
    {
      "cell_type": "markdown",
      "metadata": {
        "id": "GtBEUtVnHqa4"
      },
      "source": [
        "## Introduction\n",
        "\n",
        "In this example, we'll build a sequence-to-sequence Transformer model, which\n",
        "we'll train on an English-to-Spanish machine translation task.\n",
        "\n",
        "You'll learn how to:\n",
        "\n",
        "- Vectorize text using the Keras `TextVectorization` layer.\n",
        "- Implement a `TransformerEncoder` layer, a `TransformerDecoder` layer,\n",
        "and a `PositionalEmbedding` layer.\n",
        "- Prepare data for training a sequence-to-sequence model.\n",
        "- Use the trained model to generate translations of never-seen-before\n",
        "input sentences (sequence-to-sequence inference).\n",
        "\n",
        "The code featured here is adapted from the book\n",
        "[Deep Learning with Python, Second Edition](https://www.manning.com/books/deep-learning-with-python-second-edition)\n",
        "(chapter 11: Deep learning for text).\n",
        "The present example is fairly barebones, so for detailed explanations of\n",
        "how each building block works, as well as the theory behind Transformers,\n",
        "I recommend reading the book."
      ]
    },
    {
      "cell_type": "markdown",
      "metadata": {
        "id": "tGG9yjvYHqa4"
      },
      "source": [
        "## Setup"
      ]
    },
    {
      "cell_type": "code",
      "execution_count": 12,
      "metadata": {
        "id": "2Ut3uI8UHqa4"
      },
      "outputs": [],
      "source": [
        "import pathlib\n",
        "import random\n",
        "import string\n",
        "import re\n",
        "import numpy as np\n",
        "import tensorflow as tf\n",
        "from tensorflow import keras\n",
        "from tensorflow.keras import layers\n",
        "from tensorflow.keras.layers import TextVectorization"
      ]
    },
    {
      "cell_type": "markdown",
      "metadata": {
        "id": "0yIDuvfJHqa5"
      },
      "source": [
        "## Downloading the data\n",
        "\n",
        "We'll be working with an English-to-Spanish translation dataset\n",
        "provided by [Anki](https://www.manythings.org/anki/). Let's download it:"
      ]
    },
    {
      "cell_type": "code",
      "execution_count": 13,
      "metadata": {
        "colab": {
          "base_uri": "https://localhost:8080/"
        },
        "id": "WoNkzS7eHqa6",
        "outputId": "9529a090-a012-4781-e99d-8f99f23d7de4"
      },
      "outputs": [
        {
          "output_type": "stream",
          "name": "stdout",
          "text": [
            "Archive:  new.zip\n",
            "replace new/10_OM_60_label.txt? [y]es, [n]o, [A]ll, [N]one, [r]ename: y\n",
            "  inflating: new/10_OM_60_label.txt  y\n",
            "y\n",
            "\n",
            "replace __MACOSX/new/._10_OM_60_label.txt? [y]es, [n]o, [A]ll, [N]one, [r]ename:   inflating: __MACOSX/new/._10_OM_60_label.txt  \n"
          ]
        }
      ],
      "source": [
        "\n",
        "!unzip new.zip\n",
        "\n",
        "import pathlib\n",
        "\n",
        "file_path = \"/content/new.zip\"\n",
        "extracted_dir = pathlib.Path(file_path).parent / \"new\"\n",
        "text_file = extracted_dir / \"10_OM_60_label.txt\""
      ]
    },
    {
      "cell_type": "markdown",
      "metadata": {
        "id": "NEuvPsK1Hqa6"
      },
      "source": [
        "## Parsing the data\n",
        "\n",
        "Each line contains an English sentence and its corresponding Spanish sentence.\n",
        "The English sentence is the *source sequence* and Spanish one is the *target sequence*.\n",
        "We prepend the token `\"[start]\"` and we append the token `\"[end]\"` to the Spanish sentence."
      ]
    },
    {
      "cell_type": "code",
      "execution_count": 14,
      "metadata": {
        "id": "CwTUqXKkHqa6"
      },
      "outputs": [],
      "source": [
        "with open(text_file) as f:\n",
        "    lines = f.read().split(\"\\n\")[:-1]\n",
        "text_pairs = []\n",
        "for line in lines:\n",
        "    eng, spa = line.split(\"\\t\")\n",
        "    spa = \"[start] \" + spa + \" [end]\"\n",
        "    text_pairs.append((eng, spa))"
      ]
    },
    {
      "cell_type": "markdown",
      "metadata": {
        "id": "0lKYYxnRHqa6"
      },
      "source": [
        "Here's what our sentence pairs look like:"
      ]
    },
    {
      "cell_type": "code",
      "execution_count": 15,
      "metadata": {
        "colab": {
          "base_uri": "https://localhost:8080/"
        },
        "id": "W71EWhMAHqa7",
        "outputId": "87c3f038-c1a4-4384-ee27-3fb7e7153b73"
      },
      "outputs": [
        {
          "output_type": "stream",
          "name": "stdout",
          "text": [
            "('module OM_name: 0, open Declaration one sig class1_name extends Class attrSet = c1_at1+c1_at2 id=c1_at1 no parent isAbstract = No } one sig c1_at1 extends c1_at1_type one sig c1_at2 extends c1_at2_type, one sig class2_name extends Class attrSet = c2_at1+c2_at2 id = c2_at1 no parent isAbstract = No } one sig c2_at1 extends c2_at1_type one sig c2_at2 extends c2_at2_type, one sig class3_name extends Class attrSet = c3_at1+c3_at2+c3_at3+c3_at4+c3_at5+c3_at6 id=c3_at1 no parent isAbstract = No } one sig c3_at1 extends c3_at1_type one sig c3_at2 extends c3_at2_type one sig c3_at3 extends c3_at3_type one sig c3_at4 extends c3_at4_type one sig c3_at5 extends c3_at5_type one sig c3_at6 extends c3_at6_type, one sig class4_name extends Class attrSet = c4_at1+c4_at2+c4_at3+c4_at4 id=c4_at3 no parent isAbstract = No } one sig c4_at1 extends c4_at1_type one sig c4_at2 extends c4_at2_type one sig c4_at3 extends c4_at3_type one sig c4_at4 extends c4_at4_type, one sig class5_name extends Class attrSet = c5_at1 one parent parent in class2_name id=c2_at1 isAbstract = No } one sig c5_at1 extends c5_at1_type, one sig class6_name extends Class attrSet = c6_at1_0+c6_at2+c6_at3+c6_at4 id=c6_at2 no parent isAbstract = No } one sig c6_at1_0 extends c6_at1_type one sig c6_at2 extends c6_at2_type one sig c6_at3 extends c6_at3_type one sig c6_at4 extends c6_at4_type, one sig class7_name extends Class attrSet = c7_at1 one parent parent in class2_name id=c2_at1 isAbstract = No } one sig c7_at1 extends c7_at1_type, one sig class8_name extends Class attrSet = c8_at1+c8_at2+c2_at2+c6_at3 id=c8_at1 no parent isAbstract = No } one sig c8_at1 extends c8_at1_type one sig c8_at1 extends c8_at1_type, one sig assoc1 extends Association src = class8_name dst = class2_name, src_multiplicity = src_mlpc dst_multiplicity = dst_mlpc, } one sig assoc2 extends Association src = class2_name dst = class4_name, src_multiplicity = src_mlpc2 dst_multiplicity = dst_mlpc, } one sig assoc3 extends Association src = class8_name dst = class3_name, src_multiplicity = src_mlpc dst_multiplicity = dst_mlpc, } one sig assoc4 extends Association src = class8_name dst = class4_name, src_multiplicity = src_mlpc dst_multiplicity = dst_mlpc, } one sig assoc5 extends Association src = class8_name dst = class6_name, src_multiplicity = src_mlpc dst_multiplicity = dst_mlpc2, } one sig assoc6 extends Association src = class6_name dst = class1_name, src_multiplicity = src_mlpc dst_multiplicity = dst_mlpc2, } one sig assoc7 extends Association src = class6_name dst = class4_name, src_multiplicity = src_mlpc dst_multiplicity = dst_mlpc, } one sig assoc8 extends Association src = class1_name dst = class3_name, src_multiplicity = src_mlpc dst_multiplicity = dst_mlpc, } one sig assoc9 extends Association src = class1_name dst = class4_name, src_multiplicity = src_mlpc dst_multiplicity = dst_mlpc, } one sig assoc10 extends Association src = class2_name dst = class3_name, src_multiplicity = src_mlpc dst_multiplicity = dst_mlpc2,},Mapping Strategy for class1_name : map_str2Mapping Strategy for class2_name : map_str2Mapping Strategy for class3_name : map_str2Mapping Strategy for class5_name : map_str2Mapping Strategy for class7_name : map_str2Association Strategy for assoc1 : assoc_str2Association Strategy for assoc10 : assoc_str2Association Strategy for assoc3 : assoc_str2Association Strategy for assoc4 : assoc_str2Association Strategy for assoc5 : assoc_str2Association Strategy for assoc6 : assoc_str2Association Strategy for assoc7 : assoc_str2Association Strategy for assoc8 : assoc_str2Association Strategy for assoc9 : assoc_str2,USE OM_name:0;CREATE TABLE `class3_name` (`c3_at6` c3_at6_type,`c3_at5` c3_at5_type,`c3_at4` c3_at4_type,`c3_at3` c3_at3_type,`c3_at2` c3_at2_type,`c3_at1` c3_at1_type NOT NULL ,NPRIMARY  KEY  (`c3_at1`)CREATE TABLE `class1_name` (`c1_at2` c1_at2_type(64),`c1_at1` c1_at1_type NOT NULL ,NPRIMARY  KEY  (`c1_at1`)CREATE TABLE `class2_name` (`c2_at2` c2_at2_type(64),`c2_at1` c2_at1_type NOT NULL ,NPRIMARY  KEY  (`c2_at1`)CREATE TABLE `class7_name` (`c7_at1` c7_at1_type(64),`c2_at2` c2_at2_type(64),`c2_at1` c2_at1_type NOT NULL ,NPRIMARY  KEY  (`c2_at1`)CREATE TABLE `assoc10` (`c3_at1` c3_at1_type NOT NULL,`c2_at1` c2_at1_type NOT NULL, KEY  `FK_assoc10_c3_at1_idx` (`c3_at1`), KEY  `FK_assoc10_c2_at1_idx` (`c2_at1`) ,NPRIMARY  KEY  (`c3_at1`,`c2_at1`)CREATE TABLE `class8_name` (`c8_at2` c8_at2_type(64),`c6_at3` c6_at3_type(64),`c8_at1` c8_at1_type NOT NULL ,NPRIMARY  KEY  (`c8_at1`)CREATE TABLE `class5_name` (`c5_at1` c5_at1_type,`c2_at1` c2_at1_type NOT NULL, KEY  `FK_class5_name_c2_at1_idx` (`c2_at1`) ,NPRIMARY  KEY  (`c2_at1`)CREATE TABLE `assoc7` (`c6_at2` c6_at2_type NOT NULL,`c4_at3` c4_at3_type NOT NULL, KEY  `FK_assoc7_c6_at2_idx` (`c6_at2`), KEY  `FK_assoc7_c4_at3_idx` (`c4_at3`) ,NPRIMARY  KEY  (`c6_at2`,`c4_at3`)Association Strategy for assoc5 : assoc_str2`c8_at1` c8_at1_type NOT NULL,`c6_at2` c6_at2_type NOT NULL, KEY  `FK_assoc5_c8_at1_idx` (`c8_at1`), KEY  `FK_assoc5_c6_at2_idx` (`c6_at2`) ,NPRIMARY  KEY  (`c8_at1`,`c6_at2`)CREATE TABLE `assoc3` (`c8_at1` c8_at1_type NOT NULL,`c3_at1` c3_at1_type NOT NULL, KEY  `FK_assoc3_c8_at1_idx` (`c8_at1`), KEY  `FK_assoc3_c3_at1_idx` (`c3_at1`) ,NPRIMARY  KEY  (`c8_at1`,`c3_at1`)CREATE TABLE `assoc8` (`c3_at1` c3_at1_type NOT NULL,`c1_at1` c1_at1_type NOT NULL, KEY  `FK_assoc8_c3_at1_idx` (`c3_at1`), KEY  `FK_assoc8_c1_at1_idx` (`c1_at1`) ,NPRIMARY  KEY  (`c3_at1`,`c1_at1`)CREATE TABLE `class4_name` (`c4_at4` c4_at4_type(64),`c4_at2` c4_at2_type(64),`c4_at1` c4_at1_type(64),`c4_at3` c4_at3_type NOT NULL ,NPRIMARY  KEY  (`c4_at3`)CREATE TABLE `assoc1` (`c8_at1` c8_at1_type NOT NULL,`c2_at1` c2_at1_type NOT NULL, KEY  `FK_assoc1_c8_at1_idx` (`c8_at1`), KEY  `FK_assoc1_c2_at1_idx` (`c2_at1`) ,NPRIMARY  KEY  (`c8_at1`,`c2_at1`)CREATE TABLE `assoc4` (`c8_at1` c8_at1_type NOT NULL,`c4_at3` c4_at3_type NOT NULL, KEY  `FK_assoc4_c8_at1_idx` (`c8_at1`), KEY  `FK_assoc4_c4_at3_idx` (`c4_at3`) ,NPRIMARY  KEY  (`c8_at1`,`c4_at3`)CREATE TABLE `assoc6` (`c6_at2` c6_at2_type NOT NULL,`c1_at1` c1_at1_type NOT NULL, KEY  `FK_assoc6_c6_at2_idx` (`c6_at2`), KEY  `FK_assoc6_c1_at1_idx` (`c1_at1`) ,NPRIMARY  KEY  (`c6_at2`,`c1_at1`)CREATE TABLE `class6_name` (`c6_at4` c6_at4_type(64),`c6_at1_0` c6_at1_type(64),`c6_at2` c6_at2_type NOT NULL ,NPRIMARY  KEY  (`c6_at2`)CREATE TABLE `assoc9` (`c4_at3` c4_at3_type NOT NULL,`c1_at1` c1_at1_type NOT NULL, KEY  `FK_assoc9_c4_at3_idx` (`c4_at3`), KEY  `FK_assoc9_c1_at1_idx` (`c1_at1`) ,NPRIMARY  KEY  (`c4_at3`,`c1_at1`)CREATE TABLE `assoc2` (`c4_at3` c4_at3_type NOT NULL,`c2_at1` c2_at1_type NOT NULL, KEY  `FK_assoc2_c4_at3_idx` (`c4_at3`), KEY  `FK_assoc2_c2_at1_idx` (`c2_at1`) ,NPRIMARY  KEY  (`c4_at3`,`c2_at1`)ALTER TABLE `assoc10`ADD CONSTRAINT `FK_assoc10_c3_at1` FOREIGN  KEY  (`c3_at1`)    REFERENCES    `class3_name` (`c3_at1`) ON DELETE CASCADE ON UPDATE CASCADE,ADD CONSTRAINT `FK_assoc10_c2_at1` FOREIGN  KEY  (`c2_at1`)    REFERENCES    `class2_name` (`c2_at1`) ON DELETE CASCADE ON UPDATE CASCADE,ALTER TABLE `class5_name`ADD CONSTRAINT `FK_class5_name_c2_at1` FOREIGN  KEY  (`c2_at1`)    REFERENCES    `class2_name` (`c2_at1`) ON DELETE CASCADE ON UPDATE CASCADE,ALTER TABLE `assoc7`ADD CONSTRAINT `FK_assoc7_c6_at2` FOREIGN  KEY  (`c6_at2`)    REFERENCES    `class6_name` (`c6_at2`) ON DELETE CASCADE ON UPDATE CASCADE,ADD CONSTRAINT `FK_assoc7_c4_at3` FOREIGN  KEY  (`c4_at3`)    REFERENCES    `class4_name` (`c4_at3`) ON DELETE CASCADE ON UPDATE CASCADE;ALTER TABLE `assoc5`ADD CONSTRAINT `FK_assoc5_c8_at1` FOREIGN  KEY  (`c8_at1`)    REFERENCES    `class8_name` (`c8_at1`) ON DELETE CASCADE ON UPDATE CASCADE,ADD CONSTRAINT `FK_assoc5_c6_at2` FOREIGN  KEY  (`c6_at2`)    REFERENCES    `class6_name` (`c6_at2`) ON DELETE CASCADE ON UPDATE CASCADE;ALTER TABLE `assoc3`ADD CONSTRAINT `FK_assoc3_c8_at1` FOREIGN  KEY  (`c8_at1`)    REFERENCES    `class8_name` (`c8_at1`) ON DELETE CASCADE ON UPDATE CASCADE,ADD CONSTRAINT `FK_assoc3_c3_at1` FOREIGN  KEY  (`c3_at1`)    REFERENCES    `class3_name` (`c3_at1`) ON DELETE CASCADE ON UPDATE CASCADE,ALTER TABLE `assoc8`ADD CONSTRAINT `FK_assoc8_c3_at1` FOREIGN  KEY  (`c3_at1`)    REFERENCES    `class3_name` (`c3_at1`) ON DELETE CASCADE ON UPDATE CASCADE,ADD CONSTRAINT `FK_assoc8_c1_at1` FOREIGN  KEY  (`c1_at1`)    REFERENCES    `class1_name` (`c1_at1`) ON DELETE CASCADE ON UPDATE CASCADE,ALTER TABLE `assoc1`ADD CONSTRAINT `FK_assoc1_c8_at1` FOREIGN  KEY  (`c8_at1`)    REFERENCES    `class8_name` (`c8_at1`) ON DELETE CASCADE ON UPDATE CASCADE,ALTER TABLE `assoc4`ADD CONSTRAINT `FK_assoc4_c8_at1` FOREIGN  KEY  (`c8_at1`)    REFERENCES    `class8_name` (`c8_at1`) ON DELETE CASCADE ON UPDATE CASCADE,ADD CONSTRAINT `FK_assoc4_c4_at3` FOREIGN  KEY  (`c4_at3`)    REFERENCES    `class4_name` (`c4_at3`) ON DELETE CASCADE ON UPDATE CASCADE;ALTER TABLE `assoc6`ALTER TABLE `class7_name`ADD CONSTRAINT `FK_assoc6_c1_at1` FOREIGN  KEY  (`c1_at1`)    REFERENCES    `class1_name` (`c1_at1`) ON DELETE CASCADE ON UPDATE CASCADE,ALTER TABLE `assoc9`ADD CONSTRAINT `FK_assoc9_c4_at3` FOREIGN  KEY  (`c4_at3`)    REFERENCES    `class4_name` (`c4_at3`) ON DELETE CASCADE ON UPDATE CASCADE,ADD CONSTRAINT `FK_assoc9_c1_at1` FOREIGN  KEY  (`c1_at1`)    REFERENCES    `class1_name` (`c1_at1`) ON DELETE CASCADE ON UPDATE CASCADE;ALTER TABLE `assoc2`ADD CONSTRAINT `FK_assoc2_c4_at3` FOREIGN  KEY  (`c4_at3`)    REFERENCES    `class4_name` (`c4_at3`) ON DELETE CASCADE ON UPDATE CASCADEADD CONSTRAINT `FK_assoc2_c2_at1` FOREIGN  KEY  (`c2_at1`)    REFERENCES    `class2_name` (`c2_at1`) ON DELETE CASCADE ON UPDATE CASCADE', '[start] NP, module OM_name: 0, open Declaration one sig class1_name extends Class attrSet = c1_at1+c1_at2 id=c1_at1 no parent isAbstract = No } one sig c1_at1 extends c1_at1_type one sig c1_at2 extends c1_at2_type, one sig class2_name extends Class attrSet = c2_at1+c2_at2 id = c2_at1 no parent isAbstract = No } one sig c2_at1 extends c2_at1_type one sig c2_at2 extends c2_at2_type, one sig class3_name extends Class attrSet = c3_at1+c3_at2+c3_at3+c3_at4+c3_at5+c3_at6 id=c3_at1 no parent isAbstract = No } one sig c3_at1 extends c3_at1_type one sig c3_at2 extends c3_at2_type one sig c3_at3 extends c3_at3_type one sig c3_at4 extends c3_at4_type one sig c3_at5 extends c3_at5_type one sig c3_at6 extends c3_at6_type, one sig class4_name extends Class attrSet = c4_at1+c4_at2+c4_at3+c4_at4 id=c4_at3 no parent isAbstract = No } one sig c4_at1 extends c4_at1_type one sig c4_at2 extends c4_at2_type one sig c4_at3 extends c4_at3_type one sig c4_at4 extends c4_at4_type, one sig class5_name extends Class attrSet = c5_at1 one parent parent in class2_name id=c2_at1 isAbstract = No } one sig c5_at1 extends c5_at1_type, one sig class6_name extends Class attrSet = c6_at1_0+c6_at2+c6_at3+c6_at4 id=c6_at2 no parent isAbstract = No } one sig c6_at1_0 extends c6_at1_type one sig c6_at2 extends c6_at2_type one sig c6_at3 extends c6_at3_type one sig c6_at4 extends c6_at4_type, one sig class7_name extends Class attrSet = c7_at1 one parent parent in class2_name id=c2_at1 isAbstract = No } one sig c7_at1 extends c7_at1_type, one sig class8_name extends Class attrSet = c8_at1+c8_at2+c2_at2+c6_at3 id=c8_at1 no parent isAbstract = No } one sig c8_at1 extends c8_at1_type one sig c8_at1 extends c8_at1_type, one sig assoc1 extends Association src = class8_name dst = class2_name, src_multiplicity = src_mlpc dst_multiplicity = dst_mlpc, } one sig assoc2 extends Association src = class2_name dst = class4_name, src_multiplicity = src_mlpc2 dst_multiplicity = dst_mlpc, } one sig assoc3 extends Association src = class8_name dst = class3_name, src_multiplicity = src_mlpc dst_multiplicity = dst_mlpc, } one sig assoc4 extends Association src = class8_name dst = class4_name, src_multiplicity = src_mlpc dst_multiplicity = dst_mlpc, } one sig assoc5 extends Association src = class8_name dst = class6_name, src_multiplicity = src_mlpc dst_multiplicity = dst_mlpc2, } one sig assoc6 extends Association src = class6_name dst = class1_name, src_multiplicity = src_mlpc dst_multiplicity = dst_mlpc2, } one sig assoc7 extends Association src = class6_name dst = class4_name, src_multiplicity = src_mlpc dst_multiplicity = dst_mlpc, } one sig assoc8 extends Association src = class1_name dst = class3_name, src_multiplicity = src_mlpc dst_multiplicity = dst_mlpc, } one sig assoc9 extends Association src = class1_name dst = class4_name, src_multiplicity = src_mlpc dst_multiplicity = dst_mlpc, } one sig assoc10 extends Association src = class2_name dst = class3_name, src_multiplicity = src_mlpc dst_multiplicity = dst_mlpc2,},Mapping Strategy for class1_name : map_str2Mapping Strategy for class2_name : map_str2Mapping Strategy for class3_name : map_str2Mapping Strategy for class5_name : map_str2Mapping Strategy for class7_name : map_str2Association Strategy for assoc1 : assoc_str2Association Strategy for assoc10 : assoc_str2Association Strategy for assoc3 : assoc_str2Association Strategy for assoc4 : assoc_str2Association Strategy for assoc5 : assoc_str2Association Strategy for assoc6 : assoc_str2Association Strategy for assoc7 : assoc_str2Association Strategy for assoc8 : assoc_str2Association Strategy for assoc9 : assoc_str2,USE OM_name:0;CREATE TABLE `class3_name` (`c3_at6` c3_at6_type,`c3_at5` c3_at5_type,`c3_at4` c3_at4_type,`c3_at3` c3_at3_type,`c3_at2` c3_at2_type,`c3_at1` c3_at1_type NOT NULL ,NPRIMARY  KEY  (`c3_at1`)CREATE TABLE `class1_name` (`c1_at2` c1_at2_type(64),`c1_at1` c1_at1_type NOT NULL ,NPRIMARY  KEY  (`c1_at1`)CREATE TABLE `class2_name` (`c2_at2` c2_at2_type(64),`c2_at1` c2_at1_type NOT NULL ,NPRIMARY  KEY  (`c2_at1`)CREATE TABLE `class7_name` (`c7_at1` c7_at1_type(64),`c2_at2` c2_at2_type(64),`c2_at1` c2_at1_type NOT NULL ,NPRIMARY  KEY  (`c2_at1`)CREATE TABLE `assoc10` (`c3_at1` c3_at1_type NOT NULL,`c2_at1` c2_at1_type NOT NULL, KEY  `FK_assoc10_c3_at1_idx` (`c3_at1`), KEY  `FK_assoc10_c2_at1_idx` (`c2_at1`) ,NPRIMARY  KEY  (`c3_at1`,`c2_at1`)CREATE TABLE `class8_name` (`c8_at2` c8_at2_type(64),`c6_at3` c6_at3_type(64),`c8_at1` c8_at1_type NOT NULL ,NPRIMARY  KEY  (`c8_at1`)CREATE TABLE `class5_name` (`c5_at1` c5_at1_type,`c2_at1` c2_at1_type NOT NULL, KEY  `FK_class5_name_c2_at1_idx` (`c2_at1`) ,NPRIMARY  KEY  (`c2_at1`)CREATE TABLE `assoc7` (`c6_at2` c6_at2_type NOT NULL,`c4_at3` c4_at3_type NOT NULL, KEY  `FK_assoc7_c6_at2_idx` (`c6_at2`), KEY  `FK_assoc7_c4_at3_idx` (`c4_at3`) ,NPRIMARY  KEY  (`c6_at2`,`c4_at3`)Association Strategy for assoc5 : assoc_str2`c8_at1` c8_at1_type NOT NULL,`c6_at2` c6_at2_type NOT NULL, KEY  `FK_assoc5_c8_at1_idx` (`c8_at1`), KEY  `FK_assoc5_c6_at2_idx` (`c6_at2`) ,NPRIMARY  KEY  (`c8_at1`,`c6_at2`)CREATE TABLE `assoc3` (`c8_at1` c8_at1_type NOT NULL,`c3_at1` c3_at1_type NOT NULL, KEY  `FK_assoc3_c8_at1_idx` (`c8_at1`), KEY  `FK_assoc3_c3_at1_idx` (`c3_at1`) ,NPRIMARY  KEY  (`c8_at1`,`c3_at1`)CREATE TABLE `assoc8` (`c3_at1` c3_at1_type NOT NULL,`c1_at1` c1_at1_type NOT NULL, KEY  `FK_assoc8_c3_at1_idx` (`c3_at1`), KEY  `FK_assoc8_c1_at1_idx` (`c1_at1`) ,NPRIMARY  KEY  (`c3_at1`,`c1_at1`)CREATE TABLE `class4_name` (`c4_at4` c4_at4_type(64),`c4_at2` c4_at2_type(64),`c4_at1` c4_at1_type(64),`c4_at3` c4_at3_type NOT NULL ,NPRIMARY  KEY  (`c4_at3`)CREATE TABLE `assoc1` (`c8_at1` c8_at1_type NOT NULL,`c2_at1` c2_at1_type NOT NULL, KEY  `FK_assoc1_c8_at1_idx` (`c8_at1`), KEY  `FK_assoc1_c2_at1_idx` (`c2_at1`) ,NPRIMARY  KEY  (`c8_at1`,`c2_at1`)CREATE TABLE `assoc4` (`c8_at1` c8_at1_type NOT NULL,`c4_at3` c4_at3_type NOT NULL, KEY  `FK_assoc4_c8_at1_idx` (`c8_at1`), KEY  `FK_assoc4_c4_at3_idx` (`c4_at3`) ,NPRIMARY  KEY  (`c8_at1`,`c4_at3`)CREATE TABLE `assoc6` (`c6_at2` c6_at2_type NOT NULL,`c1_at1` c1_at1_type NOT NULL, KEY  `FK_assoc6_c6_at2_idx` (`c6_at2`), KEY  `FK_assoc6_c1_at1_idx` (`c1_at1`) ,NPRIMARY  KEY  (`c6_at2`,`c1_at1`)CREATE TABLE `class6_name` (`c6_at4` c6_at4_type(64),`c6_at1_0` c6_at1_type(64),`c6_at2` c6_at2_type NOT NULL ,NPRIMARY  KEY  (`c6_at2`)CREATE TABLE `assoc9` (`c4_at3` c4_at3_type NOT NULL,`c1_at1` c1_at1_type NOT NULL, KEY  `FK_assoc9_c4_at3_idx` (`c4_at3`), KEY  `FK_assoc9_c1_at1_idx` (`c1_at1`) ,NPRIMARY  KEY  (`c4_at3`,`c1_at1`)CREATE TABLE `assoc2` (`c4_at3` c4_at3_type NOT NULL,`c2_at1` c2_at1_type NOT NULL, KEY  `FK_assoc2_c4_at3_idx` (`c4_at3`), KEY  `FK_assoc2_c2_at1_idx` (`c2_at1`) ,NPRIMARY  KEY  (`c4_at3`,`c2_at1`)ALTER TABLE `assoc10`ADD CONSTRAINT `FK_assoc10_c3_at1` FOREIGN  KEY  (`c3_at1`)    REFERENCES    `class3_name` (`c3_at1`) ON DELETE CASCADE ON UPDATE CASCADE,ADD CONSTRAINT `FK_assoc10_c2_at1` FOREIGN  KEY  (`c2_at1`)    REFERENCES    `class2_name` (`c2_at1`) ON DELETE CASCADE ON UPDATE CASCADE,ALTER TABLE `class5_name`ADD CONSTRAINT `FK_class5_name_c2_at1` FOREIGN  KEY  (`c2_at1`)    REFERENCES    `class2_name` (`c2_at1`) ON DELETE CASCADE ON UPDATE CASCADE,ALTER TABLE `assoc7`ADD CONSTRAINT `FK_assoc7_c6_at2` FOREIGN  KEY  (`c6_at2`)    REFERENCES    `class6_name` (`c6_at2`) ON DELETE CASCADE ON UPDATE CASCADE,ADD CONSTRAINT `FK_assoc7_c4_at3` FOREIGN  KEY  (`c4_at3`)    REFERENCES    `class4_name` (`c4_at3`) ON DELETE CASCADE ON UPDATE CASCADE;ALTER TABLE `assoc5`ADD CONSTRAINT `FK_assoc5_c8_at1` FOREIGN  KEY  (`c8_at1`)    REFERENCES    `class8_name` (`c8_at1`) ON DELETE CASCADE ON UPDATE CASCADE,ADD CONSTRAINT `FK_assoc5_c6_at2` FOREIGN  KEY  (`c6_at2`)    REFERENCES    `class6_name` (`c6_at2`) ON DELETE CASCADE ON UPDATE CASCADE;ALTER TABLE `assoc3`ADD CONSTRAINT `FK_assoc3_c8_at1` FOREIGN  KEY  (`c8_at1`)    REFERENCES    `class8_name` (`c8_at1`) ON DELETE CASCADE ON UPDATE CASCADE,ADD CONSTRAINT `FK_assoc3_c3_at1` FOREIGN  KEY  (`c3_at1`)    REFERENCES    `class3_name` (`c3_at1`) ON DELETE CASCADE ON UPDATE CASCADE,ALTER TABLE `assoc8`ADD CONSTRAINT `FK_assoc8_c3_at1` FOREIGN  KEY  (`c3_at1`)    REFERENCES    `class3_name` (`c3_at1`) ON DELETE CASCADE ON UPDATE CASCADE,ADD CONSTRAINT `FK_assoc8_c1_at1` FOREIGN  KEY  (`c1_at1`)    REFERENCES    `class1_name` (`c1_at1`) ON DELETE CASCADE ON UPDATE CASCADE,ALTER TABLE `assoc1`ADD CONSTRAINT `FK_assoc1_c8_at1` FOREIGN  KEY  (`c8_at1`)    REFERENCES    `class8_name` (`c8_at1`) ON DELETE CASCADE ON UPDATE CASCADE,ALTER TABLE `assoc4`ADD CONSTRAINT `FK_assoc4_c8_at1` FOREIGN  KEY  (`c8_at1`)    REFERENCES    `class8_name` (`c8_at1`) ON DELETE CASCADE ON UPDATE CASCADE,ADD CONSTRAINT `FK_assoc4_c4_at3` FOREIGN  KEY  (`c4_at3`)    REFERENCES    `class4_name` (`c4_at3`) ON DELETE CASCADE ON UPDATE CASCADE;ALTER TABLE `assoc6`ALTER TABLE `class7_name`ADD CONSTRAINT `FK_assoc6_c1_at1` FOREIGN  KEY  (`c1_at1`)    REFERENCES    `class1_name` (`c1_at1`) ON DELETE CASCADE ON UPDATE CASCADE,ALTER TABLE `assoc9`ADD CONSTRAINT `FK_assoc9_c4_at3` FOREIGN  KEY  (`c4_at3`)    REFERENCES    `class4_name` (`c4_at3`) ON DELETE CASCADE ON UPDATE CASCADE,ADD CONSTRAINT `FK_assoc9_c1_at1` FOREIGN  KEY  (`c1_at1`)    REFERENCES    `class1_name` (`c1_at1`) ON DELETE CASCADE ON UPDATE CASCADE;ALTER TABLE `assoc2`ADD CONSTRAINT `FK_assoc2_c4_at3` FOREIGN  KEY  (`c4_at3`)    REFERENCES    `class4_name` (`c4_at3`) ON DELETE CASCADE ON UPDATE CASCADEADD CONSTRAINT `FK_assoc2_c2_at1` FOREIGN  KEY  (`c2_at1`)    REFERENCES    `class2_name` (`c2_at1`) ON DELETE CASCADE ON UPDATE CASCADE  [end]')\n",
            "(\"module OM_name 0;open Declaration one  sig class1_name extends ClassattrSet = c1_at1+c1_at2id=c1_at1no parentisAbstract = No}one sig c1_at1 extends c1_at1_typeone sig c1_at2 extends c1_at2_typeone sig class2_name extends ClassattrSet = c2_at1+c2_at2id=c2_at1no parentisAbstract = No}one sig c2_at1 extends c2_at1_typeone sig c2_at1 extends c2_at2_typeone sig class3_name extends ClassattrSet = c3_at1+c3_at2+c3_at3+c3_at4c3_at5+c3_at6id=c3_at1no parentisAbstract = No}one sig c3_at1 extends c3_at1_typeone sig c3_at2 extends c3_at2_typeone sig c3_at3 extends c3_at3_typeone sig c3_at4 extends c3_at4_typeone sig c3_at5 extends c3_at5_typeone sig c3_at6 extends c3_at6_typeone sig class4_name extends ClassattrSet = c4_at1+c4_at2+c4_at3+c4_at4id=c4_at3no parentisAbstract = No}one sig c4_at1 extends c4_at1_typeone sig c4_at2 extends c4_at2_typeone sig c4_at3 extends c4_at3_typeone sig c4_at4 extends c4_at4_typeone sig class5_name extends ClassattrSet = c5_at1one  parent parent  in class2_nameid = c2_at1isAbstract = No}one sig c5_at1 extends c5_at1_typeone sig class6_name extends ClassattrSet = c6_at1_0+c6_at2+c6_at3+c6_at4id=c6_at2no parentisAbstract = No}one sig c6_at1_0 extends c6_at1_typeone sig c6_at2 extends c6_at2_typeone sig c6_at3 extends c6_at3_typeone sig c6_at4 extends c6_at4_typeone sig class7_name extends ClassattrSet = c7_at1one  parent parent  in class2_nameid = c2_at1isAbstract = No}one sig c7_at1 extends c7_at1_typeone sig class8_name extends ClassattrSet = c8_at1one  parent parent  in class2_nameid = c2_at1isAbstract = No}one sig c8_at1 extends c8_at1_typeone sig class9_name extends ClassattrSet = c9_at1one  parent parent  in class2_nameid = c2_at1isAbstract = No}one sig c9_at1 extends c9_at1_typeone sig class10_name extends ClassattrSet = c10_at1+c10_at2+c2_at2+c6_at3id=c10_at1no parentisAbstract = No}one sig c10_at1 extends c10_at1_typeone sig c10_at2 extends c10_at2_typeone sig assoc10 extends  Association src  = class10_namedst= class2_namesrc_multiplicity = src_mlpcdst_multiplicity = dst_mlpc}one sig assoc1 extends  Association src  = class2_namedst= class4_namesrc_multiplicity = src_mlpc2dst_multiplicity = dst_mlpc}one sig assoc2 extends  Association src  = class10_namedst= class3_namesrc_multiplicity = src_mlpcdst_multiplicity = dst_mlpc}one sig assoc3 extends  Association src  = class10_namedst= class4_namesrc_multiplicity = src_mlpcdst_multiplicity = dst_mlpc}one sig assoc4 extends  Association src  = class10_namedst= class6_namesrc_multiplicity = src_mlpcdst_multiplicity = dst_mlpc2}one sig assoc5 extends  Association src  = class6_namedst= class1_namesrc_multiplicity = src_mlpcdst_multiplicity = dst_mlpc2}one sig assoc6 extends  Association src  = class6_namedst= class4_namesrc_multiplicity = src_mlpcdst_multiplicity = dst_mlpc}one sig assoc7 extends  Association src  = class1_namedst= class3_namesrc_multiplicity = src_mlpcdst_multiplicity = dst_mlpc}one sig assoc8 extends  Association src  = class1_namedst= class4_namesrc_multiplicity = src_mlpcdst_multiplicity = dst_mlpc}one sig assoc9 extends  Association src  = class2_namedst= class3_namesrc_multiplicity = src_mlpcdst_multiplicity = dst_mlpc2}pred showrun show,Mapping Strategy for class1_name : map_str2Mapping Strategy for class10_name : map_str2Mapping Strategy for class5_name : map_str3Mapping Strategy for class7_name : map_str3Mapping Strategy for class8_name : map_str3Association Strategy for assoc3 : assoc_str1Association Strategy for assoc7 : assoc_str1Association Strategy for assoc1 : assoc_str2Association Strategy for assoc2 : assoc_str2Association Strategy for assoc4 : assoc_str2Association Strategy for assoc5 : assoc_str2Association Strategy for assoc6 : assoc_str2Association Strategy for assoc9 : assoc_str2,USE OM_name:0;CREATE TABLE `class7_name` (`c7_at1` c7_at1_type(64),`c2_at1` c2_at1_type NOT NULL, KEY  `FK_class7_name_c2_at1_idx` (`c2_at1`) ,NPRIMARY  KEY  (`c2_at1`)CREATE TABLE `class5_name` (c5_at1` c5_at1_type(64),`c2_at1` c2_at1_type NOT NULL, KEY  `FK_class5_name_c2_at1_idx` (`c2_at1`) ,NPRIMARY  KEY  (`c2_at1`)CREATE TABLE `class2_name` (`c2_at2` c2_at2_type(64),`c2_at1` c2_at1_type NOT NULL ,NPRIMARY  KEY  (`c2_at1`)CREATE TABLE `assoc10` (c10_at1` c10_at1_type`c2_at1` c2_at1_type NOT NULL, KEY  `FK_assoc10_c2_at1_idx` (`c2_at1`),CREATE TABLE `class3_name` (c10_at1` c10_at1_type`c3_at6` c3_at6_type,`c3_at5` c3_at5_type,`c3_at4` c3_at4_type,`c3_at3` c3_at3_type,`c3_at2` c3_at2_type,`c3_at1` c3_at1_type NOT NULL,`c1_at1` int, KEY  `FK_class3_name_c10_at1_idx` (`c10_at1`), KEY  `FK_class3_name_c1_at1_idx` (`c1_at1`) ,NPRIMARY  KEY  (`c3_at1`)CREATE TABLE `class1_name` (`c1_at2` c1_at2_type(64),`c1_at1` c1_at1_type NOT NULL ,NPRIMARY  KEY  (`c1_at1`)CREATE TABLE `class6_name` (`c6_at4` c6_at4_type(64),`c6_at3` c6_at3_type(64),`c6_at1_0` c6_at1_type(64),`c6_at2` c6_at2_type NOT NULL ,NPRIMARY  KEY  (`c6_at2`)CREATE TABLE `assoc1` (`c4_at3` c4_at3_type NOT NULL,`c2_at1` c2_at1_type NOT NULL, KEY  `FK_assoc1_c4_at3_idx` (`c4_at3`), KEY  `FK_assoc1_c2_at1_idx` (`c2_at1`) ,NPRIMARY  KEY  (`c4_at3`,`c2_at1`)CREATE TABLE `assoc4` (c10_at1` c10_at1_type`c6_at2` c6_at2_type NOT NULL, KEY  `FK_assoc4_c10_at1_idx` (`c10_at1`), KEY  `FK_assoc4_c6_at2_idx` (`c6_at2`) ,NPRIMARY  KEY  (`c10_at1`,`c6_at2`)Association Strategy for assoc5 : assoc_str2`c6_at2` c6_at2_type NOT NULL,`c1_at1` c1_at1_type NOT NULL, KEY  `FK_assoc5_c6_at2_idx` (`c6_at2`), KEY  `FK_assoc5_c1_at1_idx` (`c1_at1`) ,NPRIMARY  KEY  (`c6_at2`,`c1_at1`)CREATE TABLE `assoc6` (`c6_at2` c6_at2_type NOT NULL,`c4_at3` c4_at3_type NOT NULL, KEY  `FK_assoc6_c6_at2_idx` (`c6_at2`), KEY  `FK_assoc6_c4_at3_idx` (`c4_at3`),'PRIMARY  KEY  (`c6_at2`,`c4_at3`)CREATE TABLE `class10_name` (`c10_at2` c10_at2_type(64),c10_at1` c10_at1_typePRIMARY  KEY  (`c10_at1`)CREATE TABLE `class4_name` (`c4_at4` c4_at4_type(64),`c4_at2` c4_at2_type(64),`c4_at1` c4_at1_type(64),c10_at1` c10_at1_type`c4_at3` c4_at3_type NOT NULL, KEY  `FK_class4_name_c10_at1_idx` (`c10_at1`) ,NPRIMARY  KEY  (`c4_at3`)CREATE TABLE `assoc9` (`c3_at1` c3_at1_type NOT NULL,`c2_at1` c2_at1_type NOT NULL, KEY  `FK_assoc9_c3_at1_idx` (`c3_at1`) KEY  `FK_assoc9_c2_at1_idx` (`c2_at1`)PRIMARY  KEY  (`c3_at1`,`c2_at1`)CREATE TABLE `class9_name` (`c9_at1` c9_at1_type(64),`c2_at1` c2_at1_type NOT NULL, KEY  `FK_class9_name_c2_at1_idx` (`c2_at1`) ,NPRIMARY  KEY  (`c2_at1`)CREATE TABLE `class8_name` (`c8_at1` c8_at1_type(64),`c2_at1` c2_at1_type NOT NULL ,NPRIMARY  KEY  (`c2_at1`)CREATE TABLE `assoc8` (`c4_at3` c4_at3_type NOT NULL,`c1_at1` c1_at1_type NOT NULL, KEY  `FK_assoc8_c1_at1_idx` (`c1_at1`) ,NPRIMARY  KEY  (`c4_at3`,`c1_at1`)ALTER TABLE `class7_name`ADD CONSTRAINT `FK_class7_name_c2_at1` FOREIGN  KEY  (`c2_at1`)    REFERENCES    `class2_name` (`c2_at1`) ON DELETE CASCADE ON UPDATE CASCADE,ALTER TABLE `class5_name`ADD CONSTRAINT `FK_class5_name_c2_at1` FOREIGN  KEY  (`c2_at1`)    REFERENCES    `class2_name` (`c2_at1`) ON DELETE CASCADE ON UPDATE CASCADE,ALTER TABLE `assoc10`ADD CONSTRAINT `FK_assoc10_c2_at1` FOREIGN  KEY  (`c2_at1`)    REFERENCES    `class2_name` (`c2_at1`) ON DELETE CASCADE ON UPDATE CASCADE,ALTER TABLE `class3_name`ADD CONSTRAINT `FK_class3_name_c1_at1` FOREIGN  KEY  (`c1_at1`)    REFERENCES    `class1_name` (`c1_at1`) ON DELETE CASCADE ON UPDATE CASCADE,ALTER TABLE `assoc1`ADD CONSTRAINT `FK_assoc1_c4_at3` FOREIGN  KEY  (`c4_at3`)    REFERENCES    `class4_name` (`c4_at3`) ON DELETE CASCADE ON UPDATE CASCADE;ADD CONSTRAINT `FK_assoc1_c2_at1` FOREIGN  KEY  (`c2_at1`)    REFERENCES    `class2_name` (`c2_at1`) ON DELETE CASCADE ON UPDATE CASCADE;ALTER TABLE `assoc4`ADD CONSTRAINT `FK_assoc4_c10_at1` FOREIGN  KEY  (`c10_at1`)    REFERENCES    `class10_name` (`c10_at1`) ON DELETE CASCADE ON UPDATE CASCADE;ADD CONSTRAINT `FK_assoc4_c6_at2` FOREIGN  KEY  (`c6_at2`)    REFERENCES    `class6_name` (`c6_at2`) ON DELETE CASCADE ON UPDATE CASCADE;ALTER TABLE `assoc5`ADD CONSTRAINT `FK_assoc5_c6_at2` FOREIGN  KEY  (`c6_at2`)    REFERENCES    `class6_name` (`c6_at2`) ON DELETE CASCADE ON UPDATE CASCADE;ADD CONSTRAINT `FK_assoc5_c1_at1` FOREIGN  KEY  (`c1_at1`)    REFERENCES    `class1_name` (`c1_at1`) ON DELETE CASCADE ON UPDATE CASCADE;ALTER TABLE `assoc6`ALTER TABLE `class7_name`ADD CONSTRAINT `FK_assoc6_c4_at3` FOREIGN  KEY  (`c4_at3`)    REFERENCES    `class4_name` (`c1_at1`) ON DELETE CASCADE ON UPDATE CASCADE;ALTER TABLE `class4_name`ALTER TABLE `assoc9`ADD CONSTRAINT `FK_assoc9_c3_at1` FOREIGN  KEY  (`c3_at1`)    REFERENCES    `class3_name` (`c3_at1`) ON DELETE CASCADE ON UPDATE CASCADE;ADD CONSTRAINT `FK_assoc9_c2_at1` FOREIGN  KEY  (`c2_at1`)    REFERENCES    `class2_name` (`c2_at1`) ON DELETE CASCADE ON UPDATE CASCADE;ALTER TABLE `class9_name`ADD CONSTRAINT `FK_class9_name_c2_at1` FOREIGN  KEY  (`c2_at1`)    REFERENCES    `class2_name` (`c2_at1`) ON DELETE CASCADE ON UPDATE CASCADE;ALTER TABLE `assoc8`ADD CONSTRAINT `FK_assoc8_c1_at1` FOREIGN  KEY  (`c1_at1`)    REFERENCES    `class1_name` (`c1_at1`) ON DELETE CASCADE ON UPDATE CASCADE\", \"[start] NP, module OM_name 0;open Declaration one  sig class1_name extends ClassattrSet = c1_at1+c1_at2id=c1_at1no parentisAbstract = No}one sig c1_at1 extends c1_at1_typeone sig c1_at2 extends c1_at2_typeone sig class2_name extends ClassattrSet = c2_at1+c2_at2id=c2_at1no parentisAbstract = No}one sig c2_at1 extends c2_at1_typeone sig c2_at1 extends c2_at2_typeone sig class3_name extends ClassattrSet = c3_at1+c3_at2+c3_at3+c3_at4c3_at5+c3_at6id=c3_at1no parentisAbstract = No}one sig c3_at1 extends c3_at1_typeone sig c3_at2 extends c3_at2_typeone sig c3_at3 extends c3_at3_typeone sig c3_at4 extends c3_at4_typeone sig c3_at5 extends c3_at5_typeone sig c3_at6 extends c3_at6_typeone sig class4_name extends ClassattrSet = c4_at1+c4_at2+c4_at3+c4_at4id=c4_at3no parentisAbstract = No}one sig c4_at1 extends c4_at1_typeone sig c4_at2 extends c4_at2_typeone sig c4_at3 extends c4_at3_typeone sig c4_at4 extends c4_at4_typeone sig class5_name extends ClassattrSet = c5_at1one  parent parent  in class2_nameid = c2_at1isAbstract = No}one sig c5_at1 extends c5_at1_typeone sig class6_name extends ClassattrSet = c6_at1_0+c6_at2+c6_at3+c6_at4id=c6_at2no parentisAbstract = No}one sig c6_at1_0 extends c6_at1_typeone sig c6_at2 extends c6_at2_typeone sig c6_at3 extends c6_at3_typeone sig c6_at4 extends c6_at4_typeone sig class7_name extends ClassattrSet = c7_at1one  parent parent  in class2_nameid = c2_at1isAbstract = No}one sig c7_at1 extends c7_at1_typeone sig class8_name extends ClassattrSet = c8_at1one  parent parent  in class2_nameid = c2_at1isAbstract = No}one sig c8_at1 extends c8_at1_typeone sig class9_name extends ClassattrSet = c9_at1one  parent parent  in class2_nameid = c2_at1isAbstract = No}one sig c9_at1 extends c9_at1_typeone sig class10_name extends ClassattrSet = c10_at1+c10_at2+c2_at2+c6_at3id=c10_at1no parentisAbstract = No}one sig c10_at1 extends c10_at1_typeone sig c10_at2 extends c10_at2_typeone sig assoc10 extends  Association src  = class10_namedst= class2_namesrc_multiplicity = src_mlpcdst_multiplicity = dst_mlpc}one sig assoc1 extends  Association src  = class2_namedst= class4_namesrc_multiplicity = src_mlpc2dst_multiplicity = dst_mlpc}one sig assoc2 extends  Association src  = class10_namedst= class3_namesrc_multiplicity = src_mlpcdst_multiplicity = dst_mlpc}one sig assoc3 extends  Association src  = class10_namedst= class4_namesrc_multiplicity = src_mlpcdst_multiplicity = dst_mlpc}one sig assoc4 extends  Association src  = class10_namedst= class6_namesrc_multiplicity = src_mlpcdst_multiplicity = dst_mlpc2}one sig assoc5 extends  Association src  = class6_namedst= class1_namesrc_multiplicity = src_mlpcdst_multiplicity = dst_mlpc2}one sig assoc6 extends  Association src  = class6_namedst= class4_namesrc_multiplicity = src_mlpcdst_multiplicity = dst_mlpc}one sig assoc7 extends  Association src  = class1_namedst= class3_namesrc_multiplicity = src_mlpcdst_multiplicity = dst_mlpc}one sig assoc8 extends  Association src  = class1_namedst= class4_namesrc_multiplicity = src_mlpcdst_multiplicity = dst_mlpc}one sig assoc9 extends  Association src  = class2_namedst= class3_namesrc_multiplicity = src_mlpcdst_multiplicity = dst_mlpc2}pred showrun show,Mapping Strategy for class1_name : map_str2Mapping Strategy for class10_name : map_str2Mapping Strategy for class5_name : map_str3Mapping Strategy for class7_name : map_str3Mapping Strategy for class8_name : map_str3Association Strategy for assoc3 : assoc_str1Association Strategy for assoc7 : assoc_str1Association Strategy for assoc1 : assoc_str2Association Strategy for assoc2 : assoc_str2Association Strategy for assoc4 : assoc_str2Association Strategy for assoc5 : assoc_str2Association Strategy for assoc6 : assoc_str2Association Strategy for assoc9 : assoc_str2,USE OM_name:0;CREATE TABLE `class7_name` (`c7_at1` c7_at1_type(64),`c2_at1` c2_at1_type NOT NULL, KEY  `FK_class7_name_c2_at1_idx` (`c2_at1`) ,NPRIMARY  KEY  (`c2_at1`)CREATE TABLE `class5_name` (c5_at1` c5_at1_type(64),`c2_at1` c2_at1_type NOT NULL, KEY  `FK_class5_name_c2_at1_idx` (`c2_at1`) ,NPRIMARY  KEY  (`c2_at1`)CREATE TABLE `class2_name` (`c2_at2` c2_at2_type(64),`c2_at1` c2_at1_type NOT NULL ,NPRIMARY  KEY  (`c2_at1`)CREATE TABLE `assoc10` (c10_at1` c10_at1_type`c2_at1` c2_at1_type NOT NULL, KEY  `FK_assoc10_c2_at1_idx` (`c2_at1`),CREATE TABLE `class3_name` (c10_at1` c10_at1_type`c3_at6` c3_at6_type,`c3_at5` c3_at5_type,`c3_at4` c3_at4_type,`c3_at3` c3_at3_type,`c3_at2` c3_at2_type,`c3_at1` c3_at1_type NOT NULL,`c1_at1` int, KEY  `FK_class3_name_c10_at1_idx` (`c10_at1`), KEY  `FK_class3_name_c1_at1_idx` (`c1_at1`) ,NPRIMARY  KEY  (`c3_at1`)CREATE TABLE `class1_name` (`c1_at2` c1_at2_type(64),`c1_at1` c1_at1_type NOT NULL ,NPRIMARY  KEY  (`c1_at1`)CREATE TABLE `class6_name` (`c6_at4` c6_at4_type(64),`c6_at3` c6_at3_type(64),`c6_at1_0` c6_at1_type(64),`c6_at2` c6_at2_type NOT NULL ,NPRIMARY  KEY  (`c6_at2`)CREATE TABLE `assoc1` (`c4_at3` c4_at3_type NOT NULL,`c2_at1` c2_at1_type NOT NULL, KEY  `FK_assoc1_c4_at3_idx` (`c4_at3`), KEY  `FK_assoc1_c2_at1_idx` (`c2_at1`) ,NPRIMARY  KEY  (`c4_at3`,`c2_at1`)CREATE TABLE `assoc4` (c10_at1` c10_at1_type`c6_at2` c6_at2_type NOT NULL, KEY  `FK_assoc4_c10_at1_idx` (`c10_at1`), KEY  `FK_assoc4_c6_at2_idx` (`c6_at2`) ,NPRIMARY  KEY  (`c10_at1`,`c6_at2`)Association Strategy for assoc5 : assoc_str2`c6_at2` c6_at2_type NOT NULL,`c1_at1` c1_at1_type NOT NULL, KEY  `FK_assoc5_c6_at2_idx` (`c6_at2`), KEY  `FK_assoc5_c1_at1_idx` (`c1_at1`) ,NPRIMARY  KEY  (`c6_at2`,`c1_at1`)CREATE TABLE `assoc6` (`c6_at2` c6_at2_type NOT NULL,`c4_at3` c4_at3_type NOT NULL, KEY  `FK_assoc6_c6_at2_idx` (`c6_at2`), KEY  `FK_assoc6_c4_at3_idx` (`c4_at3`),'PRIMARY  KEY  (`c6_at2`,`c4_at3`)CREATE TABLE `class10_name` (`c10_at2` c10_at2_type(64),c10_at1` c10_at1_typePRIMARY  KEY  (`c10_at1`)CREATE TABLE `class4_name` (`c4_at4` c4_at4_type(64),`c4_at2` c4_at2_type(64),`c4_at1` c4_at1_type(64),c10_at1` c10_at1_type`c4_at3` c4_at3_type NOT NULL, KEY  `FK_class4_name_c10_at1_idx` (`c10_at1`) ,NPRIMARY  KEY  (`c4_at3`)CREATE TABLE `assoc9` (`c3_at1` c3_at1_type NOT NULL,`c2_at1` c2_at1_type NOT NULL, KEY  `FK_assoc9_c3_at1_idx` (`c3_at1`) KEY  `FK_assoc9_c2_at1_idx` (`c2_at1`)PRIMARY  KEY  (`c3_at1`,`c2_at1`)CREATE TABLE `class9_name` (`c9_at1` c9_at1_type(64),`c2_at1` c2_at1_type NOT NULL, KEY  `FK_class9_name_c2_at1_idx` (`c2_at1`) ,NPRIMARY  KEY  (`c2_at1`)CREATE TABLE `class8_name` (`c8_at1` c8_at1_type(64),`c2_at1` c2_at1_type NOT NULL ,NPRIMARY  KEY  (`c2_at1`)CREATE TABLE `assoc8` (`c4_at3` c4_at3_type NOT NULL,`c1_at1` c1_at1_type NOT NULL, KEY  `FK_assoc8_c1_at1_idx` (`c1_at1`) ,NPRIMARY  KEY  (`c4_at3`,`c1_at1`)ALTER TABLE `class7_name`ADD CONSTRAINT `FK_class7_name_c2_at1` FOREIGN  KEY  (`c2_at1`)    REFERENCES    `class2_name` (`c2_at1`) ON DELETE CASCADE ON UPDATE CASCADE,ALTER TABLE `class5_name`ADD CONSTRAINT `FK_class5_name_c2_at1` FOREIGN  KEY  (`c2_at1`)    REFERENCES    `class2_name` (`c2_at1`) ON DELETE CASCADE ON UPDATE CASCADE,ALTER TABLE `assoc10`ADD CONSTRAINT `FK_assoc10_c2_at1` FOREIGN  KEY  (`c2_at1`)    REFERENCES    `class2_name` (`c2_at1`) ON DELETE CASCADE ON UPDATE CASCADE,ALTER TABLE `class3_name`ADD CONSTRAINT `FK_class3_name_c1_at1` FOREIGN  KEY  (`c1_at1`)    REFERENCES    `class1_name` (`c1_at1`) ON DELETE CASCADE ON UPDATE CASCADE,ALTER TABLE `assoc1`ADD CONSTRAINT `FK_assoc1_c4_at3` FOREIGN  KEY  (`c4_at3`)    REFERENCES    `class4_name` (`c4_at3`) ON DELETE CASCADE ON UPDATE CASCADE;ADD CONSTRAINT `FK_assoc1_c2_at1` FOREIGN  KEY  (`c2_at1`)    REFERENCES    `class2_name` (`c2_at1`) ON DELETE CASCADE ON UPDATE CASCADE;ALTER TABLE `assoc4`ADD CONSTRAINT `FK_assoc4_c10_at1` FOREIGN  KEY  (`c10_at1`)    REFERENCES    `class10_name` (`c10_at1`) ON DELETE CASCADE ON UPDATE CASCADE;ADD CONSTRAINT `FK_assoc4_c6_at2` FOREIGN  KEY  (`c6_at2`)    REFERENCES    `class6_name` (`c6_at2`) ON DELETE CASCADE ON UPDATE CASCADE;ALTER TABLE `assoc5`ADD CONSTRAINT `FK_assoc5_c6_at2` FOREIGN  KEY  (`c6_at2`)    REFERENCES    `class6_name` (`c6_at2`) ON DELETE CASCADE ON UPDATE CASCADE;ADD CONSTRAINT `FK_assoc5_c1_at1` FOREIGN  KEY  (`c1_at1`)    REFERENCES    `class1_name` (`c1_at1`) ON DELETE CASCADE ON UPDATE CASCADE;ALTER TABLE `assoc6`ALTER TABLE `class7_name`ADD CONSTRAINT `FK_assoc6_c4_at3` FOREIGN  KEY  (`c4_at3`)    REFERENCES    `class4_name` (`c1_at1`) ON DELETE CASCADE ON UPDATE CASCADE;ALTER TABLE `class4_name`ALTER TABLE `assoc9`ADD CONSTRAINT `FK_assoc9_c3_at1` FOREIGN  KEY  (`c3_at1`)    REFERENCES    `class3_name` (`c3_at1`) ON DELETE CASCADE ON UPDATE CASCADE;ADD CONSTRAINT `FK_assoc9_c2_at1` FOREIGN  KEY  (`c2_at1`)    REFERENCES    `class2_name` (`c2_at1`) ON DELETE CASCADE ON UPDATE CASCADE;ALTER TABLE `class9_name`ADD CONSTRAINT `FK_class9_name_c2_at1` FOREIGN  KEY  (`c2_at1`)    REFERENCES    `class2_name` (`c2_at1`) ON DELETE CASCADE ON UPDATE CASCADE;ALTER TABLE `assoc8`ADD CONSTRAINT `FK_assoc8_c1_at1` FOREIGN  KEY  (`c1_at1`)    REFERENCES    `class1_name` (`c1_at1`) ON DELETE CASCADE ON UPDATE CASCADE  [end]\")\n",
            "('module OM_name 0;open Declaration one  sig class1_name extends ClassattrSet = c1_at1+c1_at2id=c1_at1no parentisAbstract = No}one sig c1_at1 extends c1_at1_typeone sig c1_at2 extends c1_at2_typeone sig class2_name extends ClassattrSet = c2_at1+c2_at2id=c2_at1no parentisAbstract = No}one sig c2_at1 extends c2_at1_typeone sig c2_at1 extends c2_at2_typeone sig class3_name extends ClassattrSet = c3_at1+c3_at2+c3_at3+c3_at4c3_at5+c3_at6id=c3_at1no parentisAbstract = No}one sig c3_at1 extends c3_at1_typeone sig c3_at2 extends c3_at2_typeone sig c3_at3 extends c3_at3_typeone sig c3_at4 extends c3_at4_typeone sig c3_at5 extends c3_at5_typeone sig c3_at6 extends c3_at6_typeone sig class4_name extends ClassattrSet = c4_at1+c4_at2+c4_at3+c4_at4id=c4_at3no parentisAbstract = No}one sig c4_at1 extends c4_at1_typeone sig c4_at2 extends c4_at2_typeone sig c4_at3 extends c4_at3_typeone sig c4_at4 extends c4_at4_typeone sig class5_name extends ClassattrSet = c5_at1one  parent parent  in class2_nameid = c2_at1isAbstract = No}one sig c5_at1 extends c5_at1_typeone sig class6_name extends ClassattrSet = c6_at1_0+c6_at2+c6_at3+c6_at4id=c6_at2no parentisAbstract = No}one sig c6_at1_0 extends c6_at1_typeone sig c6_at2 extends c6_at2_typeone sig c6_at3 extends c6_at3_typeone sig c6_at4 extends c6_at4_typeone sig class7_name extends ClassattrSet = c7_at1one  parent parent  in class2_nameid = c2_at1isAbstract = No}one sig c7_at1 extends c7_at1_typeone sig class8_name extends ClassattrSet = c8_at1+c8_at2+c2_at2+c6_at3id=c8_at1no parentisAbstract = No}one sig c8_at1 extends c8_at1_typeone sig c8_at2 extends c8_at2_typeone sig assoc1 extends  Association src  = class8_namedst= class2_namesrc_multiplicity = src_mlpcdst_multiplicity = dst_mlpc}one sig assoc2 extends  Association src  = class2_namedst= class4_namesrc_multiplicity = src_mlpc2dst_multiplicity = dst_mlpc}one sig assoc3 extends  Association src  = class8_namedst= class3_namesrc_multiplicity = src_mlpcdst_multiplicity = dst_mlpc}one sig assoc4 extends  Association src  = class8_namedst= class4_namesrc_multiplicity = src_mlpcdst_multiplicity = dst_mlpc}one sig assoc5 extends  Association src  = class8_namedst= class6_namesrc_multiplicity = src_mlpcdst_multiplicity = dst_mlpc2}one sig assoc6 extends  Association src  = class6_namedst= class1_namesrc_multiplicity = src_mlpcdst_multiplicity = dst_mlpc2}one sig assoc7 extends  Association src  = class6_namedst= class4_namesrc_multiplicity = src_mlpcdst_multiplicity = dst_mlpc}one sig assoc8 extends  Association src  = class1_namedst= class3_namesrc_multiplicity = src_mlpcdst_multiplicity = dst_mlpc}one sig assoc9 extends  Association src  = class1_namedst= class4_namesrc_multiplicity = src_mlpcdst_multiplicity = dst_mlpc}one sig assoc10 extends  Association src  = class2_namedst= class3_namesrc_multiplicity = src_mlpcdst_multiplicity = dst_mlpc2}pred showrun show,Mapping Strategy for class1_name : map_str2Mapping Strategy for class2_name : map_str1Mapping Strategy for class5_name : map_str1Mapping Strategy for class7_name : map_str1Association Strategy for assoc3 : assoc_str1Association Strategy for assoc4 : assoc_str1Association Strategy for assoc5 : assoc_str2Association Strategy for assoc6 : assoc_str2Association Strategy for assoc7 : assoc_str2Association Strategy for assoc8 : assoc_str2Association Strategy for assoc9 : assoc_str2Association Strategy for assoc10 : assoc_str2,USE OM_name:0;CREATE TABLE `class5_name` (c5_at1` c5_at1_type(64),`c2_at1` c2_at1_type NOT NULL, KEY  `FK_class5_name_c2_at1_idx` (`c2_at1`) ,NPRIMARY  KEY  (`c2_at1`)CREATE TABLE `class2_name` (`c2_at1` c2_at1_type NOT NULL ,NPRIMARY  KEY  (`c2_at1`)CREATE TABLE `class6_name` (`c6_at4` c6_at4_type(64),`c6_at1_0` c6_at1_type(64),`c6_at2` c6_at2_type NOT NULL ,NPRIMARY  KEY  (`c6_at2`)CREATE TABLE `assoc8` (`c3_at1` c3_at1_type NOT NULL,`c1_at1` c1_at1_type NOT NULL, KEY  `FK_assoc8_c3_at1_idx` (`c3_at1`), KEY  `FK_assoc8_c1_at1_idx` (`c1_at1`) ,NPRIMARY  KEY  (`c3_at1`,`c1_at1`)CREATE TABLE `class1_name` (`c1_at2` c1_at2_type(64),`c1_at1` c1_at1_type NOT NULL ,NPRIMARY  KEY  (`c1_at1`)CREATE TABLE `class7_name` (`c7_at1` c7_at1_type(64),`c2_at2` c2_at2_type(64),`c2_at1` c2_at1_type NOT NULL ,NPRIMARY  KEY  (`c2_at1`)CREATE TABLE `class3_name` (`c3_at6` c3_at6_type,`c3_at5` c3_at5_type,`c3_at4` c3_at4_type,`c3_at3` c3_at3_type,`c3_at2` c3_at2_type,`c3_at1` c3_at1_type NOT NULL ,NPRIMARY  KEY  (`c3_at1`)CREATE TABLE `assoc3` (`c8_at1` c8_at1_type NOT NULL,`c3_at1` c3_at1_type NOT NULL, KEY  `FK_assoc3_c8_at1_idx` (`c8_at1`), KEY  `FK_assoc3_c3_at1_idx` (`c3_at1`) ,NPRIMARY  KEY  (`c8_at1`,`c3_at1`)CREATE TABLE `assoc2` (`c4_at3` c4_at3_type NOT NULL,`c2_at1` c2_at1_type NOT NULL, KEY  `FK_assoc2_c4_at3_idx` (`c4_at3`), KEY  `FK_assoc2_c2_at1_idx` (`c2_at1`) ,NPRIMARY  KEY  (`c4_at3`,`c2_at1`)CREATE TABLE `assoc1` (`c8_at1` c8_at1_type NOT NULL,`c2_at1` c2_at1_type NOT NULL, KEY  `FK_assoc1_c8_at1_idx` (`c8_at1`), KEY  `FK_assoc1_c2_at1_idx` (`c2_at1`) ,NPRIMARY  KEY  (`c8_at1`,`c2_at1`)CREATE TABLE `assoc6` (`c6_at2` c6_at2_type NOT NULL,`c1_at1` c1_at1_type NOT NULL, KEY  `FK_assoc6_c6_at2_idx` (`c6_at2`), KEY  `FK_assoc6_c1_at1_idx` (`c1_at1`) ,NPRIMARY  KEY  (`c6_at2`,`c1_at1`)CREATE TABLE `assoc7` (`c6_at2` c6_at2_type NOT NULL,`c4_at3` c4_at3_type NOT NULL, KEY  `FK_assoc7_c6_at2_idx` (`c6_at2`), KEY  `FK_assoc7_c4_at3_idx` (`c4_at3`) ,NPRIMARY  KEY  (`c6_at2`,`c4_at3`)CREATE TABLE `assoc10` (`c3_at1` c3_at1_type NOT NULL,`c2_at1` c2_at1_type NOT NULL, KEY  `FK_assoc10_c3_at1_idx` (`c3_at1`), KEY  `FK_assoc10_c2_at1_idx` (`c2_at1`) ,NPRIMARY  KEY  (`c3_at1`,`c2_at1`)Association Strategy for assoc5 : assoc_str2`c8_at1` c8_at1_type NOT NULL,`c6_at2` c6_at2_type NOT NULL, KEY  `FK_assoc5_c8_at1_idx` (`c8_at1`), KEY  `FK_assoc5_c6_at2_idx` (`c6_at2`) ,NPRIMARY  KEY  (`c8_at1`,`c6_at2`)CREATE TABLE `class4_name` (`c4_at4` c4_at4_type(64),`c4_at2` c4_at2_type(64),`c4_at1` c4_at1_type(64),`c8_at1` c8_at1_type,`c4_at3` c4_at3_type NOT NULL, KEY  `FK_class4_name_c8_at1_idx` (`c8_at1`) ,NPRIMARY  KEY  (`c4_at3`)CREATE TABLE `assoc9` (`c4_at3` c4_at3_type NOT NULL,`c1_at1` c1_at1_type NOT NULL, KEY  `FK_assoc9_c4_at3_idx` (`c4_at3`), KEY  `FK_assoc9_c1_at1_idx` (`c1_at1`) ,NPRIMARY  KEY  (`c4_at3`,`c1_at1`)CREATE TABLE `class8_name` (`c8_at2` c8_at2_type(64),`c6_at3` c6_at3_type(64),`c2_at2` c2_at2_type(64),`c8_at1` c8_at1_type NOT NULL ,NPRIMARY  KEY  (`c8_at1`)ALTER TABLE `class5_name`ADD CONSTRAINT `FK_class5_name_c2_at1` FOREIGN  KEY  (`c2_at1`)    REFERENCES    `class2_name` (`c2_at1`) ON DELETE CASCADE ON UPDATE CASCADE,ALTER TABLE `assoc8`ADD CONSTRAINT `FK_assoc8_c3_at1` FOREIGN  KEY  (`c3_at1`)    REFERENCES    `class3_name` (`c3_at1`) ON DELETE CASCADE ON UPDATE CASCADE,ADD CONSTRAINT `FK_assoc8_c1_at1` FOREIGN  KEY  (`c1_at1`)    REFERENCES    `class1_name` (`c1_at1`) ON DELETE CASCADE ON UPDATE CASCADE,ALTER TABLE `assoc3`ADD CONSTRAINT `FK_assoc3_c8_at1` FOREIGN  KEY  (`c8_at1`)    REFERENCES    `class8_name` (`c8_at1`) ON DELETE CASCADE ON UPDATE CASCADE,ADD CONSTRAINT `FK_assoc3_c3_at1` FOREIGN  KEY  (`c3_at1`)    REFERENCES    `class3_name` (`c3_at1`) ON DELETE CASCADE ON UPDATE CASCADE,ALTER TABLE `assoc2`ADD CONSTRAINT `FK_assoc2_c4_at3` FOREIGN  KEY  (`c4_at3`)    REFERENCES    `class4_name` (`c4_at3`) ON DELETE CASCADE ON UPDATE CASCADEADD CONSTRAINT `FK_assoc2_c2_at1` FOREIGN  KEY  (`c2_at1`)    REFERENCES    `class2_name` (`c2_at1`) ON DELETE CASCADE ON UPDATE CASCADE,ALTER TABLE `assoc1`ADD CONSTRAINT `FK_assoc1_c8_at1` FOREIGN  KEY  (`c8_at1`)    REFERENCES    `class8_name` (`c8_at1`) ON DELETE CASCADE ON UPDATE CASCADE,ADD CONSTRAINT `FK_assoc1_c2_at1` FOREIGN  KEY  (`c2_at1`)    REFERENCES    `class2_name` (`c2_at1`) ON DELETE CASCADE ON UPDATE CASCADE;ALTER TABLE `assoc6`ALTER TABLE `class7_name`ADD CONSTRAINT `FK_assoc6_c1_at1` FOREIGN  KEY  (`c1_at1`)    REFERENCES    `class1_name` (`c1_at1`) ON DELETE CASCADE ON UPDATE CASCADE,ALTER TABLE `assoc7`ADD CONSTRAINT `FK_assoc7_c6_at2` FOREIGN  KEY  (`c6_at2`)    REFERENCES    `class6_name` (`c6_at2`) ON DELETE CASCADE ON UPDATE CASCADE,ADD CONSTRAINT `FK_assoc7_c4_at3` FOREIGN  KEY  (`c4_at3`)    REFERENCES    `class4_name` (`c4_at3`) ON DELETE CASCADE ON UPDATE CASCADE;ALTER TABLE `assoc10`ADD CONSTRAINT `FK_assoc10_c3_at1` FOREIGN  KEY  (`c3_at1`)    REFERENCES    `class3_name` (`c3_at1`) ON DELETE CASCADE ON UPDATE CASCADE,ADD CONSTRAINT `FK_assoc10_c2_at1` FOREIGN  KEY  (`c2_at1`)    REFERENCES    `class2_name` (`c2_at1`) ON DELETE CASCADE ON UPDATE CASCADE,ALTER TABLE `assoc5`ADD CONSTRAINT `FK_assoc5_c8_at1` FOREIGN  KEY  (`c8_at1`)    REFERENCES    `class8_name` (`c8_at1`) ON DELETE CASCADE ON UPDATE CASCADE,ADD CONSTRAINT `FK_assoc5_c6_at2` FOREIGN  KEY  (`c6_at2`)    REFERENCES    `class6_name` (`c6_at2`) ON DELETE CASCADE ON UPDATE CASCADE;ALTER TABLE `class4_name`ADD CONSTRAINT `FK_class4_name_c8_at1` FOREIGN  KEY  (`c8_at1`)    REFERENCES    `class8_name` (`c8_at1`) ON DELETE CASCADE ON UPDATE CASCADE,ALTER TABLE `assoc9`ADD CONSTRAINT `FK_assoc9_c4_at3` FOREIGN  KEY  (`c4_at3`)    REFERENCES    `class4_name` (`c4_at3`) ON DELETE CASCADE ON UPDATE CASCADE,ADD CONSTRAINT `FK_assoc9_c1_at1` FOREIGN  KEY  (`c1_at1`)    REFERENCES    `class1_name` (`c1_at1`) ON DELETE CASCADE ON UPDATE CASCADE', '[start] NP, module OM_name 0;open Declaration one  sig class1_name extends ClassattrSet = c1_at1+c1_at2id=c1_at1no parentisAbstract = No}one sig c1_at1 extends c1_at1_typeone sig c1_at2 extends c1_at2_typeone sig class2_name extends ClassattrSet = c2_at1+c2_at2id=c2_at1no parentisAbstract = No}one sig c2_at1 extends c2_at1_typeone sig c2_at1 extends c2_at2_typeone sig class3_name extends ClassattrSet = c3_at1+c3_at2+c3_at3+c3_at4c3_at5+c3_at6id=c3_at1no parentisAbstract = No}one sig c3_at1 extends c3_at1_typeone sig c3_at2 extends c3_at2_typeone sig c3_at3 extends c3_at3_typeone sig c3_at4 extends c3_at4_typeone sig c3_at5 extends c3_at5_typeone sig c3_at6 extends c3_at6_typeone sig class4_name extends ClassattrSet = c4_at1+c4_at2+c4_at3+c4_at4id=c4_at3no parentisAbstract = No}one sig c4_at1 extends c4_at1_typeone sig c4_at2 extends c4_at2_typeone sig c4_at3 extends c4_at3_typeone sig c4_at4 extends c4_at4_typeone sig class5_name extends ClassattrSet = c5_at1one  parent parent  in class2_nameid = c2_at1isAbstract = No}one sig c5_at1 extends c5_at1_typeone sig class6_name extends ClassattrSet = c6_at1_0+c6_at2+c6_at3+c6_at4id=c6_at2no parentisAbstract = No}one sig c6_at1_0 extends c6_at1_typeone sig c6_at2 extends c6_at2_typeone sig c6_at3 extends c6_at3_typeone sig c6_at4 extends c6_at4_typeone sig class7_name extends ClassattrSet = c7_at1one  parent parent  in class2_nameid = c2_at1isAbstract = No}one sig c7_at1 extends c7_at1_typeone sig class8_name extends ClassattrSet = c8_at1+c8_at2+c2_at2+c6_at3id=c8_at1no parentisAbstract = No}one sig c8_at1 extends c8_at1_typeone sig c8_at2 extends c8_at2_typeone sig assoc1 extends  Association src  = class8_namedst= class2_namesrc_multiplicity = src_mlpcdst_multiplicity = dst_mlpc}one sig assoc2 extends  Association src  = class2_namedst= class4_namesrc_multiplicity = src_mlpc2dst_multiplicity = dst_mlpc}one sig assoc3 extends  Association src  = class8_namedst= class3_namesrc_multiplicity = src_mlpcdst_multiplicity = dst_mlpc}one sig assoc4 extends  Association src  = class8_namedst= class4_namesrc_multiplicity = src_mlpcdst_multiplicity = dst_mlpc}one sig assoc5 extends  Association src  = class8_namedst= class6_namesrc_multiplicity = src_mlpcdst_multiplicity = dst_mlpc2}one sig assoc6 extends  Association src  = class6_namedst= class1_namesrc_multiplicity = src_mlpcdst_multiplicity = dst_mlpc2}one sig assoc7 extends  Association src  = class6_namedst= class4_namesrc_multiplicity = src_mlpcdst_multiplicity = dst_mlpc}one sig assoc8 extends  Association src  = class1_namedst= class3_namesrc_multiplicity = src_mlpcdst_multiplicity = dst_mlpc}one sig assoc9 extends  Association src  = class1_namedst= class4_namesrc_multiplicity = src_mlpcdst_multiplicity = dst_mlpc}one sig assoc10 extends  Association src  = class2_namedst= class3_namesrc_multiplicity = src_mlpcdst_multiplicity = dst_mlpc2}pred showrun show,Mapping Strategy for class1_name : map_str2Mapping Strategy for class2_name : map_str1Mapping Strategy for class5_name : map_str1Mapping Strategy for class7_name : map_str1Association Strategy for assoc3 : assoc_str1Association Strategy for assoc4 : assoc_str1Association Strategy for assoc5 : assoc_str2Association Strategy for assoc6 : assoc_str2Association Strategy for assoc7 : assoc_str2Association Strategy for assoc8 : assoc_str2Association Strategy for assoc9 : assoc_str2Association Strategy for assoc10 : assoc_str2,USE OM_name:0;CREATE TABLE `class5_name` (c5_at1` c5_at1_type(64),`c2_at1` c2_at1_type NOT NULL, KEY  `FK_class5_name_c2_at1_idx` (`c2_at1`) ,NPRIMARY  KEY  (`c2_at1`)CREATE TABLE `class2_name` (`c2_at1` c2_at1_type NOT NULL ,NPRIMARY  KEY  (`c2_at1`)CREATE TABLE `class6_name` (`c6_at4` c6_at4_type(64),`c6_at1_0` c6_at1_type(64),`c6_at2` c6_at2_type NOT NULL ,NPRIMARY  KEY  (`c6_at2`)CREATE TABLE `assoc8` (`c3_at1` c3_at1_type NOT NULL,`c1_at1` c1_at1_type NOT NULL, KEY  `FK_assoc8_c3_at1_idx` (`c3_at1`), KEY  `FK_assoc8_c1_at1_idx` (`c1_at1`) ,NPRIMARY  KEY  (`c3_at1`,`c1_at1`)CREATE TABLE `class1_name` (`c1_at2` c1_at2_type(64),`c1_at1` c1_at1_type NOT NULL ,NPRIMARY  KEY  (`c1_at1`)CREATE TABLE `class7_name` (`c7_at1` c7_at1_type(64),`c2_at2` c2_at2_type(64),`c2_at1` c2_at1_type NOT NULL ,NPRIMARY  KEY  (`c2_at1`)CREATE TABLE `class3_name` (`c3_at6` c3_at6_type,`c3_at5` c3_at5_type,`c3_at4` c3_at4_type,`c3_at3` c3_at3_type,`c3_at2` c3_at2_type,`c3_at1` c3_at1_type NOT NULL ,NPRIMARY  KEY  (`c3_at1`)CREATE TABLE `assoc3` (`c8_at1` c8_at1_type NOT NULL,`c3_at1` c3_at1_type NOT NULL, KEY  `FK_assoc3_c8_at1_idx` (`c8_at1`), KEY  `FK_assoc3_c3_at1_idx` (`c3_at1`) ,NPRIMARY  KEY  (`c8_at1`,`c3_at1`)CREATE TABLE `assoc2` (`c4_at3` c4_at3_type NOT NULL,`c2_at1` c2_at1_type NOT NULL, KEY  `FK_assoc2_c4_at3_idx` (`c4_at3`), KEY  `FK_assoc2_c2_at1_idx` (`c2_at1`) ,NPRIMARY  KEY  (`c4_at3`,`c2_at1`)CREATE TABLE `assoc1` (`c8_at1` c8_at1_type NOT NULL,`c2_at1` c2_at1_type NOT NULL, KEY  `FK_assoc1_c8_at1_idx` (`c8_at1`), KEY  `FK_assoc1_c2_at1_idx` (`c2_at1`) ,NPRIMARY  KEY  (`c8_at1`,`c2_at1`)CREATE TABLE `assoc6` (`c6_at2` c6_at2_type NOT NULL,`c1_at1` c1_at1_type NOT NULL, KEY  `FK_assoc6_c6_at2_idx` (`c6_at2`), KEY  `FK_assoc6_c1_at1_idx` (`c1_at1`) ,NPRIMARY  KEY  (`c6_at2`,`c1_at1`)CREATE TABLE `assoc7` (`c6_at2` c6_at2_type NOT NULL,`c4_at3` c4_at3_type NOT NULL, KEY  `FK_assoc7_c6_at2_idx` (`c6_at2`), KEY  `FK_assoc7_c4_at3_idx` (`c4_at3`) ,NPRIMARY  KEY  (`c6_at2`,`c4_at3`)CREATE TABLE `assoc10` (`c3_at1` c3_at1_type NOT NULL,`c2_at1` c2_at1_type NOT NULL, KEY  `FK_assoc10_c3_at1_idx` (`c3_at1`), KEY  `FK_assoc10_c2_at1_idx` (`c2_at1`) ,NPRIMARY  KEY  (`c3_at1`,`c2_at1`)Association Strategy for assoc5 : assoc_str2`c8_at1` c8_at1_type NOT NULL,`c6_at2` c6_at2_type NOT NULL, KEY  `FK_assoc5_c8_at1_idx` (`c8_at1`), KEY  `FK_assoc5_c6_at2_idx` (`c6_at2`) ,NPRIMARY  KEY  (`c8_at1`,`c6_at2`)CREATE TABLE `class4_name` (`c4_at4` c4_at4_type(64),`c4_at2` c4_at2_type(64),`c4_at1` c4_at1_type(64),`c8_at1` c8_at1_type,`c4_at3` c4_at3_type NOT NULL, KEY  `FK_class4_name_c8_at1_idx` (`c8_at1`) ,NPRIMARY  KEY  (`c4_at3`)CREATE TABLE `assoc9` (`c4_at3` c4_at3_type NOT NULL,`c1_at1` c1_at1_type NOT NULL, KEY  `FK_assoc9_c4_at3_idx` (`c4_at3`), KEY  `FK_assoc9_c1_at1_idx` (`c1_at1`) ,NPRIMARY  KEY  (`c4_at3`,`c1_at1`)CREATE TABLE `class8_name` (`c8_at2` c8_at2_type(64),`c6_at3` c6_at3_type(64),`c2_at2` c2_at2_type(64),`c8_at1` c8_at1_type NOT NULL ,NPRIMARY  KEY  (`c8_at1`)ALTER TABLE `class5_name`ADD CONSTRAINT `FK_class5_name_c2_at1` FOREIGN  KEY  (`c2_at1`)    REFERENCES    `class2_name` (`c2_at1`) ON DELETE CASCADE ON UPDATE CASCADE,ALTER TABLE `assoc8`ADD CONSTRAINT `FK_assoc8_c3_at1` FOREIGN  KEY  (`c3_at1`)    REFERENCES    `class3_name` (`c3_at1`) ON DELETE CASCADE ON UPDATE CASCADE,ADD CONSTRAINT `FK_assoc8_c1_at1` FOREIGN  KEY  (`c1_at1`)    REFERENCES    `class1_name` (`c1_at1`) ON DELETE CASCADE ON UPDATE CASCADE,ALTER TABLE `assoc3`ADD CONSTRAINT `FK_assoc3_c8_at1` FOREIGN  KEY  (`c8_at1`)    REFERENCES    `class8_name` (`c8_at1`) ON DELETE CASCADE ON UPDATE CASCADE,ADD CONSTRAINT `FK_assoc3_c3_at1` FOREIGN  KEY  (`c3_at1`)    REFERENCES    `class3_name` (`c3_at1`) ON DELETE CASCADE ON UPDATE CASCADE,ALTER TABLE `assoc2`ADD CONSTRAINT `FK_assoc2_c4_at3` FOREIGN  KEY  (`c4_at3`)    REFERENCES    `class4_name` (`c4_at3`) ON DELETE CASCADE ON UPDATE CASCADEADD CONSTRAINT `FK_assoc2_c2_at1` FOREIGN  KEY  (`c2_at1`)    REFERENCES    `class2_name` (`c2_at1`) ON DELETE CASCADE ON UPDATE CASCADE,ALTER TABLE `assoc1`ADD CONSTRAINT `FK_assoc1_c8_at1` FOREIGN  KEY  (`c8_at1`)    REFERENCES    `class8_name` (`c8_at1`) ON DELETE CASCADE ON UPDATE CASCADE,ADD CONSTRAINT `FK_assoc1_c2_at1` FOREIGN  KEY  (`c2_at1`)    REFERENCES    `class2_name` (`c2_at1`) ON DELETE CASCADE ON UPDATE CASCADE;ALTER TABLE `assoc6`ALTER TABLE `class7_name`ADD CONSTRAINT `FK_assoc6_c1_at1` FOREIGN  KEY  (`c1_at1`)    REFERENCES    `class1_name` (`c1_at1`) ON DELETE CASCADE ON UPDATE CASCADE,ALTER TABLE `assoc7`ADD CONSTRAINT `FK_assoc7_c6_at2` FOREIGN  KEY  (`c6_at2`)    REFERENCES    `class6_name` (`c6_at2`) ON DELETE CASCADE ON UPDATE CASCADE,ADD CONSTRAINT `FK_assoc7_c4_at3` FOREIGN  KEY  (`c4_at3`)    REFERENCES    `class4_name` (`c4_at3`) ON DELETE CASCADE ON UPDATE CASCADE;ALTER TABLE `assoc10`ADD CONSTRAINT `FK_assoc10_c3_at1` FOREIGN  KEY  (`c3_at1`)    REFERENCES    `class3_name` (`c3_at1`) ON DELETE CASCADE ON UPDATE CASCADE,ADD CONSTRAINT `FK_assoc10_c2_at1` FOREIGN  KEY  (`c2_at1`)    REFERENCES    `class2_name` (`c2_at1`) ON DELETE CASCADE ON UPDATE CASCADE,ALTER TABLE `assoc5`ADD CONSTRAINT `FK_assoc5_c8_at1` FOREIGN  KEY  (`c8_at1`)    REFERENCES    `class8_name` (`c8_at1`) ON DELETE CASCADE ON UPDATE CASCADE,ADD CONSTRAINT `FK_assoc5_c6_at2` FOREIGN  KEY  (`c6_at2`)    REFERENCES    `class6_name` (`c6_at2`) ON DELETE CASCADE ON UPDATE CASCADE;ALTER TABLE `class4_name`ADD CONSTRAINT `FK_class4_name_c8_at1` FOREIGN  KEY  (`c8_at1`)    REFERENCES    `class8_name` (`c8_at1`) ON DELETE CASCADE ON UPDATE CASCADE,ALTER TABLE `assoc9`ADD CONSTRAINT `FK_assoc9_c4_at3` FOREIGN  KEY  (`c4_at3`)    REFERENCES    `class4_name` (`c4_at3`) ON DELETE CASCADE ON UPDATE CASCADE,ADD CONSTRAINT `FK_assoc9_c1_at1` FOREIGN  KEY  (`c1_at1`)    REFERENCES    `class1_name` (`c1_at1`) ON DELETE CASCADE ON UPDATE CASCADE  [end]')\n",
            "('moduleOM_name:0,openDeclaration one sig class1_name extends Class attrSet=c1_at1id=c1_at1isAbstract=No no parent } one sig c1_at1extendsc1_at1_type, one sig class01_name extends Class attrSet=c01_at1id=c01_at1isAbstract=No no parent } one sig c01_at1extendsc01_at1_type, one sig assoc1extends Association src =class1_namedst=class01_namesrc_multiplicity=src_mlpcdst_multiplicity=dst_mlpc,} one sig class2_name extends Class attrSet=c2_at1id=c2_at1isAbstract=No no parent } one sig c2_at1extendsc2_at1_type, one sig assoc2extends Association src =class1_namedst=class2_namesrc_multiplicity=src_mlpcdst_multiplicity=dst_mlpc,} one sig class3_name extends Class attrSet=c3_at1+c3_at2id=c3_at1isAbstract=No no parent } one sig c3_at1extendsc3_at1_type one sig c3_at2extendsc3_at2_type, one sig class4_name extends Class attrSet=c4_at1oneparentid=c3_at1isAbstract=Noparentinclass3_name} one sig c4_at1extendsc4_at1_type, one sig assoc3extends Association dst=class2_namedst=class3_namesrc_multiplicity=src_mlpcdst_multiplicity=dst_mlpc,} one sig class5_name extends Class attrSet=c5_at1+c5_at2oneparentid=c3_at1isAbstract=Noparentinclass3_name} one sig c5_at2extendsc5_at2_type one sig c5_at1extendsc5_at1_type one sig assoc4extends Association src =class01_namedst=class3_namesrc_multiplicity=src_mlpcdst_multiplicity=dst_mlpc,} one sig class6_name extends Class attrSet=c6_at1+c6_at2id=categoryIDisAbstract=No no parent } one sig c6_at1extendsc6_at1_type one sig c6_at2extendsc6_at2_type one sig class7_name extends Class attrSet=c7_at1+c7_at2+c7_at3+c7_at4id=c7_at1isAbstract=No no parent } one sig c7_at1extendsc7_at1_type one sig c7_at2extendsc7_at2_type one sig c7_at3extendsc7_at3_type one sig c7_at4extendsc7_at4_type one sig assoc5extends Association src =class7_namesrc=class6_namesrc_multiplicity=src_mlpc2dst_multiplicity=dst_mlpc,} one sig class8_name extends Class attrSet=c8_at1id=c8_at1isAbstract=No no parent } one sig c8_at1extendsInteger one sig assoc6extends Association src =class7_namedst=class8_namesrc_multiplicity=src_mlpcdst_multiplicity=dst_mlpc,} one sig assoc7extends Association src =class7_namedst=class3_namesrc_multiplicity=src_mlpc2dst_multiplicity=dst_mlpc,} one sig class9_name extends Class attrSet=c9_at1+c10_at2oneparentid=c7_at1isAbstract=Noparentinclass7_name} one sig c9_at1extendsc9_at1_type one sig c10_at2extendsc10_at2_type one sig class10_name extends Class attrSet=c10_at1oneparentid=c7_at1isAbstract=Noparentinclass7_name} one sig c10_at1extendsc10_at1_type one sig class11_name extends Class attrSet=c11_at1oneparentid=c7_at1isAbstract=Noparentinclass7_name} one sig c11_at1extendsstring one sig class12_name extends Class attrSet=c12_at1+c12_at2+c12_at3id=c12_at1isAbstract=No no parent } one sig c12_at1extendsc12_at1_type one sig c12_at2extendsc12_at2_type one sig c12_at3extendsc12_at3_type one sig assoc8extends Association src =class7_namesrc=class12_namesrc_multiplicity=src_mlpc2dst_multiplicity=dst_mlpc,} one sig class13_name extends Class attrSet=c13_at1oneparentid=c12_at1isAbstract=Noparentinclass12_name} one sig c13_at1extendsc13_at1_type one sig class14_name extends Class attrSet=c14_at1oneparentid=c12_at1isAbstract=Noparentinclass12_name} one sig c14_at1extendsc14_at1_typepred show run show ,TableName:class1_nameTableName:class01_nameTableNameclass2_nameTableNameclass11_nameMappingStrategyforclass1_name:map_str2MappingStrategyforclass6_name:map_str2MappingStrategyforclass4_name:map_str3MappingStrategyforclass3_name:map_str3MappingStrategyforclass7_name:map_str1MappingStrategyforclass9_name:map_str1MappingStrategyforclass10_name:map_str1MappingStrategyforclass11_name:map_str1MappingStrategyforclass12_name:map_str1MappingStrategyforclass11_name:map_str1MappingStrategyforclass14_name:map_str1AssociationStrategyforassoc1:assoc_str1AssociationStrategyforassoc3:assoc_str1AssociationStrategyforassoc6:assoc_str1AssociationStrategyforassoc2:assoc_str2AssociationStrategyforassoc4:assoc_str2AssociationStrategyforassoc5:assoc_str2AssociationStrategyforassoc7:assoc_str2AssociationStrategyforassoc8:assoc_str2,USEOM_name_0 CREATE TABLE `class01_name`(`c01_at1`c01_at1_type NOT NULL ,`c1_at1`c1_at1_type, KEY `FK_class01_name_c1_at1_idx`(`c1_at1`), PRIMARY  KEY  (`c01_at1`),); CREATE TABLE `class6_name`(`c7_at1`c7_at1_type(64)`c6_at1`c6_at1_type NOT NULL  PRIMARY  KEY  (`c6_at1`),); CREATE TABLE `class1_name`(`c1_at1`c1_at1_type NOT NULL  PRIMARY  KEY  (`c1_at1`),); CREATE TABLE `class7_name`(`c12_at4`c12_at4_type(64),`c10_at2`c10_at2_type,`c11_at1`c11_at1_type(64)`c10_at1`c10_at1_type(64)`c7_at3`c7_at3_type(64)`c7_at2`c7_at2_type`c9_at1`c9_at1_type(20,5),`c7_at4`c7_at4_type(20,5)`c7_at1`c7_at1_type NOT NULL  PRIMARY  KEY  (`c7_at1`),); CREATE TABLE `class4_name`(`c4_at1`c4_at1_type,`c3_at1`c3_at1_type NOT NULL  KEY `FK_class4_name_c3_at1_idx`(`c3_at1`), PRIMARY  KEY  (`c3_at1`),); CREATE TABLE `class2_name`(`c2_at1`c2_at1_type NOT NULL  PRIMARY  KEY  (`c2_at1`),); CREATE TABLE `class8_name`(`c8_at1`c8_at1_type NOT NULL `c7_at1`c7_at1_type KEY `FK_class8_name_c7_at1_idx`(`c7_at1`) PRIMARY  KEY  (`c8_at1`),); CREATE TABLE `assoc7`(`c7_at1`c7_at1_type NOT NULL `c3_at1`c3_at1_type NOT NULL  KEY `FK_assoc7_c7_at1_idx`(`c7_at1`) KEY `FK_assoc7_c3_at1_idx`(`c3_at1`) PRIMARY  KEY  (`c7_at1`,`c3_at1`),); CREATE TABLE `class3_name`(`c3_at2`c3_at2_type`c3_at1`c3_at1_type NOT NULL `c2_at1`c2_at1_type KEY `FK_class3_name_c2_at1_idx`(`c2_at1`) PRIMARY  KEY  (`c3_at1`),); CREATE TABLE `CustomerShippingCartAssociation`(`c2_at1`c2_at1_type NOT NULL `c1_at1`c1_at1_type NOT NULL  KEY `FK_CustomerShippingCartAssociation_shippingCartID_idx`(`shippingCartID`), KEY `FK_CustomerShippingCartAssociation_customerID_idx`(`customerID`), PRIMARY  KEY  (`shippingCartID`,`customerID`)); CREATE TABLE `assoc8`(`c12_at1`c12_at1_type NOT NULL `c7_at1`c7_at1_type NOT NULL  KEY `FK_assoc8_c12_at1_idx`(`c12_at1`) KEY `FK_assoc8_c7_at1_idx`(`c7_at1`) PRIMARY  KEY  (`c12_at1`,`c7_at1`),); CREATE TABLE `class5_name`(`c5_at1`c5_at1_type,`c5_at2`c5_at2_type,`c3_at1`c3_at1_type NOT NULL  KEY `FK_class5_name_c3_at1_idx`(`c3_at1`) PRIMARY  KEY  (`c3_at1`),); CREATE TABLE `class12_name`(`c12_at4`c12_at4_type(64),`c14_at1`c14_at1_type(64)`c12_at3`c12_at3_type(64)`c12_at2`c12_at2_type(64)`c13_at1`c13_at1_type(64)`c12_at1`c12_at1_type NOT NULL  PRIMARY  KEY  (`c12_at1`),); CREATE TABLE `assoc4`(`c3_at1`c3_at1_type NOT NULL `c01_at1`c01_at1_type NOT NULL , KEY `FK_assoc4_c3_at1_idx`(`c3_at1`) KEY `FK_assoc4_c01_at1_idx`(`c01_at1`), PRIMARY  KEY  (`c3_at1`,`c01_at1`)); CREATE TABLE `assoc5`(`c7_at1`c7_at1_type NOT NULL `c6_at1`c6_at1_type NOT NULL  KEY `FK_assoc5_c7_at1_idx`(`c7_at1`) KEY `FK_assoc5_c6_at1_idx`(`c6_at1`) PRIMARY  KEY  (`c7_at1`,`c6_at1`),);ALTERTABLE`class01_name`ADDCONSTRAINT`FK_class01_name_c1_at1` FOREIGN  KEY  (`c1_at1`)   REFERENCES   `class1_name`(`c1_at1`)ON DELETE CASCADE ON UPDATE CASCADE ;ALTERTABLE`class4_name`ADDCONSTRAINT`FK_class4_name_c3_at1` FOREIGN  KEY  (`c3_at1`)   REFERENCES   `class3_name`(`c3_at1`)ON DELETE CASCADE ON UPDATE CASCADE ,ALTERTABLE`class8_name`ADDCONSTRAINT`FK_class8_name_c7_at1` FOREIGN  KEY  (`c7_at1`)   REFERENCES   `class7_name`(`c7_at1`)ON DELETE CASCADE ON UPDATE CASCADE ,ALTERTABLE`assoc7`ADDCONSTRAINT`FK_assoc7_c7_at1` FOREIGN  KEY  (`c7_at1`)   REFERENCES   `class7_name`(`c7_at1`)ON DELETE CASCADE ON UPDATE CASCADE ADDCONSTRAINT`FK_assoc7_c3_at1` FOREIGN  KEY  (`c3_at1`)   REFERENCES   `class3_name`(`c3_at1`)ON DELETE CASCADE ON UPDATE CASCADE ,ALTERTABLE`class3_name`ADDCONSTRAINT`FK_Item_shippingCartID` FOREIGN  KEY  (`shippingCartID`)   REFERENCES   `ShippingCart`(`shippingCartID`)ON DELETE CASCADE ON UPDATE CASCADE ;ALTERTABLE`CustomerShippingCartAssociation`ADDCONSTRAINT`FK_CustomerShippingCartAssociation_shippingCartID` FOREIGN  KEY  (`shippingCartID`)   REFERENCES   `ShippingCart`(`shippingCartID`)ON DELETE CASCADE ON UPDATE CASCADE ,ADDCONSTRAINT`FK_CustomerShippingCartAssociation_customerID` FOREIGN  KEY  (`customerID`)   REFERENCES   `Customer`(`customerID`)ON DELETE CASCADE ON UPDATE CASCADE ;ALTERTABLE`assoc8`ADDCONSTRAINTFK_assoc5_c6_at1` FOREIGN  KEY  (`c6_at1`)   REFERENCES   `class6_name`(`c6_at1`)ON DELETE CASCADE ON UPDATE CASCADE ,ADDCONSTRAINTFK_assoc8_c7_at1` FOREIGN  KEY  (`c7_at1`)   REFERENCES   `class7_name`(`c7_at1`)ON DELETE CASCADE ON UPDATE CASCADE ,ALTERTABLE`class5_name`ADDCONSTRAINTFK_class5_name_c3_at1` FOREIGN  KEY  (`c3_at1`)   REFERENCES   `class3_name`(`c3_at1`)ON DELETE CASCADE ON UPDATE CASCADE ,ALTERTABLE`assoc4`ADDCONSTRAINT`FK_assoc4_c3_at1` FOREIGN  KEY  (`c3_at1`)   REFERENCES   `class3_name`(`c3_at1`)ON DELETE CASCADE ON UPDATE CASCADE ADDCONSTRAINT`FK_assoc4_c01_at1` FOREIGN  KEY  (`c01_at1`)   REFERENCES   `class01_name`(`c01_at1`)ON DELETE CASCADE ON UPDATE CASCADE ,ALTERTABLE`assoc5`ADDCONSTRAINT`FK_assoc5_c7_at1` FOREIGN  KEY  (`c7_at1`)   REFERENCES   `class7_name`(`c7_at1`)ON DELETE CASCADE ON UPDATE CASCADE ADDCONSTRAINTFK_assoc5_c6_at1` FOREIGN  KEY  (`c6_at1`)   REFERENCES   `class6_name`(`c6_at1`)ON DELETE CASCADE ON UPDATE CASCADE ', '[start] P, moduleOM_name:0,openDeclaration one sig class1_name extends Class attrSet=c1_at1id=c1_at1isAbstract=No no parent } one sig c1_at1extendsc1_at1_type, one sig class01_name extends Class attrSet=c01_at1id=c01_at1isAbstract=No no parent } one sig c01_at1extendsc01_at1_type, one sig assoc1extends Association src =class1_namedst=class01_namesrc_multiplicity=src_mlpcdst_multiplicity=dst_mlpc,} one sig class2_name extends Class attrSet=c2_at1id=c2_at1isAbstract=No no parent } one sig c2_at1extendsc2_at1_type, one sig assoc2extends Association src =class1_namedst=class2_namesrc_multiplicity=src_mlpcdst_multiplicity=dst_mlpc,} one sig class3_name extends Class attrSet=c3_at1+c3_at2id=c3_at1isAbstract=No no parent } one sig c3_at1extendsc3_at1_type one sig c3_at2extendsc3_at2_type, one sig class4_name extends Class attrSet=c4_at1oneparentid=c3_at1isAbstract=Noparentinclass3_name} one sig c4_at1extendsc4_at1_type, one sig assoc3extends Association dst=class2_namedst=class3_namesrc_multiplicity=src_mlpcdst_multiplicity=dst_mlpc,} one sig class5_name extends Class attrSet=c5_at1+c5_at2oneparentid=c3_at1isAbstract=Noparentinclass3_name} one sig c5_at2extendsc5_at2_type one sig c5_at1extendsc5_at1_type one sig assoc4extends Association src =class01_namedst=class3_namesrc_multiplicity=src_mlpcdst_multiplicity=dst_mlpc,} one sig class6_name extends Class attrSet=c6_at1+c6_at2id=categoryIDisAbstract=No no parent } one sig c6_at1extendsc6_at1_type one sig c6_at2extendsc6_at2_type one sig class7_name extends Class attrSet=c7_at1+c7_at2+c7_at3+c7_at4id=c7_at1isAbstract=No no parent } one sig c7_at1extendsc7_at1_type one sig c7_at2extendsc7_at2_type one sig c7_at3extendsc7_at3_type one sig c7_at4extendsc7_at4_type one sig assoc5extends Association src =class7_namesrc=class6_namesrc_multiplicity=src_mlpc2dst_multiplicity=dst_mlpc,} one sig class8_name extends Class attrSet=c8_at1id=c8_at1isAbstract=No no parent } one sig c8_at1extendsInteger one sig assoc6extends Association src =class7_namedst=class8_namesrc_multiplicity=src_mlpcdst_multiplicity=dst_mlpc,} one sig assoc7extends Association src =class7_namedst=class3_namesrc_multiplicity=src_mlpc2dst_multiplicity=dst_mlpc,} one sig class9_name extends Class attrSet=c9_at1+c10_at2oneparentid=c7_at1isAbstract=Noparentinclass7_name} one sig c9_at1extendsc9_at1_type one sig c10_at2extendsc10_at2_type one sig class10_name extends Class attrSet=c10_at1oneparentid=c7_at1isAbstract=Noparentinclass7_name} one sig c10_at1extendsc10_at1_type one sig class11_name extends Class attrSet=c11_at1oneparentid=c7_at1isAbstract=Noparentinclass7_name} one sig c11_at1extendsstring one sig class12_name extends Class attrSet=c12_at1+c12_at2+c12_at3id=c12_at1isAbstract=No no parent } one sig c12_at1extendsc12_at1_type one sig c12_at2extendsc12_at2_type one sig c12_at3extendsc12_at3_type one sig assoc8extends Association src =class7_namesrc=class12_namesrc_multiplicity=src_mlpc2dst_multiplicity=dst_mlpc,} one sig class13_name extends Class attrSet=c13_at1oneparentid=c12_at1isAbstract=Noparentinclass12_name} one sig c13_at1extendsc13_at1_type one sig class14_name extends Class attrSet=c14_at1oneparentid=c12_at1isAbstract=Noparentinclass12_name} one sig c14_at1extendsc14_at1_typepred show run show ,TableName:class1_nameTableName:class01_nameTableNameclass2_nameTableNameclass11_nameMappingStrategyforclass1_name:map_str2MappingStrategyforclass6_name:map_str2MappingStrategyforclass4_name:map_str3MappingStrategyforclass3_name:map_str3MappingStrategyforclass7_name:map_str1MappingStrategyforclass9_name:map_str1MappingStrategyforclass10_name:map_str1MappingStrategyforclass11_name:map_str1MappingStrategyforclass12_name:map_str1MappingStrategyforclass11_name:map_str1MappingStrategyforclass14_name:map_str1AssociationStrategyforassoc1:assoc_str1AssociationStrategyforassoc3:assoc_str1AssociationStrategyforassoc6:assoc_str1AssociationStrategyforassoc2:assoc_str2AssociationStrategyforassoc4:assoc_str2AssociationStrategyforassoc5:assoc_str2AssociationStrategyforassoc7:assoc_str2AssociationStrategyforassoc8:assoc_str2,USEOM_name_0 CREATE TABLE `class01_name`(`c01_at1`c01_at1_type NOT NULL ,`c1_at1`c1_at1_type, KEY `FK_class01_name_c1_at1_idx`(`c1_at1`), PRIMARY  KEY  (`c01_at1`),); CREATE TABLE `class6_name`(`c7_at1`c7_at1_type(64)`c6_at1`c6_at1_type NOT NULL  PRIMARY  KEY  (`c6_at1`),); CREATE TABLE `class1_name`(`c1_at1`c1_at1_type NOT NULL  PRIMARY  KEY  (`c1_at1`),); CREATE TABLE `class7_name`(`c12_at4`c12_at4_type(64),`c10_at2`c10_at2_type,`c11_at1`c11_at1_type(64)`c10_at1`c10_at1_type(64)`c7_at3`c7_at3_type(64)`c7_at2`c7_at2_type`c9_at1`c9_at1_type(20,5),`c7_at4`c7_at4_type(20,5)`c7_at1`c7_at1_type NOT NULL  PRIMARY  KEY  (`c7_at1`),); CREATE TABLE `class4_name`(`c4_at1`c4_at1_type,`c3_at1`c3_at1_type NOT NULL  KEY `FK_class4_name_c3_at1_idx`(`c3_at1`), PRIMARY  KEY  (`c3_at1`),); CREATE TABLE `class2_name`(`c2_at1`c2_at1_type NOT NULL  PRIMARY  KEY  (`c2_at1`),); CREATE TABLE `class8_name`(`c8_at1`c8_at1_type NOT NULL `c7_at1`c7_at1_type KEY `FK_class8_name_c7_at1_idx`(`c7_at1`) PRIMARY  KEY  (`c8_at1`),); CREATE TABLE `assoc7`(`c7_at1`c7_at1_type NOT NULL `c3_at1`c3_at1_type NOT NULL  KEY `FK_assoc7_c7_at1_idx`(`c7_at1`) KEY `FK_assoc7_c3_at1_idx`(`c3_at1`) PRIMARY  KEY  (`c7_at1`,`c3_at1`),); CREATE TABLE `class3_name`(`c3_at2`c3_at2_type`c3_at1`c3_at1_type NOT NULL `c2_at1`c2_at1_type KEY `FK_class3_name_c2_at1_idx`(`c2_at1`) PRIMARY  KEY  (`c3_at1`),); CREATE TABLE `CustomerShippingCartAssociation`(`c2_at1`c2_at1_type NOT NULL `c1_at1`c1_at1_type NOT NULL  KEY `FK_CustomerShippingCartAssociation_shippingCartID_idx`(`shippingCartID`), KEY `FK_CustomerShippingCartAssociation_customerID_idx`(`customerID`), PRIMARY  KEY  (`shippingCartID`,`customerID`)); CREATE TABLE `assoc8`(`c12_at1`c12_at1_type NOT NULL `c7_at1`c7_at1_type NOT NULL  KEY `FK_assoc8_c12_at1_idx`(`c12_at1`) KEY `FK_assoc8_c7_at1_idx`(`c7_at1`) PRIMARY  KEY  (`c12_at1`,`c7_at1`),); CREATE TABLE `class5_name`(`c5_at1`c5_at1_type,`c5_at2`c5_at2_type,`c3_at1`c3_at1_type NOT NULL  KEY `FK_class5_name_c3_at1_idx`(`c3_at1`) PRIMARY  KEY  (`c3_at1`),); CREATE TABLE `class12_name`(`c12_at4`c12_at4_type(64),`c14_at1`c14_at1_type(64)`c12_at3`c12_at3_type(64)`c12_at2`c12_at2_type(64)`c13_at1`c13_at1_type(64)`c12_at1`c12_at1_type NOT NULL  PRIMARY  KEY  (`c12_at1`),); CREATE TABLE `assoc4`(`c3_at1`c3_at1_type NOT NULL `c01_at1`c01_at1_type NOT NULL , KEY `FK_assoc4_c3_at1_idx`(`c3_at1`) KEY `FK_assoc4_c01_at1_idx`(`c01_at1`), PRIMARY  KEY  (`c3_at1`,`c01_at1`)); CREATE TABLE `assoc5`(`c7_at1`c7_at1_type NOT NULL `c6_at1`c6_at1_type NOT NULL  KEY `FK_assoc5_c7_at1_idx`(`c7_at1`) KEY `FK_assoc5_c6_at1_idx`(`c6_at1`) PRIMARY  KEY  (`c7_at1`,`c6_at1`),);ALTERTABLE`class01_name`ADDCONSTRAINT`FK_class01_name_c1_at1` FOREIGN  KEY  (`c1_at1`)   REFERENCES   `class1_name`(`c1_at1`)ON DELETE CASCADE ON UPDATE CASCADE ;ALTERTABLE`class4_name`ADDCONSTRAINT`FK_class4_name_c3_at1` FOREIGN  KEY  (`c3_at1`)   REFERENCES   `class3_name`(`c3_at1`)ON DELETE CASCADE ON UPDATE CASCADE ,ALTERTABLE`class8_name`ADDCONSTRAINT`FK_class8_name_c7_at1` FOREIGN  KEY  (`c7_at1`)   REFERENCES   `class7_name`(`c7_at1`)ON DELETE CASCADE ON UPDATE CASCADE ,ALTERTABLE`assoc7`ADDCONSTRAINT`FK_assoc7_c7_at1` FOREIGN  KEY  (`c7_at1`)   REFERENCES   `class7_name`(`c7_at1`)ON DELETE CASCADE ON UPDATE CASCADE ADDCONSTRAINT`FK_assoc7_c3_at1` FOREIGN  KEY  (`c3_at1`)   REFERENCES   `class3_name`(`c3_at1`)ON DELETE CASCADE ON UPDATE CASCADE ,ALTERTABLE`class3_name`ADDCONSTRAINT`FK_Item_shippingCartID` FOREIGN  KEY  (`shippingCartID`)   REFERENCES   `ShippingCart`(`shippingCartID`)ON DELETE CASCADE ON UPDATE CASCADE ;ALTERTABLE`CustomerShippingCartAssociation`ADDCONSTRAINT`FK_CustomerShippingCartAssociation_shippingCartID` FOREIGN  KEY  (`shippingCartID`)   REFERENCES   `ShippingCart`(`shippingCartID`)ON DELETE CASCADE ON UPDATE CASCADE ,ADDCONSTRAINT`FK_CustomerShippingCartAssociation_customerID` FOREIGN  KEY  (`customerID`)   REFERENCES   `Customer`(`customerID`)ON DELETE CASCADE ON UPDATE CASCADE ;ALTERTABLE`assoc8`ADDCONSTRAINTFK_assoc5_c6_at1` FOREIGN  KEY  (`c6_at1`)   REFERENCES   `class6_name`(`c6_at1`)ON DELETE CASCADE ON UPDATE CASCADE ,ADDCONSTRAINTFK_assoc8_c7_at1` FOREIGN  KEY  (`c7_at1`)   REFERENCES   `class7_name`(`c7_at1`)ON DELETE CASCADE ON UPDATE CASCADE ,ALTERTABLE`class5_name`ADDCONSTRAINTFK_class5_name_c3_at1` FOREIGN  KEY  (`c3_at1`)   REFERENCES   `class3_name`(`c3_at1`)ON DELETE CASCADE ON UPDATE CASCADE ,ALTERTABLE`assoc4`ADDCONSTRAINT`FK_assoc4_c3_at1` FOREIGN  KEY  (`c3_at1`)   REFERENCES   `class3_name`(`c3_at1`)ON DELETE CASCADE ON UPDATE CASCADE ADDCONSTRAINT`FK_assoc4_c01_at1` FOREIGN  KEY  (`c01_at1`)   REFERENCES   `class01_name`(`c01_at1`)ON DELETE CASCADE ON UPDATE CASCADE ,ALTERTABLE`assoc5`ADDCONSTRAINT`FK_assoc5_c7_at1` FOREIGN  KEY  (`c7_at1`)   REFERENCES   `class7_name`(`c7_at1`)ON DELETE CASCADE ON UPDATE CASCADE ADDCONSTRAINTFK_assoc5_c6_at1` FOREIGN  KEY  (`c6_at1`)   REFERENCES   `class6_name`(`c6_at1`)ON DELETE CASCADE ON UPDATE CASCADE  [end]')\n",
            "('module OM_name 0;open Declaration one  sig class1_name extends ClassattrSet = c1_at1+c1_at2id=c1_at1no parentisAbstract = No}one sig c1_at1 extends c1_at1_typeone sig c1_at2 extends c1_at2_typeone sig class2_name extends ClassattrSet = c2_at1+c2_at2id=c2_at1no parentisAbstract = No}one sig c2_at1 extends c2_at1_typeone sig c2_at1 extends c2_at2_typeone sig class3_name extends ClassattrSet = c3_at1+c3_at2+c3_at3+c3_at4c3_at5+c3_at6id=c3_at1no parentisAbstract = No}one sig c3_at1 extends c3_at1_typeone sig c3_at2 extends c3_at2_typeone sig c3_at3 extends c3_at3_typeone sig c3_at4 extends c3_at4_typeone sig c3_at5 extends c3_at5_typeone sig c3_at6 extends c3_at6_typeone sig class4_name extends ClassattrSet = c4_at1+c4_at2+c4_at3+c4_at4id=c4_at3no parentisAbstract = No}one sig c4_at1 extends c4_at1_typeone sig c4_at2 extends c4_at2_typeone sig c4_at3 extends c4_at3_typeone sig c4_at4 extends c4_at4_typeone sig class5_name extends ClassattrSet = c5_at1one  parent parent  in class2_nameid = c2_at1isAbstract = No}one sig c5_at1 extends c5_at1_typeone sig class6_name extends ClassattrSet = c6_at1_0+c6_at2+c6_at3+c6_at4id=c6_at2no parentisAbstract = No}one sig c6_at1_0 extends c6_at1_typeone sig c6_at2 extends c6_at2_typeone sig c6_at3 extends c6_at3_typeone sig c6_at4 extends c6_at4_typeone sig class7_name extends ClassattrSet = c7_at1one  parent parent  in class2_nameid = c2_at1isAbstract = No}one sig c7_at1 extends c7_at1_typeone sig class8_name extends ClassattrSet = c8_at1one  parent parent  in class2_nameid = c2_at1isAbstract = No}one sig c8_at1 extends c8_at1_typeone sig class9_name extends ClassattrSet = c9_at1one  parent parent  in class2_nameid = c2_at1isAbstract = No}one sig c9_at1 extends c9_at1_typeone sig class10_name extends ClassattrSet = c10_at1+c10_at2+c2_at2+c6_at3id=c10_at1no parentisAbstract = No}one sig c10_at1 extends c10_at1_typeone sig c10_at2 extends c10_at2_typeone sig assoc10 extends  Association src  = class10_namedst= class2_namesrc_multiplicity = src_mlpcdst_multiplicity = dst_mlpc}one sig assoc1 extends  Association src  = class2_namedst= class4_namesrc_multiplicity = src_mlpc2dst_multiplicity = dst_mlpc}one sig assoc2 extends  Association src  = class10_namedst= class3_namesrc_multiplicity = src_mlpcdst_multiplicity = dst_mlpc}one sig assoc3 extends  Association src  = class10_namedst= class4_namesrc_multiplicity = src_mlpcdst_multiplicity = dst_mlpc}one sig assoc4 extends  Association src  = class10_namedst= class6_namesrc_multiplicity = src_mlpcdst_multiplicity = dst_mlpc2}one sig assoc5 extends  Association src  = class6_namedst= class1_namesrc_multiplicity = src_mlpcdst_multiplicity = dst_mlpc2}one sig assoc6 extends  Association src  = class6_namedst= class4_namesrc_multiplicity = src_mlpcdst_multiplicity = dst_mlpc}one sig assoc7 extends  Association src  = class1_namedst= class3_namesrc_multiplicity = src_mlpcdst_multiplicity = dst_mlpc}one sig assoc8 extends  Association src  = class1_namedst= class4_namesrc_multiplicity = src_mlpcdst_multiplicity = dst_mlpc}one sig assoc9 extends  Association src  = class2_namedst= class3_namesrc_multiplicity = src_mlpcdst_multiplicity = dst_mlpc2}pred showrun show,Mapping Strategy for class1_name : map_str2Mapping Strategy for class2_name : map_str2Mapping Strategy for class6_name : map_str2Mapping Strategy for class7_name : map_str2Mapping Strategy for class5_name : map_str3Mapping Strategy for class8_name : map_str3Association Strategy for assoc2 : assoc_str1Association Strategy for assoc3 : assoc_str1Association Strategy for assoc6 : assoc_str1Association Strategy for assoc1 : assoc_str2Association Strategy for assoc4 : assoc_str2Association Strategy for assoc5 : assoc_str2Association Strategy for assoc7 : assoc_str2Association Strategy for assoc9 : assoc_str2,USE OM_name:0;CREATE TABLE `class7_name` (`c7_at1` c7_at1_type(64),`c2_at2` c2_at2_type(64),`c2_at1` c2_at1_type NOT NULL ,NPRIMARY  KEY  (`c2_at1`)CREATE TABLE `class5_name` (c5_at1` c5_at1_type(64),`c2_at2` c2_at2_type(64),`c2_at1` c2_at1_type NOT NULL ,NPRIMARY  KEY  (`c2_at1`)CREATE TABLE `assoc3` (c10_at1` c10_at1_type`c4_at3` c4_at3_type NOT NULL,CREATE TABLE `class2_name` (`c2_at2` c2_at2_type(64),`c2_at1` c2_at1_type NOT NULL ,NPRIMARY  KEY  (`c2_at1`)CREATE TABLE `assoc10` (c10_at1` c10_at1_type`c2_at1` c2_at1_type NOT NULL, KEY  `FK_assoc10_c2_at1_idx` (`c2_at1`),CREATE TABLE `class3_name` (`c3_at6` c3_at6_type,`c3_at5` c3_at5_type,`c3_at4` c3_at4_type,`c3_at3` c3_at3_type,`c3_at2` c3_at2_type,`c3_at1` c3_at1_type NOT NULL ,NPRIMARY  KEY  (`c3_at1`)CREATE TABLE `class1_name` (`c1_at2` c1_at2_type(64),`c1_at1` c1_at1_type NOT NULL ,NPRIMARY  KEY  (`c1_at1`)CREATE TABLE `assoc7` (`c3_at1` c3_at1_type NOT NULL,`c1_at1` c1_at1_type NOT NULL, KEY  `FK_assoc7_c3_at1_idx` (`c3_at1`), KEY  `FK_assoc7_c1_at1_idx` (`c1_at1`) ,NPRIMARY  KEY  (`c3_at1`,`c1_at1`)CREATE TABLE `class6_name` (`c6_at4` c6_at4_type(64),`c6_at1_0` c6_at1_type(64),`c6_at2` c6_at2_type NOT NULL ,NPRIMARY  KEY  (`c6_at2`)CREATE TABLE `assoc1` (`c4_at3` c4_at3_type NOT NULL,`c2_at1` c2_at1_type NOT NULL, KEY  `FK_assoc1_c4_at3_idx` (`c4_at3`), KEY  `FK_assoc1_c2_at1_idx` (`c2_at1`) ,NPRIMARY  KEY  (`c4_at3`,`c2_at1`)CREATE TABLE `assoc4` (c10_at1` c10_at1_type`c6_at2` c6_at2_type NOT NULL, KEY  `FK_assoc4_c10_at1_idx` (`c10_at1`), KEY  `FK_assoc4_c6_at2_idx` (`c6_at2`) ,NPRIMARY  KEY  (`c10_at1`,`c6_at2`)CREATE TABLE `assoc2` (c10_at1` c10_at1_type`c3_at1` c3_at1_type NOT NULL,Association Strategy for assoc5 : assoc_str2`c6_at2` c6_at2_type NOT NULL,`c1_at1` c1_at1_type NOT NULL, KEY  `FK_assoc5_c6_at2_idx` (`c6_at2`), KEY  `FK_assoc5_c1_at1_idx` (`c1_at1`) ,NPRIMARY  KEY  (`c6_at2`,`c1_at1`)CREATE TABLE `class10_name` (`c10_at2` c10_at2_type(64),`c6_at3` c6_at3_type(64),c10_at1` c10_at1_typePRIMARY  KEY  (`c10_at1`)CREATE TABLE `class4_name` (`c4_at4` c4_at4_type(64),`c4_at2` c4_at2_type(64),`c4_at1` c4_at1_type(64),`c6_at2` c6_at2_type,`c4_at3` c4_at3_type NOT NULL, KEY  `FK_class4_name_c6_at2_idx` (`c6_at2`) ,NPRIMARY  KEY  (`c4_at3`)CREATE TABLE `assoc9` (`c3_at1` c3_at1_type NOT NULL,`c2_at1` c2_at1_type NOT NULL, KEY  `FK_assoc9_c3_at1_idx` (`c3_at1`) KEY  `FK_assoc9_c2_at1_idx` (`c2_at1`)PRIMARY  KEY  (`c3_at1`,`c2_at1`)CREATE TABLE `class9_name` (`c9_at1` c9_at1_type(64),`c2_at2` c2_at2_type(64),`c2_at1` c2_at1_type NOT NULL ,NPRIMARY  KEY  (`c2_at1`)CREATE TABLE `class8_name` (`c8_at1` c8_at1_type(64),`c2_at1` c2_at1_type NOT NULL ,NPRIMARY  KEY  (`c2_at1`)CREATE TABLE `assoc8` (`c4_at3` c4_at3_type NOT NULL,`c1_at1` c1_at1_type NOT NULL, KEY  `FK_assoc8_c1_at1_idx` (`c1_at1`) ,NPRIMARY  KEY  (`c4_at3`,`c1_at1`)ALTER TABLE `assoc3`ALTER TABLE `assoc10`ADD CONSTRAINT `FK_assoc10_c2_at1` FOREIGN  KEY  (`c2_at1`)    REFERENCES    `class2_name` (`c2_at1`) ON DELETE CASCADE ON UPDATE CASCADE,ALTER TABLE `assoc7`ADD CONSTRAINT `FK_assoc7_c3_at1` FOREIGN  KEY  (`c3_at1`)    REFERENCES    `class3_name` (`c3_at1`) ON DELETE CASCADE ON UPDATE CASCADE;ADD CONSTRAINT `FK_assoc7_c1_at1` FOREIGN  KEY  (`c1_at1`)    REFERENCES    `class1_name` (`c1_at1`) ON DELETE CASCADE ON UPDATE CASCADE;ALTER TABLE `assoc1`ADD CONSTRAINT `FK_assoc1_c4_at3` FOREIGN  KEY  (`c4_at3`)    REFERENCES    `class4_name` (`c4_at3`) ON DELETE CASCADE ON UPDATE CASCADE;ADD CONSTRAINT `FK_assoc1_c2_at1` FOREIGN  KEY  (`c2_at1`)    REFERENCES    `class2_name` (`c2_at1`) ON DELETE CASCADE ON UPDATE CASCADE;ALTER TABLE `assoc4`ADD CONSTRAINT `FK_assoc4_c10_at1` FOREIGN  KEY  (`c10_at1`)    REFERENCES    `class10_name` (`c10_at1`) ON DELETE CASCADE ON UPDATE CASCADE;ADD CONSTRAINT `FK_assoc4_c6_at2` FOREIGN  KEY  (`c6_at2`)    REFERENCES    `class6_name` (`c6_at2`) ON DELETE CASCADE ON UPDATE CASCADE;ALTER TABLE `assoc2`ALTER TABLE `assoc5`ADD CONSTRAINT `FK_assoc5_c6_at2` FOREIGN  KEY  (`c6_at2`)    REFERENCES    `class6_name` (`c6_at2`) ON DELETE CASCADE ON UPDATE CASCADE;ADD CONSTRAINT `FK_assoc5_c1_at1` FOREIGN  KEY  (`c1_at1`)    REFERENCES    `class1_name` (`c1_at1`) ON DELETE CASCADE ON UPDATE CASCADE;ALTER TABLE `class4_name`ADD CONSTRAINT `FK_class4_name_c6_at2` FOREIGN  KEY  (`c6_at2`)    REFERENCES    `class6_name` (`c6_at2`) ON DELETE CASCADE ON UPDATE CASCADE;ALTER TABLE `assoc9`ADD CONSTRAINT `FK_assoc9_c3_at1` FOREIGN  KEY  (`c3_at1`)    REFERENCES    `class3_name` (`c3_at1`) ON DELETE CASCADE ON UPDATE CASCADE;ADD CONSTRAINT `FK_assoc9_c2_at1` FOREIGN  KEY  (`c2_at1`)    REFERENCES    `class2_name` (`c2_at1`) ON DELETE CASCADE ON UPDATE CASCADE;ALTER TABLE `assoc8`ADD CONSTRAINT `FK_assoc8_c1_at1` FOREIGN  KEY  (`c1_at1`)    REFERENCES    `class1_name` (`c1_at1`) ON DELETE CASCADE ON UPDATE CASCADE', '[start] NP, module OM_name 0;open Declaration one  sig class1_name extends ClassattrSet = c1_at1+c1_at2id=c1_at1no parentisAbstract = No}one sig c1_at1 extends c1_at1_typeone sig c1_at2 extends c1_at2_typeone sig class2_name extends ClassattrSet = c2_at1+c2_at2id=c2_at1no parentisAbstract = No}one sig c2_at1 extends c2_at1_typeone sig c2_at1 extends c2_at2_typeone sig class3_name extends ClassattrSet = c3_at1+c3_at2+c3_at3+c3_at4c3_at5+c3_at6id=c3_at1no parentisAbstract = No}one sig c3_at1 extends c3_at1_typeone sig c3_at2 extends c3_at2_typeone sig c3_at3 extends c3_at3_typeone sig c3_at4 extends c3_at4_typeone sig c3_at5 extends c3_at5_typeone sig c3_at6 extends c3_at6_typeone sig class4_name extends ClassattrSet = c4_at1+c4_at2+c4_at3+c4_at4id=c4_at3no parentisAbstract = No}one sig c4_at1 extends c4_at1_typeone sig c4_at2 extends c4_at2_typeone sig c4_at3 extends c4_at3_typeone sig c4_at4 extends c4_at4_typeone sig class5_name extends ClassattrSet = c5_at1one  parent parent  in class2_nameid = c2_at1isAbstract = No}one sig c5_at1 extends c5_at1_typeone sig class6_name extends ClassattrSet = c6_at1_0+c6_at2+c6_at3+c6_at4id=c6_at2no parentisAbstract = No}one sig c6_at1_0 extends c6_at1_typeone sig c6_at2 extends c6_at2_typeone sig c6_at3 extends c6_at3_typeone sig c6_at4 extends c6_at4_typeone sig class7_name extends ClassattrSet = c7_at1one  parent parent  in class2_nameid = c2_at1isAbstract = No}one sig c7_at1 extends c7_at1_typeone sig class8_name extends ClassattrSet = c8_at1one  parent parent  in class2_nameid = c2_at1isAbstract = No}one sig c8_at1 extends c8_at1_typeone sig class9_name extends ClassattrSet = c9_at1one  parent parent  in class2_nameid = c2_at1isAbstract = No}one sig c9_at1 extends c9_at1_typeone sig class10_name extends ClassattrSet = c10_at1+c10_at2+c2_at2+c6_at3id=c10_at1no parentisAbstract = No}one sig c10_at1 extends c10_at1_typeone sig c10_at2 extends c10_at2_typeone sig assoc10 extends  Association src  = class10_namedst= class2_namesrc_multiplicity = src_mlpcdst_multiplicity = dst_mlpc}one sig assoc1 extends  Association src  = class2_namedst= class4_namesrc_multiplicity = src_mlpc2dst_multiplicity = dst_mlpc}one sig assoc2 extends  Association src  = class10_namedst= class3_namesrc_multiplicity = src_mlpcdst_multiplicity = dst_mlpc}one sig assoc3 extends  Association src  = class10_namedst= class4_namesrc_multiplicity = src_mlpcdst_multiplicity = dst_mlpc}one sig assoc4 extends  Association src  = class10_namedst= class6_namesrc_multiplicity = src_mlpcdst_multiplicity = dst_mlpc2}one sig assoc5 extends  Association src  = class6_namedst= class1_namesrc_multiplicity = src_mlpcdst_multiplicity = dst_mlpc2}one sig assoc6 extends  Association src  = class6_namedst= class4_namesrc_multiplicity = src_mlpcdst_multiplicity = dst_mlpc}one sig assoc7 extends  Association src  = class1_namedst= class3_namesrc_multiplicity = src_mlpcdst_multiplicity = dst_mlpc}one sig assoc8 extends  Association src  = class1_namedst= class4_namesrc_multiplicity = src_mlpcdst_multiplicity = dst_mlpc}one sig assoc9 extends  Association src  = class2_namedst= class3_namesrc_multiplicity = src_mlpcdst_multiplicity = dst_mlpc2}pred showrun show,Mapping Strategy for class1_name : map_str2Mapping Strategy for class2_name : map_str2Mapping Strategy for class6_name : map_str2Mapping Strategy for class7_name : map_str2Mapping Strategy for class5_name : map_str3Mapping Strategy for class8_name : map_str3Association Strategy for assoc2 : assoc_str1Association Strategy for assoc3 : assoc_str1Association Strategy for assoc6 : assoc_str1Association Strategy for assoc1 : assoc_str2Association Strategy for assoc4 : assoc_str2Association Strategy for assoc5 : assoc_str2Association Strategy for assoc7 : assoc_str2Association Strategy for assoc9 : assoc_str2,USE OM_name:0;CREATE TABLE `class7_name` (`c7_at1` c7_at1_type(64),`c2_at2` c2_at2_type(64),`c2_at1` c2_at1_type NOT NULL ,NPRIMARY  KEY  (`c2_at1`)CREATE TABLE `class5_name` (c5_at1` c5_at1_type(64),`c2_at2` c2_at2_type(64),`c2_at1` c2_at1_type NOT NULL ,NPRIMARY  KEY  (`c2_at1`)CREATE TABLE `assoc3` (c10_at1` c10_at1_type`c4_at3` c4_at3_type NOT NULL,CREATE TABLE `class2_name` (`c2_at2` c2_at2_type(64),`c2_at1` c2_at1_type NOT NULL ,NPRIMARY  KEY  (`c2_at1`)CREATE TABLE `assoc10` (c10_at1` c10_at1_type`c2_at1` c2_at1_type NOT NULL, KEY  `FK_assoc10_c2_at1_idx` (`c2_at1`),CREATE TABLE `class3_name` (`c3_at6` c3_at6_type,`c3_at5` c3_at5_type,`c3_at4` c3_at4_type,`c3_at3` c3_at3_type,`c3_at2` c3_at2_type,`c3_at1` c3_at1_type NOT NULL ,NPRIMARY  KEY  (`c3_at1`)CREATE TABLE `class1_name` (`c1_at2` c1_at2_type(64),`c1_at1` c1_at1_type NOT NULL ,NPRIMARY  KEY  (`c1_at1`)CREATE TABLE `assoc7` (`c3_at1` c3_at1_type NOT NULL,`c1_at1` c1_at1_type NOT NULL, KEY  `FK_assoc7_c3_at1_idx` (`c3_at1`), KEY  `FK_assoc7_c1_at1_idx` (`c1_at1`) ,NPRIMARY  KEY  (`c3_at1`,`c1_at1`)CREATE TABLE `class6_name` (`c6_at4` c6_at4_type(64),`c6_at1_0` c6_at1_type(64),`c6_at2` c6_at2_type NOT NULL ,NPRIMARY  KEY  (`c6_at2`)CREATE TABLE `assoc1` (`c4_at3` c4_at3_type NOT NULL,`c2_at1` c2_at1_type NOT NULL, KEY  `FK_assoc1_c4_at3_idx` (`c4_at3`), KEY  `FK_assoc1_c2_at1_idx` (`c2_at1`) ,NPRIMARY  KEY  (`c4_at3`,`c2_at1`)CREATE TABLE `assoc4` (c10_at1` c10_at1_type`c6_at2` c6_at2_type NOT NULL, KEY  `FK_assoc4_c10_at1_idx` (`c10_at1`), KEY  `FK_assoc4_c6_at2_idx` (`c6_at2`) ,NPRIMARY  KEY  (`c10_at1`,`c6_at2`)CREATE TABLE `assoc2` (c10_at1` c10_at1_type`c3_at1` c3_at1_type NOT NULL,Association Strategy for assoc5 : assoc_str2`c6_at2` c6_at2_type NOT NULL,`c1_at1` c1_at1_type NOT NULL, KEY  `FK_assoc5_c6_at2_idx` (`c6_at2`), KEY  `FK_assoc5_c1_at1_idx` (`c1_at1`) ,NPRIMARY  KEY  (`c6_at2`,`c1_at1`)CREATE TABLE `class10_name` (`c10_at2` c10_at2_type(64),`c6_at3` c6_at3_type(64),c10_at1` c10_at1_typePRIMARY  KEY  (`c10_at1`)CREATE TABLE `class4_name` (`c4_at4` c4_at4_type(64),`c4_at2` c4_at2_type(64),`c4_at1` c4_at1_type(64),`c6_at2` c6_at2_type,`c4_at3` c4_at3_type NOT NULL, KEY  `FK_class4_name_c6_at2_idx` (`c6_at2`) ,NPRIMARY  KEY  (`c4_at3`)CREATE TABLE `assoc9` (`c3_at1` c3_at1_type NOT NULL,`c2_at1` c2_at1_type NOT NULL, KEY  `FK_assoc9_c3_at1_idx` (`c3_at1`) KEY  `FK_assoc9_c2_at1_idx` (`c2_at1`)PRIMARY  KEY  (`c3_at1`,`c2_at1`)CREATE TABLE `class9_name` (`c9_at1` c9_at1_type(64),`c2_at2` c2_at2_type(64),`c2_at1` c2_at1_type NOT NULL ,NPRIMARY  KEY  (`c2_at1`)CREATE TABLE `class8_name` (`c8_at1` c8_at1_type(64),`c2_at1` c2_at1_type NOT NULL ,NPRIMARY  KEY  (`c2_at1`)CREATE TABLE `assoc8` (`c4_at3` c4_at3_type NOT NULL,`c1_at1` c1_at1_type NOT NULL, KEY  `FK_assoc8_c1_at1_idx` (`c1_at1`) ,NPRIMARY  KEY  (`c4_at3`,`c1_at1`)ALTER TABLE `assoc3`ALTER TABLE `assoc10`ADD CONSTRAINT `FK_assoc10_c2_at1` FOREIGN  KEY  (`c2_at1`)    REFERENCES    `class2_name` (`c2_at1`) ON DELETE CASCADE ON UPDATE CASCADE,ALTER TABLE `assoc7`ADD CONSTRAINT `FK_assoc7_c3_at1` FOREIGN  KEY  (`c3_at1`)    REFERENCES    `class3_name` (`c3_at1`) ON DELETE CASCADE ON UPDATE CASCADE;ADD CONSTRAINT `FK_assoc7_c1_at1` FOREIGN  KEY  (`c1_at1`)    REFERENCES    `class1_name` (`c1_at1`) ON DELETE CASCADE ON UPDATE CASCADE;ALTER TABLE `assoc1`ADD CONSTRAINT `FK_assoc1_c4_at3` FOREIGN  KEY  (`c4_at3`)    REFERENCES    `class4_name` (`c4_at3`) ON DELETE CASCADE ON UPDATE CASCADE;ADD CONSTRAINT `FK_assoc1_c2_at1` FOREIGN  KEY  (`c2_at1`)    REFERENCES    `class2_name` (`c2_at1`) ON DELETE CASCADE ON UPDATE CASCADE;ALTER TABLE `assoc4`ADD CONSTRAINT `FK_assoc4_c10_at1` FOREIGN  KEY  (`c10_at1`)    REFERENCES    `class10_name` (`c10_at1`) ON DELETE CASCADE ON UPDATE CASCADE;ADD CONSTRAINT `FK_assoc4_c6_at2` FOREIGN  KEY  (`c6_at2`)    REFERENCES    `class6_name` (`c6_at2`) ON DELETE CASCADE ON UPDATE CASCADE;ALTER TABLE `assoc2`ALTER TABLE `assoc5`ADD CONSTRAINT `FK_assoc5_c6_at2` FOREIGN  KEY  (`c6_at2`)    REFERENCES    `class6_name` (`c6_at2`) ON DELETE CASCADE ON UPDATE CASCADE;ADD CONSTRAINT `FK_assoc5_c1_at1` FOREIGN  KEY  (`c1_at1`)    REFERENCES    `class1_name` (`c1_at1`) ON DELETE CASCADE ON UPDATE CASCADE;ALTER TABLE `class4_name`ADD CONSTRAINT `FK_class4_name_c6_at2` FOREIGN  KEY  (`c6_at2`)    REFERENCES    `class6_name` (`c6_at2`) ON DELETE CASCADE ON UPDATE CASCADE;ALTER TABLE `assoc9`ADD CONSTRAINT `FK_assoc9_c3_at1` FOREIGN  KEY  (`c3_at1`)    REFERENCES    `class3_name` (`c3_at1`) ON DELETE CASCADE ON UPDATE CASCADE;ADD CONSTRAINT `FK_assoc9_c2_at1` FOREIGN  KEY  (`c2_at1`)    REFERENCES    `class2_name` (`c2_at1`) ON DELETE CASCADE ON UPDATE CASCADE;ALTER TABLE `assoc8`ADD CONSTRAINT `FK_assoc8_c1_at1` FOREIGN  KEY  (`c1_at1`)    REFERENCES    `class1_name` (`c1_at1`) ON DELETE CASCADE ON UPDATE CASCADE  [end]')\n"
          ]
        }
      ],
      "source": [
        "for _ in range(5):\n",
        "    print(random.choice(text_pairs))"
      ]
    },
    {
      "cell_type": "markdown",
      "metadata": {
        "id": "6W_CONhiHqa7"
      },
      "source": [
        "Now, let's split the sentence pairs into a training set, a validation set,\n",
        "and a test set."
      ]
    },
    {
      "cell_type": "code",
      "execution_count": 16,
      "metadata": {
        "colab": {
          "base_uri": "https://localhost:8080/"
        },
        "id": "URk0VYj5Hqa7",
        "outputId": "4dd43e90-00e8-4b8e-dd8e-3353288c5e27"
      },
      "outputs": [
        {
          "output_type": "stream",
          "name": "stdout",
          "text": [
            "30700 total pairs\n",
            "21490 training pairs\n",
            "4605 validation pairs\n",
            "4605 test pairs\n"
          ]
        }
      ],
      "source": [
        "random.shuffle(text_pairs)\n",
        "num_val_samples = int(0.15 * len(text_pairs))\n",
        "num_train_samples = len(text_pairs) - 2 * num_val_samples\n",
        "train_pairs = text_pairs[:num_train_samples]\n",
        "val_pairs = text_pairs[num_train_samples : num_train_samples + num_val_samples]\n",
        "test_pairs = text_pairs[num_train_samples + num_val_samples :]\n",
        "\n",
        "print(f\"{len(text_pairs)} total pairs\")\n",
        "print(f\"{len(train_pairs)} training pairs\")\n",
        "print(f\"{len(val_pairs)} validation pairs\")\n",
        "print(f\"{len(test_pairs)} test pairs\")"
      ]
    },
    {
      "cell_type": "markdown",
      "metadata": {
        "id": "Sph5JNZfHqa7"
      },
      "source": [
        "## Vectorizing the text data\n",
        "\n",
        "We'll use two instances of the `TextVectorization` layer to vectorize the text\n",
        "data (one for English and one for Spanish),\n",
        "that is to say, to turn the original strings into integer sequences\n",
        "where each integer represents the index of a word in a vocabulary.\n",
        "\n",
        "The English layer will use the default string standardization (strip punctuation characters)\n",
        "and splitting scheme (split on whitespace), while\n",
        "the Spanish layer will use a custom standardization, where we add the character\n",
        "`\"¿\"` to the set of punctuation characters to be stripped.\n",
        "\n",
        "Note: in a production-grade machine translation model, I would not recommend\n",
        "stripping the punctuation characters in either language. Instead, I would recommend turning\n",
        "each punctuation character into its own token,\n",
        "which you could achieve by providing a custom `split` function to the `TextVectorization` layer."
      ]
    },
    {
      "cell_type": "code",
      "execution_count": 17,
      "metadata": {
        "id": "MjmfEsJaHqa7"
      },
      "outputs": [],
      "source": [
        "strip_chars = string.punctuation + \"\"\n",
        "strip_chars = strip_chars.replace(\"[\", \"\")\n",
        "strip_chars = strip_chars.replace(\"]\", \"\")\n",
        "\n",
        "vocab_size = 15000\n",
        "sequence_length = 200\n",
        "batch_size = 64\n",
        "\n",
        "\n",
        "def custom_standardization(input_string):\n",
        "    lowercase = tf.strings.lower(input_string)\n",
        "    return tf.strings.regex_replace(lowercase, \"[%s]\" % re.escape(strip_chars), \"\")\n",
        "\n",
        "\n",
        "eng_vectorization = TextVectorization(\n",
        "    max_tokens=vocab_size, output_mode=\"int\", output_sequence_length=sequence_length,\n",
        ")\n",
        "spa_vectorization = TextVectorization(\n",
        "    max_tokens=vocab_size,\n",
        "    output_mode=\"int\",\n",
        "    output_sequence_length=sequence_length + 1,\n",
        "    standardize=custom_standardization,\n",
        ")\n",
        "train_eng_texts = [pair[0] for pair in train_pairs]\n",
        "train_spa_texts = [pair[1] for pair in train_pairs]\n",
        "eng_vectorization.adapt(train_eng_texts)\n",
        "spa_vectorization.adapt(train_spa_texts)"
      ]
    },
    {
      "cell_type": "markdown",
      "metadata": {
        "id": "FaQljM4HHqa8"
      },
      "source": [
        "Next, we'll format our datasets.\n",
        "\n",
        "At each training step, the model will seek to predict target words N+1 (and beyond)\n",
        "using the source sentence and the target words 0 to N.\n",
        "\n",
        "As such, the training dataset will yield a tuple `(inputs, targets)`, where:\n",
        "\n",
        "- `inputs` is a dictionary with the keys `encoder_inputs` and `decoder_inputs`.\n",
        "`encoder_inputs` is the vectorized source sentence and `encoder_inputs` is the target sentence \"so far\",\n",
        "that is to say, the words 0 to N used to predict word N+1 (and beyond) in the target sentence.\n",
        "- `target` is the target sentence offset by one step:\n",
        "it provides the next words in the target sentence -- what the model will try to predict."
      ]
    },
    {
      "cell_type": "code",
      "execution_count": 18,
      "metadata": {
        "id": "HIrpGv30Hqa8"
      },
      "outputs": [],
      "source": [
        "\n",
        "def format_dataset(eng, spa):\n",
        "    eng = eng_vectorization(eng)\n",
        "    spa = spa_vectorization(spa)\n",
        "    return ({\"encoder_inputs\": eng, \"decoder_inputs\": spa[:, :-1],}, spa[:, 1:])\n",
        "\n",
        "\n",
        "def make_dataset(pairs):\n",
        "    eng_texts, spa_texts = zip(*pairs)\n",
        "    eng_texts = list(eng_texts)\n",
        "    spa_texts = list(spa_texts)\n",
        "    dataset = tf.data.Dataset.from_tensor_slices((eng_texts, spa_texts))\n",
        "    dataset = dataset.batch(batch_size)\n",
        "    dataset = dataset.map(format_dataset)\n",
        "    return dataset.shuffle(2048).prefetch(16).cache()\n",
        "\n",
        "\n",
        "train_ds = make_dataset(train_pairs)\n",
        "val_ds = make_dataset(val_pairs)"
      ]
    },
    {
      "cell_type": "markdown",
      "metadata": {
        "id": "x7VKHafcHqa8"
      },
      "source": [
        "Let's take a quick look at the sequence shapes\n",
        "(we have batches of 64 pairs, and all sequences are 20 steps long):"
      ]
    },
    {
      "cell_type": "code",
      "execution_count": 19,
      "metadata": {
        "colab": {
          "base_uri": "https://localhost:8080/"
        },
        "id": "BNuIpcepHqa8",
        "outputId": "353f4d3a-8b21-45cf-d3db-571fcbb110a9"
      },
      "outputs": [
        {
          "output_type": "stream",
          "name": "stdout",
          "text": [
            "inputs[\"encoder_inputs\"].shape: (64, 200)\n",
            "inputs[\"decoder_inputs\"].shape: (64, 200)\n",
            "targets.shape: (64, 200)\n"
          ]
        }
      ],
      "source": [
        "for inputs, targets in train_ds.take(1):\n",
        "    print(f'inputs[\"encoder_inputs\"].shape: {inputs[\"encoder_inputs\"].shape}')\n",
        "    print(f'inputs[\"decoder_inputs\"].shape: {inputs[\"decoder_inputs\"].shape}')\n",
        "    print(f\"targets.shape: {targets.shape}\")"
      ]
    },
    {
      "cell_type": "markdown",
      "metadata": {
        "id": "pCZrNjuJHqa8"
      },
      "source": [
        "## Building the model\n",
        "\n",
        "Our sequence-to-sequence Transformer consists of a `TransformerEncoder`\n",
        "and a `TransformerDecoder` chained together. To make the model aware of word order,\n",
        "we also use a `PositionalEmbedding` layer.\n",
        "\n",
        "The source sequence will be pass to the `TransformerEncoder`,\n",
        "which will produce a new representation of it.\n",
        "This new representation will then be passed\n",
        "to the `TransformerDecoder`, together with the target sequence so far (target words 0 to N).\n",
        "The `TransformerDecoder` will then seek to predict the next words in the target sequence (N+1 and beyond).\n",
        "\n",
        "A key detail that makes this possible is causal masking\n",
        "(see method `get_causal_attention_mask()` on the `TransformerDecoder`).\n",
        "The `TransformerDecoder` sees the entire sequences at once, and thus we must make\n",
        "sure that it only uses information from target tokens 0 to N when predicting token N+1\n",
        "(otherwise, it could use information from the future, which would\n",
        "result in a model that cannot be used at inference time)."
      ]
    },
    {
      "cell_type": "code",
      "execution_count": 20,
      "metadata": {
        "id": "u7QpLXimHqa8"
      },
      "outputs": [],
      "source": [
        "\n",
        "class TransformerEncoder(layers.Layer):\n",
        "    def __init__(self, embed_dim, dense_dim, num_heads, **kwargs):\n",
        "        super().__init__(**kwargs)\n",
        "        self.embed_dim = embed_dim\n",
        "        self.dense_dim = dense_dim\n",
        "        self.num_heads = num_heads\n",
        "        self.attention = layers.MultiHeadAttention(\n",
        "            num_heads=num_heads, key_dim=embed_dim\n",
        "        )\n",
        "        self.dense_proj = keras.Sequential(\n",
        "            [layers.Dense(dense_dim, activation=\"relu\"), layers.Dense(embed_dim),]\n",
        "        )\n",
        "        self.layernorm_1 = layers.LayerNormalization()\n",
        "        self.layernorm_2 = layers.LayerNormalization()\n",
        "        self.supports_masking = True\n",
        "\n",
        "    def call(self, inputs, mask=None):\n",
        "        if mask is not None:\n",
        "            padding_mask = tf.cast(mask[:, tf.newaxis, :], dtype=\"int32\")\n",
        "        attention_output = self.attention(\n",
        "            query=inputs, value=inputs, key=inputs, attention_mask=padding_mask\n",
        "        )\n",
        "        proj_input = self.layernorm_1(inputs + attention_output)\n",
        "        proj_output = self.dense_proj(proj_input)\n",
        "        return self.layernorm_2(proj_input + proj_output)\n",
        "    def get_config(self):\n",
        "        config = super().get_config()\n",
        "        config.update({\n",
        "            \"embed_dim\": self.embed_dim,\n",
        "            \"dense_dim\": self.dense_dim,\n",
        "            \"num_heads\": self.num_heads,\n",
        "        })\n",
        "        return config\n",
        "\n",
        "\n",
        "class PositionalEmbedding(layers.Layer):\n",
        "    def __init__(self, sequence_length, vocab_size, embed_dim, **kwargs):\n",
        "        super().__init__(**kwargs)\n",
        "        self.token_embeddings = layers.Embedding(\n",
        "            input_dim=vocab_size, output_dim=embed_dim\n",
        "        )\n",
        "        self.position_embeddings = layers.Embedding(\n",
        "            input_dim=sequence_length, output_dim=embed_dim\n",
        "        )\n",
        "        self.sequence_length = sequence_length\n",
        "        self.vocab_size = vocab_size\n",
        "        self.embed_dim = embed_dim\n",
        "\n",
        "    def call(self, inputs):\n",
        "        length = tf.shape(inputs)[-1]\n",
        "        positions = tf.range(start=0, limit=length, delta=1)\n",
        "        embedded_tokens = self.token_embeddings(inputs)\n",
        "        embedded_positions = self.position_embeddings(positions)\n",
        "        return embedded_tokens + embedded_positions\n",
        "\n",
        "    def compute_mask(self, inputs, mask=None):\n",
        "        return tf.math.not_equal(inputs, 0)\n",
        "    def get_config(self):\n",
        "        config = super().get_config()\n",
        "        config.update({\n",
        "            \"sequence_length\": self.sequence_length,\n",
        "            \"vocab_size\": self.vocab_size,\n",
        "            \"embed_dim\": self.embed_dim,\n",
        "        })\n",
        "        return config\n",
        "\n",
        "\n",
        "class TransformerDecoder(layers.Layer):\n",
        "    def __init__(self, embed_dim, latent_dim, num_heads, **kwargs):\n",
        "        super().__init__(**kwargs)\n",
        "        self.embed_dim = embed_dim\n",
        "        self.latent_dim = latent_dim\n",
        "        self.num_heads = num_heads\n",
        "        self.attention_1 = layers.MultiHeadAttention(\n",
        "            num_heads=num_heads, key_dim=embed_dim\n",
        "        )\n",
        "        self.attention_2 = layers.MultiHeadAttention(\n",
        "            num_heads=num_heads, key_dim=embed_dim\n",
        "        )\n",
        "        self.dense_proj = keras.Sequential(\n",
        "            [layers.Dense(latent_dim, activation=\"relu\"), layers.Dense(embed_dim),]\n",
        "        )\n",
        "        self.layernorm_1 = layers.LayerNormalization()\n",
        "        self.layernorm_2 = layers.LayerNormalization()\n",
        "        self.layernorm_3 = layers.LayerNormalization()\n",
        "        self.supports_masking = True\n",
        "\n",
        "    def call(self, inputs, encoder_outputs, mask=None):\n",
        "        causal_mask = self.get_causal_attention_mask(inputs)\n",
        "        if mask is not None:\n",
        "            padding_mask = tf.cast(mask[:, tf.newaxis, :], dtype=\"int32\")\n",
        "            padding_mask = tf.minimum(padding_mask, causal_mask)\n",
        "\n",
        "        attention_output_1 = self.attention_1(\n",
        "            query=inputs, value=inputs, key=inputs, attention_mask=causal_mask\n",
        "        )\n",
        "        out_1 = self.layernorm_1(inputs + attention_output_1)\n",
        "\n",
        "        attention_output_2 = self.attention_2(\n",
        "            query=out_1,\n",
        "            value=encoder_outputs,\n",
        "            key=encoder_outputs,\n",
        "            attention_mask=padding_mask,\n",
        "        )\n",
        "        out_2 = self.layernorm_2(out_1 + attention_output_2)\n",
        "\n",
        "        proj_output = self.dense_proj(out_2)\n",
        "        return self.layernorm_3(out_2 + proj_output)\n",
        "\n",
        "    def get_causal_attention_mask(self, inputs):\n",
        "        input_shape = tf.shape(inputs)\n",
        "        batch_size, sequence_length = input_shape[0], input_shape[1]\n",
        "        i = tf.range(sequence_length)[:, tf.newaxis]\n",
        "        j = tf.range(sequence_length)\n",
        "        mask = tf.cast(i >= j, dtype=\"int32\")\n",
        "        mask = tf.reshape(mask, (1, input_shape[1], input_shape[1]))\n",
        "        mult = tf.concat(\n",
        "            [tf.expand_dims(batch_size, -1), tf.constant([1, 1], dtype=tf.int32)],\n",
        "            axis=0,\n",
        "        )\n",
        "        return tf.tile(mask, mult)\n",
        "    def get_config(self):\n",
        "        config = super().get_config()\n",
        "        config.update({\n",
        "            \"embed_dim\": self.embed_dim,\n",
        "            \"latent_dim\": self.latent_dim,\n",
        "            \"num_heads\": self.num_heads,\n",
        "        })\n",
        "        return config\n"
      ]
    },
    {
      "cell_type": "markdown",
      "metadata": {
        "id": "6nWPRP0IHqa9"
      },
      "source": [
        "Next, we assemble the end-to-end model."
      ]
    },
    {
      "cell_type": "code",
      "execution_count": 21,
      "metadata": {
        "id": "jwMSG2sEHqa9"
      },
      "outputs": [],
      "source": [
        "embed_dim = 256\n",
        "latent_dim = 2048\n",
        "num_heads = 8\n",
        "\n",
        "encoder_inputs = keras.Input(shape=(None,), dtype=\"int64\", name=\"encoder_inputs\")\n",
        "x = PositionalEmbedding(sequence_length, vocab_size, embed_dim)(encoder_inputs)\n",
        "encoder_outputs = TransformerEncoder(embed_dim, latent_dim, num_heads)(x)\n",
        "encoder = keras.Model(encoder_inputs, encoder_outputs)\n",
        "\n",
        "decoder_inputs = keras.Input(shape=(None,), dtype=\"int64\", name=\"decoder_inputs\")\n",
        "encoded_seq_inputs = keras.Input(shape=(None, embed_dim), name=\"decoder_state_inputs\")\n",
        "x = PositionalEmbedding(sequence_length, vocab_size, embed_dim)(decoder_inputs)\n",
        "x = TransformerDecoder(embed_dim, latent_dim, num_heads)(x, encoded_seq_inputs)\n",
        "x = layers.Dropout(0.5)(x)\n",
        "decoder_outputs = layers.Dense(vocab_size, activation=\"softmax\")(x)\n",
        "decoder = keras.Model([decoder_inputs, encoded_seq_inputs], decoder_outputs)\n",
        "\n",
        "decoder_outputs = decoder([decoder_inputs, encoder_outputs])\n",
        "transformer = keras.Model(\n",
        "    [encoder_inputs, decoder_inputs], decoder_outputs, name=\"transformer\"\n",
        ")"
      ]
    },
    {
      "cell_type": "markdown",
      "metadata": {
        "id": "Vxau2QMGHqa9"
      },
      "source": [
        "## Training our model\n",
        "\n",
        "We'll use accuracy as a quick way to monitor training progress on the validation data.\n",
        "Note that machine translation typically uses BLEU scores as well as other metrics, rather than accuracy.\n",
        "\n",
        "Here we only train for 1 epoch, but to get the model to actually converge\n",
        "you should train for at least 30 epochs."
      ]
    },
    {
      "cell_type": "code",
      "execution_count": null,
      "metadata": {
        "colab": {
          "base_uri": "https://localhost:8080/"
        },
        "id": "yJC2FQxmHqa9",
        "outputId": "bffcb85a-08de-44df-faa8-628624be40bd"
      },
      "outputs": [
        {
          "output_type": "stream",
          "name": "stdout",
          "text": [
            "Model: \"transformer\"\n",
            "__________________________________________________________________________________________________\n",
            " Layer (type)                   Output Shape         Param #     Connected to                     \n",
            "==================================================================================================\n",
            " encoder_inputs (InputLayer)    [(None, None)]       0           []                               \n",
            "                                                                                                  \n",
            " positional_embedding_2 (Positi  (None, None, 256)   3891200     ['encoder_inputs[0][0]']         \n",
            " onalEmbedding)                                                                                   \n",
            "                                                                                                  \n",
            " decoder_inputs (InputLayer)    [(None, None)]       0           []                               \n",
            "                                                                                                  \n",
            " transformer_encoder_1 (Transfo  (None, None, 256)   3155456     ['positional_embedding_2[0][0]'] \n",
            " rmerEncoder)                                                                                     \n",
            "                                                                                                  \n",
            " model_3 (Functional)           (None, None, 15000)  13005720    ['decoder_inputs[0][0]',         \n",
            "                                                                  'transformer_encoder_1[0][0]']  \n",
            "                                                                                                  \n",
            "==================================================================================================\n",
            "Total params: 20,052,376\n",
            "Trainable params: 20,052,376\n",
            "Non-trainable params: 0\n",
            "__________________________________________________________________________________________________\n",
            "Epoch 1/100\n",
            "336/336 [==============================] - 212s 553ms/step - loss: 0.4883 - accuracy: 0.9457 - val_loss: 0.0063 - val_accuracy: 0.9988\n",
            "Epoch 2/100\n",
            "336/336 [==============================] - 181s 539ms/step - loss: 0.0054 - accuracy: 0.9989 - val_loss: 0.0033 - val_accuracy: 0.9989\n",
            "Epoch 3/100\n",
            "336/336 [==============================] - 187s 556ms/step - loss: 0.0030 - accuracy: 0.9991 - val_loss: 0.0024 - val_accuracy: 0.9990\n",
            "Epoch 4/100\n",
            "336/336 [==============================] - 187s 557ms/step - loss: 0.0022 - accuracy: 0.9992 - val_loss: 0.0022 - val_accuracy: 0.9990\n",
            "Epoch 5/100\n",
            "336/336 [==============================] - 187s 557ms/step - loss: 0.0019 - accuracy: 0.9992 - val_loss: 0.0021 - val_accuracy: 0.9991\n",
            "Epoch 6/100\n",
            "336/336 [==============================] - 187s 556ms/step - loss: 0.0017 - accuracy: 0.9992 - val_loss: 0.0020 - val_accuracy: 0.9991\n",
            "Epoch 7/100\n",
            "336/336 [==============================] - 182s 542ms/step - loss: 0.0014 - accuracy: 0.9993 - val_loss: 0.0020 - val_accuracy: 0.9991\n",
            "Epoch 8/100\n",
            "336/336 [==============================] - 182s 542ms/step - loss: 0.0013 - accuracy: 0.9993 - val_loss: 0.0019 - val_accuracy: 0.9991\n",
            "Epoch 9/100\n",
            "336/336 [==============================] - 181s 540ms/step - loss: 1.2420 - accuracy: 0.7606 - val_loss: 3.9292 - val_accuracy: 0.1803\n",
            "Epoch 10/100\n",
            "336/336 [==============================] - 180s 537ms/step - loss: 3.8369 - accuracy: 0.1880 - val_loss: 2.8527 - val_accuracy: 0.3051\n",
            "Epoch 11/100\n",
            "336/336 [==============================] - 181s 540ms/step - loss: 2.1459 - accuracy: 0.3887 - val_loss: 1.4996 - val_accuracy: 0.4743\n",
            "Epoch 12/100\n",
            "336/336 [==============================] - 186s 554ms/step - loss: 1.1325 - accuracy: 0.5885 - val_loss: 1.0984 - val_accuracy: 0.6058\n",
            "Epoch 13/100\n",
            "336/336 [==============================] - 182s 541ms/step - loss: 0.7207 - accuracy: 0.7420 - val_loss: 0.3930 - val_accuracy: 0.8789\n",
            "Epoch 14/100\n",
            "336/336 [==============================] - 182s 542ms/step - loss: 0.2838 - accuracy: 0.9155 - val_loss: 0.1433 - val_accuracy: 0.9602\n",
            "Epoch 15/100\n",
            "336/336 [==============================] - 182s 541ms/step - loss: 0.1506 - accuracy: 0.9598 - val_loss: 0.0590 - val_accuracy: 0.9872\n",
            "Epoch 16/100\n",
            "336/336 [==============================] - 182s 541ms/step - loss: 0.2431 - accuracy: 0.9345 - val_loss: 0.0760 - val_accuracy: 0.9896\n",
            "Epoch 17/100\n",
            "336/336 [==============================] - 182s 540ms/step - loss: 0.0593 - accuracy: 0.9897 - val_loss: 0.0325 - val_accuracy: 0.9929\n",
            "Epoch 18/100\n",
            "336/336 [==============================] - 181s 540ms/step - loss: 0.2229 - accuracy: 0.9403 - val_loss: 0.2372 - val_accuracy: 0.9181\n",
            "Epoch 19/100\n",
            "336/336 [==============================] - 182s 541ms/step - loss: 0.0955 - accuracy: 0.9747 - val_loss: 0.0333 - val_accuracy: 0.9904\n",
            "Epoch 20/100\n",
            "336/336 [==============================] - 182s 541ms/step - loss: 0.0774 - accuracy: 0.9789 - val_loss: 0.0286 - val_accuracy: 0.9915\n",
            "Epoch 21/100\n",
            "336/336 [==============================] - 186s 555ms/step - loss: 0.0474 - accuracy: 0.9866 - val_loss: 0.0469 - val_accuracy: 0.9864\n",
            "Epoch 22/100\n",
            "336/336 [==============================] - 182s 541ms/step - loss: 0.0298 - accuracy: 0.9921 - val_loss: 0.0218 - val_accuracy: 0.9925\n",
            "Epoch 23/100\n",
            "336/336 [==============================] - 182s 541ms/step - loss: 0.0866 - accuracy: 0.9773 - val_loss: 0.0233 - val_accuracy: 0.9941\n",
            "Epoch 24/100\n",
            "336/336 [==============================] - 182s 542ms/step - loss: 0.0245 - accuracy: 0.9924 - val_loss: 0.0195 - val_accuracy: 0.9929\n",
            "Epoch 25/100\n",
            "336/336 [==============================] - 182s 541ms/step - loss: 0.1481 - accuracy: 0.9595 - val_loss: 0.0327 - val_accuracy: 0.9949\n",
            "Epoch 26/100\n",
            "336/336 [==============================] - 182s 542ms/step - loss: 0.0256 - accuracy: 0.9953 - val_loss: 0.0170 - val_accuracy: 0.9963\n",
            "Epoch 27/100\n",
            "336/336 [==============================] - 182s 541ms/step - loss: 0.0168 - accuracy: 0.9963 - val_loss: 0.0143 - val_accuracy: 0.9969\n",
            "Epoch 28/100\n",
            "336/336 [==============================] - 187s 555ms/step - loss: 0.0137 - accuracy: 0.9967 - val_loss: 0.0116 - val_accuracy: 0.9972\n",
            "Epoch 29/100\n",
            "336/336 [==============================] - 182s 542ms/step - loss: 0.0131 - accuracy: 0.9966 - val_loss: 0.0120 - val_accuracy: 0.9967\n",
            "Epoch 30/100\n",
            "336/336 [==============================] - 182s 540ms/step - loss: 0.0180 - accuracy: 0.9950 - val_loss: 0.0152 - val_accuracy: 0.9962\n",
            "Epoch 31/100\n",
            "336/336 [==============================] - 182s 541ms/step - loss: 0.0135 - accuracy: 0.9964 - val_loss: 0.0109 - val_accuracy: 0.9971\n",
            "Epoch 32/100\n",
            "336/336 [==============================] - 182s 541ms/step - loss: 0.1308 - accuracy: 0.9685 - val_loss: 0.0851 - val_accuracy: 0.9744\n",
            "Epoch 33/100\n",
            "336/336 [==============================] - 182s 541ms/step - loss: 0.0804 - accuracy: 0.9784 - val_loss: 0.0146 - val_accuracy: 0.9969\n",
            "Epoch 34/100\n",
            "336/336 [==============================] - 182s 541ms/step - loss: 0.0144 - accuracy: 0.9962 - val_loss: 0.0119 - val_accuracy: 0.9969\n",
            "Epoch 35/100\n",
            "336/336 [==============================] - 181s 540ms/step - loss: 0.0111 - accuracy: 0.9968 - val_loss: 0.0096 - val_accuracy: 0.9978\n",
            "Epoch 36/100\n",
            "336/336 [==============================] - 182s 540ms/step - loss: 0.0627 - accuracy: 0.9833 - val_loss: 0.3561 - val_accuracy: 0.8916\n",
            "Epoch 37/100\n",
            "336/336 [==============================] - 186s 555ms/step - loss: 0.0717 - accuracy: 0.9816 - val_loss: 0.0145 - val_accuracy: 0.9968\n",
            "Epoch 38/100\n",
            "336/336 [==============================] - 182s 541ms/step - loss: 0.0325 - accuracy: 0.9915 - val_loss: 0.0149 - val_accuracy: 0.9968\n",
            "Epoch 39/100\n",
            "336/336 [==============================] - 182s 541ms/step - loss: 0.0138 - accuracy: 0.9967 - val_loss: 0.0102 - val_accuracy: 0.9975\n",
            "Epoch 40/100\n",
            "336/336 [==============================] - 181s 540ms/step - loss: 0.0093 - accuracy: 0.9975 - val_loss: 0.0083 - val_accuracy: 0.9979\n",
            "Epoch 41/100\n",
            "336/336 [==============================] - 182s 541ms/step - loss: 0.0132 - accuracy: 0.9966 - val_loss: 0.0093 - val_accuracy: 0.9978\n",
            "Epoch 42/100\n",
            "336/336 [==============================] - 182s 541ms/step - loss: 0.0443 - accuracy: 0.9883 - val_loss: 0.0109 - val_accuracy: 0.9975\n",
            "Epoch 43/100\n",
            "336/336 [==============================] - 181s 540ms/step - loss: 0.0107 - accuracy: 0.9973 - val_loss: 0.0086 - val_accuracy: 0.9978\n",
            "Epoch 44/100\n",
            "336/336 [==============================] - 182s 540ms/step - loss: 0.0087 - accuracy: 0.9977 - val_loss: 0.0081 - val_accuracy: 0.9980\n",
            "Epoch 45/100\n",
            "336/336 [==============================] - 182s 541ms/step - loss: 0.0072 - accuracy: 0.9980 - val_loss: 0.0067 - val_accuracy: 0.9982\n",
            "Epoch 46/100\n",
            "336/336 [==============================] - 182s 542ms/step - loss: 0.0064 - accuracy: 0.9981 - val_loss: 0.0091 - val_accuracy: 0.9977\n",
            "Epoch 47/100\n",
            "336/336 [==============================] - 182s 541ms/step - loss: 0.0852 - accuracy: 0.9788 - val_loss: 0.0567 - val_accuracy: 0.9817\n",
            "Epoch 48/100\n",
            "336/336 [==============================] - 182s 541ms/step - loss: 0.0304 - accuracy: 0.9918 - val_loss: 0.0099 - val_accuracy: 0.9975\n",
            "Epoch 49/100\n",
            "336/336 [==============================] - 182s 542ms/step - loss: 0.0095 - accuracy: 0.9975 - val_loss: 0.0085 - val_accuracy: 0.9978\n",
            "Epoch 50/100\n",
            "336/336 [==============================] - 187s 556ms/step - loss: 0.0080 - accuracy: 0.9978 - val_loss: 0.0082 - val_accuracy: 0.9979\n",
            "Epoch 51/100\n",
            "336/336 [==============================] - 182s 541ms/step - loss: 0.0083 - accuracy: 0.9977 - val_loss: 0.0388 - val_accuracy: 0.9860\n",
            "Epoch 52/100\n",
            "336/336 [==============================] - 181s 540ms/step - loss: 0.0463 - accuracy: 0.9888 - val_loss: 0.0091 - val_accuracy: 0.9975\n",
            "Epoch 53/100\n",
            "336/336 [==============================] - 181s 540ms/step - loss: 0.0083 - accuracy: 0.9977 - val_loss: 0.0073 - val_accuracy: 0.9980\n",
            "Epoch 54/100\n",
            "336/336 [==============================] - 181s 540ms/step - loss: 0.0239 - accuracy: 0.9935 - val_loss: 0.1477 - val_accuracy: 0.9665\n",
            "Epoch 55/100\n",
            "336/336 [==============================] - 182s 540ms/step - loss: 0.0387 - accuracy: 0.9902 - val_loss: 0.0104 - val_accuracy: 0.9974\n",
            "Epoch 56/100\n",
            "336/336 [==============================] - 182s 540ms/step - loss: 0.0090 - accuracy: 0.9975 - val_loss: 0.0083 - val_accuracy: 0.9979\n",
            "Epoch 57/100\n",
            "336/336 [==============================] - 182s 541ms/step - loss: 0.0093 - accuracy: 0.9975 - val_loss: 0.0079 - val_accuracy: 0.9980\n",
            "Epoch 58/100\n",
            "336/336 [==============================] - 182s 540ms/step - loss: 0.0067 - accuracy: 0.9981 - val_loss: 0.0065 - val_accuracy: 0.9983\n",
            "Epoch 59/100\n",
            "336/336 [==============================] - 182s 540ms/step - loss: 0.0058 - accuracy: 0.9983 - val_loss: 0.0061 - val_accuracy: 0.9984\n",
            "Epoch 60/100\n",
            "336/336 [==============================] - 182s 541ms/step - loss: 0.0710 - accuracy: 0.9818 - val_loss: 0.0141 - val_accuracy: 0.9969\n",
            "Epoch 61/100\n",
            "336/336 [==============================] - 181s 540ms/step - loss: 0.0117 - accuracy: 0.9971 - val_loss: 0.0091 - val_accuracy: 0.9976\n",
            "Epoch 62/100\n",
            "336/336 [==============================] - 181s 540ms/step - loss: 0.0088 - accuracy: 0.9977 - val_loss: 0.0077 - val_accuracy: 0.9980\n",
            "Epoch 63/100\n",
            "336/336 [==============================] - 181s 540ms/step - loss: 0.0080 - accuracy: 0.9977 - val_loss: 0.0067 - val_accuracy: 0.9982\n",
            "Epoch 64/100\n",
            "336/336 [==============================] - 181s 540ms/step - loss: 0.0071 - accuracy: 0.9979 - val_loss: 0.0065 - val_accuracy: 0.9983\n",
            "Epoch 65/100\n",
            "315/336 [===========================>..] - ETA: 10s - loss: 0.0063 - accuracy: 0.9981"
          ]
        }
      ],
      "source": [
        "epochs = 100  # This should be at least 30 for convergence\n",
        "\n",
        "transformer.summary()\n",
        "transformer.compile(\n",
        "    \"adam\", loss=\"sparse_categorical_crossentropy\", metrics=[\"accuracy\"]\n",
        ")\n",
        "transformer.fit(train_ds, epochs=epochs, validation_data=val_ds)"
      ]
    },
    {
      "cell_type": "markdown",
      "metadata": {
        "id": "Qjx1ptXzHqa9"
      },
      "source": [
        "## Decoding test sentences\n",
        "\n",
        "Finally, let's demonstrate how to translate brand new English sentences.\n",
        "We simply feed into the model the vectorized English sentence\n",
        "as well as the target token `\"[start]\"`, then we repeatedly generated the next token, until\n",
        "we hit the token `\"[end]\"`."
      ]
    },
    {
      "cell_type": "code",
      "execution_count": null,
      "metadata": {
        "id": "tSflJcBEHqa9"
      },
      "outputs": [],
      "source": [
        "spa_vocab = spa_vectorization.get_vocabulary()\n",
        "spa_index_lookup = dict(zip(range(len(spa_vocab)), spa_vocab))\n",
        "max_decoded_sentence_length = 200\n",
        "\n",
        "\n",
        "def decode_sequence(input_sentence):\n",
        "    tokenized_input_sentence = eng_vectorization([input_sentence])\n",
        "    decoded_sentence = \"[start]\"\n",
        "    for i in range(max_decoded_sentence_length):\n",
        "        tokenized_target_sentence = spa_vectorization([decoded_sentence])[:, :-1]\n",
        "        predictions = transformer([tokenized_input_sentence, tokenized_target_sentence])\n",
        "\n",
        "        sampled_token_index = np.argmax(predictions[0, i, :])\n",
        "        sampled_token = spa_index_lookup[sampled_token_index]\n",
        "        decoded_sentence += \" \" + sampled_token\n",
        "\n",
        "        if sampled_token == \"[end]\":\n",
        "            break\n",
        "    return decoded_sentence\n",
        "\n",
        "\n",
        "test_eng_texts = [pair[0] for pair in test_pairs]\n",
        "for _ in range(30):\n",
        "    input_sentence = random.choice(test_eng_texts)\n",
        "    translated = decode_sequence(input_sentence)"
      ]
    },
    {
      "cell_type": "markdown",
      "metadata": {
        "id": "5idcwgsIIt7I"
      },
      "source": [
        "## Adding data from Test set "
      ]
    },
    {
      "cell_type": "code",
      "execution_count": null,
      "metadata": {
        "id": "N3p0oR60I0x8"
      },
      "outputs": [],
      "source": [
        "import pandas as pd \n",
        "\n",
        "\n",
        "dc = pd.read_excel('4-OM-test-set.xlsx')"
      ]
    },
    {
      "cell_type": "code",
      "execution_count": null,
      "metadata": {
        "id": "iocoqiuuJYo9"
      },
      "outputs": [],
      "source": [
        "dc.head()"
      ]
    },
    {
      "cell_type": "code",
      "execution_count": null,
      "metadata": {
        "id": "WEcoRd5hJGDT"
      },
      "outputs": [],
      "source": [
        "X_test2 = dc['OM_Regular'].values\n",
        "y_test2 = dc['OM_Prediction'].values"
      ]
    },
    {
      "cell_type": "code",
      "execution_count": null,
      "metadata": {
        "id": "npksdP3PJOq6"
      },
      "outputs": [],
      "source": [
        "print(X_test2.shape)\n",
        "print(y_test2.shape)\n",
        "\n",
        "print(\"X data type: \", X_test2.dtype)\n",
        "print(\"y data type: \", y_test2.dtype)"
      ]
    },
    {
      "cell_type": "code",
      "execution_count": null,
      "metadata": {
        "id": "l6Xn1sFBJQsA"
      },
      "outputs": [],
      "source": [
        "print(y_test2)"
      ]
    },
    {
      "cell_type": "code",
      "execution_count": null,
      "metadata": {
        "id": "t_WywObeJdMJ"
      },
      "outputs": [],
      "source": [
        "inputs = X_test2"
      ]
    },
    {
      "cell_type": "markdown",
      "metadata": {
        "id": "dYRa3kkQJgA2"
      },
      "source": [
        "## Output from Unseen Data "
      ]
    },
    {
      "cell_type": "code",
      "execution_count": null,
      "metadata": {
        "id": "GKIRmrcoJlG3"
      },
      "outputs": [],
      "source": [
        "# import time\n",
        "\n",
        "# start_time = time.time()\n",
        "# mylist_res = []\n",
        "# for sentence in inputs:\n",
        "#     result = decode_sequence(sentence)\n",
        "#     mylist_res.append(result)\n",
        "#     print(result)\n",
        "#     time.sleep(1)  # Add a 1-second delay between each print statement\n",
        "\n",
        "# end_time = time.time()\n",
        "# execution_time = end_time - start_time\n",
        "\n",
        "# print(f\"Execution time: {execution_time} seconds\")\n",
        "# print(mylist_res)"
      ]
    },
    {
      "cell_type": "markdown",
      "metadata": {
        "id": "hkeF3s1IJpWP"
      },
      "source": [
        "## Result Computation"
      ]
    },
    {
      "cell_type": "code",
      "source": [
        "import warnings\n",
        "import numpy as np\n",
        "import pandas as pd\n",
        "import matplotlib.pyplot as plt\n",
        "from sklearn import datasets\n",
        "from sklearn.preprocessing import StandardScaler\n",
        "from sklearn.neighbors import KNeighborsClassifier\n",
        "from sklearn.model_selection import train_test_split, GridSearchCV, cross_val_score, cross_val_predict\n",
        "from sklearn.metrics import confusion_matrix, precision_score, recall_score, f1_score, roc_curve, roc_auc_score\n",
        "from sklearn.metrics import precision_recall_curve, classification_report"
      ],
      "metadata": {
        "id": "KdsbTahpeSiP"
      },
      "execution_count": null,
      "outputs": []
    },
    {
      "cell_type": "code",
      "source": [
        "dd = pd.read_excel('4-OM-test-set-pred.xlsx')"
      ],
      "metadata": {
        "id": "RFlUXSNheTt6"
      },
      "execution_count": null,
      "outputs": []
    },
    {
      "cell_type": "code",
      "source": [
        "X_test_pred2 = dd['OM_Regular'].values\n",
        "y_test_pred2 = dd['OM_Prediction'].values"
      ],
      "metadata": {
        "id": "SznLVsNbeWLx"
      },
      "execution_count": null,
      "outputs": []
    },
    {
      "cell_type": "code",
      "source": [
        "print (y_test_pred2 )"
      ],
      "metadata": {
        "id": "9iykq6NSeY0s"
      },
      "execution_count": null,
      "outputs": []
    },
    {
      "cell_type": "code",
      "source": [
        "precision = precision_score(y_test2, y_test_pred2) \n",
        "print(\"Testing: Precision = %f\" % precision)\n",
        "\n",
        "\n",
        "recall = recall_score(y_test2, y_test_pred2)\n",
        "print(\"Testing: Recall = %f\" % recall)\n",
        "\n",
        "\n",
        "f1 = f1_score(y_test2, y_test_pred2)\n",
        "print(\"Testing: F1 Score = %f\" % f1)\n",
        "\n",
        "print(\"\\nConfusion Matrix (Test Data):\\n\", confusion_matrix(y_test2, y_test_pred2))"
      ],
      "metadata": {
        "id": "drSHPblTebi6"
      },
      "execution_count": null,
      "outputs": []
    },
    {
      "cell_type": "code",
      "source": [
        "print(classification_report(y_test2,y_test_pred2))"
      ],
      "metadata": {
        "id": "QwNDwGXVeeV1"
      },
      "execution_count": null,
      "outputs": []
    }
  ],
  "metadata": {
    "accelerator": "GPU",
    "colab": {
      "provenance": []
    },
    "kernelspec": {
      "display_name": "Python 3",
      "language": "python",
      "name": "python3"
    },
    "language_info": {
      "codemirror_mode": {
        "name": "ipython",
        "version": 3
      },
      "file_extension": ".py",
      "mimetype": "text/x-python",
      "name": "python",
      "nbconvert_exporter": "python",
      "pygments_lexer": "ipython3",
      "version": "3.7.0"
    }
  },
  "nbformat": 4,
  "nbformat_minor": 0
}