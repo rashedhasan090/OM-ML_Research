{
  "cells": [
    {
      "cell_type": "markdown",
      "metadata": {
        "id": "J0Qjg6vuaHNt"
      },
      "source": [
        "\n",
        "# 1_OM_Train_1_OM_Test(CO)\n",
        "\n",
        "# P Regular , NP Regular\n",
        "\n",
        "New Orientation example \n",
        "\n",
        "(OM + Schema + Mapping)  ---> (Label + OM + Schema + Mapping)\n",
        "\n",
        "###1 OM Dataset - Store Management\n",
        "\n",
        "###1 OM - Testing - Customer-Order (Unseen)\n",
        "\n",
        "## P - NP Distribution \n",
        "\n",
        "### Original\n",
        "\n",
        "\n",
        "## Training \n",
        "\n",
        "\n",
        "### Total instances - 2688\n",
        "\n",
        "### P samples - 50  P \n",
        "### NP samples -  2638 NP\n",
        "\n",
        "## Testing \n",
        "\n",
        "### Total instances - 8\n",
        "\n",
        "### P samples - 6\n",
        "### NP samples - 2\n",
        "\n"
      ]
    },
    {
      "cell_type": "markdown",
      "metadata": {
        "id": "yAmSR1FaqKrl"
      },
      "source": [
        "## Setup (installing necessary libraries)"
      ]
    },
    {
      "cell_type": "code",
      "execution_count": 2,
      "metadata": {
        "id": "DGFTkuRvzWqc",
        "colab": {
          "base_uri": "https://localhost:8080/"
        },
        "outputId": "0290c40f-a99a-4dd6-995c-8c52d7e520d9"
      },
      "outputs": [
        {
          "output_type": "stream",
          "name": "stdout",
          "text": [
            "Looking in indexes: https://pypi.org/simple, https://us-python.pkg.dev/colab-wheels/public/simple/\n",
            "Collecting tensorflow-text>=2.10\n",
            "  Downloading tensorflow_text-2.12.1-cp310-cp310-manylinux_2_17_x86_64.manylinux2014_x86_64.whl (6.0 MB)\n",
            "\u001b[2K     \u001b[90m━━━━━━━━━━━━━━━━━━━━━━━━━━━━━━━━━━━━━━━━\u001b[0m \u001b[32m6.0/6.0 MB\u001b[0m \u001b[31m87.4 MB/s\u001b[0m eta \u001b[36m0:00:00\u001b[0m\n",
            "\u001b[?25hRequirement already satisfied: tensorflow-hub>=0.8.0 in /usr/local/lib/python3.10/dist-packages (from tensorflow-text>=2.10) (0.13.0)\n",
            "Requirement already satisfied: tensorflow<2.13,>=2.12.0 in /usr/local/lib/python3.10/dist-packages (from tensorflow-text>=2.10) (2.12.0)\n",
            "Requirement already satisfied: absl-py>=1.0.0 in /usr/local/lib/python3.10/dist-packages (from tensorflow<2.13,>=2.12.0->tensorflow-text>=2.10) (1.4.0)\n",
            "Requirement already satisfied: astunparse>=1.6.0 in /usr/local/lib/python3.10/dist-packages (from tensorflow<2.13,>=2.12.0->tensorflow-text>=2.10) (1.6.3)\n",
            "Requirement already satisfied: flatbuffers>=2.0 in /usr/local/lib/python3.10/dist-packages (from tensorflow<2.13,>=2.12.0->tensorflow-text>=2.10) (23.3.3)\n",
            "Requirement already satisfied: gast<=0.4.0,>=0.2.1 in /usr/local/lib/python3.10/dist-packages (from tensorflow<2.13,>=2.12.0->tensorflow-text>=2.10) (0.4.0)\n",
            "Requirement already satisfied: google-pasta>=0.1.1 in /usr/local/lib/python3.10/dist-packages (from tensorflow<2.13,>=2.12.0->tensorflow-text>=2.10) (0.2.0)\n",
            "Requirement already satisfied: grpcio<2.0,>=1.24.3 in /usr/local/lib/python3.10/dist-packages (from tensorflow<2.13,>=2.12.0->tensorflow-text>=2.10) (1.54.0)\n",
            "Requirement already satisfied: h5py>=2.9.0 in /usr/local/lib/python3.10/dist-packages (from tensorflow<2.13,>=2.12.0->tensorflow-text>=2.10) (3.8.0)\n",
            "Requirement already satisfied: jax>=0.3.15 in /usr/local/lib/python3.10/dist-packages (from tensorflow<2.13,>=2.12.0->tensorflow-text>=2.10) (0.4.8)\n",
            "Requirement already satisfied: keras<2.13,>=2.12.0 in /usr/local/lib/python3.10/dist-packages (from tensorflow<2.13,>=2.12.0->tensorflow-text>=2.10) (2.12.0)\n",
            "Requirement already satisfied: libclang>=13.0.0 in /usr/local/lib/python3.10/dist-packages (from tensorflow<2.13,>=2.12.0->tensorflow-text>=2.10) (16.0.0)\n",
            "Requirement already satisfied: numpy<1.24,>=1.22 in /usr/local/lib/python3.10/dist-packages (from tensorflow<2.13,>=2.12.0->tensorflow-text>=2.10) (1.22.4)\n",
            "Requirement already satisfied: opt-einsum>=2.3.2 in /usr/local/lib/python3.10/dist-packages (from tensorflow<2.13,>=2.12.0->tensorflow-text>=2.10) (3.3.0)\n",
            "Requirement already satisfied: packaging in /usr/local/lib/python3.10/dist-packages (from tensorflow<2.13,>=2.12.0->tensorflow-text>=2.10) (23.1)\n",
            "Requirement already satisfied: protobuf!=4.21.0,!=4.21.1,!=4.21.2,!=4.21.3,!=4.21.4,!=4.21.5,<5.0.0dev,>=3.20.3 in /usr/local/lib/python3.10/dist-packages (from tensorflow<2.13,>=2.12.0->tensorflow-text>=2.10) (3.20.3)\n",
            "Requirement already satisfied: setuptools in /usr/local/lib/python3.10/dist-packages (from tensorflow<2.13,>=2.12.0->tensorflow-text>=2.10) (67.7.2)\n",
            "Requirement already satisfied: six>=1.12.0 in /usr/local/lib/python3.10/dist-packages (from tensorflow<2.13,>=2.12.0->tensorflow-text>=2.10) (1.16.0)\n",
            "Requirement already satisfied: tensorboard<2.13,>=2.12 in /usr/local/lib/python3.10/dist-packages (from tensorflow<2.13,>=2.12.0->tensorflow-text>=2.10) (2.12.2)\n",
            "Requirement already satisfied: tensorflow-estimator<2.13,>=2.12.0 in /usr/local/lib/python3.10/dist-packages (from tensorflow<2.13,>=2.12.0->tensorflow-text>=2.10) (2.12.0)\n",
            "Requirement already satisfied: termcolor>=1.1.0 in /usr/local/lib/python3.10/dist-packages (from tensorflow<2.13,>=2.12.0->tensorflow-text>=2.10) (2.3.0)\n",
            "Requirement already satisfied: typing-extensions>=3.6.6 in /usr/local/lib/python3.10/dist-packages (from tensorflow<2.13,>=2.12.0->tensorflow-text>=2.10) (4.5.0)\n",
            "Requirement already satisfied: wrapt<1.15,>=1.11.0 in /usr/local/lib/python3.10/dist-packages (from tensorflow<2.13,>=2.12.0->tensorflow-text>=2.10) (1.14.1)\n",
            "Requirement already satisfied: tensorflow-io-gcs-filesystem>=0.23.1 in /usr/local/lib/python3.10/dist-packages (from tensorflow<2.13,>=2.12.0->tensorflow-text>=2.10) (0.32.0)\n",
            "Requirement already satisfied: wheel<1.0,>=0.23.0 in /usr/local/lib/python3.10/dist-packages (from astunparse>=1.6.0->tensorflow<2.13,>=2.12.0->tensorflow-text>=2.10) (0.40.0)\n",
            "Requirement already satisfied: ml-dtypes>=0.0.3 in /usr/local/lib/python3.10/dist-packages (from jax>=0.3.15->tensorflow<2.13,>=2.12.0->tensorflow-text>=2.10) (0.1.0)\n",
            "Requirement already satisfied: scipy>=1.7 in /usr/local/lib/python3.10/dist-packages (from jax>=0.3.15->tensorflow<2.13,>=2.12.0->tensorflow-text>=2.10) (1.10.1)\n",
            "Requirement already satisfied: google-auth<3,>=1.6.3 in /usr/local/lib/python3.10/dist-packages (from tensorboard<2.13,>=2.12->tensorflow<2.13,>=2.12.0->tensorflow-text>=2.10) (2.17.3)\n",
            "Requirement already satisfied: google-auth-oauthlib<1.1,>=0.5 in /usr/local/lib/python3.10/dist-packages (from tensorboard<2.13,>=2.12->tensorflow<2.13,>=2.12.0->tensorflow-text>=2.10) (1.0.0)\n",
            "Requirement already satisfied: markdown>=2.6.8 in /usr/local/lib/python3.10/dist-packages (from tensorboard<2.13,>=2.12->tensorflow<2.13,>=2.12.0->tensorflow-text>=2.10) (3.4.3)\n",
            "Requirement already satisfied: requests<3,>=2.21.0 in /usr/local/lib/python3.10/dist-packages (from tensorboard<2.13,>=2.12->tensorflow<2.13,>=2.12.0->tensorflow-text>=2.10) (2.27.1)\n",
            "Requirement already satisfied: tensorboard-data-server<0.8.0,>=0.7.0 in /usr/local/lib/python3.10/dist-packages (from tensorboard<2.13,>=2.12->tensorflow<2.13,>=2.12.0->tensorflow-text>=2.10) (0.7.0)\n",
            "Requirement already satisfied: tensorboard-plugin-wit>=1.6.0 in /usr/local/lib/python3.10/dist-packages (from tensorboard<2.13,>=2.12->tensorflow<2.13,>=2.12.0->tensorflow-text>=2.10) (1.8.1)\n",
            "Requirement already satisfied: werkzeug>=1.0.1 in /usr/local/lib/python3.10/dist-packages (from tensorboard<2.13,>=2.12->tensorflow<2.13,>=2.12.0->tensorflow-text>=2.10) (2.3.0)\n",
            "Requirement already satisfied: cachetools<6.0,>=2.0.0 in /usr/local/lib/python3.10/dist-packages (from google-auth<3,>=1.6.3->tensorboard<2.13,>=2.12->tensorflow<2.13,>=2.12.0->tensorflow-text>=2.10) (5.3.0)\n",
            "Requirement already satisfied: pyasn1-modules>=0.2.1 in /usr/local/lib/python3.10/dist-packages (from google-auth<3,>=1.6.3->tensorboard<2.13,>=2.12->tensorflow<2.13,>=2.12.0->tensorflow-text>=2.10) (0.3.0)\n",
            "Requirement already satisfied: rsa<5,>=3.1.4 in /usr/local/lib/python3.10/dist-packages (from google-auth<3,>=1.6.3->tensorboard<2.13,>=2.12->tensorflow<2.13,>=2.12.0->tensorflow-text>=2.10) (4.9)\n",
            "Requirement already satisfied: requests-oauthlib>=0.7.0 in /usr/local/lib/python3.10/dist-packages (from google-auth-oauthlib<1.1,>=0.5->tensorboard<2.13,>=2.12->tensorflow<2.13,>=2.12.0->tensorflow-text>=2.10) (1.3.1)\n",
            "Requirement already satisfied: urllib3<1.27,>=1.21.1 in /usr/local/lib/python3.10/dist-packages (from requests<3,>=2.21.0->tensorboard<2.13,>=2.12->tensorflow<2.13,>=2.12.0->tensorflow-text>=2.10) (1.26.15)\n",
            "Requirement already satisfied: certifi>=2017.4.17 in /usr/local/lib/python3.10/dist-packages (from requests<3,>=2.21.0->tensorboard<2.13,>=2.12->tensorflow<2.13,>=2.12.0->tensorflow-text>=2.10) (2022.12.7)\n",
            "Requirement already satisfied: charset-normalizer~=2.0.0 in /usr/local/lib/python3.10/dist-packages (from requests<3,>=2.21.0->tensorboard<2.13,>=2.12->tensorflow<2.13,>=2.12.0->tensorflow-text>=2.10) (2.0.12)\n",
            "Requirement already satisfied: idna<4,>=2.5 in /usr/local/lib/python3.10/dist-packages (from requests<3,>=2.21.0->tensorboard<2.13,>=2.12->tensorflow<2.13,>=2.12.0->tensorflow-text>=2.10) (3.4)\n",
            "Requirement already satisfied: MarkupSafe>=2.1.1 in /usr/local/lib/python3.10/dist-packages (from werkzeug>=1.0.1->tensorboard<2.13,>=2.12->tensorflow<2.13,>=2.12.0->tensorflow-text>=2.10) (2.1.2)\n",
            "Requirement already satisfied: pyasn1<0.6.0,>=0.4.6 in /usr/local/lib/python3.10/dist-packages (from pyasn1-modules>=0.2.1->google-auth<3,>=1.6.3->tensorboard<2.13,>=2.12->tensorflow<2.13,>=2.12.0->tensorflow-text>=2.10) (0.5.0)\n",
            "Requirement already satisfied: oauthlib>=3.0.0 in /usr/local/lib/python3.10/dist-packages (from requests-oauthlib>=0.7.0->google-auth-oauthlib<1.1,>=0.5->tensorboard<2.13,>=2.12->tensorflow<2.13,>=2.12.0->tensorflow-text>=2.10) (3.2.2)\n",
            "Installing collected packages: tensorflow-text\n",
            "Successfully installed tensorflow-text-2.12.1\n",
            "Looking in indexes: https://pypi.org/simple, https://us-python.pkg.dev/colab-wheels/public/simple/\n",
            "Collecting einops\n",
            "  Downloading einops-0.6.1-py3-none-any.whl (42 kB)\n",
            "\u001b[2K     \u001b[90m━━━━━━━━━━━━━━━━━━━━━━━━━━━━━━━━━━━━━━━━\u001b[0m \u001b[32m42.2/42.2 kB\u001b[0m \u001b[31m5.6 MB/s\u001b[0m eta \u001b[36m0:00:00\u001b[0m\n",
            "\u001b[?25hInstalling collected packages: einops\n",
            "Successfully installed einops-0.6.1\n"
          ]
        }
      ],
      "source": [
        "!pip install \"tensorflow-text>=2.10\"\n",
        "!pip install einops"
      ]
    },
    {
      "cell_type": "markdown",
      "source": [
        "#Importing Libraries "
      ],
      "metadata": {
        "id": "A07RWC45HcG0"
      }
    },
    {
      "cell_type": "code",
      "execution_count": 260,
      "metadata": {
        "id": "tnxXKDjq3jEL"
      },
      "outputs": [],
      "source": [
        "import numpy as np\n",
        "import typing\n",
        "from typing import Any, Tuple\n",
        "from sklearn.model_selection import train_test_split\n",
        "\n",
        "import pathlib\n",
        "\n",
        "import einops\n",
        "import matplotlib.pyplot as plt\n",
        "import matplotlib.ticker as ticker\n",
        "\n",
        "import tensorflow as tf\n",
        "import tensorflow_text as tf_text"
      ]
    },
    {
      "cell_type": "markdown",
      "source": [
        "#Defining the Shapechecker"
      ],
      "metadata": {
        "id": "h87kqCNBHly5"
      }
    },
    {
      "cell_type": "code",
      "execution_count": 261,
      "metadata": {
        "id": "KqFqKi4fqN9X"
      },
      "outputs": [],
      "source": [
        "#@title\n",
        "class ShapeChecker():\n",
        "  def __init__(self):\n",
        "    # Keep a cache of every axis-name seen\n",
        "    self.shapes = {}\n",
        "\n",
        "  def __call__(self, tensor, names, broadcast=False):\n",
        "    if not tf.executing_eagerly():\n",
        "      return\n",
        "\n",
        "    parsed = einops.parse_shape(tensor, names)\n",
        "\n",
        "    for name, new_dim in parsed.items():\n",
        "      old_dim = self.shapes.get(name, None)\n",
        "      \n",
        "      if (broadcast and new_dim == 1):\n",
        "        continue\n",
        "\n",
        "      if old_dim is None:\n",
        "        # If the axis name is new, add its length to the cache.\n",
        "        self.shapes[name] = new_dim\n",
        "        continue\n",
        "\n",
        "      if new_dim != old_dim:\n",
        "        raise ValueError(f\"Shape mismatch for dimension: '{name}'\\n\"\n",
        "                         f\"    found: {new_dim}\\n\"\n",
        "                         f\"    expected: {old_dim}\\n\")"
      ]
    },
    {
      "cell_type": "markdown",
      "metadata": {
        "id": "dB7rgJDbeBDF"
      },
      "source": [
        "# Loading the Dataset"
      ]
    },
    {
      "cell_type": "code",
      "execution_count": 262,
      "metadata": {
        "id": "daNcrh1lVej7"
      },
      "outputs": [],
      "source": [
        "import pandas as pd\n",
        "ORM_data = pd.read_excel('store_mgmt_full_ds_mod.xlsx')\n"
      ]
    },
    {
      "cell_type": "markdown",
      "source": [
        "#Reading Data from Dataset"
      ],
      "metadata": {
        "id": "KbiGtupGHyJd"
      }
    },
    {
      "cell_type": "code",
      "execution_count": 263,
      "metadata": {
        "colab": {
          "base_uri": "https://localhost:8080/",
          "height": 206
        },
        "id": "ve7kyoOxWY1u",
        "outputId": "9ac443b8-b0ac-4ca2-95fd-e84a33da0e4f"
      },
      "outputs": [
        {
          "output_type": "execute_result",
          "data": {
            "text/plain": [
              "                                          OM_Regular  \\\n",
              "0  module OM_name 0;open Declarationone sig class...   \n",
              "1  module OM_name 0;open Declarationone sig class...   \n",
              "2  module OM_name 0;open Declarationone sig class...   \n",
              "3  module OM_name 0;open Declarationone sig class...   \n",
              "4  module OM_name 0;open Declarationone sig class...   \n",
              "\n",
              "                                       OM_Prediction  \n",
              "0  NP,module OM_name 0;open Declarationone sig cl...  \n",
              "1  NP,module OM_name 0;open Declarationone sig cl...  \n",
              "2  NP,module OM_name 0;open Declarationone sig cl...  \n",
              "3  NP,module OM_name 0;open Declarationone sig cl...  \n",
              "4  NP,module OM_name 0;open Declarationone sig cl...  "
            ],
            "text/html": [
              "\n",
              "  <div id=\"df-bc2b9000-8222-4e03-b90d-bb7f5479503e\">\n",
              "    <div class=\"colab-df-container\">\n",
              "      <div>\n",
              "<style scoped>\n",
              "    .dataframe tbody tr th:only-of-type {\n",
              "        vertical-align: middle;\n",
              "    }\n",
              "\n",
              "    .dataframe tbody tr th {\n",
              "        vertical-align: top;\n",
              "    }\n",
              "\n",
              "    .dataframe thead th {\n",
              "        text-align: right;\n",
              "    }\n",
              "</style>\n",
              "<table border=\"1\" class=\"dataframe\">\n",
              "  <thead>\n",
              "    <tr style=\"text-align: right;\">\n",
              "      <th></th>\n",
              "      <th>OM_Regular</th>\n",
              "      <th>OM_Prediction</th>\n",
              "    </tr>\n",
              "  </thead>\n",
              "  <tbody>\n",
              "    <tr>\n",
              "      <th>0</th>\n",
              "      <td>module OM_name 0;open Declarationone sig class...</td>\n",
              "      <td>NP,module OM_name 0;open Declarationone sig cl...</td>\n",
              "    </tr>\n",
              "    <tr>\n",
              "      <th>1</th>\n",
              "      <td>module OM_name 0;open Declarationone sig class...</td>\n",
              "      <td>NP,module OM_name 0;open Declarationone sig cl...</td>\n",
              "    </tr>\n",
              "    <tr>\n",
              "      <th>2</th>\n",
              "      <td>module OM_name 0;open Declarationone sig class...</td>\n",
              "      <td>NP,module OM_name 0;open Declarationone sig cl...</td>\n",
              "    </tr>\n",
              "    <tr>\n",
              "      <th>3</th>\n",
              "      <td>module OM_name 0;open Declarationone sig class...</td>\n",
              "      <td>NP,module OM_name 0;open Declarationone sig cl...</td>\n",
              "    </tr>\n",
              "    <tr>\n",
              "      <th>4</th>\n",
              "      <td>module OM_name 0;open Declarationone sig class...</td>\n",
              "      <td>NP,module OM_name 0;open Declarationone sig cl...</td>\n",
              "    </tr>\n",
              "  </tbody>\n",
              "</table>\n",
              "</div>\n",
              "      <button class=\"colab-df-convert\" onclick=\"convertToInteractive('df-bc2b9000-8222-4e03-b90d-bb7f5479503e')\"\n",
              "              title=\"Convert this dataframe to an interactive table.\"\n",
              "              style=\"display:none;\">\n",
              "        \n",
              "  <svg xmlns=\"http://www.w3.org/2000/svg\" height=\"24px\"viewBox=\"0 0 24 24\"\n",
              "       width=\"24px\">\n",
              "    <path d=\"M0 0h24v24H0V0z\" fill=\"none\"/>\n",
              "    <path d=\"M18.56 5.44l.94 2.06.94-2.06 2.06-.94-2.06-.94-.94-2.06-.94 2.06-2.06.94zm-11 1L8.5 8.5l.94-2.06 2.06-.94-2.06-.94L8.5 2.5l-.94 2.06-2.06.94zm10 10l.94 2.06.94-2.06 2.06-.94-2.06-.94-.94-2.06-.94 2.06-2.06.94z\"/><path d=\"M17.41 7.96l-1.37-1.37c-.4-.4-.92-.59-1.43-.59-.52 0-1.04.2-1.43.59L10.3 9.45l-7.72 7.72c-.78.78-.78 2.05 0 2.83L4 21.41c.39.39.9.59 1.41.59.51 0 1.02-.2 1.41-.59l7.78-7.78 2.81-2.81c.8-.78.8-2.07 0-2.86zM5.41 20L4 18.59l7.72-7.72 1.47 1.35L5.41 20z\"/>\n",
              "  </svg>\n",
              "      </button>\n",
              "      \n",
              "  <style>\n",
              "    .colab-df-container {\n",
              "      display:flex;\n",
              "      flex-wrap:wrap;\n",
              "      gap: 12px;\n",
              "    }\n",
              "\n",
              "    .colab-df-convert {\n",
              "      background-color: #E8F0FE;\n",
              "      border: none;\n",
              "      border-radius: 50%;\n",
              "      cursor: pointer;\n",
              "      display: none;\n",
              "      fill: #1967D2;\n",
              "      height: 32px;\n",
              "      padding: 0 0 0 0;\n",
              "      width: 32px;\n",
              "    }\n",
              "\n",
              "    .colab-df-convert:hover {\n",
              "      background-color: #E2EBFA;\n",
              "      box-shadow: 0px 1px 2px rgba(60, 64, 67, 0.3), 0px 1px 3px 1px rgba(60, 64, 67, 0.15);\n",
              "      fill: #174EA6;\n",
              "    }\n",
              "\n",
              "    [theme=dark] .colab-df-convert {\n",
              "      background-color: #3B4455;\n",
              "      fill: #D2E3FC;\n",
              "    }\n",
              "\n",
              "    [theme=dark] .colab-df-convert:hover {\n",
              "      background-color: #434B5C;\n",
              "      box-shadow: 0px 1px 3px 1px rgba(0, 0, 0, 0.15);\n",
              "      filter: drop-shadow(0px 1px 2px rgba(0, 0, 0, 0.3));\n",
              "      fill: #FFFFFF;\n",
              "    }\n",
              "  </style>\n",
              "\n",
              "      <script>\n",
              "        const buttonEl =\n",
              "          document.querySelector('#df-bc2b9000-8222-4e03-b90d-bb7f5479503e button.colab-df-convert');\n",
              "        buttonEl.style.display =\n",
              "          google.colab.kernel.accessAllowed ? 'block' : 'none';\n",
              "\n",
              "        async function convertToInteractive(key) {\n",
              "          const element = document.querySelector('#df-bc2b9000-8222-4e03-b90d-bb7f5479503e');\n",
              "          const dataTable =\n",
              "            await google.colab.kernel.invokeFunction('convertToInteractive',\n",
              "                                                     [key], {});\n",
              "          if (!dataTable) return;\n",
              "\n",
              "          const docLinkHtml = 'Like what you see? Visit the ' +\n",
              "            '<a target=\"_blank\" href=https://colab.research.google.com/notebooks/data_table.ipynb>data table notebook</a>'\n",
              "            + ' to learn more about interactive tables.';\n",
              "          element.innerHTML = '';\n",
              "          dataTable['output_type'] = 'display_data';\n",
              "          await google.colab.output.renderOutput(dataTable, element);\n",
              "          const docLink = document.createElement('div');\n",
              "          docLink.innerHTML = docLinkHtml;\n",
              "          element.appendChild(docLink);\n",
              "        }\n",
              "      </script>\n",
              "    </div>\n",
              "  </div>\n",
              "  "
            ]
          },
          "metadata": {},
          "execution_count": 263
        }
      ],
      "source": [
        "ORM_data.head()"
      ]
    },
    {
      "cell_type": "code",
      "execution_count": 264,
      "metadata": {
        "id": "V7OaHrVYV-Xd"
      },
      "outputs": [],
      "source": [
        "OM_Regular = ORM_data['OM_Regular'].values\n",
        "OM_Prediction = ORM_data['OM_Prediction'].values"
      ]
    },
    {
      "cell_type": "code",
      "execution_count": 265,
      "metadata": {
        "id": "jTBVOEjFWAI5"
      },
      "outputs": [],
      "source": [
        "X = OM_Regular\n",
        "Y = OM_Prediction"
      ]
    },
    {
      "cell_type": "markdown",
      "metadata": {
        "id": "YOujEo2geGod"
      },
      "source": [
        "#### Dividing data as Target and Context"
      ]
    },
    {
      "cell_type": "code",
      "execution_count": 266,
      "metadata": {
        "id": "cTbSbBz55QtF",
        "colab": {
          "base_uri": "https://localhost:8080/"
        },
        "outputId": "fb6262ad-9bba-4313-e017-23ae7e5bb68a"
      },
      "outputs": [
        {
          "output_type": "stream",
          "name": "stdout",
          "text": [
            "module OM_name 0;open Declarationone sig class1_name extends ClassattrSet = c1_at1+c1_at2id=c1_at1no parentisAbstract = No}one sig c1_at1 extends c1_at1_typeone sig c1_at2 extends c1_at2_typeone sig class2_name extends ClassattrSet = c2_at1+c2_at2id=c2_at1no parentisAbstract = No}one sig c2_at1 extends c2_at1_typeone sig c2_at1 extends c2_at2_typeone sig class3_name extends ClassattrSet = c3_at1+c3_at2+c3_at3+c3_at4c3_at5+c3_at6id=c3_at1no parentisAbstract = No}one sig c3_at1 extends c3_at1_typeone sig c3_at2 extends c3_at2_typeone sig c3_at3 extends c3_at3_typeone sig c3_at4 extends c3_at4_typeone sig c3_at5 extends c3_at5_typeone sig c3_at6 extends c3_at6_typeone sig class4_name extends ClassattrSet = c4_at1+c4_at2+c4_at3+c4_at4id=c4_at3no parentisAbstract = No}one sig c4_at1 extends c4_at1_typeone sig c4_at2 extends c4_at2_typeone sig c4_at3 extends c4_at3_typeone sig c4_at4 extends c4_at4_typeone sig class5_name extends ClassattrSet = c5_at1one parentparent in class2_nameid = c2_at1isAbstract = No}one sig c5_at1 extends c5_at1_typeone sig class6_name extends ClassattrSet = c6_at1_0+c6_at2+c6_at3+c6_at4id=c6_at2no parentisAbstract = No}one sig c6_at1_0 extends c6_at1_typeone sig c6_at2 extends c6_at2_typeone sig c6_at3 extends c6_at3_typeone sig c6_at4 extends c6_at4_typeone sig class7_name extends ClassattrSet = c7_at1one parentparent in class2_nameid = c2_at1isAbstract = No}one sig c7_at1 extends c7_at1_typeone sig class8_name extends ClassattrSet = c8_at1+c8_at2+c2_at2+c6_at3id=c8_at1no parentisAbstract = No}one sig c8_at1 extends c8_at1_typeone sig c8_at2 extends c8_at2_typeone sig assoc1 extends Associationsrc = class8_namedst= class2_namesrc_multiplicity = src_mlpcdst_multiplicity = dst_mlpc}one sig assoc2 extends Associationsrc = class2_namedst= class4_namesrc_multiplicity = src_mlpc2dst_multiplicity = dst_mlpc}one sig assoc3 extends Associationsrc = class8_namedst= class3_namesrc_multiplicity = src_mlpcdst_multiplicity = dst_mlpc}one sig assoc4 extends Associationsrc = class8_namedst= class4_namesrc_multiplicity = src_mlpcdst_multiplicity = dst_mlpc}one sig assoc5 extends Associationsrc = class8_namedst= class6_namesrc_multiplicity = src_mlpcdst_multiplicity = dst_mlpc2}one sig assoc6 extends Associationsrc = class6_namedst= class1_namesrc_multiplicity = src_mlpcdst_multiplicity = dst_mlpc2}one sig assoc7 extends Associationsrc = class6_namedst= class4_namesrc_multiplicity = src_mlpcdst_multiplicity = dst_mlpc}one sig assoc8 extends Associationsrc = class1_namedst= class3_namesrc_multiplicity = src_mlpcdst_multiplicity = dst_mlpc}one sig assoc9 extends Associationsrc = class1_namedst= class4_namesrc_multiplicity = src_mlpcdst_multiplicity = dst_mlpc}one sig assoc10 extends Associationsrc = class2_namedst= class3_namesrc_multiplicity = src_mlpcdst_multiplicity = dst_mlpc2}pred showrun show,Mapping Strategy for class1_name : map_str2Mapping Strategy for class3_name : map_str2Mapping Strategy for class7_name : map_str2Mapping Strategy for class5_name : map_str3Association Strategy for assoc3 : assoc_str2Association Strategy for assoc4 : assoc_str2Association Strategy for assoc5 : assoc_str2Association Strategy for assoc6 : assoc_str2Association Strategy for assoc7 : assoc_str2Association Strategy for assoc8 : assoc_str2Association Strategy for assoc9 : assoc_str2Association Strategy for assoc10 : assoc_str2,USE OM_name:0;CREATE TABLE `class5_name` (c5_at1` c5_at1_type(64),`c2_at2` c2_at2_type(64),`c2_at1` c2_at1_type NOT NULL,PRIMARY KEY (`c2_at1`)CREATE TABLE `class2_name` (`c2_at1` c2_at1_type NOT NULL,PRIMARY KEY (`c2_at1`)CREATE TABLE `class6_name` (`c6_at4` c6_at4_type(64),`c6_at3` c6_at3_type(64),`c6_at1_0` c6_at1_type(64),`c6_at2` c6_at2_type NOT NULL,PRIMARY KEY (`c6_at2`)CREATE TABLE `assoc8` (`c3_at1` c3_at1_type NOT NULL,`c1_at1` c1_at1_type NOT NULL,KEY `FK_assoc8_c3_at1_idx` (`c3_at1`),KEY `FK_assoc8_c1_at1_idx` (`c1_at1`),PRIMARY KEY (`c3_at1`,`c1_at1`)CREATE TABLE `class1_name` (`c1_at2` c1_at2_type(64),`c1_at1` c1_at1_type NOT NULL,PRIMARY KEY (`c1_at1`)CREATE TABLE `class7_name` (`c7_at1` c7_at1_type(64),`c2_at2` c2_at2_type(64),`c2_at1` c2_at1_type NOT NULL,PRIMARY KEY (`c2_at1`)CREATE TABLE `class3_name` (`c8_at1` c8_at1_type,`c3_at6` c3_at6_type,`c3_at5` c3_at5_type,`c3_at4` c3_at4_type,`c3_at3` c3_at3_type,`c3_at2` c3_at2_type,`c3_at1` c3_at1_type NOT NULL,KEY `FK_class3_name_c8_at1_idx` (`c8_at1`),PRIMARY KEY (`c3_at1`)CREATE TABLE `assoc2` (`c4_at3` c4_at3_type NOT NULL,`c2_at1` c2_at1_type NOT NULL,KEY `FK_assoc2_c4_at3_idx` (`c4_at3`),KEY `FK_assoc2_c2_at1_idx` (`c2_at1`),PRIMARY KEY (`c4_at3`,`c2_at1`)CREATE TABLE `assoc1` (`c8_at1` c8_at1_type NOT NULL,`c2_at1` c2_at1_type NOT NULL,KEY `FK_assoc1_c8_at1_idx` (`c8_at1`),KEY `FK_assoc1_c2_at1_idx` (`c2_at1`),PRIMARY KEY (`c8_at1`,`c2_at1`)CREATE TABLE `assoc6` (`c6_at2` c6_at2_type NOT NULL,`c1_at1` c1_at1_type NOT NULL,KEY `FK_assoc6_c6_at2_idx` (`c6_at2`),KEY `FK_assoc6_c1_at1_idx` (`c1_at1`),PRIMARY KEY (`c6_at2`,`c1_at1`)CREATE TABLE `assoc7` (`c6_at2` c6_at2_type NOT NULL,`c4_at3` c4_at3_type NOT NULL,KEY `FK_assoc7_c6_at2_idx` (`c6_at2`),KEY `FK_assoc7_c4_at3_idx` (`c4_at3`),PRIMARY KEY (`c6_at2`,`c4_at3`)CREATE TABLE `assoc10` (`c3_at1` c3_at1_type NOT NULL,`c2_at1` c2_at1_type NOT NULL,KEY `FK_assoc10_c3_at1_idx` (`c3_at1`),KEY `FK_assoc10_c2_at1_idx` (`c2_at1`),PRIMARY KEY (`c3_at1`,`c2_at1`)Association Strategy for assoc5 : assoc_str2`c8_at1` c8_at1_type NOT NULL,`c6_at2` c6_at2_type NOT NULL,KEY `FK_assoc5_c8_at1_idx` (`c8_at1`),KEY `FK_assoc5_c6_at2_idx` (`c6_at2`),PRIMARY KEY (`c8_at1`,`c6_at2`)CREATE TABLE `class4_name` (`c4_at4` c4_at4_type(64),`c4_at2` c4_at2_type(64),`c4_at1` c4_at1_type(64),`c8_at1` c8_at1_type,`c4_at3` c4_at3_type NOT NULL,KEY `FK_class4_name_c8_at1_idx` (`c8_at1`),PRIMARY KEY (`c4_at3`)CREATE TABLE `assoc9` (`c4_at3` c4_at3_type NOT NULL,`c1_at1` c1_at1_type NOT NULL,KEY `FK_assoc9_c4_at3_idx` (`c4_at3`),KEY `FK_assoc9_c1_at1_idx` (`c1_at1`),PRIMARY KEY (`c4_at3`,`c1_at1`)CREATE TABLE `class8_name` (`c8_at2` c8_at2_type(64),`c2_at2` c2_at2_type(64),`c8_at1` c8_at1_type NOT NULL,PRIMARY KEY (`c8_at1`)ALTER TABLE `assoc8`ADD CONSTRAINT `FK_assoc8_c3_at1` FOREIGN KEY (`c3_at1`) REFERENCES `class3_name` (`c3_at1`) ON DELETE CASCADE ON UPDATE CASCADE,ADD CONSTRAINT `FK_assoc8_c1_at1` FOREIGN KEY (`c1_at1`) REFERENCES `class1_name` (`c1_at1`) ON DELETE CASCADE ON UPDATE CASCADE,ALTER TABLE `class3_name`ADD CONSTRAINT `FK_Store_TransactionId` FOREIGN KEY (`c8_at1`) REFERENCES `class8_name` (`c8_at1`) ON DELETE CASCADE ON UPDATE CASCADE;ALTER TABLE `assoc2`ADD CONSTRAINT `FK_assoc2_c4_at3` FOREIGN KEY (`c4_at3`) REFERENCES `class4_name` (`c4_at3`) ON DELETE CASCADE ON UPDATE CASCADEADD CONSTRAINT `FK_assoc2_c2_at1` FOREIGN KEY (`c2_at1`) REFERENCES `class2_name` (`c2_at1`) ON DELETE CASCADE ON UPDATE CASCADE,ALTER TABLE `assoc1`ADD CONSTRAINT `FK_assoc1_c8_at1` FOREIGN KEY (`c8_at1`) REFERENCES `class8_name` (`c8_at1`) ON DELETE CASCADE ON UPDATE CASCADE,ADD CONSTRAINT `FK_assoc1_c2_at1` FOREIGN KEY (`c2_at1`) REFERENCES `class2_name` (`c2_at1`) ON DELETE CASCADE ON UPDATE CASCADE;ALTER TABLE `assoc6`ALTER TABLE `class7_name`ADD CONSTRAINT `FK_assoc6_c1_at1` FOREIGN KEY (`c1_at1`) REFERENCES `class1_name` (`c1_at1`) ON DELETE CASCADE ON UPDATE CASCADE,ALTER TABLE `assoc7`ADD CONSTRAINT `FK_assoc7_c6_at2` FOREIGN KEY (`c6_at2`) REFERENCES `class6_name` (`c6_at2`) ON DELETE CASCADE ON UPDATE CASCADE,ADD CONSTRAINT `FK_assoc7_c4_at3` FOREIGN KEY (`c4_at3`) REFERENCES `class4_name` (`c4_at3`) ON DELETE CASCADE ON UPDATE CASCADE;ALTER TABLE `assoc10`ADD CONSTRAINT `FK_assoc10_c3_at1` FOREIGN KEY (`c3_at1`) REFERENCES `class3_name` (`c3_at1`) ON DELETE CASCADE ON UPDATE CASCADE,ADD CONSTRAINT `FK_assoc10_c2_at1` FOREIGN KEY (`c2_at1`) REFERENCES `class2_name` (`c2_at1`) ON DELETE CASCADE ON UPDATE CASCADE,ALTER TABLE `assoc5`ADD CONSTRAINT `FK_assoc5_c8_at1` FOREIGN KEY (`c8_at1`) REFERENCES `class8_name` (`c8_at1`) ON DELETE CASCADE ON UPDATE CASCADE,ADD CONSTRAINT `FK_assoc5_c6_at2` FOREIGN KEY (`c6_at2`) REFERENCES `class6_name` (`c6_at2`) ON DELETE CASCADE ON UPDATE CASCADE;ALTER TABLE `class4_name`ADD CONSTRAINT `FK_class4_name_c8_at1` FOREIGN KEY (`c8_at1`) REFERENCES `class8_name` (`c8_at1`) ON DELETE CASCADE ON UPDATE CASCADE,ALTER TABLE `assoc9`ADD CONSTRAINT `FK_assoc9_c4_at3` FOREIGN KEY (`c4_at3`) REFERENCES `class4_name` (`c4_at3`) ON DELETE CASCADE ON UPDATE CASCADE,ADD CONSTRAINT `FK_assoc9_c1_at1` FOREIGN KEY (`c1_at1`) REFERENCES `class1_name` (`c1_at1`) ON DELETE CASCADE ON UPDATE CASCADE;\n"
          ]
        }
      ],
      "source": [
        "target_raw =  Y\n",
        "context_raw = X\n",
        "print(context_raw[-1])"
      ]
    },
    {
      "cell_type": "code",
      "execution_count": 267,
      "metadata": {
        "id": "lH_dPY8TRp3c",
        "colab": {
          "base_uri": "https://localhost:8080/"
        },
        "outputId": "12d032f1-4b2c-47f7-b002-c355513ff533"
      },
      "outputs": [
        {
          "output_type": "stream",
          "name": "stdout",
          "text": [
            "P,module OM_name 0;open Declarationone sig class1_name extends ClassattrSet = c1_at1+c1_at2id=c1_at1no parentisAbstract = No}one sig c1_at1 extends c1_at1_typeone sig c1_at2 extends c1_at2_typeone sig class2_name extends ClassattrSet = c2_at1+c2_at2id=c2_at1no parentisAbstract = No}one sig c2_at1 extends c2_at1_typeone sig c2_at1 extends c2_at2_typeone sig class3_name extends ClassattrSet = c3_at1+c3_at2+c3_at3+c3_at4c3_at5+c3_at6id=c3_at1no parentisAbstract = No}one sig c3_at1 extends c3_at1_typeone sig c3_at2 extends c3_at2_typeone sig c3_at3 extends c3_at3_typeone sig c3_at4 extends c3_at4_typeone sig c3_at5 extends c3_at5_typeone sig c3_at6 extends c3_at6_typeone sig class4_name extends ClassattrSet = c4_at1+c4_at2+c4_at3+c4_at4id=c4_at3no parentisAbstract = No}one sig c4_at1 extends c4_at1_typeone sig c4_at2 extends c4_at2_typeone sig c4_at3 extends c4_at3_typeone sig c4_at4 extends c4_at4_typeone sig class5_name extends ClassattrSet = c5_at1one parentparent in class2_nameid = c2_at1isAbstract = No}one sig c5_at1 extends c5_at1_typeone sig class6_name extends ClassattrSet = c6_at1_0+c6_at2+c6_at3+c6_at4id=c6_at2no parentisAbstract = No}one sig c6_at1_0 extends c6_at1_typeone sig c6_at2 extends c6_at2_typeone sig c6_at3 extends c6_at3_typeone sig c6_at4 extends c6_at4_typeone sig class7_name extends ClassattrSet = c7_at1one parentparent in class2_nameid = c2_at1isAbstract = No}one sig c7_at1 extends c7_at1_typeone sig class8_name extends ClassattrSet = c8_at1+c8_at2+c2_at2+c6_at3id=c8_at1no parentisAbstract = No}one sig c8_at1 extends c8_at1_typeone sig c8_at2 extends c8_at2_typeone sig assoc1 extends Associationsrc = class8_namedst= class2_namesrc_multiplicity = src_mlpcdst_multiplicity = dst_mlpc}one sig assoc2 extends Associationsrc = class2_namedst= class4_namesrc_multiplicity = src_mlpc2dst_multiplicity = dst_mlpc}one sig assoc3 extends Associationsrc = class8_namedst= class3_namesrc_multiplicity = src_mlpcdst_multiplicity = dst_mlpc}one sig assoc4 extends Associationsrc = class8_namedst= class4_namesrc_multiplicity = src_mlpcdst_multiplicity = dst_mlpc}one sig assoc5 extends Associationsrc = class8_namedst= class6_namesrc_multiplicity = src_mlpcdst_multiplicity = dst_mlpc2}one sig assoc6 extends Associationsrc = class6_namedst= class1_namesrc_multiplicity = src_mlpcdst_multiplicity = dst_mlpc2}one sig assoc7 extends Associationsrc = class6_namedst= class4_namesrc_multiplicity = src_mlpcdst_multiplicity = dst_mlpc}one sig assoc8 extends Associationsrc = class1_namedst= class3_namesrc_multiplicity = src_mlpcdst_multiplicity = dst_mlpc}one sig assoc9 extends Associationsrc = class1_namedst= class4_namesrc_multiplicity = src_mlpcdst_multiplicity = dst_mlpc}one sig assoc10 extends Associationsrc = class2_namedst= class3_namesrc_multiplicity = src_mlpcdst_multiplicity = dst_mlpc2}pred showrun show,Mapping Strategy for class1_name : map_str2Mapping Strategy for class3_name : map_str2Mapping Strategy for class7_name : map_str2Mapping Strategy for class5_name : map_str3Association Strategy for assoc3 : assoc_str2Association Strategy for assoc4 : assoc_str2Association Strategy for assoc5 : assoc_str2Association Strategy for assoc6 : assoc_str2Association Strategy for assoc7 : assoc_str2Association Strategy for assoc8 : assoc_str2Association Strategy for assoc9 : assoc_str2Association Strategy for assoc10 : assoc_str2,USE OM_name:0;CREATE TABLE `class5_name` (c5_at1` c5_at1_type(64),`c2_at2` c2_at2_type(64),`c2_at1` c2_at1_type NOT NULL,PRIMARY KEY (`c2_at1`)CREATE TABLE `class2_name` (`c2_at1` c2_at1_type NOT NULL,PRIMARY KEY (`c2_at1`)CREATE TABLE `class6_name` (`c6_at4` c6_at4_type(64),`c6_at3` c6_at3_type(64),`c6_at1_0` c6_at1_type(64),`c6_at2` c6_at2_type NOT NULL,PRIMARY KEY (`c6_at2`)CREATE TABLE `assoc8` (`c3_at1` c3_at1_type NOT NULL,`c1_at1` c1_at1_type NOT NULL,KEY `FK_assoc8_c3_at1_idx` (`c3_at1`),KEY `FK_assoc8_c1_at1_idx` (`c1_at1`),PRIMARY KEY (`c3_at1`,`c1_at1`)CREATE TABLE `class1_name` (`c1_at2` c1_at2_type(64),`c1_at1` c1_at1_type NOT NULL,PRIMARY KEY (`c1_at1`)CREATE TABLE `class7_name` (`c7_at1` c7_at1_type(64),`c2_at2` c2_at2_type(64),`c2_at1` c2_at1_type NOT NULL,PRIMARY KEY (`c2_at1`)CREATE TABLE `class3_name` (`c8_at1` c8_at1_type,`c3_at6` c3_at6_type,`c3_at5` c3_at5_type,`c3_at4` c3_at4_type,`c3_at3` c3_at3_type,`c3_at2` c3_at2_type,`c3_at1` c3_at1_type NOT NULL,KEY `FK_class3_name_c8_at1_idx` (`c8_at1`),PRIMARY KEY (`c3_at1`)CREATE TABLE `assoc2` (`c4_at3` c4_at3_type NOT NULL,`c2_at1` c2_at1_type NOT NULL,KEY `FK_assoc2_c4_at3_idx` (`c4_at3`),KEY `FK_assoc2_c2_at1_idx` (`c2_at1`),PRIMARY KEY (`c4_at3`,`c2_at1`)CREATE TABLE `assoc1` (`c8_at1` c8_at1_type NOT NULL,`c2_at1` c2_at1_type NOT NULL,KEY `FK_assoc1_c8_at1_idx` (`c8_at1`),KEY `FK_assoc1_c2_at1_idx` (`c2_at1`),PRIMARY KEY (`c8_at1`,`c2_at1`)CREATE TABLE `assoc6` (`c6_at2` c6_at2_type NOT NULL,`c1_at1` c1_at1_type NOT NULL,KEY `FK_assoc6_c6_at2_idx` (`c6_at2`),KEY `FK_assoc6_c1_at1_idx` (`c1_at1`),PRIMARY KEY (`c6_at2`,`c1_at1`)CREATE TABLE `assoc7` (`c6_at2` c6_at2_type NOT NULL,`c4_at3` c4_at3_type NOT NULL,KEY `FK_assoc7_c6_at2_idx` (`c6_at2`),KEY `FK_assoc7_c4_at3_idx` (`c4_at3`),PRIMARY KEY (`c6_at2`,`c4_at3`)CREATE TABLE `assoc10` (`c3_at1` c3_at1_type NOT NULL,`c2_at1` c2_at1_type NOT NULL,KEY `FK_assoc10_c3_at1_idx` (`c3_at1`),KEY `FK_assoc10_c2_at1_idx` (`c2_at1`),PRIMARY KEY (`c3_at1`,`c2_at1`)Association Strategy for assoc5 : assoc_str2`c8_at1` c8_at1_type NOT NULL,`c6_at2` c6_at2_type NOT NULL,KEY `FK_assoc5_c8_at1_idx` (`c8_at1`),KEY `FK_assoc5_c6_at2_idx` (`c6_at2`),PRIMARY KEY (`c8_at1`,`c6_at2`)CREATE TABLE `class4_name` (`c4_at4` c4_at4_type(64),`c4_at2` c4_at2_type(64),`c4_at1` c4_at1_type(64),`c8_at1` c8_at1_type,`c4_at3` c4_at3_type NOT NULL,KEY `FK_class4_name_c8_at1_idx` (`c8_at1`),PRIMARY KEY (`c4_at3`)CREATE TABLE `assoc9` (`c4_at3` c4_at3_type NOT NULL,`c1_at1` c1_at1_type NOT NULL,KEY `FK_assoc9_c4_at3_idx` (`c4_at3`),KEY `FK_assoc9_c1_at1_idx` (`c1_at1`),PRIMARY KEY (`c4_at3`,`c1_at1`)CREATE TABLE `class8_name` (`c8_at2` c8_at2_type(64),`c2_at2` c2_at2_type(64),`c8_at1` c8_at1_type NOT NULL,PRIMARY KEY (`c8_at1`)ALTER TABLE `assoc8`ADD CONSTRAINT `FK_assoc8_c3_at1` FOREIGN KEY (`c3_at1`) REFERENCES `class3_name` (`c3_at1`) ON DELETE CASCADE ON UPDATE CASCADE,ADD CONSTRAINT `FK_assoc8_c1_at1` FOREIGN KEY (`c1_at1`) REFERENCES `class1_name` (`c1_at1`) ON DELETE CASCADE ON UPDATE CASCADE,ALTER TABLE `class3_name`ADD CONSTRAINT `FK_Store_TransactionId` FOREIGN KEY (`c8_at1`) REFERENCES `class8_name` (`c8_at1`) ON DELETE CASCADE ON UPDATE CASCADE;ALTER TABLE `assoc2`ADD CONSTRAINT `FK_assoc2_c4_at3` FOREIGN KEY (`c4_at3`) REFERENCES `class4_name` (`c4_at3`) ON DELETE CASCADE ON UPDATE CASCADEADD CONSTRAINT `FK_assoc2_c2_at1` FOREIGN KEY (`c2_at1`) REFERENCES `class2_name` (`c2_at1`) ON DELETE CASCADE ON UPDATE CASCADE,ALTER TABLE `assoc1`ADD CONSTRAINT `FK_assoc1_c8_at1` FOREIGN KEY (`c8_at1`) REFERENCES `class8_name` (`c8_at1`) ON DELETE CASCADE ON UPDATE CASCADE,ADD CONSTRAINT `FK_assoc1_c2_at1` FOREIGN KEY (`c2_at1`) REFERENCES `class2_name` (`c2_at1`) ON DELETE CASCADE ON UPDATE CASCADE;ALTER TABLE `assoc6`ALTER TABLE `class7_name`ADD CONSTRAINT `FK_assoc6_c1_at1` FOREIGN KEY (`c1_at1`) REFERENCES `class1_name` (`c1_at1`) ON DELETE CASCADE ON UPDATE CASCADE,ALTER TABLE `assoc7`ADD CONSTRAINT `FK_assoc7_c6_at2` FOREIGN KEY (`c6_at2`) REFERENCES `class6_name` (`c6_at2`) ON DELETE CASCADE ON UPDATE CASCADE,ADD CONSTRAINT `FK_assoc7_c4_at3` FOREIGN KEY (`c4_at3`) REFERENCES `class4_name` (`c4_at3`) ON DELETE CASCADE ON UPDATE CASCADE;ALTER TABLE `assoc10`ADD CONSTRAINT `FK_assoc10_c3_at1` FOREIGN KEY (`c3_at1`) REFERENCES `class3_name` (`c3_at1`) ON DELETE CASCADE ON UPDATE CASCADE,ADD CONSTRAINT `FK_assoc10_c2_at1` FOREIGN KEY (`c2_at1`) REFERENCES `class2_name` (`c2_at1`) ON DELETE CASCADE ON UPDATE CASCADE,ALTER TABLE `assoc5`ADD CONSTRAINT `FK_assoc5_c8_at1` FOREIGN KEY (`c8_at1`) REFERENCES `class8_name` (`c8_at1`) ON DELETE CASCADE ON UPDATE CASCADE,ADD CONSTRAINT `FK_assoc5_c6_at2` FOREIGN KEY (`c6_at2`) REFERENCES `class6_name` (`c6_at2`) ON DELETE CASCADE ON UPDATE CASCADE;ALTER TABLE `class4_name`ADD CONSTRAINT `FK_class4_name_c8_at1` FOREIGN KEY (`c8_at1`) REFERENCES `class8_name` (`c8_at1`) ON DELETE CASCADE ON UPDATE CASCADE,ALTER TABLE `assoc9`ADD CONSTRAINT `FK_assoc9_c4_at3` FOREIGN KEY (`c4_at3`) REFERENCES `class4_name` (`c4_at3`) ON DELETE CASCADE ON UPDATE CASCADE,ADD CONSTRAINT `FK_assoc9_c1_at1` FOREIGN KEY (`c1_at1`) REFERENCES `class1_name` (`c1_at1`) ON DELETE CASCADE ON UPDATE CASCADE\n"
          ]
        }
      ],
      "source": [
        "print(target_raw[-1])"
      ]
    },
    {
      "cell_type": "markdown",
      "metadata": {
        "id": "rgCLkfv5uO3d"
      },
      "source": [
        "### Create a tf.data dataset"
      ]
    },
    {
      "cell_type": "markdown",
      "metadata": {
        "id": "PfVWx3WaI5Df"
      },
      "source": [
        "From these arrays of strings you can create a `tf.data.Dataset` of strings that shuffles and batches them efficiently:"
      ]
    },
    {
      "cell_type": "code",
      "execution_count": 268,
      "metadata": {
        "id": "3rZFgz69nMPa"
      },
      "outputs": [],
      "source": [
        "BUFFER_SIZE = len(context_raw)\n",
        "BATCH_SIZE = 1\n",
        "\n",
        "is_train = np.random.uniform(size=(len(target_raw),)) < 0.8\n",
        "\n",
        "train_raw = (\n",
        "    tf.data.Dataset\n",
        "    .from_tensor_slices((context_raw[is_train], target_raw[is_train]))\n",
        "    .shuffle(BUFFER_SIZE)\n",
        "    .batch(BATCH_SIZE))\n",
        "val_raw = (\n",
        "    tf.data.Dataset\n",
        "    .from_tensor_slices((context_raw[~is_train], target_raw[~is_train]))\n",
        "    .shuffle(BUFFER_SIZE)\n",
        "    .batch(BATCH_SIZE))"
      ]
    },
    {
      "cell_type": "code",
      "execution_count": 269,
      "metadata": {
        "id": "qc6-NK1GtWQt",
        "colab": {
          "base_uri": "https://localhost:8080/"
        },
        "outputId": "649eea48-36d0-4579-dd46-f1a2a5e6d124"
      },
      "outputs": [
        {
          "output_type": "stream",
          "name": "stdout",
          "text": [
            "tf.Tensor([b'module OM_name 0;open Declarationone sig class1_name extends ClassattrSet = c1_at1+c1_at2id=c1_at1no parentisAbstract = No}one sig c1_at1 extends c1_at1_typeone sig c1_at2 extends c1_at2_typeone sig class2_name extends ClassattrSet = c2_at1+c2_at2id=c2_at1no parentisAbstract = No}one sig c2_at1 extends c2_at1_typeone sig c2_at1 extends c2_at2_typeone sig class3_name extends ClassattrSet = c3_at1+c3_at2+c3_at3+c3_at4c3_at5+c3_at6id=c3_at1no parentisAbstract = No}one sig c3_at1 extends c3_at1_typeone sig c3_at2 extends c3_at2_typeone sig c3_at3 extends c3_at3_typeone sig c3_at4 extends c3_at4_typeone sig c3_at5 extends c3_at5_typeone sig c3_at6 extends c3_at6_typeone sig class4_name extends ClassattrSet = c4_at1+c4_at2+c4_at3+c4_at4id=c4_at3no parentisAbstract = No}one sig c4_at1 extends c4_at1_typeone sig c4_at2 extends c4_at2_typeone sig c4_at3 extends c4_at3_typeone sig c4_at4 extends c4_at4_typeone sig class5_name extends ClassattrSet = c5_at1one parentparent in class2_nameid = c2_at1isAbstract = No}one sig c5_at1 extends c5_at1_typeone sig class6_name extends ClassattrSet = c6_at1_0+c6_at2+c6_at3+c6_at4id=c6_at2no parentisAbstract = No}one sig c6_at1_0 extends c6_at1_typeone sig c6_at2 extends c6_at2_typeone sig c6_at3 extends c6_at3_typeone sig c6_at4 extends c6_at4_typeone sig class7_name extends ClassattrSet = c7_at1one parentparent in class2_nameid = c2_at1isAbstract = No}one sig c7_at1 extends c7_at1_typeone sig class8_name extends ClassattrSet = c8_at1+c8_at2+c2_at2+c6_at3id=c8_at1no parentisAbstract = No}one sig c8_at1 extends c8_at1_typeone sig c8_at2 extends c8_at2_typeone sig assoc1 extends Associationsrc = class8_namedst= class2_namesrc_multiplicity = src_mlpcdst_multiplicity = dst_mlpc}one sig assoc2 extends Associationsrc = class2_namedst= class4_namesrc_multiplicity = src_mlpc2dst_multiplicity = dst_mlpc}one sig assoc3 extends Associationsrc = class8_namedst= class3_namesrc_multiplicity = src_mlpcdst_multiplicity = dst_mlpc}one sig assoc4 extends Associationsrc = class8_namedst= class4_namesrc_multiplicity = src_mlpcdst_multiplicity = dst_mlpc}one sig assoc5 extends Associationsrc = class8_namedst= class6_namesrc_multiplicity = src_mlpcdst_multiplicity = dst_mlpc2}one sig assoc6 extends Associationsrc = class6_namedst= class1_namesrc_multiplicity = src_mlpcdst_multiplicity = dst_mlpc2}one sig assoc7 extends Associationsrc = class6_namedst= class4_namesrc_multiplicity = src_mlpcdst_multiplicity = dst_mlpc}one sig assoc8 extends Associationsrc = class1_namedst= class3_namesrc_multiplicity = src_mlpcdst_multiplicity = dst_mlpc}one sig assoc9 extends Associationsrc = class1_namedst= class4_namesrc_multiplicity = src_mlpcdst_multiplicity = dst_mlpc}one sig assoc10 extends Associationsrc = class2_namedst= class3_namesrc_multiplicity = src_mlpcdst_multiplicity = dst_mlpc2}pred showrun show,Mapping Strategy for class1_name : map_str2Mapping Strategy for class2_name : map_str2Mapping Strategy for class6_name : map_str2Mapping Strategy for class7_name : map_str2Mapping Strategy for class5_name : map_str3Association Strategy for assoc3 : assoc_str1Association Strategy for assoc7 : assoc_str1Association Strategy for assoc8 : assoc_str1Association Strategy for assoc4 : assoc_str2Association Strategy for assoc5 : assoc_str2Association Strategy for assoc6 : assoc_str2Association Strategy for assoc9 : assoc_str2Association Strategy for assoc10 : assoc_str2,USE OM_name:0;CREATE TABLE `class5_name` (c5_at1` c5_at1_type(64),`c2_at2` c2_at2_type(64),`c2_at1` c2_at1_type NOT NULL,PRIMARY KEY (`c2_at1`)CREATE TABLE `class2_name` (`c2_at2` c2_at2_type(64),`c2_at1` c2_at1_type NOT NULL,PRIMARY KEY (`c2_at1`)CREATE TABLE `class6_name` (`c6_at4` c6_at4_type(64),`c6_at3` c6_at3_type(64),`c6_at1_0` c6_at1_type(64),`c6_at2` c6_at2_type NOT NULL,PRIMARY KEY (`c6_at2`)CREATE TABLE `class1_name` (`c1_at2` c1_at2_type(64),`c1_at1` c1_at1_type NOT NULL,PRIMARY KEY (`c1_at1`)CREATE TABLE `class7_name` (`c7_at1` c7_at1_type(64),`c2_at1` c2_at1_type NOT NULL,KEY `FK_class7_name_c2_at1_idx` (`c2_at1`),PRIMARY KEY (`c2_at1`)CREATE TABLE `class3_name` (`c3_at6` c3_at6_type,`c3_at5` c3_at5_type,`c3_at4` c3_at4_type,`c3_at3` c3_at3_type,`c3_at2` c3_at2_type,`c3_at1` c3_at1_type NOT NULL,`c1_at1` int,KEY `FK_class3_name_c1_at1_idx` (`c1_at1`),PRIMARY KEY (`c3_at1`)CREATE TABLE `assoc3` (`c8_at1` c8_at1_type NOT NULL,`c3_at1` c3_at1_type NOT NULL,KEY `FK_assoc3_c8_at1_idx` (`c8_at1`),KEY `FK_assoc3_c3_at1_idx` (`c3_at1`),PRIMARY KEY (`c8_at1`,`c3_at1`)CREATE TABLE `assoc2` (`c4_at3` c4_at3_type NOT NULL,`c2_at1` c2_at1_type NOT NULL,KEY `FK_assoc2_c4_at3_idx` (`c4_at3`),KEY `FK_assoc2_c2_at1_idx` (`c2_at1`),PRIMARY KEY (`c4_at3`,`c2_at1`)CREATE TABLE `assoc1` (`c8_at1` c8_at1_type NOT NULL,`c2_at1` c2_at1_type NOT NULL,KEY `FK_assoc1_c8_at1_idx` (`c8_at1`),KEY `FK_assoc1_c2_at1_idx` (`c2_at1`),PRIMARY KEY (`c8_at1`,`c2_at1`)CREATE TABLE `assoc6` (`c6_at2` c6_at2_type NOT NULL,`c1_at1` c1_at1_type NOT NULL,KEY `FK_assoc6_c6_at2_idx` (`c6_at2`),KEY `FK_assoc6_c1_at1_idx` (`c1_at1`),PRIMARY KEY (`c6_at2`,`c1_at1`)CREATE TABLE `assoc4` (`c8_at1` c8_at1_type NOT NULL,`c4_at3` c4_at3_type NOT NULL,KEY `FK_assoc4_c8_at1_idx` (`c8_at1`),KEY `FK_assoc4_c4_at3_idx` (`c4_at3`),PRIMARY KEY (`c8_at1`,`c4_at3`)CREATE TABLE `assoc7` (`c6_at2` c6_at2_type NOT NULL,`c4_at3` c4_at3_type NOT NULL,KEY `FK_assoc7_c6_at2_idx` (`c6_at2`),KEY `FK_assoc7_c4_at3_idx` (`c4_at3`),PRIMARY KEY (`c6_at2`,`c4_at3`)CREATE TABLE `assoc10` (`c3_at1` c3_at1_type NOT NULL,`c2_at1` c2_at1_type NOT NULL,KEY `FK_assoc10_c3_at1_idx` (`c3_at1`),KEY `FK_assoc10_c2_at1_idx` (`c2_at1`),PRIMARY KEY (`c3_at1`,`c2_at1`)Association Strategy for assoc5 : assoc_str2`c8_at1` c8_at1_type NOT NULL,`c6_at2` c6_at2_type NOT NULL,KEY `FK_assoc5_c8_at1_idx` (`c8_at1`),KEY `FK_assoc5_c6_at2_idx` (`c6_at2`),PRIMARY KEY (`c8_at1`,`c6_at2`)CREATE TABLE `class4_name` (`c4_at4` c4_at4_type(64),`c4_at2` c4_at2_type(64),`c4_at1` c4_at1_type(64),`c4_at3` c4_at3_type NOT NULL,`c1_at1` int,KEY `FK_class4_name_c1_at1_idx` (`c1_at1`),PRIMARY KEY (`c4_at3`)CREATE TABLE `class8_name` (`c8_at2` c8_at2_type(64),`c6_at3` c6_at3_type(64),`c2_at2` c2_at2_type(64),`c8_at1` c8_at1_type NOT NULL,PRIMARY KEY (`c8_at1`)ALTER TABLE `class7_name`ADD CONSTRAINT `FK_class7_name_c2_at1` FOREIGN KEY (`c2_at1`) REFERENCES `class2_name` (`c2_at1`) ON DELETE CASCADE ON UPDATE CASCADE,ALTER TABLE `class3_name`ADD CONSTRAINT `FK_class3_name_c1_at1` FOREIGN KEY (`c1_at1`) REFERENCES `class1_name` (`c1_at1`) ON DELETE CASCADE ON UPDATE CASCADE,ALTER TABLE `assoc3`ADD CONSTRAINT `FK_assoc3_c8_at1` FOREIGN KEY (`c8_at1`) REFERENCES `class8_name` (`c8_at1`) ON DELETE CASCADE ON UPDATE CASCADE,ADD CONSTRAINT `FK_assoc3_c3_at1` FOREIGN KEY (`c3_at1`) REFERENCES `class3_name` (`c3_at1`) ON DELETE CASCADE ON UPDATE CASCADE,ALTER TABLE `assoc2`ADD CONSTRAINT `FK_assoc2_c4_at3` FOREIGN KEY (`c4_at3`) REFERENCES `class4_name` (`c4_at3`) ON DELETE CASCADE ON UPDATE CASCADEADD CONSTRAINT `FK_assoc2_c2_at1` FOREIGN KEY (`c2_at1`) REFERENCES `class2_name` (`c2_at1`) ON DELETE CASCADE ON UPDATE CASCADE,ALTER TABLE `assoc1`ADD CONSTRAINT `FK_assoc1_c8_at1` FOREIGN KEY (`c8_at1`) REFERENCES `class8_name` (`c8_at1`) ON DELETE CASCADE ON UPDATE CASCADE,ADD CONSTRAINT `FK_assoc1_c2_at1` FOREIGN KEY (`c2_at1`) REFERENCES `class2_name` (`c2_at1`) ON DELETE CASCADE ON UPDATE CASCADE;ALTER TABLE `assoc6`ALTER TABLE `class7_name`ADD CONSTRAINT `FK_assoc6_c1_at1` FOREIGN KEY (`c1_at1`) REFERENCES `class1_name` (`c1_at1`) ON DELETE CASCADE ON UPDATE CASCADE,ALTER TABLE `assoc4`ADD CONSTRAINT `FK_assoc4_c8_at1` FOREIGN KEY (`c8_at1`) REFERENCES `class8_name` (`c8_at1`) ON DELETE CASCADE ON UPDATE CASCADE,ADD CONSTRAINT `FK_assoc4_c4_at3` FOREIGN KEY (`c4_at3`) REFERENCES `class4_name` (`c4_at3`) ON DELETE CASCADE ON UPDATE CASCADE;ALTER TABLE `assoc7`ADD CONSTRAINT `FK_assoc7_c6_at2` FOREIGN KEY (`c6_at2`) REFERENCES `class6_name` (`c6_at2`) ON DELETE CASCADE ON UPDATE CASCADE,ADD CONSTRAINT `FK_assoc7_c4_at3` FOREIGN KEY (`c4_at3`) REFERENCES `class4_name` (`c4_at3`) ON DELETE CASCADE ON UPDATE CASCADE;ALTER TABLE `assoc10`ADD CONSTRAINT `FK_assoc10_c3_at1` FOREIGN KEY (`c3_at1`) REFERENCES `class3_name` (`c3_at1`) ON DELETE CASCADE ON UPDATE CASCADE,ADD CONSTRAINT `FK_assoc10_c2_at1` FOREIGN KEY (`c2_at1`) REFERENCES `class2_name` (`c2_at1`) ON DELETE CASCADE ON UPDATE CASCADE,ALTER TABLE `assoc5`ADD CONSTRAINT `FK_assoc5_c8_at1` FOREIGN KEY (`c8_at1`) REFERENCES `class8_name` (`c8_at1`) ON DELETE CASCADE ON UPDATE CASCADE,ADD CONSTRAINT `FK_assoc5_c6_at2` FOREIGN KEY (`c6_at2`) REFERENCES `class6_name` (`c6_at2`) ON DELETE CASCADE ON UPDATE CASCADE;ALTER TABLE `class4_name`ADD CONSTRAINT `FK_class4_name_c1_at1` FOREIGN KEY (`c1_at1`) REFERENCES `class1_name` (`c1_at1`) ON DELETE CASCADE ON UPDATE CASCADE,'], shape=(1,), dtype=string)\n",
            "\n",
            "tf.Tensor([b'NP,module OM_name 0;open Declarationone sig class1_name extends ClassattrSet = c1_at1+c1_at2id=c1_at1no parentisAbstract = No}one sig c1_at1 extends c1_at1_typeone sig c1_at2 extends c1_at2_typeone sig class2_name extends ClassattrSet = c2_at1+c2_at2id=c2_at1no parentisAbstract = No}one sig c2_at1 extends c2_at1_typeone sig c2_at1 extends c2_at2_typeone sig class3_name extends ClassattrSet = c3_at1+c3_at2+c3_at3+c3_at4c3_at5+c3_at6id=c3_at1no parentisAbstract = No}one sig c3_at1 extends c3_at1_typeone sig c3_at2 extends c3_at2_typeone sig c3_at3 extends c3_at3_typeone sig c3_at4 extends c3_at4_typeone sig c3_at5 extends c3_at5_typeone sig c3_at6 extends c3_at6_typeone sig class4_name extends ClassattrSet = c4_at1+c4_at2+c4_at3+c4_at4id=c4_at3no parentisAbstract = No}one sig c4_at1 extends c4_at1_typeone sig c4_at2 extends c4_at2_typeone sig c4_at3 extends c4_at3_typeone sig c4_at4 extends c4_at4_typeone sig class5_name extends ClassattrSet = c5_at1one parentparent in class2_nameid = c2_at1isAbstract = No}one sig c5_at1 extends c5_at1_typeone sig class6_name extends ClassattrSet = c6_at1_0+c6_at2+c6_at3+c6_at4id=c6_at2no parentisAbstract = No}one sig c6_at1_0 extends c6_at1_typeone sig c6_at2 extends c6_at2_typeone sig c6_at3 extends c6_at3_typeone sig c6_at4 extends c6_at4_typeone sig class7_name extends ClassattrSet = c7_at1one parentparent in class2_nameid = c2_at1isAbstract = No}one sig c7_at1 extends c7_at1_typeone sig class8_name extends ClassattrSet = c8_at1+c8_at2+c2_at2+c6_at3id=c8_at1no parentisAbstract = No}one sig c8_at1 extends c8_at1_typeone sig c8_at2 extends c8_at2_typeone sig assoc1 extends Associationsrc = class8_namedst= class2_namesrc_multiplicity = src_mlpcdst_multiplicity = dst_mlpc}one sig assoc2 extends Associationsrc = class2_namedst= class4_namesrc_multiplicity = src_mlpc2dst_multiplicity = dst_mlpc}one sig assoc3 extends Associationsrc = class8_namedst= class3_namesrc_multiplicity = src_mlpcdst_multiplicity = dst_mlpc}one sig assoc4 extends Associationsrc = class8_namedst= class4_namesrc_multiplicity = src_mlpcdst_multiplicity = dst_mlpc}one sig assoc5 extends Associationsrc = class8_namedst= class6_namesrc_multiplicity = src_mlpcdst_multiplicity = dst_mlpc2}one sig assoc6 extends Associationsrc = class6_namedst= class1_namesrc_multiplicity = src_mlpcdst_multiplicity = dst_mlpc2}one sig assoc7 extends Associationsrc = class6_namedst= class4_namesrc_multiplicity = src_mlpcdst_multiplicity = dst_mlpc}one sig assoc8 extends Associationsrc = class1_namedst= class3_namesrc_multiplicity = src_mlpcdst_multiplicity = dst_mlpc}one sig assoc9 extends Associationsrc = class1_namedst= class4_namesrc_multiplicity = src_mlpcdst_multiplicity = dst_mlpc}one sig assoc10 extends Associationsrc = class2_namedst= class3_namesrc_multiplicity = src_mlpcdst_multiplicity = dst_mlpc2}pred showrun show,Mapping Strategy for class1_name : map_str2Mapping Strategy for class2_name : map_str2Mapping Strategy for class6_name : map_str2Mapping Strategy for class7_name : map_str2Mapping Strategy for class5_name : map_str3Association Strategy for assoc3 : assoc_str1Association Strategy for assoc7 : assoc_str1Association Strategy for assoc8 : assoc_str1Association Strategy for assoc4 : assoc_str2Association Strategy for assoc5 : assoc_str2Association Strategy for assoc6 : assoc_str2Association Strategy for assoc9 : assoc_str2Association Strategy for assoc10 : assoc_str2,USE OM_name:0;CREATE TABLE `class5_name` (c5_at1` c5_at1_type(64),`c2_at2` c2_at2_type(64),`c2_at1` c2_at1_type NOT NULL,PRIMARY KEY (`c2_at1`)CREATE TABLE `class2_name` (`c2_at2` c2_at2_type(64),`c2_at1` c2_at1_type NOT NULL,PRIMARY KEY (`c2_at1`)CREATE TABLE `class6_name` (`c6_at4` c6_at4_type(64),`c6_at3` c6_at3_type(64),`c6_at1_0` c6_at1_type(64),`c6_at2` c6_at2_type NOT NULL,PRIMARY KEY (`c6_at2`)CREATE TABLE `class1_name` (`c1_at2` c1_at2_type(64),`c1_at1` c1_at1_type NOT NULL,PRIMARY KEY (`c1_at1`)CREATE TABLE `class7_name` (`c7_at1` c7_at1_type(64),`c2_at1` c2_at1_type NOT NULL,KEY `FK_class7_name_c2_at1_idx` (`c2_at1`),PRIMARY KEY (`c2_at1`)CREATE TABLE `class3_name` (`c3_at6` c3_at6_type,`c3_at5` c3_at5_type,`c3_at4` c3_at4_type,`c3_at3` c3_at3_type,`c3_at2` c3_at2_type,`c3_at1` c3_at1_type NOT NULL,`c1_at1` int,KEY `FK_class3_name_c1_at1_idx` (`c1_at1`),PRIMARY KEY (`c3_at1`)CREATE TABLE `assoc3` (`c8_at1` c8_at1_type NOT NULL,`c3_at1` c3_at1_type NOT NULL,KEY `FK_assoc3_c8_at1_idx` (`c8_at1`),KEY `FK_assoc3_c3_at1_idx` (`c3_at1`),PRIMARY KEY (`c8_at1`,`c3_at1`)CREATE TABLE `assoc2` (`c4_at3` c4_at3_type NOT NULL,`c2_at1` c2_at1_type NOT NULL,KEY `FK_assoc2_c4_at3_idx` (`c4_at3`),KEY `FK_assoc2_c2_at1_idx` (`c2_at1`),PRIMARY KEY (`c4_at3`,`c2_at1`)CREATE TABLE `assoc1` (`c8_at1` c8_at1_type NOT NULL,`c2_at1` c2_at1_type NOT NULL,KEY `FK_assoc1_c8_at1_idx` (`c8_at1`),KEY `FK_assoc1_c2_at1_idx` (`c2_at1`),PRIMARY KEY (`c8_at1`,`c2_at1`)CREATE TABLE `assoc6` (`c6_at2` c6_at2_type NOT NULL,`c1_at1` c1_at1_type NOT NULL,KEY `FK_assoc6_c6_at2_idx` (`c6_at2`),KEY `FK_assoc6_c1_at1_idx` (`c1_at1`),PRIMARY KEY (`c6_at2`,`c1_at1`)CREATE TABLE `assoc4` (`c8_at1` c8_at1_type NOT NULL,`c4_at3` c4_at3_type NOT NULL,KEY `FK_assoc4_c8_at1_idx` (`c8_at1`),KEY `FK_assoc4_c4_at3_idx` (`c4_at3`),PRIMARY KEY (`c8_at1`,`c4_at3`)CREATE TABLE `assoc7` (`c6_at2` c6_at2_type NOT NULL,`c4_at3` c4_at3_type NOT NULL,KEY `FK_assoc7_c6_at2_idx` (`c6_at2`),KEY `FK_assoc7_c4_at3_idx` (`c4_at3`),PRIMARY KEY (`c6_at2`,`c4_at3`)CREATE TABLE `assoc10` (`c3_at1` c3_at1_type NOT NULL,`c2_at1` c2_at1_type NOT NULL,KEY `FK_assoc10_c3_at1_idx` (`c3_at1`),KEY `FK_assoc10_c2_at1_idx` (`c2_at1`),PRIMARY KEY (`c3_at1`,`c2_at1`)Association Strategy for assoc5 : assoc_str2`c8_at1` c8_at1_type NOT NULL,`c6_at2` c6_at2_type NOT NULL,KEY `FK_assoc5_c8_at1_idx` (`c8_at1`),KEY `FK_assoc5_c6_at2_idx` (`c6_at2`),PRIMARY KEY (`c8_at1`,`c6_at2`)CREATE TABLE `class4_name` (`c4_at4` c4_at4_type(64),`c4_at2` c4_at2_type(64),`c4_at1` c4_at1_type(64),`c4_at3` c4_at3_type NOT NULL,`c1_at1` int,KEY `FK_class4_name_c1_at1_idx` (`c1_at1`),PRIMARY KEY (`c4_at3`)CREATE TABLE `class8_name` (`c8_at2` c8_at2_type(64),`c6_at3` c6_at3_type(64),`c2_at2` c2_at2_type(64),`c8_at1` c8_at1_type NOT NULL,PRIMARY KEY (`c8_at1`)ALTER TABLE `class7_name`ADD CONSTRAINT `FK_class7_name_c2_at1` FOREIGN KEY (`c2_at1`) REFERENCES `class2_name` (`c2_at1`) ON DELETE CASCADE ON UPDATE CASCADE,ALTER TABLE `class3_name`ADD CONSTRAINT `FK_class3_name_c1_at1` FOREIGN KEY (`c1_at1`) REFERENCES `class1_name` (`c1_at1`) ON DELETE CASCADE ON UPDATE CASCADE,ALTER TABLE `assoc3`ADD CONSTRAINT `FK_assoc3_c8_at1` FOREIGN KEY (`c8_at1`) REFERENCES `class8_name` (`c8_at1`) ON DELETE CASCADE ON UPDATE CASCADE,ADD CONSTRAINT `FK_assoc3_c3_at1` FOREIGN KEY (`c3_at1`) REFERENCES `class3_name` (`c3_at1`) ON DELETE CASCADE ON UPDATE CASCADE,ALTER TABLE `assoc2`ADD CONSTRAINT `FK_assoc2_c4_at3` FOREIGN KEY (`c4_at3`) REFERENCES `class4_name` (`c4_at3`) ON DELETE CASCADE ON UPDATE CASCADEADD CONSTRAINT `FK_assoc2_c2_at1` FOREIGN KEY (`c2_at1`) REFERENCES `class2_name` (`c2_at1`) ON DELETE CASCADE ON UPDATE CASCADE,ALTER TABLE `assoc1`ADD CONSTRAINT `FK_assoc1_c8_at1` FOREIGN KEY (`c8_at1`) REFERENCES `class8_name` (`c8_at1`) ON DELETE CASCADE ON UPDATE CASCADE,ADD CONSTRAINT `FK_assoc1_c2_at1` FOREIGN KEY (`c2_at1`) REFERENCES `class2_name` (`c2_at1`) ON DELETE CASCADE ON UPDATE CASCADE;ALTER TABLE `assoc6`ALTER TABLE `class7_name`ADD CONSTRAINT `FK_assoc6_c1_at1` FOREIGN KEY (`c1_at1`) REFERENCES `class1_name` (`c1_at1`) ON DELETE CASCADE ON UPDATE CASCADE,ALTER TABLE `assoc4`ADD CONSTRAINT `FK_assoc4_c8_at1` FOREIGN KEY (`c8_at1`) REFERENCES `class8_name` (`c8_at1`) ON DELETE CASCADE ON UPDATE CASCADE,ADD CONSTRAINT `FK_assoc4_c4_at3` FOREIGN KEY (`c4_at3`) REFERENCES `class4_name` (`c4_at3`) ON DELETE CASCADE ON UPDATE CASCADE;ALTER TABLE `assoc7`ADD CONSTRAINT `FK_assoc7_c6_at2` FOREIGN KEY (`c6_at2`) REFERENCES `class6_name` (`c6_at2`) ON DELETE CASCADE ON UPDATE CASCADE,ADD CONSTRAINT `FK_assoc7_c4_at3` FOREIGN KEY (`c4_at3`) REFERENCES `class4_name` (`c4_at3`) ON DELETE CASCADE ON UPDATE CASCADE;ALTER TABLE `assoc10`ADD CONSTRAINT `FK_assoc10_c3_at1` FOREIGN KEY (`c3_at1`) REFERENCES `class3_name` (`c3_at1`) ON DELETE CASCADE ON UPDATE CASCADE,ADD CONSTRAINT `FK_assoc10_c2_at1` FOREIGN KEY (`c2_at1`) REFERENCES `class2_name` (`c2_at1`) ON DELETE CASCADE ON UPDATE CASCADE,ALTER TABLE `assoc5`ADD CONSTRAINT `FK_assoc5_c8_at1` FOREIGN KEY (`c8_at1`) REFERENCES `class8_name` (`c8_at1`) ON DELETE CASCADE ON UPDATE CASCADE,ADD CONSTRAINT `FK_assoc5_c6_at2` FOREIGN KEY (`c6_at2`) REFERENCES `class6_name` (`c6_at2`) ON DELETE CASCADE ON UPDATE CASCADE;ALTER TABLE `class4_name`ADD CONSTRAINT `FK_class4_name_c1_at1` FOREIGN KEY (`c1_at1`) REFERENCES `class1_name` (`c1_at1`) ON DELETE CASCADE ON UPDATE CASCADE'], shape=(1,), dtype=string)\n"
          ]
        }
      ],
      "source": [
        "for example_context_strings, example_target_strings in train_raw.take(1):\n",
        "  print(example_context_strings[:5])\n",
        "  print()\n",
        "  print(example_target_strings[:5])\n",
        "  break"
      ]
    },
    {
      "cell_type": "markdown",
      "metadata": {
        "id": "zCoxLcuN3bwv"
      },
      "source": [
        "### Text preprocessing"
      ]
    },
    {
      "cell_type": "markdown",
      "metadata": {
        "id": "7kwdPcHvzz_a"
      },
      "source": [
        "One of the goals of this tutorial is to build a model that can be exported as a `tf.saved_model`. To make that exported model useful it should take `tf.string` inputs, and return `tf.string` outputs: All the text processing happens inside the model. Mainly using a `layers.TextVectorization` layer."
      ]
    },
    {
      "cell_type": "markdown",
      "metadata": {
        "id": "EOQ5n55X4uDB"
      },
      "source": [
        "#### Standardization"
      ]
    },
    {
      "cell_type": "markdown",
      "metadata": {
        "id": "upKhKAMK4zzI"
      },
      "source": [
        "The model is dealing with multilingual text with a limited vocabulary. So it will be important to standardize the input text.\n",
        "\n",
        "The first step is Unicode normalization to split accented characters and replace compatibility characters with their ASCII equivalents.\n",
        "\n",
        "The `tensorflow_text` package contains a unicode normalize operation, We may or may not decide to Use this for ORM data. I kept it in the experiment"
      ]
    },
    {
      "cell_type": "code",
      "execution_count": 270,
      "metadata": {
        "id": "mD0e-DWGQ2Vo",
        "colab": {
          "base_uri": "https://localhost:8080/"
        },
        "outputId": "725e66e7-9765-406c-8fca-c5c028fcf526"
      },
      "outputs": [
        {
          "output_type": "stream",
          "name": "stdout",
          "text": [
            "b'module OM_name 0;open Declarationone sig class1_name extends ClassattrSet = c1_at1+c1_at2id=c1_at1no parentisAbstract = No}one sig c1_at1 extends c1_at1_typeone sig c1_at2 extends c1_at2_typeone sig class2_name extends ClassattrSet = c2_at1+c2_at2id=c2_at1no parentisAbstract = No}one sig c2_at1 extends c2_at1_typeone sig c2_at1 extends c2_at2_typeone sig class3_name extends ClassattrSet = c3_at1+c3_at2+c3_at3+c3_at4c3_at5+c3_at6id=c3_at1no parentisAbstract = No}one sig c3_at1 extends c3_at1_typeone sig c3_at2 extends c3_at2_typeone sig c3_at3 extends c3_at3_typeone sig c3_at4 extends c3_at4_typeone sig c3_at5 extends c3_at5_typeone sig c3_at6 extends c3_at6_typeone sig class4_name extends ClassattrSet = c4_at1+c4_at2+c4_at3+c4_at4id=c4_at3no parentisAbstract = No}one sig c4_at1 extends c4_at1_typeone sig c4_at2 extends c4_at2_typeone sig c4_at3 extends c4_at3_typeone sig c4_at4 extends c4_at4_typeone sig class5_name extends ClassattrSet = c5_at1one parentparent in class2_nameid = c2_at1isAbstract = No}one sig c5_at1 extends c5_at1_typeone sig class6_name extends ClassattrSet = c6_at1_0+c6_at2+c6_at3+c6_at4id=c6_at2no parentisAbstract = No}one sig c6_at1_0 extends c6_at1_typeone sig c6_at2 extends c6_at2_typeone sig c6_at3 extends c6_at3_typeone sig c6_at4 extends c6_at4_typeone sig class7_name extends ClassattrSet = c7_at1one parentparent in class2_nameid = c2_at1isAbstract = No}one sig c7_at1 extends c7_at1_typeone sig class8_name extends ClassattrSet = c8_at1one parentparent in class2_nameid = c2_at1isAbstract = No}one sig c8_at1 extends c8_at1_typeone sig class9_name extends ClassattrSet = c9_at1one parentparent in class2_nameid = c2_at1isAbstract = No}one sig c9_at1 extends c9_at1_typeone sig class10_name extends ClassattrSet = c10_at1+c10_at2+c2_at2+c6_at3id=c10_at1no parentisAbstract = No}one sig c10_at1 extends c10_at1_typeone sig c10_at2 extends c10_at2_typeone sig assoc10 extends Associationsrc = class10_namedst= class2_namesrc_multiplicity = src_mlpcdst_multiplicity = dst_mlpc}one sig assoc1 extends Associationsrc = class2_namedst= class4_namesrc_multiplicity = src_mlpc2dst_multiplicity = dst_mlpc}one sig assoc2 extends Associationsrc = class10_namedst= class3_namesrc_multiplicity = src_mlpcdst_multiplicity = dst_mlpc}one sig assoc3 extends Associationsrc = class10_namedst= class4_namesrc_multiplicity = src_mlpcdst_multiplicity = dst_mlpc}one sig assoc4 extends Associationsrc = class10_namedst= class6_namesrc_multiplicity = src_mlpcdst_multiplicity = dst_mlpc2}one sig assoc5 extends Associationsrc = class6_namedst= class1_namesrc_multiplicity = src_mlpcdst_multiplicity = dst_mlpc2}one sig assoc6 extends Associationsrc = class6_namedst= class4_namesrc_multiplicity = src_mlpcdst_multiplicity = dst_mlpc}one sig assoc7 extends Associationsrc = class1_namedst= class3_namesrc_multiplicity = src_mlpcdst_multiplicity = dst_mlpc}one sig assoc8 extends Associationsrc = class1_namedst= class4_namesrc_multiplicity = src_mlpcdst_multiplicity = dst_mlpc}one sig assoc9 extends Associationsrc = class2_namedst= class3_namesrc_multiplicity = src_mlpcdst_multiplicity = dst_mlpc2}pred showrun show,Mapping Strategy for class1_name : map_str2Mapping Strategy for class5_name : map_str2Mapping Strategy for class7_name : map_str2Mapping Strategy for class8_name : map_str2Mapping Strategy for class10_name : map_str2Association Strategy for assoc2 : assoc_str1Association Strategy for assoc3 : assoc_str1Association Strategy for assoc7 : assoc_str1Association Strategy for assoc1 : assoc_str2Association Strategy for assoc4 : assoc_str2Association Strategy for assoc5 : assoc_str2Association Strategy for assoc6 : assoc_str2Association Strategy for assoc9 : assoc_str2,USE OM_name:0;CREATE TABLE `class7_name` (`c7_at1` c7_at1_type(64),`c2_at2` c2_at2_type(64),`c2_at1` c2_at1_type NOT NULL,PRIMARY KEY (`c2_at1`)CREATE TABLE `class5_name` (c5_at1` c5_at1_type(64),`c2_at1` c2_at1_type NOT NULL,KEY `FK_class5_name_c2_at1_idx` (`c2_at1`),PRIMARY KEY (`c2_at1`)CREATE TABLE `class2_name` (`c2_at2` c2_at2_type(64),c10_at1` c10_at1_type`c2_at1` c2_at1_type NOT NULL,KEY `FK_class2_name_c10_at1_idx` (`c10_at1`),PRIMARY KEY (`c2_at1`)CREATE TABLE `class3_name` (`c3_at6` c3_at6_type,`c3_at5` c3_at5_type,`c3_at4` c3_at4_type,`c3_at3` c3_at3_type,`c3_at2` c3_at2_type,`c3_at1` c3_at1_type NOT NULL,`c1_at1` int,KEY `FK_class3_name_c1_at1_idx` (`c1_at1`),PRIMARY KEY (`c3_at1`)CREATE TABLE `class1_name` (`c1_at2` c1_at2_type(64),`c1_at1` c1_at1_type NOT NULL,PRIMARY KEY (`c1_at1`)CREATE TABLE `class6_name` (`c6_at4` c6_at4_type(64),`c6_at1_0` c6_at1_type(64),`c6_at2` c6_at2_type NOT NULL,PRIMARY KEY (`c6_at2`)CREATE TABLE `assoc1` (`c4_at3` c4_at3_type NOT NULL,`c2_at1` c2_at1_type NOT NULL,KEY `FK_assoc1_c4_at3_idx` (`c4_at3`),KEY `FK_assoc1_c2_at1_idx` (`c2_at1`),PRIMARY KEY (`c4_at3`,`c2_at1`)CREATE TABLE `assoc4` (c10_at1` c10_at1_type`c6_at2` c6_at2_type NOT NULL,KEY `FK_assoc4_c10_at1_idx` (`c10_at1`),KEY `FK_assoc4_c6_at2_idx` (`c6_at2`),PRIMARY KEY (`c10_at1`,`c6_at2`)CREATE TABLE `assoc2` (c10_at1` c10_at1_type`c3_at1` c3_at1_type NOT NULL,Association Strategy for assoc5 : assoc_str2`c6_at2` c6_at2_type NOT NULL,`c1_at1` c1_at1_type NOT NULL,KEY `FK_assoc5_c6_at2_idx` (`c6_at2`),KEY `FK_assoc5_c1_at1_idx` (`c1_at1`),PRIMARY KEY (`c6_at2`,`c1_at1`)CREATE TABLE `class10_name` (`c10_at2` c10_at2_type(64),`c6_at3` c6_at3_type(64),c10_at1` c10_at1_typePRIMARY KEY (`c10_at1`)CREATE TABLE `class4_name` (`c4_at4` c4_at4_type(64),`c4_at2` c4_at2_type(64),`c4_at1` c4_at1_type(64),c10_at1` c10_at1_type`c6_at2` c6_at2_type,`c4_at3` c4_at3_type NOT NULL,`c1_at1` int,KEY `FK_class4_name_c10_at1_idx` (`c10_at1`),KEY `FK_class4_name_c6_at2_idx` (`c6_at2`),KEY `FK_class4_name_c1_at1_idx` (`c1_at1`),PRIMARY KEY (`c4_at3`)CREATE TABLE `assoc9` (`c3_at1` c3_at1_type NOT NULL,`c2_at1` c2_at1_type NOT NULL,KEY `FK_assoc9_c3_at1_idx` (`c3_at1`)KEY `FK_assoc9_c2_at1_idx` (`c2_at1`)PRIMARY KEY (`c3_at1`,`c2_at1`)CREATE TABLE `class9_name` (`c9_at1` c9_at1_type(64),`c2_at1` c2_at1_type NOT NULL,KEY `FK_class9_name_c2_at1_idx` (`c2_at1`),PRIMARY KEY (`c2_at1`)CREATE TABLE `class8_name` (`c8_at1` c8_at1_type(64),`c2_at1` c2_at1_type NOT NULL,PRIMARY KEY (`c2_at1`)ALTER TABLE `class5_name`ADD CONSTRAINT `FK_class5_name_c2_at1` FOREIGN KEY (`c2_at1`) REFERENCES `class2_name` (`c2_at1`) ON DELETE CASCADE ON UPDATE CASCADE,ALTER TABLE `class2_name`ADD CONSTRAINT `FK_class2_name_c10_at1` FOREIGN KEY (`c10_at1`) REFERENCES `class10_name` (`c10_at1`) ON DELETE CASCADE ON UPDATE CASCADE;ALTER TABLE `class3_name`ADD CONSTRAINT `FK_class3_name_c1_at1` FOREIGN KEY (`c1_at1`) REFERENCES `class1_name` (`c1_at1`) ON DELETE CASCADE ON UPDATE CASCADE,ALTER TABLE `assoc1`ADD CONSTRAINT `FK_assoc1_c4_at3` FOREIGN KEY (`c4_at3`) REFERENCES `class4_name` (`c4_at3`) ON DELETE CASCADE ON UPDATE CASCADE;ADD CONSTRAINT `FK_assoc1_c2_at1` FOREIGN KEY (`c2_at1`) REFERENCES `class2_name` (`c2_at1`) ON DELETE CASCADE ON UPDATE CASCADE;ALTER TABLE `assoc4`ADD CONSTRAINT `FK_assoc4_c10_at1` FOREIGN KEY (`c10_at1`) REFERENCES `class10_name` (`c10_at1`) ON DELETE CASCADE ON UPDATE CASCADE;ADD CONSTRAINT `FK_assoc4_c6_at2` FOREIGN KEY (`c6_at2`) REFERENCES `class6_name` (`c6_at2`) ON DELETE CASCADE ON UPDATE CASCADE;ALTER TABLE `assoc2`ALTER TABLE `assoc5`ADD CONSTRAINT `FK_assoc5_c6_at2` FOREIGN KEY (`c6_at2`) REFERENCES `class6_name` (`c6_at2`) ON DELETE CASCADE ON UPDATE CASCADE;ADD CONSTRAINT `FK_assoc5_c1_at1` FOREIGN KEY (`c1_at1`) REFERENCES `class1_name` (`c1_at1`) ON DELETE CASCADE ON UPDATE CASCADE;ALTER TABLE `class4_name`ADD CONSTRAINT `FK_class4_name_c10_at1` FOREIGN KEY (`c10_at1`) REFERENCES `class10_name` (`c10_at1`) ON DELETE CASCADE ON UPDATE CASCADE;ADD CONSTRAINT `FK_class4_name_c6_at2` FOREIGN KEY (`c6_at2`) REFERENCES `class6_name` (`c6_at2`) ON DELETE CASCADE ON UPDATE CASCADE;ADD CONSTRAINT `FK_class4_name_c1_at1` FOREIGN KEY (`c1_at1`) REFERENCES `class1_name` (`c1_at1`) ON DELETE CASCADE ON UPDATE CASCADE,ALTER TABLE `assoc9`ADD CONSTRAINT `FK_assoc9_c3_at1` FOREIGN KEY (`c3_at1`) REFERENCES `class3_name` (`c3_at1`) ON DELETE CASCADE ON UPDATE CASCADE;ADD CONSTRAINT `FK_assoc9_c2_at1` FOREIGN KEY (`c2_at1`) REFERENCES `class2_name` (`c2_at1`) ON DELETE CASCADE ON UPDATE CASCADE;ALTER TABLE `class9_name`ADD CONSTRAINT `FK_class9_name_c2_at1` FOREIGN KEY (`c2_at1`) REFERENCES `class2_name` (`c2_at1`) ON DELETE CASCADE ON UPDATE CASCADE;'\n",
            "b'module OM_name 0;open Declarationone sig class1_name extends ClassattrSet = c1_at1+c1_at2id=c1_at1no parentisAbstract = No}one sig c1_at1 extends c1_at1_typeone sig c1_at2 extends c1_at2_typeone sig class2_name extends ClassattrSet = c2_at1+c2_at2id=c2_at1no parentisAbstract = No}one sig c2_at1 extends c2_at1_typeone sig c2_at1 extends c2_at2_typeone sig class3_name extends ClassattrSet = c3_at1+c3_at2+c3_at3+c3_at4c3_at5+c3_at6id=c3_at1no parentisAbstract = No}one sig c3_at1 extends c3_at1_typeone sig c3_at2 extends c3_at2_typeone sig c3_at3 extends c3_at3_typeone sig c3_at4 extends c3_at4_typeone sig c3_at5 extends c3_at5_typeone sig c3_at6 extends c3_at6_typeone sig class4_name extends ClassattrSet = c4_at1+c4_at2+c4_at3+c4_at4id=c4_at3no parentisAbstract = No}one sig c4_at1 extends c4_at1_typeone sig c4_at2 extends c4_at2_typeone sig c4_at3 extends c4_at3_typeone sig c4_at4 extends c4_at4_typeone sig class5_name extends ClassattrSet = c5_at1one parentparent in class2_nameid = c2_at1isAbstract = No}one sig c5_at1 extends c5_at1_typeone sig class6_name extends ClassattrSet = c6_at1_0+c6_at2+c6_at3+c6_at4id=c6_at2no parentisAbstract = No}one sig c6_at1_0 extends c6_at1_typeone sig c6_at2 extends c6_at2_typeone sig c6_at3 extends c6_at3_typeone sig c6_at4 extends c6_at4_typeone sig class7_name extends ClassattrSet = c7_at1one parentparent in class2_nameid = c2_at1isAbstract = No}one sig c7_at1 extends c7_at1_typeone sig class8_name extends ClassattrSet = c8_at1one parentparent in class2_nameid = c2_at1isAbstract = No}one sig c8_at1 extends c8_at1_typeone sig class9_name extends ClassattrSet = c9_at1one parentparent in class2_nameid = c2_at1isAbstract = No}one sig c9_at1 extends c9_at1_typeone sig class10_name extends ClassattrSet = c10_at1+c10_at2+c2_at2+c6_at3id=c10_at1no parentisAbstract = No}one sig c10_at1 extends c10_at1_typeone sig c10_at2 extends c10_at2_typeone sig assoc10 extends Associationsrc = class10_namedst= class2_namesrc_multiplicity = src_mlpcdst_multiplicity = dst_mlpc}one sig assoc1 extends Associationsrc = class2_namedst= class4_namesrc_multiplicity = src_mlpc2dst_multiplicity = dst_mlpc}one sig assoc2 extends Associationsrc = class10_namedst= class3_namesrc_multiplicity = src_mlpcdst_multiplicity = dst_mlpc}one sig assoc3 extends Associationsrc = class10_namedst= class4_namesrc_multiplicity = src_mlpcdst_multiplicity = dst_mlpc}one sig assoc4 extends Associationsrc = class10_namedst= class6_namesrc_multiplicity = src_mlpcdst_multiplicity = dst_mlpc2}one sig assoc5 extends Associationsrc = class6_namedst= class1_namesrc_multiplicity = src_mlpcdst_multiplicity = dst_mlpc2}one sig assoc6 extends Associationsrc = class6_namedst= class4_namesrc_multiplicity = src_mlpcdst_multiplicity = dst_mlpc}one sig assoc7 extends Associationsrc = class1_namedst= class3_namesrc_multiplicity = src_mlpcdst_multiplicity = dst_mlpc}one sig assoc8 extends Associationsrc = class1_namedst= class4_namesrc_multiplicity = src_mlpcdst_multiplicity = dst_mlpc}one sig assoc9 extends Associationsrc = class2_namedst= class3_namesrc_multiplicity = src_mlpcdst_multiplicity = dst_mlpc2}pred showrun show,Mapping Strategy for class1_name : map_str2Mapping Strategy for class5_name : map_str2Mapping Strategy for class7_name : map_str2Mapping Strategy for class8_name : map_str2Mapping Strategy for class10_name : map_str2Association Strategy for assoc2 : assoc_str1Association Strategy for assoc3 : assoc_str1Association Strategy for assoc7 : assoc_str1Association Strategy for assoc1 : assoc_str2Association Strategy for assoc4 : assoc_str2Association Strategy for assoc5 : assoc_str2Association Strategy for assoc6 : assoc_str2Association Strategy for assoc9 : assoc_str2,USE OM_name:0;CREATE TABLE `class7_name` (`c7_at1` c7_at1_type(64),`c2_at2` c2_at2_type(64),`c2_at1` c2_at1_type NOT NULL,PRIMARY KEY (`c2_at1`)CREATE TABLE `class5_name` (c5_at1` c5_at1_type(64),`c2_at1` c2_at1_type NOT NULL,KEY `FK_class5_name_c2_at1_idx` (`c2_at1`),PRIMARY KEY (`c2_at1`)CREATE TABLE `class2_name` (`c2_at2` c2_at2_type(64),c10_at1` c10_at1_type`c2_at1` c2_at1_type NOT NULL,KEY `FK_class2_name_c10_at1_idx` (`c10_at1`),PRIMARY KEY (`c2_at1`)CREATE TABLE `class3_name` (`c3_at6` c3_at6_type,`c3_at5` c3_at5_type,`c3_at4` c3_at4_type,`c3_at3` c3_at3_type,`c3_at2` c3_at2_type,`c3_at1` c3_at1_type NOT NULL,`c1_at1` int,KEY `FK_class3_name_c1_at1_idx` (`c1_at1`),PRIMARY KEY (`c3_at1`)CREATE TABLE `class1_name` (`c1_at2` c1_at2_type(64),`c1_at1` c1_at1_type NOT NULL,PRIMARY KEY (`c1_at1`)CREATE TABLE `class6_name` (`c6_at4` c6_at4_type(64),`c6_at1_0` c6_at1_type(64),`c6_at2` c6_at2_type NOT NULL,PRIMARY KEY (`c6_at2`)CREATE TABLE `assoc1` (`c4_at3` c4_at3_type NOT NULL,`c2_at1` c2_at1_type NOT NULL,KEY `FK_assoc1_c4_at3_idx` (`c4_at3`),KEY `FK_assoc1_c2_at1_idx` (`c2_at1`),PRIMARY KEY (`c4_at3`,`c2_at1`)CREATE TABLE `assoc4` (c10_at1` c10_at1_type`c6_at2` c6_at2_type NOT NULL,KEY `FK_assoc4_c10_at1_idx` (`c10_at1`),KEY `FK_assoc4_c6_at2_idx` (`c6_at2`),PRIMARY KEY (`c10_at1`,`c6_at2`)CREATE TABLE `assoc2` (c10_at1` c10_at1_type`c3_at1` c3_at1_type NOT NULL,Association Strategy for assoc5 : assoc_str2`c6_at2` c6_at2_type NOT NULL,`c1_at1` c1_at1_type NOT NULL,KEY `FK_assoc5_c6_at2_idx` (`c6_at2`),KEY `FK_assoc5_c1_at1_idx` (`c1_at1`),PRIMARY KEY (`c6_at2`,`c1_at1`)CREATE TABLE `class10_name` (`c10_at2` c10_at2_type(64),`c6_at3` c6_at3_type(64),c10_at1` c10_at1_typePRIMARY KEY (`c10_at1`)CREATE TABLE `class4_name` (`c4_at4` c4_at4_type(64),`c4_at2` c4_at2_type(64),`c4_at1` c4_at1_type(64),c10_at1` c10_at1_type`c6_at2` c6_at2_type,`c4_at3` c4_at3_type NOT NULL,`c1_at1` int,KEY `FK_class4_name_c10_at1_idx` (`c10_at1`),KEY `FK_class4_name_c6_at2_idx` (`c6_at2`),KEY `FK_class4_name_c1_at1_idx` (`c1_at1`),PRIMARY KEY (`c4_at3`)CREATE TABLE `assoc9` (`c3_at1` c3_at1_type NOT NULL,`c2_at1` c2_at1_type NOT NULL,KEY `FK_assoc9_c3_at1_idx` (`c3_at1`)KEY `FK_assoc9_c2_at1_idx` (`c2_at1`)PRIMARY KEY (`c3_at1`,`c2_at1`)CREATE TABLE `class9_name` (`c9_at1` c9_at1_type(64),`c2_at1` c2_at1_type NOT NULL,KEY `FK_class9_name_c2_at1_idx` (`c2_at1`),PRIMARY KEY (`c2_at1`)CREATE TABLE `class8_name` (`c8_at1` c8_at1_type(64),`c2_at1` c2_at1_type NOT NULL,PRIMARY KEY (`c2_at1`)ALTER TABLE `class5_name`ADD CONSTRAINT `FK_class5_name_c2_at1` FOREIGN KEY (`c2_at1`) REFERENCES `class2_name` (`c2_at1`) ON DELETE CASCADE ON UPDATE CASCADE,ALTER TABLE `class2_name`ADD CONSTRAINT `FK_class2_name_c10_at1` FOREIGN KEY (`c10_at1`) REFERENCES `class10_name` (`c10_at1`) ON DELETE CASCADE ON UPDATE CASCADE;ALTER TABLE `class3_name`ADD CONSTRAINT `FK_class3_name_c1_at1` FOREIGN KEY (`c1_at1`) REFERENCES `class1_name` (`c1_at1`) ON DELETE CASCADE ON UPDATE CASCADE,ALTER TABLE `assoc1`ADD CONSTRAINT `FK_assoc1_c4_at3` FOREIGN KEY (`c4_at3`) REFERENCES `class4_name` (`c4_at3`) ON DELETE CASCADE ON UPDATE CASCADE;ADD CONSTRAINT `FK_assoc1_c2_at1` FOREIGN KEY (`c2_at1`) REFERENCES `class2_name` (`c2_at1`) ON DELETE CASCADE ON UPDATE CASCADE;ALTER TABLE `assoc4`ADD CONSTRAINT `FK_assoc4_c10_at1` FOREIGN KEY (`c10_at1`) REFERENCES `class10_name` (`c10_at1`) ON DELETE CASCADE ON UPDATE CASCADE;ADD CONSTRAINT `FK_assoc4_c6_at2` FOREIGN KEY (`c6_at2`) REFERENCES `class6_name` (`c6_at2`) ON DELETE CASCADE ON UPDATE CASCADE;ALTER TABLE `assoc2`ALTER TABLE `assoc5`ADD CONSTRAINT `FK_assoc5_c6_at2` FOREIGN KEY (`c6_at2`) REFERENCES `class6_name` (`c6_at2`) ON DELETE CASCADE ON UPDATE CASCADE;ADD CONSTRAINT `FK_assoc5_c1_at1` FOREIGN KEY (`c1_at1`) REFERENCES `class1_name` (`c1_at1`) ON DELETE CASCADE ON UPDATE CASCADE;ALTER TABLE `class4_name`ADD CONSTRAINT `FK_class4_name_c10_at1` FOREIGN KEY (`c10_at1`) REFERENCES `class10_name` (`c10_at1`) ON DELETE CASCADE ON UPDATE CASCADE;ADD CONSTRAINT `FK_class4_name_c6_at2` FOREIGN KEY (`c6_at2`) REFERENCES `class6_name` (`c6_at2`) ON DELETE CASCADE ON UPDATE CASCADE;ADD CONSTRAINT `FK_class4_name_c1_at1` FOREIGN KEY (`c1_at1`) REFERENCES `class1_name` (`c1_at1`) ON DELETE CASCADE ON UPDATE CASCADE,ALTER TABLE `assoc9`ADD CONSTRAINT `FK_assoc9_c3_at1` FOREIGN KEY (`c3_at1`) REFERENCES `class3_name` (`c3_at1`) ON DELETE CASCADE ON UPDATE CASCADE;ADD CONSTRAINT `FK_assoc9_c2_at1` FOREIGN KEY (`c2_at1`) REFERENCES `class2_name` (`c2_at1`) ON DELETE CASCADE ON UPDATE CASCADE;ALTER TABLE `class9_name`ADD CONSTRAINT `FK_class9_name_c2_at1` FOREIGN KEY (`c2_at1`) REFERENCES `class2_name` (`c2_at1`) ON DELETE CASCADE ON UPDATE CASCADE;'\n"
          ]
        }
      ],
      "source": [
        "#example_text = tf.constant('moduleOM_nameopenDeclarationonesigclass1_nameextendsClassattrSet=c1_at1+c1_at2id=c1_at1noparentisAbstract=No}onesigc1_at1extendsc1_at1_typeonesigc1_at2extendsc1_at2_typeonesigclass2_nameextendsClassattrSet=c2_at1+c2_at2+c2_at3+c2_at4id=c2_at1noparentisAbstract=No}onesigc2_at1extendsc2_at1_typeonesigc2_at2extendsc2_at2_typeonesigc2_at3extendsc2_at3_typeonesigc2_at4extendsc2_at4_typeonesigclass3_nameextendsClassattrSet=c3_at1+c3_at2+c3_at3+c3_at4id=c3_at1noparentisAbstract=No}onesigc3_at1extendsc3_at1_typeonesigc3_at2extendsc3_at2_typeonesigc3_at3extendsc3_at3_typeonesigc3_at4extendsc3_at4_typeonesigclass4_nameextendsClassattrSet=c4_at1id=c4_at1noparentisAbstract=No}onesigc4_at1extendsc4_at1_typeonesigclass5_nameextendsClassattrSet=c5_at1+c5_at2+c5_at3+c5_at4id=c5_at1noparentisAbstract=No}onesigc5_at1extendsc5_at1_typeonesigc5_at2extendsc5_at2_typeonesigc5_at3extendsc5_at3_typeonesigc5_at4extendsc5_at4_typeonesigclass6_nameextendsClassattrSet=c6_at1+c6_at2+c6_at3+c6_at4id=c6_at1noparentisAbstract=No}onesigc6_at1extendsc6_at1_typeonesigc6_at2extendsc6_at2_typeonesigc6_at3extendsc6_at3_typeonesigc6_at4extendsc6_at4_typeonesigassoc1extendsAssociationsrc=class1_namedst=class5_namesrc_multiplicity=src_mlpcdst_multiplicity=dst_mlpc}onesigassoc2extendsAssociationsrc=class1_namedst=class5_namesrc_multiplicity=src_mlpcdst_multiplicity=dst_mlpc}onesigassoc3extendsAssociationsrc=class4_namedst=class5_namesrc_multiplicity=src_mlpcdst_multiplicity=dst_mlpc}onesigassoc4extendsAssociationsrc=class1_namedst=class6_namesrc_multiplicity=src_mlpcdst_multiplicity=dst_mlpc2}onesigassoc5extendsAssociationsrc=class1_namedst=class3_namesrc_multiplicity=src_mlpcdst_multiplicity=dst_mlpc2}predshowrunshowfor38,​OM_name_Solution:0Table:class1_nameAttributec1_at1:c1_at1_typePrimaryKeyTable:class1_nameAttributec1_at2:c1_at2_typeTable:class2_nameAttributec2_at1:c1_at1_typePrimaryKeyTable:class2_nameAttributec2_at2:c2_at2_typeTable:class2_nameAttributec2_at3:c2_at3_typeTable:class3_nameAttributec3_at1:c3_at1_typePrimaryKeyTable:class3_nameAttributec3_at4:c3_at4_typeTable:class3_nameAttributec3_at2:c3_at2_typeTable:class4_nameAttributec4_at1:c4_at1_typePrimaryKeyTable:class5_nameAttributec5_at3:c5_at3_typeTable:class5_nameAttributec5_at4:c5_at4_typeTable:class6_nameAttributec6_at1:c6_at1_typePrimaryKeyTable:class6_nameAttributec6_at2:c6_at2_typeTable:class6_nameAttributec6_at3:c6_at3_typeTable:class6_nameAttributec6_at4:c6_at4_typeTable:class1_nameAttributec1_at1:c1_at1_typePrimaryKeyTable:class2_nameAttributec2_at1:c1_at1_typePrimaryKeyTable:class3_nameAttributec3_at1:c3_at1_typePrimaryKeyTable:class4_nameAttributec4_at1:c4_at1_typePrimaryKeyTable:class6_nameAttributec6_at1:c6_at1_typePrimaryKeyTableName:class1_nameTableName:class2_nameTableName:class3_nameTableName:class4_nameTableName:class5_nameTableName:class6_nameMappingStrategyofTableclass1_name:map_str2MappingStrategyofTableclass2_name:map_str2MappingStrategyofTableclass3_name:map_str2MappingStrategyofTableclass4_name:map_str2MappingStrategyofTableclass6_name:map_str2AssociationStrategyforassoc1:assoc_type1AssociationStrategyforassoc2:assoc_type1AssociationStrategyforassoc3:assoc_type2AssociationStrategyforassoc4:assoc_type2AssociationStrategyforassoc5:assoc_type2,USEOM_name0----CREATETABLE`assoc1`(`c5_at1`c5_at1_type`c1_at1`c1_at1_typeKEY`FK_assoc1_c5_at1_idx`(`c5_at1`)KEY`FK_assoc1_c1_at1_idx`(`c1_at1`)PRIMARYKEY(`c5_at1``c1_at1`));----CREATETABLE`assoc3``c5_at1`c5_at1_type`c4_at1`c4_at1_typeKEY`FK_assoc3_c5_at1_idx`(`c5_at1`)KEY`FK_assoc3_c4_at1_idx`(`c4_at1`)PRIMARYKEY(`c5_at1``c4_at1`));----CREATETABLE`class5_name`(`c5_at4`c5_at4_type(64)`c5_at3`c5_at3_type(64)`c1_at1`c1_at1_type`c5_at1`c5_at1_typePRIMARYKEY(`c5_at1`));----CREATETABLE`class3_name`(`c3_at3`c3_at3_type(64)`c3_at2`c3_at2_type(64)`c3_at4`c3_at4_type`c3_at1`c3_at1_typeNOTNULLPRIMARYKEY(`c3_at1`));----CREATETABLE`class2_name`(`c2_at3`c2_at3_type(64)`c2_at2`c2_at2_type(64)`c2_at4`c2_at4_type`c2_at1`c2_at1_typePRIMARYKEY(`c2_at1`));----CREATETABLE`class4_name`(`c4_at1`c4_at1_typePRIMARYKEY(`c4_at1`));----CREATETABLE`class1_name`(`c1_at2`c1_at2_type(64)`c1_at1`c1_at1_typePRIMARYKEY(`c1_at1`));----CREATETABLE`class6_name`(`c6_at4`c6_at4_type`c6_at3`c6_at3_type`c6_at2`c6_at2_type`c6_at1`c6_at1_typeNOTNULLPRIMARYKEY(`c6_at1`));----CREATETABLE`assoc2`(`c5_at1`c5_at1_type`c2_at1`c2_at1_typeKEY`FK_assoc2_c5_at1_idx`(`c5_at1`)KEY`FK_assoc2_c2_at1_idx`(`c2_at1`)PRIMARYKEY(`c5_at1``c2_at1`));----CREATETABLE`assoc5`(`c3_at1`c3_at1_typeNOTNULL`c2_at1`c2_at1_typeKEY`FK_assoc5_c3_at1_idx`(`c3_at1`)KEY`FK_assoc5_c2_at1_idx`(`c2_at1`)PRIMARYKEY(`c3_at1``c2_at1`));----CREATETABLE`assoc4`(`c6_at1`c6_at1_typeNOTNULL`c2_at1`c2_at1_typeKEY`FK_assoc4_c6_at1_idx`(`c6_at1`)KEY`FK_assoc4_c2_at1_idx`(`c2_at1`)PRIMARYKEY(`c6_at1``c2_at1`));ALTERTABLE`assoc1`ADDCONSTRAINT`FK_assoc1_c5_at1`FOREIGNKEY(`c5_at1`)REFERENCES`class5_name`(`c5_at1`)ONDELETECASCADEONUPDATECASCADEADDCONSTRAINT`FK_assoc1_c1_at1`FOREIGNKEY(`c1_at1`)REFERENCES`class1_name`(`c1_at1`)ONDELETECASCADEONUPDATECASCADE;ALTERTABLE`assoc3`ADDCONSTRAINT`FK_assoc3_c5_at1`FOREIGNKEY(`c5_at1`)REFERENCES`class5_name`(`c5_at1`)ONDELETECASCADEONUPDATECASCADEADDCONSTRAINT`FK_assoc3_c4_at1`FOREIGNKEY(`c4_at1`)REFERENCES`class4_name`(`c4_at1`)ONDELETECASCADEONUPDATECASCADE;ALTERTABLE`assoc2`ADDCONSTRAINT`FK_assoc2_c5_at1`FOREIGNKEY(`c5_at1`)REFERENCES`class5_name`(`c5_at1`)ONDELETECASCADEONUPDATECASCADEADDCONSTRAINT`FK_assoc2_c2_at1`FOREIGNKEY(`c2_at1`)REFERENCES`class2_name`(`c2_at1`)ONDELETECASCADEONUPDATECASCADEALTERTABLE`assoc5`ADDCONSTRAINT`FK_assoc5_c3_at1`FOREIGNKEY(`c3_at1`)REFERENCES`class3_name`(`c3_at1`)ONDELETECASCADEONUPDATECASCADEADDCONSTRAINT`FK_assoc5_c2_at1`FOREIGNKEY(`c2_at1`)REFERENCES`class2_name`(`c2_at1`)ONDELETECASCADEONUPDATECASCADE;ALTERTABLE`assoc4`ADDCONSTRAINT`FK_assoc4_c6_at1`FOREIGNKEY(`c6_at1`)REFERENCES`class6_name`(`c6_at1`)ONDELETECASCADEONUPDATECASCADEADDCONSTRAINT`FK_assoc4_c2_at1`FOREIGNKEY(`c2_at1`)REFERENCES`class2_name`(`c2_at1`)ONDELETECASCADEONUPDATECASCADE')\n",
        "example_text = tf.constant('module OM_name 0;open Declarationone sig class1_name extends ClassattrSet = c1_at1+c1_at2id=c1_at1no parentisAbstract = No}one sig c1_at1 extends c1_at1_typeone sig c1_at2 extends c1_at2_typeone sig class2_name extends ClassattrSet = c2_at1+c2_at2id=c2_at1no parentisAbstract = No}one sig c2_at1 extends c2_at1_typeone sig c2_at1 extends c2_at2_typeone sig class3_name extends ClassattrSet = c3_at1+c3_at2+c3_at3+c3_at4c3_at5+c3_at6id=c3_at1no parentisAbstract = No}one sig c3_at1 extends c3_at1_typeone sig c3_at2 extends c3_at2_typeone sig c3_at3 extends c3_at3_typeone sig c3_at4 extends c3_at4_typeone sig c3_at5 extends c3_at5_typeone sig c3_at6 extends c3_at6_typeone sig class4_name extends ClassattrSet = c4_at1+c4_at2+c4_at3+c4_at4id=c4_at3no parentisAbstract = No}one sig c4_at1 extends c4_at1_typeone sig c4_at2 extends c4_at2_typeone sig c4_at3 extends c4_at3_typeone sig c4_at4 extends c4_at4_typeone sig class5_name extends ClassattrSet = c5_at1one parentparent in class2_nameid = c2_at1isAbstract = No}one sig c5_at1 extends c5_at1_typeone sig class6_name extends ClassattrSet = c6_at1_0+c6_at2+c6_at3+c6_at4id=c6_at2no parentisAbstract = No}one sig c6_at1_0 extends c6_at1_typeone sig c6_at2 extends c6_at2_typeone sig c6_at3 extends c6_at3_typeone sig c6_at4 extends c6_at4_typeone sig class7_name extends ClassattrSet = c7_at1one parentparent in class2_nameid = c2_at1isAbstract = No}one sig c7_at1 extends c7_at1_typeone sig class8_name extends ClassattrSet = c8_at1one parentparent in class2_nameid = c2_at1isAbstract = No}one sig c8_at1 extends c8_at1_typeone sig class9_name extends ClassattrSet = c9_at1one parentparent in class2_nameid = c2_at1isAbstract = No}one sig c9_at1 extends c9_at1_typeone sig class10_name extends ClassattrSet = c10_at1+c10_at2+c2_at2+c6_at3id=c10_at1no parentisAbstract = No}one sig c10_at1 extends c10_at1_typeone sig c10_at2 extends c10_at2_typeone sig assoc10 extends Associationsrc = class10_namedst= class2_namesrc_multiplicity = src_mlpcdst_multiplicity = dst_mlpc}one sig assoc1 extends Associationsrc = class2_namedst= class4_namesrc_multiplicity = src_mlpc2dst_multiplicity = dst_mlpc}one sig assoc2 extends Associationsrc = class10_namedst= class3_namesrc_multiplicity = src_mlpcdst_multiplicity = dst_mlpc}one sig assoc3 extends Associationsrc = class10_namedst= class4_namesrc_multiplicity = src_mlpcdst_multiplicity = dst_mlpc}one sig assoc4 extends Associationsrc = class10_namedst= class6_namesrc_multiplicity = src_mlpcdst_multiplicity = dst_mlpc2}one sig assoc5 extends Associationsrc = class6_namedst= class1_namesrc_multiplicity = src_mlpcdst_multiplicity = dst_mlpc2}one sig assoc6 extends Associationsrc = class6_namedst= class4_namesrc_multiplicity = src_mlpcdst_multiplicity = dst_mlpc}one sig assoc7 extends Associationsrc = class1_namedst= class3_namesrc_multiplicity = src_mlpcdst_multiplicity = dst_mlpc}one sig assoc8 extends Associationsrc = class1_namedst= class4_namesrc_multiplicity = src_mlpcdst_multiplicity = dst_mlpc}one sig assoc9 extends Associationsrc = class2_namedst= class3_namesrc_multiplicity = src_mlpcdst_multiplicity = dst_mlpc2}pred showrun show,Mapping Strategy for class1_name : map_str2Mapping Strategy for class5_name : map_str2Mapping Strategy for class7_name : map_str2Mapping Strategy for class8_name : map_str2Mapping Strategy for class10_name : map_str2Association Strategy for assoc2 : assoc_str1Association Strategy for assoc3 : assoc_str1Association Strategy for assoc7 : assoc_str1Association Strategy for assoc1 : assoc_str2Association Strategy for assoc4 : assoc_str2Association Strategy for assoc5 : assoc_str2Association Strategy for assoc6 : assoc_str2Association Strategy for assoc9 : assoc_str2,USE OM_name:0;CREATE TABLE `class7_name` (`c7_at1` c7_at1_type(64),`c2_at2` c2_at2_type(64),`c2_at1` c2_at1_type NOT NULL,PRIMARY KEY (`c2_at1`)CREATE TABLE `class5_name` (c5_at1` c5_at1_type(64),`c2_at1` c2_at1_type NOT NULL,KEY `FK_class5_name_c2_at1_idx` (`c2_at1`),PRIMARY KEY (`c2_at1`)CREATE TABLE `class2_name` (`c2_at2` c2_at2_type(64),c10_at1` c10_at1_type`c2_at1` c2_at1_type NOT NULL,KEY `FK_class2_name_c10_at1_idx` (`c10_at1`),PRIMARY KEY (`c2_at1`)CREATE TABLE `class3_name` (`c3_at6` c3_at6_type,`c3_at5` c3_at5_type,`c3_at4` c3_at4_type,`c3_at3` c3_at3_type,`c3_at2` c3_at2_type,`c3_at1` c3_at1_type NOT NULL,`c1_at1` int,KEY `FK_class3_name_c1_at1_idx` (`c1_at1`),PRIMARY KEY (`c3_at1`)CREATE TABLE `class1_name` (`c1_at2` c1_at2_type(64),`c1_at1` c1_at1_type NOT NULL,PRIMARY KEY (`c1_at1`)CREATE TABLE `class6_name` (`c6_at4` c6_at4_type(64),`c6_at1_0` c6_at1_type(64),`c6_at2` c6_at2_type NOT NULL,PRIMARY KEY (`c6_at2`)CREATE TABLE `assoc1` (`c4_at3` c4_at3_type NOT NULL,`c2_at1` c2_at1_type NOT NULL,KEY `FK_assoc1_c4_at3_idx` (`c4_at3`),KEY `FK_assoc1_c2_at1_idx` (`c2_at1`),PRIMARY KEY (`c4_at3`,`c2_at1`)CREATE TABLE `assoc4` (c10_at1` c10_at1_type`c6_at2` c6_at2_type NOT NULL,KEY `FK_assoc4_c10_at1_idx` (`c10_at1`),KEY `FK_assoc4_c6_at2_idx` (`c6_at2`),PRIMARY KEY (`c10_at1`,`c6_at2`)CREATE TABLE `assoc2` (c10_at1` c10_at1_type`c3_at1` c3_at1_type NOT NULL,Association Strategy for assoc5 : assoc_str2`c6_at2` c6_at2_type NOT NULL,`c1_at1` c1_at1_type NOT NULL,KEY `FK_assoc5_c6_at2_idx` (`c6_at2`),KEY `FK_assoc5_c1_at1_idx` (`c1_at1`),PRIMARY KEY (`c6_at2`,`c1_at1`)CREATE TABLE `class10_name` (`c10_at2` c10_at2_type(64),`c6_at3` c6_at3_type(64),c10_at1` c10_at1_typePRIMARY KEY (`c10_at1`)CREATE TABLE `class4_name` (`c4_at4` c4_at4_type(64),`c4_at2` c4_at2_type(64),`c4_at1` c4_at1_type(64),c10_at1` c10_at1_type`c6_at2` c6_at2_type,`c4_at3` c4_at3_type NOT NULL,`c1_at1` int,KEY `FK_class4_name_c10_at1_idx` (`c10_at1`),KEY `FK_class4_name_c6_at2_idx` (`c6_at2`),KEY `FK_class4_name_c1_at1_idx` (`c1_at1`),PRIMARY KEY (`c4_at3`)CREATE TABLE `assoc9` (`c3_at1` c3_at1_type NOT NULL,`c2_at1` c2_at1_type NOT NULL,KEY `FK_assoc9_c3_at1_idx` (`c3_at1`)KEY `FK_assoc9_c2_at1_idx` (`c2_at1`)PRIMARY KEY (`c3_at1`,`c2_at1`)CREATE TABLE `class9_name` (`c9_at1` c9_at1_type(64),`c2_at1` c2_at1_type NOT NULL,KEY `FK_class9_name_c2_at1_idx` (`c2_at1`),PRIMARY KEY (`c2_at1`)CREATE TABLE `class8_name` (`c8_at1` c8_at1_type(64),`c2_at1` c2_at1_type NOT NULL,PRIMARY KEY (`c2_at1`)ALTER TABLE `class5_name`ADD CONSTRAINT `FK_class5_name_c2_at1` FOREIGN KEY (`c2_at1`) REFERENCES `class2_name` (`c2_at1`) ON DELETE CASCADE ON UPDATE CASCADE,ALTER TABLE `class2_name`ADD CONSTRAINT `FK_class2_name_c10_at1` FOREIGN KEY (`c10_at1`) REFERENCES `class10_name` (`c10_at1`) ON DELETE CASCADE ON UPDATE CASCADE;ALTER TABLE `class3_name`ADD CONSTRAINT `FK_class3_name_c1_at1` FOREIGN KEY (`c1_at1`) REFERENCES `class1_name` (`c1_at1`) ON DELETE CASCADE ON UPDATE CASCADE,ALTER TABLE `assoc1`ADD CONSTRAINT `FK_assoc1_c4_at3` FOREIGN KEY (`c4_at3`) REFERENCES `class4_name` (`c4_at3`) ON DELETE CASCADE ON UPDATE CASCADE;ADD CONSTRAINT `FK_assoc1_c2_at1` FOREIGN KEY (`c2_at1`) REFERENCES `class2_name` (`c2_at1`) ON DELETE CASCADE ON UPDATE CASCADE;ALTER TABLE `assoc4`ADD CONSTRAINT `FK_assoc4_c10_at1` FOREIGN KEY (`c10_at1`) REFERENCES `class10_name` (`c10_at1`) ON DELETE CASCADE ON UPDATE CASCADE;ADD CONSTRAINT `FK_assoc4_c6_at2` FOREIGN KEY (`c6_at2`) REFERENCES `class6_name` (`c6_at2`) ON DELETE CASCADE ON UPDATE CASCADE;ALTER TABLE `assoc2`ALTER TABLE `assoc5`ADD CONSTRAINT `FK_assoc5_c6_at2` FOREIGN KEY (`c6_at2`) REFERENCES `class6_name` (`c6_at2`) ON DELETE CASCADE ON UPDATE CASCADE;ADD CONSTRAINT `FK_assoc5_c1_at1` FOREIGN KEY (`c1_at1`) REFERENCES `class1_name` (`c1_at1`) ON DELETE CASCADE ON UPDATE CASCADE;ALTER TABLE `class4_name`ADD CONSTRAINT `FK_class4_name_c10_at1` FOREIGN KEY (`c10_at1`) REFERENCES `class10_name` (`c10_at1`) ON DELETE CASCADE ON UPDATE CASCADE;ADD CONSTRAINT `FK_class4_name_c6_at2` FOREIGN KEY (`c6_at2`) REFERENCES `class6_name` (`c6_at2`) ON DELETE CASCADE ON UPDATE CASCADE;ADD CONSTRAINT `FK_class4_name_c1_at1` FOREIGN KEY (`c1_at1`) REFERENCES `class1_name` (`c1_at1`) ON DELETE CASCADE ON UPDATE CASCADE,ALTER TABLE `assoc9`ADD CONSTRAINT `FK_assoc9_c3_at1` FOREIGN KEY (`c3_at1`) REFERENCES `class3_name` (`c3_at1`) ON DELETE CASCADE ON UPDATE CASCADE;ADD CONSTRAINT `FK_assoc9_c2_at1` FOREIGN KEY (`c2_at1`) REFERENCES `class2_name` (`c2_at1`) ON DELETE CASCADE ON UPDATE CASCADE;ALTER TABLE `class9_name`ADD CONSTRAINT `FK_class9_name_c2_at1` FOREIGN KEY (`c2_at1`) REFERENCES `class2_name` (`c2_at1`) ON DELETE CASCADE ON UPDATE CASCADE;')\n",
        "#example_text = tf.constant('class1,table2,obj1,atr1')\n",
        "print(example_text.numpy())\n",
        "print(tf_text.normalize_utf8(example_text, 'NFKD').numpy())"
      ]
    },
    {
      "cell_type": "code",
      "execution_count": 271,
      "metadata": {
        "id": "chTF5N885F0P"
      },
      "outputs": [],
      "source": [
        "def tf_lower_and_split_punct(text):\n",
        "  # Split accented characters.\n",
        "  text = tf_text.normalize_utf8(text, 'NFKD')\n",
        "  text = tf.strings.lower(text)\n",
        "  # Keep space, a to z, and select punctuation.\n",
        "  text = tf.strings.regex_replace(text, '', '')\n",
        "  # Add spaces around punctuation.\n",
        "  text = tf.strings.regex_replace(text, '', r'')\n",
        "  # Strip whitespace.\n",
        "  text = tf.strings.strip(text)\n",
        "\n",
        "  text = tf.strings.join(['[START]', text, '[END]'], separator=' ')\n",
        "  return text\n"
      ]
    },
    {
      "cell_type": "code",
      "execution_count": 272,
      "metadata": {
        "id": "UREvDg3sEKYa",
        "colab": {
          "base_uri": "https://localhost:8080/"
        },
        "outputId": "c21b369d-fae0-4257-db1e-ea551e4edb87"
      },
      "outputs": [
        {
          "output_type": "stream",
          "name": "stdout",
          "text": [
            "module OM_name 0;open Declarationone sig class1_name extends ClassattrSet = c1_at1+c1_at2id=c1_at1no parentisAbstract = No}one sig c1_at1 extends c1_at1_typeone sig c1_at2 extends c1_at2_typeone sig class2_name extends ClassattrSet = c2_at1+c2_at2id=c2_at1no parentisAbstract = No}one sig c2_at1 extends c2_at1_typeone sig c2_at1 extends c2_at2_typeone sig class3_name extends ClassattrSet = c3_at1+c3_at2+c3_at3+c3_at4c3_at5+c3_at6id=c3_at1no parentisAbstract = No}one sig c3_at1 extends c3_at1_typeone sig c3_at2 extends c3_at2_typeone sig c3_at3 extends c3_at3_typeone sig c3_at4 extends c3_at4_typeone sig c3_at5 extends c3_at5_typeone sig c3_at6 extends c3_at6_typeone sig class4_name extends ClassattrSet = c4_at1+c4_at2+c4_at3+c4_at4id=c4_at3no parentisAbstract = No}one sig c4_at1 extends c4_at1_typeone sig c4_at2 extends c4_at2_typeone sig c4_at3 extends c4_at3_typeone sig c4_at4 extends c4_at4_typeone sig class5_name extends ClassattrSet = c5_at1one parentparent in class2_nameid = c2_at1isAbstract = No}one sig c5_at1 extends c5_at1_typeone sig class6_name extends ClassattrSet = c6_at1_0+c6_at2+c6_at3+c6_at4id=c6_at2no parentisAbstract = No}one sig c6_at1_0 extends c6_at1_typeone sig c6_at2 extends c6_at2_typeone sig c6_at3 extends c6_at3_typeone sig c6_at4 extends c6_at4_typeone sig class7_name extends ClassattrSet = c7_at1one parentparent in class2_nameid = c2_at1isAbstract = No}one sig c7_at1 extends c7_at1_typeone sig class8_name extends ClassattrSet = c8_at1one parentparent in class2_nameid = c2_at1isAbstract = No}one sig c8_at1 extends c8_at1_typeone sig class9_name extends ClassattrSet = c9_at1one parentparent in class2_nameid = c2_at1isAbstract = No}one sig c9_at1 extends c9_at1_typeone sig class10_name extends ClassattrSet = c10_at1+c10_at2+c2_at2+c6_at3id=c10_at1no parentisAbstract = No}one sig c10_at1 extends c10_at1_typeone sig c10_at2 extends c10_at2_typeone sig assoc10 extends Associationsrc = class10_namedst= class2_namesrc_multiplicity = src_mlpcdst_multiplicity = dst_mlpc}one sig assoc1 extends Associationsrc = class2_namedst= class4_namesrc_multiplicity = src_mlpc2dst_multiplicity = dst_mlpc}one sig assoc2 extends Associationsrc = class10_namedst= class3_namesrc_multiplicity = src_mlpcdst_multiplicity = dst_mlpc}one sig assoc3 extends Associationsrc = class10_namedst= class4_namesrc_multiplicity = src_mlpcdst_multiplicity = dst_mlpc}one sig assoc4 extends Associationsrc = class10_namedst= class6_namesrc_multiplicity = src_mlpcdst_multiplicity = dst_mlpc2}one sig assoc5 extends Associationsrc = class6_namedst= class1_namesrc_multiplicity = src_mlpcdst_multiplicity = dst_mlpc2}one sig assoc6 extends Associationsrc = class6_namedst= class4_namesrc_multiplicity = src_mlpcdst_multiplicity = dst_mlpc}one sig assoc7 extends Associationsrc = class1_namedst= class3_namesrc_multiplicity = src_mlpcdst_multiplicity = dst_mlpc}one sig assoc8 extends Associationsrc = class1_namedst= class4_namesrc_multiplicity = src_mlpcdst_multiplicity = dst_mlpc}one sig assoc9 extends Associationsrc = class2_namedst= class3_namesrc_multiplicity = src_mlpcdst_multiplicity = dst_mlpc2}pred showrun show,Mapping Strategy for class1_name : map_str2Mapping Strategy for class5_name : map_str2Mapping Strategy for class7_name : map_str2Mapping Strategy for class8_name : map_str2Mapping Strategy for class10_name : map_str2Association Strategy for assoc2 : assoc_str1Association Strategy for assoc3 : assoc_str1Association Strategy for assoc7 : assoc_str1Association Strategy for assoc1 : assoc_str2Association Strategy for assoc4 : assoc_str2Association Strategy for assoc5 : assoc_str2Association Strategy for assoc6 : assoc_str2Association Strategy for assoc9 : assoc_str2,USE OM_name:0;CREATE TABLE `class7_name` (`c7_at1` c7_at1_type(64),`c2_at2` c2_at2_type(64),`c2_at1` c2_at1_type NOT NULL,PRIMARY KEY (`c2_at1`)CREATE TABLE `class5_name` (c5_at1` c5_at1_type(64),`c2_at1` c2_at1_type NOT NULL,KEY `FK_class5_name_c2_at1_idx` (`c2_at1`),PRIMARY KEY (`c2_at1`)CREATE TABLE `class2_name` (`c2_at2` c2_at2_type(64),c10_at1` c10_at1_type`c2_at1` c2_at1_type NOT NULL,KEY `FK_class2_name_c10_at1_idx` (`c10_at1`),PRIMARY KEY (`c2_at1`)CREATE TABLE `class3_name` (`c3_at6` c3_at6_type,`c3_at5` c3_at5_type,`c3_at4` c3_at4_type,`c3_at3` c3_at3_type,`c3_at2` c3_at2_type,`c3_at1` c3_at1_type NOT NULL,`c1_at1` int,KEY `FK_class3_name_c1_at1_idx` (`c1_at1`),PRIMARY KEY (`c3_at1`)CREATE TABLE `class1_name` (`c1_at2` c1_at2_type(64),`c1_at1` c1_at1_type NOT NULL,PRIMARY KEY (`c1_at1`)CREATE TABLE `class6_name` (`c6_at4` c6_at4_type(64),`c6_at1_0` c6_at1_type(64),`c6_at2` c6_at2_type NOT NULL,PRIMARY KEY (`c6_at2`)CREATE TABLE `assoc1` (`c4_at3` c4_at3_type NOT NULL,`c2_at1` c2_at1_type NOT NULL,KEY `FK_assoc1_c4_at3_idx` (`c4_at3`),KEY `FK_assoc1_c2_at1_idx` (`c2_at1`),PRIMARY KEY (`c4_at3`,`c2_at1`)CREATE TABLE `assoc4` (c10_at1` c10_at1_type`c6_at2` c6_at2_type NOT NULL,KEY `FK_assoc4_c10_at1_idx` (`c10_at1`),KEY `FK_assoc4_c6_at2_idx` (`c6_at2`),PRIMARY KEY (`c10_at1`,`c6_at2`)CREATE TABLE `assoc2` (c10_at1` c10_at1_type`c3_at1` c3_at1_type NOT NULL,Association Strategy for assoc5 : assoc_str2`c6_at2` c6_at2_type NOT NULL,`c1_at1` c1_at1_type NOT NULL,KEY `FK_assoc5_c6_at2_idx` (`c6_at2`),KEY `FK_assoc5_c1_at1_idx` (`c1_at1`),PRIMARY KEY (`c6_at2`,`c1_at1`)CREATE TABLE `class10_name` (`c10_at2` c10_at2_type(64),`c6_at3` c6_at3_type(64),c10_at1` c10_at1_typePRIMARY KEY (`c10_at1`)CREATE TABLE `class4_name` (`c4_at4` c4_at4_type(64),`c4_at2` c4_at2_type(64),`c4_at1` c4_at1_type(64),c10_at1` c10_at1_type`c6_at2` c6_at2_type,`c4_at3` c4_at3_type NOT NULL,`c1_at1` int,KEY `FK_class4_name_c10_at1_idx` (`c10_at1`),KEY `FK_class4_name_c6_at2_idx` (`c6_at2`),KEY `FK_class4_name_c1_at1_idx` (`c1_at1`),PRIMARY KEY (`c4_at3`)CREATE TABLE `assoc9` (`c3_at1` c3_at1_type NOT NULL,`c2_at1` c2_at1_type NOT NULL,KEY `FK_assoc9_c3_at1_idx` (`c3_at1`)KEY `FK_assoc9_c2_at1_idx` (`c2_at1`)PRIMARY KEY (`c3_at1`,`c2_at1`)CREATE TABLE `class9_name` (`c9_at1` c9_at1_type(64),`c2_at1` c2_at1_type NOT NULL,KEY `FK_class9_name_c2_at1_idx` (`c2_at1`),PRIMARY KEY (`c2_at1`)CREATE TABLE `class8_name` (`c8_at1` c8_at1_type(64),`c2_at1` c2_at1_type NOT NULL,PRIMARY KEY (`c2_at1`)ALTER TABLE `class5_name`ADD CONSTRAINT `FK_class5_name_c2_at1` FOREIGN KEY (`c2_at1`) REFERENCES `class2_name` (`c2_at1`) ON DELETE CASCADE ON UPDATE CASCADE,ALTER TABLE `class2_name`ADD CONSTRAINT `FK_class2_name_c10_at1` FOREIGN KEY (`c10_at1`) REFERENCES `class10_name` (`c10_at1`) ON DELETE CASCADE ON UPDATE CASCADE;ALTER TABLE `class3_name`ADD CONSTRAINT `FK_class3_name_c1_at1` FOREIGN KEY (`c1_at1`) REFERENCES `class1_name` (`c1_at1`) ON DELETE CASCADE ON UPDATE CASCADE,ALTER TABLE `assoc1`ADD CONSTRAINT `FK_assoc1_c4_at3` FOREIGN KEY (`c4_at3`) REFERENCES `class4_name` (`c4_at3`) ON DELETE CASCADE ON UPDATE CASCADE;ADD CONSTRAINT `FK_assoc1_c2_at1` FOREIGN KEY (`c2_at1`) REFERENCES `class2_name` (`c2_at1`) ON DELETE CASCADE ON UPDATE CASCADE;ALTER TABLE `assoc4`ADD CONSTRAINT `FK_assoc4_c10_at1` FOREIGN KEY (`c10_at1`) REFERENCES `class10_name` (`c10_at1`) ON DELETE CASCADE ON UPDATE CASCADE;ADD CONSTRAINT `FK_assoc4_c6_at2` FOREIGN KEY (`c6_at2`) REFERENCES `class6_name` (`c6_at2`) ON DELETE CASCADE ON UPDATE CASCADE;ALTER TABLE `assoc2`ALTER TABLE `assoc5`ADD CONSTRAINT `FK_assoc5_c6_at2` FOREIGN KEY (`c6_at2`) REFERENCES `class6_name` (`c6_at2`) ON DELETE CASCADE ON UPDATE CASCADE;ADD CONSTRAINT `FK_assoc5_c1_at1` FOREIGN KEY (`c1_at1`) REFERENCES `class1_name` (`c1_at1`) ON DELETE CASCADE ON UPDATE CASCADE;ALTER TABLE `class4_name`ADD CONSTRAINT `FK_class4_name_c10_at1` FOREIGN KEY (`c10_at1`) REFERENCES `class10_name` (`c10_at1`) ON DELETE CASCADE ON UPDATE CASCADE;ADD CONSTRAINT `FK_class4_name_c6_at2` FOREIGN KEY (`c6_at2`) REFERENCES `class6_name` (`c6_at2`) ON DELETE CASCADE ON UPDATE CASCADE;ADD CONSTRAINT `FK_class4_name_c1_at1` FOREIGN KEY (`c1_at1`) REFERENCES `class1_name` (`c1_at1`) ON DELETE CASCADE ON UPDATE CASCADE,ALTER TABLE `assoc9`ADD CONSTRAINT `FK_assoc9_c3_at1` FOREIGN KEY (`c3_at1`) REFERENCES `class3_name` (`c3_at1`) ON DELETE CASCADE ON UPDATE CASCADE;ADD CONSTRAINT `FK_assoc9_c2_at1` FOREIGN KEY (`c2_at1`) REFERENCES `class2_name` (`c2_at1`) ON DELETE CASCADE ON UPDATE CASCADE;ALTER TABLE `class9_name`ADD CONSTRAINT `FK_class9_name_c2_at1` FOREIGN KEY (`c2_at1`) REFERENCES `class2_name` (`c2_at1`) ON DELETE CASCADE ON UPDATE CASCADE;\n",
            "[START] module om_name 0;open declarationone sig class1_name extends classattrset = c1_at1+c1_at2id=c1_at1no parentisabstract = no}one sig c1_at1 extends c1_at1_typeone sig c1_at2 extends c1_at2_typeone sig class2_name extends classattrset = c2_at1+c2_at2id=c2_at1no parentisabstract = no}one sig c2_at1 extends c2_at1_typeone sig c2_at1 extends c2_at2_typeone sig class3_name extends classattrset = c3_at1+c3_at2+c3_at3+c3_at4c3_at5+c3_at6id=c3_at1no parentisabstract = no}one sig c3_at1 extends c3_at1_typeone sig c3_at2 extends c3_at2_typeone sig c3_at3 extends c3_at3_typeone sig c3_at4 extends c3_at4_typeone sig c3_at5 extends c3_at5_typeone sig c3_at6 extends c3_at6_typeone sig class4_name extends classattrset = c4_at1+c4_at2+c4_at3+c4_at4id=c4_at3no parentisabstract = no}one sig c4_at1 extends c4_at1_typeone sig c4_at2 extends c4_at2_typeone sig c4_at3 extends c4_at3_typeone sig c4_at4 extends c4_at4_typeone sig class5_name extends classattrset = c5_at1one parentparent in class2_nameid = c2_at1isabstract = no}one sig c5_at1 extends c5_at1_typeone sig class6_name extends classattrset = c6_at1_0+c6_at2+c6_at3+c6_at4id=c6_at2no parentisabstract = no}one sig c6_at1_0 extends c6_at1_typeone sig c6_at2 extends c6_at2_typeone sig c6_at3 extends c6_at3_typeone sig c6_at4 extends c6_at4_typeone sig class7_name extends classattrset = c7_at1one parentparent in class2_nameid = c2_at1isabstract = no}one sig c7_at1 extends c7_at1_typeone sig class8_name extends classattrset = c8_at1one parentparent in class2_nameid = c2_at1isabstract = no}one sig c8_at1 extends c8_at1_typeone sig class9_name extends classattrset = c9_at1one parentparent in class2_nameid = c2_at1isabstract = no}one sig c9_at1 extends c9_at1_typeone sig class10_name extends classattrset = c10_at1+c10_at2+c2_at2+c6_at3id=c10_at1no parentisabstract = no}one sig c10_at1 extends c10_at1_typeone sig c10_at2 extends c10_at2_typeone sig assoc10 extends associationsrc = class10_namedst= class2_namesrc_multiplicity = src_mlpcdst_multiplicity = dst_mlpc}one sig assoc1 extends associationsrc = class2_namedst= class4_namesrc_multiplicity = src_mlpc2dst_multiplicity = dst_mlpc}one sig assoc2 extends associationsrc = class10_namedst= class3_namesrc_multiplicity = src_mlpcdst_multiplicity = dst_mlpc}one sig assoc3 extends associationsrc = class10_namedst= class4_namesrc_multiplicity = src_mlpcdst_multiplicity = dst_mlpc}one sig assoc4 extends associationsrc = class10_namedst= class6_namesrc_multiplicity = src_mlpcdst_multiplicity = dst_mlpc2}one sig assoc5 extends associationsrc = class6_namedst= class1_namesrc_multiplicity = src_mlpcdst_multiplicity = dst_mlpc2}one sig assoc6 extends associationsrc = class6_namedst= class4_namesrc_multiplicity = src_mlpcdst_multiplicity = dst_mlpc}one sig assoc7 extends associationsrc = class1_namedst= class3_namesrc_multiplicity = src_mlpcdst_multiplicity = dst_mlpc}one sig assoc8 extends associationsrc = class1_namedst= class4_namesrc_multiplicity = src_mlpcdst_multiplicity = dst_mlpc}one sig assoc9 extends associationsrc = class2_namedst= class3_namesrc_multiplicity = src_mlpcdst_multiplicity = dst_mlpc2}pred showrun show,mapping strategy for class1_name : map_str2mapping strategy for class5_name : map_str2mapping strategy for class7_name : map_str2mapping strategy for class8_name : map_str2mapping strategy for class10_name : map_str2association strategy for assoc2 : assoc_str1association strategy for assoc3 : assoc_str1association strategy for assoc7 : assoc_str1association strategy for assoc1 : assoc_str2association strategy for assoc4 : assoc_str2association strategy for assoc5 : assoc_str2association strategy for assoc6 : assoc_str2association strategy for assoc9 : assoc_str2,use om_name:0;create table `class7_name` (`c7_at1` c7_at1_type(64),`c2_at2` c2_at2_type(64),`c2_at1` c2_at1_type not null,primary key (`c2_at1`)create table `class5_name` (c5_at1` c5_at1_type(64),`c2_at1` c2_at1_type not null,key `fk_class5_name_c2_at1_idx` (`c2_at1`),primary key (`c2_at1`)create table `class2_name` (`c2_at2` c2_at2_type(64),c10_at1` c10_at1_type`c2_at1` c2_at1_type not null,key `fk_class2_name_c10_at1_idx` (`c10_at1`),primary key (`c2_at1`)create table `class3_name` (`c3_at6` c3_at6_type,`c3_at5` c3_at5_type,`c3_at4` c3_at4_type,`c3_at3` c3_at3_type,`c3_at2` c3_at2_type,`c3_at1` c3_at1_type not null,`c1_at1` int,key `fk_class3_name_c1_at1_idx` (`c1_at1`),primary key (`c3_at1`)create table `class1_name` (`c1_at2` c1_at2_type(64),`c1_at1` c1_at1_type not null,primary key (`c1_at1`)create table `class6_name` (`c6_at4` c6_at4_type(64),`c6_at1_0` c6_at1_type(64),`c6_at2` c6_at2_type not null,primary key (`c6_at2`)create table `assoc1` (`c4_at3` c4_at3_type not null,`c2_at1` c2_at1_type not null,key `fk_assoc1_c4_at3_idx` (`c4_at3`),key `fk_assoc1_c2_at1_idx` (`c2_at1`),primary key (`c4_at3`,`c2_at1`)create table `assoc4` (c10_at1` c10_at1_type`c6_at2` c6_at2_type not null,key `fk_assoc4_c10_at1_idx` (`c10_at1`),key `fk_assoc4_c6_at2_idx` (`c6_at2`),primary key (`c10_at1`,`c6_at2`)create table `assoc2` (c10_at1` c10_at1_type`c3_at1` c3_at1_type not null,association strategy for assoc5 : assoc_str2`c6_at2` c6_at2_type not null,`c1_at1` c1_at1_type not null,key `fk_assoc5_c6_at2_idx` (`c6_at2`),key `fk_assoc5_c1_at1_idx` (`c1_at1`),primary key (`c6_at2`,`c1_at1`)create table `class10_name` (`c10_at2` c10_at2_type(64),`c6_at3` c6_at3_type(64),c10_at1` c10_at1_typeprimary key (`c10_at1`)create table `class4_name` (`c4_at4` c4_at4_type(64),`c4_at2` c4_at2_type(64),`c4_at1` c4_at1_type(64),c10_at1` c10_at1_type`c6_at2` c6_at2_type,`c4_at3` c4_at3_type not null,`c1_at1` int,key `fk_class4_name_c10_at1_idx` (`c10_at1`),key `fk_class4_name_c6_at2_idx` (`c6_at2`),key `fk_class4_name_c1_at1_idx` (`c1_at1`),primary key (`c4_at3`)create table `assoc9` (`c3_at1` c3_at1_type not null,`c2_at1` c2_at1_type not null,key `fk_assoc9_c3_at1_idx` (`c3_at1`)key `fk_assoc9_c2_at1_idx` (`c2_at1`)primary key (`c3_at1`,`c2_at1`)create table `class9_name` (`c9_at1` c9_at1_type(64),`c2_at1` c2_at1_type not null,key `fk_class9_name_c2_at1_idx` (`c2_at1`),primary key (`c2_at1`)create table `class8_name` (`c8_at1` c8_at1_type(64),`c2_at1` c2_at1_type not null,primary key (`c2_at1`)alter table `class5_name`add constraint `fk_class5_name_c2_at1` foreign key (`c2_at1`) references `class2_name` (`c2_at1`) on delete cascade on update cascade,alter table `class2_name`add constraint `fk_class2_name_c10_at1` foreign key (`c10_at1`) references `class10_name` (`c10_at1`) on delete cascade on update cascade;alter table `class3_name`add constraint `fk_class3_name_c1_at1` foreign key (`c1_at1`) references `class1_name` (`c1_at1`) on delete cascade on update cascade,alter table `assoc1`add constraint `fk_assoc1_c4_at3` foreign key (`c4_at3`) references `class4_name` (`c4_at3`) on delete cascade on update cascade;add constraint `fk_assoc1_c2_at1` foreign key (`c2_at1`) references `class2_name` (`c2_at1`) on delete cascade on update cascade;alter table `assoc4`add constraint `fk_assoc4_c10_at1` foreign key (`c10_at1`) references `class10_name` (`c10_at1`) on delete cascade on update cascade;add constraint `fk_assoc4_c6_at2` foreign key (`c6_at2`) references `class6_name` (`c6_at2`) on delete cascade on update cascade;alter table `assoc2`alter table `assoc5`add constraint `fk_assoc5_c6_at2` foreign key (`c6_at2`) references `class6_name` (`c6_at2`) on delete cascade on update cascade;add constraint `fk_assoc5_c1_at1` foreign key (`c1_at1`) references `class1_name` (`c1_at1`) on delete cascade on update cascade;alter table `class4_name`add constraint `fk_class4_name_c10_at1` foreign key (`c10_at1`) references `class10_name` (`c10_at1`) on delete cascade on update cascade;add constraint `fk_class4_name_c6_at2` foreign key (`c6_at2`) references `class6_name` (`c6_at2`) on delete cascade on update cascade;add constraint `fk_class4_name_c1_at1` foreign key (`c1_at1`) references `class1_name` (`c1_at1`) on delete cascade on update cascade,alter table `assoc9`add constraint `fk_assoc9_c3_at1` foreign key (`c3_at1`) references `class3_name` (`c3_at1`) on delete cascade on update cascade;add constraint `fk_assoc9_c2_at1` foreign key (`c2_at1`) references `class2_name` (`c2_at1`) on delete cascade on update cascade;alter table `class9_name`add constraint `fk_class9_name_c2_at1` foreign key (`c2_at1`) references `class2_name` (`c2_at1`) on delete cascade on update cascade; [END]\n"
          ]
        }
      ],
      "source": [
        "print(example_text.numpy().decode())\n",
        "print(tf_lower_and_split_punct(example_text).numpy().decode())"
      ]
    },
    {
      "cell_type": "markdown",
      "metadata": {
        "id": "4q-sKsSI7xRZ"
      },
      "source": [
        "#### Text Vectorization"
      ]
    },
    {
      "cell_type": "markdown",
      "metadata": {
        "id": "6aKn8qd37abi"
      },
      "source": [
        "This standardization function will be wrapped up in a `tf.keras.layers.TextVectorization` layer which will handle the vocabulary extraction and conversion of input text to sequences of tokens."
      ]
    },
    {
      "cell_type": "code",
      "execution_count": 273,
      "metadata": {
        "id": "eAY9k49G3jE_"
      },
      "outputs": [],
      "source": [
        "max_vocab_size = 500000\n",
        "\n",
        "context_text_processor = tf.keras.layers.TextVectorization(\n",
        "    standardize=tf_lower_and_split_punct,\n",
        "    max_tokens=max_vocab_size,\n",
        "    split=\"whitespace\",\n",
        "    output_mode=\"int\",\n",
        "    output_sequence_length=None,\n",
        "    ragged=True)"
      ]
    },
    {
      "cell_type": "markdown",
      "metadata": {
        "id": "7kbC6ODP8IK_"
      },
      "source": [
        "The `TextVectorization` layer and many other [Keras preprocessing layers](https://www.tensorflow.org/guide/keras/preprocessing_layers) have an `adapt` method. This method reads one epoch of the training data, and works a lot like `Model.fit`. This `adapt` method initializes the layer based on the data. Here it determines the vocabulary:"
      ]
    },
    {
      "cell_type": "code",
      "execution_count": 274,
      "metadata": {
        "id": "bmsI1Yql8FYe",
        "colab": {
          "base_uri": "https://localhost:8080/"
        },
        "outputId": "b2a01239-5094-492c-f114-5bd56d591ccc"
      },
      "outputs": [
        {
          "output_type": "execute_result",
          "data": {
            "text/plain": [
              "['',\n",
              " '[UNK]',\n",
              " '=',\n",
              " 'sig',\n",
              " 'extends',\n",
              " 'on',\n",
              " 'key',\n",
              " 'table',\n",
              " 'not',\n",
              " 'cascade',\n",
              " 'update',\n",
              " 'references',\n",
              " 'foreign',\n",
              " 'delete',\n",
              " 'constraint',\n",
              " 'strategy',\n",
              " 'for',\n",
              " ':',\n",
              " 'associationsrc',\n",
              " 'src_mlpcdst_multiplicity',\n",
              " 'null,key',\n",
              " 'no}one',\n",
              " 'classattrset',\n",
              " '(`c8_at1`)',\n",
              " 'dst_mlpc}one',\n",
              " '(`c2_at1`)',\n",
              " 'parentisabstract',\n",
              " '(`c1_at1`)',\n",
              " 'cascade,alter',\n",
              " 'cascade,add',\n",
              " 'c2_at1_type',\n",
              " '`class8_name`',\n",
              " '(`c4_at3`)',\n",
              " 'null,primary',\n",
              " 'assoc_str2association',\n",
              " '`class2_name`',\n",
              " '(`c3_at1`)',\n",
              " 'class8_namedst=',\n",
              " 'class4_namesrc_multiplicity',\n",
              " '`class1_name`',\n",
              " '(`c6_at2`)',\n",
              " 'c8_at1_type',\n",
              " 'c6_at2_type',\n",
              " 'c4_at3_type',\n",
              " '`class4_name`',\n",
              " '(`c2_at1`),primary',\n",
              " 'map_str2mapping',\n",
              " '(`c8_at1`),key',\n",
              " 'cascade;alter',\n",
              " 'c3_at1_type',\n",
              " '`class3_name`',\n",
              " 'null,`c1_at1`',\n",
              " 'class3_namesrc_multiplicity',\n",
              " '`class6_name`',\n",
              " '(`c1_at1`),primary',\n",
              " 'c1_at1_type',\n",
              " 'assoc5',\n",
              " '(`c2_at1`)create',\n",
              " 'null,`c2_at1`',\n",
              " 'assoc_str1association',\n",
              " '(`c8_at1`',\n",
              " 'parentparent',\n",
              " 'in',\n",
              " 'dst_mlpc2}one',\n",
              " 'class6_namedst=',\n",
              " 'class2_nameid',\n",
              " 'class2_namedst=',\n",
              " 'class1_namedst=',\n",
              " 'c2_at1isabstract',\n",
              " 'c2_at1',\n",
              " 'class7_name',\n",
              " 'class5_name',\n",
              " 'class1_name',\n",
              " 'assoc9',\n",
              " 'assoc8',\n",
              " 'assoc7',\n",
              " 'assoc6',\n",
              " 'assoc4',\n",
              " 'assoc3',\n",
              " 'assoc10',\n",
              " '(`c6_at2`),key',\n",
              " 'class6_name',\n",
              " '(`c3_at1`),key',\n",
              " '(`c3_at1`',\n",
              " '(`c4_at3`),key',\n",
              " '(`c4_at3`',\n",
              " '(`c6_at2`',\n",
              " '`class7_name`add',\n",
              " 'class2_name',\n",
              " 'class8_name',\n",
              " 'c2_at2_type(64),`c2_at1`',\n",
              " 'class3_name',\n",
              " '(`c6_at2`),primary',\n",
              " 'int,key',\n",
              " '[START]',\n",
              " '[END]',\n",
              " 'src_mlpc2dst_multiplicity',\n",
              " 'showrun',\n",
              " 'om_name:0;create',\n",
              " 'om_name',\n",
              " 'null,`c6_at2`',\n",
              " 'module',\n",
              " 'dst_mlpc2}pred',\n",
              " 'declarationone',\n",
              " 'class6_namesrc_multiplicity',\n",
              " 'class4_name',\n",
              " 'class2_namesrc_multiplicity',\n",
              " 'class1_namesrc_multiplicity',\n",
              " 'cascadeadd',\n",
              " 'c8_at2_typeone',\n",
              " 'c8_at2',\n",
              " 'c8_at1_typeone',\n",
              " 'c8_at1+c8_at2+c2_at2+c6_at3id=c8_at1no',\n",
              " 'c8_at1',\n",
              " 'c7_at1one',\n",
              " 'c7_at1_typeone',\n",
              " 'c7_at1',\n",
              " 'c6_at4_typeone',\n",
              " 'c6_at4',\n",
              " 'c6_at3_typeone',\n",
              " 'c6_at3',\n",
              " 'c6_at2_typeone',\n",
              " 'c6_at2',\n",
              " 'c6_at1_typeone',\n",
              " 'c6_at1_type(64),`c6_at2`',\n",
              " 'c6_at1_0+c6_at2+c6_at3+c6_at4id=c6_at2no',\n",
              " 'c6_at1_0',\n",
              " 'c5_at1one',\n",
              " 'c5_at1_typeone',\n",
              " 'c5_at1',\n",
              " 'c4_at4_typeone',\n",
              " 'c4_at4_type(64),`c4_at2`',\n",
              " 'c4_at4',\n",
              " 'c4_at3_typeone',\n",
              " 'c4_at3',\n",
              " 'c4_at2_typeone',\n",
              " 'c4_at2_type(64),`c4_at1`',\n",
              " 'c4_at2',\n",
              " 'c4_at1_typeone',\n",
              " 'c4_at1+c4_at2+c4_at3+c4_at4id=c4_at3no',\n",
              " 'c4_at1',\n",
              " 'c3_at6_typeone',\n",
              " 'c3_at6_type,`c3_at5`',\n",
              " 'c3_at6',\n",
              " 'c3_at5_typeone',\n",
              " 'c3_at5_type,`c3_at4`',\n",
              " 'c3_at5',\n",
              " 'c3_at4_typeone',\n",
              " 'c3_at4_type,`c3_at3`',\n",
              " 'c3_at4',\n",
              " 'c3_at3_typeone',\n",
              " 'c3_at3_type,`c3_at2`',\n",
              " 'c3_at3',\n",
              " 'c3_at2_typeone',\n",
              " 'c3_at2_type,`c3_at1`',\n",
              " 'c3_at2',\n",
              " 'c3_at1_typeone',\n",
              " 'c3_at1+c3_at2+c3_at3+c3_at4c3_at5+c3_at6id=c3_at1no',\n",
              " 'c3_at1',\n",
              " 'c2_at2_typeone',\n",
              " 'c2_at1_typeone',\n",
              " 'c2_at1+c2_at2id=c2_at1no',\n",
              " 'c1_at2_typeone',\n",
              " 'c1_at2_type(64),`c1_at1`',\n",
              " 'c1_at2',\n",
              " 'c1_at1_typeone',\n",
              " 'c1_at1+c1_at2id=c1_at1no',\n",
              " 'c1_at1',\n",
              " 'assoc_str2`c8_at1`',\n",
              " 'assoc2',\n",
              " 'assoc1',\n",
              " '`fk_assoc6_c6_at2_idx`',\n",
              " '`fk_assoc6_c1_at1`',\n",
              " '`fk_assoc6_c1_at1_idx`',\n",
              " '`fk_assoc5_c8_at1`',\n",
              " '`fk_assoc5_c8_at1_idx`',\n",
              " '`fk_assoc5_c6_at2`',\n",
              " '`fk_assoc5_c6_at2_idx`',\n",
              " '`fk_assoc2_c4_at3`',\n",
              " '`fk_assoc2_c4_at3_idx`',\n",
              " '`fk_assoc2_c2_at1`',\n",
              " '`fk_assoc2_c2_at1_idx`',\n",
              " '`fk_assoc10_c3_at1`',\n",
              " '`fk_assoc10_c3_at1_idx`',\n",
              " '`fk_assoc10_c2_at1`',\n",
              " '`fk_assoc10_c2_at1_idx`',\n",
              " '`assoc6`alter',\n",
              " '`assoc6`',\n",
              " '`assoc5`add',\n",
              " '`assoc2`add',\n",
              " '`assoc2`',\n",
              " '`assoc10`add',\n",
              " '`assoc10`',\n",
              " '0;open',\n",
              " '(`c8_at2`',\n",
              " '(`c8_at1`,`c6_at2`)create',\n",
              " '(`c8_at1`)alter',\n",
              " '(`c7_at1`',\n",
              " '(`c6_at4`',\n",
              " '(`c6_at2`,`c1_at1`)create',\n",
              " '(`c6_at2`)create',\n",
              " '(`c4_at4`',\n",
              " '(`c4_at3`,`c2_at1`)create',\n",
              " '(`c4_at3`)create',\n",
              " '(`c3_at1`,`c2_at1`)association',\n",
              " '(`c3_at1`)create',\n",
              " '(`c1_at2`',\n",
              " '(`c1_at1`)create',\n",
              " 'show,mapping',\n",
              " 'assoc_str2,use',\n",
              " 'null,`c4_at3`',\n",
              " '(`c4_at3`),primary',\n",
              " 'c2_at2_type(64),`c8_at1`',\n",
              " '`class4_name`add',\n",
              " '`class7_name`',\n",
              " '`class5_name`',\n",
              " '(c5_at1`',\n",
              " '(`c8_at1`),primary',\n",
              " '`class3_name`add',\n",
              " 'c6_at4_type(64),`c6_at3`',\n",
              " 'c6_at3_type(64),`c6_at1_0`',\n",
              " 'c8_at2_type(64),`c6_at3`',\n",
              " 'map_str3association',\n",
              " '`fk_assoc1_c8_at1`',\n",
              " '`fk_assoc1_c8_at1_idx`',\n",
              " '`fk_assoc1_c2_at1`',\n",
              " '`fk_assoc1_c2_at1_idx`',\n",
              " '`assoc1`add',\n",
              " '`assoc1`',\n",
              " '(`c8_at1`,`c2_at1`)create',\n",
              " 'c5_at1_type(64),`c2_at2`',\n",
              " '(`c2_at2`',\n",
              " 'null,`c3_at1`',\n",
              " '`fk_assoc3_c8_at1`',\n",
              " '`fk_assoc3_c8_at1_idx`',\n",
              " '`fk_assoc3_c3_at1`',\n",
              " '`fk_assoc3_c3_at1_idx`',\n",
              " '`assoc3`add',\n",
              " '`assoc3`',\n",
              " '(`c8_at1`,`c3_at1`)create',\n",
              " '(`c3_at6`',\n",
              " '(`c3_at1`),primary',\n",
              " 'c4_at1_type(64),`c8_at1`',\n",
              " '`fk_class4_name_c8_at1`',\n",
              " '`fk_class4_name_c8_at1_idx`',\n",
              " 'c6_at2_type,`c4_at3`',\n",
              " '`fk_class4_name_c6_at2`',\n",
              " '`fk_class4_name_c6_at2_idx`',\n",
              " 'cascade,',\n",
              " '`fk_class4_name_c1_at1`',\n",
              " '`fk_class4_name_c1_at1_idx`',\n",
              " '`fk_assoc8_c3_at1`',\n",
              " '`fk_assoc8_c3_at1_idx`',\n",
              " '`fk_assoc8_c1_at1`',\n",
              " '`fk_assoc8_c1_at1_idx`',\n",
              " '`assoc8`add',\n",
              " '`assoc8`',\n",
              " '(`c3_at1`,`c1_at1`)create',\n",
              " '`fk_class3_name_c1_at1`',\n",
              " '`fk_class3_name_c1_at1_idx`',\n",
              " '`fk_assoc9_c4_at3`',\n",
              " '`fk_assoc9_c4_at3_idx`',\n",
              " '`fk_assoc9_c1_at1`',\n",
              " '`fk_assoc9_c1_at1_idx`',\n",
              " '`assoc9`add',\n",
              " '`assoc9`',\n",
              " '(`c4_at3`,`c1_at1`)create',\n",
              " 'cascade;',\n",
              " '`fk_assoc7_c6_at2`',\n",
              " '`fk_assoc7_c6_at2_idx`',\n",
              " '`fk_assoc7_c4_at3`',\n",
              " '`fk_assoc7_c4_at3_idx`',\n",
              " '`assoc7`add',\n",
              " '`assoc7`',\n",
              " '(`c6_at2`,`c4_at3`)create',\n",
              " '`fk_assoc4_c8_at1`',\n",
              " '`fk_assoc4_c8_at1_idx`',\n",
              " '`fk_assoc4_c4_at3`',\n",
              " '`fk_assoc4_c4_at3_idx`',\n",
              " '`assoc4`add',\n",
              " '`assoc4`',\n",
              " '(`c8_at1`,`c4_at3`)create',\n",
              " 'c8_at1_type,`c3_at6`',\n",
              " '`fk_class3_name_c8_at1_idx`',\n",
              " 'c7_at1_type(64),`c2_at2`',\n",
              " 'c5_at1_type(64),`c2_at1`',\n",
              " '`fk_class5_name_c2_at1`',\n",
              " '`fk_class5_name_c2_at1_idx`',\n",
              " '`class5_name`add',\n",
              " 'c6_at3_type(64),`c2_at2`',\n",
              " 'c7_at1_type(64),`c2_at1`',\n",
              " '`fk_class7_name_c2_at1`',\n",
              " '`fk_class7_name_c2_at1_idx`',\n",
              " 'c8_at1_type,`c2_at1`',\n",
              " '`fk_class2_name_c8_at1`',\n",
              " '`fk_class2_name_c8_at1_idx`',\n",
              " '`class2_name`add',\n",
              " 'c6_at4_type(64),`c6_at1_0`',\n",
              " 'map_str1mapping',\n",
              " 'c8_at1_type,`c6_at2`',\n",
              " 'cascade;add',\n",
              " 'c8_at1_type,`c4_at3`',\n",
              " 'c4_at1_type(64),`c6_at2`',\n",
              " '`fk_class3_name_c8_at1`',\n",
              " '`fk_store_transactionid`',\n",
              " 'c4_at1_type(64),`c4_at3`',\n",
              " 'c6_at3_type(64),`c8_at1`',\n",
              " 'c8_at2_type(64),`c2_at2`',\n",
              " 'map_str3mapping',\n",
              " 'map_str2association',\n",
              " 'c7_at1_type(64),c5_at1`',\n",
              " '(`c2_at1`',\n",
              " 'map_str1association',\n",
              " 'c8_at2_type(64),`c8_at1`',\n",
              " 'show,,use',\n",
              " 'moduleom_name0;opendeclarationonesigclass1_nameextendsclassattrset=c1_at1+c1_at2id=c1_at1noparentisabstract=no}onesigc1_at1extendsc1_at1_typeonesigc1_at2extendsc1_at2_typeonesigclass2_nameextendsclassattrset=c2_at1+c2_at2id=c2_at1noparentisabstract=no}onesigc2_at1extendsc2_at1_typeonesigc2_at1extendsc2_at2_typeonesigclass3_nameextendsclassattrset=c3_at1+c3_at2+c3_at3+c3_at4c3_at5+c3_at6id=c3_at1noparentisabstract=no}onesigc3_at1extendsc3_at1_typeonesigc3_at2extendsc3_at2_typeonesigc3_at3extendsc3_at3_typeonesigc3_at4extendsc3_at4_typeonesigc3_at5extendsc3_at5_typeonesigc3_at6extendsc3_at6_typeonesigclass4_nameextendsclassattrset=c4_at1+c4_at2+c4_at3+c4_at4id=c4_at3noparentisabstract=no}onesigc4_at1extendsc4_at1_typeonesigc4_at2extendsc4_at2_typeonesigc4_at3extendsc4_at3_typeonesigc4_at4extendsc4_at4_typeonesigclass5_nameextendsclassattrset=c5_at1oneparentparentinclass2_nameid=c2_at1isabstract=no}onesigc5_at1extendsc5_at1_typeonesigclass6_nameextendsclassattrset=c6_at1_0+c6_at2+c6_at3+c6_at4id=c6_at2noparentisabstract=no}onesigc6_at1_0extendsc6_at1_typeonesigc6_at2extendsc6_at2_typeonesigc6_at3extendsc6_at3_typeonesigc6_at4extendsc6_at4_typeonesigclass7_nameextendsclassattrset=c7_at1oneparentparentinclass2_nameid=c2_at1isabstract=no}onesigc7_at1extendsc7_at1_typeonesigclass8_nameextendsclassattrset=c8_at1+c8_at2+c2_at2+c6_at3id=c8_at1noparentisabstract=no}onesigc8_at1extendsc8_at1_typeonesigc8_at2extendsc8_at2_typeonesigassoc1extendsassociationsrc=class8_namedst=class2_namesrc_multiplicity=src_mlpcdst_multiplicity=dst_mlpc}onesigassoc2extendsassociationsrc=class2_namedst=class4_namesrc_multiplicity=src_mlpc2dst_multiplicity=dst_mlpc}onesigassoc3extendsassociationsrc=class8_namedst=class3_namesrc_multiplicity=src_mlpcdst_multiplicity=dst_mlpc}onesigassoc4extendsassociationsrc=class8_namedst=class4_namesrc_multiplicity=src_mlpcdst_multiplicity=dst_mlpc}onesigassoc5extendsassociationsrc=class8_namedst=class6_namesrc_multiplicity=src_mlpcdst_multiplicity=dst_mlpc2}onesigassoc6extendsassociationsrc=class6_namedst=class1_namesrc_multiplicity=src_mlpcdst_multiplicity=dst_mlpc2}onesigassoc7extendsassociationsrc=class6_namedst=class4_namesrc_multiplicity=src_mlpcdst_multiplicity=dst_mlpc}onesigassoc8extendsassociationsrc=class1_namedst=class3_namesrc_multiplicity=src_mlpcdst_multiplicity=dst_mlpc}onesigassoc9extendsassociationsrc=class1_namedst=class4_namesrc_multiplicity=src_mlpcdst_multiplicity=dst_mlpc}onesigassoc10extendsassociationsrc=class2_namedst=class3_namesrc_multiplicity=src_mlpcdst_multiplicity=dst_mlpc2}predshowrunshow,mappingstrategyforclass1_name:map_str2mappingstrategyforclass2_name:map_str2mappingstrategyforclass3_name:map_str2mappingstrategyforclass6_name:map_str2mappingstrategyforclass7_name:map_str2mappingstrategyforclass5_name:map_str3associationstrategyforassoc7:assoc_str1associationstrategyforassoc9:assoc_str1associationstrategyforassoc3:assoc_str2associationstrategyforassoc4:assoc_str2associationstrategyforassoc5:assoc_str2associationstrategyforassoc6:assoc_str2associationstrategyforassoc8:assoc_str2associationstrategyforassoc10:assoc_str2,useom_name:0;createtable`class2_name`(`c7_at1`c7_at1_type(64),c5_at1`c5_at1_type(64),`c2_at2`c2_at2_type(64),`c2_at1`c2_at1_typenotnull,primarykey(`c2_at1`)createtable`class6_name`(`c6_at4`c6_at4_type(64),`c6_at3`c6_at3_type(64),`c6_at1_0`c6_at1_type(64),`c6_at2`c6_at2_typenotnull,primarykey(`c6_at2`)createtable`class1_name`(`c1_at2`c1_at2_type(64),`c1_at1`c1_at1_typenotnull,primarykey(`c1_at1`)createtable`class3_name`(`c8_at1`c8_at1_type,`c3_at6`c3_at6_type,`c3_at5`c3_at5_type,`c3_at4`c3_at4_type,`c3_at3`c3_at3_type,`c3_at2`c3_at2_type,`c3_at1`c3_at1_typenotnull,`c1_at1`int,key`fk_class3_name_c8_at1_idx`(`c8_at1`),key`fk_class3_name_c1_at1_idx`(`c1_at1`),primarykey(`c3_at1`)createtable`assoc2`(`c4_at3`c4_at3_typenotnull,`c2_at1`c2_at1_typenotnull,key`fk_assoc2_c4_at3_idx`(`c4_at3`),key`fk_assoc2_c2_at1_idx`(`c2_at1`),primarykey(`c4_at3`,`c2_at1`)createtable`assoc1`(`c8_at1`c8_at1_typenotnull,`c2_at1`c2_at1_typenotnull,key`fk_assoc1_c8_at1_idx`(`c8_at1`),key`fk_assoc1_c2_at1_idx`(`c2_at1`),primarykey(`c8_at1`,`c2_at1`)createtable`assoc6`(`c6_at2`c6_at2_typenotnull,`c1_at1`c1_at1_typenotnull,key`fk_assoc6_c6_at2_idx`(`c6_at2`),key`fk_assoc6_c1_at1_idx`(`c1_at1`),primarykey(`c6_at2`,`c1_at1`)createtable`assoc10`(`c3_at1`c3_at1_typenotnull,`c2_at1`c2_at1_typenotnull,key`fk_assoc10_c3_at1_idx`(`c3_at1`),key`fk_assoc10_c2_at1_idx`(`c2_at1`),primarykey(`c3_at1`,`c2_at1`)associationstrategyforassoc5:assoc_str2`c8_at1`c8_at1_typenotnull,`c6_at2`c6_at2_typenotnull,key`fk_assoc5_c8_at1_idx`(`c8_at1`),key`fk_assoc5_c6_at2_idx`(`c6_at2`),primarykey(`c8_at1`,`c6_at2`)createtable`class4_name`(`c4_at4`c4_at4_type(64),`c4_at2`c4_at2_type(64),`c4_at1`c4_at1_type(64),`c8_at1`c8_at1_type,`c6_at2`c6_at2_type,`c4_at3`c4_at3_typenotnull,`c1_at1`int,key`fk_class4_name_c8_at1_idx`(`c8_at1`),key`fk_class4_name_c6_at2_idx`(`c6_at2`),key`fk_class4_name_c1_at1_idx`(`c1_at1`),primarykey(`c4_at3`)createtable`class8_name`(`c8_at2`c8_at2_type(64),`c8_at1`c8_at1_typenotnull,primarykey(`c8_at1`)altertable`class3_name`addconstraint`fk_class3_name_c8_at1`foreignkey(`c8_at1`)references`class8_name`(`c8_at1`)ondeletecascadeonupdatecascade,addconstraint`fk_class3_name_c1_at1`foreignkey(`c1_at1`)references`class1_name`(`c1_at1`)ondeletecascadeonupdatecascade,altertable`assoc2`addconstraint`fk_assoc2_c4_at3`foreignkey(`c4_at3`)references`class4_name`(`c4_at3`)ondeletecascadeonupdatecascadeaddconstraint`fk_assoc2_c2_at1`foreignkey(`c2_at1`)references`class2_name`(`c2_at1`)ondeletecascadeonupdatecascade,altertable`assoc1`addconstraint`fk_assoc1_c8_at1`foreignkey(`c8_at1`)references`class8_name`(`c8_at1`)ondeletecascadeonupdatecascade,addconstraint`fk_assoc1_c2_at1`foreignkey(`c2_at1`)references`class2_name`(`c2_at1`)ondeletecascadeonupdatecascade;altertable`assoc6`altertable`class7_name`addconstraint`fk_assoc6_c1_at1`foreignkey(`c1_at1`)references`class1_name`(`c1_at1`)ondeletecascadeonupdatecascade,altertable`assoc10`addconstraint`fk_assoc10_c3_at1`foreignkey(`c3_at1`)references`class3_name`(`c3_at1`)ondeletecascadeonupdatecascade,addconstraint`fk_assoc10_c2_at1`foreignkey(`c2_at1`)references`class2_name`(`c2_at1`)ondeletecascadeonupdatecascade,altertable`assoc5`addconstraint`fk_assoc5_c8_at1`foreignkey(`c8_at1`)references`class8_name`(`c8_at1`)ondeletecascadeonupdatecascade,addconstraint`fk_assoc5_c6_at2`foreignkey(`c6_at2`)references`class6_name`(`c6_at2`)ondeletecascadeonupdatecascade;altertable`class4_name`addconstraint`fk_class4_name_c8_at1`foreignkey(`c8_at1`)references`class8_name`(`c8_at1`)ondeletecascadeonupdatecascade,addconstraint`fk_class4_name_c6_at2`foreignkey(`c6_at2`)references`class6_name`(`c6_at2`)ondeletecascadeonupdatecascade;addconstraint`fk_class4_name_c1_at1`foreignkey(`c1_at1`)references`class1_name`(`c1_at1`)ondeletecascadeonupdatecascade,']"
            ]
          },
          "metadata": {},
          "execution_count": 274
        }
      ],
      "source": [
        "context_text_processor.adapt(train_raw.map(lambda context, target: context))\n",
        "\n",
        "# Here are the first 10 words from the vocabulary:\n",
        "context_text_processor.get_vocabulary()[:600]"
      ]
    },
    {
      "cell_type": "markdown",
      "metadata": {
        "id": "9kGjIFjX8_Wp"
      },
      "source": [
        "That's the context data  `TextVectorization` layer, now build and `.adapt()` for the Target Data one:"
      ]
    },
    {
      "cell_type": "code",
      "execution_count": 275,
      "metadata": {
        "id": "jlC4xuZnKLBS",
        "colab": {
          "base_uri": "https://localhost:8080/"
        },
        "outputId": "6c5799f2-5dd5-45b2-8ee4-3b051de44b08"
      },
      "outputs": [
        {
          "output_type": "execute_result",
          "data": {
            "text/plain": [
              "['',\n",
              " '[UNK]',\n",
              " '=',\n",
              " 'sig',\n",
              " 'extends',\n",
              " 'on',\n",
              " 'key',\n",
              " 'table',\n",
              " 'not',\n",
              " 'cascade',\n",
              " 'update',\n",
              " 'references',\n",
              " 'foreign',\n",
              " 'delete',\n",
              " 'constraint',\n",
              " 'strategy',\n",
              " 'for',\n",
              " ':',\n",
              " 'associationsrc',\n",
              " 'src_mlpcdst_multiplicity',\n",
              " 'null,key',\n",
              " 'no}one',\n",
              " 'classattrset',\n",
              " '(`c8_at1`)',\n",
              " 'dst_mlpc}one',\n",
              " '(`c2_at1`)',\n",
              " 'parentisabstract',\n",
              " '(`c1_at1`)',\n",
              " 'cascade,alter',\n",
              " 'cascade,add',\n",
              " 'c2_at1_type',\n",
              " '`class8_name`',\n",
              " '(`c4_at3`)',\n",
              " 'null,primary',\n",
              " 'assoc_str2association',\n",
              " '`class2_name`',\n",
              " '(`c3_at1`)',\n",
              " 'class8_namedst=',\n",
              " 'class4_namesrc_multiplicity',\n",
              " '`class1_name`',\n",
              " '(`c6_at2`)',\n",
              " 'c8_at1_type',\n",
              " 'c6_at2_type',\n",
              " 'c4_at3_type',\n",
              " '`class4_name`',\n",
              " '(`c2_at1`),primary',\n",
              " 'map_str2mapping',\n",
              " '(`c8_at1`),key',\n",
              " 'cascade;alter',\n",
              " 'c3_at1_type',\n",
              " '`class3_name`',\n",
              " 'null,`c1_at1`',\n",
              " 'class3_namesrc_multiplicity',\n",
              " '`class6_name`',\n",
              " '(`c1_at1`),primary',\n",
              " 'c1_at1_type',\n",
              " 'assoc5',\n",
              " '(`c2_at1`)create',\n",
              " 'null,`c2_at1`',\n",
              " 'assoc_str1association',\n",
              " '(`c8_at1`',\n",
              " 'parentparent',\n",
              " 'in',\n",
              " 'dst_mlpc2}one',\n",
              " 'class6_namedst=',\n",
              " 'class2_nameid',\n",
              " 'class2_namedst=',\n",
              " 'class1_namedst=',\n",
              " 'c2_at1isabstract',\n",
              " 'c2_at1',\n",
              " 'class7_name',\n",
              " 'class5_name',\n",
              " 'class1_name',\n",
              " 'assoc9',\n",
              " 'assoc8',\n",
              " 'assoc7',\n",
              " 'assoc6',\n",
              " 'assoc4',\n",
              " 'assoc3',\n",
              " 'assoc10',\n",
              " '(`c6_at2`),key',\n",
              " 'class6_name',\n",
              " '(`c3_at1`),key',\n",
              " '(`c3_at1`',\n",
              " '(`c4_at3`),key',\n",
              " '(`c4_at3`',\n",
              " '(`c6_at2`',\n",
              " '`class7_name`add',\n",
              " 'class2_name',\n",
              " 'class8_name',\n",
              " 'c2_at2_type(64),`c2_at1`',\n",
              " 'class3_name',\n",
              " '(`c6_at2`),primary',\n",
              " 'int,key',\n",
              " '[START]',\n",
              " '[END]',\n",
              " 'src_mlpc2dst_multiplicity',\n",
              " 'showrun',\n",
              " 'om_name:0;create',\n",
              " 'om_name',\n",
              " 'null,`c6_at2`',\n",
              " 'dst_mlpc2}pred',\n",
              " 'declarationone',\n",
              " 'class6_namesrc_multiplicity',\n",
              " 'class4_name',\n",
              " 'class2_namesrc_multiplicity',\n",
              " 'class1_namesrc_multiplicity',\n",
              " 'cascadeadd',\n",
              " 'c8_at2_typeone',\n",
              " 'c8_at2',\n",
              " 'c8_at1_typeone',\n",
              " 'c8_at1+c8_at2+c2_at2+c6_at3id=c8_at1no',\n",
              " 'c8_at1',\n",
              " 'c7_at1one',\n",
              " 'c7_at1_typeone',\n",
              " 'c7_at1',\n",
              " 'c6_at4_typeone',\n",
              " 'c6_at4',\n",
              " 'c6_at3_typeone',\n",
              " 'c6_at3',\n",
              " 'c6_at2_typeone',\n",
              " 'c6_at2',\n",
              " 'c6_at1_typeone',\n",
              " 'c6_at1_type(64),`c6_at2`',\n",
              " 'c6_at1_0+c6_at2+c6_at3+c6_at4id=c6_at2no',\n",
              " 'c6_at1_0',\n",
              " 'c5_at1one',\n",
              " 'c5_at1_typeone',\n",
              " 'c5_at1',\n",
              " 'c4_at4_typeone',\n",
              " 'c4_at4_type(64),`c4_at2`',\n",
              " 'c4_at4',\n",
              " 'c4_at3_typeone',\n",
              " 'c4_at3',\n",
              " 'c4_at2_typeone',\n",
              " 'c4_at2_type(64),`c4_at1`',\n",
              " 'c4_at2',\n",
              " 'c4_at1_typeone',\n",
              " 'c4_at1+c4_at2+c4_at3+c4_at4id=c4_at3no',\n",
              " 'c4_at1',\n",
              " 'c3_at6_typeone',\n",
              " 'c3_at6_type,`c3_at5`',\n",
              " 'c3_at6',\n",
              " 'c3_at5_typeone',\n",
              " 'c3_at5_type,`c3_at4`',\n",
              " 'c3_at5',\n",
              " 'c3_at4_typeone',\n",
              " 'c3_at4_type,`c3_at3`',\n",
              " 'c3_at4',\n",
              " 'c3_at3_typeone',\n",
              " 'c3_at3_type,`c3_at2`',\n",
              " 'c3_at3',\n",
              " 'c3_at2_typeone',\n",
              " 'c3_at2_type,`c3_at1`',\n",
              " 'c3_at2',\n",
              " 'c3_at1_typeone',\n",
              " 'c3_at1+c3_at2+c3_at3+c3_at4c3_at5+c3_at6id=c3_at1no',\n",
              " 'c3_at1',\n",
              " 'c2_at2_typeone',\n",
              " 'c2_at1_typeone',\n",
              " 'c2_at1+c2_at2id=c2_at1no',\n",
              " 'c1_at2_typeone',\n",
              " 'c1_at2_type(64),`c1_at1`',\n",
              " 'c1_at2',\n",
              " 'c1_at1_typeone',\n",
              " 'c1_at1+c1_at2id=c1_at1no',\n",
              " 'c1_at1',\n",
              " 'assoc_str2`c8_at1`',\n",
              " 'assoc2',\n",
              " 'assoc1',\n",
              " '`fk_assoc6_c6_at2_idx`',\n",
              " '`fk_assoc6_c1_at1`',\n",
              " '`fk_assoc6_c1_at1_idx`',\n",
              " '`fk_assoc5_c8_at1`',\n",
              " '`fk_assoc5_c8_at1_idx`',\n",
              " '`fk_assoc5_c6_at2`',\n",
              " '`fk_assoc5_c6_at2_idx`',\n",
              " '`fk_assoc2_c4_at3`',\n",
              " '`fk_assoc2_c4_at3_idx`',\n",
              " '`fk_assoc2_c2_at1`',\n",
              " '`fk_assoc2_c2_at1_idx`',\n",
              " '`fk_assoc10_c3_at1`',\n",
              " '`fk_assoc10_c3_at1_idx`',\n",
              " '`fk_assoc10_c2_at1`',\n",
              " '`fk_assoc10_c2_at1_idx`',\n",
              " '`assoc6`alter',\n",
              " '`assoc6`',\n",
              " '`assoc5`add',\n",
              " '`assoc2`add',\n",
              " '`assoc2`',\n",
              " '`assoc10`add',\n",
              " '`assoc10`',\n",
              " '0;open',\n",
              " '(`c8_at2`',\n",
              " '(`c8_at1`,`c6_at2`)create',\n",
              " '(`c8_at1`)alter',\n",
              " '(`c7_at1`',\n",
              " '(`c6_at4`',\n",
              " '(`c6_at2`,`c1_at1`)create',\n",
              " '(`c6_at2`)create',\n",
              " '(`c4_at4`',\n",
              " '(`c4_at3`,`c2_at1`)create',\n",
              " '(`c4_at3`)create',\n",
              " '(`c3_at1`,`c2_at1`)association',\n",
              " '(`c3_at1`)create',\n",
              " '(`c1_at2`',\n",
              " '(`c1_at1`)create',\n",
              " 'show,mapping',\n",
              " 'assoc_str2,use',\n",
              " 'null,`c4_at3`',\n",
              " '(`c4_at3`),primary',\n",
              " 'np,module',\n",
              " 'c2_at2_type(64),`c8_at1`',\n",
              " '`class4_name`add',\n",
              " '`class7_name`',\n",
              " '`class5_name`',\n",
              " '(c5_at1`',\n",
              " '(`c8_at1`),primary',\n",
              " '`class3_name`add',\n",
              " 'c6_at4_type(64),`c6_at3`',\n",
              " 'c6_at3_type(64),`c6_at1_0`',\n",
              " 'c8_at2_type(64),`c6_at3`',\n",
              " 'map_str3association',\n",
              " '`fk_assoc1_c8_at1`',\n",
              " '`fk_assoc1_c8_at1_idx`',\n",
              " '`fk_assoc1_c2_at1`',\n",
              " '`fk_assoc1_c2_at1_idx`',\n",
              " '`assoc1`add',\n",
              " '`assoc1`',\n",
              " '(`c8_at1`,`c2_at1`)create',\n",
              " 'c5_at1_type(64),`c2_at2`',\n",
              " '(`c2_at2`',\n",
              " 'null,`c3_at1`',\n",
              " '`fk_assoc3_c8_at1`',\n",
              " '`fk_assoc3_c8_at1_idx`',\n",
              " '`fk_assoc3_c3_at1`',\n",
              " '`fk_assoc3_c3_at1_idx`',\n",
              " '`assoc3`add',\n",
              " '`assoc3`',\n",
              " '(`c8_at1`,`c3_at1`)create',\n",
              " '(`c3_at6`',\n",
              " '(`c3_at1`),primary',\n",
              " 'c4_at1_type(64),`c8_at1`',\n",
              " '`fk_class4_name_c8_at1`',\n",
              " '`fk_class4_name_c8_at1_idx`',\n",
              " 'c6_at2_type,`c4_at3`',\n",
              " '`fk_class4_name_c6_at2`',\n",
              " '`fk_class4_name_c6_at2_idx`',\n",
              " '`fk_class4_name_c1_at1`',\n",
              " '`fk_class4_name_c1_at1_idx`',\n",
              " '`fk_assoc8_c3_at1`',\n",
              " '`fk_assoc8_c3_at1_idx`',\n",
              " '`fk_assoc8_c1_at1`',\n",
              " '`fk_assoc8_c1_at1_idx`',\n",
              " '`assoc8`add',\n",
              " '`assoc8`',\n",
              " '(`c3_at1`,`c1_at1`)create',\n",
              " '`fk_class3_name_c1_at1`',\n",
              " '`fk_class3_name_c1_at1_idx`',\n",
              " '`fk_assoc9_c4_at3`',\n",
              " '`fk_assoc9_c4_at3_idx`',\n",
              " '`fk_assoc9_c1_at1`',\n",
              " '`fk_assoc9_c1_at1_idx`',\n",
              " '`assoc9`add',\n",
              " '`assoc9`',\n",
              " '(`c4_at3`,`c1_at1`)create',\n",
              " '`fk_assoc7_c6_at2`',\n",
              " '`fk_assoc7_c6_at2_idx`',\n",
              " '`fk_assoc7_c4_at3`',\n",
              " '`fk_assoc7_c4_at3_idx`',\n",
              " '`assoc7`add',\n",
              " '`assoc7`',\n",
              " '(`c6_at2`,`c4_at3`)create',\n",
              " '`fk_assoc4_c8_at1`',\n",
              " '`fk_assoc4_c8_at1_idx`',\n",
              " '`fk_assoc4_c4_at3`',\n",
              " '`fk_assoc4_c4_at3_idx`',\n",
              " '`assoc4`add',\n",
              " '`assoc4`',\n",
              " '(`c8_at1`,`c4_at3`)create',\n",
              " 'c8_at1_type,`c3_at6`',\n",
              " '`fk_class3_name_c8_at1_idx`',\n",
              " 'c7_at1_type(64),`c2_at2`',\n",
              " 'c5_at1_type(64),`c2_at1`',\n",
              " '`fk_class5_name_c2_at1`',\n",
              " '`fk_class5_name_c2_at1_idx`',\n",
              " '`class5_name`add',\n",
              " 'c6_at3_type(64),`c2_at2`',\n",
              " 'c7_at1_type(64),`c2_at1`',\n",
              " '`fk_class7_name_c2_at1`',\n",
              " '`fk_class7_name_c2_at1_idx`',\n",
              " 'c8_at1_type,`c2_at1`',\n",
              " '`fk_class2_name_c8_at1`',\n",
              " '`fk_class2_name_c8_at1_idx`',\n",
              " '`class2_name`add',\n",
              " 'c6_at4_type(64),`c6_at1_0`',\n",
              " 'map_str1mapping',\n",
              " 'c8_at1_type,`c6_at2`',\n",
              " 'cascade;add',\n",
              " 'c8_at1_type,`c4_at3`',\n",
              " 'c4_at1_type(64),`c6_at2`',\n",
              " '`fk_class3_name_c8_at1`',\n",
              " '`fk_store_transactionid`',\n",
              " 'c4_at1_type(64),`c4_at3`',\n",
              " 'c6_at3_type(64),`c8_at1`',\n",
              " 'c8_at2_type(64),`c2_at2`',\n",
              " 'map_str3mapping',\n",
              " 'map_str2association',\n",
              " 'c7_at1_type(64),c5_at1`',\n",
              " '(`c2_at1`',\n",
              " 'map_str1association',\n",
              " 'c8_at2_type(64),`c8_at1`',\n",
              " 'p,module',\n",
              " 'show,,use',\n",
              " 'p,moduleom_name0;opendeclarationonesigclass1_nameextendsclassattrset=c1_at1+c1_at2id=c1_at1noparentisabstract=no}onesigc1_at1extendsc1_at1_typeonesigc1_at2extendsc1_at2_typeonesigclass2_nameextendsclassattrset=c2_at1+c2_at2id=c2_at1noparentisabstract=no}onesigc2_at1extendsc2_at1_typeonesigc2_at1extendsc2_at2_typeonesigclass3_nameextendsclassattrset=c3_at1+c3_at2+c3_at3+c3_at4c3_at5+c3_at6id=c3_at1noparentisabstract=no}onesigc3_at1extendsc3_at1_typeonesigc3_at2extendsc3_at2_typeonesigc3_at3extendsc3_at3_typeonesigc3_at4extendsc3_at4_typeonesigc3_at5extendsc3_at5_typeonesigc3_at6extendsc3_at6_typeonesigclass4_nameextendsclassattrset=c4_at1+c4_at2+c4_at3+c4_at4id=c4_at3noparentisabstract=no}onesigc4_at1extendsc4_at1_typeonesigc4_at2extendsc4_at2_typeonesigc4_at3extendsc4_at3_typeonesigc4_at4extendsc4_at4_typeonesigclass5_nameextendsclassattrset=c5_at1oneparentparentinclass2_nameid=c2_at1isabstract=no}onesigc5_at1extendsc5_at1_typeonesigclass6_nameextendsclassattrset=c6_at1_0+c6_at2+c6_at3+c6_at4id=c6_at2noparentisabstract=no}onesigc6_at1_0extendsc6_at1_typeonesigc6_at2extendsc6_at2_typeonesigc6_at3extendsc6_at3_typeonesigc6_at4extendsc6_at4_typeonesigclass7_nameextendsclassattrset=c7_at1oneparentparentinclass2_nameid=c2_at1isabstract=no}onesigc7_at1extendsc7_at1_typeonesigclass8_nameextendsclassattrset=c8_at1+c8_at2+c2_at2+c6_at3id=c8_at1noparentisabstract=no}onesigc8_at1extendsc8_at1_typeonesigc8_at2extendsc8_at2_typeonesigassoc1extendsassociationsrc=class8_namedst=class2_namesrc_multiplicity=src_mlpcdst_multiplicity=dst_mlpc}onesigassoc2extendsassociationsrc=class2_namedst=class4_namesrc_multiplicity=src_mlpc2dst_multiplicity=dst_mlpc}onesigassoc3extendsassociationsrc=class8_namedst=class3_namesrc_multiplicity=src_mlpcdst_multiplicity=dst_mlpc}onesigassoc4extendsassociationsrc=class8_namedst=class4_namesrc_multiplicity=src_mlpcdst_multiplicity=dst_mlpc}onesigassoc5extendsassociationsrc=class8_namedst=class6_namesrc_multiplicity=src_mlpcdst_multiplicity=dst_mlpc2}onesigassoc6extendsassociationsrc=class6_namedst=class1_namesrc_multiplicity=src_mlpcdst_multiplicity=dst_mlpc2}onesigassoc7extendsassociationsrc=class6_namedst=class4_namesrc_multiplicity=src_mlpcdst_multiplicity=dst_mlpc}onesigassoc8extendsassociationsrc=class1_namedst=class3_namesrc_multiplicity=src_mlpcdst_multiplicity=dst_mlpc}onesigassoc9extendsassociationsrc=class1_namedst=class4_namesrc_multiplicity=src_mlpcdst_multiplicity=dst_mlpc}onesigassoc10extendsassociationsrc=class2_namedst=class3_namesrc_multiplicity=src_mlpcdst_multiplicity=dst_mlpc2}predshowrunshow,mappingstrategyforclass1_name:map_str2mappingstrategyforclass3_name:map_str2mappingstrategyforclass5_name:map_str2mappingstrategyforclass6_name:map_str2mappingstrategyforclass7_name:map_str2associationstrategyforassoc9:assoc_str1associationstrategyforassoc3:assoc_str2associationstrategyforassoc4:assoc_str2associationstrategyforassoc5:assoc_str2associationstrategyforassoc6:assoc_str2associationstrategyforassoc7:assoc_str2associationstrategyforassoc8:assoc_str2associationstrategyforassoc10:assoc_str2,useom_name:0;createtable`class5_name`(c5_at1`c5_at1_type(64),`c2_at1`c2_at1_typenotnull,key`fk_class5_name_c2_at1_idx`(`c2_at1`),primarykey(`c2_at1`)createtable`class2_name`(`c2_at2`c2_at2_type(64),`c8_at1`c8_at1_type,`c2_at1`c2_at1_typenotnull,key`fk_class2_name_c8_at1_idx`(`c8_at1`),primarykey(`c2_at1`)createtable`class6_name`(`c6_at4`c6_at4_type(64),`c6_at1_0`c6_at1_type(64),`c6_at2`c6_at2_typenotnull,primarykey(`c6_at2`)createtable`assoc8`(`c3_at1`c3_at1_typenotnull,`c1_at1`c1_at1_typenotnull,key`fk_assoc8_c3_at1_idx`(`c3_at1`),key`fk_assoc8_c1_at1_idx`(`c1_at1`),primarykey(`c3_at1`,`c1_at1`)createtable`class1_name`(`c1_at2`c1_at2_type(64),`c1_at1`c1_at1_typenotnull,primarykey(`c1_at1`)createtable`class7_name`(`c7_at1`c7_at1_type(64),`c2_at2`c2_at2_type(64),`c2_at1`c2_at1_typenotnull,primarykey(`c2_at1`)createtable`class3_name`(`c3_at6`c3_at6_type,`c3_at5`c3_at5_type,`c3_at4`c3_at4_type,`c3_at3`c3_at3_type,`c3_at2`c3_at2_type,`c3_at1`c3_at1_typenotnull,primarykey(`c3_at1`)createtable`assoc3`(`c8_at1`c8_at1_typenotnull,`c3_at1`c3_at1_typenotnull,key`fk_assoc3_c8_at1_idx`(`c8_at1`),key`fk_assoc3_c3_at1_idx`(`c3_at1`),primarykey(`c8_at1`,`c3_at1`)createtable`assoc2`(`c4_at3`c4_at3_typenotnull,`c2_at1`c2_at1_typenotnull,key`fk_assoc2_c4_at3_idx`(`c4_at3`),key`fk_assoc2_c2_at1_idx`(`c2_at1`),primarykey(`c4_at3`,`c2_at1`)createtable`assoc6`(`c6_at2`c6_at2_typenotnull,`c1_at1`c1_at1_typenotnull,key`fk_assoc6_c6_at2_idx`(`c6_at2`),key`fk_assoc6_c1_at1_idx`(`c1_at1`),primarykey(`c6_at2`,`c1_at1`)createtable`assoc7`(`c6_at2`c6_at2_typenotnull,`c4_at3`c4_at3_typenotnull,key`fk_assoc7_c6_at2_idx`(`c6_at2`),key`fk_assoc7_c4_at3_idx`(`c4_at3`),primarykey(`c6_at2`,`c4_at3`)createtable`assoc10`(`c3_at1`c3_at1_typenotnull,`c2_at1`c2_at1_typenotnull,key`fk_assoc10_c3_at1_idx`(`c3_at1`),key`fk_assoc10_c2_at1_idx`(`c2_at1`),primarykey(`c3_at1`,`c2_at1`)associationstrategyforassoc5:assoc_str2`c8_at1`c8_at1_typenotnull,`c6_at2`c6_at2_typenotnull,key`fk_assoc5_c8_at1_idx`(`c8_at1`),key`fk_assoc5_c6_at2_idx`(`c6_at2`),primarykey(`c8_at1`,`c6_at2`)createtable`class4_name`(`c4_at4`c4_at4_type(64),`c4_at2`c4_at2_type(64),`c4_at1`c4_at1_type(64),`c8_at1`c8_at1_type,`c4_at3`c4_at3_typenotnull,key`fk_class4_name_c8_at1_idx`(`c8_at1`),primarykey(`c4_at3`)createtable`assoc9`(`c4_at3`c4_at3_typenotnull,`c1_at1`c1_at1_typenotnull,key`fk_assoc9_c4_at3_idx`(`c4_at3`),key`fk_assoc9_c1_at1_idx`(`c1_at1`),primarykey(`c4_at3`,`c1_at1`)createtable`class8_name`(`c8_at2`c8_at2_type(64),`c6_at3`c6_at3_type(64),`c8_at1`c8_at1_typenotnull,primarykey(`c8_at1`)altertable`class5_name`addconstraint`fk_class5_name_c2_at1`foreignkey(`c2_at1`)references`class2_name`(`c2_at1`)ondeletecascadeonupdatecascade,altertable`class2_name`addconstraint`fk_class2_name_c8_at1`foreignkey(`c8_at1`)references`class8_name`(`c8_at1`)ondeletecascadeonupdatecascade,altertable`assoc8`addconstraint`fk_assoc8_c3_at1`foreignkey(`c3_at1`)references`class3_name`(`c3_at1`)ondeletecascadeonupdatecascade,addconstraint`fk_assoc8_c1_at1`foreignkey(`c1_at1`)references`class1_name`(`c1_at1`)ondeletecascadeonupdatecascade,altertable`assoc3`addconstraint`fk_assoc3_c8_at1`foreignkey(`c8_at1`)references`class8_name`(`c8_at1`)ondeletecascadeonupdatecascade,addconstraint`fk_assoc3_c3_at1`foreignkey(`c3_at1`)references`class3_name`(`c3_at1`)ondeletecascadeonupdatecascade,altertable`assoc2`addconstraint`fk_assoc2_c4_at3`foreignkey(`c4_at3`)references`class4_name`(`c4_at3`)ondeletecascadeonupdatecascadeaddconstraint`fk_assoc2_c2_at1`foreignkey(`c2_at1`)references`class2_name`(`c2_at1`)ondeletecascadeonupdatecascade,altertable`assoc6`altertable`class7_name`addconstraint`fk_assoc6_c1_at1`foreignkey(`c1_at1`)references`class1_name`(`c1_at1`)ondeletecascadeonupdatecascade,altertable`assoc7`addconstraint`fk_assoc7_c6_at2`foreignkey(`c6_at2`)references`class6_name`(`c6_at2`)ondeletecascadeonupdatecascade,addconstraint`fk_assoc7_c4_at3`foreignkey(`c4_at3`)references`class4_name`(`c4_at3`)ondeletecascadeonupdatecascade;altertable`assoc10`addconstraint`fk_assoc10_c3_at1`foreignkey(`c3_at1`)references`class3_name`(`c3_at1`)ondeletecascadeonupdatecascade,addconstraint`fk_assoc10_c2_at1`foreignkey(`c2_at1`)references`class2_name`(`c2_at1`)ondeletecascadeonupdatecascade,altertable`assoc5`addconstraint`fk_assoc5_c8_at1`foreignkey(`c8_at1`)references`class8_name`(`c8_at1`)ondeletecascadeonupdatecascade,addconstraint`fk_assoc5_c6_at2`foreignkey(`c6_at2`)references`class6_name`(`c6_at2`)ondeletecascadeonupdatecascade;altertable`class4_name`addconstraint`fk_class4_name_c8_at1`foreignkey(`c8_at1`)references`class8_name`(`c8_at1`)ondeletecascadeonupdatecascade,altertable`assoc9`addconstraint`fk_assoc9_c4_at3`foreignkey(`c4_at3`)references`class4_name`(`c4_at3`)ondeletecascadeonupdatecascade,addconstraint`fk_assoc9_c1_at1`foreignkey(`c1_at1`)references`class1_name`(`c1_at1`)ondeletecascadeonupdatecascade;',\n",
              " 'np,moduleom_name0;opendeclarationonesigclass1_nameextendsclassattrset=c1_at1+c1_at2id=c1_at1noparentisabstract=no}onesigc1_at1extendsc1_at1_typeonesigc1_at2extendsc1_at2_typeonesigclass2_nameextendsclassattrset=c2_at1+c2_at2id=c2_at1noparentisabstract=no}onesigc2_at1extendsc2_at1_typeonesigc2_at1extendsc2_at2_typeonesigclass3_nameextendsclassattrset=c3_at1+c3_at2+c3_at3+c3_at4c3_at5+c3_at6id=c3_at1noparentisabstract=no}onesigc3_at1extendsc3_at1_typeonesigc3_at2extendsc3_at2_typeonesigc3_at3extendsc3_at3_typeonesigc3_at4extendsc3_at4_typeonesigc3_at5extendsc3_at5_typeonesigc3_at6extendsc3_at6_typeonesigclass4_nameextendsclassattrset=c4_at1+c4_at2+c4_at3+c4_at4id=c4_at3noparentisabstract=no}onesigc4_at1extendsc4_at1_typeonesigc4_at2extendsc4_at2_typeonesigc4_at3extendsc4_at3_typeonesigc4_at4extendsc4_at4_typeonesigclass5_nameextendsclassattrset=c5_at1oneparentparentinclass2_nameid=c2_at1isabstract=no}onesigc5_at1extendsc5_at1_typeonesigclass6_nameextendsclassattrset=c6_at1_0+c6_at2+c6_at3+c6_at4id=c6_at2noparentisabstract=no}onesigc6_at1_0extendsc6_at1_typeonesigc6_at2extendsc6_at2_typeonesigc6_at3extendsc6_at3_typeonesigc6_at4extendsc6_at4_typeonesigclass7_nameextendsclassattrset=c7_at1oneparentparentinclass2_nameid=c2_at1isabstract=no}onesigc7_at1extendsc7_at1_typeonesigclass8_nameextendsclassattrset=c8_at1+c8_at2+c2_at2+c6_at3id=c8_at1noparentisabstract=no}onesigc8_at1extendsc8_at1_typeonesigc8_at2extendsc8_at2_typeonesigassoc1extendsassociationsrc=class8_namedst=class2_namesrc_multiplicity=src_mlpcdst_multiplicity=dst_mlpc}onesigassoc2extendsassociationsrc=class2_namedst=class4_namesrc_multiplicity=src_mlpc2dst_multiplicity=dst_mlpc}onesigassoc3extendsassociationsrc=class8_namedst=class3_namesrc_multiplicity=src_mlpcdst_multiplicity=dst_mlpc}onesigassoc4extendsassociationsrc=class8_namedst=class4_namesrc_multiplicity=src_mlpcdst_multiplicity=dst_mlpc}onesigassoc5extendsassociationsrc=class8_namedst=class6_namesrc_multiplicity=src_mlpcdst_multiplicity=dst_mlpc2}onesigassoc6extendsassociationsrc=class6_namedst=class1_namesrc_multiplicity=src_mlpcdst_multiplicity=dst_mlpc2}onesigassoc7extendsassociationsrc=class6_namedst=class4_namesrc_multiplicity=src_mlpcdst_multiplicity=dst_mlpc}onesigassoc8extendsassociationsrc=class1_namedst=class3_namesrc_multiplicity=src_mlpcdst_multiplicity=dst_mlpc}onesigassoc9extendsassociationsrc=class1_namedst=class4_namesrc_multiplicity=src_mlpcdst_multiplicity=dst_mlpc}onesigassoc10extendsassociationsrc=class2_namedst=class3_namesrc_multiplicity=src_mlpcdst_multiplicity=dst_mlpc2}predshowrunshow,mappingstrategyforclass1_name:map_str2mappingstrategyforclass2_name:map_str2mappingstrategyforclass3_name:map_str2mappingstrategyforclass6_name:map_str2mappingstrategyforclass7_name:map_str2mappingstrategyforclass5_name:map_str3associationstrategyforassoc7:assoc_str1associationstrategyforassoc9:assoc_str1associationstrategyforassoc3:assoc_str2associationstrategyforassoc4:assoc_str2associationstrategyforassoc5:assoc_str2associationstrategyforassoc6:assoc_str2associationstrategyforassoc8:assoc_str2associationstrategyforassoc10:assoc_str2,useom_name:0;createtable`class2_name`(`c7_at1`c7_at1_type(64),c5_at1`c5_at1_type(64),`c2_at2`c2_at2_type(64),`c2_at1`c2_at1_typenotnull,primarykey(`c2_at1`)createtable`class6_name`(`c6_at4`c6_at4_type(64),`c6_at3`c6_at3_type(64),`c6_at1_0`c6_at1_type(64),`c6_at2`c6_at2_typenotnull,primarykey(`c6_at2`)createtable`class1_name`(`c1_at2`c1_at2_type(64),`c1_at1`c1_at1_typenotnull,primarykey(`c1_at1`)createtable`class3_name`(`c8_at1`c8_at1_type,`c3_at6`c3_at6_type,`c3_at5`c3_at5_type,`c3_at4`c3_at4_type,`c3_at3`c3_at3_type,`c3_at2`c3_at2_type,`c3_at1`c3_at1_typenotnull,`c1_at1`int,key`fk_class3_name_c8_at1_idx`(`c8_at1`),key`fk_class3_name_c1_at1_idx`(`c1_at1`),primarykey(`c3_at1`)createtable`assoc2`(`c4_at3`c4_at3_typenotnull,`c2_at1`c2_at1_typenotnull,key`fk_assoc2_c4_at3_idx`(`c4_at3`),key`fk_assoc2_c2_at1_idx`(`c2_at1`),primarykey(`c4_at3`,`c2_at1`)createtable`assoc1`(`c8_at1`c8_at1_typenotnull,`c2_at1`c2_at1_typenotnull,key`fk_assoc1_c8_at1_idx`(`c8_at1`),key`fk_assoc1_c2_at1_idx`(`c2_at1`),primarykey(`c8_at1`,`c2_at1`)createtable`assoc6`(`c6_at2`c6_at2_typenotnull,`c1_at1`c1_at1_typenotnull,key`fk_assoc6_c6_at2_idx`(`c6_at2`),key`fk_assoc6_c1_at1_idx`(`c1_at1`),primarykey(`c6_at2`,`c1_at1`)createtable`assoc10`(`c3_at1`c3_at1_typenotnull,`c2_at1`c2_at1_typenotnull,key`fk_assoc10_c3_at1_idx`(`c3_at1`),key`fk_assoc10_c2_at1_idx`(`c2_at1`),primarykey(`c3_at1`,`c2_at1`)associationstrategyforassoc5:assoc_str2`c8_at1`c8_at1_typenotnull,`c6_at2`c6_at2_typenotnull,key`fk_assoc5_c8_at1_idx`(`c8_at1`),key`fk_assoc5_c6_at2_idx`(`c6_at2`),primarykey(`c8_at1`,`c6_at2`)createtable`class4_name`(`c4_at4`c4_at4_type(64),`c4_at2`c4_at2_type(64),`c4_at1`c4_at1_type(64),`c8_at1`c8_at1_type,`c6_at2`c6_at2_type,`c4_at3`c4_at3_typenotnull,`c1_at1`int,key`fk_class4_name_c8_at1_idx`(`c8_at1`),key`fk_class4_name_c6_at2_idx`(`c6_at2`),key`fk_class4_name_c1_at1_idx`(`c1_at1`),primarykey(`c4_at3`)createtable`class8_name`(`c8_at2`c8_at2_type(64),`c8_at1`c8_at1_typenotnull,primarykey(`c8_at1`)altertable`class3_name`addconstraint`fk_class3_name_c8_at1`foreignkey(`c8_at1`)references`class8_name`(`c8_at1`)ondeletecascadeonupdatecascade,addconstraint`fk_class3_name_c1_at1`foreignkey(`c1_at1`)references`class1_name`(`c1_at1`)ondeletecascadeonupdatecascade,altertable`assoc2`addconstraint`fk_assoc2_c4_at3`foreignkey(`c4_at3`)references`class4_name`(`c4_at3`)ondeletecascadeonupdatecascadeaddconstraint`fk_assoc2_c2_at1`foreignkey(`c2_at1`)references`class2_name`(`c2_at1`)ondeletecascadeonupdatecascade,altertable`assoc1`addconstraint`fk_assoc1_c8_at1`foreignkey(`c8_at1`)references`class8_name`(`c8_at1`)ondeletecascadeonupdatecascade,addconstraint`fk_assoc1_c2_at1`foreignkey(`c2_at1`)references`class2_name`(`c2_at1`)ondeletecascadeonupdatecascade;altertable`assoc6`altertable`class7_name`addconstraint`fk_assoc6_c1_at1`foreignkey(`c1_at1`)references`class1_name`(`c1_at1`)ondeletecascadeonupdatecascade,altertable`assoc10`addconstraint`fk_assoc10_c3_at1`foreignkey(`c3_at1`)references`class3_name`(`c3_at1`)ondeletecascadeonupdatecascade,addconstraint`fk_assoc10_c2_at1`foreignkey(`c2_at1`)references`class2_name`(`c2_at1`)ondeletecascadeonupdatecascade,altertable`assoc5`addconstraint`fk_assoc5_c8_at1`foreignkey(`c8_at1`)references`class8_name`(`c8_at1`)ondeletecascadeonupdatecascade,addconstraint`fk_assoc5_c6_at2`foreignkey(`c6_at2`)references`class6_name`(`c6_at2`)ondeletecascadeonupdatecascade;altertable`class4_name`addconstraint`fk_class4_name_c8_at1`foreignkey(`c8_at1`)references`class8_name`(`c8_at1`)ondeletecascadeonupdatecascade,addconstraint`fk_class4_name_c6_at2`foreignkey(`c6_at2`)references`class6_name`(`c6_at2`)ondeletecascadeonupdatecascade;addconstraint`fk_class4_name_c1_at1`foreignkey(`c1_at1`)references`class1_name`(`c1_at1`)ondeletecascadeonupdatecascade,']"
            ]
          },
          "metadata": {},
          "execution_count": 275
        }
      ],
      "source": [
        "target_text_processor = tf.keras.layers.TextVectorization(\n",
        "    standardize=tf_lower_and_split_punct,\n",
        "    max_tokens=max_vocab_size,\n",
        "    split=\"whitespace\",\n",
        "    output_mode=\"int\",\n",
        "    output_sequence_length=None,\n",
        "    ragged=True)\n",
        "\n",
        "target_text_processor.adapt(train_raw.map(lambda context, target: target))\n",
        "target_text_processor.get_vocabulary()[:600]"
      ]
    },
    {
      "cell_type": "markdown",
      "metadata": {
        "id": "BWQqlP_s9eIv"
      },
      "source": [
        "Now these layers can convert a batch of strings into a batch of token IDs:"
      ]
    },
    {
      "cell_type": "code",
      "execution_count": 276,
      "metadata": {
        "colab": {
          "base_uri": "https://localhost:8080/"
        },
        "id": "9KZxj8IrNZ9S",
        "outputId": "ddf42ee6-d7fe-40ce-cc93-b98bf3720fe0"
      },
      "outputs": [
        {
          "output_type": "execute_result",
          "data": {
            "text/plain": [
              "<tf.RaggedTensor [[94, 101, 99, 193, 103, 3, 72, 4, 22, 2, 166, 26, 2, 21, 3, 167, 4, 165,\n",
              "  3, 164, 4, 162, 3, 88, 4, 22, 2, 161, 26, 2, 21, 3, 69, 4, 160, 3, 69,\n",
              "  4, 159, 3, 91, 4, 22, 2, 157, 26, 2, 21, 3, 158, 4, 156, 3, 155, 4, 153,\n",
              "  3, 152, 4, 150, 3, 149, 4, 147, 3, 146, 4, 144, 3, 143, 4, 141, 3, 105,\n",
              "  4, 22, 2, 139, 26, 2, 21, 3, 140, 4, 138, 3, 137, 4, 135, 3, 134, 4,\n",
              "  133, 3, 132, 4, 130, 3, 71, 4, 22, 2, 127, 61, 62, 65, 2, 68, 2, 21, 3,\n",
              "  129, 4, 128, 3, 81, 4, 22, 2, 125, 26, 2, 21, 3, 126, 4, 123, 3, 122, 4,\n",
              "  121, 3, 120, 4, 119, 3, 118, 4, 117, 3, 70, 4, 22, 2, 114, 61, 62, 65,\n",
              "  2, 68, 2, 21, 3, 116, 4, 115, 3, 89, 4, 22, 2, 112, 26, 2, 21, 3, 113,\n",
              "  4, 111, 3, 110, 4, 109, 3, 170, 4, 18, 2, 37, 106, 2, 19, 2, 24, 3, 169,\n",
              "  4, 18, 2, 66, 38, 2, 96, 2, 24, 3, 78, 4, 18, 2, 37, 52, 2, 19, 2, 24,\n",
              "  3, 77, 4, 18, 2, 37, 38, 2, 19, 2, 24, 3, 56, 4, 18, 2, 37, 104, 2, 19,\n",
              "  2, 63, 3, 76, 4, 18, 2, 64, 107, 2, 19, 2, 63, 3, 75, 4, 18, 2, 64, 38,\n",
              "  2, 19, 2, 24, 3, 74, 4, 18, 2, 67, 52, 2, 19, 2, 24, 3, 73, 4, 18, 2,\n",
              "  67, 38, 2, 19, 2, 24, 3, 79, 4, 18, 2, 66, 52, 2, 19, 2, 102, 97, 208,\n",
              "  15, 16, 72, 17, 46, 15, 16, 88, 17, 46, 15, 16, 81, 17, 46, 15, 16, 70,\n",
              "  17, 46, 15, 16, 71, 17, 222, 15, 16, 78, 17, 59, 15, 16, 75, 17, 59, 15,\n",
              "  16, 74, 17, 59, 15, 16, 77, 17, 34, 15, 16, 56, 17, 34, 15, 16, 76, 17,\n",
              "  34, 15, 16, 73, 17, 34, 15, 16, 79, 17, 209, 98, 7, 215, 216, 230, 90,\n",
              "  30, 8, 33, 6, 57, 7, 35, 231, 90, 30, 8, 33, 6, 57, 7, 53, 198, 219,\n",
              "  220, 124, 42, 8, 33, 6, 200, 7, 39, 206, 163, 55, 8, 33, 6, 207, 7, 214,\n",
              "  197, 290, 30, 8, 20, 292, 45, 6, 57, 7, 50, 240, 142, 145, 148, 151,\n",
              "  154, 49, 8, 51, 93, 259, 54, 6, 205, 7, 238, 60, 41, 8, 232, 49, 8, 20,\n",
              "  234, 47, 236, 241, 6, 239, 7, 190, 85, 43, 8, 58, 30, 8, 20, 179, 84,\n",
              "  181, 45, 6, 202, 7, 228, 60, 41, 8, 58, 30, 8, 20, 224, 47, 226, 45, 6,\n",
              "  229, 7, 187, 86, 42, 8, 51, 55, 8, 20, 171, 80, 173, 54, 6, 199, 7, 280,\n",
              "  60, 41, 8, 210, 43, 8, 20, 276, 47, 278, 211, 6, 281, 7, 273, 86, 42, 8,\n",
              "  210, 43, 8, 20, 269, 80, 271, 211, 6, 274, 7, 192, 83, 49, 8, 58, 30, 8,\n",
              "  20, 183, 82, 185, 45, 6, 204, 15, 16, 56, 17, 168, 41, 8, 100, 42, 8,\n",
              "  20, 175, 47, 177, 92, 6, 195, 7, 44, 201, 131, 136, 305, 43, 8, 51, 93,\n",
              "  250, 54, 6, 203, 7, 31, 194, 221, 289, 212, 41, 8, 33, 6, 196, 7, 87,\n",
              "  14, 291, 12, 6, 25, 11, 35, 25, 5, 13, 9, 5, 10, 28, 7, 218, 14, 258,\n",
              "  12, 6, 27, 11, 39, 27, 5, 13, 9, 5, 10, 28, 7, 237, 14, 233, 12, 6, 23,\n",
              "  11, 31, 23, 5, 13, 9, 5, 10, 29, 14, 235, 12, 6, 36, 11, 50, 36, 5, 13,\n",
              "  9, 5, 10, 28, 7, 189, 14, 178, 12, 6, 32, 11, 44, 32, 5, 13, 9, 5, 10,\n",
              "  108, 14, 180, 12, 6, 25, 11, 35, 25, 5, 13, 9, 5, 10, 28, 7, 227, 14,\n",
              "  223, 12, 6, 23, 11, 31, 23, 5, 13, 9, 5, 10, 29, 14, 225, 12, 6, 25, 11,\n",
              "  35, 25, 5, 13, 9, 5, 10, 48, 7, 186, 7, 87, 14, 172, 12, 6, 27, 11, 39,\n",
              "  27, 5, 13, 9, 5, 10, 28, 7, 279, 14, 275, 12, 6, 23, 11, 31, 23, 5, 13,\n",
              "  9, 5, 10, 29, 14, 277, 12, 6, 32, 11, 44, 32, 5, 13, 9, 5, 10, 48, 7,\n",
              "  272, 14, 268, 12, 6, 40, 11, 53, 40, 5, 13, 9, 5, 10, 29, 14, 270, 12,\n",
              "  6, 32, 11, 44, 32, 5, 13, 9, 5, 10, 48, 7, 191, 14, 182, 12, 6, 36, 11,\n",
              "  50, 36, 5, 13, 9, 5, 10, 29, 14, 184, 12, 6, 25, 11, 35, 25, 5, 13, 9,\n",
              "  5, 10, 28, 7, 188, 14, 174, 12, 6, 23, 11, 31, 23, 5, 13, 9, 5, 10, 29,\n",
              "  14, 176, 12, 6, 40, 11, 53, 40, 5, 13, 9, 5, 10, 48, 7, 213, 14, 249,\n",
              "  12, 6, 27, 11, 39, 27, 5, 13, 9, 5, 10, 248, 95]]>"
            ]
          },
          "metadata": {},
          "execution_count": 276
        }
      ],
      "source": [
        "# example_tokens = context_text_processor([example_context_strings, example_context_strings])\n",
        "example_tokens = context_text_processor(example_context_strings)\n",
        "example_tokens[:3, :]"
      ]
    },
    {
      "cell_type": "markdown",
      "metadata": {
        "id": "AA9rUn9G9n78"
      },
      "source": [
        "The `get_vocabulary` method can be used to convert token IDs back to text:"
      ]
    },
    {
      "cell_type": "code",
      "execution_count": 277,
      "metadata": {
        "id": "98g9rcxGQY0I",
        "colab": {
          "base_uri": "https://localhost:8080/",
          "height": 126
        },
        "outputId": "c1381311-b349-4446-b6ea-38bdc912879e"
      },
      "outputs": [
        {
          "output_type": "execute_result",
          "data": {
            "text/plain": [
              "'[START] module om_name 0;open declarationone sig class1_name extends classattrset = c1_at1+c1_at2id=c1_at1no parentisabstract = no}one sig c1_at1 extends c1_at1_typeone sig c1_at2 extends c1_at2_typeone sig class2_name extends classattrset = c2_at1+c2_at2id=c2_at1no parentisabstract = no}one sig c2_at1 extends c2_at1_typeone sig c2_at1 extends c2_at2_typeone sig class3_name extends classattrset = c3_at1+c3_at2+c3_at3+c3_at4c3_at5+c3_at6id=c3_at1no parentisabstract = no}one sig c3_at1 extends c3_at1_typeone sig c3_at2 extends c3_at2_typeone sig c3_at3 extends c3_at3_typeone sig c3_at4 extends c3_at4_typeone sig c3_at5 extends c3_at5_typeone sig c3_at6 extends c3_at6_typeone sig class4_name extends classattrset = c4_at1+c4_at2+c4_at3+c4_at4id=c4_at3no parentisabstract = no}one sig c4_at1 extends c4_at1_typeone sig c4_at2 extends c4_at2_typeone sig c4_at3 extends c4_at3_typeone sig c4_at4 extends c4_at4_typeone sig class5_name extends classattrset = c5_at1one parentparent in class2_nameid = c2_at1isabstract = no}one sig c5_at1 extends c5_at1_typeone sig class6_name extends classattrset = c6_at1_0+c6_at2+c6_at3+c6_at4id=c6_at2no parentisabstract = no}one sig c6_at1_0 extends c6_at1_typeone sig c6_at2 extends c6_at2_typeone sig c6_at3 extends c6_at3_typeone sig c6_at4 extends c6_at4_typeone sig class7_name extends classattrset = c7_at1one parentparent in class2_nameid = c2_at1isabstract = no}one sig c7_at1 extends c7_at1_typeone sig class8_name extends classattrset = c8_at1+c8_at2+c2_at2+c6_at3id=c8_at1no parentisabstract = no}one sig c8_at1 extends c8_at1_typeone sig c8_at2 extends c8_at2_typeone sig assoc1 extends associationsrc = class8_namedst= class2_namesrc_multiplicity = src_mlpcdst_multiplicity = dst_mlpc}one sig assoc2 extends associationsrc = class2_namedst= class4_namesrc_multiplicity = src_mlpc2dst_multiplicity = dst_mlpc}one sig assoc3 extends associationsrc = class8_namedst= class3_namesrc_multiplicity = src_mlpcdst_multiplicity = dst_mlpc}one sig assoc4 extends associationsrc = class8_namedst= class4_namesrc_multiplicity = src_mlpcdst_multiplicity = dst_mlpc}one sig assoc5 extends associationsrc = class8_namedst= class6_namesrc_multiplicity = src_mlpcdst_multiplicity = dst_mlpc2}one sig assoc6 extends associationsrc = class6_namedst= class1_namesrc_multiplicity = src_mlpcdst_multiplicity = dst_mlpc2}one sig assoc7 extends associationsrc = class6_namedst= class4_namesrc_multiplicity = src_mlpcdst_multiplicity = dst_mlpc}one sig assoc8 extends associationsrc = class1_namedst= class3_namesrc_multiplicity = src_mlpcdst_multiplicity = dst_mlpc}one sig assoc9 extends associationsrc = class1_namedst= class4_namesrc_multiplicity = src_mlpcdst_multiplicity = dst_mlpc}one sig assoc10 extends associationsrc = class2_namedst= class3_namesrc_multiplicity = src_mlpcdst_multiplicity = dst_mlpc2}pred showrun show,mapping strategy for class1_name : map_str2mapping strategy for class2_name : map_str2mapping strategy for class6_name : map_str2mapping strategy for class7_name : map_str2mapping strategy for class5_name : map_str3association strategy for assoc3 : assoc_str1association strategy for assoc7 : assoc_str1association strategy for assoc8 : assoc_str1association strategy for assoc4 : assoc_str2association strategy for assoc5 : assoc_str2association strategy for assoc6 : assoc_str2association strategy for assoc9 : assoc_str2association strategy for assoc10 : assoc_str2,use om_name:0;create table `class5_name` (c5_at1` c5_at1_type(64),`c2_at2` c2_at2_type(64),`c2_at1` c2_at1_type not null,primary key (`c2_at1`)create table `class2_name` (`c2_at2` c2_at2_type(64),`c2_at1` c2_at1_type not null,primary key (`c2_at1`)create table `class6_name` (`c6_at4` c6_at4_type(64),`c6_at3` c6_at3_type(64),`c6_at1_0` c6_at1_type(64),`c6_at2` c6_at2_type not null,primary key (`c6_at2`)create table `class1_name` (`c1_at2` c1_at2_type(64),`c1_at1` c1_at1_type not null,primary key (`c1_at1`)create table `class7_name` (`c7_at1` c7_at1_type(64),`c2_at1` c2_at1_type not null,key `fk_class7_name_c2_at1_idx` (`c2_at1`),primary key (`c2_at1`)create table `class3_name` (`c3_at6` c3_at6_type,`c3_at5` c3_at5_type,`c3_at4` c3_at4_type,`c3_at3` c3_at3_type,`c3_at2` c3_at2_type,`c3_at1` c3_at1_type not null,`c1_at1` int,key `fk_class3_name_c1_at1_idx` (`c1_at1`),primary key (`c3_at1`)create table `assoc3` (`c8_at1` c8_at1_type not null,`c3_at1` c3_at1_type not null,key `fk_assoc3_c8_at1_idx` (`c8_at1`),key `fk_assoc3_c3_at1_idx` (`c3_at1`),primary key (`c8_at1`,`c3_at1`)create table `assoc2` (`c4_at3` c4_at3_type not null,`c2_at1` c2_at1_type not null,key `fk_assoc2_c4_at3_idx` (`c4_at3`),key `fk_assoc2_c2_at1_idx` (`c2_at1`),primary key (`c4_at3`,`c2_at1`)create table `assoc1` (`c8_at1` c8_at1_type not null,`c2_at1` c2_at1_type not null,key `fk_assoc1_c8_at1_idx` (`c8_at1`),key `fk_assoc1_c2_at1_idx` (`c2_at1`),primary key (`c8_at1`,`c2_at1`)create table `assoc6` (`c6_at2` c6_at2_type not null,`c1_at1` c1_at1_type not null,key `fk_assoc6_c6_at2_idx` (`c6_at2`),key `fk_assoc6_c1_at1_idx` (`c1_at1`),primary key (`c6_at2`,`c1_at1`)create table `assoc4` (`c8_at1` c8_at1_type not null,`c4_at3` c4_at3_type not null,key `fk_assoc4_c8_at1_idx` (`c8_at1`),key `fk_assoc4_c4_at3_idx` (`c4_at3`),primary key (`c8_at1`,`c4_at3`)create table `assoc7` (`c6_at2` c6_at2_type not null,`c4_at3` c4_at3_type not null,key `fk_assoc7_c6_at2_idx` (`c6_at2`),key `fk_assoc7_c4_at3_idx` (`c4_at3`),primary key (`c6_at2`,`c4_at3`)create table `assoc10` (`c3_at1` c3_at1_type not null,`c2_at1` c2_at1_type not null,key `fk_assoc10_c3_at1_idx` (`c3_at1`),key `fk_assoc10_c2_at1_idx` (`c2_at1`),primary key (`c3_at1`,`c2_at1`)association strategy for assoc5 : assoc_str2`c8_at1` c8_at1_type not null,`c6_at2` c6_at2_type not null,key `fk_assoc5_c8_at1_idx` (`c8_at1`),key `fk_assoc5_c6_at2_idx` (`c6_at2`),primary key (`c8_at1`,`c6_at2`)create table `class4_name` (`c4_at4` c4_at4_type(64),`c4_at2` c4_at2_type(64),`c4_at1` c4_at1_type(64),`c4_at3` c4_at3_type not null,`c1_at1` int,key `fk_class4_name_c1_at1_idx` (`c1_at1`),primary key (`c4_at3`)create table `class8_name` (`c8_at2` c8_at2_type(64),`c6_at3` c6_at3_type(64),`c2_at2` c2_at2_type(64),`c8_at1` c8_at1_type not null,primary key (`c8_at1`)alter table `class7_name`add constraint `fk_class7_name_c2_at1` foreign key (`c2_at1`) references `class2_name` (`c2_at1`) on delete cascade on update cascade,alter table `class3_name`add constraint `fk_class3_name_c1_at1` foreign key (`c1_at1`) references `class1_name` (`c1_at1`) on delete cascade on update cascade,alter table `assoc3`add constraint `fk_assoc3_c8_at1` foreign key (`c8_at1`) references `class8_name` (`c8_at1`) on delete cascade on update cascade,add constraint `fk_assoc3_c3_at1` foreign key (`c3_at1`) references `class3_name` (`c3_at1`) on delete cascade on update cascade,alter table `assoc2`add constraint `fk_assoc2_c4_at3` foreign key (`c4_at3`) references `class4_name` (`c4_at3`) on delete cascade on update cascadeadd constraint `fk_assoc2_c2_at1` foreign key (`c2_at1`) references `class2_name` (`c2_at1`) on delete cascade on update cascade,alter table `assoc1`add constraint `fk_assoc1_c8_at1` foreign key (`c8_at1`) references `class8_name` (`c8_at1`) on delete cascade on update cascade,add constraint `fk_assoc1_c2_at1` foreign key (`c2_at1`) references `class2_name` (`c2_at1`) on delete cascade on update cascade;alter table `assoc6`alter table `class7_name`add constraint `fk_assoc6_c1_at1` foreign key (`c1_at1`) references `class1_name` (`c1_at1`) on delete cascade on update cascade,alter table `assoc4`add constraint `fk_assoc4_c8_at1` foreign key (`c8_at1`) references `class8_name` (`c8_at1`) on delete cascade on update cascade,add constraint `fk_assoc4_c4_at3` foreign key (`c4_at3`) references `class4_name` (`c4_at3`) on delete cascade on update cascade;alter table `assoc7`add constraint `fk_assoc7_c6_at2` foreign key (`c6_at2`) references `class6_name` (`c6_at2`) on delete cascade on update cascade,add constraint `fk_assoc7_c4_at3` foreign key (`c4_at3`) references `class4_name` (`c4_at3`) on delete cascade on update cascade;alter table `assoc10`add constraint `fk_assoc10_c3_at1` foreign key (`c3_at1`) references `class3_name` (`c3_at1`) on delete cascade on update cascade,add constraint `fk_assoc10_c2_at1` foreign key (`c2_at1`) references `class2_name` (`c2_at1`) on delete cascade on update cascade,alter table `assoc5`add constraint `fk_assoc5_c8_at1` foreign key (`c8_at1`) references `class8_name` (`c8_at1`) on delete cascade on update cascade,add constraint `fk_assoc5_c6_at2` foreign key (`c6_at2`) references `class6_name` (`c6_at2`) on delete cascade on update cascade;alter table `class4_name`add constraint `fk_class4_name_c1_at1` foreign key (`c1_at1`) references `class1_name` (`c1_at1`) on delete cascade on update cascade, [END]'"
            ],
            "application/vnd.google.colaboratory.intrinsic+json": {
              "type": "string"
            }
          },
          "metadata": {},
          "execution_count": 277
        }
      ],
      "source": [
        "context_vocab = np.array(context_text_processor.get_vocabulary())\n",
        "tokens = context_vocab[example_tokens[0].numpy()]\n",
        "' '.join(tokens)"
      ]
    },
    {
      "cell_type": "markdown",
      "metadata": {
        "id": "Ot0aCL9t-Ghi"
      },
      "source": [
        "The returned token IDs are zero-padded. This can easily be turned into a mask:"
      ]
    },
    {
      "cell_type": "code",
      "execution_count": 278,
      "metadata": {
        "colab": {
          "base_uri": "https://localhost:8080/",
          "height": 470
        },
        "id": "_jx4Or_eFRSz",
        "outputId": "7c6f2b54-88a8-4c9f-cad5-ccbf14e7e3ae"
      },
      "outputs": [
        {
          "output_type": "execute_result",
          "data": {
            "text/plain": [
              "Text(0.5, 1.0, 'Mask')"
            ]
          },
          "metadata": {},
          "execution_count": 278
        },
        {
          "output_type": "display_data",
          "data": {
            "text/plain": [
              "<Figure size 640x480 with 2 Axes>"
            ],
            "image/png": "[encoded data removed]"
          },
          "metadata": {}
        }
      ],
      "source": [
        "plt.subplot(1, 2, 1)\n",
        "plt.pcolormesh(example_tokens.to_tensor())\n",
        "plt.title('Token IDs')\n",
        "\n",
        "plt.subplot(1, 2, 2)\n",
        "plt.pcolormesh(example_tokens.to_tensor() != 0)\n",
        "plt.title('Mask')"
      ]
    },
    {
      "cell_type": "markdown",
      "metadata": {
        "id": "3O0B4XdFlRgc"
      },
      "source": [
        "### Process the dataset\n",
        "\n"
      ]
    },
    {
      "cell_type": "markdown",
      "metadata": {
        "id": "rVCuyuSp_whd"
      },
      "source": [
        "The `process_text` function below converts the `Datasets` of strings, into  0-padded tensors of token IDs. It also converts from a `(context, target)` pair to an `((context, target_in), target_out)` pair for training with `keras.Model.fit`. Keras expects `(inputs, labels)` pairs, the inputs are the `(context, target_in)` and the labels are `target_out`. The difference between `target_in` and `target_out` is that they are shifted by one step relative to eachother, so that at each location the label is the next token."
      ]
    },
    {
      "cell_type": "code",
      "execution_count": 279,
      "metadata": {
        "id": "wk5tbZWQl5u1"
      },
      "outputs": [],
      "source": [
        "def process_text(context, target):\n",
        "  context = context_text_processor(context).to_tensor()\n",
        "  target = target_text_processor(target)\n",
        "  targ_in = target[:,:-1].to_tensor()\n",
        "  targ_out = target[:,1:].to_tensor()\n",
        "  return (context, targ_in), targ_out\n",
        "\n",
        "\n",
        "train_ds = train_raw.map(process_text, tf.data.AUTOTUNE)\n",
        "val_ds = val_raw.map(process_text, tf.data.AUTOTUNE)"
      ]
    },
    {
      "cell_type": "markdown",
      "metadata": {
        "id": "4iGi7X2m_tbM"
      },
      "source": [
        "Here is the first sequence of each, from the first batch:"
      ]
    },
    {
      "cell_type": "code",
      "execution_count": 280,
      "metadata": {
        "colab": {
          "base_uri": "https://localhost:8080/"
        },
        "id": "woQBWAjLsJkr",
        "outputId": "1a5201c1-2f35-44de-8bb2-6d9d14fdabbc"
      },
      "outputs": [
        {
          "output_type": "stream",
          "name": "stdout",
          "text": [
            "[ 94 101  99 193 103   3  72   4  22   2]\n",
            "\n",
            "[ 94 211  99 192 102   3  72   4  22   2]\n",
            "[211  99 192 102   3  72   4  22   2 165]\n"
          ]
        }
      ],
      "source": [
        "for (ex_context_tok, ex_tar_in), ex_tar_out in train_ds.take(1):\n",
        "  print(ex_context_tok[0, :10].numpy()) \n",
        "  print()\n",
        "  print(ex_tar_in[0, :10].numpy()) \n",
        "  print(ex_tar_out[0, :10].numpy()) "
      ]
    },
    {
      "cell_type": "markdown",
      "metadata": {
        "id": "TNfHIF71ulLu"
      },
      "source": [
        "## The encoder/decoder\n",
        "\n",
        "  <th colspan=1>This tutorial's model</th>\n",
        "<tr>\n",
        "</table>\n"
      ]
    },
    {
      "cell_type": "markdown",
      "metadata": {
        "id": "gzQWx2saImMV"
      },
      "source": [
        "Before getting into it define constants for the model:"
      ]
    },
    {
      "cell_type": "code",
      "execution_count": 281,
      "metadata": {
        "id": "_a9uNz3-IrF-"
      },
      "outputs": [],
      "source": [
        "UNITS = 256"
      ]
    },
    {
      "cell_type": "markdown",
      "metadata": {
        "id": "blNgVbLSzpsr"
      },
      "source": [
        "### The encoder\n",
        "\n",
        "\n",
        "The encoder:\n",
        "\n",
        "1. Takes a list of token IDs (from `context_text_processor`).\n",
        "3. Looks up an embedding vector for each token (Using a `layers.Embedding`).\n",
        "4. Processes the embeddings into a new sequence (Using a bidirectional `layers.GRU`).\n",
        "5. Returns the processed sequence. This will be passed to the attention head."
      ]
    },
    {
      "cell_type": "code",
      "execution_count": 282,
      "metadata": {
        "id": "nZ2rI24i3jFg"
      },
      "outputs": [],
      "source": [
        "class Encoder(tf.keras.layers.Layer):\n",
        "  def __init__(self, text_processor, units):\n",
        "    super(Encoder, self).__init__()\n",
        "    self.text_processor = text_processor\n",
        "    self.vocab_size = text_processor.vocabulary_size()\n",
        "    self.units = units\n",
        "    \n",
        "    # The embedding layer converts tokens to vectors\n",
        "    self.embedding = tf.keras.layers.Embedding(self.vocab_size, units,\n",
        "                                               mask_zero=True)\n",
        "\n",
        "    # The RNN layer processes those vectors sequentially.\n",
        "    self.rnn = tf.keras.layers.Bidirectional(\n",
        "        merge_mode='sum',\n",
        "        layer=tf.keras.layers.GRU(units,\n",
        "                            # Return the sequence and state\n",
        "                            return_sequences=True,\n",
        "                            recurrent_initializer='glorot_uniform'))\n",
        "\n",
        "  def call(self, x):\n",
        "    shape_checker = ShapeChecker()\n",
        "    shape_checker(x, 'batch s')\n",
        "\n",
        "    # 2. The embedding layer looks up the embedding vector for each token.\n",
        "    x = self.embedding(x)\n",
        "    shape_checker(x, 'batch s units')\n",
        "\n",
        "    # 3. The GRU processes the sequence of embeddings.\n",
        "    x = self.rnn(x)\n",
        "    shape_checker(x, 'batch s units')\n",
        "\n",
        "    # 4. Returns the new sequence of embeddings.\n",
        "    return x\n",
        "\n",
        "  def convert_input(self, texts):\n",
        "    texts = tf.convert_to_tensor(texts)\n",
        "    if len(texts.shape) == 0:\n",
        "      texts = tf.convert_to_tensor(texts)[tf.newaxis]\n",
        "    context = self.text_processor(texts).to_tensor()\n",
        "    context = self(context)\n",
        "    return context"
      ]
    },
    {
      "cell_type": "code",
      "execution_count": 283,
      "metadata": {
        "colab": {
          "base_uri": "https://localhost:8080/"
        },
        "id": "60gSVh05Jl6l",
        "outputId": "e74978fe-a64c-49a8-bcf0-4e875a6396ba"
      },
      "outputs": [
        {
          "output_type": "stream",
          "name": "stdout",
          "text": [
            "Context tokens, shape (batch, s): (1, 813)\n",
            "Encoder output, shape (batch, s, units): (1, 813, 256)\n"
          ]
        }
      ],
      "source": [
        "# Encode the input sequence.\n",
        "encoder = Encoder(context_text_processor, UNITS)\n",
        "ex_context = encoder(ex_context_tok)\n",
        "\n",
        "print(f'Context tokens, shape (batch, s): {ex_context_tok.shape}')\n",
        "print(f'Encoder output, shape (batch, s, units): {ex_context.shape}')"
      ]
    },
    {
      "cell_type": "markdown",
      "metadata": {
        "id": "45xM_Gl1MgXY"
      },
      "source": [
        "### The attention layer\n",
        "\n",
        "The attention layer lets the decoder access the information extracted by the encoder. It computes a vector from the entire context sequence, and adds that to the decoder's output. \n"
      ]
    },
    {
      "cell_type": "code",
      "execution_count": 284,
      "metadata": {
        "id": "-Ql3ymqwD8LS"
      },
      "outputs": [],
      "source": [
        "class CrossAttention(tf.keras.layers.Layer):\n",
        "  def __init__(self, units, **kwargs):\n",
        "    super().__init__()\n",
        "    self.mha = tf.keras.layers.MultiHeadAttention(key_dim=units, num_heads=1, **kwargs)\n",
        "    self.layernorm = tf.keras.layers.LayerNormalization()\n",
        "    self.add = tf.keras.layers.Add()\n",
        "\n",
        "  def call(self, x, context):\n",
        "    shape_checker = ShapeChecker()\n",
        " \n",
        "    shape_checker(x, 'batch t units')\n",
        "    shape_checker(context, 'batch s units')\n",
        "\n",
        "    attn_output, attn_scores = self.mha(\n",
        "       query=x,\n",
        "       value=context,\n",
        "      return_attention_scores=True)\n",
        "    \n",
        "    shape_checker(x, 'batch t units')\n",
        "    shape_checker(attn_scores, 'batch heads t s')\n",
        "    \n",
        "  #Cache the attention scores for plotting later.\n",
        "    attn_scores = tf.reduce_mean(attn_scores, axis=1)\n",
        "    shape_checker(attn_scores, 'batch t s')\n",
        "    self.last_attention_weights = attn_scores\n",
        "\n",
        "    x = self.add([x, attn_output])\n",
        "    x = self.layernorm(x)\n",
        "\n",
        "    return x"
      ]
    },
    {
      "cell_type": "markdown",
      "source": [],
      "metadata": {
        "id": "bRzduCU4tGN6"
      }
    },
    {
      "cell_type": "code",
      "source": [
        "attention_layer = CrossAttention(UNITS)\n",
        "\n",
        "# Attend to the encoded tokens\n",
        "embed = tf.keras.layers.Embedding(target_text_processor.vocabulary_size(),\n",
        "                                 output_dim=UNITS, mask_zero=True)\n",
        "ex_tar_embed = embed(ex_tar_in)\n",
        "\n",
        "result = attention_layer(ex_tar_embed, ex_context)\n",
        "\n",
        "print(f'Context sequence, shape (batch, s, units): {ex_context.shape}')\n",
        "print(f'Target sequence, shape (batch, t, units): {ex_tar_embed.shape}')\n",
        "print(f'Attention result, shape (batch, t, units): {result.shape}')\n",
        "print(f'Attention weights, shape (batch, t, s):    {attention_layer.last_attention_weights.shape}')"
      ],
      "metadata": {
        "colab": {
          "base_uri": "https://localhost:8080/"
        },
        "id": "VVLdvss3zN4v",
        "outputId": "b88a3b7e-48a5-45de-eb51-3a96b0714ba8"
      },
      "execution_count": 285,
      "outputs": [
        {
          "output_type": "stream",
          "name": "stdout",
          "text": [
            "Context sequence, shape (batch, s, units): (1, 813, 256)\n",
            "Target sequence, shape (batch, t, units): (1, 812, 256)\n",
            "Attention result, shape (batch, t, units): (1, 812, 256)\n",
            "Attention weights, shape (batch, t, s):    (1, 812, 813)\n"
          ]
        }
      ]
    },
    {
      "cell_type": "markdown",
      "source": [],
      "metadata": {
        "id": "d14A2DcPtQhS"
      }
    },
    {
      "cell_type": "markdown",
      "metadata": {
        "id": "vx9fUhi3Pmwp"
      },
      "source": [
        "The attention weights will sum to `1` over the context sequence, at each location in the target sequence."
      ]
    },
    {
      "cell_type": "code",
      "execution_count": 286,
      "metadata": {
        "colab": {
          "base_uri": "https://localhost:8080/"
        },
        "id": "zxyR7cmQPn9P",
        "outputId": "e86a0b99-56f4-4e63-9004-ab0f7e58a7fb"
      },
      "outputs": [
        {
          "output_type": "execute_result",
          "data": {
            "text/plain": [
              "array([0.99999994, 1.        , 1.        , 1.0000001 , 1.        ,\n",
              "       1.        , 0.99999994, 1.        , 1.        , 1.        ,\n",
              "       1.        , 1.0000001 , 1.        , 1.        , 1.        ,\n",
              "       1.        , 1.        , 1.        , 1.        , 1.        ,\n",
              "       1.        , 1.        , 1.        , 1.        , 1.        ,\n",
              "       1.        , 1.        , 0.99999994, 1.0000001 , 1.        ,\n",
              "       1.        , 1.        , 1.        , 1.        , 1.        ,\n",
              "       1.        , 1.        , 1.        , 1.        , 1.        ,\n",
              "       1.        , 1.        , 1.        , 1.        , 1.        ,\n",
              "       1.0000001 , 1.        , 1.        , 1.        , 1.        ,\n",
              "       1.        , 1.        , 1.        , 1.        , 1.        ,\n",
              "       1.        , 1.        , 0.99999994, 1.        , 1.        ,\n",
              "       1.        , 1.0000001 , 1.        , 0.9999999 , 1.        ,\n",
              "       0.9999999 , 1.        , 1.        , 1.        , 0.99999994,\n",
              "       1.        , 1.        , 1.        , 1.        , 1.        ,\n",
              "       1.        , 1.        , 1.        , 1.0000001 , 1.        ,\n",
              "       1.        , 1.        , 1.        , 1.        , 1.        ,\n",
              "       1.        , 1.        , 1.        , 0.99999994, 1.        ,\n",
              "       0.99999994, 1.        , 1.        , 1.        , 1.        ,\n",
              "       1.        , 1.        , 1.        , 1.        , 1.        ,\n",
              "       1.        , 1.        , 1.        , 1.        , 1.        ,\n",
              "       0.99999994, 1.        , 0.99999994, 1.        , 1.        ,\n",
              "       1.        , 1.        , 1.        , 0.9999999 , 1.        ,\n",
              "       1.        , 1.        , 1.        , 1.        , 1.        ,\n",
              "       1.0000001 , 1.        , 1.        , 1.        , 0.9999999 ,\n",
              "       1.        , 1.        , 1.        , 1.        , 1.        ,\n",
              "       1.        , 1.        , 1.        , 1.        , 1.        ,\n",
              "       1.        , 1.        , 1.        , 1.        , 1.        ,\n",
              "       1.0000001 , 1.        , 1.        , 1.        , 0.99999994,\n",
              "       1.        , 1.        , 0.99999994, 1.        , 0.99999994,\n",
              "       1.        , 1.        , 1.        , 1.        , 1.        ,\n",
              "       1.        , 1.        , 1.        , 1.        , 1.        ,\n",
              "       1.        , 0.99999994, 1.0000001 , 1.        , 1.        ,\n",
              "       1.        , 1.        , 1.        , 0.99999994, 1.        ,\n",
              "       1.        , 1.        , 1.        , 1.        , 1.        ,\n",
              "       1.        , 1.        , 1.        , 1.        , 1.        ,\n",
              "       1.        , 1.        , 1.        , 1.        , 1.        ,\n",
              "       1.        , 1.        , 1.        , 1.        , 1.        ,\n",
              "       1.        , 1.        , 0.99999994, 1.        , 1.        ,\n",
              "       1.        , 1.        , 1.        , 1.        , 1.        ,\n",
              "       1.        , 1.        , 1.        , 1.        , 1.        ,\n",
              "       1.        , 1.        , 0.99999994, 1.        , 1.        ,\n",
              "       1.        , 1.        , 1.        , 1.        , 1.        ,\n",
              "       1.        , 1.        , 1.        , 1.        , 1.        ,\n",
              "       1.        , 1.        , 1.        , 0.99999994, 1.        ,\n",
              "       1.        , 1.        , 1.        , 1.        , 1.        ,\n",
              "       1.        , 1.        , 1.        , 1.        , 1.        ,\n",
              "       1.        , 1.        , 1.        , 1.        , 1.        ,\n",
              "       0.99999994, 1.        , 1.        , 1.        , 1.        ,\n",
              "       1.        , 1.        , 1.        , 1.        , 1.        ,\n",
              "       1.        , 1.        , 1.        , 1.        , 1.        ,\n",
              "       1.        , 1.        , 1.        , 1.        , 1.        ,\n",
              "       1.        , 1.        , 1.        , 1.        , 1.        ,\n",
              "       1.        , 1.        , 1.        , 1.        , 1.        ,\n",
              "       1.        , 1.        , 1.        , 1.        , 1.        ,\n",
              "       1.        , 1.        , 1.        , 1.        , 1.        ,\n",
              "       1.        , 1.        , 1.        , 1.        , 1.        ,\n",
              "       0.9999999 , 1.        , 0.99999994, 1.        , 1.        ,\n",
              "       0.9999999 , 1.        , 1.        , 1.        , 1.        ,\n",
              "       0.9999999 , 1.        , 1.        , 1.        , 1.        ,\n",
              "       0.9999999 , 1.        , 1.        , 1.        , 1.        ,\n",
              "       0.9999999 , 1.        , 1.0000001 , 1.        , 1.        ,\n",
              "       0.9999999 , 1.        , 1.        , 1.        , 1.        ,\n",
              "       0.9999999 , 1.        , 1.        , 1.        , 1.        ,\n",
              "       0.9999999 , 1.        , 1.        , 1.        , 1.        ,\n",
              "       0.9999999 , 1.        , 0.99999994, 1.        , 1.        ,\n",
              "       0.9999999 , 1.        , 1.        , 1.        , 1.        ,\n",
              "       0.9999999 , 1.        , 1.        , 1.        , 1.        ,\n",
              "       0.9999999 , 1.        , 0.99999994, 1.        , 1.        ,\n",
              "       0.9999999 , 1.        , 1.        , 1.        , 1.        ,\n",
              "       0.99999994, 1.        , 1.        , 1.        , 1.        ,\n",
              "       0.9999999 , 0.99999994, 1.        , 1.        , 1.        ,\n",
              "       1.        , 1.        , 1.        , 1.        , 1.        ,\n",
              "       0.99999994, 1.        , 1.0000001 , 1.        , 1.        ,\n",
              "       1.        , 1.        , 1.        , 0.99999994, 1.0000001 ,\n",
              "       0.99999994, 1.        , 1.        , 0.99999994, 1.        ,\n",
              "       1.        , 1.        , 1.        , 1.        , 1.        ,\n",
              "       1.        , 1.        , 1.        , 1.        , 1.        ,\n",
              "       1.        , 1.        , 1.        , 1.        , 0.99999994,\n",
              "       1.        , 0.99999994, 1.        , 1.0000001 , 1.        ,\n",
              "       1.        , 1.        , 1.        , 1.        , 1.        ,\n",
              "       1.        , 1.        , 1.        , 1.        , 0.99999994,\n",
              "       1.        , 1.        , 1.        , 1.        , 1.        ,\n",
              "       1.        , 1.        , 1.        , 1.        , 1.        ,\n",
              "       1.        , 1.        , 1.        , 1.        , 0.99999994,\n",
              "       1.        , 1.        , 1.0000001 , 1.        , 1.        ,\n",
              "       1.        , 1.        , 1.        , 1.        , 1.        ,\n",
              "       1.        , 0.99999994, 1.        , 1.        , 1.        ,\n",
              "       0.99999994, 1.        , 1.0000001 , 1.        , 1.        ,\n",
              "       1.        , 1.        , 1.        , 1.        , 1.        ,\n",
              "       0.9999999 , 1.        , 0.99999994, 1.        , 1.        ,\n",
              "       1.        , 1.        , 1.0000001 , 0.99999994, 1.        ,\n",
              "       0.99999994, 1.        , 1.        , 1.        , 1.        ,\n",
              "       1.        , 1.        , 1.        , 1.        , 1.        ,\n",
              "       1.        , 1.        , 1.0000001 , 0.99999994, 1.        ,\n",
              "       1.        , 1.        , 1.        , 1.        , 1.        ,\n",
              "       0.9999999 , 1.        , 1.        , 1.        , 1.        ,\n",
              "       0.99999994, 1.        , 1.0000001 , 1.0000001 , 1.        ,\n",
              "       1.        , 1.        , 1.        , 1.        , 0.9999999 ,\n",
              "       1.        , 1.        , 1.        , 1.        , 1.        ,\n",
              "       1.        , 1.        , 0.99999994, 1.        , 1.0000001 ,\n",
              "       1.0000001 , 1.        , 1.        , 1.        , 1.        ,\n",
              "       1.        , 1.        , 1.        , 1.        , 1.        ,\n",
              "       1.        , 1.        , 1.        , 1.        , 1.        ,\n",
              "       1.0000001 , 1.        , 1.        , 1.        , 0.9999999 ,\n",
              "       1.        , 1.        , 0.99999994, 1.        , 1.        ,\n",
              "       1.        , 1.        , 1.        , 1.0000001 , 1.        ,\n",
              "       1.        , 1.        , 1.        , 1.        , 1.        ,\n",
              "       1.        , 1.        , 0.99999994, 1.        , 0.99999994,\n",
              "       1.        , 1.        , 1.        , 1.        , 1.        ,\n",
              "       1.        , 1.        , 0.99999994, 1.        , 0.99999994,\n",
              "       1.        , 1.        , 1.        , 1.        , 1.        ,\n",
              "       0.99999994, 0.99999994, 1.        , 0.99999994, 0.99999994,\n",
              "       0.99999994, 1.        , 1.        , 0.99999994, 1.        ,\n",
              "       0.99999994, 1.        , 1.0000001 , 1.        , 1.        ,\n",
              "       1.0000001 , 0.99999994, 0.99999994, 1.        , 0.99999994,\n",
              "       0.99999994, 0.99999994, 1.        , 1.        , 0.99999994,\n",
              "       0.9999999 , 0.99999994, 1.        , 1.        , 1.        ,\n",
              "       1.        , 1.        , 0.99999994, 0.99999994, 1.        ,\n",
              "       0.99999994, 0.99999994, 0.99999994, 1.        , 0.99999994,\n",
              "       0.99999994, 1.        , 0.99999994, 1.        , 1.        ,\n",
              "       1.        , 1.        , 1.        , 0.99999994, 0.99999994,\n",
              "       1.        , 0.99999994, 0.99999994, 1.        , 0.99999994,\n",
              "       0.9999999 , 0.99999994, 1.        , 1.        , 1.        ,\n",
              "       1.        , 1.        , 0.99999994, 0.99999994, 1.        ,\n",
              "       0.99999994, 0.99999994, 0.99999994, 1.        , 1.        ,\n",
              "       0.99999994, 1.        , 0.99999994, 1.        , 1.        ,\n",
              "       1.        , 1.        , 1.        , 0.99999994, 0.99999994,\n",
              "       1.        , 0.99999994, 0.99999994, 1.        , 0.99999994,\n",
              "       0.99999994, 0.99999994, 1.        , 1.0000001 , 1.        ,\n",
              "       1.        , 1.0000001 , 0.99999994, 0.99999994, 1.        ,\n",
              "       0.99999994, 0.99999994, 0.99999994, 1.        , 1.        ,\n",
              "       1.        , 1.        , 0.99999994, 1.        , 0.99999994,\n",
              "       1.        , 1.        , 1.        , 1.        , 1.        ,\n",
              "       0.99999994, 0.99999994, 1.        , 0.99999994, 0.99999994,\n",
              "       0.99999994, 1.        , 1.        , 0.99999994, 1.        ,\n",
              "       0.99999994, 1.        , 1.        , 1.        , 1.        ,\n",
              "       1.        , 0.99999994, 0.99999994, 1.        , 0.99999994,\n",
              "       0.99999994, 1.        , 0.99999994, 1.        , 0.99999994,\n",
              "       1.        , 1.        , 1.        , 1.        , 1.        ,\n",
              "       0.99999994, 0.99999994, 1.        , 0.99999994, 0.99999994,\n",
              "       1.        , 1.        , 0.9999999 , 0.99999994, 1.        ,\n",
              "       0.99999994, 1.        , 1.        , 1.        , 1.        ,\n",
              "       1.        , 0.99999994, 0.99999994, 1.        , 0.99999994,\n",
              "       0.99999994, 1.        , 0.99999994, 1.        , 0.99999994,\n",
              "       1.        , 1.0000001 , 1.        , 1.        , 1.0000001 ,\n",
              "       0.99999994, 0.99999994, 1.        , 0.99999994, 0.99999994,\n",
              "       0.99999994, 1.        , 0.99999994, 0.99999994, 1.0000001 ,\n",
              "       0.99999994, 1.        , 1.        , 1.        , 1.        ,\n",
              "       1.        , 0.99999994, 0.99999994, 1.        , 0.99999994,\n",
              "       0.99999994, 1.        , 0.99999994, 1.0000001 , 0.99999994,\n",
              "       1.        , 1.        , 1.        , 0.99999994, 1.        ,\n",
              "       0.99999994, 0.99999994, 1.        , 0.99999994, 0.99999994,\n",
              "       1.        , 1.        , 1.        , 0.99999994, 1.        ,\n",
              "       0.99999994, 1.        , 1.        , 1.        , 0.99999994,\n",
              "       1.        , 0.99999994, 0.99999994, 1.        , 0.99999994,\n",
              "       0.99999994, 1.        , 1.        , 1.        , 0.99999994,\n",
              "       1.        , 0.99999994, 1.        , 1.        , 1.        ,\n",
              "       1.        , 1.        , 0.99999994, 0.99999994, 1.        ,\n",
              "       0.99999994, 0.99999994, 1.        , 0.99999994, 1.        ,\n",
              "       0.99999994, 1.        , 1.        , 1.        , 1.        ,\n",
              "       1.        , 0.99999994, 0.99999994, 1.        , 0.99999994,\n",
              "       0.99999994, 1.        ], dtype=float32)"
            ]
          },
          "metadata": {},
          "execution_count": 286
        }
      ],
      "source": [
        "attention_layer.last_attention_weights[0].numpy().sum(axis=-1)"
      ]
    },
    {
      "cell_type": "markdown",
      "metadata": {
        "id": "AagyXMH-Jhqt"
      },
      "source": [
        "\n",
        "\n",
        "Here are the attention weights across the context sequences at `t=0`:"
      ]
    },
    {
      "cell_type": "code",
      "source": [
        "attention_weights = attention_layer.last_attention_weights\n",
        "mask=(ex_context_tok != 0).numpy()\n",
        "\n",
        "plt.subplot(1, 2, 1)\n",
        "plt.pcolormesh(mask*attention_weights[:, 0, :])\n",
        "plt.title('Attention weights')\n",
        "\n",
        "plt.subplot(1, 2, 2)\n",
        "plt.pcolormesh(mask)\n",
        "plt.title('Mask');"
      ],
      "metadata": {
        "colab": {
          "base_uri": "https://localhost:8080/",
          "height": 452
        },
        "id": "LDc9M_CUtYWD",
        "outputId": "7112fc9b-b9d6-41d8-bf96-2ba5c99520dd"
      },
      "execution_count": 287,
      "outputs": [
        {
          "output_type": "display_data",
          "data": {
            "text/plain": [
              "<Figure size 640x480 with 2 Axes>"
            ],
            "image/png": "[encoded data removed]"
          },
          "metadata": {}
        }
      ]
    },
    {
      "cell_type": "markdown",
      "source": [],
      "metadata": {
        "id": "Cpq_sCKHtZzS"
      }
    },
    {
      "cell_type": "markdown",
      "metadata": {
        "id": "6Eil-C_NN1rp"
      },
      "source": [
        "Because of the small-random initialization the attention weights are initially all close to `1/(sequence_length)`. The model will learn to make these less uniform as training progresses."
      ]
    },
    {
      "cell_type": "markdown",
      "metadata": {
        "id": "aQ638eHN4iCK"
      },
      "source": [
        "### The decoder\n",
        "\n",
        "The decoder's job is to generate predictions for the next token at each location in the target sequence.\n",
        "\n",
        "1. It looks up embeddings for each token in the target sequence.\n",
        "2. It uses an RNN to process the target sequence, and keep track of what it has generated so far.\n",
        "3. It uses RNN output as the \"query\" to the attention layer, when attending to the encoder's output.\n",
        "4. At each location in the output it predicts the next token.\n"
      ]
    },
    {
      "cell_type": "markdown",
      "metadata": {
        "id": "pZsQJMqNmg_L"
      },
      "source": [
        "Here is the `Decoder` class' initializer. The initializer creates all the necessary layers."
      ]
    },
    {
      "cell_type": "code",
      "execution_count": 288,
      "metadata": {
        "id": "erYvHIgAl8kh"
      },
      "outputs": [],
      "source": [
        "class Decoder(tf.keras.layers.Layer):\n",
        "  @classmethod\n",
        "  def add_method(cls, fun):\n",
        "    setattr(cls, fun.__name__, fun)\n",
        "    return fun\n",
        "\n",
        "  def __init__(self, text_processor, units):\n",
        "    super(Decoder, self).__init__()\n",
        "    self.text_processor = text_processor\n",
        "    self.vocab_size = text_processor.vocabulary_size()\n",
        "    self.word_to_id = tf.keras.layers.StringLookup(\n",
        "        vocabulary=text_processor.get_vocabulary(),\n",
        "        mask_token='', oov_token='[UNK]')\n",
        "    self.id_to_word = tf.keras.layers.StringLookup(\n",
        "        vocabulary=text_processor.get_vocabulary(),\n",
        "        mask_token='', oov_token='[UNK]',\n",
        "        invert=True)\n",
        "    self.start_token = self.word_to_id('[START]')\n",
        "    self.end_token = self.word_to_id('[END]')\n",
        "\n",
        "    self.units = units\n",
        "\n",
        "\n",
        "    # 1. The embedding layer converts token IDs to vectors\n",
        "    self.embedding = tf.keras.layers.Embedding(self.vocab_size,\n",
        "                                               units, mask_zero=True)\n",
        "\n",
        "    # 2. The RNN keeps track of what's been generated so far.\n",
        "    self.rnn = tf.keras.layers.GRU(units,\n",
        "                                   return_sequences=True,\n",
        "                                   return_state=True,\n",
        "                                   recurrent_initializer='glorot_uniform')\n",
        "\n",
        "    # 3. The RNN output will be the query for the attention layer.\n",
        "    self.attention = CrossAttention(units)\n",
        "\n",
        "    # 4. This fully connected layer produces the logits for each\n",
        "    # output token.\n",
        "    self.output_layer = tf.keras.layers.Dense(self.vocab_size)"
      ]
    },
    {
      "cell_type": "markdown",
      "metadata": {
        "id": "Sd8-nRNzFR8x"
      },
      "source": [
        "#### Training"
      ]
    },
    {
      "cell_type": "markdown",
      "metadata": {
        "id": "UPnaw583CpnY"
      },
      "source": [
        "Next, the `call` method, takes 3 arguments:\n",
        "\n",
        "* `inputs` -  a `context, x` pair where:\n",
        "  * `context` - is the context from the encoder's output.\n",
        "  * `x` - is the target sequence input.\n",
        "* `state` - Optional, the previous `state` output from the decoder (the internal state of the decoder's RNN). Pass the state from a previous run to continue generating text where you left off.\n",
        "* `return_state` - [Default: False] - Set this to `True` to return the RNN state. "
      ]
    },
    {
      "cell_type": "code",
      "execution_count": 289,
      "metadata": {
        "id": "PJOi5btHAPNK"
      },
      "outputs": [],
      "source": [
        "@Decoder.add_method\n",
        "def call(self,\n",
        "         context, x,\n",
        "         state=None,\n",
        "         return_state=False):  \n",
        "  shape_checker = ShapeChecker()\n",
        "  shape_checker(x, 'batch t')\n",
        "  shape_checker(context, 'batch s units')\n",
        "\n",
        "  # 1. Lookup the embeddings\n",
        "  x = self.embedding(x)\n",
        "  shape_checker(x, 'batch t units')\n",
        "\n",
        "  # 2. Process the target sequence.\n",
        "  x, state = self.rnn(x, initial_state=state)\n",
        "  shape_checker(x, 'batch t units')\n",
        "\n",
        "  # 3. Use the RNN output as the query for the attention over the context.\n",
        "  x = self.attention(x, context)\n",
        "  self.last_attention_weights = self.attention.last_attention_weights\n",
        "  shape_checker(x, 'batch t units')\n",
        "  shape_checker(self.last_attention_weights, 'batch t s')\n",
        "\n",
        "  # Step 4. Generate logit predictions for the next token.\n",
        "  logits = self.output_layer(x)\n",
        "  shape_checker(logits, 'batch t target_vocab_size')\n",
        "\n",
        "  if return_state:\n",
        "    return logits, state\n",
        "  else:\n",
        "    return logits"
      ]
    },
    {
      "cell_type": "markdown",
      "metadata": {
        "id": "E1-mLAcUEXpK"
      },
      "source": [
        "That will be sufficient for training. Create an instance of the decoder to test out:"
      ]
    },
    {
      "cell_type": "code",
      "execution_count": 290,
      "metadata": {
        "id": "4ZUMbYXIEVeA"
      },
      "outputs": [],
      "source": [
        "decoder = Decoder(target_text_processor, UNITS)"
      ]
    },
    {
      "cell_type": "markdown",
      "metadata": {
        "id": "SFWaI4wqzt4t"
      },
      "source": [
        "Decoder usage"
      ]
    },
    {
      "cell_type": "code",
      "execution_count": 291,
      "metadata": {
        "colab": {
          "base_uri": "https://localhost:8080/"
        },
        "id": "5YM-lD7bzx18",
        "outputId": "3475e609-8c12-4139-cdb8-9bf5b37929b5"
      },
      "outputs": [
        {
          "output_type": "stream",
          "name": "stdout",
          "text": [
            "encoder output shape: (batch, s, units) (1, 813, 256)\n",
            "input target tokens shape: (batch, t) (1, 812)\n",
            "logits shape shape: (batch, target_vocabulary_size) (1, 812, 316)\n"
          ]
        }
      ],
      "source": [
        "logits = decoder(ex_context, ex_tar_in)\n",
        "\n",
        "print(f'encoder output shape: (batch, s, units) {ex_context.shape}')\n",
        "print(f'input target tokens shape: (batch, t) {ex_tar_in.shape}')\n",
        "print(f'logits shape shape: (batch, target_vocabulary_size) {logits.shape}')"
      ]
    },
    {
      "cell_type": "markdown",
      "metadata": {
        "id": "zhS_tbk7VQkX"
      },
      "source": [
        "#### Inference\n",
        "\n",
        "For inference usage couple more methods."
      ]
    },
    {
      "cell_type": "code",
      "execution_count": 292,
      "metadata": {
        "id": "SPm12cnIVRQr"
      },
      "outputs": [],
      "source": [
        "@Decoder.add_method\n",
        "def get_initial_state(self, context):\n",
        "  batch_size = tf.shape(context)[0]\n",
        "  start_tokens = tf.fill([batch_size, 1], self.start_token)\n",
        "  done = tf.zeros([batch_size, 1], dtype=tf.bool)\n",
        "  embedded = self.embedding(start_tokens)\n",
        "  return start_tokens, done, self.rnn.get_initial_state(embedded)[0]"
      ]
    },
    {
      "cell_type": "code",
      "execution_count": 293,
      "metadata": {
        "id": "TzeOhpBvVS5L"
      },
      "outputs": [],
      "source": [
        "@Decoder.add_method\n",
        "def tokens_to_text(self, tokens):\n",
        "  words = self.id_to_word(tokens)\n",
        "  result = tf.strings.reduce_join(words, axis=-1, separator=' ')\n",
        "  result = tf.strings.regex_replace(result, '^ *\\[START\\] *', '')\n",
        "  result = tf.strings.regex_replace(result, ' *\\[END\\] *$', '')\n",
        "  return result"
      ]
    },
    {
      "cell_type": "code",
      "execution_count": 294,
      "metadata": {
        "id": "v6ildnz_V1MA"
      },
      "outputs": [],
      "source": [
        "@Decoder.add_method\n",
        "def get_next_token(self, context, next_token, done, state, temperature = 0.0):\n",
        "  logits, state = self(\n",
        "    context, next_token,\n",
        "    state = state,\n",
        "    return_state=True) \n",
        "  \n",
        "  if temperature == 0.0:\n",
        "    next_token = tf.argmax(logits, axis=-1)\n",
        "  else:\n",
        "    logits = logits[:, -1, :]/temperature\n",
        "    next_token = tf.random.categorical(logits, num_samples=1)\n",
        "\n",
        "  # If a sequence produces an `end_token`, set it `done`\n",
        "  done = done | (next_token == self.end_token)\n",
        "  # Once a sequence is done it only produces 0-padding.\n",
        "  next_token = tf.where(done, tf.constant(0, dtype=tf.int64), next_token)\n",
        "  \n",
        "  return next_token, done, state"
      ]
    },
    {
      "cell_type": "markdown",
      "metadata": {
        "id": "9WiXLrVs-FTE"
      },
      "source": [
        "With those extra functions, you can write a generation loop:"
      ]
    },
    {
      "cell_type": "code",
      "execution_count": 295,
      "metadata": {
        "id": "SuehagxL-JBZ"
      },
      "outputs": [],
      "source": [
        "# Setup the loop variables.\n",
        "next_token, done, state = decoder.get_initial_state(ex_context)\n",
        "tokens = []\n",
        "\n",
        "for n in range(10):\n",
        "  # Run one step.\n",
        "  next_token, done, state = decoder.get_next_token(\n",
        "      ex_context, next_token, done, state, temperature=1.0)\n",
        "  # Add the token to the output.\n",
        "  tokens.append(next_token)\n",
        "\n",
        "# Stack all the tokens together.\n",
        "tokens = tf.concat(tokens, axis=-1) # (batch, t)\n",
        "\n",
        "# Convert the tokens back to a a string\n",
        "result = decoder.tokens_to_text(tokens)\n",
        "#result[:3].numpy()"
      ]
    },
    {
      "cell_type": "markdown",
      "metadata": {
        "id": "B6xyru86m914"
      },
      "source": [
        "## The model\n"
      ]
    },
    {
      "cell_type": "code",
      "execution_count": 296,
      "metadata": {
        "id": "WWIyuy71TkJT"
      },
      "outputs": [],
      "source": [
        "class Translator(tf.keras.Model):\n",
        "  @classmethod\n",
        "  def add_method(cls, fun):\n",
        "    setattr(cls, fun.__name__, fun)\n",
        "    return fun\n",
        "\n",
        "  def __init__(self, units,\n",
        "               context_text_processor,\n",
        "               target_text_processor):\n",
        "    super().__init__()\n",
        "    # Build the encoder and decoder\n",
        "    encoder = Encoder(context_text_processor, units)\n",
        "    decoder = Decoder(target_text_processor, units)\n",
        "\n",
        "    self.encoder = encoder\n",
        "    self.decoder = decoder\n",
        "\n",
        "  def call(self, inputs):\n",
        "    context, x = inputs\n",
        "    context = self.encoder(context)\n",
        "    logits = self.decoder(context, x)\n",
        "\n",
        "    #TODO(b/250038731): remove this\n",
        "    try:\n",
        "      # Delete the keras mask, so keras doesn't scale the loss+accuracy. \n",
        "      del logits._keras_mask\n",
        "    except AttributeError:\n",
        "      pass\n",
        "\n",
        "    return logits"
      ]
    },
    {
      "cell_type": "markdown",
      "metadata": {
        "id": "5rPi0FkS2iA5"
      },
      "source": [
        "During training the model will be used like this:"
      ]
    },
    {
      "cell_type": "code",
      "execution_count": 297,
      "metadata": {
        "colab": {
          "base_uri": "https://localhost:8080/"
        },
        "id": "8vhjTh84K6Mg",
        "outputId": "19f236ac-3624-4991-b61c-a456528839eb"
      },
      "outputs": [
        {
          "output_type": "stream",
          "name": "stdout",
          "text": [
            "Context tokens, shape: (batch, s, units) (1, 813)\n",
            "Target tokens, shape: (batch, t) (1, 812)\n",
            "logits, shape: (batch, t, target_vocabulary_size) (1, 812, 316)\n"
          ]
        }
      ],
      "source": [
        "model = Translator(UNITS, context_text_processor, target_text_processor)\n",
        "\n",
        "logits = model((ex_context_tok, ex_tar_in))\n",
        "\n",
        "print(f'Context tokens, shape: (batch, s, units) {ex_context_tok.shape}')\n",
        "print(f'Target tokens, shape: (batch, t) {ex_tar_in.shape}')\n",
        "print(f'logits, shape: (batch, t, target_vocabulary_size) {logits.shape}')"
      ]
    },
    {
      "cell_type": "markdown",
      "metadata": {
        "id": "_ch_71VbIRfK"
      },
      "source": [
        "### Train"
      ]
    },
    {
      "cell_type": "code",
      "execution_count": 298,
      "metadata": {
        "id": "WmTHr5iV3jFr"
      },
      "outputs": [],
      "source": [
        "def masked_loss(y_true, y_pred):\n",
        "    # Calculate the loss for each item in the batch.\n",
        "    loss_fn = tf.keras.losses.SparseCategoricalCrossentropy(\n",
        "        from_logits=True, reduction='none')\n",
        "    loss = loss_fn(y_true, y_pred)\n",
        "\n",
        "    # Mask off the losses on padding.\n",
        "    mask = tf.cast(y_true != 0, loss.dtype)\n",
        "    loss *= mask\n",
        "\n",
        "    # Return the total.\n",
        "    return tf.reduce_sum(loss)/tf.reduce_sum(mask)"
      ]
    },
    {
      "cell_type": "code",
      "execution_count": 299,
      "metadata": {
        "id": "nRB1CTmQWOIL"
      },
      "outputs": [],
      "source": [
        "def masked_acc(y_true, y_pred):\n",
        "    # Calculate the loss for each item in the batch.\n",
        "    y_pred = tf.argmax(y_pred, axis=-1)\n",
        "    y_pred = tf.cast(y_pred, y_true.dtype)\n",
        "    \n",
        "    match = tf.cast(y_true == y_pred, tf.float32)\n",
        "    mask = tf.cast(y_true != 0, tf.float32)\n",
        "    \n",
        "    return tf.reduce_sum(match)/tf.reduce_sum(mask)"
      ]
    },
    {
      "cell_type": "markdown",
      "metadata": {
        "id": "f32GuAhw2nXm"
      },
      "source": [
        "Configure the model for training:"
      ]
    },
    {
      "cell_type": "code",
      "execution_count": 300,
      "metadata": {
        "id": "9g0DRRvm3l9X"
      },
      "outputs": [],
      "source": [
        "model.compile(optimizer='Adam',\n",
        "              loss=masked_loss, \n",
        "              metrics=[masked_acc, masked_loss])"
      ]
    },
    {
      "cell_type": "markdown",
      "metadata": {
        "id": "5DWLI3pssjnx"
      },
      "source": [
        "The model is randomly initialized, and should give roughly uniform output probabilities. So it's easy to predict what the initial values of the metrics should be:"
      ]
    },
    {
      "cell_type": "code",
      "execution_count": 301,
      "metadata": {
        "colab": {
          "base_uri": "https://localhost:8080/"
        },
        "id": "BuP3_LFENMJG",
        "outputId": "9f12c390-aa4e-4437-d3f9-b437f5818e5a"
      },
      "outputs": [
        {
          "output_type": "execute_result",
          "data": {
            "text/plain": [
              "{'expected_loss': 5.755742, 'expected_acc': 0.0031645569620253164}"
            ]
          },
          "metadata": {},
          "execution_count": 301
        }
      ],
      "source": [
        "vocab_size = 1.0 * target_text_processor.vocabulary_size()\n",
        "\n",
        "{\"expected_loss\": tf.math.log(vocab_size).numpy(),\n",
        " \"expected_acc\": 1/vocab_size}"
      ]
    },
    {
      "cell_type": "markdown",
      "metadata": {
        "id": "frVba49Usd0Z"
      },
      "source": [
        "That should roughly match the values returned by running a few steps of evaluation:"
      ]
    },
    {
      "cell_type": "code",
      "execution_count": 302,
      "metadata": {
        "colab": {
          "base_uri": "https://localhost:8080/"
        },
        "id": "8rJITfxEsHKR",
        "outputId": "42bd1e4e-63ce-4a8c-a9f9-2e7b4ed2fa69"
      },
      "outputs": [
        {
          "output_type": "stream",
          "name": "stdout",
          "text": [
            "70/70 [==============================] - 9s 41ms/step - loss: 5.8728 - masked_acc: 0.0032 - masked_loss: 5.8728\n"
          ]
        },
        {
          "output_type": "execute_result",
          "data": {
            "text/plain": [
              "{'loss': 5.872767925262451,\n",
              " 'masked_acc': 0.0032297249417752028,\n",
              " 'masked_loss': 5.872767925262451}"
            ]
          },
          "metadata": {},
          "execution_count": 302
        }
      ],
      "source": [
        "model.evaluate(val_ds, steps=70, return_dict=True)"
      ]
    },
    {
      "cell_type": "code",
      "execution_count": 303,
      "metadata": {
        "colab": {
          "base_uri": "https://localhost:8080/"
        },
        "id": "BQd_esVVoSf3",
        "outputId": "2a040aa4-275c-4d3f-b825-d0f53ce08356"
      },
      "outputs": [
        {
          "output_type": "stream",
          "name": "stdout",
          "text": [
            "Epoch 1/100\n",
            "100/100 [==============================] - 34s 179ms/step - loss: 1.0048 - masked_acc: 0.8128 - masked_loss: 1.0048 - val_loss: 0.1259 - val_masked_acc: 0.9664 - val_masked_loss: 0.1259\n",
            "Epoch 2/100\n",
            "100/100 [==============================] - 11s 113ms/step - loss: 0.0843 - masked_acc: 0.9738 - masked_loss: 0.0843 - val_loss: 0.0650 - val_masked_acc: 0.9772 - val_masked_loss: 0.0650\n",
            "Epoch 3/100\n",
            "100/100 [==============================] - 11s 114ms/step - loss: 0.0592 - masked_acc: 0.9780 - masked_loss: 0.0592 - val_loss: 0.0505 - val_masked_acc: 0.9799 - val_masked_loss: 0.0505\n",
            "Epoch 4/100\n",
            "100/100 [==============================] - 12s 119ms/step - loss: 0.0510 - masked_acc: 0.9796 - masked_loss: 0.0510 - val_loss: 0.0496 - val_masked_acc: 0.9786 - val_masked_loss: 0.0496\n",
            "Epoch 5/100\n",
            "100/100 [==============================] - 12s 121ms/step - loss: 0.0464 - masked_acc: 0.9809 - masked_loss: 0.0464 - val_loss: 0.0429 - val_masked_acc: 0.9822 - val_masked_loss: 0.0429\n",
            "Epoch 6/100\n",
            "100/100 [==============================] - 11s 112ms/step - loss: 0.0434 - masked_acc: 0.9826 - masked_loss: 0.0434 - val_loss: 0.0425 - val_masked_acc: 0.9824 - val_masked_loss: 0.0425\n",
            "Epoch 7/100\n",
            "100/100 [==============================] - 11s 115ms/step - loss: 0.1346 - masked_acc: 0.9719 - masked_loss: 0.1346 - val_loss: 0.0746 - val_masked_acc: 0.9780 - val_masked_loss: 0.0746\n",
            "Epoch 8/100\n",
            "100/100 [==============================] - 10s 102ms/step - loss: 0.0515 - masked_acc: 0.9807 - masked_loss: 0.0515 - val_loss: 0.0399 - val_masked_acc: 0.9838 - val_masked_loss: 0.0399\n",
            "Epoch 9/100\n",
            "100/100 [==============================] - 11s 110ms/step - loss: 0.0380 - masked_acc: 0.9834 - masked_loss: 0.0380 - val_loss: 0.0350 - val_masked_acc: 0.9845 - val_masked_loss: 0.0350\n",
            "Epoch 10/100\n",
            "100/100 [==============================] - 11s 112ms/step - loss: 0.0343 - masked_acc: 0.9850 - masked_loss: 0.0343 - val_loss: 0.0350 - val_masked_acc: 0.9857 - val_masked_loss: 0.0350\n",
            "Epoch 11/100\n",
            "100/100 [==============================] - 11s 112ms/step - loss: 0.0335 - masked_acc: 0.9856 - masked_loss: 0.0335 - val_loss: 0.0344 - val_masked_acc: 0.9866 - val_masked_loss: 0.0344\n",
            "Epoch 12/100\n",
            "100/100 [==============================] - 11s 113ms/step - loss: 0.0326 - masked_acc: 0.9858 - masked_loss: 0.0326 - val_loss: 0.0292 - val_masked_acc: 0.9876 - val_masked_loss: 0.0292\n",
            "Epoch 13/100\n",
            "100/100 [==============================] - 11s 112ms/step - loss: 0.0291 - masked_acc: 0.9875 - masked_loss: 0.0291 - val_loss: 0.0269 - val_masked_acc: 0.9888 - val_masked_loss: 0.0269\n",
            "Epoch 14/100\n",
            "100/100 [==============================] - 13s 128ms/step - loss: 0.0285 - masked_acc: 0.9881 - masked_loss: 0.0285 - val_loss: 0.0274 - val_masked_acc: 0.9887 - val_masked_loss: 0.0274\n",
            "Epoch 15/100\n",
            "100/100 [==============================] - 13s 131ms/step - loss: 0.0807 - masked_acc: 0.9838 - masked_loss: 0.0807 - val_loss: 0.0281 - val_masked_acc: 0.9887 - val_masked_loss: 0.0281\n",
            "Epoch 16/100\n",
            "100/100 [==============================] - 11s 110ms/step - loss: 0.0263 - masked_acc: 0.9889 - masked_loss: 0.0263 - val_loss: 0.0281 - val_masked_acc: 0.9882 - val_masked_loss: 0.0281\n",
            "Epoch 17/100\n",
            "100/100 [==============================] - 11s 109ms/step - loss: 0.0251 - masked_acc: 0.9892 - masked_loss: 0.0251 - val_loss: 0.0240 - val_masked_acc: 0.9894 - val_masked_loss: 0.0240\n",
            "Epoch 18/100\n",
            "100/100 [==============================] - 10s 100ms/step - loss: 0.0240 - masked_acc: 0.9894 - masked_loss: 0.0240 - val_loss: 0.0218 - val_masked_acc: 0.9907 - val_masked_loss: 0.0218\n",
            "Epoch 19/100\n",
            "100/100 [==============================] - 11s 108ms/step - loss: 0.0200 - masked_acc: 0.9916 - masked_loss: 0.0200 - val_loss: 0.0193 - val_masked_acc: 0.9914 - val_masked_loss: 0.0193\n",
            "Epoch 20/100\n",
            "100/100 [==============================] - 11s 110ms/step - loss: 0.0188 - masked_acc: 0.9922 - masked_loss: 0.0188 - val_loss: 0.0197 - val_masked_acc: 0.9928 - val_masked_loss: 0.0197\n",
            "Epoch 21/100\n",
            "100/100 [==============================] - 11s 107ms/step - loss: 0.0179 - masked_acc: 0.9925 - masked_loss: 0.0179 - val_loss: 0.0179 - val_masked_acc: 0.9923 - val_masked_loss: 0.0179\n",
            "Epoch 22/100\n",
            "100/100 [==============================] - 11s 109ms/step - loss: 0.0177 - masked_acc: 0.9931 - masked_loss: 0.0177 - val_loss: 0.0158 - val_masked_acc: 0.9939 - val_masked_loss: 0.0158\n",
            "Epoch 23/100\n",
            "100/100 [==============================] - 13s 132ms/step - loss: 0.0163 - masked_acc: 0.9934 - masked_loss: 0.0163 - val_loss: 0.0166 - val_masked_acc: 0.9934 - val_masked_loss: 0.0166\n",
            "Epoch 24/100\n",
            "100/100 [==============================] - 11s 112ms/step - loss: 0.0160 - masked_acc: 0.9937 - masked_loss: 0.0160 - val_loss: 0.0172 - val_masked_acc: 0.9930 - val_masked_loss: 0.0172\n",
            "Epoch 25/100\n",
            "100/100 [==============================] - 13s 130ms/step - loss: 0.0167 - masked_acc: 0.9936 - masked_loss: 0.0167 - val_loss: 0.0148 - val_masked_acc: 0.9943 - val_masked_loss: 0.0148\n",
            "Epoch 26/100\n",
            "100/100 [==============================] - 11s 108ms/step - loss: 0.0150 - masked_acc: 0.9938 - masked_loss: 0.0150 - val_loss: 0.0131 - val_masked_acc: 0.9949 - val_masked_loss: 0.0131\n",
            "Epoch 27/100\n",
            "100/100 [==============================] - 13s 126ms/step - loss: 0.0141 - masked_acc: 0.9943 - masked_loss: 0.0141 - val_loss: 0.0131 - val_masked_acc: 0.9944 - val_masked_loss: 0.0131\n",
            "Epoch 28/100\n",
            "100/100 [==============================] - 13s 127ms/step - loss: 0.0149 - masked_acc: 0.9939 - masked_loss: 0.0149 - val_loss: 0.0194 - val_masked_acc: 0.9929 - val_masked_loss: 0.0194\n",
            "Epoch 29/100\n",
            "100/100 [==============================] - 13s 126ms/step - loss: 0.0185 - masked_acc: 0.9928 - masked_loss: 0.0185 - val_loss: 0.0150 - val_masked_acc: 0.9940 - val_masked_loss: 0.0150\n",
            "Epoch 30/100\n",
            "100/100 [==============================] - 13s 126ms/step - loss: 0.0140 - masked_acc: 0.9945 - masked_loss: 0.0140 - val_loss: 0.0139 - val_masked_acc: 0.9948 - val_masked_loss: 0.0139\n",
            "Epoch 31/100\n",
            "100/100 [==============================] - 13s 129ms/step - loss: 0.0124 - masked_acc: 0.9952 - masked_loss: 0.0124 - val_loss: 0.0120 - val_masked_acc: 0.9948 - val_masked_loss: 0.0120\n",
            "Epoch 32/100\n",
            "100/100 [==============================] - 11s 111ms/step - loss: 0.0945 - masked_acc: 0.9889 - masked_loss: 0.0945 - val_loss: 0.0456 - val_masked_acc: 0.9864 - val_masked_loss: 0.0456\n",
            "Epoch 33/100\n",
            "100/100 [==============================] - 13s 128ms/step - loss: 0.0230 - masked_acc: 0.9920 - masked_loss: 0.0230 - val_loss: 0.0161 - val_masked_acc: 0.9930 - val_masked_loss: 0.0161\n",
            "Epoch 34/100\n",
            "100/100 [==============================] - 11s 110ms/step - loss: 0.0135 - masked_acc: 0.9947 - masked_loss: 0.0135 - val_loss: 0.0125 - val_masked_acc: 0.9956 - val_masked_loss: 0.0125\n",
            "Epoch 35/100\n",
            "100/100 [==============================] - 10s 102ms/step - loss: 0.0117 - masked_acc: 0.9952 - masked_loss: 0.0117 - val_loss: 0.0117 - val_masked_acc: 0.9951 - val_masked_loss: 0.0117\n",
            "Epoch 36/100\n",
            "100/100 [==============================] - 11s 107ms/step - loss: 0.0114 - masked_acc: 0.9952 - masked_loss: 0.0114 - val_loss: 0.0105 - val_masked_acc: 0.9960 - val_masked_loss: 0.0105\n",
            "Epoch 37/100\n",
            "100/100 [==============================] - 11s 111ms/step - loss: 0.0111 - masked_acc: 0.9954 - masked_loss: 0.0111 - val_loss: 0.0116 - val_masked_acc: 0.9949 - val_masked_loss: 0.0116\n",
            "Epoch 38/100\n",
            "100/100 [==============================] - 11s 112ms/step - loss: 0.0115 - masked_acc: 0.9953 - masked_loss: 0.0115 - val_loss: 0.0111 - val_masked_acc: 0.9955 - val_masked_loss: 0.0111\n",
            "Epoch 39/100\n",
            "100/100 [==============================] - 11s 111ms/step - loss: 0.0104 - masked_acc: 0.9959 - masked_loss: 0.0104 - val_loss: 0.0105 - val_masked_acc: 0.9960 - val_masked_loss: 0.0105\n",
            "Epoch 40/100\n",
            "100/100 [==============================] - 11s 113ms/step - loss: 0.0105 - masked_acc: 0.9955 - masked_loss: 0.0105 - val_loss: 0.0106 - val_masked_acc: 0.9957 - val_masked_loss: 0.0106\n",
            "Epoch 41/100\n",
            "100/100 [==============================] - 11s 110ms/step - loss: 0.0104 - masked_acc: 0.9957 - masked_loss: 0.0104 - val_loss: 0.0105 - val_masked_acc: 0.9956 - val_masked_loss: 0.0105\n",
            "Epoch 42/100\n",
            "100/100 [==============================] - 13s 128ms/step - loss: 0.1387 - masked_acc: 0.9724 - masked_loss: 0.1387 - val_loss: 0.4608 - val_masked_acc: 0.9087 - val_masked_loss: 0.4608\n",
            "Epoch 43/100\n",
            "100/100 [==============================] - 13s 128ms/step - loss: 0.0654 - masked_acc: 0.9811 - masked_loss: 0.0654 - val_loss: 0.0266 - val_masked_acc: 0.9893 - val_masked_loss: 0.0266\n",
            "Epoch 44/100\n",
            "100/100 [==============================] - 11s 111ms/step - loss: 0.0941 - masked_acc: 0.9838 - masked_loss: 0.0941 - val_loss: 0.0402 - val_masked_acc: 0.9865 - val_masked_loss: 0.0402\n",
            "Epoch 45/100\n",
            "100/100 [==============================] - 11s 108ms/step - loss: 0.0291 - masked_acc: 0.9898 - masked_loss: 0.0291 - val_loss: 0.0238 - val_masked_acc: 0.9916 - val_masked_loss: 0.0238\n",
            "Epoch 46/100\n",
            "100/100 [==============================] - 10s 102ms/step - loss: 0.0197 - masked_acc: 0.9920 - masked_loss: 0.0197 - val_loss: 0.0162 - val_masked_acc: 0.9937 - val_masked_loss: 0.0162\n",
            "Epoch 47/100\n",
            "100/100 [==============================] - 11s 111ms/step - loss: 0.0155 - masked_acc: 0.9938 - masked_loss: 0.0155 - val_loss: 0.0137 - val_masked_acc: 0.9947 - val_masked_loss: 0.0137\n"
          ]
        }
      ],
      "source": [
        "history = model.fit(\n",
        "    train_ds.repeat(), \n",
        "    epochs=100,\n",
        "    steps_per_epoch = 100,\n",
        "    validation_data=val_ds,\n",
        "    validation_steps = 70,\n",
        "    callbacks=[\n",
        "        tf.keras.callbacks.EarlyStopping(patience=8)])"
      ]
    },
    {
      "cell_type": "markdown",
      "source": [
        "## Plotting the Loss from Training "
      ],
      "metadata": {
        "id": "Uq9lHbPgenz9"
      }
    },
    {
      "cell_type": "code",
      "execution_count": 304,
      "metadata": {
        "colab": {
          "base_uri": "https://localhost:8080/",
          "height": 467
        },
        "id": "38rLdlmtQHCm",
        "outputId": "d4c46ec7-f1e3-4881-d985-c51c33d996e2"
      },
      "outputs": [
        {
          "output_type": "execute_result",
          "data": {
            "text/plain": [
              "<matplotlib.legend.Legend at 0x7fe7544239a0>"
            ]
          },
          "metadata": {},
          "execution_count": 304
        },
        {
          "output_type": "display_data",
          "data": {
            "text/plain": [
              "<Figure size 640x480 with 1 Axes>"
            ],
            "image/png": "[encoded data removed]"
          },
          "metadata": {}
        }
      ],
      "source": [
        "plt.plot(history.history['loss'], label='loss')\n",
        "plt.plot(history.history['masked_loss'], label='masked_loss')\n",
        "plt.plot(history.history['val_masked_loss'], label='val_masked_loss')\n",
        "plt.ylim([0, max(plt.ylim())])\n",
        "plt.xlabel('Epoch #')\n",
        "plt.ylabel('CE/token')\n",
        "plt.legend()"
      ]
    },
    {
      "cell_type": "markdown",
      "source": [
        "## Plotting the aacuracy from the training"
      ],
      "metadata": {
        "id": "lUssYQFZet7E"
      }
    },
    {
      "cell_type": "code",
      "execution_count": 305,
      "metadata": {
        "colab": {
          "base_uri": "https://localhost:8080/",
          "height": 471
        },
        "id": "KkhXRASNG80_",
        "outputId": "e55df65c-a20e-400e-c776-e7f670b65874"
      },
      "outputs": [
        {
          "output_type": "execute_result",
          "data": {
            "text/plain": [
              "<matplotlib.legend.Legend at 0x7fe748b92cb0>"
            ]
          },
          "metadata": {},
          "execution_count": 305
        },
        {
          "output_type": "display_data",
          "data": {
            "text/plain": [
              "<Figure size 640x480 with 1 Axes>"
            ],
            "image/png": "[encoded data removed]"
          },
          "metadata": {}
        }
      ],
      "source": [
        "plt.plot(history.history['masked_acc'], label='accuracy')\n",
        "plt.plot(history.history['val_masked_acc'], label='val_accuracy')\n",
        "plt.ylim([0, max(plt.ylim())])\n",
        "plt.xlabel('Epoch #')\n",
        "plt.ylabel('CE/token')\n",
        "plt.legend()"
      ]
    },
    {
      "cell_type": "markdown",
      "metadata": {
        "id": "mU3Ce8M6I3rz"
      },
      "source": [
        "### Translate Module Development\n",
        "\n",
        "Now that the model is trained, implement a function to execute the full `text => text` translation. This code is basically identical to the [inference example](#inference) in the [decoder section](#the_decoder), but this also captures the attention weights."
      ]
    },
    {
      "cell_type": "code",
      "execution_count": 306,
      "metadata": {
        "id": "mmgYPCVgEwp_"
      },
      "outputs": [],
      "source": [
        "#@title\n",
        "@Translator.add_method\n",
        "def translate(self,\n",
        "              texts, *,\n",
        "              max_length=50,\n",
        "              temperature=0.0):\n",
        "  # Process the input texts\n",
        "  context = self.encoder.convert_input(texts)\n",
        "  batch_size = tf.shape(texts)[0]\n",
        "\n",
        "  # Setup the loop inputs\n",
        "  tokens = []\n",
        "  attention_weights = []\n",
        "  next_token, done, state = self.decoder.get_initial_state(context)\n",
        "\n",
        "  for _ in range(max_length):\n",
        "    # Generate the next token\n",
        "    next_token, done, state = self.decoder.get_next_token(\n",
        "        context, next_token, done,  state, temperature)\n",
        "        \n",
        "    # Collect the generated tokens\n",
        "    tokens.append(next_token)\n",
        "    attention_weights.append(self.decoder.last_attention_weights)\n",
        "    \n",
        "    if tf.executing_eagerly() and tf.reduce_all(done):\n",
        "      break\n",
        "\n",
        "  # Stack the lists of tokens and attention weights.\n",
        "  tokens = tf.concat(tokens, axis=-1)   # t*[(batch 1)] -> (batch, t)\n",
        "  self.last_attention_weights = tf.concat(attention_weights, axis=1)  # t*[(batch 1 s)] -> (batch, t s)\n",
        "\n",
        "  result = self.decoder.tokens_to_text(tokens)\n",
        "  return result"
      ]
    },
    {
      "cell_type": "markdown",
      "metadata": {
        "id": "U4XufRntbbva"
      },
      "source": [
        "Here are the two helper methods, used above, to convert tokens to text, and to get the next token:"
      ]
    },
    {
      "cell_type": "code",
      "execution_count": 307,
      "metadata": {
        "id": "E5hqvbR5FUCD",
        "scrolled": false
      },
      "outputs": [],
      "source": [
        "#Individual translator mechanism, can be used to translate each data separately\n",
        "\n",
        "\n",
        "result1 = model.translate([''])\n",
        "\n",
        "result2 = model.translate([''])\n",
        "\n",
        "result23 = model.translate([''])\n",
        "\n",
        "result222 = model.translate([''])\n",
        "#result1[0].numpy().decode()\n",
        "#result2[0].numpy().decode()\n",
        "\n"
      ]
    },
    {
      "cell_type": "markdown",
      "metadata": {
        "id": "wQ1iU63cVgfs"
      },
      "source": [
        "### Attention plot generation after model training has been completed"
      ]
    },
    {
      "cell_type": "code",
      "execution_count": 308,
      "metadata": {
        "id": "s5hQWlbN3jGF"
      },
      "outputs": [],
      "source": [
        "#@title\n",
        "@Translator.add_method\n",
        "def plot_attention(self, text, **kwargs):\n",
        "  assert isinstance(text, str)\n",
        "  output = self.translate([text], **kwargs)\n",
        "  output = output[0].numpy().decode()\n",
        "\n",
        "  attention = self.last_attention_weights[0]\n",
        "\n",
        "  context = tf_lower_and_split_punct(text)\n",
        "  context = context.numpy().decode().split()\n",
        "\n",
        "  output = tf_lower_and_split_punct(output)\n",
        "  output = output.numpy().decode().split()[1:]\n",
        "\n",
        "  fig = plt.figure(figsize=(10, 10))\n",
        "  ax = fig.add_subplot(1, 1, 1)\n",
        "\n",
        "  ax.matshow(attention, cmap='viridis', vmin=0.0)\n",
        "\n",
        "  fontdict = {'fontsize': 14}\n",
        "\n",
        "  ax.set_xticklabels([''] + context, fontdict=fontdict, rotation=90)\n",
        "  ax.set_yticklabels([''] + output, fontdict=fontdict)\n",
        "\n",
        "  ax.xaxis.set_major_locator(ticker.MultipleLocator(1))\n",
        "  ax.yaxis.set_major_locator(ticker.MultipleLocator(1))\n",
        "\n",
        "  ax.set_xlabel('Input text')\n",
        "  ax.set_ylabel('Output text')"
      ]
    },
    {
      "cell_type": "code",
      "execution_count": 309,
      "metadata": {
        "id": "rrGawQv2eiA4"
      },
      "outputs": [],
      "source": [
        "#model.plot_attention('') "
      ]
    },
    {
      "cell_type": "markdown",
      "metadata": {
        "id": "JHBdOf9duumm"
      },
      "source": [
        "Translate a few more sentences and plot them:"
      ]
    },
    {
      "cell_type": "markdown",
      "metadata": {
        "id": "rA3xI3NzrRJt"
      },
      "source": [
        "The short sentences often work well, but if the input is too long the model literally loses focus and stops providing reasonable predictions. There are two main reasons for this:\n",
        "\n",
        "1. The model was trained with teacher-forcing feeding the correct token at each step, regardless of the model's predictions. The model could be made more robust if it were sometimes fed its own predictions.\n",
        "2. The model only has access to its previous output through the RNN state. If the RNN state looses track of where it was in the context sequence there's no way for the model to recover. [Transformers](transformer.ipynb) improve on this by letting the decoder look at what it has output so far."
      ]
    },
    {
      "cell_type": "markdown",
      "metadata": {
        "id": "Vtz6QBoGWqT2"
      },
      "source": [
        "The raw data is sorted by length, so try translating the longest sequence:"
      ]
    },
    {
      "cell_type": "code",
      "execution_count": 310,
      "metadata": {
        "id": "-FUHFLEvSMbG"
      },
      "outputs": [],
      "source": [
        "long_text = context_raw[-1]\n",
        "\n",
        "import textwrap\n",
        "#print('Expected output:\\n', '\\n'.join(textwrap.wrap(target_raw[-1])))"
      ]
    },
    {
      "cell_type": "markdown",
      "source": [
        "# Testing unseen samples"
      ],
      "metadata": {
        "id": "Rc1aekzi9dLZ"
      }
    },
    {
      "cell_type": "code",
      "source": [
        "import pandas as pd"
      ],
      "metadata": {
        "id": "Fpi-3gsb40P6"
      },
      "execution_count": 311,
      "outputs": []
    },
    {
      "cell_type": "code",
      "source": [
        "dc = pd.read_excel('Customer_Order_authentic_dataset_space.xlsx')"
      ],
      "metadata": {
        "id": "6OIFQKZI9bc5"
      },
      "execution_count": 312,
      "outputs": []
    },
    {
      "cell_type": "code",
      "source": [
        "dc.head()"
      ],
      "metadata": {
        "colab": {
          "base_uri": "https://localhost:8080/",
          "height": 206
        },
        "id": "Nsx0IyYZ9k3v",
        "outputId": "747a3d1a-6b2e-4d29-a7bb-17f286bc386f"
      },
      "execution_count": 313,
      "outputs": [
        {
          "output_type": "execute_result",
          "data": {
            "text/plain": [
              "                                          OM_Regular  OM_Prediction\n",
              "0  module OM_name one sig class1_name extends Cla...              1\n",
              "1  module OM_name one sig class1_name extends Cla...              1\n",
              "2  module OM_name one sig class1_name extends Cla...              1\n",
              "3  module OM_name one sig class1_name extends Cla...              1\n",
              "4  module OM_name one sig class1_name extends Cla...              1"
            ],
            "text/html": [
              "\n",
              "  <div id=\"df-b1115905-0c92-45d0-b47d-3f09c1f232ac\">\n",
              "    <div class=\"colab-df-container\">\n",
              "      <div>\n",
              "<style scoped>\n",
              "    .dataframe tbody tr th:only-of-type {\n",
              "        vertical-align: middle;\n",
              "    }\n",
              "\n",
              "    .dataframe tbody tr th {\n",
              "        vertical-align: top;\n",
              "    }\n",
              "\n",
              "    .dataframe thead th {\n",
              "        text-align: right;\n",
              "    }\n",
              "</style>\n",
              "<table border=\"1\" class=\"dataframe\">\n",
              "  <thead>\n",
              "    <tr style=\"text-align: right;\">\n",
              "      <th></th>\n",
              "      <th>OM_Regular</th>\n",
              "      <th>OM_Prediction</th>\n",
              "    </tr>\n",
              "  </thead>\n",
              "  <tbody>\n",
              "    <tr>\n",
              "      <th>0</th>\n",
              "      <td>module OM_name one sig class1_name extends Cla...</td>\n",
              "      <td>1</td>\n",
              "    </tr>\n",
              "    <tr>\n",
              "      <th>1</th>\n",
              "      <td>module OM_name one sig class1_name extends Cla...</td>\n",
              "      <td>1</td>\n",
              "    </tr>\n",
              "    <tr>\n",
              "      <th>2</th>\n",
              "      <td>module OM_name one sig class1_name extends Cla...</td>\n",
              "      <td>1</td>\n",
              "    </tr>\n",
              "    <tr>\n",
              "      <th>3</th>\n",
              "      <td>module OM_name one sig class1_name extends Cla...</td>\n",
              "      <td>1</td>\n",
              "    </tr>\n",
              "    <tr>\n",
              "      <th>4</th>\n",
              "      <td>module OM_name one sig class1_name extends Cla...</td>\n",
              "      <td>1</td>\n",
              "    </tr>\n",
              "  </tbody>\n",
              "</table>\n",
              "</div>\n",
              "      <button class=\"colab-df-convert\" onclick=\"convertToInteractive('df-b1115905-0c92-45d0-b47d-3f09c1f232ac')\"\n",
              "              title=\"Convert this dataframe to an interactive table.\"\n",
              "              style=\"display:none;\">\n",
              "        \n",
              "  <svg xmlns=\"http://www.w3.org/2000/svg\" height=\"24px\"viewBox=\"0 0 24 24\"\n",
              "       width=\"24px\">\n",
              "    <path d=\"M0 0h24v24H0V0z\" fill=\"none\"/>\n",
              "    <path d=\"M18.56 5.44l.94 2.06.94-2.06 2.06-.94-2.06-.94-.94-2.06-.94 2.06-2.06.94zm-11 1L8.5 8.5l.94-2.06 2.06-.94-2.06-.94L8.5 2.5l-.94 2.06-2.06.94zm10 10l.94 2.06.94-2.06 2.06-.94-2.06-.94-.94-2.06-.94 2.06-2.06.94z\"/><path d=\"M17.41 7.96l-1.37-1.37c-.4-.4-.92-.59-1.43-.59-.52 0-1.04.2-1.43.59L10.3 9.45l-7.72 7.72c-.78.78-.78 2.05 0 2.83L4 21.41c.39.39.9.59 1.41.59.51 0 1.02-.2 1.41-.59l7.78-7.78 2.81-2.81c.8-.78.8-2.07 0-2.86zM5.41 20L4 18.59l7.72-7.72 1.47 1.35L5.41 20z\"/>\n",
              "  </svg>\n",
              "      </button>\n",
              "      \n",
              "  <style>\n",
              "    .colab-df-container {\n",
              "      display:flex;\n",
              "      flex-wrap:wrap;\n",
              "      gap: 12px;\n",
              "    }\n",
              "\n",
              "    .colab-df-convert {\n",
              "      background-color: #E8F0FE;\n",
              "      border: none;\n",
              "      border-radius: 50%;\n",
              "      cursor: pointer;\n",
              "      display: none;\n",
              "      fill: #1967D2;\n",
              "      height: 32px;\n",
              "      padding: 0 0 0 0;\n",
              "      width: 32px;\n",
              "    }\n",
              "\n",
              "    .colab-df-convert:hover {\n",
              "      background-color: #E2EBFA;\n",
              "      box-shadow: 0px 1px 2px rgba(60, 64, 67, 0.3), 0px 1px 3px 1px rgba(60, 64, 67, 0.15);\n",
              "      fill: #174EA6;\n",
              "    }\n",
              "\n",
              "    [theme=dark] .colab-df-convert {\n",
              "      background-color: #3B4455;\n",
              "      fill: #D2E3FC;\n",
              "    }\n",
              "\n",
              "    [theme=dark] .colab-df-convert:hover {\n",
              "      background-color: #434B5C;\n",
              "      box-shadow: 0px 1px 3px 1px rgba(0, 0, 0, 0.15);\n",
              "      filter: drop-shadow(0px 1px 2px rgba(0, 0, 0, 0.3));\n",
              "      fill: #FFFFFF;\n",
              "    }\n",
              "  </style>\n",
              "\n",
              "      <script>\n",
              "        const buttonEl =\n",
              "          document.querySelector('#df-b1115905-0c92-45d0-b47d-3f09c1f232ac button.colab-df-convert');\n",
              "        buttonEl.style.display =\n",
              "          google.colab.kernel.accessAllowed ? 'block' : 'none';\n",
              "\n",
              "        async function convertToInteractive(key) {\n",
              "          const element = document.querySelector('#df-b1115905-0c92-45d0-b47d-3f09c1f232ac');\n",
              "          const dataTable =\n",
              "            await google.colab.kernel.invokeFunction('convertToInteractive',\n",
              "                                                     [key], {});\n",
              "          if (!dataTable) return;\n",
              "\n",
              "          const docLinkHtml = 'Like what you see? Visit the ' +\n",
              "            '<a target=\"_blank\" href=https://colab.research.google.com/notebooks/data_table.ipynb>data table notebook</a>'\n",
              "            + ' to learn more about interactive tables.';\n",
              "          element.innerHTML = '';\n",
              "          dataTable['output_type'] = 'display_data';\n",
              "          await google.colab.output.renderOutput(dataTable, element);\n",
              "          const docLink = document.createElement('div');\n",
              "          docLink.innerHTML = docLinkHtml;\n",
              "          element.appendChild(docLink);\n",
              "        }\n",
              "      </script>\n",
              "    </div>\n",
              "  </div>\n",
              "  "
            ]
          },
          "metadata": {},
          "execution_count": 313
        }
      ]
    },
    {
      "cell_type": "markdown",
      "source": [
        "### Separating Columns in X_test and y_test"
      ],
      "metadata": {
        "id": "er0zQybAgoJJ"
      }
    },
    {
      "cell_type": "code",
      "source": [
        "X_test2 = dc['OM_Regular'].values\n",
        "y_test2 = dc['OM_Prediction'].values"
      ],
      "metadata": {
        "id": "naG54qF791Hs"
      },
      "execution_count": 314,
      "outputs": []
    },
    {
      "cell_type": "code",
      "source": [
        "print(X_test2.shape)\n",
        "print(y_test2.shape)\n",
        "\n",
        "print(\"X data type: \", X_test2.dtype)\n",
        "print(\"y data type: \", y_test2.dtype)"
      ],
      "metadata": {
        "colab": {
          "base_uri": "https://localhost:8080/"
        },
        "id": "VcNO_Ews2q8x",
        "outputId": "0a97133f-2eb2-44af-bcdf-5ac9b0d5787f"
      },
      "execution_count": 315,
      "outputs": [
        {
          "output_type": "stream",
          "name": "stdout",
          "text": [
            "(8,)\n",
            "(8,)\n",
            "X data type:  object\n",
            "y data type:  int64\n"
          ]
        }
      ]
    },
    {
      "cell_type": "code",
      "source": [
        "print(y_test2)"
      ],
      "metadata": {
        "colab": {
          "base_uri": "https://localhost:8080/"
        },
        "id": "XZFASLWP95TU",
        "outputId": "daeb2776-8979-4be3-f1b7-a5dc6fd3ecff"
      },
      "execution_count": 316,
      "outputs": [
        {
          "output_type": "stream",
          "name": "stdout",
          "text": [
            "[1 1 1 1 1 0 1 0]\n"
          ]
        }
      ]
    },
    {
      "cell_type": "code",
      "source": [
        "inputs = X_test2"
      ],
      "metadata": {
        "id": "hgO5sa73-3f1"
      },
      "execution_count": 317,
      "outputs": []
    },
    {
      "cell_type": "markdown",
      "source": [
        "### Obtaining results from the model of the unseen dataset"
      ],
      "metadata": {
        "id": "K_yUzQq_gyYj"
      }
    },
    {
      "cell_type": "code",
      "source": [
        " %%time\n",
        " for t in inputs:\n",
        "  mylist_res = model.translate([t])[0].numpy().decode()\n",
        "  print(model.translate([t])[0].numpy().decode())\n",
        "\n",
        " print()"
      ],
      "metadata": {
        "id": "4qjPTIDB-8UZ",
        "colab": {
          "base_uri": "https://localhost:8080/"
        },
        "outputId": "02d7982f-4026-404e-9d41-041b2bf5cd2e"
      },
      "execution_count": 318,
      "outputs": [
        {
          "output_type": "stream",
          "name": "stdout",
          "text": [
            "np,module om_name 0;open declarationone sig class1_name extends classattrset = c1_at1+c1_at2id=c1_at1no parentisabstract = no}one sig c1_at1 extends c1_at1_typeone sig c1_at2 extends c1_at2_typeone sig class2_name extends classattrset = c2_at1+c2_at2id=c2_at1no parentisabstract = no}one sig c2_at1 extends c2_at1_typeone sig c2_at1 extends c2_at2_typeone sig class3_name extends classattrset = c3_at1+c3_at2+c3_at3+c3_at4c3_at5+c3_at6id=c3_at1no parentisabstract = no}one sig c3_at1 extends\n",
            "np,module om_name 0;open declarationone sig class1_name extends classattrset = c1_at1+c1_at2id=c1_at1no parentisabstract = no}one sig c1_at1 extends c1_at1_typeone sig c1_at2 extends c1_at2_typeone sig class2_name extends classattrset = c2_at1+c2_at2id=c2_at1no parentisabstract = no}one sig c2_at1 extends c2_at1_typeone sig c2_at1 extends c2_at2_typeone sig class3_name extends classattrset = c3_at1+c3_at2+c3_at3+c3_at4c3_at5+c3_at6id=c3_at1no parentisabstract = no}one sig c3_at1 extends\n",
            "p,moduleom_name0;opendeclarationonesigclass1_nameextendsclassattrset=c1_at1+c1_at2id=c1_at1noparentisabstract=no}onesigc1_at1extendsc1_at1_typeonesigc1_at2extendsc1_at2_typeonesigclass2_nameextendsclassattrset=c2_at1+c2_at2id=c2_at1noparentisabstract=no}onesigc2_at1extendsc2_at1_typeonesigc2_at1extendsc2_at2_typeonesigclass3_nameextendsclassattrset=c3_at1+c3_at2+c3_at3+c3_at4c3_at5+c3_at6id=c3_at1noparentisabstract=no}onesigc3_at1extendsc3_at1_typeonesigc3_at2extendsc3_at2_typeonesigc3_at3extendsc3_at3_typeonesigc3_at4extendsc3_at4_typeonesigc3_at5extendsc3_at5_typeonesigc3_at6extendsc3_at6_typeonesigclass4_nameextendsclassattrset=c4_at1+c4_at2+c4_at3+c4_at4id=c4_at3noparentisabstract=no}onesigc4_at1extendsc4_at1_typeonesigc4_at2extendsc4_at2_typeonesigc4_at3extendsc4_at3_typeonesigc4_at4extendsc4_at4_typeonesigclass5_nameextendsclassattrset=c5_at1oneparentparentinclass2_nameid=c2_at1isabstract=no}onesigc5_at1extendsc5_at1_typeonesigclass6_nameextendsclassattrset=c6_at1_0+c6_at2+c6_at3+c6_at4id=c6_at2noparentisabstract=no}onesigc6_at1_0extendsc6_at1_typeonesigc6_at2extendsc6_at2_typeonesigc6_at3extendsc6_at3_typeonesigc6_at4extendsc6_at4_typeonesigclass7_nameextendsclassattrset=c7_at1oneparentparentinclass2_nameid=c2_at1isabstract=no}onesigc7_at1extendsc7_at1_typeonesigclass8_nameextendsclassattrset=c8_at1+c8_at2+c2_at2+c6_at3id=c8_at1noparentisabstract=no}onesigc8_at1extendsc8_at1_typeonesigc8_at2extendsc8_at2_typeonesigassoc1extendsassociationsrc=class8_namedst=class2_namesrc_multiplicity=src_mlpcdst_multiplicity=dst_mlpc}onesigassoc2extendsassociationsrc=class2_namedst=class4_namesrc_multiplicity=src_mlpc2dst_multiplicity=dst_mlpc}onesigassoc3extendsassociationsrc=class8_namedst=class3_namesrc_multiplicity=src_mlpcdst_multiplicity=dst_mlpc}onesigassoc4extendsassociationsrc=class8_namedst=class4_namesrc_multiplicity=src_mlpcdst_multiplicity=dst_mlpc}onesigassoc5extendsassociationsrc=class8_namedst=class6_namesrc_multiplicity=src_mlpcdst_multiplicity=dst_mlpc2}onesigassoc6extendsassociationsrc=class6_namedst=class1_namesrc_multiplicity=src_mlpcdst_multiplicity=dst_mlpc2}onesigassoc7extendsassociationsrc=class6_namedst=class4_namesrc_multiplicity=src_mlpcdst_multiplicity=dst_mlpc}onesigassoc8extendsassociationsrc=class1_namedst=class3_namesrc_multiplicity=src_mlpcdst_multiplicity=dst_mlpc}onesigassoc9extendsassociationsrc=class1_namedst=class4_namesrc_multiplicity=src_mlpcdst_multiplicity=dst_mlpc}onesigassoc10extendsassociationsrc=class2_namedst=class3_namesrc_multiplicity=src_mlpcdst_multiplicity=dst_mlpc2}predshowrunshow,mappingstrategyforclass1_name:map_str2mappingstrategyforclass3_name:map_str2mappingstrategyforclass5_name:map_str2mappingstrategyforclass6_name:map_str2mappingstrategyforclass7_name:map_str2associationstrategyforassoc9:assoc_str1associationstrategyforassoc3:assoc_str2associationstrategyforassoc4:assoc_str2associationstrategyforassoc5:assoc_str2associationstrategyforassoc6:assoc_str2associationstrategyforassoc7:assoc_str2associationstrategyforassoc8:assoc_str2associationstrategyforassoc10:assoc_str2,useom_name:0;createtable`class5_name`(c5_at1`c5_at1_type(64),`c2_at1`c2_at1_typenotnull,key`fk_class5_name_c2_at1_idx`(`c2_at1`),primarykey(`c2_at1`)createtable`class2_name`(`c2_at2`c2_at2_type(64),`c8_at1`c8_at1_type,`c2_at1`c2_at1_typenotnull,key`fk_class2_name_c8_at1_idx`(`c8_at1`),primarykey(`c2_at1`)createtable`class6_name`(`c6_at4`c6_at4_type(64),`c6_at1_0`c6_at1_type(64),`c6_at2`c6_at2_typenotnull,primarykey(`c6_at2`)createtable`assoc8`(`c3_at1`c3_at1_typenotnull,`c1_at1`c1_at1_typenotnull,key`fk_assoc8_c3_at1_idx`(`c3_at1`),key`fk_assoc8_c1_at1_idx`(`c1_at1`),primarykey(`c3_at1`,`c1_at1`)createtable`class1_name`(`c1_at2`c1_at2_type(64),`c1_at1`c1_at1_typenotnull,primarykey(`c1_at1`)createtable`class7_name`(`c7_at1`c7_at1_type(64),`c2_at2`c2_at2_type(64),`c2_at1`c2_at1_typenotnull,primarykey(`c2_at1`)createtable`class3_name`(`c3_at6`c3_at6_type,`c3_at5`c3_at5_type,`c3_at4`c3_at4_type,`c3_at3`c3_at3_type,`c3_at2`c3_at2_type,`c3_at1`c3_at1_typenotnull,primarykey(`c3_at1`)createtable`assoc3`(`c8_at1`c8_at1_typenotnull,`c3_at1`c3_at1_typenotnull,key`fk_assoc3_c8_at1_idx`(`c8_at1`),key`fk_assoc3_c3_at1_idx`(`c3_at1`),primarykey(`c8_at1`,`c3_at1`)createtable`assoc2`(`c4_at3`c4_at3_typenotnull,`c2_at1`c2_at1_typenotnull,key`fk_assoc2_c4_at3_idx`(`c4_at3`),key`fk_assoc2_c2_at1_idx`(`c2_at1`),primarykey(`c4_at3`,`c2_at1`)createtable`assoc6`(`c6_at2`c6_at2_typenotnull,`c1_at1`c1_at1_typenotnull,key`fk_assoc6_c6_at2_idx`(`c6_at2`),key`fk_assoc6_c1_at1_idx`(`c1_at1`),primarykey(`c6_at2`,`c1_at1`)createtable`assoc7`(`c6_at2`c6_at2_typenotnull,`c4_at3`c4_at3_typenotnull,key`fk_assoc7_c6_at2_idx`(`c6_at2`),key`fk_assoc7_c4_at3_idx`(`c4_at3`),primarykey(`c6_at2`,`c4_at3`)createtable`assoc10`(`c3_at1`c3_at1_typenotnull,`c2_at1`c2_at1_typenotnull,key`fk_assoc10_c3_at1_idx`(`c3_at1`),key`fk_assoc10_c2_at1_idx`(`c2_at1`),primarykey(`c3_at1`,`c2_at1`)associationstrategyforassoc5:assoc_str2`c8_at1`c8_at1_typenotnull,`c6_at2`c6_at2_typenotnull,key`fk_assoc5_c8_at1_idx`(`c8_at1`),key`fk_assoc5_c6_at2_idx`(`c6_at2`),primarykey(`c8_at1`,`c6_at2`)createtable`class4_name`(`c4_at4`c4_at4_type(64),`c4_at2`c4_at2_type(64),`c4_at1`c4_at1_type(64),`c8_at1`c8_at1_type,`c4_at3`c4_at3_typenotnull,key`fk_class4_name_c8_at1_idx`(`c8_at1`),primarykey(`c4_at3`)createtable`assoc9`(`c4_at3`c4_at3_typenotnull,`c1_at1`c1_at1_typenotnull,key`fk_assoc9_c4_at3_idx`(`c4_at3`),key`fk_assoc9_c1_at1_idx`(`c1_at1`),primarykey(`c4_at3`,`c1_at1`)createtable`class8_name`(`c8_at2`c8_at2_type(64),`c6_at3`c6_at3_type(64),`c8_at1`c8_at1_typenotnull,primarykey(`c8_at1`)altertable`class5_name`addconstraint`fk_class5_name_c2_at1`foreignkey(`c2_at1`)references`class2_name`(`c2_at1`)ondeletecascadeonupdatecascade,altertable`class2_name`addconstraint`fk_class2_name_c8_at1`foreignkey(`c8_at1`)references`class8_name`(`c8_at1`)ondeletecascadeonupdatecascade,altertable`assoc8`addconstraint`fk_assoc8_c3_at1`foreignkey(`c3_at1`)references`class3_name`(`c3_at1`)ondeletecascadeonupdatecascade,addconstraint`fk_assoc8_c1_at1`foreignkey(`c1_at1`)references`class1_name`(`c1_at1`)ondeletecascadeonupdatecascade,altertable`assoc3`addconstraint`fk_assoc3_c8_at1`foreignkey(`c8_at1`)references`class8_name`(`c8_at1`)ondeletecascadeonupdatecascade,addconstraint`fk_assoc3_c3_at1`foreignkey(`c3_at1`)references`class3_name`(`c3_at1`)ondeletecascadeonupdatecascade,altertable`assoc2`addconstraint`fk_assoc2_c4_at3`foreignkey(`c4_at3`)references`class4_name`(`c4_at3`)ondeletecascadeonupdatecascadeaddconstraint`fk_assoc2_c2_at1`foreignkey(`c2_at1`)references`class2_name`(`c2_at1`)ondeletecascadeonupdatecascade,altertable`assoc6`altertable`class7_name`addconstraint`fk_assoc6_c1_at1`foreignkey(`c1_at1`)references`class1_name`(`c1_at1`)ondeletecascadeonupdatecascade,altertable`assoc7`addconstraint`fk_assoc7_c6_at2`foreignkey(`c6_at2`)references`class6_name`(`c6_at2`)ondeletecascadeonupdatecascade,addconstraint`fk_assoc7_c4_at3`foreignkey(`c4_at3`)references`class4_name`(`c4_at3`)ondeletecascadeonupdatecascade;altertable`assoc10`addconstraint`fk_assoc10_c3_at1`foreignkey(`c3_at1`)references`class3_name`(`c3_at1`)ondeletecascadeonupdatecascade,addconstraint`fk_assoc10_c2_at1`foreignkey(`c2_at1`)references`class2_name`(`c2_at1`)ondeletecascadeonupdatecascade,altertable`assoc5`addconstraint`fk_assoc5_c8_at1`foreignkey(`c8_at1`)references`class8_name`(`c8_at1`)ondeletecascadeonupdatecascade,addconstraint`fk_assoc5_c6_at2`foreignkey(`c6_at2`)references`class6_name`(`c6_at2`)ondeletecascadeonupdatecascade;altertable`class4_name`addconstraint`fk_class4_name_c8_at1`foreignkey(`c8_at1`)references`class8_name`(`c8_at1`)ondeletecascadeonupdatecascade,altertable`assoc9`addconstraint`fk_assoc9_c4_at3`foreignkey(`c4_at3`)references`class4_name`(`c4_at3`)ondeletecascadeonupdatecascade,addconstraint`fk_assoc9_c1_at1`foreignkey(`c1_at1`)references`class1_name`(`c1_at1`)ondeletecascadeonupdatecascade; \n",
            "p,moduleom_name0;opendeclarationonesigclass1_nameextendsclassattrset=c1_at1+c1_at2id=c1_at1noparentisabstract=no}onesigc1_at1extendsc1_at1_typeonesigc1_at2extendsc1_at2_typeonesigclass2_nameextendsclassattrset=c2_at1+c2_at2id=c2_at1noparentisabstract=no}onesigc2_at1extendsc2_at1_typeonesigc2_at1extendsc2_at2_typeonesigclass3_nameextendsclassattrset=c3_at1+c3_at2+c3_at3+c3_at4c3_at5+c3_at6id=c3_at1noparentisabstract=no}onesigc3_at1extendsc3_at1_typeonesigc3_at2extendsc3_at2_typeonesigc3_at3extendsc3_at3_typeonesigc3_at4extendsc3_at4_typeonesigc3_at5extendsc3_at5_typeonesigc3_at6extendsc3_at6_typeonesigclass4_nameextendsclassattrset=c4_at1+c4_at2+c4_at3+c4_at4id=c4_at3noparentisabstract=no}onesigc4_at1extendsc4_at1_typeonesigc4_at2extendsc4_at2_typeonesigc4_at3extendsc4_at3_typeonesigc4_at4extendsc4_at4_typeonesigclass5_nameextendsclassattrset=c5_at1oneparentparentinclass2_nameid=c2_at1isabstract=no}onesigc5_at1extendsc5_at1_typeonesigclass6_nameextendsclassattrset=c6_at1_0+c6_at2+c6_at3+c6_at4id=c6_at2noparentisabstract=no}onesigc6_at1_0extendsc6_at1_typeonesigc6_at2extendsc6_at2_typeonesigc6_at3extendsc6_at3_typeonesigc6_at4extendsc6_at4_typeonesigclass7_nameextendsclassattrset=c7_at1oneparentparentinclass2_nameid=c2_at1isabstract=no}onesigc7_at1extendsc7_at1_typeonesigclass8_nameextendsclassattrset=c8_at1+c8_at2+c2_at2+c6_at3id=c8_at1noparentisabstract=no}onesigc8_at1extendsc8_at1_typeonesigc8_at2extendsc8_at2_typeonesigassoc1extendsassociationsrc=class8_namedst=class2_namesrc_multiplicity=src_mlpcdst_multiplicity=dst_mlpc}onesigassoc2extendsassociationsrc=class2_namedst=class4_namesrc_multiplicity=src_mlpc2dst_multiplicity=dst_mlpc}onesigassoc3extendsassociationsrc=class8_namedst=class3_namesrc_multiplicity=src_mlpcdst_multiplicity=dst_mlpc}onesigassoc4extendsassociationsrc=class8_namedst=class4_namesrc_multiplicity=src_mlpcdst_multiplicity=dst_mlpc}onesigassoc5extendsassociationsrc=class8_namedst=class6_namesrc_multiplicity=src_mlpcdst_multiplicity=dst_mlpc2}onesigassoc6extendsassociationsrc=class6_namedst=class1_namesrc_multiplicity=src_mlpcdst_multiplicity=dst_mlpc2}onesigassoc7extendsassociationsrc=class6_namedst=class4_namesrc_multiplicity=src_mlpcdst_multiplicity=dst_mlpc}onesigassoc8extendsassociationsrc=class1_namedst=class3_namesrc_multiplicity=src_mlpcdst_multiplicity=dst_mlpc}onesigassoc9extendsassociationsrc=class1_namedst=class4_namesrc_multiplicity=src_mlpcdst_multiplicity=dst_mlpc}onesigassoc10extendsassociationsrc=class2_namedst=class3_namesrc_multiplicity=src_mlpcdst_multiplicity=dst_mlpc2}predshowrunshow,mappingstrategyforclass1_name:map_str2mappingstrategyforclass3_name:map_str2mappingstrategyforclass5_name:map_str2mappingstrategyforclass6_name:map_str2mappingstrategyforclass7_name:map_str2associationstrategyforassoc9:assoc_str1associationstrategyforassoc3:assoc_str2associationstrategyforassoc4:assoc_str2associationstrategyforassoc5:assoc_str2associationstrategyforassoc6:assoc_str2associationstrategyforassoc7:assoc_str2associationstrategyforassoc8:assoc_str2associationstrategyforassoc10:assoc_str2,useom_name:0;createtable`class5_name`(c5_at1`c5_at1_type(64),`c2_at1`c2_at1_typenotnull,key`fk_class5_name_c2_at1_idx`(`c2_at1`),primarykey(`c2_at1`)createtable`class2_name`(`c2_at2`c2_at2_type(64),`c8_at1`c8_at1_type,`c2_at1`c2_at1_typenotnull,key`fk_class2_name_c8_at1_idx`(`c8_at1`),primarykey(`c2_at1`)createtable`class6_name`(`c6_at4`c6_at4_type(64),`c6_at1_0`c6_at1_type(64),`c6_at2`c6_at2_typenotnull,primarykey(`c6_at2`)createtable`assoc8`(`c3_at1`c3_at1_typenotnull,`c1_at1`c1_at1_typenotnull,key`fk_assoc8_c3_at1_idx`(`c3_at1`),key`fk_assoc8_c1_at1_idx`(`c1_at1`),primarykey(`c3_at1`,`c1_at1`)createtable`class1_name`(`c1_at2`c1_at2_type(64),`c1_at1`c1_at1_typenotnull,primarykey(`c1_at1`)createtable`class7_name`(`c7_at1`c7_at1_type(64),`c2_at2`c2_at2_type(64),`c2_at1`c2_at1_typenotnull,primarykey(`c2_at1`)createtable`class3_name`(`c3_at6`c3_at6_type,`c3_at5`c3_at5_type,`c3_at4`c3_at4_type,`c3_at3`c3_at3_type,`c3_at2`c3_at2_type,`c3_at1`c3_at1_typenotnull,primarykey(`c3_at1`)createtable`assoc3`(`c8_at1`c8_at1_typenotnull,`c3_at1`c3_at1_typenotnull,key`fk_assoc3_c8_at1_idx`(`c8_at1`),key`fk_assoc3_c3_at1_idx`(`c3_at1`),primarykey(`c8_at1`,`c3_at1`)createtable`assoc2`(`c4_at3`c4_at3_typenotnull,`c2_at1`c2_at1_typenotnull,key`fk_assoc2_c4_at3_idx`(`c4_at3`),key`fk_assoc2_c2_at1_idx`(`c2_at1`),primarykey(`c4_at3`,`c2_at1`)createtable`assoc6`(`c6_at2`c6_at2_typenotnull,`c1_at1`c1_at1_typenotnull,key`fk_assoc6_c6_at2_idx`(`c6_at2`),key`fk_assoc6_c1_at1_idx`(`c1_at1`),primarykey(`c6_at2`,`c1_at1`)createtable`assoc7`(`c6_at2`c6_at2_typenotnull,`c4_at3`c4_at3_typenotnull,key`fk_assoc7_c6_at2_idx`(`c6_at2`),key`fk_assoc7_c4_at3_idx`(`c4_at3`),primarykey(`c6_at2`,`c4_at3`)createtable`assoc10`(`c3_at1`c3_at1_typenotnull,`c2_at1`c2_at1_typenotnull,key`fk_assoc10_c3_at1_idx`(`c3_at1`),key`fk_assoc10_c2_at1_idx`(`c2_at1`),primarykey(`c3_at1`,`c2_at1`)associationstrategyforassoc5:assoc_str2`c8_at1`c8_at1_typenotnull,`c6_at2`c6_at2_typenotnull,key`fk_assoc5_c8_at1_idx`(`c8_at1`),key`fk_assoc5_c6_at2_idx`(`c6_at2`),primarykey(`c8_at1`,`c6_at2`)createtable`class4_name`(`c4_at4`c4_at4_type(64),`c4_at2`c4_at2_type(64),`c4_at1`c4_at1_type(64),`c8_at1`c8_at1_type,`c4_at3`c4_at3_typenotnull,key`fk_class4_name_c8_at1_idx`(`c8_at1`),primarykey(`c4_at3`)createtable`assoc9`(`c4_at3`c4_at3_typenotnull,`c1_at1`c1_at1_typenotnull,key`fk_assoc9_c4_at3_idx`(`c4_at3`),key`fk_assoc9_c1_at1_idx`(`c1_at1`),primarykey(`c4_at3`,`c1_at1`)createtable`class8_name`(`c8_at2`c8_at2_type(64),`c6_at3`c6_at3_type(64),`c8_at1`c8_at1_typenotnull,primarykey(`c8_at1`)altertable`class5_name`addconstraint`fk_class5_name_c2_at1`foreignkey(`c2_at1`)references`class2_name`(`c2_at1`)ondeletecascadeonupdatecascade,altertable`class2_name`addconstraint`fk_class2_name_c8_at1`foreignkey(`c8_at1`)references`class8_name`(`c8_at1`)ondeletecascadeonupdatecascade,altertable`assoc8`addconstraint`fk_assoc8_c3_at1`foreignkey(`c3_at1`)references`class3_name`(`c3_at1`)ondeletecascadeonupdatecascade,addconstraint`fk_assoc8_c1_at1`foreignkey(`c1_at1`)references`class1_name`(`c1_at1`)ondeletecascadeonupdatecascade,altertable`assoc3`addconstraint`fk_assoc3_c8_at1`foreignkey(`c8_at1`)references`class8_name`(`c8_at1`)ondeletecascadeonupdatecascade,addconstraint`fk_assoc3_c3_at1`foreignkey(`c3_at1`)references`class3_name`(`c3_at1`)ondeletecascadeonupdatecascade,altertable`assoc2`addconstraint`fk_assoc2_c4_at3`foreignkey(`c4_at3`)references`class4_name`(`c4_at3`)ondeletecascadeonupdatecascadeaddconstraint`fk_assoc2_c2_at1`foreignkey(`c2_at1`)references`class2_name`(`c2_at1`)ondeletecascadeonupdatecascade,altertable`assoc6`altertable`class7_name`addconstraint`fk_assoc6_c1_at1`foreignkey(`c1_at1`)references`class1_name`(`c1_at1`)ondeletecascadeonupdatecascade,altertable`assoc7`addconstraint`fk_assoc7_c6_at2`foreignkey(`c6_at2`)references`class6_name`(`c6_at2`)ondeletecascadeonupdatecascade,addconstraint`fk_assoc7_c4_at3`foreignkey(`c4_at3`)references`class4_name`(`c4_at3`)ondeletecascadeonupdatecascade;altertable`assoc10`addconstraint`fk_assoc10_c3_at1`foreignkey(`c3_at1`)references`class3_name`(`c3_at1`)ondeletecascadeonupdatecascade,addconstraint`fk_assoc10_c2_at1`foreignkey(`c2_at1`)references`class2_name`(`c2_at1`)ondeletecascadeonupdatecascade,altertable`assoc5`addconstraint`fk_assoc5_c8_at1`foreignkey(`c8_at1`)references`class8_name`(`c8_at1`)ondeletecascadeonupdatecascade,addconstraint`fk_assoc5_c6_at2`foreignkey(`c6_at2`)references`class6_name`(`c6_at2`)ondeletecascadeonupdatecascade;altertable`class4_name`addconstraint`fk_class4_name_c8_at1`foreignkey(`c8_at1`)references`class8_name`(`c8_at1`)ondeletecascadeonupdatecascade,altertable`assoc9`addconstraint`fk_assoc9_c4_at3`foreignkey(`c4_at3`)references`class4_name`(`c4_at3`)ondeletecascadeonupdatecascade,addconstraint`fk_assoc9_c1_at1`foreignkey(`c1_at1`)references`class1_name`(`c1_at1`)ondeletecascadeonupdatecascade; \n",
            "p,moduleom_name0;opendeclarationonesigclass1_nameextendsclassattrset=c1_at1+c1_at2id=c1_at1noparentisabstract=no}onesigc1_at1extendsc1_at1_typeonesigc1_at2extendsc1_at2_typeonesigclass2_nameextendsclassattrset=c2_at1+c2_at2id=c2_at1noparentisabstract=no}onesigc2_at1extendsc2_at1_typeonesigc2_at1extendsc2_at2_typeonesigclass3_nameextendsclassattrset=c3_at1+c3_at2+c3_at3+c3_at4c3_at5+c3_at6id=c3_at1noparentisabstract=no}onesigc3_at1extendsc3_at1_typeonesigc3_at2extendsc3_at2_typeonesigc3_at3extendsc3_at3_typeonesigc3_at4extendsc3_at4_typeonesigc3_at5extendsc3_at5_typeonesigc3_at6extendsc3_at6_typeonesigclass4_nameextendsclassattrset=c4_at1+c4_at2+c4_at3+c4_at4id=c4_at3noparentisabstract=no}onesigc4_at1extendsc4_at1_typeonesigc4_at2extendsc4_at2_typeonesigc4_at3extendsc4_at3_typeonesigc4_at4extendsc4_at4_typeonesigclass5_nameextendsclassattrset=c5_at1oneparentparentinclass2_nameid=c2_at1isabstract=no}onesigc5_at1extendsc5_at1_typeonesigclass6_nameextendsclassattrset=c6_at1_0+c6_at2+c6_at3+c6_at4id=c6_at2noparentisabstract=no}onesigc6_at1_0extendsc6_at1_typeonesigc6_at2extendsc6_at2_typeonesigc6_at3extendsc6_at3_typeonesigc6_at4extendsc6_at4_typeonesigclass7_nameextendsclassattrset=c7_at1oneparentparentinclass2_nameid=c2_at1isabstract=no}onesigc7_at1extendsc7_at1_typeonesigclass8_nameextendsclassattrset=c8_at1+c8_at2+c2_at2+c6_at3id=c8_at1noparentisabstract=no}onesigc8_at1extendsc8_at1_typeonesigc8_at2extendsc8_at2_typeonesigassoc1extendsassociationsrc=class8_namedst=class2_namesrc_multiplicity=src_mlpcdst_multiplicity=dst_mlpc}onesigassoc2extendsassociationsrc=class2_namedst=class4_namesrc_multiplicity=src_mlpc2dst_multiplicity=dst_mlpc}onesigassoc3extendsassociationsrc=class8_namedst=class3_namesrc_multiplicity=src_mlpcdst_multiplicity=dst_mlpc}onesigassoc4extendsassociationsrc=class8_namedst=class4_namesrc_multiplicity=src_mlpcdst_multiplicity=dst_mlpc}onesigassoc5extendsassociationsrc=class8_namedst=class6_namesrc_multiplicity=src_mlpcdst_multiplicity=dst_mlpc2}onesigassoc6extendsassociationsrc=class6_namedst=class1_namesrc_multiplicity=src_mlpcdst_multiplicity=dst_mlpc2}onesigassoc7extendsassociationsrc=class6_namedst=class4_namesrc_multiplicity=src_mlpcdst_multiplicity=dst_mlpc}onesigassoc8extendsassociationsrc=class1_namedst=class3_namesrc_multiplicity=src_mlpcdst_multiplicity=dst_mlpc}onesigassoc9extendsassociationsrc=class1_namedst=class4_namesrc_multiplicity=src_mlpcdst_multiplicity=dst_mlpc}onesigassoc10extendsassociationsrc=class2_namedst=class3_namesrc_multiplicity=src_mlpcdst_multiplicity=dst_mlpc2}predshowrunshow,mappingstrategyforclass1_name:map_str2mappingstrategyforclass3_name:map_str2mappingstrategyforclass5_name:map_str2mappingstrategyforclass6_name:map_str2mappingstrategyforclass7_name:map_str2associationstrategyforassoc9:assoc_str1associationstrategyforassoc3:assoc_str2associationstrategyforassoc4:assoc_str2associationstrategyforassoc5:assoc_str2associationstrategyforassoc6:assoc_str2associationstrategyforassoc7:assoc_str2associationstrategyforassoc8:assoc_str2associationstrategyforassoc10:assoc_str2,useom_name:0;createtable`class5_name`(c5_at1`c5_at1_type(64),`c2_at1`c2_at1_typenotnull,key`fk_class5_name_c2_at1_idx`(`c2_at1`),primarykey(`c2_at1`)createtable`class2_name`(`c2_at2`c2_at2_type(64),`c8_at1`c8_at1_type,`c2_at1`c2_at1_typenotnull,key`fk_class2_name_c8_at1_idx`(`c8_at1`),primarykey(`c2_at1`)createtable`class6_name`(`c6_at4`c6_at4_type(64),`c6_at1_0`c6_at1_type(64),`c6_at2`c6_at2_typenotnull,primarykey(`c6_at2`)createtable`assoc8`(`c3_at1`c3_at1_typenotnull,`c1_at1`c1_at1_typenotnull,key`fk_assoc8_c3_at1_idx`(`c3_at1`),key`fk_assoc8_c1_at1_idx`(`c1_at1`),primarykey(`c3_at1`,`c1_at1`)createtable`class1_name`(`c1_at2`c1_at2_type(64),`c1_at1`c1_at1_typenotnull,primarykey(`c1_at1`)createtable`class7_name`(`c7_at1`c7_at1_type(64),`c2_at2`c2_at2_type(64),`c2_at1`c2_at1_typenotnull,primarykey(`c2_at1`)createtable`class3_name`(`c3_at6`c3_at6_type,`c3_at5`c3_at5_type,`c3_at4`c3_at4_type,`c3_at3`c3_at3_type,`c3_at2`c3_at2_type,`c3_at1`c3_at1_typenotnull,primarykey(`c3_at1`)createtable`assoc3`(`c8_at1`c8_at1_typenotnull,`c3_at1`c3_at1_typenotnull,key`fk_assoc3_c8_at1_idx`(`c8_at1`),key`fk_assoc3_c3_at1_idx`(`c3_at1`),primarykey(`c8_at1`,`c3_at1`)createtable`assoc2`(`c4_at3`c4_at3_typenotnull,`c2_at1`c2_at1_typenotnull,key`fk_assoc2_c4_at3_idx`(`c4_at3`),key`fk_assoc2_c2_at1_idx`(`c2_at1`),primarykey(`c4_at3`,`c2_at1`)createtable`assoc6`(`c6_at2`c6_at2_typenotnull,`c1_at1`c1_at1_typenotnull,key`fk_assoc6_c6_at2_idx`(`c6_at2`),key`fk_assoc6_c1_at1_idx`(`c1_at1`),primarykey(`c6_at2`,`c1_at1`)createtable`assoc7`(`c6_at2`c6_at2_typenotnull,`c4_at3`c4_at3_typenotnull,key`fk_assoc7_c6_at2_idx`(`c6_at2`),key`fk_assoc7_c4_at3_idx`(`c4_at3`),primarykey(`c6_at2`,`c4_at3`)createtable`assoc10`(`c3_at1`c3_at1_typenotnull,`c2_at1`c2_at1_typenotnull,key`fk_assoc10_c3_at1_idx`(`c3_at1`),key`fk_assoc10_c2_at1_idx`(`c2_at1`),primarykey(`c3_at1`,`c2_at1`)associationstrategyforassoc5:assoc_str2`c8_at1`c8_at1_typenotnull,`c6_at2`c6_at2_typenotnull,key`fk_assoc5_c8_at1_idx`(`c8_at1`),key`fk_assoc5_c6_at2_idx`(`c6_at2`),primarykey(`c8_at1`,`c6_at2`)createtable`class4_name`(`c4_at4`c4_at4_type(64),`c4_at2`c4_at2_type(64),`c4_at1`c4_at1_type(64),`c8_at1`c8_at1_type,`c4_at3`c4_at3_typenotnull,key`fk_class4_name_c8_at1_idx`(`c8_at1`),primarykey(`c4_at3`)createtable`assoc9`(`c4_at3`c4_at3_typenotnull,`c1_at1`c1_at1_typenotnull,key`fk_assoc9_c4_at3_idx`(`c4_at3`),key`fk_assoc9_c1_at1_idx`(`c1_at1`),primarykey(`c4_at3`,`c1_at1`)createtable`class8_name`(`c8_at2`c8_at2_type(64),`c6_at3`c6_at3_type(64),`c8_at1`c8_at1_typenotnull,primarykey(`c8_at1`)altertable`class5_name`addconstraint`fk_class5_name_c2_at1`foreignkey(`c2_at1`)references`class2_name`(`c2_at1`)ondeletecascadeonupdatecascade,altertable`class2_name`addconstraint`fk_class2_name_c8_at1`foreignkey(`c8_at1`)references`class8_name`(`c8_at1`)ondeletecascadeonupdatecascade,altertable`assoc8`addconstraint`fk_assoc8_c3_at1`foreignkey(`c3_at1`)references`class3_name`(`c3_at1`)ondeletecascadeonupdatecascade,addconstraint`fk_assoc8_c1_at1`foreignkey(`c1_at1`)references`class1_name`(`c1_at1`)ondeletecascadeonupdatecascade,altertable`assoc3`addconstraint`fk_assoc3_c8_at1`foreignkey(`c8_at1`)references`class8_name`(`c8_at1`)ondeletecascadeonupdatecascade,addconstraint`fk_assoc3_c3_at1`foreignkey(`c3_at1`)references`class3_name`(`c3_at1`)ondeletecascadeonupdatecascade,altertable`assoc2`addconstraint`fk_assoc2_c4_at3`foreignkey(`c4_at3`)references`class4_name`(`c4_at3`)ondeletecascadeonupdatecascadeaddconstraint`fk_assoc2_c2_at1`foreignkey(`c2_at1`)references`class2_name`(`c2_at1`)ondeletecascadeonupdatecascade,altertable`assoc6`altertable`class7_name`addconstraint`fk_assoc6_c1_at1`foreignkey(`c1_at1`)references`class1_name`(`c1_at1`)ondeletecascadeonupdatecascade,altertable`assoc7`addconstraint`fk_assoc7_c6_at2`foreignkey(`c6_at2`)references`class6_name`(`c6_at2`)ondeletecascadeonupdatecascade,addconstraint`fk_assoc7_c4_at3`foreignkey(`c4_at3`)references`class4_name`(`c4_at3`)ondeletecascadeonupdatecascade;altertable`assoc10`addconstraint`fk_assoc10_c3_at1`foreignkey(`c3_at1`)references`class3_name`(`c3_at1`)ondeletecascadeonupdatecascade,addconstraint`fk_assoc10_c2_at1`foreignkey(`c2_at1`)references`class2_name`(`c2_at1`)ondeletecascadeonupdatecascade,altertable`assoc5`addconstraint`fk_assoc5_c8_at1`foreignkey(`c8_at1`)references`class8_name`(`c8_at1`)ondeletecascadeonupdatecascade,addconstraint`fk_assoc5_c6_at2`foreignkey(`c6_at2`)references`class6_name`(`c6_at2`)ondeletecascadeonupdatecascade;altertable`class4_name`addconstraint`fk_class4_name_c8_at1`foreignkey(`c8_at1`)references`class8_name`(`c8_at1`)ondeletecascadeonupdatecascade,altertable`assoc9`addconstraint`fk_assoc9_c4_at3`foreignkey(`c4_at3`)references`class4_name`(`c4_at3`)ondeletecascadeonupdatecascade,addconstraint`fk_assoc9_c1_at1`foreignkey(`c1_at1`)references`class1_name`(`c1_at1`)ondeletecascadeonupdatecascade; \n",
            "p,moduleom_name0;opendeclarationonesigclass1_nameextendsclassattrset=c1_at1+c1_at2id=c1_at1noparentisabstract=no}onesigc1_at1extendsc1_at1_typeonesigc1_at2extendsc1_at2_typeonesigclass2_nameextendsclassattrset=c2_at1+c2_at2id=c2_at1noparentisabstract=no}onesigc2_at1extendsc2_at1_typeonesigc2_at1extendsc2_at2_typeonesigclass3_nameextendsclassattrset=c3_at1+c3_at2+c3_at3+c3_at4c3_at5+c3_at6id=c3_at1noparentisabstract=no}onesigc3_at1extendsc3_at1_typeonesigc3_at2extendsc3_at2_typeonesigc3_at3extendsc3_at3_typeonesigc3_at4extendsc3_at4_typeonesigc3_at5extendsc3_at5_typeonesigc3_at6extendsc3_at6_typeonesigclass4_nameextendsclassattrset=c4_at1+c4_at2+c4_at3+c4_at4id=c4_at3noparentisabstract=no}onesigc4_at1extendsc4_at1_typeonesigc4_at2extendsc4_at2_typeonesigc4_at3extendsc4_at3_typeonesigc4_at4extendsc4_at4_typeonesigclass5_nameextendsclassattrset=c5_at1oneparentparentinclass2_nameid=c2_at1isabstract=no}onesigc5_at1extendsc5_at1_typeonesigclass6_nameextendsclassattrset=c6_at1_0+c6_at2+c6_at3+c6_at4id=c6_at2noparentisabstract=no}onesigc6_at1_0extendsc6_at1_typeonesigc6_at2extendsc6_at2_typeonesigc6_at3extendsc6_at3_typeonesigc6_at4extendsc6_at4_typeonesigclass7_nameextendsclassattrset=c7_at1oneparentparentinclass2_nameid=c2_at1isabstract=no}onesigc7_at1extendsc7_at1_typeonesigclass8_nameextendsclassattrset=c8_at1+c8_at2+c2_at2+c6_at3id=c8_at1noparentisabstract=no}onesigc8_at1extendsc8_at1_typeonesigc8_at2extendsc8_at2_typeonesigassoc1extendsassociationsrc=class8_namedst=class2_namesrc_multiplicity=src_mlpcdst_multiplicity=dst_mlpc}onesigassoc2extendsassociationsrc=class2_namedst=class4_namesrc_multiplicity=src_mlpc2dst_multiplicity=dst_mlpc}onesigassoc3extendsassociationsrc=class8_namedst=class3_namesrc_multiplicity=src_mlpcdst_multiplicity=dst_mlpc}onesigassoc4extendsassociationsrc=class8_namedst=class4_namesrc_multiplicity=src_mlpcdst_multiplicity=dst_mlpc}onesigassoc5extendsassociationsrc=class8_namedst=class6_namesrc_multiplicity=src_mlpcdst_multiplicity=dst_mlpc2}onesigassoc6extendsassociationsrc=class6_namedst=class1_namesrc_multiplicity=src_mlpcdst_multiplicity=dst_mlpc2}onesigassoc7extendsassociationsrc=class6_namedst=class4_namesrc_multiplicity=src_mlpcdst_multiplicity=dst_mlpc}onesigassoc8extendsassociationsrc=class1_namedst=class3_namesrc_multiplicity=src_mlpcdst_multiplicity=dst_mlpc}onesigassoc9extendsassociationsrc=class1_namedst=class4_namesrc_multiplicity=src_mlpcdst_multiplicity=dst_mlpc}onesigassoc10extendsassociationsrc=class2_namedst=class3_namesrc_multiplicity=src_mlpcdst_multiplicity=dst_mlpc2}predshowrunshow,mappingstrategyforclass1_name:map_str2mappingstrategyforclass3_name:map_str2mappingstrategyforclass5_name:map_str2mappingstrategyforclass6_name:map_str2mappingstrategyforclass7_name:map_str2associationstrategyforassoc9:assoc_str1associationstrategyforassoc3:assoc_str2associationstrategyforassoc4:assoc_str2associationstrategyforassoc5:assoc_str2associationstrategyforassoc6:assoc_str2associationstrategyforassoc7:assoc_str2associationstrategyforassoc8:assoc_str2associationstrategyforassoc10:assoc_str2,useom_name:0;createtable`class5_name`(c5_at1`c5_at1_type(64),`c2_at1`c2_at1_typenotnull,key`fk_class5_name_c2_at1_idx`(`c2_at1`),primarykey(`c2_at1`)createtable`class2_name`(`c2_at2`c2_at2_type(64),`c8_at1`c8_at1_type,`c2_at1`c2_at1_typenotnull,key`fk_class2_name_c8_at1_idx`(`c8_at1`),primarykey(`c2_at1`)createtable`class6_name`(`c6_at4`c6_at4_type(64),`c6_at1_0`c6_at1_type(64),`c6_at2`c6_at2_typenotnull,primarykey(`c6_at2`)createtable`assoc8`(`c3_at1`c3_at1_typenotnull,`c1_at1`c1_at1_typenotnull,key`fk_assoc8_c3_at1_idx`(`c3_at1`),key`fk_assoc8_c1_at1_idx`(`c1_at1`),primarykey(`c3_at1`,`c1_at1`)createtable`class1_name`(`c1_at2`c1_at2_type(64),`c1_at1`c1_at1_typenotnull,primarykey(`c1_at1`)createtable`class7_name`(`c7_at1`c7_at1_type(64),`c2_at2`c2_at2_type(64),`c2_at1`c2_at1_typenotnull,primarykey(`c2_at1`)createtable`class3_name`(`c3_at6`c3_at6_type,`c3_at5`c3_at5_type,`c3_at4`c3_at4_type,`c3_at3`c3_at3_type,`c3_at2`c3_at2_type,`c3_at1`c3_at1_typenotnull,primarykey(`c3_at1`)createtable`assoc3`(`c8_at1`c8_at1_typenotnull,`c3_at1`c3_at1_typenotnull,key`fk_assoc3_c8_at1_idx`(`c8_at1`),key`fk_assoc3_c3_at1_idx`(`c3_at1`),primarykey(`c8_at1`,`c3_at1`)createtable`assoc2`(`c4_at3`c4_at3_typenotnull,`c2_at1`c2_at1_typenotnull,key`fk_assoc2_c4_at3_idx`(`c4_at3`),key`fk_assoc2_c2_at1_idx`(`c2_at1`),primarykey(`c4_at3`,`c2_at1`)createtable`assoc6`(`c6_at2`c6_at2_typenotnull,`c1_at1`c1_at1_typenotnull,key`fk_assoc6_c6_at2_idx`(`c6_at2`),key`fk_assoc6_c1_at1_idx`(`c1_at1`),primarykey(`c6_at2`,`c1_at1`)createtable`assoc7`(`c6_at2`c6_at2_typenotnull,`c4_at3`c4_at3_typenotnull,key`fk_assoc7_c6_at2_idx`(`c6_at2`),key`fk_assoc7_c4_at3_idx`(`c4_at3`),primarykey(`c6_at2`,`c4_at3`)createtable`assoc10`(`c3_at1`c3_at1_typenotnull,`c2_at1`c2_at1_typenotnull,key`fk_assoc10_c3_at1_idx`(`c3_at1`),key`fk_assoc10_c2_at1_idx`(`c2_at1`),primarykey(`c3_at1`,`c2_at1`)associationstrategyforassoc5:assoc_str2`c8_at1`c8_at1_typenotnull,`c6_at2`c6_at2_typenotnull,key`fk_assoc5_c8_at1_idx`(`c8_at1`),key`fk_assoc5_c6_at2_idx`(`c6_at2`),primarykey(`c8_at1`,`c6_at2`)createtable`class4_name`(`c4_at4`c4_at4_type(64),`c4_at2`c4_at2_type(64),`c4_at1`c4_at1_type(64),`c8_at1`c8_at1_type,`c4_at3`c4_at3_typenotnull,key`fk_class4_name_c8_at1_idx`(`c8_at1`),primarykey(`c4_at3`)createtable`assoc9`(`c4_at3`c4_at3_typenotnull,`c1_at1`c1_at1_typenotnull,key`fk_assoc9_c4_at3_idx`(`c4_at3`),key`fk_assoc9_c1_at1_idx`(`c1_at1`),primarykey(`c4_at3`,`c1_at1`)createtable`class8_name`(`c8_at2`c8_at2_type(64),`c6_at3`c6_at3_type(64),`c8_at1`c8_at1_typenotnull,primarykey(`c8_at1`)altertable`class5_name`addconstraint`fk_class5_name_c2_at1`foreignkey(`c2_at1`)references`class2_name`(`c2_at1`)ondeletecascadeonupdatecascade,altertable`class2_name`addconstraint`fk_class2_name_c8_at1`foreignkey(`c8_at1`)references`class8_name`(`c8_at1`)ondeletecascadeonupdatecascade,altertable`assoc8`addconstraint`fk_assoc8_c3_at1`foreignkey(`c3_at1`)references`class3_name`(`c3_at1`)ondeletecascadeonupdatecascade,addconstraint`fk_assoc8_c1_at1`foreignkey(`c1_at1`)references`class1_name`(`c1_at1`)ondeletecascadeonupdatecascade,altertable`assoc3`addconstraint`fk_assoc3_c8_at1`foreignkey(`c8_at1`)references`class8_name`(`c8_at1`)ondeletecascadeonupdatecascade,addconstraint`fk_assoc3_c3_at1`foreignkey(`c3_at1`)references`class3_name`(`c3_at1`)ondeletecascadeonupdatecascade,altertable`assoc2`addconstraint`fk_assoc2_c4_at3`foreignkey(`c4_at3`)references`class4_name`(`c4_at3`)ondeletecascadeonupdatecascadeaddconstraint`fk_assoc2_c2_at1`foreignkey(`c2_at1`)references`class2_name`(`c2_at1`)ondeletecascadeonupdatecascade,altertable`assoc6`altertable`class7_name`addconstraint`fk_assoc6_c1_at1`foreignkey(`c1_at1`)references`class1_name`(`c1_at1`)ondeletecascadeonupdatecascade,altertable`assoc7`addconstraint`fk_assoc7_c6_at2`foreignkey(`c6_at2`)references`class6_name`(`c6_at2`)ondeletecascadeonupdatecascade,addconstraint`fk_assoc7_c4_at3`foreignkey(`c4_at3`)references`class4_name`(`c4_at3`)ondeletecascadeonupdatecascade;altertable`assoc10`addconstraint`fk_assoc10_c3_at1`foreignkey(`c3_at1`)references`class3_name`(`c3_at1`)ondeletecascadeonupdatecascade,addconstraint`fk_assoc10_c2_at1`foreignkey(`c2_at1`)references`class2_name`(`c2_at1`)ondeletecascadeonupdatecascade,altertable`assoc5`addconstraint`fk_assoc5_c8_at1`foreignkey(`c8_at1`)references`class8_name`(`c8_at1`)ondeletecascadeonupdatecascade,addconstraint`fk_assoc5_c6_at2`foreignkey(`c6_at2`)references`class6_name`(`c6_at2`)ondeletecascadeonupdatecascade;altertable`class4_name`addconstraint`fk_class4_name_c8_at1`foreignkey(`c8_at1`)references`class8_name`(`c8_at1`)ondeletecascadeonupdatecascade,altertable`assoc9`addconstraint`fk_assoc9_c4_at3`foreignkey(`c4_at3`)references`class4_name`(`c4_at3`)ondeletecascadeonupdatecascade,addconstraint`fk_assoc9_c1_at1`foreignkey(`c1_at1`)references`class1_name`(`c1_at1`)ondeletecascadeonupdatecascade; \n",
            "p,moduleom_name0;opendeclarationonesigclass1_nameextendsclassattrset=c1_at1+c1_at2id=c1_at1noparentisabstract=no}onesigc1_at1extendsc1_at1_typeonesigc1_at2extendsc1_at2_typeonesigclass2_nameextendsclassattrset=c2_at1+c2_at2id=c2_at1noparentisabstract=no}onesigc2_at1extendsc2_at1_typeonesigc2_at1extendsc2_at2_typeonesigclass3_nameextendsclassattrset=c3_at1+c3_at2+c3_at3+c3_at4c3_at5+c3_at6id=c3_at1noparentisabstract=no}onesigc3_at1extendsc3_at1_typeonesigc3_at2extendsc3_at2_typeonesigc3_at3extendsc3_at3_typeonesigc3_at4extendsc3_at4_typeonesigc3_at5extendsc3_at5_typeonesigc3_at6extendsc3_at6_typeonesigclass4_nameextendsclassattrset=c4_at1+c4_at2+c4_at3+c4_at4id=c4_at3noparentisabstract=no}onesigc4_at1extendsc4_at1_typeonesigc4_at2extendsc4_at2_typeonesigc4_at3extendsc4_at3_typeonesigc4_at4extendsc4_at4_typeonesigclass5_nameextendsclassattrset=c5_at1oneparentparentinclass2_nameid=c2_at1isabstract=no}onesigc5_at1extendsc5_at1_typeonesigclass6_nameextendsclassattrset=c6_at1_0+c6_at2+c6_at3+c6_at4id=c6_at2noparentisabstract=no}onesigc6_at1_0extendsc6_at1_typeonesigc6_at2extendsc6_at2_typeonesigc6_at3extendsc6_at3_typeonesigc6_at4extendsc6_at4_typeonesigclass7_nameextendsclassattrset=c7_at1oneparentparentinclass2_nameid=c2_at1isabstract=no}onesigc7_at1extendsc7_at1_typeonesigclass8_nameextendsclassattrset=c8_at1+c8_at2+c2_at2+c6_at3id=c8_at1noparentisabstract=no}onesigc8_at1extendsc8_at1_typeonesigc8_at2extendsc8_at2_typeonesigassoc1extendsassociationsrc=class8_namedst=class2_namesrc_multiplicity=src_mlpcdst_multiplicity=dst_mlpc}onesigassoc2extendsassociationsrc=class2_namedst=class4_namesrc_multiplicity=src_mlpc2dst_multiplicity=dst_mlpc}onesigassoc3extendsassociationsrc=class8_namedst=class3_namesrc_multiplicity=src_mlpcdst_multiplicity=dst_mlpc}onesigassoc4extendsassociationsrc=class8_namedst=class4_namesrc_multiplicity=src_mlpcdst_multiplicity=dst_mlpc}onesigassoc5extendsassociationsrc=class8_namedst=class6_namesrc_multiplicity=src_mlpcdst_multiplicity=dst_mlpc2}onesigassoc6extendsassociationsrc=class6_namedst=class1_namesrc_multiplicity=src_mlpcdst_multiplicity=dst_mlpc2}onesigassoc7extendsassociationsrc=class6_namedst=class4_namesrc_multiplicity=src_mlpcdst_multiplicity=dst_mlpc}onesigassoc8extendsassociationsrc=class1_namedst=class3_namesrc_multiplicity=src_mlpcdst_multiplicity=dst_mlpc}onesigassoc9extendsassociationsrc=class1_namedst=class4_namesrc_multiplicity=src_mlpcdst_multiplicity=dst_mlpc}onesigassoc10extendsassociationsrc=class2_namedst=class3_namesrc_multiplicity=src_mlpcdst_multiplicity=dst_mlpc2}predshowrunshow,mappingstrategyforclass1_name:map_str2mappingstrategyforclass3_name:map_str2mappingstrategyforclass5_name:map_str2mappingstrategyforclass6_name:map_str2mappingstrategyforclass7_name:map_str2associationstrategyforassoc9:assoc_str1associationstrategyforassoc3:assoc_str2associationstrategyforassoc4:assoc_str2associationstrategyforassoc5:assoc_str2associationstrategyforassoc6:assoc_str2associationstrategyforassoc7:assoc_str2associationstrategyforassoc8:assoc_str2associationstrategyforassoc10:assoc_str2,useom_name:0;createtable`class5_name`(c5_at1`c5_at1_type(64),`c2_at1`c2_at1_typenotnull,key`fk_class5_name_c2_at1_idx`(`c2_at1`),primarykey(`c2_at1`)createtable`class2_name`(`c2_at2`c2_at2_type(64),`c8_at1`c8_at1_type,`c2_at1`c2_at1_typenotnull,key`fk_class2_name_c8_at1_idx`(`c8_at1`),primarykey(`c2_at1`)createtable`class6_name`(`c6_at4`c6_at4_type(64),`c6_at1_0`c6_at1_type(64),`c6_at2`c6_at2_typenotnull,primarykey(`c6_at2`)createtable`assoc8`(`c3_at1`c3_at1_typenotnull,`c1_at1`c1_at1_typenotnull,key`fk_assoc8_c3_at1_idx`(`c3_at1`),key`fk_assoc8_c1_at1_idx`(`c1_at1`),primarykey(`c3_at1`,`c1_at1`)createtable`class1_name`(`c1_at2`c1_at2_type(64),`c1_at1`c1_at1_typenotnull,primarykey(`c1_at1`)createtable`class7_name`(`c7_at1`c7_at1_type(64),`c2_at2`c2_at2_type(64),`c2_at1`c2_at1_typenotnull,primarykey(`c2_at1`)createtable`class3_name`(`c3_at6`c3_at6_type,`c3_at5`c3_at5_type,`c3_at4`c3_at4_type,`c3_at3`c3_at3_type,`c3_at2`c3_at2_type,`c3_at1`c3_at1_typenotnull,primarykey(`c3_at1`)createtable`assoc3`(`c8_at1`c8_at1_typenotnull,`c3_at1`c3_at1_typenotnull,key`fk_assoc3_c8_at1_idx`(`c8_at1`),key`fk_assoc3_c3_at1_idx`(`c3_at1`),primarykey(`c8_at1`,`c3_at1`)createtable`assoc2`(`c4_at3`c4_at3_typenotnull,`c2_at1`c2_at1_typenotnull,key`fk_assoc2_c4_at3_idx`(`c4_at3`),key`fk_assoc2_c2_at1_idx`(`c2_at1`),primarykey(`c4_at3`,`c2_at1`)createtable`assoc6`(`c6_at2`c6_at2_typenotnull,`c1_at1`c1_at1_typenotnull,key`fk_assoc6_c6_at2_idx`(`c6_at2`),key`fk_assoc6_c1_at1_idx`(`c1_at1`),primarykey(`c6_at2`,`c1_at1`)createtable`assoc7`(`c6_at2`c6_at2_typenotnull,`c4_at3`c4_at3_typenotnull,key`fk_assoc7_c6_at2_idx`(`c6_at2`),key`fk_assoc7_c4_at3_idx`(`c4_at3`),primarykey(`c6_at2`,`c4_at3`)createtable`assoc10`(`c3_at1`c3_at1_typenotnull,`c2_at1`c2_at1_typenotnull,key`fk_assoc10_c3_at1_idx`(`c3_at1`),key`fk_assoc10_c2_at1_idx`(`c2_at1`),primarykey(`c3_at1`,`c2_at1`)associationstrategyforassoc5:assoc_str2`c8_at1`c8_at1_typenotnull,`c6_at2`c6_at2_typenotnull,key`fk_assoc5_c8_at1_idx`(`c8_at1`),key`fk_assoc5_c6_at2_idx`(`c6_at2`),primarykey(`c8_at1`,`c6_at2`)createtable`class4_name`(`c4_at4`c4_at4_type(64),`c4_at2`c4_at2_type(64),`c4_at1`c4_at1_type(64),`c8_at1`c8_at1_type,`c4_at3`c4_at3_typenotnull,key`fk_class4_name_c8_at1_idx`(`c8_at1`),primarykey(`c4_at3`)createtable`assoc9`(`c4_at3`c4_at3_typenotnull,`c1_at1`c1_at1_typenotnull,key`fk_assoc9_c4_at3_idx`(`c4_at3`),key`fk_assoc9_c1_at1_idx`(`c1_at1`),primarykey(`c4_at3`,`c1_at1`)createtable`class8_name`(`c8_at2`c8_at2_type(64),`c6_at3`c6_at3_type(64),`c8_at1`c8_at1_typenotnull,primarykey(`c8_at1`)altertable`class5_name`addconstraint`fk_class5_name_c2_at1`foreignkey(`c2_at1`)references`class2_name`(`c2_at1`)ondeletecascadeonupdatecascade,altertable`class2_name`addconstraint`fk_class2_name_c8_at1`foreignkey(`c8_at1`)references`class8_name`(`c8_at1`)ondeletecascadeonupdatecascade,altertable`assoc8`addconstraint`fk_assoc8_c3_at1`foreignkey(`c3_at1`)references`class3_name`(`c3_at1`)ondeletecascadeonupdatecascade,addconstraint`fk_assoc8_c1_at1`foreignkey(`c1_at1`)references`class1_name`(`c1_at1`)ondeletecascadeonupdatecascade,altertable`assoc3`addconstraint`fk_assoc3_c8_at1`foreignkey(`c8_at1`)references`class8_name`(`c8_at1`)ondeletecascadeonupdatecascade,addconstraint`fk_assoc3_c3_at1`foreignkey(`c3_at1`)references`class3_name`(`c3_at1`)ondeletecascadeonupdatecascade,altertable`assoc2`addconstraint`fk_assoc2_c4_at3`foreignkey(`c4_at3`)references`class4_name`(`c4_at3`)ondeletecascadeonupdatecascadeaddconstraint`fk_assoc2_c2_at1`foreignkey(`c2_at1`)references`class2_name`(`c2_at1`)ondeletecascadeonupdatecascade,altertable`assoc6`altertable`class7_name`addconstraint`fk_assoc6_c1_at1`foreignkey(`c1_at1`)references`class1_name`(`c1_at1`)ondeletecascadeonupdatecascade,altertable`assoc7`addconstraint`fk_assoc7_c6_at2`foreignkey(`c6_at2`)references`class6_name`(`c6_at2`)ondeletecascadeonupdatecascade,addconstraint`fk_assoc7_c4_at3`foreignkey(`c4_at3`)references`class4_name`(`c4_at3`)ondeletecascadeonupdatecascade;altertable`assoc10`addconstraint`fk_assoc10_c3_at1`foreignkey(`c3_at1`)references`class3_name`(`c3_at1`)ondeletecascadeonupdatecascade,addconstraint`fk_assoc10_c2_at1`foreignkey(`c2_at1`)references`class2_name`(`c2_at1`)ondeletecascadeonupdatecascade,altertable`assoc5`addconstraint`fk_assoc5_c8_at1`foreignkey(`c8_at1`)references`class8_name`(`c8_at1`)ondeletecascadeonupdatecascade,addconstraint`fk_assoc5_c6_at2`foreignkey(`c6_at2`)references`class6_name`(`c6_at2`)ondeletecascadeonupdatecascade;altertable`class4_name`addconstraint`fk_class4_name_c8_at1`foreignkey(`c8_at1`)references`class8_name`(`c8_at1`)ondeletecascadeonupdatecascade,altertable`assoc9`addconstraint`fk_assoc9_c4_at3`foreignkey(`c4_at3`)references`class4_name`(`c4_at3`)ondeletecascadeonupdatecascade,addconstraint`fk_assoc9_c1_at1`foreignkey(`c1_at1`)references`class1_name`(`c1_at1`)ondeletecascadeonupdatecascade; \n",
            "p,moduleom_name0;opendeclarationonesigclass1_nameextendsclassattrset=c1_at1+c1_at2id=c1_at1noparentisabstract=no}onesigc1_at1extendsc1_at1_typeonesigc1_at2extendsc1_at2_typeonesigclass2_nameextendsclassattrset=c2_at1+c2_at2id=c2_at1noparentisabstract=no}onesigc2_at1extendsc2_at1_typeonesigc2_at1extendsc2_at2_typeonesigclass3_nameextendsclassattrset=c3_at1+c3_at2+c3_at3+c3_at4c3_at5+c3_at6id=c3_at1noparentisabstract=no}onesigc3_at1extendsc3_at1_typeonesigc3_at2extendsc3_at2_typeonesigc3_at3extendsc3_at3_typeonesigc3_at4extendsc3_at4_typeonesigc3_at5extendsc3_at5_typeonesigc3_at6extendsc3_at6_typeonesigclass4_nameextendsclassattrset=c4_at1+c4_at2+c4_at3+c4_at4id=c4_at3noparentisabstract=no}onesigc4_at1extendsc4_at1_typeonesigc4_at2extendsc4_at2_typeonesigc4_at3extendsc4_at3_typeonesigc4_at4extendsc4_at4_typeonesigclass5_nameextendsclassattrset=c5_at1oneparentparentinclass2_nameid=c2_at1isabstract=no}onesigc5_at1extendsc5_at1_typeonesigclass6_nameextendsclassattrset=c6_at1_0+c6_at2+c6_at3+c6_at4id=c6_at2noparentisabstract=no}onesigc6_at1_0extendsc6_at1_typeonesigc6_at2extendsc6_at2_typeonesigc6_at3extendsc6_at3_typeonesigc6_at4extendsc6_at4_typeonesigclass7_nameextendsclassattrset=c7_at1oneparentparentinclass2_nameid=c2_at1isabstract=no}onesigc7_at1extendsc7_at1_typeonesigclass8_nameextendsclassattrset=c8_at1+c8_at2+c2_at2+c6_at3id=c8_at1noparentisabstract=no}onesigc8_at1extendsc8_at1_typeonesigc8_at2extendsc8_at2_typeonesigassoc1extendsassociationsrc=class8_namedst=class2_namesrc_multiplicity=src_mlpcdst_multiplicity=dst_mlpc}onesigassoc2extendsassociationsrc=class2_namedst=class4_namesrc_multiplicity=src_mlpc2dst_multiplicity=dst_mlpc}onesigassoc3extendsassociationsrc=class8_namedst=class3_namesrc_multiplicity=src_mlpcdst_multiplicity=dst_mlpc}onesigassoc4extendsassociationsrc=class8_namedst=class4_namesrc_multiplicity=src_mlpcdst_multiplicity=dst_mlpc}onesigassoc5extendsassociationsrc=class8_namedst=class6_namesrc_multiplicity=src_mlpcdst_multiplicity=dst_mlpc2}onesigassoc6extendsassociationsrc=class6_namedst=class1_namesrc_multiplicity=src_mlpcdst_multiplicity=dst_mlpc2}onesigassoc7extendsassociationsrc=class6_namedst=class4_namesrc_multiplicity=src_mlpcdst_multiplicity=dst_mlpc}onesigassoc8extendsassociationsrc=class1_namedst=class3_namesrc_multiplicity=src_mlpcdst_multiplicity=dst_mlpc}onesigassoc9extendsassociationsrc=class1_namedst=class4_namesrc_multiplicity=src_mlpcdst_multiplicity=dst_mlpc}onesigassoc10extendsassociationsrc=class2_namedst=class3_namesrc_multiplicity=src_mlpcdst_multiplicity=dst_mlpc2}predshowrunshow,mappingstrategyforclass1_name:map_str2mappingstrategyforclass3_name:map_str2mappingstrategyforclass5_name:map_str2mappingstrategyforclass6_name:map_str2mappingstrategyforclass7_name:map_str2associationstrategyforassoc9:assoc_str1associationstrategyforassoc3:assoc_str2associationstrategyforassoc4:assoc_str2associationstrategyforassoc5:assoc_str2associationstrategyforassoc6:assoc_str2associationstrategyforassoc7:assoc_str2associationstrategyforassoc8:assoc_str2associationstrategyforassoc10:assoc_str2,useom_name:0;createtable`class5_name`(c5_at1`c5_at1_type(64),`c2_at1`c2_at1_typenotnull,key`fk_class5_name_c2_at1_idx`(`c2_at1`),primarykey(`c2_at1`)createtable`class2_name`(`c2_at2`c2_at2_type(64),`c8_at1`c8_at1_type,`c2_at1`c2_at1_typenotnull,key`fk_class2_name_c8_at1_idx`(`c8_at1`),primarykey(`c2_at1`)createtable`class6_name`(`c6_at4`c6_at4_type(64),`c6_at1_0`c6_at1_type(64),`c6_at2`c6_at2_typenotnull,primarykey(`c6_at2`)createtable`assoc8`(`c3_at1`c3_at1_typenotnull,`c1_at1`c1_at1_typenotnull,key`fk_assoc8_c3_at1_idx`(`c3_at1`),key`fk_assoc8_c1_at1_idx`(`c1_at1`),primarykey(`c3_at1`,`c1_at1`)createtable`class1_name`(`c1_at2`c1_at2_type(64),`c1_at1`c1_at1_typenotnull,primarykey(`c1_at1`)createtable`class7_name`(`c7_at1`c7_at1_type(64),`c2_at2`c2_at2_type(64),`c2_at1`c2_at1_typenotnull,primarykey(`c2_at1`)createtable`class3_name`(`c3_at6`c3_at6_type,`c3_at5`c3_at5_type,`c3_at4`c3_at4_type,`c3_at3`c3_at3_type,`c3_at2`c3_at2_type,`c3_at1`c3_at1_typenotnull,primarykey(`c3_at1`)createtable`assoc3`(`c8_at1`c8_at1_typenotnull,`c3_at1`c3_at1_typenotnull,key`fk_assoc3_c8_at1_idx`(`c8_at1`),key`fk_assoc3_c3_at1_idx`(`c3_at1`),primarykey(`c8_at1`,`c3_at1`)createtable`assoc2`(`c4_at3`c4_at3_typenotnull,`c2_at1`c2_at1_typenotnull,key`fk_assoc2_c4_at3_idx`(`c4_at3`),key`fk_assoc2_c2_at1_idx`(`c2_at1`),primarykey(`c4_at3`,`c2_at1`)createtable`assoc6`(`c6_at2`c6_at2_typenotnull,`c1_at1`c1_at1_typenotnull,key`fk_assoc6_c6_at2_idx`(`c6_at2`),key`fk_assoc6_c1_at1_idx`(`c1_at1`),primarykey(`c6_at2`,`c1_at1`)createtable`assoc7`(`c6_at2`c6_at2_typenotnull,`c4_at3`c4_at3_typenotnull,key`fk_assoc7_c6_at2_idx`(`c6_at2`),key`fk_assoc7_c4_at3_idx`(`c4_at3`),primarykey(`c6_at2`,`c4_at3`)createtable`assoc10`(`c3_at1`c3_at1_typenotnull,`c2_at1`c2_at1_typenotnull,key`fk_assoc10_c3_at1_idx`(`c3_at1`),key`fk_assoc10_c2_at1_idx`(`c2_at1`),primarykey(`c3_at1`,`c2_at1`)associationstrategyforassoc5:assoc_str2`c8_at1`c8_at1_typenotnull,`c6_at2`c6_at2_typenotnull,key`fk_assoc5_c8_at1_idx`(`c8_at1`),key`fk_assoc5_c6_at2_idx`(`c6_at2`),primarykey(`c8_at1`,`c6_at2`)createtable`class4_name`(`c4_at4`c4_at4_type(64),`c4_at2`c4_at2_type(64),`c4_at1`c4_at1_type(64),`c8_at1`c8_at1_type,`c4_at3`c4_at3_typenotnull,key`fk_class4_name_c8_at1_idx`(`c8_at1`),primarykey(`c4_at3`)createtable`assoc9`(`c4_at3`c4_at3_typenotnull,`c1_at1`c1_at1_typenotnull,key`fk_assoc9_c4_at3_idx`(`c4_at3`),key`fk_assoc9_c1_at1_idx`(`c1_at1`),primarykey(`c4_at3`,`c1_at1`)createtable`class8_name`(`c8_at2`c8_at2_type(64),`c6_at3`c6_at3_type(64),`c8_at1`c8_at1_typenotnull,primarykey(`c8_at1`)altertable`class5_name`addconstraint`fk_class5_name_c2_at1`foreignkey(`c2_at1`)references`class2_name`(`c2_at1`)ondeletecascadeonupdatecascade,altertable`class2_name`addconstraint`fk_class2_name_c8_at1`foreignkey(`c8_at1`)references`class8_name`(`c8_at1`)ondeletecascadeonupdatecascade,altertable`assoc8`addconstraint`fk_assoc8_c3_at1`foreignkey(`c3_at1`)references`class3_name`(`c3_at1`)ondeletecascadeonupdatecascade,addconstraint`fk_assoc8_c1_at1`foreignkey(`c1_at1`)references`class1_name`(`c1_at1`)ondeletecascadeonupdatecascade,altertable`assoc3`addconstraint`fk_assoc3_c8_at1`foreignkey(`c8_at1`)references`class8_name`(`c8_at1`)ondeletecascadeonupdatecascade,addconstraint`fk_assoc3_c3_at1`foreignkey(`c3_at1`)references`class3_name`(`c3_at1`)ondeletecascadeonupdatecascade,altertable`assoc2`addconstraint`fk_assoc2_c4_at3`foreignkey(`c4_at3`)references`class4_name`(`c4_at3`)ondeletecascadeonupdatecascadeaddconstraint`fk_assoc2_c2_at1`foreignkey(`c2_at1`)references`class2_name`(`c2_at1`)ondeletecascadeonupdatecascade,altertable`assoc6`altertable`class7_name`addconstraint`fk_assoc6_c1_at1`foreignkey(`c1_at1`)references`class1_name`(`c1_at1`)ondeletecascadeonupdatecascade,altertable`assoc7`addconstraint`fk_assoc7_c6_at2`foreignkey(`c6_at2`)references`class6_name`(`c6_at2`)ondeletecascadeonupdatecascade,addconstraint`fk_assoc7_c4_at3`foreignkey(`c4_at3`)references`class4_name`(`c4_at3`)ondeletecascadeonupdatecascade;altertable`assoc10`addconstraint`fk_assoc10_c3_at1`foreignkey(`c3_at1`)references`class3_name`(`c3_at1`)ondeletecascadeonupdatecascade,addconstraint`fk_assoc10_c2_at1`foreignkey(`c2_at1`)references`class2_name`(`c2_at1`)ondeletecascadeonupdatecascade,altertable`assoc5`addconstraint`fk_assoc5_c8_at1`foreignkey(`c8_at1`)references`class8_name`(`c8_at1`)ondeletecascadeonupdatecascade,addconstraint`fk_assoc5_c6_at2`foreignkey(`c6_at2`)references`class6_name`(`c6_at2`)ondeletecascadeonupdatecascade;altertable`class4_name`addconstraint`fk_class4_name_c8_at1`foreignkey(`c8_at1`)references`class8_name`(`c8_at1`)ondeletecascadeonupdatecascade,altertable`assoc9`addconstraint`fk_assoc9_c4_at3`foreignkey(`c4_at3`)references`class4_name`(`c4_at3`)ondeletecascadeonupdatecascade,addconstraint`fk_assoc9_c1_at1`foreignkey(`c1_at1`)references`class1_name`(`c1_at1`)ondeletecascadeonupdatecascade; \n",
            "\n",
            "CPU times: user 4.99 s, sys: 102 ms, total: 5.09 s\n",
            "Wall time: 5.01 s\n"
          ]
        }
      ]
    },
    {
      "cell_type": "markdown",
      "source": [
        "# Classification Report (Unseen samples)\n"
      ],
      "metadata": {
        "id": "1t4_2FqbE9da"
      }
    },
    {
      "cell_type": "code",
      "source": [
        "import warnings\n",
        "import numpy as np\n",
        "import pandas as pd\n",
        "import matplotlib.pyplot as plt\n",
        "from sklearn import datasets\n",
        "from sklearn.preprocessing import StandardScaler\n",
        "from sklearn.neighbors import KNeighborsClassifier\n",
        "from sklearn.model_selection import train_test_split, GridSearchCV, cross_val_score, cross_val_predict\n",
        "from sklearn.metrics import confusion_matrix, precision_score, recall_score, f1_score, roc_curve, roc_auc_score\n",
        "from sklearn.metrics import precision_recall_curve, classification_report"
      ],
      "metadata": {
        "id": "fVaZsDnJhkz5"
      },
      "execution_count": 319,
      "outputs": []
    },
    {
      "cell_type": "markdown",
      "source": [
        "### The result is obtained and captured in a separate file, labels are converted to 1 and 0 . Where 1 denotes P and 0 denotes NP. "
      ],
      "metadata": {
        "id": "TbThCFoRhLHs"
      }
    },
    {
      "cell_type": "markdown",
      "source": [
        "###READING the predicted dataset"
      ],
      "metadata": {
        "id": "9Jz3Rt18lUtE"
      }
    },
    {
      "cell_type": "code",
      "source": [
        "dd = pd.read_excel('Customer_Order_authentic_dataset_space_pred_2.xlsx')"
      ],
      "metadata": {
        "id": "jhKnUY4XFCSj"
      },
      "execution_count": 321,
      "outputs": []
    },
    {
      "cell_type": "code",
      "source": [
        "dd.head()"
      ],
      "metadata": {
        "id": "v9M2iW1MGjfM",
        "colab": {
          "base_uri": "https://localhost:8080/",
          "height": 206
        },
        "outputId": "80ca7b75-be11-46d6-8e13-27e7a7921d7e"
      },
      "execution_count": 322,
      "outputs": [
        {
          "output_type": "execute_result",
          "data": {
            "text/plain": [
              "                                          OM_Regular  OM_Prediction\n",
              "0  np,module om_name 0;open declarationone sig cl...              0\n",
              "1  np,module om_name 0;open declarationone sig cl...              0\n",
              "2  p,moduleom_name0;opendeclarationonesigclass1_n...              1\n",
              "3  p,moduleom_name0;opendeclarationonesigclass1_n...              1\n",
              "4  p,moduleom_name0;opendeclarationonesigclass1_n...              1"
            ],
            "text/html": [
              "\n",
              "  <div id=\"df-625c3a56-4738-4162-95af-dcb3575ddf7d\">\n",
              "    <div class=\"colab-df-container\">\n",
              "      <div>\n",
              "<style scoped>\n",
              "    .dataframe tbody tr th:only-of-type {\n",
              "        vertical-align: middle;\n",
              "    }\n",
              "\n",
              "    .dataframe tbody tr th {\n",
              "        vertical-align: top;\n",
              "    }\n",
              "\n",
              "    .dataframe thead th {\n",
              "        text-align: right;\n",
              "    }\n",
              "</style>\n",
              "<table border=\"1\" class=\"dataframe\">\n",
              "  <thead>\n",
              "    <tr style=\"text-align: right;\">\n",
              "      <th></th>\n",
              "      <th>OM_Regular</th>\n",
              "      <th>OM_Prediction</th>\n",
              "    </tr>\n",
              "  </thead>\n",
              "  <tbody>\n",
              "    <tr>\n",
              "      <th>0</th>\n",
              "      <td>np,module om_name 0;open declarationone sig cl...</td>\n",
              "      <td>0</td>\n",
              "    </tr>\n",
              "    <tr>\n",
              "      <th>1</th>\n",
              "      <td>np,module om_name 0;open declarationone sig cl...</td>\n",
              "      <td>0</td>\n",
              "    </tr>\n",
              "    <tr>\n",
              "      <th>2</th>\n",
              "      <td>p,moduleom_name0;opendeclarationonesigclass1_n...</td>\n",
              "      <td>1</td>\n",
              "    </tr>\n",
              "    <tr>\n",
              "      <th>3</th>\n",
              "      <td>p,moduleom_name0;opendeclarationonesigclass1_n...</td>\n",
              "      <td>1</td>\n",
              "    </tr>\n",
              "    <tr>\n",
              "      <th>4</th>\n",
              "      <td>p,moduleom_name0;opendeclarationonesigclass1_n...</td>\n",
              "      <td>1</td>\n",
              "    </tr>\n",
              "  </tbody>\n",
              "</table>\n",
              "</div>\n",
              "      <button class=\"colab-df-convert\" onclick=\"convertToInteractive('df-625c3a56-4738-4162-95af-dcb3575ddf7d')\"\n",
              "              title=\"Convert this dataframe to an interactive table.\"\n",
              "              style=\"display:none;\">\n",
              "        \n",
              "  <svg xmlns=\"http://www.w3.org/2000/svg\" height=\"24px\"viewBox=\"0 0 24 24\"\n",
              "       width=\"24px\">\n",
              "    <path d=\"M0 0h24v24H0V0z\" fill=\"none\"/>\n",
              "    <path d=\"M18.56 5.44l.94 2.06.94-2.06 2.06-.94-2.06-.94-.94-2.06-.94 2.06-2.06.94zm-11 1L8.5 8.5l.94-2.06 2.06-.94-2.06-.94L8.5 2.5l-.94 2.06-2.06.94zm10 10l.94 2.06.94-2.06 2.06-.94-2.06-.94-.94-2.06-.94 2.06-2.06.94z\"/><path d=\"M17.41 7.96l-1.37-1.37c-.4-.4-.92-.59-1.43-.59-.52 0-1.04.2-1.43.59L10.3 9.45l-7.72 7.72c-.78.78-.78 2.05 0 2.83L4 21.41c.39.39.9.59 1.41.59.51 0 1.02-.2 1.41-.59l7.78-7.78 2.81-2.81c.8-.78.8-2.07 0-2.86zM5.41 20L4 18.59l7.72-7.72 1.47 1.35L5.41 20z\"/>\n",
              "  </svg>\n",
              "      </button>\n",
              "      \n",
              "  <style>\n",
              "    .colab-df-container {\n",
              "      display:flex;\n",
              "      flex-wrap:wrap;\n",
              "      gap: 12px;\n",
              "    }\n",
              "\n",
              "    .colab-df-convert {\n",
              "      background-color: #E8F0FE;\n",
              "      border: none;\n",
              "      border-radius: 50%;\n",
              "      cursor: pointer;\n",
              "      display: none;\n",
              "      fill: #1967D2;\n",
              "      height: 32px;\n",
              "      padding: 0 0 0 0;\n",
              "      width: 32px;\n",
              "    }\n",
              "\n",
              "    .colab-df-convert:hover {\n",
              "      background-color: #E2EBFA;\n",
              "      box-shadow: 0px 1px 2px rgba(60, 64, 67, 0.3), 0px 1px 3px 1px rgba(60, 64, 67, 0.15);\n",
              "      fill: #174EA6;\n",
              "    }\n",
              "\n",
              "    [theme=dark] .colab-df-convert {\n",
              "      background-color: #3B4455;\n",
              "      fill: #D2E3FC;\n",
              "    }\n",
              "\n",
              "    [theme=dark] .colab-df-convert:hover {\n",
              "      background-color: #434B5C;\n",
              "      box-shadow: 0px 1px 3px 1px rgba(0, 0, 0, 0.15);\n",
              "      filter: drop-shadow(0px 1px 2px rgba(0, 0, 0, 0.3));\n",
              "      fill: #FFFFFF;\n",
              "    }\n",
              "  </style>\n",
              "\n",
              "      <script>\n",
              "        const buttonEl =\n",
              "          document.querySelector('#df-625c3a56-4738-4162-95af-dcb3575ddf7d button.colab-df-convert');\n",
              "        buttonEl.style.display =\n",
              "          google.colab.kernel.accessAllowed ? 'block' : 'none';\n",
              "\n",
              "        async function convertToInteractive(key) {\n",
              "          const element = document.querySelector('#df-625c3a56-4738-4162-95af-dcb3575ddf7d');\n",
              "          const dataTable =\n",
              "            await google.colab.kernel.invokeFunction('convertToInteractive',\n",
              "                                                     [key], {});\n",
              "          if (!dataTable) return;\n",
              "\n",
              "          const docLinkHtml = 'Like what you see? Visit the ' +\n",
              "            '<a target=\"_blank\" href=https://colab.research.google.com/notebooks/data_table.ipynb>data table notebook</a>'\n",
              "            + ' to learn more about interactive tables.';\n",
              "          element.innerHTML = '';\n",
              "          dataTable['output_type'] = 'display_data';\n",
              "          await google.colab.output.renderOutput(dataTable, element);\n",
              "          const docLink = document.createElement('div');\n",
              "          docLink.innerHTML = docLinkHtml;\n",
              "          element.appendChild(docLink);\n",
              "        }\n",
              "      </script>\n",
              "    </div>\n",
              "  </div>\n",
              "  "
            ]
          },
          "metadata": {},
          "execution_count": 322
        }
      ]
    },
    {
      "cell_type": "code",
      "source": [
        "X_test_pred2 = dd['OM_Regular'].values\n",
        "y_test_pred2 = dd['OM_Prediction'].values"
      ],
      "metadata": {
        "id": "1tO_WHmVHQDR"
      },
      "execution_count": 323,
      "outputs": []
    },
    {
      "cell_type": "markdown",
      "source": [
        "### Printing predicted labels"
      ],
      "metadata": {
        "id": "0nbGKNUjldCp"
      }
    },
    {
      "cell_type": "code",
      "source": [
        "print (y_test_pred2 )"
      ],
      "metadata": {
        "id": "Wy2Fvt1fHYJO",
        "colab": {
          "base_uri": "https://localhost:8080/"
        },
        "outputId": "68a838a8-b8fb-49e2-81d2-f119fe26d430"
      },
      "execution_count": 324,
      "outputs": [
        {
          "output_type": "stream",
          "name": "stdout",
          "text": [
            "[0 0 1 1 1 1 1 1]\n"
          ]
        }
      ]
    },
    {
      "cell_type": "code",
      "source": [
        "precision = precision_score(y_test2, y_test_pred2) \n",
        "print(\"Testing: Precision = %f\" % precision)\n",
        "\n",
        "\n",
        "recall = recall_score(y_test2, y_test_pred2)\n",
        "print(\"Testing: Recall = %f\" % recall)\n",
        "\n",
        "\n",
        "f1 = f1_score(y_test2, y_test_pred2)\n",
        "print(\"Testing: F1 Score = %f\" % f1)\n",
        "\n",
        "print(\"\\nConfusion Matrix (Test Data):\\n\", confusion_matrix(y_test2, y_test_pred2))"
      ],
      "metadata": {
        "id": "w7RY4modHkts",
        "colab": {
          "base_uri": "https://localhost:8080/"
        },
        "outputId": "5550f50b-e84c-4c10-84cf-9d3456b7c6bf"
      },
      "execution_count": 325,
      "outputs": [
        {
          "output_type": "stream",
          "name": "stdout",
          "text": [
            "Testing: Precision = 0.666667\n",
            "Testing: Recall = 0.666667\n",
            "Testing: F1 Score = 0.666667\n",
            "\n",
            "Confusion Matrix (Test Data):\n",
            " [[0 2]\n",
            " [2 4]]\n"
          ]
        }
      ]
    },
    {
      "cell_type": "code",
      "source": [
        "print(classification_report(y_test2,y_test_pred2))"
      ],
      "metadata": {
        "id": "nd3P-TGIIN6b",
        "colab": {
          "base_uri": "https://localhost:8080/"
        },
        "outputId": "8774658e-4b22-4985-c419-03ba4cff88a6"
      },
      "execution_count": 326,
      "outputs": [
        {
          "output_type": "stream",
          "name": "stdout",
          "text": [
            "              precision    recall  f1-score   support\n",
            "\n",
            "           0       0.00      0.00      0.00         2\n",
            "           1       0.67      0.67      0.67         6\n",
            "\n",
            "    accuracy                           0.50         8\n",
            "   macro avg       0.33      0.33      0.33         8\n",
            "weighted avg       0.50      0.50      0.50         8\n",
            "\n"
          ]
        }
      ]
    }
  ],
  "metadata": {
    "accelerator": "GPU",
    "colab": {
      "provenance": []
    },
    "gpuClass": "standard",
    "kernelspec": {
      "display_name": "Python 3 (ipykernel)",
      "language": "python",
      "name": "python3"
    },
    "language_info": {
      "codemirror_mode": {
        "name": "ipython",
        "version": 3
      },
      "file_extension": ".py",
      "mimetype": "text/x-python",
      "name": "python",
      "nbconvert_exporter": "python",
      "pygments_lexer": "ipython3",
      "version": "3.9.12"
    }
  },
  "nbformat": 4,
  "nbformat_minor": 0
}