{
  "cells": [
    {
      "cell_type": "markdown",
      "metadata": {
        "id": "J0Qjg6vuaHNt"
      },
      "source": [
        "\n",
        "# 10_OM_Train_4_OM_Test (University + Decider + CO + OS) _80\n",
        "\n",
        "# P oversample increased to 80%\n",
        "\n",
        "P instances have been increased through oversampling. \n",
        "\n",
        "###12 OM Dataset -  Camping,  Bank, , E-Commerce,  Traffic Controller, Library Management, School OM, Store OM, Student-course , Canteen OM, Hospital Management ,  , \n",
        "\n",
        "###2 OM - Testing - University (Unseen)  + Decider (Unseen) + Online Store + Customer Order\n",
        "\n",
        "## P - NP Distribution \n",
        "\n",
        "### 80% - 20%\n",
        "\n",
        "\n",
        "\n",
        "## Training \n",
        "\n",
        "\n",
        "### Total instances - 30701\n",
        "\n",
        "### P samples - 24560 P \n",
        "### NP samples -  6140 NP\n",
        "\n",
        "## Testing \n",
        "\n",
        "### Total instances - 127\n",
        "\n",
        "### P samples - 32\n",
        "### NP samples - 95\n",
        "\n"
      ]
    },
    {
      "cell_type": "markdown",
      "metadata": {
        "id": "yAmSR1FaqKrl"
      },
      "source": [
        "## Setup (installing necessary libraries)"
      ]
    },
    {
      "cell_type": "code",
      "execution_count": 102,
      "metadata": {
        "id": "DGFTkuRvzWqc"
      },
      "outputs": [],
      "source": [
        "# !pip install \"tensorflow-text>=2.10\"\n",
        "# !pip install einops"
      ]
    },
    {
      "cell_type": "markdown",
      "source": [
        "#Importing Libraries "
      ],
      "metadata": {
        "id": "A07RWC45HcG0"
      }
    },
    {
      "cell_type": "code",
      "execution_count": 9,
      "metadata": {
        "id": "tnxXKDjq3jEL"
      },
      "outputs": [],
      "source": [
        "import numpy as np\n",
        "import typing\n",
        "from typing import Any, Tuple\n",
        "from sklearn.model_selection import train_test_split\n",
        "\n",
        "import pathlib\n",
        "\n",
        "import einops\n",
        "import matplotlib.pyplot as plt\n",
        "import matplotlib.ticker as ticker\n",
        "\n",
        "import tensorflow as tf\n",
        "import tensorflow_text as tf_text"
      ]
    },
    {
      "cell_type": "markdown",
      "source": [
        "#Defining the Shapechecker"
      ],
      "metadata": {
        "id": "h87kqCNBHly5"
      }
    },
    {
      "cell_type": "code",
      "execution_count": 10,
      "metadata": {
        "id": "KqFqKi4fqN9X"
      },
      "outputs": [],
      "source": [
        "#@title\n",
        "class ShapeChecker():\n",
        "  def __init__(self):\n",
        "    # Keep a cache of every axis-name seen\n",
        "    self.shapes = {}\n",
        "\n",
        "  def __call__(self, tensor, names, broadcast=False):\n",
        "    if not tf.executing_eagerly():\n",
        "      return\n",
        "\n",
        "    parsed = einops.parse_shape(tensor, names)\n",
        "\n",
        "    for name, new_dim in parsed.items():\n",
        "      old_dim = self.shapes.get(name, None)\n",
        "      \n",
        "      if (broadcast and new_dim == 1):\n",
        "        continue\n",
        "\n",
        "      if old_dim is None:\n",
        "        # If the axis name is new, add its length to the cache.\n",
        "        self.shapes[name] = new_dim\n",
        "        continue\n",
        "\n",
        "      if new_dim != old_dim:\n",
        "        raise ValueError(f\"Shape mismatch for dimension: '{name}'\\n\"\n",
        "                         f\"    found: {new_dim}\\n\"\n",
        "                         f\"    expected: {old_dim}\\n\")"
      ]
    },
    {
      "cell_type": "markdown",
      "metadata": {
        "id": "dB7rgJDbeBDF"
      },
      "source": [
        "# Loading the Dataset"
      ]
    },
    {
      "cell_type": "code",
      "execution_count": 11,
      "metadata": {
        "id": "daNcrh1lVej7"
      },
      "outputs": [],
      "source": [
        "import pandas as pd\n",
        "ORM_data = pd.read_excel('10_OM_80_label.xlsx')\n"
      ]
    },
    {
      "cell_type": "markdown",
      "source": [
        "#Reading Data from Dataset"
      ],
      "metadata": {
        "id": "KbiGtupGHyJd"
      }
    },
    {
      "cell_type": "code",
      "execution_count": 12,
      "metadata": {
        "colab": {
          "base_uri": "https://localhost:8080/",
          "height": 206
        },
        "id": "ve7kyoOxWY1u",
        "outputId": "34ff79e5-41f9-4192-925d-e15ac85eaee9"
      },
      "outputs": [
        {
          "output_type": "execute_result",
          "data": {
            "text/plain": [
              "                                          OM_Regular  \\\n",
              "0  module OM_name:0,open Declaration  one sig cla...   \n",
              "1  module OM_name:0,open Declaration  one sig cla...   \n",
              "2  module OM_name:0,open Declaration  one sig cla...   \n",
              "3  module OM_name:0,open Declaration  one sig cla...   \n",
              "4  module OM_name:0,open Declaration  one sig cla...   \n",
              "\n",
              "                                       OM_Prediction  \n",
              "0  P, module OM_name:0,open Declaration  one sig ...  \n",
              "1  P, module OM_name:0,open Declaration  one sig ...  \n",
              "2  P, module OM_name:0,open Declaration  one sig ...  \n",
              "3  P, module OM_name:0,open Declaration  one sig ...  \n",
              "4  P, module OM_name:0,open Declaration  one sig ...  "
            ],
            "text/html": [
              "\n",
              "  <div id=\"df-e0f3ec37-9566-4a2d-85a1-6b87d2d4e8b1\">\n",
              "    <div class=\"colab-df-container\">\n",
              "      <div>\n",
              "<style scoped>\n",
              "    .dataframe tbody tr th:only-of-type {\n",
              "        vertical-align: middle;\n",
              "    }\n",
              "\n",
              "    .dataframe tbody tr th {\n",
              "        vertical-align: top;\n",
              "    }\n",
              "\n",
              "    .dataframe thead th {\n",
              "        text-align: right;\n",
              "    }\n",
              "</style>\n",
              "<table border=\"1\" class=\"dataframe\">\n",
              "  <thead>\n",
              "    <tr style=\"text-align: right;\">\n",
              "      <th></th>\n",
              "      <th>OM_Regular</th>\n",
              "      <th>OM_Prediction</th>\n",
              "    </tr>\n",
              "  </thead>\n",
              "  <tbody>\n",
              "    <tr>\n",
              "      <th>0</th>\n",
              "      <td>module OM_name:0,open Declaration  one sig cla...</td>\n",
              "      <td>P, module OM_name:0,open Declaration  one sig ...</td>\n",
              "    </tr>\n",
              "    <tr>\n",
              "      <th>1</th>\n",
              "      <td>module OM_name:0,open Declaration  one sig cla...</td>\n",
              "      <td>P, module OM_name:0,open Declaration  one sig ...</td>\n",
              "    </tr>\n",
              "    <tr>\n",
              "      <th>2</th>\n",
              "      <td>module OM_name:0,open Declaration  one sig cla...</td>\n",
              "      <td>P, module OM_name:0,open Declaration  one sig ...</td>\n",
              "    </tr>\n",
              "    <tr>\n",
              "      <th>3</th>\n",
              "      <td>module OM_name:0,open Declaration  one sig cla...</td>\n",
              "      <td>P, module OM_name:0,open Declaration  one sig ...</td>\n",
              "    </tr>\n",
              "    <tr>\n",
              "      <th>4</th>\n",
              "      <td>module OM_name:0,open Declaration  one sig cla...</td>\n",
              "      <td>P, module OM_name:0,open Declaration  one sig ...</td>\n",
              "    </tr>\n",
              "  </tbody>\n",
              "</table>\n",
              "</div>\n",
              "      <button class=\"colab-df-convert\" onclick=\"convertToInteractive('df-e0f3ec37-9566-4a2d-85a1-6b87d2d4e8b1')\"\n",
              "              title=\"Convert this dataframe to an interactive table.\"\n",
              "              style=\"display:none;\">\n",
              "        \n",
              "  <svg xmlns=\"http://www.w3.org/2000/svg\" height=\"24px\"viewBox=\"0 0 24 24\"\n",
              "       width=\"24px\">\n",
              "    <path d=\"M0 0h24v24H0V0z\" fill=\"none\"/>\n",
              "    <path d=\"M18.56 5.44l.94 2.06.94-2.06 2.06-.94-2.06-.94-.94-2.06-.94 2.06-2.06.94zm-11 1L8.5 8.5l.94-2.06 2.06-.94-2.06-.94L8.5 2.5l-.94 2.06-2.06.94zm10 10l.94 2.06.94-2.06 2.06-.94-2.06-.94-.94-2.06-.94 2.06-2.06.94z\"/><path d=\"M17.41 7.96l-1.37-1.37c-.4-.4-.92-.59-1.43-.59-.52 0-1.04.2-1.43.59L10.3 9.45l-7.72 7.72c-.78.78-.78 2.05 0 2.83L4 21.41c.39.39.9.59 1.41.59.51 0 1.02-.2 1.41-.59l7.78-7.78 2.81-2.81c.8-.78.8-2.07 0-2.86zM5.41 20L4 18.59l7.72-7.72 1.47 1.35L5.41 20z\"/>\n",
              "  </svg>\n",
              "      </button>\n",
              "      \n",
              "  <style>\n",
              "    .colab-df-container {\n",
              "      display:flex;\n",
              "      flex-wrap:wrap;\n",
              "      gap: 12px;\n",
              "    }\n",
              "\n",
              "    .colab-df-convert {\n",
              "      background-color: #E8F0FE;\n",
              "      border: none;\n",
              "      border-radius: 50%;\n",
              "      cursor: pointer;\n",
              "      display: none;\n",
              "      fill: #1967D2;\n",
              "      height: 32px;\n",
              "      padding: 0 0 0 0;\n",
              "      width: 32px;\n",
              "    }\n",
              "\n",
              "    .colab-df-convert:hover {\n",
              "      background-color: #E2EBFA;\n",
              "      box-shadow: 0px 1px 2px rgba(60, 64, 67, 0.3), 0px 1px 3px 1px rgba(60, 64, 67, 0.15);\n",
              "      fill: #174EA6;\n",
              "    }\n",
              "\n",
              "    [theme=dark] .colab-df-convert {\n",
              "      background-color: #3B4455;\n",
              "      fill: #D2E3FC;\n",
              "    }\n",
              "\n",
              "    [theme=dark] .colab-df-convert:hover {\n",
              "      background-color: #434B5C;\n",
              "      box-shadow: 0px 1px 3px 1px rgba(0, 0, 0, 0.15);\n",
              "      filter: drop-shadow(0px 1px 2px rgba(0, 0, 0, 0.3));\n",
              "      fill: #FFFFFF;\n",
              "    }\n",
              "  </style>\n",
              "\n",
              "      <script>\n",
              "        const buttonEl =\n",
              "          document.querySelector('#df-e0f3ec37-9566-4a2d-85a1-6b87d2d4e8b1 button.colab-df-convert');\n",
              "        buttonEl.style.display =\n",
              "          google.colab.kernel.accessAllowed ? 'block' : 'none';\n",
              "\n",
              "        async function convertToInteractive(key) {\n",
              "          const element = document.querySelector('#df-e0f3ec37-9566-4a2d-85a1-6b87d2d4e8b1');\n",
              "          const dataTable =\n",
              "            await google.colab.kernel.invokeFunction('convertToInteractive',\n",
              "                                                     [key], {});\n",
              "          if (!dataTable) return;\n",
              "\n",
              "          const docLinkHtml = 'Like what you see? Visit the ' +\n",
              "            '<a target=\"_blank\" href=https://colab.research.google.com/notebooks/data_table.ipynb>data table notebook</a>'\n",
              "            + ' to learn more about interactive tables.';\n",
              "          element.innerHTML = '';\n",
              "          dataTable['output_type'] = 'display_data';\n",
              "          await google.colab.output.renderOutput(dataTable, element);\n",
              "          const docLink = document.createElement('div');\n",
              "          docLink.innerHTML = docLinkHtml;\n",
              "          element.appendChild(docLink);\n",
              "        }\n",
              "      </script>\n",
              "    </div>\n",
              "  </div>\n",
              "  "
            ]
          },
          "metadata": {},
          "execution_count": 12
        }
      ],
      "source": [
        "ORM_data.head()"
      ]
    },
    {
      "cell_type": "code",
      "execution_count": 13,
      "metadata": {
        "id": "V7OaHrVYV-Xd"
      },
      "outputs": [],
      "source": [
        "OM_Regular = ORM_data['OM_Regular'].values\n",
        "OM_Prediction = ORM_data['OM_Prediction'].values"
      ]
    },
    {
      "cell_type": "code",
      "execution_count": 14,
      "metadata": {
        "id": "jTBVOEjFWAI5"
      },
      "outputs": [],
      "source": [
        "X = OM_Regular\n",
        "Y = OM_Prediction"
      ]
    },
    {
      "cell_type": "markdown",
      "metadata": {
        "id": "YOujEo2geGod"
      },
      "source": [
        "#### Dividing data as Target and Context"
      ]
    },
    {
      "cell_type": "code",
      "execution_count": 101,
      "metadata": {
        "id": "cTbSbBz55QtF"
      },
      "outputs": [],
      "source": [
        "# target_raw =  Y\n",
        "# context_raw = X\n",
        "# print(context_raw[-1])"
      ]
    },
    {
      "cell_type": "code",
      "execution_count": 100,
      "metadata": {
        "id": "lH_dPY8TRp3c"
      },
      "outputs": [],
      "source": [
        "# print(target_raw[-1])"
      ]
    },
    {
      "cell_type": "markdown",
      "metadata": {
        "id": "rgCLkfv5uO3d"
      },
      "source": [
        "### Create a tf.data dataset"
      ]
    },
    {
      "cell_type": "markdown",
      "metadata": {
        "id": "PfVWx3WaI5Df"
      },
      "source": [
        "From these arrays of strings you can create a `tf.data.Dataset` of strings that shuffles and batches them efficiently:"
      ]
    },
    {
      "cell_type": "code",
      "execution_count": 17,
      "metadata": {
        "id": "3rZFgz69nMPa"
      },
      "outputs": [],
      "source": [
        "BUFFER_SIZE = len(context_raw)\n",
        "BATCH_SIZE = 1\n",
        "\n",
        "is_train = np.random.uniform(size=(len(target_raw),)) < 0.8\n",
        "\n",
        "train_raw = (\n",
        "    tf.data.Dataset\n",
        "    .from_tensor_slices((context_raw[is_train], target_raw[is_train]))\n",
        "    .shuffle(BUFFER_SIZE)\n",
        "    .batch(BATCH_SIZE))\n",
        "val_raw = (\n",
        "    tf.data.Dataset\n",
        "    .from_tensor_slices((context_raw[~is_train], target_raw[~is_train]))\n",
        "    .shuffle(BUFFER_SIZE)\n",
        "    .batch(BATCH_SIZE))"
      ]
    },
    {
      "cell_type": "code",
      "execution_count": 99,
      "metadata": {
        "id": "qc6-NK1GtWQt"
      },
      "outputs": [],
      "source": [
        "# for example_context_strings, example_target_strings in train_raw.take(1):\n",
        "#   print(example_context_strings[:5])\n",
        "#   print()\n",
        "#   print(example_target_strings[:5])\n",
        "#   break"
      ]
    },
    {
      "cell_type": "markdown",
      "metadata": {
        "id": "zCoxLcuN3bwv"
      },
      "source": [
        "### Text preprocessing"
      ]
    },
    {
      "cell_type": "markdown",
      "metadata": {
        "id": "7kwdPcHvzz_a"
      },
      "source": [
        "One of the goals of this tutorial is to build a model that can be exported as a `tf.saved_model`. To make that exported model useful it should take `tf.string` inputs, and return `tf.string` outputs: All the text processing happens inside the model. Mainly using a `layers.TextVectorization` layer."
      ]
    },
    {
      "cell_type": "markdown",
      "metadata": {
        "id": "EOQ5n55X4uDB"
      },
      "source": [
        "#### Standardization"
      ]
    },
    {
      "cell_type": "markdown",
      "metadata": {
        "id": "upKhKAMK4zzI"
      },
      "source": [
        "The model is dealing with multilingual text with a limited vocabulary. So it will be important to standardize the input text.\n",
        "\n",
        "The first step is Unicode normalization to split accented characters and replace compatibility characters with their ASCII equivalents.\n",
        "\n",
        "The `tensorflow_text` package contains a unicode normalize operation, We may or may not decide to Use this for ORM data. I kept it in the experiment"
      ]
    },
    {
      "cell_type": "code",
      "execution_count": 98,
      "metadata": {
        "id": "mD0e-DWGQ2Vo"
      },
      "outputs": [],
      "source": [
        "# example_text = tf.constant('moduleOM_nameopenDeclarationonesigclass1_nameextendsClassattrSet=c1_at1+c1_at2id=c1_at1noparentisAbstract=No}onesigc1_at1extendsc1_at1_typeonesigc1_at2extendsc1_at2_typeonesigclass2_nameextendsClassattrSet=c2_at1+c2_at2+c2_at3+c2_at4id=c2_at1noparentisAbstract=No}onesigc2_at1extendsc2_at1_typeonesigc2_at2extendsc2_at2_typeonesigc2_at3extendsc2_at3_typeonesigc2_at4extendsc2_at4_typeonesigclass3_nameextendsClassattrSet=c3_at1+c3_at2+c3_at3+c3_at4id=c3_at1noparentisAbstract=No}onesigc3_at1extendsc3_at1_typeonesigc3_at2extendsc3_at2_typeonesigc3_at3extendsc3_at3_typeonesigc3_at4extendsc3_at4_typeonesigclass4_nameextendsClassattrSet=c4_at1id=c4_at1noparentisAbstract=No}onesigc4_at1extendsc4_at1_typeonesigclass5_nameextendsClassattrSet=c5_at1+c5_at2+c5_at3+c5_at4id=c5_at1noparentisAbstract=No}onesigc5_at1extendsc5_at1_typeonesigc5_at2extendsc5_at2_typeonesigc5_at3extendsc5_at3_typeonesigc5_at4extendsc5_at4_typeonesigclass6_nameextendsClassattrSet=c6_at1+c6_at2+c6_at3+c6_at4id=c6_at1noparentisAbstract=No}onesigc6_at1extendsc6_at1_typeonesigc6_at2extendsc6_at2_typeonesigc6_at3extendsc6_at3_typeonesigc6_at4extendsc6_at4_typeonesigassoc1extendsAssociationsrc=class1_namedst=class5_namesrc_multiplicity=src_mlpcdst_multiplicity=dst_mlpc}onesigassoc2extendsAssociationsrc=class1_namedst=class5_namesrc_multiplicity=src_mlpcdst_multiplicity=dst_mlpc}onesigassoc3extendsAssociationsrc=class4_namedst=class5_namesrc_multiplicity=src_mlpcdst_multiplicity=dst_mlpc}onesigassoc4extendsAssociationsrc=class1_namedst=class6_namesrc_multiplicity=src_mlpcdst_multiplicity=dst_mlpc2}onesigassoc5extendsAssociationsrc=class1_namedst=class3_namesrc_multiplicity=src_mlpcdst_multiplicity=dst_mlpc2}predshowrunshowfor38,​OM_name_Solution:0Table:class1_nameAttributec1_at1:c1_at1_typePrimaryKeyTable:class1_nameAttributec1_at2:c1_at2_typeTable:class2_nameAttributec2_at1:c1_at1_typePrimaryKeyTable:class2_nameAttributec2_at2:c2_at2_typeTable:class2_nameAttributec2_at3:c2_at3_typeTable:class3_nameAttributec3_at1:c3_at1_typePrimaryKeyTable:class3_nameAttributec3_at4:c3_at4_typeTable:class3_nameAttributec3_at2:c3_at2_typeTable:class4_nameAttributec4_at1:c4_at1_typePrimaryKeyTable:class5_nameAttributec5_at3:c5_at3_typeTable:class5_nameAttributec5_at4:c5_at4_typeTable:class6_nameAttributec6_at1:c6_at1_typePrimaryKeyTable:class6_nameAttributec6_at2:c6_at2_typeTable:class6_nameAttributec6_at3:c6_at3_typeTable:class6_nameAttributec6_at4:c6_at4_typeTable:class1_nameAttributec1_at1:c1_at1_typePrimaryKeyTable:class2_nameAttributec2_at1:c1_at1_typePrimaryKeyTable:class3_nameAttributec3_at1:c3_at1_typePrimaryKeyTable:class4_nameAttributec4_at1:c4_at1_typePrimaryKeyTable:class6_nameAttributec6_at1:c6_at1_typePrimaryKeyTableName:class1_nameTableName:class2_nameTableName:class3_nameTableName:class4_nameTableName:class5_nameTableName:class6_nameMappingStrategyofTableclass1_name:map_str2MappingStrategyofTableclass2_name:map_str2MappingStrategyofTableclass3_name:map_str2MappingStrategyofTableclass4_name:map_str2MappingStrategyofTableclass6_name:map_str2AssociationStrategyforassoc1:assoc_type1AssociationStrategyforassoc2:assoc_type1AssociationStrategyforassoc3:assoc_type2AssociationStrategyforassoc4:assoc_type2AssociationStrategyforassoc5:assoc_type2,USEOM_name0----CREATETABLE`assoc1`(`c5_at1`c5_at1_type`c1_at1`c1_at1_typeKEY`FK_assoc1_c5_at1_idx`(`c5_at1`)KEY`FK_assoc1_c1_at1_idx`(`c1_at1`)PRIMARYKEY(`c5_at1``c1_at1`));----CREATETABLE`assoc3``c5_at1`c5_at1_type`c4_at1`c4_at1_typeKEY`FK_assoc3_c5_at1_idx`(`c5_at1`)KEY`FK_assoc3_c4_at1_idx`(`c4_at1`)PRIMARYKEY(`c5_at1``c4_at1`));----CREATETABLE`class5_name`(`c5_at4`c5_at4_type(64)`c5_at3`c5_at3_type(64)`c1_at1`c1_at1_type`c5_at1`c5_at1_typePRIMARYKEY(`c5_at1`));----CREATETABLE`class3_name`(`c3_at3`c3_at3_type(64)`c3_at2`c3_at2_type(64)`c3_at4`c3_at4_type`c3_at1`c3_at1_typeNOTNULLPRIMARYKEY(`c3_at1`));----CREATETABLE`class2_name`(`c2_at3`c2_at3_type(64)`c2_at2`c2_at2_type(64)`c2_at4`c2_at4_type`c2_at1`c2_at1_typePRIMARYKEY(`c2_at1`));----CREATETABLE`class4_name`(`c4_at1`c4_at1_typePRIMARYKEY(`c4_at1`));----CREATETABLE`class1_name`(`c1_at2`c1_at2_type(64)`c1_at1`c1_at1_typePRIMARYKEY(`c1_at1`));----CREATETABLE`class6_name`(`c6_at4`c6_at4_type`c6_at3`c6_at3_type`c6_at2`c6_at2_type`c6_at1`c6_at1_typeNOTNULLPRIMARYKEY(`c6_at1`));----CREATETABLE`assoc2`(`c5_at1`c5_at1_type`c2_at1`c2_at1_typeKEY`FK_assoc2_c5_at1_idx`(`c5_at1`)KEY`FK_assoc2_c2_at1_idx`(`c2_at1`)PRIMARYKEY(`c5_at1``c2_at1`));----CREATETABLE`assoc5`(`c3_at1`c3_at1_typeNOTNULL`c2_at1`c2_at1_typeKEY`FK_assoc5_c3_at1_idx`(`c3_at1`)KEY`FK_assoc5_c2_at1_idx`(`c2_at1`)PRIMARYKEY(`c3_at1``c2_at1`));----CREATETABLE`assoc4`(`c6_at1`c6_at1_typeNOTNULL`c2_at1`c2_at1_typeKEY`FK_assoc4_c6_at1_idx`(`c6_at1`)KEY`FK_assoc4_c2_at1_idx`(`c2_at1`)PRIMARYKEY(`c6_at1``c2_at1`));ALTERTABLE`assoc1`ADDCONSTRAINT`FK_assoc1_c5_at1`FOREIGNKEY(`c5_at1`)REFERENCES`class5_name`(`c5_at1`)ONDELETECASCADEONUPDATECASCADEADDCONSTRAINT`FK_assoc1_c1_at1`FOREIGNKEY(`c1_at1`)REFERENCES`class1_name`(`c1_at1`)ONDELETECASCADEONUPDATECASCADE;ALTERTABLE`assoc3`ADDCONSTRAINT`FK_assoc3_c5_at1`FOREIGNKEY(`c5_at1`)REFERENCES`class5_name`(`c5_at1`)ONDELETECASCADEONUPDATECASCADEADDCONSTRAINT`FK_assoc3_c4_at1`FOREIGNKEY(`c4_at1`)REFERENCES`class4_name`(`c4_at1`)ONDELETECASCADEONUPDATECASCADE;ALTERTABLE`assoc2`ADDCONSTRAINT`FK_assoc2_c5_at1`FOREIGNKEY(`c5_at1`)REFERENCES`class5_name`(`c5_at1`)ONDELETECASCADEONUPDATECASCADEADDCONSTRAINT`FK_assoc2_c2_at1`FOREIGNKEY(`c2_at1`)REFERENCES`class2_name`(`c2_at1`)ONDELETECASCADEONUPDATECASCADEALTERTABLE`assoc5`ADDCONSTRAINT`FK_assoc5_c3_at1`FOREIGNKEY(`c3_at1`)REFERENCES`class3_name`(`c3_at1`)ONDELETECASCADEONUPDATECASCADEADDCONSTRAINT`FK_assoc5_c2_at1`FOREIGNKEY(`c2_at1`)REFERENCES`class2_name`(`c2_at1`)ONDELETECASCADEONUPDATECASCADE;ALTERTABLE`assoc4`ADDCONSTRAINT`FK_assoc4_c6_at1`FOREIGNKEY(`c6_at1`)REFERENCES`class6_name`(`c6_at1`)ONDELETECASCADEONUPDATECASCADEADDCONSTRAINT`FK_assoc4_c2_at1`FOREIGNKEY(`c2_at1`)REFERENCES`class2_name`(`c2_at1`)ONDELETECASCADEONUPDATECASCADE')\n",
        "\n",
        "# #example_text = tf.constant('class1,table2,obj1,atr1')\n",
        "# print(example_text.numpy())\n",
        "# print(tf_text.normalize_utf8(example_text, 'NFKD').numpy())"
      ]
    },
    {
      "cell_type": "code",
      "execution_count": 20,
      "metadata": {
        "id": "chTF5N885F0P"
      },
      "outputs": [],
      "source": [
        "#import re\n",
        "\n",
        "#def tf_lower_and_split_punct(text):\n",
        "\n",
        "def tf_lower_and_split_punct(text):\n",
        "  # Split accented characters.\n",
        "  text = tf_text.normalize_utf8(text, 'NFKD')\n",
        "  text = tf.strings.lower(text)\n",
        "  # Keep space, a to z, and select punctuation.\n",
        "  text = tf.strings.regex_replace(text, '', '')\n",
        "  # Add spaces around punctuation.\n",
        "  text = tf.strings.regex_replace(text, '', r'')\n",
        "  # Strip whitespace.\n",
        "  text = tf.strings.strip(text)\n",
        "\n",
        "  text = tf.strings.join(['[START]', text, '[END]'], separator=' ')\n",
        "  return text\n",
        "\n"
      ]
    },
    {
      "cell_type": "code",
      "execution_count": 97,
      "metadata": {
        "id": "UREvDg3sEKYa"
      },
      "outputs": [],
      "source": [
        "# print(example_text.numpy().decode())\n",
        "# print(tf_lower_and_split_punct(example_text).numpy().decode())"
      ]
    },
    {
      "cell_type": "markdown",
      "metadata": {
        "id": "4q-sKsSI7xRZ"
      },
      "source": [
        "#### Text Vectorization"
      ]
    },
    {
      "cell_type": "markdown",
      "metadata": {
        "id": "6aKn8qd37abi"
      },
      "source": [
        "This standardization function will be wrapped up in a `tf.keras.layers.TextVectorization` layer which will handle the vocabulary extraction and conversion of input text to sequences of tokens."
      ]
    },
    {
      "cell_type": "code",
      "execution_count": 22,
      "metadata": {
        "id": "eAY9k49G3jE_"
      },
      "outputs": [],
      "source": [
        "max_vocab_size = 5000\n",
        "\n",
        "context_text_processor = tf.keras.layers.TextVectorization(\n",
        "    standardize=tf_lower_and_split_punct,\n",
        "    max_tokens=max_vocab_size,\n",
        "    ragged=True)"
      ]
    },
    {
      "cell_type": "markdown",
      "metadata": {
        "id": "7kbC6ODP8IK_"
      },
      "source": [
        "The `TextVectorization` layer and many other [Keras preprocessing layers](https://www.tensorflow.org/guide/keras/preprocessing_layers) have an `adapt` method. This method reads one epoch of the training data, and works a lot like `Model.fit`. This `adapt` method initializes the layer based on the data. Here it determines the vocabulary:"
      ]
    },
    {
      "cell_type": "code",
      "execution_count": 23,
      "metadata": {
        "id": "bmsI1Yql8FYe",
        "colab": {
          "base_uri": "https://localhost:8080/"
        },
        "outputId": "501b8552-f28c-4d5f-d445-27fa5a635f20"
      },
      "outputs": [
        {
          "output_type": "execute_result",
          "data": {
            "text/plain": [
              "['',\n",
              " '[UNK]',\n",
              " 'key',\n",
              " 'one',\n",
              " 'sig',\n",
              " 'extends',\n",
              " '=',\n",
              " 'on',\n",
              " 'table',\n",
              " 'not',\n",
              " 'cascade',\n",
              " 'association',\n",
              " 'strategy',\n",
              " 'for',\n",
              " 'foreign',\n",
              " 'update',\n",
              " 'references',\n",
              " 'delete',\n",
              " 'constraint',\n",
              " 'add',\n",
              " 'parent',\n",
              " ':',\n",
              " 'class',\n",
              " 'attrset',\n",
              " 'is',\n",
              " 'abstract',\n",
              " 'src_multiplicity',\n",
              " 'dst_multiplicity',\n",
              " 'src',\n",
              " 'null,',\n",
              " 'src_mlpc',\n",
              " 'no}',\n",
              " 'c2_at1_type',\n",
              " '(`c2_at1`)',\n",
              " 'primary',\n",
              " '(`c1_at1`)',\n",
              " 'dst_mlpc}',\n",
              " 'assoc_str2',\n",
              " 'null,primary',\n",
              " '=no',\n",
              " 'in',\n",
              " 'null',\n",
              " 'no',\n",
              " '`class2_name`',\n",
              " 'c2_at1',\n",
              " 'c6_at2_type',\n",
              " 'class4_name',\n",
              " '(`c6_at2`)',\n",
              " '(`c3_at1`)',\n",
              " 'c4_at3_type',\n",
              " 'c3_at1_type',\n",
              " '(`c8_at1`)',\n",
              " 'class3_name',\n",
              " 'cascade,alter',\n",
              " 'c1_at1_type',\n",
              " 'mapping',\n",
              " 'cascade;alter',\n",
              " 'alter',\n",
              " '`class4_name`',\n",
              " '`class1_name`',\n",
              " '(`c4_at3`)',\n",
              " 'map_str2mapping',\n",
              " '`class3_name`',\n",
              " '(`c2_at1`)create',\n",
              " ',',\n",
              " '`class8_name`',\n",
              " '`class6_name`',\n",
              " 'class1_name',\n",
              " 'class2_name',\n",
              " 'assoc5',\n",
              " 'cascade,',\n",
              " 'c8_at1_type',\n",
              " 'class6_name',\n",
              " '(`c2_at1`),primary',\n",
              " 'null,`c1_at1`',\n",
              " '=dst_mlpc,}',\n",
              " '(`c1_at1`),primary',\n",
              " 'parent}',\n",
              " '}',\n",
              " 'class2_nameid',\n",
              " 'class8_name',\n",
              " 'cascade;',\n",
              " 'c5_at1',\n",
              " 'class5_name',\n",
              " 'assoc4',\n",
              " 'null,`c2_at1`',\n",
              " 'c7_at1',\n",
              " 'class7_name',\n",
              " 'assoc6',\n",
              " 'assoc3',\n",
              " 'assoc1',\n",
              " 'assoc7',\n",
              " 'assoc9',\n",
              " 'assoc2',\n",
              " 'c8_at1',\n",
              " 'assoc8',\n",
              " '(`c8_at1`),',\n",
              " '=src_mlpc',\n",
              " '`class7_name`',\n",
              " 'c2_at2_type(64),`c2_at1`',\n",
              " '(`c10_at1`)',\n",
              " 'class8_namedst=',\n",
              " 'dst_mlpc2}',\n",
              " 'class6_namedst=',\n",
              " 'class2_namedst=',\n",
              " 'class1_namedst=',\n",
              " '(`c7_at1`)',\n",
              " '`class7_name`(`c7_at1`)',\n",
              " 'assoc_str1',\n",
              " 'class10_namedst=',\n",
              " '(`c8_at1`',\n",
              " '(`c4_at3`',\n",
              " '`assoc1`',\n",
              " '`assoc10`',\n",
              " '(`c6_at2`),',\n",
              " 'assoc10',\n",
              " '`class5_name`',\n",
              " '`assoc9`',\n",
              " 'dst',\n",
              " '`class10_name`',\n",
              " '`assoc2`',\n",
              " '(`c3_at1`',\n",
              " '`assoc8`',\n",
              " '`assoc4`',\n",
              " 'c3_at1',\n",
              " 'module',\n",
              " 'c1_at1',\n",
              " '[START]',\n",
              " '[END]',\n",
              " 'declaration',\n",
              " 'c6_at2',\n",
              " 'c6_at1_type',\n",
              " 'c4_at1',\n",
              " 'c3_at2',\n",
              " '`assoc5`',\n",
              " '(`c4_at3`),',\n",
              " '`assoc7`',\n",
              " '(c10_at1`',\n",
              " '(`c6_at2`),primary',\n",
              " 'c5_at1_type',\n",
              " 'c7_at1_type',\n",
              " 'c9_at1',\n",
              " '=src_mlpc2',\n",
              " '(`c6_at2`',\n",
              " 'id=c7_at1',\n",
              " 'class7_name}',\n",
              " 'dst_mlpc,',\n",
              " '(`c3_at1`),',\n",
              " '`assoc6`',\n",
              " 'c1_at2',\n",
              " 'c6_at3',\n",
              " 'c4_at2',\n",
              " 'c4_at1_type',\n",
              " 'c6_at3_type',\n",
              " 'c4_at4',\n",
              " 'c4_at3',\n",
              " 'c4_at2_type',\n",
              " 'c3_at2_type',\n",
              " 'c3_at5',\n",
              " 'c3_at4_type',\n",
              " 'c3_at4',\n",
              " 'c3_at3_type',\n",
              " 'c3_at3',\n",
              " '`fk_assoc5_c6_at2`',\n",
              " 'c6_at4',\n",
              " 'c6_at1_0',\n",
              " 'c3_at6',\n",
              " 'c3_at5_type',\n",
              " 'om_name:0;create',\n",
              " 'c6_at1_type(64),`c6_at2`',\n",
              " 'c4_at4_type(64),`c4_at2`',\n",
              " 'c4_at2_type(64),`c4_at1`',\n",
              " 'c3_at6_type,`c3_at5`',\n",
              " 'c3_at5_type,`c3_at4`',\n",
              " 'c3_at4_type,`c3_at3`',\n",
              " 'c3_at3_type,`c3_at2`',\n",
              " 'c3_at2_type,`c3_at1`',\n",
              " 'c1_at2_type(64),`c1_at1`',\n",
              " '`fk_assoc5_c6_at2_idx`',\n",
              " '(`c6_at4`',\n",
              " '(`c6_at2`)create',\n",
              " '(`c4_at4`',\n",
              " '(`c3_at1`)create',\n",
              " '(`c1_at2`',\n",
              " '(`c1_at1`)create',\n",
              " 'src_mlpc2',\n",
              " 'assoc_str2,use',\n",
              " '(`c7_at1`',\n",
              " 'class10_name',\n",
              " '(`c6_at2`,`c1_at1`)create',\n",
              " '`class3_name`(`c3_at1`)',\n",
              " '(`c7_at1`),);create',\n",
              " '(`c4_at3`,`c2_at1`)create',\n",
              " 'id=c3_at1',\n",
              " 'c1_at2_type',\n",
              " '(`c3_at1`,`c2_at1`)create',\n",
              " 'c2_at2_type',\n",
              " 'c4_at4_type',\n",
              " 'om_name',\n",
              " 'showrun',\n",
              " 'dst_mlpc2}pred',\n",
              " 'c6_at4_type',\n",
              " 'c6_at1_0+c6_at2+c6_at3+c6_at4id=c6_at2no',\n",
              " 'c4_at1+c4_at2+c4_at3+c4_at4id=c4_at3no',\n",
              " 'c3_at6_type',\n",
              " 'c3_at1+c3_at2+c3_at3+c3_at4c3_at5+c3_at6id=c3_at1no',\n",
              " 'c2_at1+c2_at2id=c2_at1no',\n",
              " 'c1_at1+c1_at2id=c1_at1no',\n",
              " '0;open',\n",
              " 'show,mapping',\n",
              " '(`c4_at3`)create',\n",
              " '`fk_assoc10_c2_at1`',\n",
              " '(`c3_at1`),);create',\n",
              " '`fk_assoc10_c2_at1_idx`',\n",
              " '(`c12_at1`),);create',\n",
              " 'int,',\n",
              " '`fk_assoc1_c2_at1_idx`',\n",
              " '`class9_name`',\n",
              " '`assoc3`',\n",
              " 'class9_name',\n",
              " 'c9_at1_type',\n",
              " 'c10_at2_type',\n",
              " 'c10_at2',\n",
              " 'c10_at1_type',\n",
              " 'c10_at1',\n",
              " ';',\n",
              " 'null,`c4_at3`',\n",
              " '`fk_assoc6_c6_at2_idx`',\n",
              " 'show',\n",
              " 'null`c7_at1`c7_at1_type',\n",
              " 'id=c12_at1',\n",
              " 'class3_name}',\n",
              " 'class12_name}',\n",
              " '`class6_name`(`c6_at1`)',\n",
              " '(`c6_at1`)',\n",
              " '(`c2_at2`',\n",
              " 'fk_assoc5_c6_at1`',\n",
              " '(`c10_at1`),',\n",
              " '`fk_assoc7_c3_at1`',\n",
              " '`fk_assoc2_c2_at1`',\n",
              " 'class4_name,',\n",
              " 'map_str3',\n",
              " '`fk_assoc6_c1_at1`',\n",
              " '`fk_assoc5_c8_at1`',\n",
              " '`fk_assoc2_c4_at3`',\n",
              " '`fk_assoc10_c3_at1`',\n",
              " 'null,`c6_at2`',\n",
              " 'assoc_str2`c8_at1`',\n",
              " '`fk_assoc6_c1_at1_idx`',\n",
              " '`fk_assoc5_c8_at1_idx`',\n",
              " '`fk_assoc2_c4_at3_idx`',\n",
              " '`fk_assoc2_c2_at1_idx`',\n",
              " '`fk_assoc10_c3_at1_idx`',\n",
              " '(`c8_at2`',\n",
              " '(`c3_at1`,`c1_at1`)create',\n",
              " '`class12_name`(`c12_at1`)',\n",
              " '(`c12_at1`)',\n",
              " 'c7_at1_type(64),`c2_at2`',\n",
              " 'c10_at1_type`c6_at2`',\n",
              " '(`c3_at6`',\n",
              " '`class1_name`(`c1_at1`)',\n",
              " 'c6_at4_type(64),`c6_at1_0`',\n",
              " '(c5_at1`',\n",
              " '`fk_assoc1_c2_at1`',\n",
              " '`assoc6`alter',\n",
              " '`fk_assoc8_c1_at1`',\n",
              " '`fk_assoc8_c1_at1_idx`',\n",
              " '`fk_class4_name_c6_at2`',\n",
              " 'c6_at2_type,`c4_at3`',\n",
              " '`fk_class4_name_c6_at2_idx`',\n",
              " '(`c4_at3`),primary',\n",
              " 'class3_name,',\n",
              " '`fk_customerorder',\n",
              " 'c6_at4_type(64),`c6_at3`',\n",
              " 'c6_at3_type(64),`c6_at1_0`',\n",
              " '`fk_class5_name_c2_at1`',\n",
              " '(`c8_at1`,`c6_at2`)create',\n",
              " '`fk_class5_name_c2_at1_idx`',\n",
              " 'c2_at2_type(64),`c8_at1`',\n",
              " '`fk_class3_name_c1_at1`',\n",
              " '`fk_class3_name_c1_at1_idx`',\n",
              " 'c8_at2_type',\n",
              " 'c8_at2',\n",
              " 'c8_at1+c8_at2+c2_at2+c6_at3id=c8_at1no',\n",
              " '`fk_assoc5_c1_at1`',\n",
              " 'c10_at1_typeprimary',\n",
              " 'c10_at1_type`c2_at1`',\n",
              " 'c10_at1+c10_at2+c2_at2+c6_at3id=c10_at1no',\n",
              " 'assoc_str2`c6_at2`',\n",
              " '`fk_assoc9_c3_at1`',\n",
              " '`fk_assoc9_c3_at1_idx`',\n",
              " '`fk_assoc9_c2_at1`',\n",
              " '`fk_assoc9_c2_at1_idx`',\n",
              " '`fk_assoc5_c1_at1_idx`',\n",
              " '`fk_assoc4_c6_at2`',\n",
              " '`fk_assoc4_c6_at2_idx`',\n",
              " '`fk_assoc4_c10_at1`',\n",
              " '`fk_assoc4_c10_at1_idx`',\n",
              " '`fk_assoc1_c4_at3`',\n",
              " '`fk_assoc1_c4_at3_idx`',\n",
              " '(`c9_at1`',\n",
              " '(`c2_at1`)primary',\n",
              " '(`c10_at2`',\n",
              " '(`c10_at1`)create',\n",
              " 'c8_at2_type(64),`c6_at3`',\n",
              " 'c7_at1_type(64),`c2_at1`',\n",
              " '`fk_class7_name_c2_at1`',\n",
              " '`fk_class7_name_c2_at1_idx`',\n",
              " 'class11_name:map_str3',\n",
              " '(`c2_at1`',\n",
              " 'map_str3mapping',\n",
              " '(`c8_at1`),primary',\n",
              " '`fk_assoc7_c7_at1`',\n",
              " '`class01_name`(`c01_at1`)',\n",
              " '(`c01_at1`)',\n",
              " 'use',\n",
              " 'class1_name:map_str2',\n",
              " 'assoc5:assoc_str2',\n",
              " 'om',\n",
              " '_name_0create',\n",
              " '`fk_assoc1_c8_at1`',\n",
              " 'class6_name:map_str2',\n",
              " '`fk_assoc1_c8_at1_idx`',\n",
              " 'run',\n",
              " 'pred',\n",
              " 'assoc7:assoc_str2',\n",
              " 'c6_at1',\n",
              " 'c5_at2_type',\n",
              " 'c5_at2',\n",
              " '=c5_at1+c5_at2',\n",
              " '`fk_class4_name_c1_at1`',\n",
              " 'om_name:0,open',\n",
              " 'null`c6_at1`c6_at1_type',\n",
              " 'null`c3_at1`c3_at1_type',\n",
              " '`fk_class4_name_c1_at1_idx`',\n",
              " 'c2_at1_type,',\n",
              " 'c1_at1_type,',\n",
              " 'fk_assoc8_c7_at1`',\n",
              " '`fk_assoc8_c7_at1_idx`(`c7_at1`)',\n",
              " '`fk_assoc8_c12_at1_idx`(`c12_at1`)',\n",
              " '`fk_assoc7_c7_at1_idx`(`c7_at1`)',\n",
              " '`fk_assoc7_c3_at1_idx`(`c3_at1`)',\n",
              " '`fk_assoc5_c7_at1_idx`(`c7_at1`)',\n",
              " '`fk_assoc5_c6_at1_idx`(`c6_at1`)',\n",
              " '`class8_name`(`c8_at1`c8_at1_type',\n",
              " '`class6_name`(`c7_at1`c7_at1_type(64)`c6_at1`c6_at1_type',\n",
              " '`class2_name`(`c2_at1`c2_at1_type',\n",
              " '`class1_name`(`c1_at1`c1_at1_type',\n",
              " '`class01_name`(`c01_at1`c01_at1_type',\n",
              " '`assoc8`(`c12_at1`c12_at1_type',\n",
              " '`assoc7`(`c7_at1`c7_at1_type',\n",
              " '`assoc5`(`c7_at1`c7_at1_type',\n",
              " 'string',\n",
              " 'src=class7_namesrc=class6_name',\n",
              " 'src=class7_namesrc=class12_name',\n",
              " 'src=class7_namedst=class8_name',\n",
              " 'src=class7_namedst=class3_name',\n",
              " 'src=class1_namedst=class2_name',\n",
              " 'src=class1_namedst=class01_name',\n",
              " 'src=class01_namedst=class3_name',\n",
              " 'integer',\n",
              " 'dst=class2_namedst=class3_name',\n",
              " 'class14_name',\n",
              " 'class13_name',\n",
              " 'class12_name',\n",
              " 'class11_name',\n",
              " 'class01_name',\n",
              " 'c7_at4_type',\n",
              " 'c7_at4',\n",
              " 'c7_at3_type',\n",
              " 'c7_at3',\n",
              " 'c7_at2_type',\n",
              " 'c7_at2',\n",
              " 'c4_at1_type,',\n",
              " 'c3_at2_type,',\n",
              " 'c14_at1_type',\n",
              " 'c14_at1',\n",
              " 'c13_at1_type',\n",
              " 'c13_at1',\n",
              " 'c12_at3_type',\n",
              " 'c12_at3',\n",
              " 'c12_at2_type',\n",
              " 'c12_at2',\n",
              " 'c12_at1_type',\n",
              " 'c12_at1',\n",
              " 'c11_at1',\n",
              " 'c01_at1_type,',\n",
              " 'c01_at1',\n",
              " '`fk_assoc5_c7_at1`',\n",
              " '=c9_at1+c10_at2',\n",
              " '=c8_at1id=c8_at1',\n",
              " '=c7_at1+c7_at2+c7_at3+c7_at4id=c7_at1',\n",
              " '=c6_at1+c6_at2id=categoryid',\n",
              " '=c4_at1',\n",
              " '=c3_at1+c3_at2id=c3_at1',\n",
              " '=c2_at1id=c2_at1',\n",
              " '=c1_at1id=c1_at1',\n",
              " '=c14_at1',\n",
              " '=c13_at1',\n",
              " '=c12_at1+c12_at2+c12_at3id=c12_at1',\n",
              " '=c11_at1',\n",
              " '=c10_at1',\n",
              " '=c01_at1id=c01_at1',\n",
              " 'assoc8:assoc_str2,',\n",
              " '`fk_class10_name_c7_at1`',\n",
              " 'c6_at3_type(64),`c2_at2`',\n",
              " '`fk_assoc9_c4_at3`',\n",
              " '`fk_assoc9_c1_at1`',\n",
              " '`fk_assoc9_c4_at3_idx`',\n",
              " '`fk_assoc9_c1_at1_idx`',\n",
              " '(`c6_at2`,`c4_at3`)create',\n",
              " '(`c8_at1`)create',\n",
              " 'c2_at2_type(64),c10_at1`',\n",
              " 'c5_at1_type(64),`c2_at2`',\n",
              " '`fk_class4_name_c8_at1`',\n",
              " '(`c8_at1`,`c2_at1`)create',\n",
              " 'c4_at1_type(64),`c8_at1`',\n",
              " '`fk_class4_name_c8_at1_idx`',\n",
              " '`class3_name`(`c3_at2`c3_at2_type`c3_at1`c3_at1_type',\n",
              " '(`c10_at1`),primary',\n",
              " '(`c4_at3`,`c1_at1`)create',\n",
              " '(`c4_at3`,`c1_at1`)alter',\n",
              " '`class2_name`(`c2_at1`)',\n",
              " '`fk_productcatalog',\n",
              " 'assoc11',\n",
              " 'class12_name:map_str2',\n",
              " '`fk_assoc3_c3_at1`',\n",
              " '(`c1_at1`),);create',\n",
              " 'id=c2_at1',\n",
              " 'dst_mlpc2,',\n",
              " 'c8_at1_type,`c3_at6`',\n",
              " '`fk_class3_name_c8_at1_idx`',\n",
              " '`class12_name`(`c12_at3`c12_at3_type(64)`c12_at2`c12_at2_type(64)`c12_at1`c12_at1_type',\n",
              " 'map_str2',\n",
              " '`',\n",
              " '(`c8_at1`),);create',\n",
              " 'c10_at2_type(64),`c6_at3`',\n",
              " '(`c2_at1`),create',\n",
              " '(`c6_at1`),);create',\n",
              " '(`c7_at1`,`c6_at1`),);',\n",
              " '(`c7_at1`,`c3_at1`),);create',\n",
              " '(`c2_at1`),);create',\n",
              " '(`c12_at1`,`c7_at1`),);create',\n",
              " '(`c01_at1`),);create',\n",
              " '(`c10_at1`,`c6_at2`)create',\n",
              " 'c10_at1_type`c4_at3`',\n",
              " 'c10_at1_type`c3_at1`',\n",
              " '`assoc2`alter',\n",
              " 'c4_at1_type(64),`c4_at3`',\n",
              " 'assoc3:assoc_str1',\n",
              " 'assoc4:assoc_str1',\n",
              " '`fk_assoc3_c8_at1`',\n",
              " 'null,`c3_at1`',\n",
              " '`fk_assoc3_c8_at1_idx`',\n",
              " '`fk_assoc3_c3_at1_idx`',\n",
              " '(`c8_at1`,`c3_at1`)create',\n",
              " '(`c3_at1`),primary',\n",
              " '`fk_class3_name_c2_at1_idx`(`c2_at1`)',\n",
              " 'class7_name:map_str2',\n",
              " '`fk_class3_name_c01_at1`',\n",
              " '`fk_class3_name_c01_at1_idx`(`c01_at1`)',\n",
              " 'assoc2:assoc_str1',\n",
              " '`fk_class2_name_c1_at1`',\n",
              " '`fk_assoc7_c3_at1_idx`',\n",
              " '`fk_assoc7_c1_at1`',\n",
              " '`fk_assoc7_c1_at1_idx`',\n",
              " 'null`c1_at1`c1_at1_type,',\n",
              " '`fk_class2_name_c1_at1_idx`(`c1_at1`),',\n",
              " '`fk_assoc6_c6_at2`',\n",
              " '`class7_name`(`c7_at3`c7_at3_type(64)`c7_at2`c7_at2_type`c7_at4`c7_at4_type(20,5)`c7_at1`c7_at1_type',\n",
              " '`fk_assoc4_c8_at1`',\n",
              " '`fk_assoc4_c4_at3`',\n",
              " '`fk_assoc4_c8_at1_idx`',\n",
              " '`fk_assoc4_c4_at3_idx`',\n",
              " '(`c7_at1`),create',\n",
              " '`fk_class3_name_c2_at1`',\n",
              " 'null`c2_at1`c2_at1_type`c01_at1`c01_at1_type',\n",
              " '`fk_customershippingcart',\n",
              " 'map_str1mapping',\n",
              " 'c9_at1_type(64),`c2_at1`',\n",
              " '`fk_class9_name_c2_at1`',\n",
              " '`fk_class9_name_c2_at1_idx`',\n",
              " '`fk_assoc7_c6_at2`',\n",
              " '`fk_assoc7_c4_at3`',\n",
              " '`fk_assoc7_c6_at2_idx`',\n",
              " '`fk_assoc7_c4_at3_idx`',\n",
              " '`customerorder',\n",
              " 'c5_at1_type(64),`c2_at1`',\n",
              " '`fk_class8_name_c7_at1`',\n",
              " '`fk_class8_name_c7_at1_idx`(`c7_at1`)',\n",
              " 'c4_at1_type(64),c10_at1`',\n",
              " '`fk_class4_name_c10_at1_idx`',\n",
              " 'c6_at3_type(64),`c8_at1`',\n",
              " '`fk_class4_name_c3_at1`',\n",
              " '`fk_class4_name_c3_at1_idx`(`c3_at1`),',\n",
              " '`class4_name`(`c4_at1`c4_at1_type,`c3_at1`c3_at1_type',\n",
              " 'c8_at1_type(64),`c2_at2`',\n",
              " '`fk_class10_name_c7_at1_idx`(`c7_at1`)',\n",
              " '`class10_name`(`c10_at1`c10_at1_type(64)`c7_at1`c7_at1_type',\n",
              " 'assoc1:assoc_str1']"
            ]
          },
          "metadata": {},
          "execution_count": 23
        }
      ],
      "source": [
        "context_text_processor.adapt(train_raw.map(lambda context, target: context))\n",
        "\n",
        "# Here are the first 10 words from the vocabulary:\n",
        "context_text_processor.get_vocabulary()[:500]"
      ]
    },
    {
      "cell_type": "markdown",
      "metadata": {
        "id": "9kGjIFjX8_Wp"
      },
      "source": [
        "That's the context data  `TextVectorization` layer, now build and `.adapt()` for the Target Data one:"
      ]
    },
    {
      "cell_type": "code",
      "execution_count": 24,
      "metadata": {
        "id": "jlC4xuZnKLBS",
        "colab": {
          "base_uri": "https://localhost:8080/"
        },
        "outputId": "d7458579-6842-448f-c3a3-48227be717ed"
      },
      "outputs": [
        {
          "output_type": "execute_result",
          "data": {
            "text/plain": [
              "['',\n",
              " '[UNK]',\n",
              " 'key',\n",
              " 'one',\n",
              " 'sig',\n",
              " 'extends',\n",
              " '=',\n",
              " 'on',\n",
              " 'table',\n",
              " 'not',\n",
              " 'cascade',\n",
              " 'association',\n",
              " 'strategy',\n",
              " 'for',\n",
              " 'foreign',\n",
              " 'update',\n",
              " 'references',\n",
              " 'delete',\n",
              " 'constraint',\n",
              " 'add',\n",
              " 'parent',\n",
              " ':',\n",
              " 'class',\n",
              " 'attrset',\n",
              " 'is',\n",
              " 'abstract',\n",
              " 'src_multiplicity',\n",
              " 'dst_multiplicity',\n",
              " 'src',\n",
              " 'null,',\n",
              " 'src_mlpc',\n",
              " 'no}',\n",
              " 'c2_at1_type',\n",
              " '(`c2_at1`)',\n",
              " '(`c1_at1`)',\n",
              " 'primary',\n",
              " 'dst_mlpc}',\n",
              " 'assoc_str2',\n",
              " 'null,primary',\n",
              " '=no',\n",
              " 'in',\n",
              " '`class2_name`',\n",
              " 'no',\n",
              " 'null',\n",
              " 'c2_at1',\n",
              " 'c6_at2_type',\n",
              " 'class4_name',\n",
              " '(`c6_at2`)',\n",
              " '(`c3_at1`)',\n",
              " 'c4_at3_type',\n",
              " 'c3_at1_type',\n",
              " '(`c8_at1`)',\n",
              " 'class3_name',\n",
              " 'cascade,alter',\n",
              " 'c1_at1_type',\n",
              " 'mapping',\n",
              " 'cascade;alter',\n",
              " '`class1_name`',\n",
              " '`class4_name`',\n",
              " '(`c4_at3`)',\n",
              " 'alter',\n",
              " 'map_str2mapping',\n",
              " '`class3_name`',\n",
              " '`class8_name`',\n",
              " '(`c2_at1`)create',\n",
              " '`class6_name`',\n",
              " 'class1_name',\n",
              " 'class2_name',\n",
              " 'assoc5',\n",
              " ',',\n",
              " 'c8_at1_type',\n",
              " 'class6_name',\n",
              " '(`c2_at1`),primary',\n",
              " 'cascade,',\n",
              " 'null,`c1_at1`',\n",
              " '=dst_mlpc,}',\n",
              " '(`c1_at1`),primary',\n",
              " 'parent}',\n",
              " '}',\n",
              " 'class2_nameid',\n",
              " 'class8_name',\n",
              " 'c5_at1',\n",
              " 'class5_name',\n",
              " 'assoc4',\n",
              " 'null,`c2_at1`',\n",
              " 'c7_at1',\n",
              " 'class7_name',\n",
              " 'assoc6',\n",
              " 'cascade;',\n",
              " 'assoc3',\n",
              " 'assoc1',\n",
              " 'assoc7',\n",
              " 'assoc9',\n",
              " 'assoc2',\n",
              " 'c8_at1',\n",
              " 'assoc8',\n",
              " '(`c8_at1`),',\n",
              " '=src_mlpc',\n",
              " '`class7_name`',\n",
              " 'c2_at2_type(64),`c2_at1`',\n",
              " '(`c10_at1`)',\n",
              " 'class8_namedst=',\n",
              " '(`c7_at1`)',\n",
              " '`class7_name`(`c7_at1`)',\n",
              " 'dst_mlpc2}',\n",
              " 'class6_namedst=',\n",
              " 'class2_namedst=',\n",
              " 'class1_namedst=',\n",
              " 'assoc_str1',\n",
              " 'class10_namedst=',\n",
              " '(`c8_at1`',\n",
              " '(`c4_at3`',\n",
              " '`assoc1`',\n",
              " '`assoc10`',\n",
              " '(`c6_at2`),',\n",
              " 'assoc10',\n",
              " '`assoc9`',\n",
              " 'dst',\n",
              " '`class5_name`',\n",
              " '`assoc2`',\n",
              " '(`c3_at1`',\n",
              " '`class10_name`',\n",
              " '`assoc8`',\n",
              " '`assoc4`',\n",
              " 'c3_at1',\n",
              " 'module',\n",
              " 'c1_at1',\n",
              " '[START]',\n",
              " '[END]',\n",
              " 'declaration',\n",
              " 'c6_at2',\n",
              " 'c6_at1_type',\n",
              " 'c4_at1',\n",
              " 'c3_at2',\n",
              " '`assoc5`',\n",
              " '(`c4_at3`),',\n",
              " '`assoc7`',\n",
              " '(c10_at1`',\n",
              " '(`c6_at2`),primary',\n",
              " 'c5_at1_type',\n",
              " 'c7_at1_type',\n",
              " 'c9_at1',\n",
              " '=src_mlpc2',\n",
              " '(`c6_at2`',\n",
              " 'id=c7_at1',\n",
              " 'class7_name}',\n",
              " 'dst_mlpc,',\n",
              " '(`c3_at1`),',\n",
              " 'p,',\n",
              " '`assoc6`',\n",
              " 'c1_at2',\n",
              " 'c6_at3',\n",
              " 'c4_at2',\n",
              " 'c4_at1_type',\n",
              " 'c6_at3_type',\n",
              " 'c4_at4',\n",
              " 'c4_at3',\n",
              " 'c4_at2_type',\n",
              " 'c3_at2_type',\n",
              " 'c3_at5',\n",
              " 'c3_at4_type',\n",
              " 'c3_at4',\n",
              " 'c3_at3_type',\n",
              " 'c3_at3',\n",
              " '`fk_assoc5_c6_at2`',\n",
              " 'c6_at4',\n",
              " 'c6_at1_0',\n",
              " 'c3_at6',\n",
              " 'c3_at5_type',\n",
              " 'om_name:0;create',\n",
              " 'c6_at1_type(64),`c6_at2`',\n",
              " 'c4_at4_type(64),`c4_at2`',\n",
              " 'c4_at2_type(64),`c4_at1`',\n",
              " 'c3_at6_type,`c3_at5`',\n",
              " 'c3_at5_type,`c3_at4`',\n",
              " 'c3_at4_type,`c3_at3`',\n",
              " 'c3_at3_type,`c3_at2`',\n",
              " 'c3_at2_type,`c3_at1`',\n",
              " 'c1_at2_type(64),`c1_at1`',\n",
              " '`fk_assoc5_c6_at2_idx`',\n",
              " '(`c6_at4`',\n",
              " '(`c6_at2`)create',\n",
              " '(`c4_at4`',\n",
              " '(`c3_at1`)create',\n",
              " '(`c1_at2`',\n",
              " '(`c1_at1`)create',\n",
              " 'src_mlpc2',\n",
              " 'assoc_str2,use',\n",
              " '(`c7_at1`',\n",
              " 'class10_name',\n",
              " '(`c6_at2`,`c1_at1`)create',\n",
              " '(`c4_at3`,`c2_at1`)create',\n",
              " 'id=c3_at1',\n",
              " '(`c7_at1`),);create',\n",
              " 'c1_at2_type',\n",
              " '(`c3_at1`,`c2_at1`)create',\n",
              " 'c2_at2_type',\n",
              " 'c4_at4_type',\n",
              " 'om_name',\n",
              " 'showrun',\n",
              " 'dst_mlpc2}pred',\n",
              " 'c6_at4_type',\n",
              " 'c6_at1_0+c6_at2+c6_at3+c6_at4id=c6_at2no',\n",
              " 'c4_at1+c4_at2+c4_at3+c4_at4id=c4_at3no',\n",
              " 'c3_at6_type',\n",
              " 'c3_at1+c3_at2+c3_at3+c3_at4c3_at5+c3_at6id=c3_at1no',\n",
              " 'c2_at1+c2_at2id=c2_at1no',\n",
              " 'c1_at1+c1_at2id=c1_at1no',\n",
              " '0;open',\n",
              " 'show,mapping',\n",
              " '(`c4_at3`)create',\n",
              " '(`c3_at1`),);create',\n",
              " '(`c12_at1`),);create',\n",
              " '`fk_assoc10_c2_at1`',\n",
              " '`fk_assoc10_c2_at1_idx`',\n",
              " 'int,',\n",
              " '`fk_assoc1_c2_at1_idx`',\n",
              " '`class9_name`',\n",
              " 'class9_name',\n",
              " 'c9_at1_type',\n",
              " 'c10_at2_type',\n",
              " 'c10_at2',\n",
              " 'c10_at1_type',\n",
              " 'c10_at1',\n",
              " '`class3_name`(`c3_at1`)',\n",
              " '`assoc3`',\n",
              " 'null,`c4_at3`',\n",
              " '`fk_assoc6_c6_at2_idx`',\n",
              " 'show',\n",
              " ';',\n",
              " 'null`c7_at1`c7_at1_type',\n",
              " 'id=c12_at1',\n",
              " 'class3_name}',\n",
              " 'class12_name}',\n",
              " '(`c2_at2`',\n",
              " '`class6_name`(`c6_at1`)',\n",
              " '(`c6_at1`)',\n",
              " '`class1_name`(`c1_at1`)',\n",
              " 'fk_assoc5_c6_at1`',\n",
              " '(`c10_at1`),',\n",
              " '`fk_assoc7_c3_at1`',\n",
              " '`fk_assoc2_c2_at1`',\n",
              " 'class4_name,',\n",
              " 'map_str3',\n",
              " '`fk_assoc6_c1_at1`',\n",
              " '`fk_assoc5_c8_at1`',\n",
              " '`fk_assoc2_c4_at3`',\n",
              " '`fk_assoc10_c3_at1`',\n",
              " 'null,`c6_at2`',\n",
              " 'assoc_str2`c8_at1`',\n",
              " '`fk_assoc6_c1_at1_idx`',\n",
              " '`fk_assoc5_c8_at1_idx`',\n",
              " '`fk_assoc2_c4_at3_idx`',\n",
              " '`fk_assoc2_c2_at1_idx`',\n",
              " '`fk_assoc10_c3_at1_idx`',\n",
              " '(`c8_at2`',\n",
              " '(`c3_at1`,`c1_at1`)create',\n",
              " 'c7_at1_type(64),`c2_at2`',\n",
              " 'c10_at1_type`c6_at2`',\n",
              " '(`c3_at6`',\n",
              " 'c6_at4_type(64),`c6_at1_0`',\n",
              " '`class12_name`(`c12_at1`)',\n",
              " '(`c12_at1`)',\n",
              " '(c5_at1`',\n",
              " '`fk_assoc1_c2_at1`',\n",
              " '`assoc6`alter',\n",
              " '`fk_assoc8_c1_at1`',\n",
              " '`fk_assoc8_c1_at1_idx`',\n",
              " '`fk_class4_name_c6_at2`',\n",
              " 'c6_at2_type,`c4_at3`',\n",
              " '`fk_class4_name_c6_at2_idx`',\n",
              " '(`c4_at3`),primary',\n",
              " 'class3_name,',\n",
              " 'c6_at4_type(64),`c6_at3`',\n",
              " 'c6_at3_type(64),`c6_at1_0`',\n",
              " '`fk_class5_name_c2_at1`',\n",
              " '(`c8_at1`,`c6_at2`)create',\n",
              " '`fk_class5_name_c2_at1_idx`',\n",
              " 'c2_at2_type(64),`c8_at1`',\n",
              " '`fk_class3_name_c1_at1`',\n",
              " '`fk_class3_name_c1_at1_idx`',\n",
              " 'c8_at2_type',\n",
              " 'c8_at2',\n",
              " 'c8_at1+c8_at2+c2_at2+c6_at3id=c8_at1no',\n",
              " '`fk_assoc5_c1_at1`',\n",
              " 'c10_at1_typeprimary',\n",
              " 'c10_at1_type`c2_at1`',\n",
              " 'c10_at1+c10_at2+c2_at2+c6_at3id=c10_at1no',\n",
              " 'assoc_str2`c6_at2`',\n",
              " '`fk_assoc9_c3_at1`',\n",
              " '`fk_assoc9_c3_at1_idx`',\n",
              " '`fk_assoc9_c2_at1`',\n",
              " '`fk_assoc9_c2_at1_idx`',\n",
              " '`fk_assoc5_c1_at1_idx`',\n",
              " '`fk_assoc4_c6_at2`',\n",
              " '`fk_assoc4_c6_at2_idx`',\n",
              " '`fk_assoc4_c10_at1`',\n",
              " '`fk_assoc4_c10_at1_idx`',\n",
              " '`fk_assoc1_c4_at3`',\n",
              " '`fk_assoc1_c4_at3_idx`',\n",
              " '(`c9_at1`',\n",
              " '(`c2_at1`)primary',\n",
              " '(`c10_at2`',\n",
              " '(`c10_at1`)create',\n",
              " 'c8_at2_type(64),`c6_at3`',\n",
              " 'c7_at1_type(64),`c2_at1`',\n",
              " '`fk_class7_name_c2_at1`',\n",
              " '`fk_class7_name_c2_at1_idx`',\n",
              " '(`c2_at1`',\n",
              " 'map_str3mapping',\n",
              " '(`c8_at1`),primary',\n",
              " '`class01_name`(`c01_at1`)',\n",
              " '(`c01_at1`)',\n",
              " 'use',\n",
              " 'om',\n",
              " '_name_0create',\n",
              " 'class1_name:map_str2',\n",
              " 'assoc5:assoc_str2',\n",
              " '`fk_assoc1_c8_at1`',\n",
              " 'class6_name:map_str2',\n",
              " '`fk_assoc1_c8_at1_idx`',\n",
              " 'run',\n",
              " 'pred',\n",
              " '`fk_assoc7_c7_at1`',\n",
              " 'c6_at1',\n",
              " 'assoc7:assoc_str2',\n",
              " 'c5_at2_type',\n",
              " 'c5_at2',\n",
              " '=c5_at1+c5_at2',\n",
              " '`fk_class4_name_c1_at1`',\n",
              " 'om_name:0,open',\n",
              " 'class11_name:map_str3',\n",
              " 'null`c6_at1`c6_at1_type',\n",
              " 'null`c3_at1`c3_at1_type',\n",
              " '`fk_class4_name_c1_at1_idx`',\n",
              " 'c2_at1_type,',\n",
              " 'c1_at1_type,',\n",
              " 'assoc8:assoc_str2,',\n",
              " 'fk_assoc8_c7_at1`',\n",
              " '`fk_assoc8_c7_at1_idx`(`c7_at1`)',\n",
              " '`fk_assoc8_c12_at1_idx`(`c12_at1`)',\n",
              " '`fk_assoc7_c7_at1_idx`(`c7_at1`)',\n",
              " '`fk_assoc7_c3_at1_idx`(`c3_at1`)',\n",
              " '`fk_assoc5_c7_at1_idx`(`c7_at1`)',\n",
              " '`fk_assoc5_c6_at1_idx`(`c6_at1`)',\n",
              " '`class8_name`(`c8_at1`c8_at1_type',\n",
              " '`class6_name`(`c7_at1`c7_at1_type(64)`c6_at1`c6_at1_type',\n",
              " '`class2_name`(`c2_at1`c2_at1_type',\n",
              " '`class1_name`(`c1_at1`c1_at1_type',\n",
              " '`class01_name`(`c01_at1`c01_at1_type',\n",
              " '`assoc8`(`c12_at1`c12_at1_type',\n",
              " '`assoc7`(`c7_at1`c7_at1_type',\n",
              " '`assoc5`(`c7_at1`c7_at1_type',\n",
              " 'string',\n",
              " 'src=class7_namesrc=class6_name',\n",
              " 'src=class7_namesrc=class12_name',\n",
              " 'src=class7_namedst=class8_name',\n",
              " 'src=class7_namedst=class3_name',\n",
              " 'src=class1_namedst=class2_name',\n",
              " 'src=class1_namedst=class01_name',\n",
              " 'src=class01_namedst=class3_name',\n",
              " 'integer',\n",
              " 'dst=class2_namedst=class3_name',\n",
              " 'class14_name',\n",
              " 'class13_name',\n",
              " 'class12_name',\n",
              " 'class11_name',\n",
              " 'class01_name',\n",
              " 'c7_at4_type',\n",
              " 'c7_at4',\n",
              " 'c7_at3_type',\n",
              " 'c7_at3',\n",
              " 'c7_at2_type',\n",
              " 'c7_at2',\n",
              " 'c4_at1_type,',\n",
              " 'c3_at2_type,',\n",
              " 'c14_at1_type',\n",
              " 'c14_at1',\n",
              " 'c13_at1_type',\n",
              " 'c13_at1',\n",
              " 'c12_at3_type',\n",
              " 'c12_at3',\n",
              " 'c12_at2_type',\n",
              " 'c12_at2',\n",
              " 'c12_at1_type',\n",
              " 'c12_at1',\n",
              " 'c11_at1',\n",
              " 'c01_at1_type,',\n",
              " 'c01_at1',\n",
              " '`fk_assoc5_c7_at1`',\n",
              " '=c9_at1+c10_at2',\n",
              " '=c8_at1id=c8_at1',\n",
              " '=c7_at1+c7_at2+c7_at3+c7_at4id=c7_at1',\n",
              " '=c6_at1+c6_at2id=categoryid',\n",
              " '=c4_at1',\n",
              " '=c3_at1+c3_at2id=c3_at1',\n",
              " '=c2_at1id=c2_at1',\n",
              " '=c1_at1id=c1_at1',\n",
              " '=c14_at1',\n",
              " '=c13_at1',\n",
              " '=c12_at1+c12_at2+c12_at3id=c12_at1',\n",
              " '=c11_at1',\n",
              " '=c10_at1',\n",
              " '=c01_at1id=c01_at1',\n",
              " 'c6_at3_type(64),`c2_at2`',\n",
              " '`fk_assoc9_c4_at3`',\n",
              " '`fk_assoc9_c1_at1`',\n",
              " '`fk_assoc9_c4_at3_idx`',\n",
              " '`fk_assoc9_c1_at1_idx`',\n",
              " '(`c6_at2`,`c4_at3`)create',\n",
              " '(`c8_at1`)create',\n",
              " 'c2_at2_type(64),c10_at1`',\n",
              " 'np,',\n",
              " '`class3_name`(`c3_at2`c3_at2_type`c3_at1`c3_at1_type',\n",
              " 'c5_at1_type(64),`c2_at2`',\n",
              " '`fk_class4_name_c8_at1`',\n",
              " '(`c8_at1`,`c2_at1`)create',\n",
              " '`fk_class10_name_c7_at1`',\n",
              " 'c4_at1_type(64),`c8_at1`',\n",
              " '`fk_class4_name_c8_at1_idx`',\n",
              " '(`c10_at1`),primary',\n",
              " '(`c4_at3`,`c1_at1`)create',\n",
              " '`class2_name`(`c2_at1`)',\n",
              " 'class12_name:map_str2',\n",
              " '(`c4_at3`,`c1_at1`)alter',\n",
              " 'assoc11',\n",
              " '`class12_name`(`c12_at3`c12_at3_type(64)`c12_at2`c12_at2_type(64)`c12_at1`c12_at1_type',\n",
              " 'assoc1:assoc_str1',\n",
              " '(`c1_at1`),);create',\n",
              " 'assoc2:assoc_str1',\n",
              " 'id=c2_at1',\n",
              " 'dst_mlpc2,',\n",
              " 'c8_at1_type,`c3_at6`',\n",
              " '`fk_class3_name_c8_at1_idx`',\n",
              " '`fk_class2_name_c1_at1`',\n",
              " 'null`c1_at1`c1_at1_type,',\n",
              " '`fk_class2_name_c1_at1_idx`(`c1_at1`),',\n",
              " 'map_str2',\n",
              " '(`c8_at1`),);create',\n",
              " 'c10_at2_type(64),`c6_at3`',\n",
              " '`fk_assoc3_c3_at1`',\n",
              " '(`c2_at1`),create',\n",
              " 'null,`c1_at1`c1_at1_type,',\n",
              " '`fk_class01_name_c1_at1`',\n",
              " '`fk_class01_name_c1_at1_idx`(`c1_at1`),',\n",
              " '`class01_name`',\n",
              " 'assoc3:assoc_str1',\n",
              " '(`c6_at1`),);create',\n",
              " '(`c7_at1`,`c6_at1`),);',\n",
              " '(`c7_at1`,`c3_at1`),);create',\n",
              " '(`c2_at1`),);create',\n",
              " '(`c12_at1`,`c7_at1`),);create',\n",
              " '(`c01_at1`),);create',\n",
              " 'assoc4:assoc_str1',\n",
              " '(`c10_at1`,`c6_at2`)create',\n",
              " 'c10_at1_type`c4_at3`',\n",
              " '`fk_class3_name_c2_at1_idx`(`c2_at1`)',\n",
              " 'c10_at1_type`c3_at1`',\n",
              " '`assoc2`alter',\n",
              " 'c4_at1_type(64),`c4_at3`',\n",
              " '`fk_class3_name_c01_at1`',\n",
              " '`fk_class3_name_c01_at1_idx`(`c01_at1`)',\n",
              " '`fk_assoc3_c8_at1`',\n",
              " 'null,`c3_at1`',\n",
              " '`fk_assoc3_c8_at1_idx`',\n",
              " '`fk_assoc3_c3_at1_idx`',\n",
              " '(`c8_at1`,`c3_at1`)create',\n",
              " '(`c3_at1`),primary',\n",
              " '`fk_class8_name_c7_at1`',\n",
              " '`fk_class8_name_c7_at1_idx`(`c7_at1`)',\n",
              " 'class7_name:map_str2',\n",
              " '`fk_assoc7_c3_at1_idx`',\n",
              " '`fk_assoc7_c1_at1`',\n",
              " '`fk_assoc7_c1_at1_idx`',\n",
              " '`fk_class13_name_c12_at1`',\n",
              " '`fk_class13_name_c12_at1_idx`(`c12_at1`)',\n",
              " '`class13_name`(`c13_at1`c13_at1_type(64)`c12_at1`c12_at1_type',\n",
              " '`class13_name`',\n",
              " '`fk_assoc6_c6_at2`',\n",
              " '`fk_class3_name_c2_at1`',\n",
              " 'null`c2_at1`c2_at1_type`c01_at1`c01_at1_type',\n",
              " '`fk_assoc4_c8_at1`',\n",
              " '`fk_assoc4_c4_at3`',\n",
              " '`fk_assoc4_c8_at1_idx`',\n",
              " '`fk_assoc4_c4_at3_idx`',\n",
              " 'assoc6:assoc_str1',\n",
              " '`class7_name`(`c7_at3`c7_at3_type(64)`c7_at2`c7_at2_type`c7_at4`c7_at4_type(20,5)`c7_at1`c7_at1_type',\n",
              " '(`c7_at1`),create',\n",
              " 'map_str1mapping',\n",
              " 'c9_at1_type(64),`c2_at1`',\n",
              " '`fk_class9_name_c2_at1`',\n",
              " '`fk_class9_name_c2_at1_idx`',\n",
              " '`fk_assoc7_c6_at2`',\n",
              " '`fk_assoc7_c4_at3`',\n",
              " '`fk_assoc7_c6_at2_idx`',\n",
              " '`fk_assoc7_c4_at3_idx`',\n",
              " 'c5_at1_type(64),`c2_at1`',\n",
              " 'c4_at1_type(64),c10_at1`',\n",
              " '`fk_class4_name_c10_at1_idx`',\n",
              " 'c6_at3_type(64),`c8_at1`']"
            ]
          },
          "metadata": {},
          "execution_count": 24
        }
      ],
      "source": [
        "target_text_processor = tf.keras.layers.TextVectorization(\n",
        "    standardize=tf_lower_and_split_punct,\n",
        "    max_tokens=max_vocab_size,\n",
        "    ragged=True)\n",
        "\n",
        "target_text_processor.adapt(train_raw.map(lambda context, target: target))\n",
        "target_text_processor.get_vocabulary()[:500]"
      ]
    },
    {
      "cell_type": "markdown",
      "metadata": {
        "id": "BWQqlP_s9eIv"
      },
      "source": [
        "Now these layers can convert a batch of strings into a batch of token IDs:"
      ]
    },
    {
      "cell_type": "code",
      "execution_count": 25,
      "metadata": {
        "colab": {
          "base_uri": "https://localhost:8080/"
        },
        "id": "9KZxj8IrNZ9S",
        "outputId": "448686c5-cbed-42f2-b718-70591605c73c"
      },
      "outputs": [
        {
          "output_type": "execute_result",
          "data": {
            "text/plain": [
              "<tf.RaggedTensor [[127, 125, 198, ..., 15, 81, 128]]>"
            ]
          },
          "metadata": {},
          "execution_count": 25
        }
      ],
      "source": [
        "example_tokens = context_text_processor(example_context_strings)\n",
        "example_tokens[:3, :]"
      ]
    },
    {
      "cell_type": "markdown",
      "metadata": {
        "id": "AA9rUn9G9n78"
      },
      "source": [
        "The `get_vocabulary` method can be used to convert token IDs back to text:"
      ]
    },
    {
      "cell_type": "code",
      "execution_count": 26,
      "metadata": {
        "id": "98g9rcxGQY0I",
        "colab": {
          "base_uri": "https://localhost:8080/",
          "height": 108
        },
        "outputId": "f3baef73-36d6-43f8-f068-0b6897bfe10a"
      },
      "outputs": [
        {
          "output_type": "execute_result",
          "data": {
            "text/plain": [
              "\"[START] module om_name 0;open declaration one sig class1_name extends class attrset = c1_at1+c1_at2id=c1_at1no parent is abstract = no} one sig c1_at1 extends c1_at1_type one sig c1_at2 extends c1_at2_type one sig class2_name extends class attrset = c2_at1+c2_at2id=c2_at1no parent is abstract = no} one sig c2_at1 extends c2_at1_type one sig c2_at1 extends c2_at2_type one sig class3_name extends class attrset = c3_at1+c3_at2+c3_at3+c3_at4c3_at5+c3_at6id=c3_at1no parent is abstract = no} one sig c3_at1 extends c3_at1_type one sig c3_at2 extends c3_at2_type one sig c3_at3 extends c3_at3_type one sig c3_at4 extends c3_at4_type one sig c3_at5 extends c3_at5_type one sig c3_at6 extends c3_at6_type one sig class4_name extends class attrset = c4_at1+c4_at2+c4_at3+c4_at4id=c4_at3no parent is abstract = no} one sig c4_at1 extends c4_at1_type one sig c4_at2 extends c4_at2_type one sig c4_at3 extends c4_at3_type one sig c4_at4 extends c4_at4_type one sig class5_name extends class attrset = c5_at1 one parent parent in class2_nameid = c2_at1 is abstract = no} one sig c5_at1 extends c5_at1_type one sig class6_name extends class attrset = c6_at1_0+c6_at2+c6_at3+c6_at4id=c6_at2no parent is abstract = no} one sig c6_at1_0 extends c6_at1_type one sig c6_at2 extends c6_at2_type one sig c6_at3 extends c6_at3_type one sig c6_at4 extends c6_at4_type one sig class7_name extends class attrset = c7_at1 one parent parent in class2_nameid = c2_at1 is abstract = no} one sig c7_at1 extends c7_at1_type one sig class8_name extends class attrset = c8_at1 one parent parent in class2_nameid = c2_at1 is abstract = no} one sig c8_at1 extends c8_at1_type one sig class9_name extends class attrset = c9_at1 one parent parent in class2_nameid = c2_at1 is abstract = no} one sig c9_at1 extends c9_at1_type one sig class10_name extends class attrset = c10_at1+c10_at2+c2_at2+c6_at3id=c10_at1no parent is abstract = no} one sig c10_at1 extends c10_at1_type one sig c10_at2 extends c10_at2_type one sig assoc10 extends association src = class10_namedst= class2_name src_multiplicity = src_mlpc dst_multiplicity = dst_mlpc} one sig assoc1 extends association src = class2_namedst= class4_name src_multiplicity = src_mlpc2 dst_multiplicity = dst_mlpc} one sig assoc2 extends association src = class10_namedst= class3_name src_multiplicity = src_mlpc dst_multiplicity = dst_mlpc} one sig assoc3 extends association src = class10_namedst= class4_name src_multiplicity = src_mlpc dst_multiplicity = dst_mlpc} one sig assoc4 extends association src = class10_namedst= class6_name src_multiplicity = src_mlpc dst_multiplicity = dst_mlpc2} one sig assoc5 extends association src = class6_namedst= class1_name src_multiplicity = src_mlpc dst_multiplicity = dst_mlpc2} one sig assoc6 extends association src = class6_namedst= class4_name src_multiplicity = src_mlpc dst_multiplicity = dst_mlpc} one sig assoc7 extends association src = class1_namedst= class3_name src_multiplicity = src_mlpc dst_multiplicity = dst_mlpc} one sig assoc8 extends association src = class1_namedst= class4_name src_multiplicity = src_mlpc dst_multiplicity = dst_mlpc} one sig assoc9 extends association src = class2_namedst= class3_name src_multiplicity = src_mlpc dst_multiplicity = dst_mlpc2}pred showrun show,mapping strategy for class1_name : map_str2mapping strategy for class3_name : map_str2mapping strategy for class5_name : map_str2mapping strategy for class6_name : map_str2mapping strategy for class7_name : map_str2mapping strategy for class8_name : map_str2mapping strategy for class10_name : map_str2 association strategy for assoc1 : assoc_str2 association strategy for assoc2 : assoc_str2 association strategy for assoc3 : assoc_str2 association strategy for assoc4 : assoc_str2 association strategy for assoc5 : assoc_str2 association strategy for assoc6 : assoc_str2 association strategy for assoc7 : assoc_str2 association strategy for assoc9 : assoc_str2,use om_name:0;create table `class7_name` (`c7_at1` c7_at1_type(64),`c2_at1` c2_at1_type not null, key `fk_class7_name_c2_at1_idx` (`c2_at1`),primary key (`c2_at1`)create table `class5_name` (c5_at1` c5_at1_type(64),`c2_at2` c2_at2_type(64),`c2_at1` c2_at1_type not null,primary key (`c2_at1`)create table `class2_name` (`c2_at2` c2_at2_type(64),`c2_at1` c2_at1_type not null,primary key (`c2_at1`)create table `assoc10` (c10_at1` c10_at1_type`c2_at1` c2_at1_type not null, key `fk_assoc10_c2_at1_idx` (`c2_at1`),create table `class3_name` (`c3_at6` c3_at6_type,`c3_at5` c3_at5_type,`c3_at4` c3_at4_type,`c3_at3` c3_at3_type,`c3_at2` c3_at2_type,`c3_at1` c3_at1_type not null,primary key (`c3_at1`)create table `class1_name` (`c1_at2` c1_at2_type(64),`c1_at1` c1_at1_type not null,primary key (`c1_at1`)create table `assoc7` (`c3_at1` c3_at1_type not null,`c1_at1` c1_at1_type not null, key `fk_assoc7_c3_at1_idx` (`c3_at1`), key `fk_assoc7_c1_at1_idx` (`c1_at1`),primary key (`c3_at1`,`c1_at1`)create table `class6_name` (`c6_at4` c6_at4_type(64),`c6_at3` c6_at3_type(64),`c6_at1_0` c6_at1_type(64),`c6_at2` c6_at2_type not null,primary key (`c6_at2`)create table `assoc1` (`c4_at3` c4_at3_type not null,`c2_at1` c2_at1_type not null, key `fk_assoc1_c4_at3_idx` (`c4_at3`), key `fk_assoc1_c2_at1_idx` (`c2_at1`),primary key (`c4_at3`,`c2_at1`)create table `assoc4` (c10_at1` c10_at1_type`c6_at2` c6_at2_type not null, key `fk_assoc4_c10_at1_idx` (`c10_at1`), key `fk_assoc4_c6_at2_idx` (`c6_at2`),primary key (`c10_at1`,`c6_at2`)create table `assoc2` (c10_at1` c10_at1_type`c3_at1` c3_at1_type not null, association strategy for assoc5 : assoc_str2`c6_at2` c6_at2_type not null,`c1_at1` c1_at1_type not null, key `fk_assoc5_c6_at2_idx` (`c6_at2`), key `fk_assoc5_c1_at1_idx` (`c1_at1`),primary key (`c6_at2`,`c1_at1`)create table `assoc6` (`c6_at2` c6_at2_type not null,`c4_at3` c4_at3_type not null, key `fk_assoc6_c6_at2_idx` (`c6_at2`), key `fk_assoc6_c4_at3_idx` (`c4_at3`),'primary key (`c6_at2`,`c4_at3`)create table `class10_name` (`c10_at2` c10_at2_type(64),`c6_at3` c6_at3_type(64),c10_at1` c10_at1_typeprimary key (`c10_at1`)create table `class4_name` (`c4_at4` c4_at4_type(64),`c4_at2` c4_at2_type(64),`c4_at1` c4_at1_type(64),c10_at1` c10_at1_type`c4_at3` c4_at3_type not null,`c1_at1` int, key `fk_class4_name_c10_at1_idx` (`c10_at1`), key `fk_class4_name_c1_at1_idx` (`c1_at1`),primary key (`c4_at3`)create table `assoc9` (`c3_at1` c3_at1_type not null,`c2_at1` c2_at1_type not null, key `fk_assoc9_c3_at1_idx` (`c3_at1`) key `fk_assoc9_c2_at1_idx` (`c2_at1`)primary key (`c3_at1`,`c2_at1`)create table `class9_name` (`c9_at1` c9_at1_type(64),`c2_at1` c2_at1_type not null, key `fk_class9_name_c2_at1_idx` (`c2_at1`),primary key (`c2_at1`)create table `class8_name` (`c8_at1` c8_at1_type(64),`c2_at2` c2_at2_type(64),`c2_at1` c2_at1_type not null,primary key (`c2_at1`)alter table `class7_name` add constraint `fk_class7_name_c2_at1` foreign key (`c2_at1`) references `class2_name` (`c2_at1`) on delete cascade on update cascade,alter table `assoc10` add constraint `fk_assoc10_c2_at1` foreign key (`c2_at1`) references `class2_name` (`c2_at1`) on delete cascade on update cascade,alter table `assoc7` add constraint `fk_assoc7_c3_at1` foreign key (`c3_at1`) references `class3_name` (`c3_at1`) on delete cascade on update cascade; add constraint `fk_assoc7_c1_at1` foreign key (`c1_at1`) references `class1_name` (`c1_at1`) on delete cascade on update cascade;alter table `assoc1` add constraint `fk_assoc1_c4_at3` foreign key (`c4_at3`) references `class4_name` (`c4_at3`) on delete cascade on update cascade; add constraint `fk_assoc1_c2_at1` foreign key (`c2_at1`) references `class2_name` (`c2_at1`) on delete cascade on update cascade;alter table `assoc4` add constraint `fk_assoc4_c10_at1` foreign key (`c10_at1`) references `class10_name` (`c10_at1`) on delete cascade on update cascade; add constraint `fk_assoc4_c6_at2` foreign key (`c6_at2`) references `class6_name` (`c6_at2`) on delete cascade on update cascade;alter table `assoc2`alter table `assoc5` add constraint `fk_assoc5_c6_at2` foreign key (`c6_at2`) references `class6_name` (`c6_at2`) on delete cascade on update cascade; add constraint `fk_assoc5_c1_at1` foreign key (`c1_at1`) references `class1_name` (`c1_at1`) on delete cascade on update cascade;alter table `assoc6`alter table `class7_name` add constraint `fk_assoc6_c4_at3` foreign key (`c4_at3`) references `class4_name` (`c1_at1`) on delete cascade on update cascade;alter table `class4_name` add constraint `fk_class4_name_c10_at1` foreign key (`c10_at1`) references `class10_name` (`c10_at1`) on delete cascade on update cascade; add constraint `fk_class4_name_c1_at1` foreign key (`c1_at1`) references `class1_name` (`c1_at1`) on delete cascade on update cascade,alter table `assoc9` add constraint `fk_assoc9_c3_at1` foreign key (`c3_at1`) references `class3_name` (`c3_at1`) on delete cascade on update cascade; add constraint `fk_assoc9_c2_at1` foreign key (`c2_at1`) references `class2_name` (`c2_at1`) on delete cascade on update cascade;alter table `class9_name` add constraint `fk_class9_name_c2_at1` foreign key (`c2_at1`) references `class2_name` (`c2_at1`) on delete cascade on update cascade; [END]\""
            ],
            "application/vnd.google.colaboratory.intrinsic+json": {
              "type": "string"
            }
          },
          "metadata": {},
          "execution_count": 26
        }
      ],
      "source": [
        "context_vocab = np.array(context_text_processor.get_vocabulary())\n",
        "tokens = context_vocab[example_tokens[0].numpy()]\n",
        "' '.join(tokens)"
      ]
    },
    {
      "cell_type": "markdown",
      "metadata": {
        "id": "Ot0aCL9t-Ghi"
      },
      "source": [
        "The returned token IDs are zero-padded. This can easily be turned into a mask:"
      ]
    },
    {
      "cell_type": "code",
      "execution_count": 27,
      "metadata": {
        "colab": {
          "base_uri": "https://localhost:8080/",
          "height": 470
        },
        "id": "_jx4Or_eFRSz",
        "outputId": "b877f2df-55bf-4e42-b6bf-0c05238c3acd"
      },
      "outputs": [
        {
          "output_type": "execute_result",
          "data": {
            "text/plain": [
              "Text(0.5, 1.0, 'Mask')"
            ]
          },
          "metadata": {},
          "execution_count": 27
        },
        {
          "output_type": "display_data",
          "data": {
            "text/plain": [
              "<Figure size 640x480 with 2 Axes>"
            ],
            "image/png": "[encoded data removed]"
          },
          "metadata": {}
        }
      ],
      "source": [
        "plt.subplot(1, 2, 1)\n",
        "plt.pcolormesh(example_tokens.to_tensor())\n",
        "plt.title('Token IDs')\n",
        "\n",
        "plt.subplot(1, 2, 2)\n",
        "plt.pcolormesh(example_tokens.to_tensor() != 0)\n",
        "plt.title('Mask')"
      ]
    },
    {
      "cell_type": "markdown",
      "metadata": {
        "id": "3O0B4XdFlRgc"
      },
      "source": [
        "### Process the dataset\n",
        "\n"
      ]
    },
    {
      "cell_type": "markdown",
      "metadata": {
        "id": "rVCuyuSp_whd"
      },
      "source": [
        "The `process_text` function below converts the `Datasets` of strings, into  0-padded tensors of token IDs. It also converts from a `(context, target)` pair to an `((context, target_in), target_out)` pair for training with `keras.Model.fit`. Keras expects `(inputs, labels)` pairs, the inputs are the `(context, target_in)` and the labels are `target_out`. The difference between `target_in` and `target_out` is that they are shifted by one step relative to eachother, so that at each location the label is the next token."
      ]
    },
    {
      "cell_type": "code",
      "execution_count": 28,
      "metadata": {
        "id": "wk5tbZWQl5u1"
      },
      "outputs": [],
      "source": [
        "def process_text(context, target):\n",
        "  context = context_text_processor(context).to_tensor()\n",
        "  target = target_text_processor(target)\n",
        "  targ_in = target[:,:-1].to_tensor()\n",
        "  targ_out = target[:,1:].to_tensor()\n",
        "  return (context, targ_in), targ_out\n",
        "\n",
        "\n",
        "train_ds = train_raw.map(process_text, tf.data.AUTOTUNE)\n",
        "val_ds = val_raw.map(process_text, tf.data.AUTOTUNE)"
      ]
    },
    {
      "cell_type": "markdown",
      "metadata": {
        "id": "4iGi7X2m_tbM"
      },
      "source": [
        "Here is the first sequence of each, from the first batch:"
      ]
    },
    {
      "cell_type": "code",
      "execution_count": 29,
      "metadata": {
        "colab": {
          "base_uri": "https://localhost:8080/"
        },
        "id": "woQBWAjLsJkr",
        "outputId": "b9322aa5-3e0d-42f4-8ff1-b6239e7b7e56"
      },
      "outputs": [
        {
          "output_type": "stream",
          "name": "stdout",
          "text": [
            "[127 125 198 208 129   3   4  67   5  22]\n",
            "\n",
            "[127 412 125 198 208 129   3   4  66   5]\n",
            "[412 125 198 208 129   3   4  66   5  22]\n"
          ]
        }
      ],
      "source": [
        "for (ex_context_tok, ex_tar_in), ex_tar_out in train_ds.take(1):\n",
        "  print(ex_context_tok[0, :10].numpy()) \n",
        "  print()\n",
        "  print(ex_tar_in[0, :10].numpy()) \n",
        "  print(ex_tar_out[0, :10].numpy()) "
      ]
    },
    {
      "cell_type": "markdown",
      "metadata": {
        "id": "TNfHIF71ulLu"
      },
      "source": [
        "## The encoder/decoder\n",
        "\n",
        "  <th colspan=1>This tutorial's model</th>\n",
        "<tr>\n",
        "</table>\n"
      ]
    },
    {
      "cell_type": "markdown",
      "metadata": {
        "id": "gzQWx2saImMV"
      },
      "source": [
        "Before getting into it define constants for the model:"
      ]
    },
    {
      "cell_type": "code",
      "execution_count": 30,
      "metadata": {
        "id": "_a9uNz3-IrF-"
      },
      "outputs": [],
      "source": [
        "UNITS = 256"
      ]
    },
    {
      "cell_type": "markdown",
      "metadata": {
        "id": "blNgVbLSzpsr"
      },
      "source": [
        "### The encoder\n",
        "\n",
        "\n",
        "The encoder:\n",
        "\n",
        "1. Takes a list of token IDs (from `context_text_processor`).\n",
        "3. Looks up an embedding vector for each token (Using a `layers.Embedding`).\n",
        "4. Processes the embeddings into a new sequence (Using a bidirectional `layers.GRU`).\n",
        "5. Returns the processed sequence. This will be passed to the attention head."
      ]
    },
    {
      "cell_type": "code",
      "execution_count": 31,
      "metadata": {
        "id": "nZ2rI24i3jFg"
      },
      "outputs": [],
      "source": [
        "class Encoder(tf.keras.layers.Layer):\n",
        "  def __init__(self, text_processor, units):\n",
        "    super(Encoder, self).__init__()\n",
        "    self.text_processor = text_processor\n",
        "    self.vocab_size = text_processor.vocabulary_size()\n",
        "    self.units = units\n",
        "    \n",
        "    # The embedding layer converts tokens to vectors\n",
        "    self.embedding = tf.keras.layers.Embedding(self.vocab_size, units,\n",
        "                                               mask_zero=True)\n",
        "\n",
        "    # The RNN layer processes those vectors sequentially.\n",
        "    self.rnn = tf.keras.layers.Bidirectional(\n",
        "        merge_mode='sum',\n",
        "        layer=tf.keras.layers.GRU(units,\n",
        "                            # Return the sequence and state\n",
        "                            return_sequences=True,\n",
        "                            recurrent_initializer='glorot_uniform'))\n",
        "\n",
        "  def call(self, x):\n",
        "    shape_checker = ShapeChecker()\n",
        "    shape_checker(x, 'batch s')\n",
        "\n",
        "    # 2. The embedding layer looks up the embedding vector for each token.\n",
        "    x = self.embedding(x)\n",
        "    shape_checker(x, 'batch s units')\n",
        "\n",
        "    # 3. The GRU processes the sequence of embeddings.\n",
        "    x = self.rnn(x)\n",
        "    shape_checker(x, 'batch s units')\n",
        "\n",
        "    # 4. Returns the new sequence of embeddings.\n",
        "    return x\n",
        "\n",
        "  def convert_input(self, texts):\n",
        "    texts = tf.convert_to_tensor(texts)\n",
        "    if len(texts.shape) == 0:\n",
        "      texts = tf.convert_to_tensor(texts)[tf.newaxis]\n",
        "    context = self.text_processor(texts).to_tensor()\n",
        "    context = self(context)\n",
        "    return context"
      ]
    },
    {
      "cell_type": "code",
      "execution_count": 32,
      "metadata": {
        "colab": {
          "base_uri": "https://localhost:8080/"
        },
        "id": "60gSVh05Jl6l",
        "outputId": "c8bf92f5-e51e-4ffe-d37a-51c57f8c5bd5"
      },
      "outputs": [
        {
          "output_type": "stream",
          "name": "stdout",
          "text": [
            "Context tokens, shape (batch, s): (1, 931)\n",
            "Encoder output, shape (batch, s, units): (1, 931, 256)\n"
          ]
        }
      ],
      "source": [
        "# Encode the input sequence.\n",
        "encoder = Encoder(context_text_processor, UNITS)\n",
        "ex_context = encoder(ex_context_tok)\n",
        "\n",
        "print(f'Context tokens, shape (batch, s): {ex_context_tok.shape}')\n",
        "print(f'Encoder output, shape (batch, s, units): {ex_context.shape}')"
      ]
    },
    {
      "cell_type": "markdown",
      "metadata": {
        "id": "45xM_Gl1MgXY"
      },
      "source": [
        "### The attention layer\n",
        "\n",
        "The attention layer lets the decoder access the information extracted by the encoder. It computes a vector from the entire context sequence, and adds that to the decoder's output. \n"
      ]
    },
    {
      "cell_type": "code",
      "execution_count": 33,
      "metadata": {
        "id": "-Ql3ymqwD8LS"
      },
      "outputs": [],
      "source": [
        "class CrossAttention(tf.keras.layers.Layer):\n",
        "  def __init__(self, units, **kwargs):\n",
        "    super().__init__()\n",
        "    self.mha = tf.keras.layers.MultiHeadAttention(key_dim=units, num_heads=1, **kwargs)\n",
        "    self.layernorm = tf.keras.layers.LayerNormalization()\n",
        "    self.add = tf.keras.layers.Add()\n",
        "\n",
        "  def call(self, x, context):\n",
        "    shape_checker = ShapeChecker()\n",
        " \n",
        "    shape_checker(x, 'batch t units')\n",
        "    shape_checker(context, 'batch s units')\n",
        "\n",
        "    attn_output, attn_scores = self.mha(\n",
        "       query=x,\n",
        "       value=context,\n",
        "      return_attention_scores=True)\n",
        "    \n",
        "    shape_checker(x, 'batch t units')\n",
        "    shape_checker(attn_scores, 'batch heads t s')\n",
        "    \n",
        "  #Cache the attention scores for plotting later.\n",
        "    attn_scores = tf.reduce_mean(attn_scores, axis=1)\n",
        "    shape_checker(attn_scores, 'batch t s')\n",
        "    self.last_attention_weights = attn_scores\n",
        "\n",
        "    x = self.add([x, attn_output])\n",
        "    x = self.layernorm(x)\n",
        "\n",
        "    return x"
      ]
    },
    {
      "cell_type": "markdown",
      "source": [],
      "metadata": {
        "id": "bRzduCU4tGN6"
      }
    },
    {
      "cell_type": "code",
      "source": [
        "attention_layer = CrossAttention(UNITS)\n",
        "\n",
        "# Attend to the encoded tokens\n",
        "embed = tf.keras.layers.Embedding(target_text_processor.vocabulary_size(),\n",
        "                                 output_dim=UNITS, mask_zero=True)\n",
        "ex_tar_embed = embed(ex_tar_in)\n",
        "\n",
        "result = attention_layer(ex_tar_embed, ex_context)\n",
        "\n",
        "print(f'Context sequence, shape (batch, s, units): {ex_context.shape}')\n",
        "print(f'Target sequence, shape (batch, t, units): {ex_tar_embed.shape}')\n",
        "print(f'Attention result, shape (batch, t, units): {result.shape}')\n",
        "print(f'Attention weights, shape (batch, t, s):    {attention_layer.last_attention_weights.shape}')"
      ],
      "metadata": {
        "colab": {
          "base_uri": "https://localhost:8080/"
        },
        "id": "VVLdvss3zN4v",
        "outputId": "4e717d90-b20f-4aac-f558-afa843158809"
      },
      "execution_count": 34,
      "outputs": [
        {
          "output_type": "stream",
          "name": "stdout",
          "text": [
            "Context sequence, shape (batch, s, units): (1, 931, 256)\n",
            "Target sequence, shape (batch, t, units): (1, 931, 256)\n",
            "Attention result, shape (batch, t, units): (1, 931, 256)\n",
            "Attention weights, shape (batch, t, s):    (1, 931, 931)\n"
          ]
        }
      ]
    },
    {
      "cell_type": "markdown",
      "source": [],
      "metadata": {
        "id": "d14A2DcPtQhS"
      }
    },
    {
      "cell_type": "markdown",
      "metadata": {
        "id": "vx9fUhi3Pmwp"
      },
      "source": [
        "The attention weights will sum to `1` over the context sequence, at each location in the target sequence."
      ]
    },
    {
      "cell_type": "code",
      "execution_count": 35,
      "metadata": {
        "colab": {
          "base_uri": "https://localhost:8080/"
        },
        "id": "zxyR7cmQPn9P",
        "outputId": "e6d2b01b-bab3-4e03-a8c8-fdbc6ee300bf"
      },
      "outputs": [
        {
          "output_type": "execute_result",
          "data": {
            "text/plain": [
              "array([1.        , 1.        , 1.        , 1.        , 1.0000001 ,\n",
              "       1.        , 1.        , 1.        , 1.        , 1.        ,\n",
              "       1.        , 1.        , 1.        , 1.        , 1.        ,\n",
              "       1.        , 0.99999994, 1.        , 0.9999999 , 1.        ,\n",
              "       1.        , 1.        , 1.        , 1.        , 1.        ,\n",
              "       1.        , 0.99999994, 1.        , 1.        , 1.        ,\n",
              "       1.        , 1.        , 1.        , 1.        , 1.        ,\n",
              "       1.        , 1.        , 1.        , 1.        , 0.99999994,\n",
              "       1.        , 0.9999999 , 1.        , 1.        , 1.        ,\n",
              "       1.        , 1.        , 1.        , 1.        , 1.        ,\n",
              "       1.        , 1.        , 1.        , 1.        , 1.        ,\n",
              "       1.        , 1.        , 1.        , 1.        , 1.        ,\n",
              "       1.        , 1.        , 0.99999994, 1.        , 0.9999999 ,\n",
              "       1.        , 1.        , 0.99999994, 1.        , 0.99999994,\n",
              "       1.        , 1.        , 0.99999994, 1.        , 1.        ,\n",
              "       1.        , 1.        , 1.        , 1.        , 1.        ,\n",
              "       1.        , 1.        , 1.        , 1.        , 0.99999994,\n",
              "       1.        , 1.        , 1.        , 1.        , 1.        ,\n",
              "       1.        , 1.        , 1.        , 1.        , 0.99999994,\n",
              "       1.        , 1.        , 1.        , 1.        , 1.        ,\n",
              "       1.        , 1.        , 1.        , 1.        , 1.        ,\n",
              "       0.99999994, 1.        , 0.9999999 , 1.        , 1.        ,\n",
              "       1.        , 1.        , 1.        , 1.        , 1.        ,\n",
              "       1.        , 1.        , 1.        , 1.        , 1.        ,\n",
              "       1.        , 1.        , 1.        , 1.        , 1.        ,\n",
              "       1.        , 1.        , 0.99999994, 1.        , 1.        ,\n",
              "       1.        , 1.        , 1.        , 1.        , 1.        ,\n",
              "       0.99999994, 1.        , 1.        , 1.        , 1.        ,\n",
              "       1.        , 1.        , 1.        , 1.        , 0.99999994,\n",
              "       1.        , 0.9999999 , 1.        , 1.        , 0.99999994,\n",
              "       1.        , 1.        , 1.        , 1.        , 1.        ,\n",
              "       1.        , 1.        , 1.        , 1.        , 1.        ,\n",
              "       1.        , 1.        , 0.99999994, 1.        , 0.9999999 ,\n",
              "       1.        , 1.        , 1.        , 1.        , 1.        ,\n",
              "       1.        , 1.        , 0.99999994, 1.        , 1.        ,\n",
              "       1.        , 1.        , 1.        , 1.        , 1.        ,\n",
              "       1.        , 1.        , 1.        , 1.        , 1.        ,\n",
              "       1.        , 1.        , 1.        , 1.        , 1.        ,\n",
              "       1.        , 1.        , 1.        , 1.        , 1.        ,\n",
              "       1.        , 1.        , 1.        , 1.        , 1.        ,\n",
              "       1.        , 0.99999994, 1.        , 0.9999999 , 1.        ,\n",
              "       1.        , 1.        , 1.        , 1.        , 1.        ,\n",
              "       1.        , 1.        , 1.        , 1.        , 1.        ,\n",
              "       1.        , 1.        , 1.        , 1.        , 0.99999994,\n",
              "       1.        , 0.9999999 , 1.        , 1.        , 1.        ,\n",
              "       1.        , 1.        , 1.        , 1.        , 0.99999994,\n",
              "       1.        , 0.99999994, 1.        , 1.        , 1.        ,\n",
              "       1.        , 1.        , 1.        , 1.        , 1.        ,\n",
              "       1.        , 1.        , 1.        , 1.        , 1.        ,\n",
              "       1.        , 1.        , 1.        , 1.        , 1.        ,\n",
              "       1.        , 1.        , 1.        , 1.        , 0.99999994,\n",
              "       1.        , 1.        , 1.        , 1.        , 1.        ,\n",
              "       1.        , 1.        , 1.        , 1.        , 1.        ,\n",
              "       1.        , 1.        , 1.        , 1.        , 1.        ,\n",
              "       1.        , 1.        , 1.        , 1.        , 1.        ,\n",
              "       1.        , 1.        , 1.        , 1.        , 1.        ,\n",
              "       1.        , 1.        , 1.        , 1.        , 1.        ,\n",
              "       1.        , 1.        , 1.        , 1.        , 1.        ,\n",
              "       1.        , 1.        , 1.        , 1.        , 1.        ,\n",
              "       1.        , 1.        , 1.        , 1.        , 1.        ,\n",
              "       1.        , 1.        , 1.        , 1.        , 1.        ,\n",
              "       1.        , 1.        , 1.        , 1.        , 1.        ,\n",
              "       1.        , 1.        , 1.        , 1.        , 1.0000001 ,\n",
              "       1.        , 1.        , 1.        , 1.        , 1.        ,\n",
              "       1.        , 1.        , 1.        , 1.        , 1.        ,\n",
              "       1.        , 1.        , 1.        , 1.        , 1.0000001 ,\n",
              "       1.        , 1.        , 1.        , 1.        , 1.        ,\n",
              "       1.        , 1.        , 1.        , 1.        , 1.        ,\n",
              "       1.        , 1.        , 1.        , 1.        , 1.0000001 ,\n",
              "       1.        , 1.        , 1.        , 1.        , 1.        ,\n",
              "       1.        , 1.        , 1.        , 1.        , 1.        ,\n",
              "       1.        , 1.        , 1.        , 1.        , 1.0000001 ,\n",
              "       1.        , 1.        , 1.        , 1.        , 1.        ,\n",
              "       1.        , 1.        , 1.        , 1.        , 1.        ,\n",
              "       1.        , 1.        , 1.        , 1.        , 0.99999994,\n",
              "       1.        , 1.        , 1.        , 1.        , 1.        ,\n",
              "       1.        , 1.        , 1.        , 1.0000001 , 1.        ,\n",
              "       1.        , 1.        , 1.        , 1.        , 1.        ,\n",
              "       1.        , 1.        , 1.        , 1.        , 1.        ,\n",
              "       1.        , 1.        , 1.        , 1.        , 1.        ,\n",
              "       1.        , 1.        , 1.        , 1.        , 1.        ,\n",
              "       1.        , 1.        , 1.        , 1.        , 1.        ,\n",
              "       1.        , 1.        , 1.        , 1.        , 1.        ,\n",
              "       1.        , 1.        , 1.        , 1.        , 1.        ,\n",
              "       1.        , 1.        , 1.        , 1.        , 1.        ,\n",
              "       1.        , 1.        , 1.        , 1.        , 1.        ,\n",
              "       1.        , 1.        , 1.        , 1.        , 1.        ,\n",
              "       1.        , 1.        , 1.        , 1.        , 1.        ,\n",
              "       1.        , 1.        , 1.        , 1.        , 1.        ,\n",
              "       1.        , 1.        , 1.        , 1.        , 1.        ,\n",
              "       1.        , 1.        , 1.        , 1.        , 1.        ,\n",
              "       1.        , 1.        , 1.        , 1.        , 1.        ,\n",
              "       1.        , 1.        , 1.        , 1.        , 0.99999994,\n",
              "       1.        , 1.        , 1.        , 1.        , 1.        ,\n",
              "       1.        , 1.0000001 , 1.        , 1.        , 1.0000001 ,\n",
              "       1.        , 1.        , 1.        , 1.        , 1.        ,\n",
              "       1.        , 1.        , 1.        , 0.9999999 , 1.0000001 ,\n",
              "       1.        , 1.        , 1.        , 1.        , 1.        ,\n",
              "       1.        , 1.        , 1.        , 1.        , 0.9999999 ,\n",
              "       1.0000001 , 0.9999999 , 1.        , 1.        , 0.99999994,\n",
              "       1.        , 1.        , 1.        , 1.        , 1.0000001 ,\n",
              "       1.        , 1.        , 1.0000001 , 1.        , 1.        ,\n",
              "       1.        , 1.        , 1.        , 1.        , 1.        ,\n",
              "       1.        , 1.        , 0.99999994, 1.        , 1.        ,\n",
              "       1.        , 1.0000001 , 1.        , 1.        , 1.0000001 ,\n",
              "       1.        , 1.        , 1.        , 0.99999994, 1.        ,\n",
              "       1.        , 0.99999994, 0.99999994, 1.        , 1.        ,\n",
              "       1.0000001 , 1.        , 0.99999994, 1.0000001 , 1.        ,\n",
              "       1.        , 1.0000001 , 1.        , 1.        , 1.        ,\n",
              "       1.        , 0.99999994, 1.0000001 , 1.        , 1.        ,\n",
              "       0.9999999 , 1.0000001 , 1.        , 1.        , 1.        ,\n",
              "       0.99999994, 1.        , 1.        , 1.        , 0.9999999 ,\n",
              "       1.0000001 , 1.        , 1.        , 0.99999994, 1.        ,\n",
              "       1.        , 1.        , 1.        , 1.        , 1.        ,\n",
              "       1.        , 1.0000001 , 1.        , 1.        , 1.0000001 ,\n",
              "       0.99999994, 1.        , 1.0000001 , 1.        , 1.        ,\n",
              "       1.        , 0.99999994, 1.        , 1.        , 1.        ,\n",
              "       1.        , 1.        , 1.        , 1.0000001 , 1.        ,\n",
              "       0.99999994, 1.0000001 , 1.        , 1.        , 1.0000001 ,\n",
              "       1.        , 1.        , 1.        , 1.        , 1.        ,\n",
              "       1.        , 1.        , 1.        , 1.        , 1.        ,\n",
              "       1.        , 1.        , 1.        , 1.0000001 , 1.        ,\n",
              "       0.99999994, 1.0000001 , 1.        , 1.        , 1.0000001 ,\n",
              "       1.        , 1.        , 1.        , 0.99999994, 1.        ,\n",
              "       1.        , 1.        , 1.        , 1.        , 1.        ,\n",
              "       1.0000001 , 1.        , 1.        , 1.0000001 , 1.        ,\n",
              "       1.        , 1.0000001 , 1.        , 1.        , 1.        ,\n",
              "       0.99999994, 0.99999994, 1.        , 1.        , 1.        ,\n",
              "       1.        , 1.        , 1.0000001 , 1.        , 0.99999994,\n",
              "       1.0000001 , 1.        , 1.        , 1.0000001 , 1.        ,\n",
              "       1.        , 1.        , 1.        , 1.        , 1.        ,\n",
              "       0.99999994, 1.        , 1.        , 1.        , 1.        ,\n",
              "       1.        , 1.0000001 , 1.        , 1.        , 1.0000001 ,\n",
              "       1.        , 1.        , 1.0000001 , 0.99999994, 1.        ,\n",
              "       1.        , 1.        , 1.        , 1.        , 1.        ,\n",
              "       1.0000001 , 1.        , 0.99999994, 1.        , 1.        ,\n",
              "       1.        , 1.        , 1.        , 1.        , 1.        ,\n",
              "       0.99999994, 1.        , 1.        , 1.        , 1.        ,\n",
              "       1.        , 1.        , 1.0000001 , 1.        , 0.99999994,\n",
              "       1.        , 1.        , 1.        , 1.        , 1.        ,\n",
              "       1.        , 1.        , 0.99999994, 1.        , 1.        ,\n",
              "       1.        , 1.        , 1.        , 1.        , 1.0000001 ,\n",
              "       1.        , 0.99999994, 1.        , 1.        , 1.        ,\n",
              "       1.        , 1.        , 1.        , 1.        , 0.99999994,\n",
              "       1.        , 1.        , 1.        , 1.        , 1.        ,\n",
              "       1.        , 1.0000001 , 1.        , 0.99999994, 1.        ,\n",
              "       1.        , 1.        , 1.        , 1.        , 1.        ,\n",
              "       1.        , 1.        , 1.        , 1.        , 1.        ,\n",
              "       1.        , 1.0000001 , 0.99999994, 0.99999994, 1.        ,\n",
              "       0.99999994, 1.        , 1.        , 1.        , 1.        ,\n",
              "       1.        , 0.99999994, 1.        , 1.        , 1.        ,\n",
              "       1.        , 1.        , 1.        , 1.        , 1.        ,\n",
              "       1.0000001 , 1.        , 0.99999994, 1.        , 1.        ,\n",
              "       1.        , 1.        , 1.        , 1.        , 1.        ,\n",
              "       0.99999994, 1.        , 1.        , 1.        , 1.        ,\n",
              "       1.        , 1.        , 1.0000001 , 1.        , 0.99999994,\n",
              "       1.        , 1.        , 1.        , 1.        , 1.        ,\n",
              "       1.        , 1.        , 1.        , 1.        , 1.        ,\n",
              "       1.        , 1.        , 1.0000001 , 1.        , 0.99999994,\n",
              "       1.        , 1.        , 1.        , 1.        , 1.        ,\n",
              "       1.        , 1.        , 1.        , 1.        , 1.        ,\n",
              "       1.        , 1.        , 1.        , 1.        , 1.0000001 ,\n",
              "       1.        , 0.99999994, 1.        , 1.        , 1.        ,\n",
              "       1.        , 1.        , 1.        , 1.        , 1.        ,\n",
              "       1.        , 1.        , 1.        , 1.        , 1.0000001 ,\n",
              "       1.        , 0.99999994, 1.        , 1.        , 1.        ,\n",
              "       1.        , 1.        , 1.        , 1.        , 1.        ,\n",
              "       1.        , 1.        , 1.        , 1.        , 0.99999994,\n",
              "       1.        , 1.0000001 , 1.        , 0.99999994, 1.        ,\n",
              "       1.        , 1.        , 1.        , 1.        , 1.        ,\n",
              "       1.        , 1.        , 1.        , 1.        , 1.        ,\n",
              "       1.        , 1.0000001 , 1.        , 0.99999994, 1.        ,\n",
              "       1.        , 1.        , 1.        , 1.        , 1.        ,\n",
              "       1.        , 0.99999994, 1.        , 1.        , 1.        ,\n",
              "       1.        , 1.        , 1.        , 1.0000001 , 0.99999994,\n",
              "       0.99999994, 1.        , 0.99999994, 1.        , 1.        ,\n",
              "       1.        , 1.        , 1.        , 1.        , 1.        ,\n",
              "       1.        , 1.        , 1.        , 1.0000001 , 1.        ,\n",
              "       0.99999994, 1.        , 1.        , 1.        , 1.        ,\n",
              "       1.        , 1.        , 1.        , 0.99999994, 1.        ,\n",
              "       1.        , 1.        , 1.        , 0.99999994, 1.        ,\n",
              "       1.0000001 , 1.        , 0.99999994, 1.        , 1.        ,\n",
              "       1.        , 1.        , 1.        , 1.        , 1.        ,\n",
              "       1.        , 1.        , 1.        , 1.        , 1.        ,\n",
              "       1.0000001 , 1.        , 0.99999994, 1.        , 1.        ,\n",
              "       1.        , 1.        , 1.        , 1.        , 1.        ,\n",
              "       1.        ], dtype=float32)"
            ]
          },
          "metadata": {},
          "execution_count": 35
        }
      ],
      "source": [
        "attention_layer.last_attention_weights[0].numpy().sum(axis=-1)"
      ]
    },
    {
      "cell_type": "markdown",
      "metadata": {
        "id": "AagyXMH-Jhqt"
      },
      "source": [
        "\n",
        "\n",
        "Here are the attention weights across the context sequences at `t=0`:"
      ]
    },
    {
      "cell_type": "code",
      "source": [
        "attention_weights = attention_layer.last_attention_weights\n",
        "mask=(ex_context_tok != 0).numpy()\n",
        "\n",
        "plt.subplot(1, 2, 1)\n",
        "plt.pcolormesh(mask*attention_weights[:, 0, :])\n",
        "plt.title('Attention weights')\n",
        "\n",
        "plt.subplot(1, 2, 2)\n",
        "plt.pcolormesh(mask)\n",
        "plt.title('Mask');"
      ],
      "metadata": {
        "colab": {
          "base_uri": "https://localhost:8080/",
          "height": 452
        },
        "id": "LDc9M_CUtYWD",
        "outputId": "7046a584-37a1-4c2c-8ef1-7c176ee77e11"
      },
      "execution_count": 36,
      "outputs": [
        {
          "output_type": "display_data",
          "data": {
            "text/plain": [
              "<Figure size 640x480 with 2 Axes>"
            ],
            "image/png": "[encoded data removed]"
          },
          "metadata": {}
        }
      ]
    },
    {
      "cell_type": "markdown",
      "source": [],
      "metadata": {
        "id": "Cpq_sCKHtZzS"
      }
    },
    {
      "cell_type": "markdown",
      "metadata": {
        "id": "6Eil-C_NN1rp"
      },
      "source": [
        "Because of the small-random initialization the attention weights are initially all close to `1/(sequence_length)`. The model will learn to make these less uniform as training progresses."
      ]
    },
    {
      "cell_type": "markdown",
      "metadata": {
        "id": "aQ638eHN4iCK"
      },
      "source": [
        "### The decoder\n",
        "\n",
        "The decoder's job is to generate predictions for the next token at each location in the target sequence.\n",
        "\n",
        "1. It looks up embeddings for each token in the target sequence.\n",
        "2. It uses an RNN to process the target sequence, and keep track of what it has generated so far.\n",
        "3. It uses RNN output as the \"query\" to the attention layer, when attending to the encoder's output.\n",
        "4. At each location in the output it predicts the next token.\n"
      ]
    },
    {
      "cell_type": "markdown",
      "metadata": {
        "id": "pZsQJMqNmg_L"
      },
      "source": [
        "Here is the `Decoder` class' initializer. The initializer creates all the necessary layers."
      ]
    },
    {
      "cell_type": "code",
      "execution_count": 37,
      "metadata": {
        "id": "erYvHIgAl8kh"
      },
      "outputs": [],
      "source": [
        "class Decoder(tf.keras.layers.Layer):\n",
        "  @classmethod\n",
        "  def add_method(cls, fun):\n",
        "    setattr(cls, fun.__name__, fun)\n",
        "    return fun\n",
        "\n",
        "  def __init__(self, text_processor, units):\n",
        "    super(Decoder, self).__init__()\n",
        "    self.text_processor = text_processor\n",
        "    self.vocab_size = text_processor.vocabulary_size()\n",
        "    self.word_to_id = tf.keras.layers.StringLookup(\n",
        "        vocabulary=text_processor.get_vocabulary(),\n",
        "        mask_token='', oov_token='[UNK]')\n",
        "    self.id_to_word = tf.keras.layers.StringLookup(\n",
        "        vocabulary=text_processor.get_vocabulary(),\n",
        "        mask_token='', oov_token='[UNK]',\n",
        "        invert=True)\n",
        "    self.start_token = self.word_to_id('[START]')\n",
        "    self.end_token = self.word_to_id('[END]')\n",
        "\n",
        "    self.units = units\n",
        "\n",
        "\n",
        "    # 1. The embedding layer converts token IDs to vectors\n",
        "    self.embedding = tf.keras.layers.Embedding(self.vocab_size,\n",
        "                                               units, mask_zero=True)\n",
        "\n",
        "    # 2. The RNN keeps track of what's been generated so far.\n",
        "    self.rnn = tf.keras.layers.GRU(units,\n",
        "                                   return_sequences=True,\n",
        "                                   return_state=True,\n",
        "                                   recurrent_initializer='glorot_uniform')\n",
        "\n",
        "    # 3. The RNN output will be the query for the attention layer.\n",
        "    self.attention = CrossAttention(units)\n",
        "\n",
        "    # 4. This fully connected layer produces the logits for each\n",
        "    # output token.\n",
        "    self.output_layer = tf.keras.layers.Dense(self.vocab_size)"
      ]
    },
    {
      "cell_type": "markdown",
      "metadata": {
        "id": "Sd8-nRNzFR8x"
      },
      "source": [
        "#### Training"
      ]
    },
    {
      "cell_type": "markdown",
      "metadata": {
        "id": "UPnaw583CpnY"
      },
      "source": [
        "Next, the `call` method, takes 3 arguments:\n",
        "\n",
        "* `inputs` -  a `context, x` pair where:\n",
        "  * `context` - is the context from the encoder's output.\n",
        "  * `x` - is the target sequence input.\n",
        "* `state` - Optional, the previous `state` output from the decoder (the internal state of the decoder's RNN). Pass the state from a previous run to continue generating text where you left off.\n",
        "* `return_state` - [Default: False] - Set this to `True` to return the RNN state. "
      ]
    },
    {
      "cell_type": "code",
      "execution_count": 38,
      "metadata": {
        "id": "PJOi5btHAPNK"
      },
      "outputs": [],
      "source": [
        "@Decoder.add_method\n",
        "def call(self,\n",
        "         context, x,\n",
        "         state=None,\n",
        "         return_state=False):  \n",
        "  shape_checker = ShapeChecker()\n",
        "  shape_checker(x, 'batch t')\n",
        "  shape_checker(context, 'batch s units')\n",
        "\n",
        "  # 1. Lookup the embeddings\n",
        "  x = self.embedding(x)\n",
        "  shape_checker(x, 'batch t units')\n",
        "\n",
        "  # 2. Process the target sequence.\n",
        "  x, state = self.rnn(x, initial_state=state)\n",
        "  shape_checker(x, 'batch t units')\n",
        "\n",
        "  # 3. Use the RNN output as the query for the attention over the context.\n",
        "  x = self.attention(x, context)\n",
        "  self.last_attention_weights = self.attention.last_attention_weights\n",
        "  shape_checker(x, 'batch t units')\n",
        "  shape_checker(self.last_attention_weights, 'batch t s')\n",
        "\n",
        "  # Step 4. Generate logit predictions for the next token.\n",
        "  logits = self.output_layer(x)\n",
        "  shape_checker(logits, 'batch t target_vocab_size')\n",
        "\n",
        "  if return_state:\n",
        "    return logits, state\n",
        "  else:\n",
        "    return logits"
      ]
    },
    {
      "cell_type": "markdown",
      "metadata": {
        "id": "E1-mLAcUEXpK"
      },
      "source": [
        "That will be sufficient for training. Create an instance of the decoder to test out:"
      ]
    },
    {
      "cell_type": "code",
      "execution_count": 39,
      "metadata": {
        "id": "4ZUMbYXIEVeA"
      },
      "outputs": [],
      "source": [
        "decoder = Decoder(target_text_processor, UNITS)"
      ]
    },
    {
      "cell_type": "markdown",
      "metadata": {
        "id": "SFWaI4wqzt4t"
      },
      "source": [
        "Decoder usage"
      ]
    },
    {
      "cell_type": "code",
      "execution_count": 40,
      "metadata": {
        "colab": {
          "base_uri": "https://localhost:8080/"
        },
        "id": "5YM-lD7bzx18",
        "outputId": "b82ca6bb-47cc-440d-d03a-2bb1c983aa43"
      },
      "outputs": [
        {
          "output_type": "stream",
          "name": "stdout",
          "text": [
            "encoder output shape: (batch, s, units) (1, 931, 256)\n",
            "input target tokens shape: (batch, t) (1, 931)\n",
            "logits shape shape: (batch, target_vocabulary_size) (1, 931, 1221)\n"
          ]
        }
      ],
      "source": [
        "logits = decoder(ex_context, ex_tar_in)\n",
        "\n",
        "print(f'encoder output shape: (batch, s, units) {ex_context.shape}')\n",
        "print(f'input target tokens shape: (batch, t) {ex_tar_in.shape}')\n",
        "print(f'logits shape shape: (batch, target_vocabulary_size) {logits.shape}')"
      ]
    },
    {
      "cell_type": "markdown",
      "metadata": {
        "id": "zhS_tbk7VQkX"
      },
      "source": [
        "#### Inference\n",
        "\n",
        "For inference usage couple more methods."
      ]
    },
    {
      "cell_type": "code",
      "execution_count": 41,
      "metadata": {
        "id": "SPm12cnIVRQr"
      },
      "outputs": [],
      "source": [
        "@Decoder.add_method\n",
        "def get_initial_state(self, context):\n",
        "  batch_size = tf.shape(context)[0]\n",
        "  start_tokens = tf.fill([batch_size, 1], self.start_token)\n",
        "  done = tf.zeros([batch_size, 1], dtype=tf.bool)\n",
        "  embedded = self.embedding(start_tokens)\n",
        "  return start_tokens, done, self.rnn.get_initial_state(embedded)[0]"
      ]
    },
    {
      "cell_type": "code",
      "execution_count": 42,
      "metadata": {
        "id": "TzeOhpBvVS5L"
      },
      "outputs": [],
      "source": [
        "@Decoder.add_method\n",
        "def tokens_to_text(self, tokens):\n",
        "  words = self.id_to_word(tokens)\n",
        "  result = tf.strings.reduce_join(words, axis=-1, separator=' ')\n",
        "  result = tf.strings.regex_replace(result, '^ *\\[START\\] *', '')\n",
        "  result = tf.strings.regex_replace(result, ' *\\[END\\] *$', '')\n",
        "  return result"
      ]
    },
    {
      "cell_type": "code",
      "execution_count": 43,
      "metadata": {
        "id": "v6ildnz_V1MA"
      },
      "outputs": [],
      "source": [
        "@Decoder.add_method\n",
        "def get_next_token(self, context, next_token, done, state, temperature = 0.0):\n",
        "  logits, state = self(\n",
        "    context, next_token,\n",
        "    state = state,\n",
        "    return_state=True) \n",
        "  \n",
        "  if temperature == 0.0:\n",
        "    next_token = tf.argmax(logits, axis=-1)\n",
        "  else:\n",
        "    logits = logits[:, -1, :]/temperature\n",
        "    next_token = tf.random.categorical(logits, num_samples=1)\n",
        "\n",
        "  # If a sequence produces an `end_token`, set it `done`\n",
        "  done = done | (next_token == self.end_token)\n",
        "  # Once a sequence is done it only produces 0-padding.\n",
        "  next_token = tf.where(done, tf.constant(0, dtype=tf.int64), next_token)\n",
        "  \n",
        "  return next_token, done, state"
      ]
    },
    {
      "cell_type": "markdown",
      "metadata": {
        "id": "9WiXLrVs-FTE"
      },
      "source": [
        "With those extra functions, you can write a generation loop:"
      ]
    },
    {
      "cell_type": "code",
      "execution_count": 44,
      "metadata": {
        "id": "SuehagxL-JBZ"
      },
      "outputs": [],
      "source": [
        "# Setup the loop variables.\n",
        "next_token, done, state = decoder.get_initial_state(ex_context)\n",
        "tokens = []\n",
        "\n",
        "for n in range(10):\n",
        "  # Run one step.\n",
        "  next_token, done, state = decoder.get_next_token(\n",
        "      ex_context, next_token, done, state, temperature=1.0)\n",
        "  # Add the token to the output.\n",
        "  tokens.append(next_token)\n",
        "\n",
        "# Stack all the tokens together.\n",
        "tokens = tf.concat(tokens, axis=-1) # (batch, t)\n",
        "\n",
        "# Convert the tokens back to a a string\n",
        "result = decoder.tokens_to_text(tokens)\n",
        "#result[:3].numpy()"
      ]
    },
    {
      "cell_type": "markdown",
      "metadata": {
        "id": "B6xyru86m914"
      },
      "source": [
        "## The model\n"
      ]
    },
    {
      "cell_type": "code",
      "execution_count": 45,
      "metadata": {
        "id": "WWIyuy71TkJT"
      },
      "outputs": [],
      "source": [
        "class Translator(tf.keras.Model):\n",
        "  @classmethod\n",
        "  def add_method(cls, fun):\n",
        "    setattr(cls, fun.__name__, fun)\n",
        "    return fun\n",
        "\n",
        "  def __init__(self, units,\n",
        "               context_text_processor,\n",
        "               target_text_processor):\n",
        "    super().__init__()\n",
        "    # Build the encoder and decoder\n",
        "    encoder = Encoder(context_text_processor, units)\n",
        "    decoder = Decoder(target_text_processor, units)\n",
        "\n",
        "    self.encoder = encoder\n",
        "    self.decoder = decoder\n",
        "\n",
        "  def call(self, inputs):\n",
        "    context, x = inputs\n",
        "    context = self.encoder(context)\n",
        "    logits = self.decoder(context, x)\n",
        "\n",
        "    #TODO(b/250038731): remove this\n",
        "    try:\n",
        "      # Delete the keras mask, so keras doesn't scale the loss+accuracy. \n",
        "      del logits._keras_mask\n",
        "    except AttributeError:\n",
        "      pass\n",
        "\n",
        "    return logits"
      ]
    },
    {
      "cell_type": "markdown",
      "metadata": {
        "id": "5rPi0FkS2iA5"
      },
      "source": [
        "During training the model will be used like this:"
      ]
    },
    {
      "cell_type": "code",
      "execution_count": 46,
      "metadata": {
        "colab": {
          "base_uri": "https://localhost:8080/"
        },
        "id": "8vhjTh84K6Mg",
        "outputId": "f57dcfa2-94b3-4254-bbeb-317756f4999f"
      },
      "outputs": [
        {
          "output_type": "stream",
          "name": "stdout",
          "text": [
            "Context tokens, shape: (batch, s, units) (1, 931)\n",
            "Target tokens, shape: (batch, t) (1, 931)\n",
            "logits, shape: (batch, t, target_vocabulary_size) (1, 931, 1221)\n"
          ]
        }
      ],
      "source": [
        "model = Translator(UNITS, context_text_processor, target_text_processor)\n",
        "\n",
        "logits = model((ex_context_tok, ex_tar_in))\n",
        "\n",
        "print(f'Context tokens, shape: (batch, s, units) {ex_context_tok.shape}')\n",
        "print(f'Target tokens, shape: (batch, t) {ex_tar_in.shape}')\n",
        "print(f'logits, shape: (batch, t, target_vocabulary_size) {logits.shape}')"
      ]
    },
    {
      "cell_type": "markdown",
      "metadata": {
        "id": "_ch_71VbIRfK"
      },
      "source": [
        "### Train"
      ]
    },
    {
      "cell_type": "code",
      "execution_count": 47,
      "metadata": {
        "id": "WmTHr5iV3jFr"
      },
      "outputs": [],
      "source": [
        "def masked_loss(y_true, y_pred):\n",
        "    # Calculate the loss for each item in the batch.\n",
        "    loss_fn = tf.keras.losses.SparseCategoricalCrossentropy(\n",
        "        from_logits=True, reduction='none')\n",
        "    loss = loss_fn(y_true, y_pred)\n",
        "\n",
        "    # Mask off the losses on padding.\n",
        "    mask = tf.cast(y_true != 0, loss.dtype)\n",
        "    loss *= mask\n",
        "\n",
        "    # Return the total.\n",
        "    return tf.reduce_sum(loss)/tf.reduce_sum(mask)"
      ]
    },
    {
      "cell_type": "code",
      "execution_count": 48,
      "metadata": {
        "id": "nRB1CTmQWOIL"
      },
      "outputs": [],
      "source": [
        "def masked_acc(y_true, y_pred):\n",
        "    # Calculate the loss for each item in the batch.\n",
        "    y_pred = tf.argmax(y_pred, axis=-1)\n",
        "    y_pred = tf.cast(y_pred, y_true.dtype)\n",
        "    \n",
        "    match = tf.cast(y_true == y_pred, tf.float32)\n",
        "    mask = tf.cast(y_true != 0, tf.float32)\n",
        "    \n",
        "    return tf.reduce_sum(match)/tf.reduce_sum(mask)"
      ]
    },
    {
      "cell_type": "markdown",
      "metadata": {
        "id": "f32GuAhw2nXm"
      },
      "source": [
        "Configure the model for training:"
      ]
    },
    {
      "cell_type": "code",
      "execution_count": 49,
      "metadata": {
        "id": "9g0DRRvm3l9X"
      },
      "outputs": [],
      "source": [
        "model.compile(optimizer='Adam',\n",
        "              loss=masked_loss, \n",
        "              metrics=[masked_acc, masked_loss])"
      ]
    },
    {
      "cell_type": "markdown",
      "metadata": {
        "id": "5DWLI3pssjnx"
      },
      "source": [
        "The model is randomly initialized, and should give roughly uniform output probabilities. So it's easy to predict what the initial values of the metrics should be:"
      ]
    },
    {
      "cell_type": "code",
      "execution_count": 50,
      "metadata": {
        "colab": {
          "base_uri": "https://localhost:8080/"
        },
        "id": "BuP3_LFENMJG",
        "outputId": "177e64ec-5aae-41c4-d845-33520e1ac8cf"
      },
      "outputs": [
        {
          "output_type": "execute_result",
          "data": {
            "text/plain": [
              "{'expected_loss': 7.1074257, 'expected_acc': 0.000819000819000819}"
            ]
          },
          "metadata": {},
          "execution_count": 50
        }
      ],
      "source": [
        "vocab_size = 1.0 * target_text_processor.vocabulary_size()\n",
        "\n",
        "{\"expected_loss\": tf.math.log(vocab_size).numpy(),\n",
        " \"expected_acc\": 1/vocab_size}"
      ]
    },
    {
      "cell_type": "markdown",
      "metadata": {
        "id": "frVba49Usd0Z"
      },
      "source": [
        "That should roughly match the values returned by running a few steps of evaluation:"
      ]
    },
    {
      "cell_type": "code",
      "execution_count": 51,
      "metadata": {
        "colab": {
          "base_uri": "https://localhost:8080/"
        },
        "id": "8rJITfxEsHKR",
        "outputId": "25c2efc4-df4e-4c3d-8ecb-3b4f6e3a230e"
      },
      "outputs": [
        {
          "output_type": "stream",
          "name": "stdout",
          "text": [
            "70/70 [==============================] - 11s 59ms/step - loss: 7.1150 - masked_acc: 6.4058e-04 - masked_loss: 7.1150\n"
          ]
        },
        {
          "output_type": "execute_result",
          "data": {
            "text/plain": [
              "{'loss': 7.11495304107666,\n",
              " 'masked_acc': 0.0006405796157196164,\n",
              " 'masked_loss': 7.11495304107666}"
            ]
          },
          "metadata": {},
          "execution_count": 51
        }
      ],
      "source": [
        "model.evaluate(val_ds, steps=70, return_dict=True)"
      ]
    },
    {
      "cell_type": "code",
      "execution_count": 52,
      "metadata": {
        "colab": {
          "base_uri": "https://localhost:8080/"
        },
        "id": "BQd_esVVoSf3",
        "outputId": "2f790e80-6455-4da2-c551-33f4f7d59925"
      },
      "outputs": [
        {
          "output_type": "stream",
          "name": "stdout",
          "text": [
            "Epoch 1/100\n",
            "100/100 [==============================] - 40s 243ms/step - loss: 2.1228 - masked_acc: 0.6267 - masked_loss: 2.1228 - val_loss: 0.7342 - val_masked_acc: 0.8320 - val_masked_loss: 0.7342\n",
            "Epoch 2/100\n",
            "100/100 [==============================] - 17s 170ms/step - loss: 0.4769 - masked_acc: 0.8897 - masked_loss: 0.4769 - val_loss: 0.3114 - val_masked_acc: 0.9322 - val_masked_loss: 0.3114\n",
            "Epoch 3/100\n",
            "100/100 [==============================] - 13s 134ms/step - loss: 0.2527 - masked_acc: 0.9422 - masked_loss: 0.2527 - val_loss: 0.1555 - val_masked_acc: 0.9628 - val_masked_loss: 0.1555\n",
            "Epoch 4/100\n",
            "100/100 [==============================] - 12s 119ms/step - loss: 0.1239 - masked_acc: 0.9686 - masked_loss: 0.1239 - val_loss: 0.2639 - val_masked_acc: 0.9542 - val_masked_loss: 0.2639\n",
            "Epoch 5/100\n",
            "100/100 [==============================] - 12s 124ms/step - loss: 0.0926 - masked_acc: 0.9743 - masked_loss: 0.0926 - val_loss: 0.1046 - val_masked_acc: 0.9727 - val_masked_loss: 0.1046\n",
            "Epoch 6/100\n",
            "100/100 [==============================] - 15s 150ms/step - loss: 0.1045 - masked_acc: 0.9711 - masked_loss: 0.1045 - val_loss: 0.0959 - val_masked_acc: 0.9739 - val_masked_loss: 0.0959\n",
            "Epoch 7/100\n",
            "100/100 [==============================] - 11s 113ms/step - loss: 0.0942 - masked_acc: 0.9734 - masked_loss: 0.0942 - val_loss: 0.0788 - val_masked_acc: 0.9748 - val_masked_loss: 0.0788\n",
            "Epoch 8/100\n",
            "100/100 [==============================] - 13s 129ms/step - loss: 0.0889 - masked_acc: 0.9733 - masked_loss: 0.0889 - val_loss: 0.0873 - val_masked_acc: 0.9738 - val_masked_loss: 0.0873\n",
            "Epoch 9/100\n",
            "100/100 [==============================] - 12s 123ms/step - loss: 0.0719 - masked_acc: 0.9763 - masked_loss: 0.0719 - val_loss: 0.0625 - val_masked_acc: 0.9798 - val_masked_loss: 0.0625\n",
            "Epoch 10/100\n",
            "100/100 [==============================] - 15s 146ms/step - loss: 0.0806 - masked_acc: 0.9761 - masked_loss: 0.0806 - val_loss: 0.1739 - val_masked_acc: 0.9676 - val_masked_loss: 0.1739\n",
            "Epoch 11/100\n",
            "100/100 [==============================] - 13s 123ms/step - loss: 0.0849 - masked_acc: 0.9750 - masked_loss: 0.0849 - val_loss: 0.0655 - val_masked_acc: 0.9787 - val_masked_loss: 0.0655\n",
            "Epoch 12/100\n",
            "100/100 [==============================] - 12s 121ms/step - loss: 0.0709 - masked_acc: 0.9774 - masked_loss: 0.0709 - val_loss: 0.0811 - val_masked_acc: 0.9757 - val_masked_loss: 0.0811\n",
            "Epoch 13/100\n",
            "100/100 [==============================] - 13s 135ms/step - loss: 0.0591 - masked_acc: 0.9799 - masked_loss: 0.0591 - val_loss: 0.0665 - val_masked_acc: 0.9785 - val_masked_loss: 0.0665\n",
            "Epoch 14/100\n",
            "100/100 [==============================] - 14s 140ms/step - loss: 0.0710 - masked_acc: 0.9771 - masked_loss: 0.0710 - val_loss: 0.0591 - val_masked_acc: 0.9796 - val_masked_loss: 0.0591\n",
            "Epoch 15/100\n",
            "100/100 [==============================] - 12s 121ms/step - loss: 0.0644 - masked_acc: 0.9788 - masked_loss: 0.0644 - val_loss: 0.0689 - val_masked_acc: 0.9778 - val_masked_loss: 0.0689\n",
            "Epoch 16/100\n",
            "100/100 [==============================] - 14s 145ms/step - loss: 0.0621 - masked_acc: 0.9785 - masked_loss: 0.0621 - val_loss: 0.0622 - val_masked_acc: 0.9798 - val_masked_loss: 0.0622\n",
            "Epoch 17/100\n",
            "100/100 [==============================] - 14s 144ms/step - loss: 0.0530 - masked_acc: 0.9817 - masked_loss: 0.0530 - val_loss: 0.0588 - val_masked_acc: 0.9804 - val_masked_loss: 0.0588\n",
            "Epoch 18/100\n",
            "100/100 [==============================] - 15s 146ms/step - loss: 0.1383 - masked_acc: 0.9704 - masked_loss: 0.1383 - val_loss: 0.0808 - val_masked_acc: 0.9776 - val_masked_loss: 0.0808\n",
            "Epoch 19/100\n",
            "100/100 [==============================] - 13s 130ms/step - loss: 0.0796 - masked_acc: 0.9777 - masked_loss: 0.0796 - val_loss: 0.0618 - val_masked_acc: 0.9800 - val_masked_loss: 0.0618\n",
            "Epoch 20/100\n",
            "100/100 [==============================] - 12s 123ms/step - loss: 0.0678 - masked_acc: 0.9784 - masked_loss: 0.0678 - val_loss: 0.0559 - val_masked_acc: 0.9805 - val_masked_loss: 0.0559\n",
            "Epoch 21/100\n",
            "100/100 [==============================] - 15s 146ms/step - loss: 0.1067 - masked_acc: 0.9701 - masked_loss: 0.1067 - val_loss: 0.0597 - val_masked_acc: 0.9801 - val_masked_loss: 0.0597\n",
            "Epoch 22/100\n",
            "100/100 [==============================] - 14s 137ms/step - loss: 0.0522 - masked_acc: 0.9830 - masked_loss: 0.0522 - val_loss: 0.0499 - val_masked_acc: 0.9833 - val_masked_loss: 0.0499\n",
            "Epoch 23/100\n",
            "100/100 [==============================] - 14s 136ms/step - loss: 0.0517 - masked_acc: 0.9829 - masked_loss: 0.0517 - val_loss: 0.0476 - val_masked_acc: 0.9843 - val_masked_loss: 0.0476\n",
            "Epoch 24/100\n",
            "100/100 [==============================] - 12s 118ms/step - loss: 0.0507 - masked_acc: 0.9828 - masked_loss: 0.0507 - val_loss: 0.0608 - val_masked_acc: 0.9801 - val_masked_loss: 0.0608\n",
            "Epoch 25/100\n",
            "100/100 [==============================] - 12s 118ms/step - loss: 0.0444 - masked_acc: 0.9843 - masked_loss: 0.0444 - val_loss: 0.0453 - val_masked_acc: 0.9838 - val_masked_loss: 0.0453\n",
            "Epoch 26/100\n",
            "100/100 [==============================] - 15s 154ms/step - loss: 0.0462 - masked_acc: 0.9848 - masked_loss: 0.0462 - val_loss: 0.0741 - val_masked_acc: 0.9776 - val_masked_loss: 0.0741\n",
            "Epoch 27/100\n",
            "100/100 [==============================] - 12s 122ms/step - loss: 0.0413 - masked_acc: 0.9859 - masked_loss: 0.0413 - val_loss: 0.0419 - val_masked_acc: 0.9854 - val_masked_loss: 0.0419\n",
            "Epoch 28/100\n",
            "100/100 [==============================] - 15s 148ms/step - loss: 0.0632 - masked_acc: 0.9815 - masked_loss: 0.0632 - val_loss: 0.0430 - val_masked_acc: 0.9857 - val_masked_loss: 0.0430\n",
            "Epoch 29/100\n",
            "100/100 [==============================] - 14s 143ms/step - loss: 0.0382 - masked_acc: 0.9873 - masked_loss: 0.0382 - val_loss: 0.0480 - val_masked_acc: 0.9846 - val_masked_loss: 0.0480\n",
            "Epoch 30/100\n",
            "100/100 [==============================] - 14s 144ms/step - loss: 0.0407 - masked_acc: 0.9861 - masked_loss: 0.0407 - val_loss: 0.0399 - val_masked_acc: 0.9856 - val_masked_loss: 0.0399\n",
            "Epoch 31/100\n",
            "100/100 [==============================] - 11s 111ms/step - loss: 0.0690 - masked_acc: 0.9787 - masked_loss: 0.0690 - val_loss: 0.0466 - val_masked_acc: 0.9833 - val_masked_loss: 0.0466\n",
            "Epoch 32/100\n",
            "100/100 [==============================] - 14s 144ms/step - loss: 0.0465 - masked_acc: 0.9836 - masked_loss: 0.0465 - val_loss: 0.0396 - val_masked_acc: 0.9877 - val_masked_loss: 0.0396\n",
            "Epoch 33/100\n",
            "100/100 [==============================] - 14s 136ms/step - loss: 0.0407 - masked_acc: 0.9872 - masked_loss: 0.0407 - val_loss: 0.0376 - val_masked_acc: 0.9869 - val_masked_loss: 0.0376\n",
            "Epoch 34/100\n",
            "100/100 [==============================] - 13s 135ms/step - loss: 0.0409 - masked_acc: 0.9861 - masked_loss: 0.0409 - val_loss: 0.0393 - val_masked_acc: 0.9859 - val_masked_loss: 0.0393\n",
            "Epoch 35/100\n",
            "100/100 [==============================] - 14s 141ms/step - loss: 0.0424 - masked_acc: 0.9857 - masked_loss: 0.0424 - val_loss: 0.0451 - val_masked_acc: 0.9848 - val_masked_loss: 0.0451\n",
            "Epoch 36/100\n",
            "100/100 [==============================] - 12s 124ms/step - loss: 0.0663 - masked_acc: 0.9804 - masked_loss: 0.0663 - val_loss: 0.0585 - val_masked_acc: 0.9810 - val_masked_loss: 0.0585\n",
            "Epoch 37/100\n",
            "100/100 [==============================] - 12s 122ms/step - loss: 0.0558 - masked_acc: 0.9828 - masked_loss: 0.0558 - val_loss: 0.0397 - val_masked_acc: 0.9862 - val_masked_loss: 0.0397\n",
            "Epoch 38/100\n",
            "100/100 [==============================] - 12s 119ms/step - loss: 0.0352 - masked_acc: 0.9878 - masked_loss: 0.0352 - val_loss: 0.0330 - val_masked_acc: 0.9885 - val_masked_loss: 0.0330\n",
            "Epoch 39/100\n",
            "100/100 [==============================] - 15s 148ms/step - loss: 0.0408 - masked_acc: 0.9865 - masked_loss: 0.0408 - val_loss: 0.0440 - val_masked_acc: 0.9861 - val_masked_loss: 0.0440\n",
            "Epoch 40/100\n",
            "100/100 [==============================] - 15s 147ms/step - loss: 0.0389 - masked_acc: 0.9872 - masked_loss: 0.0389 - val_loss: 0.0350 - val_masked_acc: 0.9880 - val_masked_loss: 0.0350\n",
            "Epoch 41/100\n",
            "100/100 [==============================] - 12s 121ms/step - loss: 0.0392 - masked_acc: 0.9874 - masked_loss: 0.0392 - val_loss: 0.0351 - val_masked_acc: 0.9878 - val_masked_loss: 0.0351\n",
            "Epoch 42/100\n",
            "100/100 [==============================] - 15s 146ms/step - loss: 0.0349 - masked_acc: 0.9876 - masked_loss: 0.0349 - val_loss: 0.0424 - val_masked_acc: 0.9869 - val_masked_loss: 0.0424\n",
            "Epoch 43/100\n",
            "100/100 [==============================] - 12s 121ms/step - loss: 0.0321 - masked_acc: 0.9898 - masked_loss: 0.0321 - val_loss: 0.0286 - val_masked_acc: 0.9904 - val_masked_loss: 0.0286\n",
            "Epoch 44/100\n",
            "100/100 [==============================] - 16s 157ms/step - loss: 0.0328 - masked_acc: 0.9896 - masked_loss: 0.0328 - val_loss: 0.0314 - val_masked_acc: 0.9900 - val_masked_loss: 0.0314\n",
            "Epoch 45/100\n",
            "100/100 [==============================] - 14s 136ms/step - loss: 0.0313 - masked_acc: 0.9896 - masked_loss: 0.0313 - val_loss: 0.0287 - val_masked_acc: 0.9904 - val_masked_loss: 0.0287\n",
            "Epoch 46/100\n",
            "100/100 [==============================] - 12s 120ms/step - loss: 0.0341 - masked_acc: 0.9895 - masked_loss: 0.0341 - val_loss: 0.0335 - val_masked_acc: 0.9896 - val_masked_loss: 0.0335\n",
            "Epoch 47/100\n",
            "100/100 [==============================] - 13s 135ms/step - loss: 0.0331 - masked_acc: 0.9892 - masked_loss: 0.0331 - val_loss: 0.0296 - val_masked_acc: 0.9897 - val_masked_loss: 0.0296\n",
            "Epoch 48/100\n",
            "100/100 [==============================] - 14s 141ms/step - loss: 0.0285 - masked_acc: 0.9904 - masked_loss: 0.0285 - val_loss: 0.0276 - val_masked_acc: 0.9909 - val_masked_loss: 0.0276\n",
            "Epoch 49/100\n",
            "100/100 [==============================] - 12s 119ms/step - loss: 0.0252 - masked_acc: 0.9914 - masked_loss: 0.0252 - val_loss: 0.0181 - val_masked_acc: 0.9936 - val_masked_loss: 0.0181\n",
            "Epoch 50/100\n",
            "100/100 [==============================] - 15s 147ms/step - loss: 0.0292 - masked_acc: 0.9905 - masked_loss: 0.0292 - val_loss: 0.0292 - val_masked_acc: 0.9911 - val_masked_loss: 0.0292\n",
            "Epoch 51/100\n",
            "100/100 [==============================] - 12s 120ms/step - loss: 0.0359 - masked_acc: 0.9907 - masked_loss: 0.0359 - val_loss: 0.0290 - val_masked_acc: 0.9908 - val_masked_loss: 0.0290\n",
            "Epoch 52/100\n",
            "100/100 [==============================] - 12s 117ms/step - loss: 0.0325 - masked_acc: 0.9902 - masked_loss: 0.0325 - val_loss: 0.0263 - val_masked_acc: 0.9916 - val_masked_loss: 0.0263\n",
            "Epoch 53/100\n",
            "100/100 [==============================] - 12s 120ms/step - loss: 0.0280 - masked_acc: 0.9915 - masked_loss: 0.0280 - val_loss: 0.0331 - val_masked_acc: 0.9898 - val_masked_loss: 0.0331\n",
            "Epoch 54/100\n",
            "100/100 [==============================] - 12s 116ms/step - loss: 0.0273 - masked_acc: 0.9910 - masked_loss: 0.0273 - val_loss: 0.0290 - val_masked_acc: 0.9914 - val_masked_loss: 0.0290\n",
            "Epoch 55/100\n",
            "100/100 [==============================] - 15s 146ms/step - loss: 0.0243 - masked_acc: 0.9924 - masked_loss: 0.0243 - val_loss: 0.0220 - val_masked_acc: 0.9930 - val_masked_loss: 0.0220\n",
            "Epoch 56/100\n",
            "100/100 [==============================] - 12s 118ms/step - loss: 0.0433 - masked_acc: 0.9881 - masked_loss: 0.0433 - val_loss: 0.0597 - val_masked_acc: 0.9842 - val_masked_loss: 0.0597\n",
            "Epoch 57/100\n",
            "100/100 [==============================] - 15s 146ms/step - loss: 0.0519 - masked_acc: 0.9855 - masked_loss: 0.0519 - val_loss: 0.0270 - val_masked_acc: 0.9908 - val_masked_loss: 0.0270\n",
            "Epoch 58/100\n",
            "100/100 [==============================] - 15s 146ms/step - loss: 0.0268 - masked_acc: 0.9918 - masked_loss: 0.0268 - val_loss: 0.0219 - val_masked_acc: 0.9927 - val_masked_loss: 0.0219\n"
          ]
        }
      ],
      "source": [
        "history = model.fit(\n",
        "    train_ds.repeat(), \n",
        "    epochs=100,\n",
        "    steps_per_epoch = 100,\n",
        "    validation_data=val_ds,\n",
        "    validation_steps = 70,\n",
        "    callbacks=[\n",
        "        tf.keras.callbacks.EarlyStopping(patience=9)])"
      ]
    },
    {
      "cell_type": "markdown",
      "source": [
        "## Plotting the Loss from Training "
      ],
      "metadata": {
        "id": "Uq9lHbPgenz9"
      }
    },
    {
      "cell_type": "code",
      "execution_count": 53,
      "metadata": {
        "id": "38rLdlmtQHCm",
        "colab": {
          "base_uri": "https://localhost:8080/",
          "height": 467
        },
        "outputId": "b14ccdd1-e905-45f1-e683-0e4853f90dc2"
      },
      "outputs": [
        {
          "output_type": "execute_result",
          "data": {
            "text/plain": [
              "<matplotlib.legend.Legend at 0x7f10f16e85b0>"
            ]
          },
          "metadata": {},
          "execution_count": 53
        },
        {
          "output_type": "display_data",
          "data": {
            "text/plain": [
              "<Figure size 640x480 with 1 Axes>"
            ],
            "image/png": "[encoded data removed]"
          },
          "metadata": {}
        }
      ],
      "source": [
        "plt.plot(history.history['loss'], label='loss')\n",
        "plt.plot(history.history['masked_loss'], label='masked_loss')\n",
        "plt.plot(history.history['val_masked_loss'], label='val_masked_loss')\n",
        "plt.ylim([0, max(plt.ylim())])\n",
        "plt.xlabel('Epoch #')\n",
        "plt.ylabel('CE/token')\n",
        "plt.legend()"
      ]
    },
    {
      "cell_type": "markdown",
      "source": [
        "## Plotting the aacuracy from the training"
      ],
      "metadata": {
        "id": "lUssYQFZet7E"
      }
    },
    {
      "cell_type": "code",
      "execution_count": 54,
      "metadata": {
        "id": "KkhXRASNG80_",
        "colab": {
          "base_uri": "https://localhost:8080/",
          "height": 469
        },
        "outputId": "fc268456-4793-4aad-a8d6-6c5eef5b26fa"
      },
      "outputs": [
        {
          "output_type": "execute_result",
          "data": {
            "text/plain": [
              "<matplotlib.legend.Legend at 0x7f111ef6ae30>"
            ]
          },
          "metadata": {},
          "execution_count": 54
        },
        {
          "output_type": "display_data",
          "data": {
            "text/plain": [
              "<Figure size 640x480 with 1 Axes>"
            ],
            "image/png": "[encoded data removed]"
          },
          "metadata": {}
        }
      ],
      "source": [
        "plt.plot(history.history['masked_acc'], label='accuracy')\n",
        "plt.plot(history.history['val_masked_acc'], label='val_accuracy')\n",
        "plt.ylim([0, max(plt.ylim())])\n",
        "plt.xlabel('Epoch #')\n",
        "plt.ylabel('CE/token')\n",
        "plt.legend()"
      ]
    },
    {
      "cell_type": "markdown",
      "metadata": {
        "id": "mU3Ce8M6I3rz"
      },
      "source": [
        "### Translate Module Development\n",
        "\n",
        "Now that the model is trained, implement a function to execute the full `text => text` translation. This code is basically identical to the [inference example](#inference) in the [decoder section](#the_decoder), but this also captures the attention weights."
      ]
    },
    {
      "cell_type": "code",
      "execution_count": 55,
      "metadata": {
        "id": "mmgYPCVgEwp_"
      },
      "outputs": [],
      "source": [
        "#@title\n",
        "@Translator.add_method\n",
        "def translate(self,\n",
        "              texts, *,\n",
        "              max_length=50,\n",
        "              temperature=0.0):\n",
        "  # Process the input texts\n",
        "  context = self.encoder.convert_input(texts)\n",
        "  batch_size = tf.shape(texts)[0]\n",
        "\n",
        "  # Setup the loop inputs\n",
        "  tokens = []\n",
        "  attention_weights = []\n",
        "  next_token, done, state = self.decoder.get_initial_state(context)\n",
        "\n",
        "  for _ in range(max_length):\n",
        "    # Generate the next token\n",
        "    next_token, done, state = self.decoder.get_next_token(\n",
        "        context, next_token, done,  state, temperature)\n",
        "        \n",
        "    # Collect the generated tokens\n",
        "    tokens.append(next_token)\n",
        "    attention_weights.append(self.decoder.last_attention_weights)\n",
        "    \n",
        "    if tf.executing_eagerly() and tf.reduce_all(done):\n",
        "      break\n",
        "\n",
        "  # Stack the lists of tokens and attention weights.\n",
        "  tokens = tf.concat(tokens, axis=-1)   # t*[(batch 1)] -> (batch, t)\n",
        "  self.last_attention_weights = tf.concat(attention_weights, axis=1)  # t*[(batch 1 s)] -> (batch, t s)\n",
        "\n",
        "  result = self.decoder.tokens_to_text(tokens)\n",
        "  return result"
      ]
    },
    {
      "cell_type": "markdown",
      "metadata": {
        "id": "U4XufRntbbva"
      },
      "source": [
        "Here are the two helper methods, used above, to convert tokens to text, and to get the next token:"
      ]
    },
    {
      "cell_type": "code",
      "execution_count": 56,
      "metadata": {
        "id": "E5hqvbR5FUCD",
        "scrolled": false
      },
      "outputs": [],
      "source": [
        "#Individual translator mechanism, can be used to translate each data separately\n",
        "\n",
        "\n",
        "result1 = model.translate([''])\n",
        "\n",
        "result2 = model.translate([''])\n",
        "\n",
        "result23 = model.translate([''])\n",
        "\n",
        "result222 = model.translate([''])\n",
        "#result1[0].numpy().decode()\n",
        "#result2[0].numpy().decode()\n",
        "\n"
      ]
    },
    {
      "cell_type": "markdown",
      "metadata": {
        "id": "wQ1iU63cVgfs"
      },
      "source": [
        "### Attention plot generation after model training has been completed"
      ]
    },
    {
      "cell_type": "code",
      "execution_count": 57,
      "metadata": {
        "id": "s5hQWlbN3jGF"
      },
      "outputs": [],
      "source": [
        "#@title\n",
        "@Translator.add_method\n",
        "def plot_attention(self, text, **kwargs):\n",
        "  assert isinstance(text, str)\n",
        "  output = self.translate([text], **kwargs)\n",
        "  output = output[0].numpy().decode()\n",
        "\n",
        "  attention = self.last_attention_weights[0]\n",
        "\n",
        "  context = tf_lower_and_split_punct(text)\n",
        "  context = context.numpy().decode().split()\n",
        "\n",
        "  output = tf_lower_and_split_punct(output)\n",
        "  output = output.numpy().decode().split()[1:]\n",
        "\n",
        "  fig = plt.figure(figsize=(10, 10))\n",
        "  ax = fig.add_subplot(1, 1, 1)\n",
        "\n",
        "  ax.matshow(attention, cmap='viridis', vmin=0.0)\n",
        "\n",
        "  fontdict = {'fontsize': 14}\n",
        "\n",
        "  ax.set_xticklabels([''] + context, fontdict=fontdict, rotation=90)\n",
        "  ax.set_yticklabels([''] + output, fontdict=fontdict)\n",
        "\n",
        "  ax.xaxis.set_major_locator(ticker.MultipleLocator(1))\n",
        "  ax.yaxis.set_major_locator(ticker.MultipleLocator(1))\n",
        "\n",
        "  ax.set_xlabel('Input text')\n",
        "  ax.set_ylabel('Output text')"
      ]
    },
    {
      "cell_type": "code",
      "execution_count": 58,
      "metadata": {
        "id": "rrGawQv2eiA4"
      },
      "outputs": [],
      "source": [
        "#model.plot_attention('') "
      ]
    },
    {
      "cell_type": "markdown",
      "metadata": {
        "id": "JHBdOf9duumm"
      },
      "source": [
        "Translate a few more sentences and plot them:"
      ]
    },
    {
      "cell_type": "markdown",
      "metadata": {
        "id": "rA3xI3NzrRJt"
      },
      "source": [
        "The short sentences often work well, but if the input is too long the model literally loses focus and stops providing reasonable predictions. There are two main reasons for this:\n",
        "\n",
        "1. The model was trained with teacher-forcing feeding the correct token at each step, regardless of the model's predictions. The model could be made more robust if it were sometimes fed its own predictions.\n",
        "2. The model only has access to its previous output through the RNN state. If the RNN state looses track of where it was in the context sequence there's no way for the model to recover. [Transformers](transformer.ipynb) improve on this by letting the decoder look at what it has output so far."
      ]
    },
    {
      "cell_type": "markdown",
      "metadata": {
        "id": "Vtz6QBoGWqT2"
      },
      "source": [
        "The raw data is sorted by length, so try translating the longest sequence:"
      ]
    },
    {
      "cell_type": "code",
      "execution_count": 59,
      "metadata": {
        "id": "-FUHFLEvSMbG"
      },
      "outputs": [],
      "source": [
        "long_text = context_raw[-1]\n",
        "\n",
        "import textwrap\n",
        "#print('Expected output:\\n', '\\n'.join(textwrap.wrap(target_raw[-1])))"
      ]
    },
    {
      "cell_type": "markdown",
      "source": [
        "# Testing unseen samples"
      ],
      "metadata": {
        "id": "Rc1aekzi9dLZ"
      }
    },
    {
      "cell_type": "code",
      "source": [
        "import pandas as pd "
      ],
      "metadata": {
        "id": "almi1CUTFaKx"
      },
      "execution_count": 60,
      "outputs": []
    },
    {
      "cell_type": "code",
      "source": [
        "dc = pd.read_excel('4_OM_test.xlsx')"
      ],
      "metadata": {
        "id": "6OIFQKZI9bc5"
      },
      "execution_count": 61,
      "outputs": []
    },
    {
      "cell_type": "code",
      "source": [
        "dc.head()"
      ],
      "metadata": {
        "id": "Nsx0IyYZ9k3v",
        "colab": {
          "base_uri": "https://localhost:8080/",
          "height": 206
        },
        "outputId": "cc105aac-1508-471b-bca1-325ffbd6e125"
      },
      "execution_count": 62,
      "outputs": [
        {
          "output_type": "execute_result",
          "data": {
            "text/plain": [
              "                                          OM_Regular  OM_Prediction\n",
              "0  moduleOM_name:0,openDeclarationonesigclass1_na...              1\n",
              "1  moduleOM_name:0,openDeclarationonesigclass1_na...              1\n",
              "2  moduleOM_name:0,openDeclarationonesigclass1_na...              1\n",
              "3  moduleOM_name:0,openDeclarationonesigclass1_na...              1\n",
              "4  moduleOM_name:0,openDeclarationonesigclass1_na...              0"
            ],
            "text/html": [
              "\n",
              "  <div id=\"df-c3088caf-3977-47ec-bc7c-40e5ec5c6856\">\n",
              "    <div class=\"colab-df-container\">\n",
              "      <div>\n",
              "<style scoped>\n",
              "    .dataframe tbody tr th:only-of-type {\n",
              "        vertical-align: middle;\n",
              "    }\n",
              "\n",
              "    .dataframe tbody tr th {\n",
              "        vertical-align: top;\n",
              "    }\n",
              "\n",
              "    .dataframe thead th {\n",
              "        text-align: right;\n",
              "    }\n",
              "</style>\n",
              "<table border=\"1\" class=\"dataframe\">\n",
              "  <thead>\n",
              "    <tr style=\"text-align: right;\">\n",
              "      <th></th>\n",
              "      <th>OM_Regular</th>\n",
              "      <th>OM_Prediction</th>\n",
              "    </tr>\n",
              "  </thead>\n",
              "  <tbody>\n",
              "    <tr>\n",
              "      <th>0</th>\n",
              "      <td>moduleOM_name:0,openDeclarationonesigclass1_na...</td>\n",
              "      <td>1</td>\n",
              "    </tr>\n",
              "    <tr>\n",
              "      <th>1</th>\n",
              "      <td>moduleOM_name:0,openDeclarationonesigclass1_na...</td>\n",
              "      <td>1</td>\n",
              "    </tr>\n",
              "    <tr>\n",
              "      <th>2</th>\n",
              "      <td>moduleOM_name:0,openDeclarationonesigclass1_na...</td>\n",
              "      <td>1</td>\n",
              "    </tr>\n",
              "    <tr>\n",
              "      <th>3</th>\n",
              "      <td>moduleOM_name:0,openDeclarationonesigclass1_na...</td>\n",
              "      <td>1</td>\n",
              "    </tr>\n",
              "    <tr>\n",
              "      <th>4</th>\n",
              "      <td>moduleOM_name:0,openDeclarationonesigclass1_na...</td>\n",
              "      <td>0</td>\n",
              "    </tr>\n",
              "  </tbody>\n",
              "</table>\n",
              "</div>\n",
              "      <button class=\"colab-df-convert\" onclick=\"convertToInteractive('df-c3088caf-3977-47ec-bc7c-40e5ec5c6856')\"\n",
              "              title=\"Convert this dataframe to an interactive table.\"\n",
              "              style=\"display:none;\">\n",
              "        \n",
              "  <svg xmlns=\"http://www.w3.org/2000/svg\" height=\"24px\"viewBox=\"0 0 24 24\"\n",
              "       width=\"24px\">\n",
              "    <path d=\"M0 0h24v24H0V0z\" fill=\"none\"/>\n",
              "    <path d=\"M18.56 5.44l.94 2.06.94-2.06 2.06-.94-2.06-.94-.94-2.06-.94 2.06-2.06.94zm-11 1L8.5 8.5l.94-2.06 2.06-.94-2.06-.94L8.5 2.5l-.94 2.06-2.06.94zm10 10l.94 2.06.94-2.06 2.06-.94-2.06-.94-.94-2.06-.94 2.06-2.06.94z\"/><path d=\"M17.41 7.96l-1.37-1.37c-.4-.4-.92-.59-1.43-.59-.52 0-1.04.2-1.43.59L10.3 9.45l-7.72 7.72c-.78.78-.78 2.05 0 2.83L4 21.41c.39.39.9.59 1.41.59.51 0 1.02-.2 1.41-.59l7.78-7.78 2.81-2.81c.8-.78.8-2.07 0-2.86zM5.41 20L4 18.59l7.72-7.72 1.47 1.35L5.41 20z\"/>\n",
              "  </svg>\n",
              "      </button>\n",
              "      \n",
              "  <style>\n",
              "    .colab-df-container {\n",
              "      display:flex;\n",
              "      flex-wrap:wrap;\n",
              "      gap: 12px;\n",
              "    }\n",
              "\n",
              "    .colab-df-convert {\n",
              "      background-color: #E8F0FE;\n",
              "      border: none;\n",
              "      border-radius: 50%;\n",
              "      cursor: pointer;\n",
              "      display: none;\n",
              "      fill: #1967D2;\n",
              "      height: 32px;\n",
              "      padding: 0 0 0 0;\n",
              "      width: 32px;\n",
              "    }\n",
              "\n",
              "    .colab-df-convert:hover {\n",
              "      background-color: #E2EBFA;\n",
              "      box-shadow: 0px 1px 2px rgba(60, 64, 67, 0.3), 0px 1px 3px 1px rgba(60, 64, 67, 0.15);\n",
              "      fill: #174EA6;\n",
              "    }\n",
              "\n",
              "    [theme=dark] .colab-df-convert {\n",
              "      background-color: #3B4455;\n",
              "      fill: #D2E3FC;\n",
              "    }\n",
              "\n",
              "    [theme=dark] .colab-df-convert:hover {\n",
              "      background-color: #434B5C;\n",
              "      box-shadow: 0px 1px 3px 1px rgba(0, 0, 0, 0.15);\n",
              "      filter: drop-shadow(0px 1px 2px rgba(0, 0, 0, 0.3));\n",
              "      fill: #FFFFFF;\n",
              "    }\n",
              "  </style>\n",
              "\n",
              "      <script>\n",
              "        const buttonEl =\n",
              "          document.querySelector('#df-c3088caf-3977-47ec-bc7c-40e5ec5c6856 button.colab-df-convert');\n",
              "        buttonEl.style.display =\n",
              "          google.colab.kernel.accessAllowed ? 'block' : 'none';\n",
              "\n",
              "        async function convertToInteractive(key) {\n",
              "          const element = document.querySelector('#df-c3088caf-3977-47ec-bc7c-40e5ec5c6856');\n",
              "          const dataTable =\n",
              "            await google.colab.kernel.invokeFunction('convertToInteractive',\n",
              "                                                     [key], {});\n",
              "          if (!dataTable) return;\n",
              "\n",
              "          const docLinkHtml = 'Like what you see? Visit the ' +\n",
              "            '<a target=\"_blank\" href=https://colab.research.google.com/notebooks/data_table.ipynb>data table notebook</a>'\n",
              "            + ' to learn more about interactive tables.';\n",
              "          element.innerHTML = '';\n",
              "          dataTable['output_type'] = 'display_data';\n",
              "          await google.colab.output.renderOutput(dataTable, element);\n",
              "          const docLink = document.createElement('div');\n",
              "          docLink.innerHTML = docLinkHtml;\n",
              "          element.appendChild(docLink);\n",
              "        }\n",
              "      </script>\n",
              "    </div>\n",
              "  </div>\n",
              "  "
            ]
          },
          "metadata": {},
          "execution_count": 62
        }
      ]
    },
    {
      "cell_type": "markdown",
      "source": [
        "### Separating Columns in X_test and y_test"
      ],
      "metadata": {
        "id": "er0zQybAgoJJ"
      }
    },
    {
      "cell_type": "code",
      "source": [
        "X_test2 = dc['OM_Regular'].values\n",
        "y_test2 = dc['OM_Prediction'].values"
      ],
      "metadata": {
        "id": "naG54qF791Hs"
      },
      "execution_count": 63,
      "outputs": []
    },
    {
      "cell_type": "code",
      "source": [
        "print(X_test2.shape)\n",
        "print(y_test2.shape)\n",
        "\n",
        "print(\"X data type: \", X_test2.dtype)\n",
        "print(\"y data type: \", y_test2.dtype)"
      ],
      "metadata": {
        "id": "VcNO_Ews2q8x",
        "colab": {
          "base_uri": "https://localhost:8080/"
        },
        "outputId": "4679b42f-6e1d-4ad7-b5d1-51f0bc4c7bc9"
      },
      "execution_count": 64,
      "outputs": [
        {
          "output_type": "stream",
          "name": "stdout",
          "text": [
            "(127,)\n",
            "(127,)\n",
            "X data type:  object\n",
            "y data type:  int64\n"
          ]
        }
      ]
    },
    {
      "cell_type": "code",
      "source": [
        "print(y_test2)"
      ],
      "metadata": {
        "id": "XZFASLWP95TU",
        "colab": {
          "base_uri": "https://localhost:8080/"
        },
        "outputId": "24599401-8388-4320-f751-8f5669e30a14"
      },
      "execution_count": 65,
      "outputs": [
        {
          "output_type": "stream",
          "name": "stdout",
          "text": [
            "[1 1 1 1 0 0 0 0 0 0 1 0 1 1 0 0 0 0 0 0 0 0 0 0 0 0 1 0 1 1 0 1 0 0 1 0 0\n",
            " 0 0 0 0 0 0 0 0 0 0 1 0 0 0 0 0 1 1 0 1 1 1 0 0 0 0 0 0 0 0 0 0 0 0 0 0 0\n",
            " 0 0 0 0 0 0 0 0 0 0 1 0 0 0 0 0 0 0 1 0 1 0 0 0 0 0 0 0 0 1 0 0 0 0 0 0 0\n",
            " 1 1 1 1 1 0 1 0 1 1 0 0 1 0 0 1]\n"
          ]
        }
      ]
    },
    {
      "cell_type": "code",
      "source": [
        "inputs = X_test2"
      ],
      "metadata": {
        "id": "hgO5sa73-3f1"
      },
      "execution_count": 66,
      "outputs": []
    },
    {
      "cell_type": "markdown",
      "source": [
        "### Obtaining results from the model of the unseen dataset"
      ],
      "metadata": {
        "id": "K_yUzQq_gyYj"
      }
    },
    {
      "cell_type": "code",
      "source": [
        "\n",
        "# import time\n",
        "\n",
        "# # Increase the time parameter\n",
        "# time_limit = 80  # in seconds\n",
        "\n",
        "# for t in inputs:\n",
        "#     start_time = time.time()\n",
        "#     output = \"\"\n",
        "#     while True:\n",
        "#         partial_output = model.translate([t], max_length=len(output) + 10)[0].numpy().decode()\n",
        "#         output += partial_output\n",
        "#         if time.time() - start_time > time_limit:\n",
        "#             break\n",
        "#     output = output.replace(' ', '')\n",
        "#     print(output)\n",
        "\n",
        "# print()\n"
      ],
      "metadata": {
        "id": "4qjPTIDB-8UZ"
      },
      "execution_count": 96,
      "outputs": []
    },
    {
      "cell_type": "markdown",
      "source": [
        "# Classification Report (Unseen samples)\n"
      ],
      "metadata": {
        "id": "1t4_2FqbE9da"
      }
    },
    {
      "cell_type": "code",
      "source": [
        "import warnings\n",
        "import numpy as np\n",
        "import pandas as pd\n",
        "import matplotlib.pyplot as plt\n",
        "from sklearn import datasets\n",
        "from sklearn.preprocessing import StandardScaler\n",
        "from sklearn.neighbors import KNeighborsClassifier\n",
        "from sklearn.model_selection import train_test_split, GridSearchCV, cross_val_score, cross_val_predict\n",
        "from sklearn.metrics import confusion_matrix, precision_score, recall_score, f1_score, roc_curve, roc_auc_score\n",
        "from sklearn.metrics import precision_recall_curve, classification_report"
      ],
      "metadata": {
        "id": "fVaZsDnJhkz5"
      },
      "execution_count": 71,
      "outputs": []
    },
    {
      "cell_type": "markdown",
      "source": [
        "### The result is obtained and captured in a separate file, labels are converted to 1 and 0 . Where 1 denotes P and 0 denotes NP. "
      ],
      "metadata": {
        "id": "TbThCFoRhLHs"
      }
    },
    {
      "cell_type": "markdown",
      "source": [
        "###READING the predicted dataset"
      ],
      "metadata": {
        "id": "9Jz3Rt18lUtE"
      }
    },
    {
      "cell_type": "code",
      "source": [
        "dd = pd.read_excel('4_OM_test_pred.xlsx')"
      ],
      "metadata": {
        "id": "jhKnUY4XFCSj"
      },
      "execution_count": 78,
      "outputs": []
    },
    {
      "cell_type": "code",
      "source": [
        "dd.head()"
      ],
      "metadata": {
        "id": "v9M2iW1MGjfM",
        "colab": {
          "base_uri": "https://localhost:8080/",
          "height": 206
        },
        "outputId": "fcd021e3-5a94-4cf0-ebf3-be9033596f18"
      },
      "execution_count": 84,
      "outputs": [
        {
          "output_type": "execute_result",
          "data": {
            "text/plain": [
              "                                          OM_Regular  OM_Prediction\n",
              "0  moduleOM_name:0,openDeclarationonesigclass1_na...              1\n",
              "1  moduleOM_name:0,openDeclarationonesigclass1_na...              1\n",
              "2  moduleOM_name:0,openDeclarationonesigclass1_na...              1\n",
              "3  moduleOM_name:0,openDeclarationonesigclass1_na...              1\n",
              "4  moduleOM_name:0,openDeclarationonesigclass1_na...              1"
            ],
            "text/html": [
              "\n",
              "  <div id=\"df-1d98d819-0300-4313-8205-2846c8606c46\">\n",
              "    <div class=\"colab-df-container\">\n",
              "      <div>\n",
              "<style scoped>\n",
              "    .dataframe tbody tr th:only-of-type {\n",
              "        vertical-align: middle;\n",
              "    }\n",
              "\n",
              "    .dataframe tbody tr th {\n",
              "        vertical-align: top;\n",
              "    }\n",
              "\n",
              "    .dataframe thead th {\n",
              "        text-align: right;\n",
              "    }\n",
              "</style>\n",
              "<table border=\"1\" class=\"dataframe\">\n",
              "  <thead>\n",
              "    <tr style=\"text-align: right;\">\n",
              "      <th></th>\n",
              "      <th>OM_Regular</th>\n",
              "      <th>OM_Prediction</th>\n",
              "    </tr>\n",
              "  </thead>\n",
              "  <tbody>\n",
              "    <tr>\n",
              "      <th>0</th>\n",
              "      <td>moduleOM_name:0,openDeclarationonesigclass1_na...</td>\n",
              "      <td>1</td>\n",
              "    </tr>\n",
              "    <tr>\n",
              "      <th>1</th>\n",
              "      <td>moduleOM_name:0,openDeclarationonesigclass1_na...</td>\n",
              "      <td>1</td>\n",
              "    </tr>\n",
              "    <tr>\n",
              "      <th>2</th>\n",
              "      <td>moduleOM_name:0,openDeclarationonesigclass1_na...</td>\n",
              "      <td>1</td>\n",
              "    </tr>\n",
              "    <tr>\n",
              "      <th>3</th>\n",
              "      <td>moduleOM_name:0,openDeclarationonesigclass1_na...</td>\n",
              "      <td>1</td>\n",
              "    </tr>\n",
              "    <tr>\n",
              "      <th>4</th>\n",
              "      <td>moduleOM_name:0,openDeclarationonesigclass1_na...</td>\n",
              "      <td>1</td>\n",
              "    </tr>\n",
              "  </tbody>\n",
              "</table>\n",
              "</div>\n",
              "      <button class=\"colab-df-convert\" onclick=\"convertToInteractive('df-1d98d819-0300-4313-8205-2846c8606c46')\"\n",
              "              title=\"Convert this dataframe to an interactive table.\"\n",
              "              style=\"display:none;\">\n",
              "        \n",
              "  <svg xmlns=\"http://www.w3.org/2000/svg\" height=\"24px\"viewBox=\"0 0 24 24\"\n",
              "       width=\"24px\">\n",
              "    <path d=\"M0 0h24v24H0V0z\" fill=\"none\"/>\n",
              "    <path d=\"M18.56 5.44l.94 2.06.94-2.06 2.06-.94-2.06-.94-.94-2.06-.94 2.06-2.06.94zm-11 1L8.5 8.5l.94-2.06 2.06-.94-2.06-.94L8.5 2.5l-.94 2.06-2.06.94zm10 10l.94 2.06.94-2.06 2.06-.94-2.06-.94-.94-2.06-.94 2.06-2.06.94z\"/><path d=\"M17.41 7.96l-1.37-1.37c-.4-.4-.92-.59-1.43-.59-.52 0-1.04.2-1.43.59L10.3 9.45l-7.72 7.72c-.78.78-.78 2.05 0 2.83L4 21.41c.39.39.9.59 1.41.59.51 0 1.02-.2 1.41-.59l7.78-7.78 2.81-2.81c.8-.78.8-2.07 0-2.86zM5.41 20L4 18.59l7.72-7.72 1.47 1.35L5.41 20z\"/>\n",
              "  </svg>\n",
              "      </button>\n",
              "      \n",
              "  <style>\n",
              "    .colab-df-container {\n",
              "      display:flex;\n",
              "      flex-wrap:wrap;\n",
              "      gap: 12px;\n",
              "    }\n",
              "\n",
              "    .colab-df-convert {\n",
              "      background-color: #E8F0FE;\n",
              "      border: none;\n",
              "      border-radius: 50%;\n",
              "      cursor: pointer;\n",
              "      display: none;\n",
              "      fill: #1967D2;\n",
              "      height: 32px;\n",
              "      padding: 0 0 0 0;\n",
              "      width: 32px;\n",
              "    }\n",
              "\n",
              "    .colab-df-convert:hover {\n",
              "      background-color: #E2EBFA;\n",
              "      box-shadow: 0px 1px 2px rgba(60, 64, 67, 0.3), 0px 1px 3px 1px rgba(60, 64, 67, 0.15);\n",
              "      fill: #174EA6;\n",
              "    }\n",
              "\n",
              "    [theme=dark] .colab-df-convert {\n",
              "      background-color: #3B4455;\n",
              "      fill: #D2E3FC;\n",
              "    }\n",
              "\n",
              "    [theme=dark] .colab-df-convert:hover {\n",
              "      background-color: #434B5C;\n",
              "      box-shadow: 0px 1px 3px 1px rgba(0, 0, 0, 0.15);\n",
              "      filter: drop-shadow(0px 1px 2px rgba(0, 0, 0, 0.3));\n",
              "      fill: #FFFFFF;\n",
              "    }\n",
              "  </style>\n",
              "\n",
              "      <script>\n",
              "        const buttonEl =\n",
              "          document.querySelector('#df-1d98d819-0300-4313-8205-2846c8606c46 button.colab-df-convert');\n",
              "        buttonEl.style.display =\n",
              "          google.colab.kernel.accessAllowed ? 'block' : 'none';\n",
              "\n",
              "        async function convertToInteractive(key) {\n",
              "          const element = document.querySelector('#df-1d98d819-0300-4313-8205-2846c8606c46');\n",
              "          const dataTable =\n",
              "            await google.colab.kernel.invokeFunction('convertToInteractive',\n",
              "                                                     [key], {});\n",
              "          if (!dataTable) return;\n",
              "\n",
              "          const docLinkHtml = 'Like what you see? Visit the ' +\n",
              "            '<a target=\"_blank\" href=https://colab.research.google.com/notebooks/data_table.ipynb>data table notebook</a>'\n",
              "            + ' to learn more about interactive tables.';\n",
              "          element.innerHTML = '';\n",
              "          dataTable['output_type'] = 'display_data';\n",
              "          await google.colab.output.renderOutput(dataTable, element);\n",
              "          const docLink = document.createElement('div');\n",
              "          docLink.innerHTML = docLinkHtml;\n",
              "          element.appendChild(docLink);\n",
              "        }\n",
              "      </script>\n",
              "    </div>\n",
              "  </div>\n",
              "  "
            ]
          },
          "metadata": {},
          "execution_count": 84
        }
      ]
    },
    {
      "cell_type": "code",
      "source": [
        "X_test_pred2 = dd['OM_Regular'].values\n",
        "y_test_pred2 = dd['OM_Prediction'].values"
      ],
      "metadata": {
        "id": "1tO_WHmVHQDR"
      },
      "execution_count": 89,
      "outputs": []
    },
    {
      "cell_type": "markdown",
      "source": [
        "### Printing predicted labels"
      ],
      "metadata": {
        "id": "0nbGKNUjldCp"
      }
    },
    {
      "cell_type": "code",
      "source": [
        "print (y_test_pred2 )"
      ],
      "metadata": {
        "id": "Wy2Fvt1fHYJO",
        "colab": {
          "base_uri": "https://localhost:8080/"
        },
        "outputId": "75590632-920e-4650-b656-c9986eb4fa40"
      },
      "execution_count": 93,
      "outputs": [
        {
          "output_type": "stream",
          "name": "stdout",
          "text": [
            "[1 1 1 1 1 1 1 1 1 1 1 1 1 1 1 1 1 1 1 1 1 1 1 1 1 1 1 1 1 1 1 1 1 1 1 1 1\n",
            " 1 1 1 1 1 1 1 1 1 1 1 1 1 1 1 1 1 1 1 1 1 1 1 1 1 1 1 1 1 1 1 1 1 1 1 1 1\n",
            " 1 1 1 1 1 1 1 1 1 1 1 1 1 1 1 1 1 1 1 1 1 1 1 1 1 1 1 1 1 1 1 1 1 1 1 1 1\n",
            " 1 1 1 1 1 1 1 1 1 1 1 1 1 1 1 1]\n"
          ]
        }
      ]
    },
    {
      "cell_type": "code",
      "source": [
        "precision = precision_score(y_test2, y_test_pred2) \n",
        "print(\"Testing: Precision = %f\" % precision)\n",
        "\n",
        "\n",
        "recall = recall_score(y_test2, y_test_pred2)\n",
        "print(\"Testing: Recall = %f\" % recall)\n",
        "\n",
        "\n",
        "f1 = f1_score(y_test2, y_test_pred2)\n",
        "print(\"Testing: F1 Score = %f\" % f1)\n",
        "\n",
        "\n",
        "\n",
        "print(\"\\nConfusion Matrix (Test Data):\\n\", confusion_matrix(y_test2, y_test_pred2))"
      ],
      "metadata": {
        "id": "w7RY4modHkts",
        "colab": {
          "base_uri": "https://localhost:8080/"
        },
        "outputId": "6b8629ca-e111-4fc6-e326-0fb252c97f0a"
      },
      "execution_count": 94,
      "outputs": [
        {
          "output_type": "stream",
          "name": "stdout",
          "text": [
            "Testing: Precision = 0.251969\n",
            "Testing: Recall = 1.000000\n",
            "Testing: F1 Score = 0.402516\n",
            "\n",
            "Confusion Matrix (Test Data):\n",
            " [[ 0 95]\n",
            " [ 0 32]]\n"
          ]
        }
      ]
    },
    {
      "cell_type": "code",
      "source": [
        "print(classification_report(y_test2,y_test_pred2))"
      ],
      "metadata": {
        "id": "nd3P-TGIIN6b",
        "colab": {
          "base_uri": "https://localhost:8080/"
        },
        "outputId": "aff0da1e-c02a-40c7-81c6-0bbb97955ef6"
      },
      "execution_count": 95,
      "outputs": [
        {
          "output_type": "stream",
          "name": "stdout",
          "text": [
            "              precision    recall  f1-score   support\n",
            "\n",
            "           0       0.00      0.00      0.00        95\n",
            "           1       0.25      1.00      0.40        32\n",
            "\n",
            "    accuracy                           0.25       127\n",
            "   macro avg       0.13      0.50      0.20       127\n",
            "weighted avg       0.06      0.25      0.10       127\n",
            "\n"
          ]
        },
        {
          "output_type": "stream",
          "name": "stderr",
          "text": [
            "/usr/local/lib/python3.10/dist-packages/sklearn/metrics/_classification.py:1344: UndefinedMetricWarning: Precision and F-score are ill-defined and being set to 0.0 in labels with no predicted samples. Use `zero_division` parameter to control this behavior.\n",
            "  _warn_prf(average, modifier, msg_start, len(result))\n",
            "/usr/local/lib/python3.10/dist-packages/sklearn/metrics/_classification.py:1344: UndefinedMetricWarning: Precision and F-score are ill-defined and being set to 0.0 in labels with no predicted samples. Use `zero_division` parameter to control this behavior.\n",
            "  _warn_prf(average, modifier, msg_start, len(result))\n",
            "/usr/local/lib/python3.10/dist-packages/sklearn/metrics/_classification.py:1344: UndefinedMetricWarning: Precision and F-score are ill-defined and being set to 0.0 in labels with no predicted samples. Use `zero_division` parameter to control this behavior.\n",
            "  _warn_prf(average, modifier, msg_start, len(result))\n"
          ]
        }
      ]
    }
  ],
  "metadata": {
    "accelerator": "GPU",
    "colab": {
      "provenance": []
    },
    "gpuClass": "standard",
    "kernelspec": {
      "display_name": "Python 3 (ipykernel)",
      "language": "python",
      "name": "python3"
    },
    "language_info": {
      "codemirror_mode": {
        "name": "ipython",
        "version": 3
      },
      "file_extension": ".py",
      "mimetype": "text/x-python",
      "name": "python",
      "nbconvert_exporter": "python",
      "pygments_lexer": "ipython3",
      "version": "3.9.12"
    }
  },
  "nbformat": 4,
  "nbformat_minor": 0
}